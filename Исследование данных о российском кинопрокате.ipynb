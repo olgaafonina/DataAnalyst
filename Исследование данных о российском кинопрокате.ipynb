{
 "cells": [
  {
   "cell_type": "markdown",
   "metadata": {
    "id": "sIfNaMOxgFyK"
   },
   "source": [
    "## Исследование данных о российском кинопрокате\n",
    "\n"
   ]
  },
  {
   "cell_type": "markdown",
   "metadata": {},
   "source": [
    "Заказчик этого исследования — Министерство культуры Российской Федерации.\n",
    "Нужно изучить рынок российского кинопроката и выявить текущие тренды. Уделите внимание фильмам, которые получили государственную поддержку. Ответить на вопрос, насколько такие фильмы интересны зрителю.\n",
    "\n",
    "Описание данных:\n",
    "- title — название фильма;\n",
    "- puNumber — номер прокатного удостоверения;\n",
    "- show_start_date — дата премьеры фильма;\n",
    "- type — тип фильма;\n",
    "- film_studio — студия-производитель;\n",
    "- production_country — страна-производитель;\n",
    "- director — режиссёр;\n",
    "- producer — продюсер;\n",
    "- age_restriction — возрастная категория;\n",
    "- refundable_support — объём возвратных средств государственной поддержки;\n",
    "- nonrefundable_support — объём невозвратных средств государственной поддержки;\n",
    "- financing_source — источник государственного финансирования;\n",
    "- budget — общий бюджет фильма;\n",
    "- ratings — рейтинг фильма на КиноПоиске;\n",
    "- genres — жанр фильма;\n",
    "- box_office — сборы в рублях."
   ]
  },
  {
   "cell_type": "markdown",
   "metadata": {
    "id": "3bSlkCsbgFyL"
   },
   "source": [
    "### Шаг 1. Откройте файлы с данными и объедините их в один датафрейм. \n",
    "\n",
    "Объедините данные таким образом, чтобы все объекты из датасета `mkrf_movies` обязательно вошли в получившийся датафрейм. \n",
    "\n",
    "<div id=\"accordion\">\n",
    "    <div class=\"card\">\n",
    "        <div class=\"card-header\" id=\"headingThree\">\n",
    "            <button class=\"btn btn-link collapsed\" data-toggle=\"collapse\" data-target=\"#collapseHint_0\" aria-expanded=\"false\" aria-controls=\"collapseHint_0\">Подсказка</button>\n",
    "        </div>\n",
    "        <div id=\"collapseHint_0\" class=\"collapse\" aria-labelledby=\"headingThree\" data-parent=\"#accordion\">\n",
    "            <div class=\"card-body\">\n",
    "Обратите внимание на тип данных столбца, по которому будете соединять датафреймы. Тип данных этих столбцов должен быть одинаковым в обоих датафреймах.\n",
    "            </div>\n",
    "        </div>\n",
    "    </div>\n",
    "</div>"
   ]
  },
  {
   "cell_type": "code",
   "execution_count": 1,
   "metadata": {
    "id": "dw87FlzMgFyM"
   },
   "outputs": [],
   "source": [
    "# Импортируем необходимые библиотеки.\n",
    "import pandas as pd\n",
    "import matplotlib.pyplot as plt \n",
    "import os\n",
    "import numpy as np\n",
    "import warnings \n",
    "warnings.filterwarnings('ignore')"
   ]
  },
  {
   "cell_type": "code",
   "execution_count": 2,
   "metadata": {},
   "outputs": [],
   "source": [
    "# Прочитаем датасет.\n",
    "pth1_1 = '/datasets/mkrf_movies.csv'\n",
    "pth1_2 = '/datasets/mkrf_shows.csv'\n",
    "pth2_1 = 'C://Users//Olga//Desktop//Сборный проект 1//mkrf_movies.csv'\n",
    "pth2_2 = 'C://Users//Olga//Desktop//Сборный проект 1//mkrf_shows.csv'\n",
    "if os.path.exists(pth1_1) and os.path.exists(pth1_2):\n",
    "    data_1 = pd.read_csv(pth1_1)\n",
    "    data_2 = pd.read_csv(pth1_2)\n",
    "elif os.path.exists(pth2_1) and os.path.exists(pth2_2):\n",
    "    data_1 = pd.read_csv(pth2_1)\n",
    "    data_2 = pd.read_csv(pth2_2)\n",
    "else:\n",
    "    print('something is wrong')"
   ]
  },
  {
   "cell_type": "code",
   "execution_count": 3,
   "metadata": {},
   "outputs": [
    {
     "data": {
      "text/html": [
       "<div>\n",
       "<style scoped>\n",
       "    .dataframe tbody tr th:only-of-type {\n",
       "        vertical-align: middle;\n",
       "    }\n",
       "\n",
       "    .dataframe tbody tr th {\n",
       "        vertical-align: top;\n",
       "    }\n",
       "\n",
       "    .dataframe thead th {\n",
       "        text-align: right;\n",
       "    }\n",
       "</style>\n",
       "<table border=\"1\" class=\"dataframe\">\n",
       "  <thead>\n",
       "    <tr style=\"text-align: right;\">\n",
       "      <th></th>\n",
       "      <th>title</th>\n",
       "      <th>puNumber</th>\n",
       "      <th>show_start_date</th>\n",
       "      <th>type</th>\n",
       "      <th>film_studio</th>\n",
       "      <th>production_country</th>\n",
       "      <th>director</th>\n",
       "      <th>producer</th>\n",
       "      <th>age_restriction</th>\n",
       "      <th>refundable_support</th>\n",
       "      <th>nonrefundable_support</th>\n",
       "      <th>budget</th>\n",
       "      <th>financing_source</th>\n",
       "      <th>ratings</th>\n",
       "      <th>genres</th>\n",
       "    </tr>\n",
       "  </thead>\n",
       "  <tbody>\n",
       "    <tr>\n",
       "      <th>0</th>\n",
       "      <td>Открытый простор</td>\n",
       "      <td>221048915</td>\n",
       "      <td>2015-11-27T12:00:00.000Z</td>\n",
       "      <td>Художественный</td>\n",
       "      <td>Тачстоун Пикчерз, Кобальт Пикчерз, Бикон Пикче...</td>\n",
       "      <td>США</td>\n",
       "      <td>Кевин Костнер</td>\n",
       "      <td>Дэвид Валдес, Кевин Костнер, Джейк Эбертс</td>\n",
       "      <td>«18+» - запрещено для детей</td>\n",
       "      <td>NaN</td>\n",
       "      <td>NaN</td>\n",
       "      <td>NaN</td>\n",
       "      <td>NaN</td>\n",
       "      <td>7.2</td>\n",
       "      <td>боевик,драма,мелодрама</td>\n",
       "    </tr>\n",
       "    <tr>\n",
       "      <th>1</th>\n",
       "      <td>Особо важное задание</td>\n",
       "      <td>111013716</td>\n",
       "      <td>2016-09-13T12:00:00.000Z</td>\n",
       "      <td>Художественный</td>\n",
       "      <td>Киностудия \"Мосфильм\"</td>\n",
       "      <td>СССР</td>\n",
       "      <td>Е.Матвеев</td>\n",
       "      <td>NaN</td>\n",
       "      <td>«6+» - для детей старше 6 лет</td>\n",
       "      <td>NaN</td>\n",
       "      <td>NaN</td>\n",
       "      <td>NaN</td>\n",
       "      <td>NaN</td>\n",
       "      <td>6.6</td>\n",
       "      <td>драма,военный</td>\n",
       "    </tr>\n",
       "    <tr>\n",
       "      <th>2</th>\n",
       "      <td>Особо опасен</td>\n",
       "      <td>221038416</td>\n",
       "      <td>2016-10-10T12:00:00.000Z</td>\n",
       "      <td>Художественный</td>\n",
       "      <td>Юниверсал Пикчерз, Кикстарт Продакшнз, Марк Пл...</td>\n",
       "      <td>США</td>\n",
       "      <td>Тимур Бекмамбетов</td>\n",
       "      <td>Джим Лемли, Джейсон Нетер, Марк Е.Платт, Яйн Смит</td>\n",
       "      <td>«18+» - запрещено для детей</td>\n",
       "      <td>NaN</td>\n",
       "      <td>NaN</td>\n",
       "      <td>NaN</td>\n",
       "      <td>NaN</td>\n",
       "      <td>6.8</td>\n",
       "      <td>фантастика,боевик,триллер</td>\n",
       "    </tr>\n",
       "    <tr>\n",
       "      <th>3</th>\n",
       "      <td>Особо опасен</td>\n",
       "      <td>221026916</td>\n",
       "      <td>2016-06-10T12:00:00.000Z</td>\n",
       "      <td>Художественный</td>\n",
       "      <td>Юниверсал Пикчерз, Кикстарт Продакшнз, Марк Пл...</td>\n",
       "      <td>США</td>\n",
       "      <td>Тимур Бекмамбетов</td>\n",
       "      <td>Джим Лемли, Джейсон Нетер, Марк Е.Платт, Яйн Смит</td>\n",
       "      <td>«18+» - запрещено для детей</td>\n",
       "      <td>NaN</td>\n",
       "      <td>NaN</td>\n",
       "      <td>NaN</td>\n",
       "      <td>NaN</td>\n",
       "      <td>6.8</td>\n",
       "      <td>фантастика,боевик,триллер</td>\n",
       "    </tr>\n",
       "    <tr>\n",
       "      <th>4</th>\n",
       "      <td>Особо опасен</td>\n",
       "      <td>221030815</td>\n",
       "      <td>2015-07-29T12:00:00.000Z</td>\n",
       "      <td>Художественный</td>\n",
       "      <td>Юниверсал Пикчерз, Кикстарт Продакшнз, Марк Пл...</td>\n",
       "      <td>США</td>\n",
       "      <td>Тимур Бекмамбетов</td>\n",
       "      <td>Джим Лемли, Джейсон Нетер, Марк Е.Платт, Яйн Смит</td>\n",
       "      <td>«18+» - запрещено для детей</td>\n",
       "      <td>NaN</td>\n",
       "      <td>NaN</td>\n",
       "      <td>NaN</td>\n",
       "      <td>NaN</td>\n",
       "      <td>6.8</td>\n",
       "      <td>фантастика,боевик,триллер</td>\n",
       "    </tr>\n",
       "  </tbody>\n",
       "</table>\n",
       "</div>"
      ],
      "text/plain": [
       "                  title   puNumber           show_start_date            type  \\\n",
       "0      Открытый простор  221048915  2015-11-27T12:00:00.000Z  Художественный   \n",
       "1  Особо важное задание  111013716  2016-09-13T12:00:00.000Z  Художественный   \n",
       "2          Особо опасен  221038416  2016-10-10T12:00:00.000Z  Художественный   \n",
       "3          Особо опасен  221026916  2016-06-10T12:00:00.000Z  Художественный   \n",
       "4          Особо опасен  221030815  2015-07-29T12:00:00.000Z  Художественный   \n",
       "\n",
       "                                         film_studio production_country  \\\n",
       "0  Тачстоун Пикчерз, Кобальт Пикчерз, Бикон Пикче...                США   \n",
       "1                              Киностудия \"Мосфильм\"               СССР   \n",
       "2  Юниверсал Пикчерз, Кикстарт Продакшнз, Марк Пл...                США   \n",
       "3  Юниверсал Пикчерз, Кикстарт Продакшнз, Марк Пл...                США   \n",
       "4  Юниверсал Пикчерз, Кикстарт Продакшнз, Марк Пл...                США   \n",
       "\n",
       "            director                                           producer  \\\n",
       "0      Кевин Костнер          Дэвид Валдес, Кевин Костнер, Джейк Эбертс   \n",
       "1          Е.Матвеев                                                NaN   \n",
       "2  Тимур Бекмамбетов  Джим Лемли, Джейсон Нетер, Марк Е.Платт, Яйн Смит   \n",
       "3  Тимур Бекмамбетов  Джим Лемли, Джейсон Нетер, Марк Е.Платт, Яйн Смит   \n",
       "4  Тимур Бекмамбетов  Джим Лемли, Джейсон Нетер, Марк Е.Платт, Яйн Смит   \n",
       "\n",
       "                 age_restriction  refundable_support  nonrefundable_support  \\\n",
       "0    «18+» - запрещено для детей                 NaN                    NaN   \n",
       "1  «6+» - для детей старше 6 лет                 NaN                    NaN   \n",
       "2    «18+» - запрещено для детей                 NaN                    NaN   \n",
       "3    «18+» - запрещено для детей                 NaN                    NaN   \n",
       "4    «18+» - запрещено для детей                 NaN                    NaN   \n",
       "\n",
       "   budget financing_source ratings                     genres  \n",
       "0     NaN              NaN     7.2     боевик,драма,мелодрама  \n",
       "1     NaN              NaN     6.6              драма,военный  \n",
       "2     NaN              NaN     6.8  фантастика,боевик,триллер  \n",
       "3     NaN              NaN     6.8  фантастика,боевик,триллер  \n",
       "4     NaN              NaN     6.8  фантастика,боевик,триллер  "
      ]
     },
     "execution_count": 3,
     "metadata": {},
     "output_type": "execute_result"
    }
   ],
   "source": [
    "# Посмотрим на первые 5 строк первого датасета. \n",
    "data_1.head()"
   ]
  },
  {
   "cell_type": "code",
   "execution_count": 4,
   "metadata": {},
   "outputs": [
    {
     "name": "stdout",
     "output_type": "stream",
     "text": [
      "<class 'pandas.core.frame.DataFrame'>\n",
      "RangeIndex: 7486 entries, 0 to 7485\n",
      "Data columns (total 15 columns):\n",
      " #   Column                 Non-Null Count  Dtype  \n",
      "---  ------                 --------------  -----  \n",
      " 0   title                  7486 non-null   object \n",
      " 1   puNumber               7486 non-null   object \n",
      " 2   show_start_date        7486 non-null   object \n",
      " 3   type                   7486 non-null   object \n",
      " 4   film_studio            7468 non-null   object \n",
      " 5   production_country     7484 non-null   object \n",
      " 6   director               7477 non-null   object \n",
      " 7   producer               6918 non-null   object \n",
      " 8   age_restriction        7486 non-null   object \n",
      " 9   refundable_support     332 non-null    float64\n",
      " 10  nonrefundable_support  332 non-null    float64\n",
      " 11  budget                 332 non-null    float64\n",
      " 12  financing_source       332 non-null    object \n",
      " 13  ratings                6519 non-null   object \n",
      " 14  genres                 6510 non-null   object \n",
      "dtypes: float64(3), object(12)\n",
      "memory usage: 877.4+ KB\n"
     ]
    }
   ],
   "source": [
    "# Посмотрим информацию о первом датасете. \n",
    "data_1.info()"
   ]
  },
  {
   "cell_type": "code",
   "execution_count": 5,
   "metadata": {},
   "outputs": [
    {
     "data": {
      "text/html": [
       "<div>\n",
       "<style scoped>\n",
       "    .dataframe tbody tr th:only-of-type {\n",
       "        vertical-align: middle;\n",
       "    }\n",
       "\n",
       "    .dataframe tbody tr th {\n",
       "        vertical-align: top;\n",
       "    }\n",
       "\n",
       "    .dataframe thead th {\n",
       "        text-align: right;\n",
       "    }\n",
       "</style>\n",
       "<table border=\"1\" class=\"dataframe\">\n",
       "  <thead>\n",
       "    <tr style=\"text-align: right;\">\n",
       "      <th></th>\n",
       "      <th>puNumber</th>\n",
       "      <th>box_office</th>\n",
       "    </tr>\n",
       "  </thead>\n",
       "  <tbody>\n",
       "    <tr>\n",
       "      <th>0</th>\n",
       "      <td>111000113</td>\n",
       "      <td>2.450000e+03</td>\n",
       "    </tr>\n",
       "    <tr>\n",
       "      <th>1</th>\n",
       "      <td>111000115</td>\n",
       "      <td>6.104000e+04</td>\n",
       "    </tr>\n",
       "    <tr>\n",
       "      <th>2</th>\n",
       "      <td>111000116</td>\n",
       "      <td>1.530300e+08</td>\n",
       "    </tr>\n",
       "    <tr>\n",
       "      <th>3</th>\n",
       "      <td>111000117</td>\n",
       "      <td>1.226096e+07</td>\n",
       "    </tr>\n",
       "    <tr>\n",
       "      <th>4</th>\n",
       "      <td>111000118</td>\n",
       "      <td>1.636841e+08</td>\n",
       "    </tr>\n",
       "  </tbody>\n",
       "</table>\n",
       "</div>"
      ],
      "text/plain": [
       "    puNumber    box_office\n",
       "0  111000113  2.450000e+03\n",
       "1  111000115  6.104000e+04\n",
       "2  111000116  1.530300e+08\n",
       "3  111000117  1.226096e+07\n",
       "4  111000118  1.636841e+08"
      ]
     },
     "execution_count": 5,
     "metadata": {},
     "output_type": "execute_result"
    }
   ],
   "source": [
    "# Посмотрим на первые 5 строк второго датасета. \n",
    "data_2.head()"
   ]
  },
  {
   "cell_type": "code",
   "execution_count": 6,
   "metadata": {},
   "outputs": [
    {
     "data": {
      "text/html": [
       "<div>\n",
       "<style scoped>\n",
       "    .dataframe tbody tr th:only-of-type {\n",
       "        vertical-align: middle;\n",
       "    }\n",
       "\n",
       "    .dataframe tbody tr th {\n",
       "        vertical-align: top;\n",
       "    }\n",
       "\n",
       "    .dataframe thead th {\n",
       "        text-align: right;\n",
       "    }\n",
       "</style>\n",
       "<table border=\"1\" class=\"dataframe\">\n",
       "  <thead>\n",
       "    <tr style=\"text-align: right;\">\n",
       "      <th></th>\n",
       "      <th>puNumber</th>\n",
       "      <th>box_office</th>\n",
       "    </tr>\n",
       "  </thead>\n",
       "  <tbody>\n",
       "    <tr>\n",
       "      <th>0</th>\n",
       "      <td>111000113</td>\n",
       "      <td>2,450.0</td>\n",
       "    </tr>\n",
       "    <tr>\n",
       "      <th>1</th>\n",
       "      <td>111000115</td>\n",
       "      <td>61,040.0</td>\n",
       "    </tr>\n",
       "    <tr>\n",
       "      <th>2</th>\n",
       "      <td>111000116</td>\n",
       "      <td>153,030,013.4</td>\n",
       "    </tr>\n",
       "    <tr>\n",
       "      <th>3</th>\n",
       "      <td>111000117</td>\n",
       "      <td>12,260,956.0</td>\n",
       "    </tr>\n",
       "    <tr>\n",
       "      <th>4</th>\n",
       "      <td>111000118</td>\n",
       "      <td>163,684,057.8</td>\n",
       "    </tr>\n",
       "  </tbody>\n",
       "</table>\n",
       "</div>"
      ],
      "text/plain": [
       "    puNumber    box_office\n",
       "0  111000113       2,450.0\n",
       "1  111000115      61,040.0\n",
       "2  111000116 153,030,013.4\n",
       "3  111000117  12,260,956.0\n",
       "4  111000118 163,684,057.8"
      ]
     },
     "execution_count": 6,
     "metadata": {},
     "output_type": "execute_result"
    }
   ],
   "source": [
    "pd.options.display.float_format = '{:,.1f}'.format\n",
    "data_2.head()"
   ]
  },
  {
   "cell_type": "code",
   "execution_count": 7,
   "metadata": {},
   "outputs": [
    {
     "name": "stdout",
     "output_type": "stream",
     "text": [
      "<class 'pandas.core.frame.DataFrame'>\n",
      "RangeIndex: 3158 entries, 0 to 3157\n",
      "Data columns (total 2 columns):\n",
      " #   Column      Non-Null Count  Dtype  \n",
      "---  ------      --------------  -----  \n",
      " 0   puNumber    3158 non-null   int64  \n",
      " 1   box_office  3158 non-null   float64\n",
      "dtypes: float64(1), int64(1)\n",
      "memory usage: 49.5 KB\n"
     ]
    }
   ],
   "source": [
    "# Посмотрим информацию о втором датасете. \n",
    "data_2.info()"
   ]
  },
  {
   "cell_type": "code",
   "execution_count": 8,
   "metadata": {},
   "outputs": [],
   "source": [
    "# Приведем слобец puNumber в обоих датасетах в одному типу, чтобы объединить их.\n",
    "data_1['puNumber'] = pd.to_numeric(data_1['puNumber'], errors='coerce')\n",
    "data_2['puNumber'] = data_2['puNumber'].astype(float)"
   ]
  },
  {
   "cell_type": "code",
   "execution_count": 9,
   "metadata": {},
   "outputs": [
    {
     "data": {
      "text/html": [
       "<div>\n",
       "<style scoped>\n",
       "    .dataframe tbody tr th:only-of-type {\n",
       "        vertical-align: middle;\n",
       "    }\n",
       "\n",
       "    .dataframe tbody tr th {\n",
       "        vertical-align: top;\n",
       "    }\n",
       "\n",
       "    .dataframe thead th {\n",
       "        text-align: right;\n",
       "    }\n",
       "</style>\n",
       "<table border=\"1\" class=\"dataframe\">\n",
       "  <thead>\n",
       "    <tr style=\"text-align: right;\">\n",
       "      <th></th>\n",
       "      <th>title</th>\n",
       "      <th>puNumber</th>\n",
       "      <th>show_start_date</th>\n",
       "      <th>type</th>\n",
       "      <th>film_studio</th>\n",
       "      <th>production_country</th>\n",
       "      <th>director</th>\n",
       "      <th>producer</th>\n",
       "      <th>age_restriction</th>\n",
       "      <th>refundable_support</th>\n",
       "      <th>nonrefundable_support</th>\n",
       "      <th>budget</th>\n",
       "      <th>financing_source</th>\n",
       "      <th>ratings</th>\n",
       "      <th>genres</th>\n",
       "      <th>box_office</th>\n",
       "    </tr>\n",
       "  </thead>\n",
       "  <tbody>\n",
       "    <tr>\n",
       "      <th>3194</th>\n",
       "      <td>Мама  _</td>\n",
       "      <td>111,002,216.0</td>\n",
       "      <td>2016-02-12T12:00:00.000Z</td>\n",
       "      <td>Художественный</td>\n",
       "      <td>Киностудия \"Мосфильм\", Киностудия \"Букурешти\",...</td>\n",
       "      <td>СССР, Румыния, Франция</td>\n",
       "      <td>Э.Бостан</td>\n",
       "      <td>NaN</td>\n",
       "      <td>«0+» - для любой зрительской аудитории</td>\n",
       "      <td>NaN</td>\n",
       "      <td>NaN</td>\n",
       "      <td>NaN</td>\n",
       "      <td>NaN</td>\n",
       "      <td>7.1</td>\n",
       "      <td>ужасы,драма,триллер</td>\n",
       "      <td>240.0</td>\n",
       "    </tr>\n",
       "    <tr>\n",
       "      <th>4442</th>\n",
       "      <td>Воображариум доктора Парнаса</td>\n",
       "      <td>121,000,810.0</td>\n",
       "      <td>2010-01-28T12:00:00.000Z</td>\n",
       "      <td>Художественный</td>\n",
       "      <td>Дэвис Филмз, Гроссвенор Парк Продакшнз, Инфини...</td>\n",
       "      <td>Канада - Франция - Великобритания</td>\n",
       "      <td>Тьерри Гиллиам</td>\n",
       "      <td>Тьерри Гиллиам, Эми Гиллиам, Сэмюэл Хадида</td>\n",
       "      <td>«16+» - для детей старше 16 лет</td>\n",
       "      <td>NaN</td>\n",
       "      <td>NaN</td>\n",
       "      <td>NaN</td>\n",
       "      <td>NaN</td>\n",
       "      <td>7.0</td>\n",
       "      <td>фэнтези,приключения,комедия</td>\n",
       "      <td>150.0</td>\n",
       "    </tr>\n",
       "    <tr>\n",
       "      <th>2061</th>\n",
       "      <td>В четверг и больше никогда</td>\n",
       "      <td>111,026,114.0</td>\n",
       "      <td>2014-12-24T12:00:00.000Z</td>\n",
       "      <td>Художественный</td>\n",
       "      <td>Киностудия \"Мосфильм\"</td>\n",
       "      <td>СССР</td>\n",
       "      <td>А.Эфрос</td>\n",
       "      <td>NaN</td>\n",
       "      <td>«12+» - для детей старше 12 лет</td>\n",
       "      <td>NaN</td>\n",
       "      <td>NaN</td>\n",
       "      <td>NaN</td>\n",
       "      <td>NaN</td>\n",
       "      <td>7.5</td>\n",
       "      <td>драма,мелодрама</td>\n",
       "      <td>NaN</td>\n",
       "    </tr>\n",
       "    <tr>\n",
       "      <th>2389</th>\n",
       "      <td>Сестры Магдалины.</td>\n",
       "      <td>221,037,414.0</td>\n",
       "      <td>2014-09-03T12:00:00.000Z</td>\n",
       "      <td>Художественный</td>\n",
       "      <td>Бёрд Скэннон на Эйренн, Элемент Филмс, Филм Ка...</td>\n",
       "      <td>Ирландия-Великобритания</td>\n",
       "      <td>Питер Муллан</td>\n",
       "      <td>Падди Хигсон, Франс Хигсон</td>\n",
       "      <td>«16+» - для детей старше 16 лет</td>\n",
       "      <td>NaN</td>\n",
       "      <td>NaN</td>\n",
       "      <td>NaN</td>\n",
       "      <td>NaN</td>\n",
       "      <td>7.7</td>\n",
       "      <td>драма</td>\n",
       "      <td>NaN</td>\n",
       "    </tr>\n",
       "    <tr>\n",
       "      <th>1529</th>\n",
       "      <td>Секретный эксперимент</td>\n",
       "      <td>121,001,114.0</td>\n",
       "      <td>2014-01-29T12:00:00.000Z</td>\n",
       "      <td>Художественный</td>\n",
       "      <td>Бефор де Дор Пикчерз, Фаворит Фильм, Санчэйсер...</td>\n",
       "      <td>Германия - США</td>\n",
       "      <td>Блэр Эриксон</td>\n",
       "      <td>Кристиан Арнольд-Бютел, Нил Додсон, Бен Сэмюэл...</td>\n",
       "      <td>«18+» - запрещено для детей</td>\n",
       "      <td>NaN</td>\n",
       "      <td>NaN</td>\n",
       "      <td>NaN</td>\n",
       "      <td>NaN</td>\n",
       "      <td>4.9</td>\n",
       "      <td>ужасы,фантастика,триллер</td>\n",
       "      <td>400.0</td>\n",
       "    </tr>\n",
       "  </tbody>\n",
       "</table>\n",
       "</div>"
      ],
      "text/plain": [
       "                             title      puNumber           show_start_date  \\\n",
       "3194                       Мама  _ 111,002,216.0  2016-02-12T12:00:00.000Z   \n",
       "4442  Воображариум доктора Парнаса 121,000,810.0  2010-01-28T12:00:00.000Z   \n",
       "2061    В четверг и больше никогда 111,026,114.0  2014-12-24T12:00:00.000Z   \n",
       "2389             Сестры Магдалины. 221,037,414.0  2014-09-03T12:00:00.000Z   \n",
       "1529         Секретный эксперимент 121,001,114.0  2014-01-29T12:00:00.000Z   \n",
       "\n",
       "                type                                        film_studio  \\\n",
       "3194  Художественный  Киностудия \"Мосфильм\", Киностудия \"Букурешти\",...   \n",
       "4442  Художественный  Дэвис Филмз, Гроссвенор Парк Продакшнз, Инфини...   \n",
       "2061  Художественный                              Киностудия \"Мосфильм\"   \n",
       "2389  Художественный  Бёрд Скэннон на Эйренн, Элемент Филмс, Филм Ка...   \n",
       "1529  Художественный  Бефор де Дор Пикчерз, Фаворит Фильм, Санчэйсер...   \n",
       "\n",
       "                     production_country        director  \\\n",
       "3194             СССР, Румыния, Франция        Э.Бостан   \n",
       "4442  Канада - Франция - Великобритания  Тьерри Гиллиам   \n",
       "2061                          СССР              А.Эфрос   \n",
       "2389            Ирландия-Великобритания    Питер Муллан   \n",
       "1529                     Германия - США    Блэр Эриксон   \n",
       "\n",
       "                                               producer  \\\n",
       "3194                                                NaN   \n",
       "4442         Тьерри Гиллиам, Эми Гиллиам, Сэмюэл Хадида   \n",
       "2061                                                NaN   \n",
       "2389                         Падди Хигсон, Франс Хигсон   \n",
       "1529  Кристиан Арнольд-Бютел, Нил Додсон, Бен Сэмюэл...   \n",
       "\n",
       "                             age_restriction  refundable_support  \\\n",
       "3194  «0+» - для любой зрительской аудитории                 NaN   \n",
       "4442         «16+» - для детей старше 16 лет                 NaN   \n",
       "2061         «12+» - для детей старше 12 лет                 NaN   \n",
       "2389         «16+» - для детей старше 16 лет                 NaN   \n",
       "1529             «18+» - запрещено для детей                 NaN   \n",
       "\n",
       "      nonrefundable_support  budget financing_source ratings  \\\n",
       "3194                    NaN     NaN              NaN     7.1   \n",
       "4442                    NaN     NaN              NaN     7.0   \n",
       "2061                    NaN     NaN              NaN     7.5   \n",
       "2389                    NaN     NaN              NaN     7.7   \n",
       "1529                    NaN     NaN              NaN     4.9   \n",
       "\n",
       "                           genres  box_office  \n",
       "3194          ужасы,драма,триллер       240.0  \n",
       "4442  фэнтези,приключения,комедия       150.0  \n",
       "2061              драма,мелодрама         NaN  \n",
       "2389                        драма         NaN  \n",
       "1529     ужасы,фантастика,триллер       400.0  "
      ]
     },
     "execution_count": 9,
     "metadata": {},
     "output_type": "execute_result"
    }
   ],
   "source": [
    "# Объединим два датасета в один методом merge.\n",
    "data = data_1.merge(data_2, on='puNumber', how='left')\n",
    "data.sample(5)"
   ]
  },
  {
   "cell_type": "code",
   "execution_count": 10,
   "metadata": {},
   "outputs": [
    {
     "data": {
      "text/plain": [
       "(7486, 16)"
      ]
     },
     "execution_count": 10,
     "metadata": {},
     "output_type": "execute_result"
    }
   ],
   "source": [
    "data.shape"
   ]
  },
  {
   "cell_type": "markdown",
   "metadata": {
    "id": "KLDGpPG0gFyM"
   },
   "source": [
    "### Шаг 2. Предобработка данных"
   ]
  },
  {
   "cell_type": "markdown",
   "metadata": {
    "id": "ssWwKXsxgFyO"
   },
   "source": [
    "#### Шаг 2.1. Проверьте типы данных\n",
    "\n",
    "- Проверьте типы данных в датафрейме и преобразуйте их там, где это необходимо."
   ]
  },
  {
   "cell_type": "code",
   "execution_count": 11,
   "metadata": {
    "id": "kVGSplJOgFyO"
   },
   "outputs": [
    {
     "name": "stdout",
     "output_type": "stream",
     "text": [
      "<class 'pandas.core.frame.DataFrame'>\n",
      "Int64Index: 7486 entries, 0 to 7485\n",
      "Data columns (total 16 columns):\n",
      " #   Column                 Non-Null Count  Dtype  \n",
      "---  ------                 --------------  -----  \n",
      " 0   title                  7486 non-null   object \n",
      " 1   puNumber               7485 non-null   float64\n",
      " 2   show_start_date        7486 non-null   object \n",
      " 3   type                   7486 non-null   object \n",
      " 4   film_studio            7468 non-null   object \n",
      " 5   production_country     7484 non-null   object \n",
      " 6   director               7477 non-null   object \n",
      " 7   producer               6918 non-null   object \n",
      " 8   age_restriction        7486 non-null   object \n",
      " 9   refundable_support     332 non-null    float64\n",
      " 10  nonrefundable_support  332 non-null    float64\n",
      " 11  budget                 332 non-null    float64\n",
      " 12  financing_source       332 non-null    object \n",
      " 13  ratings                6519 non-null   object \n",
      " 14  genres                 6510 non-null   object \n",
      " 15  box_office             3158 non-null   float64\n",
      "dtypes: float64(5), object(11)\n",
      "memory usage: 994.2+ KB\n"
     ]
    }
   ],
   "source": [
    "# Посмортим на объединенный датасет. \n",
    "data.info()"
   ]
  },
  {
   "cell_type": "code",
   "execution_count": 12,
   "metadata": {},
   "outputs": [],
   "source": [
    "# В столбце show_start_date поменяем тип на дату.\n",
    "data['show_start_date'] = pd.to_datetime(data['show_start_date'], format = '%Y-%m-%dT%H:%M:%S.000Z')"
   ]
  },
  {
   "cell_type": "code",
   "execution_count": 13,
   "metadata": {},
   "outputs": [],
   "source": [
    "# Удалим одну строчку их столбца puNumber и преобразцем в целоцисленный тип. \n",
    "# Удаление одной строчки не повлияет на наши дальнейшие расчеты.\n",
    "data = data.dropna(subset=['puNumber'])\n",
    "data['puNumber'] = data['puNumber'].astype(int)"
   ]
  },
  {
   "cell_type": "code",
   "execution_count": 14,
   "metadata": {},
   "outputs": [],
   "source": [
    "# Поменяем тип данных в столбце ratings, т.к. он не может быть типом object. \n",
    "data['ratings'] = pd.to_numeric(data['ratings'], errors='coerce')"
   ]
  },
  {
   "cell_type": "code",
   "execution_count": 15,
   "metadata": {},
   "outputs": [
    {
     "name": "stdout",
     "output_type": "stream",
     "text": [
      "<class 'pandas.core.frame.DataFrame'>\n",
      "Int64Index: 7485 entries, 0 to 7485\n",
      "Data columns (total 16 columns):\n",
      " #   Column                 Non-Null Count  Dtype         \n",
      "---  ------                 --------------  -----         \n",
      " 0   title                  7485 non-null   object        \n",
      " 1   puNumber               7485 non-null   int64         \n",
      " 2   show_start_date        7485 non-null   datetime64[ns]\n",
      " 3   type                   7485 non-null   object        \n",
      " 4   film_studio            7467 non-null   object        \n",
      " 5   production_country     7483 non-null   object        \n",
      " 6   director               7476 non-null   object        \n",
      " 7   producer               6917 non-null   object        \n",
      " 8   age_restriction        7485 non-null   object        \n",
      " 9   refundable_support     332 non-null    float64       \n",
      " 10  nonrefundable_support  332 non-null    float64       \n",
      " 11  budget                 332 non-null    float64       \n",
      " 12  financing_source       332 non-null    object        \n",
      " 13  ratings                6490 non-null   float64       \n",
      " 14  genres                 6510 non-null   object        \n",
      " 15  box_office             3158 non-null   float64       \n",
      "dtypes: datetime64[ns](1), float64(5), int64(1), object(9)\n",
      "memory usage: 994.1+ KB\n"
     ]
    }
   ],
   "source": [
    "# Посмотрим, все ли типы поменялись корректно. \n",
    "data.info()"
   ]
  },
  {
   "cell_type": "markdown",
   "metadata": {
    "id": "i0MOLbF-gFyP"
   },
   "source": [
    "#### Шаг 2.2. Изучите пропуски в датафрейме\n",
    "\n",
    "- Объясните, почему заполнили пропуски определённым образом или почему не стали этого делать."
   ]
  },
  {
   "cell_type": "code",
   "execution_count": 16,
   "metadata": {},
   "outputs": [
    {
     "data": {
      "text/html": [
       "<div>\n",
       "<style scoped>\n",
       "    .dataframe tbody tr th:only-of-type {\n",
       "        vertical-align: middle;\n",
       "    }\n",
       "\n",
       "    .dataframe tbody tr th {\n",
       "        vertical-align: top;\n",
       "    }\n",
       "\n",
       "    .dataframe thead th {\n",
       "        text-align: right;\n",
       "    }\n",
       "</style>\n",
       "<table border=\"1\" class=\"dataframe\">\n",
       "  <thead>\n",
       "    <tr style=\"text-align: right;\">\n",
       "      <th></th>\n",
       "      <th>title</th>\n",
       "      <th>puNumber</th>\n",
       "      <th>show_start_date</th>\n",
       "      <th>type</th>\n",
       "      <th>film_studio</th>\n",
       "      <th>production_country</th>\n",
       "      <th>director</th>\n",
       "      <th>producer</th>\n",
       "      <th>age_restriction</th>\n",
       "      <th>refundable_support</th>\n",
       "      <th>nonrefundable_support</th>\n",
       "      <th>budget</th>\n",
       "      <th>financing_source</th>\n",
       "      <th>ratings</th>\n",
       "      <th>genres</th>\n",
       "      <th>box_office</th>\n",
       "      <th>one_genre</th>\n",
       "    </tr>\n",
       "  </thead>\n",
       "  <tbody>\n",
       "    <tr>\n",
       "      <th>0</th>\n",
       "      <td>Открытый простор</td>\n",
       "      <td>221048915</td>\n",
       "      <td>2015-11-27 12:00:00</td>\n",
       "      <td>Художественный</td>\n",
       "      <td>Тачстоун Пикчерз, Кобальт Пикчерз, Бикон Пикче...</td>\n",
       "      <td>США</td>\n",
       "      <td>Кевин Костнер</td>\n",
       "      <td>Дэвид Валдес, Кевин Костнер, Джейк Эбертс</td>\n",
       "      <td>«18+» - запрещено для детей</td>\n",
       "      <td>NaN</td>\n",
       "      <td>NaN</td>\n",
       "      <td>NaN</td>\n",
       "      <td>NaN</td>\n",
       "      <td>7.2</td>\n",
       "      <td>боевик,драма,мелодрама</td>\n",
       "      <td>NaN</td>\n",
       "      <td>боевик</td>\n",
       "    </tr>\n",
       "    <tr>\n",
       "      <th>1</th>\n",
       "      <td>Особо важное задание</td>\n",
       "      <td>111013716</td>\n",
       "      <td>2016-09-13 12:00:00</td>\n",
       "      <td>Художественный</td>\n",
       "      <td>Киностудия \"Мосфильм\"</td>\n",
       "      <td>СССР</td>\n",
       "      <td>Е.Матвеев</td>\n",
       "      <td>NaN</td>\n",
       "      <td>«6+» - для детей старше 6 лет</td>\n",
       "      <td>NaN</td>\n",
       "      <td>NaN</td>\n",
       "      <td>NaN</td>\n",
       "      <td>NaN</td>\n",
       "      <td>6.6</td>\n",
       "      <td>драма,военный</td>\n",
       "      <td>NaN</td>\n",
       "      <td>драма</td>\n",
       "    </tr>\n",
       "    <tr>\n",
       "      <th>2</th>\n",
       "      <td>Особо опасен</td>\n",
       "      <td>221038416</td>\n",
       "      <td>2016-10-10 12:00:00</td>\n",
       "      <td>Художественный</td>\n",
       "      <td>Юниверсал Пикчерз, Кикстарт Продакшнз, Марк Пл...</td>\n",
       "      <td>США</td>\n",
       "      <td>Тимур Бекмамбетов</td>\n",
       "      <td>Джим Лемли, Джейсон Нетер, Марк Е.Платт, Яйн Смит</td>\n",
       "      <td>«18+» - запрещено для детей</td>\n",
       "      <td>NaN</td>\n",
       "      <td>NaN</td>\n",
       "      <td>NaN</td>\n",
       "      <td>NaN</td>\n",
       "      <td>6.8</td>\n",
       "      <td>фантастика,боевик,триллер</td>\n",
       "      <td>NaN</td>\n",
       "      <td>фантастика</td>\n",
       "    </tr>\n",
       "  </tbody>\n",
       "</table>\n",
       "</div>"
      ],
      "text/plain": [
       "                  title   puNumber     show_start_date            type  \\\n",
       "0      Открытый простор  221048915 2015-11-27 12:00:00  Художественный   \n",
       "1  Особо важное задание  111013716 2016-09-13 12:00:00  Художественный   \n",
       "2          Особо опасен  221038416 2016-10-10 12:00:00  Художественный   \n",
       "\n",
       "                                         film_studio production_country  \\\n",
       "0  Тачстоун Пикчерз, Кобальт Пикчерз, Бикон Пикче...                США   \n",
       "1                              Киностудия \"Мосфильм\"               СССР   \n",
       "2  Юниверсал Пикчерз, Кикстарт Продакшнз, Марк Пл...                США   \n",
       "\n",
       "            director                                           producer  \\\n",
       "0      Кевин Костнер          Дэвид Валдес, Кевин Костнер, Джейк Эбертс   \n",
       "1          Е.Матвеев                                                NaN   \n",
       "2  Тимур Бекмамбетов  Джим Лемли, Джейсон Нетер, Марк Е.Платт, Яйн Смит   \n",
       "\n",
       "                 age_restriction  refundable_support  nonrefundable_support  \\\n",
       "0    «18+» - запрещено для детей                 NaN                    NaN   \n",
       "1  «6+» - для детей старше 6 лет                 NaN                    NaN   \n",
       "2    «18+» - запрещено для детей                 NaN                    NaN   \n",
       "\n",
       "   budget financing_source  ratings                     genres  box_office  \\\n",
       "0     NaN              NaN      7.2     боевик,драма,мелодрама         NaN   \n",
       "1     NaN              NaN      6.6              драма,военный         NaN   \n",
       "2     NaN              NaN      6.8  фантастика,боевик,триллер         NaN   \n",
       "\n",
       "    one_genre  \n",
       "0      боевик  \n",
       "1       драма  \n",
       "2  фантастика  "
      ]
     },
     "execution_count": 16,
     "metadata": {},
     "output_type": "execute_result"
    }
   ],
   "source": [
    "# Создадим новый столбец с главным жанром, чтобы использовать его в следующих вычислениях.\n",
    "#data['one_genre'] = data['genres'].split(',')\n",
    "data['one_genre'] = data['genres'].str.split(',', expand=True)[0]\n",
    "data.head(3)"
   ]
  },
  {
   "cell_type": "code",
   "execution_count": 17,
   "metadata": {},
   "outputs": [
    {
     "data": {
      "text/html": [
       "<div>\n",
       "<style scoped>\n",
       "    .dataframe tbody tr th:only-of-type {\n",
       "        vertical-align: middle;\n",
       "    }\n",
       "\n",
       "    .dataframe tbody tr th {\n",
       "        vertical-align: top;\n",
       "    }\n",
       "\n",
       "    .dataframe thead th {\n",
       "        text-align: right;\n",
       "    }\n",
       "</style>\n",
       "<table border=\"1\" class=\"dataframe\">\n",
       "  <thead>\n",
       "    <tr style=\"text-align: right;\">\n",
       "      <th></th>\n",
       "      <th>ratings</th>\n",
       "      <th>one_genre</th>\n",
       "      <th>box_office</th>\n",
       "    </tr>\n",
       "  </thead>\n",
       "  <tbody>\n",
       "    <tr>\n",
       "      <th>0</th>\n",
       "      <td>1.0</td>\n",
       "      <td>комедия</td>\n",
       "      <td>7,323,648.0</td>\n",
       "    </tr>\n",
       "    <tr>\n",
       "      <th>1</th>\n",
       "      <td>1.2</td>\n",
       "      <td>детский</td>\n",
       "      <td>24,978.0</td>\n",
       "    </tr>\n",
       "    <tr>\n",
       "      <th>2</th>\n",
       "      <td>1.4</td>\n",
       "      <td>комедия</td>\n",
       "      <td>87,795.0</td>\n",
       "    </tr>\n",
       "    <tr>\n",
       "      <th>3</th>\n",
       "      <td>1.5</td>\n",
       "      <td>детектив</td>\n",
       "      <td>380.0</td>\n",
       "    </tr>\n",
       "    <tr>\n",
       "      <th>4</th>\n",
       "      <td>1.5</td>\n",
       "      <td>ужасы</td>\n",
       "      <td>11,066,749.2</td>\n",
       "    </tr>\n",
       "    <tr>\n",
       "      <th>5</th>\n",
       "      <td>1.6</td>\n",
       "      <td>боевик</td>\n",
       "      <td>2,482,317.0</td>\n",
       "    </tr>\n",
       "    <tr>\n",
       "      <th>6</th>\n",
       "      <td>1.6</td>\n",
       "      <td>мелодрама</td>\n",
       "      <td>6,380.0</td>\n",
       "    </tr>\n",
       "    <tr>\n",
       "      <th>7</th>\n",
       "      <td>1.6</td>\n",
       "      <td>мультфильм</td>\n",
       "      <td>620.0</td>\n",
       "    </tr>\n",
       "    <tr>\n",
       "      <th>8</th>\n",
       "      <td>1.9</td>\n",
       "      <td>детский</td>\n",
       "      <td>14,990.0</td>\n",
       "    </tr>\n",
       "    <tr>\n",
       "      <th>9</th>\n",
       "      <td>2.1</td>\n",
       "      <td>комедия</td>\n",
       "      <td>154,461,832.0</td>\n",
       "    </tr>\n",
       "  </tbody>\n",
       "</table>\n",
       "</div>"
      ],
      "text/plain": [
       "   ratings   one_genre    box_office\n",
       "0      1.0     комедия   7,323,648.0\n",
       "1      1.2     детский      24,978.0\n",
       "2      1.4     комедия      87,795.0\n",
       "3      1.5    детектив         380.0\n",
       "4      1.5       ужасы  11,066,749.2\n",
       "5      1.6      боевик   2,482,317.0\n",
       "6      1.6   мелодрама       6,380.0\n",
       "7      1.6  мультфильм         620.0\n",
       "8      1.9     детский      14,990.0\n",
       "9      2.1     комедия 154,461,832.0"
      ]
     },
     "execution_count": 17,
     "metadata": {},
     "output_type": "execute_result"
    }
   ],
   "source": [
    "# Найдем средние сборы в зависимости от рейтинга и жанра.\n",
    "means = data.query('box_office > 0').groupby(['ratings','one_genre'])['box_office'].mean()\n",
    "means = means.reset_index()\n",
    "means.head(10)"
   ]
  },
  {
   "cell_type": "code",
   "execution_count": 18,
   "metadata": {},
   "outputs": [],
   "source": [
    "# Напишем функцию, которая будет заменять нулевое значение на среднее из предыдущей таблицы.\n",
    "def pay(ratings, one_genre, box_office):\n",
    "    if box_office == 0 or box_office != box_office:\n",
    "        try:\n",
    "            return(means[(means['ratings'] == ratings) & (means['one_genre'] == one_genre)]).iloc[0]['box_office']\n",
    "        except:\n",
    "            return box_office"
   ]
  },
  {
   "cell_type": "code",
   "execution_count": 19,
   "metadata": {},
   "outputs": [],
   "source": [
    "# Применим функцию.\n",
    "data['box_office'] = data.apply(lambda x: pay(x['ratings'], x['one_genre'], x['box_office']), axis=1)"
   ]
  },
  {
   "cell_type": "code",
   "execution_count": 20,
   "metadata": {},
   "outputs": [
    {
     "name": "stdout",
     "output_type": "stream",
     "text": [
      "<class 'pandas.core.frame.DataFrame'>\n",
      "Int64Index: 7485 entries, 0 to 7485\n",
      "Data columns (total 17 columns):\n",
      " #   Column                 Non-Null Count  Dtype         \n",
      "---  ------                 --------------  -----         \n",
      " 0   title                  7485 non-null   object        \n",
      " 1   puNumber               7485 non-null   int64         \n",
      " 2   show_start_date        7485 non-null   datetime64[ns]\n",
      " 3   type                   7485 non-null   object        \n",
      " 4   film_studio            7467 non-null   object        \n",
      " 5   production_country     7483 non-null   object        \n",
      " 6   director               7476 non-null   object        \n",
      " 7   producer               6917 non-null   object        \n",
      " 8   age_restriction        7485 non-null   object        \n",
      " 9   refundable_support     332 non-null    float64       \n",
      " 10  nonrefundable_support  332 non-null    float64       \n",
      " 11  budget                 332 non-null    float64       \n",
      " 12  financing_source       332 non-null    object        \n",
      " 13  ratings                6490 non-null   float64       \n",
      " 14  genres                 6510 non-null   object        \n",
      " 15  box_office             3346 non-null   float64       \n",
      " 16  one_genre              6510 non-null   object        \n",
      "dtypes: datetime64[ns](1), float64(5), int64(1), object(10)\n",
      "memory usage: 1.0+ MB\n"
     ]
    }
   ],
   "source": [
    "# Посмотрим на количество пропусков.\n",
    "data.info()"
   ]
  },
  {
   "cell_type": "markdown",
   "metadata": {},
   "source": [
    "Применение функции не сильно уменьшило число пропусков в столбце box_office. Заполнить другие пропуски считаю не корректно, так как подобрать film_studio, production_country, director, producer, ratings, genres не возможно, и не совмем необходимо для исследования. заполнить refundable_support, nonrefundable_support пустые значения нулями не совмем логично, т.к. если в в них есть нули, то 0 не будет говорить об отсутсвии государсвенного финансирования."
   ]
  },
  {
   "cell_type": "markdown",
   "metadata": {
    "id": "4c6k1t9ygFyQ"
   },
   "source": [
    "#### Шаг 2.3. Изучите дубликаты в датафрейме\n",
    "- Проверьте, есть ли в данных дубликаты. Опишите причины, которые могли повлиять на появление дублей."
   ]
  },
  {
   "cell_type": "code",
   "execution_count": 21,
   "metadata": {
    "id": "aKck8RIdgFyQ"
   },
   "outputs": [
    {
     "data": {
      "text/plain": [
       "0"
      ]
     },
     "execution_count": 21,
     "metadata": {},
     "output_type": "execute_result"
    }
   ],
   "source": [
    "# Проверим наличие явных дубликатов.\n",
    "data.duplicated().sum()"
   ]
  },
  {
   "cell_type": "code",
   "execution_count": 22,
   "metadata": {},
   "outputs": [
    {
     "data": {
      "text/plain": [
       "0"
      ]
     },
     "execution_count": 22,
     "metadata": {},
     "output_type": "execute_result"
    }
   ],
   "source": [
    "# Приведем к низкому регистру, чтобы проверить на неявные дубликаты.\n",
    "for column in ['title', 'type', 'film_studio', 'production_country', 'director', 'producer', 'age_restriction', 'genres', 'one_genre']:\n",
    "    data[column] = data[column].str.lower()\n",
    "data.duplicated().sum()\n"
   ]
  },
  {
   "cell_type": "code",
   "execution_count": 23,
   "metadata": {},
   "outputs": [
    {
     "data": {
      "text/html": [
       "<div>\n",
       "<style scoped>\n",
       "    .dataframe tbody tr th:only-of-type {\n",
       "        vertical-align: middle;\n",
       "    }\n",
       "\n",
       "    .dataframe tbody tr th {\n",
       "        vertical-align: top;\n",
       "    }\n",
       "\n",
       "    .dataframe thead th {\n",
       "        text-align: right;\n",
       "    }\n",
       "</style>\n",
       "<table border=\"1\" class=\"dataframe\">\n",
       "  <thead>\n",
       "    <tr style=\"text-align: right;\">\n",
       "      <th></th>\n",
       "      <th>title</th>\n",
       "      <th>puNumber</th>\n",
       "      <th>show_start_date</th>\n",
       "      <th>type</th>\n",
       "      <th>film_studio</th>\n",
       "      <th>production_country</th>\n",
       "      <th>director</th>\n",
       "      <th>producer</th>\n",
       "      <th>age_restriction</th>\n",
       "      <th>refundable_support</th>\n",
       "      <th>nonrefundable_support</th>\n",
       "      <th>budget</th>\n",
       "      <th>financing_source</th>\n",
       "      <th>ratings</th>\n",
       "      <th>genres</th>\n",
       "      <th>box_office</th>\n",
       "      <th>one_genre</th>\n",
       "    </tr>\n",
       "  </thead>\n",
       "  <tbody>\n",
       "    <tr>\n",
       "      <th>5068</th>\n",
       "      <td>анализируй то!</td>\n",
       "      <td>221054410</td>\n",
       "      <td>2010-05-25 12:00:00</td>\n",
       "      <td>художественный</td>\n",
       "      <td>уорнер бразерс, виллидж роадшоу пикчерз, эн-пи...</td>\n",
       "      <td>сша</td>\n",
       "      <td>гарольд реймис</td>\n",
       "      <td>джейн розенталь, паул уэйнстейн</td>\n",
       "      <td>«12+» - для детей старше 12 лет</td>\n",
       "      <td>NaN</td>\n",
       "      <td>NaN</td>\n",
       "      <td>NaN</td>\n",
       "      <td>NaN</td>\n",
       "      <td>6.8</td>\n",
       "      <td>комедия,криминал</td>\n",
       "      <td>544,526,061.3</td>\n",
       "      <td>комедия</td>\n",
       "    </tr>\n",
       "    <tr>\n",
       "      <th>5067</th>\n",
       "      <td>анализируй это!</td>\n",
       "      <td>221054410</td>\n",
       "      <td>2010-05-25 12:00:00</td>\n",
       "      <td>художественный</td>\n",
       "      <td>уорнер бразерс, вилладж роудшоу филмз лтд</td>\n",
       "      <td>сша-австралия</td>\n",
       "      <td>хэрольд рэмис</td>\n",
       "      <td>джейн розенталь, пола уейнстейн</td>\n",
       "      <td>«16+» - для детей старше 16 лет</td>\n",
       "      <td>NaN</td>\n",
       "      <td>NaN</td>\n",
       "      <td>NaN</td>\n",
       "      <td>NaN</td>\n",
       "      <td>7.4</td>\n",
       "      <td>комедия,криминал</td>\n",
       "      <td>29,893,274.0</td>\n",
       "      <td>комедия</td>\n",
       "    </tr>\n",
       "    <tr>\n",
       "      <th>4639</th>\n",
       "      <td>иоанна - женщина на папском престоле /по роман...</td>\n",
       "      <td>221154310</td>\n",
       "      <td>2010-12-17 12:00:00</td>\n",
       "      <td>художественный</td>\n",
       "      <td>константин фильм, а эр ди дегето фильм, дюне ...</td>\n",
       "      <td>германия - великобритания - италия - испания</td>\n",
       "      <td>зенке вортманн</td>\n",
       "      <td>оливер бербен, дорис д.хайнце, фарук элтан</td>\n",
       "      <td>«16+» - для детей старше 16 лет</td>\n",
       "      <td>NaN</td>\n",
       "      <td>NaN</td>\n",
       "      <td>NaN</td>\n",
       "      <td>NaN</td>\n",
       "      <td>7.6</td>\n",
       "      <td>драма,мелодрама,история</td>\n",
       "      <td>95,426,157.3</td>\n",
       "      <td>драма</td>\n",
       "    </tr>\n",
       "    <tr>\n",
       "      <th>4638</th>\n",
       "      <td>как жениться и остаться холостым</td>\n",
       "      <td>221154310</td>\n",
       "      <td>2010-12-17 12:00:00</td>\n",
       "      <td>художественный</td>\n",
       "      <td>ше вам, скрипт ассосье, тэ фэ 1 фильм продюксь...</td>\n",
       "      <td>франция</td>\n",
       "      <td>эрик лартиго</td>\n",
       "      <td>амандин било, алан шаба</td>\n",
       "      <td>«16+» - для детей старше 16 лет</td>\n",
       "      <td>NaN</td>\n",
       "      <td>NaN</td>\n",
       "      <td>NaN</td>\n",
       "      <td>NaN</td>\n",
       "      <td>7.0</td>\n",
       "      <td>мелодрама,комедия</td>\n",
       "      <td>3,316,823.0</td>\n",
       "      <td>мелодрама</td>\n",
       "    </tr>\n",
       "  </tbody>\n",
       "</table>\n",
       "</div>"
      ],
      "text/plain": [
       "                                                  title   puNumber  \\\n",
       "5068                                     анализируй то!  221054410   \n",
       "5067                                    анализируй это!  221054410   \n",
       "4639  иоанна - женщина на папском престоле /по роман...  221154310   \n",
       "4638                   как жениться и остаться холостым  221154310   \n",
       "\n",
       "         show_start_date            type  \\\n",
       "5068 2010-05-25 12:00:00  художественный   \n",
       "5067 2010-05-25 12:00:00  художественный   \n",
       "4639 2010-12-17 12:00:00  художественный   \n",
       "4638 2010-12-17 12:00:00  художественный   \n",
       "\n",
       "                                            film_studio  \\\n",
       "5068  уорнер бразерс, виллидж роадшоу пикчерз, эн-пи...   \n",
       "5067          уорнер бразерс, вилладж роудшоу филмз лтд   \n",
       "4639   константин фильм, а эр ди дегето фильм, дюне ...   \n",
       "4638  ше вам, скрипт ассосье, тэ фэ 1 фильм продюксь...   \n",
       "\n",
       "                                production_country        director  \\\n",
       "5068                                           сша  гарольд реймис   \n",
       "5067                                 сша-австралия   хэрольд рэмис   \n",
       "4639  германия - великобритания - италия - испания  зенке вортманн   \n",
       "4638                                       франция    эрик лартиго   \n",
       "\n",
       "                                        producer  \\\n",
       "5068             джейн розенталь, паул уэйнстейн   \n",
       "5067             джейн розенталь, пола уейнстейн   \n",
       "4639  оливер бербен, дорис д.хайнце, фарук элтан   \n",
       "4638                     амандин било, алан шаба   \n",
       "\n",
       "                      age_restriction  refundable_support  \\\n",
       "5068  «12+» - для детей старше 12 лет                 NaN   \n",
       "5067  «16+» - для детей старше 16 лет                 NaN   \n",
       "4639  «16+» - для детей старше 16 лет                 NaN   \n",
       "4638  «16+» - для детей старше 16 лет                 NaN   \n",
       "\n",
       "      nonrefundable_support  budget financing_source  ratings  \\\n",
       "5068                    NaN     NaN              NaN      6.8   \n",
       "5067                    NaN     NaN              NaN      7.4   \n",
       "4639                    NaN     NaN              NaN      7.6   \n",
       "4638                    NaN     NaN              NaN      7.0   \n",
       "\n",
       "                       genres    box_office  one_genre  \n",
       "5068         комедия,криминал 544,526,061.3    комедия  \n",
       "5067         комедия,криминал  29,893,274.0    комедия  \n",
       "4639  драма,мелодрама,история  95,426,157.3      драма  \n",
       "4638        мелодрама,комедия   3,316,823.0  мелодрама  "
      ]
     },
     "execution_count": 23,
     "metadata": {},
     "output_type": "execute_result"
    }
   ],
   "source": [
    "# Посмотрим на дубликаты по номеру удостоверения.\n",
    "data[data['puNumber'].duplicated(keep=False) == True].sort_values(by='title')"
   ]
  },
  {
   "cell_type": "markdown",
   "metadata": {},
   "source": [
    "Есть фильмы с одинаковым прокатным удостоверением, но это разные фильмы - разные названия, разный рейтинг, поэтому назвать их дубликатами нельзя, хотя в написании директора и продюсера есть разность в написании. "
   ]
  },
  {
   "cell_type": "code",
   "execution_count": 24,
   "metadata": {},
   "outputs": [
    {
     "data": {
      "text/html": [
       "<div>\n",
       "<style scoped>\n",
       "    .dataframe tbody tr th:only-of-type {\n",
       "        vertical-align: middle;\n",
       "    }\n",
       "\n",
       "    .dataframe tbody tr th {\n",
       "        vertical-align: top;\n",
       "    }\n",
       "\n",
       "    .dataframe thead th {\n",
       "        text-align: right;\n",
       "    }\n",
       "</style>\n",
       "<table border=\"1\" class=\"dataframe\">\n",
       "  <thead>\n",
       "    <tr style=\"text-align: right;\">\n",
       "      <th></th>\n",
       "      <th>title</th>\n",
       "      <th>puNumber</th>\n",
       "      <th>show_start_date</th>\n",
       "      <th>type</th>\n",
       "      <th>film_studio</th>\n",
       "      <th>production_country</th>\n",
       "      <th>director</th>\n",
       "      <th>producer</th>\n",
       "      <th>age_restriction</th>\n",
       "      <th>refundable_support</th>\n",
       "      <th>nonrefundable_support</th>\n",
       "      <th>budget</th>\n",
       "      <th>financing_source</th>\n",
       "      <th>ratings</th>\n",
       "      <th>genres</th>\n",
       "      <th>box_office</th>\n",
       "      <th>one_genre</th>\n",
       "    </tr>\n",
       "  </thead>\n",
       "  <tbody>\n",
       "    <tr>\n",
       "      <th>454</th>\n",
       "      <td>100 миллионов евро</td>\n",
       "      <td>221024616</td>\n",
       "      <td>2016-05-25 12:00:00</td>\n",
       "      <td>художественный</td>\n",
       "      <td>патэ, эсквуд, серенити фильм, тф1 фильм продюк...</td>\n",
       "      <td>франция</td>\n",
       "      <td>оливер барру</td>\n",
       "      <td>ричард грандпьерр</td>\n",
       "      <td>«16+» - для детей старше 16 лет</td>\n",
       "      <td>NaN</td>\n",
       "      <td>NaN</td>\n",
       "      <td>NaN</td>\n",
       "      <td>NaN</td>\n",
       "      <td>6.1</td>\n",
       "      <td>комедия</td>\n",
       "      <td>10,544,758.3</td>\n",
       "      <td>комедия</td>\n",
       "    </tr>\n",
       "    <tr>\n",
       "      <th>455</th>\n",
       "      <td>100 миллионов евро</td>\n",
       "      <td>121013712</td>\n",
       "      <td>2012-06-06 12:00:00</td>\n",
       "      <td>художественный</td>\n",
       "      <td>патэ, эсквуд, серенити фильм, тф1 фильм продюк...</td>\n",
       "      <td>франция</td>\n",
       "      <td>оливер барру</td>\n",
       "      <td>ричард грандпьерр</td>\n",
       "      <td>«16+» - для детей старше 16 лет</td>\n",
       "      <td>NaN</td>\n",
       "      <td>NaN</td>\n",
       "      <td>NaN</td>\n",
       "      <td>NaN</td>\n",
       "      <td>6.1</td>\n",
       "      <td>комедия</td>\n",
       "      <td>10,544,758.3</td>\n",
       "      <td>комедия</td>\n",
       "    </tr>\n",
       "    <tr>\n",
       "      <th>5058</th>\n",
       "      <td>127 часов</td>\n",
       "      <td>221069011</td>\n",
       "      <td>2011-05-18 12:00:00</td>\n",
       "      <td>художественный</td>\n",
       "      <td>фокс серчлайт пикчерз, клод эйт филмз, филм фо...</td>\n",
       "      <td>сша - великобритания</td>\n",
       "      <td>дэнни бойл</td>\n",
       "      <td>бернард беллью, тесса росс, гаррет смит</td>\n",
       "      <td>«16+» - для детей старше 16 лет</td>\n",
       "      <td>NaN</td>\n",
       "      <td>NaN</td>\n",
       "      <td>NaN</td>\n",
       "      <td>NaN</td>\n",
       "      <td>7.7</td>\n",
       "      <td>триллер,биография,драма</td>\n",
       "      <td>24,031,645.7</td>\n",
       "      <td>триллер</td>\n",
       "    </tr>\n",
       "    <tr>\n",
       "      <th>4852</th>\n",
       "      <td>127 часов</td>\n",
       "      <td>121000811</td>\n",
       "      <td>2011-01-27 12:00:00</td>\n",
       "      <td>художественный</td>\n",
       "      <td>фокс серчлайт пикчерз, клод эйт филмз, филм фо...</td>\n",
       "      <td>сша - великобритания</td>\n",
       "      <td>дэнни бойл</td>\n",
       "      <td>бернард беллью, тесса росс, гаррет смит</td>\n",
       "      <td>«16+» - для детей старше 16 лет</td>\n",
       "      <td>NaN</td>\n",
       "      <td>NaN</td>\n",
       "      <td>NaN</td>\n",
       "      <td>NaN</td>\n",
       "      <td>7.7</td>\n",
       "      <td>триллер,биография,драма</td>\n",
       "      <td>24,031,645.7</td>\n",
       "      <td>триллер</td>\n",
       "    </tr>\n",
       "    <tr>\n",
       "      <th>3130</th>\n",
       "      <td>13 часов: тайные солдаты бенгази</td>\n",
       "      <td>121001016</td>\n",
       "      <td>2016-01-15 12:00:00</td>\n",
       "      <td>художественный</td>\n",
       "      <td>парамаунт, дан филмз, латина пикчарз,3 арт инт...</td>\n",
       "      <td>сша</td>\n",
       "      <td>майкл бэй</td>\n",
       "      <td>майкл бэй, эрвин стофф</td>\n",
       "      <td>«18+» - запрещено для детей</td>\n",
       "      <td>NaN</td>\n",
       "      <td>NaN</td>\n",
       "      <td>NaN</td>\n",
       "      <td>NaN</td>\n",
       "      <td>6.7</td>\n",
       "      <td>боевик,триллер,драма</td>\n",
       "      <td>NaN</td>\n",
       "      <td>боевик</td>\n",
       "    </tr>\n",
       "  </tbody>\n",
       "</table>\n",
       "</div>"
      ],
      "text/plain": [
       "                                 title   puNumber     show_start_date  \\\n",
       "454                 100 миллионов евро  221024616 2016-05-25 12:00:00   \n",
       "455                 100 миллионов евро  121013712 2012-06-06 12:00:00   \n",
       "5058                         127 часов  221069011 2011-05-18 12:00:00   \n",
       "4852                         127 часов  121000811 2011-01-27 12:00:00   \n",
       "3130  13 часов: тайные солдаты бенгази  121001016 2016-01-15 12:00:00   \n",
       "\n",
       "                type                                        film_studio  \\\n",
       "454   художественный  патэ, эсквуд, серенити фильм, тф1 фильм продюк...   \n",
       "455   художественный  патэ, эсквуд, серенити фильм, тф1 фильм продюк...   \n",
       "5058  художественный  фокс серчлайт пикчерз, клод эйт филмз, филм фо...   \n",
       "4852  художественный  фокс серчлайт пикчерз, клод эйт филмз, филм фо...   \n",
       "3130  художественный  парамаунт, дан филмз, латина пикчарз,3 арт инт...   \n",
       "\n",
       "        production_country      director  \\\n",
       "454                франция  оливер барру   \n",
       "455                франция  оливер барру   \n",
       "5058  сша - великобритания    дэнни бойл   \n",
       "4852  сша - великобритания    дэнни бойл   \n",
       "3130                   сша     майкл бэй   \n",
       "\n",
       "                                     producer  \\\n",
       "454                         ричард грандпьерр   \n",
       "455                         ричард грандпьерр   \n",
       "5058  бернард беллью, тесса росс, гаррет смит   \n",
       "4852  бернард беллью, тесса росс, гаррет смит   \n",
       "3130                   майкл бэй, эрвин стофф   \n",
       "\n",
       "                      age_restriction  refundable_support  \\\n",
       "454   «16+» - для детей старше 16 лет                 NaN   \n",
       "455   «16+» - для детей старше 16 лет                 NaN   \n",
       "5058  «16+» - для детей старше 16 лет                 NaN   \n",
       "4852  «16+» - для детей старше 16 лет                 NaN   \n",
       "3130      «18+» - запрещено для детей                 NaN   \n",
       "\n",
       "      nonrefundable_support  budget financing_source  ratings  \\\n",
       "454                     NaN     NaN              NaN      6.1   \n",
       "455                     NaN     NaN              NaN      6.1   \n",
       "5058                    NaN     NaN              NaN      7.7   \n",
       "4852                    NaN     NaN              NaN      7.7   \n",
       "3130                    NaN     NaN              NaN      6.7   \n",
       "\n",
       "                       genres   box_office one_genre  \n",
       "454                   комедия 10,544,758.3   комедия  \n",
       "455                   комедия 10,544,758.3   комедия  \n",
       "5058  триллер,биография,драма 24,031,645.7   триллер  \n",
       "4852  триллер,биография,драма 24,031,645.7   триллер  \n",
       "3130     боевик,триллер,драма          NaN    боевик  "
      ]
     },
     "execution_count": 24,
     "metadata": {},
     "output_type": "execute_result"
    }
   ],
   "source": [
    "# Посмотрим на дубликаты по названию фильма.\n",
    "data[data['title'].duplicated(keep=False) == True].sort_values(by='title').head()"
   ]
  },
  {
   "cell_type": "markdown",
   "metadata": {},
   "source": [
    "Видим, что есть очень схожие строчки, но номер прокатного удостоверения отличается, это значит, что может быть несколько прокатов одного фильма, даты выхода фильма так же различаются."
   ]
  },
  {
   "cell_type": "markdown",
   "metadata": {
    "id": "52fOPrEBgFyQ"
   },
   "source": [
    "#### Шаг 2.4. Изучите категориальные значения\n",
    "\n",
    "- Посмотрите, какая общая проблема встречается почти во всех категориальных столбцах;\n",
    "- Исправьте проблемные значения в поле `type`.\n",
    "\n",
    "<div id=\"accordion\">\n",
    "    <div class=\"card\">\n",
    "        <div class=\"card-header\" id=\"headingThree\">\n",
    "            <button class=\"btn btn-link collapsed\" data-toggle=\"collapse\" data-target=\"#collapseHint_1\" aria-expanded=\"false\" aria-controls=\"collapseHint_1\">Подсказка</button>\n",
    "        </div>\n",
    "        <div id=\"collapseHint_1\" class=\"collapse\" aria-labelledby=\"headingThree\" data-parent=\"#accordion\">\n",
    "            <div class=\"card-body\">\n",
    "В поле <code>type</code> есть несколько значений, у которых появился пробел в начале строки. Самый простой способ их «починить» -- использовать метод <a href=\"https://pandas.pydata.org/docs/reference/api/pandas.Series.str.strip.html#pandas.Series.str.strip\">.str.strip</a>. Этот метод удаляет все пробелы, которые встречаются в начале и в конце строки. Применяют его таким образом:<br>\n",
    "<code>df['type'].str.strip()</code>\n",
    "            </div>\n",
    "        </div>\n",
    "    </div>\n",
    "</div>"
   ]
  },
  {
   "cell_type": "code",
   "execution_count": 25,
   "metadata": {
    "id": "PnXKIVdFgFyR"
   },
   "outputs": [
    {
     "name": "stdout",
     "output_type": "stream",
     "text": [
      "['художественный' 'анимационный' 'прочие' 'документальный'\n",
      " 'научно-популярный' ' художественный' ' анимационный'\n",
      " 'музыкально-развлекательный']\n",
      "['сша' 'ссср' 'франция' 'ссср, венгрия' 'германия-великобритания'\n",
      " 'великобритания - италия' 'чехословакия' 'сша - франция - турция'\n",
      " 'новая зеландия' 'канада - франция - испания' 'сша-германия'\n",
      " 'сша - великобритания' 'великобритания' 'сша - германия'\n",
      " 'франция - мексика - сша' 'россия, казахстан, сша' 'ссср, швеция'\n",
      " 'ссср, франция, англия, куба, гдр' 'германия'\n",
      " 'великобритания-сша-германия-кнр' 'ссср, чсср, западный берлин, пнр'\n",
      " 'ссср, италия' 'гонконг, кнр' 'сша - франция'\n",
      " 'сша - япония - франция - великобритания'\n",
      " 'гонконг - сингапур - таиланд - великобритания' 'сша-канада'\n",
      " 'франция - италия - великобритания - сша' 'франция - сша'\n",
      " 'ирландия-великобритания-германия' 'чехия' 'сша-австралия'\n",
      " 'ссср, финляндия' 'сша-франция-великобритания-австрия' 'сша - бельгия'\n",
      " 'сша - ирландия - великобритания' 'великобритания - сша'\n",
      " 'люксембург - нидерланды - испания - великобритания - сша - италия'\n",
      " 'великобритания - франция - сша' 'новая зеландия - сша'\n",
      " 'сша - великобритания - чехия' 'канада - франция - великобритания'\n",
      " 'ирландия' 'великобритания - германия - сша'\n",
      " 'сша - франция - великобритания' 'япония' 'ссср, польша'\n",
      " 'франция - испания' 'канада-франция' 'германия - италия - сша'\n",
      " 'аргентина - бразилия' 'дания - швейцария - бельгия - франция'\n",
      " 'сша - испания' 'германия - сша'\n",
      " 'франция - австрия - германия - италия - сша' 'австрия'\n",
      " 'сша - канада - германия' 'сша - канада' 'ссср - швейцария - франция'\n",
      " 'россия - казахстан' 'гонконг' 'италия' 'сша - оаэ' 'россия'\n",
      " 'сша - франция - испания - великобритания' 'великобритания - франция'\n",
      " 'сша-италия-испания-аргентина' 'франция-великобритания' 'кнр - гонконг'\n",
      " 'франция - италия - швейцария' 'сша - новая зеландия' 'франция - бельгия'\n",
      " 'кнр' 'германия - великобритания - австрия'\n",
      " 'великобритания - израиль - франция - япония - сша' 'швеция' 'испания'\n",
      " 'дания' 'франция - бельгия - люксембург' 'сша - индия - оаэ'\n",
      " 'германия-канада-великобритания-швейцария-франция' 'мексика - чили'\n",
      " 'аргентина' 'бразилия' 'чили' 'австралия' 'португалия - франция'\n",
      " 'сша - юар' 'исландия-ирландия-германия' 'сша-индонезия' 'южная корея'\n",
      " 'мексика - испания - дания - сша' 'великобритания-сша' 'франция - италия'\n",
      " 'сша-франция' 'сша - венгрия - великобритания' 'бельгия-франция-италия'\n",
      " 'чехия - германия' 'германия - франция' 'сша-нидерланды' 'украина'\n",
      " 'великобритания - германия' 'франция-бельгия' 'сша-франция-испания'\n",
      " 'италия - франция' 'канада' 'швеция-франция-дания'\n",
      " 'германия-франция-польша' 'франция-великобритания - германия'\n",
      " 'сша - бразилия - франция - австралия - великобритания - германия'\n",
      " 'германия-австрия' 'германия-италия- шри-ланка'\n",
      " 'великобритания - испания' 'сша - великобритания - канада - швеция'\n",
      " 'босния и герцеговина - франция - великобритания - германия - словения - бельгия - сербия'\n",
      " 'великобритания - франция - италия - сша' 'сша-оаэ' 'испания - франция'\n",
      " 'сша-великобритания' 'сша-юар' 'великобритания-австралия - сша'\n",
      " 'норвегия - швеция - дания - германия' 'норвегия' 'швейцария'\n",
      " 'греция - германия - франция' 'норвения' 'южная корея - сша'\n",
      " 'чили - франция - сша' 'австрия - германия - франция' 'швеция - дания'\n",
      " 'великобритания - франция - бельгия - италия' 'франция - германия'\n",
      " 'грузия - франция - люксембург'\n",
      " 'сша - франция - великобритания - бразилия ' 'сша - кнр'\n",
      " 'мексика - франция' 'сша - германия - гонконг - сингапур'\n",
      " 'финляндия - австрия - россия' 'испания - куба' 'великобритания - юар'\n",
      " 'великобритания - ирландия' 'израиль'\n",
      " 'бразилия - германия - порртугалия - франция '\n",
      " 'франция - канада - бельгия' 'франция-испания'\n",
      " 'испания - канада - япония' 'иран' 'швеция-куба'\n",
      " 'сша-великобритания-ирландия' 'гонконг - кнр' 'нидерланды'\n",
      " 'испания - канада' 'япония-великобритания'\n",
      " 'великобритания - норвегия - дания - германия'\n",
      " 'финляндия - франция - германия'\n",
      " 'мексика - франция - нидерланды - германия' 'сша - индия'\n",
      " 'сша-великобритания-индия' 'сша-канада-бельгия' 'республика узбекистан'\n",
      " 'италия ' 'турция'\n",
      " 'сербия - словения - хорватия - черногория - македония' 'киргизия'\n",
      " 'германия - нидерланды - беларусь - россия - латвия' 'индия'\n",
      " 'нидерланды - россия - германия'\n",
      " 'великобритания - нидерланды - франция - хорватия' 'канада - южная корея'\n",
      " 'великобритания - польша - кнр - индия - норвегия'\n",
      " 'япония - франция - сша - южная корея - турция'\n",
      " 'мексика - аргентина - великобритания' 'израиль - франция'\n",
      " 'польша - португалия - франция - великобритания' 'австралия - сша'\n",
      " 'сша - великобритания ' 'франция - люксембург - бельгия' 'армения'\n",
      " 'бельгия - люксембург - франция - швейцария'\n",
      " 'сша - великобритания - канада' 'норвегия - швеция' 'канада - франция'\n",
      " 'кнр - гонконг - сша' 'сша - сингапур - малайзия - индонезия'\n",
      " 'германия - россия' 'япония - канада'\n",
      " 'финляндия - дания - германия - ирландия'\n",
      " 'франция - люксембург - германия - бельгия - швейцария - великобритания '\n",
      " 'канада - сша' 'сша-италия-испания' 'сша-испания'\n",
      " 'сша - швейцария - франция' 'испания - сша - колумбия' 'канада-юар'\n",
      " 'франция - россия' 'германия - финляндия - австралия' 'дания - швеция'\n",
      " 'бельгия' 'германия - франция - австрия' 'франция-индия' 'юар'\n",
      " 'франция-перу' 'франция - канада' 'республика беларусь'\n",
      " 'великобритания - австрия - франция - сша' 'австрия-германия-франция'\n",
      " 'сша-россия' 'германия-сша' 'сша - южная корея' 'канада - кнр'\n",
      " 'дания - швеция - италия - франция - германия'\n",
      " 'франция-италия-испания-венгрия' 'франция - германия - бельгия'\n",
      " 'франция-великобритания-чехия' 'румыния - франция - бельгия'\n",
      " 'болгария - франция - изриль'\n",
      " 'израиль - германия - польша - бельгия - франция - люксембург'\n",
      " 'россия, германия, франция, бельгия' 'индонезия' 'франция - португалия'\n",
      " 'великобритания - пуэрто-рико' 'ссср, фрг, западный берлин'\n",
      " 'россия, республика беларусь' 'сша, великобритания' 'франция - австрия'\n",
      " 'бельгия-нидерланды' 'великобритания - сша - индия'\n",
      " 'сша - великобритания - австралия'\n",
      " 'канада - франция - сша - оаэ - великобритания'\n",
      " 'сша - австралия - франция'\n",
      " 'дания-франция-бельгия-германия-великобритания' 'испания - аргентина'\n",
      " 'исландия - финляндия' 'россия-польша-голландия-словакия'\n",
      " 'дания - германия - швеция' 'южная корея - сша - канада' 'таиланд'\n",
      " 'сша-мальта' 'сша -германия'\n",
      " 'великобритания - германия - франция - кипр - сша' 'мексика'\n",
      " 'сша - великобритания - ирландия' 'сша - украина'\n",
      " 'сша - финляндия - испания - великобритания - франция'\n",
      " 'австралия-великобритания'\n",
      " 'сша - канада - афганистан - бельгия - франция'\n",
      " 'сша - великобритания - германия - новая зеландия - бельгия - франция'\n",
      " 'франция-канада'\n",
      " 'ирландия - финляндия - бельгия - великобритания - сша - швейцария'\n",
      " 'малайзия - сша' 'германия - италия' 'сша - франция - бельгия - италия'\n",
      " 'франция - ирландия - швеция' 'азербайджан-россия'\n",
      " 'великобритания - италия - швейцария' 'сша - германия - великобритания'\n",
      " 'германия - бельгия - сша -франция' 'сша-китай' 'чили - испания'\n",
      " 'франция - швейцария' 'канада - испания' 'сша - румыния - великобритания'\n",
      " 'сша - япония' 'сша - россия - франция' 'франция-сша' 'парагвай'\n",
      " 'германия - канада' 'сша - канада - великобритания' 'финляндия - канада'\n",
      " 'уругвай-мексика-германия ' 'сша - чили'\n",
      " 'германия - аргентина - нидерланды - чили' 'сша - канада - индонезия'\n",
      " 'армения - казахстан' 'финляндия' 'испания - италия - франция'\n",
      " 'бельгия - испания - канада - нидерланды'\n",
      " 'великобритания - франция - швеция - бельгия'\n",
      " 'мексика - эквадор - канада - сша - франция - малайзия - италия - аргентина - германия - индия  '\n",
      " 'франция - бенльгия' 'индия - великобритания'\n",
      " 'япония - великобритания - франция' 'испания - уругвай - аргентина'\n",
      " 'франция - италия - бельгия - люксембург'\n",
      " 'франция - украина - грузия - армения' 'сербия - германия - венгрия'\n",
      " 'франция-польша' 'франция ' 'румыния-сша' 'россия-азербайджан'\n",
      " 'сша - нидерланды - бельгия - венгрия - греция - канада'\n",
      " 'германия - франция - люксембург' 'сша - россия'\n",
      " 'великобритания - сша - франция' 'сша - австралия - дания'\n",
      " 'бельгия-франция' 'сша-мексика'\n",
      " 'норвегия - азербайджан - россия - колумбия - великобритания - венгрия - румыния - франция - грузия'\n",
      " 'сща' 'бразилия - испания' 'россия, франция, латвия'\n",
      " 'нидерланды - сша - германия - канада - франция - ирландия - великобритания'\n",
      " 'уругвай - колумбия' 'сша - испания - болгария' 'армения - германия'\n",
      " 'сша - великобритания- франция - швеция' 'сша - мексика'\n",
      " 'австралия-турция-сша' 'швеция - германия' 'польша - италия - россия'\n",
      " 'франция - бразилия' 'сша - канада - кнр' 'ссср, венгрия, чсср, гдр'\n",
      " 'бельгия - германия - люксембург' 'ссср  ' 'ссср ' ' ссср '\n",
      " 'сша - австралия' 'бразилия - сша' 'сша - великобритания - канада - кнр'\n",
      " 'франция - чили'\n",
      " 'франция - сша - великобритания - колумбия - бельгия - россия'\n",
      " 'дания - великобритания - юар' 'ссср   ' 'россия-сша-канада-люксембург'\n",
      " 'россия - республика кипр' 'германия - сша - швеция - франция'\n",
      " 'великобритания-германия-канада-юар' ' ссср   ' 'ссср     '\n",
      " 'ирландия, канада'\n",
      " 'япония - великобритания - швейцария - ирландия - дания - франция - польша - австралия - канада  '\n",
      " 'великобритания, канада' 'бельгия - сша' 'великобритания - сша - россия'\n",
      " 'россия-украина' 'германия - сша - великобритания - израиль'\n",
      " 'канада - германия' 'сша- ю.корея' 'индия - мексика'\n",
      " 'великобритания - франция - республика кипр - швейцария - сша - сербия'\n",
      " 'испания - аргентина - индия - сша'\n",
      " 'норвегия - исландия - сша - великобритания '\n",
      " 'турция - германя - франция' 'германия - великобритания'\n",
      " 'австралия - германия' 'мексика - испания'\n",
      " 'великобритания - сша - германия - бельгия' 'сша - чехия - франция'\n",
      " 'россия - италия' 'франция-россия' 'норвегия - дания - швеция'\n",
      " 'франция - швейцария - германия' 'грузия - украина'\n",
      " 'россия - эстония - финляндия - беларусь' 'сша - франция - юар'\n",
      " 'великобритания - сша - швейцария' 'канада-сша'\n",
      " 'мексика - нидерланды - германия - франция' 'сша - испания - франция'\n",
      " 'сша - великобритания - кнр' 'сша-франция-канада'\n",
      " 'япония, великобритания, австрия, германия, ю.корея'\n",
      " 'великобритания - ирландия - сша' 'бельгия - италия - франция '\n",
      " 'швейцария-германия-юар' 'великобритания - сша - германия'\n",
      " 'германия - исландия' 'испания - сша' 'ссср    ' 'хорватия'\n",
      " 'финляндия - исландия - швеция' 'канада - сша - германия - франция'\n",
      " 'сша - великобритания - испания' 'ирландия-великобритания'\n",
      " 'аргентина - испания' 'австрия - германия' ' ссср'\n",
      " 'германия - швейцария - франция - южная корея - сша'\n",
      " 'украина - нидерланды' 'венгрия - германия - швеция'\n",
      " 'германия - франция -  польша - турция - канада - италия - россия '\n",
      " 'ссср, афганистан' 'ссср, монголия' 'россия-кипр'\n",
      " 'россия, грузия, испания'\n",
      " 'великобритания - нидерланды - германия - франция - бельгия - австрия '\n",
      " 'испания - великобритания - франция' 'дания - норвегия - великобритания'\n",
      " 'бельгия - франция - люксембург'\n",
      " 'италия - франция - швейцария - великобритания'\n",
      " 'франция - бельгия - великобритания - испания - германия - сша'\n",
      " 'швейцария - израиль - франция - великобритания'\n",
      " 'великобритания - сша - канада - нидерланды - франция' 'россия, италия'\n",
      " 'ссср, албания' 'россия, украина, республика беларусь, литва'\n",
      " 'финляндия - великобритания - германия' 'россия, украина, польша'\n",
      " 'франция - италия - бельгия - кнр'\n",
      " 'германия - бельгия - люксембург - ирландия' 'кнр - сингапур'\n",
      " 'франция - бельгия - великобритания - сша - нидерланды - канада'\n",
      " 'сша - россия - польша - германия - пуэрто рико'\n",
      " 'франция - бельгия - канада' 'сша ' 'мексика - сша'\n",
      " 'сша - гонконг - кнр ' 'греция - россия'\n",
      " 'ирландия - дания - бельгия - люксембург - франция' 'эстония - россия'\n",
      " 'великобритания - исландия - испания - швейцария - сша'\n",
      " 'австралия - великобритания - бельгия - индия'\n",
      " 'швеция - германия - франция - норвегия'\n",
      " 'нидерланды - бельгия - германия - ирландия'\n",
      " 'нидерланды - великобритания - бельгия' 'сша - колумбия - испания'\n",
      " 'франция-испания-бельгия-панама' 'сша-великобритания-чехия-румыния'\n",
      " 'аргентина - уругвай - россия - германия - франция - нидерланды'\n",
      " 'швеция - франция - норвегия - дания' 'италия-франция-великобритания'\n",
      " 'великобритания, франция' 'австралия, сша' 'венесуэла'\n",
      " 'великобритания - сша - австралия - ирландия - германия - куба - канада'\n",
      " 'южная корея - кнр' 'аргентина - мексика - бразилия - франция - сша'\n",
      " 'швеция - сша' 'франция - германия - турция - катар' 'франция-китай'\n",
      " 'россия, германия, великобритания' 'великобритания - италия - испания'\n",
      " 'италия - россия' 'япония - кнр - южная корея' 'россия, германия'\n",
      " 'россия-ирландия' 'македония - франция - великобритания'\n",
      " 'франция - бразилия - италия' 'россия-сша' 'армения-россия'\n",
      " 'россия, румыния' 'франция -  бельгия' 'грузия-франция' 'юар - сша'\n",
      " 'великобритания-сша-франция'\n",
      " 'великобритания - сша - германия - канада - австралия' 'сша-ирландия'\n",
      " 'россия, республика кипр' 'германия - люксембург - франция'\n",
      " 'россия-франция' 'сша - нидерланды - финляндия - великобритания - италия'\n",
      " 'республика кипр' 'венгрия' 'франция - сша - норвегия - дания'\n",
      " 'германия - австрия - ирландия' 'сша - финляндия' 'италия-великобритания'\n",
      " 'россия, испания' 'сша - великобритания - болгария'\n",
      " 'великобритания - люксембург' 'индия - сша'\n",
      " 'сша - канада - россия - франция - чили - ирландия' 'грузия-россия'\n",
      " 'дания - австрия - ирландия - финляндия - норвегия - швеция - нидерланды'\n",
      " 'сша-кнр' 'грузия' 'австралия - ирландия' 'великобритания - канада'\n",
      " 'италия - аргентина - словения '\n",
      " 'испания - франция - нидерланды - германия - бельгия - великобритания - канада'\n",
      " 'франция - чехия - бельгия' 'великобритания - франция - германия - сша'\n",
      " 'ирландия - великобритания - франция - сша - германия - нидерланды'\n",
      " 'сша - канада - япония - кнр' 'италия-франция'\n",
      " 'сша - великобритания - исландия' 'великобритания-франция'\n",
      " 'франция - германия - нидерланды' 'иран '\n",
      " 'франция - германия - швеция - сша - чехия - словакия - великобритания - нидерланды'\n",
      " 'франция - канада - н.зеландия - сша - нидерланды - германия - швеция - россия'\n",
      " 'турция - сша'\n",
      " 'великобритания - сша - канада - бельгия - нидерланды - австрия - германия'\n",
      " 'израиль - франция - германия - палестина - сша - австрия - великобритания'\n",
      " 'аргентина - франция - испания' 'ссср, россия'\n",
      " 'великобритания - франция - италия - индия - дания - кнр - бангладеш - камбоджа - гаити - уганда'\n",
      " 'италия - франция - швейцария' 'ирландия - великобритания - канада'\n",
      " 'перу' 'сша - норвегия' 'испания-канада' 'китай-гонконг'\n",
      " 'сша - германия - кнр' 'великобритания - новая зеландия'\n",
      " 'франция - дания - швеция - кнр'\n",
      " 'сша - великобритания - германия - бельгия - дания'\n",
      " 'сша - франция - канада - германия - австралия - индия' nan\n",
      " 'ссср, румыния, франция' 'ссср, гдр' 'австралия-ирландия' 'сша - китай'\n",
      " 'великобритания - франция - австрия - швеция' 'россия, таджикистан'\n",
      " 'нидерланды - бельгия - болгария' 'великобритания - канада - сша'\n",
      " 'франция - бельгия - испания' 'китай-гонконг-сша'\n",
      " 'франция - великобритания' 'сша - вьетнам' 'сша - германия - франция'\n",
      " 'германия - франция - бельгия' 'сша - италия'\n",
      " 'германия - дания - испания - швеция - канада - эстония - франция'\n",
      " 'княжество андорра - украина' 'германия - люксембург - бельгия'\n",
      " 'великобритания - россия - украина - сша'\n",
      " 'германия - бельгия - люксембург - норвегия'\n",
      " 'сша - австралия - новая зеландия - великобритания'\n",
      " 'сша - франция - канада - великобритания' 'испания-колумбия'\n",
      " 'великобритания - чехия - франция' 'россия, украина' 'исландия'\n",
      " 'великобритания - франция - венгрия' 'россия, франция, германия, бельгия'\n",
      " 'франция - македония'\n",
      " 'нидерланды - франция - германия - бельгия - швеция - великобритания'\n",
      " 'испания - сша - великобритания - канада' 'германия - австрия'\n",
      " 'республика казахстан' 'франция - испания - дания - венгрия - швейцария'\n",
      " 'франция-кнр' 'сша - пуэрто-рико - франция ' 'мексика - тайвань - сша'\n",
      " 'великобритания - испания - непал - индия - венгрия - гонконг - германия - дания - бахрейн'\n",
      " 'великобритания - аргентина - сша - франция - россия - испания'\n",
      " 'кнр - сша' 'италия - сша' 'финляндия - швеция - германия'\n",
      " 'канада- испания' 'франция - бельгия - чехия' 'франция-бельгия-канада'\n",
      " 'франция - германия - сша' 'сша - дания' 'индия - кнр'\n",
      " 'чехия-великобритания-сша' 'сша-фрг-россия'\n",
      " 'ирландия-нидерланды-франция-сша-великобритания'\n",
      " 'россия, грузия, хорватия, испания' 'финляндия - швеция - норвегия'\n",
      " 'сербия - великобритания - сша'\n",
      " 'сша - великобритания - франция - гонконг' 'швейцария - франция'\n",
      " 'швейцария - великобритания' 'оаэ - сша'\n",
      " 'сша - франция - германия - канада - австралия ' 'германия - австралия'\n",
      " 'иран, франция' 'сша - великобритания - новая зеландия' 'сша-колумбия'\n",
      " 'сша-франция-ирландия' 'великобритания - франция - бельгия'\n",
      " 'сша - великобритания - япония' 'сша - франция - германия'\n",
      " 'польша - ирландия' 'ирландия - великобритания - франция - сша'\n",
      " 'сша - бельгия - великобритания' 'ссср, внр'\n",
      " 'испания - франция - сша - великобритания - бельгия'\n",
      " 'франция - дания - сша' 'сша - гонконг' 'бразилия - к;анада'\n",
      " 'франция-германия' 'сша - колумбия'\n",
      " 'сша - ирландия - великобритания - франция'\n",
      " 'великобритания - сша - канада' 'польша - франция'\n",
      " 'канада - сша - нидерланды - великобритания - аргентина'\n",
      " 'великобритания - дания' 'франция - бельгия - япония' 'россия,  испания'\n",
      " 'франция -бельгия' 'сша - канада - германия - франция'\n",
      " 'сша-канада-франция' 'россия - германия' 'россия-италия'\n",
      " 'китай - гонконг' 'германия-австрия-франция-италия' 'сша-япония'\n",
      " 'сша - германия - канада' 'испания-мексика'\n",
      " 'сша - япония - канада - великобритания - германия - франция'\n",
      " 'сша -великобритания - австралия' 'россия-украина-германия'\n",
      " 'израиль - франция - великобритания - германия' 'корея'\n",
      " 'россия - болгария' 'сша-индия' 'германия-канада-франция-бельгия'\n",
      " 'германия-кения' 'франция - монако' 'франция-испания-швейцария'\n",
      " 'австрия-франция-германия' 'румыния' 'сша-великобритания-франция'\n",
      " 'канада-великобритания' 'канада-бразилия-япония'\n",
      " 'германия - дания - норвегия' 'дания - германия' 'ссср - италия'\n",
      " 'ссср - гдр - польша - италия' 'сша - испания - франция - великобритания'\n",
      " 'китай' 'мексика-аргентина'\n",
      " 'германия - великобритания - италия - испания'\n",
      " 'франция-германия-великобритания' 'россия - германия - швейцария'\n",
      " 'франция-австралия' 'голландия' 'швейцария-франция' 'россия-белоруссия'\n",
      " 'франция - испания - тайвань' 'сша-южная корея-новая зеландия'\n",
      " 'великобритания-венгрия' 'россия-германия'\n",
      " 'великобритания-франция-германия' 'франция-германия-италия'\n",
      " 'швеция-финляндия-франция-норвегия' 'франция-италия' 'германия-израиль'\n",
      " 'швеция - германия - дания - норвегия' 'сша-бельгия'\n",
      " 'франция-гонконг-ирландия' 'эстония' 'литва-россия-украина'\n",
      " 'германия - италия - франция' 'великобритания - австрия - германия'\n",
      " 'бельгия - франция' 'россия-казахстан' 'испания - мальта'\n",
      " 'франция-россия-румыния-италия-бельгия' 'россия - польша'\n",
      " 'испания - мексика' 'сша-аргентина' 'великобритания '\n",
      " 'израиль-сша-франция' 'сша - новая зеландия - япония'\n",
      " 'франция - чехия - великобритания' 'россия-польша'\n",
      " 'германия-франция-великобритания' 'сша-германия-канада'\n",
      " 'сша-гонконг-китай' 'сша - великобритания - германия'\n",
      " 'сша-канада-австралия' 'япония-сша-франция' 'франция-испания-германия'\n",
      " 'сша - хорватия - босния-герцеговина'\n",
      " 'великобритания - чехия - франция - италия' 'сша - германия - нидерланды'\n",
      " 'германия - франция - канада'\n",
      " 'франция-грузия-германия-россия-украина-бельгия'\n",
      " 'великобритания - франция - италия' 'россия - сша'\n",
      " 'франция - италия - иран' 'россия - азербайджан' 'греция' 'дания - сша'\n",
      " 'сша-великобритания-новая зеландия' 'сша-германия-австралия'\n",
      " 'сша-канада-италия' 'сша - япония - германия' 'австралия-сша'\n",
      " 'франция - великобритания - багамские острова - сша'\n",
      " 'швейцария - люксембург' 'швейцария - австрия' 'германия - швейцария'\n",
      " 'дания-швеция-франция-германия' 'польша' 'швейцария-австрия'\n",
      " 'бразилия - канада - сша' 'нидерланды - россия' 'португалия'\n",
      " 'франция-аргентина' 'швеция-франция' 'франция-украина'\n",
      " 'германия-украина-нидерланды' 'италия-швейцария'\n",
      " 'сша-германия-великобритания' 'латвия - россия'\n",
      " 'германия-франция-великобритания-сша' 'канада - италия'\n",
      " 'сша - объединенные арабские эмираты' 'сша-венгрия' 'малайзия'\n",
      " 'россия - германия - украина' 'сша - австралия - мексика'\n",
      " 'литва - венгрия' 'германия - китай' 'казахстан' 'республика корея'\n",
      " 'сша - германия - франция - великобритания - канада '\n",
      " 'бельгия - германия - люксембург - франция' 'франция - греция'\n",
      " 'италия - канада' 'сша - великобритания - франция' 'сша-италия-греция'\n",
      " 'германия - сша - великобритания - ирландия'\n",
      " 'великобритания - франция - германия' 'германия - нидерланды - юар'\n",
      " 'сша-япония-германия-великобритания-нидерланды'\n",
      " 'сша-япония-германия-великобритания' 'германия - франция - польша'\n",
      " 'таиланд-великобритания-франция-германия-испания-нидерланды'\n",
      " 'германия-италия-швейцария'\n",
      " 'дания - швеция - великобритания - франция - германия - нидерланды - норвегия - финляндия'\n",
      " 'франция - великобритания - нидерланды - люксембург'\n",
      " 'нидерланды-великобритания-франция-италия-япония'\n",
      " 'финляндия-дания-германия-ирландия' 'испания-аргентина'\n",
      " 'великобритания - нидерланды - франция - сша' 'канада - мексика'\n",
      " 'сша, франция' 'канада-южная корея-сша'\n",
      " 'великобритания - франция - бельгия - сша' 'кнр - канада - сша'\n",
      " 'италия - франция - германия' 'швеция - германия - франция - дания'\n",
      " 'франция - сша - бельгия' 'украина - германия - латвия - эстония'\n",
      " 'австрия - люксембург' 'великобритания - кнр' 'монголия'\n",
      " 'франция - дания' 'швеция - дания - финляндия'\n",
      " 'сингапур - великобритания - индонезия - канада - сша'\n",
      " 'сша - германия - япония' 'таиланд - сша' 'франция - нидерланды'\n",
      " 'великобритания - румыния' 'сша - мальта'\n",
      " 'великобритания - германия - нидерланды - дания'\n",
      " 'франция - германия - литва - нидерланды - россия' 'сша - юар - гонконг'\n",
      " 'австралия - колумбия' 'великобритания - польша'\n",
      " 'сша - великобритания - швеция' 'франция - швеция - дания - норвегия'\n",
      " 'болгария - сша' 'ссср, фрг' 'бельгия - нидерланды - франция'\n",
      " 'финляндия - германия' 'болгария'\n",
      " 'грузия - россия - украина - хорватия - германия' 'франция - люксембург'\n",
      " 'франция - германия - австрия' 'норвегия - сша' 'германия-швеция'\n",
      " 'франция - германия - италия' 'франция-германия-австрия' 'кнр-сша'\n",
      " 'великобритания - ирландия - сша ' 'дания - латвия - россия - сша'\n",
      " 'финляндия - польша' 'германия - бельгия'\n",
      " 'германия - сша - франция - испания'\n",
      " 'бельгия-германия-канада-франция-сша-великобритания'\n",
      " 'нидерланды - бельгия - люксембург' 'канада-германия'\n",
      " 'люксембург - бельгия - франция' 'сша-великобритания-австралия'\n",
      " 'великобритания, новая зеландия' 'бельгия, великобритания, сша'\n",
      " 'великобритания, австралия' 'исландия, бельгия'\n",
      " 'испания - швейцария - великобритания - германия - новая зеландия - нидерланды - канада'\n",
      " 'франция, бельгия' 'великобритания, сша' 'киргизия-россия'\n",
      " 'германия, сша' 'великобритания, сша, испания'\n",
      " 'италия - швейцария - германия' 'россия, армения' 'франция, германия'\n",
      " 'китай, канада, сша' 'германия, австралия' 'кнр, сша'\n",
      " 'сша, великобритания, люксембург' 'испания, ирландия, бельгия, франция'\n",
      " 'великобритания - гонконг - венгрия - сша - ирландия' 'сша - пуэрто рико'\n",
      " 'аргентина - испания - уругвай'\n",
      " 'израиль - германия - франция - швейцария'\n",
      " 'великобритания - мексика - сша' 'испания - болгария - сша'\n",
      " 'россия-словакия-чехия'\n",
      " 'швейцария - кнр - сша - россия - республика корея - великобритания'\n",
      " 'россия, нидерланды, финляндия'\n",
      " 'испания - бельгия - франция - португалия - великобритания'\n",
      " 'бразилия - португалия - франция' 'швеция - норвегия'\n",
      " 'франция - польша - бельгия' 'cша' 'китай, сша'\n",
      " 'италия, франция, германия' 'германия - австрия - франция'\n",
      " 'чехия - словакия - хорватия' 'россия, польша, финляндия'\n",
      " 'россия, латвия, чешская республика'\n",
      " 'франция - великобритания - камбоджа - сша - кнр' 'чехия - испания - сша'\n",
      " 'германия - люксембург - дания' 'великобритания - испания - германия'\n",
      " 'дания - исландия' 'германия, франция, великобритания'\n",
      " 'великобритания - испания - италия - латвия - франция - эстония'\n",
      " 'дания, швеция, великобритания, франция, германия, норвегия, финляндия, нидерланды, италия'\n",
      " 'польша - франция - великобритания' 'дания, норвегия, венгрия, чехия'\n",
      " 'дания - франция - германия - швеция' 'великобритания, швеция, сша'\n",
      " 'канада, франция, италия, швейцария, сша' 'сша, индия'\n",
      " 'сша - великобритания - германия - - швеция - канада' 'италия, франция'\n",
      " 'республика беларусь, германия, сша, россия'\n",
      " 'италия-швейцария-франция-германия '\n",
      " 'россия - франция - великобритания - латвия' 'россия-беларусь'\n",
      " 'франция - испания - румыния - сша - бельгия' 'италия-сша'\n",
      " 'россия, австрия' 'ирландия - великобритания - сша'\n",
      " 'швейцария, великобритания, франция, сша, ирландия'\n",
      " 'мексика, франция, германия, дания, швеция' 'нидерланды, бельгия'\n",
      " 'швеция, норвегия, финляндия, франция' 'испания, франция, италия'\n",
      " 'испания-франция-греция-индия-сша-россия-великобритания'\n",
      " 'великобритания - япония - сша' 'дания, канада, норвегия, австралия, сша'\n",
      " 'аргентина, испания' 'россия, германия, казахстан, польша, китай'\n",
      " 'португалия, франция, польша, сша' 'сша - канада - аргентина' 'ливан-сша'\n",
      " 'япония - сша' 'сша, гонконг '\n",
      " 'франция - россия - швейцария - румыния - венгрия' 'аргентина-испания'\n",
      " 'россия, сербия' 'сша - болгария - мексика'\n",
      " 'сша - великобритания - швейцария - франция' 'таиланд - кнр - сша'\n",
      " 'великобритания, нидерланды, польша, швейцария, франция' 'ирландия - сша'\n",
      " 'германия - франция - великобритания - польша - сша'\n",
      " 'великобритания-франция-италия' 'сша - австралия - индия' 'франция - кнр'\n",
      " 'великобритания - израиль' 'великобритания - норвегия - кения - хорватия'\n",
      " 'сша - бразилия - великобритания - канада' 'германия, бельгия'\n",
      " 'австралия, канада' 'сша, великобритания, франция' 'кения, германия'\n",
      " 'нидерланды, бельгия, люксембург' 'колумбия' 'латвия - франция'\n",
      " 'ирландия, великобритания' 'франция - израиль - германия'\n",
      " 'швеция, франция, великобритания' 'бельгия - люксембург'\n",
      " 'германия - бельгия - великобритания'\n",
      " 'испания, франция, великобритания, дания, бельгия, германия'\n",
      " 'румыния, юар, иран, франция, канада, великобритания' 'германия, франция'\n",
      " 'сша, япония' 'сша, великобритания, ирландия, люксембург'\n",
      " 'республика армения' 'сша, франция, япония' 'япония, сша' 'канада, сша'\n",
      " 'республика кипр - россия'\n",
      " 'дания - франция - италия - бельгия - нидерланды' 'россия - грузия'\n",
      " 'италия, германия' 'норвегия, швеция, дания' 'республика кипр, россия'\n",
      " 'кнр, индия, гонконг, сша' 'израиль, украина' 'сша, россия'\n",
      " 'сша - кнр - индия - ю.корея' 'сша - швеция' 'франция, канада'\n",
      " 'россия-китай' 'канада, великобритания' 'сша, германия'\n",
      " 'канада, сша, каймановы острова'\n",
      " 'бразилия, уругвай, дания, норвегия, чили, швеция'\n",
      " 'пуэрто-рико, великобритания, сша' 'уругвай - аргентина - испания'\n",
      " 'сша - великобритания - италия - израиль - сербия - индия'\n",
      " 'сша - канада - франция - индия' 'великобритания - россия - кнр'\n",
      " 'франция, новая зеландия' 'франция, люксембург, бельгия'\n",
      " 'канада, сша, норвегия' 'италия, испания'\n",
      " 'испания - германия - нидерланды' 'бразилия - сша - кнр '\n",
      " 'великобритания, германия, дания, сша' '2019'\n",
      " 'италия - фрация - бразилия - германия' 'норвегия - швеция - россия'\n",
      " 'великобритания, япония, сша' 'сша, канада' 'бельгия, канада'\n",
      " 'великобритания - австралия - сша' 'кнр - сша ' 'франция - финляндия'\n",
      " 'колумбия - сша' 'великобритания, франция, бельгия'\n",
      " 'норвегия - нидерланды' 'великобритания, канада, сша'\n",
      " 'япония, великобритания' 'италия - бельгия - франция'\n",
      " 'россия, бельгия, финляндия' 'сша, украина' 'франция, норвегия'\n",
      " 'великобритания, южная корея, канада, сша, индия, китай, япония'\n",
      " 'канада - норвегия' 'республика кипр-россия' 'германия, россия'\n",
      " 'польша - франция - испания - бразилия - швеция'\n",
      " 'австрия, великобритания, германия' 'франция - сенегал - бельгия'\n",
      " 'франция, бельгия, люксембург' 'финляндия, латвия' 'пакистан'\n",
      " 'германия, франция, сша' 'германия - великобритания - сша'\n",
      " 'кнр - франция' 'дания, норвегия, швеция, исландия'\n",
      " 'республика кипр, сша, россия' 'новая зеландия - кнр'\n",
      " 'дания - канада - швеция - франция - германия - великобритания - сша']\n",
      "['кевин костнер' 'е.матвеев' 'тимур бекмамбетов' ... 'ник пауэлл'\n",
      " 'а.беляев' 'и.трусов']\n",
      "['дэвид валдес, кевин костнер, джейк эбертс' nan\n",
      " 'джим лемли, джейсон нетер, марк е.платт, яйн смит' ...\n",
      " 'поппи бегум, ник пойнц'\n",
      " 'джефф боулер, дэниэл гродник, луильо руис, брэт саксон, кирк шоу'\n",
      " 'дженнифер додж']\n",
      "['«18+» - запрещено для детей' '«6+» - для детей старше 6 лет'\n",
      " '«12+» - для детей старше 12 лет' '«16+» - для детей старше 16 лет'\n",
      " '«0+» - для любой зрительской аудитории']\n",
      "[nan 'Министерство культуры' 'Фонд кино'\n",
      " 'Министерство культуры, Фонд кино']\n",
      "['боевик' 'драма' 'фантастика' 'мелодрама' 'мюзикл' 'комедия' 'триллер'\n",
      " 'ужасы' 'мультфильм' nan 'военный' 'документальный' 'фэнтези' 'криминал'\n",
      " 'приключения' 'аниме' 'детектив' 'для взрослых' 'семейный' 'концерт'\n",
      " 'история' 'короткометражка' 'детский' 'спорт' 'биография' 'вестерн'\n",
      " 'музыка' 'фильм-нуар' 'реальное тв']\n"
     ]
    }
   ],
   "source": [
    "# С помощью цикла посмотрим на уникальные данные в категориальных данных.\n",
    "for column in ['type','production_country', 'director', 'producer', 'age_restriction', 'financing_source', 'one_genre']:\n",
    "    print(data[column].unique())"
   ]
  },
  {
   "cell_type": "markdown",
   "metadata": {},
   "source": [
    "Из уникальных данных видим, что встечаются пробелы в начале строки и в конце, п-ры:' анимационный' 'сша - франция - великобритания - бразилия '."
   ]
  },
  {
   "cell_type": "code",
   "execution_count": 26,
   "metadata": {},
   "outputs": [
    {
     "data": {
      "text/plain": [
       "array(['художественный', 'анимационный', 'прочие', 'документальный',\n",
       "       'научно-популярный', 'музыкально-развлекательный'], dtype=object)"
      ]
     },
     "execution_count": 26,
     "metadata": {},
     "output_type": "execute_result"
    }
   ],
   "source": [
    "# Удалю пропуски в столбце type в начале и в конце строки.\n",
    "data['type']= data['type'].str.strip()\n",
    "data['type'].unique()"
   ]
  },
  {
   "cell_type": "code",
   "execution_count": 27,
   "metadata": {},
   "outputs": [],
   "source": [
    "# Удалю пропуски для остальных слобцов.\n",
    "for column in ['production_country', 'director', 'producer', 'age_restriction', 'financing_source', 'one_genre']:\n",
    "    data[column]= data[column].str.strip()"
   ]
  },
  {
   "cell_type": "markdown",
   "metadata": {
    "id": "XFSN5lrEgFyR"
   },
   "source": [
    "#### Шаг 2.5. Проверьте количественные значения\n",
    "\n",
    "- Проверьте, обнаружились ли в таких столбцах подозрительные данные. Как с такими данными лучше поступить?\n",
    "\n",
    "<div id=\"accordion\">\n",
    "    <div class=\"card\">\n",
    "        <div class=\"card-header\" id=\"headingThree\">\n",
    "            <button class=\"btn btn-link collapsed\" data-toggle=\"collapse\" data-target=\"#collapseHint_budget\" aria-expanded=\"false\" aria-controls=\"collapseHint_budget\">Подсказка</button>\n",
    "        </div>\n",
    "        <div id=\"collapseHint_budget\" class=\"collapse\" aria-labelledby=\"headingThree\" data-parent=\"#accordion\">\n",
    "            <div class=\"card-body\">\n",
    "Обратите внимание на описание столбца <code>budget</code>. Как этот столбец соотносится с двумя другими: <code>refundable_support</code> и <code>nonrefundable_support</code>?\n",
    "            </div>\n",
    "        </div>\n",
    "    </div>\n",
    "</div>"
   ]
  },
  {
   "cell_type": "code",
   "execution_count": 28,
   "metadata": {
    "id": "YbzClBxagFyS",
    "scrolled": true
   },
   "outputs": [
    {
     "name": "stdout",
     "output_type": "stream",
     "text": [
      "[221048915 111013716 221038416 ... 124010819 124010619 124010719]\n",
      "[           nan 2.65000000e+07 2.60000000e+07 1.07847945e+08\n",
      " 2.80000000e+07 2.50000000e+07 1.00000000e+08 4.65022990e+07\n",
      " 7.50000000e+07 3.40000000e+07 3.00000000e+07 4.00000000e+07\n",
      " 2.30000000e+07 4.50000000e+07 5.65790550e+07 2.55000000e+07\n",
      " 2.75100000e+07 1.00000000e+07 2.40000000e+07 2.45000000e+07\n",
      " 2.70000000e+07 5.00000000e+06 9.00000000e+07 2.00000000e+07\n",
      " 7.00000000e+07 9.70000000e+07 2.44500000e+07 5.00000000e+07\n",
      " 0.00000000e+00 6.00000000e+07 2.75000000e+07 2.69500000e+07\n",
      " 1.10000000e+08 1.50000000e+07 5.90000000e+07 2.50000000e+08\n",
      " 3.70000000e+07 3.50000000e+07 2.01452850e+07 2.59000000e+07\n",
      " 6.00000000e+06 3.92104482e+08 2.52000000e+07 2.29040000e+07\n",
      " 2.90000000e+07 5.10000000e+07 4.70000000e+06 5.30000000e+06\n",
      " 2.17000000e+07 2.49860000e+07 2.53450000e+07 1.33000000e+08\n",
      " 1.75000000e+08 3.01239150e+07 2.85000000e+07 3.00000000e+08\n",
      " 4.15000000e+07 2.00000000e+08 1.50000000e+08 5.50000000e+07\n",
      " 6.40000000e+07 5.00008660e+07 1.15200000e+07 1.90000000e+08\n",
      " 2.25000000e+08 8.00000000e+06 4.00000000e+08 2.60000000e+08\n",
      " 3.10000000e+07 8.50000000e+07 8.00000000e+07 1.38969465e+08\n",
      " 1.20000000e+08 1.30000000e+08 1.40000000e+08 3.00000000e+06]\n",
      "[         nan 0.000000e+00 5.000000e+07 2.600000e+07 3.000000e+07\n",
      " 1.500000e+07 1.000000e+07 2.000000e+07 7.153119e+06 2.500000e+07\n",
      " 4.000000e+07 6.000000e+07 4.400000e+07 2.900000e+07 4.100000e+07\n",
      " 3.600000e+07 3.500000e+06 5.000000e+06 1.900000e+07 9.000000e+06\n",
      " 1.100000e+08 1.700000e+07 7.500000e+07 1.500000e+08 3.800000e+07\n",
      " 1.000000e+08 5.500000e+07 7.000000e+06 7.346881e+06 8.000000e+06\n",
      " 1.150000e+08 3.500000e+07 1.800000e+08 2.800000e+07 8.000000e+07]\n",
      "[           nan 7.94119000e+07 3.71428570e+07 1.76023490e+08\n",
      " 4.05741400e+07 4.00151220e+07 5.18500000e+07 2.20588394e+08\n",
      " 8.62100670e+07 1.39551503e+08 4.85714300e+07 8.00000000e+07\n",
      " 3.62595000e+07 7.08761720e+07 2.52489571e+08 7.49100000e+07\n",
      " 0.00000000e+00 8.97823120e+07 4.36437176e+08 4.05000000e+07\n",
      " 6.84906060e+07 4.50066090e+07 1.31000000e+08 5.00000000e+08\n",
      " 6.10114070e+07 4.00000000e+07 3.73712620e+07 3.52969500e+07\n",
      " 4.30000000e+07 7.74017510e+07 3.50000000e+07 5.11967110e+07\n",
      " 9.01200000e+07 2.67288892e+08 4.92804960e+07 4.90714280e+07\n",
      " 4.69688830e+07 5.51950000e+07 1.56360666e+08 3.74247960e+07\n",
      " 3.57600600e+07 2.81155800e+07 3.79436520e+07 1.38325738e+08\n",
      " 4.22525090e+07 3.99900000e+07 1.12000000e+08 5.57294240e+07\n",
      " 3.57142860e+07 1.39357211e+08 5.02187410e+07 4.02650000e+07\n",
      " 3.90579710e+07 9.25000000e+07 4.14978600e+07 8.62363940e+07\n",
      " 8.03241370e+07 2.40153900e+08 1.00274436e+08 4.02877700e+07\n",
      " 2.85714290e+07 3.84768690e+07 2.70000000e+07 8.16124110e+07\n",
      " 6.40300800e+07 8.02732770e+07 3.60000000e+08 1.30619336e+08\n",
      " 5.28600000e+07 1.11736163e+08 5.54049630e+07 7.33795540e+07\n",
      " 4.20000000e+07 1.05445546e+08 5.80784510e+07 1.34000000e+08\n",
      " 8.46670380e+07 1.64780000e+08 4.19989840e+07 5.95607460e+07\n",
      " 7.40719180e+07 3.90000000e+07 8.53840000e+07 1.50008573e+08\n",
      " 5.21246380e+07 2.11810247e+08 6.35283867e+08 3.78891650e+07\n",
      " 4.62000000e+07 7.59409410e+07 5.42096570e+07 9.00000000e+07\n",
      " 6.94287280e+07 6.98830490e+07 4.28600000e+07 4.61600000e+07\n",
      " 6.20446460e+07 4.86611500e+07 3.99075326e+08 6.10700000e+07\n",
      " 3.84615380e+07 4.55386550e+07 3.80000000e+07 5.69095200e+07\n",
      " 5.38462000e+07 1.79257987e+08 1.09020947e+08 9.02767740e+07\n",
      " 7.86865000e+07 1.44624640e+07 2.15860000e+08 5.00000000e+07\n",
      " 7.00000000e+07 9.10000000e+07 3.70009900e+07 2.22177790e+08\n",
      " 3.84400000e+07 6.82942000e+07 1.62630398e+08 2.26271533e+08\n",
      " 5.28441977e+08 5.99374700e+07 7.50001350e+07 2.22513841e+08\n",
      " 4.61954270e+07 6.88092260e+07 6.10000000e+07 6.84200536e+08\n",
      " 2.87802711e+08 7.00864390e+07 6.30000000e+07 3.85000000e+07\n",
      " 1.10464061e+08 9.50000000e+07 1.13837339e+08 5.43032220e+07\n",
      " 4.30000000e+08 1.82659393e+08 3.23232109e+08 5.78743750e+07\n",
      " 2.06982031e+08 1.20000000e+08 2.02484224e+08 9.08227660e+07\n",
      " 3.60162690e+07 1.26932894e+08 5.46875000e+07 2.43122945e+08\n",
      " 3.13053130e+07 2.15162287e+08 3.78787870e+07 2.10405981e+08\n",
      " 3.20000000e+08 4.61538870e+07 1.80000000e+08 4.54832330e+07\n",
      " 4.06008000e+07 2.04674000e+08 3.44905389e+08 1.28570000e+08\n",
      " 6.50000000e+07 4.73280000e+07 1.87060800e+07 5.77670810e+07\n",
      " 9.02780630e+07 5.40000000e+07 6.31700000e+07 4.66573110e+07\n",
      " 3.00000000e+07 1.03290596e+09 7.70000000e+07 8.35534120e+07\n",
      " 1.57236080e+08 5.71667970e+07 4.93733957e+08 3.52477575e+08\n",
      " 7.80963150e+07 2.19398491e+08 7.42751000e+07 5.00012729e+08\n",
      " 3.84667000e+07 1.81664180e+07 4.86808580e+07 1.36230333e+08\n",
      " 5.84473010e+07 1.50000000e+08 1.74381922e+08 1.30000000e+08\n",
      " 5.90192191e+08 1.74464395e+08 4.46000000e+07 2.92412422e+08\n",
      " 1.70122675e+08 1.48585222e+08 6.00000000e+07 1.09609029e+08\n",
      " 8.28004880e+07 8.76491270e+07 2.04400968e+08 1.40005238e+08\n",
      " 1.10000000e+08 3.90191139e+08 1.09814241e+08 3.78491030e+07\n",
      " 1.18000000e+08 2.98500000e+08 2.00067392e+08 3.76000000e+07\n",
      " 1.14510306e+08 3.91292890e+07 9.50655460e+07 3.85000000e+08\n",
      " 3.08000000e+07 3.77656540e+07 6.20000000e+07 1.68271268e+08\n",
      " 1.11812387e+08 4.50450500e+07 1.81302726e+08 7.03050000e+07\n",
      " 8.24968890e+07 6.03735760e+07 7.69130580e+07 4.69237760e+07\n",
      " 4.82380750e+07 9.30000000e+07 4.50745470e+07 1.54245687e+08\n",
      " 1.72763618e+08 1.85500705e+08 3.97000000e+07 1.79708770e+08\n",
      " 5.63784717e+08 3.56550000e+08 3.35567667e+08 1.23714264e+08\n",
      " 1.15000000e+08 4.42865840e+07 5.66935590e+07 1.01463696e+08\n",
      " 1.08518988e+08 4.99826569e+08 4.69411400e+07 7.83551540e+07\n",
      " 1.02760000e+08 2.64578774e+08 1.69000000e+08 2.40041307e+08\n",
      " 1.65222908e+08 4.53704666e+08 3.77442800e+07 3.88582600e+07\n",
      " 3.75000000e+07 4.80000000e+07 4.61538460e+07 1.05721524e+08\n",
      " 4.10000000e+07 6.15714490e+07 4.63000000e+07 4.72000000e+07\n",
      " 3.00000000e+08 5.50000000e+07 6.06685760e+07 4.50500000e+07\n",
      " 7.15176310e+07 1.50100000e+07 6.01503760e+07 6.47929130e+07\n",
      " 6.79427180e+07 2.30507430e+09 1.01659240e+08 6.24157490e+07\n",
      " 1.54989700e+08 7.79941965e+08 3.30000000e+07 1.47866278e+08\n",
      " 5.78760000e+07 2.50000000e+08 1.40025000e+08 3.04489110e+07\n",
      " 7.50000000e+07 3.60054850e+08 4.77340500e+07 7.84222120e+07\n",
      " 2.70000000e+08 1.60000000e+08 9.80000000e+08 1.90000000e+08\n",
      " 9.44000000e+08 4.61540000e+07 1.50147502e+08]\n",
      "[7.2 6.6 6.8 7.7 8.3 8.  7.8 8.1 7.1 6.  7.4 5.8 8.7 6.3 6.9 5.  4.3 7.3\n",
      " 7.  6.4 nan 8.2 7.5 6.7 7.9 5.9 6.2 5.6 6.5 2.4 7.6 6.1 8.6 8.5 8.8 5.5\n",
      " 5.1 5.7 5.4 4.4 4.5 5.3 4.1 8.4 2.6 3.8 4.6 4.8 4.  3.  1.6 4.2 5.2 4.7\n",
      " 4.9 3.9 2.7 3.3 2.9 3.7 1.4 3.1 3.5 3.2 2.8 1.5 2.1 2.5 9.2 3.4 1.1 3.6\n",
      " 1.  1.3 1.9 1.8 1.2 1.7 9.  8.9 9.1]\n",
      "[3.32556087e+08 3.88547576e+07 3.47485482e+08 4.83330529e+06\n",
      "            nan 1.95500000e+03 1.00000000e+02 7.64972399e+06\n",
      " 2.82246297e+08 1.05816477e+07 5.88543906e+07 6.52272482e+07\n",
      " 3.48687250e+06 8.30766690e+06 5.79136194e+07 9.88828553e+06\n",
      " 2.40158279e+07 4.88049085e+06 2.40059165e+06 3.97382084e+07\n",
      " 7.85641327e+07 6.32103208e+07 3.27651152e+07 2.40316457e+07\n",
      " 1.68704520e+07 9.22058268e+06 3.14133390e+08 1.56749850e+06\n",
      " 1.43407250e+06 3.98118450e+06 3.33860154e+07 1.15868508e+06\n",
      " 2.79128157e+08 1.91167403e+08 1.38582903e+08 9.76730000e+05\n",
      " 2.84884564e+06 5.44526061e+08 1.19471177e+08 2.15116522e+07\n",
      " 2.20688709e+07 1.85245173e+06 4.19937356e+06 1.80178345e+06\n",
      " 7.99332302e+07 3.28339911e+08 1.57895945e+08 3.13040229e+07\n",
      " 4.12419726e+07 1.63239646e+07 3.03272274e+08 9.54261573e+07\n",
      " 3.43561114e+07 5.61845606e+07 4.96236697e+07 1.45424284e+08\n",
      " 1.52228467e+06 8.38975018e+07 7.34049429e+07 6.85927905e+07\n",
      " 7.23375544e+07 1.75169181e+07 5.66873240e+07 4.70939401e+07\n",
      " 8.65013857e+07 1.04886966e+07 4.26889364e+07 4.56897388e+07\n",
      " 8.22023000e+05 3.31682299e+06 2.97942100e+06 5.58728084e+07\n",
      " 7.86266760e+05 2.57400000e+04 2.10967204e+07 3.94204575e+08\n",
      " 3.68791553e+08 8.94923277e+07 2.38790298e+08 3.55930150e+06\n",
      " 5.11108101e+07 2.08053031e+07 6.41710500e+05 7.38699958e+08\n",
      " 1.15311501e+08 1.99324581e+08 1.48797752e+08 1.34224531e+08\n",
      " 1.06288073e+07 5.81086899e+06 1.27571530e+07 1.19987099e+07\n",
      " 4.37489544e+07 7.84000000e+03 3.67905400e+06 8.85015750e+05\n",
      " 2.34202743e+07 3.43866093e+08 2.32927043e+08 7.15317373e+07\n",
      " 1.00766549e+08 8.64000000e+03 8.72034207e+07 2.15713786e+06\n",
      " 2.81418285e+06 7.89226800e+05 8.93590219e+06 7.82275691e+06\n",
      " 1.86171570e+07 2.78046547e+07 2.09080450e+06 2.98932740e+07\n",
      " 2.52738100e+06 5.96364328e+07 2.99260193e+08 3.90000000e+03\n",
      " 3.82880566e+07 1.44163617e+08 2.30422248e+08 3.06183685e+08\n",
      " 3.35461989e+08 8.10988000e+06 3.09402599e+07 3.78000177e+08\n",
      " 2.40000000e+03 6.96331750e+05 3.04103543e+07 2.74768906e+08\n",
      " 2.21750000e+04 1.05447583e+07 5.24156613e+06 6.42571000e+05\n",
      " 1.50152533e+06 4.59112087e+07 1.74470932e+08 6.80836625e+07\n",
      " 3.27351500e+05 2.02404041e+07 1.52640830e+08 2.17954042e+07\n",
      " 5.42227923e+06 2.01546680e+06 1.02930872e+06 5.30506093e+07\n",
      " 3.16112859e+06 5.00927837e+05 1.57759313e+07 1.71540664e+08\n",
      " 2.07361537e+08 3.04968891e+08 1.36103107e+07 3.13416122e+07\n",
      " 1.04000780e+06 2.81621614e+08 8.70682188e+05 5.53197002e+06\n",
      " 5.25513986e+07 7.32287208e+08 1.87676934e+07 6.73133333e+03\n",
      " 2.98595429e+07 6.97905000e+04 1.98270000e+05 4.99715562e+08\n",
      " 8.56488262e+07 7.77623687e+06 5.56000000e+03 3.52392993e+07\n",
      " 5.08609646e+08 2.57668356e+07 2.08608143e+07 8.30580959e+07\n",
      " 1.66852824e+08 9.04933113e+05 3.66727307e+06 9.92359646e+06\n",
      " 1.76493769e+06 3.67708747e+08 4.35850252e+08 1.06125456e+08\n",
      " 8.26704750e+05 2.10649195e+07 1.65235700e+06 5.81137644e+06\n",
      " 3.34970713e+07 8.83733870e+07 2.87080590e+08 8.09030441e+06\n",
      " 6.09420001e+08 7.29205756e+07 1.57378311e+07 4.14407833e+05\n",
      " 2.23463943e+08 3.26057818e+07 1.89701996e+06 7.71680250e+05\n",
      " 6.07375107e+06 2.13943330e+07 8.74021440e+06 6.02668570e+07\n",
      " 8.73497547e+05 2.47007100e+06 2.73107973e+06 1.33745461e+08\n",
      " 3.95669663e+07 1.22937232e+07 2.57237783e+06 5.74142002e+07\n",
      " 9.06885871e+06 2.00568095e+06 9.79132500e+05 9.26020000e+04\n",
      " 4.38952611e+07 2.60955236e+08 1.59907531e+08 7.05020112e+08\n",
      " 4.48295250e+05 2.79007293e+08 1.44906623e+08 1.99600000e+03\n",
      " 1.44414511e+07 5.18807486e+07 1.39025485e+08 2.49240110e+08\n",
      " 8.48200170e+05 7.76996250e+05 2.98087978e+07 2.47628690e+07\n",
      " 5.33605922e+06 1.62100000e+04 1.62709555e+06 4.98342834e+06\n",
      " 1.00689444e+07 2.42130158e+08 2.51052525e+07 2.50923301e+06\n",
      " 6.67410177e+07 1.14058260e+07 6.46981479e+07 2.57862500e+04\n",
      " 4.01513943e+06 8.14435519e+07 1.12890674e+08 3.25865140e+06\n",
      " 1.59988092e+07 2.01244825e+06 0.00000000e+00 9.49000000e+04\n",
      " 1.46014200e+06 4.20284281e+07 1.87971650e+07 2.16731221e+07\n",
      " 4.55106851e+08 1.19920938e+07 1.56027014e+07 2.37100289e+06\n",
      " 5.84779907e+07 4.48537013e+06 1.90715469e+08 1.18304209e+08\n",
      " 8.09314809e+07 1.59879167e+08 5.62633472e+08 1.06143532e+07\n",
      " 5.47408355e+06 3.33856406e+08 5.22568646e+07 5.58921825e+06\n",
      " 2.84806854e+07 1.86922000e+06 1.35020000e+05 1.92289385e+07\n",
      " 4.20536667e+04 5.08418417e+05 2.24174861e+08 1.46858077e+07\n",
      " 1.00673715e+09 1.10667492e+07 5.71331945e+07 1.15218821e+06\n",
      " 8.94128518e+06 6.74265022e+07 8.46597279e+06 1.67366287e+08\n",
      " 4.71932695e+08 1.09913580e+06 6.28107203e+06 2.36726426e+06\n",
      " 5.12831495e+07 4.98959857e+05 5.47755200e+06 2.05000000e+02\n",
      " 3.91215000e+04 2.72888549e+08 1.18158718e+08 1.78042855e+06\n",
      " 5.80847469e+07 4.75246529e+07 1.93431537e+07 1.05851874e+08\n",
      " 1.60087074e+07 1.47660048e+07 1.28129005e+07 1.28688817e+08\n",
      " 7.36100000e+04 2.82189887e+08 7.64204811e+06 1.97515000e+05\n",
      " 3.07780274e+07 5.90817887e+06 2.20917671e+07 4.41496477e+07\n",
      " 3.71056927e+08 1.16995793e+08 3.69695021e+08 2.17127746e+08\n",
      " 9.28461700e+05 9.08692857e+06 9.88413000e+05 3.25696000e+06\n",
      " 2.36382008e+08 1.36220748e+06 2.66065860e+06 1.67073240e+07\n",
      " 2.35278520e+08 2.22097950e+06 1.70287051e+08 2.82058932e+07\n",
      " 1.22766261e+08 1.32463588e+07 4.84165328e+07 2.93011000e+05\n",
      " 5.86436089e+07 4.07162109e+07 7.63480750e+05 5.04377323e+07\n",
      " 1.13433838e+08 3.04910000e+05 5.24950000e+04 1.06811213e+07\n",
      " 4.96311913e+06 1.94780000e+05 9.68944153e+05 2.76309000e+07\n",
      " 1.68688859e+08 2.97548800e+06 5.09876641e+07 1.67546392e+06\n",
      " 4.77981907e+06 9.68074400e+06 4.89877364e+07 4.79771189e+07\n",
      " 6.46721592e+08 5.88102741e+06 9.05421582e+07 2.90205023e+07\n",
      " 6.10163113e+06 6.82103793e+07 1.02858064e+07 7.93570074e+06\n",
      " 1.42000000e+03 6.75435001e+06 3.51163560e+08 1.18818714e+07\n",
      " 9.67931126e+08 6.18263000e+05 2.16000244e+08 3.06923425e+06\n",
      " 3.44531365e+08 2.75160403e+06 1.70000000e+03 4.53000000e+03\n",
      " 8.71944213e+07 1.66798615e+08 1.58979983e+06 5.09055000e+04\n",
      " 2.62040254e+08 1.80000000e+02 1.91525036e+07 4.25970499e+08\n",
      " 1.70513505e+08 5.17049860e+07 2.15022067e+07 1.43432671e+07\n",
      " 7.65615000e+04 6.50000000e+02 6.06002702e+07 1.58737685e+08\n",
      " 4.67454173e+05 2.41309020e+06 4.76180000e+05 3.27000000e+03\n",
      " 2.25838400e+06 1.29626700e+06 6.89253005e+05 4.16170667e+05\n",
      " 5.40000000e+02 2.89563425e+06 4.31178080e+06 1.90629715e+08\n",
      " 3.21750000e+04 3.73333333e+02 1.15402503e+08 3.54784000e+05\n",
      " 2.39600000e+03 1.40577500e+05 1.05442956e+08 1.22503616e+07\n",
      " 3.96642331e+06 3.06574775e+08 4.05000000e+02 4.38461310e+08\n",
      " 2.98221465e+07 1.01960095e+07 3.45691860e+07 5.12933678e+08\n",
      " 3.51193201e+07 2.10000000e+03 3.54470319e+07 1.16025000e+04\n",
      " 7.60169068e+07 1.44078910e+07 6.05430296e+06 1.21225634e+08\n",
      " 3.60000000e+02 1.13925887e+07 3.32254857e+08 4.39840000e+03\n",
      " 1.28049750e+06 5.70191805e+07 1.94140762e+07 2.04408803e+08\n",
      " 8.60810000e+05 8.12581000e+05 2.22715501e+06 3.06727992e+07\n",
      " 5.53997315e+06 1.68637625e+06 2.37323000e+05 8.61900000e+04\n",
      " 1.54102001e+08 1.88913217e+06 1.35275940e+09 1.42021730e+07\n",
      " 4.76662100e+05 7.25783174e+07 3.75951500e+05 4.70050000e+04\n",
      " 5.48410040e+06 5.50000000e+02 3.72667099e+07 7.60494580e+06\n",
      " 1.03555411e+07 3.41638290e+07]\n"
     ]
    }
   ],
   "source": [
    "# С помощью цикла посмотрим на количественные данных.\n",
    "for column in ['puNumber','nonrefundable_support', 'refundable_support', 'budget', 'ratings', 'box_office']:\n",
    "    print(data[column].unique())"
   ]
  },
  {
   "cell_type": "markdown",
   "metadata": {},
   "source": [
    "Никаких особенностей не нашла."
   ]
  },
  {
   "cell_type": "code",
   "execution_count": 29,
   "metadata": {},
   "outputs": [
    {
     "data": {
      "text/html": [
       "<div>\n",
       "<style scoped>\n",
       "    .dataframe tbody tr th:only-of-type {\n",
       "        vertical-align: middle;\n",
       "    }\n",
       "\n",
       "    .dataframe tbody tr th {\n",
       "        vertical-align: top;\n",
       "    }\n",
       "\n",
       "    .dataframe thead th {\n",
       "        text-align: right;\n",
       "    }\n",
       "</style>\n",
       "<table border=\"1\" class=\"dataframe\">\n",
       "  <thead>\n",
       "    <tr style=\"text-align: right;\">\n",
       "      <th></th>\n",
       "      <th>title</th>\n",
       "      <th>puNumber</th>\n",
       "      <th>show_start_date</th>\n",
       "      <th>type</th>\n",
       "      <th>film_studio</th>\n",
       "      <th>production_country</th>\n",
       "      <th>director</th>\n",
       "      <th>producer</th>\n",
       "      <th>age_restriction</th>\n",
       "      <th>refundable_support</th>\n",
       "      <th>nonrefundable_support</th>\n",
       "      <th>budget</th>\n",
       "      <th>financing_source</th>\n",
       "      <th>ratings</th>\n",
       "      <th>genres</th>\n",
       "      <th>box_office</th>\n",
       "      <th>one_genre</th>\n",
       "    </tr>\n",
       "  </thead>\n",
       "  <tbody>\n",
       "    <tr>\n",
       "      <th>0</th>\n",
       "      <td>открытый простор</td>\n",
       "      <td>221048915</td>\n",
       "      <td>2015-11-27 12:00:00</td>\n",
       "      <td>художественный</td>\n",
       "      <td>тачстоун пикчерз, кобальт пикчерз, бикон пикче...</td>\n",
       "      <td>сша</td>\n",
       "      <td>кевин костнер</td>\n",
       "      <td>дэвид валдес, кевин костнер, джейк эбертс</td>\n",
       "      <td>«18+» - запрещено для детей</td>\n",
       "      <td>NaN</td>\n",
       "      <td>NaN</td>\n",
       "      <td>NaN</td>\n",
       "      <td>NaN</td>\n",
       "      <td>7.2</td>\n",
       "      <td>боевик,драма,мелодрама</td>\n",
       "      <td>332,556,086.9</td>\n",
       "      <td>боевик</td>\n",
       "    </tr>\n",
       "    <tr>\n",
       "      <th>1</th>\n",
       "      <td>особо важное задание</td>\n",
       "      <td>111013716</td>\n",
       "      <td>2016-09-13 12:00:00</td>\n",
       "      <td>художественный</td>\n",
       "      <td>киностудия \"мосфильм\"</td>\n",
       "      <td>ссср</td>\n",
       "      <td>е.матвеев</td>\n",
       "      <td>NaN</td>\n",
       "      <td>«6+» - для детей старше 6 лет</td>\n",
       "      <td>NaN</td>\n",
       "      <td>NaN</td>\n",
       "      <td>NaN</td>\n",
       "      <td>NaN</td>\n",
       "      <td>6.6</td>\n",
       "      <td>драма,военный</td>\n",
       "      <td>38,854,757.6</td>\n",
       "      <td>драма</td>\n",
       "    </tr>\n",
       "    <tr>\n",
       "      <th>2</th>\n",
       "      <td>особо опасен</td>\n",
       "      <td>221038416</td>\n",
       "      <td>2016-10-10 12:00:00</td>\n",
       "      <td>художественный</td>\n",
       "      <td>юниверсал пикчерз, кикстарт продакшнз, марк пл...</td>\n",
       "      <td>сша</td>\n",
       "      <td>тимур бекмамбетов</td>\n",
       "      <td>джим лемли, джейсон нетер, марк е.платт, яйн смит</td>\n",
       "      <td>«18+» - запрещено для детей</td>\n",
       "      <td>NaN</td>\n",
       "      <td>NaN</td>\n",
       "      <td>NaN</td>\n",
       "      <td>NaN</td>\n",
       "      <td>6.8</td>\n",
       "      <td>фантастика,боевик,триллер</td>\n",
       "      <td>347,485,481.9</td>\n",
       "      <td>фантастика</td>\n",
       "    </tr>\n",
       "  </tbody>\n",
       "</table>\n",
       "</div>"
      ],
      "text/plain": [
       "                  title   puNumber     show_start_date            type  \\\n",
       "0      открытый простор  221048915 2015-11-27 12:00:00  художественный   \n",
       "1  особо важное задание  111013716 2016-09-13 12:00:00  художественный   \n",
       "2          особо опасен  221038416 2016-10-10 12:00:00  художественный   \n",
       "\n",
       "                                         film_studio production_country  \\\n",
       "0  тачстоун пикчерз, кобальт пикчерз, бикон пикче...                сша   \n",
       "1                              киностудия \"мосфильм\"               ссср   \n",
       "2  юниверсал пикчерз, кикстарт продакшнз, марк пл...                сша   \n",
       "\n",
       "            director                                           producer  \\\n",
       "0      кевин костнер          дэвид валдес, кевин костнер, джейк эбертс   \n",
       "1          е.матвеев                                                NaN   \n",
       "2  тимур бекмамбетов  джим лемли, джейсон нетер, марк е.платт, яйн смит   \n",
       "\n",
       "                 age_restriction  refundable_support  nonrefundable_support  \\\n",
       "0    «18+» - запрещено для детей                 NaN                    NaN   \n",
       "1  «6+» - для детей старше 6 лет                 NaN                    NaN   \n",
       "2    «18+» - запрещено для детей                 NaN                    NaN   \n",
       "\n",
       "   budget financing_source  ratings                     genres    box_office  \\\n",
       "0     NaN              NaN      7.2     боевик,драма,мелодрама 332,556,086.9   \n",
       "1     NaN              NaN      6.6              драма,военный  38,854,757.6   \n",
       "2     NaN              NaN      6.8  фантастика,боевик,триллер 347,485,481.9   \n",
       "\n",
       "    one_genre  \n",
       "0      боевик  \n",
       "1       драма  \n",
       "2  фантастика  "
      ]
     },
     "execution_count": 29,
     "metadata": {},
     "output_type": "execute_result"
    }
   ],
   "source": [
    "# Посмотрим на количесвенные данные.\n",
    "data.head(3)"
   ]
  },
  {
   "cell_type": "code",
   "execution_count": 30,
   "metadata": {},
   "outputs": [
    {
     "data": {
      "text/html": [
       "<div>\n",
       "<style scoped>\n",
       "    .dataframe tbody tr th:only-of-type {\n",
       "        vertical-align: middle;\n",
       "    }\n",
       "\n",
       "    .dataframe tbody tr th {\n",
       "        vertical-align: top;\n",
       "    }\n",
       "\n",
       "    .dataframe thead th {\n",
       "        text-align: right;\n",
       "    }\n",
       "</style>\n",
       "<table border=\"1\" class=\"dataframe\">\n",
       "  <thead>\n",
       "    <tr style=\"text-align: right;\">\n",
       "      <th></th>\n",
       "      <th>refundable_support</th>\n",
       "      <th>nonrefundable_support</th>\n",
       "      <th>budget</th>\n",
       "      <th>financing_source</th>\n",
       "    </tr>\n",
       "  </thead>\n",
       "  <tbody>\n",
       "    <tr>\n",
       "      <th>1281</th>\n",
       "      <td>0.0</td>\n",
       "      <td>26,500,000.0</td>\n",
       "      <td>79,411,900.0</td>\n",
       "      <td>Министерство культуры</td>\n",
       "    </tr>\n",
       "    <tr>\n",
       "      <th>1448</th>\n",
       "      <td>0.0</td>\n",
       "      <td>26,000,000.0</td>\n",
       "      <td>37,142,857.0</td>\n",
       "      <td>Министерство культуры</td>\n",
       "    </tr>\n",
       "    <tr>\n",
       "      <th>1498</th>\n",
       "      <td>0.0</td>\n",
       "      <td>107,847,945.0</td>\n",
       "      <td>176,023,490.0</td>\n",
       "      <td>Фонд кино</td>\n",
       "    </tr>\n",
       "    <tr>\n",
       "      <th>1524</th>\n",
       "      <td>0.0</td>\n",
       "      <td>28,000,000.0</td>\n",
       "      <td>40,574,140.0</td>\n",
       "      <td>Министерство культуры</td>\n",
       "    </tr>\n",
       "    <tr>\n",
       "      <th>1792</th>\n",
       "      <td>0.0</td>\n",
       "      <td>25,000,000.0</td>\n",
       "      <td>40,015,122.0</td>\n",
       "      <td>Министерство культуры</td>\n",
       "    </tr>\n",
       "    <tr>\n",
       "      <th>...</th>\n",
       "      <td>...</td>\n",
       "      <td>...</td>\n",
       "      <td>...</td>\n",
       "      <td>...</td>\n",
       "    </tr>\n",
       "    <tr>\n",
       "      <th>7464</th>\n",
       "      <td>100,000,000.0</td>\n",
       "      <td>400,000,000.0</td>\n",
       "      <td>980,000,000.0</td>\n",
       "      <td>Фонд кино</td>\n",
       "    </tr>\n",
       "    <tr>\n",
       "      <th>7466</th>\n",
       "      <td>100,000,000.0</td>\n",
       "      <td>0.0</td>\n",
       "      <td>190,000,000.0</td>\n",
       "      <td>Фонд кино</td>\n",
       "    </tr>\n",
       "    <tr>\n",
       "      <th>7474</th>\n",
       "      <td>100,000,000.0</td>\n",
       "      <td>400,000,000.0</td>\n",
       "      <td>944,000,000.0</td>\n",
       "      <td>Фонд кино</td>\n",
       "    </tr>\n",
       "    <tr>\n",
       "      <th>7476</th>\n",
       "      <td>0.0</td>\n",
       "      <td>30,000,000.0</td>\n",
       "      <td>46,154,000.0</td>\n",
       "      <td>Министерство культуры</td>\n",
       "    </tr>\n",
       "    <tr>\n",
       "      <th>7478</th>\n",
       "      <td>40,000,000.0</td>\n",
       "      <td>60,000,000.0</td>\n",
       "      <td>150,147,502.0</td>\n",
       "      <td>Фонд кино</td>\n",
       "    </tr>\n",
       "  </tbody>\n",
       "</table>\n",
       "<p>332 rows × 4 columns</p>\n",
       "</div>"
      ],
      "text/plain": [
       "      refundable_support  nonrefundable_support        budget  \\\n",
       "1281                 0.0           26,500,000.0  79,411,900.0   \n",
       "1448                 0.0           26,000,000.0  37,142,857.0   \n",
       "1498                 0.0          107,847,945.0 176,023,490.0   \n",
       "1524                 0.0           28,000,000.0  40,574,140.0   \n",
       "1792                 0.0           25,000,000.0  40,015,122.0   \n",
       "...                  ...                    ...           ...   \n",
       "7464       100,000,000.0          400,000,000.0 980,000,000.0   \n",
       "7466       100,000,000.0                    0.0 190,000,000.0   \n",
       "7474       100,000,000.0          400,000,000.0 944,000,000.0   \n",
       "7476                 0.0           30,000,000.0  46,154,000.0   \n",
       "7478        40,000,000.0           60,000,000.0 150,147,502.0   \n",
       "\n",
       "           financing_source  \n",
       "1281  Министерство культуры  \n",
       "1448  Министерство культуры  \n",
       "1498              Фонд кино  \n",
       "1524  Министерство культуры  \n",
       "1792  Министерство культуры  \n",
       "...                     ...  \n",
       "7464              Фонд кино  \n",
       "7466              Фонд кино  \n",
       "7474              Фонд кино  \n",
       "7476  Министерство культуры  \n",
       "7478              Фонд кино  \n",
       "\n",
       "[332 rows x 4 columns]"
      ]
     },
     "execution_count": 30,
     "metadata": {},
     "output_type": "execute_result"
    }
   ],
   "source": [
    "# Посмотрим, что представляют из себя возвратные и невозвратные средства гос.поддержки, а также бюджета.\n",
    "data.loc[data['budget'].isna() == False][['refundable_support','nonrefundable_support', 'budget', 'financing_source']]"
   ]
  },
  {
   "cell_type": "code",
   "execution_count": 31,
   "metadata": {},
   "outputs": [
    {
     "data": {
      "text/html": [
       "<div>\n",
       "<style scoped>\n",
       "    .dataframe tbody tr th:only-of-type {\n",
       "        vertical-align: middle;\n",
       "    }\n",
       "\n",
       "    .dataframe tbody tr th {\n",
       "        vertical-align: top;\n",
       "    }\n",
       "\n",
       "    .dataframe thead th {\n",
       "        text-align: right;\n",
       "    }\n",
       "</style>\n",
       "<table border=\"1\" class=\"dataframe\">\n",
       "  <thead>\n",
       "    <tr style=\"text-align: right;\">\n",
       "      <th></th>\n",
       "      <th>refundable_support</th>\n",
       "      <th>nonrefundable_support</th>\n",
       "      <th>budget</th>\n",
       "      <th>financing_source</th>\n",
       "    </tr>\n",
       "  </thead>\n",
       "  <tbody>\n",
       "    <tr>\n",
       "      <th>1281</th>\n",
       "      <td>0.0</td>\n",
       "      <td>26,500,000.0</td>\n",
       "      <td>79,411,900.0</td>\n",
       "      <td>Министерство культуры</td>\n",
       "    </tr>\n",
       "    <tr>\n",
       "      <th>1448</th>\n",
       "      <td>0.0</td>\n",
       "      <td>26,000,000.0</td>\n",
       "      <td>37,142,857.0</td>\n",
       "      <td>Министерство культуры</td>\n",
       "    </tr>\n",
       "    <tr>\n",
       "      <th>1498</th>\n",
       "      <td>0.0</td>\n",
       "      <td>107,847,945.0</td>\n",
       "      <td>176,023,490.0</td>\n",
       "      <td>Фонд кино</td>\n",
       "    </tr>\n",
       "    <tr>\n",
       "      <th>1524</th>\n",
       "      <td>0.0</td>\n",
       "      <td>28,000,000.0</td>\n",
       "      <td>40,574,140.0</td>\n",
       "      <td>Министерство культуры</td>\n",
       "    </tr>\n",
       "    <tr>\n",
       "      <th>1792</th>\n",
       "      <td>0.0</td>\n",
       "      <td>25,000,000.0</td>\n",
       "      <td>40,015,122.0</td>\n",
       "      <td>Министерство культуры</td>\n",
       "    </tr>\n",
       "    <tr>\n",
       "      <th>...</th>\n",
       "      <td>...</td>\n",
       "      <td>...</td>\n",
       "      <td>...</td>\n",
       "      <td>...</td>\n",
       "    </tr>\n",
       "    <tr>\n",
       "      <th>7464</th>\n",
       "      <td>100,000,000.0</td>\n",
       "      <td>400,000,000.0</td>\n",
       "      <td>980,000,000.0</td>\n",
       "      <td>Фонд кино</td>\n",
       "    </tr>\n",
       "    <tr>\n",
       "      <th>7466</th>\n",
       "      <td>100,000,000.0</td>\n",
       "      <td>0.0</td>\n",
       "      <td>190,000,000.0</td>\n",
       "      <td>Фонд кино</td>\n",
       "    </tr>\n",
       "    <tr>\n",
       "      <th>7474</th>\n",
       "      <td>100,000,000.0</td>\n",
       "      <td>400,000,000.0</td>\n",
       "      <td>944,000,000.0</td>\n",
       "      <td>Фонд кино</td>\n",
       "    </tr>\n",
       "    <tr>\n",
       "      <th>7476</th>\n",
       "      <td>0.0</td>\n",
       "      <td>30,000,000.0</td>\n",
       "      <td>46,154,000.0</td>\n",
       "      <td>Министерство культуры</td>\n",
       "    </tr>\n",
       "    <tr>\n",
       "      <th>7478</th>\n",
       "      <td>40,000,000.0</td>\n",
       "      <td>60,000,000.0</td>\n",
       "      <td>150,147,502.0</td>\n",
       "      <td>Фонд кино</td>\n",
       "    </tr>\n",
       "  </tbody>\n",
       "</table>\n",
       "<p>315 rows × 4 columns</p>\n",
       "</div>"
      ],
      "text/plain": [
       "      refundable_support  nonrefundable_support        budget  \\\n",
       "1281                 0.0           26,500,000.0  79,411,900.0   \n",
       "1448                 0.0           26,000,000.0  37,142,857.0   \n",
       "1498                 0.0          107,847,945.0 176,023,490.0   \n",
       "1524                 0.0           28,000,000.0  40,574,140.0   \n",
       "1792                 0.0           25,000,000.0  40,015,122.0   \n",
       "...                  ...                    ...           ...   \n",
       "7464       100,000,000.0          400,000,000.0 980,000,000.0   \n",
       "7466       100,000,000.0                    0.0 190,000,000.0   \n",
       "7474       100,000,000.0          400,000,000.0 944,000,000.0   \n",
       "7476                 0.0           30,000,000.0  46,154,000.0   \n",
       "7478        40,000,000.0           60,000,000.0 150,147,502.0   \n",
       "\n",
       "           financing_source  \n",
       "1281  Министерство культуры  \n",
       "1448  Министерство культуры  \n",
       "1498              Фонд кино  \n",
       "1524  Министерство культуры  \n",
       "1792  Министерство культуры  \n",
       "...                     ...  \n",
       "7464              Фонд кино  \n",
       "7466              Фонд кино  \n",
       "7474              Фонд кино  \n",
       "7476  Министерство культуры  \n",
       "7478              Фонд кино  \n",
       "\n",
       "[315 rows x 4 columns]"
      ]
     },
     "execution_count": 31,
     "metadata": {},
     "output_type": "execute_result"
    }
   ],
   "source": [
    "# Посмотрим, что представляет из себя бюджет со значениями больше 0.\n",
    "data.loc[data['budget'] > 0][['refundable_support','nonrefundable_support', 'budget', 'financing_source']]"
   ]
  },
  {
   "cell_type": "markdown",
   "metadata": {},
   "source": [
    "По данным видим, что в столбце budget 17 нулевых значений. Из описания к данным знаем, что budget включает в себя полный объём государственной поддержки, но видим, что их сумма не дает значение, равное значению в budget. Значит есть еще дополнительные источники финансирования. И заполнить нулевые значения суммой столбцов refundable_support и nonrefundable_support мы не можем, т.к. значение будет меньше реального, что может повлиять на дальнейшие расчеты и выводы. "
   ]
  },
  {
   "cell_type": "code",
   "execution_count": 32,
   "metadata": {},
   "outputs": [],
   "source": [
    "# Удалим нулевые значения в столбце budget\n",
    "data['budget'] = data['budget'].replace(0, np.nan)\n",
    "data['budget'] = data['budget'].dropna(how='all', axis=0)"
   ]
  },
  {
   "cell_type": "code",
   "execution_count": 33,
   "metadata": {},
   "outputs": [
    {
     "name": "stdout",
     "output_type": "stream",
     "text": [
      "<class 'pandas.core.frame.DataFrame'>\n",
      "Int64Index: 7485 entries, 0 to 7485\n",
      "Data columns (total 17 columns):\n",
      " #   Column                 Non-Null Count  Dtype         \n",
      "---  ------                 --------------  -----         \n",
      " 0   title                  7485 non-null   object        \n",
      " 1   puNumber               7485 non-null   int64         \n",
      " 2   show_start_date        7485 non-null   datetime64[ns]\n",
      " 3   type                   7485 non-null   object        \n",
      " 4   film_studio            7467 non-null   object        \n",
      " 5   production_country     7483 non-null   object        \n",
      " 6   director               7476 non-null   object        \n",
      " 7   producer               6917 non-null   object        \n",
      " 8   age_restriction        7485 non-null   object        \n",
      " 9   refundable_support     332 non-null    float64       \n",
      " 10  nonrefundable_support  332 non-null    float64       \n",
      " 11  budget                 315 non-null    float64       \n",
      " 12  financing_source       332 non-null    object        \n",
      " 13  ratings                6490 non-null   float64       \n",
      " 14  genres                 6510 non-null   object        \n",
      " 15  box_office             3346 non-null   float64       \n",
      " 16  one_genre              6510 non-null   object        \n",
      "dtypes: datetime64[ns](1), float64(5), int64(1), object(10)\n",
      "memory usage: 1.0+ MB\n"
     ]
    }
   ],
   "source": [
    "data.info()"
   ]
  },
  {
   "cell_type": "code",
   "execution_count": 34,
   "metadata": {},
   "outputs": [
    {
     "data": {
      "text/html": [
       "<div>\n",
       "<style scoped>\n",
       "    .dataframe tbody tr th:only-of-type {\n",
       "        vertical-align: middle;\n",
       "    }\n",
       "\n",
       "    .dataframe tbody tr th {\n",
       "        vertical-align: top;\n",
       "    }\n",
       "\n",
       "    .dataframe thead th {\n",
       "        text-align: right;\n",
       "    }\n",
       "</style>\n",
       "<table border=\"1\" class=\"dataframe\">\n",
       "  <thead>\n",
       "    <tr style=\"text-align: right;\">\n",
       "      <th></th>\n",
       "      <th>budget</th>\n",
       "      <th>budget_0</th>\n",
       "      <th>budget_2</th>\n",
       "    </tr>\n",
       "  </thead>\n",
       "  <tbody>\n",
       "    <tr>\n",
       "      <th>1281</th>\n",
       "      <td>79,411,900.0</td>\n",
       "      <td>26,500,000.0</td>\n",
       "      <td>52,911,900.0</td>\n",
       "    </tr>\n",
       "    <tr>\n",
       "      <th>1448</th>\n",
       "      <td>37,142,857.0</td>\n",
       "      <td>26,000,000.0</td>\n",
       "      <td>11,142,857.0</td>\n",
       "    </tr>\n",
       "    <tr>\n",
       "      <th>1498</th>\n",
       "      <td>176,023,490.0</td>\n",
       "      <td>107,847,945.0</td>\n",
       "      <td>68,175,545.0</td>\n",
       "    </tr>\n",
       "    <tr>\n",
       "      <th>1524</th>\n",
       "      <td>40,574,140.0</td>\n",
       "      <td>28,000,000.0</td>\n",
       "      <td>12,574,140.0</td>\n",
       "    </tr>\n",
       "    <tr>\n",
       "      <th>1792</th>\n",
       "      <td>40,015,122.0</td>\n",
       "      <td>25,000,000.0</td>\n",
       "      <td>15,015,122.0</td>\n",
       "    </tr>\n",
       "    <tr>\n",
       "      <th>...</th>\n",
       "      <td>...</td>\n",
       "      <td>...</td>\n",
       "      <td>...</td>\n",
       "    </tr>\n",
       "    <tr>\n",
       "      <th>7464</th>\n",
       "      <td>980,000,000.0</td>\n",
       "      <td>500,000,000.0</td>\n",
       "      <td>480,000,000.0</td>\n",
       "    </tr>\n",
       "    <tr>\n",
       "      <th>7466</th>\n",
       "      <td>190,000,000.0</td>\n",
       "      <td>100,000,000.0</td>\n",
       "      <td>90,000,000.0</td>\n",
       "    </tr>\n",
       "    <tr>\n",
       "      <th>7474</th>\n",
       "      <td>944,000,000.0</td>\n",
       "      <td>500,000,000.0</td>\n",
       "      <td>444,000,000.0</td>\n",
       "    </tr>\n",
       "    <tr>\n",
       "      <th>7476</th>\n",
       "      <td>46,154,000.0</td>\n",
       "      <td>30,000,000.0</td>\n",
       "      <td>16,154,000.0</td>\n",
       "    </tr>\n",
       "    <tr>\n",
       "      <th>7478</th>\n",
       "      <td>150,147,502.0</td>\n",
       "      <td>100,000,000.0</td>\n",
       "      <td>50,147,502.0</td>\n",
       "    </tr>\n",
       "  </tbody>\n",
       "</table>\n",
       "<p>315 rows × 3 columns</p>\n",
       "</div>"
      ],
      "text/plain": [
       "            budget      budget_0      budget_2\n",
       "1281  79,411,900.0  26,500,000.0  52,911,900.0\n",
       "1448  37,142,857.0  26,000,000.0  11,142,857.0\n",
       "1498 176,023,490.0 107,847,945.0  68,175,545.0\n",
       "1524  40,574,140.0  28,000,000.0  12,574,140.0\n",
       "1792  40,015,122.0  25,000,000.0  15,015,122.0\n",
       "...            ...           ...           ...\n",
       "7464 980,000,000.0 500,000,000.0 480,000,000.0\n",
       "7466 190,000,000.0 100,000,000.0  90,000,000.0\n",
       "7474 944,000,000.0 500,000,000.0 444,000,000.0\n",
       "7476  46,154,000.0  30,000,000.0  16,154,000.0\n",
       "7478 150,147,502.0 100,000,000.0  50,147,502.0\n",
       "\n",
       "[315 rows x 3 columns]"
      ]
     },
     "execution_count": 34,
     "metadata": {},
     "output_type": "execute_result"
    }
   ],
   "source": [
    "# Добавлю столбец budget_0, который будет показывать сумму возвратных и невозвратных средств, а также столбце budget_2,\n",
    "# который отражает разницу между бюджетом и государственной поддержкой.\n",
    "data['budget_0'] = data.query('budget > 0')[['refundable_support','nonrefundable_support']].sum(axis=1) \n",
    "data['budget_2'] = data['budget'] - data['budget_0']\n",
    "data.loc[data['budget_0'] > 0][['budget', 'budget_0', 'budget_2']]"
   ]
  },
  {
   "cell_type": "code",
   "execution_count": 35,
   "metadata": {},
   "outputs": [
    {
     "data": {
      "image/png": "[encoded data removed]",
      "text/plain": [
       "<Figure size 360x576 with 1 Axes>"
      ]
     },
     "metadata": {
      "needs_background": "light"
     },
     "output_type": "display_data"
    },
    {
     "data": {
      "text/plain": [
       "count             315.0\n",
       "mean      134,096,082.3\n",
       "std       191,226,039.6\n",
       "min        14,462,464.0\n",
       "25%        46,153,866.5\n",
       "50%        73,379,554.0\n",
       "75%       150,004,286.5\n",
       "max     2,305,074,303.0\n",
       "Name: budget, dtype: float64"
      ]
     },
     "execution_count": 35,
     "metadata": {},
     "output_type": "execute_result"
    }
   ],
   "source": [
    "# Построим диаграмму размаха budget, чтобы посмотреть выбросы. \n",
    "data.boxplot(column=['budget'], figsize=(5, 8))\n",
    "plt.ylim(0, 1200000000)\n",
    "plt.show()\n",
    "data['budget'].describe()"
   ]
  },
  {
   "cell_type": "markdown",
   "metadata": {},
   "source": [
    "По столбцам budget_0 budget_2 видим, что между ними нет пропорциональной зависимости, поэтому оставим нулевые значения в столбце budget, чтобы данные были более правильными. \n",
    "\n",
    "Также с помощью диаграммы размаха видим, что в столбце budget присутствуют выбросы, причем некоторые значения в 2, 3 и более раз больше нормальных значений. Но это не значит, что мы должны избавиться от выбросов, т.к. это очень усреднит данные и уберет наиболее просматриваемые фильмы. "
   ]
  },
  {
   "cell_type": "markdown",
   "metadata": {
    "id": "Eu6oWp2CgFyS"
   },
   "source": [
    "#### Шаг 2.6. Добавьте новые столбцы\n",
    "\n",
    "\n",
    "\n"
   ]
  },
  {
   "cell_type": "markdown",
   "metadata": {
    "id": "7GgW-UpAgFyS"
   },
   "source": [
    "- Создайте столбец с информацией о годе проката. Выделите год из даты премьеры фильма."
   ]
  },
  {
   "cell_type": "code",
   "execution_count": 36,
   "metadata": {
    "id": "I-yd1DkWgFyT"
   },
   "outputs": [],
   "source": [
    "# Добавим столбец с годом.\n",
    "data['year'] = pd.DatetimeIndex(data['show_start_date']).year"
   ]
  },
  {
   "cell_type": "markdown",
   "metadata": {
    "id": "nFTDLDYOgFyT"
   },
   "source": [
    "- Создайте два столбца: с именем и фамилией главного режиссёра и основным жанром фильма. В столбцы войдут первые значения из списка режиссёров и жанров соответственно.\n",
    "\n",
    "<div id=\"accordion\">\n",
    "    <div class=\"card\">\n",
    "        <div class=\"card-header\" id=\"headingThree\">\n",
    "            <button class=\"btn btn-link collapsed\" data-toggle=\"collapse\" data-target=\"#collapseHint_2\" aria-expanded=\"false\" aria-controls=\"collapseHint_2\">Подсказка</button>\n",
    "        </div>\n",
    "        <div id=\"collapseHint_2\" class=\"collapse\" aria-labelledby=\"headingThree\" data-parent=\"#accordion\">\n",
    "            <div class=\"card-body\">\n",
    "Чтобы создать такие столбцы, лучше всего использовать собственную функцию. Эту функцию можно применить к двум столбцам сразу. \n",
    "            </div>\n",
    "        </div>\n",
    "    </div>\n",
    "</div>"
   ]
  },
  {
   "cell_type": "markdown",
   "metadata": {},
   "source": [
    "Столбец с основным жанром фильма создала на Шаге 2.2"
   ]
  },
  {
   "cell_type": "code",
   "execution_count": 37,
   "metadata": {},
   "outputs": [],
   "source": [
    "# Удалим пустые значения из столбца director, чтобы применить функцию следующим шагом. Можно удалить пустые значения,\n",
    "# потому что их не много  и их отсутсвие не должно повлиять на следующие вычисления.\n",
    "data = data.dropna(subset=['director'])"
   ]
  },
  {
   "cell_type": "code",
   "execution_count": 38,
   "metadata": {
    "id": "LSbRZKbMgFyU"
   },
   "outputs": [],
   "source": [
    "# Функция, которая отделяет первое слово или группу слов в строке до запятой.\n",
    "def first_name(value):\n",
    "    return value.split(',')[0]"
   ]
  },
  {
   "cell_type": "code",
   "execution_count": 39,
   "metadata": {},
   "outputs": [
    {
     "data": {
      "text/html": [
       "<div>\n",
       "<style scoped>\n",
       "    .dataframe tbody tr th:only-of-type {\n",
       "        vertical-align: middle;\n",
       "    }\n",
       "\n",
       "    .dataframe tbody tr th {\n",
       "        vertical-align: top;\n",
       "    }\n",
       "\n",
       "    .dataframe thead th {\n",
       "        text-align: right;\n",
       "    }\n",
       "</style>\n",
       "<table border=\"1\" class=\"dataframe\">\n",
       "  <thead>\n",
       "    <tr style=\"text-align: right;\">\n",
       "      <th></th>\n",
       "      <th>title</th>\n",
       "      <th>puNumber</th>\n",
       "      <th>show_start_date</th>\n",
       "      <th>type</th>\n",
       "      <th>film_studio</th>\n",
       "      <th>production_country</th>\n",
       "      <th>director</th>\n",
       "      <th>producer</th>\n",
       "      <th>age_restriction</th>\n",
       "      <th>refundable_support</th>\n",
       "      <th>nonrefundable_support</th>\n",
       "      <th>budget</th>\n",
       "      <th>financing_source</th>\n",
       "      <th>ratings</th>\n",
       "      <th>genres</th>\n",
       "      <th>box_office</th>\n",
       "      <th>one_genre</th>\n",
       "      <th>budget_0</th>\n",
       "      <th>budget_2</th>\n",
       "      <th>year</th>\n",
       "      <th>director_first</th>\n",
       "    </tr>\n",
       "  </thead>\n",
       "  <tbody>\n",
       "    <tr>\n",
       "      <th>0</th>\n",
       "      <td>открытый простор</td>\n",
       "      <td>221048915</td>\n",
       "      <td>2015-11-27 12:00:00</td>\n",
       "      <td>художественный</td>\n",
       "      <td>тачстоун пикчерз, кобальт пикчерз, бикон пикче...</td>\n",
       "      <td>сша</td>\n",
       "      <td>кевин костнер</td>\n",
       "      <td>дэвид валдес, кевин костнер, джейк эбертс</td>\n",
       "      <td>«18+» - запрещено для детей</td>\n",
       "      <td>NaN</td>\n",
       "      <td>NaN</td>\n",
       "      <td>NaN</td>\n",
       "      <td>NaN</td>\n",
       "      <td>7.2</td>\n",
       "      <td>боевик,драма,мелодрама</td>\n",
       "      <td>332,556,086.9</td>\n",
       "      <td>боевик</td>\n",
       "      <td>NaN</td>\n",
       "      <td>NaN</td>\n",
       "      <td>2015</td>\n",
       "      <td>кевин костнер</td>\n",
       "    </tr>\n",
       "    <tr>\n",
       "      <th>1</th>\n",
       "      <td>особо важное задание</td>\n",
       "      <td>111013716</td>\n",
       "      <td>2016-09-13 12:00:00</td>\n",
       "      <td>художественный</td>\n",
       "      <td>киностудия \"мосфильм\"</td>\n",
       "      <td>ссср</td>\n",
       "      <td>е.матвеев</td>\n",
       "      <td>NaN</td>\n",
       "      <td>«6+» - для детей старше 6 лет</td>\n",
       "      <td>NaN</td>\n",
       "      <td>NaN</td>\n",
       "      <td>NaN</td>\n",
       "      <td>NaN</td>\n",
       "      <td>6.6</td>\n",
       "      <td>драма,военный</td>\n",
       "      <td>38,854,757.6</td>\n",
       "      <td>драма</td>\n",
       "      <td>NaN</td>\n",
       "      <td>NaN</td>\n",
       "      <td>2016</td>\n",
       "      <td>е.матвеев</td>\n",
       "    </tr>\n",
       "    <tr>\n",
       "      <th>2</th>\n",
       "      <td>особо опасен</td>\n",
       "      <td>221038416</td>\n",
       "      <td>2016-10-10 12:00:00</td>\n",
       "      <td>художественный</td>\n",
       "      <td>юниверсал пикчерз, кикстарт продакшнз, марк пл...</td>\n",
       "      <td>сша</td>\n",
       "      <td>тимур бекмамбетов</td>\n",
       "      <td>джим лемли, джейсон нетер, марк е.платт, яйн смит</td>\n",
       "      <td>«18+» - запрещено для детей</td>\n",
       "      <td>NaN</td>\n",
       "      <td>NaN</td>\n",
       "      <td>NaN</td>\n",
       "      <td>NaN</td>\n",
       "      <td>6.8</td>\n",
       "      <td>фантастика,боевик,триллер</td>\n",
       "      <td>347,485,481.9</td>\n",
       "      <td>фантастика</td>\n",
       "      <td>NaN</td>\n",
       "      <td>NaN</td>\n",
       "      <td>2016</td>\n",
       "      <td>тимур бекмамбетов</td>\n",
       "    </tr>\n",
       "  </tbody>\n",
       "</table>\n",
       "</div>"
      ],
      "text/plain": [
       "                  title   puNumber     show_start_date            type  \\\n",
       "0      открытый простор  221048915 2015-11-27 12:00:00  художественный   \n",
       "1  особо важное задание  111013716 2016-09-13 12:00:00  художественный   \n",
       "2          особо опасен  221038416 2016-10-10 12:00:00  художественный   \n",
       "\n",
       "                                         film_studio production_country  \\\n",
       "0  тачстоун пикчерз, кобальт пикчерз, бикон пикче...                сша   \n",
       "1                              киностудия \"мосфильм\"               ссср   \n",
       "2  юниверсал пикчерз, кикстарт продакшнз, марк пл...                сша   \n",
       "\n",
       "            director                                           producer  \\\n",
       "0      кевин костнер          дэвид валдес, кевин костнер, джейк эбертс   \n",
       "1          е.матвеев                                                NaN   \n",
       "2  тимур бекмамбетов  джим лемли, джейсон нетер, марк е.платт, яйн смит   \n",
       "\n",
       "                 age_restriction  refundable_support  nonrefundable_support  \\\n",
       "0    «18+» - запрещено для детей                 NaN                    NaN   \n",
       "1  «6+» - для детей старше 6 лет                 NaN                    NaN   \n",
       "2    «18+» - запрещено для детей                 NaN                    NaN   \n",
       "\n",
       "   budget financing_source  ratings                     genres    box_office  \\\n",
       "0     NaN              NaN      7.2     боевик,драма,мелодрама 332,556,086.9   \n",
       "1     NaN              NaN      6.6              драма,военный  38,854,757.6   \n",
       "2     NaN              NaN      6.8  фантастика,боевик,триллер 347,485,481.9   \n",
       "\n",
       "    one_genre  budget_0  budget_2  year     director_first  \n",
       "0      боевик       NaN       NaN  2015      кевин костнер  \n",
       "1       драма       NaN       NaN  2016          е.матвеев  \n",
       "2  фантастика       NaN       NaN  2016  тимур бекмамбетов  "
      ]
     },
     "execution_count": 39,
     "metadata": {},
     "output_type": "execute_result"
    }
   ],
   "source": [
    "data['director_first'] = data['director'].apply(first_name)\n",
    "pd.set_option('display.max_columns', None)\n",
    "data.head(3)"
   ]
  },
  {
   "cell_type": "code",
   "execution_count": 40,
   "metadata": {},
   "outputs": [
    {
     "name": "stdout",
     "output_type": "stream",
     "text": [
      "<class 'pandas.core.frame.DataFrame'>\n",
      "Int64Index: 7476 entries, 0 to 7485\n",
      "Data columns (total 21 columns):\n",
      " #   Column                 Non-Null Count  Dtype         \n",
      "---  ------                 --------------  -----         \n",
      " 0   title                  7476 non-null   object        \n",
      " 1   puNumber               7476 non-null   int64         \n",
      " 2   show_start_date        7476 non-null   datetime64[ns]\n",
      " 3   type                   7476 non-null   object        \n",
      " 4   film_studio            7459 non-null   object        \n",
      " 5   production_country     7475 non-null   object        \n",
      " 6   director               7476 non-null   object        \n",
      " 7   producer               6912 non-null   object        \n",
      " 8   age_restriction        7476 non-null   object        \n",
      " 9   refundable_support     332 non-null    float64       \n",
      " 10  nonrefundable_support  332 non-null    float64       \n",
      " 11  budget                 315 non-null    float64       \n",
      " 12  financing_source       332 non-null    object        \n",
      " 13  ratings                6487 non-null   float64       \n",
      " 14  genres                 6507 non-null   object        \n",
      " 15  box_office             3345 non-null   float64       \n",
      " 16  one_genre              6507 non-null   object        \n",
      " 17  budget_0               315 non-null    float64       \n",
      " 18  budget_2               315 non-null    float64       \n",
      " 19  year                   7476 non-null   int64         \n",
      " 20  director_first         7476 non-null   object        \n",
      "dtypes: datetime64[ns](1), float64(7), int64(2), object(11)\n",
      "memory usage: 1.3+ MB\n"
     ]
    }
   ],
   "source": [
    "# Посмотрим, все ли в порядке с типом данных добавленных столбцов\n",
    "data.info()"
   ]
  },
  {
   "cell_type": "markdown",
   "metadata": {
    "id": "1FsCXHwdgFyU"
   },
   "source": [
    "- Посчитайте, какую долю от общего бюджета фильма составляет государственная поддержка."
   ]
  },
  {
   "cell_type": "code",
   "execution_count": 41,
   "metadata": {
    "id": "LV6qFuZLgFyV"
   },
   "outputs": [],
   "source": [
    "# Расчет доли государственной поддержки фильма от общего бюджета.\n",
    "data['part'] = (data['budget_0'] / data['budget'] * 100).round()"
   ]
  },
  {
   "cell_type": "code",
   "execution_count": 42,
   "metadata": {},
   "outputs": [
    {
     "data": {
      "text/html": [
       "<div>\n",
       "<style scoped>\n",
       "    .dataframe tbody tr th:only-of-type {\n",
       "        vertical-align: middle;\n",
       "    }\n",
       "\n",
       "    .dataframe tbody tr th {\n",
       "        vertical-align: top;\n",
       "    }\n",
       "\n",
       "    .dataframe thead th {\n",
       "        text-align: right;\n",
       "    }\n",
       "</style>\n",
       "<table border=\"1\" class=\"dataframe\">\n",
       "  <thead>\n",
       "    <tr style=\"text-align: right;\">\n",
       "      <th></th>\n",
       "      <th>title</th>\n",
       "      <th>puNumber</th>\n",
       "      <th>budget</th>\n",
       "      <th>part</th>\n",
       "    </tr>\n",
       "  </thead>\n",
       "  <tbody>\n",
       "    <tr>\n",
       "      <th>1281</th>\n",
       "      <td>пока еще жива</td>\n",
       "      <td>111005313</td>\n",
       "      <td>79,411,900.0</td>\n",
       "      <td>33.0</td>\n",
       "    </tr>\n",
       "    <tr>\n",
       "      <th>1448</th>\n",
       "      <td>бесславные придурки</td>\n",
       "      <td>111003314</td>\n",
       "      <td>37,142,857.0</td>\n",
       "      <td>70.0</td>\n",
       "    </tr>\n",
       "    <tr>\n",
       "      <th>1498</th>\n",
       "      <td>невидимки</td>\n",
       "      <td>111004213</td>\n",
       "      <td>176,023,490.0</td>\n",
       "      <td>61.0</td>\n",
       "    </tr>\n",
       "    <tr>\n",
       "      <th>1524</th>\n",
       "      <td>берцы</td>\n",
       "      <td>111004314</td>\n",
       "      <td>40,574,140.0</td>\n",
       "      <td>69.0</td>\n",
       "    </tr>\n",
       "    <tr>\n",
       "      <th>1792</th>\n",
       "      <td>братья ч</td>\n",
       "      <td>111004414</td>\n",
       "      <td>40,015,122.0</td>\n",
       "      <td>62.0</td>\n",
       "    </tr>\n",
       "    <tr>\n",
       "      <th>...</th>\n",
       "      <td>...</td>\n",
       "      <td>...</td>\n",
       "      <td>...</td>\n",
       "      <td>...</td>\n",
       "    </tr>\n",
       "    <tr>\n",
       "      <th>7464</th>\n",
       "      <td>союз спасения</td>\n",
       "      <td>111022019</td>\n",
       "      <td>980,000,000.0</td>\n",
       "      <td>51.0</td>\n",
       "    </tr>\n",
       "    <tr>\n",
       "      <th>7466</th>\n",
       "      <td>иван царевич и серый волк 4</td>\n",
       "      <td>114005019</td>\n",
       "      <td>190,000,000.0</td>\n",
       "      <td>53.0</td>\n",
       "    </tr>\n",
       "    <tr>\n",
       "      <th>7474</th>\n",
       "      <td>вторжение</td>\n",
       "      <td>111022519</td>\n",
       "      <td>944,000,000.0</td>\n",
       "      <td>53.0</td>\n",
       "    </tr>\n",
       "    <tr>\n",
       "      <th>7476</th>\n",
       "      <td>я свободен</td>\n",
       "      <td>111023019</td>\n",
       "      <td>46,154,000.0</td>\n",
       "      <td>65.0</td>\n",
       "    </tr>\n",
       "    <tr>\n",
       "      <th>7478</th>\n",
       "      <td>(не)идеальный мужчина</td>\n",
       "      <td>111023119</td>\n",
       "      <td>150,147,502.0</td>\n",
       "      <td>67.0</td>\n",
       "    </tr>\n",
       "  </tbody>\n",
       "</table>\n",
       "<p>315 rows × 4 columns</p>\n",
       "</div>"
      ],
      "text/plain": [
       "                            title   puNumber        budget  part\n",
       "1281                пока еще жива  111005313  79,411,900.0  33.0\n",
       "1448          бесславные придурки  111003314  37,142,857.0  70.0\n",
       "1498                    невидимки  111004213 176,023,490.0  61.0\n",
       "1524                        берцы  111004314  40,574,140.0  69.0\n",
       "1792                     братья ч  111004414  40,015,122.0  62.0\n",
       "...                           ...        ...           ...   ...\n",
       "7464                союз спасения  111022019 980,000,000.0  51.0\n",
       "7466  иван царевич и серый волк 4  114005019 190,000,000.0  53.0\n",
       "7474                    вторжение  111022519 944,000,000.0  53.0\n",
       "7476                   я свободен  111023019  46,154,000.0  65.0\n",
       "7478        (не)идеальный мужчина  111023119 150,147,502.0  67.0\n",
       "\n",
       "[315 rows x 4 columns]"
      ]
     },
     "execution_count": 42,
     "metadata": {},
     "output_type": "execute_result"
    }
   ],
   "source": [
    "data[data['part'] > 0][['title', 'puNumber', 'budget', 'part']]"
   ]
  },
  {
   "cell_type": "code",
   "execution_count": 43,
   "metadata": {},
   "outputs": [
    {
     "data": {
      "text/plain": [
       "59.0"
      ]
     },
     "execution_count": 43,
     "metadata": {},
     "output_type": "execute_result"
    }
   ],
   "source": [
    "# Рассчитаем медиану доли государственной поддержки.\n",
    "data['part'].median()"
   ]
  },
  {
   "cell_type": "markdown",
   "metadata": {},
   "source": [
    "Из таблицы видим, что доля государственной поддержки фильма от общего бюджета очень разная, может составлять и 33%, и 70%. Что  подтверждает невозможность заполнить нулевые значения средним. Медиана равна 59%."
   ]
  },
  {
   "cell_type": "markdown",
   "metadata": {
    "id": "6t4EukPLgFyV"
   },
   "source": [
    "### Шаг 3. Проведите исследовательский анализ данных\n"
   ]
  },
  {
   "cell_type": "markdown",
   "metadata": {
    "id": "vAH8WCzugFyV"
   },
   "source": [
    "- Посмотрите, сколько фильмов выходило в прокат каждый год. Обратите внимание, что данные о прокате в кинотеатрах известны не для всех фильмов. Посчитайте, какую долю составляют фильмы с указанной информацией о прокате в кинотеатрах."
   ]
  },
  {
   "cell_type": "code",
   "execution_count": 44,
   "metadata": {
    "id": "ABeV47y7gFyW"
   },
   "outputs": [
    {
     "data": {
      "text/html": [
       "<div>\n",
       "<style scoped>\n",
       "    .dataframe tbody tr th:only-of-type {\n",
       "        vertical-align: middle;\n",
       "    }\n",
       "\n",
       "    .dataframe tbody tr th {\n",
       "        vertical-align: top;\n",
       "    }\n",
       "\n",
       "    .dataframe thead th {\n",
       "        text-align: right;\n",
       "    }\n",
       "</style>\n",
       "<table border=\"1\" class=\"dataframe\">\n",
       "  <thead>\n",
       "    <tr style=\"text-align: right;\">\n",
       "      <th></th>\n",
       "      <th>title</th>\n",
       "    </tr>\n",
       "    <tr>\n",
       "      <th>year</th>\n",
       "      <th></th>\n",
       "    </tr>\n",
       "  </thead>\n",
       "  <tbody>\n",
       "    <tr>\n",
       "      <th>2010</th>\n",
       "      <td>980</td>\n",
       "    </tr>\n",
       "    <tr>\n",
       "      <th>2011</th>\n",
       "      <td>620</td>\n",
       "    </tr>\n",
       "    <tr>\n",
       "      <th>2012</th>\n",
       "      <td>592</td>\n",
       "    </tr>\n",
       "    <tr>\n",
       "      <th>2013</th>\n",
       "      <td>629</td>\n",
       "    </tr>\n",
       "    <tr>\n",
       "      <th>2014</th>\n",
       "      <td>806</td>\n",
       "    </tr>\n",
       "    <tr>\n",
       "      <th>2015</th>\n",
       "      <td>705</td>\n",
       "    </tr>\n",
       "    <tr>\n",
       "      <th>2016</th>\n",
       "      <td>818</td>\n",
       "    </tr>\n",
       "    <tr>\n",
       "      <th>2017</th>\n",
       "      <td>505</td>\n",
       "    </tr>\n",
       "    <tr>\n",
       "      <th>2018</th>\n",
       "      <td>891</td>\n",
       "    </tr>\n",
       "    <tr>\n",
       "      <th>2019</th>\n",
       "      <td>930</td>\n",
       "    </tr>\n",
       "  </tbody>\n",
       "</table>\n",
       "</div>"
      ],
      "text/plain": [
       "      title\n",
       "year       \n",
       "2010    980\n",
       "2011    620\n",
       "2012    592\n",
       "2013    629\n",
       "2014    806\n",
       "2015    705\n",
       "2016    818\n",
       "2017    505\n",
       "2018    891\n",
       "2019    930"
      ]
     },
     "execution_count": 44,
     "metadata": {},
     "output_type": "execute_result"
    }
   ],
   "source": [
    "# Посмотрим, сколько фильмов выходило в прокат каждый год.\n",
    "data_show = data.pivot_table(index='year', values='title', aggfunc='count')\n",
    "data_show"
   ]
  },
  {
   "cell_type": "markdown",
   "metadata": {},
   "source": [
    "В целом, не видна тенденция к увеличению или уменьшению количества снимаемых фильмов каждый год. В какой то год их число больше, в какой то меньше. Наибольшее количесво было в 2010, 2018 и 2019. Наименьшее 2012 и 2017."
   ]
  },
  {
   "cell_type": "code",
   "execution_count": 45,
   "metadata": {},
   "outputs": [
    {
     "data": {
      "text/plain": [
       "45"
      ]
     },
     "execution_count": 45,
     "metadata": {},
     "output_type": "execute_result"
    }
   ],
   "source": [
    "# Расситаем долю фильмов с информацией о прокате.\n",
    "ratio = round(len(data.query('box_office > 0')) / len(data['title']) * 100)\n",
    "ratio"
   ]
  },
  {
   "cell_type": "markdown",
   "metadata": {},
   "source": [
    "45% составляет доля фильмов с указанной информацией о прокате в кинотеатрах."
   ]
  },
  {
   "cell_type": "code",
   "execution_count": 46,
   "metadata": {},
   "outputs": [
    {
     "data": {
      "text/html": [
       "<div>\n",
       "<style scoped>\n",
       "    .dataframe tbody tr th:only-of-type {\n",
       "        vertical-align: middle;\n",
       "    }\n",
       "\n",
       "    .dataframe tbody tr th {\n",
       "        vertical-align: top;\n",
       "    }\n",
       "\n",
       "    .dataframe thead th {\n",
       "        text-align: right;\n",
       "    }\n",
       "</style>\n",
       "<table border=\"1\" class=\"dataframe\">\n",
       "  <thead>\n",
       "    <tr style=\"text-align: right;\">\n",
       "      <th></th>\n",
       "      <th>box_office</th>\n",
       "      <th>title</th>\n",
       "      <th>ratio</th>\n",
       "    </tr>\n",
       "    <tr>\n",
       "      <th>year</th>\n",
       "      <th></th>\n",
       "      <th></th>\n",
       "      <th></th>\n",
       "    </tr>\n",
       "  </thead>\n",
       "  <tbody>\n",
       "    <tr>\n",
       "      <th>2010</th>\n",
       "      <td>755.0</td>\n",
       "      <td>980</td>\n",
       "      <td>77.0</td>\n",
       "    </tr>\n",
       "    <tr>\n",
       "      <th>2011</th>\n",
       "      <td>438.0</td>\n",
       "      <td>620</td>\n",
       "      <td>70.6</td>\n",
       "    </tr>\n",
       "    <tr>\n",
       "      <th>2012</th>\n",
       "      <td>397.0</td>\n",
       "      <td>592</td>\n",
       "      <td>67.1</td>\n",
       "    </tr>\n",
       "    <tr>\n",
       "      <th>2013</th>\n",
       "      <td>378.0</td>\n",
       "      <td>629</td>\n",
       "      <td>60.1</td>\n",
       "    </tr>\n",
       "    <tr>\n",
       "      <th>2014</th>\n",
       "      <td>443.0</td>\n",
       "      <td>806</td>\n",
       "      <td>55.0</td>\n",
       "    </tr>\n",
       "    <tr>\n",
       "      <th>2015</th>\n",
       "      <td>190.0</td>\n",
       "      <td>705</td>\n",
       "      <td>27.0</td>\n",
       "    </tr>\n",
       "    <tr>\n",
       "      <th>2016</th>\n",
       "      <td>237.0</td>\n",
       "      <td>818</td>\n",
       "      <td>29.0</td>\n",
       "    </tr>\n",
       "    <tr>\n",
       "      <th>2017</th>\n",
       "      <td>96.0</td>\n",
       "      <td>505</td>\n",
       "      <td>19.0</td>\n",
       "    </tr>\n",
       "    <tr>\n",
       "      <th>2018</th>\n",
       "      <td>189.0</td>\n",
       "      <td>891</td>\n",
       "      <td>21.2</td>\n",
       "    </tr>\n",
       "    <tr>\n",
       "      <th>2019</th>\n",
       "      <td>215.0</td>\n",
       "      <td>930</td>\n",
       "      <td>23.1</td>\n",
       "    </tr>\n",
       "  </tbody>\n",
       "</table>\n",
       "</div>"
      ],
      "text/plain": [
       "      box_office  title  ratio\n",
       "year                          \n",
       "2010       755.0    980   77.0\n",
       "2011       438.0    620   70.6\n",
       "2012       397.0    592   67.1\n",
       "2013       378.0    629   60.1\n",
       "2014       443.0    806   55.0\n",
       "2015       190.0    705   27.0\n",
       "2016       237.0    818   29.0\n",
       "2017        96.0    505   19.0\n",
       "2018       189.0    891   21.2\n",
       "2019       215.0    930   23.1"
      ]
     },
     "execution_count": 46,
     "metadata": {},
     "output_type": "execute_result"
    }
   ],
   "source": [
    "# Создадим таблицу ratio, где будет информция о фильмах с указанной информацией о прокате в кинотеатрах.\n",
    "ratio = data.query('box_office > 0').pivot_table(index='year', values=['box_office', 'title'], \n",
    "                                                 aggfunc={'box_office' : len, 'title' : len})\n",
    "# заменим значения в столбце title таблицы ratio на значения таблицы data_show,\n",
    "# чтобы были полные данные о фильмах, выходивших в прокат.\n",
    "ratio['title'] = data_show['title']\n",
    "# Посчитаем, как доля менялась по годам.\n",
    "ratio['ratio'] = ratio['box_office'] / ratio['title'] * 100\n",
    "ratio"
   ]
  },
  {
   "cell_type": "markdown",
   "metadata": {},
   "source": [
    "Из таблицы видим, что с годами доля фильмов с указанной информацией о прокате в кинотеатрах с каждым годом уменьшается. Возможно, с каждым годом появляется больше авторских кино, которые не всегда показывают в конотеатрах или не все фильмы показывают в кинотеатрах, т.к. для этого есть другие площадки. Также может видеть, что наиболее представленый период в данных это с 2010 по 2014 год. "
   ]
  },
  {
   "cell_type": "markdown",
   "metadata": {
    "id": "BEOdcIrIgFyW"
   },
   "source": [
    "- Изучите, как менялась динамика проката по годам. В каком году сумма сборов была минимальной? А максимальной?"
   ]
  },
  {
   "cell_type": "code",
   "execution_count": 47,
   "metadata": {
    "id": "tfEhofYvgFyX"
   },
   "outputs": [
    {
     "data": {
      "text/html": [
       "<div>\n",
       "<style scoped>\n",
       "    .dataframe tbody tr th:only-of-type {\n",
       "        vertical-align: middle;\n",
       "    }\n",
       "\n",
       "    .dataframe tbody tr th {\n",
       "        vertical-align: top;\n",
       "    }\n",
       "\n",
       "    .dataframe thead th {\n",
       "        text-align: right;\n",
       "    }\n",
       "</style>\n",
       "<table border=\"1\" class=\"dataframe\">\n",
       "  <thead>\n",
       "    <tr style=\"text-align: right;\">\n",
       "      <th></th>\n",
       "      <th>box_office</th>\n",
       "    </tr>\n",
       "    <tr>\n",
       "      <th>year</th>\n",
       "      <th></th>\n",
       "    </tr>\n",
       "  </thead>\n",
       "  <tbody>\n",
       "    <tr>\n",
       "      <th>2010</th>\n",
       "      <td>73,997,007,591.7</td>\n",
       "    </tr>\n",
       "    <tr>\n",
       "      <th>2011</th>\n",
       "      <td>45,233,104,014.0</td>\n",
       "    </tr>\n",
       "    <tr>\n",
       "      <th>2012</th>\n",
       "      <td>37,067,933,172.1</td>\n",
       "    </tr>\n",
       "    <tr>\n",
       "      <th>2014</th>\n",
       "      <td>36,819,594,343.0</td>\n",
       "    </tr>\n",
       "    <tr>\n",
       "      <th>2013</th>\n",
       "      <td>23,790,962,053.7</td>\n",
       "    </tr>\n",
       "    <tr>\n",
       "      <th>2016</th>\n",
       "      <td>21,040,268,181.7</td>\n",
       "    </tr>\n",
       "    <tr>\n",
       "      <th>2019</th>\n",
       "      <td>15,921,753,680.1</td>\n",
       "    </tr>\n",
       "    <tr>\n",
       "      <th>2018</th>\n",
       "      <td>13,306,719,762.2</td>\n",
       "    </tr>\n",
       "    <tr>\n",
       "      <th>2015</th>\n",
       "      <td>12,732,694,183.9</td>\n",
       "    </tr>\n",
       "    <tr>\n",
       "      <th>2017</th>\n",
       "      <td>7,389,822,649.1</td>\n",
       "    </tr>\n",
       "  </tbody>\n",
       "</table>\n",
       "</div>"
      ],
      "text/plain": [
       "           box_office\n",
       "year                 \n",
       "2010 73,997,007,591.7\n",
       "2011 45,233,104,014.0\n",
       "2012 37,067,933,172.1\n",
       "2014 36,819,594,343.0\n",
       "2013 23,790,962,053.7\n",
       "2016 21,040,268,181.7\n",
       "2019 15,921,753,680.1\n",
       "2018 13,306,719,762.2\n",
       "2015 12,732,694,183.9\n",
       "2017  7,389,822,649.1"
      ]
     },
     "execution_count": 47,
     "metadata": {},
     "output_type": "execute_result"
    },
    {
     "data": {
      "image/png": "[encoded data removed]",
      "text/plain": [
       "<Figure size 432x288 with 1 Axes>"
      ]
     },
     "metadata": {
      "needs_background": "light"
     },
     "output_type": "display_data"
    }
   ],
   "source": [
    "# Создадим сводную таблицу, чтобы посмотреть на сумму сборов по годам.\n",
    "data_sum = data.query('box_office > 0').pivot_table(index='year', values='box_office', aggfunc='sum')\n",
    "# Посмтроим график, чтобы посмотреть, как менялась динамика проката по годам.\n",
    "data_sum.plot(grid=True)\n",
    "data_sum.sort_values(ascending = False, by='box_office')"
   ]
  },
  {
   "cell_type": "markdown",
   "metadata": {},
   "source": [
    "Из графика видим, что сборы с 2010 года уменьшаются. Минимальная сумма сбора была в 2017, максимальная в 2010."
   ]
  },
  {
   "cell_type": "markdown",
   "metadata": {
    "id": "G-7qS-N-gFyY"
   },
   "source": [
    "- С помощью сводной таблицы посчитайте среднюю и медианную сумму сборов для каждого года."
   ]
  },
  {
   "cell_type": "code",
   "execution_count": 48,
   "metadata": {
    "id": "jmp-rgg9gFyY"
   },
   "outputs": [
    {
     "data": {
      "text/html": [
       "<div>\n",
       "<style scoped>\n",
       "    .dataframe tbody tr th:only-of-type {\n",
       "        vertical-align: middle;\n",
       "    }\n",
       "\n",
       "    .dataframe tbody tr th {\n",
       "        vertical-align: top;\n",
       "    }\n",
       "\n",
       "    .dataframe thead th {\n",
       "        text-align: right;\n",
       "    }\n",
       "</style>\n",
       "<table border=\"1\" class=\"dataframe\">\n",
       "  <thead>\n",
       "    <tr style=\"text-align: right;\">\n",
       "      <th></th>\n",
       "      <th>year</th>\n",
       "      <th>mean</th>\n",
       "      <th>median</th>\n",
       "    </tr>\n",
       "  </thead>\n",
       "  <tbody>\n",
       "    <tr>\n",
       "      <th>0</th>\n",
       "      <td>2010</td>\n",
       "      <td>98,009,281.6</td>\n",
       "      <td>39,566,966.3</td>\n",
       "    </tr>\n",
       "    <tr>\n",
       "      <th>1</th>\n",
       "      <td>2011</td>\n",
       "      <td>103,271,927.0</td>\n",
       "      <td>38,854,757.6</td>\n",
       "    </tr>\n",
       "    <tr>\n",
       "      <th>2</th>\n",
       "      <td>2012</td>\n",
       "      <td>93,370,108.7</td>\n",
       "      <td>31,341,612.2</td>\n",
       "    </tr>\n",
       "    <tr>\n",
       "      <th>3</th>\n",
       "      <td>2013</td>\n",
       "      <td>62,939,053.1</td>\n",
       "      <td>24,015,827.9</td>\n",
       "    </tr>\n",
       "    <tr>\n",
       "      <th>4</th>\n",
       "      <td>2014</td>\n",
       "      <td>83,114,208.4</td>\n",
       "      <td>30,940,259.9</td>\n",
       "    </tr>\n",
       "    <tr>\n",
       "      <th>5</th>\n",
       "      <td>2015</td>\n",
       "      <td>67,014,179.9</td>\n",
       "      <td>27,285,833.4</td>\n",
       "    </tr>\n",
       "    <tr>\n",
       "      <th>6</th>\n",
       "      <td>2016</td>\n",
       "      <td>88,777,502.9</td>\n",
       "      <td>25,766,835.6</td>\n",
       "    </tr>\n",
       "    <tr>\n",
       "      <th>7</th>\n",
       "      <td>2017</td>\n",
       "      <td>76,977,319.3</td>\n",
       "      <td>17,516,918.1</td>\n",
       "    </tr>\n",
       "    <tr>\n",
       "      <th>8</th>\n",
       "      <td>2018</td>\n",
       "      <td>70,405,924.7</td>\n",
       "      <td>16,870,452.0</td>\n",
       "    </tr>\n",
       "    <tr>\n",
       "      <th>9</th>\n",
       "      <td>2019</td>\n",
       "      <td>74,054,668.3</td>\n",
       "      <td>17,516,918.1</td>\n",
       "    </tr>\n",
       "  </tbody>\n",
       "</table>\n",
       "</div>"
      ],
      "text/plain": [
       "   year          mean       median\n",
       "0  2010  98,009,281.6 39,566,966.3\n",
       "1  2011 103,271,927.0 38,854,757.6\n",
       "2  2012  93,370,108.7 31,341,612.2\n",
       "3  2013  62,939,053.1 24,015,827.9\n",
       "4  2014  83,114,208.4 30,940,259.9\n",
       "5  2015  67,014,179.9 27,285,833.4\n",
       "6  2016  88,777,502.9 25,766,835.6\n",
       "7  2017  76,977,319.3 17,516,918.1\n",
       "8  2018  70,405,924.7 16,870,452.0\n",
       "9  2019  74,054,668.3 17,516,918.1"
      ]
     },
     "execution_count": 48,
     "metadata": {},
     "output_type": "execute_result"
    }
   ],
   "source": [
    "# Создадим сводную таблицу, в которой рассчитаем среднюю и медианную сумму сборов для каждого года.\n",
    "data_m = data.query('box_office > 0').pivot_table(index='year', values='box_office', aggfunc=['mean', 'median'])\n",
    "data_m.columns=['mean', 'median']\n",
    "data_m.reset_index()"
   ]
  },
  {
   "cell_type": "markdown",
   "metadata": {},
   "source": [
    "Из данных можно сделать вывод, что среднее значение в несколько раз больше медианного. Это говорит о том, что большой разброс данных в сборах за фильм, какие-то собрали намного больше, чем другие. "
   ]
  },
  {
   "cell_type": "markdown",
   "metadata": {
    "id": "Ok89WFwJgFyZ"
   },
   "source": [
    "- Определите, влияет ли возрастное ограничение аудитории («6+», «12+», «16+», «18+» и т. д.) на сборы фильма в прокате в период с 2015 по 2019 год? Фильмы с каким возрастным ограничением собрали больше всего денег в прокате? Меняется ли картина в зависимости от года? Если да, предположите, с чем это может быть связано."
   ]
  },
  {
   "cell_type": "code",
   "execution_count": 49,
   "metadata": {
    "id": "jsSbEqfjgFya"
   },
   "outputs": [
    {
     "data": {
      "text/html": [
       "<div>\n",
       "<style scoped>\n",
       "    .dataframe tbody tr th:only-of-type {\n",
       "        vertical-align: middle;\n",
       "    }\n",
       "\n",
       "    .dataframe tbody tr th {\n",
       "        vertical-align: top;\n",
       "    }\n",
       "\n",
       "    .dataframe thead th {\n",
       "        text-align: right;\n",
       "    }\n",
       "</style>\n",
       "<table border=\"1\" class=\"dataframe\">\n",
       "  <thead>\n",
       "    <tr style=\"text-align: right;\">\n",
       "      <th></th>\n",
       "      <th>box_office</th>\n",
       "    </tr>\n",
       "    <tr>\n",
       "      <th>age_restriction</th>\n",
       "      <th></th>\n",
       "    </tr>\n",
       "  </thead>\n",
       "  <tbody>\n",
       "    <tr>\n",
       "      <th>«18+» - запрещено для детей</th>\n",
       "      <td>20,445,749,587.6</td>\n",
       "    </tr>\n",
       "    <tr>\n",
       "      <th>«12+» - для детей старше 12 лет</th>\n",
       "      <td>19,536,121,075.8</td>\n",
       "    </tr>\n",
       "    <tr>\n",
       "      <th>«16+» - для детей старше 16 лет</th>\n",
       "      <td>19,190,769,286.5</td>\n",
       "    </tr>\n",
       "    <tr>\n",
       "      <th>«6+» - для детей старше 6 лет</th>\n",
       "      <td>7,807,409,926.2</td>\n",
       "    </tr>\n",
       "    <tr>\n",
       "      <th>«0+» - для любой зрительской аудитории</th>\n",
       "      <td>3,411,208,580.9</td>\n",
       "    </tr>\n",
       "  </tbody>\n",
       "</table>\n",
       "</div>"
      ],
      "text/plain": [
       "                                             box_office\n",
       "age_restriction                                        \n",
       "«18+» - запрещено для детей            20,445,749,587.6\n",
       "«12+» - для детей старше 12 лет        19,536,121,075.8\n",
       "«16+» - для детей старше 16 лет        19,190,769,286.5\n",
       "«6+» - для детей старше 6 лет           7,807,409,926.2\n",
       "«0+» - для любой зрительской аудитории  3,411,208,580.9"
      ]
     },
     "execution_count": 49,
     "metadata": {},
     "output_type": "execute_result"
    }
   ],
   "source": [
    "# Создадим сводную таблицу сборов с 2015 по 2019 годы.\n",
    "data_age = data.query('2015 <= year <= 2019').pivot_table(index=['age_restriction'], values='box_office', aggfunc='sum')\n",
    "data_age.sort_values(ascending=False,by='box_office')"
   ]
  },
  {
   "cell_type": "markdown",
   "metadata": {},
   "source": [
    "Наибольшие сборы в период с 2015 по 2019 годы приносят фильмы для аудитории 18+, наименьшие для категории 0+."
   ]
  },
  {
   "cell_type": "code",
   "execution_count": 50,
   "metadata": {},
   "outputs": [
    {
     "data": {
      "text/html": [
       "<div>\n",
       "<style scoped>\n",
       "    .dataframe tbody tr th:only-of-type {\n",
       "        vertical-align: middle;\n",
       "    }\n",
       "\n",
       "    .dataframe tbody tr th {\n",
       "        vertical-align: top;\n",
       "    }\n",
       "\n",
       "    .dataframe thead th {\n",
       "        text-align: right;\n",
       "    }\n",
       "</style>\n",
       "<table border=\"1\" class=\"dataframe\">\n",
       "  <thead>\n",
       "    <tr style=\"text-align: right;\">\n",
       "      <th></th>\n",
       "      <th></th>\n",
       "      <th>box_office</th>\n",
       "    </tr>\n",
       "    <tr>\n",
       "      <th>year</th>\n",
       "      <th>age_restriction</th>\n",
       "      <th></th>\n",
       "    </tr>\n",
       "  </thead>\n",
       "  <tbody>\n",
       "    <tr>\n",
       "      <th rowspan=\"5\" valign=\"top\">2015</th>\n",
       "      <th>«18+» - запрещено для детей</th>\n",
       "      <td>4,565,999,754.3</td>\n",
       "    </tr>\n",
       "    <tr>\n",
       "      <th>«16+» - для детей старше 16 лет</th>\n",
       "      <td>4,466,836,955.4</td>\n",
       "    </tr>\n",
       "    <tr>\n",
       "      <th>«12+» - для детей старше 12 лет</th>\n",
       "      <td>3,103,612,165.2</td>\n",
       "    </tr>\n",
       "    <tr>\n",
       "      <th>«6+» - для детей старше 6 лет</th>\n",
       "      <td>433,951,280.6</td>\n",
       "    </tr>\n",
       "    <tr>\n",
       "      <th>«0+» - для любой зрительской аудитории</th>\n",
       "      <td>162,294,028.5</td>\n",
       "    </tr>\n",
       "    <tr>\n",
       "      <th rowspan=\"5\" valign=\"top\">2016</th>\n",
       "      <th>«16+» - для детей старше 16 лет</th>\n",
       "      <td>7,814,690,069.9</td>\n",
       "    </tr>\n",
       "    <tr>\n",
       "      <th>«18+» - запрещено для детей</th>\n",
       "      <td>6,975,933,890.1</td>\n",
       "    </tr>\n",
       "    <tr>\n",
       "      <th>«12+» - для детей старше 12 лет</th>\n",
       "      <td>3,833,385,362.6</td>\n",
       "    </tr>\n",
       "    <tr>\n",
       "      <th>«6+» - для детей старше 6 лет</th>\n",
       "      <td>1,221,848,275.5</td>\n",
       "    </tr>\n",
       "    <tr>\n",
       "      <th>«0+» - для любой зрительской аудитории</th>\n",
       "      <td>1,194,410,583.5</td>\n",
       "    </tr>\n",
       "    <tr>\n",
       "      <th rowspan=\"5\" valign=\"top\">2017</th>\n",
       "      <th>«12+» - для детей старше 12 лет</th>\n",
       "      <td>2,435,866,015.1</td>\n",
       "    </tr>\n",
       "    <tr>\n",
       "      <th>«18+» - запрещено для детей</th>\n",
       "      <td>2,036,127,637.6</td>\n",
       "    </tr>\n",
       "    <tr>\n",
       "      <th>«16+» - для детей старше 16 лет</th>\n",
       "      <td>1,153,771,387.0</td>\n",
       "    </tr>\n",
       "    <tr>\n",
       "      <th>«6+» - для детей старше 6 лет</th>\n",
       "      <td>1,013,538,421.9</td>\n",
       "    </tr>\n",
       "    <tr>\n",
       "      <th>«0+» - для любой зрительской аудитории</th>\n",
       "      <td>750,519,187.5</td>\n",
       "    </tr>\n",
       "    <tr>\n",
       "      <th rowspan=\"5\" valign=\"top\">2018</th>\n",
       "      <th>«12+» - для детей старше 12 лет</th>\n",
       "      <td>6,298,764,820.4</td>\n",
       "    </tr>\n",
       "    <tr>\n",
       "      <th>«16+» - для детей старше 16 лет</th>\n",
       "      <td>2,558,198,376.1</td>\n",
       "    </tr>\n",
       "    <tr>\n",
       "      <th>«18+» - запрещено для детей</th>\n",
       "      <td>2,410,743,585.2</td>\n",
       "    </tr>\n",
       "    <tr>\n",
       "      <th>«6+» - для детей старше 6 лет</th>\n",
       "      <td>1,349,112,872.6</td>\n",
       "    </tr>\n",
       "    <tr>\n",
       "      <th>«0+» - для любой зрительской аудитории</th>\n",
       "      <td>689,900,107.8</td>\n",
       "    </tr>\n",
       "    <tr>\n",
       "      <th rowspan=\"5\" valign=\"top\">2019</th>\n",
       "      <th>«18+» - запрещено для детей</th>\n",
       "      <td>4,456,944,720.3</td>\n",
       "    </tr>\n",
       "    <tr>\n",
       "      <th>«12+» - для детей старше 12 лет</th>\n",
       "      <td>3,864,492,712.5</td>\n",
       "    </tr>\n",
       "    <tr>\n",
       "      <th>«6+» - для детей старше 6 лет</th>\n",
       "      <td>3,788,959,075.6</td>\n",
       "    </tr>\n",
       "    <tr>\n",
       "      <th>«16+» - для детей старше 16 лет</th>\n",
       "      <td>3,197,272,498.1</td>\n",
       "    </tr>\n",
       "    <tr>\n",
       "      <th>«0+» - для любой зрительской аудитории</th>\n",
       "      <td>614,084,673.6</td>\n",
       "    </tr>\n",
       "  </tbody>\n",
       "</table>\n",
       "</div>"
      ],
      "text/plain": [
       "                                                 box_office\n",
       "year age_restriction                                       \n",
       "2015 «18+» - запрещено для детей            4,565,999,754.3\n",
       "     «16+» - для детей старше 16 лет        4,466,836,955.4\n",
       "     «12+» - для детей старше 12 лет        3,103,612,165.2\n",
       "     «6+» - для детей старше 6 лет            433,951,280.6\n",
       "     «0+» - для любой зрительской аудитории   162,294,028.5\n",
       "2016 «16+» - для детей старше 16 лет        7,814,690,069.9\n",
       "     «18+» - запрещено для детей            6,975,933,890.1\n",
       "     «12+» - для детей старше 12 лет        3,833,385,362.6\n",
       "     «6+» - для детей старше 6 лет          1,221,848,275.5\n",
       "     «0+» - для любой зрительской аудитории 1,194,410,583.5\n",
       "2017 «12+» - для детей старше 12 лет        2,435,866,015.1\n",
       "     «18+» - запрещено для детей            2,036,127,637.6\n",
       "     «16+» - для детей старше 16 лет        1,153,771,387.0\n",
       "     «6+» - для детей старше 6 лет          1,013,538,421.9\n",
       "     «0+» - для любой зрительской аудитории   750,519,187.5\n",
       "2018 «12+» - для детей старше 12 лет        6,298,764,820.4\n",
       "     «16+» - для детей старше 16 лет        2,558,198,376.1\n",
       "     «18+» - запрещено для детей            2,410,743,585.2\n",
       "     «6+» - для детей старше 6 лет          1,349,112,872.6\n",
       "     «0+» - для любой зрительской аудитории   689,900,107.8\n",
       "2019 «18+» - запрещено для детей            4,456,944,720.3\n",
       "     «12+» - для детей старше 12 лет        3,864,492,712.5\n",
       "     «6+» - для детей старше 6 лет          3,788,959,075.6\n",
       "     «16+» - для детей старше 16 лет        3,197,272,498.1\n",
       "     «0+» - для любой зрительской аудитории   614,084,673.6"
      ]
     },
     "execution_count": 50,
     "metadata": {},
     "output_type": "execute_result"
    }
   ],
   "source": [
    "# Создадим сводную таблицу сборов с 2015 по 2019 годы и отфильтрум по возрастанию значения каждого года.\n",
    "data_age = data.query('2015 <= year <= 2019').pivot_table(index=['year', 'age_restriction'], values='box_office', aggfunc='sum')\n",
    "data_age.sort_values(by=['year','box_office'], ascending=[True,False])"
   ]
  },
  {
   "cell_type": "markdown",
   "metadata": {},
   "source": [
    "Наименьший сбор у категории фильмов 0+ в каждый из годов с 2015 по 2019, что связано с тем, что маленьких детей реже водят в кинотеатры, чем ходят более взрослые.Также видим тенденцию к увелечению сборов с годами, возможно, стали снимать больше и для данной категории, а также родители стали чаще водить своих детей в кино.\n",
    "\n",
    "Как мы видим из таблицы, категория с наибольшим количеством сборов меняется почти кадый год. В 2015 году это категория 18+, в 2016 - 16+, в 2017 и 2018 - 12+, в 2019 - 18+. Это может быть связано с тем, что критерии попадания в ту или иную группу могут меняться с каждым годом или зависеть от страны производства, также может быть связано с тем, что в какой то из годов выходило большое количество наиболее востребованных к просмотру фильмов той категории, которая собрала наибольшее количество сборов."
   ]
  },
  {
   "cell_type": "markdown",
   "metadata": {
    "id": "l_Kg6Ku4gFya"
   },
   "source": [
    "### Шаг 4. Исследуйте фильмы, которые получили государственную поддержку\n",
    "\n",
    "На этом этапе нет конкретных инструкций и заданий — поищите интересные закономерности в данных. Посмотрите, сколько выделяют средств на поддержку кино. Проверьте, хорошо ли окупаются такие фильмы, какой у них рейтинг."
   ]
  },
  {
   "cell_type": "code",
   "execution_count": 51,
   "metadata": {},
   "outputs": [
    {
     "data": {
      "text/html": [
       "<div>\n",
       "<style scoped>\n",
       "    .dataframe tbody tr th:only-of-type {\n",
       "        vertical-align: middle;\n",
       "    }\n",
       "\n",
       "    .dataframe tbody tr th {\n",
       "        vertical-align: top;\n",
       "    }\n",
       "\n",
       "    .dataframe thead th {\n",
       "        text-align: right;\n",
       "    }\n",
       "</style>\n",
       "<table border=\"1\" class=\"dataframe\">\n",
       "  <thead>\n",
       "    <tr style=\"text-align: right;\">\n",
       "      <th></th>\n",
       "      <th>title</th>\n",
       "      <th>type</th>\n",
       "      <th>ratings</th>\n",
       "      <th>budget</th>\n",
       "      <th>budget_0</th>\n",
       "      <th>part</th>\n",
       "      <th>box_office</th>\n",
       "      <th>film_studio</th>\n",
       "      <th>year</th>\n",
       "      <th>age_restriction</th>\n",
       "    </tr>\n",
       "  </thead>\n",
       "  <tbody>\n",
       "    <tr>\n",
       "      <th>1281</th>\n",
       "      <td>пока еще жива</td>\n",
       "      <td>художественный</td>\n",
       "      <td>8.1</td>\n",
       "      <td>79,411,900.0</td>\n",
       "      <td>26,500,000.0</td>\n",
       "      <td>33.0</td>\n",
       "      <td>NaN</td>\n",
       "      <td>ано содействия развитию кинематографии \"ангел-...</td>\n",
       "      <td>2013</td>\n",
       "      <td>«16+» - для детей старше 16 лет</td>\n",
       "    </tr>\n",
       "    <tr>\n",
       "      <th>1448</th>\n",
       "      <td>бесславные придурки</td>\n",
       "      <td>художественный</td>\n",
       "      <td>NaN</td>\n",
       "      <td>37,142,857.0</td>\n",
       "      <td>26,000,000.0</td>\n",
       "      <td>70.0</td>\n",
       "      <td>NaN</td>\n",
       "      <td>ооо \"компания \"атк-студио\"</td>\n",
       "      <td>2014</td>\n",
       "      <td>«12+» - для детей старше 12 лет</td>\n",
       "    </tr>\n",
       "    <tr>\n",
       "      <th>1498</th>\n",
       "      <td>невидимки</td>\n",
       "      <td>художественный</td>\n",
       "      <td>5.3</td>\n",
       "      <td>176,023,490.0</td>\n",
       "      <td>107,847,945.0</td>\n",
       "      <td>61.0</td>\n",
       "      <td>NaN</td>\n",
       "      <td>ооо \"компания \"реал-дакота\"</td>\n",
       "      <td>2013</td>\n",
       "      <td>«12+» - для детей старше 12 лет</td>\n",
       "    </tr>\n",
       "    <tr>\n",
       "      <th>1524</th>\n",
       "      <td>берцы</td>\n",
       "      <td>художественный</td>\n",
       "      <td>4.2</td>\n",
       "      <td>40,574,140.0</td>\n",
       "      <td>28,000,000.0</td>\n",
       "      <td>69.0</td>\n",
       "      <td>NaN</td>\n",
       "      <td>ооо \"студия \"пассажир\"</td>\n",
       "      <td>2014</td>\n",
       "      <td>«16+» - для детей старше 16 лет</td>\n",
       "    </tr>\n",
       "    <tr>\n",
       "      <th>1792</th>\n",
       "      <td>братья ч</td>\n",
       "      <td>художественный</td>\n",
       "      <td>6.4</td>\n",
       "      <td>40,015,122.0</td>\n",
       "      <td>25,000,000.0</td>\n",
       "      <td>62.0</td>\n",
       "      <td>NaN</td>\n",
       "      <td>ооо \"студия \"пассажир\"</td>\n",
       "      <td>2014</td>\n",
       "      <td>«16+» - для детей старше 16 лет</td>\n",
       "    </tr>\n",
       "    <tr>\n",
       "      <th>...</th>\n",
       "      <td>...</td>\n",
       "      <td>...</td>\n",
       "      <td>...</td>\n",
       "      <td>...</td>\n",
       "      <td>...</td>\n",
       "      <td>...</td>\n",
       "      <td>...</td>\n",
       "      <td>...</td>\n",
       "      <td>...</td>\n",
       "      <td>...</td>\n",
       "    </tr>\n",
       "    <tr>\n",
       "      <th>7464</th>\n",
       "      <td>союз спасения</td>\n",
       "      <td>художественный</td>\n",
       "      <td>6.0</td>\n",
       "      <td>980,000,000.0</td>\n",
       "      <td>500,000,000.0</td>\n",
       "      <td>51.0</td>\n",
       "      <td>NaN</td>\n",
       "      <td>зао \"дирекция кино\"</td>\n",
       "      <td>2019</td>\n",
       "      <td>«12+» - для детей старше 12 лет</td>\n",
       "    </tr>\n",
       "    <tr>\n",
       "      <th>7466</th>\n",
       "      <td>иван царевич и серый волк 4</td>\n",
       "      <td>анимационный</td>\n",
       "      <td>6.7</td>\n",
       "      <td>190,000,000.0</td>\n",
       "      <td>100,000,000.0</td>\n",
       "      <td>53.0</td>\n",
       "      <td>NaN</td>\n",
       "      <td>ооо \"студия анимационного кино \"мельница\"</td>\n",
       "      <td>2019</td>\n",
       "      <td>«6+» - для детей старше 6 лет</td>\n",
       "    </tr>\n",
       "    <tr>\n",
       "      <th>7474</th>\n",
       "      <td>вторжение</td>\n",
       "      <td>художественный</td>\n",
       "      <td>5.7</td>\n",
       "      <td>944,000,000.0</td>\n",
       "      <td>500,000,000.0</td>\n",
       "      <td>53.0</td>\n",
       "      <td>371,056,927.1</td>\n",
       "      <td>ооо \"арт пикчерс студия\", ооо \"водород 2011\"</td>\n",
       "      <td>2019</td>\n",
       "      <td>«12+» - для детей старше 12 лет</td>\n",
       "    </tr>\n",
       "    <tr>\n",
       "      <th>7476</th>\n",
       "      <td>я свободен</td>\n",
       "      <td>художественный</td>\n",
       "      <td>5.9</td>\n",
       "      <td>46,154,000.0</td>\n",
       "      <td>30,000,000.0</td>\n",
       "      <td>65.0</td>\n",
       "      <td>85,648,826.2</td>\n",
       "      <td>ао \"тпо \"киностудия им. м.горького\"</td>\n",
       "      <td>2019</td>\n",
       "      <td>«12+» - для детей старше 12 лет</td>\n",
       "    </tr>\n",
       "    <tr>\n",
       "      <th>7478</th>\n",
       "      <td>(не)идеальный мужчина</td>\n",
       "      <td>художественный</td>\n",
       "      <td>4.5</td>\n",
       "      <td>150,147,502.0</td>\n",
       "      <td>100,000,000.0</td>\n",
       "      <td>67.0</td>\n",
       "      <td>45,911,208.7</td>\n",
       "      <td>ооо \"нон-стоп продакшн\"</td>\n",
       "      <td>2019</td>\n",
       "      <td>«12+» - для детей старше 12 лет</td>\n",
       "    </tr>\n",
       "  </tbody>\n",
       "</table>\n",
       "<p>315 rows × 10 columns</p>\n",
       "</div>"
      ],
      "text/plain": [
       "                            title            type  ratings        budget  \\\n",
       "1281                пока еще жива  художественный      8.1  79,411,900.0   \n",
       "1448          бесславные придурки  художественный      NaN  37,142,857.0   \n",
       "1498                    невидимки  художественный      5.3 176,023,490.0   \n",
       "1524                        берцы  художественный      4.2  40,574,140.0   \n",
       "1792                     братья ч  художественный      6.4  40,015,122.0   \n",
       "...                           ...             ...      ...           ...   \n",
       "7464                союз спасения  художественный      6.0 980,000,000.0   \n",
       "7466  иван царевич и серый волк 4    анимационный      6.7 190,000,000.0   \n",
       "7474                    вторжение  художественный      5.7 944,000,000.0   \n",
       "7476                   я свободен  художественный      5.9  46,154,000.0   \n",
       "7478        (не)идеальный мужчина  художественный      4.5 150,147,502.0   \n",
       "\n",
       "          budget_0  part    box_office  \\\n",
       "1281  26,500,000.0  33.0           NaN   \n",
       "1448  26,000,000.0  70.0           NaN   \n",
       "1498 107,847,945.0  61.0           NaN   \n",
       "1524  28,000,000.0  69.0           NaN   \n",
       "1792  25,000,000.0  62.0           NaN   \n",
       "...            ...   ...           ...   \n",
       "7464 500,000,000.0  51.0           NaN   \n",
       "7466 100,000,000.0  53.0           NaN   \n",
       "7474 500,000,000.0  53.0 371,056,927.1   \n",
       "7476  30,000,000.0  65.0  85,648,826.2   \n",
       "7478 100,000,000.0  67.0  45,911,208.7   \n",
       "\n",
       "                                            film_studio  year  \\\n",
       "1281  ано содействия развитию кинематографии \"ангел-...  2013   \n",
       "1448                         ооо \"компания \"атк-студио\"  2014   \n",
       "1498                        ооо \"компания \"реал-дакота\"  2013   \n",
       "1524                             ооо \"студия \"пассажир\"  2014   \n",
       "1792                             ооо \"студия \"пассажир\"  2014   \n",
       "...                                                 ...   ...   \n",
       "7464                                зао \"дирекция кино\"  2019   \n",
       "7466          ооо \"студия анимационного кино \"мельница\"  2019   \n",
       "7474       ооо \"арт пикчерс студия\", ооо \"водород 2011\"  2019   \n",
       "7476                ао \"тпо \"киностудия им. м.горького\"  2019   \n",
       "7478                           ооо \"нон-стоп продакшн\"   2019   \n",
       "\n",
       "                      age_restriction  \n",
       "1281  «16+» - для детей старше 16 лет  \n",
       "1448  «12+» - для детей старше 12 лет  \n",
       "1498  «12+» - для детей старше 12 лет  \n",
       "1524  «16+» - для детей старше 16 лет  \n",
       "1792  «16+» - для детей старше 16 лет  \n",
       "...                               ...  \n",
       "7464  «12+» - для детей старше 12 лет  \n",
       "7466    «6+» - для детей старше 6 лет  \n",
       "7474  «12+» - для детей старше 12 лет  \n",
       "7476  «12+» - для детей старше 12 лет  \n",
       "7478  «12+» - для детей старше 12 лет  \n",
       "\n",
       "[315 rows x 10 columns]"
      ]
     },
     "execution_count": 51,
     "metadata": {},
     "output_type": "execute_result"
    }
   ],
   "source": [
    "# Создадим таблицу с данными о фильмах, получивших государственную поддержку.\n",
    "data_gos = data[data['budget'] > 0][['title', 'type', 'ratings', 'budget', 'budget_0', 'part', 'box_office', 'film_studio', 'year', 'age_restriction']]\n",
    "data_gos"
   ]
  },
  {
   "cell_type": "code",
   "execution_count": 52,
   "metadata": {
    "id": "W9QKpjUdgFyb"
   },
   "outputs": [
    {
     "data": {
      "image/png": "[encoded data removed]",
      "text/plain": [
       "<Figure size 432x288 with 1 Axes>"
      ]
     },
     "metadata": {
      "needs_background": "light"
     },
     "output_type": "display_data"
    }
   ],
   "source": [
    "# Построим гистограмму, чтобы посмотреть долю государственной поддержки для кино. \n",
    "data_gos['part'].sort_values().plot(kind='hist', grid=True)\n",
    "plt.show()"
   ]
  },
  {
   "cell_type": "code",
   "execution_count": 53,
   "metadata": {},
   "outputs": [
    {
     "data": {
      "image/png": "[encoded data removed]",
      "text/plain": [
       "<Figure size 432x288 with 1 Axes>"
      ]
     },
     "metadata": {
      "needs_background": "light"
     },
     "output_type": "display_data"
    },
    {
     "data": {
      "text/plain": [
       "count   315.0\n",
       "mean     51.7\n",
       "std      17.0\n",
       "min       4.0\n",
       "25%      37.0\n",
       "50%      59.0\n",
       "75%      66.0\n",
       "max      78.0\n",
       "Name: part, dtype: float64"
      ]
     },
     "execution_count": 53,
     "metadata": {},
     "output_type": "execute_result"
    }
   ],
   "source": [
    "# Построим диаграмму размаха, чтобы посмотреть на основыне характеристики.\n",
    "plt.boxplot(data_gos['part'])\n",
    "plt.show()\n",
    "data_gos['part'].describe()"
   ]
  },
  {
   "cell_type": "markdown",
   "metadata": {},
   "source": [
    "По гистограмме и диаграмме размаха можем сделать вывод, что наиболее распространенная доля государсвенной поддержки составляет 60%."
   ]
  },
  {
   "cell_type": "code",
   "execution_count": 54,
   "metadata": {},
   "outputs": [
    {
     "name": "stdout",
     "output_type": "stream",
     "text": [
      "<class 'pandas.core.frame.DataFrame'>\n",
      "Int64Index: 315 entries, 1281 to 7478\n",
      "Data columns (total 11 columns):\n",
      " #   Column           Non-Null Count  Dtype  \n",
      "---  ------           --------------  -----  \n",
      " 0   title            315 non-null    object \n",
      " 1   type             315 non-null    object \n",
      " 2   ratings          298 non-null    float64\n",
      " 3   budget           315 non-null    float64\n",
      " 4   budget_0         315 non-null    float64\n",
      " 5   part             315 non-null    float64\n",
      " 6   box_office       12 non-null     float64\n",
      " 7   film_studio      315 non-null    object \n",
      " 8   year             315 non-null    int64  \n",
      " 9   age_restriction  315 non-null    object \n",
      " 10  payback          12 non-null     float64\n",
      "dtypes: float64(6), int64(1), object(4)\n",
      "memory usage: 29.5+ KB\n"
     ]
    },
    {
     "data": {
      "text/html": [
       "<div>\n",
       "<style scoped>\n",
       "    .dataframe tbody tr th:only-of-type {\n",
       "        vertical-align: middle;\n",
       "    }\n",
       "\n",
       "    .dataframe tbody tr th {\n",
       "        vertical-align: top;\n",
       "    }\n",
       "\n",
       "    .dataframe thead th {\n",
       "        text-align: right;\n",
       "    }\n",
       "</style>\n",
       "<table border=\"1\" class=\"dataframe\">\n",
       "  <thead>\n",
       "    <tr style=\"text-align: right;\">\n",
       "      <th></th>\n",
       "      <th>title</th>\n",
       "      <th>type</th>\n",
       "      <th>ratings</th>\n",
       "      <th>budget</th>\n",
       "      <th>budget_0</th>\n",
       "      <th>part</th>\n",
       "      <th>box_office</th>\n",
       "      <th>film_studio</th>\n",
       "      <th>year</th>\n",
       "      <th>age_restriction</th>\n",
       "      <th>payback</th>\n",
       "    </tr>\n",
       "  </thead>\n",
       "  <tbody>\n",
       "    <tr>\n",
       "      <th>1281</th>\n",
       "      <td>пока еще жива</td>\n",
       "      <td>художественный</td>\n",
       "      <td>8.1</td>\n",
       "      <td>79,411,900.0</td>\n",
       "      <td>26,500,000.0</td>\n",
       "      <td>33.0</td>\n",
       "      <td>NaN</td>\n",
       "      <td>ано содействия развитию кинематографии \"ангел-...</td>\n",
       "      <td>2013</td>\n",
       "      <td>«16+» - для детей старше 16 лет</td>\n",
       "      <td>NaN</td>\n",
       "    </tr>\n",
       "    <tr>\n",
       "      <th>1448</th>\n",
       "      <td>бесславные придурки</td>\n",
       "      <td>художественный</td>\n",
       "      <td>NaN</td>\n",
       "      <td>37,142,857.0</td>\n",
       "      <td>26,000,000.0</td>\n",
       "      <td>70.0</td>\n",
       "      <td>NaN</td>\n",
       "      <td>ооо \"компания \"атк-студио\"</td>\n",
       "      <td>2014</td>\n",
       "      <td>«12+» - для детей старше 12 лет</td>\n",
       "      <td>NaN</td>\n",
       "    </tr>\n",
       "    <tr>\n",
       "      <th>1498</th>\n",
       "      <td>невидимки</td>\n",
       "      <td>художественный</td>\n",
       "      <td>5.3</td>\n",
       "      <td>176,023,490.0</td>\n",
       "      <td>107,847,945.0</td>\n",
       "      <td>61.0</td>\n",
       "      <td>NaN</td>\n",
       "      <td>ооо \"компания \"реал-дакота\"</td>\n",
       "      <td>2013</td>\n",
       "      <td>«12+» - для детей старше 12 лет</td>\n",
       "      <td>NaN</td>\n",
       "    </tr>\n",
       "    <tr>\n",
       "      <th>1524</th>\n",
       "      <td>берцы</td>\n",
       "      <td>художественный</td>\n",
       "      <td>4.2</td>\n",
       "      <td>40,574,140.0</td>\n",
       "      <td>28,000,000.0</td>\n",
       "      <td>69.0</td>\n",
       "      <td>NaN</td>\n",
       "      <td>ооо \"студия \"пассажир\"</td>\n",
       "      <td>2014</td>\n",
       "      <td>«16+» - для детей старше 16 лет</td>\n",
       "      <td>NaN</td>\n",
       "    </tr>\n",
       "    <tr>\n",
       "      <th>1792</th>\n",
       "      <td>братья ч</td>\n",
       "      <td>художественный</td>\n",
       "      <td>6.4</td>\n",
       "      <td>40,015,122.0</td>\n",
       "      <td>25,000,000.0</td>\n",
       "      <td>62.0</td>\n",
       "      <td>NaN</td>\n",
       "      <td>ооо \"студия \"пассажир\"</td>\n",
       "      <td>2014</td>\n",
       "      <td>«16+» - для детей старше 16 лет</td>\n",
       "      <td>NaN</td>\n",
       "    </tr>\n",
       "    <tr>\n",
       "      <th>...</th>\n",
       "      <td>...</td>\n",
       "      <td>...</td>\n",
       "      <td>...</td>\n",
       "      <td>...</td>\n",
       "      <td>...</td>\n",
       "      <td>...</td>\n",
       "      <td>...</td>\n",
       "      <td>...</td>\n",
       "      <td>...</td>\n",
       "      <td>...</td>\n",
       "      <td>...</td>\n",
       "    </tr>\n",
       "    <tr>\n",
       "      <th>7464</th>\n",
       "      <td>союз спасения</td>\n",
       "      <td>художественный</td>\n",
       "      <td>6.0</td>\n",
       "      <td>980,000,000.0</td>\n",
       "      <td>500,000,000.0</td>\n",
       "      <td>51.0</td>\n",
       "      <td>NaN</td>\n",
       "      <td>зао \"дирекция кино\"</td>\n",
       "      <td>2019</td>\n",
       "      <td>«12+» - для детей старше 12 лет</td>\n",
       "      <td>NaN</td>\n",
       "    </tr>\n",
       "    <tr>\n",
       "      <th>7466</th>\n",
       "      <td>иван царевич и серый волк 4</td>\n",
       "      <td>анимационный</td>\n",
       "      <td>6.7</td>\n",
       "      <td>190,000,000.0</td>\n",
       "      <td>100,000,000.0</td>\n",
       "      <td>53.0</td>\n",
       "      <td>NaN</td>\n",
       "      <td>ооо \"студия анимационного кино \"мельница\"</td>\n",
       "      <td>2019</td>\n",
       "      <td>«6+» - для детей старше 6 лет</td>\n",
       "      <td>NaN</td>\n",
       "    </tr>\n",
       "    <tr>\n",
       "      <th>7474</th>\n",
       "      <td>вторжение</td>\n",
       "      <td>художественный</td>\n",
       "      <td>5.7</td>\n",
       "      <td>944,000,000.0</td>\n",
       "      <td>500,000,000.0</td>\n",
       "      <td>53.0</td>\n",
       "      <td>371,056,927.1</td>\n",
       "      <td>ооо \"арт пикчерс студия\", ооо \"водород 2011\"</td>\n",
       "      <td>2019</td>\n",
       "      <td>«12+» - для детей старше 12 лет</td>\n",
       "      <td>0.4</td>\n",
       "    </tr>\n",
       "    <tr>\n",
       "      <th>7476</th>\n",
       "      <td>я свободен</td>\n",
       "      <td>художественный</td>\n",
       "      <td>5.9</td>\n",
       "      <td>46,154,000.0</td>\n",
       "      <td>30,000,000.0</td>\n",
       "      <td>65.0</td>\n",
       "      <td>85,648,826.2</td>\n",
       "      <td>ао \"тпо \"киностудия им. м.горького\"</td>\n",
       "      <td>2019</td>\n",
       "      <td>«12+» - для детей старше 12 лет</td>\n",
       "      <td>1.9</td>\n",
       "    </tr>\n",
       "    <tr>\n",
       "      <th>7478</th>\n",
       "      <td>(не)идеальный мужчина</td>\n",
       "      <td>художественный</td>\n",
       "      <td>4.5</td>\n",
       "      <td>150,147,502.0</td>\n",
       "      <td>100,000,000.0</td>\n",
       "      <td>67.0</td>\n",
       "      <td>45,911,208.7</td>\n",
       "      <td>ооо \"нон-стоп продакшн\"</td>\n",
       "      <td>2019</td>\n",
       "      <td>«12+» - для детей старше 12 лет</td>\n",
       "      <td>0.3</td>\n",
       "    </tr>\n",
       "  </tbody>\n",
       "</table>\n",
       "<p>315 rows × 11 columns</p>\n",
       "</div>"
      ],
      "text/plain": [
       "                            title            type  ratings        budget  \\\n",
       "1281                пока еще жива  художественный      8.1  79,411,900.0   \n",
       "1448          бесславные придурки  художественный      NaN  37,142,857.0   \n",
       "1498                    невидимки  художественный      5.3 176,023,490.0   \n",
       "1524                        берцы  художественный      4.2  40,574,140.0   \n",
       "1792                     братья ч  художественный      6.4  40,015,122.0   \n",
       "...                           ...             ...      ...           ...   \n",
       "7464                союз спасения  художественный      6.0 980,000,000.0   \n",
       "7466  иван царевич и серый волк 4    анимационный      6.7 190,000,000.0   \n",
       "7474                    вторжение  художественный      5.7 944,000,000.0   \n",
       "7476                   я свободен  художественный      5.9  46,154,000.0   \n",
       "7478        (не)идеальный мужчина  художественный      4.5 150,147,502.0   \n",
       "\n",
       "          budget_0  part    box_office  \\\n",
       "1281  26,500,000.0  33.0           NaN   \n",
       "1448  26,000,000.0  70.0           NaN   \n",
       "1498 107,847,945.0  61.0           NaN   \n",
       "1524  28,000,000.0  69.0           NaN   \n",
       "1792  25,000,000.0  62.0           NaN   \n",
       "...            ...   ...           ...   \n",
       "7464 500,000,000.0  51.0           NaN   \n",
       "7466 100,000,000.0  53.0           NaN   \n",
       "7474 500,000,000.0  53.0 371,056,927.1   \n",
       "7476  30,000,000.0  65.0  85,648,826.2   \n",
       "7478 100,000,000.0  67.0  45,911,208.7   \n",
       "\n",
       "                                            film_studio  year  \\\n",
       "1281  ано содействия развитию кинематографии \"ангел-...  2013   \n",
       "1448                         ооо \"компания \"атк-студио\"  2014   \n",
       "1498                        ооо \"компания \"реал-дакота\"  2013   \n",
       "1524                             ооо \"студия \"пассажир\"  2014   \n",
       "1792                             ооо \"студия \"пассажир\"  2014   \n",
       "...                                                 ...   ...   \n",
       "7464                                зао \"дирекция кино\"  2019   \n",
       "7466          ооо \"студия анимационного кино \"мельница\"  2019   \n",
       "7474       ооо \"арт пикчерс студия\", ооо \"водород 2011\"  2019   \n",
       "7476                ао \"тпо \"киностудия им. м.горького\"  2019   \n",
       "7478                           ооо \"нон-стоп продакшн\"   2019   \n",
       "\n",
       "                      age_restriction  payback  \n",
       "1281  «16+» - для детей старше 16 лет      NaN  \n",
       "1448  «12+» - для детей старше 12 лет      NaN  \n",
       "1498  «12+» - для детей старше 12 лет      NaN  \n",
       "1524  «16+» - для детей старше 16 лет      NaN  \n",
       "1792  «16+» - для детей старше 16 лет      NaN  \n",
       "...                               ...      ...  \n",
       "7464  «12+» - для детей старше 12 лет      NaN  \n",
       "7466    «6+» - для детей старше 6 лет      NaN  \n",
       "7474  «12+» - для детей старше 12 лет      0.4  \n",
       "7476  «12+» - для детей старше 12 лет      1.9  \n",
       "7478  «12+» - для детей старше 12 лет      0.3  \n",
       "\n",
       "[315 rows x 11 columns]"
      ]
     },
     "execution_count": 54,
     "metadata": {},
     "output_type": "execute_result"
    }
   ],
   "source": [
    "# Добавим столбец payback, чтобы посмотреть, окупился ли фильм. \n",
    "data_gos['payback'] = data_gos['box_office'] / data_gos['budget'] \n",
    "data_gos.info()\n",
    "data_gos"
   ]
  },
  {
   "cell_type": "code",
   "execution_count": 55,
   "metadata": {},
   "outputs": [
    {
     "data": {
      "text/plain": [
       "3"
      ]
     },
     "execution_count": 55,
     "metadata": {},
     "output_type": "execute_result"
    }
   ],
   "source": [
    "# Посмотрим, сколько фильмов окупилось. Если значение будет больше или равно 1, то фильм покрыл вложения,\n",
    "# а чем больше число от 1, тем больше его окупаемость. Меньше 1 - не окупил.\n",
    "payback_yes = len(data_gos.query('payback >= 1'))\n",
    "payback_yes"
   ]
  },
  {
   "cell_type": "code",
   "execution_count": 56,
   "metadata": {},
   "outputs": [
    {
     "data": {
      "text/plain": [
       "9"
      ]
     },
     "execution_count": 56,
     "metadata": {},
     "output_type": "execute_result"
    }
   ],
   "source": [
    "# Посмотрим, сколько фильмов не окупилось.\n",
    "payback_no = len(data_gos.query('payback <= 1'))\n",
    "payback_no"
   ]
  },
  {
   "cell_type": "code",
   "execution_count": 57,
   "metadata": {},
   "outputs": [
    {
     "data": {
      "text/plain": [
       "33.3"
      ]
     },
     "execution_count": 57,
     "metadata": {},
     "output_type": "execute_result"
    }
   ],
   "source": [
    "# Доля окупившихся фильмов.\n",
    "round(payback_yes/payback_no * 100, 1)"
   ]
  },
  {
   "cell_type": "markdown",
   "metadata": {},
   "source": [
    "Так как сборы есть всего у 12 фильмов, то сделанные выводы могут быть не совсем корректными для всех фильмов, но других данных для анализа у нас нет. По имеющимся данным, только 33,3% фильмов окупились. Хотя окупаемость невысокая, государство финансирует подобные фильмы, возможно, чтобы рассказать истроию своей страны, или донести определенную мысль до зрителя."
   ]
  },
  {
   "cell_type": "code",
   "execution_count": 58,
   "metadata": {},
   "outputs": [
    {
     "data": {
      "image/png": "[encoded data removed]",
      "text/plain": [
       "<Figure size 432x288 with 1 Axes>"
      ]
     },
     "metadata": {
      "needs_background": "light"
     },
     "output_type": "display_data"
    }
   ],
   "source": [
    "# Пострим гистрограмму, чтобы посмотреть на распределение рейтинга.\n",
    "data_gos['ratings'].plot(kind='hist', title='ratings', grid=True, bins=20)\n",
    "plt.show()"
   ]
  },
  {
   "cell_type": "code",
   "execution_count": 59,
   "metadata": {},
   "outputs": [
    {
     "data": {
      "text/plain": [
       "count   298.0\n",
       "mean      6.0\n",
       "std       1.1\n",
       "min       1.0\n",
       "25%       5.4\n",
       "50%       6.2\n",
       "75%       6.7\n",
       "max       8.5\n",
       "Name: ratings, dtype: float64"
      ]
     },
     "execution_count": 59,
     "metadata": {},
     "output_type": "execute_result"
    }
   ],
   "source": [
    "# Посмотрим на данные в столбце ratings с помощью метода describe\n",
    "data_gos['ratings'].describe()"
   ]
  },
  {
   "cell_type": "markdown",
   "metadata": {},
   "source": [
    "По гистограмме и с помошью метода describe видим, что ниболее частый рейтинг для фильмов с государсвенной поддержкой 6-6,2%. А в среднем составляем от 5,4 до 6,7."
   ]
  },
  {
   "cell_type": "code",
   "execution_count": 60,
   "metadata": {},
   "outputs": [
    {
     "data": {
      "text/html": [
       "<div>\n",
       "<style scoped>\n",
       "    .dataframe tbody tr th:only-of-type {\n",
       "        vertical-align: middle;\n",
       "    }\n",
       "\n",
       "    .dataframe tbody tr th {\n",
       "        vertical-align: top;\n",
       "    }\n",
       "\n",
       "    .dataframe thead tr th {\n",
       "        text-align: left;\n",
       "    }\n",
       "\n",
       "    .dataframe thead tr:last-of-type th {\n",
       "        text-align: right;\n",
       "    }\n",
       "</style>\n",
       "<table border=\"1\" class=\"dataframe\">\n",
       "  <thead>\n",
       "    <tr>\n",
       "      <th></th>\n",
       "      <th>mean</th>\n",
       "      <th>count</th>\n",
       "    </tr>\n",
       "    <tr>\n",
       "      <th></th>\n",
       "      <th>budget_0</th>\n",
       "      <th>budget_0</th>\n",
       "    </tr>\n",
       "    <tr>\n",
       "      <th>type</th>\n",
       "      <th></th>\n",
       "      <th></th>\n",
       "    </tr>\n",
       "  </thead>\n",
       "  <tbody>\n",
       "    <tr>\n",
       "      <th>анимационный</th>\n",
       "      <td>76,060,800.0</td>\n",
       "      <td>25</td>\n",
       "    </tr>\n",
       "    <tr>\n",
       "      <th>документальный</th>\n",
       "      <td>3,000,000.0</td>\n",
       "      <td>1</td>\n",
       "    </tr>\n",
       "    <tr>\n",
       "      <th>художественный</th>\n",
       "      <td>58,492,037.5</td>\n",
       "      <td>289</td>\n",
       "    </tr>\n",
       "  </tbody>\n",
       "</table>\n",
       "</div>"
      ],
      "text/plain": [
       "                       mean    count\n",
       "                   budget_0 budget_0\n",
       "type                                \n",
       "анимационный   76,060,800.0       25\n",
       "документальный  3,000,000.0        1\n",
       "художественный 58,492,037.5      289"
      ]
     },
     "execution_count": 60,
     "metadata": {},
     "output_type": "execute_result"
    }
   ],
   "source": [
    "# С помошью pivot_table посмотрим на количество каждого типа фильма. \n",
    "data_gos.pivot_table(index='type', values='budget_0', aggfunc=['mean','count'])"
   ]
  },
  {
   "cell_type": "markdown",
   "metadata": {},
   "source": [
    "Наибольшей государственной поддерждой пользуются хужожественные фильмы."
   ]
  },
  {
   "cell_type": "code",
   "execution_count": 61,
   "metadata": {},
   "outputs": [
    {
     "data": {
      "text/plain": [
       "ооо \"студия анимационного кино \"мельница\"    7\n",
       "ооо \"таббак\"                                 6\n",
       "ооо \"кинокомпания \"ств\"                      6\n",
       "ооо \"каро продакшн\"                          4\n",
       "ооо \"киностудия \"вертикаль\"                  4\n",
       "Name: film_studio, dtype: int64"
      ]
     },
     "execution_count": 61,
     "metadata": {},
     "output_type": "execute_result"
    }
   ],
   "source": [
    "# Посморим, какие студии чаще снимают фильмы с государтсвенной поддержкой.\n",
    "data_gos['film_studio'].value_counts().head()"
   ]
  },
  {
   "cell_type": "markdown",
   "metadata": {},
   "source": [
    "Студия, которая чаще снимала фильмы с государсенной поддержкой  - ооо \"студия анимационного кино \"мельница\", но чаще это разные студии."
   ]
  },
  {
   "cell_type": "code",
   "execution_count": 62,
   "metadata": {},
   "outputs": [
    {
     "data": {
      "image/png": "[encoded data removed]",
      "text/plain": [
       "<Figure size 432x288 with 1 Axes>"
      ]
     },
     "metadata": {
      "needs_background": "light"
     },
     "output_type": "display_data"
    }
   ],
   "source": [
    "# Посмотрим, как распределяются фильмы с государсвенной поддержкой по возрастным категориям.\n",
    "data_gos.pivot_table(index='age_restriction', values='title', aggfunc='count').plot.barh(grid=True,stacked=True)\n",
    "plt.show()"
   ]
  },
  {
   "cell_type": "markdown",
   "metadata": {},
   "source": [
    "Наибольшую государсвенную поддержку получают фильмы для категорий 16+ и 12+. Вероятно, финансируются фильмы, где меньше явных сцен насилия, жестокости, нецензурной речи."
   ]
  },
  {
   "cell_type": "code",
   "execution_count": 63,
   "metadata": {},
   "outputs": [
    {
     "data": {
      "image/png": "[encoded data removed]",
      "text/plain": [
       "<Figure size 432x288 with 1 Axes>"
      ]
     },
     "metadata": {
      "needs_background": "light"
     },
     "output_type": "display_data"
    }
   ],
   "source": [
    "# Построим график, чтобы посмотреть, в какие годы фильмы больше получали государсвенную поддержку.\n",
    "data_gos.pivot_table(index='year', values='title', aggfunc='count').plot(kind='bar', grid=True)\n",
    "plt.show()"
   ]
  },
  {
   "cell_type": "markdown",
   "metadata": {},
   "source": [
    "Наибольшее финансирование было в 2015 и 2019 годах. Возможно, в эти годы было больше средств для финансирования, экономика была стабильнее, или была необходимость донести определенные идеи до граждан. "
   ]
  },
  {
   "cell_type": "markdown",
   "metadata": {
    "id": "V2gYwMcPgFyd"
   },
   "source": [
    "### Шаг 5. Напишите общий вывод"
   ]
  },
  {
   "cell_type": "markdown",
   "metadata": {
    "id": "AYRg3dzXgFye"
   },
   "source": [
    "Была произведена предобработка данных, заменены пустые значения там, где это необходимо. Сделана замена типов данных. Добавлены необходимые столбцы. \n",
    "\n",
    "Было рассмотрено, сколько фильмов выходило в прокат каждый год. Была изучена динамика проката по годам, где было выяснено, что с 2010 сборы падают. Что может быть связано с появлением сторонних форм просмотра фильмов - КиноПоиск, Нетфликс и др. Также было выяснено, что с годами доля фильмов с указанной информацией о прокате в кинотеатрах с каждым годом уменьшается. Была рассчитана средняя и медианная сумму сборов для каждого года, где стало ясно, что среднее значение значительно выше, что говорит о том, что есть фильмы, которые посмотрели намного больше людей, а значит и сборы были больше. Было рассмотрено, как возрастные ограничения связаны со сборами и менялась ли картина с годами. Наибольшое сборы были у фильмов категории 18+.\n",
    "\n",
    "Также исследовали фильмы, которые получили государственную поддержку. Была посчитана доля государственной поддержки, медиана составила 61,5%. Посмотрели на окупаемость таких фильмов, оказалось, что только 33,3% фильмов с государственной поддержкой окупаются. Можно сделать предположение, что это может быть связано с тем, что фильмы снимают не на интересующие, актуальные темы, не особо хорошего качества, или люди не особо доверяют государтсву, и не хотят потреблять подобный контент. Также посмотрели на рейтинг для фильмов с поддержкой, наибольший составил 5,4 до 6,7 для категории 16+ и 12+ в 2015 и 2019 годах. "
   ]
  }
 ],
 "metadata": {
  "ExecuteTimeLog": [
   {
    "duration": 537,
    "start_time": "2021-07-07T10:12:08.634Z"
   },
   {
    "duration": 206,
    "start_time": "2021-07-07T10:12:30.191Z"
   },
   {
    "duration": 227,
    "start_time": "2021-07-07T10:12:33.078Z"
   },
   {
    "duration": 153,
    "start_time": "2021-07-07T10:13:42.146Z"
   },
   {
    "duration": 233,
    "start_time": "2021-07-07T10:30:09.252Z"
   },
   {
    "duration": 19,
    "start_time": "2021-07-07T10:30:15.577Z"
   },
   {
    "duration": 18,
    "start_time": "2021-07-07T10:30:57.348Z"
   },
   {
    "duration": 19,
    "start_time": "2021-07-07T10:31:17.452Z"
   },
   {
    "duration": 21,
    "start_time": "2021-07-07T10:31:32.227Z"
   },
   {
    "duration": 27,
    "start_time": "2021-07-07T10:32:06.588Z"
   },
   {
    "duration": 23,
    "start_time": "2021-07-07T10:32:43.645Z"
   },
   {
    "duration": 24,
    "start_time": "2021-07-07T10:33:06.948Z"
   },
   {
    "duration": 7,
    "start_time": "2021-07-07T10:33:28.558Z"
   },
   {
    "duration": 23,
    "start_time": "2021-07-07T10:33:43.761Z"
   },
   {
    "duration": 28,
    "start_time": "2021-07-07T10:34:13.466Z"
   },
   {
    "duration": 23,
    "start_time": "2021-07-07T10:35:56.187Z"
   },
   {
    "duration": 6,
    "start_time": "2021-07-07T10:36:48.182Z"
   },
   {
    "duration": 14,
    "start_time": "2021-07-07T10:37:49.641Z"
   },
   {
    "duration": 6,
    "start_time": "2021-07-07T10:38:06.694Z"
   },
   {
    "duration": 6,
    "start_time": "2021-07-07T10:38:13.493Z"
   },
   {
    "duration": 19,
    "start_time": "2021-07-07T10:38:44.056Z"
   },
   {
    "duration": 186,
    "start_time": "2021-07-07T10:48:35.618Z"
   },
   {
    "duration": 24,
    "start_time": "2021-07-07T10:48:51.498Z"
   },
   {
    "duration": 20,
    "start_time": "2021-07-07T10:48:59.415Z"
   },
   {
    "duration": 20,
    "start_time": "2021-07-07T10:53:02.195Z"
   },
   {
    "duration": 188,
    "start_time": "2021-07-07T10:54:40.486Z"
   },
   {
    "duration": 115,
    "start_time": "2021-07-07T10:54:52.552Z"
   },
   {
    "duration": 214,
    "start_time": "2021-07-07T10:54:56.354Z"
   },
   {
    "duration": 47,
    "start_time": "2021-07-07T10:54:58.282Z"
   },
   {
    "duration": 217,
    "start_time": "2021-07-07T10:59:16.075Z"
   },
   {
    "duration": 51,
    "start_time": "2021-07-07T10:59:16.243Z"
   },
   {
    "duration": 578,
    "start_time": "2021-07-07T10:59:18.774Z"
   },
   {
    "duration": 161,
    "start_time": "2021-07-07T10:59:21.238Z"
   },
   {
    "duration": 59,
    "start_time": "2021-07-07T10:59:21.453Z"
   },
   {
    "duration": 3,
    "start_time": "2021-07-07T11:02:10.786Z"
   },
   {
    "duration": 13,
    "start_time": "2021-07-07T11:07:07.722Z"
   },
   {
    "duration": 26,
    "start_time": "2021-07-07T11:07:17.958Z"
   },
   {
    "duration": 22,
    "start_time": "2021-07-07T11:08:17.939Z"
   },
   {
    "duration": 212,
    "start_time": "2021-07-07T11:08:19.665Z"
   },
   {
    "duration": 21,
    "start_time": "2021-07-07T11:08:29.945Z"
   },
   {
    "duration": 31,
    "start_time": "2021-07-07T11:08:38.899Z"
   },
   {
    "duration": 23,
    "start_time": "2021-07-07T11:08:54.527Z"
   },
   {
    "duration": 8,
    "start_time": "2021-07-07T11:18:55.974Z"
   },
   {
    "duration": 7,
    "start_time": "2021-07-07T11:19:03.639Z"
   },
   {
    "duration": 7,
    "start_time": "2021-07-07T11:19:06.444Z"
   },
   {
    "duration": 578,
    "start_time": "2021-07-07T12:09:59.576Z"
   },
   {
    "duration": 195,
    "start_time": "2021-07-07T12:10:00.156Z"
   },
   {
    "duration": 115,
    "start_time": "2021-07-07T12:10:00.353Z"
   },
   {
    "duration": 3,
    "start_time": "2021-07-07T12:10:00.470Z"
   },
   {
    "duration": 32,
    "start_time": "2021-07-07T12:10:00.474Z"
   },
   {
    "duration": 23,
    "start_time": "2021-07-07T12:10:00.508Z"
   },
   {
    "duration": 19,
    "start_time": "2021-07-07T12:10:00.533Z"
   },
   {
    "duration": 44,
    "start_time": "2021-07-07T12:10:00.553Z"
   },
   {
    "duration": 7,
    "start_time": "2021-07-07T12:10:00.600Z"
   },
   {
    "duration": 7,
    "start_time": "2021-07-07T12:19:45.761Z"
   },
   {
    "duration": 21,
    "start_time": "2021-07-07T12:21:35.482Z"
   },
   {
    "duration": 21,
    "start_time": "2021-07-07T12:29:23.569Z"
   },
   {
    "duration": 525,
    "start_time": "2021-07-07T12:29:44.542Z"
   },
   {
    "duration": 214,
    "start_time": "2021-07-07T12:29:45.069Z"
   },
   {
    "duration": 92,
    "start_time": "2021-07-07T12:29:45.285Z"
   },
   {
    "duration": 3,
    "start_time": "2021-07-07T12:29:45.379Z"
   },
   {
    "duration": 28,
    "start_time": "2021-07-07T12:29:45.384Z"
   },
   {
    "duration": 23,
    "start_time": "2021-07-07T12:29:45.413Z"
   },
   {
    "duration": 21,
    "start_time": "2021-07-07T12:29:45.437Z"
   },
   {
    "duration": 41,
    "start_time": "2021-07-07T12:29:45.460Z"
   },
   {
    "duration": 7,
    "start_time": "2021-07-07T12:29:45.502Z"
   },
   {
    "duration": 20,
    "start_time": "2021-07-07T12:29:45.511Z"
   },
   {
    "duration": 12,
    "start_time": "2021-07-07T12:34:02.800Z"
   },
   {
    "duration": 7,
    "start_time": "2021-07-07T12:35:10.479Z"
   },
   {
    "duration": 8,
    "start_time": "2021-07-07T12:35:22.440Z"
   },
   {
    "duration": 6,
    "start_time": "2021-07-07T12:35:35.649Z"
   },
   {
    "duration": 6,
    "start_time": "2021-07-07T12:35:43.107Z"
   },
   {
    "duration": 22,
    "start_time": "2021-07-07T12:38:03.029Z"
   },
   {
    "duration": 10,
    "start_time": "2021-07-07T12:38:06.592Z"
   },
   {
    "duration": 563,
    "start_time": "2021-07-07T12:38:46.493Z"
   },
   {
    "duration": 265,
    "start_time": "2021-07-07T12:38:47.058Z"
   },
   {
    "duration": 94,
    "start_time": "2021-07-07T12:38:47.325Z"
   },
   {
    "duration": 3,
    "start_time": "2021-07-07T12:38:47.422Z"
   },
   {
    "duration": 30,
    "start_time": "2021-07-07T12:38:47.427Z"
   },
   {
    "duration": 16,
    "start_time": "2021-07-07T12:38:53.305Z"
   },
   {
    "duration": 10,
    "start_time": "2021-07-07T12:38:53.499Z"
   },
   {
    "duration": 8,
    "start_time": "2021-07-07T12:39:48.161Z"
   },
   {
    "duration": 27,
    "start_time": "2021-07-07T12:41:17.629Z"
   },
   {
    "duration": 17,
    "start_time": "2021-07-07T12:41:17.867Z"
   },
   {
    "duration": 21,
    "start_time": "2021-07-07T12:41:19.310Z"
   },
   {
    "duration": 7,
    "start_time": "2021-07-07T12:41:19.544Z"
   },
   {
    "duration": 20,
    "start_time": "2021-07-07T12:41:20.504Z"
   },
   {
    "duration": 554,
    "start_time": "2021-07-07T12:56:23.696Z"
   },
   {
    "duration": 200,
    "start_time": "2021-07-07T12:56:25.234Z"
   },
   {
    "duration": 119,
    "start_time": "2021-07-07T12:56:25.480Z"
   },
   {
    "duration": 4,
    "start_time": "2021-07-07T12:56:25.762Z"
   },
   {
    "duration": 26,
    "start_time": "2021-07-07T12:56:27.172Z"
   },
   {
    "duration": 12,
    "start_time": "2021-07-07T12:56:29.051Z"
   },
   {
    "duration": 10,
    "start_time": "2021-07-07T12:56:29.291Z"
   },
   {
    "duration": 8,
    "start_time": "2021-07-07T12:56:29.623Z"
   },
   {
    "duration": 28,
    "start_time": "2021-07-07T12:56:32.137Z"
   },
   {
    "duration": 19,
    "start_time": "2021-07-07T12:56:39.785Z"
   },
   {
    "duration": 20,
    "start_time": "2021-07-07T12:56:44.297Z"
   },
   {
    "duration": 7,
    "start_time": "2021-07-07T12:56:45.392Z"
   },
   {
    "duration": 23,
    "start_time": "2021-07-07T12:56:46.615Z"
   },
   {
    "duration": 4,
    "start_time": "2021-07-07T12:57:06.625Z"
   },
   {
    "duration": 32,
    "start_time": "2021-07-07T12:57:36.690Z"
   },
   {
    "duration": 18,
    "start_time": "2021-07-07T12:58:00.149Z"
   },
   {
    "duration": 15,
    "start_time": "2021-07-07T12:59:16.793Z"
   },
   {
    "duration": 7,
    "start_time": "2021-07-07T13:19:22.624Z"
   },
   {
    "duration": 6,
    "start_time": "2021-07-07T14:17:33.527Z"
   },
   {
    "duration": 9,
    "start_time": "2021-07-07T14:17:48.409Z"
   },
   {
    "duration": 8,
    "start_time": "2021-07-07T14:20:13.060Z"
   },
   {
    "duration": 8,
    "start_time": "2021-07-07T14:20:37.957Z"
   },
   {
    "duration": 8,
    "start_time": "2021-07-07T14:20:47.470Z"
   },
   {
    "duration": 9,
    "start_time": "2021-07-07T14:20:54.503Z"
   },
   {
    "duration": 10,
    "start_time": "2021-07-07T14:28:57.763Z"
   },
   {
    "duration": 3,
    "start_time": "2021-07-07T14:30:23.377Z"
   },
   {
    "duration": 3,
    "start_time": "2021-07-07T14:30:36.489Z"
   },
   {
    "duration": 103,
    "start_time": "2021-07-07T14:30:52.351Z"
   },
   {
    "duration": 8,
    "start_time": "2021-07-07T14:30:54.763Z"
   },
   {
    "duration": 8,
    "start_time": "2021-07-07T14:31:29.301Z"
   },
   {
    "duration": 13,
    "start_time": "2021-07-07T14:31:44.516Z"
   },
   {
    "duration": 7,
    "start_time": "2021-07-07T14:33:10.972Z"
   },
   {
    "duration": 11,
    "start_time": "2021-07-07T14:33:27.780Z"
   },
   {
    "duration": 8,
    "start_time": "2021-07-07T14:34:44.588Z"
   },
   {
    "duration": 57,
    "start_time": "2021-07-07T14:35:59.042Z"
   },
   {
    "duration": 3,
    "start_time": "2021-07-07T14:36:28.168Z"
   },
   {
    "duration": 5,
    "start_time": "2021-07-07T14:36:46.254Z"
   },
   {
    "duration": 4,
    "start_time": "2021-07-07T14:36:52.714Z"
   },
   {
    "duration": 3,
    "start_time": "2021-07-07T14:36:56.612Z"
   },
   {
    "duration": 4,
    "start_time": "2021-07-07T14:36:57.049Z"
   },
   {
    "duration": 3,
    "start_time": "2021-07-07T14:39:21.214Z"
   },
   {
    "duration": 7,
    "start_time": "2021-07-07T14:39:52.406Z"
   },
   {
    "duration": 11,
    "start_time": "2021-07-07T14:39:58.576Z"
   },
   {
    "duration": 9,
    "start_time": "2021-07-07T14:40:26.301Z"
   },
   {
    "duration": 10,
    "start_time": "2021-07-07T14:40:31.704Z"
   },
   {
    "duration": 11,
    "start_time": "2021-07-07T14:40:36.249Z"
   },
   {
    "duration": 10,
    "start_time": "2021-07-07T14:40:39.783Z"
   },
   {
    "duration": 9,
    "start_time": "2021-07-07T14:40:48.558Z"
   },
   {
    "duration": 10,
    "start_time": "2021-07-07T14:40:57.143Z"
   },
   {
    "duration": 9,
    "start_time": "2021-07-07T14:41:06.074Z"
   },
   {
    "duration": 4324,
    "start_time": "2021-07-07T14:41:22.004Z"
   },
   {
    "duration": 11,
    "start_time": "2021-07-07T14:41:33.392Z"
   },
   {
    "duration": 9,
    "start_time": "2021-07-07T14:41:39.288Z"
   },
   {
    "duration": 569,
    "start_time": "2021-07-07T14:42:14.387Z"
   },
   {
    "duration": 197,
    "start_time": "2021-07-07T14:42:14.959Z"
   },
   {
    "duration": 84,
    "start_time": "2021-07-07T14:42:16.052Z"
   },
   {
    "duration": 4,
    "start_time": "2021-07-07T14:42:16.900Z"
   },
   {
    "duration": 27,
    "start_time": "2021-07-07T14:42:19.898Z"
   },
   {
    "duration": 12,
    "start_time": "2021-07-07T14:42:21.577Z"
   },
   {
    "duration": 9,
    "start_time": "2021-07-07T14:42:21.813Z"
   },
   {
    "duration": 9,
    "start_time": "2021-07-07T14:42:22.569Z"
   },
   {
    "duration": 29,
    "start_time": "2021-07-07T14:42:25.837Z"
   },
   {
    "duration": 20,
    "start_time": "2021-07-07T14:42:27.003Z"
   },
   {
    "duration": 21,
    "start_time": "2021-07-07T14:42:28.767Z"
   },
   {
    "duration": 7,
    "start_time": "2021-07-07T14:42:29.838Z"
   },
   {
    "duration": 4,
    "start_time": "2021-07-07T14:43:25.493Z"
   },
   {
    "duration": 7,
    "start_time": "2021-07-07T14:43:26.573Z"
   },
   {
    "duration": 10,
    "start_time": "2021-07-07T14:43:31.639Z"
   },
   {
    "duration": 9,
    "start_time": "2021-07-07T14:43:32.046Z"
   },
   {
    "duration": 10,
    "start_time": "2021-07-07T14:43:33.301Z"
   },
   {
    "duration": 12,
    "start_time": "2021-07-07T14:43:33.658Z"
   },
   {
    "duration": 8,
    "start_time": "2021-07-07T14:43:34.552Z"
   },
   {
    "duration": 9,
    "start_time": "2021-07-07T14:43:35.058Z"
   },
   {
    "duration": 12,
    "start_time": "2021-07-07T14:43:35.914Z"
   },
   {
    "duration": 17,
    "start_time": "2021-07-07T14:45:34.368Z"
   },
   {
    "duration": 512,
    "start_time": "2021-07-07T14:51:58.236Z"
   },
   {
    "duration": 223,
    "start_time": "2021-07-07T14:51:58.750Z"
   },
   {
    "duration": 93,
    "start_time": "2021-07-07T14:51:58.977Z"
   },
   {
    "duration": 4,
    "start_time": "2021-07-07T14:51:59.071Z"
   },
   {
    "duration": 37,
    "start_time": "2021-07-07T14:51:59.077Z"
   },
   {
    "duration": 18,
    "start_time": "2021-07-07T14:51:59.116Z"
   },
   {
    "duration": 10,
    "start_time": "2021-07-07T14:51:59.137Z"
   },
   {
    "duration": 8,
    "start_time": "2021-07-07T14:51:59.149Z"
   },
   {
    "duration": 54,
    "start_time": "2021-07-07T14:51:59.158Z"
   },
   {
    "duration": 18,
    "start_time": "2021-07-07T14:51:59.213Z"
   },
   {
    "duration": 22,
    "start_time": "2021-07-07T14:51:59.232Z"
   },
   {
    "duration": 36,
    "start_time": "2021-07-07T14:51:59.255Z"
   },
   {
    "duration": 7,
    "start_time": "2021-07-07T14:51:59.293Z"
   },
   {
    "duration": 10,
    "start_time": "2021-07-07T14:51:59.302Z"
   },
   {
    "duration": 9,
    "start_time": "2021-07-07T14:51:59.313Z"
   },
   {
    "duration": 11,
    "start_time": "2021-07-07T14:51:59.324Z"
   },
   {
    "duration": 8,
    "start_time": "2021-07-07T14:51:59.337Z"
   },
   {
    "duration": 46,
    "start_time": "2021-07-07T14:51:59.347Z"
   },
   {
    "duration": 22,
    "start_time": "2021-07-07T14:51:59.395Z"
   },
   {
    "duration": 24,
    "start_time": "2021-07-07T14:57:32.911Z"
   },
   {
    "duration": 7,
    "start_time": "2021-07-07T14:58:22.070Z"
   },
   {
    "duration": 4,
    "start_time": "2021-07-07T14:59:11.239Z"
   },
   {
    "duration": 25,
    "start_time": "2021-07-07T15:07:22.208Z"
   },
   {
    "duration": 16,
    "start_time": "2021-07-07T15:08:25.560Z"
   },
   {
    "duration": 15,
    "start_time": "2021-07-07T15:08:40.647Z"
   },
   {
    "duration": 14,
    "start_time": "2021-07-07T15:08:46.669Z"
   },
   {
    "duration": 533,
    "start_time": "2021-07-07T15:18:07.440Z"
   },
   {
    "duration": 173,
    "start_time": "2021-07-07T15:18:07.974Z"
   },
   {
    "duration": 84,
    "start_time": "2021-07-07T15:18:08.149Z"
   },
   {
    "duration": 3,
    "start_time": "2021-07-07T15:18:08.235Z"
   },
   {
    "duration": 30,
    "start_time": "2021-07-07T15:18:08.240Z"
   },
   {
    "duration": 22,
    "start_time": "2021-07-07T15:18:08.272Z"
   },
   {
    "duration": 11,
    "start_time": "2021-07-07T15:18:08.295Z"
   },
   {
    "duration": 11,
    "start_time": "2021-07-07T15:18:08.309Z"
   },
   {
    "duration": 40,
    "start_time": "2021-07-07T15:18:08.322Z"
   },
   {
    "duration": 42,
    "start_time": "2021-07-07T15:18:08.364Z"
   },
   {
    "duration": 22,
    "start_time": "2021-07-07T15:18:08.408Z"
   },
   {
    "duration": 5,
    "start_time": "2021-07-07T15:18:08.432Z"
   },
   {
    "duration": 13,
    "start_time": "2021-07-07T15:18:08.439Z"
   },
   {
    "duration": 9,
    "start_time": "2021-07-07T15:18:08.454Z"
   },
   {
    "duration": 32,
    "start_time": "2021-07-07T15:18:08.465Z"
   },
   {
    "duration": 10,
    "start_time": "2021-07-07T15:18:08.501Z"
   },
   {
    "duration": 7,
    "start_time": "2021-07-07T15:18:08.513Z"
   },
   {
    "duration": 11,
    "start_time": "2021-07-07T15:18:08.521Z"
   },
   {
    "duration": 17,
    "start_time": "2021-07-07T15:18:08.534Z"
   },
   {
    "duration": 44,
    "start_time": "2021-07-07T15:18:08.553Z"
   },
   {
    "duration": 22,
    "start_time": "2021-07-07T15:18:08.599Z"
   },
   {
    "duration": 61,
    "start_time": "2021-07-07T15:18:08.622Z"
   },
   {
    "duration": 7,
    "start_time": "2021-07-07T15:18:39.457Z"
   },
   {
    "duration": 5,
    "start_time": "2021-07-07T16:05:17.020Z"
   },
   {
    "duration": 5,
    "start_time": "2021-07-07T16:51:28.794Z"
   },
   {
    "duration": 546,
    "start_time": "2021-07-07T16:52:26.306Z"
   },
   {
    "duration": 203,
    "start_time": "2021-07-07T16:52:27.523Z"
   },
   {
    "duration": 85,
    "start_time": "2021-07-07T16:52:27.736Z"
   },
   {
    "duration": 4,
    "start_time": "2021-07-07T16:52:27.899Z"
   },
   {
    "duration": 25,
    "start_time": "2021-07-07T16:52:28.674Z"
   },
   {
    "duration": 8,
    "start_time": "2021-07-07T16:52:32.956Z"
   },
   {
    "duration": 18,
    "start_time": "2021-07-07T16:52:35.616Z"
   },
   {
    "duration": 6,
    "start_time": "2021-07-07T16:52:36.913Z"
   },
   {
    "duration": 11,
    "start_time": "2021-07-07T16:52:40.258Z"
   },
   {
    "duration": 10,
    "start_time": "2021-07-07T16:52:46.251Z"
   },
   {
    "duration": 8,
    "start_time": "2021-07-07T16:52:47.182Z"
   },
   {
    "duration": 27,
    "start_time": "2021-07-07T16:53:20.391Z"
   },
   {
    "duration": 20,
    "start_time": "2021-07-07T16:53:22.022Z"
   },
   {
    "duration": 23,
    "start_time": "2021-07-07T16:53:23.690Z"
   },
   {
    "duration": 8,
    "start_time": "2021-07-07T16:53:24.261Z"
   },
   {
    "duration": 4,
    "start_time": "2021-07-07T16:53:38.733Z"
   },
   {
    "duration": 7,
    "start_time": "2021-07-07T16:53:40.445Z"
   },
   {
    "duration": 11,
    "start_time": "2021-07-07T16:53:41.348Z"
   },
   {
    "duration": 13,
    "start_time": "2021-07-07T16:53:45.250Z"
   },
   {
    "duration": 12,
    "start_time": "2021-07-07T16:53:45.467Z"
   },
   {
    "duration": 4,
    "start_time": "2021-07-07T16:55:32.704Z"
   },
   {
    "duration": 12,
    "start_time": "2021-07-07T16:55:49.012Z"
   },
   {
    "duration": 18,
    "start_time": "2021-07-07T16:55:49.547Z"
   },
   {
    "duration": 611,
    "start_time": "2021-07-07T16:58:35.156Z"
   },
   {
    "duration": 200,
    "start_time": "2021-07-07T16:58:35.770Z"
   },
   {
    "duration": 86,
    "start_time": "2021-07-07T16:58:35.972Z"
   },
   {
    "duration": 3,
    "start_time": "2021-07-07T16:58:36.060Z"
   },
   {
    "duration": 27,
    "start_time": "2021-07-07T16:58:36.065Z"
   },
   {
    "duration": 8,
    "start_time": "2021-07-07T16:58:36.094Z"
   },
   {
    "duration": 17,
    "start_time": "2021-07-07T16:58:36.103Z"
   },
   {
    "duration": 5,
    "start_time": "2021-07-07T16:58:36.123Z"
   },
   {
    "duration": 11,
    "start_time": "2021-07-07T16:58:36.130Z"
   },
   {
    "duration": 7,
    "start_time": "2021-07-07T16:58:36.143Z"
   },
   {
    "duration": 37,
    "start_time": "2021-07-07T16:58:36.152Z"
   },
   {
    "duration": 27,
    "start_time": "2021-07-07T16:58:36.191Z"
   },
   {
    "duration": 19,
    "start_time": "2021-07-07T16:58:36.219Z"
   },
   {
    "duration": 49,
    "start_time": "2021-07-07T16:58:36.240Z"
   },
   {
    "duration": 6,
    "start_time": "2021-07-07T16:58:36.291Z"
   },
   {
    "duration": 3,
    "start_time": "2021-07-07T16:58:36.299Z"
   },
   {
    "duration": 13,
    "start_time": "2021-07-07T16:58:36.304Z"
   },
   {
    "duration": 10,
    "start_time": "2021-07-07T16:58:36.319Z"
   },
   {
    "duration": 10,
    "start_time": "2021-07-07T16:58:36.331Z"
   },
   {
    "duration": 44,
    "start_time": "2021-07-07T16:58:36.343Z"
   },
   {
    "duration": 4,
    "start_time": "2021-07-07T16:58:36.388Z"
   },
   {
    "duration": 13,
    "start_time": "2021-07-07T16:58:36.394Z"
   },
   {
    "duration": 16,
    "start_time": "2021-07-07T16:58:36.410Z"
   },
   {
    "duration": 8,
    "start_time": "2021-07-07T17:02:31.629Z"
   },
   {
    "duration": 8,
    "start_time": "2021-07-07T17:02:34.308Z"
   },
   {
    "duration": 6,
    "start_time": "2021-07-07T17:05:13.483Z"
   },
   {
    "duration": 17,
    "start_time": "2021-07-07T17:05:20.606Z"
   },
   {
    "duration": 7,
    "start_time": "2021-07-07T17:05:34.638Z"
   },
   {
    "duration": 3,
    "start_time": "2021-07-07T17:06:31.883Z"
   },
   {
    "duration": 570,
    "start_time": "2021-07-07T17:06:37.165Z"
   },
   {
    "duration": 174,
    "start_time": "2021-07-07T17:06:37.737Z"
   },
   {
    "duration": 47,
    "start_time": "2021-07-07T17:06:37.913Z"
   },
   {
    "duration": 3,
    "start_time": "2021-07-07T17:06:37.962Z"
   },
   {
    "duration": 27,
    "start_time": "2021-07-07T17:06:37.967Z"
   },
   {
    "duration": 7,
    "start_time": "2021-07-07T17:06:37.996Z"
   },
   {
    "duration": 16,
    "start_time": "2021-07-07T17:06:38.005Z"
   },
   {
    "duration": 6,
    "start_time": "2021-07-07T17:06:38.024Z"
   },
   {
    "duration": 12,
    "start_time": "2021-07-07T17:06:38.031Z"
   },
   {
    "duration": 41,
    "start_time": "2021-07-07T17:06:38.045Z"
   },
   {
    "duration": 8,
    "start_time": "2021-07-07T17:06:38.088Z"
   },
   {
    "duration": 26,
    "start_time": "2021-07-07T17:06:38.098Z"
   },
   {
    "duration": 17,
    "start_time": "2021-07-07T17:06:38.126Z"
   },
   {
    "duration": 43,
    "start_time": "2021-07-07T17:06:38.144Z"
   },
   {
    "duration": 6,
    "start_time": "2021-07-07T17:06:38.188Z"
   },
   {
    "duration": 5,
    "start_time": "2021-07-07T17:06:38.195Z"
   },
   {
    "duration": 9,
    "start_time": "2021-07-07T17:06:38.201Z"
   },
   {
    "duration": 12,
    "start_time": "2021-07-07T17:06:38.212Z"
   },
   {
    "duration": 11,
    "start_time": "2021-07-07T17:06:38.226Z"
   },
   {
    "duration": 47,
    "start_time": "2021-07-07T17:06:38.239Z"
   },
   {
    "duration": 4,
    "start_time": "2021-07-07T17:06:38.288Z"
   },
   {
    "duration": 13,
    "start_time": "2021-07-07T17:06:38.293Z"
   },
   {
    "duration": 5,
    "start_time": "2021-07-07T17:06:38.309Z"
   },
   {
    "duration": 18,
    "start_time": "2021-07-07T17:06:38.325Z"
   },
   {
    "duration": 20,
    "start_time": "2021-07-07T17:07:02.805Z"
   },
   {
    "duration": 19,
    "start_time": "2021-07-07T17:07:08.527Z"
   },
   {
    "duration": 19,
    "start_time": "2021-07-07T17:07:12.758Z"
   },
   {
    "duration": 22,
    "start_time": "2021-07-07T17:07:17.497Z"
   },
   {
    "duration": 19,
    "start_time": "2021-07-07T17:07:19.645Z"
   },
   {
    "duration": 10,
    "start_time": "2021-07-07T17:07:34.239Z"
   },
   {
    "duration": 17,
    "start_time": "2021-07-07T17:07:54.144Z"
   },
   {
    "duration": 14,
    "start_time": "2021-07-07T17:08:14.357Z"
   },
   {
    "duration": 616,
    "start_time": "2021-07-07T17:08:45.254Z"
   },
   {
    "duration": 178,
    "start_time": "2021-07-07T17:08:45.872Z"
   },
   {
    "duration": 60,
    "start_time": "2021-07-07T17:08:46.054Z"
   },
   {
    "duration": 3,
    "start_time": "2021-07-07T17:08:46.116Z"
   },
   {
    "duration": 26,
    "start_time": "2021-07-07T17:08:46.121Z"
   },
   {
    "duration": 7,
    "start_time": "2021-07-07T17:08:46.149Z"
   },
   {
    "duration": 17,
    "start_time": "2021-07-07T17:08:46.158Z"
   },
   {
    "duration": 14,
    "start_time": "2021-07-07T17:08:46.176Z"
   },
   {
    "duration": 17,
    "start_time": "2021-07-07T17:08:46.193Z"
   },
   {
    "duration": 9,
    "start_time": "2021-07-07T17:08:46.211Z"
   },
   {
    "duration": 21,
    "start_time": "2021-07-07T17:08:46.221Z"
   },
   {
    "duration": 49,
    "start_time": "2021-07-07T17:08:46.244Z"
   },
   {
    "duration": 24,
    "start_time": "2021-07-07T17:08:46.295Z"
   },
   {
    "duration": 22,
    "start_time": "2021-07-07T17:08:46.321Z"
   },
   {
    "duration": 6,
    "start_time": "2021-07-07T17:08:46.345Z"
   },
   {
    "duration": 5,
    "start_time": "2021-07-07T17:08:46.353Z"
   },
   {
    "duration": 13,
    "start_time": "2021-07-07T17:08:46.386Z"
   },
   {
    "duration": 12,
    "start_time": "2021-07-07T17:08:46.402Z"
   },
   {
    "duration": 10,
    "start_time": "2021-07-07T17:08:46.415Z"
   },
   {
    "duration": 7,
    "start_time": "2021-07-07T17:08:46.427Z"
   },
   {
    "duration": 8,
    "start_time": "2021-07-07T17:08:46.435Z"
   },
   {
    "duration": 68,
    "start_time": "2021-07-07T17:08:46.446Z"
   },
   {
    "duration": 13,
    "start_time": "2021-07-07T17:08:46.516Z"
   },
   {
    "duration": 78,
    "start_time": "2021-07-07T17:08:46.530Z"
   },
   {
    "duration": 40,
    "start_time": "2021-07-07T17:09:08.185Z"
   },
   {
    "duration": 16,
    "start_time": "2021-07-07T17:09:19.324Z"
   },
   {
    "duration": 21,
    "start_time": "2021-07-07T17:09:23.290Z"
   },
   {
    "duration": 13,
    "start_time": "2021-07-07T17:09:54.812Z"
   },
   {
    "duration": 13,
    "start_time": "2021-07-07T17:10:02.039Z"
   },
   {
    "duration": 10,
    "start_time": "2021-07-07T17:10:29.632Z"
   },
   {
    "duration": 13,
    "start_time": "2021-07-07T17:10:52.372Z"
   },
   {
    "duration": 13,
    "start_time": "2021-07-07T17:11:17.270Z"
   },
   {
    "duration": 13,
    "start_time": "2021-07-07T17:14:59.284Z"
   },
   {
    "duration": 547,
    "start_time": "2021-07-07T17:18:52.403Z"
   },
   {
    "duration": 163,
    "start_time": "2021-07-07T17:18:52.952Z"
   },
   {
    "duration": 44,
    "start_time": "2021-07-07T17:18:53.117Z"
   },
   {
    "duration": 3,
    "start_time": "2021-07-07T17:18:53.162Z"
   },
   {
    "duration": 26,
    "start_time": "2021-07-07T17:18:53.167Z"
   },
   {
    "duration": 6,
    "start_time": "2021-07-07T17:18:53.195Z"
   },
   {
    "duration": 15,
    "start_time": "2021-07-07T17:18:53.203Z"
   },
   {
    "duration": 5,
    "start_time": "2021-07-07T17:18:53.220Z"
   },
   {
    "duration": 11,
    "start_time": "2021-07-07T17:18:53.228Z"
   },
   {
    "duration": 9,
    "start_time": "2021-07-07T17:18:53.241Z"
   },
   {
    "duration": 41,
    "start_time": "2021-07-07T17:18:53.252Z"
   },
   {
    "duration": 33,
    "start_time": "2021-07-07T17:18:53.295Z"
   },
   {
    "duration": 19,
    "start_time": "2021-07-07T17:18:53.330Z"
   },
   {
    "duration": 49,
    "start_time": "2021-07-07T17:18:53.350Z"
   },
   {
    "duration": 5,
    "start_time": "2021-07-07T17:18:53.401Z"
   },
   {
    "duration": 5,
    "start_time": "2021-07-07T17:18:53.408Z"
   },
   {
    "duration": 11,
    "start_time": "2021-07-07T17:18:53.414Z"
   },
   {
    "duration": 9,
    "start_time": "2021-07-07T17:18:53.427Z"
   },
   {
    "duration": 10,
    "start_time": "2021-07-07T17:18:53.437Z"
   },
   {
    "duration": 39,
    "start_time": "2021-07-07T17:18:53.448Z"
   },
   {
    "duration": 26,
    "start_time": "2021-07-07T17:18:55.799Z"
   },
   {
    "duration": 598,
    "start_time": "2021-07-07T17:20:17.862Z"
   },
   {
    "duration": 161,
    "start_time": "2021-07-07T17:20:18.462Z"
   },
   {
    "duration": 45,
    "start_time": "2021-07-07T17:20:18.626Z"
   },
   {
    "duration": 4,
    "start_time": "2021-07-07T17:20:18.673Z"
   },
   {
    "duration": 38,
    "start_time": "2021-07-07T17:20:26.877Z"
   },
   {
    "duration": 7,
    "start_time": "2021-07-07T17:20:37.405Z"
   },
   {
    "duration": 19,
    "start_time": "2021-07-07T17:20:51.534Z"
   },
   {
    "duration": 5,
    "start_time": "2021-07-07T17:20:57.228Z"
   },
   {
    "duration": 7,
    "start_time": "2021-07-07T17:21:08.235Z"
   },
   {
    "duration": 19,
    "start_time": "2021-07-07T17:21:42.158Z"
   },
   {
    "duration": 14,
    "start_time": "2021-07-07T17:21:50.225Z"
   },
   {
    "duration": 22,
    "start_time": "2021-07-07T17:22:54.104Z"
   },
   {
    "duration": 5,
    "start_time": "2021-07-07T17:22:56.371Z"
   },
   {
    "duration": 14,
    "start_time": "2021-07-07T17:22:58.316Z"
   },
   {
    "duration": 5,
    "start_time": "2021-07-07T17:22:58.493Z"
   },
   {
    "duration": 35,
    "start_time": "2021-07-07T17:22:59.666Z"
   },
   {
    "duration": 6,
    "start_time": "2021-07-07T17:23:02.410Z"
   },
   {
    "duration": 611,
    "start_time": "2021-07-07T17:24:59.664Z"
   },
   {
    "duration": 178,
    "start_time": "2021-07-07T17:25:01.945Z"
   },
   {
    "duration": 47,
    "start_time": "2021-07-07T17:25:02.125Z"
   },
   {
    "duration": 2,
    "start_time": "2021-07-07T17:25:07.903Z"
   },
   {
    "duration": 254,
    "start_time": "2021-07-07T17:25:08.232Z"
   },
   {
    "duration": 182,
    "start_time": "2021-07-07T17:25:08.671Z"
   },
   {
    "duration": 6,
    "start_time": "2021-07-07T17:25:13.104Z"
   },
   {
    "duration": 36,
    "start_time": "2021-07-07T17:25:13.662Z"
   },
   {
    "duration": 7,
    "start_time": "2021-07-07T17:25:14.528Z"
   },
   {
    "duration": 24,
    "start_time": "2021-07-07T17:25:27.982Z"
   },
   {
    "duration": 3,
    "start_time": "2021-07-07T17:25:48.982Z"
   },
   {
    "duration": 165,
    "start_time": "2021-07-07T17:25:48.987Z"
   },
   {
    "duration": 50,
    "start_time": "2021-07-07T17:25:49.154Z"
   },
   {
    "duration": 4,
    "start_time": "2021-07-07T17:25:49.206Z"
   },
   {
    "duration": 26,
    "start_time": "2021-07-07T17:25:49.212Z"
   },
   {
    "duration": 7,
    "start_time": "2021-07-07T17:25:49.240Z"
   },
   {
    "duration": 16,
    "start_time": "2021-07-07T17:25:49.249Z"
   },
   {
    "duration": 22,
    "start_time": "2021-07-07T17:25:49.266Z"
   },
   {
    "duration": 16,
    "start_time": "2021-07-07T17:25:49.291Z"
   },
   {
    "duration": 9,
    "start_time": "2021-07-07T17:25:49.309Z"
   },
   {
    "duration": 7,
    "start_time": "2021-07-07T17:25:49.319Z"
   },
   {
    "duration": 28,
    "start_time": "2021-07-07T17:25:49.328Z"
   },
   {
    "duration": 44,
    "start_time": "2021-07-07T17:25:49.357Z"
   },
   {
    "duration": 22,
    "start_time": "2021-07-07T17:25:49.403Z"
   },
   {
    "duration": 7,
    "start_time": "2021-07-07T17:25:49.427Z"
   },
   {
    "duration": 3,
    "start_time": "2021-07-07T17:25:49.436Z"
   },
   {
    "duration": 44,
    "start_time": "2021-07-07T17:25:49.441Z"
   },
   {
    "duration": 12,
    "start_time": "2021-07-07T17:25:49.488Z"
   },
   {
    "duration": 13,
    "start_time": "2021-07-07T17:25:49.502Z"
   },
   {
    "duration": 10,
    "start_time": "2021-07-07T17:25:49.516Z"
   },
   {
    "duration": 62,
    "start_time": "2021-07-07T17:25:49.527Z"
   },
   {
    "duration": 26,
    "start_time": "2021-07-07T17:26:51.809Z"
   },
   {
    "duration": 26,
    "start_time": "2021-07-07T17:26:55.759Z"
   },
   {
    "duration": 26,
    "start_time": "2021-07-07T17:27:04.501Z"
   },
   {
    "duration": 25,
    "start_time": "2021-07-07T17:28:24.859Z"
   },
   {
    "duration": 21,
    "start_time": "2021-07-07T17:28:55.250Z"
   },
   {
    "duration": 21,
    "start_time": "2021-07-07T17:28:58.885Z"
   },
   {
    "duration": 7,
    "start_time": "2021-07-07T17:45:40.972Z"
   },
   {
    "duration": 13,
    "start_time": "2021-07-07T17:45:42.529Z"
   },
   {
    "duration": 27,
    "start_time": "2021-07-07T17:45:51.026Z"
   },
   {
    "duration": 518,
    "start_time": "2021-07-07T17:46:15.532Z"
   },
   {
    "duration": 235,
    "start_time": "2021-07-07T17:46:16.053Z"
   },
   {
    "duration": 80,
    "start_time": "2021-07-07T17:46:16.292Z"
   },
   {
    "duration": 5,
    "start_time": "2021-07-07T17:46:16.373Z"
   },
   {
    "duration": 26,
    "start_time": "2021-07-07T17:46:16.380Z"
   },
   {
    "duration": 7,
    "start_time": "2021-07-07T17:46:16.408Z"
   },
   {
    "duration": 16,
    "start_time": "2021-07-07T17:46:16.418Z"
   },
   {
    "duration": 5,
    "start_time": "2021-07-07T17:46:16.436Z"
   },
   {
    "duration": 13,
    "start_time": "2021-07-07T17:46:16.442Z"
   },
   {
    "duration": 35,
    "start_time": "2021-07-07T17:46:16.456Z"
   },
   {
    "duration": 8,
    "start_time": "2021-07-07T17:46:16.493Z"
   },
   {
    "duration": 28,
    "start_time": "2021-07-07T17:46:16.502Z"
   },
   {
    "duration": 17,
    "start_time": "2021-07-07T17:46:16.532Z"
   },
   {
    "duration": 44,
    "start_time": "2021-07-07T17:46:16.551Z"
   },
   {
    "duration": 6,
    "start_time": "2021-07-07T17:46:16.597Z"
   },
   {
    "duration": 4,
    "start_time": "2021-07-07T17:46:16.605Z"
   },
   {
    "duration": 9,
    "start_time": "2021-07-07T17:46:16.610Z"
   },
   {
    "duration": 9,
    "start_time": "2021-07-07T17:46:16.621Z"
   },
   {
    "duration": 10,
    "start_time": "2021-07-07T17:46:16.632Z"
   },
   {
    "duration": 43,
    "start_time": "2021-07-07T17:46:16.644Z"
   },
   {
    "duration": 26,
    "start_time": "2021-07-07T17:46:16.689Z"
   },
   {
    "duration": 19,
    "start_time": "2021-07-07T17:46:16.718Z"
   },
   {
    "duration": 8,
    "start_time": "2021-07-07T17:46:16.738Z"
   },
   {
    "duration": 43,
    "start_time": "2021-07-07T17:46:16.747Z"
   },
   {
    "duration": 19,
    "start_time": "2021-07-07T17:46:16.791Z"
   },
   {
    "duration": 9,
    "start_time": "2021-07-07T17:46:16.812Z"
   },
   {
    "duration": 60,
    "start_time": "2021-07-07T17:46:16.822Z"
   },
   {
    "duration": -8,
    "start_time": "2021-07-07T17:46:16.892Z"
   },
   {
    "duration": 12,
    "start_time": "2021-07-07T17:48:47.707Z"
   },
   {
    "duration": 553,
    "start_time": "2021-07-07T18:10:09.350Z"
   },
   {
    "duration": 230,
    "start_time": "2021-07-07T18:10:09.905Z"
   },
   {
    "duration": 97,
    "start_time": "2021-07-07T18:10:10.137Z"
   },
   {
    "duration": 5,
    "start_time": "2021-07-07T18:10:10.236Z"
   },
   {
    "duration": 29,
    "start_time": "2021-07-07T18:10:10.242Z"
   },
   {
    "duration": 7,
    "start_time": "2021-07-07T18:10:10.272Z"
   },
   {
    "duration": 15,
    "start_time": "2021-07-07T18:10:10.281Z"
   },
   {
    "duration": 4,
    "start_time": "2021-07-07T18:10:10.299Z"
   },
   {
    "duration": 14,
    "start_time": "2021-07-07T18:10:10.305Z"
   },
   {
    "duration": 8,
    "start_time": "2021-07-07T18:10:10.321Z"
   },
   {
    "duration": 8,
    "start_time": "2021-07-07T18:10:10.331Z"
   },
   {
    "duration": 56,
    "start_time": "2021-07-07T18:10:10.341Z"
   },
   {
    "duration": 19,
    "start_time": "2021-07-07T18:10:10.399Z"
   },
   {
    "duration": 23,
    "start_time": "2021-07-07T18:10:10.419Z"
   },
   {
    "duration": 6,
    "start_time": "2021-07-07T18:10:10.444Z"
   },
   {
    "duration": 9,
    "start_time": "2021-07-07T18:10:10.451Z"
   },
   {
    "duration": 30,
    "start_time": "2021-07-07T18:10:10.462Z"
   },
   {
    "duration": 9,
    "start_time": "2021-07-07T18:10:10.494Z"
   },
   {
    "duration": 14,
    "start_time": "2021-07-07T18:10:10.505Z"
   },
   {
    "duration": 7,
    "start_time": "2021-07-07T18:10:10.521Z"
   },
   {
    "duration": 26,
    "start_time": "2021-07-07T18:10:10.530Z"
   },
   {
    "duration": 44,
    "start_time": "2021-07-07T18:10:10.558Z"
   },
   {
    "duration": 7,
    "start_time": "2021-07-07T18:10:10.605Z"
   },
   {
    "duration": 11,
    "start_time": "2021-07-07T18:10:10.614Z"
   },
   {
    "duration": 19,
    "start_time": "2021-07-07T18:10:10.626Z"
   },
   {
    "duration": 44,
    "start_time": "2021-07-07T18:10:10.646Z"
   },
   {
    "duration": 516,
    "start_time": "2021-07-07T18:14:00.826Z"
   },
   {
    "duration": 230,
    "start_time": "2021-07-07T18:14:01.344Z"
   },
   {
    "duration": 105,
    "start_time": "2021-07-07T18:14:01.576Z"
   },
   {
    "duration": 5,
    "start_time": "2021-07-07T18:14:01.683Z"
   },
   {
    "duration": 46,
    "start_time": "2021-07-07T18:14:01.690Z"
   },
   {
    "duration": 7,
    "start_time": "2021-07-07T18:14:01.738Z"
   },
   {
    "duration": 20,
    "start_time": "2021-07-07T18:14:01.747Z"
   },
   {
    "duration": 16,
    "start_time": "2021-07-07T18:14:01.769Z"
   },
   {
    "duration": 14,
    "start_time": "2021-07-07T18:14:01.787Z"
   },
   {
    "duration": 15,
    "start_time": "2021-07-07T18:14:01.803Z"
   },
   {
    "duration": 12,
    "start_time": "2021-07-07T18:14:01.820Z"
   },
   {
    "duration": 35,
    "start_time": "2021-07-07T18:14:01.833Z"
   },
   {
    "duration": 31,
    "start_time": "2021-07-07T18:14:01.869Z"
   },
   {
    "duration": 37,
    "start_time": "2021-07-07T18:14:01.902Z"
   },
   {
    "duration": 8,
    "start_time": "2021-07-07T18:14:01.942Z"
   },
   {
    "duration": 16,
    "start_time": "2021-07-07T18:14:01.952Z"
   },
   {
    "duration": 13,
    "start_time": "2021-07-07T18:14:01.970Z"
   },
   {
    "duration": 32,
    "start_time": "2021-07-07T18:14:01.985Z"
   },
   {
    "duration": 11,
    "start_time": "2021-07-07T18:14:02.019Z"
   },
   {
    "duration": 22,
    "start_time": "2021-07-07T18:14:02.031Z"
   },
   {
    "duration": 27,
    "start_time": "2021-07-07T18:14:02.055Z"
   },
   {
    "duration": 18,
    "start_time": "2021-07-07T18:14:02.084Z"
   },
   {
    "duration": 18,
    "start_time": "2021-07-07T18:14:02.106Z"
   },
   {
    "duration": 11,
    "start_time": "2021-07-07T18:14:02.126Z"
   },
   {
    "duration": 21,
    "start_time": "2021-07-07T18:14:02.138Z"
   },
   {
    "duration": 32,
    "start_time": "2021-07-07T18:14:02.161Z"
   },
   {
    "duration": 28,
    "start_time": "2021-07-07T18:14:44.295Z"
   },
   {
    "duration": 6,
    "start_time": "2021-07-07T18:15:05.834Z"
   },
   {
    "duration": 511,
    "start_time": "2021-07-07T18:15:41.541Z"
   },
   {
    "duration": 183,
    "start_time": "2021-07-07T18:15:42.054Z"
   },
   {
    "duration": 50,
    "start_time": "2021-07-07T18:15:42.239Z"
   },
   {
    "duration": 5,
    "start_time": "2021-07-07T18:15:42.291Z"
   },
   {
    "duration": 48,
    "start_time": "2021-07-07T18:15:42.297Z"
   },
   {
    "duration": 8,
    "start_time": "2021-07-07T18:15:42.346Z"
   },
   {
    "duration": 17,
    "start_time": "2021-07-07T18:15:42.356Z"
   },
   {
    "duration": 15,
    "start_time": "2021-07-07T18:15:42.375Z"
   },
   {
    "duration": 12,
    "start_time": "2021-07-07T18:15:42.392Z"
   },
   {
    "duration": 7,
    "start_time": "2021-07-07T18:15:42.406Z"
   },
   {
    "duration": 7,
    "start_time": "2021-07-07T18:15:42.415Z"
   },
   {
    "duration": 29,
    "start_time": "2021-07-07T18:15:42.423Z"
   },
   {
    "duration": 43,
    "start_time": "2021-07-07T18:15:42.453Z"
   },
   {
    "duration": 18,
    "start_time": "2021-07-07T18:15:42.497Z"
   },
   {
    "duration": 6,
    "start_time": "2021-07-07T18:15:42.516Z"
   },
   {
    "duration": 3,
    "start_time": "2021-07-07T18:15:42.523Z"
   },
   {
    "duration": 18,
    "start_time": "2021-07-07T18:15:42.528Z"
   },
   {
    "duration": 10,
    "start_time": "2021-07-07T18:15:42.547Z"
   },
   {
    "duration": 36,
    "start_time": "2021-07-07T18:15:42.559Z"
   },
   {
    "duration": 8,
    "start_time": "2021-07-07T18:15:42.597Z"
   },
   {
    "duration": 28,
    "start_time": "2021-07-07T18:15:42.606Z"
   },
   {
    "duration": 52,
    "start_time": "2021-07-07T18:15:42.635Z"
   },
   {
    "duration": 7,
    "start_time": "2021-07-07T18:15:42.690Z"
   },
   {
    "duration": 10,
    "start_time": "2021-07-07T18:15:42.699Z"
   },
   {
    "duration": 19,
    "start_time": "2021-07-07T18:15:42.711Z"
   },
   {
    "duration": 9,
    "start_time": "2021-07-07T18:15:42.732Z"
   },
   {
    "duration": 5,
    "start_time": "2021-07-07T18:15:42.743Z"
   },
   {
    "duration": 1450,
    "start_time": "2021-07-07T18:15:51.984Z"
   },
   {
    "duration": 161,
    "start_time": "2021-07-07T18:15:53.435Z"
   },
   {
    "duration": 124,
    "start_time": "2021-07-07T18:15:53.598Z"
   },
   {
    "duration": 5,
    "start_time": "2021-07-07T18:15:53.724Z"
   },
   {
    "duration": 34,
    "start_time": "2021-07-07T18:15:53.730Z"
   },
   {
    "duration": 7,
    "start_time": "2021-07-07T18:15:53.765Z"
   },
   {
    "duration": 15,
    "start_time": "2021-07-07T18:15:53.773Z"
   },
   {
    "duration": 5,
    "start_time": "2021-07-07T18:15:53.791Z"
   },
   {
    "duration": 19,
    "start_time": "2021-07-07T18:15:53.798Z"
   },
   {
    "duration": 9,
    "start_time": "2021-07-07T18:15:53.818Z"
   },
   {
    "duration": 19,
    "start_time": "2021-07-07T18:15:53.828Z"
   },
   {
    "duration": 27,
    "start_time": "2021-07-07T18:15:53.848Z"
   },
   {
    "duration": 16,
    "start_time": "2021-07-07T18:15:53.884Z"
   },
   {
    "duration": 29,
    "start_time": "2021-07-07T18:15:53.901Z"
   },
   {
    "duration": 5,
    "start_time": "2021-07-07T18:15:53.932Z"
   },
   {
    "duration": 15,
    "start_time": "2021-07-07T18:15:53.939Z"
   },
   {
    "duration": 13,
    "start_time": "2021-07-07T18:15:53.956Z"
   },
   {
    "duration": 20,
    "start_time": "2021-07-07T18:15:53.971Z"
   },
   {
    "duration": 14,
    "start_time": "2021-07-07T18:15:53.992Z"
   },
   {
    "duration": 9,
    "start_time": "2021-07-07T18:15:54.009Z"
   },
   {
    "duration": 28,
    "start_time": "2021-07-07T18:15:54.020Z"
   },
   {
    "duration": 50,
    "start_time": "2021-07-07T18:15:54.051Z"
   },
   {
    "duration": 8,
    "start_time": "2021-07-07T18:15:54.105Z"
   },
   {
    "duration": 11,
    "start_time": "2021-07-07T18:15:54.115Z"
   },
   {
    "duration": 20,
    "start_time": "2021-07-07T18:15:54.128Z"
   },
   {
    "duration": 13,
    "start_time": "2021-07-07T18:15:54.184Z"
   },
   {
    "duration": 7,
    "start_time": "2021-07-07T18:15:54.199Z"
   },
   {
    "duration": 7,
    "start_time": "2021-07-07T18:17:08.042Z"
   },
   {
    "duration": 8,
    "start_time": "2021-07-07T18:17:21.008Z"
   },
   {
    "duration": 7,
    "start_time": "2021-07-07T18:17:29.003Z"
   },
   {
    "duration": 8,
    "start_time": "2021-07-07T18:17:32.492Z"
   },
   {
    "duration": 9,
    "start_time": "2021-07-07T18:17:41.758Z"
   },
   {
    "duration": 255,
    "start_time": "2021-07-07T18:20:20.897Z"
   },
   {
    "duration": 173,
    "start_time": "2021-07-07T18:20:26.636Z"
   },
   {
    "duration": 7,
    "start_time": "2021-07-07T18:21:47.164Z"
   },
   {
    "duration": 254,
    "start_time": "2021-07-07T18:23:08.703Z"
   },
   {
    "duration": 21,
    "start_time": "2021-07-07T18:23:22.506Z"
   },
   {
    "duration": 315,
    "start_time": "2021-07-07T18:25:54.801Z"
   },
   {
    "duration": 34,
    "start_time": "2021-07-07T18:26:51.817Z"
   },
   {
    "duration": 327,
    "start_time": "2021-07-07T18:26:56.147Z"
   },
   {
    "duration": 342,
    "start_time": "2021-07-07T18:27:15.887Z"
   },
   {
    "duration": 302,
    "start_time": "2021-07-07T18:28:18.569Z"
   },
   {
    "duration": 226,
    "start_time": "2021-07-07T18:29:20.879Z"
   },
   {
    "duration": 207,
    "start_time": "2021-07-07T18:29:58.114Z"
   },
   {
    "duration": 140,
    "start_time": "2021-07-07T18:32:04.372Z"
   },
   {
    "duration": 158,
    "start_time": "2021-07-07T18:32:32.508Z"
   },
   {
    "duration": 145,
    "start_time": "2021-07-07T18:32:41.365Z"
   },
   {
    "duration": 132,
    "start_time": "2021-07-07T18:32:45.199Z"
   },
   {
    "duration": 11,
    "start_time": "2021-07-07T18:35:24.679Z"
   },
   {
    "duration": 268,
    "start_time": "2021-07-07T18:36:16.145Z"
   },
   {
    "duration": 227,
    "start_time": "2021-07-07T18:37:04.918Z"
   },
   {
    "duration": 3,
    "start_time": "2021-07-07T18:37:33.012Z"
   },
   {
    "duration": 671,
    "start_time": "2021-07-07T18:37:38.295Z"
   },
   {
    "duration": 54,
    "start_time": "2021-07-07T18:37:53.406Z"
   },
   {
    "duration": 631,
    "start_time": "2021-07-07T18:37:56.463Z"
   },
   {
    "duration": 19,
    "start_time": "2021-07-07T18:39:40.535Z"
   },
   {
    "duration": 20,
    "start_time": "2021-07-07T18:40:12.236Z"
   },
   {
    "duration": 633,
    "start_time": "2021-07-07T18:42:00.398Z"
   },
   {
    "duration": 218,
    "start_time": "2021-07-07T18:42:01.033Z"
   },
   {
    "duration": 49,
    "start_time": "2021-07-07T18:42:01.253Z"
   },
   {
    "duration": 5,
    "start_time": "2021-07-07T18:42:01.303Z"
   },
   {
    "duration": 27,
    "start_time": "2021-07-07T18:42:01.310Z"
   },
   {
    "duration": 8,
    "start_time": "2021-07-07T18:42:01.339Z"
   },
   {
    "duration": 20,
    "start_time": "2021-07-07T18:42:01.348Z"
   },
   {
    "duration": 6,
    "start_time": "2021-07-07T18:42:01.386Z"
   },
   {
    "duration": 16,
    "start_time": "2021-07-07T18:42:01.394Z"
   },
   {
    "duration": 9,
    "start_time": "2021-07-07T18:42:01.411Z"
   },
   {
    "duration": 11,
    "start_time": "2021-07-07T18:42:01.421Z"
   },
   {
    "duration": 31,
    "start_time": "2021-07-07T18:42:01.434Z"
   },
   {
    "duration": 18,
    "start_time": "2021-07-07T18:42:01.485Z"
   },
   {
    "duration": 23,
    "start_time": "2021-07-07T18:42:01.505Z"
   },
   {
    "duration": 6,
    "start_time": "2021-07-07T18:42:01.530Z"
   },
   {
    "duration": 10,
    "start_time": "2021-07-07T18:42:01.538Z"
   },
   {
    "duration": 13,
    "start_time": "2021-07-07T18:42:01.550Z"
   },
   {
    "duration": 24,
    "start_time": "2021-07-07T18:42:01.564Z"
   },
   {
    "duration": 20,
    "start_time": "2021-07-07T18:42:01.590Z"
   },
   {
    "duration": 8,
    "start_time": "2021-07-07T18:42:01.611Z"
   },
   {
    "duration": 31,
    "start_time": "2021-07-07T18:42:01.620Z"
   },
   {
    "duration": 39,
    "start_time": "2021-07-07T18:42:01.653Z"
   },
   {
    "duration": 8,
    "start_time": "2021-07-07T18:42:01.696Z"
   },
   {
    "duration": 13,
    "start_time": "2021-07-07T18:42:01.705Z"
   },
   {
    "duration": 20,
    "start_time": "2021-07-07T18:42:01.720Z"
   },
   {
    "duration": 12,
    "start_time": "2021-07-07T18:42:01.741Z"
   },
   {
    "duration": 35,
    "start_time": "2021-07-07T18:42:01.755Z"
   },
   {
    "duration": 14,
    "start_time": "2021-07-07T18:42:01.792Z"
   },
   {
    "duration": 188,
    "start_time": "2021-07-07T18:42:01.808Z"
   },
   {
    "duration": 19,
    "start_time": "2021-07-07T18:42:01.998Z"
   },
   {
    "duration": 175,
    "start_time": "2021-07-07T18:42:02.019Z"
   },
   {
    "duration": 134,
    "start_time": "2021-07-07T18:42:02.196Z"
   },
   {
    "duration": 10,
    "start_time": "2021-07-07T18:42:02.331Z"
   },
   {
    "duration": 19,
    "start_time": "2021-07-07T18:42:02.343Z"
   },
   {
    "duration": 628,
    "start_time": "2021-07-07T18:46:30.701Z"
   },
   {
    "duration": 183,
    "start_time": "2021-07-07T18:46:31.331Z"
   },
   {
    "duration": 48,
    "start_time": "2021-07-07T18:46:31.516Z"
   },
   {
    "duration": 5,
    "start_time": "2021-07-07T18:46:31.566Z"
   },
   {
    "duration": 28,
    "start_time": "2021-07-07T18:46:31.572Z"
   },
   {
    "duration": 8,
    "start_time": "2021-07-07T18:46:31.602Z"
   },
   {
    "duration": 19,
    "start_time": "2021-07-07T18:46:31.611Z"
   },
   {
    "duration": 6,
    "start_time": "2021-07-07T18:46:31.633Z"
   },
   {
    "duration": 17,
    "start_time": "2021-07-07T18:46:31.642Z"
   },
   {
    "duration": 10,
    "start_time": "2021-07-07T18:46:31.684Z"
   },
   {
    "duration": 9,
    "start_time": "2021-07-07T18:46:31.695Z"
   },
   {
    "duration": 28,
    "start_time": "2021-07-07T18:46:31.705Z"
   },
   {
    "duration": 18,
    "start_time": "2021-07-07T18:46:31.735Z"
   },
   {
    "duration": 48,
    "start_time": "2021-07-07T18:46:31.755Z"
   },
   {
    "duration": 6,
    "start_time": "2021-07-07T18:46:31.804Z"
   },
   {
    "duration": 4,
    "start_time": "2021-07-07T18:46:31.812Z"
   },
   {
    "duration": 9,
    "start_time": "2021-07-07T18:46:31.817Z"
   },
   {
    "duration": 10,
    "start_time": "2021-07-07T18:46:31.827Z"
   },
   {
    "duration": 12,
    "start_time": "2021-07-07T18:46:31.838Z"
   },
   {
    "duration": 39,
    "start_time": "2021-07-07T18:46:31.851Z"
   },
   {
    "duration": 24,
    "start_time": "2021-07-07T18:46:31.892Z"
   },
   {
    "duration": 15,
    "start_time": "2021-07-07T18:46:31.918Z"
   },
   {
    "duration": 7,
    "start_time": "2021-07-07T18:46:31.936Z"
   },
   {
    "duration": 8,
    "start_time": "2021-07-07T18:46:31.944Z"
   },
   {
    "duration": 19,
    "start_time": "2021-07-07T18:46:31.984Z"
   },
   {
    "duration": 10,
    "start_time": "2021-07-07T18:46:32.004Z"
   },
   {
    "duration": 5,
    "start_time": "2021-07-07T18:46:32.016Z"
   },
   {
    "duration": 9,
    "start_time": "2021-07-07T18:46:32.023Z"
   },
   {
    "duration": 199,
    "start_time": "2021-07-07T18:46:32.033Z"
   },
   {
    "duration": 19,
    "start_time": "2021-07-07T18:46:32.234Z"
   },
   {
    "duration": 159,
    "start_time": "2021-07-07T18:46:32.255Z"
   },
   {
    "duration": 134,
    "start_time": "2021-07-07T18:46:32.416Z"
   },
   {
    "duration": 10,
    "start_time": "2021-07-07T18:46:32.552Z"
   },
   {
    "duration": 34,
    "start_time": "2021-07-07T18:46:32.563Z"
   },
   {
    "duration": 1039,
    "start_time": "2021-07-08T08:41:09.419Z"
   },
   {
    "duration": 333,
    "start_time": "2021-07-08T08:41:10.459Z"
   },
   {
    "duration": 173,
    "start_time": "2021-07-08T08:41:10.794Z"
   },
   {
    "duration": 5,
    "start_time": "2021-07-08T08:41:10.968Z"
   },
   {
    "duration": 25,
    "start_time": "2021-07-08T08:41:10.975Z"
   },
   {
    "duration": 9,
    "start_time": "2021-07-08T08:41:11.002Z"
   },
   {
    "duration": 18,
    "start_time": "2021-07-08T08:41:11.013Z"
   },
   {
    "duration": 6,
    "start_time": "2021-07-08T08:41:11.033Z"
   },
   {
    "duration": 44,
    "start_time": "2021-07-08T08:41:11.042Z"
   },
   {
    "duration": 10,
    "start_time": "2021-07-08T08:41:11.088Z"
   },
   {
    "duration": 9,
    "start_time": "2021-07-08T08:41:11.100Z"
   },
   {
    "duration": 27,
    "start_time": "2021-07-08T08:41:11.111Z"
   },
   {
    "duration": 46,
    "start_time": "2021-07-08T08:41:11.140Z"
   },
   {
    "duration": 17,
    "start_time": "2021-07-08T08:41:11.187Z"
   },
   {
    "duration": 6,
    "start_time": "2021-07-08T08:41:11.206Z"
   },
   {
    "duration": 5,
    "start_time": "2021-07-08T08:41:11.213Z"
   },
   {
    "duration": 10,
    "start_time": "2021-07-08T08:41:11.219Z"
   },
   {
    "duration": 9,
    "start_time": "2021-07-08T08:41:11.230Z"
   },
   {
    "duration": 45,
    "start_time": "2021-07-08T08:41:11.241Z"
   },
   {
    "duration": 7,
    "start_time": "2021-07-08T08:41:11.287Z"
   },
   {
    "duration": 24,
    "start_time": "2021-07-08T08:41:11.296Z"
   },
   {
    "duration": 16,
    "start_time": "2021-07-08T08:41:11.322Z"
   },
   {
    "duration": 7,
    "start_time": "2021-07-08T08:41:11.341Z"
   },
   {
    "duration": 41,
    "start_time": "2021-07-08T08:41:11.349Z"
   },
   {
    "duration": 17,
    "start_time": "2021-07-08T08:41:11.391Z"
   },
   {
    "duration": 9,
    "start_time": "2021-07-08T08:41:11.410Z"
   },
   {
    "duration": 5,
    "start_time": "2021-07-08T08:41:11.421Z"
   },
   {
    "duration": 6,
    "start_time": "2021-07-08T08:41:11.428Z"
   },
   {
    "duration": 198,
    "start_time": "2021-07-08T08:41:11.435Z"
   },
   {
    "duration": 18,
    "start_time": "2021-07-08T08:41:11.635Z"
   },
   {
    "duration": 155,
    "start_time": "2021-07-08T08:41:11.655Z"
   },
   {
    "duration": 138,
    "start_time": "2021-07-08T08:41:11.811Z"
   },
   {
    "duration": 10,
    "start_time": "2021-07-08T08:41:11.950Z"
   },
   {
    "duration": 29,
    "start_time": "2021-07-08T08:41:11.961Z"
   },
   {
    "duration": 171,
    "start_time": "2021-07-08T08:47:44.522Z"
   },
   {
    "duration": 124,
    "start_time": "2021-07-08T08:47:46.872Z"
   },
   {
    "duration": 191,
    "start_time": "2021-07-08T08:47:58.148Z"
   },
   {
    "duration": 191,
    "start_time": "2021-07-08T08:48:07.412Z"
   },
   {
    "duration": 261,
    "start_time": "2021-07-08T08:48:10.385Z"
   },
   {
    "duration": 255,
    "start_time": "2021-07-08T08:48:14.494Z"
   },
   {
    "duration": 219,
    "start_time": "2021-07-08T08:48:22.752Z"
   },
   {
    "duration": 173,
    "start_time": "2021-07-08T08:49:06.395Z"
   },
   {
    "duration": 180,
    "start_time": "2021-07-08T08:49:21.011Z"
   },
   {
    "duration": 6,
    "start_time": "2021-07-08T08:50:31.697Z"
   },
   {
    "duration": 10,
    "start_time": "2021-07-08T08:50:47.394Z"
   },
   {
    "duration": 11,
    "start_time": "2021-07-08T08:53:49.332Z"
   },
   {
    "duration": 171,
    "start_time": "2021-07-08T08:54:28.408Z"
   },
   {
    "duration": 636,
    "start_time": "2021-07-08T09:02:48.385Z"
   },
   {
    "duration": 227,
    "start_time": "2021-07-08T09:02:49.023Z"
   },
   {
    "duration": 104,
    "start_time": "2021-07-08T09:02:49.252Z"
   },
   {
    "duration": 5,
    "start_time": "2021-07-08T09:02:49.358Z"
   },
   {
    "duration": 27,
    "start_time": "2021-07-08T09:02:49.365Z"
   },
   {
    "duration": 8,
    "start_time": "2021-07-08T09:02:49.394Z"
   },
   {
    "duration": 18,
    "start_time": "2021-07-08T09:02:49.404Z"
   },
   {
    "duration": 6,
    "start_time": "2021-07-08T09:02:49.424Z"
   },
   {
    "duration": 11,
    "start_time": "2021-07-08T09:02:49.433Z"
   },
   {
    "duration": 13,
    "start_time": "2021-07-08T09:02:49.485Z"
   },
   {
    "duration": 9,
    "start_time": "2021-07-08T09:02:49.500Z"
   },
   {
    "duration": 38,
    "start_time": "2021-07-08T09:02:49.511Z"
   },
   {
    "duration": 42,
    "start_time": "2021-07-08T09:02:49.551Z"
   },
   {
    "duration": 21,
    "start_time": "2021-07-08T09:02:49.594Z"
   },
   {
    "duration": 6,
    "start_time": "2021-07-08T09:02:49.616Z"
   },
   {
    "duration": 3,
    "start_time": "2021-07-08T09:02:49.623Z"
   },
   {
    "duration": 9,
    "start_time": "2021-07-08T09:02:49.628Z"
   },
   {
    "duration": 52,
    "start_time": "2021-07-08T09:02:49.638Z"
   },
   {
    "duration": 11,
    "start_time": "2021-07-08T09:02:49.692Z"
   },
   {
    "duration": 8,
    "start_time": "2021-07-08T09:02:49.704Z"
   },
   {
    "duration": 27,
    "start_time": "2021-07-08T09:02:49.713Z"
   },
   {
    "duration": 59,
    "start_time": "2021-07-08T09:02:49.741Z"
   },
   {
    "duration": 8,
    "start_time": "2021-07-08T09:02:49.803Z"
   },
   {
    "duration": 14,
    "start_time": "2021-07-08T09:02:49.813Z"
   },
   {
    "duration": 20,
    "start_time": "2021-07-08T09:02:49.829Z"
   },
   {
    "duration": 44,
    "start_time": "2021-07-08T09:02:49.851Z"
   },
   {
    "duration": 14,
    "start_time": "2021-07-08T09:02:49.896Z"
   },
   {
    "duration": 221,
    "start_time": "2021-07-08T09:02:49.912Z"
   },
   {
    "duration": 6,
    "start_time": "2021-07-08T09:02:50.134Z"
   },
   {
    "duration": 206,
    "start_time": "2021-07-08T09:02:50.142Z"
   },
   {
    "duration": 19,
    "start_time": "2021-07-08T09:02:50.350Z"
   },
   {
    "duration": 21,
    "start_time": "2021-07-08T09:02:50.370Z"
   },
   {
    "duration": 20,
    "start_time": "2021-07-08T09:02:50.393Z"
   },
   {
    "duration": 5,
    "start_time": "2021-07-08T09:02:50.414Z"
   },
   {
    "duration": 5,
    "start_time": "2021-07-08T09:03:34.173Z"
   },
   {
    "duration": 6,
    "start_time": "2021-07-08T09:04:49.062Z"
   },
   {
    "duration": 9,
    "start_time": "2021-07-08T09:04:50.118Z"
   },
   {
    "duration": 14,
    "start_time": "2021-07-08T09:04:58.512Z"
   },
   {
    "duration": 9,
    "start_time": "2021-07-08T09:05:10.988Z"
   },
   {
    "duration": 11,
    "start_time": "2021-07-08T09:05:11.743Z"
   },
   {
    "duration": 7,
    "start_time": "2021-07-08T09:05:25.677Z"
   },
   {
    "duration": 13,
    "start_time": "2021-07-08T09:05:47.189Z"
   },
   {
    "duration": 13,
    "start_time": "2021-07-08T09:05:54.755Z"
   },
   {
    "duration": 4,
    "start_time": "2021-07-08T09:06:29.189Z"
   },
   {
    "duration": 244,
    "start_time": "2021-07-08T09:06:29.195Z"
   },
   {
    "duration": 91,
    "start_time": "2021-07-08T09:06:29.441Z"
   },
   {
    "duration": 4,
    "start_time": "2021-07-08T09:06:29.534Z"
   },
   {
    "duration": 28,
    "start_time": "2021-07-08T09:06:29.540Z"
   },
   {
    "duration": 6,
    "start_time": "2021-07-08T09:06:29.570Z"
   },
   {
    "duration": 18,
    "start_time": "2021-07-08T09:06:29.578Z"
   },
   {
    "duration": 5,
    "start_time": "2021-07-08T09:06:29.597Z"
   },
   {
    "duration": 13,
    "start_time": "2021-07-08T09:06:29.605Z"
   },
   {
    "duration": 8,
    "start_time": "2021-07-08T09:06:29.620Z"
   },
   {
    "duration": 7,
    "start_time": "2021-07-08T09:06:29.630Z"
   },
   {
    "duration": 63,
    "start_time": "2021-07-08T09:06:29.639Z"
   },
   {
    "duration": 17,
    "start_time": "2021-07-08T09:06:29.704Z"
   },
   {
    "duration": 20,
    "start_time": "2021-07-08T09:06:29.723Z"
   },
   {
    "duration": 6,
    "start_time": "2021-07-08T09:06:29.745Z"
   },
   {
    "duration": 3,
    "start_time": "2021-07-08T09:06:29.752Z"
   },
   {
    "duration": 7,
    "start_time": "2021-07-08T09:06:29.785Z"
   },
   {
    "duration": 11,
    "start_time": "2021-07-08T09:06:29.794Z"
   },
   {
    "duration": 15,
    "start_time": "2021-07-08T09:06:29.807Z"
   },
   {
    "duration": 8,
    "start_time": "2021-07-08T09:06:29.823Z"
   },
   {
    "duration": 70,
    "start_time": "2021-07-08T09:06:29.832Z"
   },
   {
    "duration": 17,
    "start_time": "2021-07-08T09:06:29.903Z"
   },
   {
    "duration": 9,
    "start_time": "2021-07-08T09:06:29.921Z"
   },
   {
    "duration": 9,
    "start_time": "2021-07-08T09:06:29.932Z"
   },
   {
    "duration": 57,
    "start_time": "2021-07-08T09:06:29.942Z"
   },
   {
    "duration": 11,
    "start_time": "2021-07-08T09:06:30.001Z"
   },
   {
    "duration": 19,
    "start_time": "2021-07-08T09:06:30.016Z"
   },
   {
    "duration": 217,
    "start_time": "2021-07-08T09:06:30.037Z"
   },
   {
    "duration": 6,
    "start_time": "2021-07-08T09:06:30.255Z"
   },
   {
    "duration": 205,
    "start_time": "2021-07-08T09:06:30.263Z"
   },
   {
    "duration": 27,
    "start_time": "2021-07-08T09:06:30.470Z"
   },
   {
    "duration": 11,
    "start_time": "2021-07-08T09:06:30.500Z"
   },
   {
    "duration": 31,
    "start_time": "2021-07-08T09:06:30.513Z"
   },
   {
    "duration": 18,
    "start_time": "2021-07-08T09:06:30.546Z"
   },
   {
    "duration": 11,
    "start_time": "2021-07-08T09:06:30.566Z"
   },
   {
    "duration": 19,
    "start_time": "2021-07-08T09:06:30.579Z"
   },
   {
    "duration": 20,
    "start_time": "2021-07-08T09:06:49.466Z"
   },
   {
    "duration": 9,
    "start_time": "2021-07-08T09:06:51.994Z"
   },
   {
    "duration": 20,
    "start_time": "2021-07-08T09:06:52.273Z"
   },
   {
    "duration": 246,
    "start_time": "2021-07-08T09:10:21.272Z"
   },
   {
    "duration": 84,
    "start_time": "2021-07-08T09:10:21.436Z"
   },
   {
    "duration": 7,
    "start_time": "2021-07-08T09:10:37.608Z"
   },
   {
    "duration": 189,
    "start_time": "2021-07-08T09:10:38.573Z"
   },
   {
    "duration": 185,
    "start_time": "2021-07-08T09:10:53.181Z"
   },
   {
    "duration": 11,
    "start_time": "2021-07-08T09:10:59.549Z"
   },
   {
    "duration": 42,
    "start_time": "2021-07-08T09:10:59.709Z"
   },
   {
    "duration": 12,
    "start_time": "2021-07-08T09:11:02.857Z"
   },
   {
    "duration": 28,
    "start_time": "2021-07-08T09:11:10.062Z"
   },
   {
    "duration": 249,
    "start_time": "2021-07-08T09:11:37.388Z"
   },
   {
    "duration": 232,
    "start_time": "2021-07-08T09:11:49.485Z"
   },
   {
    "duration": 453,
    "start_time": "2021-07-08T09:12:01.546Z"
   },
   {
    "duration": 440,
    "start_time": "2021-07-08T09:12:12.347Z"
   },
   {
    "duration": 213,
    "start_time": "2021-07-08T09:13:32.196Z"
   },
   {
    "duration": 172,
    "start_time": "2021-07-08T09:14:07.400Z"
   },
   {
    "duration": 185,
    "start_time": "2021-07-08T09:14:14.905Z"
   },
   {
    "duration": 209,
    "start_time": "2021-07-08T09:14:40.109Z"
   },
   {
    "duration": 201,
    "start_time": "2021-07-08T09:14:54.506Z"
   },
   {
    "duration": 622,
    "start_time": "2021-07-08T09:18:14.497Z"
   },
   {
    "duration": 220,
    "start_time": "2021-07-08T09:18:15.121Z"
   },
   {
    "duration": 79,
    "start_time": "2021-07-08T09:18:15.343Z"
   },
   {
    "duration": 4,
    "start_time": "2021-07-08T09:18:15.425Z"
   },
   {
    "duration": 24,
    "start_time": "2021-07-08T09:18:15.431Z"
   },
   {
    "duration": 8,
    "start_time": "2021-07-08T09:18:15.457Z"
   },
   {
    "duration": 16,
    "start_time": "2021-07-08T09:18:15.466Z"
   },
   {
    "duration": 5,
    "start_time": "2021-07-08T09:18:15.484Z"
   },
   {
    "duration": 10,
    "start_time": "2021-07-08T09:18:15.493Z"
   },
   {
    "duration": 8,
    "start_time": "2021-07-08T09:18:15.504Z"
   },
   {
    "duration": 7,
    "start_time": "2021-07-08T09:18:15.513Z"
   },
   {
    "duration": 26,
    "start_time": "2021-07-08T09:18:15.522Z"
   },
   {
    "duration": 49,
    "start_time": "2021-07-08T09:18:15.550Z"
   },
   {
    "duration": 21,
    "start_time": "2021-07-08T09:18:15.601Z"
   },
   {
    "duration": 8,
    "start_time": "2021-07-08T09:18:15.624Z"
   },
   {
    "duration": 3,
    "start_time": "2021-07-08T09:18:15.634Z"
   },
   {
    "duration": 8,
    "start_time": "2021-07-08T09:18:15.639Z"
   },
   {
    "duration": 45,
    "start_time": "2021-07-08T09:18:15.649Z"
   },
   {
    "duration": 13,
    "start_time": "2021-07-08T09:18:15.696Z"
   },
   {
    "duration": 10,
    "start_time": "2021-07-08T09:18:15.711Z"
   },
   {
    "duration": 64,
    "start_time": "2021-07-08T09:18:15.722Z"
   },
   {
    "duration": 19,
    "start_time": "2021-07-08T09:18:15.788Z"
   },
   {
    "duration": 9,
    "start_time": "2021-07-08T09:18:15.809Z"
   },
   {
    "duration": 9,
    "start_time": "2021-07-08T09:18:15.820Z"
   },
   {
    "duration": 18,
    "start_time": "2021-07-08T09:18:15.831Z"
   },
   {
    "duration": 43,
    "start_time": "2021-07-08T09:18:15.851Z"
   },
   {
    "duration": 12,
    "start_time": "2021-07-08T09:18:15.897Z"
   },
   {
    "duration": 219,
    "start_time": "2021-07-08T09:18:15.911Z"
   },
   {
    "duration": 8,
    "start_time": "2021-07-08T09:18:16.132Z"
   },
   {
    "duration": 199,
    "start_time": "2021-07-08T09:18:16.141Z"
   },
   {
    "duration": 18,
    "start_time": "2021-07-08T09:18:16.341Z"
   },
   {
    "duration": 24,
    "start_time": "2021-07-08T09:18:16.361Z"
   },
   {
    "duration": 24,
    "start_time": "2021-07-08T09:18:16.387Z"
   },
   {
    "duration": 211,
    "start_time": "2021-07-08T09:18:16.413Z"
   },
   {
    "duration": 18,
    "start_time": "2021-07-08T09:18:16.626Z"
   },
   {
    "duration": 596,
    "start_time": "2021-07-08T10:06:33.623Z"
   },
   {
    "duration": 181,
    "start_time": "2021-07-08T10:06:34.221Z"
   },
   {
    "duration": 176,
    "start_time": "2021-07-08T10:06:34.635Z"
   },
   {
    "duration": 239,
    "start_time": "2021-07-08T10:06:55.572Z"
   },
   {
    "duration": 6,
    "start_time": "2021-07-08T10:06:57.687Z"
   },
   {
    "duration": 4,
    "start_time": "2021-07-08T10:07:03.956Z"
   },
   {
    "duration": 4,
    "start_time": "2021-07-08T10:07:10.376Z"
   },
   {
    "duration": 4,
    "start_time": "2021-07-08T10:17:19.889Z"
   },
   {
    "duration": 3,
    "start_time": "2021-07-08T10:19:19.407Z"
   },
   {
    "duration": 197,
    "start_time": "2021-07-08T10:19:19.412Z"
   },
   {
    "duration": 127,
    "start_time": "2021-07-08T10:19:19.611Z"
   },
   {
    "duration": 4,
    "start_time": "2021-07-08T10:19:19.740Z"
   },
   {
    "duration": 27,
    "start_time": "2021-07-08T10:19:19.746Z"
   },
   {
    "duration": 7,
    "start_time": "2021-07-08T10:19:19.775Z"
   },
   {
    "duration": 30,
    "start_time": "2021-07-08T10:19:19.784Z"
   },
   {
    "duration": 7,
    "start_time": "2021-07-08T10:19:19.817Z"
   },
   {
    "duration": 26,
    "start_time": "2021-07-08T10:19:19.826Z"
   },
   {
    "duration": 18,
    "start_time": "2021-07-08T10:19:19.854Z"
   },
   {
    "duration": 14,
    "start_time": "2021-07-08T10:19:19.874Z"
   },
   {
    "duration": 48,
    "start_time": "2021-07-08T10:19:19.890Z"
   },
   {
    "duration": 17,
    "start_time": "2021-07-08T10:19:19.940Z"
   },
   {
    "duration": 38,
    "start_time": "2021-07-08T10:19:19.959Z"
   },
   {
    "duration": 8,
    "start_time": "2021-07-08T10:19:19.999Z"
   },
   {
    "duration": 15,
    "start_time": "2021-07-08T10:19:20.009Z"
   },
   {
    "duration": 22,
    "start_time": "2021-07-08T10:19:20.026Z"
   },
   {
    "duration": 10,
    "start_time": "2021-07-08T10:19:20.050Z"
   },
   {
    "duration": 10,
    "start_time": "2021-07-08T10:19:20.062Z"
   },
   {
    "duration": 20,
    "start_time": "2021-07-08T10:19:20.073Z"
   },
   {
    "duration": 29,
    "start_time": "2021-07-08T10:19:20.095Z"
   },
   {
    "duration": 17,
    "start_time": "2021-07-08T10:19:20.126Z"
   },
   {
    "duration": 40,
    "start_time": "2021-07-08T10:19:20.146Z"
   },
   {
    "duration": 15,
    "start_time": "2021-07-08T10:19:20.189Z"
   },
   {
    "duration": 19,
    "start_time": "2021-07-08T10:19:20.206Z"
   },
   {
    "duration": 10,
    "start_time": "2021-07-08T10:19:20.226Z"
   },
   {
    "duration": 11,
    "start_time": "2021-07-08T10:19:20.238Z"
   },
   {
    "duration": 297,
    "start_time": "2021-07-08T10:19:20.250Z"
   },
   {
    "duration": 6,
    "start_time": "2021-07-08T10:19:20.549Z"
   },
   {
    "duration": 191,
    "start_time": "2021-07-08T10:19:20.557Z"
   },
   {
    "duration": 19,
    "start_time": "2021-07-08T10:19:20.750Z"
   },
   {
    "duration": 20,
    "start_time": "2021-07-08T10:19:20.771Z"
   },
   {
    "duration": 15,
    "start_time": "2021-07-08T10:19:20.793Z"
   },
   {
    "duration": 222,
    "start_time": "2021-07-08T10:19:20.809Z"
   },
   {
    "duration": 20,
    "start_time": "2021-07-08T10:19:21.033Z"
   },
   {
    "duration": 27,
    "start_time": "2021-07-08T10:45:04.055Z"
   },
   {
    "duration": 8,
    "start_time": "2021-07-08T10:45:08.478Z"
   },
   {
    "duration": 8,
    "start_time": "2021-07-08T10:45:31.982Z"
   },
   {
    "duration": 10,
    "start_time": "2021-07-08T10:46:01.221Z"
   },
   {
    "duration": 17,
    "start_time": "2021-07-08T10:46:40.011Z"
   },
   {
    "duration": 193,
    "start_time": "2021-07-08T10:48:19.471Z"
   },
   {
    "duration": 225,
    "start_time": "2021-07-08T10:49:26.480Z"
   },
   {
    "duration": 204,
    "start_time": "2021-07-08T10:49:59.992Z"
   },
   {
    "duration": 435,
    "start_time": "2021-07-08T10:50:06.779Z"
   },
   {
    "duration": 199,
    "start_time": "2021-07-08T10:50:14.891Z"
   },
   {
    "duration": 204,
    "start_time": "2021-07-08T10:50:18.501Z"
   },
   {
    "duration": 244,
    "start_time": "2021-07-08T10:50:23.359Z"
   },
   {
    "duration": 192,
    "start_time": "2021-07-08T10:50:29.135Z"
   },
   {
    "duration": 218,
    "start_time": "2021-07-08T10:50:33.092Z"
   },
   {
    "duration": 207,
    "start_time": "2021-07-08T10:52:45.381Z"
   },
   {
    "duration": 5,
    "start_time": "2021-07-08T10:53:34.641Z"
   },
   {
    "duration": 196,
    "start_time": "2021-07-08T10:53:41.478Z"
   },
   {
    "duration": 43,
    "start_time": "2021-07-08T10:53:50.335Z"
   },
   {
    "duration": 32,
    "start_time": "2021-07-08T10:53:55.294Z"
   },
   {
    "duration": 55,
    "start_time": "2021-07-08T10:54:09.675Z"
   },
   {
    "duration": 16,
    "start_time": "2021-07-08T10:54:12.260Z"
   },
   {
    "duration": 15,
    "start_time": "2021-07-08T10:54:49.150Z"
   },
   {
    "duration": 20,
    "start_time": "2021-07-08T10:56:07.596Z"
   },
   {
    "duration": 16,
    "start_time": "2021-07-08T10:58:26.276Z"
   },
   {
    "duration": 22,
    "start_time": "2021-07-08T10:59:00.486Z"
   },
   {
    "duration": 18,
    "start_time": "2021-07-08T11:02:09.653Z"
   },
   {
    "duration": 10,
    "start_time": "2021-07-08T11:03:44.331Z"
   },
   {
    "duration": 10,
    "start_time": "2021-07-08T11:03:54.055Z"
   },
   {
    "duration": 12,
    "start_time": "2021-07-08T11:04:41.967Z"
   },
   {
    "duration": 24,
    "start_time": "2021-07-08T11:07:30.732Z"
   },
   {
    "duration": 6,
    "start_time": "2021-07-08T11:07:37.364Z"
   },
   {
    "duration": 16,
    "start_time": "2021-07-08T11:08:01.819Z"
   },
   {
    "duration": 17,
    "start_time": "2021-07-08T11:09:47.488Z"
   },
   {
    "duration": 246,
    "start_time": "2021-07-08T11:10:00.830Z"
   },
   {
    "duration": 18,
    "start_time": "2021-07-08T11:13:55.195Z"
   },
   {
    "duration": 204,
    "start_time": "2021-07-08T11:14:04.951Z"
   },
   {
    "duration": 19,
    "start_time": "2021-07-08T11:15:10.613Z"
   },
   {
    "duration": 680,
    "start_time": "2021-07-08T11:16:25.793Z"
   },
   {
    "duration": 451,
    "start_time": "2021-07-08T11:16:40.313Z"
   },
   {
    "duration": 469,
    "start_time": "2021-07-08T11:17:21.286Z"
   },
   {
    "duration": 20,
    "start_time": "2021-07-08T11:19:12.554Z"
   },
   {
    "duration": 35,
    "start_time": "2021-07-08T11:20:05.484Z"
   },
   {
    "duration": 53,
    "start_time": "2021-07-08T11:21:40.050Z"
   },
   {
    "duration": 13,
    "start_time": "2021-07-08T11:22:26.059Z"
   },
   {
    "duration": 19,
    "start_time": "2021-07-08T11:22:47.419Z"
   },
   {
    "duration": 25,
    "start_time": "2021-07-08T11:23:19.958Z"
   },
   {
    "duration": 29,
    "start_time": "2021-07-08T11:23:25.415Z"
   },
   {
    "duration": 10,
    "start_time": "2021-07-08T11:24:45.138Z"
   },
   {
    "duration": 19,
    "start_time": "2021-07-08T11:24:54.498Z"
   },
   {
    "duration": 12,
    "start_time": "2021-07-08T11:25:32.225Z"
   },
   {
    "duration": 19,
    "start_time": "2021-07-08T11:25:37.092Z"
   },
   {
    "duration": 17,
    "start_time": "2021-07-08T11:25:58.116Z"
   },
   {
    "duration": 15,
    "start_time": "2021-07-08T11:26:02.258Z"
   },
   {
    "duration": 8,
    "start_time": "2021-07-08T11:26:59.682Z"
   },
   {
    "duration": 184,
    "start_time": "2021-07-08T11:27:21.894Z"
   },
   {
    "duration": 8,
    "start_time": "2021-07-08T11:27:23.824Z"
   },
   {
    "duration": 202,
    "start_time": "2021-07-08T11:27:23.962Z"
   },
   {
    "duration": 360,
    "start_time": "2021-07-08T11:28:33.215Z"
   },
   {
    "duration": 231,
    "start_time": "2021-07-08T11:32:05.542Z"
   },
   {
    "duration": 607,
    "start_time": "2021-07-08T11:36:27.854Z"
   },
   {
    "duration": 241,
    "start_time": "2021-07-08T11:36:28.463Z"
   },
   {
    "duration": 67,
    "start_time": "2021-07-08T11:36:28.709Z"
   },
   {
    "duration": 5,
    "start_time": "2021-07-08T11:36:28.778Z"
   },
   {
    "duration": 32,
    "start_time": "2021-07-08T11:36:28.784Z"
   },
   {
    "duration": 11,
    "start_time": "2021-07-08T11:36:28.819Z"
   },
   {
    "duration": 20,
    "start_time": "2021-07-08T11:36:28.834Z"
   },
   {
    "duration": 36,
    "start_time": "2021-07-08T11:36:28.857Z"
   },
   {
    "duration": 16,
    "start_time": "2021-07-08T11:36:28.895Z"
   },
   {
    "duration": 14,
    "start_time": "2021-07-08T11:36:28.913Z"
   },
   {
    "duration": 9,
    "start_time": "2021-07-08T11:36:28.930Z"
   },
   {
    "duration": 55,
    "start_time": "2021-07-08T11:36:28.941Z"
   },
   {
    "duration": 27,
    "start_time": "2021-07-08T11:36:28.999Z"
   },
   {
    "duration": 30,
    "start_time": "2021-07-08T11:36:29.028Z"
   },
   {
    "duration": 31,
    "start_time": "2021-07-08T11:36:29.060Z"
   },
   {
    "duration": 3,
    "start_time": "2021-07-08T11:36:29.093Z"
   },
   {
    "duration": 12,
    "start_time": "2021-07-08T11:36:29.099Z"
   },
   {
    "duration": 11,
    "start_time": "2021-07-08T11:36:29.112Z"
   },
   {
    "duration": 12,
    "start_time": "2021-07-08T11:36:29.125Z"
   },
   {
    "duration": 9,
    "start_time": "2021-07-08T11:36:29.139Z"
   },
   {
    "duration": 31,
    "start_time": "2021-07-08T11:36:29.191Z"
   },
   {
    "duration": 17,
    "start_time": "2021-07-08T11:36:29.226Z"
   },
   {
    "duration": 7,
    "start_time": "2021-07-08T11:36:29.245Z"
   },
   {
    "duration": 10,
    "start_time": "2021-07-08T11:36:29.254Z"
   },
   {
    "duration": 30,
    "start_time": "2021-07-08T11:36:29.292Z"
   },
   {
    "duration": 11,
    "start_time": "2021-07-08T11:36:29.324Z"
   },
   {
    "duration": 11,
    "start_time": "2021-07-08T11:36:29.337Z"
   },
   {
    "duration": 230,
    "start_time": "2021-07-08T11:36:29.349Z"
   },
   {
    "duration": 13,
    "start_time": "2021-07-08T11:36:29.588Z"
   },
   {
    "duration": 205,
    "start_time": "2021-07-08T11:36:29.603Z"
   },
   {
    "duration": 20,
    "start_time": "2021-07-08T11:36:29.810Z"
   },
   {
    "duration": 9,
    "start_time": "2021-07-08T11:36:29.832Z"
   },
   {
    "duration": 16,
    "start_time": "2021-07-08T11:36:29.843Z"
   },
   {
    "duration": 283,
    "start_time": "2021-07-08T11:36:29.861Z"
   },
   {
    "duration": 50,
    "start_time": "2021-07-08T11:36:30.146Z"
   },
   {
    "duration": 14,
    "start_time": "2021-07-08T11:36:30.198Z"
   },
   {
    "duration": 11,
    "start_time": "2021-07-08T11:36:30.214Z"
   },
   {
    "duration": 245,
    "start_time": "2021-07-08T11:36:30.227Z"
   },
   {
    "duration": 439,
    "start_time": "2021-07-08T11:36:30.474Z"
   },
   {
    "duration": 210,
    "start_time": "2021-07-08T11:36:30.915Z"
   },
   {
    "duration": 15,
    "start_time": "2021-07-08T11:36:31.127Z"
   },
   {
    "duration": 17,
    "start_time": "2021-07-08T11:38:20.451Z"
   },
   {
    "duration": 642,
    "start_time": "2021-07-08T11:46:17.881Z"
   },
   {
    "duration": 210,
    "start_time": "2021-07-08T11:46:18.525Z"
   },
   {
    "duration": 104,
    "start_time": "2021-07-08T11:46:18.741Z"
   },
   {
    "duration": 8,
    "start_time": "2021-07-08T11:46:18.847Z"
   },
   {
    "duration": 25,
    "start_time": "2021-07-08T11:46:18.857Z"
   },
   {
    "duration": 14,
    "start_time": "2021-07-08T11:46:18.884Z"
   },
   {
    "duration": 22,
    "start_time": "2021-07-08T11:46:18.900Z"
   },
   {
    "duration": 5,
    "start_time": "2021-07-08T11:46:18.924Z"
   },
   {
    "duration": 13,
    "start_time": "2021-07-08T11:46:18.931Z"
   },
   {
    "duration": 45,
    "start_time": "2021-07-08T11:46:18.946Z"
   },
   {
    "duration": 12,
    "start_time": "2021-07-08T11:46:18.993Z"
   },
   {
    "duration": 38,
    "start_time": "2021-07-08T11:46:19.006Z"
   },
   {
    "duration": 50,
    "start_time": "2021-07-08T11:46:19.046Z"
   },
   {
    "duration": 29,
    "start_time": "2021-07-08T11:46:19.099Z"
   },
   {
    "duration": 7,
    "start_time": "2021-07-08T11:46:19.130Z"
   },
   {
    "duration": 3,
    "start_time": "2021-07-08T11:46:19.139Z"
   },
   {
    "duration": 11,
    "start_time": "2021-07-08T11:46:19.144Z"
   },
   {
    "duration": 40,
    "start_time": "2021-07-08T11:46:19.157Z"
   },
   {
    "duration": 15,
    "start_time": "2021-07-08T11:46:19.199Z"
   },
   {
    "duration": 10,
    "start_time": "2021-07-08T11:46:19.217Z"
   },
   {
    "duration": 68,
    "start_time": "2021-07-08T11:46:19.230Z"
   },
   {
    "duration": 17,
    "start_time": "2021-07-08T11:46:19.301Z"
   },
   {
    "duration": 7,
    "start_time": "2021-07-08T11:46:19.321Z"
   },
   {
    "duration": 11,
    "start_time": "2021-07-08T11:46:19.330Z"
   },
   {
    "duration": 59,
    "start_time": "2021-07-08T11:46:19.343Z"
   },
   {
    "duration": 17,
    "start_time": "2021-07-08T11:46:19.405Z"
   },
   {
    "duration": 16,
    "start_time": "2021-07-08T11:46:19.424Z"
   },
   {
    "duration": 252,
    "start_time": "2021-07-08T11:46:19.443Z"
   },
   {
    "duration": 9,
    "start_time": "2021-07-08T11:46:19.697Z"
   },
   {
    "duration": 224,
    "start_time": "2021-07-08T11:46:19.708Z"
   },
   {
    "duration": 21,
    "start_time": "2021-07-08T11:46:19.934Z"
   },
   {
    "duration": 9,
    "start_time": "2021-07-08T11:46:19.956Z"
   },
   {
    "duration": 32,
    "start_time": "2021-07-08T11:46:19.967Z"
   },
   {
    "duration": 288,
    "start_time": "2021-07-08T11:46:20.004Z"
   },
   {
    "duration": 23,
    "start_time": "2021-07-08T11:46:20.300Z"
   },
   {
    "duration": 11,
    "start_time": "2021-07-08T11:46:20.325Z"
   },
   {
    "duration": 11,
    "start_time": "2021-07-08T11:46:20.339Z"
   },
   {
    "duration": 259,
    "start_time": "2021-07-08T11:46:20.352Z"
   },
   {
    "duration": 438,
    "start_time": "2021-07-08T11:46:20.613Z"
   },
   {
    "duration": 207,
    "start_time": "2021-07-08T11:46:21.054Z"
   },
   {
    "duration": 27,
    "start_time": "2021-07-08T11:46:21.262Z"
   },
   {
    "duration": 19,
    "start_time": "2021-07-08T11:46:21.291Z"
   },
   {
    "duration": 820,
    "start_time": "2021-07-08T11:49:01.655Z"
   },
   {
    "duration": 372,
    "start_time": "2021-07-08T11:49:02.478Z"
   },
   {
    "duration": 98,
    "start_time": "2021-07-08T11:49:02.853Z"
   },
   {
    "duration": 6,
    "start_time": "2021-07-08T11:49:02.953Z"
   },
   {
    "duration": 39,
    "start_time": "2021-07-08T11:49:02.960Z"
   },
   {
    "duration": 9,
    "start_time": "2021-07-08T11:49:03.003Z"
   },
   {
    "duration": 23,
    "start_time": "2021-07-08T11:49:03.014Z"
   },
   {
    "duration": 6,
    "start_time": "2021-07-08T11:49:03.041Z"
   },
   {
    "duration": 20,
    "start_time": "2021-07-08T11:49:03.049Z"
   },
   {
    "duration": 18,
    "start_time": "2021-07-08T11:49:03.084Z"
   },
   {
    "duration": 14,
    "start_time": "2021-07-08T11:49:03.104Z"
   },
   {
    "duration": 39,
    "start_time": "2021-07-08T11:49:03.119Z"
   },
   {
    "duration": 38,
    "start_time": "2021-07-08T11:49:03.160Z"
   },
   {
    "duration": 26,
    "start_time": "2021-07-08T11:49:03.200Z"
   },
   {
    "duration": 7,
    "start_time": "2021-07-08T11:49:03.227Z"
   },
   {
    "duration": 4,
    "start_time": "2021-07-08T11:49:03.236Z"
   },
   {
    "duration": 15,
    "start_time": "2021-07-08T11:49:03.243Z"
   },
   {
    "duration": 21,
    "start_time": "2021-07-08T11:49:03.285Z"
   },
   {
    "duration": 17,
    "start_time": "2021-07-08T11:49:03.309Z"
   },
   {
    "duration": 10,
    "start_time": "2021-07-08T11:49:03.328Z"
   },
   {
    "duration": 65,
    "start_time": "2021-07-08T11:49:03.340Z"
   },
   {
    "duration": 18,
    "start_time": "2021-07-08T11:49:03.407Z"
   },
   {
    "duration": 8,
    "start_time": "2021-07-08T11:49:03.428Z"
   },
   {
    "duration": 15,
    "start_time": "2021-07-08T11:49:03.438Z"
   },
   {
    "duration": 40,
    "start_time": "2021-07-08T11:49:03.455Z"
   },
   {
    "duration": 12,
    "start_time": "2021-07-08T11:49:03.497Z"
   },
   {
    "duration": 29,
    "start_time": "2021-07-08T11:49:03.511Z"
   },
   {
    "duration": 285,
    "start_time": "2021-07-08T11:49:03.542Z"
   },
   {
    "duration": 8,
    "start_time": "2021-07-08T11:49:03.829Z"
   },
   {
    "duration": 227,
    "start_time": "2021-07-08T11:49:03.838Z"
   },
   {
    "duration": 40,
    "start_time": "2021-07-08T11:49:04.066Z"
   },
   {
    "duration": 10,
    "start_time": "2021-07-08T11:49:04.108Z"
   },
   {
    "duration": 26,
    "start_time": "2021-07-08T11:49:04.121Z"
   },
   {
    "duration": 290,
    "start_time": "2021-07-08T11:49:04.149Z"
   },
   {
    "duration": 26,
    "start_time": "2021-07-08T11:49:04.441Z"
   },
   {
    "duration": 31,
    "start_time": "2021-07-08T11:49:04.470Z"
   },
   {
    "duration": 14,
    "start_time": "2021-07-08T11:49:04.503Z"
   },
   {
    "duration": 259,
    "start_time": "2021-07-08T11:49:04.521Z"
   },
   {
    "duration": 480,
    "start_time": "2021-07-08T11:49:04.782Z"
   },
   {
    "duration": 225,
    "start_time": "2021-07-08T11:49:05.264Z"
   },
   {
    "duration": 22,
    "start_time": "2021-07-08T11:49:05.491Z"
   },
   {
    "duration": 24,
    "start_time": "2021-07-08T11:49:05.515Z"
   },
   {
    "duration": 634,
    "start_time": "2021-07-08T11:52:24.960Z"
   },
   {
    "duration": 199,
    "start_time": "2021-07-08T11:52:25.599Z"
   },
   {
    "duration": 106,
    "start_time": "2021-07-08T11:52:25.803Z"
   },
   {
    "duration": 7,
    "start_time": "2021-07-08T11:52:25.911Z"
   },
   {
    "duration": 29,
    "start_time": "2021-07-08T11:52:25.920Z"
   },
   {
    "duration": 7,
    "start_time": "2021-07-08T11:52:25.951Z"
   },
   {
    "duration": 26,
    "start_time": "2021-07-08T11:52:25.961Z"
   },
   {
    "duration": 11,
    "start_time": "2021-07-08T11:52:25.990Z"
   },
   {
    "duration": 29,
    "start_time": "2021-07-08T11:52:26.005Z"
   },
   {
    "duration": 9,
    "start_time": "2021-07-08T11:52:26.036Z"
   },
   {
    "duration": 8,
    "start_time": "2021-07-08T11:52:26.047Z"
   },
   {
    "duration": 63,
    "start_time": "2021-07-08T11:52:26.057Z"
   },
   {
    "duration": 17,
    "start_time": "2021-07-08T11:52:26.122Z"
   },
   {
    "duration": 43,
    "start_time": "2021-07-08T11:52:26.142Z"
   },
   {
    "duration": 17,
    "start_time": "2021-07-08T11:52:26.187Z"
   },
   {
    "duration": 5,
    "start_time": "2021-07-08T11:52:26.206Z"
   },
   {
    "duration": 12,
    "start_time": "2021-07-08T11:52:26.212Z"
   },
   {
    "duration": 11,
    "start_time": "2021-07-08T11:52:26.226Z"
   },
   {
    "duration": 12,
    "start_time": "2021-07-08T11:52:26.238Z"
   },
   {
    "duration": 38,
    "start_time": "2021-07-08T11:52:26.252Z"
   },
   {
    "duration": 40,
    "start_time": "2021-07-08T11:52:26.292Z"
   },
   {
    "duration": 17,
    "start_time": "2021-07-08T11:52:26.336Z"
   },
   {
    "duration": 39,
    "start_time": "2021-07-08T11:52:26.355Z"
   },
   {
    "duration": 11,
    "start_time": "2021-07-08T11:52:26.395Z"
   },
   {
    "duration": 23,
    "start_time": "2021-07-08T11:52:26.408Z"
   },
   {
    "duration": 12,
    "start_time": "2021-07-08T11:52:26.432Z"
   },
   {
    "duration": 41,
    "start_time": "2021-07-08T11:52:26.446Z"
   },
   {
    "duration": 215,
    "start_time": "2021-07-08T11:52:26.493Z"
   },
   {
    "duration": 8,
    "start_time": "2021-07-08T11:52:26.710Z"
   },
   {
    "duration": 228,
    "start_time": "2021-07-08T11:52:26.720Z"
   },
   {
    "duration": 18,
    "start_time": "2021-07-08T11:52:26.950Z"
   },
   {
    "duration": 35,
    "start_time": "2021-07-08T11:52:26.969Z"
   },
   {
    "duration": 23,
    "start_time": "2021-07-08T11:52:27.006Z"
   },
   {
    "duration": 258,
    "start_time": "2021-07-08T11:52:27.030Z"
   },
   {
    "duration": 24,
    "start_time": "2021-07-08T11:52:27.290Z"
   },
   {
    "duration": 12,
    "start_time": "2021-07-08T11:52:27.316Z"
   },
   {
    "duration": 10,
    "start_time": "2021-07-08T11:52:27.329Z"
   },
   {
    "duration": 298,
    "start_time": "2021-07-08T11:52:27.341Z"
   },
   {
    "duration": 436,
    "start_time": "2021-07-08T11:52:27.641Z"
   },
   {
    "duration": 216,
    "start_time": "2021-07-08T11:52:28.079Z"
   },
   {
    "duration": 20,
    "start_time": "2021-07-08T11:52:28.297Z"
   },
   {
    "duration": 17,
    "start_time": "2021-07-08T11:52:28.319Z"
   },
   {
    "duration": 1586,
    "start_time": "2022-04-28T09:58:10.745Z"
   },
   {
    "duration": 94,
    "start_time": "2022-04-28T10:03:58.613Z"
   },
   {
    "duration": 111,
    "start_time": "2022-04-28T10:06:32.996Z"
   },
   {
    "duration": 4,
    "start_time": "2022-04-28T10:06:40.424Z"
   },
   {
    "duration": 12,
    "start_time": "2022-04-28T10:06:40.490Z"
   },
   {
    "duration": 114,
    "start_time": "2022-04-28T10:14:16.844Z"
   },
   {
    "duration": 4,
    "start_time": "2022-04-28T10:14:20.636Z"
   },
   {
    "duration": 116,
    "start_time": "2022-04-28T10:14:21.108Z"
   },
   {
    "duration": 16,
    "start_time": "2022-04-28T10:14:49.728Z"
   },
   {
    "duration": 23,
    "start_time": "2022-04-28T10:14:59.611Z"
   },
   {
    "duration": 13,
    "start_time": "2022-04-28T10:15:13.236Z"
   },
   {
    "duration": 26,
    "start_time": "2022-04-28T10:16:44.444Z"
   },
   {
    "duration": 22,
    "start_time": "2022-04-28T10:17:08.364Z"
   },
   {
    "duration": 21,
    "start_time": "2022-04-28T10:17:28.833Z"
   },
   {
    "duration": 15,
    "start_time": "2022-04-28T10:17:34.212Z"
   },
   {
    "duration": 804,
    "start_time": "2022-04-28T10:17:39.503Z"
   },
   {
    "duration": 108,
    "start_time": "2022-04-28T10:17:40.310Z"
   },
   {
    "duration": 28,
    "start_time": "2022-04-28T10:17:40.420Z"
   },
   {
    "duration": 45,
    "start_time": "2022-04-28T10:17:40.450Z"
   },
   {
    "duration": 10,
    "start_time": "2022-04-28T10:17:40.498Z"
   },
   {
    "duration": 21,
    "start_time": "2022-04-28T10:17:40.511Z"
   },
   {
    "duration": 871,
    "start_time": "2022-04-28T10:20:16.605Z"
   },
   {
    "duration": 145,
    "start_time": "2022-04-28T10:20:17.480Z"
   },
   {
    "duration": 33,
    "start_time": "2022-04-28T10:20:17.627Z"
   },
   {
    "duration": 28,
    "start_time": "2022-04-28T10:20:17.682Z"
   },
   {
    "duration": 13,
    "start_time": "2022-04-28T10:20:17.713Z"
   },
   {
    "duration": 55,
    "start_time": "2022-04-28T10:20:17.728Z"
   },
   {
    "duration": 10,
    "start_time": "2022-04-28T10:27:21.403Z"
   },
   {
    "duration": 31,
    "start_time": "2022-04-28T10:28:30.191Z"
   },
   {
    "duration": 4,
    "start_time": "2022-04-28T10:30:35.888Z"
   },
   {
    "duration": 21,
    "start_time": "2022-04-28T10:30:45.278Z"
   },
   {
    "duration": 24,
    "start_time": "2022-04-28T10:54:21.537Z"
   },
   {
    "duration": 49,
    "start_time": "2022-04-28T10:54:25.839Z"
   },
   {
    "duration": 37,
    "start_time": "2022-04-28T10:55:27.405Z"
   },
   {
    "duration": 23,
    "start_time": "2022-04-28T11:17:10.579Z"
   },
   {
    "duration": 21,
    "start_time": "2022-04-28T11:21:29.095Z"
   },
   {
    "duration": 848,
    "start_time": "2022-04-28T11:21:34.085Z"
   },
   {
    "duration": 120,
    "start_time": "2022-04-28T11:21:34.935Z"
   },
   {
    "duration": 33,
    "start_time": "2022-04-28T11:21:35.057Z"
   },
   {
    "duration": 21,
    "start_time": "2022-04-28T11:21:35.093Z"
   },
   {
    "duration": 10,
    "start_time": "2022-04-28T11:21:35.117Z"
   },
   {
    "duration": 52,
    "start_time": "2022-04-28T11:21:35.129Z"
   },
   {
    "duration": 27,
    "start_time": "2022-04-28T11:21:35.184Z"
   },
   {
    "duration": 14,
    "start_time": "2022-04-28T11:21:35.213Z"
   },
   {
    "duration": 79,
    "start_time": "2022-04-28T11:21:35.230Z"
   },
   {
    "duration": 22,
    "start_time": "2022-04-28T11:21:35.312Z"
   },
   {
    "duration": 5,
    "start_time": "2022-04-28T11:22:25.129Z"
   },
   {
    "duration": 40,
    "start_time": "2022-04-28T11:22:34.088Z"
   },
   {
    "duration": 23,
    "start_time": "2022-04-28T11:22:37.064Z"
   },
   {
    "duration": 22,
    "start_time": "2022-04-28T11:22:59.072Z"
   },
   {
    "duration": 23,
    "start_time": "2022-04-28T12:44:25.712Z"
   },
   {
    "duration": 115,
    "start_time": "2022-04-28T12:45:42.821Z"
   },
   {
    "duration": 37,
    "start_time": "2022-04-28T12:46:04.485Z"
   },
   {
    "duration": 4,
    "start_time": "2022-04-28T12:46:30.711Z"
   },
   {
    "duration": 23,
    "start_time": "2022-04-28T12:46:39.885Z"
   },
   {
    "duration": 18,
    "start_time": "2022-04-28T12:46:43.718Z"
   },
   {
    "duration": 12,
    "start_time": "2022-04-28T12:48:43.299Z"
   },
   {
    "duration": 9,
    "start_time": "2022-04-28T12:48:49.966Z"
   },
   {
    "duration": 5,
    "start_time": "2022-04-28T12:49:43.183Z"
   },
   {
    "duration": 40,
    "start_time": "2022-04-28T12:49:44.059Z"
   },
   {
    "duration": 23,
    "start_time": "2022-04-28T12:49:46.125Z"
   },
   {
    "duration": 916,
    "start_time": "2022-04-28T12:49:52.633Z"
   },
   {
    "duration": 113,
    "start_time": "2022-04-28T12:49:53.553Z"
   },
   {
    "duration": 37,
    "start_time": "2022-04-28T12:49:53.668Z"
   },
   {
    "duration": 26,
    "start_time": "2022-04-28T12:49:53.707Z"
   },
   {
    "duration": 11,
    "start_time": "2022-04-28T12:49:53.736Z"
   },
   {
    "duration": 15,
    "start_time": "2022-04-28T12:49:53.782Z"
   },
   {
    "duration": 19,
    "start_time": "2022-04-28T12:49:53.800Z"
   },
   {
    "duration": 74,
    "start_time": "2022-04-28T12:49:53.822Z"
   },
   {
    "duration": 22,
    "start_time": "2022-04-28T12:49:53.899Z"
   },
   {
    "duration": 104,
    "start_time": "2022-04-28T12:50:45.508Z"
   },
   {
    "duration": 10,
    "start_time": "2022-04-28T12:50:56.212Z"
   },
   {
    "duration": 6,
    "start_time": "2022-04-28T12:52:51.333Z"
   },
   {
    "duration": 829,
    "start_time": "2022-04-28T12:52:58.397Z"
   },
   {
    "duration": 112,
    "start_time": "2022-04-28T12:52:59.229Z"
   },
   {
    "duration": 27,
    "start_time": "2022-04-28T12:52:59.344Z"
   },
   {
    "duration": 25,
    "start_time": "2022-04-28T12:52:59.381Z"
   },
   {
    "duration": 7,
    "start_time": "2022-04-28T12:52:59.409Z"
   },
   {
    "duration": 14,
    "start_time": "2022-04-28T12:52:59.418Z"
   },
   {
    "duration": 61,
    "start_time": "2022-04-28T12:52:59.434Z"
   },
   {
    "duration": 13,
    "start_time": "2022-04-28T12:52:59.497Z"
   },
   {
    "duration": 42,
    "start_time": "2022-04-28T12:52:59.512Z"
   },
   {
    "duration": 45,
    "start_time": "2022-04-28T12:52:59.556Z"
   },
   {
    "duration": 28,
    "start_time": "2022-04-28T13:10:10.176Z"
   },
   {
    "duration": 35,
    "start_time": "2022-04-28T13:10:19.827Z"
   },
   {
    "duration": 42,
    "start_time": "2022-04-28T13:10:30.394Z"
   },
   {
    "duration": 53,
    "start_time": "2022-04-28T13:10:39.777Z"
   },
   {
    "duration": 21,
    "start_time": "2022-04-28T13:10:49.679Z"
   },
   {
    "duration": 48,
    "start_time": "2022-04-28T13:14:08.973Z"
   },
   {
    "duration": 51,
    "start_time": "2022-04-28T13:14:29.970Z"
   },
   {
    "duration": 41,
    "start_time": "2022-04-28T13:28:05.173Z"
   },
   {
    "duration": 44,
    "start_time": "2022-04-28T13:28:28.461Z"
   },
   {
    "duration": 41,
    "start_time": "2022-04-28T13:29:30.608Z"
   },
   {
    "duration": 2025,
    "start_time": "2022-04-28T13:30:19.104Z"
   },
   {
    "duration": 891,
    "start_time": "2022-04-28T13:30:37.455Z"
   },
   {
    "duration": 935,
    "start_time": "2022-04-28T13:31:01.687Z"
   },
   {
    "duration": 1859,
    "start_time": "2022-04-28T13:31:19.895Z"
   },
   {
    "duration": 3748,
    "start_time": "2022-04-28T13:31:33.031Z"
   },
   {
    "duration": 19,
    "start_time": "2022-04-28T13:31:52.527Z"
   },
   {
    "duration": 22,
    "start_time": "2022-04-28T13:38:32.225Z"
   },
   {
    "duration": 25,
    "start_time": "2022-04-28T13:38:56.202Z"
   },
   {
    "duration": 37,
    "start_time": "2022-04-28T13:40:48.305Z"
   },
   {
    "duration": 17,
    "start_time": "2022-04-28T13:40:58.179Z"
   },
   {
    "duration": 42,
    "start_time": "2022-04-28T13:41:24.674Z"
   },
   {
    "duration": 41,
    "start_time": "2022-04-28T13:41:42.493Z"
   },
   {
    "duration": 54,
    "start_time": "2022-04-28T13:41:46.673Z"
   },
   {
    "duration": 42,
    "start_time": "2022-04-28T13:41:55.330Z"
   },
   {
    "duration": 43,
    "start_time": "2022-04-28T13:42:00.532Z"
   },
   {
    "duration": 43,
    "start_time": "2022-04-28T13:42:04.825Z"
   },
   {
    "duration": 46,
    "start_time": "2022-04-28T13:42:11.633Z"
   },
   {
    "duration": 1595,
    "start_time": "2022-04-28T13:42:52.706Z"
   },
   {
    "duration": 94,
    "start_time": "2022-04-28T13:43:05.827Z"
   },
   {
    "duration": 1671,
    "start_time": "2022-04-28T13:43:13.693Z"
   },
   {
    "duration": 843,
    "start_time": "2022-04-28T13:43:19.830Z"
   },
   {
    "duration": 130,
    "start_time": "2022-04-28T13:43:20.675Z"
   },
   {
    "duration": 29,
    "start_time": "2022-04-28T13:43:20.807Z"
   },
   {
    "duration": 57,
    "start_time": "2022-04-28T13:43:20.839Z"
   },
   {
    "duration": 14,
    "start_time": "2022-04-28T13:43:20.899Z"
   },
   {
    "duration": 30,
    "start_time": "2022-04-28T13:43:20.916Z"
   },
   {
    "duration": 41,
    "start_time": "2022-04-28T13:43:20.949Z"
   },
   {
    "duration": 67,
    "start_time": "2022-04-28T13:43:20.992Z"
   },
   {
    "duration": 47,
    "start_time": "2022-04-28T13:43:21.062Z"
   },
   {
    "duration": 20,
    "start_time": "2022-04-28T13:43:21.112Z"
   },
   {
    "duration": 58,
    "start_time": "2022-04-28T13:43:21.134Z"
   },
   {
    "duration": 1942,
    "start_time": "2022-04-28T13:43:21.194Z"
   },
   {
    "duration": 1705,
    "start_time": "2022-04-28T13:43:51.006Z"
   },
   {
    "duration": 2037,
    "start_time": "2022-04-28T13:44:07.660Z"
   },
   {
    "duration": 1742,
    "start_time": "2022-04-28T13:44:17.527Z"
   },
   {
    "duration": 1825,
    "start_time": "2022-04-28T13:44:59.980Z"
   },
   {
    "duration": 1913,
    "start_time": "2022-04-28T13:45:10.094Z"
   },
   {
    "duration": 7,
    "start_time": "2022-04-28T13:45:19.469Z"
   },
   {
    "duration": 22,
    "start_time": "2022-04-28T13:45:25.036Z"
   },
   {
    "duration": 19,
    "start_time": "2022-04-28T13:45:30.214Z"
   },
   {
    "duration": 20,
    "start_time": "2022-04-28T13:51:16.649Z"
   },
   {
    "duration": 9,
    "start_time": "2022-04-28T13:52:06.903Z"
   },
   {
    "duration": 17,
    "start_time": "2022-04-28T13:53:56.105Z"
   },
   {
    "duration": 905,
    "start_time": "2022-04-28T13:55:27.955Z"
   },
   {
    "duration": 120,
    "start_time": "2022-04-28T13:55:28.863Z"
   },
   {
    "duration": 33,
    "start_time": "2022-04-28T13:55:28.986Z"
   },
   {
    "duration": 23,
    "start_time": "2022-04-28T13:55:29.022Z"
   },
   {
    "duration": 45,
    "start_time": "2022-04-28T13:55:29.048Z"
   },
   {
    "duration": 22,
    "start_time": "2022-04-28T13:55:29.096Z"
   },
   {
    "duration": 15,
    "start_time": "2022-04-28T13:55:29.121Z"
   },
   {
    "duration": 85,
    "start_time": "2022-04-28T13:55:29.138Z"
   },
   {
    "duration": 22,
    "start_time": "2022-04-28T13:55:29.225Z"
   },
   {
    "duration": 38,
    "start_time": "2022-04-28T13:55:29.250Z"
   },
   {
    "duration": 31,
    "start_time": "2022-04-28T13:55:29.290Z"
   },
   {
    "duration": 6,
    "start_time": "2022-04-28T13:55:29.324Z"
   },
   {
    "duration": 146,
    "start_time": "2022-04-28T13:55:29.332Z"
   },
   {
    "duration": 9,
    "start_time": "2022-04-28T13:55:58.303Z"
   },
   {
    "duration": 21,
    "start_time": "2022-04-28T13:56:20.505Z"
   },
   {
    "duration": 17,
    "start_time": "2022-04-28T14:00:10.025Z"
   },
   {
    "duration": 19,
    "start_time": "2022-04-28T14:00:17.535Z"
   },
   {
    "duration": 649,
    "start_time": "2022-04-28T14:07:55.300Z"
   },
   {
    "duration": 616,
    "start_time": "2022-04-28T14:08:12.457Z"
   },
   {
    "duration": 190,
    "start_time": "2022-04-28T14:09:40.101Z"
   },
   {
    "duration": 107,
    "start_time": "2022-04-28T14:09:49.241Z"
   },
   {
    "duration": 199,
    "start_time": "2022-04-28T14:10:03.881Z"
   },
   {
    "duration": 15,
    "start_time": "2022-04-28T14:10:09.657Z"
   },
   {
    "duration": 9,
    "start_time": "2022-04-28T14:10:40.237Z"
   },
   {
    "duration": 10,
    "start_time": "2022-04-28T14:10:45.425Z"
   },
   {
    "duration": 11,
    "start_time": "2022-04-28T14:11:10.473Z"
   },
   {
    "duration": 12,
    "start_time": "2022-04-28T14:11:38.092Z"
   },
   {
    "duration": 11,
    "start_time": "2022-04-28T14:11:44.531Z"
   },
   {
    "duration": 10,
    "start_time": "2022-04-28T14:11:52.949Z"
   },
   {
    "duration": 9,
    "start_time": "2022-04-28T14:11:59.268Z"
   },
   {
    "duration": 9,
    "start_time": "2022-04-28T14:12:06.771Z"
   },
   {
    "duration": 11,
    "start_time": "2022-04-28T14:12:18.152Z"
   },
   {
    "duration": 10,
    "start_time": "2022-04-28T14:12:24.619Z"
   },
   {
    "duration": 11,
    "start_time": "2022-04-28T14:12:46.985Z"
   },
   {
    "duration": 14,
    "start_time": "2022-04-28T14:12:57.504Z"
   },
   {
    "duration": 8,
    "start_time": "2022-04-28T14:13:00.931Z"
   },
   {
    "duration": 10,
    "start_time": "2022-04-28T14:13:11.100Z"
   },
   {
    "duration": 8,
    "start_time": "2022-04-28T14:13:45.627Z"
   },
   {
    "duration": 6,
    "start_time": "2022-04-28T14:13:58.267Z"
   },
   {
    "duration": 13,
    "start_time": "2022-04-28T14:15:02.931Z"
   },
   {
    "duration": 8,
    "start_time": "2022-04-28T14:15:08.059Z"
   },
   {
    "duration": 17,
    "start_time": "2022-04-28T14:20:56.565Z"
   },
   {
    "duration": 16,
    "start_time": "2022-04-28T14:21:26.380Z"
   },
   {
    "duration": 15,
    "start_time": "2022-04-28T14:21:35.197Z"
   },
   {
    "duration": 22,
    "start_time": "2022-04-28T14:21:48.845Z"
   },
   {
    "duration": 22,
    "start_time": "2022-04-28T14:24:55.961Z"
   },
   {
    "duration": 1738,
    "start_time": "2022-04-28T14:41:23.516Z"
   },
   {
    "duration": 18,
    "start_time": "2022-04-28T14:41:37.844Z"
   },
   {
    "duration": 8,
    "start_time": "2022-04-28T14:42:20.347Z"
   },
   {
    "duration": 16,
    "start_time": "2022-04-28T14:42:22.455Z"
   },
   {
    "duration": 5,
    "start_time": "2022-04-28T14:42:27.164Z"
   },
   {
    "duration": 10,
    "start_time": "2022-04-28T14:42:33.586Z"
   },
   {
    "duration": 7,
    "start_time": "2022-04-28T14:43:02.906Z"
   },
   {
    "duration": 10,
    "start_time": "2022-04-28T14:43:20.681Z"
   },
   {
    "duration": 23,
    "start_time": "2022-04-28T14:45:24.795Z"
   },
   {
    "duration": 10,
    "start_time": "2022-04-28T14:47:17.034Z"
   },
   {
    "duration": 36,
    "start_time": "2022-04-28T14:47:30.035Z"
   },
   {
    "duration": 22,
    "start_time": "2022-04-28T14:51:00.098Z"
   },
   {
    "duration": 24,
    "start_time": "2022-04-28T14:51:18.692Z"
   },
   {
    "duration": 18,
    "start_time": "2022-04-28T14:52:03.411Z"
   },
   {
    "duration": 22,
    "start_time": "2022-04-28T14:52:13.744Z"
   },
   {
    "duration": 18,
    "start_time": "2022-04-28T14:54:05.182Z"
   },
   {
    "duration": 19,
    "start_time": "2022-04-28T14:54:40.920Z"
   },
   {
    "duration": 10,
    "start_time": "2022-04-28T14:56:38.243Z"
   },
   {
    "duration": 26,
    "start_time": "2022-04-28T14:57:25.789Z"
   },
   {
    "duration": 21,
    "start_time": "2022-04-28T14:58:11.173Z"
   },
   {
    "duration": 19,
    "start_time": "2022-04-28T15:00:50.438Z"
   },
   {
    "duration": 22,
    "start_time": "2022-04-28T15:01:25.157Z"
   },
   {
    "duration": 12,
    "start_time": "2022-04-28T15:03:23.494Z"
   },
   {
    "duration": 10,
    "start_time": "2022-04-28T15:03:36.143Z"
   },
   {
    "duration": 17,
    "start_time": "2022-04-28T15:03:38.573Z"
   },
   {
    "duration": 888,
    "start_time": "2022-04-28T15:03:44.763Z"
   },
   {
    "duration": 124,
    "start_time": "2022-04-28T15:03:45.655Z"
   },
   {
    "duration": 32,
    "start_time": "2022-04-28T15:03:45.781Z"
   },
   {
    "duration": 34,
    "start_time": "2022-04-28T15:03:45.816Z"
   },
   {
    "duration": 32,
    "start_time": "2022-04-28T15:03:45.855Z"
   },
   {
    "duration": 18,
    "start_time": "2022-04-28T15:03:45.890Z"
   },
   {
    "duration": 16,
    "start_time": "2022-04-28T15:03:45.911Z"
   },
   {
    "duration": 93,
    "start_time": "2022-04-28T15:03:45.929Z"
   },
   {
    "duration": 20,
    "start_time": "2022-04-28T15:03:46.024Z"
   },
   {
    "duration": 43,
    "start_time": "2022-04-28T15:03:46.046Z"
   },
   {
    "duration": 21,
    "start_time": "2022-04-28T15:03:46.091Z"
   },
   {
    "duration": 16,
    "start_time": "2022-04-28T15:03:46.115Z"
   },
   {
    "duration": 52,
    "start_time": "2022-04-28T15:03:46.133Z"
   },
   {
    "duration": 24,
    "start_time": "2022-04-28T15:03:46.188Z"
   },
   {
    "duration": 12,
    "start_time": "2022-04-28T15:03:46.215Z"
   },
   {
    "duration": 6,
    "start_time": "2022-04-28T15:04:25.598Z"
   },
   {
    "duration": 856,
    "start_time": "2022-04-28T15:04:32.074Z"
   },
   {
    "duration": 120,
    "start_time": "2022-04-28T15:04:32.932Z"
   },
   {
    "duration": 34,
    "start_time": "2022-04-28T15:04:33.054Z"
   },
   {
    "duration": 23,
    "start_time": "2022-04-28T15:04:33.091Z"
   },
   {
    "duration": 11,
    "start_time": "2022-04-28T15:04:33.116Z"
   },
   {
    "duration": 57,
    "start_time": "2022-04-28T15:04:33.129Z"
   },
   {
    "duration": 15,
    "start_time": "2022-04-28T15:04:33.189Z"
   },
   {
    "duration": 45,
    "start_time": "2022-04-28T15:04:33.206Z"
   },
   {
    "duration": 21,
    "start_time": "2022-04-28T15:04:33.281Z"
   },
   {
    "duration": 17,
    "start_time": "2022-04-28T15:04:33.305Z"
   },
   {
    "duration": 15,
    "start_time": "2022-04-28T15:04:33.325Z"
   },
   {
    "duration": 45,
    "start_time": "2022-04-28T15:04:33.342Z"
   },
   {
    "duration": 22,
    "start_time": "2022-04-28T15:04:33.390Z"
   },
   {
    "duration": 20,
    "start_time": "2022-04-28T15:04:33.414Z"
   },
   {
    "duration": 21,
    "start_time": "2022-04-28T15:05:19.668Z"
   },
   {
    "duration": 110,
    "start_time": "2022-04-28T15:33:07.755Z"
   },
   {
    "duration": 24,
    "start_time": "2022-04-28T15:33:14.195Z"
   },
   {
    "duration": 10,
    "start_time": "2022-04-28T15:35:17.236Z"
   },
   {
    "duration": 23,
    "start_time": "2022-04-28T15:35:23.380Z"
   },
   {
    "duration": 37,
    "start_time": "2022-04-28T15:35:28.688Z"
   },
   {
    "duration": 18,
    "start_time": "2022-04-28T15:36:16.628Z"
   },
   {
    "duration": 32,
    "start_time": "2022-04-28T15:36:20.212Z"
   },
   {
    "duration": 123,
    "start_time": "2022-04-28T15:41:34.471Z"
   },
   {
    "duration": 104,
    "start_time": "2022-04-28T15:42:32.797Z"
   },
   {
    "duration": 6,
    "start_time": "2022-04-28T15:43:16.465Z"
   },
   {
    "duration": 5681,
    "start_time": "2022-04-28T15:45:43.647Z"
   },
   {
    "duration": 20,
    "start_time": "2022-04-28T15:46:25.213Z"
   },
   {
    "duration": 879,
    "start_time": "2022-04-28T15:47:20.968Z"
   },
   {
    "duration": 117,
    "start_time": "2022-04-28T15:47:21.850Z"
   },
   {
    "duration": 37,
    "start_time": "2022-04-28T15:47:21.969Z"
   },
   {
    "duration": 21,
    "start_time": "2022-04-28T15:47:22.009Z"
   },
   {
    "duration": 12,
    "start_time": "2022-04-28T15:47:22.034Z"
   },
   {
    "duration": 18,
    "start_time": "2022-04-28T15:47:22.083Z"
   },
   {
    "duration": 23,
    "start_time": "2022-04-28T15:47:22.103Z"
   },
   {
    "duration": 68,
    "start_time": "2022-04-28T15:47:22.128Z"
   },
   {
    "duration": 20,
    "start_time": "2022-04-28T15:47:22.199Z"
   },
   {
    "duration": 24,
    "start_time": "2022-04-28T15:47:22.222Z"
   },
   {
    "duration": 43,
    "start_time": "2022-04-28T15:47:22.248Z"
   },
   {
    "duration": 13,
    "start_time": "2022-04-28T15:47:22.293Z"
   },
   {
    "duration": 25,
    "start_time": "2022-04-28T15:47:22.308Z"
   },
   {
    "duration": 54,
    "start_time": "2022-04-28T15:47:22.337Z"
   },
   {
    "duration": 22,
    "start_time": "2022-04-28T15:47:22.393Z"
   },
   {
    "duration": 37,
    "start_time": "2022-04-28T15:47:22.418Z"
   },
   {
    "duration": 5,
    "start_time": "2022-04-28T15:47:22.482Z"
   },
   {
    "duration": 5447,
    "start_time": "2022-04-28T15:47:22.490Z"
   },
   {
    "duration": 20,
    "start_time": "2022-04-28T15:47:27.940Z"
   },
   {
    "duration": 24,
    "start_time": "2022-04-28T15:48:36.891Z"
   },
   {
    "duration": 5,
    "start_time": "2022-04-28T15:48:40.061Z"
   },
   {
    "duration": 8380,
    "start_time": "2022-04-28T15:48:40.354Z"
   },
   {
    "duration": 21,
    "start_time": "2022-04-28T15:48:48.737Z"
   },
   {
    "duration": 844,
    "start_time": "2022-04-28T15:52:51.763Z"
   },
   {
    "duration": 124,
    "start_time": "2022-04-28T15:52:52.610Z"
   },
   {
    "duration": 27,
    "start_time": "2022-04-28T15:52:52.737Z"
   },
   {
    "duration": 31,
    "start_time": "2022-04-28T15:52:52.768Z"
   },
   {
    "duration": 13,
    "start_time": "2022-04-28T15:52:52.802Z"
   },
   {
    "duration": 17,
    "start_time": "2022-04-28T15:52:52.817Z"
   },
   {
    "duration": 49,
    "start_time": "2022-04-28T15:52:52.836Z"
   },
   {
    "duration": 46,
    "start_time": "2022-04-28T15:52:52.887Z"
   },
   {
    "duration": 47,
    "start_time": "2022-04-28T15:52:52.935Z"
   },
   {
    "duration": 20,
    "start_time": "2022-04-28T15:52:52.985Z"
   },
   {
    "duration": 18,
    "start_time": "2022-04-28T15:52:53.007Z"
   },
   {
    "duration": 8,
    "start_time": "2022-04-28T15:52:53.027Z"
   },
   {
    "duration": 53,
    "start_time": "2022-04-28T15:52:53.036Z"
   },
   {
    "duration": 22,
    "start_time": "2022-04-28T15:52:53.092Z"
   },
   {
    "duration": 21,
    "start_time": "2022-04-28T15:52:53.116Z"
   },
   {
    "duration": 61,
    "start_time": "2022-04-28T15:52:53.140Z"
   },
   {
    "duration": 5,
    "start_time": "2022-04-28T15:52:53.203Z"
   },
   {
    "duration": 6024,
    "start_time": "2022-04-28T15:52:53.210Z"
   },
   {
    "duration": 23,
    "start_time": "2022-04-28T15:52:59.237Z"
   },
   {
    "duration": 106,
    "start_time": "2022-04-28T16:06:13.349Z"
   },
   {
    "duration": 15,
    "start_time": "2022-04-28T16:11:59.966Z"
   },
   {
    "duration": 50,
    "start_time": "2022-04-28T16:12:19.420Z"
   },
   {
    "duration": 36,
    "start_time": "2022-04-28T16:12:27.606Z"
   },
   {
    "duration": 35,
    "start_time": "2022-04-28T16:12:50.375Z"
   },
   {
    "duration": 36,
    "start_time": "2022-04-28T16:13:17.394Z"
   },
   {
    "duration": 25,
    "start_time": "2022-04-28T16:13:56.217Z"
   },
   {
    "duration": 35,
    "start_time": "2022-04-28T16:14:14.718Z"
   },
   {
    "duration": 34,
    "start_time": "2022-04-28T16:14:26.999Z"
   },
   {
    "duration": 98,
    "start_time": "2022-04-28T16:20:56.535Z"
   },
   {
    "duration": 48,
    "start_time": "2022-04-28T16:21:25.489Z"
   },
   {
    "duration": 24,
    "start_time": "2022-04-28T16:21:27.686Z"
   },
   {
    "duration": 5,
    "start_time": "2022-04-28T16:21:32.758Z"
   },
   {
    "duration": 7394,
    "start_time": "2022-04-28T16:21:33.950Z"
   },
   {
    "duration": 19,
    "start_time": "2022-04-28T16:21:41.347Z"
   },
   {
    "duration": 23,
    "start_time": "2022-04-28T16:22:38.334Z"
   },
   {
    "duration": 25,
    "start_time": "2022-04-28T16:23:00.054Z"
   },
   {
    "duration": 822,
    "start_time": "2022-04-28T16:23:19.702Z"
   },
   {
    "duration": 113,
    "start_time": "2022-04-28T16:23:20.526Z"
   },
   {
    "duration": 29,
    "start_time": "2022-04-28T16:23:20.641Z"
   },
   {
    "duration": 22,
    "start_time": "2022-04-28T16:23:20.682Z"
   },
   {
    "duration": 9,
    "start_time": "2022-04-28T16:23:20.706Z"
   },
   {
    "duration": 26,
    "start_time": "2022-04-28T16:23:20.718Z"
   },
   {
    "duration": 45,
    "start_time": "2022-04-28T16:23:20.747Z"
   },
   {
    "duration": 49,
    "start_time": "2022-04-28T16:23:20.794Z"
   },
   {
    "duration": 49,
    "start_time": "2022-04-28T16:23:20.846Z"
   },
   {
    "duration": 19,
    "start_time": "2022-04-28T16:23:20.898Z"
   },
   {
    "duration": 13,
    "start_time": "2022-04-28T16:23:20.919Z"
   },
   {
    "duration": 10,
    "start_time": "2022-04-28T16:23:20.934Z"
   },
   {
    "duration": 23,
    "start_time": "2022-04-28T16:23:20.981Z"
   },
   {
    "duration": 24,
    "start_time": "2022-04-28T16:23:21.006Z"
   },
   {
    "duration": 61,
    "start_time": "2022-04-28T16:23:21.031Z"
   },
   {
    "duration": 1713,
    "start_time": "2022-04-28T16:23:21.094Z"
   },
   {
    "duration": 0,
    "start_time": "2022-04-28T16:23:22.809Z"
   },
   {
    "duration": 0,
    "start_time": "2022-04-28T16:23:22.811Z"
   },
   {
    "duration": 0,
    "start_time": "2022-04-28T16:23:22.813Z"
   },
   {
    "duration": 0,
    "start_time": "2022-04-28T16:23:22.814Z"
   },
   {
    "duration": 1666,
    "start_time": "2022-04-28T16:24:00.541Z"
   },
   {
    "duration": 35,
    "start_time": "2022-04-28T16:24:32.364Z"
   },
   {
    "duration": 49,
    "start_time": "2022-04-28T16:24:40.557Z"
   },
   {
    "duration": 864,
    "start_time": "2022-04-28T16:24:55.258Z"
   },
   {
    "duration": 110,
    "start_time": "2022-04-28T16:24:56.125Z"
   },
   {
    "duration": 30,
    "start_time": "2022-04-28T16:24:56.238Z"
   },
   {
    "duration": 34,
    "start_time": "2022-04-28T16:24:56.271Z"
   },
   {
    "duration": 17,
    "start_time": "2022-04-28T16:24:56.308Z"
   },
   {
    "duration": 55,
    "start_time": "2022-04-28T16:24:56.327Z"
   },
   {
    "duration": 11,
    "start_time": "2022-04-28T16:24:56.385Z"
   },
   {
    "duration": 54,
    "start_time": "2022-04-28T16:24:56.399Z"
   },
   {
    "duration": 42,
    "start_time": "2022-04-28T16:24:56.455Z"
   },
   {
    "duration": 29,
    "start_time": "2022-04-28T16:24:56.502Z"
   },
   {
    "duration": 14,
    "start_time": "2022-04-28T16:24:56.533Z"
   },
   {
    "duration": 37,
    "start_time": "2022-04-28T16:24:56.549Z"
   },
   {
    "duration": 30,
    "start_time": "2022-04-28T16:24:56.589Z"
   },
   {
    "duration": 22,
    "start_time": "2022-04-28T16:24:56.621Z"
   },
   {
    "duration": 52,
    "start_time": "2022-04-28T16:24:56.645Z"
   },
   {
    "duration": 1851,
    "start_time": "2022-04-28T16:24:56.699Z"
   },
   {
    "duration": 0,
    "start_time": "2022-04-28T16:24:58.553Z"
   },
   {
    "duration": 0,
    "start_time": "2022-04-28T16:24:58.555Z"
   },
   {
    "duration": 0,
    "start_time": "2022-04-28T16:24:58.557Z"
   },
   {
    "duration": 0,
    "start_time": "2022-04-28T16:24:58.559Z"
   },
   {
    "duration": 35,
    "start_time": "2022-04-28T16:25:22.130Z"
   },
   {
    "duration": 47,
    "start_time": "2022-04-28T16:26:02.830Z"
   },
   {
    "duration": 833,
    "start_time": "2022-04-28T16:26:09.869Z"
   },
   {
    "duration": 109,
    "start_time": "2022-04-28T16:26:10.704Z"
   },
   {
    "duration": 28,
    "start_time": "2022-04-28T16:26:10.815Z"
   },
   {
    "duration": 37,
    "start_time": "2022-04-28T16:26:10.845Z"
   },
   {
    "duration": 10,
    "start_time": "2022-04-28T16:26:10.885Z"
   },
   {
    "duration": 14,
    "start_time": "2022-04-28T16:26:10.897Z"
   },
   {
    "duration": 13,
    "start_time": "2022-04-28T16:26:10.913Z"
   },
   {
    "duration": 85,
    "start_time": "2022-04-28T16:26:10.928Z"
   },
   {
    "duration": 22,
    "start_time": "2022-04-28T16:26:11.016Z"
   },
   {
    "duration": 46,
    "start_time": "2022-04-28T16:26:11.041Z"
   },
   {
    "duration": 13,
    "start_time": "2022-04-28T16:26:11.090Z"
   },
   {
    "duration": 10,
    "start_time": "2022-04-28T16:26:11.106Z"
   },
   {
    "duration": 20,
    "start_time": "2022-04-28T16:26:11.118Z"
   },
   {
    "duration": 23,
    "start_time": "2022-04-28T16:26:11.183Z"
   },
   {
    "duration": 21,
    "start_time": "2022-04-28T16:26:11.208Z"
   },
   {
    "duration": 90,
    "start_time": "2022-04-28T16:26:11.231Z"
   },
   {
    "duration": 0,
    "start_time": "2022-04-28T16:26:11.324Z"
   },
   {
    "duration": 0,
    "start_time": "2022-04-28T16:26:11.325Z"
   },
   {
    "duration": 0,
    "start_time": "2022-04-28T16:26:11.326Z"
   },
   {
    "duration": 0,
    "start_time": "2022-04-28T16:26:11.328Z"
   },
   {
    "duration": 0,
    "start_time": "2022-04-28T16:26:11.329Z"
   },
   {
    "duration": 875,
    "start_time": "2022-04-28T16:26:21.144Z"
   },
   {
    "duration": 110,
    "start_time": "2022-04-28T16:26:22.022Z"
   },
   {
    "duration": 28,
    "start_time": "2022-04-28T16:26:22.134Z"
   },
   {
    "duration": 31,
    "start_time": "2022-04-28T16:26:22.164Z"
   },
   {
    "duration": 10,
    "start_time": "2022-04-28T16:26:22.198Z"
   },
   {
    "duration": 15,
    "start_time": "2022-04-28T16:26:22.210Z"
   },
   {
    "duration": 55,
    "start_time": "2022-04-28T16:26:22.227Z"
   },
   {
    "duration": 44,
    "start_time": "2022-04-28T16:26:22.284Z"
   },
   {
    "duration": 21,
    "start_time": "2022-04-28T16:26:22.330Z"
   },
   {
    "duration": 43,
    "start_time": "2022-04-28T16:26:22.354Z"
   },
   {
    "duration": 13,
    "start_time": "2022-04-28T16:26:22.399Z"
   },
   {
    "duration": 8,
    "start_time": "2022-04-28T16:26:22.414Z"
   },
   {
    "duration": 59,
    "start_time": "2022-04-28T16:26:22.424Z"
   },
   {
    "duration": 21,
    "start_time": "2022-04-28T16:26:22.485Z"
   },
   {
    "duration": 21,
    "start_time": "2022-04-28T16:26:22.508Z"
   },
   {
    "duration": 13,
    "start_time": "2022-04-28T16:26:22.531Z"
   },
   {
    "duration": 82,
    "start_time": "2022-04-28T16:26:22.546Z"
   },
   {
    "duration": 22,
    "start_time": "2022-04-28T16:26:22.630Z"
   },
   {
    "duration": 29,
    "start_time": "2022-04-28T16:26:22.654Z"
   },
   {
    "duration": 1181,
    "start_time": "2022-04-28T16:26:22.685Z"
   },
   {
    "duration": 27,
    "start_time": "2022-04-28T16:26:23.868Z"
   },
   {
    "duration": 809,
    "start_time": "2022-04-28T16:26:45.718Z"
   },
   {
    "duration": 114,
    "start_time": "2022-04-28T16:26:46.530Z"
   },
   {
    "duration": 45,
    "start_time": "2022-04-28T16:26:46.646Z"
   },
   {
    "duration": 23,
    "start_time": "2022-04-28T16:26:46.696Z"
   },
   {
    "duration": 15,
    "start_time": "2022-04-28T16:26:46.722Z"
   },
   {
    "duration": 53,
    "start_time": "2022-04-28T16:26:46.739Z"
   },
   {
    "duration": 14,
    "start_time": "2022-04-28T16:26:46.795Z"
   },
   {
    "duration": 72,
    "start_time": "2022-04-28T16:26:46.811Z"
   },
   {
    "duration": 20,
    "start_time": "2022-04-28T16:26:46.885Z"
   },
   {
    "duration": 18,
    "start_time": "2022-04-28T16:26:46.908Z"
   },
   {
    "duration": 13,
    "start_time": "2022-04-28T16:26:46.928Z"
   },
   {
    "duration": 40,
    "start_time": "2022-04-28T16:26:46.944Z"
   },
   {
    "duration": 23,
    "start_time": "2022-04-28T16:26:46.986Z"
   },
   {
    "duration": 20,
    "start_time": "2022-04-28T16:26:47.012Z"
   },
   {
    "duration": 60,
    "start_time": "2022-04-28T16:26:47.035Z"
   },
   {
    "duration": 86,
    "start_time": "2022-04-28T16:26:47.097Z"
   },
   {
    "duration": 23,
    "start_time": "2022-04-28T16:26:47.185Z"
   },
   {
    "duration": 5,
    "start_time": "2022-04-28T16:26:47.209Z"
   },
   {
    "duration": 1180,
    "start_time": "2022-04-28T16:26:47.216Z"
   },
   {
    "duration": 24,
    "start_time": "2022-04-28T16:26:48.398Z"
   },
   {
    "duration": 24,
    "start_time": "2022-04-28T16:27:11.093Z"
   },
   {
    "duration": 12,
    "start_time": "2022-04-28T16:30:15.267Z"
   },
   {
    "duration": 14,
    "start_time": "2022-04-28T16:30:22.202Z"
   },
   {
    "duration": 24,
    "start_time": "2022-04-28T16:30:31.260Z"
   },
   {
    "duration": 26,
    "start_time": "2022-04-28T16:31:28.745Z"
   },
   {
    "duration": 115,
    "start_time": "2022-04-28T16:32:21.725Z"
   },
   {
    "duration": 17,
    "start_time": "2022-04-28T16:32:29.688Z"
   },
   {
    "duration": 17,
    "start_time": "2022-04-28T16:32:49.167Z"
   },
   {
    "duration": 19,
    "start_time": "2022-04-28T16:33:03.763Z"
   },
   {
    "duration": 29,
    "start_time": "2022-04-28T16:33:34.088Z"
   },
   {
    "duration": 22,
    "start_time": "2022-04-28T16:33:53.740Z"
   },
   {
    "duration": 175,
    "start_time": "2022-04-28T16:34:40.639Z"
   },
   {
    "duration": 18,
    "start_time": "2022-04-28T16:35:05.707Z"
   },
   {
    "duration": 16,
    "start_time": "2022-04-28T16:35:10.572Z"
   },
   {
    "duration": 17,
    "start_time": "2022-04-28T16:35:17.900Z"
   },
   {
    "duration": 821,
    "start_time": "2022-04-28T16:35:29.526Z"
   },
   {
    "duration": 116,
    "start_time": "2022-04-28T16:35:30.349Z"
   },
   {
    "duration": 27,
    "start_time": "2022-04-28T16:35:30.467Z"
   },
   {
    "duration": 29,
    "start_time": "2022-04-28T16:35:30.497Z"
   },
   {
    "duration": 10,
    "start_time": "2022-04-28T16:35:30.529Z"
   },
   {
    "duration": 50,
    "start_time": "2022-04-28T16:35:30.541Z"
   },
   {
    "duration": 11,
    "start_time": "2022-04-28T16:35:30.593Z"
   },
   {
    "duration": 59,
    "start_time": "2022-04-28T16:35:30.607Z"
   },
   {
    "duration": 19,
    "start_time": "2022-04-28T16:35:30.681Z"
   },
   {
    "duration": 17,
    "start_time": "2022-04-28T16:35:30.705Z"
   },
   {
    "duration": 16,
    "start_time": "2022-04-28T16:35:30.724Z"
   },
   {
    "duration": 40,
    "start_time": "2022-04-28T16:35:30.743Z"
   },
   {
    "duration": 37,
    "start_time": "2022-04-28T16:35:30.785Z"
   },
   {
    "duration": 21,
    "start_time": "2022-04-28T16:35:30.824Z"
   },
   {
    "duration": 41,
    "start_time": "2022-04-28T16:35:30.847Z"
   },
   {
    "duration": 72,
    "start_time": "2022-04-28T16:35:30.890Z"
   },
   {
    "duration": 37,
    "start_time": "2022-04-28T16:35:30.964Z"
   },
   {
    "duration": 29,
    "start_time": "2022-04-28T16:35:31.003Z"
   },
   {
    "duration": 6,
    "start_time": "2022-04-28T16:35:31.034Z"
   },
   {
    "duration": 1328,
    "start_time": "2022-04-28T16:35:31.042Z"
   },
   {
    "duration": 31,
    "start_time": "2022-04-28T16:35:32.372Z"
   },
   {
    "duration": 804,
    "start_time": "2022-04-28T16:39:45.620Z"
   },
   {
    "duration": 113,
    "start_time": "2022-04-28T16:39:46.427Z"
   },
   {
    "duration": 29,
    "start_time": "2022-04-28T16:39:46.542Z"
   },
   {
    "duration": 30,
    "start_time": "2022-04-28T16:39:46.573Z"
   },
   {
    "duration": 10,
    "start_time": "2022-04-28T16:39:46.606Z"
   },
   {
    "duration": 22,
    "start_time": "2022-04-28T16:39:46.618Z"
   },
   {
    "duration": 44,
    "start_time": "2022-04-28T16:39:46.643Z"
   },
   {
    "duration": 44,
    "start_time": "2022-04-28T16:39:46.689Z"
   },
   {
    "duration": 51,
    "start_time": "2022-04-28T16:39:46.735Z"
   },
   {
    "duration": 18,
    "start_time": "2022-04-28T16:39:46.789Z"
   },
   {
    "duration": 13,
    "start_time": "2022-04-28T16:39:46.810Z"
   },
   {
    "duration": 8,
    "start_time": "2022-04-28T16:39:46.825Z"
   },
   {
    "duration": 62,
    "start_time": "2022-04-28T16:39:46.835Z"
   },
   {
    "duration": 19,
    "start_time": "2022-04-28T16:39:46.901Z"
   },
   {
    "duration": 20,
    "start_time": "2022-04-28T16:39:46.922Z"
   },
   {
    "duration": 87,
    "start_time": "2022-04-28T16:39:46.945Z"
   },
   {
    "duration": 50,
    "start_time": "2022-04-28T16:39:47.034Z"
   },
   {
    "duration": 4,
    "start_time": "2022-04-28T16:39:47.086Z"
   },
   {
    "duration": 1109,
    "start_time": "2022-04-28T16:39:47.092Z"
   },
   {
    "duration": 21,
    "start_time": "2022-04-28T16:39:48.203Z"
   },
   {
    "duration": 5,
    "start_time": "2022-04-28T16:40:16.459Z"
   },
   {
    "duration": 1796,
    "start_time": "2022-04-28T16:40:17.147Z"
   },
   {
    "duration": 22,
    "start_time": "2022-04-28T16:40:18.946Z"
   },
   {
    "duration": 6,
    "start_time": "2022-04-28T16:41:18.480Z"
   },
   {
    "duration": 1504,
    "start_time": "2022-04-28T16:42:38.035Z"
   },
   {
    "duration": 0,
    "start_time": "2022-04-28T16:42:39.541Z"
   },
   {
    "duration": 6,
    "start_time": "2022-04-28T16:42:39.938Z"
   },
   {
    "duration": 1782,
    "start_time": "2022-04-28T16:43:03.429Z"
   },
   {
    "duration": 21,
    "start_time": "2022-04-28T16:43:05.214Z"
   },
   {
    "duration": 7,
    "start_time": "2022-04-28T16:43:05.237Z"
   },
   {
    "duration": 365,
    "start_time": "2022-04-28T16:43:53.045Z"
   },
   {
    "duration": 407,
    "start_time": "2022-04-28T16:44:03.444Z"
   },
   {
    "duration": 10,
    "start_time": "2022-04-28T16:44:31.365Z"
   },
   {
    "duration": 402,
    "start_time": "2022-04-28T16:44:58.820Z"
   },
   {
    "duration": 103,
    "start_time": "2022-04-28T16:47:03.833Z"
   },
   {
    "duration": 15,
    "start_time": "2022-04-28T16:47:22.668Z"
   },
   {
    "duration": 9,
    "start_time": "2022-04-28T16:47:50.470Z"
   },
   {
    "duration": 10,
    "start_time": "2022-04-28T16:48:07.527Z"
   },
   {
    "duration": 20,
    "start_time": "2022-04-28T16:48:13.989Z"
   },
   {
    "duration": 5,
    "start_time": "2022-04-28T16:48:44.165Z"
   },
   {
    "duration": 10,
    "start_time": "2022-04-28T16:48:45.219Z"
   },
   {
    "duration": 98,
    "start_time": "2022-04-28T16:50:00.723Z"
   },
   {
    "duration": 1686,
    "start_time": "2022-04-28T16:50:28.052Z"
   },
   {
    "duration": 0,
    "start_time": "2022-04-28T16:50:29.740Z"
   },
   {
    "duration": 11434,
    "start_time": "2022-04-28T16:50:43.241Z"
   },
   {
    "duration": 22,
    "start_time": "2022-04-28T16:50:54.678Z"
   },
   {
    "duration": 6,
    "start_time": "2022-04-28T16:50:54.702Z"
   },
   {
    "duration": 852,
    "start_time": "2022-04-28T16:51:48.163Z"
   },
   {
    "duration": 115,
    "start_time": "2022-04-28T16:51:49.018Z"
   },
   {
    "duration": 29,
    "start_time": "2022-04-28T16:51:49.135Z"
   },
   {
    "duration": 34,
    "start_time": "2022-04-28T16:51:49.166Z"
   },
   {
    "duration": 9,
    "start_time": "2022-04-28T16:51:49.204Z"
   },
   {
    "duration": 14,
    "start_time": "2022-04-28T16:51:49.215Z"
   },
   {
    "duration": 53,
    "start_time": "2022-04-28T16:51:49.232Z"
   },
   {
    "duration": 44,
    "start_time": "2022-04-28T16:51:49.287Z"
   },
   {
    "duration": 53,
    "start_time": "2022-04-28T16:51:49.333Z"
   },
   {
    "duration": 19,
    "start_time": "2022-04-28T16:51:49.388Z"
   },
   {
    "duration": 18,
    "start_time": "2022-04-28T16:51:49.410Z"
   },
   {
    "duration": 9,
    "start_time": "2022-04-28T16:51:49.431Z"
   },
   {
    "duration": 60,
    "start_time": "2022-04-28T16:51:49.443Z"
   },
   {
    "duration": 22,
    "start_time": "2022-04-28T16:51:49.507Z"
   },
   {
    "duration": 52,
    "start_time": "2022-04-28T16:51:49.531Z"
   },
   {
    "duration": 56,
    "start_time": "2022-04-28T16:51:49.585Z"
   },
   {
    "duration": 59,
    "start_time": "2022-04-28T16:51:49.643Z"
   },
   {
    "duration": 5,
    "start_time": "2022-04-28T16:51:49.704Z"
   },
   {
    "duration": 8847,
    "start_time": "2022-04-28T16:51:49.711Z"
   },
   {
    "duration": 31,
    "start_time": "2022-04-28T16:51:58.560Z"
   },
   {
    "duration": 7,
    "start_time": "2022-04-28T16:51:58.594Z"
   },
   {
    "duration": 6,
    "start_time": "2022-04-28T16:54:04.471Z"
   },
   {
    "duration": 9831,
    "start_time": "2022-04-28T16:54:05.143Z"
   },
   {
    "duration": 23,
    "start_time": "2022-04-28T16:54:14.977Z"
   },
   {
    "duration": 12,
    "start_time": "2022-04-28T16:54:15.002Z"
   },
   {
    "duration": 855,
    "start_time": "2022-04-28T16:54:30.575Z"
   },
   {
    "duration": 121,
    "start_time": "2022-04-28T16:54:31.433Z"
   },
   {
    "duration": 44,
    "start_time": "2022-04-28T16:54:31.557Z"
   },
   {
    "duration": 33,
    "start_time": "2022-04-28T16:54:31.604Z"
   },
   {
    "duration": 10,
    "start_time": "2022-04-28T16:54:31.641Z"
   },
   {
    "duration": 38,
    "start_time": "2022-04-28T16:54:31.653Z"
   },
   {
    "duration": 27,
    "start_time": "2022-04-28T16:54:31.693Z"
   },
   {
    "duration": 61,
    "start_time": "2022-04-28T16:54:31.722Z"
   },
   {
    "duration": 22,
    "start_time": "2022-04-28T16:54:31.785Z"
   },
   {
    "duration": 18,
    "start_time": "2022-04-28T16:54:31.809Z"
   },
   {
    "duration": 13,
    "start_time": "2022-04-28T16:54:31.829Z"
   },
   {
    "duration": 41,
    "start_time": "2022-04-28T16:54:31.844Z"
   },
   {
    "duration": 52,
    "start_time": "2022-04-28T16:54:31.887Z"
   },
   {
    "duration": 24,
    "start_time": "2022-04-28T16:54:31.945Z"
   },
   {
    "duration": 24,
    "start_time": "2022-04-28T16:54:31.982Z"
   },
   {
    "duration": 85,
    "start_time": "2022-04-28T16:54:32.008Z"
   },
   {
    "duration": 32,
    "start_time": "2022-04-28T16:54:32.095Z"
   },
   {
    "duration": 5,
    "start_time": "2022-04-28T16:54:32.130Z"
   },
   {
    "duration": 5168,
    "start_time": "2022-04-28T16:54:32.137Z"
   },
   {
    "duration": 20,
    "start_time": "2022-04-28T16:54:37.308Z"
   },
   {
    "duration": 9,
    "start_time": "2022-04-28T16:54:37.331Z"
   },
   {
    "duration": 859,
    "start_time": "2022-04-28T16:57:28.405Z"
   },
   {
    "duration": 119,
    "start_time": "2022-04-28T16:57:29.267Z"
   },
   {
    "duration": 28,
    "start_time": "2022-04-28T16:57:29.388Z"
   },
   {
    "duration": 23,
    "start_time": "2022-04-28T16:57:29.419Z"
   },
   {
    "duration": 44,
    "start_time": "2022-04-28T16:57:29.444Z"
   },
   {
    "duration": 17,
    "start_time": "2022-04-28T16:57:29.490Z"
   },
   {
    "duration": 12,
    "start_time": "2022-04-28T16:57:29.510Z"
   },
   {
    "duration": 83,
    "start_time": "2022-04-28T16:57:29.525Z"
   },
   {
    "duration": 19,
    "start_time": "2022-04-28T16:57:29.611Z"
   },
   {
    "duration": 18,
    "start_time": "2022-04-28T16:57:29.634Z"
   },
   {
    "duration": 14,
    "start_time": "2022-04-28T16:57:29.681Z"
   },
   {
    "duration": 8,
    "start_time": "2022-04-28T16:57:29.697Z"
   },
   {
    "duration": 23,
    "start_time": "2022-04-28T16:57:29.707Z"
   },
   {
    "duration": 53,
    "start_time": "2022-04-28T16:57:29.733Z"
   },
   {
    "duration": 23,
    "start_time": "2022-04-28T16:57:29.788Z"
   },
   {
    "duration": 82,
    "start_time": "2022-04-28T16:57:29.813Z"
   },
   {
    "duration": 32,
    "start_time": "2022-04-28T16:57:29.897Z"
   },
   {
    "duration": 5,
    "start_time": "2022-04-28T16:57:29.930Z"
   },
   {
    "duration": 9163,
    "start_time": "2022-04-28T16:57:29.937Z"
   },
   {
    "duration": 22,
    "start_time": "2022-04-28T16:57:39.102Z"
   },
   {
    "duration": 6,
    "start_time": "2022-04-28T16:57:39.126Z"
   },
   {
    "duration": 838,
    "start_time": "2022-04-28T16:57:50.890Z"
   },
   {
    "duration": 111,
    "start_time": "2022-04-28T16:57:51.731Z"
   },
   {
    "duration": 36,
    "start_time": "2022-04-28T16:57:51.845Z"
   },
   {
    "duration": 21,
    "start_time": "2022-04-28T16:57:51.885Z"
   },
   {
    "duration": 10,
    "start_time": "2022-04-28T16:57:51.908Z"
   },
   {
    "duration": 14,
    "start_time": "2022-04-28T16:57:51.921Z"
   },
   {
    "duration": 52,
    "start_time": "2022-04-28T16:57:51.937Z"
   },
   {
    "duration": 45,
    "start_time": "2022-04-28T16:57:51.991Z"
   },
   {
    "duration": 48,
    "start_time": "2022-04-28T16:57:52.038Z"
   },
   {
    "duration": 18,
    "start_time": "2022-04-28T16:57:52.090Z"
   },
   {
    "duration": 13,
    "start_time": "2022-04-28T16:57:52.110Z"
   },
   {
    "duration": 8,
    "start_time": "2022-04-28T16:57:52.126Z"
   },
   {
    "duration": 63,
    "start_time": "2022-04-28T16:57:52.136Z"
   },
   {
    "duration": 23,
    "start_time": "2022-04-28T16:57:52.201Z"
   },
   {
    "duration": 24,
    "start_time": "2022-04-28T16:57:52.226Z"
   },
   {
    "duration": 83,
    "start_time": "2022-04-28T16:57:52.252Z"
   },
   {
    "duration": 56,
    "start_time": "2022-04-28T16:57:52.337Z"
   },
   {
    "duration": 5,
    "start_time": "2022-04-28T16:57:52.396Z"
   },
   {
    "duration": 5228,
    "start_time": "2022-04-28T16:57:52.403Z"
   },
   {
    "duration": 20,
    "start_time": "2022-04-28T16:57:57.633Z"
   },
   {
    "duration": 28,
    "start_time": "2022-04-28T16:57:57.656Z"
   },
   {
    "duration": 6,
    "start_time": "2022-04-28T17:01:30.055Z"
   },
   {
    "duration": 6,
    "start_time": "2022-04-28T17:01:51.480Z"
   },
   {
    "duration": 823,
    "start_time": "2022-04-28T17:01:57.288Z"
   },
   {
    "duration": 107,
    "start_time": "2022-04-28T17:01:58.114Z"
   },
   {
    "duration": 27,
    "start_time": "2022-04-28T17:01:58.224Z"
   },
   {
    "duration": 37,
    "start_time": "2022-04-28T17:01:58.253Z"
   },
   {
    "duration": 10,
    "start_time": "2022-04-28T17:01:58.293Z"
   },
   {
    "duration": 18,
    "start_time": "2022-04-28T17:01:58.305Z"
   },
   {
    "duration": 12,
    "start_time": "2022-04-28T17:01:58.325Z"
   },
   {
    "duration": 79,
    "start_time": "2022-04-28T17:01:58.340Z"
   },
   {
    "duration": 23,
    "start_time": "2022-04-28T17:01:58.421Z"
   },
   {
    "duration": 50,
    "start_time": "2022-04-28T17:01:58.446Z"
   },
   {
    "duration": 17,
    "start_time": "2022-04-28T17:01:58.498Z"
   },
   {
    "duration": 9,
    "start_time": "2022-04-28T17:01:58.517Z"
   },
   {
    "duration": 21,
    "start_time": "2022-04-28T17:01:58.528Z"
   },
   {
    "duration": 23,
    "start_time": "2022-04-28T17:01:58.581Z"
   },
   {
    "duration": 21,
    "start_time": "2022-04-28T17:01:58.606Z"
   },
   {
    "duration": 89,
    "start_time": "2022-04-28T17:01:58.629Z"
   },
   {
    "duration": 6,
    "start_time": "2022-04-28T17:01:58.720Z"
   },
   {
    "duration": 57,
    "start_time": "2022-04-28T17:01:58.729Z"
   },
   {
    "duration": 4,
    "start_time": "2022-04-28T17:01:58.789Z"
   },
   {
    "duration": 5080,
    "start_time": "2022-04-28T17:01:58.796Z"
   },
   {
    "duration": 22,
    "start_time": "2022-04-28T17:02:03.882Z"
   },
   {
    "duration": 10,
    "start_time": "2022-04-28T17:02:03.906Z"
   },
   {
    "duration": 24,
    "start_time": "2022-04-28T17:03:12.493Z"
   },
   {
    "duration": 29,
    "start_time": "2022-04-28T17:04:35.181Z"
   },
   {
    "duration": 838,
    "start_time": "2022-04-28T17:04:41.586Z"
   },
   {
    "duration": 117,
    "start_time": "2022-04-28T17:04:42.427Z"
   },
   {
    "duration": 42,
    "start_time": "2022-04-28T17:04:42.547Z"
   },
   {
    "duration": 22,
    "start_time": "2022-04-28T17:04:42.592Z"
   },
   {
    "duration": 10,
    "start_time": "2022-04-28T17:04:42.617Z"
   },
   {
    "duration": 59,
    "start_time": "2022-04-28T17:04:42.630Z"
   },
   {
    "duration": 13,
    "start_time": "2022-04-28T17:04:42.692Z"
   },
   {
    "duration": 44,
    "start_time": "2022-04-28T17:04:42.708Z"
   },
   {
    "duration": 21,
    "start_time": "2022-04-28T17:04:42.782Z"
   },
   {
    "duration": 17,
    "start_time": "2022-04-28T17:04:42.805Z"
   },
   {
    "duration": 13,
    "start_time": "2022-04-28T17:04:42.824Z"
   },
   {
    "duration": 43,
    "start_time": "2022-04-28T17:04:42.839Z"
   },
   {
    "duration": 22,
    "start_time": "2022-04-28T17:04:42.884Z"
   },
   {
    "duration": 22,
    "start_time": "2022-04-28T17:04:42.909Z"
   },
   {
    "duration": 57,
    "start_time": "2022-04-28T17:04:42.933Z"
   },
   {
    "duration": 56,
    "start_time": "2022-04-28T17:04:42.992Z"
   },
   {
    "duration": 53,
    "start_time": "2022-04-28T17:04:43.049Z"
   },
   {
    "duration": 4,
    "start_time": "2022-04-28T17:04:43.104Z"
   },
   {
    "duration": 5238,
    "start_time": "2022-04-28T17:04:43.110Z"
   },
   {
    "duration": 35,
    "start_time": "2022-04-28T17:04:48.350Z"
   },
   {
    "duration": 32,
    "start_time": "2022-04-28T17:04:48.388Z"
   },
   {
    "duration": 179,
    "start_time": "2022-04-28T17:23:00.850Z"
   },
   {
    "duration": 1754,
    "start_time": "2022-04-28T17:26:02.427Z"
   },
   {
    "duration": 1057,
    "start_time": "2022-04-28T17:27:43.777Z"
   },
   {
    "duration": 52,
    "start_time": "2022-04-28T17:29:45.188Z"
   },
   {
    "duration": 79,
    "start_time": "2022-04-28T17:29:49.748Z"
   },
   {
    "duration": 66,
    "start_time": "2022-04-28T17:29:56.702Z"
   },
   {
    "duration": 70,
    "start_time": "2022-04-28T17:30:02.511Z"
   },
   {
    "duration": 67,
    "start_time": "2022-04-28T17:30:19.373Z"
   },
   {
    "duration": 82,
    "start_time": "2022-04-28T17:30:40.284Z"
   },
   {
    "duration": 86,
    "start_time": "2022-04-28T17:30:49.055Z"
   },
   {
    "duration": 116,
    "start_time": "2022-04-28T17:30:58.559Z"
   },
   {
    "duration": 884,
    "start_time": "2022-04-28T17:31:12.138Z"
   },
   {
    "duration": 129,
    "start_time": "2022-04-28T17:31:13.024Z"
   },
   {
    "duration": 138,
    "start_time": "2022-04-28T17:31:13.155Z"
   },
   {
    "duration": 20,
    "start_time": "2022-04-28T17:31:13.295Z"
   },
   {
    "duration": 9,
    "start_time": "2022-04-28T17:31:13.319Z"
   },
   {
    "duration": 16,
    "start_time": "2022-04-28T17:31:13.330Z"
   },
   {
    "duration": 12,
    "start_time": "2022-04-28T17:31:13.382Z"
   },
   {
    "duration": 51,
    "start_time": "2022-04-28T17:31:13.396Z"
   },
   {
    "duration": 41,
    "start_time": "2022-04-28T17:31:13.449Z"
   },
   {
    "duration": 18,
    "start_time": "2022-04-28T17:31:13.493Z"
   },
   {
    "duration": 13,
    "start_time": "2022-04-28T17:31:13.513Z"
   },
   {
    "duration": 7,
    "start_time": "2022-04-28T17:31:13.529Z"
   },
   {
    "duration": 62,
    "start_time": "2022-04-28T17:31:13.538Z"
   },
   {
    "duration": 22,
    "start_time": "2022-04-28T17:31:13.604Z"
   },
   {
    "duration": 58,
    "start_time": "2022-04-28T17:31:13.629Z"
   },
   {
    "duration": 58,
    "start_time": "2022-04-28T17:31:13.689Z"
   },
   {
    "duration": 49,
    "start_time": "2022-04-28T17:31:13.750Z"
   },
   {
    "duration": 4,
    "start_time": "2022-04-28T17:31:13.802Z"
   },
   {
    "duration": 5375,
    "start_time": "2022-04-28T17:31:13.809Z"
   },
   {
    "duration": 21,
    "start_time": "2022-04-28T17:31:19.186Z"
   },
   {
    "duration": 29,
    "start_time": "2022-04-28T17:31:19.209Z"
   },
   {
    "duration": 120,
    "start_time": "2022-04-28T17:31:19.241Z"
   },
   {
    "duration": 49,
    "start_time": "2022-04-29T07:41:27.176Z"
   },
   {
    "duration": 827,
    "start_time": "2022-04-29T07:41:33.464Z"
   },
   {
    "duration": 127,
    "start_time": "2022-04-29T07:41:34.294Z"
   },
   {
    "duration": 21,
    "start_time": "2022-04-29T07:41:34.422Z"
   },
   {
    "duration": 17,
    "start_time": "2022-04-29T07:41:34.445Z"
   },
   {
    "duration": 7,
    "start_time": "2022-04-29T07:41:34.464Z"
   },
   {
    "duration": 12,
    "start_time": "2022-04-29T07:41:34.473Z"
   },
   {
    "duration": 8,
    "start_time": "2022-04-29T07:41:34.487Z"
   },
   {
    "duration": 33,
    "start_time": "2022-04-29T07:41:34.531Z"
   },
   {
    "duration": 16,
    "start_time": "2022-04-29T07:41:34.566Z"
   },
   {
    "duration": 13,
    "start_time": "2022-04-29T07:41:34.584Z"
   },
   {
    "duration": 27,
    "start_time": "2022-04-29T07:41:34.599Z"
   },
   {
    "duration": 8,
    "start_time": "2022-04-29T07:41:34.628Z"
   },
   {
    "duration": 19,
    "start_time": "2022-04-29T07:41:34.639Z"
   },
   {
    "duration": 14,
    "start_time": "2022-04-29T07:41:34.662Z"
   },
   {
    "duration": 14,
    "start_time": "2022-04-29T07:41:34.678Z"
   },
   {
    "duration": 41,
    "start_time": "2022-04-29T07:41:34.722Z"
   },
   {
    "duration": 18,
    "start_time": "2022-04-29T07:41:34.765Z"
   },
   {
    "duration": 4,
    "start_time": "2022-04-29T07:41:34.785Z"
   },
   {
    "duration": 2995,
    "start_time": "2022-04-29T07:41:34.791Z"
   },
   {
    "duration": 15,
    "start_time": "2022-04-29T07:41:37.788Z"
   },
   {
    "duration": 38,
    "start_time": "2022-04-29T07:41:37.804Z"
   },
   {
    "duration": 63,
    "start_time": "2022-04-29T07:41:37.844Z"
   },
   {
    "duration": 74,
    "start_time": "2022-04-29T07:45:11.834Z"
   },
   {
    "duration": 7,
    "start_time": "2022-04-29T07:45:17.272Z"
   },
   {
    "duration": 8,
    "start_time": "2022-04-29T07:45:29.203Z"
   },
   {
    "duration": 4,
    "start_time": "2022-04-29T07:46:05.659Z"
   },
   {
    "duration": 3445,
    "start_time": "2022-04-29T07:46:06.218Z"
   },
   {
    "duration": 18,
    "start_time": "2022-04-29T07:46:09.665Z"
   },
   {
    "duration": 763,
    "start_time": "2022-04-29T07:46:19.918Z"
   },
   {
    "duration": 121,
    "start_time": "2022-04-29T07:46:20.683Z"
   },
   {
    "duration": 34,
    "start_time": "2022-04-29T07:46:20.806Z"
   },
   {
    "duration": 19,
    "start_time": "2022-04-29T07:46:20.843Z"
   },
   {
    "duration": 12,
    "start_time": "2022-04-29T07:46:20.864Z"
   },
   {
    "duration": 32,
    "start_time": "2022-04-29T07:46:20.878Z"
   },
   {
    "duration": 24,
    "start_time": "2022-04-29T07:46:20.912Z"
   },
   {
    "duration": 44,
    "start_time": "2022-04-29T07:46:20.938Z"
   },
   {
    "duration": 16,
    "start_time": "2022-04-29T07:46:20.983Z"
   },
   {
    "duration": 14,
    "start_time": "2022-04-29T07:46:21.003Z"
   },
   {
    "duration": 11,
    "start_time": "2022-04-29T07:46:21.023Z"
   },
   {
    "duration": 20,
    "start_time": "2022-04-29T07:46:21.042Z"
   },
   {
    "duration": 24,
    "start_time": "2022-04-29T07:46:21.064Z"
   },
   {
    "duration": 23,
    "start_time": "2022-04-29T07:46:21.090Z"
   },
   {
    "duration": 24,
    "start_time": "2022-04-29T07:46:21.114Z"
   },
   {
    "duration": 55,
    "start_time": "2022-04-29T07:46:21.140Z"
   },
   {
    "duration": 20,
    "start_time": "2022-04-29T07:46:21.197Z"
   },
   {
    "duration": 8,
    "start_time": "2022-04-29T07:46:21.228Z"
   },
   {
    "duration": 7347,
    "start_time": "2022-04-29T07:46:21.238Z"
   },
   {
    "duration": 22,
    "start_time": "2022-04-29T07:46:28.587Z"
   },
   {
    "duration": 29,
    "start_time": "2022-04-29T07:46:28.626Z"
   },
   {
    "duration": 88,
    "start_time": "2022-04-29T07:46:28.657Z"
   },
   {
    "duration": 730,
    "start_time": "2022-04-29T07:46:49.409Z"
   },
   {
    "duration": 115,
    "start_time": "2022-04-29T07:46:50.142Z"
   },
   {
    "duration": 19,
    "start_time": "2022-04-29T07:46:50.259Z"
   },
   {
    "duration": 23,
    "start_time": "2022-04-29T07:46:50.281Z"
   },
   {
    "duration": 25,
    "start_time": "2022-04-29T07:46:50.307Z"
   },
   {
    "duration": 15,
    "start_time": "2022-04-29T07:46:50.335Z"
   },
   {
    "duration": 8,
    "start_time": "2022-04-29T07:46:50.352Z"
   },
   {
    "duration": 33,
    "start_time": "2022-04-29T07:46:50.361Z"
   },
   {
    "duration": 36,
    "start_time": "2022-04-29T07:46:50.396Z"
   },
   {
    "duration": 20,
    "start_time": "2022-04-29T07:46:50.435Z"
   },
   {
    "duration": 10,
    "start_time": "2022-04-29T07:46:50.457Z"
   },
   {
    "duration": 5,
    "start_time": "2022-04-29T07:46:50.469Z"
   },
   {
    "duration": 14,
    "start_time": "2022-04-29T07:46:50.476Z"
   },
   {
    "duration": 40,
    "start_time": "2022-04-29T07:46:50.492Z"
   },
   {
    "duration": 16,
    "start_time": "2022-04-29T07:46:50.535Z"
   },
   {
    "duration": 77,
    "start_time": "2022-04-29T07:46:50.553Z"
   },
   {
    "duration": 23,
    "start_time": "2022-04-29T07:46:50.632Z"
   },
   {
    "duration": 3,
    "start_time": "2022-04-29T07:46:50.657Z"
   },
   {
    "duration": 2926,
    "start_time": "2022-04-29T07:46:50.662Z"
   },
   {
    "duration": 14,
    "start_time": "2022-04-29T07:46:53.590Z"
   },
   {
    "duration": 42,
    "start_time": "2022-04-29T07:46:53.606Z"
   },
   {
    "duration": 74,
    "start_time": "2022-04-29T07:46:53.649Z"
   },
   {
    "duration": 5281,
    "start_time": "2022-04-29T07:50:38.675Z"
   },
   {
    "duration": 13,
    "start_time": "2022-04-29T07:51:19.929Z"
   },
   {
    "duration": 26,
    "start_time": "2022-04-29T07:51:28.036Z"
   },
   {
    "duration": 7,
    "start_time": "2022-04-29T07:57:58.195Z"
   },
   {
    "duration": 6,
    "start_time": "2022-04-29T07:58:05.470Z"
   },
   {
    "duration": 6,
    "start_time": "2022-04-29T07:58:17.936Z"
   },
   {
    "duration": 12,
    "start_time": "2022-04-29T07:58:38.743Z"
   },
   {
    "duration": 6,
    "start_time": "2022-04-29T07:58:58.896Z"
   },
   {
    "duration": 30,
    "start_time": "2022-04-29T08:00:28.976Z"
   },
   {
    "duration": 17,
    "start_time": "2022-04-29T08:02:19.801Z"
   },
   {
    "duration": 34,
    "start_time": "2022-04-29T08:06:01.286Z"
   },
   {
    "duration": 23,
    "start_time": "2022-04-29T08:22:04.308Z"
   },
   {
    "duration": 24,
    "start_time": "2022-04-29T08:46:44.781Z"
   },
   {
    "duration": 23,
    "start_time": "2022-04-29T08:55:21.293Z"
   },
   {
    "duration": 17,
    "start_time": "2022-04-29T09:23:49.344Z"
   },
   {
    "duration": 221,
    "start_time": "2022-04-29T09:23:56.417Z"
   },
   {
    "duration": 11,
    "start_time": "2022-04-29T09:24:01.082Z"
   },
   {
    "duration": 14,
    "start_time": "2022-04-29T09:24:12.482Z"
   },
   {
    "duration": 15,
    "start_time": "2022-04-29T09:27:59.943Z"
   },
   {
    "duration": 16,
    "start_time": "2022-04-29T09:28:11.619Z"
   },
   {
    "duration": 9,
    "start_time": "2022-04-29T09:28:29.088Z"
   },
   {
    "duration": 9,
    "start_time": "2022-04-29T09:28:37.795Z"
   },
   {
    "duration": 13,
    "start_time": "2022-04-29T09:30:00.240Z"
   },
   {
    "duration": 11,
    "start_time": "2022-04-29T09:30:03.363Z"
   },
   {
    "duration": 19,
    "start_time": "2022-04-29T09:30:19.134Z"
   },
   {
    "duration": 14,
    "start_time": "2022-04-29T09:30:26.253Z"
   },
   {
    "duration": 31,
    "start_time": "2022-04-29T09:30:37.045Z"
   },
   {
    "duration": 16,
    "start_time": "2022-04-29T09:31:33.894Z"
   },
   {
    "duration": 13,
    "start_time": "2022-04-29T09:31:44.996Z"
   },
   {
    "duration": 16,
    "start_time": "2022-04-29T09:31:49.483Z"
   },
   {
    "duration": 823,
    "start_time": "2022-04-29T09:31:54.531Z"
   },
   {
    "duration": 160,
    "start_time": "2022-04-29T09:31:55.356Z"
   },
   {
    "duration": 33,
    "start_time": "2022-04-29T09:31:55.518Z"
   },
   {
    "duration": 28,
    "start_time": "2022-04-29T09:31:55.558Z"
   },
   {
    "duration": 8,
    "start_time": "2022-04-29T09:31:55.589Z"
   },
   {
    "duration": 10,
    "start_time": "2022-04-29T09:31:55.599Z"
   },
   {
    "duration": 19,
    "start_time": "2022-04-29T09:31:55.611Z"
   },
   {
    "duration": 54,
    "start_time": "2022-04-29T09:31:55.633Z"
   },
   {
    "duration": 13,
    "start_time": "2022-04-29T09:31:55.689Z"
   },
   {
    "duration": 14,
    "start_time": "2022-04-29T09:31:55.704Z"
   },
   {
    "duration": 23,
    "start_time": "2022-04-29T09:31:55.719Z"
   },
   {
    "duration": 20,
    "start_time": "2022-04-29T09:31:55.747Z"
   },
   {
    "duration": 22,
    "start_time": "2022-04-29T09:31:55.769Z"
   },
   {
    "duration": 12,
    "start_time": "2022-04-29T09:31:55.794Z"
   },
   {
    "duration": 14,
    "start_time": "2022-04-29T09:31:55.807Z"
   },
   {
    "duration": 71,
    "start_time": "2022-04-29T09:31:55.822Z"
   },
   {
    "duration": 15,
    "start_time": "2022-04-29T09:31:55.895Z"
   },
   {
    "duration": 3,
    "start_time": "2022-04-29T09:31:55.911Z"
   },
   {
    "duration": 3679,
    "start_time": "2022-04-29T09:31:55.916Z"
   },
   {
    "duration": 15,
    "start_time": "2022-04-29T09:31:59.596Z"
   },
   {
    "duration": 68,
    "start_time": "2022-04-29T09:31:59.612Z"
   },
   {
    "duration": 90,
    "start_time": "2022-04-29T09:31:59.682Z"
   },
   {
    "duration": 28,
    "start_time": "2022-04-29T09:31:59.780Z"
   },
   {
    "duration": 56,
    "start_time": "2022-04-29T09:31:59.810Z"
   },
   {
    "duration": 15,
    "start_time": "2022-04-29T09:31:59.876Z"
   },
   {
    "duration": 19,
    "start_time": "2022-04-29T09:31:59.893Z"
   },
   {
    "duration": 60,
    "start_time": "2022-04-29T09:35:16.646Z"
   },
   {
    "duration": 35,
    "start_time": "2022-04-29T09:35:24.080Z"
   },
   {
    "duration": 29,
    "start_time": "2022-04-29T09:36:12.776Z"
   },
   {
    "duration": 9,
    "start_time": "2022-04-29T09:38:08.714Z"
   },
   {
    "duration": 14,
    "start_time": "2022-04-29T09:40:12.511Z"
   },
   {
    "duration": 12,
    "start_time": "2022-04-29T09:40:24.806Z"
   },
   {
    "duration": 9,
    "start_time": "2022-04-29T09:43:16.600Z"
   },
   {
    "duration": 9,
    "start_time": "2022-04-29T09:43:30.702Z"
   },
   {
    "duration": 3801,
    "start_time": "2022-04-29T09:46:56.282Z"
   },
   {
    "duration": 45,
    "start_time": "2022-04-29T09:47:05.424Z"
   },
   {
    "duration": 795,
    "start_time": "2022-04-29T09:48:19.974Z"
   },
   {
    "duration": 144,
    "start_time": "2022-04-29T09:48:20.771Z"
   },
   {
    "duration": 33,
    "start_time": "2022-04-29T09:48:20.916Z"
   },
   {
    "duration": 25,
    "start_time": "2022-04-29T09:48:20.951Z"
   },
   {
    "duration": 7,
    "start_time": "2022-04-29T09:48:20.978Z"
   },
   {
    "duration": 10,
    "start_time": "2022-04-29T09:48:20.987Z"
   },
   {
    "duration": 34,
    "start_time": "2022-04-29T09:48:20.999Z"
   },
   {
    "duration": 42,
    "start_time": "2022-04-29T09:48:21.038Z"
   },
   {
    "duration": 14,
    "start_time": "2022-04-29T09:48:21.082Z"
   },
   {
    "duration": 34,
    "start_time": "2022-04-29T09:48:21.099Z"
   },
   {
    "duration": 18,
    "start_time": "2022-04-29T09:48:21.138Z"
   },
   {
    "duration": 10,
    "start_time": "2022-04-29T09:48:21.157Z"
   },
   {
    "duration": 22,
    "start_time": "2022-04-29T09:48:21.169Z"
   },
   {
    "duration": 13,
    "start_time": "2022-04-29T09:48:21.193Z"
   },
   {
    "duration": 45,
    "start_time": "2022-04-29T09:48:21.209Z"
   },
   {
    "duration": 59,
    "start_time": "2022-04-29T09:48:21.259Z"
   },
   {
    "duration": 30,
    "start_time": "2022-04-29T09:48:21.324Z"
   },
   {
    "duration": 7,
    "start_time": "2022-04-29T09:48:21.356Z"
   },
   {
    "duration": 3361,
    "start_time": "2022-04-29T09:48:21.366Z"
   },
   {
    "duration": 33,
    "start_time": "2022-04-29T09:48:24.735Z"
   },
   {
    "duration": 30,
    "start_time": "2022-04-29T09:48:24.771Z"
   },
   {
    "duration": 90,
    "start_time": "2022-04-29T09:48:24.803Z"
   },
   {
    "duration": 17,
    "start_time": "2022-04-29T09:48:24.895Z"
   },
   {
    "duration": 38,
    "start_time": "2022-04-29T09:48:24.924Z"
   },
   {
    "duration": 15,
    "start_time": "2022-04-29T09:48:24.964Z"
   },
   {
    "duration": 9,
    "start_time": "2022-04-29T09:48:24.981Z"
   },
   {
    "duration": 47,
    "start_time": "2022-04-29T09:48:24.992Z"
   },
   {
    "duration": 22,
    "start_time": "2022-04-29T09:55:07.398Z"
   },
   {
    "duration": 19,
    "start_time": "2022-04-29T09:56:25.602Z"
   },
   {
    "duration": 125,
    "start_time": "2022-04-29T09:58:48.937Z"
   },
   {
    "duration": 21,
    "start_time": "2022-04-29T09:58:51.728Z"
   },
   {
    "duration": 24,
    "start_time": "2022-04-29T09:59:13.758Z"
   },
   {
    "duration": 20,
    "start_time": "2022-04-29T09:59:30.573Z"
   },
   {
    "duration": 6,
    "start_time": "2022-04-29T09:59:50.812Z"
   },
   {
    "duration": 7,
    "start_time": "2022-04-29T10:00:17.584Z"
   },
   {
    "duration": 10,
    "start_time": "2022-04-29T10:00:28.479Z"
   },
   {
    "duration": 5,
    "start_time": "2022-04-29T10:01:05.688Z"
   },
   {
    "duration": 15,
    "start_time": "2022-04-29T10:01:12.927Z"
   },
   {
    "duration": 13,
    "start_time": "2022-04-29T10:01:45.880Z"
   },
   {
    "duration": 16,
    "start_time": "2022-04-29T10:01:55.320Z"
   },
   {
    "duration": 23,
    "start_time": "2022-04-29T10:02:07.956Z"
   },
   {
    "duration": 21,
    "start_time": "2022-04-29T10:02:17.832Z"
   },
   {
    "duration": 6,
    "start_time": "2022-04-29T10:03:57.808Z"
   },
   {
    "duration": 13,
    "start_time": "2022-04-29T10:05:53.586Z"
   },
   {
    "duration": 12,
    "start_time": "2022-04-29T10:08:03.482Z"
   },
   {
    "duration": 16,
    "start_time": "2022-04-29T10:08:08.834Z"
   },
   {
    "duration": 25,
    "start_time": "2022-04-29T10:08:20.320Z"
   },
   {
    "duration": 800,
    "start_time": "2022-04-29T10:11:39.457Z"
   },
   {
    "duration": 122,
    "start_time": "2022-04-29T10:11:40.259Z"
   },
   {
    "duration": 19,
    "start_time": "2022-04-29T10:11:40.383Z"
   },
   {
    "duration": 42,
    "start_time": "2022-04-29T10:11:40.404Z"
   },
   {
    "duration": 10,
    "start_time": "2022-04-29T10:11:40.452Z"
   },
   {
    "duration": 14,
    "start_time": "2022-04-29T10:11:40.464Z"
   },
   {
    "duration": 13,
    "start_time": "2022-04-29T10:11:40.480Z"
   },
   {
    "duration": 53,
    "start_time": "2022-04-29T10:11:40.495Z"
   },
   {
    "duration": 26,
    "start_time": "2022-04-29T10:11:40.550Z"
   },
   {
    "duration": 19,
    "start_time": "2022-04-29T10:11:40.578Z"
   },
   {
    "duration": 25,
    "start_time": "2022-04-29T10:11:40.599Z"
   },
   {
    "duration": 9,
    "start_time": "2022-04-29T10:11:40.627Z"
   },
   {
    "duration": 29,
    "start_time": "2022-04-29T10:11:40.638Z"
   },
   {
    "duration": 36,
    "start_time": "2022-04-29T10:11:40.670Z"
   },
   {
    "duration": 48,
    "start_time": "2022-04-29T10:11:40.708Z"
   },
   {
    "duration": 4,
    "start_time": "2022-04-29T10:11:40.759Z"
   },
   {
    "duration": 3160,
    "start_time": "2022-04-29T10:11:40.765Z"
   },
   {
    "duration": 22,
    "start_time": "2022-04-29T10:11:43.926Z"
   },
   {
    "duration": 24,
    "start_time": "2022-04-29T10:11:43.950Z"
   },
   {
    "duration": 101,
    "start_time": "2022-04-29T10:11:43.976Z"
   },
   {
    "duration": 18,
    "start_time": "2022-04-29T10:11:44.079Z"
   },
   {
    "duration": 43,
    "start_time": "2022-04-29T10:11:44.099Z"
   },
   {
    "duration": 24,
    "start_time": "2022-04-29T10:11:44.144Z"
   },
   {
    "duration": 9,
    "start_time": "2022-04-29T10:11:44.170Z"
   },
   {
    "duration": 24,
    "start_time": "2022-04-29T10:11:44.181Z"
   },
   {
    "duration": 22,
    "start_time": "2022-04-29T10:11:44.235Z"
   },
   {
    "duration": 16,
    "start_time": "2022-04-29T10:11:44.261Z"
   },
   {
    "duration": 22,
    "start_time": "2022-04-29T10:11:44.279Z"
   },
   {
    "duration": 103,
    "start_time": "2022-04-29T10:11:44.303Z"
   },
   {
    "duration": 17,
    "start_time": "2022-04-29T10:20:17.295Z"
   },
   {
    "duration": 13,
    "start_time": "2022-04-29T10:23:56.352Z"
   },
   {
    "duration": 13,
    "start_time": "2022-04-29T10:24:13.962Z"
   },
   {
    "duration": 39,
    "start_time": "2022-04-29T10:24:25.348Z"
   },
   {
    "duration": 7,
    "start_time": "2022-04-29T10:24:34.650Z"
   },
   {
    "duration": 11,
    "start_time": "2022-04-29T10:24:50.200Z"
   },
   {
    "duration": 7,
    "start_time": "2022-04-29T10:26:42.536Z"
   },
   {
    "duration": 6,
    "start_time": "2022-04-29T10:27:08.478Z"
   },
   {
    "duration": 9,
    "start_time": "2022-04-29T10:27:24.849Z"
   },
   {
    "duration": 236,
    "start_time": "2022-04-29T10:33:08.692Z"
   },
   {
    "duration": 6,
    "start_time": "2022-04-29T10:33:27.870Z"
   },
   {
    "duration": 11,
    "start_time": "2022-04-29T10:33:55.518Z"
   },
   {
    "duration": 15,
    "start_time": "2022-04-29T10:34:33.203Z"
   },
   {
    "duration": 23,
    "start_time": "2022-04-29T10:53:17.482Z"
   },
   {
    "duration": 18,
    "start_time": "2022-04-29T10:55:12.510Z"
   },
   {
    "duration": 745,
    "start_time": "2022-04-29T10:57:38.465Z"
   },
   {
    "duration": 186,
    "start_time": "2022-04-29T10:57:39.212Z"
   },
   {
    "duration": 54,
    "start_time": "2022-04-29T10:57:39.407Z"
   },
   {
    "duration": 25,
    "start_time": "2022-04-29T10:57:39.464Z"
   },
   {
    "duration": 13,
    "start_time": "2022-04-29T10:57:39.491Z"
   },
   {
    "duration": 14,
    "start_time": "2022-04-29T10:57:39.506Z"
   },
   {
    "duration": 21,
    "start_time": "2022-04-29T10:57:39.527Z"
   },
   {
    "duration": 30,
    "start_time": "2022-04-29T10:57:39.549Z"
   },
   {
    "duration": 15,
    "start_time": "2022-04-29T10:57:39.581Z"
   },
   {
    "duration": 27,
    "start_time": "2022-04-29T10:57:39.598Z"
   },
   {
    "duration": 19,
    "start_time": "2022-04-29T10:57:39.637Z"
   },
   {
    "duration": 6,
    "start_time": "2022-04-29T10:57:39.657Z"
   },
   {
    "duration": 16,
    "start_time": "2022-04-29T10:57:39.666Z"
   },
   {
    "duration": 45,
    "start_time": "2022-04-29T10:57:39.683Z"
   },
   {
    "duration": 28,
    "start_time": "2022-04-29T10:57:39.730Z"
   },
   {
    "duration": 4,
    "start_time": "2022-04-29T10:57:39.760Z"
   },
   {
    "duration": 3018,
    "start_time": "2022-04-29T10:57:39.766Z"
   },
   {
    "duration": 13,
    "start_time": "2022-04-29T10:57:42.786Z"
   },
   {
    "duration": 45,
    "start_time": "2022-04-29T10:57:42.801Z"
   },
   {
    "duration": 62,
    "start_time": "2022-04-29T10:57:42.847Z"
   },
   {
    "duration": 33,
    "start_time": "2022-04-29T10:57:42.912Z"
   },
   {
    "duration": 30,
    "start_time": "2022-04-29T10:57:42.946Z"
   },
   {
    "duration": 17,
    "start_time": "2022-04-29T10:57:42.978Z"
   },
   {
    "duration": 35,
    "start_time": "2022-04-29T10:57:42.996Z"
   },
   {
    "duration": 28,
    "start_time": "2022-04-29T10:57:43.034Z"
   },
   {
    "duration": 12,
    "start_time": "2022-04-29T10:57:43.064Z"
   },
   {
    "duration": 14,
    "start_time": "2022-04-29T10:57:43.078Z"
   },
   {
    "duration": 37,
    "start_time": "2022-04-29T10:57:43.095Z"
   },
   {
    "duration": 32,
    "start_time": "2022-04-29T10:57:43.134Z"
   },
   {
    "duration": 7,
    "start_time": "2022-04-29T11:08:07.360Z"
   },
   {
    "duration": 20,
    "start_time": "2022-04-29T11:08:48.381Z"
   },
   {
    "duration": 16,
    "start_time": "2022-04-29T11:08:56.445Z"
   },
   {
    "duration": 16,
    "start_time": "2022-04-29T11:09:03.684Z"
   },
   {
    "duration": 17,
    "start_time": "2022-04-29T11:09:08.291Z"
   },
   {
    "duration": 16,
    "start_time": "2022-04-29T11:09:13.640Z"
   },
   {
    "duration": 19,
    "start_time": "2022-04-29T11:09:18.610Z"
   },
   {
    "duration": 683,
    "start_time": "2022-04-29T11:09:32.521Z"
   },
   {
    "duration": 107,
    "start_time": "2022-04-29T11:09:33.206Z"
   },
   {
    "duration": 22,
    "start_time": "2022-04-29T11:09:33.315Z"
   },
   {
    "duration": 18,
    "start_time": "2022-04-29T11:09:33.339Z"
   },
   {
    "duration": 9,
    "start_time": "2022-04-29T11:09:33.359Z"
   },
   {
    "duration": 11,
    "start_time": "2022-04-29T11:09:33.369Z"
   },
   {
    "duration": 10,
    "start_time": "2022-04-29T11:09:33.381Z"
   },
   {
    "duration": 49,
    "start_time": "2022-04-29T11:09:33.392Z"
   },
   {
    "duration": 14,
    "start_time": "2022-04-29T11:09:33.442Z"
   },
   {
    "duration": 12,
    "start_time": "2022-04-29T11:09:33.458Z"
   },
   {
    "duration": 9,
    "start_time": "2022-04-29T11:09:33.471Z"
   },
   {
    "duration": 5,
    "start_time": "2022-04-29T11:09:33.481Z"
   },
   {
    "duration": 37,
    "start_time": "2022-04-29T11:09:33.487Z"
   },
   {
    "duration": 40,
    "start_time": "2022-04-29T11:09:33.527Z"
   },
   {
    "duration": 21,
    "start_time": "2022-04-29T11:09:33.569Z"
   },
   {
    "duration": 4,
    "start_time": "2022-04-29T11:09:33.592Z"
   },
   {
    "duration": 3000,
    "start_time": "2022-04-29T11:09:33.622Z"
   },
   {
    "duration": 17,
    "start_time": "2022-04-29T11:09:36.624Z"
   },
   {
    "duration": 18,
    "start_time": "2022-04-29T11:09:36.642Z"
   },
   {
    "duration": 80,
    "start_time": "2022-04-29T11:09:36.661Z"
   },
   {
    "duration": 18,
    "start_time": "2022-04-29T11:09:36.743Z"
   },
   {
    "duration": 21,
    "start_time": "2022-04-29T11:09:36.762Z"
   },
   {
    "duration": 40,
    "start_time": "2022-04-29T11:09:36.785Z"
   },
   {
    "duration": 6,
    "start_time": "2022-04-29T11:09:36.830Z"
   },
   {
    "duration": 12,
    "start_time": "2022-04-29T11:09:36.838Z"
   },
   {
    "duration": 22,
    "start_time": "2022-04-29T11:09:36.851Z"
   },
   {
    "duration": 17,
    "start_time": "2022-04-29T11:09:36.875Z"
   },
   {
    "duration": 36,
    "start_time": "2022-04-29T11:09:36.894Z"
   },
   {
    "duration": 15,
    "start_time": "2022-04-29T11:09:36.932Z"
   },
   {
    "duration": 16,
    "start_time": "2022-04-29T11:09:36.949Z"
   },
   {
    "duration": 96,
    "start_time": "2022-04-29T11:09:36.967Z"
   },
   {
    "duration": 7,
    "start_time": "2022-04-29T12:09:58.481Z"
   },
   {
    "duration": 6,
    "start_time": "2022-04-29T12:10:10.875Z"
   },
   {
    "duration": 6,
    "start_time": "2022-04-29T12:10:21.912Z"
   },
   {
    "duration": 5,
    "start_time": "2022-04-29T12:10:30.320Z"
   },
   {
    "duration": 5,
    "start_time": "2022-04-29T12:10:34.058Z"
   },
   {
    "duration": 6,
    "start_time": "2022-04-29T12:10:36.171Z"
   },
   {
    "duration": 5,
    "start_time": "2022-04-29T12:10:38.560Z"
   },
   {
    "duration": 7,
    "start_time": "2022-04-29T12:10:41.187Z"
   },
   {
    "duration": 10,
    "start_time": "2022-04-29T12:10:43.389Z"
   },
   {
    "duration": 8,
    "start_time": "2022-04-29T12:10:45.711Z"
   },
   {
    "duration": 6,
    "start_time": "2022-04-29T12:10:48.476Z"
   },
   {
    "duration": 6,
    "start_time": "2022-04-29T12:10:50.794Z"
   },
   {
    "duration": 7,
    "start_time": "2022-04-29T12:10:53.377Z"
   },
   {
    "duration": 5,
    "start_time": "2022-04-29T12:10:55.516Z"
   },
   {
    "duration": 6,
    "start_time": "2022-04-29T12:10:57.929Z"
   },
   {
    "duration": 6,
    "start_time": "2022-04-29T12:11:00.123Z"
   },
   {
    "duration": 5,
    "start_time": "2022-04-29T12:11:02.794Z"
   },
   {
    "duration": 8,
    "start_time": "2022-04-29T12:11:56.539Z"
   },
   {
    "duration": 13,
    "start_time": "2022-04-29T12:13:11.643Z"
   },
   {
    "duration": 10,
    "start_time": "2022-04-29T12:13:27.307Z"
   },
   {
    "duration": 11,
    "start_time": "2022-04-29T12:13:39.422Z"
   },
   {
    "duration": 12,
    "start_time": "2022-04-29T12:13:52.934Z"
   },
   {
    "duration": 57,
    "start_time": "2022-04-29T12:14:02.897Z"
   },
   {
    "duration": 16,
    "start_time": "2022-04-29T12:14:43.732Z"
   },
   {
    "duration": 11,
    "start_time": "2022-04-29T12:14:49.253Z"
   },
   {
    "duration": 13,
    "start_time": "2022-04-29T12:15:47.188Z"
   },
   {
    "duration": 43,
    "start_time": "2022-04-29T12:16:29.614Z"
   },
   {
    "duration": 38,
    "start_time": "2022-04-29T12:16:48.495Z"
   },
   {
    "duration": 43,
    "start_time": "2022-04-29T12:17:03.721Z"
   },
   {
    "duration": 117,
    "start_time": "2022-04-29T12:17:59.638Z"
   },
   {
    "duration": 14,
    "start_time": "2022-04-29T12:20:29.422Z"
   },
   {
    "duration": 11,
    "start_time": "2022-04-29T12:21:08.182Z"
   },
   {
    "duration": 14,
    "start_time": "2022-04-29T12:21:23.637Z"
   },
   {
    "duration": 16,
    "start_time": "2022-04-29T12:22:14.805Z"
   },
   {
    "duration": 22,
    "start_time": "2022-04-29T12:22:45.719Z"
   },
   {
    "duration": 22,
    "start_time": "2022-04-29T12:22:53.966Z"
   },
   {
    "duration": 17,
    "start_time": "2022-04-29T12:22:59.589Z"
   },
   {
    "duration": 21,
    "start_time": "2022-04-29T12:23:04.311Z"
   },
   {
    "duration": 5,
    "start_time": "2022-04-29T12:23:14.199Z"
   },
   {
    "duration": 3245,
    "start_time": "2022-04-29T12:23:39.441Z"
   },
   {
    "duration": 16,
    "start_time": "2022-04-29T12:23:57.423Z"
   },
   {
    "duration": 5,
    "start_time": "2022-04-29T12:26:10.878Z"
   },
   {
    "duration": 16,
    "start_time": "2022-04-29T12:26:19.016Z"
   },
   {
    "duration": 209,
    "start_time": "2022-04-29T12:30:28.342Z"
   },
   {
    "duration": 197,
    "start_time": "2022-04-29T12:30:35.092Z"
   },
   {
    "duration": 193,
    "start_time": "2022-04-29T12:30:48.041Z"
   },
   {
    "duration": 191,
    "start_time": "2022-04-29T12:30:53.932Z"
   },
   {
    "duration": 3,
    "start_time": "2022-04-29T12:32:29.370Z"
   },
   {
    "duration": 15,
    "start_time": "2022-04-29T12:32:33.776Z"
   },
   {
    "duration": 7,
    "start_time": "2022-04-29T12:33:07.852Z"
   },
   {
    "duration": 16,
    "start_time": "2022-04-29T12:33:15.216Z"
   },
   {
    "duration": 9,
    "start_time": "2022-04-29T12:48:51.359Z"
   },
   {
    "duration": 9,
    "start_time": "2022-04-29T12:49:52.436Z"
   },
   {
    "duration": 14,
    "start_time": "2022-04-29T12:51:44.639Z"
   },
   {
    "duration": 9,
    "start_time": "2022-04-29T12:55:09.750Z"
   },
   {
    "duration": 149,
    "start_time": "2022-04-29T13:04:07.420Z"
   },
   {
    "duration": 64,
    "start_time": "2022-04-29T13:05:19.203Z"
   },
   {
    "duration": 935,
    "start_time": "2022-04-29T13:05:34.115Z"
   },
   {
    "duration": 142,
    "start_time": "2022-04-29T13:05:35.053Z"
   },
   {
    "duration": 27,
    "start_time": "2022-04-29T13:05:35.197Z"
   },
   {
    "duration": 25,
    "start_time": "2022-04-29T13:05:35.226Z"
   },
   {
    "duration": 10,
    "start_time": "2022-04-29T13:05:35.253Z"
   },
   {
    "duration": 12,
    "start_time": "2022-04-29T13:05:35.265Z"
   },
   {
    "duration": 9,
    "start_time": "2022-04-29T13:05:35.279Z"
   },
   {
    "duration": 69,
    "start_time": "2022-04-29T13:05:35.290Z"
   },
   {
    "duration": 14,
    "start_time": "2022-04-29T13:05:35.361Z"
   },
   {
    "duration": 12,
    "start_time": "2022-04-29T13:05:35.378Z"
   },
   {
    "duration": 11,
    "start_time": "2022-04-29T13:05:35.392Z"
   },
   {
    "duration": 26,
    "start_time": "2022-04-29T13:05:35.405Z"
   },
   {
    "duration": 21,
    "start_time": "2022-04-29T13:05:35.432Z"
   },
   {
    "duration": 36,
    "start_time": "2022-04-29T13:05:35.455Z"
   },
   {
    "duration": 44,
    "start_time": "2022-04-29T13:05:35.493Z"
   },
   {
    "duration": 5,
    "start_time": "2022-04-29T13:05:35.539Z"
   },
   {
    "duration": 3280,
    "start_time": "2022-04-29T13:05:35.546Z"
   },
   {
    "duration": 20,
    "start_time": "2022-04-29T13:05:38.828Z"
   },
   {
    "duration": 17,
    "start_time": "2022-04-29T13:05:38.850Z"
   },
   {
    "duration": 90,
    "start_time": "2022-04-29T13:05:38.869Z"
   },
   {
    "duration": 26,
    "start_time": "2022-04-29T13:05:38.961Z"
   },
   {
    "duration": 20,
    "start_time": "2022-04-29T13:05:38.988Z"
   },
   {
    "duration": 17,
    "start_time": "2022-04-29T13:05:39.027Z"
   },
   {
    "duration": 6,
    "start_time": "2022-04-29T13:05:39.046Z"
   },
   {
    "duration": 14,
    "start_time": "2022-04-29T13:05:39.054Z"
   },
   {
    "duration": 20,
    "start_time": "2022-04-29T13:05:39.070Z"
   },
   {
    "duration": 42,
    "start_time": "2022-04-29T13:05:39.092Z"
   },
   {
    "duration": 23,
    "start_time": "2022-04-29T13:05:39.138Z"
   },
   {
    "duration": 144,
    "start_time": "2022-04-29T13:05:39.163Z"
   },
   {
    "duration": 29,
    "start_time": "2022-04-29T13:05:39.309Z"
   },
   {
    "duration": 15,
    "start_time": "2022-04-29T13:05:39.339Z"
   },
   {
    "duration": 17,
    "start_time": "2022-04-29T13:05:39.355Z"
   },
   {
    "duration": 70,
    "start_time": "2022-04-29T13:06:40.743Z"
   },
   {
    "duration": 55,
    "start_time": "2022-04-29T13:06:48.039Z"
   },
   {
    "duration": 8,
    "start_time": "2022-04-29T13:08:30.593Z"
   },
   {
    "duration": 66,
    "start_time": "2022-04-29T13:08:37.631Z"
   },
   {
    "duration": 56,
    "start_time": "2022-04-29T13:08:52.784Z"
   },
   {
    "duration": 52,
    "start_time": "2022-04-29T13:09:00.569Z"
   },
   {
    "duration": 9,
    "start_time": "2022-04-29T13:10:00.023Z"
   },
   {
    "duration": 1901,
    "start_time": "2022-04-29T13:10:14.599Z"
   },
   {
    "duration": 809,
    "start_time": "2022-04-29T13:10:16.503Z"
   },
   {
    "duration": 29,
    "start_time": "2022-04-29T13:10:17.314Z"
   },
   {
    "duration": 19,
    "start_time": "2022-04-29T13:10:17.346Z"
   },
   {
    "duration": 9,
    "start_time": "2022-04-29T13:10:17.367Z"
   },
   {
    "duration": 14,
    "start_time": "2022-04-29T13:10:17.378Z"
   },
   {
    "duration": 39,
    "start_time": "2022-04-29T13:10:17.394Z"
   },
   {
    "duration": 37,
    "start_time": "2022-04-29T13:10:17.435Z"
   },
   {
    "duration": 15,
    "start_time": "2022-04-29T13:10:17.474Z"
   },
   {
    "duration": 35,
    "start_time": "2022-04-29T13:10:17.492Z"
   },
   {
    "duration": 15,
    "start_time": "2022-04-29T13:10:17.533Z"
   },
   {
    "duration": 7,
    "start_time": "2022-04-29T13:10:17.550Z"
   },
   {
    "duration": 16,
    "start_time": "2022-04-29T13:10:17.560Z"
   },
   {
    "duration": 61,
    "start_time": "2022-04-29T13:10:17.578Z"
   },
   {
    "duration": 22,
    "start_time": "2022-04-29T13:10:17.641Z"
   },
   {
    "duration": 4,
    "start_time": "2022-04-29T13:10:17.664Z"
   },
   {
    "duration": 3147,
    "start_time": "2022-04-29T13:10:17.670Z"
   },
   {
    "duration": 25,
    "start_time": "2022-04-29T13:10:20.819Z"
   },
   {
    "duration": 20,
    "start_time": "2022-04-29T13:10:20.847Z"
   },
   {
    "duration": 97,
    "start_time": "2022-04-29T13:10:20.869Z"
   },
   {
    "duration": 18,
    "start_time": "2022-04-29T13:10:20.968Z"
   },
   {
    "duration": 54,
    "start_time": "2022-04-29T13:10:20.988Z"
   },
   {
    "duration": 16,
    "start_time": "2022-04-29T13:10:21.044Z"
   },
   {
    "duration": 6,
    "start_time": "2022-04-29T13:10:21.063Z"
   },
   {
    "duration": 14,
    "start_time": "2022-04-29T13:10:21.071Z"
   },
   {
    "duration": 69,
    "start_time": "2022-04-29T13:10:21.087Z"
   },
   {
    "duration": 21,
    "start_time": "2022-04-29T13:10:21.158Z"
   },
   {
    "duration": 46,
    "start_time": "2022-04-29T13:10:21.183Z"
   },
   {
    "duration": 17,
    "start_time": "2022-04-29T13:10:21.232Z"
   },
   {
    "duration": 17,
    "start_time": "2022-04-29T13:10:21.251Z"
   },
   {
    "duration": 24,
    "start_time": "2022-04-29T13:10:21.270Z"
   },
   {
    "duration": 51,
    "start_time": "2022-04-29T13:10:21.296Z"
   },
   {
    "duration": 17,
    "start_time": "2022-04-29T13:13:12.945Z"
   },
   {
    "duration": 16,
    "start_time": "2022-04-29T13:13:28.505Z"
   },
   {
    "duration": 19,
    "start_time": "2022-04-29T13:13:36.737Z"
   },
   {
    "duration": 20,
    "start_time": "2022-04-29T13:13:47.737Z"
   },
   {
    "duration": 202,
    "start_time": "2022-04-29T13:22:05.531Z"
   },
   {
    "duration": 7,
    "start_time": "2022-04-29T13:22:10.244Z"
   },
   {
    "duration": 31,
    "start_time": "2022-04-29T13:22:23.145Z"
   },
   {
    "duration": 16,
    "start_time": "2022-04-29T13:23:06.491Z"
   },
   {
    "duration": 10,
    "start_time": "2022-04-29T13:28:16.091Z"
   },
   {
    "duration": 30,
    "start_time": "2022-04-29T13:28:24.115Z"
   },
   {
    "duration": 3431,
    "start_time": "2022-04-29T13:29:12.670Z"
   },
   {
    "duration": 4,
    "start_time": "2022-04-29T13:29:25.818Z"
   },
   {
    "duration": 15,
    "start_time": "2022-04-29T13:29:50.589Z"
   },
   {
    "duration": 883,
    "start_time": "2022-04-29T13:35:29.826Z"
   },
   {
    "duration": 141,
    "start_time": "2022-04-29T13:35:30.712Z"
   },
   {
    "duration": 25,
    "start_time": "2022-04-29T13:35:30.855Z"
   },
   {
    "duration": 42,
    "start_time": "2022-04-29T13:35:30.883Z"
   },
   {
    "duration": 21,
    "start_time": "2022-04-29T13:35:30.928Z"
   },
   {
    "duration": 16,
    "start_time": "2022-04-29T13:35:30.951Z"
   },
   {
    "duration": 21,
    "start_time": "2022-04-29T13:35:30.969Z"
   },
   {
    "duration": 51,
    "start_time": "2022-04-29T13:35:30.992Z"
   },
   {
    "duration": 23,
    "start_time": "2022-04-29T13:35:31.046Z"
   },
   {
    "duration": 25,
    "start_time": "2022-04-29T13:35:31.073Z"
   },
   {
    "duration": 27,
    "start_time": "2022-04-29T13:35:31.101Z"
   },
   {
    "duration": 10,
    "start_time": "2022-04-29T13:35:31.132Z"
   },
   {
    "duration": 24,
    "start_time": "2022-04-29T13:35:31.144Z"
   },
   {
    "duration": 60,
    "start_time": "2022-04-29T13:35:31.170Z"
   },
   {
    "duration": 24,
    "start_time": "2022-04-29T13:35:31.235Z"
   },
   {
    "duration": 3,
    "start_time": "2022-04-29T13:35:31.261Z"
   },
   {
    "duration": 3924,
    "start_time": "2022-04-29T13:35:31.266Z"
   },
   {
    "duration": 20,
    "start_time": "2022-04-29T13:35:35.192Z"
   },
   {
    "duration": 35,
    "start_time": "2022-04-29T13:35:35.222Z"
   },
   {
    "duration": 75,
    "start_time": "2022-04-29T13:35:35.259Z"
   },
   {
    "duration": 24,
    "start_time": "2022-04-29T13:35:35.336Z"
   },
   {
    "duration": 53,
    "start_time": "2022-04-29T13:35:35.362Z"
   },
   {
    "duration": 22,
    "start_time": "2022-04-29T13:35:35.417Z"
   },
   {
    "duration": 12,
    "start_time": "2022-04-29T13:35:35.441Z"
   },
   {
    "duration": 20,
    "start_time": "2022-04-29T13:35:35.455Z"
   },
   {
    "duration": 55,
    "start_time": "2022-04-29T13:35:35.477Z"
   },
   {
    "duration": 34,
    "start_time": "2022-04-29T13:35:35.536Z"
   },
   {
    "duration": 17,
    "start_time": "2022-04-29T13:35:35.573Z"
   },
   {
    "duration": 48,
    "start_time": "2022-04-29T13:35:35.592Z"
   },
   {
    "duration": 24,
    "start_time": "2022-04-29T13:35:35.642Z"
   },
   {
    "duration": 110,
    "start_time": "2022-04-29T13:35:35.668Z"
   },
   {
    "duration": 0,
    "start_time": "2022-04-29T13:35:35.780Z"
   },
   {
    "duration": 0,
    "start_time": "2022-04-29T13:35:35.782Z"
   },
   {
    "duration": 18,
    "start_time": "2022-04-29T13:35:59.567Z"
   },
   {
    "duration": 17,
    "start_time": "2022-04-29T13:36:01.941Z"
   },
   {
    "duration": 15,
    "start_time": "2022-04-29T13:36:02.565Z"
   },
   {
    "duration": 20,
    "start_time": "2022-04-29T13:36:21.555Z"
   },
   {
    "duration": 992,
    "start_time": "2022-04-29T13:37:28.482Z"
   },
   {
    "duration": 125,
    "start_time": "2022-04-29T13:37:29.477Z"
   },
   {
    "duration": 28,
    "start_time": "2022-04-29T13:37:29.604Z"
   },
   {
    "duration": 23,
    "start_time": "2022-04-29T13:37:29.635Z"
   },
   {
    "duration": 10,
    "start_time": "2022-04-29T13:37:29.661Z"
   },
   {
    "duration": 16,
    "start_time": "2022-04-29T13:37:29.673Z"
   },
   {
    "duration": 33,
    "start_time": "2022-04-29T13:37:29.691Z"
   },
   {
    "duration": 47,
    "start_time": "2022-04-29T13:37:29.726Z"
   },
   {
    "duration": 25,
    "start_time": "2022-04-29T13:37:29.776Z"
   },
   {
    "duration": 21,
    "start_time": "2022-04-29T13:37:29.824Z"
   },
   {
    "duration": 12,
    "start_time": "2022-04-29T13:37:29.848Z"
   },
   {
    "duration": 6,
    "start_time": "2022-04-29T13:37:29.862Z"
   },
   {
    "duration": 25,
    "start_time": "2022-04-29T13:37:29.870Z"
   },
   {
    "duration": 79,
    "start_time": "2022-04-29T13:37:29.898Z"
   },
   {
    "duration": 26,
    "start_time": "2022-04-29T13:37:29.979Z"
   },
   {
    "duration": 5,
    "start_time": "2022-04-29T13:37:30.026Z"
   },
   {
    "duration": 3749,
    "start_time": "2022-04-29T13:37:30.034Z"
   },
   {
    "duration": 23,
    "start_time": "2022-04-29T13:37:33.785Z"
   },
   {
    "duration": 43,
    "start_time": "2022-04-29T13:37:33.810Z"
   },
   {
    "duration": 132,
    "start_time": "2022-04-29T13:37:33.856Z"
   },
   {
    "duration": 26,
    "start_time": "2022-04-29T13:37:33.990Z"
   },
   {
    "duration": 32,
    "start_time": "2022-04-29T13:37:34.030Z"
   },
   {
    "duration": 20,
    "start_time": "2022-04-29T13:37:34.064Z"
   },
   {
    "duration": 7,
    "start_time": "2022-04-29T13:37:34.087Z"
   },
   {
    "duration": 35,
    "start_time": "2022-04-29T13:37:34.096Z"
   },
   {
    "duration": 31,
    "start_time": "2022-04-29T13:37:34.134Z"
   },
   {
    "duration": 17,
    "start_time": "2022-04-29T13:37:34.167Z"
   },
   {
    "duration": 44,
    "start_time": "2022-04-29T13:37:34.186Z"
   },
   {
    "duration": 45,
    "start_time": "2022-04-29T13:37:34.232Z"
   },
   {
    "duration": 29,
    "start_time": "2022-04-29T13:37:34.279Z"
   },
   {
    "duration": 145,
    "start_time": "2022-04-29T13:37:34.310Z"
   },
   {
    "duration": 0,
    "start_time": "2022-04-29T13:37:34.457Z"
   },
   {
    "duration": 0,
    "start_time": "2022-04-29T13:37:34.459Z"
   },
   {
    "duration": 17,
    "start_time": "2022-04-29T13:37:54.975Z"
   },
   {
    "duration": 18,
    "start_time": "2022-04-29T13:37:55.562Z"
   },
   {
    "duration": 19,
    "start_time": "2022-04-29T13:37:56.441Z"
   },
   {
    "duration": 2,
    "start_time": "2022-04-29T13:44:04.387Z"
   },
   {
    "duration": 15,
    "start_time": "2022-04-29T13:44:50.659Z"
   },
   {
    "duration": 10,
    "start_time": "2022-04-29T14:03:09.167Z"
   },
   {
    "duration": 5,
    "start_time": "2022-04-29T14:04:03.902Z"
   },
   {
    "duration": 5,
    "start_time": "2022-04-29T14:15:23.053Z"
   },
   {
    "duration": 25,
    "start_time": "2022-04-29T14:15:31.530Z"
   },
   {
    "duration": 22,
    "start_time": "2022-04-29T14:15:37.356Z"
   },
   {
    "duration": 4,
    "start_time": "2022-04-29T14:16:35.895Z"
   },
   {
    "duration": 36,
    "start_time": "2022-04-29T14:17:07.866Z"
   },
   {
    "duration": 4,
    "start_time": "2022-04-29T14:17:18.187Z"
   },
   {
    "duration": 37,
    "start_time": "2022-04-29T14:17:22.772Z"
   },
   {
    "duration": 5,
    "start_time": "2022-04-29T14:18:15.027Z"
   },
   {
    "duration": 785,
    "start_time": "2022-04-29T14:18:17.301Z"
   },
   {
    "duration": 4,
    "start_time": "2022-04-29T14:18:22.011Z"
   },
   {
    "duration": 37,
    "start_time": "2022-04-29T14:18:22.827Z"
   },
   {
    "duration": 10,
    "start_time": "2022-04-29T14:19:11.033Z"
   },
   {
    "duration": 7533,
    "start_time": "2022-04-29T14:20:13.467Z"
   },
   {
    "duration": 14,
    "start_time": "2022-04-29T14:20:23.299Z"
   },
   {
    "duration": 9,
    "start_time": "2022-04-29T14:21:29.634Z"
   },
   {
    "duration": 14,
    "start_time": "2022-04-29T14:23:15.325Z"
   },
   {
    "duration": 14,
    "start_time": "2022-04-29T14:23:22.572Z"
   },
   {
    "duration": 6,
    "start_time": "2022-04-29T14:27:12.508Z"
   },
   {
    "duration": 3,
    "start_time": "2022-04-29T14:31:54.526Z"
   },
   {
    "duration": 10,
    "start_time": "2022-04-29T14:34:27.613Z"
   },
   {
    "duration": 1974,
    "start_time": "2022-04-29T14:35:35.801Z"
   },
   {
    "duration": 3,
    "start_time": "2022-04-29T14:37:28.266Z"
   },
   {
    "duration": 3,
    "start_time": "2022-04-29T14:37:52.342Z"
   },
   {
    "duration": 250,
    "start_time": "2022-04-29T14:38:06.447Z"
   },
   {
    "duration": 4,
    "start_time": "2022-04-29T14:38:17.991Z"
   },
   {
    "duration": 922,
    "start_time": "2022-04-29T14:38:19.950Z"
   },
   {
    "duration": 10,
    "start_time": "2022-04-29T14:39:40.281Z"
   },
   {
    "duration": 13,
    "start_time": "2022-04-29T14:39:55.746Z"
   },
   {
    "duration": 3,
    "start_time": "2022-04-29T14:40:06.772Z"
   },
   {
    "duration": 20,
    "start_time": "2022-04-29T14:40:07.627Z"
   },
   {
    "duration": 5,
    "start_time": "2022-04-29T14:41:08.826Z"
   },
   {
    "duration": 10,
    "start_time": "2022-04-29T14:41:09.497Z"
   },
   {
    "duration": 7,
    "start_time": "2022-04-29T14:43:25.362Z"
   },
   {
    "duration": 799,
    "start_time": "2022-04-29T14:43:56.497Z"
   },
   {
    "duration": 3,
    "start_time": "2022-04-29T14:44:03.908Z"
   },
   {
    "duration": 839,
    "start_time": "2022-04-29T14:44:04.600Z"
   },
   {
    "duration": 9,
    "start_time": "2022-04-29T14:44:29.193Z"
   },
   {
    "duration": 3,
    "start_time": "2022-04-29T14:44:43.296Z"
   },
   {
    "duration": 883,
    "start_time": "2022-04-29T14:44:44.505Z"
   },
   {
    "duration": 3,
    "start_time": "2022-04-29T14:45:20.439Z"
   },
   {
    "duration": 905,
    "start_time": "2022-04-29T14:45:20.718Z"
   },
   {
    "duration": 14,
    "start_time": "2022-04-29T14:51:23.723Z"
   },
   {
    "duration": 46,
    "start_time": "2022-04-29T14:51:25.906Z"
   },
   {
    "duration": 14,
    "start_time": "2022-04-29T14:51:46.154Z"
   },
   {
    "duration": 70,
    "start_time": "2022-04-29T14:51:54.565Z"
   },
   {
    "duration": 8,
    "start_time": "2022-04-29T14:52:26.580Z"
   },
   {
    "duration": 831,
    "start_time": "2022-04-29T14:52:33.475Z"
   },
   {
    "duration": 12,
    "start_time": "2022-04-29T14:54:17.436Z"
   },
   {
    "duration": 9,
    "start_time": "2022-04-29T14:54:48.238Z"
   },
   {
    "duration": 3,
    "start_time": "2022-04-29T14:54:49.932Z"
   },
   {
    "duration": 33,
    "start_time": "2022-04-29T14:54:50.596Z"
   },
   {
    "duration": 866,
    "start_time": "2022-04-29T14:55:01.488Z"
   },
   {
    "duration": 32,
    "start_time": "2022-04-29T14:55:17.483Z"
   },
   {
    "duration": 8,
    "start_time": "2022-04-29T14:55:51.709Z"
   },
   {
    "duration": 12,
    "start_time": "2022-04-29T14:55:59.851Z"
   },
   {
    "duration": 2,
    "start_time": "2022-04-29T14:56:00.299Z"
   },
   {
    "duration": 9,
    "start_time": "2022-04-29T14:56:00.723Z"
   },
   {
    "duration": 27,
    "start_time": "2022-04-29T14:56:06.451Z"
   },
   {
    "duration": 30,
    "start_time": "2022-04-29T14:56:11.238Z"
   },
   {
    "duration": 3,
    "start_time": "2022-04-29T14:56:52.245Z"
   },
   {
    "duration": 7,
    "start_time": "2022-04-29T14:57:10.604Z"
   },
   {
    "duration": 3,
    "start_time": "2022-04-29T14:57:27.508Z"
   },
   {
    "duration": 9,
    "start_time": "2022-04-29T14:57:30.026Z"
   },
   {
    "duration": 28,
    "start_time": "2022-04-29T14:57:36.119Z"
   },
   {
    "duration": 200,
    "start_time": "2022-04-29T14:58:08.347Z"
   },
   {
    "duration": 38,
    "start_time": "2022-04-29T14:58:18.012Z"
   },
   {
    "duration": 22,
    "start_time": "2022-04-29T14:59:05.020Z"
   },
   {
    "duration": 875,
    "start_time": "2022-04-29T15:00:47.858Z"
   },
   {
    "duration": 134,
    "start_time": "2022-04-29T15:00:48.736Z"
   },
   {
    "duration": 21,
    "start_time": "2022-04-29T15:00:48.872Z"
   },
   {
    "duration": 14,
    "start_time": "2022-04-29T15:00:48.896Z"
   },
   {
    "duration": 18,
    "start_time": "2022-04-29T15:00:48.912Z"
   },
   {
    "duration": 11,
    "start_time": "2022-04-29T15:00:48.932Z"
   },
   {
    "duration": 8,
    "start_time": "2022-04-29T15:00:48.944Z"
   },
   {
    "duration": 31,
    "start_time": "2022-04-29T15:00:48.954Z"
   },
   {
    "duration": 48,
    "start_time": "2022-04-29T15:00:48.987Z"
   },
   {
    "duration": 19,
    "start_time": "2022-04-29T15:00:49.039Z"
   },
   {
    "duration": 11,
    "start_time": "2022-04-29T15:00:49.060Z"
   },
   {
    "duration": 6,
    "start_time": "2022-04-29T15:00:49.072Z"
   },
   {
    "duration": 16,
    "start_time": "2022-04-29T15:00:49.079Z"
   },
   {
    "duration": 38,
    "start_time": "2022-04-29T15:00:49.124Z"
   },
   {
    "duration": 23,
    "start_time": "2022-04-29T15:00:49.164Z"
   },
   {
    "duration": 4,
    "start_time": "2022-04-29T15:00:49.189Z"
   },
   {
    "duration": 2900,
    "start_time": "2022-04-29T15:00:49.195Z"
   },
   {
    "duration": 26,
    "start_time": "2022-04-29T15:00:52.097Z"
   },
   {
    "duration": 32,
    "start_time": "2022-04-29T15:00:52.125Z"
   },
   {
    "duration": 67,
    "start_time": "2022-04-29T15:00:52.159Z"
   },
   {
    "duration": 19,
    "start_time": "2022-04-29T15:00:52.230Z"
   },
   {
    "duration": 22,
    "start_time": "2022-04-29T15:00:52.251Z"
   },
   {
    "duration": 13,
    "start_time": "2022-04-29T15:00:52.276Z"
   },
   {
    "duration": 36,
    "start_time": "2022-04-29T15:00:52.292Z"
   },
   {
    "duration": 21,
    "start_time": "2022-04-29T15:00:52.331Z"
   },
   {
    "duration": 20,
    "start_time": "2022-04-29T15:00:52.354Z"
   },
   {
    "duration": 13,
    "start_time": "2022-04-29T15:00:52.376Z"
   },
   {
    "duration": 41,
    "start_time": "2022-04-29T15:00:52.393Z"
   },
   {
    "duration": 26,
    "start_time": "2022-04-29T15:00:52.436Z"
   },
   {
    "duration": 23,
    "start_time": "2022-04-29T15:00:52.464Z"
   },
   {
    "duration": 3,
    "start_time": "2022-04-29T15:00:52.490Z"
   },
   {
    "duration": 44,
    "start_time": "2022-04-29T15:00:52.494Z"
   },
   {
    "duration": 5,
    "start_time": "2022-04-29T15:00:52.539Z"
   },
   {
    "duration": 12,
    "start_time": "2022-04-29T15:00:52.546Z"
   },
   {
    "duration": 8,
    "start_time": "2022-04-29T15:00:52.559Z"
   },
   {
    "duration": 2,
    "start_time": "2022-04-29T15:00:52.569Z"
   },
   {
    "duration": 49,
    "start_time": "2022-04-29T15:00:52.573Z"
   },
   {
    "duration": 29,
    "start_time": "2022-04-29T15:00:52.628Z"
   },
   {
    "duration": 15,
    "start_time": "2022-04-29T15:00:52.658Z"
   },
   {
    "duration": 4,
    "start_time": "2022-04-29T15:00:52.674Z"
   },
   {
    "duration": 19,
    "start_time": "2022-04-29T15:00:52.680Z"
   },
   {
    "duration": 3,
    "start_time": "2022-04-29T15:02:54.912Z"
   },
   {
    "duration": 27,
    "start_time": "2022-04-29T15:02:55.467Z"
   },
   {
    "duration": 1116,
    "start_time": "2022-05-04T07:49:13.676Z"
   },
   {
    "duration": 212,
    "start_time": "2022-05-04T07:49:14.795Z"
   },
   {
    "duration": 29,
    "start_time": "2022-05-04T07:49:15.010Z"
   },
   {
    "duration": 33,
    "start_time": "2022-05-04T07:49:15.042Z"
   },
   {
    "duration": 26,
    "start_time": "2022-05-04T07:49:15.077Z"
   },
   {
    "duration": 23,
    "start_time": "2022-05-04T07:49:15.106Z"
   },
   {
    "duration": 19,
    "start_time": "2022-05-04T07:49:15.132Z"
   },
   {
    "duration": 49,
    "start_time": "2022-05-04T07:49:15.154Z"
   },
   {
    "duration": 39,
    "start_time": "2022-05-04T07:49:15.205Z"
   },
   {
    "duration": 21,
    "start_time": "2022-05-04T07:49:15.250Z"
   },
   {
    "duration": 16,
    "start_time": "2022-05-04T07:49:15.273Z"
   },
   {
    "duration": 37,
    "start_time": "2022-05-04T07:49:15.291Z"
   },
   {
    "duration": 26,
    "start_time": "2022-05-04T07:49:15.330Z"
   },
   {
    "duration": 77,
    "start_time": "2022-05-04T07:49:15.358Z"
   },
   {
    "duration": 27,
    "start_time": "2022-05-04T07:49:15.437Z"
   },
   {
    "duration": 5,
    "start_time": "2022-05-04T07:49:15.466Z"
   },
   {
    "duration": 4927,
    "start_time": "2022-05-04T07:49:15.473Z"
   },
   {
    "duration": 33,
    "start_time": "2022-05-04T07:49:20.403Z"
   },
   {
    "duration": 29,
    "start_time": "2022-05-04T07:49:20.438Z"
   },
   {
    "duration": 112,
    "start_time": "2022-05-04T07:49:20.469Z"
   },
   {
    "duration": 44,
    "start_time": "2022-05-04T07:49:20.583Z"
   },
   {
    "duration": 38,
    "start_time": "2022-05-04T07:49:20.629Z"
   },
   {
    "duration": 19,
    "start_time": "2022-05-04T07:49:20.669Z"
   },
   {
    "duration": 40,
    "start_time": "2022-05-04T07:49:20.689Z"
   },
   {
    "duration": 22,
    "start_time": "2022-05-04T07:49:20.731Z"
   },
   {
    "duration": 70,
    "start_time": "2022-05-04T07:49:20.755Z"
   },
   {
    "duration": 32,
    "start_time": "2022-05-04T07:49:20.828Z"
   },
   {
    "duration": 39,
    "start_time": "2022-05-04T07:49:20.867Z"
   },
   {
    "duration": 33,
    "start_time": "2022-05-04T07:49:20.926Z"
   },
   {
    "duration": 33,
    "start_time": "2022-05-04T07:49:20.962Z"
   },
   {
    "duration": 29,
    "start_time": "2022-05-04T07:49:20.997Z"
   },
   {
    "duration": 37,
    "start_time": "2022-05-04T07:49:21.029Z"
   },
   {
    "duration": 7,
    "start_time": "2022-05-04T07:49:21.069Z"
   },
   {
    "duration": 51,
    "start_time": "2022-05-04T07:49:21.079Z"
   },
   {
    "duration": 4,
    "start_time": "2022-05-04T07:49:21.133Z"
   },
   {
    "duration": 84,
    "start_time": "2022-05-04T07:49:21.139Z"
   },
   {
    "duration": 22,
    "start_time": "2022-05-04T07:49:21.226Z"
   },
   {
    "duration": 7,
    "start_time": "2022-05-04T07:49:21.250Z"
   },
   {
    "duration": 34,
    "start_time": "2022-05-04T07:49:21.259Z"
   },
   {
    "duration": 7,
    "start_time": "2022-05-04T07:58:15.764Z"
   },
   {
    "duration": 878,
    "start_time": "2022-05-04T07:58:23.236Z"
   },
   {
    "duration": 123,
    "start_time": "2022-05-04T07:58:24.117Z"
   },
   {
    "duration": 29,
    "start_time": "2022-05-04T07:58:24.243Z"
   },
   {
    "duration": 27,
    "start_time": "2022-05-04T07:58:24.274Z"
   },
   {
    "duration": 27,
    "start_time": "2022-05-04T07:58:24.304Z"
   },
   {
    "duration": 26,
    "start_time": "2022-05-04T07:58:24.333Z"
   },
   {
    "duration": 15,
    "start_time": "2022-05-04T07:58:24.361Z"
   },
   {
    "duration": 64,
    "start_time": "2022-05-04T07:58:24.378Z"
   },
   {
    "duration": 22,
    "start_time": "2022-05-04T07:58:24.444Z"
   },
   {
    "duration": 20,
    "start_time": "2022-05-04T07:58:24.468Z"
   },
   {
    "duration": 43,
    "start_time": "2022-05-04T07:58:24.491Z"
   },
   {
    "duration": 10,
    "start_time": "2022-05-04T07:58:24.536Z"
   },
   {
    "duration": 24,
    "start_time": "2022-05-04T07:58:24.548Z"
   },
   {
    "duration": 89,
    "start_time": "2022-05-04T07:58:24.577Z"
   },
   {
    "duration": 29,
    "start_time": "2022-05-04T07:58:24.668Z"
   },
   {
    "duration": 5,
    "start_time": "2022-05-04T07:58:24.699Z"
   },
   {
    "duration": 5047,
    "start_time": "2022-05-04T07:58:24.725Z"
   },
   {
    "duration": 22,
    "start_time": "2022-05-04T07:58:29.774Z"
   },
   {
    "duration": 45,
    "start_time": "2022-05-04T07:58:29.798Z"
   },
   {
    "duration": 104,
    "start_time": "2022-05-04T07:58:29.846Z"
   },
   {
    "duration": 27,
    "start_time": "2022-05-04T07:58:29.952Z"
   },
   {
    "duration": 59,
    "start_time": "2022-05-04T07:58:29.981Z"
   },
   {
    "duration": 29,
    "start_time": "2022-05-04T07:58:30.043Z"
   },
   {
    "duration": 8,
    "start_time": "2022-05-04T07:58:30.075Z"
   },
   {
    "duration": 40,
    "start_time": "2022-05-04T07:58:30.086Z"
   },
   {
    "duration": 38,
    "start_time": "2022-05-04T07:58:30.129Z"
   },
   {
    "duration": 35,
    "start_time": "2022-05-04T07:58:30.170Z"
   },
   {
    "duration": 35,
    "start_time": "2022-05-04T07:58:30.208Z"
   },
   {
    "duration": 26,
    "start_time": "2022-05-04T07:58:30.245Z"
   },
   {
    "duration": 47,
    "start_time": "2022-05-04T07:58:30.273Z"
   },
   {
    "duration": 12,
    "start_time": "2022-05-04T07:58:30.322Z"
   },
   {
    "duration": 35,
    "start_time": "2022-05-04T07:58:30.337Z"
   },
   {
    "duration": 9,
    "start_time": "2022-05-04T07:58:30.374Z"
   },
   {
    "duration": 20,
    "start_time": "2022-05-04T07:58:30.385Z"
   },
   {
    "duration": 22,
    "start_time": "2022-05-04T07:58:30.407Z"
   },
   {
    "duration": 64,
    "start_time": "2022-05-04T07:58:30.431Z"
   },
   {
    "duration": 22,
    "start_time": "2022-05-04T07:58:30.497Z"
   },
   {
    "duration": 61,
    "start_time": "2022-05-04T07:58:30.521Z"
   },
   {
    "duration": 38,
    "start_time": "2022-05-04T07:58:30.585Z"
   },
   {
    "duration": 7,
    "start_time": "2022-05-04T08:07:25.726Z"
   },
   {
    "duration": 19,
    "start_time": "2022-05-04T08:08:18.558Z"
   },
   {
    "duration": 6,
    "start_time": "2022-05-04T08:08:20.727Z"
   },
   {
    "duration": 6,
    "start_time": "2022-05-04T08:19:43.001Z"
   },
   {
    "duration": 6,
    "start_time": "2022-05-04T08:19:48.554Z"
   },
   {
    "duration": 7,
    "start_time": "2022-05-04T08:19:49.200Z"
   },
   {
    "duration": 6,
    "start_time": "2022-05-04T08:20:11.640Z"
   },
   {
    "duration": 42,
    "start_time": "2022-05-04T08:25:29.466Z"
   },
   {
    "duration": 875,
    "start_time": "2022-05-04T08:25:37.986Z"
   },
   {
    "duration": 119,
    "start_time": "2022-05-04T08:25:38.864Z"
   },
   {
    "duration": 28,
    "start_time": "2022-05-04T08:25:38.986Z"
   },
   {
    "duration": 21,
    "start_time": "2022-05-04T08:25:39.025Z"
   },
   {
    "duration": 19,
    "start_time": "2022-05-04T08:25:39.049Z"
   },
   {
    "duration": 16,
    "start_time": "2022-05-04T08:25:39.071Z"
   },
   {
    "duration": 40,
    "start_time": "2022-05-04T08:25:39.089Z"
   },
   {
    "duration": 42,
    "start_time": "2022-05-04T08:25:39.131Z"
   },
   {
    "duration": 19,
    "start_time": "2022-05-04T08:25:39.175Z"
   },
   {
    "duration": 41,
    "start_time": "2022-05-04T08:25:39.198Z"
   },
   {
    "duration": 11,
    "start_time": "2022-05-04T08:25:39.241Z"
   },
   {
    "duration": 8,
    "start_time": "2022-05-04T08:25:39.254Z"
   },
   {
    "duration": 22,
    "start_time": "2022-05-04T08:25:39.264Z"
   },
   {
    "duration": 81,
    "start_time": "2022-05-04T08:25:39.289Z"
   },
   {
    "duration": 26,
    "start_time": "2022-05-04T08:25:39.372Z"
   },
   {
    "duration": 5,
    "start_time": "2022-05-04T08:25:39.424Z"
   },
   {
    "duration": 5768,
    "start_time": "2022-05-04T08:25:39.431Z"
   },
   {
    "duration": 34,
    "start_time": "2022-05-04T08:25:45.202Z"
   },
   {
    "duration": 26,
    "start_time": "2022-05-04T08:25:45.238Z"
   },
   {
    "duration": 115,
    "start_time": "2022-05-04T08:25:45.266Z"
   },
   {
    "duration": 43,
    "start_time": "2022-05-04T08:25:45.383Z"
   },
   {
    "duration": 37,
    "start_time": "2022-05-04T08:25:45.429Z"
   },
   {
    "duration": 20,
    "start_time": "2022-05-04T08:25:45.468Z"
   },
   {
    "duration": 45,
    "start_time": "2022-05-04T08:25:45.491Z"
   },
   {
    "duration": 41,
    "start_time": "2022-05-04T08:25:45.539Z"
   },
   {
    "duration": 47,
    "start_time": "2022-05-04T08:25:45.583Z"
   },
   {
    "duration": 24,
    "start_time": "2022-05-04T08:25:45.632Z"
   },
   {
    "duration": 23,
    "start_time": "2022-05-04T08:25:45.662Z"
   },
   {
    "duration": 53,
    "start_time": "2022-05-04T08:25:45.687Z"
   },
   {
    "duration": 11,
    "start_time": "2022-05-04T08:25:45.742Z"
   },
   {
    "duration": 30,
    "start_time": "2022-05-04T08:25:45.755Z"
   },
   {
    "duration": 5,
    "start_time": "2022-05-04T08:25:45.787Z"
   },
   {
    "duration": 33,
    "start_time": "2022-05-04T08:25:45.795Z"
   },
   {
    "duration": 6,
    "start_time": "2022-05-04T08:25:45.830Z"
   },
   {
    "duration": 47,
    "start_time": "2022-05-04T08:25:45.839Z"
   },
   {
    "duration": 61,
    "start_time": "2022-05-04T08:25:45.888Z"
   },
   {
    "duration": 7,
    "start_time": "2022-05-04T08:25:45.952Z"
   },
   {
    "duration": 38,
    "start_time": "2022-05-04T08:25:45.962Z"
   },
   {
    "duration": 8,
    "start_time": "2022-05-04T08:25:46.025Z"
   },
   {
    "duration": 853,
    "start_time": "2022-05-04T08:27:37.342Z"
   },
   {
    "duration": 108,
    "start_time": "2022-05-04T08:27:38.198Z"
   },
   {
    "duration": 30,
    "start_time": "2022-05-04T08:27:38.308Z"
   },
   {
    "duration": 22,
    "start_time": "2022-05-04T08:27:38.342Z"
   },
   {
    "duration": 12,
    "start_time": "2022-05-04T08:27:38.366Z"
   },
   {
    "duration": 48,
    "start_time": "2022-05-04T08:27:38.381Z"
   },
   {
    "duration": 14,
    "start_time": "2022-05-04T08:27:38.431Z"
   },
   {
    "duration": 43,
    "start_time": "2022-05-04T08:27:38.447Z"
   },
   {
    "duration": 45,
    "start_time": "2022-05-04T08:27:38.492Z"
   },
   {
    "duration": 18,
    "start_time": "2022-05-04T08:27:38.541Z"
   },
   {
    "duration": 13,
    "start_time": "2022-05-04T08:27:38.561Z"
   },
   {
    "duration": 8,
    "start_time": "2022-05-04T08:27:38.576Z"
   },
   {
    "duration": 53,
    "start_time": "2022-05-04T08:27:38.587Z"
   },
   {
    "duration": 55,
    "start_time": "2022-05-04T08:27:38.642Z"
   },
   {
    "duration": 48,
    "start_time": "2022-05-04T08:27:38.699Z"
   },
   {
    "duration": 5,
    "start_time": "2022-05-04T08:27:38.749Z"
   },
   {
    "duration": 5076,
    "start_time": "2022-05-04T08:27:38.756Z"
   },
   {
    "duration": 21,
    "start_time": "2022-05-04T08:27:43.834Z"
   },
   {
    "duration": 43,
    "start_time": "2022-05-04T08:27:43.857Z"
   },
   {
    "duration": 95,
    "start_time": "2022-05-04T08:27:43.902Z"
   },
   {
    "duration": 46,
    "start_time": "2022-05-04T08:27:43.999Z"
   },
   {
    "duration": 33,
    "start_time": "2022-05-04T08:27:44.047Z"
   },
   {
    "duration": 17,
    "start_time": "2022-05-04T08:27:44.082Z"
   },
   {
    "duration": 13,
    "start_time": "2022-05-04T08:27:44.125Z"
   },
   {
    "duration": 30,
    "start_time": "2022-05-04T08:27:44.140Z"
   },
   {
    "duration": 53,
    "start_time": "2022-05-04T08:27:44.172Z"
   },
   {
    "duration": 24,
    "start_time": "2022-05-04T08:27:44.228Z"
   },
   {
    "duration": 22,
    "start_time": "2022-05-04T08:27:44.257Z"
   },
   {
    "duration": 49,
    "start_time": "2022-05-04T08:27:44.282Z"
   },
   {
    "duration": 5,
    "start_time": "2022-05-04T08:27:44.333Z"
   },
   {
    "duration": 27,
    "start_time": "2022-05-04T08:27:44.340Z"
   },
   {
    "duration": 6,
    "start_time": "2022-05-04T08:27:44.369Z"
   },
   {
    "duration": 12,
    "start_time": "2022-05-04T08:27:44.377Z"
   },
   {
    "duration": 4,
    "start_time": "2022-05-04T08:27:44.425Z"
   },
   {
    "duration": 45,
    "start_time": "2022-05-04T08:27:44.431Z"
   },
   {
    "duration": 24,
    "start_time": "2022-05-04T08:27:44.478Z"
   },
   {
    "duration": 6,
    "start_time": "2022-05-04T08:27:44.525Z"
   },
   {
    "duration": 30,
    "start_time": "2022-05-04T08:27:44.533Z"
   },
   {
    "duration": 7,
    "start_time": "2022-05-04T08:27:44.565Z"
   },
   {
    "duration": 104,
    "start_time": "2022-05-04T08:31:35.572Z"
   },
   {
    "duration": 13,
    "start_time": "2022-05-04T08:31:43.342Z"
   },
   {
    "duration": 18,
    "start_time": "2022-05-04T08:31:49.334Z"
   },
   {
    "duration": 23,
    "start_time": "2022-05-04T08:32:04.750Z"
   },
   {
    "duration": 17,
    "start_time": "2022-05-04T08:32:12.255Z"
   },
   {
    "duration": 18,
    "start_time": "2022-05-04T08:32:25.878Z"
   },
   {
    "duration": 8,
    "start_time": "2022-05-04T08:38:56.104Z"
   },
   {
    "duration": 7,
    "start_time": "2022-05-04T08:39:08.433Z"
   },
   {
    "duration": 7,
    "start_time": "2022-05-04T08:39:20.056Z"
   },
   {
    "duration": 8,
    "start_time": "2022-05-04T08:39:37.560Z"
   },
   {
    "duration": 27,
    "start_time": "2022-05-04T08:42:41.472Z"
   },
   {
    "duration": 26,
    "start_time": "2022-05-04T08:42:57.522Z"
   },
   {
    "duration": 26,
    "start_time": "2022-05-04T08:43:21.258Z"
   },
   {
    "duration": 19,
    "start_time": "2022-05-04T08:44:13.513Z"
   },
   {
    "duration": 18,
    "start_time": "2022-05-04T08:44:38.339Z"
   },
   {
    "duration": 28,
    "start_time": "2022-05-04T08:44:42.417Z"
   },
   {
    "duration": 36,
    "start_time": "2022-05-04T08:47:18.571Z"
   },
   {
    "duration": 34,
    "start_time": "2022-05-04T08:47:38.674Z"
   },
   {
    "duration": 38,
    "start_time": "2022-05-04T08:47:50.699Z"
   },
   {
    "duration": 33,
    "start_time": "2022-05-04T08:48:31.051Z"
   },
   {
    "duration": 33,
    "start_time": "2022-05-04T08:48:43.555Z"
   },
   {
    "duration": 18,
    "start_time": "2022-05-04T08:59:49.709Z"
   },
   {
    "duration": 25,
    "start_time": "2022-05-04T08:59:56.974Z"
   },
   {
    "duration": 30,
    "start_time": "2022-05-04T09:00:46.999Z"
   },
   {
    "duration": 32,
    "start_time": "2022-05-04T09:01:36.144Z"
   },
   {
    "duration": 30,
    "start_time": "2022-05-04T09:01:44.806Z"
   },
   {
    "duration": 24,
    "start_time": "2022-05-04T09:02:35.374Z"
   },
   {
    "duration": 26,
    "start_time": "2022-05-04T09:03:12.694Z"
   },
   {
    "duration": 29,
    "start_time": "2022-05-04T09:03:35.638Z"
   },
   {
    "duration": 30,
    "start_time": "2022-05-04T09:03:44.814Z"
   },
   {
    "duration": 24,
    "start_time": "2022-05-04T09:04:24.706Z"
   },
   {
    "duration": 32,
    "start_time": "2022-05-04T09:04:54.807Z"
   },
   {
    "duration": 30,
    "start_time": "2022-05-04T09:06:15.415Z"
   },
   {
    "duration": 31,
    "start_time": "2022-05-04T09:08:33.249Z"
   },
   {
    "duration": 32,
    "start_time": "2022-05-04T09:08:57.762Z"
   },
   {
    "duration": 30,
    "start_time": "2022-05-04T09:09:28.770Z"
   },
   {
    "duration": 11,
    "start_time": "2022-05-04T09:15:59.257Z"
   },
   {
    "duration": 12,
    "start_time": "2022-05-04T09:16:07.082Z"
   },
   {
    "duration": 885,
    "start_time": "2022-05-04T09:17:59.218Z"
   },
   {
    "duration": 139,
    "start_time": "2022-05-04T09:18:00.107Z"
   },
   {
    "duration": 32,
    "start_time": "2022-05-04T09:18:00.248Z"
   },
   {
    "duration": 48,
    "start_time": "2022-05-04T09:18:00.282Z"
   },
   {
    "duration": 12,
    "start_time": "2022-05-04T09:18:00.334Z"
   },
   {
    "duration": 19,
    "start_time": "2022-05-04T09:18:00.348Z"
   },
   {
    "duration": 19,
    "start_time": "2022-05-04T09:18:00.369Z"
   },
   {
    "duration": 53,
    "start_time": "2022-05-04T09:18:00.391Z"
   },
   {
    "duration": 21,
    "start_time": "2022-05-04T09:18:00.446Z"
   },
   {
    "duration": 29,
    "start_time": "2022-05-04T09:18:00.470Z"
   },
   {
    "duration": 15,
    "start_time": "2022-05-04T09:18:00.501Z"
   },
   {
    "duration": 17,
    "start_time": "2022-05-04T09:18:00.519Z"
   },
   {
    "duration": 94,
    "start_time": "2022-05-04T09:18:00.538Z"
   },
   {
    "duration": 57,
    "start_time": "2022-05-04T09:18:00.637Z"
   },
   {
    "duration": 30,
    "start_time": "2022-05-04T09:18:00.696Z"
   },
   {
    "duration": 9,
    "start_time": "2022-05-04T09:18:00.729Z"
   },
   {
    "duration": 5266,
    "start_time": "2022-05-04T09:18:00.741Z"
   },
   {
    "duration": 31,
    "start_time": "2022-05-04T09:18:06.010Z"
   },
   {
    "duration": 28,
    "start_time": "2022-05-04T09:18:06.044Z"
   },
   {
    "duration": 116,
    "start_time": "2022-05-04T09:18:06.075Z"
   },
   {
    "duration": 47,
    "start_time": "2022-05-04T09:18:06.194Z"
   },
   {
    "duration": 33,
    "start_time": "2022-05-04T09:18:06.243Z"
   },
   {
    "duration": 26,
    "start_time": "2022-05-04T09:18:06.278Z"
   },
   {
    "duration": 16,
    "start_time": "2022-05-04T09:18:06.326Z"
   },
   {
    "duration": 40,
    "start_time": "2022-05-04T09:18:06.345Z"
   },
   {
    "duration": 46,
    "start_time": "2022-05-04T09:18:06.387Z"
   },
   {
    "duration": 25,
    "start_time": "2022-05-04T09:18:06.435Z"
   },
   {
    "duration": 29,
    "start_time": "2022-05-04T09:18:06.463Z"
   },
   {
    "duration": 50,
    "start_time": "2022-05-04T09:18:06.494Z"
   },
   {
    "duration": 12,
    "start_time": "2022-05-04T09:18:06.547Z"
   },
   {
    "duration": 40,
    "start_time": "2022-05-04T09:18:06.562Z"
   },
   {
    "duration": 7,
    "start_time": "2022-05-04T09:18:06.605Z"
   },
   {
    "duration": 13,
    "start_time": "2022-05-04T09:18:06.625Z"
   },
   {
    "duration": 11,
    "start_time": "2022-05-04T09:18:06.641Z"
   },
   {
    "duration": 43,
    "start_time": "2022-05-04T09:18:06.654Z"
   },
   {
    "duration": 25,
    "start_time": "2022-05-04T09:18:06.724Z"
   },
   {
    "duration": 7,
    "start_time": "2022-05-04T09:18:06.752Z"
   },
   {
    "duration": 28,
    "start_time": "2022-05-04T09:18:06.762Z"
   },
   {
    "duration": 37,
    "start_time": "2022-05-04T09:18:06.792Z"
   },
   {
    "duration": 26,
    "start_time": "2022-05-04T09:18:06.831Z"
   },
   {
    "duration": 8,
    "start_time": "2022-05-04T09:18:06.862Z"
   },
   {
    "duration": 10,
    "start_time": "2022-05-04T09:18:06.873Z"
   },
   {
    "duration": 65,
    "start_time": "2022-05-04T09:18:06.885Z"
   },
   {
    "duration": 36,
    "start_time": "2022-05-04T09:18:06.952Z"
   },
   {
    "duration": 47,
    "start_time": "2022-05-04T09:18:06.990Z"
   },
   {
    "duration": 31,
    "start_time": "2022-05-04T09:18:07.039Z"
   },
   {
    "duration": 54,
    "start_time": "2022-05-04T09:18:07.072Z"
   },
   {
    "duration": 25,
    "start_time": "2022-05-04T09:19:43.288Z"
   },
   {
    "duration": 23,
    "start_time": "2022-05-04T09:20:01.312Z"
   },
   {
    "duration": 23,
    "start_time": "2022-05-04T09:20:23.504Z"
   },
   {
    "duration": 24,
    "start_time": "2022-05-04T09:20:33.280Z"
   },
   {
    "duration": 24,
    "start_time": "2022-05-04T09:20:48.345Z"
   },
   {
    "duration": 120,
    "start_time": "2022-05-04T09:26:14.706Z"
   },
   {
    "duration": 25,
    "start_time": "2022-05-04T09:26:42.666Z"
   },
   {
    "duration": 19,
    "start_time": "2022-05-04T09:29:33.116Z"
   },
   {
    "duration": 1975,
    "start_time": "2022-05-04T09:30:14.339Z"
   },
   {
    "duration": 2496,
    "start_time": "2022-05-04T09:30:43.347Z"
   },
   {
    "duration": 1811,
    "start_time": "2022-05-04T09:37:26.597Z"
   },
   {
    "duration": 5,
    "start_time": "2022-05-04T09:37:42.500Z"
   },
   {
    "duration": 102,
    "start_time": "2022-05-04T09:37:53.092Z"
   },
   {
    "duration": 5,
    "start_time": "2022-05-04T09:37:57.404Z"
   },
   {
    "duration": 1274,
    "start_time": "2022-05-04T09:38:15.685Z"
   },
   {
    "duration": 111,
    "start_time": "2022-05-04T09:38:21.413Z"
   },
   {
    "duration": 1262,
    "start_time": "2022-05-04T09:38:25.500Z"
   },
   {
    "duration": 13,
    "start_time": "2022-05-04T09:38:58.509Z"
   },
   {
    "duration": 14,
    "start_time": "2022-05-04T09:39:08.125Z"
   },
   {
    "duration": 1346,
    "start_time": "2022-05-04T09:39:31.142Z"
   },
   {
    "duration": 2082,
    "start_time": "2022-05-04T09:40:21.317Z"
   },
   {
    "duration": 4,
    "start_time": "2022-05-04T09:40:42.429Z"
   },
   {
    "duration": 6,
    "start_time": "2022-05-04T09:40:51.565Z"
   },
   {
    "duration": 2013,
    "start_time": "2022-05-04T09:41:18.637Z"
   },
   {
    "duration": 1797,
    "start_time": "2022-05-04T09:41:40.269Z"
   },
   {
    "duration": 1568,
    "start_time": "2022-05-04T09:41:48.895Z"
   },
   {
    "duration": 1682,
    "start_time": "2022-05-04T09:42:39.000Z"
   },
   {
    "duration": 1525,
    "start_time": "2022-05-04T09:42:54.077Z"
   },
   {
    "duration": 885,
    "start_time": "2022-05-04T09:48:22.418Z"
   },
   {
    "duration": 128,
    "start_time": "2022-05-04T09:48:23.305Z"
   },
   {
    "duration": 28,
    "start_time": "2022-05-04T09:48:23.435Z"
   },
   {
    "duration": 23,
    "start_time": "2022-05-04T09:48:23.466Z"
   },
   {
    "duration": 35,
    "start_time": "2022-05-04T09:48:23.492Z"
   },
   {
    "duration": 17,
    "start_time": "2022-05-04T09:48:23.531Z"
   },
   {
    "duration": 17,
    "start_time": "2022-05-04T09:48:23.551Z"
   },
   {
    "duration": 77,
    "start_time": "2022-05-04T09:48:23.570Z"
   },
   {
    "duration": 20,
    "start_time": "2022-05-04T09:48:23.650Z"
   },
   {
    "duration": 19,
    "start_time": "2022-05-04T09:48:23.676Z"
   },
   {
    "duration": 13,
    "start_time": "2022-05-04T09:48:23.726Z"
   },
   {
    "duration": 8,
    "start_time": "2022-05-04T09:48:23.742Z"
   },
   {
    "duration": 23,
    "start_time": "2022-05-04T09:48:23.752Z"
   },
   {
    "duration": 77,
    "start_time": "2022-05-04T09:48:23.777Z"
   },
   {
    "duration": 28,
    "start_time": "2022-05-04T09:48:23.856Z"
   },
   {
    "duration": 5,
    "start_time": "2022-05-04T09:48:23.887Z"
   },
   {
    "duration": 5175,
    "start_time": "2022-05-04T09:48:23.894Z"
   },
   {
    "duration": 22,
    "start_time": "2022-05-04T09:48:29.071Z"
   },
   {
    "duration": 53,
    "start_time": "2022-05-04T09:48:29.095Z"
   },
   {
    "duration": 100,
    "start_time": "2022-05-04T09:48:29.151Z"
   },
   {
    "duration": 29,
    "start_time": "2022-05-04T09:48:29.253Z"
   },
   {
    "duration": 54,
    "start_time": "2022-05-04T09:48:29.285Z"
   },
   {
    "duration": 19,
    "start_time": "2022-05-04T09:48:29.342Z"
   },
   {
    "duration": 32,
    "start_time": "2022-05-04T09:48:29.363Z"
   },
   {
    "duration": 50,
    "start_time": "2022-05-04T09:48:29.397Z"
   },
   {
    "duration": 21,
    "start_time": "2022-05-04T09:48:29.449Z"
   },
   {
    "duration": 26,
    "start_time": "2022-05-04T09:48:29.473Z"
   },
   {
    "duration": 24,
    "start_time": "2022-05-04T09:48:29.528Z"
   },
   {
    "duration": 22,
    "start_time": "2022-05-04T09:48:29.554Z"
   },
   {
    "duration": 4,
    "start_time": "2022-05-04T09:48:29.578Z"
   },
   {
    "duration": 57,
    "start_time": "2022-05-04T09:48:29.584Z"
   },
   {
    "duration": 12,
    "start_time": "2022-05-04T09:48:29.643Z"
   },
   {
    "duration": 13,
    "start_time": "2022-05-04T09:48:29.657Z"
   },
   {
    "duration": 8,
    "start_time": "2022-05-04T09:48:29.673Z"
   },
   {
    "duration": 64,
    "start_time": "2022-05-04T09:48:29.683Z"
   },
   {
    "duration": 23,
    "start_time": "2022-05-04T09:48:29.749Z"
   },
   {
    "duration": 6,
    "start_time": "2022-05-04T09:48:29.774Z"
   },
   {
    "duration": 57,
    "start_time": "2022-05-04T09:48:29.783Z"
   },
   {
    "duration": 7,
    "start_time": "2022-05-04T09:48:29.842Z"
   },
   {
    "duration": 24,
    "start_time": "2022-05-04T09:48:29.851Z"
   },
   {
    "duration": 6,
    "start_time": "2022-05-04T09:48:29.877Z"
   },
   {
    "duration": 41,
    "start_time": "2022-05-04T09:48:29.885Z"
   },
   {
    "duration": 32,
    "start_time": "2022-05-04T09:48:29.929Z"
   },
   {
    "duration": 35,
    "start_time": "2022-05-04T09:48:29.963Z"
   },
   {
    "duration": 47,
    "start_time": "2022-05-04T09:48:30.001Z"
   },
   {
    "duration": 30,
    "start_time": "2022-05-04T09:48:30.050Z"
   },
   {
    "duration": 53,
    "start_time": "2022-05-04T09:48:30.082Z"
   },
   {
    "duration": 24,
    "start_time": "2022-05-04T09:48:30.138Z"
   },
   {
    "duration": 25,
    "start_time": "2022-05-04T09:48:30.165Z"
   },
   {
    "duration": 53,
    "start_time": "2022-05-04T09:48:30.192Z"
   },
   {
    "duration": 24,
    "start_time": "2022-05-04T09:48:30.248Z"
   },
   {
    "duration": 864,
    "start_time": "2022-05-04T09:48:54.738Z"
   },
   {
    "duration": 120,
    "start_time": "2022-05-04T09:48:55.604Z"
   },
   {
    "duration": 31,
    "start_time": "2022-05-04T09:48:55.726Z"
   },
   {
    "duration": 25,
    "start_time": "2022-05-04T09:48:55.761Z"
   },
   {
    "duration": 45,
    "start_time": "2022-05-04T09:48:55.789Z"
   },
   {
    "duration": 15,
    "start_time": "2022-05-04T09:48:55.837Z"
   },
   {
    "duration": 14,
    "start_time": "2022-05-04T09:48:55.855Z"
   },
   {
    "duration": 84,
    "start_time": "2022-05-04T09:48:55.871Z"
   },
   {
    "duration": 22,
    "start_time": "2022-05-04T09:48:55.958Z"
   },
   {
    "duration": 43,
    "start_time": "2022-05-04T09:48:55.984Z"
   },
   {
    "duration": 17,
    "start_time": "2022-05-04T09:48:56.029Z"
   },
   {
    "duration": 9,
    "start_time": "2022-05-04T09:48:56.048Z"
   },
   {
    "duration": 24,
    "start_time": "2022-05-04T09:48:56.059Z"
   },
   {
    "duration": 84,
    "start_time": "2022-05-04T09:48:56.085Z"
   },
   {
    "duration": 29,
    "start_time": "2022-05-04T09:48:56.171Z"
   },
   {
    "duration": 25,
    "start_time": "2022-05-04T09:48:56.202Z"
   },
   {
    "duration": 5239,
    "start_time": "2022-05-04T09:48:56.229Z"
   },
   {
    "duration": 23,
    "start_time": "2022-05-04T09:49:01.471Z"
   },
   {
    "duration": 94,
    "start_time": "2022-05-04T09:49:01.497Z"
   },
   {
    "duration": 89,
    "start_time": "2022-05-04T09:49:01.593Z"
   },
   {
    "duration": 41,
    "start_time": "2022-05-04T09:49:01.684Z"
   },
   {
    "duration": 45,
    "start_time": "2022-05-04T09:49:01.728Z"
   },
   {
    "duration": 22,
    "start_time": "2022-05-04T09:49:01.775Z"
   },
   {
    "duration": 30,
    "start_time": "2022-05-04T09:49:01.799Z"
   },
   {
    "duration": 28,
    "start_time": "2022-05-04T09:49:01.831Z"
   },
   {
    "duration": 365,
    "start_time": "2022-05-04T09:49:01.861Z"
   },
   {
    "duration": 32,
    "start_time": "2022-05-04T09:49:02.228Z"
   },
   {
    "duration": 41,
    "start_time": "2022-05-04T09:49:02.266Z"
   },
   {
    "duration": 27,
    "start_time": "2022-05-04T09:49:02.309Z"
   },
   {
    "duration": 39,
    "start_time": "2022-05-04T09:49:02.338Z"
   },
   {
    "duration": 31,
    "start_time": "2022-05-04T09:49:02.379Z"
   },
   {
    "duration": 5,
    "start_time": "2022-05-04T09:49:02.413Z"
   },
   {
    "duration": 46,
    "start_time": "2022-05-04T09:49:02.420Z"
   },
   {
    "duration": 12,
    "start_time": "2022-05-04T09:49:02.469Z"
   },
   {
    "duration": 89,
    "start_time": "2022-05-04T09:49:02.484Z"
   },
   {
    "duration": 103,
    "start_time": "2022-05-04T09:49:02.575Z"
   },
   {
    "duration": 24,
    "start_time": "2022-05-04T09:49:02.680Z"
   },
   {
    "duration": 53,
    "start_time": "2022-05-04T09:49:02.706Z"
   },
   {
    "duration": 7,
    "start_time": "2022-05-04T09:49:02.761Z"
   },
   {
    "duration": 35,
    "start_time": "2022-05-04T09:49:02.770Z"
   },
   {
    "duration": 13,
    "start_time": "2022-05-04T09:49:02.807Z"
   },
   {
    "duration": 17,
    "start_time": "2022-05-04T09:49:02.822Z"
   },
   {
    "duration": 32,
    "start_time": "2022-05-04T09:49:02.841Z"
   },
   {
    "duration": 35,
    "start_time": "2022-05-04T09:49:02.875Z"
   },
   {
    "duration": 27,
    "start_time": "2022-05-04T09:49:02.925Z"
   },
   {
    "duration": 39,
    "start_time": "2022-05-04T09:49:02.954Z"
   },
   {
    "duration": 46,
    "start_time": "2022-05-04T09:49:02.995Z"
   },
   {
    "duration": 29,
    "start_time": "2022-05-04T09:49:03.044Z"
   },
   {
    "duration": 24,
    "start_time": "2022-05-04T09:49:03.075Z"
   },
   {
    "duration": 34,
    "start_time": "2022-05-04T09:49:03.124Z"
   },
   {
    "duration": 30,
    "start_time": "2022-05-04T09:49:03.161Z"
   },
   {
    "duration": 94090,
    "start_time": "2022-05-04T09:49:03.193Z"
   },
   {
    "duration": 1871,
    "start_time": "2022-05-04T09:50:37.285Z"
   },
   {
    "duration": 0,
    "start_time": "2022-05-04T09:50:39.158Z"
   },
   {
    "duration": 2146373,
    "start_time": "2022-05-04T10:27:45.985Z"
   },
   {
    "duration": 105822,
    "start_time": "2022-05-04T11:16:10.375Z"
   },
   {
    "duration": 13,
    "start_time": "2022-05-04T11:20:23.873Z"
   },
   {
    "duration": 46,
    "start_time": "2022-05-04T11:20:38.464Z"
   },
   {
    "duration": 2609,
    "start_time": "2022-05-04T11:33:32.693Z"
   },
   {
    "duration": 2132,
    "start_time": "2022-05-04T11:39:24.050Z"
   },
   {
    "duration": 2130,
    "start_time": "2022-05-04T11:39:28.533Z"
   },
   {
    "duration": 2592,
    "start_time": "2022-05-04T11:39:46.422Z"
   },
   {
    "duration": 44,
    "start_time": "2022-05-04T11:40:33.663Z"
   },
   {
    "duration": 2026,
    "start_time": "2022-05-04T11:40:37.454Z"
   },
   {
    "duration": 5,
    "start_time": "2022-05-04T11:51:04.695Z"
   },
   {
    "duration": 5,
    "start_time": "2022-05-04T11:51:23.960Z"
   },
   {
    "duration": 6,
    "start_time": "2022-05-04T11:51:48.296Z"
   },
   {
    "duration": 5,
    "start_time": "2022-05-04T11:52:58.139Z"
   },
   {
    "duration": 1828,
    "start_time": "2022-05-04T11:53:10.224Z"
   },
   {
    "duration": 6,
    "start_time": "2022-05-04T11:53:21.656Z"
   },
   {
    "duration": 60,
    "start_time": "2022-05-04T11:53:39.943Z"
   },
   {
    "duration": 2330,
    "start_time": "2022-05-04T11:55:05.806Z"
   },
   {
    "duration": 1773,
    "start_time": "2022-05-04T11:55:17.616Z"
   },
   {
    "duration": 1038,
    "start_time": "2022-05-04T11:55:32.270Z"
   },
   {
    "duration": 196,
    "start_time": "2022-05-04T11:55:33.312Z"
   },
   {
    "duration": 35,
    "start_time": "2022-05-04T11:55:33.511Z"
   },
   {
    "duration": 22,
    "start_time": "2022-05-04T11:55:33.549Z"
   },
   {
    "duration": 11,
    "start_time": "2022-05-04T11:55:33.573Z"
   },
   {
    "duration": 54,
    "start_time": "2022-05-04T11:55:33.586Z"
   },
   {
    "duration": 17,
    "start_time": "2022-05-04T11:55:33.644Z"
   },
   {
    "duration": 88,
    "start_time": "2022-05-04T11:55:33.664Z"
   },
   {
    "duration": 22,
    "start_time": "2022-05-04T11:55:33.755Z"
   },
   {
    "duration": 17,
    "start_time": "2022-05-04T11:55:33.780Z"
   },
   {
    "duration": 34,
    "start_time": "2022-05-04T11:55:33.799Z"
   },
   {
    "duration": 12,
    "start_time": "2022-05-04T11:55:33.835Z"
   },
   {
    "duration": 21,
    "start_time": "2022-05-04T11:55:33.849Z"
   },
   {
    "duration": 91,
    "start_time": "2022-05-04T11:55:33.872Z"
   },
   {
    "duration": 29,
    "start_time": "2022-05-04T11:55:33.965Z"
   },
   {
    "duration": 29,
    "start_time": "2022-05-04T11:55:33.996Z"
   },
   {
    "duration": 6230,
    "start_time": "2022-05-04T11:55:34.027Z"
   },
   {
    "duration": 33,
    "start_time": "2022-05-04T11:55:40.260Z"
   },
   {
    "duration": 61,
    "start_time": "2022-05-04T11:55:40.296Z"
   },
   {
    "duration": 172,
    "start_time": "2022-05-04T11:55:40.359Z"
   },
   {
    "duration": 32,
    "start_time": "2022-05-04T11:55:40.533Z"
   },
   {
    "duration": 32,
    "start_time": "2022-05-04T11:55:40.568Z"
   },
   {
    "duration": 45,
    "start_time": "2022-05-04T11:55:40.602Z"
   },
   {
    "duration": 12,
    "start_time": "2022-05-04T11:55:40.649Z"
   },
   {
    "duration": 30,
    "start_time": "2022-05-04T11:55:40.663Z"
   },
   {
    "duration": 54,
    "start_time": "2022-05-04T11:55:40.695Z"
   },
   {
    "duration": 38,
    "start_time": "2022-05-04T11:55:40.751Z"
   },
   {
    "duration": 57,
    "start_time": "2022-05-04T11:55:40.797Z"
   },
   {
    "duration": 30,
    "start_time": "2022-05-04T11:55:40.857Z"
   },
   {
    "duration": 4,
    "start_time": "2022-05-04T11:55:40.890Z"
   },
   {
    "duration": 55,
    "start_time": "2022-05-04T11:55:40.896Z"
   },
   {
    "duration": 7,
    "start_time": "2022-05-04T11:55:40.954Z"
   },
   {
    "duration": 20,
    "start_time": "2022-05-04T11:55:40.963Z"
   },
   {
    "duration": 12,
    "start_time": "2022-05-04T11:55:40.985Z"
   },
   {
    "duration": 85,
    "start_time": "2022-05-04T11:55:41.000Z"
   },
   {
    "duration": 40,
    "start_time": "2022-05-04T11:55:41.087Z"
   },
   {
    "duration": 16,
    "start_time": "2022-05-04T11:55:41.132Z"
   },
   {
    "duration": 55,
    "start_time": "2022-05-04T11:55:41.150Z"
   },
   {
    "duration": 8,
    "start_time": "2022-05-04T11:55:41.207Z"
   },
   {
    "duration": 44,
    "start_time": "2022-05-04T11:55:41.218Z"
   },
   {
    "duration": 23,
    "start_time": "2022-05-04T11:55:41.265Z"
   },
   {
    "duration": 19,
    "start_time": "2022-05-04T11:55:41.290Z"
   },
   {
    "duration": 62,
    "start_time": "2022-05-04T11:55:41.312Z"
   },
   {
    "duration": 52,
    "start_time": "2022-05-04T11:55:41.377Z"
   },
   {
    "duration": 29,
    "start_time": "2022-05-04T11:55:41.431Z"
   },
   {
    "duration": 31,
    "start_time": "2022-05-04T11:55:41.462Z"
   },
   {
    "duration": 47,
    "start_time": "2022-05-04T11:55:41.495Z"
   },
   {
    "duration": 25,
    "start_time": "2022-05-04T11:55:41.545Z"
   },
   {
    "duration": 59,
    "start_time": "2022-05-04T11:55:41.573Z"
   },
   {
    "duration": 24,
    "start_time": "2022-05-04T11:55:41.636Z"
   },
   {
    "duration": 30,
    "start_time": "2022-05-04T11:55:41.663Z"
   },
   {
    "duration": 105153,
    "start_time": "2022-05-04T11:55:41.696Z"
   },
   {
    "duration": 2517,
    "start_time": "2022-05-04T11:57:26.851Z"
   },
   {
    "duration": 0,
    "start_time": "2022-05-04T11:57:29.371Z"
   },
   {
    "duration": 0,
    "start_time": "2022-05-04T11:57:29.373Z"
   },
   {
    "duration": 0,
    "start_time": "2022-05-04T11:57:29.376Z"
   },
   {
    "duration": 0,
    "start_time": "2022-05-04T11:57:29.378Z"
   },
   {
    "duration": 10,
    "start_time": "2022-05-04T12:05:58.210Z"
   },
   {
    "duration": 15,
    "start_time": "2022-05-04T12:06:04.274Z"
   },
   {
    "duration": 19,
    "start_time": "2022-05-04T12:06:38.772Z"
   },
   {
    "duration": 23,
    "start_time": "2022-05-04T12:07:05.977Z"
   },
   {
    "duration": 25,
    "start_time": "2022-05-04T12:07:57.474Z"
   },
   {
    "duration": 30,
    "start_time": "2022-05-04T12:08:15.282Z"
   },
   {
    "duration": 21,
    "start_time": "2022-05-04T12:08:34.202Z"
   },
   {
    "duration": 24,
    "start_time": "2022-05-04T12:09:52.441Z"
   },
   {
    "duration": 18,
    "start_time": "2022-05-04T12:10:10.702Z"
   },
   {
    "duration": 19,
    "start_time": "2022-05-04T12:10:22.581Z"
   },
   {
    "duration": 24,
    "start_time": "2022-05-04T12:12:08.959Z"
   },
   {
    "duration": 37,
    "start_time": "2022-05-04T12:12:14.693Z"
   },
   {
    "duration": 62,
    "start_time": "2022-05-04T12:13:19.183Z"
   },
   {
    "duration": 31,
    "start_time": "2022-05-04T12:13:55.168Z"
   },
   {
    "duration": 33,
    "start_time": "2022-05-04T13:01:35.095Z"
   },
   {
    "duration": 11,
    "start_time": "2022-05-04T13:03:33.503Z"
   },
   {
    "duration": 15,
    "start_time": "2022-05-04T13:03:57.719Z"
   },
   {
    "duration": 11,
    "start_time": "2022-05-04T13:04:13.175Z"
   },
   {
    "duration": 11,
    "start_time": "2022-05-04T13:04:18.391Z"
   },
   {
    "duration": 44,
    "start_time": "2022-05-04T13:06:56.978Z"
   },
   {
    "duration": 16,
    "start_time": "2022-05-04T13:07:31.872Z"
   },
   {
    "duration": 1671,
    "start_time": "2022-05-04T13:07:52.256Z"
   },
   {
    "duration": 32,
    "start_time": "2022-05-04T13:17:56.642Z"
   },
   {
    "duration": 112,
    "start_time": "2022-05-04T13:21:18.419Z"
   },
   {
    "duration": 37,
    "start_time": "2022-05-04T13:21:29.514Z"
   },
   {
    "duration": 35,
    "start_time": "2022-05-04T13:21:43.146Z"
   },
   {
    "duration": 34,
    "start_time": "2022-05-04T13:22:04.013Z"
   },
   {
    "duration": 845,
    "start_time": "2022-05-04T13:22:26.537Z"
   },
   {
    "duration": 107,
    "start_time": "2022-05-04T13:22:27.385Z"
   },
   {
    "duration": 36,
    "start_time": "2022-05-04T13:22:27.494Z"
   },
   {
    "duration": 21,
    "start_time": "2022-05-04T13:22:27.533Z"
   },
   {
    "duration": 10,
    "start_time": "2022-05-04T13:22:27.556Z"
   },
   {
    "duration": 15,
    "start_time": "2022-05-04T13:22:27.569Z"
   },
   {
    "duration": 45,
    "start_time": "2022-05-04T13:22:27.586Z"
   },
   {
    "duration": 48,
    "start_time": "2022-05-04T13:22:27.634Z"
   },
   {
    "duration": 40,
    "start_time": "2022-05-04T13:22:27.684Z"
   },
   {
    "duration": 18,
    "start_time": "2022-05-04T13:22:27.729Z"
   },
   {
    "duration": 20,
    "start_time": "2022-05-04T13:22:27.749Z"
   },
   {
    "duration": 11,
    "start_time": "2022-05-04T13:22:27.771Z"
   },
   {
    "duration": 44,
    "start_time": "2022-05-04T13:22:27.784Z"
   },
   {
    "duration": 58,
    "start_time": "2022-05-04T13:22:27.829Z"
   },
   {
    "duration": 52,
    "start_time": "2022-05-04T13:22:27.889Z"
   },
   {
    "duration": 5,
    "start_time": "2022-05-04T13:22:27.943Z"
   },
   {
    "duration": 5150,
    "start_time": "2022-05-04T13:22:27.950Z"
   },
   {
    "duration": 32,
    "start_time": "2022-05-04T13:22:33.102Z"
   },
   {
    "duration": 32,
    "start_time": "2022-05-04T13:22:33.137Z"
   },
   {
    "duration": 118,
    "start_time": "2022-05-04T13:22:33.171Z"
   },
   {
    "duration": 46,
    "start_time": "2022-05-04T13:22:33.291Z"
   },
   {
    "duration": 34,
    "start_time": "2022-05-04T13:22:33.339Z"
   },
   {
    "duration": 21,
    "start_time": "2022-05-04T13:22:33.375Z"
   },
   {
    "duration": 37,
    "start_time": "2022-05-04T13:22:33.398Z"
   },
   {
    "duration": 52,
    "start_time": "2022-05-04T13:22:33.438Z"
   },
   {
    "duration": 47,
    "start_time": "2022-05-04T13:22:33.493Z"
   },
   {
    "duration": 27,
    "start_time": "2022-05-04T13:22:33.542Z"
   },
   {
    "duration": 49,
    "start_time": "2022-05-04T13:22:33.578Z"
   },
   {
    "duration": 34,
    "start_time": "2022-05-04T13:22:33.629Z"
   },
   {
    "duration": 5,
    "start_time": "2022-05-04T13:22:33.665Z"
   },
   {
    "duration": 29,
    "start_time": "2022-05-04T13:22:33.672Z"
   },
   {
    "duration": 5,
    "start_time": "2022-05-04T13:22:33.725Z"
   },
   {
    "duration": 19,
    "start_time": "2022-05-04T13:22:33.732Z"
   },
   {
    "duration": 12,
    "start_time": "2022-05-04T13:22:33.754Z"
   },
   {
    "duration": 62,
    "start_time": "2022-05-04T13:22:33.769Z"
   },
   {
    "duration": 25,
    "start_time": "2022-05-04T13:22:33.834Z"
   },
   {
    "duration": 5,
    "start_time": "2022-05-04T13:22:33.863Z"
   },
   {
    "duration": 57,
    "start_time": "2022-05-04T13:22:33.870Z"
   },
   {
    "duration": 7,
    "start_time": "2022-05-04T13:22:33.929Z"
   },
   {
    "duration": 23,
    "start_time": "2022-05-04T13:22:33.937Z"
   },
   {
    "duration": 6,
    "start_time": "2022-05-04T13:22:33.962Z"
   },
   {
    "duration": 12,
    "start_time": "2022-05-04T13:22:33.970Z"
   },
   {
    "duration": 68,
    "start_time": "2022-05-04T13:22:33.984Z"
   },
   {
    "duration": 41,
    "start_time": "2022-05-04T13:22:34.055Z"
   },
   {
    "duration": 46,
    "start_time": "2022-05-04T13:22:34.098Z"
   },
   {
    "duration": 32,
    "start_time": "2022-05-04T13:22:34.146Z"
   },
   {
    "duration": 6,
    "start_time": "2022-05-04T13:31:09.791Z"
   },
   {
    "duration": 20,
    "start_time": "2022-05-04T13:31:10.304Z"
   },
   {
    "duration": 61,
    "start_time": "2022-05-04T13:31:53.479Z"
   },
   {
    "duration": 8,
    "start_time": "2022-05-04T13:32:03.392Z"
   },
   {
    "duration": 61,
    "start_time": "2022-05-04T13:32:04.527Z"
   },
   {
    "duration": 17,
    "start_time": "2022-05-04T13:32:11.497Z"
   },
   {
    "duration": 61,
    "start_time": "2022-05-04T13:32:32.448Z"
   },
   {
    "duration": 16,
    "start_time": "2022-05-04T13:33:38.761Z"
   },
   {
    "duration": 15,
    "start_time": "2022-05-04T13:33:42.586Z"
   },
   {
    "duration": 63,
    "start_time": "2022-05-04T13:34:43.216Z"
   },
   {
    "duration": 959,
    "start_time": "2022-05-04T13:35:05.845Z"
   },
   {
    "duration": 116,
    "start_time": "2022-05-04T13:35:06.808Z"
   },
   {
    "duration": 31,
    "start_time": "2022-05-04T13:35:06.926Z"
   },
   {
    "duration": 23,
    "start_time": "2022-05-04T13:35:06.959Z"
   },
   {
    "duration": 39,
    "start_time": "2022-05-04T13:35:06.985Z"
   },
   {
    "duration": 16,
    "start_time": "2022-05-04T13:35:07.027Z"
   },
   {
    "duration": 21,
    "start_time": "2022-05-04T13:35:07.045Z"
   },
   {
    "duration": 74,
    "start_time": "2022-05-04T13:35:07.069Z"
   },
   {
    "duration": 22,
    "start_time": "2022-05-04T13:35:07.146Z"
   },
   {
    "duration": 18,
    "start_time": "2022-05-04T13:35:07.172Z"
   },
   {
    "duration": 39,
    "start_time": "2022-05-04T13:35:07.192Z"
   },
   {
    "duration": 13,
    "start_time": "2022-05-04T13:35:07.233Z"
   },
   {
    "duration": 25,
    "start_time": "2022-05-04T13:35:07.249Z"
   },
   {
    "duration": 86,
    "start_time": "2022-05-04T13:35:07.276Z"
   },
   {
    "duration": 27,
    "start_time": "2022-05-04T13:35:07.364Z"
   },
   {
    "duration": 5,
    "start_time": "2022-05-04T13:35:07.393Z"
   },
   {
    "duration": 5097,
    "start_time": "2022-05-04T13:35:07.400Z"
   },
   {
    "duration": 32,
    "start_time": "2022-05-04T13:35:12.500Z"
   },
   {
    "duration": 27,
    "start_time": "2022-05-04T13:35:12.534Z"
   },
   {
    "duration": 109,
    "start_time": "2022-05-04T13:35:12.563Z"
   },
   {
    "duration": 26,
    "start_time": "2022-05-04T13:35:12.674Z"
   },
   {
    "duration": 48,
    "start_time": "2022-05-04T13:35:12.702Z"
   },
   {
    "duration": 19,
    "start_time": "2022-05-04T13:35:12.752Z"
   },
   {
    "duration": 21,
    "start_time": "2022-05-04T13:35:12.773Z"
   },
   {
    "duration": 26,
    "start_time": "2022-05-04T13:35:12.825Z"
   },
   {
    "duration": 22,
    "start_time": "2022-05-04T13:35:12.854Z"
   },
   {
    "duration": 55,
    "start_time": "2022-05-04T13:35:12.879Z"
   },
   {
    "duration": 44,
    "start_time": "2022-05-04T13:35:12.942Z"
   },
   {
    "duration": 36,
    "start_time": "2022-05-04T13:35:12.989Z"
   },
   {
    "duration": 9,
    "start_time": "2022-05-04T13:35:13.028Z"
   },
   {
    "duration": 26,
    "start_time": "2022-05-04T13:35:13.039Z"
   },
   {
    "duration": 7,
    "start_time": "2022-05-04T13:35:13.068Z"
   },
   {
    "duration": 13,
    "start_time": "2022-05-04T13:35:13.078Z"
   },
   {
    "duration": 5,
    "start_time": "2022-05-04T13:35:13.125Z"
   },
   {
    "duration": 42,
    "start_time": "2022-05-04T13:35:13.133Z"
   },
   {
    "duration": 53,
    "start_time": "2022-05-04T13:35:13.178Z"
   },
   {
    "duration": 7,
    "start_time": "2022-05-04T13:35:13.233Z"
   },
   {
    "duration": 27,
    "start_time": "2022-05-04T13:35:13.242Z"
   },
   {
    "duration": 8,
    "start_time": "2022-05-04T13:35:13.272Z"
   },
   {
    "duration": 59,
    "start_time": "2022-05-04T13:35:13.283Z"
   },
   {
    "duration": 17,
    "start_time": "2022-05-04T13:35:13.345Z"
   },
   {
    "duration": 6,
    "start_time": "2022-05-04T13:35:13.364Z"
   },
   {
    "duration": 8,
    "start_time": "2022-05-04T13:35:13.372Z"
   },
   {
    "duration": 61,
    "start_time": "2022-05-04T13:35:13.382Z"
   },
   {
    "duration": 33,
    "start_time": "2022-05-04T13:35:13.446Z"
   },
   {
    "duration": 45,
    "start_time": "2022-05-04T13:35:13.481Z"
   },
   {
    "duration": 32,
    "start_time": "2022-05-04T13:35:13.528Z"
   },
   {
    "duration": 11,
    "start_time": "2022-05-04T13:36:40.171Z"
   },
   {
    "duration": 9,
    "start_time": "2022-05-04T13:36:51.122Z"
   },
   {
    "duration": 224,
    "start_time": "2022-05-04T13:54:10.301Z"
   },
   {
    "duration": 358,
    "start_time": "2022-05-04T13:54:49.959Z"
   },
   {
    "duration": 210,
    "start_time": "2022-05-04T13:55:01.591Z"
   },
   {
    "duration": 6,
    "start_time": "2022-05-04T13:55:18.896Z"
   },
   {
    "duration": 24,
    "start_time": "2022-05-04T13:55:25.742Z"
   },
   {
    "duration": 213,
    "start_time": "2022-05-04T13:55:26.550Z"
   },
   {
    "duration": 219,
    "start_time": "2022-05-04T13:55:34.871Z"
   },
   {
    "duration": 241,
    "start_time": "2022-05-04T13:58:28.120Z"
   },
   {
    "duration": 44,
    "start_time": "2022-05-04T14:52:23.164Z"
   },
   {
    "duration": 42,
    "start_time": "2022-05-04T14:52:33.573Z"
   },
   {
    "duration": 69,
    "start_time": "2022-05-04T14:53:02.096Z"
   },
   {
    "duration": 15,
    "start_time": "2022-05-04T14:53:36.046Z"
   },
   {
    "duration": 43,
    "start_time": "2022-05-04T14:54:10.236Z"
   },
   {
    "duration": 61,
    "start_time": "2022-05-04T14:54:40.326Z"
   },
   {
    "duration": 42,
    "start_time": "2022-05-04T14:55:00.254Z"
   },
   {
    "duration": 42,
    "start_time": "2022-05-04T14:55:09.959Z"
   },
   {
    "duration": 8,
    "start_time": "2022-05-04T14:56:23.445Z"
   },
   {
    "duration": 8,
    "start_time": "2022-05-04T14:56:37.156Z"
   },
   {
    "duration": 23,
    "start_time": "2022-05-04T14:56:55.604Z"
   },
   {
    "duration": 872,
    "start_time": "2022-05-04T14:57:43.923Z"
   },
   {
    "duration": 116,
    "start_time": "2022-05-04T14:57:44.798Z"
   },
   {
    "duration": 28,
    "start_time": "2022-05-04T14:57:44.916Z"
   },
   {
    "duration": 23,
    "start_time": "2022-05-04T14:57:44.948Z"
   },
   {
    "duration": 10,
    "start_time": "2022-05-04T14:57:44.973Z"
   },
   {
    "duration": 44,
    "start_time": "2022-05-04T14:57:44.986Z"
   },
   {
    "duration": 26,
    "start_time": "2022-05-04T14:57:45.033Z"
   },
   {
    "duration": 49,
    "start_time": "2022-05-04T14:57:45.062Z"
   },
   {
    "duration": 31,
    "start_time": "2022-05-04T14:57:45.113Z"
   },
   {
    "duration": 18,
    "start_time": "2022-05-04T14:57:45.148Z"
   },
   {
    "duration": 18,
    "start_time": "2022-05-04T14:57:45.168Z"
   },
   {
    "duration": 9,
    "start_time": "2022-05-04T14:57:45.188Z"
   },
   {
    "duration": 22,
    "start_time": "2022-05-04T14:57:45.225Z"
   },
   {
    "duration": 81,
    "start_time": "2022-05-04T14:57:45.249Z"
   },
   {
    "duration": 31,
    "start_time": "2022-05-04T14:57:45.332Z"
   },
   {
    "duration": 5,
    "start_time": "2022-05-04T14:57:45.365Z"
   },
   {
    "duration": 5384,
    "start_time": "2022-05-04T14:57:45.373Z"
   },
   {
    "duration": 20,
    "start_time": "2022-05-04T14:57:50.759Z"
   },
   {
    "duration": 47,
    "start_time": "2022-05-04T14:57:50.782Z"
   },
   {
    "duration": 103,
    "start_time": "2022-05-04T14:57:50.831Z"
   },
   {
    "duration": 31,
    "start_time": "2022-05-04T14:57:50.937Z"
   },
   {
    "duration": 56,
    "start_time": "2022-05-04T14:57:50.970Z"
   },
   {
    "duration": 18,
    "start_time": "2022-05-04T14:57:51.028Z"
   },
   {
    "duration": 17,
    "start_time": "2022-05-04T14:57:51.048Z"
   },
   {
    "duration": 29,
    "start_time": "2022-05-04T14:57:51.067Z"
   },
   {
    "duration": 20,
    "start_time": "2022-05-04T14:57:51.125Z"
   },
   {
    "duration": 25,
    "start_time": "2022-05-04T14:57:51.147Z"
   },
   {
    "duration": 51,
    "start_time": "2022-05-04T14:57:51.177Z"
   },
   {
    "duration": 28,
    "start_time": "2022-05-04T14:57:51.230Z"
   },
   {
    "duration": 9,
    "start_time": "2022-05-04T14:57:51.260Z"
   },
   {
    "duration": 28,
    "start_time": "2022-05-04T14:57:51.271Z"
   },
   {
    "duration": 26,
    "start_time": "2022-05-04T14:57:51.301Z"
   },
   {
    "duration": 18,
    "start_time": "2022-05-04T14:57:51.329Z"
   },
   {
    "duration": 4,
    "start_time": "2022-05-04T14:57:51.349Z"
   },
   {
    "duration": 44,
    "start_time": "2022-05-04T14:57:51.355Z"
   },
   {
    "duration": 24,
    "start_time": "2022-05-04T14:57:51.424Z"
   },
   {
    "duration": 5,
    "start_time": "2022-05-04T14:57:51.451Z"
   },
   {
    "duration": 28,
    "start_time": "2022-05-04T14:57:51.458Z"
   },
   {
    "duration": 50,
    "start_time": "2022-05-04T14:57:51.488Z"
   },
   {
    "duration": 11,
    "start_time": "2022-05-04T14:57:51.541Z"
   },
   {
    "duration": 18,
    "start_time": "2022-05-04T14:57:51.554Z"
   },
   {
    "duration": 280,
    "start_time": "2022-05-04T14:57:51.574Z"
   },
   {
    "duration": 35,
    "start_time": "2022-05-04T14:57:51.856Z"
   },
   {
    "duration": 47,
    "start_time": "2022-05-04T14:57:51.893Z"
   },
   {
    "duration": 33,
    "start_time": "2022-05-04T14:57:51.943Z"
   },
   {
    "duration": 221,
    "start_time": "2022-05-04T14:57:51.978Z"
   },
   {
    "duration": 41,
    "start_time": "2022-05-04T14:59:05.376Z"
   },
   {
    "duration": 9,
    "start_time": "2022-05-04T14:59:16.109Z"
   },
   {
    "duration": 10,
    "start_time": "2022-05-04T15:00:18.132Z"
   },
   {
    "duration": 62,
    "start_time": "2022-05-04T15:00:35.276Z"
   },
   {
    "duration": 46,
    "start_time": "2022-05-04T15:01:32.708Z"
   },
   {
    "duration": 63,
    "start_time": "2022-05-04T15:01:47.355Z"
   },
   {
    "duration": 46,
    "start_time": "2022-05-04T15:02:01.196Z"
   },
   {
    "duration": 65,
    "start_time": "2022-05-04T15:02:08.005Z"
   },
   {
    "duration": 17,
    "start_time": "2022-05-04T15:02:51.829Z"
   },
   {
    "duration": 10,
    "start_time": "2022-05-04T15:03:04.598Z"
   },
   {
    "duration": 10,
    "start_time": "2022-05-04T15:03:16.861Z"
   },
   {
    "duration": 11,
    "start_time": "2022-05-04T15:03:23.469Z"
   },
   {
    "duration": 53,
    "start_time": "2022-05-04T15:08:55.928Z"
   },
   {
    "duration": 12,
    "start_time": "2022-05-04T15:09:03.837Z"
   },
   {
    "duration": 14,
    "start_time": "2022-05-04T15:10:28.742Z"
   },
   {
    "duration": 14,
    "start_time": "2022-05-04T15:10:40.047Z"
   },
   {
    "duration": 22,
    "start_time": "2022-05-04T15:10:57.495Z"
   },
   {
    "duration": 15,
    "start_time": "2022-05-04T15:11:43.648Z"
   },
   {
    "duration": 15,
    "start_time": "2022-05-04T15:11:46.822Z"
   },
   {
    "duration": 15,
    "start_time": "2022-05-04T15:11:47.422Z"
   },
   {
    "duration": 16,
    "start_time": "2022-05-04T15:11:47.942Z"
   },
   {
    "duration": 15,
    "start_time": "2022-05-04T15:11:48.454Z"
   },
   {
    "duration": 15,
    "start_time": "2022-05-04T15:11:49.421Z"
   },
   {
    "duration": 48,
    "start_time": "2022-05-04T15:13:15.199Z"
   },
   {
    "duration": 20,
    "start_time": "2022-05-04T15:13:33.321Z"
   },
   {
    "duration": 20,
    "start_time": "2022-05-04T15:14:25.416Z"
   },
   {
    "duration": 22,
    "start_time": "2022-05-04T15:42:14.032Z"
   },
   {
    "duration": 24,
    "start_time": "2022-05-04T15:42:20.990Z"
   },
   {
    "duration": 22,
    "start_time": "2022-05-04T15:51:49.223Z"
   },
   {
    "duration": 70,
    "start_time": "2022-05-04T15:53:28.296Z"
   },
   {
    "duration": 6,
    "start_time": "2022-05-04T15:58:58.984Z"
   },
   {
    "duration": 22,
    "start_time": "2022-05-04T15:59:00.168Z"
   },
   {
    "duration": 65,
    "start_time": "2022-05-04T15:59:03.609Z"
   },
   {
    "duration": 826,
    "start_time": "2022-05-04T15:59:16.358Z"
   },
   {
    "duration": 109,
    "start_time": "2022-05-04T15:59:17.187Z"
   },
   {
    "duration": 28,
    "start_time": "2022-05-04T15:59:17.299Z"
   },
   {
    "duration": 22,
    "start_time": "2022-05-04T15:59:17.331Z"
   },
   {
    "duration": 22,
    "start_time": "2022-05-04T15:59:17.355Z"
   },
   {
    "duration": 20,
    "start_time": "2022-05-04T15:59:17.379Z"
   },
   {
    "duration": 13,
    "start_time": "2022-05-04T15:59:17.425Z"
   },
   {
    "duration": 56,
    "start_time": "2022-05-04T15:59:17.441Z"
   },
   {
    "duration": 38,
    "start_time": "2022-05-04T15:59:17.500Z"
   },
   {
    "duration": 18,
    "start_time": "2022-05-04T15:59:17.543Z"
   },
   {
    "duration": 22,
    "start_time": "2022-05-04T15:59:17.564Z"
   },
   {
    "duration": 8,
    "start_time": "2022-05-04T15:59:17.588Z"
   },
   {
    "duration": 27,
    "start_time": "2022-05-04T15:59:17.626Z"
   },
   {
    "duration": 72,
    "start_time": "2022-05-04T15:59:17.655Z"
   },
   {
    "duration": 27,
    "start_time": "2022-05-04T15:59:17.729Z"
   },
   {
    "duration": 5,
    "start_time": "2022-05-04T15:59:17.758Z"
   },
   {
    "duration": 4880,
    "start_time": "2022-05-04T15:59:17.765Z"
   },
   {
    "duration": 21,
    "start_time": "2022-05-04T15:59:22.648Z"
   },
   {
    "duration": 27,
    "start_time": "2022-05-04T15:59:22.671Z"
   },
   {
    "duration": 126,
    "start_time": "2022-05-04T15:59:22.700Z"
   },
   {
    "duration": 29,
    "start_time": "2022-05-04T15:59:22.829Z"
   },
   {
    "duration": 40,
    "start_time": "2022-05-04T15:59:22.861Z"
   },
   {
    "duration": 19,
    "start_time": "2022-05-04T15:59:22.924Z"
   },
   {
    "duration": 15,
    "start_time": "2022-05-04T15:59:22.945Z"
   },
   {
    "duration": 63,
    "start_time": "2022-05-04T15:59:22.963Z"
   },
   {
    "duration": 23,
    "start_time": "2022-05-04T15:59:23.029Z"
   },
   {
    "duration": 26,
    "start_time": "2022-05-04T15:59:23.055Z"
   },
   {
    "duration": 54,
    "start_time": "2022-05-04T15:59:23.089Z"
   },
   {
    "duration": 25,
    "start_time": "2022-05-04T15:59:23.145Z"
   },
   {
    "duration": 6,
    "start_time": "2022-05-04T15:59:23.172Z"
   },
   {
    "duration": 65,
    "start_time": "2022-05-04T15:59:23.180Z"
   },
   {
    "duration": 6,
    "start_time": "2022-05-04T15:59:23.248Z"
   },
   {
    "duration": 15,
    "start_time": "2022-05-04T15:59:23.256Z"
   },
   {
    "duration": 7,
    "start_time": "2022-05-04T15:59:23.274Z"
   },
   {
    "duration": 72,
    "start_time": "2022-05-04T15:59:23.283Z"
   },
   {
    "duration": 23,
    "start_time": "2022-05-04T15:59:23.357Z"
   },
   {
    "duration": 5,
    "start_time": "2022-05-04T15:59:23.382Z"
   },
   {
    "duration": 54,
    "start_time": "2022-05-04T15:59:23.389Z"
   },
   {
    "duration": 22,
    "start_time": "2022-05-04T15:59:23.446Z"
   },
   {
    "duration": 10,
    "start_time": "2022-05-04T15:59:23.471Z"
   },
   {
    "duration": 44,
    "start_time": "2022-05-04T15:59:23.483Z"
   },
   {
    "duration": 281,
    "start_time": "2022-05-04T15:59:23.529Z"
   },
   {
    "duration": 42,
    "start_time": "2022-05-04T15:59:23.813Z"
   },
   {
    "duration": 24,
    "start_time": "2022-05-04T15:59:23.857Z"
   },
   {
    "duration": 63,
    "start_time": "2022-05-04T15:59:23.883Z"
   },
   {
    "duration": 26,
    "start_time": "2022-05-04T16:00:44.989Z"
   },
   {
    "duration": 24,
    "start_time": "2022-05-04T16:00:55.870Z"
   },
   {
    "duration": 1189,
    "start_time": "2022-05-04T16:03:14.474Z"
   },
   {
    "duration": 164,
    "start_time": "2022-05-04T16:03:15.667Z"
   },
   {
    "duration": 41,
    "start_time": "2022-05-04T16:03:15.834Z"
   },
   {
    "duration": 51,
    "start_time": "2022-05-04T16:03:15.879Z"
   },
   {
    "duration": 34,
    "start_time": "2022-05-04T16:03:15.933Z"
   },
   {
    "duration": 27,
    "start_time": "2022-05-04T16:03:15.970Z"
   },
   {
    "duration": 27,
    "start_time": "2022-05-04T16:03:15.999Z"
   },
   {
    "duration": 45,
    "start_time": "2022-05-04T16:03:16.029Z"
   },
   {
    "duration": 21,
    "start_time": "2022-05-04T16:03:16.077Z"
   },
   {
    "duration": 39,
    "start_time": "2022-05-04T16:03:16.101Z"
   },
   {
    "duration": 12,
    "start_time": "2022-05-04T16:03:16.143Z"
   },
   {
    "duration": 9,
    "start_time": "2022-05-04T16:03:16.158Z"
   },
   {
    "duration": 60,
    "start_time": "2022-05-04T16:03:16.169Z"
   },
   {
    "duration": 56,
    "start_time": "2022-05-04T16:03:16.231Z"
   },
   {
    "duration": 54,
    "start_time": "2022-05-04T16:03:16.289Z"
   },
   {
    "duration": 5,
    "start_time": "2022-05-04T16:03:16.345Z"
   },
   {
    "duration": 5099,
    "start_time": "2022-05-04T16:03:16.353Z"
   },
   {
    "duration": 23,
    "start_time": "2022-05-04T16:03:21.454Z"
   },
   {
    "duration": 56,
    "start_time": "2022-05-04T16:03:21.479Z"
   },
   {
    "duration": 106,
    "start_time": "2022-05-04T16:03:21.537Z"
   },
   {
    "duration": 28,
    "start_time": "2022-05-04T16:03:21.645Z"
   },
   {
    "duration": 58,
    "start_time": "2022-05-04T16:03:21.675Z"
   },
   {
    "duration": 18,
    "start_time": "2022-05-04T16:03:21.735Z"
   },
   {
    "duration": 19,
    "start_time": "2022-05-04T16:03:21.756Z"
   },
   {
    "duration": 53,
    "start_time": "2022-05-04T16:03:21.777Z"
   },
   {
    "duration": 23,
    "start_time": "2022-05-04T16:03:21.833Z"
   },
   {
    "duration": 26,
    "start_time": "2022-05-04T16:03:21.859Z"
   },
   {
    "duration": 50,
    "start_time": "2022-05-04T16:03:21.894Z"
   },
   {
    "duration": 29,
    "start_time": "2022-05-04T16:03:21.947Z"
   },
   {
    "duration": 20,
    "start_time": "2022-05-04T16:03:21.979Z"
   },
   {
    "duration": 39,
    "start_time": "2022-05-04T16:03:22.001Z"
   },
   {
    "duration": 5,
    "start_time": "2022-05-04T16:03:22.042Z"
   },
   {
    "duration": 16,
    "start_time": "2022-05-04T16:03:22.049Z"
   },
   {
    "duration": 25,
    "start_time": "2022-05-04T16:03:22.067Z"
   },
   {
    "duration": 57,
    "start_time": "2022-05-04T16:03:22.095Z"
   },
   {
    "duration": 23,
    "start_time": "2022-05-04T16:03:22.155Z"
   },
   {
    "duration": 5,
    "start_time": "2022-05-04T16:03:22.181Z"
   },
   {
    "duration": 53,
    "start_time": "2022-05-04T16:03:22.188Z"
   },
   {
    "duration": 18,
    "start_time": "2022-05-04T16:03:22.243Z"
   },
   {
    "duration": 14,
    "start_time": "2022-05-04T16:03:22.263Z"
   },
   {
    "duration": 19,
    "start_time": "2022-05-04T16:03:22.279Z"
   },
   {
    "duration": 276,
    "start_time": "2022-05-04T16:03:22.300Z"
   },
   {
    "duration": 36,
    "start_time": "2022-05-04T16:03:22.578Z"
   },
   {
    "duration": 26,
    "start_time": "2022-05-04T16:03:22.625Z"
   },
   {
    "duration": 32,
    "start_time": "2022-05-04T16:03:22.654Z"
   },
   {
    "duration": 7,
    "start_time": "2022-05-04T16:16:01.272Z"
   },
   {
    "duration": 17,
    "start_time": "2022-05-04T16:16:58.868Z"
   },
   {
    "duration": 2827,
    "start_time": "2022-05-04T16:17:13.366Z"
   },
   {
    "duration": 2265,
    "start_time": "2022-05-04T16:17:22.445Z"
   },
   {
    "duration": 94,
    "start_time": "2022-05-04T16:17:53.007Z"
   },
   {
    "duration": 57,
    "start_time": "2022-05-04T16:18:18.061Z"
   },
   {
    "duration": 44,
    "start_time": "2022-05-04T16:18:37.196Z"
   },
   {
    "duration": 61,
    "start_time": "2022-05-04T16:18:56.157Z"
   },
   {
    "duration": 6,
    "start_time": "2022-05-04T16:22:53.805Z"
   },
   {
    "duration": 23,
    "start_time": "2022-05-04T16:32:27.448Z"
   },
   {
    "duration": 24,
    "start_time": "2022-05-04T16:33:08.105Z"
   },
   {
    "duration": 8,
    "start_time": "2022-05-04T16:33:31.697Z"
   },
   {
    "duration": 23,
    "start_time": "2022-05-04T16:33:36.809Z"
   },
   {
    "duration": 10,
    "start_time": "2022-05-04T16:33:52.433Z"
   },
   {
    "duration": 23,
    "start_time": "2022-05-04T16:34:05.161Z"
   },
   {
    "duration": 866,
    "start_time": "2022-05-05T08:14:23.862Z"
   },
   {
    "duration": 199,
    "start_time": "2022-05-05T08:14:24.730Z"
   },
   {
    "duration": 18,
    "start_time": "2022-05-05T08:14:24.931Z"
   },
   {
    "duration": 16,
    "start_time": "2022-05-05T08:14:24.951Z"
   },
   {
    "duration": 7,
    "start_time": "2022-05-05T08:14:24.968Z"
   },
   {
    "duration": 10,
    "start_time": "2022-05-05T08:14:24.977Z"
   },
   {
    "duration": 9,
    "start_time": "2022-05-05T08:14:24.989Z"
   },
   {
    "duration": 27,
    "start_time": "2022-05-05T08:14:25.023Z"
   },
   {
    "duration": 12,
    "start_time": "2022-05-05T08:14:25.052Z"
   },
   {
    "duration": 12,
    "start_time": "2022-05-05T08:14:25.067Z"
   },
   {
    "duration": 9,
    "start_time": "2022-05-05T08:14:25.080Z"
   },
   {
    "duration": 34,
    "start_time": "2022-05-05T08:14:25.091Z"
   },
   {
    "duration": 14,
    "start_time": "2022-05-05T08:14:25.127Z"
   },
   {
    "duration": 33,
    "start_time": "2022-05-05T08:14:25.143Z"
   },
   {
    "duration": 19,
    "start_time": "2022-05-05T08:14:25.178Z"
   },
   {
    "duration": 25,
    "start_time": "2022-05-05T08:14:25.198Z"
   },
   {
    "duration": 2776,
    "start_time": "2022-05-05T08:14:25.225Z"
   },
   {
    "duration": 24,
    "start_time": "2022-05-05T08:14:28.002Z"
   },
   {
    "duration": 20,
    "start_time": "2022-05-05T08:14:28.028Z"
   },
   {
    "duration": 58,
    "start_time": "2022-05-05T08:14:28.050Z"
   },
   {
    "duration": 30,
    "start_time": "2022-05-05T08:14:28.109Z"
   },
   {
    "duration": 23,
    "start_time": "2022-05-05T08:14:28.141Z"
   },
   {
    "duration": 12,
    "start_time": "2022-05-05T08:14:28.166Z"
   },
   {
    "duration": 45,
    "start_time": "2022-05-05T08:14:28.180Z"
   },
   {
    "duration": 31,
    "start_time": "2022-05-05T08:14:28.227Z"
   },
   {
    "duration": 19,
    "start_time": "2022-05-05T08:14:28.261Z"
   },
   {
    "duration": 49,
    "start_time": "2022-05-05T08:14:28.282Z"
   },
   {
    "duration": 16,
    "start_time": "2022-05-05T08:14:28.334Z"
   },
   {
    "duration": 16,
    "start_time": "2022-05-05T08:14:28.352Z"
   },
   {
    "duration": 21,
    "start_time": "2022-05-05T08:14:28.369Z"
   },
   {
    "duration": 33,
    "start_time": "2022-05-05T08:14:28.392Z"
   },
   {
    "duration": 8,
    "start_time": "2022-05-05T08:14:28.427Z"
   },
   {
    "duration": 4,
    "start_time": "2022-05-05T08:14:28.437Z"
   },
   {
    "duration": 28,
    "start_time": "2022-05-05T08:14:28.443Z"
   },
   {
    "duration": 16,
    "start_time": "2022-05-05T08:14:28.473Z"
   },
   {
    "duration": 36,
    "start_time": "2022-05-05T08:14:28.490Z"
   },
   {
    "duration": 27,
    "start_time": "2022-05-05T08:14:28.528Z"
   },
   {
    "duration": 18,
    "start_time": "2022-05-05T08:14:28.557Z"
   },
   {
    "duration": 6,
    "start_time": "2022-05-05T08:14:28.577Z"
   },
   {
    "duration": 7,
    "start_time": "2022-05-05T08:14:28.585Z"
   },
   {
    "duration": 64,
    "start_time": "2022-05-05T08:14:28.625Z"
   },
   {
    "duration": 332,
    "start_time": "2022-05-05T08:14:28.692Z"
   },
   {
    "duration": 23,
    "start_time": "2022-05-05T08:14:29.027Z"
   },
   {
    "duration": 18,
    "start_time": "2022-05-05T08:14:29.052Z"
   },
   {
    "duration": 21,
    "start_time": "2022-05-05T08:14:29.071Z"
   },
   {
    "duration": 39,
    "start_time": "2022-05-05T08:14:29.094Z"
   },
   {
    "duration": 142,
    "start_time": "2022-05-05T08:15:47.218Z"
   },
   {
    "duration": 124,
    "start_time": "2022-05-05T08:16:04.515Z"
   },
   {
    "duration": 71,
    "start_time": "2022-05-05T08:16:28.682Z"
   },
   {
    "duration": 114,
    "start_time": "2022-05-05T08:16:35.100Z"
   },
   {
    "duration": 3662,
    "start_time": "2022-05-05T08:16:56.587Z"
   },
   {
    "duration": 3349,
    "start_time": "2022-05-05T08:17:34.755Z"
   },
   {
    "duration": 201,
    "start_time": "2022-05-05T08:17:59.179Z"
   },
   {
    "duration": 127,
    "start_time": "2022-05-05T08:18:13.171Z"
   },
   {
    "duration": 80,
    "start_time": "2022-05-05T08:18:51.043Z"
   },
   {
    "duration": 85,
    "start_time": "2022-05-05T08:19:17.684Z"
   },
   {
    "duration": 15,
    "start_time": "2022-05-05T08:42:17.544Z"
   },
   {
    "duration": 121,
    "start_time": "2022-05-05T08:42:24.080Z"
   },
   {
    "duration": 88,
    "start_time": "2022-05-05T08:42:25.161Z"
   },
   {
    "duration": 16,
    "start_time": "2022-05-05T08:46:33.577Z"
   },
   {
    "duration": 4,
    "start_time": "2022-05-05T08:53:41.940Z"
   },
   {
    "duration": 16,
    "start_time": "2022-05-05T08:53:48.133Z"
   },
   {
    "duration": 6,
    "start_time": "2022-05-05T08:54:19.020Z"
   },
   {
    "duration": 12,
    "start_time": "2022-05-05T08:54:26.732Z"
   },
   {
    "duration": 15,
    "start_time": "2022-05-05T08:54:32.301Z"
   },
   {
    "duration": 13,
    "start_time": "2022-05-05T08:55:29.373Z"
   },
   {
    "duration": 11,
    "start_time": "2022-05-05T08:55:39.941Z"
   },
   {
    "duration": 15,
    "start_time": "2022-05-05T08:55:48.701Z"
   },
   {
    "duration": 4,
    "start_time": "2022-05-05T08:57:40.157Z"
   },
   {
    "duration": 4,
    "start_time": "2022-05-05T08:57:57.366Z"
   },
   {
    "duration": 5,
    "start_time": "2022-05-05T08:58:07.812Z"
   },
   {
    "duration": 10,
    "start_time": "2022-05-05T08:58:21.550Z"
   },
   {
    "duration": 5,
    "start_time": "2022-05-05T08:58:42.687Z"
   },
   {
    "duration": 5,
    "start_time": "2022-05-05T08:59:05.390Z"
   },
   {
    "duration": 770,
    "start_time": "2022-05-05T08:59:51.262Z"
   },
   {
    "duration": 13,
    "start_time": "2022-05-05T09:00:08.038Z"
   },
   {
    "duration": 7,
    "start_time": "2022-05-05T09:00:17.150Z"
   },
   {
    "duration": 7,
    "start_time": "2022-05-05T09:01:27.455Z"
   },
   {
    "duration": 16,
    "start_time": "2022-05-05T09:01:37.054Z"
   },
   {
    "duration": 6,
    "start_time": "2022-05-05T09:01:41.086Z"
   },
   {
    "duration": 13,
    "start_time": "2022-05-05T09:02:01.094Z"
   },
   {
    "duration": 13,
    "start_time": "2022-05-05T09:02:20.456Z"
   },
   {
    "duration": 8,
    "start_time": "2022-05-05T09:02:36.896Z"
   },
   {
    "duration": 7,
    "start_time": "2022-05-05T09:02:42.208Z"
   },
   {
    "duration": 14,
    "start_time": "2022-05-05T09:02:44.375Z"
   },
   {
    "duration": 7,
    "start_time": "2022-05-05T09:02:44.966Z"
   },
   {
    "duration": 15,
    "start_time": "2022-05-05T09:02:57.238Z"
   },
   {
    "duration": 4,
    "start_time": "2022-05-05T09:03:24.879Z"
   },
   {
    "duration": 15,
    "start_time": "2022-05-05T09:03:32.605Z"
   },
   {
    "duration": 14,
    "start_time": "2022-05-05T09:03:43.080Z"
   },
   {
    "duration": 10,
    "start_time": "2022-05-05T09:04:10.666Z"
   },
   {
    "duration": 14,
    "start_time": "2022-05-05T09:06:15.887Z"
   },
   {
    "duration": 15,
    "start_time": "2022-05-05T09:07:00.447Z"
   },
   {
    "duration": 11,
    "start_time": "2022-05-05T09:07:29.511Z"
   },
   {
    "duration": 14,
    "start_time": "2022-05-05T09:07:50.099Z"
   },
   {
    "duration": 5,
    "start_time": "2022-05-05T09:08:01.384Z"
   },
   {
    "duration": 6,
    "start_time": "2022-05-05T09:08:06.871Z"
   },
   {
    "duration": 4,
    "start_time": "2022-05-05T09:08:52.208Z"
   },
   {
    "duration": 6,
    "start_time": "2022-05-05T09:08:58.247Z"
   },
   {
    "duration": 5,
    "start_time": "2022-05-05T09:09:21.912Z"
   },
   {
    "duration": 4,
    "start_time": "2022-05-05T09:09:40.950Z"
   },
   {
    "duration": 121,
    "start_time": "2022-05-05T09:09:54.896Z"
   },
   {
    "duration": 6,
    "start_time": "2022-05-05T09:10:00.248Z"
   },
   {
    "duration": 4,
    "start_time": "2022-05-05T09:10:08.072Z"
   },
   {
    "duration": 7,
    "start_time": "2022-05-05T09:10:18.960Z"
   },
   {
    "duration": 184,
    "start_time": "2022-05-05T09:10:22.871Z"
   },
   {
    "duration": 4,
    "start_time": "2022-05-05T09:11:16.409Z"
   },
   {
    "duration": 4,
    "start_time": "2022-05-05T09:11:19.825Z"
   },
   {
    "duration": 14,
    "start_time": "2022-05-05T09:31:25.656Z"
   },
   {
    "duration": 24,
    "start_time": "2022-05-05T09:31:31.789Z"
   },
   {
    "duration": 7,
    "start_time": "2022-05-05T09:34:59.886Z"
   },
   {
    "duration": 699,
    "start_time": "2022-05-05T09:41:07.699Z"
   },
   {
    "duration": 84,
    "start_time": "2022-05-05T09:41:08.401Z"
   },
   {
    "duration": 19,
    "start_time": "2022-05-05T09:41:08.487Z"
   },
   {
    "duration": 23,
    "start_time": "2022-05-05T09:41:08.509Z"
   },
   {
    "duration": 8,
    "start_time": "2022-05-05T09:41:08.534Z"
   },
   {
    "duration": 15,
    "start_time": "2022-05-05T09:41:08.544Z"
   },
   {
    "duration": 10,
    "start_time": "2022-05-05T09:41:08.560Z"
   },
   {
    "duration": 32,
    "start_time": "2022-05-05T09:41:08.571Z"
   },
   {
    "duration": 20,
    "start_time": "2022-05-05T09:41:08.625Z"
   },
   {
    "duration": 13,
    "start_time": "2022-05-05T09:41:08.649Z"
   },
   {
    "duration": 17,
    "start_time": "2022-05-05T09:41:08.663Z"
   },
   {
    "duration": 6,
    "start_time": "2022-05-05T09:41:08.682Z"
   },
   {
    "duration": 39,
    "start_time": "2022-05-05T09:41:08.690Z"
   },
   {
    "duration": 51,
    "start_time": "2022-05-05T09:41:08.731Z"
   },
   {
    "duration": 42,
    "start_time": "2022-05-05T09:41:08.784Z"
   },
   {
    "duration": 3,
    "start_time": "2022-05-05T09:41:08.828Z"
   },
   {
    "duration": 2912,
    "start_time": "2022-05-05T09:41:08.833Z"
   },
   {
    "duration": 15,
    "start_time": "2022-05-05T09:41:11.746Z"
   },
   {
    "duration": 34,
    "start_time": "2022-05-05T09:41:11.763Z"
   },
   {
    "duration": 124,
    "start_time": "2022-05-05T09:41:11.802Z"
   },
   {
    "duration": 24,
    "start_time": "2022-05-05T09:41:11.929Z"
   },
   {
    "duration": 31,
    "start_time": "2022-05-05T09:41:11.955Z"
   },
   {
    "duration": 40,
    "start_time": "2022-05-05T09:41:11.988Z"
   },
   {
    "duration": 10,
    "start_time": "2022-05-05T09:41:12.030Z"
   },
   {
    "duration": 35,
    "start_time": "2022-05-05T09:41:12.042Z"
   },
   {
    "duration": 18,
    "start_time": "2022-05-05T09:41:12.079Z"
   },
   {
    "duration": 24,
    "start_time": "2022-05-05T09:41:12.124Z"
   },
   {
    "duration": 20,
    "start_time": "2022-05-05T09:41:12.153Z"
   },
   {
    "duration": 19,
    "start_time": "2022-05-05T09:41:12.175Z"
   },
   {
    "duration": 42,
    "start_time": "2022-05-05T09:41:12.196Z"
   },
   {
    "duration": 4,
    "start_time": "2022-05-05T09:41:12.240Z"
   },
   {
    "duration": 12,
    "start_time": "2022-05-05T09:41:12.246Z"
   },
   {
    "duration": 3,
    "start_time": "2022-05-05T09:41:12.260Z"
   },
   {
    "duration": 63,
    "start_time": "2022-05-05T09:41:12.266Z"
   },
   {
    "duration": 23,
    "start_time": "2022-05-05T09:41:12.331Z"
   },
   {
    "duration": 5,
    "start_time": "2022-05-05T09:41:12.356Z"
   },
   {
    "duration": 19,
    "start_time": "2022-05-05T09:41:12.363Z"
   },
   {
    "duration": 41,
    "start_time": "2022-05-05T09:41:12.384Z"
   },
   {
    "duration": 5,
    "start_time": "2022-05-05T09:41:12.426Z"
   },
   {
    "duration": 8,
    "start_time": "2022-05-05T09:41:12.433Z"
   },
   {
    "duration": 40,
    "start_time": "2022-05-05T09:41:12.442Z"
   },
   {
    "duration": 219,
    "start_time": "2022-05-05T09:41:12.484Z"
   },
   {
    "duration": 27,
    "start_time": "2022-05-05T09:41:12.705Z"
   },
   {
    "duration": 17,
    "start_time": "2022-05-05T09:41:12.733Z"
   },
   {
    "duration": 21,
    "start_time": "2022-05-05T09:41:12.751Z"
   },
   {
    "duration": 19,
    "start_time": "2022-05-05T09:41:12.774Z"
   },
   {
    "duration": 206,
    "start_time": "2022-05-05T09:41:12.824Z"
   },
   {
    "duration": 94,
    "start_time": "2022-05-05T09:41:13.032Z"
   },
   {
    "duration": 25,
    "start_time": "2022-05-05T09:41:13.128Z"
   },
   {
    "duration": 7,
    "start_time": "2022-05-05T09:41:13.155Z"
   },
   {
    "duration": 9,
    "start_time": "2022-05-05T09:41:13.164Z"
   },
   {
    "duration": 5,
    "start_time": "2022-05-05T09:41:13.175Z"
   },
   {
    "duration": 111,
    "start_time": "2022-05-05T09:41:13.182Z"
   },
   {
    "duration": 151,
    "start_time": "2022-05-05T10:05:06.025Z"
   },
   {
    "duration": 168,
    "start_time": "2022-05-05T10:05:26.640Z"
   },
   {
    "duration": 132,
    "start_time": "2022-05-05T10:05:32.561Z"
   },
   {
    "duration": 79,
    "start_time": "2022-05-05T10:06:33.153Z"
   },
   {
    "duration": 138,
    "start_time": "2022-05-05T10:06:41.657Z"
   },
   {
    "duration": 72,
    "start_time": "2022-05-05T10:06:46.800Z"
   },
   {
    "duration": 71,
    "start_time": "2022-05-05T10:07:22.785Z"
   },
   {
    "duration": 177,
    "start_time": "2022-05-05T10:07:47.537Z"
   },
   {
    "duration": 74,
    "start_time": "2022-05-05T10:07:48.497Z"
   },
   {
    "duration": 79,
    "start_time": "2022-05-05T10:07:53.513Z"
   },
   {
    "duration": 8,
    "start_time": "2022-05-05T10:08:27.096Z"
   },
   {
    "duration": 72,
    "start_time": "2022-05-05T10:08:41.729Z"
   },
   {
    "duration": 73,
    "start_time": "2022-05-05T10:08:47.113Z"
   },
   {
    "duration": 69,
    "start_time": "2022-05-05T10:09:12.418Z"
   },
   {
    "duration": 694,
    "start_time": "2022-05-05T10:10:11.912Z"
   },
   {
    "duration": 83,
    "start_time": "2022-05-05T10:10:12.608Z"
   },
   {
    "duration": 19,
    "start_time": "2022-05-05T10:10:12.693Z"
   },
   {
    "duration": 17,
    "start_time": "2022-05-05T10:10:12.714Z"
   },
   {
    "duration": 7,
    "start_time": "2022-05-05T10:10:12.733Z"
   },
   {
    "duration": 10,
    "start_time": "2022-05-05T10:10:12.742Z"
   },
   {
    "duration": 11,
    "start_time": "2022-05-05T10:10:12.754Z"
   },
   {
    "duration": 29,
    "start_time": "2022-05-05T10:10:12.767Z"
   },
   {
    "duration": 45,
    "start_time": "2022-05-05T10:10:12.797Z"
   },
   {
    "duration": 12,
    "start_time": "2022-05-05T10:10:12.846Z"
   },
   {
    "duration": 10,
    "start_time": "2022-05-05T10:10:12.860Z"
   },
   {
    "duration": 7,
    "start_time": "2022-05-05T10:10:12.872Z"
   },
   {
    "duration": 49,
    "start_time": "2022-05-05T10:10:12.881Z"
   },
   {
    "duration": 38,
    "start_time": "2022-05-05T10:10:12.933Z"
   },
   {
    "duration": 18,
    "start_time": "2022-05-05T10:10:12.972Z"
   },
   {
    "duration": 4,
    "start_time": "2022-05-05T10:10:12.992Z"
   },
   {
    "duration": 2773,
    "start_time": "2022-05-05T10:10:13.023Z"
   },
   {
    "duration": 14,
    "start_time": "2022-05-05T10:10:15.798Z"
   },
   {
    "duration": 18,
    "start_time": "2022-05-05T10:10:15.823Z"
   },
   {
    "duration": 59,
    "start_time": "2022-05-05T10:10:15.843Z"
   },
   {
    "duration": 37,
    "start_time": "2022-05-05T10:10:15.903Z"
   },
   {
    "duration": 28,
    "start_time": "2022-05-05T10:10:15.942Z"
   },
   {
    "duration": 11,
    "start_time": "2022-05-05T10:10:15.971Z"
   },
   {
    "duration": 10,
    "start_time": "2022-05-05T10:10:15.984Z"
   },
   {
    "duration": 38,
    "start_time": "2022-05-05T10:10:15.995Z"
   },
   {
    "duration": 17,
    "start_time": "2022-05-05T10:10:16.035Z"
   },
   {
    "duration": 15,
    "start_time": "2022-05-05T10:10:16.053Z"
   },
   {
    "duration": 13,
    "start_time": "2022-05-05T10:10:16.071Z"
   },
   {
    "duration": 16,
    "start_time": "2022-05-05T10:10:16.086Z"
   },
   {
    "duration": 38,
    "start_time": "2022-05-05T10:10:16.103Z"
   },
   {
    "duration": 4,
    "start_time": "2022-05-05T10:10:16.142Z"
   },
   {
    "duration": 14,
    "start_time": "2022-05-05T10:10:16.148Z"
   },
   {
    "duration": 8,
    "start_time": "2022-05-05T10:10:16.164Z"
   },
   {
    "duration": 27,
    "start_time": "2022-05-05T10:10:16.173Z"
   },
   {
    "duration": 38,
    "start_time": "2022-05-05T10:10:16.202Z"
   },
   {
    "duration": 5,
    "start_time": "2022-05-05T10:10:16.241Z"
   },
   {
    "duration": 25,
    "start_time": "2022-05-05T10:10:16.248Z"
   },
   {
    "duration": 14,
    "start_time": "2022-05-05T10:10:16.275Z"
   },
   {
    "duration": 12,
    "start_time": "2022-05-05T10:10:16.291Z"
   },
   {
    "duration": 5,
    "start_time": "2022-05-05T10:10:16.324Z"
   },
   {
    "duration": 40,
    "start_time": "2022-05-05T10:10:16.331Z"
   },
   {
    "duration": 215,
    "start_time": "2022-05-05T10:10:16.373Z"
   },
   {
    "duration": 24,
    "start_time": "2022-05-05T10:10:16.589Z"
   },
   {
    "duration": 31,
    "start_time": "2022-05-05T10:10:16.615Z"
   },
   {
    "duration": 22,
    "start_time": "2022-05-05T10:10:16.647Z"
   },
   {
    "duration": 16,
    "start_time": "2022-05-05T10:10:16.671Z"
   },
   {
    "duration": 154,
    "start_time": "2022-05-05T10:10:16.688Z"
   },
   {
    "duration": 106,
    "start_time": "2022-05-05T10:10:16.843Z"
   },
   {
    "duration": 24,
    "start_time": "2022-05-05T10:10:16.951Z"
   },
   {
    "duration": 7,
    "start_time": "2022-05-05T10:10:16.977Z"
   },
   {
    "duration": 8,
    "start_time": "2022-05-05T10:10:16.985Z"
   },
   {
    "duration": 30,
    "start_time": "2022-05-05T10:10:16.995Z"
   },
   {
    "duration": 145,
    "start_time": "2022-05-05T10:10:17.027Z"
   },
   {
    "duration": 82,
    "start_time": "2022-05-05T10:10:17.174Z"
   },
   {
    "duration": 7,
    "start_time": "2022-05-05T10:10:17.258Z"
   },
   {
    "duration": 139,
    "start_time": "2022-05-05T10:12:03.899Z"
   },
   {
    "duration": 0,
    "start_time": "2022-05-05T10:12:04.042Z"
   },
   {
    "duration": 0,
    "start_time": "2022-05-05T10:12:04.043Z"
   },
   {
    "duration": 0,
    "start_time": "2022-05-05T10:12:04.044Z"
   },
   {
    "duration": 0,
    "start_time": "2022-05-05T10:12:04.045Z"
   },
   {
    "duration": 0,
    "start_time": "2022-05-05T10:12:04.046Z"
   },
   {
    "duration": 0,
    "start_time": "2022-05-05T10:12:04.047Z"
   },
   {
    "duration": 0,
    "start_time": "2022-05-05T10:12:04.048Z"
   },
   {
    "duration": 0,
    "start_time": "2022-05-05T10:12:04.049Z"
   },
   {
    "duration": 0,
    "start_time": "2022-05-05T10:12:04.050Z"
   },
   {
    "duration": 0,
    "start_time": "2022-05-05T10:12:04.051Z"
   },
   {
    "duration": 0,
    "start_time": "2022-05-05T10:12:04.052Z"
   },
   {
    "duration": 0,
    "start_time": "2022-05-05T10:12:04.053Z"
   },
   {
    "duration": 0,
    "start_time": "2022-05-05T10:12:04.054Z"
   },
   {
    "duration": 0,
    "start_time": "2022-05-05T10:12:04.055Z"
   },
   {
    "duration": 0,
    "start_time": "2022-05-05T10:12:04.056Z"
   },
   {
    "duration": 0,
    "start_time": "2022-05-05T10:12:04.057Z"
   },
   {
    "duration": 0,
    "start_time": "2022-05-05T10:12:04.058Z"
   },
   {
    "duration": 0,
    "start_time": "2022-05-05T10:12:04.059Z"
   },
   {
    "duration": 0,
    "start_time": "2022-05-05T10:12:04.061Z"
   },
   {
    "duration": 0,
    "start_time": "2022-05-05T10:12:04.061Z"
   },
   {
    "duration": 0,
    "start_time": "2022-05-05T10:12:04.063Z"
   },
   {
    "duration": 0,
    "start_time": "2022-05-05T10:12:04.064Z"
   },
   {
    "duration": 0,
    "start_time": "2022-05-05T10:12:04.064Z"
   },
   {
    "duration": 0,
    "start_time": "2022-05-05T10:12:04.065Z"
   },
   {
    "duration": 0,
    "start_time": "2022-05-05T10:12:04.066Z"
   },
   {
    "duration": 0,
    "start_time": "2022-05-05T10:12:04.067Z"
   },
   {
    "duration": 0,
    "start_time": "2022-05-05T10:12:04.068Z"
   },
   {
    "duration": 0,
    "start_time": "2022-05-05T10:12:04.069Z"
   },
   {
    "duration": 0,
    "start_time": "2022-05-05T10:12:04.070Z"
   },
   {
    "duration": 0,
    "start_time": "2022-05-05T10:12:04.071Z"
   },
   {
    "duration": 0,
    "start_time": "2022-05-05T10:12:04.072Z"
   },
   {
    "duration": 0,
    "start_time": "2022-05-05T10:12:04.073Z"
   },
   {
    "duration": 0,
    "start_time": "2022-05-05T10:12:04.075Z"
   },
   {
    "duration": 0,
    "start_time": "2022-05-05T10:12:04.076Z"
   },
   {
    "duration": 0,
    "start_time": "2022-05-05T10:12:04.077Z"
   },
   {
    "duration": 0,
    "start_time": "2022-05-05T10:12:04.078Z"
   },
   {
    "duration": 0,
    "start_time": "2022-05-05T10:12:04.080Z"
   },
   {
    "duration": 0,
    "start_time": "2022-05-05T10:12:04.124Z"
   },
   {
    "duration": 0,
    "start_time": "2022-05-05T10:12:04.125Z"
   },
   {
    "duration": 0,
    "start_time": "2022-05-05T10:12:04.127Z"
   },
   {
    "duration": 0,
    "start_time": "2022-05-05T10:12:04.128Z"
   },
   {
    "duration": 0,
    "start_time": "2022-05-05T10:12:04.129Z"
   },
   {
    "duration": 0,
    "start_time": "2022-05-05T10:12:04.130Z"
   },
   {
    "duration": 0,
    "start_time": "2022-05-05T10:12:04.131Z"
   },
   {
    "duration": 0,
    "start_time": "2022-05-05T10:12:04.132Z"
   },
   {
    "duration": 0,
    "start_time": "2022-05-05T10:12:04.134Z"
   },
   {
    "duration": 0,
    "start_time": "2022-05-05T10:12:04.135Z"
   },
   {
    "duration": 0,
    "start_time": "2022-05-05T10:12:04.136Z"
   },
   {
    "duration": 0,
    "start_time": "2022-05-05T10:12:04.137Z"
   },
   {
    "duration": 0,
    "start_time": "2022-05-05T10:12:04.138Z"
   },
   {
    "duration": 0,
    "start_time": "2022-05-05T10:12:04.140Z"
   },
   {
    "duration": 0,
    "start_time": "2022-05-05T10:12:04.141Z"
   },
   {
    "duration": 0,
    "start_time": "2022-05-05T10:12:04.142Z"
   },
   {
    "duration": 0,
    "start_time": "2022-05-05T10:12:04.143Z"
   },
   {
    "duration": 622,
    "start_time": "2022-05-05T10:12:18.164Z"
   },
   {
    "duration": 86,
    "start_time": "2022-05-05T10:12:18.788Z"
   },
   {
    "duration": 19,
    "start_time": "2022-05-05T10:12:18.875Z"
   },
   {
    "duration": 28,
    "start_time": "2022-05-05T10:12:18.896Z"
   },
   {
    "duration": 7,
    "start_time": "2022-05-05T10:12:18.926Z"
   },
   {
    "duration": 11,
    "start_time": "2022-05-05T10:12:18.935Z"
   },
   {
    "duration": 11,
    "start_time": "2022-05-05T10:12:18.948Z"
   },
   {
    "duration": 30,
    "start_time": "2022-05-05T10:12:18.960Z"
   },
   {
    "duration": 37,
    "start_time": "2022-05-05T10:12:18.992Z"
   },
   {
    "duration": 11,
    "start_time": "2022-05-05T10:12:19.032Z"
   },
   {
    "duration": 10,
    "start_time": "2022-05-05T10:12:19.045Z"
   },
   {
    "duration": 5,
    "start_time": "2022-05-05T10:12:19.056Z"
   },
   {
    "duration": 15,
    "start_time": "2022-05-05T10:12:19.063Z"
   },
   {
    "duration": 56,
    "start_time": "2022-05-05T10:12:19.079Z"
   },
   {
    "duration": 19,
    "start_time": "2022-05-05T10:12:19.137Z"
   },
   {
    "duration": 3,
    "start_time": "2022-05-05T10:12:19.158Z"
   },
   {
    "duration": 2954,
    "start_time": "2022-05-05T10:12:19.162Z"
   },
   {
    "duration": 14,
    "start_time": "2022-05-05T10:12:22.118Z"
   },
   {
    "duration": 27,
    "start_time": "2022-05-05T10:12:22.134Z"
   },
   {
    "duration": 71,
    "start_time": "2022-05-05T10:12:22.162Z"
   },
   {
    "duration": 17,
    "start_time": "2022-05-05T10:12:22.235Z"
   },
   {
    "duration": 21,
    "start_time": "2022-05-05T10:12:22.254Z"
   },
   {
    "duration": 16,
    "start_time": "2022-05-05T10:12:22.277Z"
   },
   {
    "duration": 37,
    "start_time": "2022-05-05T10:12:22.295Z"
   },
   {
    "duration": 21,
    "start_time": "2022-05-05T10:12:22.334Z"
   },
   {
    "duration": 18,
    "start_time": "2022-05-05T10:12:22.356Z"
   },
   {
    "duration": 16,
    "start_time": "2022-05-05T10:12:22.376Z"
   },
   {
    "duration": 16,
    "start_time": "2022-05-05T10:12:22.423Z"
   },
   {
    "duration": 14,
    "start_time": "2022-05-05T10:12:22.441Z"
   },
   {
    "duration": 17,
    "start_time": "2022-05-05T10:12:22.457Z"
   },
   {
    "duration": 4,
    "start_time": "2022-05-05T10:12:22.476Z"
   },
   {
    "duration": 45,
    "start_time": "2022-05-05T10:12:22.482Z"
   },
   {
    "duration": 3,
    "start_time": "2022-05-05T10:12:22.529Z"
   },
   {
    "duration": 28,
    "start_time": "2022-05-05T10:12:22.534Z"
   },
   {
    "duration": 17,
    "start_time": "2022-05-05T10:12:22.564Z"
   },
   {
    "duration": 5,
    "start_time": "2022-05-05T10:12:22.583Z"
   },
   {
    "duration": 45,
    "start_time": "2022-05-05T10:12:22.589Z"
   },
   {
    "duration": 14,
    "start_time": "2022-05-05T10:12:22.636Z"
   },
   {
    "duration": 4,
    "start_time": "2022-05-05T10:12:22.652Z"
   },
   {
    "duration": 7,
    "start_time": "2022-05-05T10:12:22.658Z"
   },
   {
    "duration": 66,
    "start_time": "2022-05-05T10:12:22.667Z"
   },
   {
    "duration": 198,
    "start_time": "2022-05-05T10:12:22.735Z"
   },
   {
    "duration": 24,
    "start_time": "2022-05-05T10:12:22.935Z"
   },
   {
    "duration": 17,
    "start_time": "2022-05-05T10:12:22.960Z"
   },
   {
    "duration": 46,
    "start_time": "2022-05-05T10:12:22.978Z"
   },
   {
    "duration": 16,
    "start_time": "2022-05-05T10:12:23.026Z"
   },
   {
    "duration": 132,
    "start_time": "2022-05-05T10:12:23.044Z"
   },
   {
    "duration": 93,
    "start_time": "2022-05-05T10:12:23.178Z"
   },
   {
    "duration": 22,
    "start_time": "2022-05-05T10:12:23.273Z"
   },
   {
    "duration": 6,
    "start_time": "2022-05-05T10:12:23.297Z"
   },
   {
    "duration": 6,
    "start_time": "2022-05-05T10:12:23.324Z"
   },
   {
    "duration": 8,
    "start_time": "2022-05-05T10:12:23.332Z"
   },
   {
    "duration": 135,
    "start_time": "2022-05-05T10:12:23.341Z"
   },
   {
    "duration": 84,
    "start_time": "2022-05-05T10:12:23.477Z"
   },
   {
    "duration": 7,
    "start_time": "2022-05-05T10:12:23.562Z"
   },
   {
    "duration": 78,
    "start_time": "2022-05-05T10:14:23.072Z"
   },
   {
    "duration": 75,
    "start_time": "2022-05-05T10:14:28.095Z"
   },
   {
    "duration": 72,
    "start_time": "2022-05-05T10:14:53.203Z"
   },
   {
    "duration": 321,
    "start_time": "2022-05-05T10:14:59.736Z"
   },
   {
    "duration": 71,
    "start_time": "2022-05-05T10:15:15.857Z"
   },
   {
    "duration": 108,
    "start_time": "2022-05-05T10:15:42.086Z"
   },
   {
    "duration": 172,
    "start_time": "2022-05-05T10:15:48.258Z"
   },
   {
    "duration": 72,
    "start_time": "2022-05-05T10:16:15.810Z"
   },
   {
    "duration": 70,
    "start_time": "2022-05-05T10:16:23.248Z"
   },
   {
    "duration": 72,
    "start_time": "2022-05-05T10:19:16.017Z"
   },
   {
    "duration": 89,
    "start_time": "2022-05-05T10:20:17.441Z"
   },
   {
    "duration": 81,
    "start_time": "2022-05-05T10:20:30.590Z"
   },
   {
    "duration": 71,
    "start_time": "2022-05-05T10:22:03.851Z"
   },
   {
    "duration": 73,
    "start_time": "2022-05-05T10:22:07.915Z"
   },
   {
    "duration": 73,
    "start_time": "2022-05-05T10:22:13.027Z"
   },
   {
    "duration": 217,
    "start_time": "2022-05-05T10:24:39.660Z"
   },
   {
    "duration": 229,
    "start_time": "2022-05-05T10:24:48.557Z"
   },
   {
    "duration": 133,
    "start_time": "2022-05-05T10:24:59.643Z"
   },
   {
    "duration": 73,
    "start_time": "2022-05-05T10:25:15.474Z"
   },
   {
    "duration": 83,
    "start_time": "2022-05-05T10:25:20.442Z"
   },
   {
    "duration": 5,
    "start_time": "2022-05-05T10:26:00.763Z"
   },
   {
    "duration": 76,
    "start_time": "2022-05-05T10:26:01.979Z"
   },
   {
    "duration": 844,
    "start_time": "2022-05-05T10:26:09.282Z"
   },
   {
    "duration": 82,
    "start_time": "2022-05-05T10:26:10.128Z"
   },
   {
    "duration": 16,
    "start_time": "2022-05-05T10:26:10.212Z"
   },
   {
    "duration": 13,
    "start_time": "2022-05-05T10:26:10.230Z"
   },
   {
    "duration": 7,
    "start_time": "2022-05-05T10:26:10.244Z"
   },
   {
    "duration": 11,
    "start_time": "2022-05-05T10:26:10.252Z"
   },
   {
    "duration": 11,
    "start_time": "2022-05-05T10:26:10.264Z"
   },
   {
    "duration": 30,
    "start_time": "2022-05-05T10:26:10.277Z"
   },
   {
    "duration": 15,
    "start_time": "2022-05-05T10:26:10.308Z"
   },
   {
    "duration": 13,
    "start_time": "2022-05-05T10:26:10.326Z"
   },
   {
    "duration": 8,
    "start_time": "2022-05-05T10:26:10.341Z"
   },
   {
    "duration": 7,
    "start_time": "2022-05-05T10:26:10.350Z"
   },
   {
    "duration": 69,
    "start_time": "2022-05-05T10:26:10.359Z"
   },
   {
    "duration": 36,
    "start_time": "2022-05-05T10:26:10.429Z"
   },
   {
    "duration": 77,
    "start_time": "2022-05-05T10:26:10.466Z"
   },
   {
    "duration": 4,
    "start_time": "2022-05-05T10:26:10.544Z"
   },
   {
    "duration": 2913,
    "start_time": "2022-05-05T10:26:10.549Z"
   },
   {
    "duration": 15,
    "start_time": "2022-05-05T10:26:13.464Z"
   },
   {
    "duration": 18,
    "start_time": "2022-05-05T10:26:13.481Z"
   },
   {
    "duration": 78,
    "start_time": "2022-05-05T10:26:13.501Z"
   },
   {
    "duration": 17,
    "start_time": "2022-05-05T10:26:13.581Z"
   },
   {
    "duration": 40,
    "start_time": "2022-05-05T10:26:13.600Z"
   },
   {
    "duration": 13,
    "start_time": "2022-05-05T10:26:13.641Z"
   },
   {
    "duration": 10,
    "start_time": "2022-05-05T10:26:13.656Z"
   },
   {
    "duration": 18,
    "start_time": "2022-05-05T10:26:13.667Z"
   },
   {
    "duration": 43,
    "start_time": "2022-05-05T10:26:13.686Z"
   },
   {
    "duration": 15,
    "start_time": "2022-05-05T10:26:13.730Z"
   },
   {
    "duration": 13,
    "start_time": "2022-05-05T10:26:13.749Z"
   },
   {
    "duration": 13,
    "start_time": "2022-05-05T10:26:13.764Z"
   },
   {
    "duration": 46,
    "start_time": "2022-05-05T10:26:13.779Z"
   },
   {
    "duration": 4,
    "start_time": "2022-05-05T10:26:13.827Z"
   },
   {
    "duration": 10,
    "start_time": "2022-05-05T10:26:13.832Z"
   },
   {
    "duration": 3,
    "start_time": "2022-05-05T10:26:13.843Z"
   },
   {
    "duration": 25,
    "start_time": "2022-05-05T10:26:13.847Z"
   },
   {
    "duration": 15,
    "start_time": "2022-05-05T10:26:13.874Z"
   },
   {
    "duration": 3,
    "start_time": "2022-05-05T10:26:13.891Z"
   },
   {
    "duration": 17,
    "start_time": "2022-05-05T10:26:13.923Z"
   },
   {
    "duration": 11,
    "start_time": "2022-05-05T10:26:13.942Z"
   },
   {
    "duration": 8,
    "start_time": "2022-05-05T10:26:13.954Z"
   },
   {
    "duration": 5,
    "start_time": "2022-05-05T10:26:13.963Z"
   },
   {
    "duration": 96,
    "start_time": "2022-05-05T10:26:13.970Z"
   },
   {
    "duration": 150,
    "start_time": "2022-05-05T10:26:14.068Z"
   },
   {
    "duration": 21,
    "start_time": "2022-05-05T10:26:14.223Z"
   },
   {
    "duration": 16,
    "start_time": "2022-05-05T10:26:14.245Z"
   },
   {
    "duration": 19,
    "start_time": "2022-05-05T10:26:14.262Z"
   },
   {
    "duration": 14,
    "start_time": "2022-05-05T10:26:14.283Z"
   },
   {
    "duration": 143,
    "start_time": "2022-05-05T10:26:14.299Z"
   },
   {
    "duration": 98,
    "start_time": "2022-05-05T10:26:14.444Z"
   },
   {
    "duration": 23,
    "start_time": "2022-05-05T10:26:14.544Z"
   },
   {
    "duration": 8,
    "start_time": "2022-05-05T10:26:14.568Z"
   },
   {
    "duration": 8,
    "start_time": "2022-05-05T10:26:14.577Z"
   },
   {
    "duration": 6,
    "start_time": "2022-05-05T10:26:14.586Z"
   },
   {
    "duration": 160,
    "start_time": "2022-05-05T10:26:14.593Z"
   },
   {
    "duration": 83,
    "start_time": "2022-05-05T10:26:14.755Z"
   },
   {
    "duration": 7,
    "start_time": "2022-05-05T10:26:14.840Z"
   },
   {
    "duration": 302,
    "start_time": "2022-05-05T10:28:01.179Z"
   },
   {
    "duration": 71,
    "start_time": "2022-05-05T10:28:14.403Z"
   },
   {
    "duration": 76,
    "start_time": "2022-05-05T10:28:33.619Z"
   },
   {
    "duration": 76,
    "start_time": "2022-05-05T10:28:39.579Z"
   },
   {
    "duration": 13,
    "start_time": "2022-05-05T10:30:40.461Z"
   },
   {
    "duration": 82,
    "start_time": "2022-05-05T10:31:29.436Z"
   },
   {
    "duration": 237,
    "start_time": "2022-05-05T10:31:32.324Z"
   },
   {
    "duration": 17,
    "start_time": "2022-05-05T10:31:36.684Z"
   },
   {
    "duration": 76,
    "start_time": "2022-05-05T10:31:47.147Z"
   },
   {
    "duration": 18,
    "start_time": "2022-05-05T10:31:59.221Z"
   },
   {
    "duration": 8,
    "start_time": "2022-05-05T10:31:59.764Z"
   },
   {
    "duration": 77,
    "start_time": "2022-05-05T10:32:00.267Z"
   },
   {
    "duration": 75,
    "start_time": "2022-05-05T10:34:21.260Z"
   },
   {
    "duration": 8,
    "start_time": "2022-05-05T10:34:21.892Z"
   },
   {
    "duration": 172,
    "start_time": "2022-05-05T10:43:52.993Z"
   },
   {
    "duration": 3647,
    "start_time": "2022-05-05T10:44:10.706Z"
   },
   {
    "duration": 879,
    "start_time": "2022-05-05T10:46:08.413Z"
   },
   {
    "duration": 115,
    "start_time": "2022-05-05T10:46:09.295Z"
   },
   {
    "duration": 24,
    "start_time": "2022-05-05T10:46:09.412Z"
   },
   {
    "duration": 40,
    "start_time": "2022-05-05T10:46:09.439Z"
   },
   {
    "duration": 9,
    "start_time": "2022-05-05T10:46:09.481Z"
   },
   {
    "duration": 11,
    "start_time": "2022-05-05T10:46:09.492Z"
   },
   {
    "duration": 7,
    "start_time": "2022-05-05T10:46:09.505Z"
   },
   {
    "duration": 36,
    "start_time": "2022-05-05T10:46:09.514Z"
   },
   {
    "duration": 13,
    "start_time": "2022-05-05T10:46:09.552Z"
   },
   {
    "duration": 13,
    "start_time": "2022-05-05T10:46:09.567Z"
   },
   {
    "duration": 8,
    "start_time": "2022-05-05T10:46:09.582Z"
   },
   {
    "duration": 31,
    "start_time": "2022-05-05T10:46:09.592Z"
   },
   {
    "duration": 17,
    "start_time": "2022-05-05T10:46:09.625Z"
   },
   {
    "duration": 35,
    "start_time": "2022-05-05T10:46:09.643Z"
   },
   {
    "duration": 18,
    "start_time": "2022-05-05T10:46:09.680Z"
   },
   {
    "duration": 24,
    "start_time": "2022-05-05T10:46:09.700Z"
   },
   {
    "duration": 3181,
    "start_time": "2022-05-05T10:46:09.726Z"
   },
   {
    "duration": 19,
    "start_time": "2022-05-05T10:46:12.908Z"
   },
   {
    "duration": 18,
    "start_time": "2022-05-05T10:46:12.928Z"
   },
   {
    "duration": 80,
    "start_time": "2022-05-05T10:46:12.948Z"
   },
   {
    "duration": 18,
    "start_time": "2022-05-05T10:46:13.029Z"
   },
   {
    "duration": 23,
    "start_time": "2022-05-05T10:46:13.048Z"
   },
   {
    "duration": 14,
    "start_time": "2022-05-05T10:46:13.073Z"
   },
   {
    "duration": 42,
    "start_time": "2022-05-05T10:46:13.089Z"
   },
   {
    "duration": 21,
    "start_time": "2022-05-05T10:46:13.133Z"
   },
   {
    "duration": 13,
    "start_time": "2022-05-05T10:46:13.156Z"
   },
   {
    "duration": 17,
    "start_time": "2022-05-05T10:46:13.170Z"
   },
   {
    "duration": 45,
    "start_time": "2022-05-05T10:46:13.190Z"
   },
   {
    "duration": 14,
    "start_time": "2022-05-05T10:46:13.236Z"
   },
   {
    "duration": 16,
    "start_time": "2022-05-05T10:46:13.252Z"
   },
   {
    "duration": 3,
    "start_time": "2022-05-05T10:46:13.270Z"
   },
   {
    "duration": 9,
    "start_time": "2022-05-05T10:46:13.274Z"
   },
   {
    "duration": 5,
    "start_time": "2022-05-05T10:46:13.285Z"
   },
   {
    "duration": 26,
    "start_time": "2022-05-05T10:46:13.324Z"
   },
   {
    "duration": 18,
    "start_time": "2022-05-05T10:46:13.351Z"
   },
   {
    "duration": 3,
    "start_time": "2022-05-05T10:46:13.371Z"
   },
   {
    "duration": 21,
    "start_time": "2022-05-05T10:46:13.376Z"
   },
   {
    "duration": 33,
    "start_time": "2022-05-05T10:46:13.398Z"
   },
   {
    "duration": 9,
    "start_time": "2022-05-05T10:46:13.432Z"
   },
   {
    "duration": 8,
    "start_time": "2022-05-05T10:46:13.442Z"
   },
   {
    "duration": 97,
    "start_time": "2022-05-05T10:46:13.451Z"
   },
   {
    "duration": 157,
    "start_time": "2022-05-05T10:46:13.549Z"
   },
   {
    "duration": 34,
    "start_time": "2022-05-05T10:46:13.708Z"
   },
   {
    "duration": 18,
    "start_time": "2022-05-05T10:46:13.744Z"
   },
   {
    "duration": 27,
    "start_time": "2022-05-05T10:46:13.764Z"
   },
   {
    "duration": 38,
    "start_time": "2022-05-05T10:46:13.793Z"
   },
   {
    "duration": 137,
    "start_time": "2022-05-05T10:46:13.832Z"
   },
   {
    "duration": 104,
    "start_time": "2022-05-05T10:46:13.970Z"
   },
   {
    "duration": 25,
    "start_time": "2022-05-05T10:46:14.076Z"
   },
   {
    "duration": 22,
    "start_time": "2022-05-05T10:46:14.103Z"
   },
   {
    "duration": 9,
    "start_time": "2022-05-05T10:46:14.127Z"
   },
   {
    "duration": 7,
    "start_time": "2022-05-05T10:46:14.138Z"
   },
   {
    "duration": 233,
    "start_time": "2022-05-05T10:46:14.147Z"
   },
   {
    "duration": 126,
    "start_time": "2022-05-05T10:46:14.382Z"
   },
   {
    "duration": 15,
    "start_time": "2022-05-05T10:46:14.510Z"
   },
   {
    "duration": 20,
    "start_time": "2022-05-05T10:47:42.726Z"
   },
   {
    "duration": 872,
    "start_time": "2022-05-05T10:47:47.704Z"
   },
   {
    "duration": 121,
    "start_time": "2022-05-05T10:47:48.579Z"
   },
   {
    "duration": 24,
    "start_time": "2022-05-05T10:47:48.702Z"
   },
   {
    "duration": 16,
    "start_time": "2022-05-05T10:47:48.729Z"
   },
   {
    "duration": 7,
    "start_time": "2022-05-05T10:47:48.747Z"
   },
   {
    "duration": 10,
    "start_time": "2022-05-05T10:47:48.756Z"
   },
   {
    "duration": 10,
    "start_time": "2022-05-05T10:47:48.768Z"
   },
   {
    "duration": 61,
    "start_time": "2022-05-05T10:47:48.779Z"
   },
   {
    "duration": 14,
    "start_time": "2022-05-05T10:47:48.842Z"
   },
   {
    "duration": 14,
    "start_time": "2022-05-05T10:47:48.859Z"
   },
   {
    "duration": 15,
    "start_time": "2022-05-05T10:47:48.875Z"
   },
   {
    "duration": 19,
    "start_time": "2022-05-05T10:47:48.892Z"
   },
   {
    "duration": 31,
    "start_time": "2022-05-05T10:47:48.913Z"
   },
   {
    "duration": 37,
    "start_time": "2022-05-05T10:47:48.946Z"
   },
   {
    "duration": 40,
    "start_time": "2022-05-05T10:47:48.985Z"
   },
   {
    "duration": 5,
    "start_time": "2022-05-05T10:47:49.027Z"
   },
   {
    "duration": 4632,
    "start_time": "2022-05-05T10:47:49.034Z"
   },
   {
    "duration": 21,
    "start_time": "2022-05-05T10:47:53.668Z"
   },
   {
    "duration": 42,
    "start_time": "2022-05-05T10:47:53.692Z"
   },
   {
    "duration": 69,
    "start_time": "2022-05-05T10:47:53.736Z"
   },
   {
    "duration": 27,
    "start_time": "2022-05-05T10:47:53.823Z"
   },
   {
    "duration": 28,
    "start_time": "2022-05-05T10:47:53.852Z"
   },
   {
    "duration": 13,
    "start_time": "2022-05-05T10:47:53.881Z"
   },
   {
    "duration": 35,
    "start_time": "2022-05-05T10:47:53.895Z"
   },
   {
    "duration": 21,
    "start_time": "2022-05-05T10:47:53.932Z"
   },
   {
    "duration": 21,
    "start_time": "2022-05-05T10:47:53.955Z"
   },
   {
    "duration": 17,
    "start_time": "2022-05-05T10:47:53.978Z"
   },
   {
    "duration": 38,
    "start_time": "2022-05-05T10:47:53.999Z"
   },
   {
    "duration": 27,
    "start_time": "2022-05-05T10:47:54.040Z"
   },
   {
    "duration": 24,
    "start_time": "2022-05-05T10:47:54.069Z"
   },
   {
    "duration": 4,
    "start_time": "2022-05-05T10:47:54.095Z"
   },
   {
    "duration": 29,
    "start_time": "2022-05-05T10:47:54.102Z"
   },
   {
    "duration": 5,
    "start_time": "2022-05-05T10:47:54.133Z"
   },
   {
    "duration": 37,
    "start_time": "2022-05-05T10:47:54.140Z"
   },
   {
    "duration": 14,
    "start_time": "2022-05-05T10:47:54.179Z"
   },
   {
    "duration": 4,
    "start_time": "2022-05-05T10:47:54.195Z"
   },
   {
    "duration": 40,
    "start_time": "2022-05-05T10:47:54.200Z"
   },
   {
    "duration": 15,
    "start_time": "2022-05-05T10:47:54.242Z"
   },
   {
    "duration": 9,
    "start_time": "2022-05-05T10:47:54.260Z"
   },
   {
    "duration": 10,
    "start_time": "2022-05-05T10:47:54.271Z"
   },
   {
    "duration": 114,
    "start_time": "2022-05-05T10:47:54.283Z"
   },
   {
    "duration": 177,
    "start_time": "2022-05-05T10:47:54.398Z"
   },
   {
    "duration": 24,
    "start_time": "2022-05-05T10:47:54.577Z"
   },
   {
    "duration": 37,
    "start_time": "2022-05-05T10:47:54.602Z"
   },
   {
    "duration": 23,
    "start_time": "2022-05-05T10:47:54.641Z"
   },
   {
    "duration": 17,
    "start_time": "2022-05-05T10:47:54.666Z"
   },
   {
    "duration": 156,
    "start_time": "2022-05-05T10:47:54.685Z"
   },
   {
    "duration": 130,
    "start_time": "2022-05-05T10:47:54.843Z"
   },
   {
    "duration": 26,
    "start_time": "2022-05-05T10:47:54.974Z"
   },
   {
    "duration": 23,
    "start_time": "2022-05-05T10:47:55.001Z"
   },
   {
    "duration": 6,
    "start_time": "2022-05-05T10:47:55.026Z"
   },
   {
    "duration": 7,
    "start_time": "2022-05-05T10:47:55.035Z"
   },
   {
    "duration": 155,
    "start_time": "2022-05-05T10:47:55.044Z"
   },
   {
    "duration": 94,
    "start_time": "2022-05-05T10:47:55.201Z"
   },
   {
    "duration": 8,
    "start_time": "2022-05-05T10:47:55.297Z"
   },
   {
    "duration": 67,
    "start_time": "2022-05-05T10:50:13.592Z"
   },
   {
    "duration": 19,
    "start_time": "2022-05-05T10:50:19.174Z"
   },
   {
    "duration": 16,
    "start_time": "2022-05-05T10:51:00.665Z"
   },
   {
    "duration": 204,
    "start_time": "2022-05-05T10:51:25.312Z"
   },
   {
    "duration": 130,
    "start_time": "2022-05-05T10:51:34.562Z"
   },
   {
    "duration": 128,
    "start_time": "2022-05-05T10:54:16.057Z"
   },
   {
    "duration": 129,
    "start_time": "2022-05-05T10:54:21.353Z"
   },
   {
    "duration": 118,
    "start_time": "2022-05-05T10:55:31.683Z"
   },
   {
    "duration": 12,
    "start_time": "2022-05-05T11:01:39.931Z"
   },
   {
    "duration": 13,
    "start_time": "2022-05-05T11:02:25.411Z"
   },
   {
    "duration": 18,
    "start_time": "2022-05-05T11:02:43.723Z"
   },
   {
    "duration": 17,
    "start_time": "2022-05-05T11:03:44.348Z"
   },
   {
    "duration": 21,
    "start_time": "2022-05-05T11:05:54.790Z"
   },
   {
    "duration": 123,
    "start_time": "2022-05-05T11:05:55.556Z"
   },
   {
    "duration": 152,
    "start_time": "2022-05-05T11:05:56.333Z"
   },
   {
    "duration": 30,
    "start_time": "2022-05-05T11:05:57.140Z"
   },
   {
    "duration": 6,
    "start_time": "2022-05-05T11:05:57.628Z"
   },
   {
    "duration": 7,
    "start_time": "2022-05-05T11:05:59.509Z"
   },
   {
    "duration": 7,
    "start_time": "2022-05-05T11:05:59.518Z"
   },
   {
    "duration": 140,
    "start_time": "2022-05-05T11:06:00.779Z"
   },
   {
    "duration": 78,
    "start_time": "2022-05-05T11:06:01.228Z"
   },
   {
    "duration": 8,
    "start_time": "2022-05-05T11:06:02.356Z"
   },
   {
    "duration": 19,
    "start_time": "2022-05-05T11:06:05.128Z"
   },
   {
    "duration": 9,
    "start_time": "2022-05-05T11:07:01.437Z"
   },
   {
    "duration": 16,
    "start_time": "2022-05-05T11:21:20.448Z"
   },
   {
    "duration": 11,
    "start_time": "2022-05-05T11:21:51.025Z"
   },
   {
    "duration": 134,
    "start_time": "2022-05-05T11:21:57.456Z"
   },
   {
    "duration": 141,
    "start_time": "2022-05-05T11:22:13.600Z"
   },
   {
    "duration": 144,
    "start_time": "2022-05-05T11:22:19.567Z"
   },
   {
    "duration": 12,
    "start_time": "2022-05-05T11:22:28.072Z"
   },
   {
    "duration": 141,
    "start_time": "2022-05-05T11:22:33.096Z"
   },
   {
    "duration": 141,
    "start_time": "2022-05-05T11:22:42.120Z"
   },
   {
    "duration": 19,
    "start_time": "2022-05-05T11:23:00.480Z"
   },
   {
    "duration": 21,
    "start_time": "2022-05-05T11:23:14.008Z"
   },
   {
    "duration": 12,
    "start_time": "2022-05-05T11:23:24.009Z"
   },
   {
    "duration": 156,
    "start_time": "2022-05-05T11:23:34.113Z"
   },
   {
    "duration": 114,
    "start_time": "2022-05-05T11:24:41.632Z"
   },
   {
    "duration": 139,
    "start_time": "2022-05-05T11:24:49.563Z"
   },
   {
    "duration": 223,
    "start_time": "2022-05-05T11:25:52.064Z"
   },
   {
    "duration": 158,
    "start_time": "2022-05-05T11:26:04.562Z"
   },
   {
    "duration": 147,
    "start_time": "2022-05-05T11:27:00.234Z"
   },
   {
    "duration": 137,
    "start_time": "2022-05-05T11:27:11.657Z"
   },
   {
    "duration": 139,
    "start_time": "2022-05-05T11:31:38.940Z"
   },
   {
    "duration": 147,
    "start_time": "2022-05-05T11:31:44.876Z"
   },
   {
    "duration": 5,
    "start_time": "2022-05-05T11:46:17.719Z"
   },
   {
    "duration": 5,
    "start_time": "2022-05-05T11:46:23.686Z"
   },
   {
    "duration": 219,
    "start_time": "2022-05-05T11:47:13.974Z"
   },
   {
    "duration": 135,
    "start_time": "2022-05-05T11:48:29.719Z"
   },
   {
    "duration": 154,
    "start_time": "2022-05-05T11:48:39.056Z"
   },
   {
    "duration": 136,
    "start_time": "2022-05-05T11:49:16.312Z"
   },
   {
    "duration": 157,
    "start_time": "2022-05-05T11:52:06.129Z"
   },
   {
    "duration": 141,
    "start_time": "2022-05-05T11:52:36.321Z"
   },
   {
    "duration": 139,
    "start_time": "2022-05-05T11:53:10.042Z"
   },
   {
    "duration": 8,
    "start_time": "2022-05-05T11:53:21.362Z"
   },
   {
    "duration": 2110,
    "start_time": "2022-05-05T11:53:39.595Z"
   },
   {
    "duration": 2057,
    "start_time": "2022-05-05T11:53:48.762Z"
   },
   {
    "duration": 137,
    "start_time": "2022-05-05T11:53:57.041Z"
   },
   {
    "duration": 6,
    "start_time": "2022-05-05T11:54:39.261Z"
   },
   {
    "duration": 218,
    "start_time": "2022-05-05T12:46:51.064Z"
   },
   {
    "duration": 147,
    "start_time": "2022-05-05T12:47:07.889Z"
   },
   {
    "duration": 5,
    "start_time": "2022-05-05T13:04:24.988Z"
   },
   {
    "duration": 15,
    "start_time": "2022-05-05T13:04:28.661Z"
   },
   {
    "duration": 6,
    "start_time": "2022-05-05T13:04:29.566Z"
   },
   {
    "duration": 6,
    "start_time": "2022-05-05T13:04:39.479Z"
   },
   {
    "duration": 838,
    "start_time": "2022-05-05T13:37:33.799Z"
   },
   {
    "duration": 88,
    "start_time": "2022-05-05T13:37:34.639Z"
   },
   {
    "duration": 20,
    "start_time": "2022-05-05T13:37:34.729Z"
   },
   {
    "duration": 15,
    "start_time": "2022-05-05T13:37:34.752Z"
   },
   {
    "duration": 8,
    "start_time": "2022-05-05T13:37:34.769Z"
   },
   {
    "duration": 14,
    "start_time": "2022-05-05T13:37:34.779Z"
   },
   {
    "duration": 33,
    "start_time": "2022-05-05T13:37:34.795Z"
   },
   {
    "duration": 31,
    "start_time": "2022-05-05T13:37:34.830Z"
   },
   {
    "duration": 15,
    "start_time": "2022-05-05T13:37:34.863Z"
   },
   {
    "duration": 43,
    "start_time": "2022-05-05T13:37:34.881Z"
   },
   {
    "duration": 11,
    "start_time": "2022-05-05T13:37:34.926Z"
   },
   {
    "duration": 7,
    "start_time": "2022-05-05T13:37:34.938Z"
   },
   {
    "duration": 17,
    "start_time": "2022-05-05T13:37:34.947Z"
   },
   {
    "duration": 62,
    "start_time": "2022-05-05T13:37:34.967Z"
   },
   {
    "duration": 20,
    "start_time": "2022-05-05T13:37:35.031Z"
   },
   {
    "duration": 4,
    "start_time": "2022-05-05T13:37:35.053Z"
   },
   {
    "duration": 2878,
    "start_time": "2022-05-05T13:37:35.059Z"
   },
   {
    "duration": 17,
    "start_time": "2022-05-05T13:37:37.939Z"
   },
   {
    "duration": 29,
    "start_time": "2022-05-05T13:37:37.958Z"
   },
   {
    "duration": 77,
    "start_time": "2022-05-05T13:37:37.989Z"
   },
   {
    "duration": 18,
    "start_time": "2022-05-05T13:37:38.068Z"
   },
   {
    "duration": 42,
    "start_time": "2022-05-05T13:37:38.088Z"
   },
   {
    "duration": 14,
    "start_time": "2022-05-05T13:37:38.133Z"
   },
   {
    "duration": 14,
    "start_time": "2022-05-05T13:37:38.149Z"
   },
   {
    "duration": 24,
    "start_time": "2022-05-05T13:37:38.164Z"
   },
   {
    "duration": 42,
    "start_time": "2022-05-05T13:37:38.190Z"
   },
   {
    "duration": 17,
    "start_time": "2022-05-05T13:37:38.235Z"
   },
   {
    "duration": 15,
    "start_time": "2022-05-05T13:37:38.258Z"
   },
   {
    "duration": 17,
    "start_time": "2022-05-05T13:37:38.275Z"
   },
   {
    "duration": 41,
    "start_time": "2022-05-05T13:37:38.295Z"
   },
   {
    "duration": 5,
    "start_time": "2022-05-05T13:37:38.338Z"
   },
   {
    "duration": 13,
    "start_time": "2022-05-05T13:37:38.345Z"
   },
   {
    "duration": 17,
    "start_time": "2022-05-05T13:37:38.360Z"
   },
   {
    "duration": 32,
    "start_time": "2022-05-05T13:37:38.379Z"
   },
   {
    "duration": 24,
    "start_time": "2022-05-05T13:37:38.413Z"
   },
   {
    "duration": 12,
    "start_time": "2022-05-05T13:37:38.440Z"
   },
   {
    "duration": 26,
    "start_time": "2022-05-05T13:37:38.453Z"
   },
   {
    "duration": 5,
    "start_time": "2022-05-05T13:37:38.481Z"
   },
   {
    "duration": 17,
    "start_time": "2022-05-05T13:37:38.487Z"
   },
   {
    "duration": 22,
    "start_time": "2022-05-05T13:37:38.506Z"
   },
   {
    "duration": 20,
    "start_time": "2022-05-05T13:37:38.530Z"
   },
   {
    "duration": 99,
    "start_time": "2022-05-05T13:37:38.551Z"
   },
   {
    "duration": 159,
    "start_time": "2022-05-05T13:37:38.652Z"
   },
   {
    "duration": 34,
    "start_time": "2022-05-05T13:37:38.813Z"
   },
   {
    "duration": 18,
    "start_time": "2022-05-05T13:37:38.849Z"
   },
   {
    "duration": 22,
    "start_time": "2022-05-05T13:37:38.869Z"
   },
   {
    "duration": 50,
    "start_time": "2022-05-05T13:37:38.893Z"
   },
   {
    "duration": 143,
    "start_time": "2022-05-05T13:37:38.945Z"
   },
   {
    "duration": 110,
    "start_time": "2022-05-05T13:37:39.090Z"
   },
   {
    "duration": 42,
    "start_time": "2022-05-05T13:37:39.202Z"
   },
   {
    "duration": 6,
    "start_time": "2022-05-05T13:37:39.246Z"
   },
   {
    "duration": 13,
    "start_time": "2022-05-05T13:37:39.254Z"
   },
   {
    "duration": 9,
    "start_time": "2022-05-05T13:37:39.269Z"
   },
   {
    "duration": 158,
    "start_time": "2022-05-05T13:37:39.279Z"
   },
   {
    "duration": 92,
    "start_time": "2022-05-05T13:37:39.439Z"
   },
   {
    "duration": 7,
    "start_time": "2022-05-05T13:37:39.533Z"
   },
   {
    "duration": 34,
    "start_time": "2022-05-05T13:37:39.542Z"
   },
   {
    "duration": 12,
    "start_time": "2022-05-05T13:37:39.578Z"
   },
   {
    "duration": 158,
    "start_time": "2022-05-05T13:37:39.592Z"
   },
   {
    "duration": 156,
    "start_time": "2022-05-05T13:37:39.751Z"
   },
   {
    "duration": 676,
    "start_time": "2022-05-05T13:37:46.918Z"
   },
   {
    "duration": 84,
    "start_time": "2022-05-05T13:37:47.597Z"
   },
   {
    "duration": 20,
    "start_time": "2022-05-05T13:37:47.683Z"
   },
   {
    "duration": 30,
    "start_time": "2022-05-05T13:37:47.705Z"
   },
   {
    "duration": 7,
    "start_time": "2022-05-05T13:37:47.737Z"
   },
   {
    "duration": 15,
    "start_time": "2022-05-05T13:37:47.746Z"
   },
   {
    "duration": 11,
    "start_time": "2022-05-05T13:37:47.763Z"
   },
   {
    "duration": 48,
    "start_time": "2022-05-05T13:37:47.776Z"
   },
   {
    "duration": 15,
    "start_time": "2022-05-05T13:37:47.827Z"
   },
   {
    "duration": 13,
    "start_time": "2022-05-05T13:37:47.845Z"
   },
   {
    "duration": 8,
    "start_time": "2022-05-05T13:37:47.860Z"
   },
   {
    "duration": 6,
    "start_time": "2022-05-05T13:37:47.869Z"
   },
   {
    "duration": 52,
    "start_time": "2022-05-05T13:37:47.877Z"
   },
   {
    "duration": 78,
    "start_time": "2022-05-05T13:37:47.931Z"
   },
   {
    "duration": 27,
    "start_time": "2022-05-05T13:37:48.011Z"
   },
   {
    "duration": 5,
    "start_time": "2022-05-05T13:37:48.040Z"
   },
   {
    "duration": 4784,
    "start_time": "2022-05-05T13:37:48.047Z"
   },
   {
    "duration": 21,
    "start_time": "2022-05-05T13:37:52.833Z"
   },
   {
    "duration": 19,
    "start_time": "2022-05-05T13:37:52.856Z"
   },
   {
    "duration": 93,
    "start_time": "2022-05-05T13:37:52.877Z"
   },
   {
    "duration": 20,
    "start_time": "2022-05-05T13:37:52.972Z"
   },
   {
    "duration": 52,
    "start_time": "2022-05-05T13:37:52.994Z"
   },
   {
    "duration": 21,
    "start_time": "2022-05-05T13:37:53.049Z"
   },
   {
    "duration": 17,
    "start_time": "2022-05-05T13:37:53.072Z"
   },
   {
    "duration": 44,
    "start_time": "2022-05-05T13:37:53.091Z"
   },
   {
    "duration": 13,
    "start_time": "2022-05-05T13:37:53.137Z"
   },
   {
    "duration": 20,
    "start_time": "2022-05-05T13:37:53.152Z"
   },
   {
    "duration": 15,
    "start_time": "2022-05-05T13:37:53.178Z"
   },
   {
    "duration": 42,
    "start_time": "2022-05-05T13:37:53.195Z"
   },
   {
    "duration": 20,
    "start_time": "2022-05-05T13:37:53.238Z"
   },
   {
    "duration": 5,
    "start_time": "2022-05-05T13:37:53.260Z"
   },
   {
    "duration": 12,
    "start_time": "2022-05-05T13:37:53.266Z"
   },
   {
    "duration": 4,
    "start_time": "2022-05-05T13:37:53.280Z"
   },
   {
    "duration": 68,
    "start_time": "2022-05-05T13:37:53.286Z"
   },
   {
    "duration": 23,
    "start_time": "2022-05-05T13:37:53.356Z"
   },
   {
    "duration": 5,
    "start_time": "2022-05-05T13:37:53.381Z"
   },
   {
    "duration": 47,
    "start_time": "2022-05-05T13:37:53.388Z"
   },
   {
    "duration": 6,
    "start_time": "2022-05-05T13:37:53.437Z"
   },
   {
    "duration": 29,
    "start_time": "2022-05-05T13:37:53.445Z"
   },
   {
    "duration": 5,
    "start_time": "2022-05-05T13:37:53.476Z"
   },
   {
    "duration": 11,
    "start_time": "2022-05-05T13:37:53.483Z"
   },
   {
    "duration": 54,
    "start_time": "2022-05-05T13:37:53.496Z"
   },
   {
    "duration": 207,
    "start_time": "2022-05-05T13:37:53.552Z"
   },
   {
    "duration": 24,
    "start_time": "2022-05-05T13:37:53.761Z"
   },
   {
    "duration": 17,
    "start_time": "2022-05-05T13:37:53.787Z"
   },
   {
    "duration": 23,
    "start_time": "2022-05-05T13:37:53.824Z"
   },
   {
    "duration": 21,
    "start_time": "2022-05-05T13:37:53.848Z"
   },
   {
    "duration": 157,
    "start_time": "2022-05-05T13:37:53.871Z"
   },
   {
    "duration": 101,
    "start_time": "2022-05-05T13:37:54.030Z"
   },
   {
    "duration": 30,
    "start_time": "2022-05-05T13:37:54.133Z"
   },
   {
    "duration": 8,
    "start_time": "2022-05-05T13:37:54.164Z"
   },
   {
    "duration": 10,
    "start_time": "2022-05-05T13:37:54.174Z"
   },
   {
    "duration": 4,
    "start_time": "2022-05-05T13:37:54.186Z"
   },
   {
    "duration": 183,
    "start_time": "2022-05-05T13:37:54.191Z"
   },
   {
    "duration": 84,
    "start_time": "2022-05-05T13:37:54.376Z"
   },
   {
    "duration": 8,
    "start_time": "2022-05-05T13:37:54.461Z"
   },
   {
    "duration": 23,
    "start_time": "2022-05-05T13:37:54.471Z"
   },
   {
    "duration": 7,
    "start_time": "2022-05-05T13:37:54.496Z"
   },
   {
    "duration": 165,
    "start_time": "2022-05-05T13:37:54.524Z"
   },
   {
    "duration": 155,
    "start_time": "2022-05-05T13:37:54.691Z"
   },
   {
    "duration": 913,
    "start_time": "2022-05-05T13:39:10.511Z"
   },
   {
    "duration": 80,
    "start_time": "2022-05-05T13:39:11.427Z"
   },
   {
    "duration": 18,
    "start_time": "2022-05-05T13:39:11.509Z"
   },
   {
    "duration": 14,
    "start_time": "2022-05-05T13:39:11.529Z"
   },
   {
    "duration": 16,
    "start_time": "2022-05-05T13:39:11.544Z"
   },
   {
    "duration": 15,
    "start_time": "2022-05-05T13:39:11.561Z"
   },
   {
    "duration": 9,
    "start_time": "2022-05-05T13:39:11.578Z"
   },
   {
    "duration": 47,
    "start_time": "2022-05-05T13:39:11.589Z"
   },
   {
    "duration": 13,
    "start_time": "2022-05-05T13:39:11.638Z"
   },
   {
    "duration": 13,
    "start_time": "2022-05-05T13:39:11.653Z"
   },
   {
    "duration": 10,
    "start_time": "2022-05-05T13:39:11.668Z"
   },
   {
    "duration": 7,
    "start_time": "2022-05-05T13:39:11.680Z"
   },
   {
    "duration": 39,
    "start_time": "2022-05-05T13:39:11.688Z"
   },
   {
    "duration": 34,
    "start_time": "2022-05-05T13:39:11.728Z"
   },
   {
    "duration": 18,
    "start_time": "2022-05-05T13:39:11.764Z"
   },
   {
    "duration": 3,
    "start_time": "2022-05-05T13:39:11.784Z"
   },
   {
    "duration": 2875,
    "start_time": "2022-05-05T13:39:11.789Z"
   },
   {
    "duration": 14,
    "start_time": "2022-05-05T13:39:14.666Z"
   },
   {
    "duration": 19,
    "start_time": "2022-05-05T13:39:14.682Z"
   },
   {
    "duration": 72,
    "start_time": "2022-05-05T13:39:14.703Z"
   },
   {
    "duration": 19,
    "start_time": "2022-05-05T13:39:14.777Z"
   },
   {
    "duration": 43,
    "start_time": "2022-05-05T13:39:14.798Z"
   },
   {
    "duration": 19,
    "start_time": "2022-05-05T13:39:14.844Z"
   },
   {
    "duration": 12,
    "start_time": "2022-05-05T13:39:14.865Z"
   },
   {
    "duration": 56,
    "start_time": "2022-05-05T13:39:14.879Z"
   },
   {
    "duration": 19,
    "start_time": "2022-05-05T13:39:14.937Z"
   },
   {
    "duration": 24,
    "start_time": "2022-05-05T13:39:14.958Z"
   },
   {
    "duration": 43,
    "start_time": "2022-05-05T13:39:14.988Z"
   },
   {
    "duration": 23,
    "start_time": "2022-05-05T13:39:15.033Z"
   },
   {
    "duration": 32,
    "start_time": "2022-05-05T13:39:15.058Z"
   },
   {
    "duration": 5,
    "start_time": "2022-05-05T13:39:15.091Z"
   },
   {
    "duration": 26,
    "start_time": "2022-05-05T13:39:15.098Z"
   },
   {
    "duration": 3,
    "start_time": "2022-05-05T13:39:15.126Z"
   },
   {
    "duration": 29,
    "start_time": "2022-05-05T13:39:15.131Z"
   },
   {
    "duration": 16,
    "start_time": "2022-05-05T13:39:15.161Z"
   },
   {
    "duration": 3,
    "start_time": "2022-05-05T13:39:15.179Z"
   },
   {
    "duration": 42,
    "start_time": "2022-05-05T13:39:15.184Z"
   },
   {
    "duration": 5,
    "start_time": "2022-05-05T13:39:15.227Z"
   },
   {
    "duration": 14,
    "start_time": "2022-05-05T13:39:15.234Z"
   },
   {
    "duration": 9,
    "start_time": "2022-05-05T13:39:15.250Z"
   },
   {
    "duration": 7,
    "start_time": "2022-05-05T13:39:15.260Z"
   },
   {
    "duration": 63,
    "start_time": "2022-05-05T13:39:15.269Z"
   },
   {
    "duration": 191,
    "start_time": "2022-05-05T13:39:15.334Z"
   },
   {
    "duration": 22,
    "start_time": "2022-05-05T13:39:15.526Z"
   },
   {
    "duration": 16,
    "start_time": "2022-05-05T13:39:15.549Z"
   },
   {
    "duration": 26,
    "start_time": "2022-05-05T13:39:15.566Z"
   },
   {
    "duration": 42,
    "start_time": "2022-05-05T13:39:15.594Z"
   },
   {
    "duration": 127,
    "start_time": "2022-05-05T13:39:15.638Z"
   },
   {
    "duration": 98,
    "start_time": "2022-05-05T13:39:15.766Z"
   },
   {
    "duration": 26,
    "start_time": "2022-05-05T13:39:15.866Z"
   },
   {
    "duration": 6,
    "start_time": "2022-05-05T13:39:15.894Z"
   },
   {
    "duration": 27,
    "start_time": "2022-05-05T13:39:15.902Z"
   },
   {
    "duration": 7,
    "start_time": "2022-05-05T13:39:15.931Z"
   },
   {
    "duration": 140,
    "start_time": "2022-05-05T13:39:15.940Z"
   },
   {
    "duration": 78,
    "start_time": "2022-05-05T13:39:16.082Z"
   },
   {
    "duration": 7,
    "start_time": "2022-05-05T13:39:16.162Z"
   },
   {
    "duration": 21,
    "start_time": "2022-05-05T13:39:16.171Z"
   },
   {
    "duration": 6,
    "start_time": "2022-05-05T13:39:16.193Z"
   },
   {
    "duration": 173,
    "start_time": "2022-05-05T13:39:16.201Z"
   },
   {
    "duration": 154,
    "start_time": "2022-05-05T13:39:16.376Z"
   },
   {
    "duration": 926,
    "start_time": "2022-05-05T13:40:23.420Z"
   },
   {
    "duration": 105,
    "start_time": "2022-05-05T13:40:24.349Z"
   },
   {
    "duration": 23,
    "start_time": "2022-05-05T13:40:24.457Z"
   },
   {
    "duration": 15,
    "start_time": "2022-05-05T13:40:24.482Z"
   },
   {
    "duration": 14,
    "start_time": "2022-05-05T13:40:24.499Z"
   },
   {
    "duration": 17,
    "start_time": "2022-05-05T13:40:24.515Z"
   },
   {
    "duration": 10,
    "start_time": "2022-05-05T13:40:24.534Z"
   },
   {
    "duration": 28,
    "start_time": "2022-05-05T13:40:24.545Z"
   },
   {
    "duration": 14,
    "start_time": "2022-05-05T13:40:24.575Z"
   },
   {
    "duration": 40,
    "start_time": "2022-05-05T13:40:24.592Z"
   },
   {
    "duration": 9,
    "start_time": "2022-05-05T13:40:24.634Z"
   },
   {
    "duration": 7,
    "start_time": "2022-05-05T13:40:24.644Z"
   },
   {
    "duration": 16,
    "start_time": "2022-05-05T13:40:24.653Z"
   },
   {
    "duration": 53,
    "start_time": "2022-05-05T13:40:24.671Z"
   },
   {
    "duration": 18,
    "start_time": "2022-05-05T13:40:24.726Z"
   },
   {
    "duration": 4,
    "start_time": "2022-05-05T13:40:24.746Z"
   },
   {
    "duration": 2779,
    "start_time": "2022-05-05T13:40:24.751Z"
   },
   {
    "duration": 14,
    "start_time": "2022-05-05T13:40:27.532Z"
   },
   {
    "duration": 24,
    "start_time": "2022-05-05T13:40:27.548Z"
   },
   {
    "duration": 78,
    "start_time": "2022-05-05T13:40:27.573Z"
   },
   {
    "duration": 17,
    "start_time": "2022-05-05T13:40:27.653Z"
   },
   {
    "duration": 22,
    "start_time": "2022-05-05T13:40:27.672Z"
   },
   {
    "duration": 32,
    "start_time": "2022-05-05T13:40:27.696Z"
   },
   {
    "duration": 10,
    "start_time": "2022-05-05T13:40:27.730Z"
   },
   {
    "duration": 19,
    "start_time": "2022-05-05T13:40:27.741Z"
   },
   {
    "duration": 20,
    "start_time": "2022-05-05T13:40:27.761Z"
   },
   {
    "duration": 16,
    "start_time": "2022-05-05T13:40:27.783Z"
   },
   {
    "duration": 16,
    "start_time": "2022-05-05T13:40:27.827Z"
   },
   {
    "duration": 16,
    "start_time": "2022-05-05T13:40:27.845Z"
   },
   {
    "duration": 17,
    "start_time": "2022-05-05T13:40:27.863Z"
   },
   {
    "duration": 4,
    "start_time": "2022-05-05T13:40:27.882Z"
   },
   {
    "duration": 40,
    "start_time": "2022-05-05T13:40:27.888Z"
   },
   {
    "duration": 3,
    "start_time": "2022-05-05T13:40:27.930Z"
   },
   {
    "duration": 28,
    "start_time": "2022-05-05T13:40:27.934Z"
   },
   {
    "duration": 17,
    "start_time": "2022-05-05T13:40:27.964Z"
   },
   {
    "duration": 5,
    "start_time": "2022-05-05T13:40:27.983Z"
   },
   {
    "duration": 52,
    "start_time": "2022-05-05T13:40:27.990Z"
   },
   {
    "duration": 6,
    "start_time": "2022-05-05T13:40:28.044Z"
   },
   {
    "duration": 19,
    "start_time": "2022-05-05T13:40:28.052Z"
   },
   {
    "duration": 6,
    "start_time": "2022-05-05T13:40:28.073Z"
   },
   {
    "duration": 13,
    "start_time": "2022-05-05T13:40:28.081Z"
   },
   {
    "duration": 60,
    "start_time": "2022-05-05T13:40:28.096Z"
   },
   {
    "duration": 215,
    "start_time": "2022-05-05T13:40:28.158Z"
   },
   {
    "duration": 25,
    "start_time": "2022-05-05T13:40:28.375Z"
   },
   {
    "duration": 31,
    "start_time": "2022-05-05T13:40:28.402Z"
   },
   {
    "duration": 23,
    "start_time": "2022-05-05T13:40:28.435Z"
   },
   {
    "duration": 20,
    "start_time": "2022-05-05T13:40:28.460Z"
   },
   {
    "duration": 156,
    "start_time": "2022-05-05T13:40:28.482Z"
   },
   {
    "duration": 98,
    "start_time": "2022-05-05T13:40:28.640Z"
   },
   {
    "duration": 26,
    "start_time": "2022-05-05T13:40:28.739Z"
   },
   {
    "duration": 6,
    "start_time": "2022-05-05T13:40:28.767Z"
   },
   {
    "duration": 9,
    "start_time": "2022-05-05T13:40:28.775Z"
   },
   {
    "duration": 6,
    "start_time": "2022-05-05T13:40:28.786Z"
   },
   {
    "duration": 140,
    "start_time": "2022-05-05T13:40:28.823Z"
   },
   {
    "duration": 91,
    "start_time": "2022-05-05T13:40:28.965Z"
   },
   {
    "duration": 8,
    "start_time": "2022-05-05T13:40:29.058Z"
   },
   {
    "duration": 19,
    "start_time": "2022-05-05T13:40:29.067Z"
   },
   {
    "duration": 7,
    "start_time": "2022-05-05T13:40:29.087Z"
   },
   {
    "duration": 263,
    "start_time": "2022-05-05T13:40:29.096Z"
   },
   {
    "duration": 155,
    "start_time": "2022-05-05T13:40:29.361Z"
   },
   {
    "duration": 889,
    "start_time": "2022-05-05T18:08:44.084Z"
   },
   {
    "duration": 131,
    "start_time": "2022-05-05T18:08:44.976Z"
   },
   {
    "duration": 42,
    "start_time": "2022-05-05T18:08:45.109Z"
   },
   {
    "duration": 22,
    "start_time": "2022-05-05T18:08:45.155Z"
   },
   {
    "duration": 13,
    "start_time": "2022-05-05T18:08:45.180Z"
   },
   {
    "duration": 42,
    "start_time": "2022-05-05T18:08:45.195Z"
   },
   {
    "duration": 19,
    "start_time": "2022-05-05T18:08:45.239Z"
   },
   {
    "duration": 67,
    "start_time": "2022-05-05T18:08:45.260Z"
   },
   {
    "duration": 24,
    "start_time": "2022-05-05T18:08:45.329Z"
   },
   {
    "duration": 18,
    "start_time": "2022-05-05T18:08:45.358Z"
   },
   {
    "duration": 17,
    "start_time": "2022-05-05T18:08:45.378Z"
   },
   {
    "duration": 43,
    "start_time": "2022-05-05T18:08:45.397Z"
   },
   {
    "duration": 26,
    "start_time": "2022-05-05T18:08:45.442Z"
   },
   {
    "duration": 97,
    "start_time": "2022-05-05T18:08:45.471Z"
   },
   {
    "duration": 55,
    "start_time": "2022-05-05T18:08:45.571Z"
   },
   {
    "duration": 8,
    "start_time": "2022-05-05T18:08:45.634Z"
   },
   {
    "duration": 5246,
    "start_time": "2022-05-05T18:08:45.645Z"
   },
   {
    "duration": 37,
    "start_time": "2022-05-05T18:08:50.894Z"
   },
   {
    "duration": 31,
    "start_time": "2022-05-05T18:08:50.933Z"
   },
   {
    "duration": 112,
    "start_time": "2022-05-05T18:08:50.966Z"
   },
   {
    "duration": 45,
    "start_time": "2022-05-05T18:08:51.081Z"
   },
   {
    "duration": 40,
    "start_time": "2022-05-05T18:08:51.129Z"
   },
   {
    "duration": 18,
    "start_time": "2022-05-05T18:08:51.171Z"
   },
   {
    "duration": 38,
    "start_time": "2022-05-05T18:08:51.191Z"
   },
   {
    "duration": 45,
    "start_time": "2022-05-05T18:08:51.231Z"
   },
   {
    "duration": 25,
    "start_time": "2022-05-05T18:08:51.279Z"
   },
   {
    "duration": 36,
    "start_time": "2022-05-05T18:08:51.306Z"
   },
   {
    "duration": 23,
    "start_time": "2022-05-05T18:08:51.350Z"
   },
   {
    "duration": 21,
    "start_time": "2022-05-05T18:08:51.376Z"
   },
   {
    "duration": 27,
    "start_time": "2022-05-05T18:08:51.431Z"
   },
   {
    "duration": 5,
    "start_time": "2022-05-05T18:08:51.461Z"
   },
   {
    "duration": 12,
    "start_time": "2022-05-05T18:08:51.468Z"
   },
   {
    "duration": 3,
    "start_time": "2022-05-05T18:08:51.483Z"
   },
   {
    "duration": 72,
    "start_time": "2022-05-05T18:08:51.489Z"
   },
   {
    "duration": 21,
    "start_time": "2022-05-05T18:08:51.563Z"
   },
   {
    "duration": 6,
    "start_time": "2022-05-05T18:08:51.586Z"
   },
   {
    "duration": 59,
    "start_time": "2022-05-05T18:08:51.594Z"
   },
   {
    "duration": 7,
    "start_time": "2022-05-05T18:08:51.656Z"
   },
   {
    "duration": 20,
    "start_time": "2022-05-05T18:08:51.665Z"
   },
   {
    "duration": 42,
    "start_time": "2022-05-05T18:08:51.687Z"
   },
   {
    "duration": 13,
    "start_time": "2022-05-05T18:08:51.732Z"
   },
   {
    "duration": 58,
    "start_time": "2022-05-05T18:08:51.748Z"
   },
   {
    "duration": 312,
    "start_time": "2022-05-05T18:08:51.827Z"
   },
   {
    "duration": 33,
    "start_time": "2022-05-05T18:08:52.142Z"
   },
   {
    "duration": 53,
    "start_time": "2022-05-05T18:08:52.177Z"
   },
   {
    "duration": 33,
    "start_time": "2022-05-05T18:08:52.232Z"
   },
   {
    "duration": 58,
    "start_time": "2022-05-05T18:08:52.268Z"
   },
   {
    "duration": 236,
    "start_time": "2022-05-05T18:08:52.329Z"
   },
   {
    "duration": 170,
    "start_time": "2022-05-05T18:08:52.567Z"
   },
   {
    "duration": 44,
    "start_time": "2022-05-05T18:08:52.740Z"
   },
   {
    "duration": 11,
    "start_time": "2022-05-05T18:08:52.786Z"
   },
   {
    "duration": 20,
    "start_time": "2022-05-05T18:08:52.829Z"
   },
   {
    "duration": 7,
    "start_time": "2022-05-05T18:08:52.851Z"
   },
   {
    "duration": 264,
    "start_time": "2022-05-05T18:08:52.860Z"
   },
   {
    "duration": 139,
    "start_time": "2022-05-05T18:08:53.127Z"
   },
   {
    "duration": 11,
    "start_time": "2022-05-05T18:08:53.268Z"
   },
   {
    "duration": 59,
    "start_time": "2022-05-05T18:08:53.281Z"
   },
   {
    "duration": 9,
    "start_time": "2022-05-05T18:08:53.343Z"
   },
   {
    "duration": 279,
    "start_time": "2022-05-05T18:08:53.354Z"
   },
   {
    "duration": 286,
    "start_time": "2022-05-05T18:08:53.635Z"
   },
   {
    "duration": 775,
    "start_time": "2022-05-06T20:24:27.906Z"
   },
   {
    "duration": 87,
    "start_time": "2022-05-06T20:24:28.683Z"
   },
   {
    "duration": 18,
    "start_time": "2022-05-06T20:24:28.772Z"
   },
   {
    "duration": 15,
    "start_time": "2022-05-06T20:24:28.793Z"
   },
   {
    "duration": 8,
    "start_time": "2022-05-06T20:24:28.810Z"
   },
   {
    "duration": 11,
    "start_time": "2022-05-06T20:24:28.819Z"
   },
   {
    "duration": 41,
    "start_time": "2022-05-06T20:24:28.832Z"
   },
   {
    "duration": 31,
    "start_time": "2022-05-06T20:24:28.875Z"
   },
   {
    "duration": 15,
    "start_time": "2022-05-06T20:24:28.908Z"
   },
   {
    "duration": 12,
    "start_time": "2022-05-06T20:24:28.926Z"
   },
   {
    "duration": 40,
    "start_time": "2022-05-06T20:24:28.940Z"
   },
   {
    "duration": 6,
    "start_time": "2022-05-06T20:24:28.982Z"
   },
   {
    "duration": 14,
    "start_time": "2022-05-06T20:24:28.989Z"
   },
   {
    "duration": 36,
    "start_time": "2022-05-06T20:24:29.005Z"
   },
   {
    "duration": 21,
    "start_time": "2022-05-06T20:24:29.072Z"
   },
   {
    "duration": 4,
    "start_time": "2022-05-06T20:24:29.094Z"
   },
   {
    "duration": 2583,
    "start_time": "2022-05-06T20:24:29.100Z"
   },
   {
    "duration": 16,
    "start_time": "2022-05-06T20:24:31.685Z"
   },
   {
    "duration": 26,
    "start_time": "2022-05-06T20:24:31.702Z"
   },
   {
    "duration": 78,
    "start_time": "2022-05-06T20:24:31.730Z"
   },
   {
    "duration": 17,
    "start_time": "2022-05-06T20:24:31.810Z"
   },
   {
    "duration": 21,
    "start_time": "2022-05-06T20:24:31.829Z"
   },
   {
    "duration": 32,
    "start_time": "2022-05-06T20:24:31.852Z"
   },
   {
    "duration": 10,
    "start_time": "2022-05-06T20:24:31.885Z"
   },
   {
    "duration": 28,
    "start_time": "2022-05-06T20:24:31.897Z"
   },
   {
    "duration": 13,
    "start_time": "2022-05-06T20:24:31.927Z"
   },
   {
    "duration": 46,
    "start_time": "2022-05-06T20:24:31.942Z"
   },
   {
    "duration": 16,
    "start_time": "2022-05-06T20:24:31.992Z"
   },
   {
    "duration": 14,
    "start_time": "2022-05-06T20:24:32.010Z"
   },
   {
    "duration": 26,
    "start_time": "2022-05-06T20:24:32.026Z"
   },
   {
    "duration": 5,
    "start_time": "2022-05-06T20:24:32.072Z"
   },
   {
    "duration": 30,
    "start_time": "2022-05-06T20:24:32.079Z"
   },
   {
    "duration": 8,
    "start_time": "2022-05-06T20:24:32.111Z"
   },
   {
    "duration": 29,
    "start_time": "2022-05-06T20:24:32.120Z"
   },
   {
    "duration": 16,
    "start_time": "2022-05-06T20:24:32.151Z"
   },
   {
    "duration": 4,
    "start_time": "2022-05-06T20:24:32.173Z"
   },
   {
    "duration": 23,
    "start_time": "2022-05-06T20:24:32.178Z"
   },
   {
    "duration": 5,
    "start_time": "2022-05-06T20:24:32.203Z"
   },
   {
    "duration": 20,
    "start_time": "2022-05-06T20:24:32.209Z"
   },
   {
    "duration": 4,
    "start_time": "2022-05-06T20:24:32.231Z"
   },
   {
    "duration": 10,
    "start_time": "2022-05-06T20:24:32.236Z"
   },
   {
    "duration": 113,
    "start_time": "2022-05-06T20:24:32.248Z"
   },
   {
    "duration": 154,
    "start_time": "2022-05-06T20:24:32.362Z"
   },
   {
    "duration": 23,
    "start_time": "2022-05-06T20:24:32.517Z"
   },
   {
    "duration": 36,
    "start_time": "2022-05-06T20:24:32.542Z"
   },
   {
    "duration": 24,
    "start_time": "2022-05-06T20:24:32.580Z"
   },
   {
    "duration": 21,
    "start_time": "2022-05-06T20:24:32.606Z"
   },
   {
    "duration": 157,
    "start_time": "2022-05-06T20:24:32.629Z"
   },
   {
    "duration": 103,
    "start_time": "2022-05-06T20:24:32.788Z"
   },
   {
    "duration": 28,
    "start_time": "2022-05-06T20:24:32.893Z"
   },
   {
    "duration": 6,
    "start_time": "2022-05-06T20:24:32.923Z"
   },
   {
    "duration": 8,
    "start_time": "2022-05-06T20:24:32.931Z"
   },
   {
    "duration": 34,
    "start_time": "2022-05-06T20:24:32.940Z"
   },
   {
    "duration": 147,
    "start_time": "2022-05-06T20:24:32.976Z"
   },
   {
    "duration": 81,
    "start_time": "2022-05-06T20:24:33.125Z"
   },
   {
    "duration": 7,
    "start_time": "2022-05-06T20:24:33.208Z"
   },
   {
    "duration": 19,
    "start_time": "2022-05-06T20:24:33.217Z"
   },
   {
    "duration": 11,
    "start_time": "2022-05-06T20:24:33.238Z"
   },
   {
    "duration": 161,
    "start_time": "2022-05-06T20:24:33.251Z"
   },
   {
    "duration": 149,
    "start_time": "2022-05-06T20:24:33.414Z"
   },
   {
    "duration": 9,
    "start_time": "2022-05-06T20:24:33.565Z"
   },
   {
    "duration": 108,
    "start_time": "2022-05-06T20:25:12.220Z"
   },
   {
    "duration": 13,
    "start_time": "2022-05-06T20:44:08.691Z"
   },
   {
    "duration": 11,
    "start_time": "2022-05-06T20:44:14.375Z"
   },
   {
    "duration": 68,
    "start_time": "2022-05-06T20:44:54.999Z"
   },
   {
    "duration": 231,
    "start_time": "2022-05-06T20:45:04.506Z"
   },
   {
    "duration": 13,
    "start_time": "2022-05-06T20:45:17.102Z"
   },
   {
    "duration": 136,
    "start_time": "2022-05-06T20:45:21.459Z"
   },
   {
    "duration": 13,
    "start_time": "2022-05-06T20:47:05.381Z"
   },
   {
    "duration": 7,
    "start_time": "2022-05-06T20:48:46.868Z"
   },
   {
    "duration": 5,
    "start_time": "2022-05-06T20:48:57.142Z"
   },
   {
    "duration": 5,
    "start_time": "2022-05-06T20:52:47.779Z"
   },
   {
    "duration": 5,
    "start_time": "2022-05-06T20:52:54.906Z"
   },
   {
    "duration": 8,
    "start_time": "2022-05-06T20:56:28.624Z"
   },
   {
    "duration": 7,
    "start_time": "2022-05-06T20:56:34.694Z"
   },
   {
    "duration": 3,
    "start_time": "2022-05-06T20:59:53.713Z"
   },
   {
    "duration": 22,
    "start_time": "2022-05-06T20:59:59.080Z"
   },
   {
    "duration": 2,
    "start_time": "2022-05-06T21:00:20.737Z"
   },
   {
    "duration": 23,
    "start_time": "2022-05-06T21:00:21.816Z"
   },
   {
    "duration": 629,
    "start_time": "2022-05-06T21:07:32.304Z"
   },
   {
    "duration": 85,
    "start_time": "2022-05-06T21:07:32.935Z"
   },
   {
    "duration": 18,
    "start_time": "2022-05-06T21:07:33.022Z"
   },
   {
    "duration": 16,
    "start_time": "2022-05-06T21:07:33.042Z"
   },
   {
    "duration": 15,
    "start_time": "2022-05-06T21:07:33.060Z"
   },
   {
    "duration": 12,
    "start_time": "2022-05-06T21:07:33.077Z"
   },
   {
    "duration": 11,
    "start_time": "2022-05-06T21:07:33.091Z"
   },
   {
    "duration": 33,
    "start_time": "2022-05-06T21:07:33.104Z"
   },
   {
    "duration": 35,
    "start_time": "2022-05-06T21:07:33.138Z"
   },
   {
    "duration": 13,
    "start_time": "2022-05-06T21:07:33.176Z"
   },
   {
    "duration": 16,
    "start_time": "2022-05-06T21:07:33.190Z"
   },
   {
    "duration": 5,
    "start_time": "2022-05-06T21:07:33.208Z"
   },
   {
    "duration": 25,
    "start_time": "2022-05-06T21:07:33.215Z"
   },
   {
    "duration": 49,
    "start_time": "2022-05-06T21:07:33.241Z"
   },
   {
    "duration": 18,
    "start_time": "2022-05-06T21:07:33.292Z"
   },
   {
    "duration": 4,
    "start_time": "2022-05-06T21:07:33.311Z"
   },
   {
    "duration": 2613,
    "start_time": "2022-05-06T21:07:33.317Z"
   },
   {
    "duration": 15,
    "start_time": "2022-05-06T21:07:35.932Z"
   },
   {
    "duration": 31,
    "start_time": "2022-05-06T21:07:35.949Z"
   },
   {
    "duration": 62,
    "start_time": "2022-05-06T21:07:35.982Z"
   },
   {
    "duration": 37,
    "start_time": "2022-05-06T21:07:36.046Z"
   },
   {
    "duration": 24,
    "start_time": "2022-05-06T21:07:36.084Z"
   },
   {
    "duration": 13,
    "start_time": "2022-05-06T21:07:36.110Z"
   },
   {
    "duration": 7,
    "start_time": "2022-05-06T21:07:36.125Z"
   },
   {
    "duration": 46,
    "start_time": "2022-05-06T21:07:36.134Z"
   },
   {
    "duration": 13,
    "start_time": "2022-05-06T21:07:36.182Z"
   },
   {
    "duration": 15,
    "start_time": "2022-05-06T21:07:36.196Z"
   },
   {
    "duration": 15,
    "start_time": "2022-05-06T21:07:36.215Z"
   },
   {
    "duration": 13,
    "start_time": "2022-05-06T21:07:36.232Z"
   },
   {
    "duration": 15,
    "start_time": "2022-05-06T21:07:36.274Z"
   },
   {
    "duration": 3,
    "start_time": "2022-05-06T21:07:36.291Z"
   },
   {
    "duration": 11,
    "start_time": "2022-05-06T21:07:36.296Z"
   },
   {
    "duration": 6,
    "start_time": "2022-05-06T21:07:36.308Z"
   },
   {
    "duration": 27,
    "start_time": "2022-05-06T21:07:36.316Z"
   },
   {
    "duration": 36,
    "start_time": "2022-05-06T21:07:36.344Z"
   },
   {
    "duration": 5,
    "start_time": "2022-05-06T21:07:36.381Z"
   },
   {
    "duration": 22,
    "start_time": "2022-05-06T21:07:36.387Z"
   },
   {
    "duration": 5,
    "start_time": "2022-05-06T21:07:36.410Z"
   },
   {
    "duration": 18,
    "start_time": "2022-05-06T21:07:36.416Z"
   },
   {
    "duration": 5,
    "start_time": "2022-05-06T21:07:36.435Z"
   },
   {
    "duration": 33,
    "start_time": "2022-05-06T21:07:36.441Z"
   },
   {
    "duration": 35,
    "start_time": "2022-05-06T21:07:36.475Z"
   },
   {
    "duration": 212,
    "start_time": "2022-05-06T21:07:36.512Z"
   },
   {
    "duration": 23,
    "start_time": "2022-05-06T21:07:36.725Z"
   },
   {
    "duration": 30,
    "start_time": "2022-05-06T21:07:36.749Z"
   },
   {
    "duration": 22,
    "start_time": "2022-05-06T21:07:36.781Z"
   },
   {
    "duration": 21,
    "start_time": "2022-05-06T21:07:36.804Z"
   },
   {
    "duration": 154,
    "start_time": "2022-05-06T21:07:36.826Z"
   },
   {
    "duration": 109,
    "start_time": "2022-05-06T21:07:36.981Z"
   },
   {
    "duration": 31,
    "start_time": "2022-05-06T21:07:37.091Z"
   },
   {
    "duration": 6,
    "start_time": "2022-05-06T21:07:37.124Z"
   },
   {
    "duration": 8,
    "start_time": "2022-05-06T21:07:37.132Z"
   },
   {
    "duration": 33,
    "start_time": "2022-05-06T21:07:37.141Z"
   },
   {
    "duration": 147,
    "start_time": "2022-05-06T21:07:37.176Z"
   },
   {
    "duration": 82,
    "start_time": "2022-05-06T21:07:37.325Z"
   },
   {
    "duration": 7,
    "start_time": "2022-05-06T21:07:37.409Z"
   },
   {
    "duration": 20,
    "start_time": "2022-05-06T21:07:37.418Z"
   },
   {
    "duration": 5,
    "start_time": "2022-05-06T21:07:37.439Z"
   },
   {
    "duration": 170,
    "start_time": "2022-05-06T21:07:37.445Z"
   },
   {
    "duration": 148,
    "start_time": "2022-05-06T21:07:37.617Z"
   },
   {
    "duration": 8,
    "start_time": "2022-05-06T21:07:37.766Z"
   },
   {
    "duration": 52,
    "start_time": "2022-05-09T08:14:12.157Z"
   },
   {
    "duration": 859,
    "start_time": "2022-05-09T08:14:19.865Z"
   },
   {
    "duration": 101,
    "start_time": "2022-05-09T08:14:20.726Z"
   },
   {
    "duration": 20,
    "start_time": "2022-05-09T08:14:20.829Z"
   },
   {
    "duration": 17,
    "start_time": "2022-05-09T08:14:20.851Z"
   },
   {
    "duration": 7,
    "start_time": "2022-05-09T08:14:20.869Z"
   },
   {
    "duration": 30,
    "start_time": "2022-05-09T08:14:20.878Z"
   },
   {
    "duration": 13,
    "start_time": "2022-05-09T08:14:20.909Z"
   },
   {
    "duration": 9,
    "start_time": "2022-05-09T08:14:20.924Z"
   },
   {
    "duration": 29,
    "start_time": "2022-05-09T08:14:20.934Z"
   },
   {
    "duration": 42,
    "start_time": "2022-05-09T08:14:20.966Z"
   },
   {
    "duration": 13,
    "start_time": "2022-05-09T08:14:21.010Z"
   },
   {
    "duration": 9,
    "start_time": "2022-05-09T08:14:21.025Z"
   },
   {
    "duration": 6,
    "start_time": "2022-05-09T08:14:21.035Z"
   },
   {
    "duration": 16,
    "start_time": "2022-05-09T08:14:21.043Z"
   },
   {
    "duration": 68,
    "start_time": "2022-05-09T08:14:21.060Z"
   },
   {
    "duration": 489,
    "start_time": "2022-05-09T08:14:21.130Z"
   },
   {
    "duration": 0,
    "start_time": "2022-05-09T08:14:21.622Z"
   },
   {
    "duration": 0,
    "start_time": "2022-05-09T08:14:21.623Z"
   },
   {
    "duration": 0,
    "start_time": "2022-05-09T08:14:21.624Z"
   },
   {
    "duration": 0,
    "start_time": "2022-05-09T08:14:21.626Z"
   },
   {
    "duration": 0,
    "start_time": "2022-05-09T08:14:21.627Z"
   },
   {
    "duration": 0,
    "start_time": "2022-05-09T08:14:21.628Z"
   },
   {
    "duration": 0,
    "start_time": "2022-05-09T08:14:21.630Z"
   },
   {
    "duration": 0,
    "start_time": "2022-05-09T08:14:21.631Z"
   },
   {
    "duration": 0,
    "start_time": "2022-05-09T08:14:21.632Z"
   },
   {
    "duration": 0,
    "start_time": "2022-05-09T08:14:21.634Z"
   },
   {
    "duration": 0,
    "start_time": "2022-05-09T08:14:21.635Z"
   },
   {
    "duration": 0,
    "start_time": "2022-05-09T08:14:21.636Z"
   },
   {
    "duration": 0,
    "start_time": "2022-05-09T08:14:21.637Z"
   },
   {
    "duration": 0,
    "start_time": "2022-05-09T08:14:21.638Z"
   },
   {
    "duration": 0,
    "start_time": "2022-05-09T08:14:21.639Z"
   },
   {
    "duration": 0,
    "start_time": "2022-05-09T08:14:21.640Z"
   },
   {
    "duration": 0,
    "start_time": "2022-05-09T08:14:21.642Z"
   },
   {
    "duration": 0,
    "start_time": "2022-05-09T08:14:21.643Z"
   },
   {
    "duration": 0,
    "start_time": "2022-05-09T08:14:21.644Z"
   },
   {
    "duration": 0,
    "start_time": "2022-05-09T08:14:21.645Z"
   },
   {
    "duration": 0,
    "start_time": "2022-05-09T08:14:21.646Z"
   },
   {
    "duration": 0,
    "start_time": "2022-05-09T08:14:21.648Z"
   },
   {
    "duration": 0,
    "start_time": "2022-05-09T08:14:21.649Z"
   },
   {
    "duration": 0,
    "start_time": "2022-05-09T08:14:21.650Z"
   },
   {
    "duration": 0,
    "start_time": "2022-05-09T08:14:21.651Z"
   },
   {
    "duration": 0,
    "start_time": "2022-05-09T08:14:21.652Z"
   },
   {
    "duration": 0,
    "start_time": "2022-05-09T08:14:21.653Z"
   },
   {
    "duration": 0,
    "start_time": "2022-05-09T08:14:21.654Z"
   },
   {
    "duration": 0,
    "start_time": "2022-05-09T08:14:21.655Z"
   },
   {
    "duration": 0,
    "start_time": "2022-05-09T08:14:21.656Z"
   },
   {
    "duration": 1,
    "start_time": "2022-05-09T08:14:21.657Z"
   },
   {
    "duration": 0,
    "start_time": "2022-05-09T08:14:21.707Z"
   },
   {
    "duration": 0,
    "start_time": "2022-05-09T08:14:21.708Z"
   },
   {
    "duration": 0,
    "start_time": "2022-05-09T08:14:21.710Z"
   },
   {
    "duration": 0,
    "start_time": "2022-05-09T08:14:21.711Z"
   },
   {
    "duration": 0,
    "start_time": "2022-05-09T08:14:21.712Z"
   },
   {
    "duration": 0,
    "start_time": "2022-05-09T08:14:21.713Z"
   },
   {
    "duration": 0,
    "start_time": "2022-05-09T08:14:21.714Z"
   },
   {
    "duration": 0,
    "start_time": "2022-05-09T08:14:21.715Z"
   },
   {
    "duration": 0,
    "start_time": "2022-05-09T08:14:21.716Z"
   },
   {
    "duration": 0,
    "start_time": "2022-05-09T08:14:21.717Z"
   },
   {
    "duration": 0,
    "start_time": "2022-05-09T08:14:21.718Z"
   },
   {
    "duration": 0,
    "start_time": "2022-05-09T08:14:21.720Z"
   },
   {
    "duration": 0,
    "start_time": "2022-05-09T08:14:21.721Z"
   },
   {
    "duration": 0,
    "start_time": "2022-05-09T08:14:21.722Z"
   },
   {
    "duration": 0,
    "start_time": "2022-05-09T08:14:21.723Z"
   },
   {
    "duration": 7,
    "start_time": "2022-05-09T08:14:45.019Z"
   },
   {
    "duration": 9,
    "start_time": "2022-05-09T08:14:59.507Z"
   },
   {
    "duration": 5,
    "start_time": "2022-05-09T08:15:29.824Z"
   },
   {
    "duration": 7,
    "start_time": "2022-05-09T08:15:37.292Z"
   },
   {
    "duration": 278,
    "start_time": "2022-05-09T08:27:31.298Z"
   },
   {
    "duration": 67,
    "start_time": "2022-05-09T08:28:08.264Z"
   },
   {
    "duration": 237,
    "start_time": "2022-05-09T08:28:19.544Z"
   },
   {
    "duration": 10,
    "start_time": "2022-05-09T08:29:52.770Z"
   },
   {
    "duration": 879,
    "start_time": "2022-05-09T08:30:02.448Z"
   },
   {
    "duration": 63,
    "start_time": "2022-05-09T08:32:51.178Z"
   },
   {
    "duration": 8,
    "start_time": "2022-05-09T08:33:15.625Z"
   },
   {
    "duration": 8,
    "start_time": "2022-05-09T08:33:24.616Z"
   },
   {
    "duration": 10,
    "start_time": "2022-05-09T08:35:44.408Z"
   },
   {
    "duration": 16,
    "start_time": "2022-05-09T08:35:47.552Z"
   },
   {
    "duration": 693,
    "start_time": "2022-05-09T08:35:54.990Z"
   },
   {
    "duration": 92,
    "start_time": "2022-05-09T08:35:55.685Z"
   },
   {
    "duration": 19,
    "start_time": "2022-05-09T08:35:55.779Z"
   },
   {
    "duration": 16,
    "start_time": "2022-05-09T08:35:55.807Z"
   },
   {
    "duration": 7,
    "start_time": "2022-05-09T08:35:55.825Z"
   },
   {
    "duration": 13,
    "start_time": "2022-05-09T08:35:55.834Z"
   },
   {
    "duration": 13,
    "start_time": "2022-05-09T08:35:55.849Z"
   },
   {
    "duration": 52,
    "start_time": "2022-05-09T08:35:55.864Z"
   },
   {
    "duration": 15,
    "start_time": "2022-05-09T08:35:55.918Z"
   },
   {
    "duration": 13,
    "start_time": "2022-05-09T08:35:55.935Z"
   },
   {
    "duration": 9,
    "start_time": "2022-05-09T08:35:55.949Z"
   },
   {
    "duration": 6,
    "start_time": "2022-05-09T08:35:55.959Z"
   },
   {
    "duration": 42,
    "start_time": "2022-05-09T08:35:55.967Z"
   },
   {
    "duration": 16,
    "start_time": "2022-05-09T08:35:56.011Z"
   },
   {
    "duration": 38,
    "start_time": "2022-05-09T08:35:56.028Z"
   },
   {
    "duration": 46,
    "start_time": "2022-05-09T08:35:56.068Z"
   },
   {
    "duration": 4,
    "start_time": "2022-05-09T08:35:56.115Z"
   },
   {
    "duration": 2929,
    "start_time": "2022-05-09T08:35:56.120Z"
   },
   {
    "duration": 14,
    "start_time": "2022-05-09T08:35:59.051Z"
   },
   {
    "duration": 19,
    "start_time": "2022-05-09T08:35:59.067Z"
   },
   {
    "duration": 77,
    "start_time": "2022-05-09T08:35:59.087Z"
   },
   {
    "duration": 18,
    "start_time": "2022-05-09T08:35:59.166Z"
   },
   {
    "duration": 34,
    "start_time": "2022-05-09T08:35:59.186Z"
   },
   {
    "duration": 12,
    "start_time": "2022-05-09T08:35:59.222Z"
   },
   {
    "duration": 10,
    "start_time": "2022-05-09T08:35:59.235Z"
   },
   {
    "duration": 20,
    "start_time": "2022-05-09T08:35:59.246Z"
   },
   {
    "duration": 47,
    "start_time": "2022-05-09T08:35:59.268Z"
   },
   {
    "duration": 17,
    "start_time": "2022-05-09T08:35:59.319Z"
   },
   {
    "duration": 15,
    "start_time": "2022-05-09T08:35:59.338Z"
   },
   {
    "duration": 15,
    "start_time": "2022-05-09T08:35:59.355Z"
   },
   {
    "duration": 50,
    "start_time": "2022-05-09T08:35:59.371Z"
   },
   {
    "duration": 5,
    "start_time": "2022-05-09T08:35:59.422Z"
   },
   {
    "duration": 10,
    "start_time": "2022-05-09T08:35:59.428Z"
   },
   {
    "duration": 5,
    "start_time": "2022-05-09T08:35:59.440Z"
   },
   {
    "duration": 28,
    "start_time": "2022-05-09T08:35:59.447Z"
   },
   {
    "duration": 42,
    "start_time": "2022-05-09T08:35:59.476Z"
   },
   {
    "duration": 4,
    "start_time": "2022-05-09T08:35:59.520Z"
   },
   {
    "duration": 20,
    "start_time": "2022-05-09T08:35:59.526Z"
   },
   {
    "duration": 4,
    "start_time": "2022-05-09T08:35:59.548Z"
   },
   {
    "duration": 13,
    "start_time": "2022-05-09T08:35:59.554Z"
   },
   {
    "duration": 40,
    "start_time": "2022-05-09T08:35:59.568Z"
   },
   {
    "duration": 5,
    "start_time": "2022-05-09T08:35:59.610Z"
   },
   {
    "duration": 40,
    "start_time": "2022-05-09T08:35:59.616Z"
   },
   {
    "duration": 251,
    "start_time": "2022-05-09T08:35:59.658Z"
   },
   {
    "duration": 24,
    "start_time": "2022-05-09T08:35:59.911Z"
   },
   {
    "duration": 26,
    "start_time": "2022-05-09T08:35:59.937Z"
   },
   {
    "duration": 54,
    "start_time": "2022-05-09T08:35:59.966Z"
   },
   {
    "duration": 21,
    "start_time": "2022-05-09T08:36:00.022Z"
   },
   {
    "duration": 159,
    "start_time": "2022-05-09T08:36:00.044Z"
   },
   {
    "duration": 116,
    "start_time": "2022-05-09T08:36:00.206Z"
   },
   {
    "duration": 31,
    "start_time": "2022-05-09T08:36:00.324Z"
   },
   {
    "duration": 17,
    "start_time": "2022-05-09T08:36:00.357Z"
   },
   {
    "duration": 32,
    "start_time": "2022-05-09T08:36:00.376Z"
   },
   {
    "duration": 22,
    "start_time": "2022-05-09T08:36:00.410Z"
   },
   {
    "duration": 168,
    "start_time": "2022-05-09T08:36:00.434Z"
   },
   {
    "duration": 86,
    "start_time": "2022-05-09T08:36:00.608Z"
   },
   {
    "duration": 8,
    "start_time": "2022-05-09T08:36:00.707Z"
   },
   {
    "duration": 51,
    "start_time": "2022-05-09T08:36:00.717Z"
   },
   {
    "duration": 10,
    "start_time": "2022-05-09T08:36:00.769Z"
   },
   {
    "duration": 170,
    "start_time": "2022-05-09T08:36:00.780Z"
   },
   {
    "duration": 169,
    "start_time": "2022-05-09T08:36:00.951Z"
   },
   {
    "duration": 4,
    "start_time": "2022-05-09T08:36:01.122Z"
   },
   {
    "duration": 686,
    "start_time": "2022-05-09T08:36:52.765Z"
   },
   {
    "duration": 93,
    "start_time": "2022-05-09T08:36:53.452Z"
   },
   {
    "duration": 21,
    "start_time": "2022-05-09T08:36:53.547Z"
   },
   {
    "duration": 17,
    "start_time": "2022-05-09T08:36:53.570Z"
   },
   {
    "duration": 25,
    "start_time": "2022-05-09T08:36:53.589Z"
   },
   {
    "duration": 12,
    "start_time": "2022-05-09T08:36:53.616Z"
   },
   {
    "duration": 9,
    "start_time": "2022-05-09T08:36:53.630Z"
   },
   {
    "duration": 33,
    "start_time": "2022-05-09T08:36:53.641Z"
   },
   {
    "duration": 45,
    "start_time": "2022-05-09T08:36:53.676Z"
   },
   {
    "duration": 14,
    "start_time": "2022-05-09T08:36:53.724Z"
   },
   {
    "duration": 9,
    "start_time": "2022-05-09T08:36:53.739Z"
   },
   {
    "duration": 6,
    "start_time": "2022-05-09T08:36:53.750Z"
   },
   {
    "duration": 10,
    "start_time": "2022-05-09T08:36:53.757Z"
   },
   {
    "duration": 46,
    "start_time": "2022-05-09T08:36:53.769Z"
   },
   {
    "duration": 36,
    "start_time": "2022-05-09T08:36:53.817Z"
   },
   {
    "duration": 18,
    "start_time": "2022-05-09T08:36:53.855Z"
   },
   {
    "duration": 3,
    "start_time": "2022-05-09T08:36:53.875Z"
   },
   {
    "duration": 2875,
    "start_time": "2022-05-09T08:36:53.880Z"
   },
   {
    "duration": 15,
    "start_time": "2022-05-09T08:36:56.757Z"
   },
   {
    "duration": 34,
    "start_time": "2022-05-09T08:36:56.773Z"
   },
   {
    "duration": 65,
    "start_time": "2022-05-09T08:36:56.809Z"
   },
   {
    "duration": 35,
    "start_time": "2022-05-09T08:36:56.875Z"
   },
   {
    "duration": 22,
    "start_time": "2022-05-09T08:36:56.911Z"
   },
   {
    "duration": 13,
    "start_time": "2022-05-09T08:36:56.934Z"
   },
   {
    "duration": 9,
    "start_time": "2022-05-09T08:36:56.949Z"
   },
   {
    "duration": 49,
    "start_time": "2022-05-09T08:36:56.960Z"
   },
   {
    "duration": 14,
    "start_time": "2022-05-09T08:36:57.010Z"
   },
   {
    "duration": 16,
    "start_time": "2022-05-09T08:36:57.028Z"
   },
   {
    "duration": 12,
    "start_time": "2022-05-09T08:36:57.046Z"
   },
   {
    "duration": 12,
    "start_time": "2022-05-09T08:36:57.060Z"
   },
   {
    "duration": 15,
    "start_time": "2022-05-09T08:36:57.107Z"
   },
   {
    "duration": 3,
    "start_time": "2022-05-09T08:36:57.124Z"
   },
   {
    "duration": 7,
    "start_time": "2022-05-09T08:36:57.129Z"
   },
   {
    "duration": 2,
    "start_time": "2022-05-09T08:36:57.138Z"
   },
   {
    "duration": 25,
    "start_time": "2022-05-09T08:36:57.142Z"
   },
   {
    "duration": 45,
    "start_time": "2022-05-09T08:36:57.169Z"
   },
   {
    "duration": 4,
    "start_time": "2022-05-09T08:36:57.216Z"
   },
   {
    "duration": 19,
    "start_time": "2022-05-09T08:36:57.221Z"
   },
   {
    "duration": 5,
    "start_time": "2022-05-09T08:36:57.242Z"
   },
   {
    "duration": 13,
    "start_time": "2022-05-09T08:36:57.249Z"
   },
   {
    "duration": 4,
    "start_time": "2022-05-09T08:36:57.263Z"
   },
   {
    "duration": 39,
    "start_time": "2022-05-09T08:36:57.269Z"
   },
   {
    "duration": 37,
    "start_time": "2022-05-09T08:36:57.310Z"
   },
   {
    "duration": 225,
    "start_time": "2022-05-09T08:36:57.348Z"
   },
   {
    "duration": 33,
    "start_time": "2022-05-09T08:36:57.575Z"
   },
   {
    "duration": 18,
    "start_time": "2022-05-09T08:36:57.610Z"
   },
   {
    "duration": 23,
    "start_time": "2022-05-09T08:36:57.630Z"
   },
   {
    "duration": 18,
    "start_time": "2022-05-09T08:36:57.655Z"
   },
   {
    "duration": 175,
    "start_time": "2022-05-09T08:36:57.676Z"
   },
   {
    "duration": 105,
    "start_time": "2022-05-09T08:36:57.852Z"
   },
   {
    "duration": 26,
    "start_time": "2022-05-09T08:36:57.958Z"
   },
   {
    "duration": 24,
    "start_time": "2022-05-09T08:36:57.986Z"
   },
   {
    "duration": 8,
    "start_time": "2022-05-09T08:36:58.012Z"
   },
   {
    "duration": 7,
    "start_time": "2022-05-09T08:36:58.021Z"
   },
   {
    "duration": 169,
    "start_time": "2022-05-09T08:36:58.030Z"
   },
   {
    "duration": 86,
    "start_time": "2022-05-09T08:36:58.200Z"
   },
   {
    "duration": 21,
    "start_time": "2022-05-09T08:36:58.288Z"
   },
   {
    "duration": 21,
    "start_time": "2022-05-09T08:36:58.311Z"
   },
   {
    "duration": 6,
    "start_time": "2022-05-09T08:36:58.334Z"
   },
   {
    "duration": 193,
    "start_time": "2022-05-09T08:36:58.342Z"
   },
   {
    "duration": 182,
    "start_time": "2022-05-09T08:36:58.537Z"
   },
   {
    "duration": 3,
    "start_time": "2022-05-09T08:36:58.721Z"
   },
   {
    "duration": 650,
    "start_time": "2022-05-09T08:43:47.327Z"
   },
   {
    "duration": 95,
    "start_time": "2022-05-09T08:43:47.979Z"
   },
   {
    "duration": 20,
    "start_time": "2022-05-09T08:43:48.076Z"
   },
   {
    "duration": 24,
    "start_time": "2022-05-09T08:43:48.098Z"
   },
   {
    "duration": 7,
    "start_time": "2022-05-09T08:43:48.124Z"
   },
   {
    "duration": 12,
    "start_time": "2022-05-09T08:43:48.133Z"
   },
   {
    "duration": 13,
    "start_time": "2022-05-09T08:43:48.147Z"
   },
   {
    "duration": 78,
    "start_time": "2022-05-09T08:43:48.162Z"
   },
   {
    "duration": 23,
    "start_time": "2022-05-09T08:43:48.242Z"
   },
   {
    "duration": 38,
    "start_time": "2022-05-09T08:43:48.269Z"
   },
   {
    "duration": 12,
    "start_time": "2022-05-09T08:43:48.310Z"
   },
   {
    "duration": 9,
    "start_time": "2022-05-09T08:43:48.324Z"
   },
   {
    "duration": 13,
    "start_time": "2022-05-09T08:43:48.335Z"
   },
   {
    "duration": 24,
    "start_time": "2022-05-09T08:43:48.350Z"
   },
   {
    "duration": 79,
    "start_time": "2022-05-09T08:43:48.376Z"
   },
   {
    "duration": 21,
    "start_time": "2022-05-09T08:43:48.456Z"
   },
   {
    "duration": 4,
    "start_time": "2022-05-09T08:43:48.479Z"
   },
   {
    "duration": 2942,
    "start_time": "2022-05-09T08:43:48.485Z"
   },
   {
    "duration": 16,
    "start_time": "2022-05-09T08:43:51.428Z"
   },
   {
    "duration": 19,
    "start_time": "2022-05-09T08:43:51.445Z"
   },
   {
    "duration": 88,
    "start_time": "2022-05-09T08:43:51.465Z"
   },
   {
    "duration": 19,
    "start_time": "2022-05-09T08:43:51.555Z"
   },
   {
    "duration": 54,
    "start_time": "2022-05-09T08:43:51.576Z"
   },
   {
    "duration": 18,
    "start_time": "2022-05-09T08:43:51.632Z"
   },
   {
    "duration": 11,
    "start_time": "2022-05-09T08:43:51.652Z"
   },
   {
    "duration": 48,
    "start_time": "2022-05-09T08:43:51.665Z"
   },
   {
    "duration": 14,
    "start_time": "2022-05-09T08:43:51.715Z"
   },
   {
    "duration": 15,
    "start_time": "2022-05-09T08:43:51.733Z"
   },
   {
    "duration": 13,
    "start_time": "2022-05-09T08:43:51.750Z"
   },
   {
    "duration": 43,
    "start_time": "2022-05-09T08:43:51.765Z"
   },
   {
    "duration": 15,
    "start_time": "2022-05-09T08:43:51.810Z"
   },
   {
    "duration": 4,
    "start_time": "2022-05-09T08:43:51.826Z"
   },
   {
    "duration": 8,
    "start_time": "2022-05-09T08:43:51.832Z"
   },
   {
    "duration": 4,
    "start_time": "2022-05-09T08:43:51.841Z"
   },
   {
    "duration": 65,
    "start_time": "2022-05-09T08:43:51.846Z"
   },
   {
    "duration": 26,
    "start_time": "2022-05-09T08:43:51.914Z"
   },
   {
    "duration": 6,
    "start_time": "2022-05-09T08:43:51.942Z"
   },
   {
    "duration": 20,
    "start_time": "2022-05-09T08:43:51.949Z"
   },
   {
    "duration": 38,
    "start_time": "2022-05-09T08:43:51.971Z"
   },
   {
    "duration": 14,
    "start_time": "2022-05-09T08:43:52.011Z"
   },
   {
    "duration": 5,
    "start_time": "2022-05-09T08:43:52.027Z"
   },
   {
    "duration": 6,
    "start_time": "2022-05-09T08:43:52.034Z"
   },
   {
    "duration": 100,
    "start_time": "2022-05-09T08:43:52.042Z"
   },
   {
    "duration": 209,
    "start_time": "2022-05-09T08:43:52.145Z"
   },
   {
    "duration": 24,
    "start_time": "2022-05-09T08:43:52.356Z"
   },
   {
    "duration": 36,
    "start_time": "2022-05-09T08:43:52.382Z"
   },
   {
    "duration": 23,
    "start_time": "2022-05-09T08:43:52.420Z"
   },
   {
    "duration": 18,
    "start_time": "2022-05-09T08:43:52.445Z"
   },
   {
    "duration": 174,
    "start_time": "2022-05-09T08:43:52.465Z"
   },
   {
    "duration": 107,
    "start_time": "2022-05-09T08:43:52.640Z"
   },
   {
    "duration": 28,
    "start_time": "2022-05-09T08:43:52.748Z"
   },
   {
    "duration": 31,
    "start_time": "2022-05-09T08:43:52.778Z"
   },
   {
    "duration": 7,
    "start_time": "2022-05-09T08:43:52.810Z"
   },
   {
    "duration": 5,
    "start_time": "2022-05-09T08:43:52.819Z"
   },
   {
    "duration": 173,
    "start_time": "2022-05-09T08:43:52.826Z"
   },
   {
    "duration": 88,
    "start_time": "2022-05-09T08:43:53.001Z"
   },
   {
    "duration": 23,
    "start_time": "2022-05-09T08:43:53.090Z"
   },
   {
    "duration": 19,
    "start_time": "2022-05-09T08:43:53.114Z"
   },
   {
    "duration": 7,
    "start_time": "2022-05-09T08:43:53.134Z"
   },
   {
    "duration": 195,
    "start_time": "2022-05-09T08:43:53.143Z"
   },
   {
    "duration": 176,
    "start_time": "2022-05-09T08:43:53.340Z"
   },
   {
    "duration": 5,
    "start_time": "2022-05-09T08:43:53.517Z"
   },
   {
    "duration": 688,
    "start_time": "2022-05-09T08:44:22.581Z"
   },
   {
    "duration": 97,
    "start_time": "2022-05-09T08:44:23.271Z"
   },
   {
    "duration": 21,
    "start_time": "2022-05-09T08:44:23.370Z"
   },
   {
    "duration": 33,
    "start_time": "2022-05-09T08:44:23.393Z"
   },
   {
    "duration": 4,
    "start_time": "2022-05-09T08:44:23.428Z"
   },
   {
    "duration": 15,
    "start_time": "2022-05-09T08:44:23.434Z"
   },
   {
    "duration": 9,
    "start_time": "2022-05-09T08:44:23.451Z"
   },
   {
    "duration": 47,
    "start_time": "2022-05-09T08:44:23.462Z"
   },
   {
    "duration": 17,
    "start_time": "2022-05-09T08:44:23.511Z"
   },
   {
    "duration": 13,
    "start_time": "2022-05-09T08:44:23.531Z"
   },
   {
    "duration": 9,
    "start_time": "2022-05-09T08:44:23.545Z"
   },
   {
    "duration": 6,
    "start_time": "2022-05-09T08:44:23.556Z"
   },
   {
    "duration": 45,
    "start_time": "2022-05-09T08:44:23.564Z"
   },
   {
    "duration": 25,
    "start_time": "2022-05-09T08:44:23.611Z"
   },
   {
    "duration": 75,
    "start_time": "2022-05-09T08:44:23.638Z"
   },
   {
    "duration": 29,
    "start_time": "2022-05-09T08:44:23.716Z"
   },
   {
    "duration": 4,
    "start_time": "2022-05-09T08:44:23.746Z"
   },
   {
    "duration": 2899,
    "start_time": "2022-05-09T08:44:23.752Z"
   },
   {
    "duration": 16,
    "start_time": "2022-05-09T08:44:26.653Z"
   },
   {
    "duration": 36,
    "start_time": "2022-05-09T08:44:26.671Z"
   },
   {
    "duration": 66,
    "start_time": "2022-05-09T08:44:26.709Z"
   },
   {
    "duration": 38,
    "start_time": "2022-05-09T08:44:26.777Z"
   },
   {
    "duration": 26,
    "start_time": "2022-05-09T08:44:26.817Z"
   },
   {
    "duration": 15,
    "start_time": "2022-05-09T08:44:26.845Z"
   },
   {
    "duration": 10,
    "start_time": "2022-05-09T08:44:26.861Z"
   },
   {
    "duration": 21,
    "start_time": "2022-05-09T08:44:26.907Z"
   },
   {
    "duration": 15,
    "start_time": "2022-05-09T08:44:26.930Z"
   },
   {
    "duration": 16,
    "start_time": "2022-05-09T08:44:26.949Z"
   },
   {
    "duration": 42,
    "start_time": "2022-05-09T08:44:26.967Z"
   },
   {
    "duration": 14,
    "start_time": "2022-05-09T08:44:27.011Z"
   },
   {
    "duration": 16,
    "start_time": "2022-05-09T08:44:27.027Z"
   },
   {
    "duration": 4,
    "start_time": "2022-05-09T08:44:27.044Z"
   },
   {
    "duration": 9,
    "start_time": "2022-05-09T08:44:27.049Z"
   },
   {
    "duration": 3,
    "start_time": "2022-05-09T08:44:27.060Z"
   },
   {
    "duration": 64,
    "start_time": "2022-05-09T08:44:27.064Z"
   },
   {
    "duration": 18,
    "start_time": "2022-05-09T08:44:27.129Z"
   },
   {
    "duration": 6,
    "start_time": "2022-05-09T08:44:27.149Z"
   },
   {
    "duration": 50,
    "start_time": "2022-05-09T08:44:27.157Z"
   },
   {
    "duration": 6,
    "start_time": "2022-05-09T08:44:27.210Z"
   },
   {
    "duration": 17,
    "start_time": "2022-05-09T08:44:27.218Z"
   },
   {
    "duration": 5,
    "start_time": "2022-05-09T08:44:27.237Z"
   },
   {
    "duration": 7,
    "start_time": "2022-05-09T08:44:27.244Z"
   },
   {
    "duration": 90,
    "start_time": "2022-05-09T08:44:27.253Z"
   },
   {
    "duration": 226,
    "start_time": "2022-05-09T08:44:27.345Z"
   },
   {
    "duration": 25,
    "start_time": "2022-05-09T08:44:27.573Z"
   },
   {
    "duration": 23,
    "start_time": "2022-05-09T08:44:27.607Z"
   },
   {
    "duration": 21,
    "start_time": "2022-05-09T08:44:27.633Z"
   },
   {
    "duration": 17,
    "start_time": "2022-05-09T08:44:27.656Z"
   },
   {
    "duration": 188,
    "start_time": "2022-05-09T08:44:27.675Z"
   },
   {
    "duration": 111,
    "start_time": "2022-05-09T08:44:27.865Z"
   },
   {
    "duration": 42,
    "start_time": "2022-05-09T08:44:27.978Z"
   },
   {
    "duration": 10,
    "start_time": "2022-05-09T08:44:28.022Z"
   },
   {
    "duration": 15,
    "start_time": "2022-05-09T08:44:28.034Z"
   },
   {
    "duration": 6,
    "start_time": "2022-05-09T08:44:28.051Z"
   },
   {
    "duration": 180,
    "start_time": "2022-05-09T08:44:28.059Z"
   },
   {
    "duration": 97,
    "start_time": "2022-05-09T08:44:28.241Z"
   },
   {
    "duration": 8,
    "start_time": "2022-05-09T08:44:28.341Z"
   },
   {
    "duration": 18,
    "start_time": "2022-05-09T08:44:28.351Z"
   },
   {
    "duration": 5,
    "start_time": "2022-05-09T08:44:28.371Z"
   },
   {
    "duration": 201,
    "start_time": "2022-05-09T08:44:28.378Z"
   },
   {
    "duration": 171,
    "start_time": "2022-05-09T08:44:28.581Z"
   },
   {
    "duration": 3,
    "start_time": "2022-05-09T08:44:28.754Z"
   },
   {
    "duration": 629,
    "start_time": "2022-05-09T08:44:55.034Z"
   },
   {
    "duration": 90,
    "start_time": "2022-05-09T08:44:55.665Z"
   },
   {
    "duration": 19,
    "start_time": "2022-05-09T08:44:55.757Z"
   },
   {
    "duration": 16,
    "start_time": "2022-05-09T08:44:55.779Z"
   },
   {
    "duration": 9,
    "start_time": "2022-05-09T08:44:55.808Z"
   },
   {
    "duration": 15,
    "start_time": "2022-05-09T08:44:55.819Z"
   },
   {
    "duration": 14,
    "start_time": "2022-05-09T08:44:55.836Z"
   },
   {
    "duration": 68,
    "start_time": "2022-05-09T08:44:55.853Z"
   },
   {
    "duration": 23,
    "start_time": "2022-05-09T08:44:55.923Z"
   },
   {
    "duration": 19,
    "start_time": "2022-05-09T08:44:55.950Z"
   },
   {
    "duration": 36,
    "start_time": "2022-05-09T08:44:55.972Z"
   },
   {
    "duration": 9,
    "start_time": "2022-05-09T08:44:56.010Z"
   },
   {
    "duration": 11,
    "start_time": "2022-05-09T08:44:56.021Z"
   },
   {
    "duration": 22,
    "start_time": "2022-05-09T08:44:56.034Z"
   },
   {
    "duration": 73,
    "start_time": "2022-05-09T08:44:56.058Z"
   },
   {
    "duration": 27,
    "start_time": "2022-05-09T08:44:56.134Z"
   },
   {
    "duration": 5,
    "start_time": "2022-05-09T08:44:56.164Z"
   },
   {
    "duration": 3022,
    "start_time": "2022-05-09T08:44:56.171Z"
   },
   {
    "duration": 22,
    "start_time": "2022-05-09T08:44:59.196Z"
   },
   {
    "duration": 21,
    "start_time": "2022-05-09T08:44:59.220Z"
   },
   {
    "duration": 93,
    "start_time": "2022-05-09T08:44:59.243Z"
   },
   {
    "duration": 17,
    "start_time": "2022-05-09T08:44:59.338Z"
   },
   {
    "duration": 22,
    "start_time": "2022-05-09T08:44:59.357Z"
   },
   {
    "duration": 37,
    "start_time": "2022-05-09T08:44:59.381Z"
   },
   {
    "duration": 9,
    "start_time": "2022-05-09T08:44:59.420Z"
   },
   {
    "duration": 22,
    "start_time": "2022-05-09T08:44:59.431Z"
   },
   {
    "duration": 51,
    "start_time": "2022-05-09T08:44:59.456Z"
   },
   {
    "duration": 15,
    "start_time": "2022-05-09T08:44:59.513Z"
   },
   {
    "duration": 14,
    "start_time": "2022-05-09T08:44:59.530Z"
   },
   {
    "duration": 13,
    "start_time": "2022-05-09T08:44:59.546Z"
   },
   {
    "duration": 49,
    "start_time": "2022-05-09T08:44:59.561Z"
   },
   {
    "duration": 5,
    "start_time": "2022-05-09T08:44:59.612Z"
   },
   {
    "duration": 10,
    "start_time": "2022-05-09T08:44:59.619Z"
   },
   {
    "duration": 4,
    "start_time": "2022-05-09T08:44:59.631Z"
   },
   {
    "duration": 26,
    "start_time": "2022-05-09T08:44:59.638Z"
   },
   {
    "duration": 50,
    "start_time": "2022-05-09T08:44:59.667Z"
   },
   {
    "duration": 4,
    "start_time": "2022-05-09T08:44:59.719Z"
   },
   {
    "duration": 19,
    "start_time": "2022-05-09T08:44:59.724Z"
   },
   {
    "duration": 4,
    "start_time": "2022-05-09T08:44:59.745Z"
   },
   {
    "duration": 14,
    "start_time": "2022-05-09T08:44:59.751Z"
   },
   {
    "duration": 5,
    "start_time": "2022-05-09T08:44:59.807Z"
   },
   {
    "duration": 7,
    "start_time": "2022-05-09T08:44:59.814Z"
   },
   {
    "duration": 39,
    "start_time": "2022-05-09T08:44:59.822Z"
   },
   {
    "duration": 249,
    "start_time": "2022-05-09T08:44:59.863Z"
   },
   {
    "duration": 24,
    "start_time": "2022-05-09T08:45:00.115Z"
   },
   {
    "duration": 18,
    "start_time": "2022-05-09T08:45:00.140Z"
   },
   {
    "duration": 49,
    "start_time": "2022-05-09T08:45:00.160Z"
   },
   {
    "duration": 19,
    "start_time": "2022-05-09T08:45:00.211Z"
   },
   {
    "duration": 168,
    "start_time": "2022-05-09T08:45:00.232Z"
   },
   {
    "duration": 123,
    "start_time": "2022-05-09T08:45:00.402Z"
   },
   {
    "duration": 28,
    "start_time": "2022-05-09T08:45:00.527Z"
   },
   {
    "duration": 7,
    "start_time": "2022-05-09T08:45:00.556Z"
   },
   {
    "duration": 14,
    "start_time": "2022-05-09T08:45:00.565Z"
   },
   {
    "duration": 30,
    "start_time": "2022-05-09T08:45:00.581Z"
   },
   {
    "duration": 164,
    "start_time": "2022-05-09T08:45:00.613Z"
   },
   {
    "duration": 101,
    "start_time": "2022-05-09T08:45:00.779Z"
   },
   {
    "duration": 9,
    "start_time": "2022-05-09T08:45:00.882Z"
   },
   {
    "duration": 24,
    "start_time": "2022-05-09T08:45:00.908Z"
   },
   {
    "duration": 12,
    "start_time": "2022-05-09T08:45:00.934Z"
   },
   {
    "duration": 186,
    "start_time": "2022-05-09T08:45:00.948Z"
   },
   {
    "duration": 173,
    "start_time": "2022-05-09T08:45:01.136Z"
   },
   {
    "duration": 4,
    "start_time": "2022-05-09T08:45:01.312Z"
   },
   {
    "duration": 646,
    "start_time": "2022-05-09T08:45:21.248Z"
   },
   {
    "duration": 95,
    "start_time": "2022-05-09T08:45:21.896Z"
   },
   {
    "duration": 29,
    "start_time": "2022-05-09T08:45:21.993Z"
   },
   {
    "duration": 18,
    "start_time": "2022-05-09T08:45:22.025Z"
   },
   {
    "duration": 9,
    "start_time": "2022-05-09T08:45:22.045Z"
   },
   {
    "duration": 9,
    "start_time": "2022-05-09T08:45:22.056Z"
   },
   {
    "duration": 42,
    "start_time": "2022-05-09T08:45:22.067Z"
   },
   {
    "duration": 10,
    "start_time": "2022-05-09T08:45:22.111Z"
   },
   {
    "duration": 31,
    "start_time": "2022-05-09T08:45:22.123Z"
   },
   {
    "duration": 16,
    "start_time": "2022-05-09T08:45:22.158Z"
   },
   {
    "duration": 42,
    "start_time": "2022-05-09T08:45:22.176Z"
   },
   {
    "duration": 9,
    "start_time": "2022-05-09T08:45:22.221Z"
   },
   {
    "duration": 7,
    "start_time": "2022-05-09T08:45:22.232Z"
   },
   {
    "duration": 11,
    "start_time": "2022-05-09T08:45:22.240Z"
   },
   {
    "duration": 15,
    "start_time": "2022-05-09T08:45:22.253Z"
   },
   {
    "duration": 39,
    "start_time": "2022-05-09T08:45:22.307Z"
   },
   {
    "duration": 27,
    "start_time": "2022-05-09T08:45:22.348Z"
   },
   {
    "duration": 6,
    "start_time": "2022-05-09T08:45:22.377Z"
   },
   {
    "duration": 3055,
    "start_time": "2022-05-09T08:45:22.408Z"
   },
   {
    "duration": 16,
    "start_time": "2022-05-09T08:45:25.464Z"
   },
   {
    "duration": 32,
    "start_time": "2022-05-09T08:45:25.482Z"
   },
   {
    "duration": 64,
    "start_time": "2022-05-09T08:45:25.516Z"
   },
   {
    "duration": 40,
    "start_time": "2022-05-09T08:45:25.582Z"
   },
   {
    "duration": 21,
    "start_time": "2022-05-09T08:45:25.624Z"
   },
   {
    "duration": 15,
    "start_time": "2022-05-09T08:45:25.647Z"
   },
   {
    "duration": 10,
    "start_time": "2022-05-09T08:45:25.664Z"
   },
   {
    "duration": 31,
    "start_time": "2022-05-09T08:45:25.709Z"
   },
   {
    "duration": 14,
    "start_time": "2022-05-09T08:45:25.744Z"
   },
   {
    "duration": 15,
    "start_time": "2022-05-09T08:45:25.760Z"
   },
   {
    "duration": 40,
    "start_time": "2022-05-09T08:45:25.777Z"
   },
   {
    "duration": 13,
    "start_time": "2022-05-09T08:45:25.819Z"
   },
   {
    "duration": 15,
    "start_time": "2022-05-09T08:45:25.834Z"
   },
   {
    "duration": 4,
    "start_time": "2022-05-09T08:45:25.851Z"
   },
   {
    "duration": 8,
    "start_time": "2022-05-09T08:45:25.857Z"
   },
   {
    "duration": 3,
    "start_time": "2022-05-09T08:45:25.907Z"
   },
   {
    "duration": 28,
    "start_time": "2022-05-09T08:45:25.912Z"
   },
   {
    "duration": 21,
    "start_time": "2022-05-09T08:45:25.942Z"
   },
   {
    "duration": 5,
    "start_time": "2022-05-09T08:45:25.965Z"
   },
   {
    "duration": 58,
    "start_time": "2022-05-09T08:45:25.973Z"
   },
   {
    "duration": 7,
    "start_time": "2022-05-09T08:45:26.033Z"
   },
   {
    "duration": 19,
    "start_time": "2022-05-09T08:45:26.042Z"
   },
   {
    "duration": 5,
    "start_time": "2022-05-09T08:45:26.064Z"
   },
   {
    "duration": 37,
    "start_time": "2022-05-09T08:45:26.071Z"
   },
   {
    "duration": 50,
    "start_time": "2022-05-09T08:45:26.111Z"
   },
   {
    "duration": 229,
    "start_time": "2022-05-09T08:45:26.163Z"
   },
   {
    "duration": 32,
    "start_time": "2022-05-09T08:45:26.394Z"
   },
   {
    "duration": 17,
    "start_time": "2022-05-09T08:45:26.428Z"
   },
   {
    "duration": 22,
    "start_time": "2022-05-09T08:45:26.446Z"
   },
   {
    "duration": 47,
    "start_time": "2022-05-09T08:45:26.469Z"
   },
   {
    "duration": 161,
    "start_time": "2022-05-09T08:45:26.517Z"
   },
   {
    "duration": 108,
    "start_time": "2022-05-09T08:45:26.680Z"
   },
   {
    "duration": 37,
    "start_time": "2022-05-09T08:45:26.791Z"
   },
   {
    "duration": 6,
    "start_time": "2022-05-09T08:45:26.830Z"
   },
   {
    "duration": 7,
    "start_time": "2022-05-09T08:45:26.838Z"
   },
   {
    "duration": 5,
    "start_time": "2022-05-09T08:45:26.847Z"
   },
   {
    "duration": 202,
    "start_time": "2022-05-09T08:45:26.853Z"
   },
   {
    "duration": 98,
    "start_time": "2022-05-09T08:45:27.056Z"
   },
   {
    "duration": 10,
    "start_time": "2022-05-09T08:45:27.155Z"
   },
   {
    "duration": 41,
    "start_time": "2022-05-09T08:45:27.167Z"
   },
   {
    "duration": 6,
    "start_time": "2022-05-09T08:45:27.210Z"
   },
   {
    "duration": 178,
    "start_time": "2022-05-09T08:45:27.218Z"
   },
   {
    "duration": 181,
    "start_time": "2022-05-09T08:45:27.398Z"
   },
   {
    "duration": 4,
    "start_time": "2022-05-09T08:45:27.581Z"
   },
   {
    "duration": 84,
    "start_time": "2022-05-09T08:47:40.394Z"
   },
   {
    "duration": 4,
    "start_time": "2022-05-09T08:48:24.721Z"
   },
   {
    "duration": 687,
    "start_time": "2022-05-09T08:48:55.499Z"
   },
   {
    "duration": 90,
    "start_time": "2022-05-09T08:48:56.188Z"
   },
   {
    "duration": 18,
    "start_time": "2022-05-09T08:48:56.280Z"
   },
   {
    "duration": 20,
    "start_time": "2022-05-09T08:48:56.301Z"
   },
   {
    "duration": 9,
    "start_time": "2022-05-09T08:48:56.322Z"
   },
   {
    "duration": 8,
    "start_time": "2022-05-09T08:48:56.333Z"
   },
   {
    "duration": 10,
    "start_time": "2022-05-09T08:48:56.343Z"
   },
   {
    "duration": 8,
    "start_time": "2022-05-09T08:48:56.355Z"
   },
   {
    "duration": 61,
    "start_time": "2022-05-09T08:48:56.365Z"
   },
   {
    "duration": 4,
    "start_time": "2022-05-09T08:48:56.430Z"
   },
   {
    "duration": 18,
    "start_time": "2022-05-09T08:48:56.435Z"
   },
   {
    "duration": 13,
    "start_time": "2022-05-09T08:48:56.455Z"
   },
   {
    "duration": 11,
    "start_time": "2022-05-09T08:48:56.470Z"
   },
   {
    "duration": 26,
    "start_time": "2022-05-09T08:48:56.483Z"
   },
   {
    "duration": 16,
    "start_time": "2022-05-09T08:48:56.511Z"
   },
   {
    "duration": 36,
    "start_time": "2022-05-09T08:48:56.529Z"
   },
   {
    "duration": 45,
    "start_time": "2022-05-09T08:48:56.566Z"
   },
   {
    "duration": 3,
    "start_time": "2022-05-09T08:48:56.613Z"
   },
   {
    "duration": 3034,
    "start_time": "2022-05-09T08:48:56.618Z"
   },
   {
    "duration": 17,
    "start_time": "2022-05-09T08:48:59.654Z"
   },
   {
    "duration": 35,
    "start_time": "2022-05-09T08:48:59.673Z"
   },
   {
    "duration": 69,
    "start_time": "2022-05-09T08:48:59.710Z"
   },
   {
    "duration": 36,
    "start_time": "2022-05-09T08:48:59.780Z"
   },
   {
    "duration": 24,
    "start_time": "2022-05-09T08:48:59.817Z"
   },
   {
    "duration": 14,
    "start_time": "2022-05-09T08:48:59.843Z"
   },
   {
    "duration": 10,
    "start_time": "2022-05-09T08:48:59.858Z"
   },
   {
    "duration": 67,
    "start_time": "2022-05-09T08:48:59.870Z"
   },
   {
    "duration": 17,
    "start_time": "2022-05-09T08:48:59.943Z"
   },
   {
    "duration": 16,
    "start_time": "2022-05-09T08:48:59.962Z"
   },
   {
    "duration": 52,
    "start_time": "2022-05-09T08:48:59.980Z"
   },
   {
    "duration": 18,
    "start_time": "2022-05-09T08:49:00.034Z"
   },
   {
    "duration": 16,
    "start_time": "2022-05-09T08:49:00.053Z"
   },
   {
    "duration": 4,
    "start_time": "2022-05-09T08:49:00.070Z"
   },
   {
    "duration": 10,
    "start_time": "2022-05-09T08:49:00.076Z"
   },
   {
    "duration": 5,
    "start_time": "2022-05-09T08:49:00.088Z"
   },
   {
    "duration": 37,
    "start_time": "2022-05-09T08:49:00.095Z"
   },
   {
    "duration": 16,
    "start_time": "2022-05-09T08:49:00.135Z"
   },
   {
    "duration": 4,
    "start_time": "2022-05-09T08:49:00.153Z"
   },
   {
    "duration": 22,
    "start_time": "2022-05-09T08:49:00.159Z"
   },
   {
    "duration": 28,
    "start_time": "2022-05-09T08:49:00.182Z"
   },
   {
    "duration": 15,
    "start_time": "2022-05-09T08:49:00.212Z"
   },
   {
    "duration": 5,
    "start_time": "2022-05-09T08:49:00.228Z"
   },
   {
    "duration": 7,
    "start_time": "2022-05-09T08:49:00.234Z"
   },
   {
    "duration": 66,
    "start_time": "2022-05-09T08:49:00.243Z"
   },
   {
    "duration": 232,
    "start_time": "2022-05-09T08:49:00.311Z"
   },
   {
    "duration": 21,
    "start_time": "2022-05-09T08:49:00.545Z"
   },
   {
    "duration": 38,
    "start_time": "2022-05-09T08:49:00.569Z"
   },
   {
    "duration": 22,
    "start_time": "2022-05-09T08:49:00.609Z"
   },
   {
    "duration": 18,
    "start_time": "2022-05-09T08:49:00.633Z"
   },
   {
    "duration": 175,
    "start_time": "2022-05-09T08:49:00.652Z"
   },
   {
    "duration": 113,
    "start_time": "2022-05-09T08:49:00.829Z"
   },
   {
    "duration": 32,
    "start_time": "2022-05-09T08:49:00.944Z"
   },
   {
    "duration": 7,
    "start_time": "2022-05-09T08:49:00.978Z"
   },
   {
    "duration": 29,
    "start_time": "2022-05-09T08:49:00.986Z"
   },
   {
    "duration": 10,
    "start_time": "2022-05-09T08:49:01.016Z"
   },
   {
    "duration": 173,
    "start_time": "2022-05-09T08:49:01.028Z"
   },
   {
    "duration": 81,
    "start_time": "2022-05-09T08:49:01.207Z"
   },
   {
    "duration": 24,
    "start_time": "2022-05-09T08:49:01.290Z"
   },
   {
    "duration": 33,
    "start_time": "2022-05-09T08:49:01.317Z"
   },
   {
    "duration": 6,
    "start_time": "2022-05-09T08:49:01.352Z"
   },
   {
    "duration": 173,
    "start_time": "2022-05-09T08:49:01.360Z"
   },
   {
    "duration": 172,
    "start_time": "2022-05-09T08:49:01.535Z"
   },
   {
    "duration": 4,
    "start_time": "2022-05-09T08:49:01.709Z"
   },
   {
    "duration": 91,
    "start_time": "2022-05-09T09:34:23.511Z"
   },
   {
    "duration": 652,
    "start_time": "2022-05-09T09:34:28.743Z"
   },
   {
    "duration": 93,
    "start_time": "2022-05-09T09:34:29.397Z"
   },
   {
    "duration": 19,
    "start_time": "2022-05-09T09:34:29.492Z"
   },
   {
    "duration": 14,
    "start_time": "2022-05-09T09:34:29.513Z"
   },
   {
    "duration": 7,
    "start_time": "2022-05-09T09:34:29.529Z"
   },
   {
    "duration": 7,
    "start_time": "2022-05-09T09:34:29.537Z"
   },
   {
    "duration": 10,
    "start_time": "2022-05-09T09:34:29.545Z"
   },
   {
    "duration": 9,
    "start_time": "2022-05-09T09:34:29.557Z"
   },
   {
    "duration": 52,
    "start_time": "2022-05-09T09:34:29.567Z"
   },
   {
    "duration": 4,
    "start_time": "2022-05-09T09:34:29.622Z"
   },
   {
    "duration": 16,
    "start_time": "2022-05-09T09:34:29.628Z"
   },
   {
    "duration": 12,
    "start_time": "2022-05-09T09:34:29.645Z"
   },
   {
    "duration": 8,
    "start_time": "2022-05-09T09:34:29.659Z"
   },
   {
    "duration": 5,
    "start_time": "2022-05-09T09:34:29.669Z"
   },
   {
    "duration": 45,
    "start_time": "2022-05-09T09:34:29.676Z"
   },
   {
    "duration": 37,
    "start_time": "2022-05-09T09:34:29.723Z"
   },
   {
    "duration": 18,
    "start_time": "2022-05-09T09:34:29.761Z"
   },
   {
    "duration": 28,
    "start_time": "2022-05-09T09:34:29.781Z"
   },
   {
    "duration": 2852,
    "start_time": "2022-05-09T09:34:29.811Z"
   },
   {
    "duration": 15,
    "start_time": "2022-05-09T09:34:32.664Z"
   },
   {
    "duration": 31,
    "start_time": "2022-05-09T09:34:32.681Z"
   },
   {
    "duration": 64,
    "start_time": "2022-05-09T09:34:32.714Z"
   },
   {
    "duration": 34,
    "start_time": "2022-05-09T09:34:32.780Z"
   },
   {
    "duration": 21,
    "start_time": "2022-05-09T09:34:32.815Z"
   },
   {
    "duration": 12,
    "start_time": "2022-05-09T09:34:32.838Z"
   },
   {
    "duration": 8,
    "start_time": "2022-05-09T09:34:32.852Z"
   },
   {
    "duration": 49,
    "start_time": "2022-05-09T09:34:32.862Z"
   },
   {
    "duration": 16,
    "start_time": "2022-05-09T09:34:32.915Z"
   },
   {
    "duration": 14,
    "start_time": "2022-05-09T09:34:32.933Z"
   },
   {
    "duration": 12,
    "start_time": "2022-05-09T09:34:32.949Z"
   },
   {
    "duration": 12,
    "start_time": "2022-05-09T09:34:32.963Z"
   },
   {
    "duration": 43,
    "start_time": "2022-05-09T09:34:32.977Z"
   },
   {
    "duration": 186,
    "start_time": "2022-05-09T09:34:33.022Z"
   },
   {
    "duration": 0,
    "start_time": "2022-05-09T09:34:33.210Z"
   },
   {
    "duration": 0,
    "start_time": "2022-05-09T09:34:33.211Z"
   },
   {
    "duration": 0,
    "start_time": "2022-05-09T09:34:33.212Z"
   },
   {
    "duration": 0,
    "start_time": "2022-05-09T09:34:33.213Z"
   },
   {
    "duration": 0,
    "start_time": "2022-05-09T09:34:33.214Z"
   },
   {
    "duration": 0,
    "start_time": "2022-05-09T09:34:33.215Z"
   },
   {
    "duration": 0,
    "start_time": "2022-05-09T09:34:33.216Z"
   },
   {
    "duration": 0,
    "start_time": "2022-05-09T09:34:33.217Z"
   },
   {
    "duration": 0,
    "start_time": "2022-05-09T09:34:33.218Z"
   },
   {
    "duration": 0,
    "start_time": "2022-05-09T09:34:33.219Z"
   },
   {
    "duration": 0,
    "start_time": "2022-05-09T09:34:33.220Z"
   },
   {
    "duration": 0,
    "start_time": "2022-05-09T09:34:33.221Z"
   },
   {
    "duration": 0,
    "start_time": "2022-05-09T09:34:33.222Z"
   },
   {
    "duration": 0,
    "start_time": "2022-05-09T09:34:33.223Z"
   },
   {
    "duration": 0,
    "start_time": "2022-05-09T09:34:33.224Z"
   },
   {
    "duration": 0,
    "start_time": "2022-05-09T09:34:33.225Z"
   },
   {
    "duration": 1,
    "start_time": "2022-05-09T09:34:33.226Z"
   },
   {
    "duration": 0,
    "start_time": "2022-05-09T09:34:33.227Z"
   },
   {
    "duration": 0,
    "start_time": "2022-05-09T09:34:33.228Z"
   },
   {
    "duration": 0,
    "start_time": "2022-05-09T09:34:33.229Z"
   },
   {
    "duration": 0,
    "start_time": "2022-05-09T09:34:33.230Z"
   },
   {
    "duration": 0,
    "start_time": "2022-05-09T09:34:33.231Z"
   },
   {
    "duration": 0,
    "start_time": "2022-05-09T09:34:33.232Z"
   },
   {
    "duration": 0,
    "start_time": "2022-05-09T09:34:33.322Z"
   },
   {
    "duration": 0,
    "start_time": "2022-05-09T09:34:33.323Z"
   },
   {
    "duration": 0,
    "start_time": "2022-05-09T09:34:33.324Z"
   },
   {
    "duration": 0,
    "start_time": "2022-05-09T09:34:33.325Z"
   },
   {
    "duration": 0,
    "start_time": "2022-05-09T09:34:33.326Z"
   },
   {
    "duration": 0,
    "start_time": "2022-05-09T09:34:33.327Z"
   },
   {
    "duration": 0,
    "start_time": "2022-05-09T09:34:33.328Z"
   },
   {
    "duration": 0,
    "start_time": "2022-05-09T09:34:33.330Z"
   },
   {
    "duration": 88,
    "start_time": "2022-05-09T09:34:48.583Z"
   },
   {
    "duration": 661,
    "start_time": "2022-05-09T09:34:54.599Z"
   },
   {
    "duration": 91,
    "start_time": "2022-05-09T09:34:55.261Z"
   },
   {
    "duration": 19,
    "start_time": "2022-05-09T09:34:55.354Z"
   },
   {
    "duration": 18,
    "start_time": "2022-05-09T09:34:55.375Z"
   },
   {
    "duration": 16,
    "start_time": "2022-05-09T09:34:55.394Z"
   },
   {
    "duration": 8,
    "start_time": "2022-05-09T09:34:55.411Z"
   },
   {
    "duration": 10,
    "start_time": "2022-05-09T09:34:55.420Z"
   },
   {
    "duration": 8,
    "start_time": "2022-05-09T09:34:55.432Z"
   },
   {
    "duration": 29,
    "start_time": "2022-05-09T09:34:55.442Z"
   },
   {
    "duration": 4,
    "start_time": "2022-05-09T09:34:55.474Z"
   },
   {
    "duration": 15,
    "start_time": "2022-05-09T09:34:55.508Z"
   },
   {
    "duration": 12,
    "start_time": "2022-05-09T09:34:55.524Z"
   },
   {
    "duration": 8,
    "start_time": "2022-05-09T09:34:55.538Z"
   },
   {
    "duration": 5,
    "start_time": "2022-05-09T09:34:55.548Z"
   },
   {
    "duration": 15,
    "start_time": "2022-05-09T09:34:55.555Z"
   },
   {
    "duration": 65,
    "start_time": "2022-05-09T09:34:55.572Z"
   },
   {
    "duration": 18,
    "start_time": "2022-05-09T09:34:55.638Z"
   },
   {
    "duration": 3,
    "start_time": "2022-05-09T09:34:55.657Z"
   },
   {
    "duration": 2803,
    "start_time": "2022-05-09T09:34:55.662Z"
   },
   {
    "duration": 14,
    "start_time": "2022-05-09T09:34:58.467Z"
   },
   {
    "duration": 32,
    "start_time": "2022-05-09T09:34:58.482Z"
   },
   {
    "duration": 63,
    "start_time": "2022-05-09T09:34:58.515Z"
   },
   {
    "duration": 28,
    "start_time": "2022-05-09T09:34:58.580Z"
   },
   {
    "duration": 20,
    "start_time": "2022-05-09T09:34:58.610Z"
   },
   {
    "duration": 12,
    "start_time": "2022-05-09T09:34:58.631Z"
   },
   {
    "duration": 8,
    "start_time": "2022-05-09T09:34:58.645Z"
   },
   {
    "duration": 18,
    "start_time": "2022-05-09T09:34:58.655Z"
   },
   {
    "duration": 14,
    "start_time": "2022-05-09T09:34:58.710Z"
   },
   {
    "duration": 14,
    "start_time": "2022-05-09T09:34:58.726Z"
   },
   {
    "duration": 16,
    "start_time": "2022-05-09T09:34:58.742Z"
   },
   {
    "duration": 20,
    "start_time": "2022-05-09T09:34:58.760Z"
   },
   {
    "duration": 37,
    "start_time": "2022-05-09T09:34:58.782Z"
   },
   {
    "duration": 111,
    "start_time": "2022-05-09T09:34:58.821Z"
   },
   {
    "duration": 3,
    "start_time": "2022-05-09T09:34:58.934Z"
   },
   {
    "duration": 9,
    "start_time": "2022-05-09T09:34:58.939Z"
   },
   {
    "duration": 2,
    "start_time": "2022-05-09T09:34:58.950Z"
   },
   {
    "duration": 25,
    "start_time": "2022-05-09T09:34:58.954Z"
   },
   {
    "duration": 37,
    "start_time": "2022-05-09T09:34:58.981Z"
   },
   {
    "duration": 4,
    "start_time": "2022-05-09T09:34:59.020Z"
   },
   {
    "duration": 20,
    "start_time": "2022-05-09T09:34:59.025Z"
   },
   {
    "duration": 5,
    "start_time": "2022-05-09T09:34:59.046Z"
   },
   {
    "duration": 86,
    "start_time": "2022-05-09T09:34:59.053Z"
   },
   {
    "duration": 4,
    "start_time": "2022-05-09T09:34:59.140Z"
   },
   {
    "duration": 6,
    "start_time": "2022-05-09T09:34:59.146Z"
   },
   {
    "duration": 36,
    "start_time": "2022-05-09T09:34:59.153Z"
   },
   {
    "duration": 164,
    "start_time": "2022-05-09T09:34:59.207Z"
   },
   {
    "duration": 23,
    "start_time": "2022-05-09T09:34:59.373Z"
   },
   {
    "duration": 18,
    "start_time": "2022-05-09T09:34:59.407Z"
   },
   {
    "duration": 21,
    "start_time": "2022-05-09T09:34:59.426Z"
   },
   {
    "duration": 18,
    "start_time": "2022-05-09T09:34:59.448Z"
   },
   {
    "duration": 164,
    "start_time": "2022-05-09T09:34:59.468Z"
   },
   {
    "duration": 110,
    "start_time": "2022-05-09T09:34:59.634Z"
   },
   {
    "duration": 28,
    "start_time": "2022-05-09T09:34:59.745Z"
   },
   {
    "duration": 7,
    "start_time": "2022-05-09T09:34:59.774Z"
   },
   {
    "duration": 30,
    "start_time": "2022-05-09T09:34:59.782Z"
   },
   {
    "duration": 5,
    "start_time": "2022-05-09T09:34:59.814Z"
   },
   {
    "duration": 170,
    "start_time": "2022-05-09T09:34:59.821Z"
   },
   {
    "duration": 89,
    "start_time": "2022-05-09T09:34:59.993Z"
   },
   {
    "duration": 9,
    "start_time": "2022-05-09T09:35:00.083Z"
   },
   {
    "duration": 19,
    "start_time": "2022-05-09T09:35:00.108Z"
   },
   {
    "duration": 14,
    "start_time": "2022-05-09T09:35:00.129Z"
   },
   {
    "duration": 171,
    "start_time": "2022-05-09T09:35:00.144Z"
   },
   {
    "duration": 166,
    "start_time": "2022-05-09T09:35:00.317Z"
   },
   {
    "duration": 3,
    "start_time": "2022-05-09T09:35:00.486Z"
   },
   {
    "duration": 261,
    "start_time": "2022-05-09T09:36:07.192Z"
   },
   {
    "duration": 63,
    "start_time": "2022-05-09T09:36:40.784Z"
   },
   {
    "duration": 22,
    "start_time": "2022-05-09T09:36:46.591Z"
   },
   {
    "duration": 8,
    "start_time": "2022-05-09T09:37:06.712Z"
   },
   {
    "duration": 71,
    "start_time": "2022-05-09T09:37:14.687Z"
   },
   {
    "duration": 92,
    "start_time": "2022-05-09T09:37:19.087Z"
   },
   {
    "duration": 219,
    "start_time": "2022-05-09T09:43:43.242Z"
   },
   {
    "duration": 162,
    "start_time": "2022-05-09T09:44:16.505Z"
   },
   {
    "duration": 103,
    "start_time": "2022-05-09T09:45:20.308Z"
   },
   {
    "duration": 84,
    "start_time": "2022-05-09T09:45:34.842Z"
   },
   {
    "duration": 34,
    "start_time": "2022-05-09T09:53:06.533Z"
   },
   {
    "duration": 6,
    "start_time": "2022-05-09T09:53:15.484Z"
   },
   {
    "duration": 17,
    "start_time": "2022-05-09T09:53:33.347Z"
   },
   {
    "duration": 661,
    "start_time": "2022-05-09T09:53:57.300Z"
   },
   {
    "duration": 93,
    "start_time": "2022-05-09T09:53:57.963Z"
   },
   {
    "duration": 21,
    "start_time": "2022-05-09T09:53:58.058Z"
   },
   {
    "duration": 27,
    "start_time": "2022-05-09T09:53:58.082Z"
   },
   {
    "duration": 10,
    "start_time": "2022-05-09T09:53:58.111Z"
   },
   {
    "duration": 12,
    "start_time": "2022-05-09T09:53:58.123Z"
   },
   {
    "duration": 14,
    "start_time": "2022-05-09T09:53:58.137Z"
   },
   {
    "duration": 10,
    "start_time": "2022-05-09T09:53:58.153Z"
   },
   {
    "duration": 66,
    "start_time": "2022-05-09T09:53:58.165Z"
   },
   {
    "duration": 4,
    "start_time": "2022-05-09T09:53:58.234Z"
   },
   {
    "duration": 15,
    "start_time": "2022-05-09T09:53:58.240Z"
   },
   {
    "duration": 15,
    "start_time": "2022-05-09T09:53:58.257Z"
   },
   {
    "duration": 34,
    "start_time": "2022-05-09T09:53:58.274Z"
   },
   {
    "duration": 7,
    "start_time": "2022-05-09T09:53:58.310Z"
   },
   {
    "duration": 18,
    "start_time": "2022-05-09T09:53:58.318Z"
   },
   {
    "duration": 39,
    "start_time": "2022-05-09T09:53:58.338Z"
   },
   {
    "duration": 46,
    "start_time": "2022-05-09T09:53:58.379Z"
   },
   {
    "duration": 4,
    "start_time": "2022-05-09T09:53:58.427Z"
   },
   {
    "duration": 2886,
    "start_time": "2022-05-09T09:53:58.432Z"
   },
   {
    "duration": 14,
    "start_time": "2022-05-09T09:54:01.320Z"
   },
   {
    "duration": 20,
    "start_time": "2022-05-09T09:54:01.336Z"
   },
   {
    "duration": 90,
    "start_time": "2022-05-09T09:54:01.358Z"
   },
   {
    "duration": 18,
    "start_time": "2022-05-09T09:54:01.449Z"
   },
   {
    "duration": 38,
    "start_time": "2022-05-09T09:54:01.469Z"
   },
   {
    "duration": 14,
    "start_time": "2022-05-09T09:54:01.509Z"
   },
   {
    "duration": 10,
    "start_time": "2022-05-09T09:54:01.525Z"
   },
   {
    "duration": 21,
    "start_time": "2022-05-09T09:54:01.536Z"
   },
   {
    "duration": 47,
    "start_time": "2022-05-09T09:54:01.562Z"
   },
   {
    "duration": 16,
    "start_time": "2022-05-09T09:54:01.611Z"
   },
   {
    "duration": 18,
    "start_time": "2022-05-09T09:54:01.629Z"
   },
   {
    "duration": 12,
    "start_time": "2022-05-09T09:54:01.649Z"
   },
   {
    "duration": 68,
    "start_time": "2022-05-09T09:54:01.663Z"
   },
   {
    "duration": 17,
    "start_time": "2022-05-09T09:54:01.733Z"
   },
   {
    "duration": 103,
    "start_time": "2022-05-09T09:54:01.751Z"
   },
   {
    "duration": 0,
    "start_time": "2022-05-09T09:54:01.856Z"
   },
   {
    "duration": 0,
    "start_time": "2022-05-09T09:54:01.858Z"
   },
   {
    "duration": 0,
    "start_time": "2022-05-09T09:54:01.859Z"
   },
   {
    "duration": 0,
    "start_time": "2022-05-09T09:54:01.861Z"
   },
   {
    "duration": 0,
    "start_time": "2022-05-09T09:54:01.862Z"
   },
   {
    "duration": 0,
    "start_time": "2022-05-09T09:54:01.864Z"
   },
   {
    "duration": 0,
    "start_time": "2022-05-09T09:54:01.865Z"
   },
   {
    "duration": 0,
    "start_time": "2022-05-09T09:54:01.867Z"
   },
   {
    "duration": 0,
    "start_time": "2022-05-09T09:54:01.868Z"
   },
   {
    "duration": 0,
    "start_time": "2022-05-09T09:54:01.869Z"
   },
   {
    "duration": 0,
    "start_time": "2022-05-09T09:54:01.871Z"
   },
   {
    "duration": 0,
    "start_time": "2022-05-09T09:54:01.872Z"
   },
   {
    "duration": 0,
    "start_time": "2022-05-09T09:54:01.874Z"
   },
   {
    "duration": 0,
    "start_time": "2022-05-09T09:54:01.908Z"
   },
   {
    "duration": 0,
    "start_time": "2022-05-09T09:54:01.910Z"
   },
   {
    "duration": 0,
    "start_time": "2022-05-09T09:54:01.911Z"
   },
   {
    "duration": 0,
    "start_time": "2022-05-09T09:54:01.913Z"
   },
   {
    "duration": 0,
    "start_time": "2022-05-09T09:54:01.914Z"
   },
   {
    "duration": 0,
    "start_time": "2022-05-09T09:54:01.917Z"
   },
   {
    "duration": 0,
    "start_time": "2022-05-09T09:54:01.918Z"
   },
   {
    "duration": 0,
    "start_time": "2022-05-09T09:54:01.920Z"
   },
   {
    "duration": 0,
    "start_time": "2022-05-09T09:54:01.922Z"
   },
   {
    "duration": 0,
    "start_time": "2022-05-09T09:54:01.923Z"
   },
   {
    "duration": 0,
    "start_time": "2022-05-09T09:54:01.924Z"
   },
   {
    "duration": 0,
    "start_time": "2022-05-09T09:54:01.926Z"
   },
   {
    "duration": 0,
    "start_time": "2022-05-09T09:54:01.927Z"
   },
   {
    "duration": 0,
    "start_time": "2022-05-09T09:54:01.929Z"
   },
   {
    "duration": 0,
    "start_time": "2022-05-09T09:54:01.930Z"
   },
   {
    "duration": 0,
    "start_time": "2022-05-09T09:54:01.932Z"
   },
   {
    "duration": 0,
    "start_time": "2022-05-09T09:54:01.933Z"
   },
   {
    "duration": 0,
    "start_time": "2022-05-09T09:54:01.935Z"
   },
   {
    "duration": 0,
    "start_time": "2022-05-09T09:54:01.937Z"
   },
   {
    "duration": 15,
    "start_time": "2022-05-09T09:56:27.349Z"
   },
   {
    "duration": 3,
    "start_time": "2022-05-09T09:56:37.069Z"
   },
   {
    "duration": 8,
    "start_time": "2022-05-09T09:57:20.438Z"
   },
   {
    "duration": 646,
    "start_time": "2022-05-09T09:57:39.740Z"
   },
   {
    "duration": 88,
    "start_time": "2022-05-09T09:57:40.388Z"
   },
   {
    "duration": 19,
    "start_time": "2022-05-09T09:57:40.478Z"
   },
   {
    "duration": 29,
    "start_time": "2022-05-09T09:57:40.499Z"
   },
   {
    "duration": 7,
    "start_time": "2022-05-09T09:57:40.529Z"
   },
   {
    "duration": 13,
    "start_time": "2022-05-09T09:57:40.538Z"
   },
   {
    "duration": 21,
    "start_time": "2022-05-09T09:57:40.552Z"
   },
   {
    "duration": 10,
    "start_time": "2022-05-09T09:57:40.575Z"
   },
   {
    "duration": 32,
    "start_time": "2022-05-09T09:57:40.587Z"
   },
   {
    "duration": 3,
    "start_time": "2022-05-09T09:57:40.622Z"
   },
   {
    "duration": 16,
    "start_time": "2022-05-09T09:57:40.627Z"
   },
   {
    "duration": 12,
    "start_time": "2022-05-09T09:57:40.644Z"
   },
   {
    "duration": 8,
    "start_time": "2022-05-09T09:57:40.657Z"
   },
   {
    "duration": 6,
    "start_time": "2022-05-09T09:57:40.667Z"
   },
   {
    "duration": 42,
    "start_time": "2022-05-09T09:57:40.674Z"
   },
   {
    "duration": 35,
    "start_time": "2022-05-09T09:57:40.717Z"
   },
   {
    "duration": 18,
    "start_time": "2022-05-09T09:57:40.754Z"
   },
   {
    "duration": 4,
    "start_time": "2022-05-09T09:57:40.773Z"
   },
   {
    "duration": 2745,
    "start_time": "2022-05-09T09:57:40.807Z"
   },
   {
    "duration": 14,
    "start_time": "2022-05-09T09:57:43.554Z"
   },
   {
    "duration": 19,
    "start_time": "2022-05-09T09:57:43.569Z"
   },
   {
    "duration": 78,
    "start_time": "2022-05-09T09:57:43.589Z"
   },
   {
    "duration": 17,
    "start_time": "2022-05-09T09:57:43.668Z"
   },
   {
    "duration": 39,
    "start_time": "2022-05-09T09:57:43.687Z"
   },
   {
    "duration": 13,
    "start_time": "2022-05-09T09:57:43.727Z"
   },
   {
    "duration": 9,
    "start_time": "2022-05-09T09:57:43.741Z"
   },
   {
    "duration": 20,
    "start_time": "2022-05-09T09:57:43.752Z"
   },
   {
    "duration": 14,
    "start_time": "2022-05-09T09:57:43.809Z"
   },
   {
    "duration": 13,
    "start_time": "2022-05-09T09:57:43.825Z"
   },
   {
    "duration": 15,
    "start_time": "2022-05-09T09:57:43.840Z"
   },
   {
    "duration": 13,
    "start_time": "2022-05-09T09:57:43.856Z"
   },
   {
    "duration": 8,
    "start_time": "2022-05-09T09:57:43.870Z"
   },
   {
    "duration": 40,
    "start_time": "2022-05-09T09:57:43.880Z"
   },
   {
    "duration": 13,
    "start_time": "2022-05-09T09:57:43.922Z"
   },
   {
    "duration": 115,
    "start_time": "2022-05-09T09:57:43.936Z"
   },
   {
    "duration": 4,
    "start_time": "2022-05-09T09:57:44.052Z"
   },
   {
    "duration": 9,
    "start_time": "2022-05-09T09:57:44.058Z"
   },
   {
    "duration": 3,
    "start_time": "2022-05-09T09:57:44.068Z"
   },
   {
    "duration": 47,
    "start_time": "2022-05-09T09:57:44.073Z"
   },
   {
    "duration": 16,
    "start_time": "2022-05-09T09:57:44.121Z"
   },
   {
    "duration": 5,
    "start_time": "2022-05-09T09:57:44.138Z"
   },
   {
    "duration": 18,
    "start_time": "2022-05-09T09:57:44.144Z"
   },
   {
    "duration": 5,
    "start_time": "2022-05-09T09:57:44.164Z"
   },
   {
    "duration": 88,
    "start_time": "2022-05-09T09:57:44.171Z"
   },
   {
    "duration": 5,
    "start_time": "2022-05-09T09:57:44.261Z"
   },
   {
    "duration": 6,
    "start_time": "2022-05-09T09:57:44.267Z"
   },
   {
    "duration": 59,
    "start_time": "2022-05-09T09:57:44.274Z"
   },
   {
    "duration": 161,
    "start_time": "2022-05-09T09:57:44.335Z"
   },
   {
    "duration": 29,
    "start_time": "2022-05-09T09:57:44.497Z"
   },
   {
    "duration": 16,
    "start_time": "2022-05-09T09:57:44.528Z"
   },
   {
    "duration": 23,
    "start_time": "2022-05-09T09:57:44.545Z"
   },
   {
    "duration": 51,
    "start_time": "2022-05-09T09:57:44.570Z"
   },
   {
    "duration": 151,
    "start_time": "2022-05-09T09:57:44.624Z"
   },
   {
    "duration": 110,
    "start_time": "2022-05-09T09:57:44.777Z"
   },
   {
    "duration": 38,
    "start_time": "2022-05-09T09:57:44.889Z"
   },
   {
    "duration": 7,
    "start_time": "2022-05-09T09:57:44.929Z"
   },
   {
    "duration": 8,
    "start_time": "2022-05-09T09:57:44.938Z"
   },
   {
    "duration": 7,
    "start_time": "2022-05-09T09:57:44.948Z"
   },
   {
    "duration": 176,
    "start_time": "2022-05-09T09:57:44.957Z"
   },
   {
    "duration": 91,
    "start_time": "2022-05-09T09:57:45.135Z"
   },
   {
    "duration": 8,
    "start_time": "2022-05-09T09:57:45.228Z"
   },
   {
    "duration": 20,
    "start_time": "2022-05-09T09:57:45.238Z"
   },
   {
    "duration": 6,
    "start_time": "2022-05-09T09:57:45.260Z"
   },
   {
    "duration": 189,
    "start_time": "2022-05-09T09:57:45.268Z"
   },
   {
    "duration": 164,
    "start_time": "2022-05-09T09:57:45.459Z"
   },
   {
    "duration": 4,
    "start_time": "2022-05-09T09:57:45.625Z"
   },
   {
    "duration": 86,
    "start_time": "2022-05-09T09:58:35.270Z"
   },
   {
    "duration": 637,
    "start_time": "2022-05-09T09:58:39.919Z"
   },
   {
    "duration": 88,
    "start_time": "2022-05-09T09:58:40.558Z"
   },
   {
    "duration": 19,
    "start_time": "2022-05-09T09:58:40.648Z"
   },
   {
    "duration": 16,
    "start_time": "2022-05-09T09:58:40.669Z"
   },
   {
    "duration": 22,
    "start_time": "2022-05-09T09:58:40.687Z"
   },
   {
    "duration": 8,
    "start_time": "2022-05-09T09:58:40.710Z"
   },
   {
    "duration": 10,
    "start_time": "2022-05-09T09:58:40.719Z"
   },
   {
    "duration": 11,
    "start_time": "2022-05-09T09:58:40.731Z"
   },
   {
    "duration": 30,
    "start_time": "2022-05-09T09:58:40.744Z"
   },
   {
    "duration": 31,
    "start_time": "2022-05-09T09:58:40.777Z"
   },
   {
    "duration": 14,
    "start_time": "2022-05-09T09:58:40.810Z"
   },
   {
    "duration": 14,
    "start_time": "2022-05-09T09:58:40.825Z"
   },
   {
    "duration": 8,
    "start_time": "2022-05-09T09:58:40.841Z"
   },
   {
    "duration": 6,
    "start_time": "2022-05-09T09:58:40.850Z"
   },
   {
    "duration": 16,
    "start_time": "2022-05-09T09:58:40.857Z"
   },
   {
    "duration": 64,
    "start_time": "2022-05-09T09:58:40.875Z"
   },
   {
    "duration": 17,
    "start_time": "2022-05-09T09:58:40.941Z"
   },
   {
    "duration": 3,
    "start_time": "2022-05-09T09:58:40.959Z"
   },
   {
    "duration": 2870,
    "start_time": "2022-05-09T09:58:40.964Z"
   },
   {
    "duration": 15,
    "start_time": "2022-05-09T09:58:43.836Z"
   },
   {
    "duration": 20,
    "start_time": "2022-05-09T09:58:43.852Z"
   },
   {
    "duration": 75,
    "start_time": "2022-05-09T09:58:43.873Z"
   },
   {
    "duration": 18,
    "start_time": "2022-05-09T09:58:43.950Z"
   },
   {
    "duration": 42,
    "start_time": "2022-05-09T09:58:43.970Z"
   },
   {
    "duration": 13,
    "start_time": "2022-05-09T09:58:44.014Z"
   },
   {
    "duration": 7,
    "start_time": "2022-05-09T09:58:44.029Z"
   },
   {
    "duration": 19,
    "start_time": "2022-05-09T09:58:44.038Z"
   },
   {
    "duration": 47,
    "start_time": "2022-05-09T09:58:44.061Z"
   },
   {
    "duration": 14,
    "start_time": "2022-05-09T09:58:44.110Z"
   },
   {
    "duration": 13,
    "start_time": "2022-05-09T09:58:44.126Z"
   },
   {
    "duration": 11,
    "start_time": "2022-05-09T09:58:44.141Z"
   },
   {
    "duration": 7,
    "start_time": "2022-05-09T09:58:44.154Z"
   },
   {
    "duration": 16,
    "start_time": "2022-05-09T09:58:44.162Z"
   },
   {
    "duration": 14,
    "start_time": "2022-05-09T09:58:44.207Z"
   },
   {
    "duration": 110,
    "start_time": "2022-05-09T09:58:44.223Z"
   },
   {
    "duration": 3,
    "start_time": "2022-05-09T09:58:44.335Z"
   },
   {
    "duration": 9,
    "start_time": "2022-05-09T09:58:44.340Z"
   },
   {
    "duration": 3,
    "start_time": "2022-05-09T09:58:44.350Z"
   },
   {
    "duration": 25,
    "start_time": "2022-05-09T09:58:44.354Z"
   },
   {
    "duration": 37,
    "start_time": "2022-05-09T09:58:44.380Z"
   },
   {
    "duration": 4,
    "start_time": "2022-05-09T09:58:44.418Z"
   },
   {
    "duration": 20,
    "start_time": "2022-05-09T09:58:44.424Z"
   },
   {
    "duration": 4,
    "start_time": "2022-05-09T09:58:44.446Z"
   },
   {
    "duration": 79,
    "start_time": "2022-05-09T09:58:44.452Z"
   },
   {
    "duration": 4,
    "start_time": "2022-05-09T09:58:44.532Z"
   },
   {
    "duration": 6,
    "start_time": "2022-05-09T09:58:44.537Z"
   },
   {
    "duration": 35,
    "start_time": "2022-05-09T09:58:44.544Z"
   },
   {
    "duration": 186,
    "start_time": "2022-05-09T09:58:44.581Z"
   },
   {
    "duration": 23,
    "start_time": "2022-05-09T09:58:44.769Z"
   },
   {
    "duration": 28,
    "start_time": "2022-05-09T09:58:44.793Z"
   },
   {
    "duration": 22,
    "start_time": "2022-05-09T09:58:44.822Z"
   },
   {
    "duration": 18,
    "start_time": "2022-05-09T09:58:44.846Z"
   },
   {
    "duration": 169,
    "start_time": "2022-05-09T09:58:44.865Z"
   },
   {
    "duration": 106,
    "start_time": "2022-05-09T09:58:45.036Z"
   },
   {
    "duration": 26,
    "start_time": "2022-05-09T09:58:45.144Z"
   },
   {
    "duration": 6,
    "start_time": "2022-05-09T09:58:45.172Z"
   },
   {
    "duration": 29,
    "start_time": "2022-05-09T09:58:45.180Z"
   },
   {
    "duration": 5,
    "start_time": "2022-05-09T09:58:45.210Z"
   },
   {
    "duration": 161,
    "start_time": "2022-05-09T09:58:45.217Z"
   },
   {
    "duration": 91,
    "start_time": "2022-05-09T09:58:45.379Z"
   },
   {
    "duration": 7,
    "start_time": "2022-05-09T09:58:45.472Z"
   },
   {
    "duration": 36,
    "start_time": "2022-05-09T09:58:45.481Z"
   },
   {
    "duration": 6,
    "start_time": "2022-05-09T09:58:45.519Z"
   },
   {
    "duration": 180,
    "start_time": "2022-05-09T09:58:45.527Z"
   },
   {
    "duration": 166,
    "start_time": "2022-05-09T09:58:45.709Z"
   },
   {
    "duration": 3,
    "start_time": "2022-05-09T09:58:45.877Z"
   },
   {
    "duration": 97,
    "start_time": "2022-05-09T10:00:00.558Z"
   },
   {
    "duration": 94,
    "start_time": "2022-05-09T10:00:10.933Z"
   },
   {
    "duration": 100,
    "start_time": "2022-05-09T10:00:19.708Z"
   },
   {
    "duration": 21,
    "start_time": "2022-05-09T10:01:56.885Z"
   },
   {
    "duration": 7,
    "start_time": "2022-05-09T10:02:10.045Z"
   },
   {
    "duration": 22,
    "start_time": "2022-05-09T10:02:15.628Z"
   },
   {
    "duration": 21,
    "start_time": "2022-05-09T10:03:17.110Z"
   },
   {
    "duration": 21,
    "start_time": "2022-05-09T10:03:31.021Z"
   },
   {
    "duration": 3,
    "start_time": "2022-05-09T10:41:21.116Z"
   },
   {
    "duration": 4,
    "start_time": "2022-05-09T10:41:28.108Z"
   },
   {
    "duration": 648,
    "start_time": "2022-05-09T10:41:40.356Z"
   },
   {
    "duration": 91,
    "start_time": "2022-05-09T10:41:41.006Z"
   },
   {
    "duration": 18,
    "start_time": "2022-05-09T10:41:41.099Z"
   },
   {
    "duration": 16,
    "start_time": "2022-05-09T10:41:41.119Z"
   },
   {
    "duration": 8,
    "start_time": "2022-05-09T10:41:41.136Z"
   },
   {
    "duration": 8,
    "start_time": "2022-05-09T10:41:41.145Z"
   },
   {
    "duration": 12,
    "start_time": "2022-05-09T10:41:41.155Z"
   },
   {
    "duration": 8,
    "start_time": "2022-05-09T10:41:41.169Z"
   },
   {
    "duration": 57,
    "start_time": "2022-05-09T10:41:41.178Z"
   },
   {
    "duration": 4,
    "start_time": "2022-05-09T10:41:41.238Z"
   },
   {
    "duration": 14,
    "start_time": "2022-05-09T10:41:41.243Z"
   },
   {
    "duration": 12,
    "start_time": "2022-05-09T10:41:41.259Z"
   },
   {
    "duration": 39,
    "start_time": "2022-05-09T10:41:41.273Z"
   },
   {
    "duration": 6,
    "start_time": "2022-05-09T10:41:41.313Z"
   },
   {
    "duration": 17,
    "start_time": "2022-05-09T10:41:41.321Z"
   },
   {
    "duration": 37,
    "start_time": "2022-05-09T10:41:41.340Z"
   },
   {
    "duration": 44,
    "start_time": "2022-05-09T10:41:41.380Z"
   },
   {
    "duration": 3,
    "start_time": "2022-05-09T10:41:41.426Z"
   },
   {
    "duration": 2860,
    "start_time": "2022-05-09T10:41:41.431Z"
   },
   {
    "duration": 20,
    "start_time": "2022-05-09T10:41:44.293Z"
   },
   {
    "duration": 20,
    "start_time": "2022-05-09T10:41:44.316Z"
   },
   {
    "duration": 86,
    "start_time": "2022-05-09T10:41:44.338Z"
   },
   {
    "duration": 16,
    "start_time": "2022-05-09T10:41:44.426Z"
   },
   {
    "duration": 21,
    "start_time": "2022-05-09T10:41:44.444Z"
   },
   {
    "duration": 14,
    "start_time": "2022-05-09T10:41:44.466Z"
   },
   {
    "duration": 10,
    "start_time": "2022-05-09T10:41:44.508Z"
   },
   {
    "duration": 20,
    "start_time": "2022-05-09T10:41:44.520Z"
   },
   {
    "duration": 14,
    "start_time": "2022-05-09T10:41:44.544Z"
   },
   {
    "duration": 48,
    "start_time": "2022-05-09T10:41:44.560Z"
   },
   {
    "duration": 15,
    "start_time": "2022-05-09T10:41:44.610Z"
   },
   {
    "duration": 14,
    "start_time": "2022-05-09T10:41:44.627Z"
   },
   {
    "duration": 6,
    "start_time": "2022-05-09T10:41:44.643Z"
   },
   {
    "duration": 17,
    "start_time": "2022-05-09T10:41:44.651Z"
   },
   {
    "duration": 16,
    "start_time": "2022-05-09T10:41:44.707Z"
   },
   {
    "duration": 124,
    "start_time": "2022-05-09T10:41:44.725Z"
   },
   {
    "duration": 5,
    "start_time": "2022-05-09T10:41:44.851Z"
   },
   {
    "duration": 11,
    "start_time": "2022-05-09T10:41:44.857Z"
   },
   {
    "duration": 3,
    "start_time": "2022-05-09T10:41:44.870Z"
   },
   {
    "duration": 47,
    "start_time": "2022-05-09T10:41:44.875Z"
   },
   {
    "duration": 17,
    "start_time": "2022-05-09T10:41:44.924Z"
   },
   {
    "duration": 5,
    "start_time": "2022-05-09T10:41:44.944Z"
   },
   {
    "duration": 21,
    "start_time": "2022-05-09T10:41:44.951Z"
   },
   {
    "duration": 33,
    "start_time": "2022-05-09T10:41:44.974Z"
   },
   {
    "duration": 59,
    "start_time": "2022-05-09T10:41:45.010Z"
   },
   {
    "duration": 4,
    "start_time": "2022-05-09T10:41:45.071Z"
   },
   {
    "duration": 9,
    "start_time": "2022-05-09T10:41:45.077Z"
   },
   {
    "duration": 50,
    "start_time": "2022-05-09T10:41:45.108Z"
   },
   {
    "duration": 164,
    "start_time": "2022-05-09T10:41:45.160Z"
   },
   {
    "duration": 22,
    "start_time": "2022-05-09T10:41:45.326Z"
   },
   {
    "duration": 16,
    "start_time": "2022-05-09T10:41:45.350Z"
   },
   {
    "duration": 48,
    "start_time": "2022-05-09T10:41:45.368Z"
   },
   {
    "duration": 23,
    "start_time": "2022-05-09T10:41:45.418Z"
   },
   {
    "duration": 159,
    "start_time": "2022-05-09T10:41:45.443Z"
   },
   {
    "duration": 102,
    "start_time": "2022-05-09T10:41:45.607Z"
   },
   {
    "duration": 26,
    "start_time": "2022-05-09T10:41:45.711Z"
   },
   {
    "duration": 6,
    "start_time": "2022-05-09T10:41:45.739Z"
   },
   {
    "duration": 7,
    "start_time": "2022-05-09T10:41:45.746Z"
   },
   {
    "duration": 5,
    "start_time": "2022-05-09T10:41:45.755Z"
   },
   {
    "duration": 189,
    "start_time": "2022-05-09T10:41:45.762Z"
   },
   {
    "duration": 96,
    "start_time": "2022-05-09T10:41:45.953Z"
   },
   {
    "duration": 9,
    "start_time": "2022-05-09T10:41:46.051Z"
   },
   {
    "duration": 21,
    "start_time": "2022-05-09T10:41:46.062Z"
   },
   {
    "duration": 27,
    "start_time": "2022-05-09T10:41:46.085Z"
   },
   {
    "duration": 176,
    "start_time": "2022-05-09T10:41:46.113Z"
   },
   {
    "duration": 172,
    "start_time": "2022-05-09T10:41:46.291Z"
   },
   {
    "duration": 4,
    "start_time": "2022-05-09T10:41:46.464Z"
   },
   {
    "duration": 4,
    "start_time": "2022-05-09T10:42:20.221Z"
   },
   {
    "duration": 5,
    "start_time": "2022-05-09T10:42:28.557Z"
   },
   {
    "duration": 5,
    "start_time": "2022-05-09T10:45:47.501Z"
   },
   {
    "duration": 6,
    "start_time": "2022-05-09T10:45:50.133Z"
   },
   {
    "duration": 69,
    "start_time": "2022-05-09T10:46:07.870Z"
   },
   {
    "duration": 62,
    "start_time": "2022-05-09T10:46:12.238Z"
   },
   {
    "duration": 9,
    "start_time": "2022-05-09T10:46:18.654Z"
   },
   {
    "duration": 676,
    "start_time": "2022-05-09T10:46:37.095Z"
   },
   {
    "duration": 94,
    "start_time": "2022-05-09T10:46:37.773Z"
   },
   {
    "duration": 19,
    "start_time": "2022-05-09T10:46:37.869Z"
   },
   {
    "duration": 26,
    "start_time": "2022-05-09T10:46:37.891Z"
   },
   {
    "duration": 7,
    "start_time": "2022-05-09T10:46:37.919Z"
   },
   {
    "duration": 11,
    "start_time": "2022-05-09T10:46:37.928Z"
   },
   {
    "duration": 14,
    "start_time": "2022-05-09T10:46:37.941Z"
   },
   {
    "duration": 12,
    "start_time": "2022-05-09T10:46:37.957Z"
   },
   {
    "duration": 59,
    "start_time": "2022-05-09T10:46:37.971Z"
   },
   {
    "duration": 4,
    "start_time": "2022-05-09T10:46:38.034Z"
   },
   {
    "duration": 18,
    "start_time": "2022-05-09T10:46:38.040Z"
   },
   {
    "duration": 14,
    "start_time": "2022-05-09T10:46:38.060Z"
   },
   {
    "duration": 36,
    "start_time": "2022-05-09T10:46:38.076Z"
   },
   {
    "duration": 6,
    "start_time": "2022-05-09T10:46:38.114Z"
   },
   {
    "duration": 16,
    "start_time": "2022-05-09T10:46:38.122Z"
   },
   {
    "duration": 38,
    "start_time": "2022-05-09T10:46:38.140Z"
   },
   {
    "duration": 43,
    "start_time": "2022-05-09T10:46:38.180Z"
   },
   {
    "duration": 4,
    "start_time": "2022-05-09T10:46:38.225Z"
   },
   {
    "duration": 3028,
    "start_time": "2022-05-09T10:46:38.231Z"
   },
   {
    "duration": 15,
    "start_time": "2022-05-09T10:46:41.261Z"
   },
   {
    "duration": 31,
    "start_time": "2022-05-09T10:46:41.278Z"
   },
   {
    "duration": 65,
    "start_time": "2022-05-09T10:46:41.311Z"
   },
   {
    "duration": 41,
    "start_time": "2022-05-09T10:46:41.379Z"
   },
   {
    "duration": 29,
    "start_time": "2022-05-09T10:46:41.423Z"
   },
   {
    "duration": 19,
    "start_time": "2022-05-09T10:46:41.455Z"
   },
   {
    "duration": 34,
    "start_time": "2022-05-09T10:46:41.477Z"
   },
   {
    "duration": 32,
    "start_time": "2022-05-09T10:46:41.513Z"
   },
   {
    "duration": 16,
    "start_time": "2022-05-09T10:46:41.551Z"
   },
   {
    "duration": 45,
    "start_time": "2022-05-09T10:46:41.568Z"
   },
   {
    "duration": 15,
    "start_time": "2022-05-09T10:46:41.614Z"
   },
   {
    "duration": 16,
    "start_time": "2022-05-09T10:46:41.631Z"
   },
   {
    "duration": 6,
    "start_time": "2022-05-09T10:46:41.650Z"
   },
   {
    "duration": 49,
    "start_time": "2022-05-09T10:46:41.658Z"
   },
   {
    "duration": 17,
    "start_time": "2022-05-09T10:46:41.710Z"
   },
   {
    "duration": 119,
    "start_time": "2022-05-09T10:46:41.728Z"
   },
   {
    "duration": 4,
    "start_time": "2022-05-09T10:46:41.848Z"
   },
   {
    "duration": 8,
    "start_time": "2022-05-09T10:46:41.854Z"
   },
   {
    "duration": 2,
    "start_time": "2022-05-09T10:46:41.864Z"
   },
   {
    "duration": 40,
    "start_time": "2022-05-09T10:46:41.868Z"
   },
   {
    "duration": 17,
    "start_time": "2022-05-09T10:46:41.910Z"
   },
   {
    "duration": 5,
    "start_time": "2022-05-09T10:46:41.928Z"
   },
   {
    "duration": 21,
    "start_time": "2022-05-09T10:46:41.934Z"
   },
   {
    "duration": 5,
    "start_time": "2022-05-09T10:46:41.956Z"
   },
   {
    "duration": 87,
    "start_time": "2022-05-09T10:46:41.962Z"
   },
   {
    "duration": 9,
    "start_time": "2022-05-09T10:46:42.051Z"
   },
   {
    "duration": 5,
    "start_time": "2022-05-09T10:46:42.061Z"
   },
   {
    "duration": 56,
    "start_time": "2022-05-09T10:46:42.068Z"
   },
   {
    "duration": 166,
    "start_time": "2022-05-09T10:46:42.125Z"
   },
   {
    "duration": 27,
    "start_time": "2022-05-09T10:46:42.293Z"
   },
   {
    "duration": 17,
    "start_time": "2022-05-09T10:46:42.322Z"
   },
   {
    "duration": 21,
    "start_time": "2022-05-09T10:46:42.341Z"
   },
   {
    "duration": 43,
    "start_time": "2022-05-09T10:46:42.364Z"
   },
   {
    "duration": 159,
    "start_time": "2022-05-09T10:46:42.409Z"
   },
   {
    "duration": 108,
    "start_time": "2022-05-09T10:46:42.571Z"
   },
   {
    "duration": 44,
    "start_time": "2022-05-09T10:46:42.681Z"
   },
   {
    "duration": 7,
    "start_time": "2022-05-09T10:46:42.727Z"
   },
   {
    "duration": 9,
    "start_time": "2022-05-09T10:46:42.735Z"
   },
   {
    "duration": 7,
    "start_time": "2022-05-09T10:46:42.746Z"
   },
   {
    "duration": 181,
    "start_time": "2022-05-09T10:46:42.755Z"
   },
   {
    "duration": 94,
    "start_time": "2022-05-09T10:46:42.938Z"
   },
   {
    "duration": 9,
    "start_time": "2022-05-09T10:46:43.034Z"
   },
   {
    "duration": 18,
    "start_time": "2022-05-09T10:46:43.045Z"
   },
   {
    "duration": 9,
    "start_time": "2022-05-09T10:46:43.065Z"
   },
   {
    "duration": 190,
    "start_time": "2022-05-09T10:46:43.076Z"
   },
   {
    "duration": 179,
    "start_time": "2022-05-09T10:46:43.268Z"
   },
   {
    "duration": 3,
    "start_time": "2022-05-09T10:46:43.450Z"
   },
   {
    "duration": 11,
    "start_time": "2022-05-09T10:50:41.816Z"
   },
   {
    "duration": 64,
    "start_time": "2022-05-09T10:51:18.321Z"
   },
   {
    "duration": 8,
    "start_time": "2022-05-09T10:51:25.825Z"
   },
   {
    "duration": 11,
    "start_time": "2022-05-09T10:51:28.881Z"
   },
   {
    "duration": 10,
    "start_time": "2022-05-09T10:51:44.545Z"
   },
   {
    "duration": 100,
    "start_time": "2022-05-09T10:56:39.754Z"
   },
   {
    "duration": 65,
    "start_time": "2022-05-09T10:57:05.117Z"
   },
   {
    "duration": 65,
    "start_time": "2022-05-09T10:57:12.219Z"
   },
   {
    "duration": 79,
    "start_time": "2022-05-09T10:57:31.884Z"
   },
   {
    "duration": 19,
    "start_time": "2022-05-09T10:57:40.178Z"
   },
   {
    "duration": 17,
    "start_time": "2022-05-09T10:58:20.276Z"
   },
   {
    "duration": 4,
    "start_time": "2022-05-09T12:33:45.265Z"
   },
   {
    "duration": 22,
    "start_time": "2022-05-09T12:34:10.009Z"
   },
   {
    "duration": 113,
    "start_time": "2022-05-09T12:34:49.227Z"
   },
   {
    "duration": 20,
    "start_time": "2022-05-09T12:35:27.841Z"
   },
   {
    "duration": 22,
    "start_time": "2022-05-09T12:35:58.841Z"
   },
   {
    "duration": 25,
    "start_time": "2022-05-09T12:39:05.212Z"
   },
   {
    "duration": 13,
    "start_time": "2022-05-09T12:39:20.626Z"
   },
   {
    "duration": 18,
    "start_time": "2022-05-09T12:39:34.389Z"
   },
   {
    "duration": 18,
    "start_time": "2022-05-09T12:39:45.195Z"
   },
   {
    "duration": 20,
    "start_time": "2022-05-09T12:41:24.827Z"
   },
   {
    "duration": 19,
    "start_time": "2022-05-09T12:42:40.428Z"
   },
   {
    "duration": 22,
    "start_time": "2022-05-09T12:42:49.492Z"
   },
   {
    "duration": 23,
    "start_time": "2022-05-09T12:42:55.932Z"
   },
   {
    "duration": 26,
    "start_time": "2022-05-09T12:43:55.388Z"
   },
   {
    "duration": 21,
    "start_time": "2022-05-09T12:44:19.188Z"
   },
   {
    "duration": 17,
    "start_time": "2022-05-09T13:04:35.616Z"
   },
   {
    "duration": 22,
    "start_time": "2022-05-09T13:04:40.119Z"
   },
   {
    "duration": 12,
    "start_time": "2022-05-09T13:04:51.296Z"
   },
   {
    "duration": 17,
    "start_time": "2022-05-09T13:04:56.240Z"
   },
   {
    "duration": 6,
    "start_time": "2022-05-09T13:06:44.512Z"
   },
   {
    "duration": 11,
    "start_time": "2022-05-09T13:06:47.728Z"
   },
   {
    "duration": 7,
    "start_time": "2022-05-09T13:07:28.777Z"
   },
   {
    "duration": 30,
    "start_time": "2022-05-09T13:07:59.199Z"
   },
   {
    "duration": 29,
    "start_time": "2022-05-09T13:09:09.208Z"
   },
   {
    "duration": 34,
    "start_time": "2022-05-09T13:09:12.752Z"
   },
   {
    "duration": 630,
    "start_time": "2022-05-09T13:11:39.259Z"
   },
   {
    "duration": 98,
    "start_time": "2022-05-09T13:11:39.891Z"
   },
   {
    "duration": 21,
    "start_time": "2022-05-09T13:11:39.991Z"
   },
   {
    "duration": 18,
    "start_time": "2022-05-09T13:11:40.014Z"
   },
   {
    "duration": 10,
    "start_time": "2022-05-09T13:11:40.033Z"
   },
   {
    "duration": 9,
    "start_time": "2022-05-09T13:11:40.045Z"
   },
   {
    "duration": 16,
    "start_time": "2022-05-09T13:11:40.055Z"
   },
   {
    "duration": 34,
    "start_time": "2022-05-09T13:11:40.073Z"
   },
   {
    "duration": 31,
    "start_time": "2022-05-09T13:11:40.109Z"
   },
   {
    "duration": 4,
    "start_time": "2022-05-09T13:11:40.143Z"
   },
   {
    "duration": 15,
    "start_time": "2022-05-09T13:11:40.149Z"
   },
   {
    "duration": 14,
    "start_time": "2022-05-09T13:11:40.166Z"
   },
   {
    "duration": 9,
    "start_time": "2022-05-09T13:11:40.208Z"
   },
   {
    "duration": 6,
    "start_time": "2022-05-09T13:11:40.219Z"
   },
   {
    "duration": 18,
    "start_time": "2022-05-09T13:11:40.227Z"
   },
   {
    "duration": 62,
    "start_time": "2022-05-09T13:11:40.246Z"
   },
   {
    "duration": 19,
    "start_time": "2022-05-09T13:11:40.310Z"
   },
   {
    "duration": 4,
    "start_time": "2022-05-09T13:11:40.331Z"
   },
   {
    "duration": 2936,
    "start_time": "2022-05-09T13:11:40.338Z"
   },
   {
    "duration": 15,
    "start_time": "2022-05-09T13:11:43.276Z"
   },
   {
    "duration": 31,
    "start_time": "2022-05-09T13:11:43.293Z"
   },
   {
    "duration": 81,
    "start_time": "2022-05-09T13:11:43.326Z"
   },
   {
    "duration": 19,
    "start_time": "2022-05-09T13:11:43.409Z"
   },
   {
    "duration": 22,
    "start_time": "2022-05-09T13:11:43.430Z"
   },
   {
    "duration": 16,
    "start_time": "2022-05-09T13:11:43.453Z"
   },
   {
    "duration": 10,
    "start_time": "2022-05-09T13:11:43.507Z"
   },
   {
    "duration": 21,
    "start_time": "2022-05-09T13:11:43.519Z"
   },
   {
    "duration": 15,
    "start_time": "2022-05-09T13:11:43.545Z"
   },
   {
    "duration": 46,
    "start_time": "2022-05-09T13:11:43.562Z"
   },
   {
    "duration": 15,
    "start_time": "2022-05-09T13:11:43.610Z"
   },
   {
    "duration": 14,
    "start_time": "2022-05-09T13:11:43.627Z"
   },
   {
    "duration": 7,
    "start_time": "2022-05-09T13:11:43.642Z"
   },
   {
    "duration": 17,
    "start_time": "2022-05-09T13:11:43.650Z"
   },
   {
    "duration": 17,
    "start_time": "2022-05-09T13:11:43.706Z"
   },
   {
    "duration": 124,
    "start_time": "2022-05-09T13:11:43.725Z"
   },
   {
    "duration": 5,
    "start_time": "2022-05-09T13:11:43.851Z"
   },
   {
    "duration": 10,
    "start_time": "2022-05-09T13:11:43.857Z"
   },
   {
    "duration": 3,
    "start_time": "2022-05-09T13:11:43.869Z"
   },
   {
    "duration": 46,
    "start_time": "2022-05-09T13:11:43.874Z"
   },
   {
    "duration": 18,
    "start_time": "2022-05-09T13:11:43.922Z"
   },
   {
    "duration": 6,
    "start_time": "2022-05-09T13:11:43.942Z"
   },
   {
    "duration": 21,
    "start_time": "2022-05-09T13:11:43.949Z"
   },
   {
    "duration": 37,
    "start_time": "2022-05-09T13:11:43.972Z"
   },
   {
    "duration": 65,
    "start_time": "2022-05-09T13:11:44.011Z"
   },
   {
    "duration": 32,
    "start_time": "2022-05-09T13:11:44.078Z"
   },
   {
    "duration": 33,
    "start_time": "2022-05-09T13:11:44.112Z"
   },
   {
    "duration": 179,
    "start_time": "2022-05-09T13:11:44.147Z"
   },
   {
    "duration": 23,
    "start_time": "2022-05-09T13:11:44.328Z"
   },
   {
    "duration": 17,
    "start_time": "2022-05-09T13:11:44.353Z"
   },
   {
    "duration": 48,
    "start_time": "2022-05-09T13:11:44.371Z"
   },
   {
    "duration": 22,
    "start_time": "2022-05-09T13:11:44.421Z"
   },
   {
    "duration": 172,
    "start_time": "2022-05-09T13:11:44.445Z"
   },
   {
    "duration": 124,
    "start_time": "2022-05-09T13:11:44.619Z"
   },
   {
    "duration": 30,
    "start_time": "2022-05-09T13:11:44.745Z"
   },
   {
    "duration": 32,
    "start_time": "2022-05-09T13:11:44.777Z"
   },
   {
    "duration": 8,
    "start_time": "2022-05-09T13:11:44.811Z"
   },
   {
    "duration": 5,
    "start_time": "2022-05-09T13:11:44.821Z"
   },
   {
    "duration": 188,
    "start_time": "2022-05-09T13:11:44.829Z"
   },
   {
    "duration": 101,
    "start_time": "2022-05-09T13:11:45.020Z"
   },
   {
    "duration": 9,
    "start_time": "2022-05-09T13:11:45.123Z"
   },
   {
    "duration": 21,
    "start_time": "2022-05-09T13:11:45.134Z"
   },
   {
    "duration": 6,
    "start_time": "2022-05-09T13:11:45.157Z"
   },
   {
    "duration": 194,
    "start_time": "2022-05-09T13:11:45.165Z"
   },
   {
    "duration": 180,
    "start_time": "2022-05-09T13:11:45.361Z"
   },
   {
    "duration": 4,
    "start_time": "2022-05-09T13:11:45.543Z"
   },
   {
    "duration": 31,
    "start_time": "2022-05-09T13:14:25.739Z"
   },
   {
    "duration": 32,
    "start_time": "2022-05-09T13:14:43.660Z"
   },
   {
    "duration": 23,
    "start_time": "2022-05-09T13:22:51.447Z"
   },
   {
    "duration": 81,
    "start_time": "2022-05-09T13:50:13.485Z"
   },
   {
    "duration": 51,
    "start_time": "2022-05-09T13:50:19.044Z"
   },
   {
    "duration": 11,
    "start_time": "2022-05-09T13:50:29.862Z"
   },
   {
    "duration": 50,
    "start_time": "2022-05-09T13:51:26.036Z"
   },
   {
    "duration": 44,
    "start_time": "2022-05-09T13:51:42.192Z"
   },
   {
    "duration": 57,
    "start_time": "2022-05-09T13:53:12.504Z"
   },
   {
    "duration": 29,
    "start_time": "2022-05-09T13:55:58.351Z"
   },
   {
    "duration": 11,
    "start_time": "2022-05-09T14:04:14.832Z"
   },
   {
    "duration": 16,
    "start_time": "2022-05-09T14:04:39.053Z"
   },
   {
    "duration": 26,
    "start_time": "2022-05-09T14:13:24.644Z"
   },
   {
    "duration": 26,
    "start_time": "2022-05-09T14:15:38.838Z"
   },
   {
    "duration": 12,
    "start_time": "2022-05-09T14:15:58.158Z"
   },
   {
    "duration": 23,
    "start_time": "2022-05-09T14:16:21.301Z"
   },
   {
    "duration": 648,
    "start_time": "2022-05-09T14:26:53.157Z"
   },
   {
    "duration": 92,
    "start_time": "2022-05-09T14:26:53.807Z"
   },
   {
    "duration": 20,
    "start_time": "2022-05-09T14:26:53.900Z"
   },
   {
    "duration": 17,
    "start_time": "2022-05-09T14:26:53.922Z"
   },
   {
    "duration": 7,
    "start_time": "2022-05-09T14:26:53.941Z"
   },
   {
    "duration": 8,
    "start_time": "2022-05-09T14:26:53.950Z"
   },
   {
    "duration": 12,
    "start_time": "2022-05-09T14:26:53.959Z"
   },
   {
    "duration": 38,
    "start_time": "2022-05-09T14:26:53.973Z"
   },
   {
    "duration": 31,
    "start_time": "2022-05-09T14:26:54.013Z"
   },
   {
    "duration": 5,
    "start_time": "2022-05-09T14:26:54.047Z"
   },
   {
    "duration": 18,
    "start_time": "2022-05-09T14:26:54.054Z"
   },
   {
    "duration": 38,
    "start_time": "2022-05-09T14:26:54.073Z"
   },
   {
    "duration": 11,
    "start_time": "2022-05-09T14:26:54.113Z"
   },
   {
    "duration": 11,
    "start_time": "2022-05-09T14:26:54.125Z"
   },
   {
    "duration": 18,
    "start_time": "2022-05-09T14:26:54.138Z"
   },
   {
    "duration": 67,
    "start_time": "2022-05-09T14:26:54.159Z"
   },
   {
    "duration": 20,
    "start_time": "2022-05-09T14:26:54.228Z"
   },
   {
    "duration": 4,
    "start_time": "2022-05-09T14:26:54.249Z"
   },
   {
    "duration": 2927,
    "start_time": "2022-05-09T14:26:54.255Z"
   },
   {
    "duration": 22,
    "start_time": "2022-05-09T14:26:57.184Z"
   },
   {
    "duration": 20,
    "start_time": "2022-05-09T14:26:57.208Z"
   },
   {
    "duration": 83,
    "start_time": "2022-05-09T14:26:57.229Z"
   },
   {
    "duration": 17,
    "start_time": "2022-05-09T14:26:57.314Z"
   },
   {
    "duration": 22,
    "start_time": "2022-05-09T14:26:57.333Z"
   },
   {
    "duration": 14,
    "start_time": "2022-05-09T14:26:57.357Z"
   },
   {
    "duration": 38,
    "start_time": "2022-05-09T14:26:57.373Z"
   },
   {
    "duration": 21,
    "start_time": "2022-05-09T14:26:57.413Z"
   },
   {
    "duration": 15,
    "start_time": "2022-05-09T14:26:57.438Z"
   },
   {
    "duration": 14,
    "start_time": "2022-05-09T14:26:57.455Z"
   },
   {
    "duration": 46,
    "start_time": "2022-05-09T14:26:57.471Z"
   },
   {
    "duration": 13,
    "start_time": "2022-05-09T14:26:57.519Z"
   },
   {
    "duration": 6,
    "start_time": "2022-05-09T14:26:57.534Z"
   },
   {
    "duration": 16,
    "start_time": "2022-05-09T14:26:57.541Z"
   },
   {
    "duration": 15,
    "start_time": "2022-05-09T14:26:57.559Z"
   },
   {
    "duration": 109,
    "start_time": "2022-05-09T14:26:57.608Z"
   },
   {
    "duration": 4,
    "start_time": "2022-05-09T14:26:57.719Z"
   },
   {
    "duration": 11,
    "start_time": "2022-05-09T14:26:57.725Z"
   },
   {
    "duration": 3,
    "start_time": "2022-05-09T14:26:57.738Z"
   },
   {
    "duration": 24,
    "start_time": "2022-05-09T14:26:57.743Z"
   },
   {
    "duration": 47,
    "start_time": "2022-05-09T14:26:57.769Z"
   },
   {
    "duration": 5,
    "start_time": "2022-05-09T14:26:57.818Z"
   },
   {
    "duration": 20,
    "start_time": "2022-05-09T14:26:57.824Z"
   },
   {
    "duration": 6,
    "start_time": "2022-05-09T14:26:57.845Z"
   },
   {
    "duration": 92,
    "start_time": "2022-05-09T14:26:57.852Z"
   },
   {
    "duration": 10,
    "start_time": "2022-05-09T14:26:57.946Z"
   },
   {
    "duration": 102,
    "start_time": "2022-05-09T14:26:57.957Z"
   },
   {
    "duration": 0,
    "start_time": "2022-05-09T14:26:58.061Z"
   },
   {
    "duration": 0,
    "start_time": "2022-05-09T14:26:58.062Z"
   },
   {
    "duration": 0,
    "start_time": "2022-05-09T14:26:58.063Z"
   },
   {
    "duration": 0,
    "start_time": "2022-05-09T14:26:58.064Z"
   },
   {
    "duration": 0,
    "start_time": "2022-05-09T14:26:58.065Z"
   },
   {
    "duration": 0,
    "start_time": "2022-05-09T14:26:58.066Z"
   },
   {
    "duration": 0,
    "start_time": "2022-05-09T14:26:58.067Z"
   },
   {
    "duration": 0,
    "start_time": "2022-05-09T14:26:58.068Z"
   },
   {
    "duration": 1,
    "start_time": "2022-05-09T14:26:58.069Z"
   },
   {
    "duration": 0,
    "start_time": "2022-05-09T14:26:58.071Z"
   },
   {
    "duration": 0,
    "start_time": "2022-05-09T14:26:58.072Z"
   },
   {
    "duration": 0,
    "start_time": "2022-05-09T14:26:58.073Z"
   },
   {
    "duration": 0,
    "start_time": "2022-05-09T14:26:58.074Z"
   },
   {
    "duration": 0,
    "start_time": "2022-05-09T14:26:58.075Z"
   },
   {
    "duration": 0,
    "start_time": "2022-05-09T14:26:58.108Z"
   },
   {
    "duration": 0,
    "start_time": "2022-05-09T14:26:58.109Z"
   },
   {
    "duration": 0,
    "start_time": "2022-05-09T14:26:58.109Z"
   },
   {
    "duration": 0,
    "start_time": "2022-05-09T14:26:58.110Z"
   },
   {
    "duration": 0,
    "start_time": "2022-05-09T14:26:58.112Z"
   },
   {
    "duration": 15,
    "start_time": "2022-05-09T14:31:07.306Z"
   },
   {
    "duration": 18,
    "start_time": "2022-05-09T14:31:18.818Z"
   },
   {
    "duration": 96,
    "start_time": "2022-05-09T14:32:12.427Z"
   },
   {
    "duration": 693,
    "start_time": "2022-05-09T14:32:24.173Z"
   },
   {
    "duration": 93,
    "start_time": "2022-05-09T14:32:24.868Z"
   },
   {
    "duration": 27,
    "start_time": "2022-05-09T14:32:24.963Z"
   },
   {
    "duration": 25,
    "start_time": "2022-05-09T14:32:24.993Z"
   },
   {
    "duration": 8,
    "start_time": "2022-05-09T14:32:25.020Z"
   },
   {
    "duration": 10,
    "start_time": "2022-05-09T14:32:25.029Z"
   },
   {
    "duration": 16,
    "start_time": "2022-05-09T14:32:25.041Z"
   },
   {
    "duration": 13,
    "start_time": "2022-05-09T14:32:25.059Z"
   },
   {
    "duration": 57,
    "start_time": "2022-05-09T14:32:25.073Z"
   },
   {
    "duration": 4,
    "start_time": "2022-05-09T14:32:25.134Z"
   },
   {
    "duration": 18,
    "start_time": "2022-05-09T14:32:25.140Z"
   },
   {
    "duration": 13,
    "start_time": "2022-05-09T14:32:25.160Z"
   },
   {
    "duration": 9,
    "start_time": "2022-05-09T14:32:25.208Z"
   },
   {
    "duration": 9,
    "start_time": "2022-05-09T14:32:25.219Z"
   },
   {
    "duration": 20,
    "start_time": "2022-05-09T14:32:25.230Z"
   },
   {
    "duration": 56,
    "start_time": "2022-05-09T14:32:25.252Z"
   },
   {
    "duration": 21,
    "start_time": "2022-05-09T14:32:25.310Z"
   },
   {
    "duration": 4,
    "start_time": "2022-05-09T14:32:25.333Z"
   },
   {
    "duration": 2984,
    "start_time": "2022-05-09T14:32:25.339Z"
   },
   {
    "duration": 17,
    "start_time": "2022-05-09T14:32:28.325Z"
   },
   {
    "duration": 19,
    "start_time": "2022-05-09T14:32:28.344Z"
   },
   {
    "duration": 85,
    "start_time": "2022-05-09T14:32:28.365Z"
   },
   {
    "duration": 16,
    "start_time": "2022-05-09T14:32:28.452Z"
   },
   {
    "duration": 38,
    "start_time": "2022-05-09T14:32:28.470Z"
   },
   {
    "duration": 13,
    "start_time": "2022-05-09T14:32:28.510Z"
   },
   {
    "duration": 9,
    "start_time": "2022-05-09T14:32:28.524Z"
   },
   {
    "duration": 22,
    "start_time": "2022-05-09T14:32:28.535Z"
   },
   {
    "duration": 48,
    "start_time": "2022-05-09T14:32:28.561Z"
   },
   {
    "duration": 15,
    "start_time": "2022-05-09T14:32:28.611Z"
   },
   {
    "duration": 14,
    "start_time": "2022-05-09T14:32:28.628Z"
   },
   {
    "duration": 13,
    "start_time": "2022-05-09T14:32:28.643Z"
   },
   {
    "duration": 5,
    "start_time": "2022-05-09T14:32:28.658Z"
   },
   {
    "duration": 46,
    "start_time": "2022-05-09T14:32:28.664Z"
   },
   {
    "duration": 18,
    "start_time": "2022-05-09T14:32:28.712Z"
   },
   {
    "duration": 121,
    "start_time": "2022-05-09T14:32:28.732Z"
   },
   {
    "duration": 4,
    "start_time": "2022-05-09T14:32:28.855Z"
   },
   {
    "duration": 10,
    "start_time": "2022-05-09T14:32:28.860Z"
   },
   {
    "duration": 2,
    "start_time": "2022-05-09T14:32:28.872Z"
   },
   {
    "duration": 39,
    "start_time": "2022-05-09T14:32:28.876Z"
   },
   {
    "duration": 17,
    "start_time": "2022-05-09T14:32:28.916Z"
   },
   {
    "duration": 4,
    "start_time": "2022-05-09T14:32:28.935Z"
   },
   {
    "duration": 19,
    "start_time": "2022-05-09T14:32:28.940Z"
   },
   {
    "duration": 4,
    "start_time": "2022-05-09T14:32:28.961Z"
   },
   {
    "duration": 96,
    "start_time": "2022-05-09T14:32:28.967Z"
   },
   {
    "duration": 10,
    "start_time": "2022-05-09T14:32:29.065Z"
   },
   {
    "duration": 103,
    "start_time": "2022-05-09T14:32:29.076Z"
   },
   {
    "duration": 0,
    "start_time": "2022-05-09T14:32:29.181Z"
   },
   {
    "duration": 0,
    "start_time": "2022-05-09T14:32:29.182Z"
   },
   {
    "duration": 0,
    "start_time": "2022-05-09T14:32:29.183Z"
   },
   {
    "duration": 0,
    "start_time": "2022-05-09T14:32:29.185Z"
   },
   {
    "duration": 0,
    "start_time": "2022-05-09T14:32:29.186Z"
   },
   {
    "duration": 0,
    "start_time": "2022-05-09T14:32:29.187Z"
   },
   {
    "duration": 0,
    "start_time": "2022-05-09T14:32:29.208Z"
   },
   {
    "duration": 0,
    "start_time": "2022-05-09T14:32:29.209Z"
   },
   {
    "duration": 0,
    "start_time": "2022-05-09T14:32:29.210Z"
   },
   {
    "duration": 0,
    "start_time": "2022-05-09T14:32:29.211Z"
   },
   {
    "duration": 0,
    "start_time": "2022-05-09T14:32:29.212Z"
   },
   {
    "duration": 0,
    "start_time": "2022-05-09T14:32:29.213Z"
   },
   {
    "duration": 0,
    "start_time": "2022-05-09T14:32:29.214Z"
   },
   {
    "duration": 0,
    "start_time": "2022-05-09T14:32:29.216Z"
   },
   {
    "duration": 0,
    "start_time": "2022-05-09T14:32:29.216Z"
   },
   {
    "duration": 0,
    "start_time": "2022-05-09T14:32:29.217Z"
   },
   {
    "duration": 0,
    "start_time": "2022-05-09T14:32:29.218Z"
   },
   {
    "duration": 0,
    "start_time": "2022-05-09T14:32:29.219Z"
   },
   {
    "duration": 0,
    "start_time": "2022-05-09T14:32:29.220Z"
   },
   {
    "duration": 110,
    "start_time": "2022-05-09T14:33:01.369Z"
   },
   {
    "duration": 115,
    "start_time": "2022-05-09T14:33:08.112Z"
   },
   {
    "duration": 122,
    "start_time": "2022-05-09T14:33:14.073Z"
   },
   {
    "duration": 94,
    "start_time": "2022-05-09T14:33:20.024Z"
   },
   {
    "duration": 88,
    "start_time": "2022-05-09T14:33:27.784Z"
   },
   {
    "duration": 92,
    "start_time": "2022-05-09T14:33:46.105Z"
   },
   {
    "duration": 91,
    "start_time": "2022-05-09T14:33:54.401Z"
   },
   {
    "duration": 34,
    "start_time": "2022-05-09T14:34:40.545Z"
   },
   {
    "duration": 661,
    "start_time": "2022-05-09T14:34:46.274Z"
   },
   {
    "duration": 92,
    "start_time": "2022-05-09T14:34:46.937Z"
   },
   {
    "duration": 19,
    "start_time": "2022-05-09T14:34:47.030Z"
   },
   {
    "duration": 16,
    "start_time": "2022-05-09T14:34:47.052Z"
   },
   {
    "duration": 9,
    "start_time": "2022-05-09T14:34:47.070Z"
   },
   {
    "duration": 28,
    "start_time": "2022-05-09T14:34:47.081Z"
   },
   {
    "duration": 10,
    "start_time": "2022-05-09T14:34:47.111Z"
   },
   {
    "duration": 9,
    "start_time": "2022-05-09T14:34:47.123Z"
   },
   {
    "duration": 29,
    "start_time": "2022-05-09T14:34:47.134Z"
   },
   {
    "duration": 4,
    "start_time": "2022-05-09T14:34:47.166Z"
   },
   {
    "duration": 16,
    "start_time": "2022-05-09T14:34:47.208Z"
   },
   {
    "duration": 13,
    "start_time": "2022-05-09T14:34:47.225Z"
   },
   {
    "duration": 10,
    "start_time": "2022-05-09T14:34:47.239Z"
   },
   {
    "duration": 6,
    "start_time": "2022-05-09T14:34:47.251Z"
   },
   {
    "duration": 16,
    "start_time": "2022-05-09T14:34:47.258Z"
   },
   {
    "duration": 67,
    "start_time": "2022-05-09T14:34:47.276Z"
   },
   {
    "duration": 17,
    "start_time": "2022-05-09T14:34:47.345Z"
   },
   {
    "duration": 3,
    "start_time": "2022-05-09T14:34:47.364Z"
   },
   {
    "duration": 2924,
    "start_time": "2022-05-09T14:34:47.369Z"
   },
   {
    "duration": 21,
    "start_time": "2022-05-09T14:34:50.295Z"
   },
   {
    "duration": 19,
    "start_time": "2022-05-09T14:34:50.318Z"
   },
   {
    "duration": 91,
    "start_time": "2022-05-09T14:34:50.338Z"
   },
   {
    "duration": 19,
    "start_time": "2022-05-09T14:34:50.430Z"
   },
   {
    "duration": 23,
    "start_time": "2022-05-09T14:34:50.451Z"
   },
   {
    "duration": 38,
    "start_time": "2022-05-09T14:34:50.476Z"
   },
   {
    "duration": 9,
    "start_time": "2022-05-09T14:34:50.516Z"
   },
   {
    "duration": 23,
    "start_time": "2022-05-09T14:34:50.527Z"
   },
   {
    "duration": 54,
    "start_time": "2022-05-09T14:34:50.554Z"
   },
   {
    "duration": 16,
    "start_time": "2022-05-09T14:34:50.609Z"
   },
   {
    "duration": 13,
    "start_time": "2022-05-09T14:34:50.627Z"
   },
   {
    "duration": 16,
    "start_time": "2022-05-09T14:34:50.642Z"
   },
   {
    "duration": 7,
    "start_time": "2022-05-09T14:34:50.659Z"
   },
   {
    "duration": 49,
    "start_time": "2022-05-09T14:34:50.668Z"
   },
   {
    "duration": 18,
    "start_time": "2022-05-09T14:34:50.718Z"
   },
   {
    "duration": 119,
    "start_time": "2022-05-09T14:34:50.738Z"
   },
   {
    "duration": 3,
    "start_time": "2022-05-09T14:34:50.859Z"
   },
   {
    "duration": 10,
    "start_time": "2022-05-09T14:34:50.864Z"
   },
   {
    "duration": 2,
    "start_time": "2022-05-09T14:34:50.876Z"
   },
   {
    "duration": 40,
    "start_time": "2022-05-09T14:34:50.880Z"
   },
   {
    "duration": 18,
    "start_time": "2022-05-09T14:34:50.921Z"
   },
   {
    "duration": 4,
    "start_time": "2022-05-09T14:34:50.940Z"
   },
   {
    "duration": 20,
    "start_time": "2022-05-09T14:34:50.946Z"
   },
   {
    "duration": 39,
    "start_time": "2022-05-09T14:34:50.968Z"
   },
   {
    "duration": 54,
    "start_time": "2022-05-09T14:34:51.009Z"
   },
   {
    "duration": 8,
    "start_time": "2022-05-09T14:34:51.064Z"
   },
   {
    "duration": 46,
    "start_time": "2022-05-09T14:34:51.074Z"
   },
   {
    "duration": 160,
    "start_time": "2022-05-09T14:34:51.121Z"
   },
   {
    "duration": 31,
    "start_time": "2022-05-09T14:34:51.283Z"
   },
   {
    "duration": 16,
    "start_time": "2022-05-09T14:34:51.316Z"
   },
   {
    "duration": 21,
    "start_time": "2022-05-09T14:34:51.334Z"
   },
   {
    "duration": 17,
    "start_time": "2022-05-09T14:34:51.357Z"
   },
   {
    "duration": 186,
    "start_time": "2022-05-09T14:34:51.375Z"
   },
   {
    "duration": 110,
    "start_time": "2022-05-09T14:34:51.563Z"
   },
   {
    "duration": 41,
    "start_time": "2022-05-09T14:34:51.674Z"
   },
   {
    "duration": 6,
    "start_time": "2022-05-09T14:34:51.717Z"
   },
   {
    "duration": 10,
    "start_time": "2022-05-09T14:34:51.725Z"
   },
   {
    "duration": 7,
    "start_time": "2022-05-09T14:34:51.737Z"
   },
   {
    "duration": 188,
    "start_time": "2022-05-09T14:34:51.746Z"
   },
   {
    "duration": 89,
    "start_time": "2022-05-09T14:34:51.936Z"
   },
   {
    "duration": 7,
    "start_time": "2022-05-09T14:34:52.027Z"
   },
   {
    "duration": 19,
    "start_time": "2022-05-09T14:34:52.036Z"
   },
   {
    "duration": 5,
    "start_time": "2022-05-09T14:34:52.057Z"
   },
   {
    "duration": 183,
    "start_time": "2022-05-09T14:34:52.064Z"
   },
   {
    "duration": 170,
    "start_time": "2022-05-09T14:34:52.249Z"
   },
   {
    "duration": 4,
    "start_time": "2022-05-09T14:34:52.421Z"
   },
   {
    "duration": 324,
    "start_time": "2022-05-09T14:36:52.027Z"
   },
   {
    "duration": 88,
    "start_time": "2022-05-09T14:36:56.716Z"
   },
   {
    "duration": 691,
    "start_time": "2022-05-09T14:37:45.693Z"
   },
   {
    "duration": 91,
    "start_time": "2022-05-09T14:37:46.386Z"
   },
   {
    "duration": 18,
    "start_time": "2022-05-09T14:37:46.479Z"
   },
   {
    "duration": 22,
    "start_time": "2022-05-09T14:37:46.499Z"
   },
   {
    "duration": 8,
    "start_time": "2022-05-09T14:37:46.522Z"
   },
   {
    "duration": 8,
    "start_time": "2022-05-09T14:37:46.531Z"
   },
   {
    "duration": 13,
    "start_time": "2022-05-09T14:37:46.541Z"
   },
   {
    "duration": 9,
    "start_time": "2022-05-09T14:37:46.555Z"
   },
   {
    "duration": 62,
    "start_time": "2022-05-09T14:37:46.566Z"
   },
   {
    "duration": 4,
    "start_time": "2022-05-09T14:37:46.631Z"
   },
   {
    "duration": 17,
    "start_time": "2022-05-09T14:37:46.637Z"
   },
   {
    "duration": 12,
    "start_time": "2022-05-09T14:37:46.655Z"
   },
   {
    "duration": 10,
    "start_time": "2022-05-09T14:37:46.669Z"
   },
   {
    "duration": 8,
    "start_time": "2022-05-09T14:37:46.707Z"
   },
   {
    "duration": 16,
    "start_time": "2022-05-09T14:37:46.717Z"
   },
   {
    "duration": 47,
    "start_time": "2022-05-09T14:37:46.735Z"
   },
   {
    "duration": 38,
    "start_time": "2022-05-09T14:37:46.784Z"
   },
   {
    "duration": 4,
    "start_time": "2022-05-09T14:37:46.823Z"
   },
   {
    "duration": 2867,
    "start_time": "2022-05-09T14:37:46.828Z"
   },
   {
    "duration": 21,
    "start_time": "2022-05-09T14:37:49.697Z"
   },
   {
    "duration": 20,
    "start_time": "2022-05-09T14:37:49.720Z"
   },
   {
    "duration": 86,
    "start_time": "2022-05-09T14:37:49.741Z"
   },
   {
    "duration": 17,
    "start_time": "2022-05-09T14:37:49.829Z"
   },
   {
    "duration": 20,
    "start_time": "2022-05-09T14:37:49.848Z"
   },
   {
    "duration": 37,
    "start_time": "2022-05-09T14:37:49.870Z"
   },
   {
    "duration": 11,
    "start_time": "2022-05-09T14:37:49.909Z"
   },
   {
    "duration": 22,
    "start_time": "2022-05-09T14:37:49.921Z"
   },
   {
    "duration": 15,
    "start_time": "2022-05-09T14:37:49.948Z"
   },
   {
    "duration": 53,
    "start_time": "2022-05-09T14:37:49.965Z"
   },
   {
    "duration": 14,
    "start_time": "2022-05-09T14:37:50.020Z"
   },
   {
    "duration": 14,
    "start_time": "2022-05-09T14:37:50.036Z"
   },
   {
    "duration": 5,
    "start_time": "2022-05-09T14:37:50.052Z"
   },
   {
    "duration": 54,
    "start_time": "2022-05-09T14:37:50.059Z"
   },
   {
    "duration": 18,
    "start_time": "2022-05-09T14:37:50.116Z"
   },
   {
    "duration": 125,
    "start_time": "2022-05-09T14:37:50.136Z"
   },
   {
    "duration": 5,
    "start_time": "2022-05-09T14:37:50.263Z"
   },
   {
    "duration": 9,
    "start_time": "2022-05-09T14:37:50.269Z"
   },
   {
    "duration": 3,
    "start_time": "2022-05-09T14:37:50.280Z"
   },
   {
    "duration": 41,
    "start_time": "2022-05-09T14:37:50.285Z"
   },
   {
    "duration": 17,
    "start_time": "2022-05-09T14:37:50.328Z"
   },
   {
    "duration": 4,
    "start_time": "2022-05-09T14:37:50.346Z"
   },
   {
    "duration": 19,
    "start_time": "2022-05-09T14:37:50.352Z"
   },
   {
    "duration": 40,
    "start_time": "2022-05-09T14:37:50.372Z"
   },
   {
    "duration": 59,
    "start_time": "2022-05-09T14:37:50.413Z"
   },
   {
    "duration": 9,
    "start_time": "2022-05-09T14:37:50.474Z"
   },
   {
    "duration": 24,
    "start_time": "2022-05-09T14:37:50.507Z"
   },
   {
    "duration": 174,
    "start_time": "2022-05-09T14:37:50.533Z"
   },
   {
    "duration": 24,
    "start_time": "2022-05-09T14:37:50.709Z"
   },
   {
    "duration": 19,
    "start_time": "2022-05-09T14:37:50.734Z"
   },
   {
    "duration": 23,
    "start_time": "2022-05-09T14:37:50.754Z"
   },
   {
    "duration": 46,
    "start_time": "2022-05-09T14:37:50.778Z"
   },
   {
    "duration": 156,
    "start_time": "2022-05-09T14:37:50.826Z"
   },
   {
    "duration": 109,
    "start_time": "2022-05-09T14:37:50.984Z"
   },
   {
    "duration": 35,
    "start_time": "2022-05-09T14:37:51.095Z"
   },
   {
    "duration": 6,
    "start_time": "2022-05-09T14:37:51.132Z"
   },
   {
    "duration": 7,
    "start_time": "2022-05-09T14:37:51.140Z"
   },
   {
    "duration": 5,
    "start_time": "2022-05-09T14:37:51.148Z"
   },
   {
    "duration": 184,
    "start_time": "2022-05-09T14:37:51.154Z"
   },
   {
    "duration": 7,
    "start_time": "2022-05-09T14:37:51.340Z"
   },
   {
    "duration": 19,
    "start_time": "2022-05-09T14:37:51.349Z"
   },
   {
    "duration": 6,
    "start_time": "2022-05-09T14:37:51.369Z"
   },
   {
    "duration": 193,
    "start_time": "2022-05-09T14:37:51.376Z"
   },
   {
    "duration": 181,
    "start_time": "2022-05-09T14:37:51.571Z"
   },
   {
    "duration": 4,
    "start_time": "2022-05-09T14:37:51.754Z"
   },
   {
    "duration": 68,
    "start_time": "2022-05-09T14:41:37.509Z"
   },
   {
    "duration": 80,
    "start_time": "2022-05-09T14:41:48.716Z"
   },
   {
    "duration": 99,
    "start_time": "2022-05-09T14:42:06.966Z"
   },
   {
    "duration": 116,
    "start_time": "2022-05-09T14:42:21.509Z"
   },
   {
    "duration": 121,
    "start_time": "2022-05-09T14:47:06.896Z"
   },
   {
    "duration": 129,
    "start_time": "2022-05-09T14:47:31.198Z"
   },
   {
    "duration": 134,
    "start_time": "2022-05-09T14:48:15.647Z"
   },
   {
    "duration": 188,
    "start_time": "2022-05-09T14:48:29.031Z"
   },
   {
    "duration": 73,
    "start_time": "2022-05-09T14:49:42.640Z"
   },
   {
    "duration": 62,
    "start_time": "2022-05-09T14:49:50.135Z"
   },
   {
    "duration": 75,
    "start_time": "2022-05-09T14:49:54.439Z"
   },
   {
    "duration": 63,
    "start_time": "2022-05-09T14:50:45.992Z"
   },
   {
    "duration": 135,
    "start_time": "2022-05-09T14:50:59.592Z"
   },
   {
    "duration": 122,
    "start_time": "2022-05-09T14:51:06.547Z"
   },
   {
    "duration": 64,
    "start_time": "2022-05-09T14:51:11.288Z"
   },
   {
    "duration": 18,
    "start_time": "2022-05-09T14:51:55.986Z"
   },
   {
    "duration": 169,
    "start_time": "2022-05-09T14:52:06.320Z"
   },
   {
    "duration": 139,
    "start_time": "2022-05-09T14:52:15.809Z"
   },
   {
    "duration": 136,
    "start_time": "2022-05-09T14:52:26.297Z"
   },
   {
    "duration": 136,
    "start_time": "2022-05-09T14:55:11.177Z"
   },
   {
    "duration": 144,
    "start_time": "2022-05-09T14:55:20.905Z"
   },
   {
    "duration": 134,
    "start_time": "2022-05-09T14:55:43.587Z"
   },
   {
    "duration": 143,
    "start_time": "2022-05-09T14:56:05.817Z"
   },
   {
    "duration": 211,
    "start_time": "2022-05-09T14:56:37.721Z"
   },
   {
    "duration": 147,
    "start_time": "2022-05-09T14:57:10.780Z"
   },
   {
    "duration": 138,
    "start_time": "2022-05-09T14:57:22.227Z"
   },
   {
    "duration": 124,
    "start_time": "2022-05-09T14:57:54.578Z"
   },
   {
    "duration": 132,
    "start_time": "2022-05-09T14:58:07.203Z"
   },
   {
    "duration": 139,
    "start_time": "2022-05-09T14:58:41.770Z"
   },
   {
    "duration": 131,
    "start_time": "2022-05-09T14:58:46.818Z"
   },
   {
    "duration": 144,
    "start_time": "2022-05-09T14:59:02.403Z"
   },
   {
    "duration": 135,
    "start_time": "2022-05-09T14:59:22.475Z"
   },
   {
    "duration": 144,
    "start_time": "2022-05-09T14:59:39.044Z"
   },
   {
    "duration": 151,
    "start_time": "2022-05-09T14:59:43.803Z"
   },
   {
    "duration": 236,
    "start_time": "2022-05-09T15:02:31.518Z"
   },
   {
    "duration": 152,
    "start_time": "2022-05-09T15:02:56.990Z"
   },
   {
    "duration": 145,
    "start_time": "2022-05-09T15:03:10.636Z"
   },
   {
    "duration": 125,
    "start_time": "2022-05-09T15:03:38.420Z"
   },
   {
    "duration": 133,
    "start_time": "2022-05-09T15:03:59.204Z"
   },
   {
    "duration": 136,
    "start_time": "2022-05-09T15:04:04.005Z"
   },
   {
    "duration": 128,
    "start_time": "2022-05-09T15:04:10.644Z"
   },
   {
    "duration": 131,
    "start_time": "2022-05-09T15:04:15.037Z"
   },
   {
    "duration": 166,
    "start_time": "2022-05-09T15:04:29.110Z"
   },
   {
    "duration": 147,
    "start_time": "2022-05-09T15:04:39.237Z"
   },
   {
    "duration": 152,
    "start_time": "2022-05-09T15:04:46.093Z"
   },
   {
    "duration": 209,
    "start_time": "2022-05-09T15:07:03.887Z"
   },
   {
    "duration": 663,
    "start_time": "2022-05-09T15:16:41.541Z"
   },
   {
    "duration": 94,
    "start_time": "2022-05-09T15:16:42.207Z"
   },
   {
    "duration": 21,
    "start_time": "2022-05-09T15:16:42.303Z"
   },
   {
    "duration": 22,
    "start_time": "2022-05-09T15:16:42.326Z"
   },
   {
    "duration": 7,
    "start_time": "2022-05-09T15:16:42.350Z"
   },
   {
    "duration": 9,
    "start_time": "2022-05-09T15:16:42.360Z"
   },
   {
    "duration": 42,
    "start_time": "2022-05-09T15:16:42.370Z"
   },
   {
    "duration": 11,
    "start_time": "2022-05-09T15:16:42.414Z"
   },
   {
    "duration": 33,
    "start_time": "2022-05-09T15:16:42.427Z"
   },
   {
    "duration": 4,
    "start_time": "2022-05-09T15:16:42.463Z"
   },
   {
    "duration": 40,
    "start_time": "2022-05-09T15:16:42.469Z"
   },
   {
    "duration": 29,
    "start_time": "2022-05-09T15:16:42.511Z"
   },
   {
    "duration": 11,
    "start_time": "2022-05-09T15:16:42.543Z"
   },
   {
    "duration": 9,
    "start_time": "2022-05-09T15:16:42.556Z"
   },
   {
    "duration": 41,
    "start_time": "2022-05-09T15:16:42.567Z"
   },
   {
    "duration": 47,
    "start_time": "2022-05-09T15:16:42.611Z"
   },
   {
    "duration": 19,
    "start_time": "2022-05-09T15:16:42.660Z"
   },
   {
    "duration": 29,
    "start_time": "2022-05-09T15:16:42.681Z"
   },
   {
    "duration": 3002,
    "start_time": "2022-05-09T15:16:42.712Z"
   },
   {
    "duration": 15,
    "start_time": "2022-05-09T15:16:45.716Z"
   },
   {
    "duration": 22,
    "start_time": "2022-05-09T15:16:45.733Z"
   },
   {
    "duration": 86,
    "start_time": "2022-05-09T15:16:45.757Z"
   },
   {
    "duration": 18,
    "start_time": "2022-05-09T15:16:45.845Z"
   },
   {
    "duration": 43,
    "start_time": "2022-05-09T15:16:45.865Z"
   },
   {
    "duration": 15,
    "start_time": "2022-05-09T15:16:45.910Z"
   },
   {
    "duration": 11,
    "start_time": "2022-05-09T15:16:45.927Z"
   },
   {
    "duration": 21,
    "start_time": "2022-05-09T15:16:45.940Z"
   },
   {
    "duration": 47,
    "start_time": "2022-05-09T15:16:45.966Z"
   },
   {
    "duration": 15,
    "start_time": "2022-05-09T15:16:46.015Z"
   },
   {
    "duration": 17,
    "start_time": "2022-05-09T15:16:46.032Z"
   },
   {
    "duration": 16,
    "start_time": "2022-05-09T15:16:46.051Z"
   },
   {
    "duration": 38,
    "start_time": "2022-05-09T15:16:46.069Z"
   },
   {
    "duration": 26,
    "start_time": "2022-05-09T15:16:46.110Z"
   },
   {
    "duration": 18,
    "start_time": "2022-05-09T15:16:46.138Z"
   },
   {
    "duration": 150,
    "start_time": "2022-05-09T15:16:46.158Z"
   },
   {
    "duration": 4,
    "start_time": "2022-05-09T15:16:46.309Z"
   },
   {
    "duration": 9,
    "start_time": "2022-05-09T15:16:46.315Z"
   },
   {
    "duration": 3,
    "start_time": "2022-05-09T15:16:46.326Z"
   },
   {
    "duration": 22,
    "start_time": "2022-05-09T15:16:46.330Z"
   },
   {
    "duration": 17,
    "start_time": "2022-05-09T15:16:46.353Z"
   },
   {
    "duration": 5,
    "start_time": "2022-05-09T15:16:46.407Z"
   },
   {
    "duration": 24,
    "start_time": "2022-05-09T15:16:46.414Z"
   },
   {
    "duration": 6,
    "start_time": "2022-05-09T15:16:46.440Z"
   },
   {
    "duration": 105,
    "start_time": "2022-05-09T15:16:46.448Z"
   },
   {
    "duration": 12,
    "start_time": "2022-05-09T15:16:46.556Z"
   },
   {
    "duration": 44,
    "start_time": "2022-05-09T15:16:46.570Z"
   },
   {
    "duration": 161,
    "start_time": "2022-05-09T15:16:46.616Z"
   },
   {
    "duration": 31,
    "start_time": "2022-05-09T15:16:46.779Z"
   },
   {
    "duration": 18,
    "start_time": "2022-05-09T15:16:46.812Z"
   },
   {
    "duration": 23,
    "start_time": "2022-05-09T15:16:46.831Z"
   },
   {
    "duration": 52,
    "start_time": "2022-05-09T15:16:46.855Z"
   },
   {
    "duration": 152,
    "start_time": "2022-05-09T15:16:46.909Z"
   },
   {
    "duration": 110,
    "start_time": "2022-05-09T15:16:47.063Z"
   },
   {
    "duration": 44,
    "start_time": "2022-05-09T15:16:47.174Z"
   },
   {
    "duration": 6,
    "start_time": "2022-05-09T15:16:47.220Z"
   },
   {
    "duration": 7,
    "start_time": "2022-05-09T15:16:47.228Z"
   },
   {
    "duration": 5,
    "start_time": "2022-05-09T15:16:47.237Z"
   },
   {
    "duration": 182,
    "start_time": "2022-05-09T15:16:47.243Z"
   },
   {
    "duration": 7,
    "start_time": "2022-05-09T15:16:47.427Z"
   },
   {
    "duration": 19,
    "start_time": "2022-05-09T15:16:47.436Z"
   },
   {
    "duration": 7,
    "start_time": "2022-05-09T15:16:47.457Z"
   },
   {
    "duration": 212,
    "start_time": "2022-05-09T15:16:47.466Z"
   },
   {
    "duration": 172,
    "start_time": "2022-05-09T15:16:47.680Z"
   },
   {
    "duration": 4,
    "start_time": "2022-05-09T15:16:47.854Z"
   },
   {
    "duration": 667,
    "start_time": "2022-05-09T15:23:10.125Z"
   },
   {
    "duration": 96,
    "start_time": "2022-05-09T15:23:10.794Z"
   },
   {
    "duration": 20,
    "start_time": "2022-05-09T15:23:10.892Z"
   },
   {
    "duration": 17,
    "start_time": "2022-05-09T15:23:10.915Z"
   },
   {
    "duration": 8,
    "start_time": "2022-05-09T15:23:10.934Z"
   },
   {
    "duration": 10,
    "start_time": "2022-05-09T15:23:10.943Z"
   },
   {
    "duration": 12,
    "start_time": "2022-05-09T15:23:10.955Z"
   },
   {
    "duration": 12,
    "start_time": "2022-05-09T15:23:10.968Z"
   },
   {
    "duration": 56,
    "start_time": "2022-05-09T15:23:10.981Z"
   },
   {
    "duration": 4,
    "start_time": "2022-05-09T15:23:11.039Z"
   },
   {
    "duration": 17,
    "start_time": "2022-05-09T15:23:11.045Z"
   },
   {
    "duration": 14,
    "start_time": "2022-05-09T15:23:11.063Z"
   },
   {
    "duration": 38,
    "start_time": "2022-05-09T15:23:11.079Z"
   },
   {
    "duration": 6,
    "start_time": "2022-05-09T15:23:11.119Z"
   },
   {
    "duration": 17,
    "start_time": "2022-05-09T15:23:11.127Z"
   },
   {
    "duration": 67,
    "start_time": "2022-05-09T15:23:11.145Z"
   },
   {
    "duration": 21,
    "start_time": "2022-05-09T15:23:11.214Z"
   },
   {
    "duration": 4,
    "start_time": "2022-05-09T15:23:11.237Z"
   },
   {
    "duration": 3021,
    "start_time": "2022-05-09T15:23:11.243Z"
   },
   {
    "duration": 17,
    "start_time": "2022-05-09T15:23:14.266Z"
   },
   {
    "duration": 35,
    "start_time": "2022-05-09T15:23:14.285Z"
   },
   {
    "duration": 86,
    "start_time": "2022-05-09T15:23:14.322Z"
   },
   {
    "duration": 18,
    "start_time": "2022-05-09T15:23:14.411Z"
   },
   {
    "duration": 23,
    "start_time": "2022-05-09T15:23:14.431Z"
   },
   {
    "duration": 14,
    "start_time": "2022-05-09T15:23:14.456Z"
   },
   {
    "duration": 38,
    "start_time": "2022-05-09T15:23:14.473Z"
   },
   {
    "duration": 20,
    "start_time": "2022-05-09T15:23:14.513Z"
   },
   {
    "duration": 16,
    "start_time": "2022-05-09T15:23:14.537Z"
   },
   {
    "duration": 15,
    "start_time": "2022-05-09T15:23:14.555Z"
   },
   {
    "duration": 14,
    "start_time": "2022-05-09T15:23:14.608Z"
   },
   {
    "duration": 14,
    "start_time": "2022-05-09T15:23:14.624Z"
   },
   {
    "duration": 6,
    "start_time": "2022-05-09T15:23:14.639Z"
   },
   {
    "duration": 16,
    "start_time": "2022-05-09T15:23:14.646Z"
   },
   {
    "duration": 51,
    "start_time": "2022-05-09T15:23:14.664Z"
   },
   {
    "duration": 138,
    "start_time": "2022-05-09T15:23:14.717Z"
   },
   {
    "duration": 4,
    "start_time": "2022-05-09T15:23:14.857Z"
   },
   {
    "duration": 10,
    "start_time": "2022-05-09T15:23:14.863Z"
   },
   {
    "duration": 3,
    "start_time": "2022-05-09T15:23:14.874Z"
   },
   {
    "duration": 44,
    "start_time": "2022-05-09T15:23:14.879Z"
   },
   {
    "duration": 18,
    "start_time": "2022-05-09T15:23:14.924Z"
   },
   {
    "duration": 4,
    "start_time": "2022-05-09T15:23:14.944Z"
   },
   {
    "duration": 20,
    "start_time": "2022-05-09T15:23:14.950Z"
   },
   {
    "duration": 4,
    "start_time": "2022-05-09T15:23:14.972Z"
   },
   {
    "duration": 89,
    "start_time": "2022-05-09T15:23:14.978Z"
   },
   {
    "duration": 10,
    "start_time": "2022-05-09T15:23:15.068Z"
   },
   {
    "duration": 44,
    "start_time": "2022-05-09T15:23:15.079Z"
   },
   {
    "duration": 161,
    "start_time": "2022-05-09T15:23:15.125Z"
   },
   {
    "duration": 32,
    "start_time": "2022-05-09T15:23:15.288Z"
   },
   {
    "duration": 17,
    "start_time": "2022-05-09T15:23:15.322Z"
   },
   {
    "duration": 22,
    "start_time": "2022-05-09T15:23:15.341Z"
   },
   {
    "duration": 18,
    "start_time": "2022-05-09T15:23:15.364Z"
   },
   {
    "duration": 158,
    "start_time": "2022-05-09T15:23:15.408Z"
   },
   {
    "duration": 112,
    "start_time": "2022-05-09T15:23:15.568Z"
   },
   {
    "duration": 41,
    "start_time": "2022-05-09T15:23:15.682Z"
   },
   {
    "duration": 6,
    "start_time": "2022-05-09T15:23:15.725Z"
   },
   {
    "duration": 8,
    "start_time": "2022-05-09T15:23:15.732Z"
   },
   {
    "duration": 6,
    "start_time": "2022-05-09T15:23:15.741Z"
   },
   {
    "duration": 189,
    "start_time": "2022-05-09T15:23:15.748Z"
   },
   {
    "duration": 9,
    "start_time": "2022-05-09T15:23:15.939Z"
   },
   {
    "duration": 21,
    "start_time": "2022-05-09T15:23:15.949Z"
   },
   {
    "duration": 9,
    "start_time": "2022-05-09T15:23:15.972Z"
   },
   {
    "duration": 202,
    "start_time": "2022-05-09T15:23:15.982Z"
   },
   {
    "duration": 171,
    "start_time": "2022-05-09T15:23:16.185Z"
   },
   {
    "duration": 3,
    "start_time": "2022-05-09T15:23:16.358Z"
   },
   {
    "duration": 673,
    "start_time": "2022-05-10T10:36:31.498Z"
   },
   {
    "duration": 116,
    "start_time": "2022-05-10T10:36:32.173Z"
   },
   {
    "duration": 17,
    "start_time": "2022-05-10T10:36:32.291Z"
   },
   {
    "duration": 19,
    "start_time": "2022-05-10T10:36:32.309Z"
   },
   {
    "duration": 10,
    "start_time": "2022-05-10T10:36:32.330Z"
   },
   {
    "duration": 10,
    "start_time": "2022-05-10T10:36:32.342Z"
   },
   {
    "duration": 31,
    "start_time": "2022-05-10T10:36:32.353Z"
   },
   {
    "duration": 21,
    "start_time": "2022-05-10T10:36:32.387Z"
   },
   {
    "duration": 41,
    "start_time": "2022-05-10T10:36:32.410Z"
   },
   {
    "duration": 4,
    "start_time": "2022-05-10T10:36:32.452Z"
   },
   {
    "duration": 23,
    "start_time": "2022-05-10T10:36:32.458Z"
   },
   {
    "duration": 15,
    "start_time": "2022-05-10T10:36:32.482Z"
   },
   {
    "duration": 13,
    "start_time": "2022-05-10T10:36:32.499Z"
   },
   {
    "duration": 5,
    "start_time": "2022-05-10T10:36:32.515Z"
   },
   {
    "duration": 22,
    "start_time": "2022-05-10T10:36:32.521Z"
   },
   {
    "duration": 44,
    "start_time": "2022-05-10T10:36:32.545Z"
   },
   {
    "duration": 19,
    "start_time": "2022-05-10T10:36:32.590Z"
   },
   {
    "duration": 4,
    "start_time": "2022-05-10T10:36:32.610Z"
   },
   {
    "duration": 2725,
    "start_time": "2022-05-10T10:36:32.616Z"
   },
   {
    "duration": 15,
    "start_time": "2022-05-10T10:36:35.342Z"
   },
   {
    "duration": 35,
    "start_time": "2022-05-10T10:36:35.358Z"
   },
   {
    "duration": 58,
    "start_time": "2022-05-10T10:36:35.395Z"
   },
   {
    "duration": 39,
    "start_time": "2022-05-10T10:36:35.455Z"
   },
   {
    "duration": 17,
    "start_time": "2022-05-10T10:36:35.496Z"
   },
   {
    "duration": 15,
    "start_time": "2022-05-10T10:36:35.514Z"
   },
   {
    "duration": 8,
    "start_time": "2022-05-10T10:36:35.531Z"
   },
   {
    "duration": 55,
    "start_time": "2022-05-10T10:36:35.541Z"
   },
   {
    "duration": 14,
    "start_time": "2022-05-10T10:36:35.598Z"
   },
   {
    "duration": 14,
    "start_time": "2022-05-10T10:36:35.614Z"
   },
   {
    "duration": 16,
    "start_time": "2022-05-10T10:36:35.630Z"
   },
   {
    "duration": 39,
    "start_time": "2022-05-10T10:36:35.648Z"
   },
   {
    "duration": 13,
    "start_time": "2022-05-10T10:36:35.689Z"
   },
   {
    "duration": 17,
    "start_time": "2022-05-10T10:36:35.704Z"
   },
   {
    "duration": 16,
    "start_time": "2022-05-10T10:36:35.723Z"
   },
   {
    "duration": 142,
    "start_time": "2022-05-10T10:36:35.741Z"
   },
   {
    "duration": 4,
    "start_time": "2022-05-10T10:36:35.885Z"
   },
   {
    "duration": 24,
    "start_time": "2022-05-10T10:36:35.891Z"
   },
   {
    "duration": 6,
    "start_time": "2022-05-10T10:36:35.917Z"
   },
   {
    "duration": 26,
    "start_time": "2022-05-10T10:36:35.924Z"
   },
   {
    "duration": 33,
    "start_time": "2022-05-10T10:36:35.951Z"
   },
   {
    "duration": 4,
    "start_time": "2022-05-10T10:36:35.989Z"
   },
   {
    "duration": 22,
    "start_time": "2022-05-10T10:36:35.994Z"
   },
   {
    "duration": 4,
    "start_time": "2022-05-10T10:36:36.018Z"
   },
   {
    "duration": 17,
    "start_time": "2022-05-10T10:36:36.023Z"
   },
   {
    "duration": 9,
    "start_time": "2022-05-10T10:36:36.042Z"
   },
   {
    "duration": 25,
    "start_time": "2022-05-10T10:36:36.078Z"
   },
   {
    "duration": 160,
    "start_time": "2022-05-10T10:36:36.104Z"
   },
   {
    "duration": 28,
    "start_time": "2022-05-10T10:36:36.266Z"
   },
   {
    "duration": 18,
    "start_time": "2022-05-10T10:36:36.298Z"
   },
   {
    "duration": 21,
    "start_time": "2022-05-10T10:36:36.317Z"
   },
   {
    "duration": 54,
    "start_time": "2022-05-10T10:36:36.340Z"
   },
   {
    "duration": 199,
    "start_time": "2022-05-10T10:36:36.396Z"
   },
   {
    "duration": 106,
    "start_time": "2022-05-10T10:36:36.597Z"
   },
   {
    "duration": 26,
    "start_time": "2022-05-10T10:36:36.705Z"
   },
   {
    "duration": 8,
    "start_time": "2022-05-10T10:36:36.733Z"
   },
   {
    "duration": 40,
    "start_time": "2022-05-10T10:36:36.742Z"
   },
   {
    "duration": 11,
    "start_time": "2022-05-10T10:36:36.785Z"
   },
   {
    "duration": 154,
    "start_time": "2022-05-10T10:36:36.797Z"
   },
   {
    "duration": 7,
    "start_time": "2022-05-10T10:36:36.953Z"
   },
   {
    "duration": 32,
    "start_time": "2022-05-10T10:36:36.961Z"
   },
   {
    "duration": 10,
    "start_time": "2022-05-10T10:36:36.995Z"
   },
   {
    "duration": 165,
    "start_time": "2022-05-10T10:36:37.006Z"
   },
   {
    "duration": 170,
    "start_time": "2022-05-10T10:36:37.181Z"
   },
   {
    "duration": 4,
    "start_time": "2022-05-10T10:36:37.353Z"
   },
   {
    "duration": 656,
    "start_time": "2022-05-10T10:42:44.922Z"
   },
   {
    "duration": 101,
    "start_time": "2022-05-10T10:42:45.580Z"
   },
   {
    "duration": 24,
    "start_time": "2022-05-10T10:42:45.683Z"
   },
   {
    "duration": 21,
    "start_time": "2022-05-10T10:42:45.710Z"
   },
   {
    "duration": 11,
    "start_time": "2022-05-10T10:42:45.733Z"
   },
   {
    "duration": 8,
    "start_time": "2022-05-10T10:42:45.746Z"
   },
   {
    "duration": 29,
    "start_time": "2022-05-10T10:42:45.756Z"
   },
   {
    "duration": 8,
    "start_time": "2022-05-10T10:42:45.787Z"
   },
   {
    "duration": 27,
    "start_time": "2022-05-10T10:42:45.797Z"
   },
   {
    "duration": 4,
    "start_time": "2022-05-10T10:42:45.828Z"
   },
   {
    "duration": 39,
    "start_time": "2022-05-10T10:42:45.834Z"
   },
   {
    "duration": 17,
    "start_time": "2022-05-10T10:42:45.879Z"
   },
   {
    "duration": 17,
    "start_time": "2022-05-10T10:42:45.898Z"
   },
   {
    "duration": 10,
    "start_time": "2022-05-10T10:42:45.917Z"
   },
   {
    "duration": 21,
    "start_time": "2022-05-10T10:42:45.929Z"
   },
   {
    "duration": 36,
    "start_time": "2022-05-10T10:42:45.952Z"
   },
   {
    "duration": 19,
    "start_time": "2022-05-10T10:42:45.993Z"
   },
   {
    "duration": 4,
    "start_time": "2022-05-10T10:42:46.013Z"
   },
   {
    "duration": 2773,
    "start_time": "2022-05-10T10:42:46.019Z"
   },
   {
    "duration": 15,
    "start_time": "2022-05-10T10:42:48.794Z"
   },
   {
    "duration": 18,
    "start_time": "2022-05-10T10:42:48.811Z"
   },
   {
    "duration": 95,
    "start_time": "2022-05-10T10:42:48.831Z"
   },
   {
    "duration": 18,
    "start_time": "2022-05-10T10:42:48.927Z"
   },
   {
    "duration": 33,
    "start_time": "2022-05-10T10:42:48.947Z"
   },
   {
    "duration": 15,
    "start_time": "2022-05-10T10:42:48.982Z"
   },
   {
    "duration": 9,
    "start_time": "2022-05-10T10:42:48.999Z"
   },
   {
    "duration": 19,
    "start_time": "2022-05-10T10:42:49.010Z"
   },
   {
    "duration": 14,
    "start_time": "2022-05-10T10:42:49.033Z"
   },
   {
    "duration": 29,
    "start_time": "2022-05-10T10:42:49.073Z"
   },
   {
    "duration": 14,
    "start_time": "2022-05-10T10:42:49.104Z"
   },
   {
    "duration": 11,
    "start_time": "2022-05-10T10:42:49.120Z"
   },
   {
    "duration": 8,
    "start_time": "2022-05-10T10:42:49.133Z"
   },
   {
    "duration": 15,
    "start_time": "2022-05-10T10:42:49.143Z"
   },
   {
    "duration": 17,
    "start_time": "2022-05-10T10:42:49.179Z"
   },
   {
    "duration": 128,
    "start_time": "2022-05-10T10:42:49.198Z"
   },
   {
    "duration": 3,
    "start_time": "2022-05-10T10:42:49.328Z"
   },
   {
    "duration": 11,
    "start_time": "2022-05-10T10:42:49.332Z"
   },
   {
    "duration": 3,
    "start_time": "2022-05-10T10:42:49.344Z"
   },
   {
    "duration": 40,
    "start_time": "2022-05-10T10:42:49.349Z"
   },
   {
    "duration": 16,
    "start_time": "2022-05-10T10:42:49.391Z"
   },
   {
    "duration": 5,
    "start_time": "2022-05-10T10:42:49.409Z"
   },
   {
    "duration": 19,
    "start_time": "2022-05-10T10:42:49.415Z"
   },
   {
    "duration": 5,
    "start_time": "2022-05-10T10:42:49.436Z"
   },
   {
    "duration": 46,
    "start_time": "2022-05-10T10:42:49.442Z"
   },
   {
    "duration": 10,
    "start_time": "2022-05-10T10:42:49.490Z"
   },
   {
    "duration": 22,
    "start_time": "2022-05-10T10:42:49.502Z"
   },
   {
    "duration": 176,
    "start_time": "2022-05-10T10:42:49.526Z"
   },
   {
    "duration": 27,
    "start_time": "2022-05-10T10:42:49.704Z"
   },
   {
    "duration": 21,
    "start_time": "2022-05-10T10:42:49.733Z"
   },
   {
    "duration": 25,
    "start_time": "2022-05-10T10:42:49.773Z"
   },
   {
    "duration": 17,
    "start_time": "2022-05-10T10:42:49.799Z"
   },
   {
    "duration": 219,
    "start_time": "2022-05-10T10:42:49.818Z"
   },
   {
    "duration": 112,
    "start_time": "2022-05-10T10:42:50.039Z"
   },
   {
    "duration": 42,
    "start_time": "2022-05-10T10:42:50.153Z"
   },
   {
    "duration": 7,
    "start_time": "2022-05-10T10:42:50.197Z"
   },
   {
    "duration": 10,
    "start_time": "2022-05-10T10:42:50.206Z"
   },
   {
    "duration": 6,
    "start_time": "2022-05-10T10:42:50.218Z"
   },
   {
    "duration": 166,
    "start_time": "2022-05-10T10:42:50.226Z"
   },
   {
    "duration": 8,
    "start_time": "2022-05-10T10:42:50.394Z"
   },
   {
    "duration": 23,
    "start_time": "2022-05-10T10:42:50.404Z"
   },
   {
    "duration": 10,
    "start_time": "2022-05-10T10:42:50.429Z"
   },
   {
    "duration": 169,
    "start_time": "2022-05-10T10:42:50.441Z"
   },
   {
    "duration": 160,
    "start_time": "2022-05-10T10:42:50.611Z"
   },
   {
    "duration": 6,
    "start_time": "2022-05-10T10:42:50.773Z"
   }
  ],
  "colab": {
   "name": "DA+. Сборный проект 1. Шаблон (1).ipynb",
   "provenance": []
  },
  "kernelspec": {
   "display_name": "Python 3 (ipykernel)",
   "language": "python",
   "name": "python3"
  },
  "language_info": {
   "codemirror_mode": {
    "name": "ipython",
    "version": 3
   },
   "file_extension": ".py",
   "mimetype": "text/x-python",
   "name": "python",
   "nbconvert_exporter": "python",
   "pygments_lexer": "ipython3",
   "version": "3.9.12"
  },
  "toc": {
   "base_numbering": 1,
   "nav_menu": {},
   "number_sections": true,
   "sideBar": true,
   "skip_h1_title": true,
   "title_cell": "Table of Contents",
   "title_sidebar": "Contents",
   "toc_cell": false,
   "toc_position": {
    "height": "calc(100% - 180px)",
    "left": "10px",
    "top": "150px",
    "width": "375.391px"
   },
   "toc_section_display": true,
   "toc_window_display": false
  }
 },
 "nbformat": 4,
 "nbformat_minor": 1
}
