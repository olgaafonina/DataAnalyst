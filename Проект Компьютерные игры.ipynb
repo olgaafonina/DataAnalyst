{
 "cells": [
  {
   "cell_type": "markdown",
   "metadata": {},
   "source": [
    "# Проект по теме - Определяющие успешность игры закономерности."
   ]
  },
  {
   "cell_type": "markdown",
   "metadata": {},
   "source": [
    "# Содержание\n",
    "1. [Загрузка данных](#start)\n",
    "2. [Подготовка данных](#EDA)<br>\n",
    "3. [Исследовательский анализ данных](#analysis)<br>\n",
    "4. [Портрет пользователя каждого региона](#claster)<br>   \n",
    "5. [Проверка гипотез](#check)<br>\n",
    "6. [Общий вывод](#final)<br>"
   ]
  },
  {
   "cell_type": "markdown",
   "metadata": {},
   "source": [
    "<b> Описание проекта </b> <br>\n",
    "Интернет-магазине «Стримчик» продаёт по всему миру компьютерные игры. Из открытых источников доступны исторические данные о продажах игр, оценки пользователей и экспертов, жанры и платформы (например, Xbox или PlayStation). Нужно выявить определяющие успешность игры закономерности. Это позволит сделать ставку на потенциально популярный продукт и спланировать рекламные кампании.<br>\n",
    "\n",
    "Имеются данные до 2016 года. Представим, что сейчас декабрь 2016 г., и необходимо спланировать кампанию на 2017-й. Нужно отработать принцип работы с данными. Неважно, прогнозируете ли вы продажи на 2017 год по данным 2016-го или же 2027-й — по данным 2026 года.<br>\n",
    "\n",
    "В наборе данных попадается аббревиатура ESRB (Entertainment Software Rating Board) — это ассоциация, определяющая возрастной рейтинг компьютерных игр. ESRB оценивает игровой контент и присваивает ему подходящую возрастную категорию, например, «Для взрослых», «Для детей младшего возраста» или «Для подростков».<br>\n"
   ]
  },
  {
   "cell_type": "markdown",
   "metadata": {},
   "source": [
    "<b> Описание данных </b> <br>\n",
    "- Name — название игры\n",
    "- Platform — платформа\n",
    "- Year_of_Release — год выпуска\n",
    "- Genre — жанр игры\n",
    "- NA_sales — продажи в Северной Америке (миллионы проданных копий)\n",
    "- EU_sales — продажи в Европе (миллионы проданных копий)\n",
    "- JP_sales — продажи в Японии (миллионы проданных копий)\n",
    "- Other_sales — продажи в других странах (миллионы проданных копий)\n",
    "- Critic_Score — оценка критиков (максимум 100)\n",
    "- User_Score — оценка пользователей (максимум 10)\n",
    "- Rating — рейтинг от организации ESRB"
   ]
  },
  {
   "cell_type": "markdown",
   "metadata": {},
   "source": [
    "<a id=\"start\"></a>\n",
    "### Загрузка данных"
   ]
  },
  {
   "cell_type": "code",
   "execution_count": 1,
   "metadata": {},
   "outputs": [],
   "source": [
    "import pandas as pd\n",
    "import numpy as np\n",
    "import matplotlib.pyplot as plt\n",
    "from scipy.stats import ttest_ind\n",
    "from scipy import stats as st\n",
    "import seaborn as sns\n",
    "import warnings\n",
    "warnings.filterwarnings('ignore')\n",
    "import os"
   ]
  },
  {
   "cell_type": "code",
   "execution_count": 2,
   "metadata": {},
   "outputs": [],
   "source": [
    "pth1 = '/datasets/games.csv'\n",
    "pth2 = 'C:/Users/Olga/Desktop/Проект Компьютерные игры//games.csv' \n",
    "\n",
    "if os.path.exists(pth1):\n",
    "    games = pd.read_csv(pth1)\n",
    "elif os.path.exists(pth2):\n",
    "    games = pd.read_csv(pth2)\n",
    "else:\n",
    "    print('Something is wrong')  "
   ]
  },
  {
   "cell_type": "code",
   "execution_count": 3,
   "metadata": {},
   "outputs": [
    {
     "data": {
      "text/html": [
       "<div>\n",
       "<style scoped>\n",
       "    .dataframe tbody tr th:only-of-type {\n",
       "        vertical-align: middle;\n",
       "    }\n",
       "\n",
       "    .dataframe tbody tr th {\n",
       "        vertical-align: top;\n",
       "    }\n",
       "\n",
       "    .dataframe thead th {\n",
       "        text-align: right;\n",
       "    }\n",
       "</style>\n",
       "<table border=\"1\" class=\"dataframe\">\n",
       "  <thead>\n",
       "    <tr style=\"text-align: right;\">\n",
       "      <th></th>\n",
       "      <th>Name</th>\n",
       "      <th>Platform</th>\n",
       "      <th>Year_of_Release</th>\n",
       "      <th>Genre</th>\n",
       "      <th>NA_sales</th>\n",
       "      <th>EU_sales</th>\n",
       "      <th>JP_sales</th>\n",
       "      <th>Other_sales</th>\n",
       "      <th>Critic_Score</th>\n",
       "      <th>User_Score</th>\n",
       "      <th>Rating</th>\n",
       "    </tr>\n",
       "  </thead>\n",
       "  <tbody>\n",
       "    <tr>\n",
       "      <th>0</th>\n",
       "      <td>Wii Sports</td>\n",
       "      <td>Wii</td>\n",
       "      <td>2006.0</td>\n",
       "      <td>Sports</td>\n",
       "      <td>41.36</td>\n",
       "      <td>28.96</td>\n",
       "      <td>3.77</td>\n",
       "      <td>8.45</td>\n",
       "      <td>76.0</td>\n",
       "      <td>8</td>\n",
       "      <td>E</td>\n",
       "    </tr>\n",
       "    <tr>\n",
       "      <th>1</th>\n",
       "      <td>Super Mario Bros.</td>\n",
       "      <td>NES</td>\n",
       "      <td>1985.0</td>\n",
       "      <td>Platform</td>\n",
       "      <td>29.08</td>\n",
       "      <td>3.58</td>\n",
       "      <td>6.81</td>\n",
       "      <td>0.77</td>\n",
       "      <td>NaN</td>\n",
       "      <td>NaN</td>\n",
       "      <td>NaN</td>\n",
       "    </tr>\n",
       "    <tr>\n",
       "      <th>2</th>\n",
       "      <td>Mario Kart Wii</td>\n",
       "      <td>Wii</td>\n",
       "      <td>2008.0</td>\n",
       "      <td>Racing</td>\n",
       "      <td>15.68</td>\n",
       "      <td>12.76</td>\n",
       "      <td>3.79</td>\n",
       "      <td>3.29</td>\n",
       "      <td>82.0</td>\n",
       "      <td>8.3</td>\n",
       "      <td>E</td>\n",
       "    </tr>\n",
       "    <tr>\n",
       "      <th>3</th>\n",
       "      <td>Wii Sports Resort</td>\n",
       "      <td>Wii</td>\n",
       "      <td>2009.0</td>\n",
       "      <td>Sports</td>\n",
       "      <td>15.61</td>\n",
       "      <td>10.93</td>\n",
       "      <td>3.28</td>\n",
       "      <td>2.95</td>\n",
       "      <td>80.0</td>\n",
       "      <td>8</td>\n",
       "      <td>E</td>\n",
       "    </tr>\n",
       "    <tr>\n",
       "      <th>4</th>\n",
       "      <td>Pokemon Red/Pokemon Blue</td>\n",
       "      <td>GB</td>\n",
       "      <td>1996.0</td>\n",
       "      <td>Role-Playing</td>\n",
       "      <td>11.27</td>\n",
       "      <td>8.89</td>\n",
       "      <td>10.22</td>\n",
       "      <td>1.00</td>\n",
       "      <td>NaN</td>\n",
       "      <td>NaN</td>\n",
       "      <td>NaN</td>\n",
       "    </tr>\n",
       "  </tbody>\n",
       "</table>\n",
       "</div>"
      ],
      "text/plain": [
       "                       Name Platform  Year_of_Release         Genre  NA_sales  \\\n",
       "0                Wii Sports      Wii           2006.0        Sports     41.36   \n",
       "1         Super Mario Bros.      NES           1985.0      Platform     29.08   \n",
       "2            Mario Kart Wii      Wii           2008.0        Racing     15.68   \n",
       "3         Wii Sports Resort      Wii           2009.0        Sports     15.61   \n",
       "4  Pokemon Red/Pokemon Blue       GB           1996.0  Role-Playing     11.27   \n",
       "\n",
       "   EU_sales  JP_sales  Other_sales  Critic_Score User_Score Rating  \n",
       "0     28.96      3.77         8.45          76.0          8      E  \n",
       "1      3.58      6.81         0.77           NaN        NaN    NaN  \n",
       "2     12.76      3.79         3.29          82.0        8.3      E  \n",
       "3     10.93      3.28         2.95          80.0          8      E  \n",
       "4      8.89     10.22         1.00           NaN        NaN    NaN  "
      ]
     },
     "execution_count": 3,
     "metadata": {},
     "output_type": "execute_result"
    }
   ],
   "source": [
    "games.head()"
   ]
  },
  {
   "cell_type": "markdown",
   "metadata": {},
   "source": [
    "<a id=\"EDA\"></a>\n",
    "### Подготовка данных"
   ]
  },
  {
   "cell_type": "code",
   "execution_count": 4,
   "metadata": {},
   "outputs": [
    {
     "name": "stdout",
     "output_type": "stream",
     "text": [
      "<class 'pandas.core.frame.DataFrame'>\n",
      "RangeIndex: 16715 entries, 0 to 16714\n",
      "Data columns (total 11 columns):\n",
      " #   Column           Non-Null Count  Dtype  \n",
      "---  ------           --------------  -----  \n",
      " 0   Name             16713 non-null  object \n",
      " 1   Platform         16715 non-null  object \n",
      " 2   Year_of_Release  16446 non-null  float64\n",
      " 3   Genre            16713 non-null  object \n",
      " 4   NA_sales         16715 non-null  float64\n",
      " 5   EU_sales         16715 non-null  float64\n",
      " 6   JP_sales         16715 non-null  float64\n",
      " 7   Other_sales      16715 non-null  float64\n",
      " 8   Critic_Score     8137 non-null   float64\n",
      " 9   User_Score       10014 non-null  object \n",
      " 10  Rating           9949 non-null   object \n",
      "dtypes: float64(6), object(5)\n",
      "memory usage: 1.4+ MB\n"
     ]
    }
   ],
   "source": [
    "games.info()"
   ]
  },
  {
   "cell_type": "code",
   "execution_count": 5,
   "metadata": {},
   "outputs": [
    {
     "data": {
      "text/html": [
       "<style  type=\"text/css\" >\n",
       "#T_92641_row0_col0,#T_92641_row1_col0,#T_92641_row3_col0,#T_92641_row4_col0,#T_92641_row5_col0,#T_92641_row6_col0,#T_92641_row7_col0{\n",
       "            background-color:  #3b4cc0;\n",
       "            color:  #f1f1f1;\n",
       "        }#T_92641_row2_col0{\n",
       "            background-color:  #4358cb;\n",
       "            color:  #f1f1f1;\n",
       "        }#T_92641_row8_col0{\n",
       "            background-color:  #b40426;\n",
       "            color:  #f1f1f1;\n",
       "        }#T_92641_row9_col0{\n",
       "            background-color:  #f08b6e;\n",
       "            color:  #000000;\n",
       "        }#T_92641_row10_col0{\n",
       "            background-color:  #ef886b;\n",
       "            color:  #000000;\n",
       "        }</style><table id=\"T_92641_\" ><thead>    <tr>        <th class=\"blank level0\" ></th>        <th class=\"col_heading level0 col0\" >0</th>    </tr></thead><tbody>\n",
       "                <tr>\n",
       "                        <th id=\"T_92641_level0_row0\" class=\"row_heading level0 row0\" >Name</th>\n",
       "                        <td id=\"T_92641_row0_col0\" class=\"data row0 col0\" >0.000000</td>\n",
       "            </tr>\n",
       "            <tr>\n",
       "                        <th id=\"T_92641_level0_row1\" class=\"row_heading level0 row1\" >Platform</th>\n",
       "                        <td id=\"T_92641_row1_col0\" class=\"data row1 col0\" >0.000000</td>\n",
       "            </tr>\n",
       "            <tr>\n",
       "                        <th id=\"T_92641_level0_row2\" class=\"row_heading level0 row2\" >Year_of_Release</th>\n",
       "                        <td id=\"T_92641_row2_col0\" class=\"data row2 col0\" >1.600000</td>\n",
       "            </tr>\n",
       "            <tr>\n",
       "                        <th id=\"T_92641_level0_row3\" class=\"row_heading level0 row3\" >Genre</th>\n",
       "                        <td id=\"T_92641_row3_col0\" class=\"data row3 col0\" >0.000000</td>\n",
       "            </tr>\n",
       "            <tr>\n",
       "                        <th id=\"T_92641_level0_row4\" class=\"row_heading level0 row4\" >NA_sales</th>\n",
       "                        <td id=\"T_92641_row4_col0\" class=\"data row4 col0\" >0.000000</td>\n",
       "            </tr>\n",
       "            <tr>\n",
       "                        <th id=\"T_92641_level0_row5\" class=\"row_heading level0 row5\" >EU_sales</th>\n",
       "                        <td id=\"T_92641_row5_col0\" class=\"data row5 col0\" >0.000000</td>\n",
       "            </tr>\n",
       "            <tr>\n",
       "                        <th id=\"T_92641_level0_row6\" class=\"row_heading level0 row6\" >JP_sales</th>\n",
       "                        <td id=\"T_92641_row6_col0\" class=\"data row6 col0\" >0.000000</td>\n",
       "            </tr>\n",
       "            <tr>\n",
       "                        <th id=\"T_92641_level0_row7\" class=\"row_heading level0 row7\" >Other_sales</th>\n",
       "                        <td id=\"T_92641_row7_col0\" class=\"data row7 col0\" >0.000000</td>\n",
       "            </tr>\n",
       "            <tr>\n",
       "                        <th id=\"T_92641_level0_row8\" class=\"row_heading level0 row8\" >Critic_Score</th>\n",
       "                        <td id=\"T_92641_row8_col0\" class=\"data row8 col0\" >51.300000</td>\n",
       "            </tr>\n",
       "            <tr>\n",
       "                        <th id=\"T_92641_level0_row9\" class=\"row_heading level0 row9\" >User_Score</th>\n",
       "                        <td id=\"T_92641_row9_col0\" class=\"data row9 col0\" >40.100000</td>\n",
       "            </tr>\n",
       "            <tr>\n",
       "                        <th id=\"T_92641_level0_row10\" class=\"row_heading level0 row10\" >Rating</th>\n",
       "                        <td id=\"T_92641_row10_col0\" class=\"data row10 col0\" >40.500000</td>\n",
       "            </tr>\n",
       "    </tbody></table>"
      ],
      "text/plain": [
       "<pandas.io.formats.style.Styler at 0x7f5e6046e820>"
      ]
     },
     "execution_count": 5,
     "metadata": {},
     "output_type": "execute_result"
    }
   ],
   "source": [
    "pd.DataFrame(round(games.isna().mean()*100,1)).style.background_gradient('coolwarm')"
   ]
  },
  {
   "cell_type": "code",
   "execution_count": 6,
   "metadata": {},
   "outputs": [],
   "source": [
    "# Приведем название столбцов к нижнему регистру\n",
    "games.columns = games.columns.str.lower()"
   ]
  },
  {
   "cell_type": "code",
   "execution_count": 7,
   "metadata": {},
   "outputs": [
    {
     "name": "stdout",
     "output_type": "stream",
     "text": [
      "<class 'pandas.core.frame.DataFrame'>\n",
      "Int64Index: 16444 entries, 0 to 16714\n",
      "Data columns (total 11 columns):\n",
      " #   Column           Non-Null Count  Dtype  \n",
      "---  ------           --------------  -----  \n",
      " 0   name             16444 non-null  object \n",
      " 1   platform         16444 non-null  object \n",
      " 2   year_of_release  16444 non-null  float64\n",
      " 3   genre            16444 non-null  object \n",
      " 4   na_sales         16444 non-null  float64\n",
      " 5   eu_sales         16444 non-null  float64\n",
      " 6   jp_sales         16444 non-null  float64\n",
      " 7   other_sales      16444 non-null  float64\n",
      " 8   critic_score     7983 non-null   float64\n",
      " 9   user_score       9839 non-null   object \n",
      " 10  rating           9768 non-null   object \n",
      "dtypes: float64(6), object(5)\n",
      "memory usage: 1.5+ MB\n"
     ]
    }
   ],
   "source": [
    "# Удалим пропуски в столбцах name, year_of_release, genre, т.к. их немного и их удаление не исказит анализ.\n",
    "games.dropna(subset=['name', 'year_of_release', 'genre'], inplace = True)\n",
    "games.info()"
   ]
  },
  {
   "cell_type": "code",
   "execution_count": 8,
   "metadata": {},
   "outputs": [],
   "source": [
    "# Столцец year_of_release приведем к типу int\n",
    "games['year_of_release'] = games['year_of_release'].astype('int64')"
   ]
  },
  {
   "cell_type": "code",
   "execution_count": 9,
   "metadata": {},
   "outputs": [
    {
     "data": {
      "text/plain": [
       "array(['8', nan, '8.3', '8.5', '6.6', '8.4', '8.6', '7.7', '6.3', '7.4',\n",
       "       '8.2', '9', '7.9', '8.1', '8.7', '7.1', '3.4', '5.3', '4.8', '3.2',\n",
       "       '8.9', '6.4', '7.8', '7.5', '2.6', '7.2', '9.2', '7', '7.3', '4.3',\n",
       "       '7.6', '5.7', '5', '9.1', '6.5', 'tbd', '8.8', '6.9', '9.4', '6.8',\n",
       "       '6.1', '6.7', '5.4', '4', '4.9', '4.5', '9.3', '6.2', '4.2', '6',\n",
       "       '3.7', '4.1', '5.8', '5.6', '5.5', '4.4', '4.6', '5.9', '3.9',\n",
       "       '3.1', '2.9', '5.2', '3.3', '4.7', '5.1', '3.5', '2.5', '1.9', '3',\n",
       "       '2.7', '2.2', '2', '9.5', '2.1', '3.6', '2.8', '1.8', '3.8', '0',\n",
       "       '1.6', '9.6', '2.4', '1.7', '1.1', '0.3', '1.5', '0.7', '1.2',\n",
       "       '2.3', '0.5', '1.3', '0.2', '0.6', '1.4', '0.9', '1', '9.7'],\n",
       "      dtype=object)"
      ]
     },
     "execution_count": 9,
     "metadata": {},
     "output_type": "execute_result"
    }
   ],
   "source": [
    "# Посмотрим на уникальные значения столца user_score\n",
    "games['user_score'].unique()"
   ]
  },
  {
   "cell_type": "code",
   "execution_count": 10,
   "metadata": {},
   "outputs": [],
   "source": [
    "# В столбце user_score есть рейтинг, который неопределен, заменим его на nan и приведем к типу float\n",
    "games.loc[games['user_score'] == 'tbd', 'user_score'] = np.nan\n",
    "games['user_score'] = games['user_score'].astype('float')"
   ]
  },
  {
   "cell_type": "code",
   "execution_count": 11,
   "metadata": {},
   "outputs": [],
   "source": [
    "# Рассчитаем итоговые продажи по всем регионам\n",
    "games['total'] = games['na_sales'] + games['eu_sales'] + games['jp_sales'] + games['other_sales']"
   ]
  },
  {
   "cell_type": "code",
   "execution_count": 12,
   "metadata": {},
   "outputs": [
    {
     "data": {
      "text/html": [
       "<div>\n",
       "<style scoped>\n",
       "    .dataframe tbody tr th:only-of-type {\n",
       "        vertical-align: middle;\n",
       "    }\n",
       "\n",
       "    .dataframe tbody tr th {\n",
       "        vertical-align: top;\n",
       "    }\n",
       "\n",
       "    .dataframe thead th {\n",
       "        text-align: right;\n",
       "    }\n",
       "</style>\n",
       "<table border=\"1\" class=\"dataframe\">\n",
       "  <thead>\n",
       "    <tr style=\"text-align: right;\">\n",
       "      <th></th>\n",
       "      <th>name</th>\n",
       "      <th>platform</th>\n",
       "      <th>year_of_release</th>\n",
       "      <th>genre</th>\n",
       "      <th>na_sales</th>\n",
       "      <th>eu_sales</th>\n",
       "      <th>jp_sales</th>\n",
       "      <th>other_sales</th>\n",
       "      <th>critic_score</th>\n",
       "      <th>user_score</th>\n",
       "      <th>rating</th>\n",
       "      <th>total</th>\n",
       "    </tr>\n",
       "  </thead>\n",
       "  <tbody>\n",
       "    <tr>\n",
       "      <th>0</th>\n",
       "      <td>Wii Sports</td>\n",
       "      <td>Wii</td>\n",
       "      <td>2006</td>\n",
       "      <td>Sports</td>\n",
       "      <td>41.36</td>\n",
       "      <td>28.96</td>\n",
       "      <td>3.77</td>\n",
       "      <td>8.45</td>\n",
       "      <td>76.0</td>\n",
       "      <td>8.0</td>\n",
       "      <td>E</td>\n",
       "      <td>82.54</td>\n",
       "    </tr>\n",
       "    <tr>\n",
       "      <th>1</th>\n",
       "      <td>Super Mario Bros.</td>\n",
       "      <td>NES</td>\n",
       "      <td>1985</td>\n",
       "      <td>Platform</td>\n",
       "      <td>29.08</td>\n",
       "      <td>3.58</td>\n",
       "      <td>6.81</td>\n",
       "      <td>0.77</td>\n",
       "      <td>NaN</td>\n",
       "      <td>NaN</td>\n",
       "      <td>NaN</td>\n",
       "      <td>40.24</td>\n",
       "    </tr>\n",
       "    <tr>\n",
       "      <th>2</th>\n",
       "      <td>Mario Kart Wii</td>\n",
       "      <td>Wii</td>\n",
       "      <td>2008</td>\n",
       "      <td>Racing</td>\n",
       "      <td>15.68</td>\n",
       "      <td>12.76</td>\n",
       "      <td>3.79</td>\n",
       "      <td>3.29</td>\n",
       "      <td>82.0</td>\n",
       "      <td>8.3</td>\n",
       "      <td>E</td>\n",
       "      <td>35.52</td>\n",
       "    </tr>\n",
       "    <tr>\n",
       "      <th>3</th>\n",
       "      <td>Wii Sports Resort</td>\n",
       "      <td>Wii</td>\n",
       "      <td>2009</td>\n",
       "      <td>Sports</td>\n",
       "      <td>15.61</td>\n",
       "      <td>10.93</td>\n",
       "      <td>3.28</td>\n",
       "      <td>2.95</td>\n",
       "      <td>80.0</td>\n",
       "      <td>8.0</td>\n",
       "      <td>E</td>\n",
       "      <td>32.77</td>\n",
       "    </tr>\n",
       "    <tr>\n",
       "      <th>4</th>\n",
       "      <td>Pokemon Red/Pokemon Blue</td>\n",
       "      <td>GB</td>\n",
       "      <td>1996</td>\n",
       "      <td>Role-Playing</td>\n",
       "      <td>11.27</td>\n",
       "      <td>8.89</td>\n",
       "      <td>10.22</td>\n",
       "      <td>1.00</td>\n",
       "      <td>NaN</td>\n",
       "      <td>NaN</td>\n",
       "      <td>NaN</td>\n",
       "      <td>31.38</td>\n",
       "    </tr>\n",
       "  </tbody>\n",
       "</table>\n",
       "</div>"
      ],
      "text/plain": [
       "                       name platform  year_of_release         genre  na_sales  \\\n",
       "0                Wii Sports      Wii             2006        Sports     41.36   \n",
       "1         Super Mario Bros.      NES             1985      Platform     29.08   \n",
       "2            Mario Kart Wii      Wii             2008        Racing     15.68   \n",
       "3         Wii Sports Resort      Wii             2009        Sports     15.61   \n",
       "4  Pokemon Red/Pokemon Blue       GB             1996  Role-Playing     11.27   \n",
       "\n",
       "   eu_sales  jp_sales  other_sales  critic_score  user_score rating  total  \n",
       "0     28.96      3.77         8.45          76.0         8.0      E  82.54  \n",
       "1      3.58      6.81         0.77           NaN         NaN    NaN  40.24  \n",
       "2     12.76      3.79         3.29          82.0         8.3      E  35.52  \n",
       "3     10.93      3.28         2.95          80.0         8.0      E  32.77  \n",
       "4      8.89     10.22         1.00           NaN         NaN    NaN  31.38  "
      ]
     },
     "execution_count": 12,
     "metadata": {},
     "output_type": "execute_result"
    }
   ],
   "source": [
    "games.head()"
   ]
  },
  {
   "cell_type": "code",
   "execution_count": 13,
   "metadata": {},
   "outputs": [],
   "source": [
    "games['rating'].fillna('Unknow', inplace = True)"
   ]
  },
  {
   "cell_type": "code",
   "execution_count": 14,
   "metadata": {},
   "outputs": [
    {
     "name": "stdout",
     "output_type": "stream",
     "text": [
      "<class 'pandas.core.frame.DataFrame'>\n",
      "Int64Index: 16444 entries, 0 to 16714\n",
      "Data columns (total 12 columns):\n",
      " #   Column           Non-Null Count  Dtype  \n",
      "---  ------           --------------  -----  \n",
      " 0   name             16444 non-null  object \n",
      " 1   platform         16444 non-null  object \n",
      " 2   year_of_release  16444 non-null  int64  \n",
      " 3   genre            16444 non-null  object \n",
      " 4   na_sales         16444 non-null  float64\n",
      " 5   eu_sales         16444 non-null  float64\n",
      " 6   jp_sales         16444 non-null  float64\n",
      " 7   other_sales      16444 non-null  float64\n",
      " 8   critic_score     7983 non-null   float64\n",
      " 9   user_score       7463 non-null   float64\n",
      " 10  rating           16444 non-null  object \n",
      " 11  total            16444 non-null  float64\n",
      "dtypes: float64(7), int64(1), object(4)\n",
      "memory usage: 1.6+ MB\n"
     ]
    }
   ],
   "source": [
    "games.info()"
   ]
  },
  {
   "cell_type": "markdown",
   "metadata": {},
   "source": [
    "Осталось много пропусков в столбцах rating, critic_score, user_score. Удалить или заменить их не можем, так как данные могут пригодиться для дальнейшего анализа. Пропуски могут быть связаны с тем, что игры новые, поэтому не имеют оценки пользователей и критиков.  "
   ]
  },
  {
   "cell_type": "code",
   "execution_count": 15,
   "metadata": {},
   "outputs": [
    {
     "data": {
      "text/plain": [
       "0"
      ]
     },
     "execution_count": 15,
     "metadata": {},
     "output_type": "execute_result"
    }
   ],
   "source": [
    "games.duplicated().sum()"
   ]
  },
  {
   "cell_type": "markdown",
   "metadata": {},
   "source": [
    "Явных дублиикатов в датасете нет, поэтому можно переходить к исследовательскому анализу."
   ]
  },
  {
   "cell_type": "markdown",
   "metadata": {},
   "source": [
    "<a id=\"analysis\"></a>\n",
    "### Исследовательский анализ данных"
   ]
  },
  {
   "cell_type": "code",
   "execution_count": 17,
   "metadata": {},
   "outputs": [
    {
     "data": {
      "image/png": "[encoded data removed]",
      "text/plain": [
       "<Figure size 432x288 with 1 Axes>"
      ]
     },
     "metadata": {
      "needs_background": "light"
     },
     "output_type": "display_data"
    }
   ],
   "source": [
    "# Построим гистрограмму количетсва выпущенных игр по годам\n",
    "games['year_of_release'].hist(bins=35)\n",
    "plt.title('Количество выпущенных игр по годам')\n",
    "plt.show()"
   ]
  },
  {
   "cell_type": "markdown",
   "metadata": {},
   "source": [
    " В период с 1994г начирается рост игр. На период с 2005 - 2010 приходится "
   ]
  },
  {
   "cell_type": "markdown",
   "metadata": {},
   "source": [
    "Так как до 1994г количество выпущенных игр мало и рост начинается с 1994г, то возьмем для анализа только донные начиная с него."
   ]
  },
  {
   "cell_type": "code",
   "execution_count": 18,
   "metadata": {},
   "outputs": [
    {
     "data": {
      "text/html": [
       "<div>\n",
       "<style scoped>\n",
       "    .dataframe tbody tr th:only-of-type {\n",
       "        vertical-align: middle;\n",
       "    }\n",
       "\n",
       "    .dataframe tbody tr th {\n",
       "        vertical-align: top;\n",
       "    }\n",
       "\n",
       "    .dataframe thead th {\n",
       "        text-align: right;\n",
       "    }\n",
       "</style>\n",
       "<table border=\"1\" class=\"dataframe\">\n",
       "  <thead>\n",
       "    <tr style=\"text-align: right;\">\n",
       "      <th></th>\n",
       "      <th>platform</th>\n",
       "      <th>total</th>\n",
       "    </tr>\n",
       "  </thead>\n",
       "  <tbody>\n",
       "    <tr>\n",
       "      <th>0</th>\n",
       "      <td>PS2</td>\n",
       "      <td>1233.56</td>\n",
       "    </tr>\n",
       "    <tr>\n",
       "      <th>1</th>\n",
       "      <td>X360</td>\n",
       "      <td>961.24</td>\n",
       "    </tr>\n",
       "    <tr>\n",
       "      <th>2</th>\n",
       "      <td>PS3</td>\n",
       "      <td>931.34</td>\n",
       "    </tr>\n",
       "    <tr>\n",
       "      <th>3</th>\n",
       "      <td>Wii</td>\n",
       "      <td>891.18</td>\n",
       "    </tr>\n",
       "    <tr>\n",
       "      <th>4</th>\n",
       "      <td>DS</td>\n",
       "      <td>802.76</td>\n",
       "    </tr>\n",
       "    <tr>\n",
       "      <th>5</th>\n",
       "      <td>PS</td>\n",
       "      <td>727.58</td>\n",
       "    </tr>\n",
       "    <tr>\n",
       "      <th>6</th>\n",
       "      <td>PS4</td>\n",
       "      <td>314.14</td>\n",
       "    </tr>\n",
       "    <tr>\n",
       "      <th>7</th>\n",
       "      <td>GBA</td>\n",
       "      <td>312.88</td>\n",
       "    </tr>\n",
       "    <tr>\n",
       "      <th>8</th>\n",
       "      <td>PSP</td>\n",
       "      <td>289.53</td>\n",
       "    </tr>\n",
       "    <tr>\n",
       "      <th>9</th>\n",
       "      <td>3DS</td>\n",
       "      <td>257.81</td>\n",
       "    </tr>\n",
       "  </tbody>\n",
       "</table>\n",
       "</div>"
      ],
      "text/plain": [
       "  platform    total\n",
       "0      PS2  1233.56\n",
       "1     X360   961.24\n",
       "2      PS3   931.34\n",
       "3      Wii   891.18\n",
       "4       DS   802.76\n",
       "5       PS   727.58\n",
       "6      PS4   314.14\n",
       "7      GBA   312.88\n",
       "8      PSP   289.53\n",
       "9      3DS   257.81"
      ]
     },
     "execution_count": 18,
     "metadata": {},
     "output_type": "execute_result"
    }
   ],
   "source": [
    "# Создадим сводную таблицу сумм прожаж по платформам\n",
    "platforms = games.query('year_of_release >= 1994').pivot_table(index = 'platform', values = 'total', aggfunc = 'sum')\\\n",
    ".sort_values(by='total', ascending = False)\\\n",
    ".reset_index().iloc[0:10]\n",
    "platforms"
   ]
  },
  {
   "cell_type": "code",
   "execution_count": 19,
   "metadata": {},
   "outputs": [
    {
     "data": {
      "image/png": "[encoded data removed]",
      "text/plain": [
       "<Figure size 432x288 with 1 Axes>"
      ]
     },
     "metadata": {
      "needs_background": "light"
     },
     "output_type": "display_data"
    }
   ],
   "source": [
    "# Построим график Топ 10 платформ по продажам\n",
    "platforms.plot(x = 'platform', y = 'total', kind = 'bar')\n",
    "plt.title('Топ - 10 платформ')\n",
    "plt.show()"
   ]
  },
  {
   "cell_type": "code",
   "execution_count": 20,
   "metadata": {},
   "outputs": [],
   "source": [
    "# Сохраним название Топ платформ в список\n",
    "top_platforms_list = platforms['platform'].unique()"
   ]
  },
  {
   "cell_type": "code",
   "execution_count": 21,
   "metadata": {},
   "outputs": [
    {
     "data": {
      "image/png": "[encoded data removed]",
      "text/plain": [
       "<Figure size 720x360 with 1 Axes>"
      ]
     },
     "metadata": {
      "needs_background": "light"
     },
     "output_type": "display_data"
    },
    {
     "data": {
      "image/png": "[encoded data removed]",
      "text/plain": [
       "<Figure size 720x360 with 1 Axes>"
      ]
     },
     "metadata": {
      "needs_background": "light"
     },
     "output_type": "display_data"
    },
    {
     "data": {
      "image/png": "[encoded data removed]",
      "text/plain": [
       "<Figure size 720x360 with 1 Axes>"
      ]
     },
     "metadata": {
      "needs_background": "light"
     },
     "output_type": "display_data"
    },
    {
     "data": {
      "image/png": "[encoded data removed]",
      "text/plain": [
       "<Figure size 720x360 with 1 Axes>"
      ]
     },
     "metadata": {
      "needs_background": "light"
     },
     "output_type": "display_data"
    },
    {
     "data": {
      "image/png": "[encoded data removed]",
      "text/plain": [
       "<Figure size 720x360 with 1 Axes>"
      ]
     },
     "metadata": {
      "needs_background": "light"
     },
     "output_type": "display_data"
    },
    {
     "data": {
      "image/png": "[encoded data removed]",
      "text/plain": [
       "<Figure size 720x360 with 1 Axes>"
      ]
     },
     "metadata": {
      "needs_background": "light"
     },
     "output_type": "display_data"
    },
    {
     "data": {
      "image/png": "[encoded data removed]",
      "text/plain": [
       "<Figure size 720x360 with 1 Axes>"
      ]
     },
     "metadata": {
      "needs_background": "light"
     },
     "output_type": "display_data"
    },
    {
     "data": {
      "image/png": "[encoded data removed]",
      "text/plain": [
       "<Figure size 720x360 with 1 Axes>"
      ]
     },
     "metadata": {
      "needs_background": "light"
     },
     "output_type": "display_data"
    },
    {
     "data": {
      "image/png": "[encoded data removed]",
      "text/plain": [
       "<Figure size 720x360 with 1 Axes>"
      ]
     },
     "metadata": {
      "needs_background": "light"
     },
     "output_type": "display_data"
    },
    {
     "data": {
      "image/png": "[encoded data removed]",
      "text/plain": [
       "<Figure size 720x360 with 1 Axes>"
      ]
     },
     "metadata": {
      "needs_background": "light"
     },
     "output_type": "display_data"
    }
   ],
   "source": [
    "# Для каждой платформы из Топ-10 построим график прибыли по годам\n",
    "for platform in top_platforms_list:\n",
    "    games[games['platform'] == platform].pivot_table(index = 'year_of_release', values = 'total', aggfunc = 'sum')\\\n",
    "    .plot(kind = 'bar', figsize=(10,5))\n",
    "    plt.title(platform)    "
   ]
  },
  {
   "cell_type": "markdown",
   "metadata": {},
   "source": [
    "По графикам видим, что средний срок существоания платфорт 10 лет. Чем больше выборка, тем точнее результат, но в данном случае возмем для анализа 3 года, так как индустрия игр быстро меняется и более ранние данные могут быть неактуальны и исказить резуьтаты исследования."
   ]
  },
  {
   "cell_type": "code",
   "execution_count": 22,
   "metadata": {},
   "outputs": [
    {
     "data": {
      "text/html": [
       "<div>\n",
       "<style scoped>\n",
       "    .dataframe tbody tr th:only-of-type {\n",
       "        vertical-align: middle;\n",
       "    }\n",
       "\n",
       "    .dataframe tbody tr th {\n",
       "        vertical-align: top;\n",
       "    }\n",
       "\n",
       "    .dataframe thead th {\n",
       "        text-align: right;\n",
       "    }\n",
       "</style>\n",
       "<table border=\"1\" class=\"dataframe\">\n",
       "  <thead>\n",
       "    <tr style=\"text-align: right;\">\n",
       "      <th></th>\n",
       "      <th>name</th>\n",
       "      <th>platform</th>\n",
       "      <th>year_of_release</th>\n",
       "      <th>genre</th>\n",
       "      <th>na_sales</th>\n",
       "      <th>eu_sales</th>\n",
       "      <th>jp_sales</th>\n",
       "      <th>other_sales</th>\n",
       "      <th>critic_score</th>\n",
       "      <th>user_score</th>\n",
       "      <th>rating</th>\n",
       "      <th>total</th>\n",
       "    </tr>\n",
       "  </thead>\n",
       "  <tbody>\n",
       "    <tr>\n",
       "      <th>16</th>\n",
       "      <td>Grand Theft Auto V</td>\n",
       "      <td>PS3</td>\n",
       "      <td>2013</td>\n",
       "      <td>Action</td>\n",
       "      <td>7.02</td>\n",
       "      <td>9.09</td>\n",
       "      <td>0.98</td>\n",
       "      <td>3.96</td>\n",
       "      <td>97.0</td>\n",
       "      <td>8.2</td>\n",
       "      <td>M</td>\n",
       "      <td>21.05</td>\n",
       "    </tr>\n",
       "    <tr>\n",
       "      <th>23</th>\n",
       "      <td>Grand Theft Auto V</td>\n",
       "      <td>X360</td>\n",
       "      <td>2013</td>\n",
       "      <td>Action</td>\n",
       "      <td>9.66</td>\n",
       "      <td>5.14</td>\n",
       "      <td>0.06</td>\n",
       "      <td>1.41</td>\n",
       "      <td>97.0</td>\n",
       "      <td>8.1</td>\n",
       "      <td>M</td>\n",
       "      <td>16.27</td>\n",
       "    </tr>\n",
       "    <tr>\n",
       "      <th>31</th>\n",
       "      <td>Call of Duty: Black Ops 3</td>\n",
       "      <td>PS4</td>\n",
       "      <td>2015</td>\n",
       "      <td>Shooter</td>\n",
       "      <td>6.03</td>\n",
       "      <td>5.86</td>\n",
       "      <td>0.36</td>\n",
       "      <td>2.38</td>\n",
       "      <td>NaN</td>\n",
       "      <td>NaN</td>\n",
       "      <td>Unknow</td>\n",
       "      <td>14.63</td>\n",
       "    </tr>\n",
       "    <tr>\n",
       "      <th>33</th>\n",
       "      <td>Pokemon X/Pokemon Y</td>\n",
       "      <td>3DS</td>\n",
       "      <td>2013</td>\n",
       "      <td>Role-Playing</td>\n",
       "      <td>5.28</td>\n",
       "      <td>4.19</td>\n",
       "      <td>4.35</td>\n",
       "      <td>0.78</td>\n",
       "      <td>NaN</td>\n",
       "      <td>NaN</td>\n",
       "      <td>Unknow</td>\n",
       "      <td>14.60</td>\n",
       "    </tr>\n",
       "    <tr>\n",
       "      <th>42</th>\n",
       "      <td>Grand Theft Auto V</td>\n",
       "      <td>PS4</td>\n",
       "      <td>2014</td>\n",
       "      <td>Action</td>\n",
       "      <td>3.96</td>\n",
       "      <td>6.31</td>\n",
       "      <td>0.38</td>\n",
       "      <td>1.97</td>\n",
       "      <td>97.0</td>\n",
       "      <td>8.3</td>\n",
       "      <td>M</td>\n",
       "      <td>12.62</td>\n",
       "    </tr>\n",
       "    <tr>\n",
       "      <th>...</th>\n",
       "      <td>...</td>\n",
       "      <td>...</td>\n",
       "      <td>...</td>\n",
       "      <td>...</td>\n",
       "      <td>...</td>\n",
       "      <td>...</td>\n",
       "      <td>...</td>\n",
       "      <td>...</td>\n",
       "      <td>...</td>\n",
       "      <td>...</td>\n",
       "      <td>...</td>\n",
       "      <td>...</td>\n",
       "    </tr>\n",
       "    <tr>\n",
       "      <th>16703</th>\n",
       "      <td>Strawberry Nauts</td>\n",
       "      <td>PSV</td>\n",
       "      <td>2016</td>\n",
       "      <td>Adventure</td>\n",
       "      <td>0.00</td>\n",
       "      <td>0.00</td>\n",
       "      <td>0.01</td>\n",
       "      <td>0.00</td>\n",
       "      <td>NaN</td>\n",
       "      <td>NaN</td>\n",
       "      <td>Unknow</td>\n",
       "      <td>0.01</td>\n",
       "    </tr>\n",
       "    <tr>\n",
       "      <th>16707</th>\n",
       "      <td>Aiyoku no Eustia</td>\n",
       "      <td>PSV</td>\n",
       "      <td>2014</td>\n",
       "      <td>Misc</td>\n",
       "      <td>0.00</td>\n",
       "      <td>0.00</td>\n",
       "      <td>0.01</td>\n",
       "      <td>0.00</td>\n",
       "      <td>NaN</td>\n",
       "      <td>NaN</td>\n",
       "      <td>Unknow</td>\n",
       "      <td>0.01</td>\n",
       "    </tr>\n",
       "    <tr>\n",
       "      <th>16710</th>\n",
       "      <td>Samurai Warriors: Sanada Maru</td>\n",
       "      <td>PS3</td>\n",
       "      <td>2016</td>\n",
       "      <td>Action</td>\n",
       "      <td>0.00</td>\n",
       "      <td>0.00</td>\n",
       "      <td>0.01</td>\n",
       "      <td>0.00</td>\n",
       "      <td>NaN</td>\n",
       "      <td>NaN</td>\n",
       "      <td>Unknow</td>\n",
       "      <td>0.01</td>\n",
       "    </tr>\n",
       "    <tr>\n",
       "      <th>16712</th>\n",
       "      <td>Haitaka no Psychedelica</td>\n",
       "      <td>PSV</td>\n",
       "      <td>2016</td>\n",
       "      <td>Adventure</td>\n",
       "      <td>0.00</td>\n",
       "      <td>0.00</td>\n",
       "      <td>0.01</td>\n",
       "      <td>0.00</td>\n",
       "      <td>NaN</td>\n",
       "      <td>NaN</td>\n",
       "      <td>Unknow</td>\n",
       "      <td>0.01</td>\n",
       "    </tr>\n",
       "    <tr>\n",
       "      <th>16714</th>\n",
       "      <td>Winning Post 8 2016</td>\n",
       "      <td>PSV</td>\n",
       "      <td>2016</td>\n",
       "      <td>Simulation</td>\n",
       "      <td>0.00</td>\n",
       "      <td>0.00</td>\n",
       "      <td>0.01</td>\n",
       "      <td>0.00</td>\n",
       "      <td>NaN</td>\n",
       "      <td>NaN</td>\n",
       "      <td>Unknow</td>\n",
       "      <td>0.01</td>\n",
       "    </tr>\n",
       "  </tbody>\n",
       "</table>\n",
       "<p>2233 rows × 12 columns</p>\n",
       "</div>"
      ],
      "text/plain": [
       "                                name platform  year_of_release         genre  \\\n",
       "16                Grand Theft Auto V      PS3             2013        Action   \n",
       "23                Grand Theft Auto V     X360             2013        Action   \n",
       "31         Call of Duty: Black Ops 3      PS4             2015       Shooter   \n",
       "33               Pokemon X/Pokemon Y      3DS             2013  Role-Playing   \n",
       "42                Grand Theft Auto V      PS4             2014        Action   \n",
       "...                              ...      ...              ...           ...   \n",
       "16703               Strawberry Nauts      PSV             2016     Adventure   \n",
       "16707               Aiyoku no Eustia      PSV             2014          Misc   \n",
       "16710  Samurai Warriors: Sanada Maru      PS3             2016        Action   \n",
       "16712        Haitaka no Psychedelica      PSV             2016     Adventure   \n",
       "16714            Winning Post 8 2016      PSV             2016    Simulation   \n",
       "\n",
       "       na_sales  eu_sales  jp_sales  other_sales  critic_score  user_score  \\\n",
       "16         7.02      9.09      0.98         3.96          97.0         8.2   \n",
       "23         9.66      5.14      0.06         1.41          97.0         8.1   \n",
       "31         6.03      5.86      0.36         2.38           NaN         NaN   \n",
       "33         5.28      4.19      4.35         0.78           NaN         NaN   \n",
       "42         3.96      6.31      0.38         1.97          97.0         8.3   \n",
       "...         ...       ...       ...          ...           ...         ...   \n",
       "16703      0.00      0.00      0.01         0.00           NaN         NaN   \n",
       "16707      0.00      0.00      0.01         0.00           NaN         NaN   \n",
       "16710      0.00      0.00      0.01         0.00           NaN         NaN   \n",
       "16712      0.00      0.00      0.01         0.00           NaN         NaN   \n",
       "16714      0.00      0.00      0.01         0.00           NaN         NaN   \n",
       "\n",
       "       rating  total  \n",
       "16          M  21.05  \n",
       "23          M  16.27  \n",
       "31     Unknow  14.63  \n",
       "33     Unknow  14.60  \n",
       "42          M  12.62  \n",
       "...       ...    ...  \n",
       "16703  Unknow   0.01  \n",
       "16707  Unknow   0.01  \n",
       "16710  Unknow   0.01  \n",
       "16712  Unknow   0.01  \n",
       "16714  Unknow   0.01  \n",
       "\n",
       "[2233 rows x 12 columns]"
      ]
     },
     "execution_count": 22,
     "metadata": {},
     "output_type": "execute_result"
    }
   ],
   "source": [
    "# Отфильтруем д актуальный период\n",
    "actual_period = games.query('year_of_release >= 2013')\n",
    "actual_period"
   ]
  },
  {
   "cell_type": "code",
   "execution_count": 23,
   "metadata": {},
   "outputs": [
    {
     "data": {
      "image/png": "[encoded data removed]",
      "text/plain": [
       "<Figure size 864x360 with 1 Axes>"
      ]
     },
     "metadata": {
      "needs_background": "light"
     },
     "output_type": "display_data"
    }
   ],
   "source": [
    "actual_period.query('platform in @top_platforms_list')\\\n",
    ".pivot_table(index = 'year_of_release', columns = 'platform', values = 'total', aggfunc = 'sum').plot(figsize=(12,5))\n",
    "plt.title('Количество выпущенных игр за актуальный период на разных платформах')\n",
    "plt.show()"
   ]
  },
  {
   "cell_type": "markdown",
   "metadata": {},
   "source": [
    "Из графика видим, что  для всех платформ характерно снижение по продажам. \n",
    "К потенциально прибыльным платформам можно отнести PS4, т.к. продается лучше других, но возможноэто связано с тем, что консоль появилась не так давно. И, возможно, 3DS, хоть прибыль и падает, но не так резко, как у других.\n",
    "Приыбль с продажи консолей X360, PS3 падает сильнее всего. "
   ]
  },
  {
   "cell_type": "code",
   "execution_count": 24,
   "metadata": {},
   "outputs": [
    {
     "data": {
      "text/html": [
       "<div>\n",
       "<style scoped>\n",
       "    .dataframe tbody tr th:only-of-type {\n",
       "        vertical-align: middle;\n",
       "    }\n",
       "\n",
       "    .dataframe tbody tr th {\n",
       "        vertical-align: top;\n",
       "    }\n",
       "\n",
       "    .dataframe thead th {\n",
       "        text-align: right;\n",
       "    }\n",
       "</style>\n",
       "<table border=\"1\" class=\"dataframe\">\n",
       "  <thead>\n",
       "    <tr style=\"text-align: right;\">\n",
       "      <th></th>\n",
       "      <th>year_of_release</th>\n",
       "      <th>na_sales</th>\n",
       "      <th>eu_sales</th>\n",
       "      <th>jp_sales</th>\n",
       "      <th>other_sales</th>\n",
       "      <th>critic_score</th>\n",
       "      <th>user_score</th>\n",
       "      <th>total</th>\n",
       "    </tr>\n",
       "  </thead>\n",
       "  <tbody>\n",
       "    <tr>\n",
       "      <th>count</th>\n",
       "      <td>2233.000000</td>\n",
       "      <td>2233.000000</td>\n",
       "      <td>2233.000000</td>\n",
       "      <td>2233.000000</td>\n",
       "      <td>2233.000000</td>\n",
       "      <td>991.000000</td>\n",
       "      <td>1192.000000</td>\n",
       "      <td>2233.000000</td>\n",
       "    </tr>\n",
       "    <tr>\n",
       "      <th>mean</th>\n",
       "      <td>2014.477385</td>\n",
       "      <td>0.196019</td>\n",
       "      <td>0.175652</td>\n",
       "      <td>0.063045</td>\n",
       "      <td>0.053726</td>\n",
       "      <td>72.023209</td>\n",
       "      <td>6.584564</td>\n",
       "      <td>0.488442</td>\n",
       "    </tr>\n",
       "    <tr>\n",
       "      <th>std</th>\n",
       "      <td>1.089439</td>\n",
       "      <td>0.547730</td>\n",
       "      <td>0.512451</td>\n",
       "      <td>0.233997</td>\n",
       "      <td>0.165693</td>\n",
       "      <td>12.841318</td>\n",
       "      <td>1.610413</td>\n",
       "      <td>1.235226</td>\n",
       "    </tr>\n",
       "    <tr>\n",
       "      <th>min</th>\n",
       "      <td>2013.000000</td>\n",
       "      <td>0.000000</td>\n",
       "      <td>0.000000</td>\n",
       "      <td>0.000000</td>\n",
       "      <td>0.000000</td>\n",
       "      <td>13.000000</td>\n",
       "      <td>0.200000</td>\n",
       "      <td>0.010000</td>\n",
       "    </tr>\n",
       "    <tr>\n",
       "      <th>25%</th>\n",
       "      <td>2014.000000</td>\n",
       "      <td>0.000000</td>\n",
       "      <td>0.000000</td>\n",
       "      <td>0.000000</td>\n",
       "      <td>0.000000</td>\n",
       "      <td>66.000000</td>\n",
       "      <td>5.800000</td>\n",
       "      <td>0.030000</td>\n",
       "    </tr>\n",
       "    <tr>\n",
       "      <th>50%</th>\n",
       "      <td>2014.000000</td>\n",
       "      <td>0.020000</td>\n",
       "      <td>0.030000</td>\n",
       "      <td>0.010000</td>\n",
       "      <td>0.010000</td>\n",
       "      <td>74.000000</td>\n",
       "      <td>7.000000</td>\n",
       "      <td>0.110000</td>\n",
       "    </tr>\n",
       "    <tr>\n",
       "      <th>75%</th>\n",
       "      <td>2015.000000</td>\n",
       "      <td>0.150000</td>\n",
       "      <td>0.130000</td>\n",
       "      <td>0.050000</td>\n",
       "      <td>0.040000</td>\n",
       "      <td>81.000000</td>\n",
       "      <td>7.800000</td>\n",
       "      <td>0.400000</td>\n",
       "    </tr>\n",
       "    <tr>\n",
       "      <th>max</th>\n",
       "      <td>2016.000000</td>\n",
       "      <td>9.660000</td>\n",
       "      <td>9.090000</td>\n",
       "      <td>4.350000</td>\n",
       "      <td>3.960000</td>\n",
       "      <td>97.000000</td>\n",
       "      <td>9.300000</td>\n",
       "      <td>21.050000</td>\n",
       "    </tr>\n",
       "  </tbody>\n",
       "</table>\n",
       "</div>"
      ],
      "text/plain": [
       "       year_of_release     na_sales     eu_sales     jp_sales  other_sales  \\\n",
       "count      2233.000000  2233.000000  2233.000000  2233.000000  2233.000000   \n",
       "mean       2014.477385     0.196019     0.175652     0.063045     0.053726   \n",
       "std           1.089439     0.547730     0.512451     0.233997     0.165693   \n",
       "min        2013.000000     0.000000     0.000000     0.000000     0.000000   \n",
       "25%        2014.000000     0.000000     0.000000     0.000000     0.000000   \n",
       "50%        2014.000000     0.020000     0.030000     0.010000     0.010000   \n",
       "75%        2015.000000     0.150000     0.130000     0.050000     0.040000   \n",
       "max        2016.000000     9.660000     9.090000     4.350000     3.960000   \n",
       "\n",
       "       critic_score   user_score        total  \n",
       "count    991.000000  1192.000000  2233.000000  \n",
       "mean      72.023209     6.584564     0.488442  \n",
       "std       12.841318     1.610413     1.235226  \n",
       "min       13.000000     0.200000     0.010000  \n",
       "25%       66.000000     5.800000     0.030000  \n",
       "50%       74.000000     7.000000     0.110000  \n",
       "75%       81.000000     7.800000     0.400000  \n",
       "max       97.000000     9.300000    21.050000  "
      ]
     },
     "execution_count": 24,
     "metadata": {},
     "output_type": "execute_result"
    }
   ],
   "source": [
    "actual_period.describe()"
   ]
  },
  {
   "cell_type": "code",
   "execution_count": 25,
   "metadata": {},
   "outputs": [],
   "source": [
    "actual_period_norm = actual_period[actual_period['total'] <= 1.4]"
   ]
  },
  {
   "cell_type": "code",
   "execution_count": 26,
   "metadata": {},
   "outputs": [
    {
     "data": {
      "text/plain": [
       "Text(0, 0.5, 'Глобальные продажи')"
      ]
     },
     "execution_count": 26,
     "metadata": {},
     "output_type": "execute_result"
    },
    {
     "data": {
      "image/png": "[encoded data removed]",
      "text/plain": [
       "<Figure size 720x504 with 1 Axes>"
      ]
     },
     "metadata": {
      "needs_background": "light"
     },
     "output_type": "display_data"
    }
   ],
   "source": [
    "plt.figure(figsize=(10,7))\n",
    "sns.boxplot(data=actual_period_norm, x='platform', y='total')\n",
    "plt.title('Глобальные продажи игр в разбивке по платформам')\n",
    "plt.xlabel('Платформа')\n",
    "plt.ylabel('Глобальные продажи')"
   ]
  },
  {
   "cell_type": "markdown",
   "metadata": {},
   "source": [
    "- Из графиков видно, что медиана протекает у всех по разному.\n",
    "- Больше всех продаж у X360, XOne, PS3, WiiU, а у PSV и PSP дела совсем не очень."
   ]
  },
  {
   "cell_type": "code",
   "execution_count": 27,
   "metadata": {},
   "outputs": [],
   "source": [
    "# Для анализа продаж в зависимости от отзывов пользователей и критиков выберу потенциально прибыльную платформу PS4\n",
    "#print(\"Диаграмма рассеяния для PS4\")\n",
    "#sns.pairplot(games[games.platform == \"PS4\"][['total', 'critic_score', 'user_score']])\n",
    "#plt.show()"
   ]
  },
  {
   "cell_type": "markdown",
   "metadata": {},
   "source": [
    "Оставим 5 платформ для сравнения продаж на разных платформах."
   ]
  },
  {
   "cell_type": "code",
   "execution_count": 28,
   "metadata": {},
   "outputs": [],
   "source": [
    "top_5 = actual_period.query('platform in @top_platforms_list')['platform'].unique()[:5]"
   ]
  },
  {
   "cell_type": "code",
   "execution_count": 29,
   "metadata": {},
   "outputs": [],
   "source": [
    "# Функция для построения диаграммы рассеяния\n",
    "def platform_matrix(name_of_platform):\n",
    "    platform = actual_period[actual_period['platform']==name_of_platform]\n",
    "    fig, ax = plt.subplots(1 ,2, figsize=(10,5))\n",
    "    sns.scatterplot(x='user_score', y='total', data=platform, ax=ax[0])\n",
    "    sns.scatterplot(x='critic_score', y='total', data=platform, ax=ax[1])\n",
    "    fig.suptitle(name_of_platform, fontsize=15)\n",
    "    ax[0].set(xlabel='Оценка пользователей')\n",
    "    ax[1].set(xlabel='Оценка критиков')\n",
    "    ax[0].set(ylabel='Количество продаж')\n",
    "    ax[1].set(ylabel='Количество продаж')\n",
    "    plt.show()"
   ]
  },
  {
   "cell_type": "code",
   "execution_count": 30,
   "metadata": {},
   "outputs": [
    {
     "data": {
      "image/png": "[encoded data removed]",
      "text/plain": [
       "<Figure size 720x360 with 2 Axes>"
      ]
     },
     "metadata": {
      "needs_background": "light"
     },
     "output_type": "display_data"
    },
    {
     "data": {
      "image/png": "[encoded data removed]",
      "text/plain": [
       "<Figure size 720x360 with 2 Axes>"
      ]
     },
     "metadata": {
      "needs_background": "light"
     },
     "output_type": "display_data"
    },
    {
     "data": {
      "image/png": "[encoded data removed]",
      "text/plain": [
       "<Figure size 720x360 with 2 Axes>"
      ]
     },
     "metadata": {
      "needs_background": "light"
     },
     "output_type": "display_data"
    },
    {
     "data": {
      "image/png": "[encoded data removed]",
      "text/plain": [
       "<Figure size 720x360 with 2 Axes>"
      ]
     },
     "metadata": {
      "needs_background": "light"
     },
     "output_type": "display_data"
    },
    {
     "data": {
      "image/png": "[encoded data removed]",
      "text/plain": [
       "<Figure size 720x360 with 2 Axes>"
      ]
     },
     "metadata": {
      "needs_background": "light"
     },
     "output_type": "display_data"
    }
   ],
   "source": [
    "# Посмотрим на корреляцию между отзывами и продажами\n",
    "for platform in top_5:\n",
    "    platform_matrix(platform)"
   ]
  },
  {
   "cell_type": "code",
   "execution_count": 31,
   "metadata": {},
   "outputs": [
    {
     "name": "stdout",
     "output_type": "stream",
     "text": [
      "Платформа PS3\n",
      "                 total  critic_score  user_score\n",
      "total         1.000000      0.334285    0.002394\n",
      "critic_score  0.334285      1.000000    0.599920\n",
      "user_score    0.002394      0.599920    1.000000\n",
      " \n",
      "Платформа X360\n",
      "                 total  critic_score  user_score\n",
      "total         1.000000      0.350345   -0.011742\n",
      "critic_score  0.350345      1.000000    0.520946\n",
      "user_score   -0.011742      0.520946    1.000000\n",
      " \n",
      "Платформа PS4\n",
      "                 total  critic_score  user_score\n",
      "total         1.000000      0.406568   -0.031957\n",
      "critic_score  0.406568      1.000000    0.557654\n",
      "user_score   -0.031957      0.557654    1.000000\n",
      " \n",
      "Платформа 3DS\n",
      "                 total  critic_score  user_score\n",
      "total         1.000000      0.357057    0.241504\n",
      "critic_score  0.357057      1.000000    0.769536\n",
      "user_score    0.241504      0.769536    1.000000\n",
      " \n",
      "Платформа Wii\n",
      "                 total  critic_score  user_score\n",
      "total         1.000000           NaN    0.682942\n",
      "critic_score       NaN           NaN         NaN\n",
      "user_score    0.682942           NaN    1.000000\n",
      " \n"
     ]
    }
   ],
   "source": [
    "for i in top_5:\n",
    "    print('Платформа', i)\n",
    "    print(actual_period[actual_period.platform == i][['total', 'critic_score', 'user_score']].corr())\n",
    "    print(' ')"
   ]
  },
  {
   "cell_type": "markdown",
   "metadata": {},
   "source": [
    "Из диаграмм рассеяния и корреляции между отзывами и продажами платформы PS4 и других платформ видим, что между оценкой критиков и продажами еще есть небольшая коррекляция, тогда как между отзывами пользователей и продажами ее почти нет или она слабая. исключение платформа Wii, где нет отзывов критиков, а зависимость между отзывами пользователей и продажами наблюдается на уровне 0.68"
   ]
  },
  {
   "cell_type": "code",
   "execution_count": 32,
   "metadata": {},
   "outputs": [
    {
     "data": {
      "text/html": [
       "<div>\n",
       "<style scoped>\n",
       "    .dataframe tbody tr th:only-of-type {\n",
       "        vertical-align: middle;\n",
       "    }\n",
       "\n",
       "    .dataframe tbody tr th {\n",
       "        vertical-align: top;\n",
       "    }\n",
       "\n",
       "    .dataframe thead th {\n",
       "        text-align: right;\n",
       "    }\n",
       "</style>\n",
       "<table border=\"1\" class=\"dataframe\">\n",
       "  <thead>\n",
       "    <tr style=\"text-align: right;\">\n",
       "      <th></th>\n",
       "      <th>genre</th>\n",
       "      <th>total</th>\n",
       "    </tr>\n",
       "  </thead>\n",
       "  <tbody>\n",
       "    <tr>\n",
       "      <th>0</th>\n",
       "      <td>Shooter</td>\n",
       "      <td>0.450</td>\n",
       "    </tr>\n",
       "    <tr>\n",
       "      <th>1</th>\n",
       "      <td>Sports</td>\n",
       "      <td>0.240</td>\n",
       "    </tr>\n",
       "    <tr>\n",
       "      <th>2</th>\n",
       "      <td>Platform</td>\n",
       "      <td>0.225</td>\n",
       "    </tr>\n",
       "    <tr>\n",
       "      <th>3</th>\n",
       "      <td>Role-Playing</td>\n",
       "      <td>0.125</td>\n",
       "    </tr>\n",
       "    <tr>\n",
       "      <th>4</th>\n",
       "      <td>Fighting</td>\n",
       "      <td>0.125</td>\n",
       "    </tr>\n",
       "    <tr>\n",
       "      <th>5</th>\n",
       "      <td>Racing</td>\n",
       "      <td>0.120</td>\n",
       "    </tr>\n",
       "    <tr>\n",
       "      <th>6</th>\n",
       "      <td>Action</td>\n",
       "      <td>0.110</td>\n",
       "    </tr>\n",
       "    <tr>\n",
       "      <th>7</th>\n",
       "      <td>Simulation</td>\n",
       "      <td>0.100</td>\n",
       "    </tr>\n",
       "    <tr>\n",
       "      <th>8</th>\n",
       "      <td>Misc</td>\n",
       "      <td>0.100</td>\n",
       "    </tr>\n",
       "    <tr>\n",
       "      <th>9</th>\n",
       "      <td>Strategy</td>\n",
       "      <td>0.080</td>\n",
       "    </tr>\n",
       "    <tr>\n",
       "      <th>10</th>\n",
       "      <td>Puzzle</td>\n",
       "      <td>0.060</td>\n",
       "    </tr>\n",
       "    <tr>\n",
       "      <th>11</th>\n",
       "      <td>Adventure</td>\n",
       "      <td>0.030</td>\n",
       "    </tr>\n",
       "  </tbody>\n",
       "</table>\n",
       "</div>"
      ],
      "text/plain": [
       "           genre  total\n",
       "0        Shooter  0.450\n",
       "1         Sports  0.240\n",
       "2       Platform  0.225\n",
       "3   Role-Playing  0.125\n",
       "4       Fighting  0.125\n",
       "5         Racing  0.120\n",
       "6         Action  0.110\n",
       "7     Simulation  0.100\n",
       "8           Misc  0.100\n",
       "9       Strategy  0.080\n",
       "10        Puzzle  0.060\n",
       "11     Adventure  0.030"
      ]
     },
     "execution_count": 32,
     "metadata": {},
     "output_type": "execute_result"
    }
   ],
   "source": [
    "top_genre = actual_period.pivot_table(index = 'genre', values = 'total', aggfunc = 'median')\\\n",
    ".sort_values(ascending=False, by = 'total').reset_index()\n",
    "top_genre"
   ]
  },
  {
   "cell_type": "code",
   "execution_count": 33,
   "metadata": {},
   "outputs": [
    {
     "data": {
      "image/png": "[encoded data removed]",
      "text/plain": [
       "<Figure size 864x360 with 1 Axes>"
      ]
     },
     "metadata": {
      "needs_background": "light"
     },
     "output_type": "display_data"
    }
   ],
   "source": [
    "plt.figure(figsize=(12,5))\n",
    "plt.title('Распределение игр по жанрам ')\n",
    "sns.barplot(data=top_genre, x='genre', y='total')\n",
    "plt.xlabel('Жанры игр')\n",
    "plt.ylabel('Продажи')\n",
    "plt.show()"
   ]
  },
  {
   "cell_type": "markdown",
   "metadata": {},
   "source": [
    "Из сводной таблицы и круговой диаграммы видно, что самый прибыльный жанр - Shooter, далее идут Sports и Platform, а менее прибыльные  - Puzzle, Adventure."
   ]
  },
  {
   "cell_type": "markdown",
   "metadata": {},
   "source": [
    "<a id=\"claster\"></a>\n",
    "### Портрет пользователя каждого региона"
   ]
  },
  {
   "cell_type": "code",
   "execution_count": 34,
   "metadata": {},
   "outputs": [],
   "source": [
    "# Функция для создания графиков топ-5 в регионе \n",
    "def top_in_regions(groupby, region_sales, ax):\n",
    "    \n",
    "    title_reg = {'na_sales': 'North America Sales', 'eu_sales': 'Europe Sales', 'jp_sales': 'Japan Sales'}\n",
    "    color_reg = {'na_sales': 'teal', 'eu_sales': 'gray', 'jp_sales': 'darkblue'}\n",
    "    plot = actual_period.groupby(groupby).agg({region_sales: 'sum'}).sort_values(by=region_sales, ascending=False)[:5] \\\n",
    "    .plot(kind='bar', title=title_reg[region_sales], ax=axes[ax], \\\n",
    "          fontsize=20, color=color_reg[region_sales], rot=20)\n",
    "    plot.legend(prop={'size':15})\n",
    "    plot.title.set_size(20)"
   ]
  },
  {
   "cell_type": "code",
   "execution_count": 35,
   "metadata": {},
   "outputs": [
    {
     "name": "stdout",
     "output_type": "stream",
     "text": [
      "Cамые популярные платформы (топ-5)\n"
     ]
    },
    {
     "data": {
      "image/png": "[encoded data removed]",
      "text/plain": [
       "<Figure size 1800x432 with 3 Axes>"
      ]
     },
     "metadata": {
      "needs_background": "light"
     },
     "output_type": "display_data"
    }
   ],
   "source": [
    "print ('Cамые популярные платформы (топ-5)')\n",
    "fig, axes = plt.subplots(1, 3, figsize=(25,6))\n",
    "\n",
    "top_in_regions('platform', 'na_sales', 0)\n",
    "top_in_regions('platform', 'eu_sales', 1)\n",
    "top_in_regions('platform', 'jp_sales', 2)"
   ]
  },
  {
   "cell_type": "markdown",
   "metadata": {},
   "source": [
    "В Северной Америке популярны приставки PS4 и XOne. В Европе лидирующее место занимает PS4. В Японии лидер 3DS. "
   ]
  },
  {
   "cell_type": "code",
   "execution_count": 36,
   "metadata": {},
   "outputs": [
    {
     "data": {
      "image/png": "[encoded data removed]",
      "text/plain": [
       "<Figure size 1800x432 with 3 Axes>"
      ]
     },
     "metadata": {
      "needs_background": "light"
     },
     "output_type": "display_data"
    }
   ],
   "source": [
    "# Определим наиболее популярные жанры в заданных регионах\n",
    "fig, axes = plt.subplots(1, 3, figsize=(25,6))\n",
    "\n",
    "top_in_regions('genre', 'na_sales', 0)\n",
    "top_in_regions('genre', 'eu_sales', 1)\n",
    "top_in_regions('genre', 'jp_sales', 2)"
   ]
  },
  {
   "cell_type": "markdown",
   "metadata": {},
   "source": [
    "Вкусы в Северной Америке и Европе совпадают, популярные жанры: экшены, спортивные игры и шутеры.В Японии на первом местеролевые игры далее экшены."
   ]
  },
  {
   "cell_type": "code",
   "execution_count": 37,
   "metadata": {},
   "outputs": [
    {
     "data": {
      "text/html": [
       "<div>\n",
       "<style scoped>\n",
       "    .dataframe tbody tr th:only-of-type {\n",
       "        vertical-align: middle;\n",
       "    }\n",
       "\n",
       "    .dataframe tbody tr th {\n",
       "        vertical-align: top;\n",
       "    }\n",
       "\n",
       "    .dataframe thead th {\n",
       "        text-align: right;\n",
       "    }\n",
       "</style>\n",
       "<table border=\"1\" class=\"dataframe\">\n",
       "  <thead>\n",
       "    <tr style=\"text-align: right;\">\n",
       "      <th></th>\n",
       "      <th>eu_sales</th>\n",
       "      <th>jp_sales</th>\n",
       "      <th>na_sales</th>\n",
       "    </tr>\n",
       "    <tr>\n",
       "      <th>rating</th>\n",
       "      <th></th>\n",
       "      <th></th>\n",
       "      <th></th>\n",
       "    </tr>\n",
       "  </thead>\n",
       "  <tbody>\n",
       "    <tr>\n",
       "      <th>E</th>\n",
       "      <td>83.36</td>\n",
       "      <td>15.14</td>\n",
       "      <td>79.05</td>\n",
       "    </tr>\n",
       "    <tr>\n",
       "      <th>E10+</th>\n",
       "      <td>42.69</td>\n",
       "      <td>5.89</td>\n",
       "      <td>54.24</td>\n",
       "    </tr>\n",
       "    <tr>\n",
       "      <th>M</th>\n",
       "      <td>145.32</td>\n",
       "      <td>14.11</td>\n",
       "      <td>165.21</td>\n",
       "    </tr>\n",
       "    <tr>\n",
       "      <th>T</th>\n",
       "      <td>41.95</td>\n",
       "      <td>20.59</td>\n",
       "      <td>49.79</td>\n",
       "    </tr>\n",
       "    <tr>\n",
       "      <th>Unknow</th>\n",
       "      <td>78.91</td>\n",
       "      <td>85.05</td>\n",
       "      <td>89.42</td>\n",
       "    </tr>\n",
       "  </tbody>\n",
       "</table>\n",
       "</div>"
      ],
      "text/plain": [
       "        eu_sales  jp_sales  na_sales\n",
       "rating                              \n",
       "E          83.36     15.14     79.05\n",
       "E10+       42.69      5.89     54.24\n",
       "M         145.32     14.11    165.21\n",
       "T          41.95     20.59     49.79\n",
       "Unknow     78.91     85.05     89.42"
      ]
     },
     "execution_count": 37,
     "metadata": {},
     "output_type": "execute_result"
    }
   ],
   "source": [
    "ESRB = actual_period.pivot_table(index = 'rating', values = ['eu_sales','jp_sales','na_sales'], aggfunc = 'sum')\n",
    "ESRB  "
   ]
  },
  {
   "cell_type": "markdown",
   "metadata": {},
   "source": [
    "В Северной Америке и в Европе значения очень похожи. Большая часть выручки получено с игр с рейтингом М \"Для взрослых\".\n",
    "\n",
    "В Японии не так. Лидирующее место у рейтинга Unknow, вероятно это связано с тем, что сам рейтнг ESRB принадлежит американской компании, возможно не все японские игры его проходят."
   ]
  },
  {
   "cell_type": "markdown",
   "metadata": {},
   "source": [
    "<a id=\"claster\"></a>\n",
    "### Проверка гипотез"
   ]
  },
  {
   "cell_type": "markdown",
   "metadata": {},
   "source": [
    "1 гипотеза: Средние пользовательские рейтинги платформ Xbox One и PC одинаковые; <br>\n",
    "2 гипотеза: Средние пользовательские рейтинги жанров Action и Sports разные."
   ]
  },
  {
   "cell_type": "code",
   "execution_count": 38,
   "metadata": {},
   "outputs": [
    {
     "name": "stdout",
     "output_type": "stream",
     "text": [
      "Средний пользовательский рейтинг платформы Xbox One: 6.521428571428572\n",
      "Средний пользовательский рейтинг платформы PC 6.2696774193548395\n"
     ]
    }
   ],
   "source": [
    "XOne = actual_period[(actual_period['platform'] == 'XOne') &  (actual_period['user_score'] > 0)]['user_score']\n",
    "PC = actual_period[(actual_period['platform'] == 'PC') &  (actual_period['user_score'] > 0)]['user_score']\n",
    "print('Средний пользовательский рейтинг платформы Xbox One:', XOne.mean())\n",
    "print('Средний пользовательский рейтинг платформы PC', PC.mean())"
   ]
  },
  {
   "cell_type": "markdown",
   "metadata": {},
   "source": [
    "H0: Средние пользовательские рейтинги платформ Xbox One и PC одинаковые <br>\n",
    "H1: Средние пользовательские рейтинги платформ Xbox One и PC имеют различия"
   ]
  },
  {
   "cell_type": "code",
   "execution_count": 39,
   "metadata": {},
   "outputs": [
    {
     "name": "stdout",
     "output_type": "stream",
     "text": [
      "p-значение: 0.14759594013430463\n",
      "Не получилось отвергнуть нулевую гипотезу\n"
     ]
    }
   ],
   "source": [
    "# Проверяем первую гипотезу\n",
    "\n",
    "alpha = .05\n",
    "results = st.ttest_ind(XOne, PC, equal_var=False)\n",
    "print('p-значение:', results.pvalue)\n",
    "\n",
    "if (results.pvalue < alpha):\n",
    "    print(\"Отвергаем нулевую гипотезу\")\n",
    "else:\n",
    "    print(\"Не получилось отвергнуть нулевую гипотезу\")"
   ]
  },
  {
   "cell_type": "markdown",
   "metadata": {},
   "source": [
    "Не получилось отвергнуть гипотезу H0. Можем предположить, что средние пользовательские рейтинги платформ Xbox One и PC имеют различия."
   ]
  },
  {
   "cell_type": "markdown",
   "metadata": {},
   "source": [
    "H0: Средние пользовательские рейтинги жанров Action и Sports одинаковые <br>\n",
    "H1: Средние пользовательские рейтинги жанров Action и Sports имеют различия"
   ]
  },
  {
   "cell_type": "code",
   "execution_count": 40,
   "metadata": {},
   "outputs": [
    {
     "name": "stdout",
     "output_type": "stream",
     "text": [
      "Средний пользовательский рейтинг жанра Action: 6.837532133676092\n",
      "Средний пользовательский рейтинг жанра Sports 5.238124999999999\n"
     ]
    }
   ],
   "source": [
    "Action = actual_period[(actual_period['genre'] == 'Action') &  (actual_period['user_score'] > 0)]['user_score']\n",
    "Sports = actual_period[(actual_period['genre'] == 'Sports') &  (actual_period['user_score'] > 0)]['user_score']\n",
    "print('Средний пользовательский рейтинг жанра Action:', Action.mean())\n",
    "print('Средний пользовательский рейтинг жанра Sports', Sports.mean())"
   ]
  },
  {
   "cell_type": "code",
   "execution_count": 41,
   "metadata": {},
   "outputs": [
    {
     "name": "stdout",
     "output_type": "stream",
     "text": [
      "p-значение: 1.4460039700704315e-20\n",
      "Отвергаем нулевую гипотезу\n"
     ]
    }
   ],
   "source": [
    "# Проверяем вторую гипотезу\n",
    "\n",
    "alpha = .05\n",
    "results = st.ttest_ind(Action, Sports, equal_var=False)\n",
    "print('p-значение:', results.pvalue)\n",
    "\n",
    "if (results.pvalue < alpha):\n",
    "    print(\"Отвергаем нулевую гипотезу\")\n",
    "else:\n",
    "    print(\"Не получилось отвергнуть нулевую гипотезу\")"
   ]
  },
  {
   "cell_type": "markdown",
   "metadata": {},
   "source": [
    "Отвергаем гипотезу H0. Средние пользовательские рейтинги жанров Action и Sports отличаются."
   ]
  },
  {
   "cell_type": "markdown",
   "metadata": {},
   "source": [
    "<a id=\"final\"></a>\n",
    "### Общий вывод"
   ]
  },
  {
   "cell_type": "markdown",
   "metadata": {},
   "source": [
    "В процессе исследования было обнаружено, что рост выпуска игр был в 1994 год, а пик в 2005-2010.<br>\n",
    "Характерный срок жизни платформы - 10 лет.<br>\n",
    "Потенциально прибыльные платформы - PS4, 3DS.<br>\n",
    "Больше покупают игры жанра Shooter.<br>\n",
    "\n",
    "В Северной Америке и Европе самая популярная платформа PS4. В Японии - 3DS.<br>\n",
    "В Северной Америке и Европе самый популярный жанр Action. В JP ролевые игры.<br>\n",
    "В Северной Америке и Европе лидируют игры с рейтингом М - \"Для взрослых\". В Японии наибольшее количество игр с неопределенным возрастным рейтингом.<br> \n",
    "\n",
    "Не получилось отвергнуть нулевую гипотезу, что средние пользовательские рейтинги платформ Xbox One и PC одинаковые.<br>\n",
    "Гипотеза, что средние пользовательские рейтинги жанров Action и Sports разные, подтвердилась.<br>"
   ]
  }
 ],
 "metadata": {
  "ExecuteTimeLog": [
   {
    "duration": 394,
    "start_time": "2023-01-04T09:32:46.278Z"
   },
   {
    "duration": 92,
    "start_time": "2023-01-04T09:33:02.461Z"
   },
   {
    "duration": 69,
    "start_time": "2023-01-04T09:37:50.078Z"
   },
   {
    "duration": 51,
    "start_time": "2023-01-04T09:37:50.569Z"
   },
   {
    "duration": 379,
    "start_time": "2023-01-04T09:38:02.761Z"
   },
   {
    "duration": 427,
    "start_time": "2023-01-04T09:38:16.124Z"
   },
   {
    "duration": 52,
    "start_time": "2023-01-04T09:38:29.816Z"
   },
   {
    "duration": 52,
    "start_time": "2023-01-04T09:38:30.888Z"
   },
   {
    "duration": 3,
    "start_time": "2023-01-04T09:41:25.218Z"
   },
   {
    "duration": 50,
    "start_time": "2023-01-04T09:42:47.239Z"
   },
   {
    "duration": 24,
    "start_time": "2023-01-04T09:42:57.522Z"
   },
   {
    "duration": 13,
    "start_time": "2023-01-04T09:43:08.693Z"
   },
   {
    "duration": 14,
    "start_time": "2023-01-04T09:43:26.602Z"
   },
   {
    "duration": 26,
    "start_time": "2023-01-04T09:43:37.201Z"
   },
   {
    "duration": 12,
    "start_time": "2023-01-04T09:46:48.093Z"
   },
   {
    "duration": 3,
    "start_time": "2023-01-04T09:49:25.188Z"
   },
   {
    "duration": 19,
    "start_time": "2023-01-04T09:49:29.796Z"
   },
   {
    "duration": 23,
    "start_time": "2023-01-04T09:56:37.727Z"
   },
   {
    "duration": 15,
    "start_time": "2023-01-04T09:57:05.398Z"
   },
   {
    "duration": 11,
    "start_time": "2023-01-04T10:05:13.111Z"
   },
   {
    "duration": 14,
    "start_time": "2023-01-04T10:05:17.008Z"
   },
   {
    "duration": 20,
    "start_time": "2023-01-04T10:05:27.961Z"
   },
   {
    "duration": 15,
    "start_time": "2023-01-04T10:06:44.794Z"
   },
   {
    "duration": 4,
    "start_time": "2023-01-04T10:06:54.666Z"
   },
   {
    "duration": 12,
    "start_time": "2023-01-04T10:07:03.603Z"
   },
   {
    "duration": 5,
    "start_time": "2023-01-04T10:09:44.308Z"
   },
   {
    "duration": 5,
    "start_time": "2023-01-04T10:14:09.461Z"
   },
   {
    "duration": 6,
    "start_time": "2023-01-04T10:14:13.701Z"
   },
   {
    "duration": 8,
    "start_time": "2023-01-04T10:16:01.150Z"
   },
   {
    "duration": 23,
    "start_time": "2023-01-04T10:16:30.429Z"
   },
   {
    "duration": 1138,
    "start_time": "2023-01-04T10:16:46.021Z"
   },
   {
    "duration": 59,
    "start_time": "2023-01-04T10:16:47.161Z"
   },
   {
    "duration": 19,
    "start_time": "2023-01-04T10:16:47.222Z"
   },
   {
    "duration": 14,
    "start_time": "2023-01-04T10:16:47.243Z"
   },
   {
    "duration": 19,
    "start_time": "2023-01-04T10:16:47.259Z"
   },
   {
    "duration": 41,
    "start_time": "2023-01-04T10:16:47.280Z"
   },
   {
    "duration": 7,
    "start_time": "2023-01-04T10:16:47.324Z"
   },
   {
    "duration": 15,
    "start_time": "2023-01-04T10:16:47.333Z"
   },
   {
    "duration": 11,
    "start_time": "2023-01-04T10:16:47.350Z"
   },
   {
    "duration": 13,
    "start_time": "2023-01-04T10:16:47.363Z"
   },
   {
    "duration": 4,
    "start_time": "2023-01-04T10:27:42.442Z"
   },
   {
    "duration": 14,
    "start_time": "2023-01-04T10:28:00.818Z"
   },
   {
    "duration": 853,
    "start_time": "2023-01-04T10:42:59.807Z"
   },
   {
    "duration": 122,
    "start_time": "2023-01-04T10:43:15.087Z"
   },
   {
    "duration": 122,
    "start_time": "2023-01-04T10:43:24.063Z"
   },
   {
    "duration": 143,
    "start_time": "2023-01-04T10:43:29.935Z"
   },
   {
    "duration": 130,
    "start_time": "2023-01-04T10:43:47.343Z"
   },
   {
    "duration": 164,
    "start_time": "2023-01-04T10:43:55.071Z"
   },
   {
    "duration": 150,
    "start_time": "2023-01-04T10:44:35.703Z"
   },
   {
    "duration": 179,
    "start_time": "2023-01-04T10:44:54.400Z"
   },
   {
    "duration": 270,
    "start_time": "2023-01-04T10:45:22.127Z"
   },
   {
    "duration": 200,
    "start_time": "2023-01-04T10:45:27.919Z"
   },
   {
    "duration": 43,
    "start_time": "2023-01-04T10:52:13.712Z"
   },
   {
    "duration": 12,
    "start_time": "2023-01-04T10:52:24.522Z"
   },
   {
    "duration": 11,
    "start_time": "2023-01-04T10:52:49.794Z"
   },
   {
    "duration": 10,
    "start_time": "2023-01-04T10:53:23.987Z"
   },
   {
    "duration": 50,
    "start_time": "2023-01-04T10:53:30.906Z"
   },
   {
    "duration": 11,
    "start_time": "2023-01-04T10:53:35.194Z"
   },
   {
    "duration": 15,
    "start_time": "2023-01-04T10:53:39.907Z"
   },
   {
    "duration": 140,
    "start_time": "2023-01-04T10:54:54.987Z"
   },
   {
    "duration": 135,
    "start_time": "2023-01-04T10:55:09.115Z"
   },
   {
    "duration": 16,
    "start_time": "2023-01-04T10:57:02.923Z"
   },
   {
    "duration": 309,
    "start_time": "2023-01-04T10:58:06.804Z"
   },
   {
    "duration": 19,
    "start_time": "2023-01-04T10:59:01.364Z"
   },
   {
    "duration": 19,
    "start_time": "2023-01-04T10:59:37.149Z"
   },
   {
    "duration": 1077,
    "start_time": "2023-01-04T11:00:43.301Z"
   },
   {
    "duration": 53,
    "start_time": "2023-01-04T11:00:44.380Z"
   },
   {
    "duration": 16,
    "start_time": "2023-01-04T11:00:44.435Z"
   },
   {
    "duration": 13,
    "start_time": "2023-01-04T11:00:44.452Z"
   },
   {
    "duration": 2,
    "start_time": "2023-01-04T11:00:44.467Z"
   },
   {
    "duration": 29,
    "start_time": "2023-01-04T11:00:44.470Z"
   },
   {
    "duration": 4,
    "start_time": "2023-01-04T11:00:44.500Z"
   },
   {
    "duration": 8,
    "start_time": "2023-01-04T11:00:44.505Z"
   },
   {
    "duration": 8,
    "start_time": "2023-01-04T11:00:44.514Z"
   },
   {
    "duration": 5,
    "start_time": "2023-01-04T11:00:44.523Z"
   },
   {
    "duration": 28,
    "start_time": "2023-01-04T11:00:44.529Z"
   },
   {
    "duration": 232,
    "start_time": "2023-01-04T11:00:44.558Z"
   },
   {
    "duration": 20,
    "start_time": "2023-01-04T11:00:44.792Z"
   },
   {
    "duration": 149,
    "start_time": "2023-01-04T11:00:44.814Z"
   },
   {
    "duration": 120,
    "start_time": "2023-01-04T11:00:44.965Z"
   },
   {
    "duration": 13,
    "start_time": "2023-01-04T11:02:06.575Z"
   },
   {
    "duration": 21,
    "start_time": "2023-01-04T11:03:18.935Z"
   },
   {
    "duration": 12,
    "start_time": "2023-01-04T11:03:28.493Z"
   },
   {
    "duration": 20,
    "start_time": "2023-01-04T11:04:13.661Z"
   },
   {
    "duration": 15,
    "start_time": "2023-01-04T11:04:39.062Z"
   },
   {
    "duration": 16,
    "start_time": "2023-01-04T11:05:54.095Z"
   },
   {
    "duration": 14,
    "start_time": "2023-01-04T11:06:47.783Z"
   },
   {
    "duration": 15,
    "start_time": "2023-01-04T11:06:58.895Z"
   },
   {
    "duration": 14,
    "start_time": "2023-01-04T11:07:03.743Z"
   },
   {
    "duration": 14,
    "start_time": "2023-01-04T11:07:10.913Z"
   },
   {
    "duration": 745,
    "start_time": "2023-01-04T11:07:15.272Z"
   },
   {
    "duration": 18,
    "start_time": "2023-01-04T11:07:16.335Z"
   },
   {
    "duration": 9,
    "start_time": "2023-01-04T11:07:17.320Z"
   },
   {
    "duration": 16,
    "start_time": "2023-01-04T11:07:28.911Z"
   },
   {
    "duration": 146,
    "start_time": "2023-01-04T11:07:29.816Z"
   },
   {
    "duration": 19,
    "start_time": "2023-01-04T11:07:30.784Z"
   },
   {
    "duration": 4,
    "start_time": "2023-01-04T11:08:57.328Z"
   },
   {
    "duration": 2,
    "start_time": "2023-01-04T11:09:08.624Z"
   },
   {
    "duration": 1753,
    "start_time": "2023-01-04T11:09:13.937Z"
   },
   {
    "duration": 1595,
    "start_time": "2023-01-04T11:09:24.960Z"
   },
   {
    "duration": 150,
    "start_time": "2023-01-04T11:10:13.449Z"
   },
   {
    "duration": 154,
    "start_time": "2023-01-04T11:10:41.137Z"
   },
   {
    "duration": 131,
    "start_time": "2023-01-04T11:11:46.345Z"
   },
   {
    "duration": 171,
    "start_time": "2023-01-04T11:13:51.314Z"
   },
   {
    "duration": 2435,
    "start_time": "2023-01-04T11:14:27.044Z"
   },
   {
    "duration": 258,
    "start_time": "2023-01-04T11:14:47.563Z"
   },
   {
    "duration": 1745,
    "start_time": "2023-01-04T11:15:02.859Z"
   },
   {
    "duration": 1688,
    "start_time": "2023-01-04T11:15:06.019Z"
   },
   {
    "duration": 1784,
    "start_time": "2023-01-04T11:16:34.556Z"
   },
   {
    "duration": 2703,
    "start_time": "2023-01-04T11:16:42.300Z"
   },
   {
    "duration": 1785,
    "start_time": "2023-01-04T11:26:21.825Z"
   },
   {
    "duration": 6,
    "start_time": "2023-01-04T11:44:43.179Z"
   },
   {
    "duration": 1062,
    "start_time": "2023-01-04T11:46:57.306Z"
   },
   {
    "duration": 51,
    "start_time": "2023-01-04T11:46:58.370Z"
   },
   {
    "duration": 15,
    "start_time": "2023-01-04T11:46:58.422Z"
   },
   {
    "duration": 12,
    "start_time": "2023-01-04T11:46:58.439Z"
   },
   {
    "duration": 3,
    "start_time": "2023-01-04T11:46:58.452Z"
   },
   {
    "duration": 19,
    "start_time": "2023-01-04T11:46:58.456Z"
   },
   {
    "duration": 22,
    "start_time": "2023-01-04T11:46:58.477Z"
   },
   {
    "duration": 7,
    "start_time": "2023-01-04T11:46:58.500Z"
   },
   {
    "duration": 7,
    "start_time": "2023-01-04T11:46:58.508Z"
   },
   {
    "duration": 3,
    "start_time": "2023-01-04T11:46:58.518Z"
   },
   {
    "duration": 17,
    "start_time": "2023-01-04T11:46:58.522Z"
   },
   {
    "duration": 13,
    "start_time": "2023-01-04T11:46:58.540Z"
   },
   {
    "duration": 182,
    "start_time": "2023-01-04T11:46:58.554Z"
   },
   {
    "duration": 15,
    "start_time": "2023-01-04T11:46:58.737Z"
   },
   {
    "duration": 147,
    "start_time": "2023-01-04T11:46:58.753Z"
   },
   {
    "duration": 3,
    "start_time": "2023-01-04T11:46:58.901Z"
   },
   {
    "duration": 1598,
    "start_time": "2023-01-04T11:46:58.905Z"
   },
   {
    "duration": 7,
    "start_time": "2023-01-04T11:47:00.504Z"
   },
   {
    "duration": 1662,
    "start_time": "2023-01-04T11:47:18.844Z"
   },
   {
    "duration": 114,
    "start_time": "2023-01-04T11:52:49.782Z"
   },
   {
    "duration": 212,
    "start_time": "2023-01-04T11:53:03.814Z"
   },
   {
    "duration": 263,
    "start_time": "2023-01-04T11:53:15.525Z"
   },
   {
    "duration": 223,
    "start_time": "2023-01-04T11:53:23.654Z"
   },
   {
    "duration": 248,
    "start_time": "2023-01-04T11:53:28.774Z"
   },
   {
    "duration": 331,
    "start_time": "2023-01-04T11:54:09.558Z"
   },
   {
    "duration": 5,
    "start_time": "2023-01-04T12:00:41.441Z"
   },
   {
    "duration": 3,
    "start_time": "2023-01-04T12:00:57.129Z"
   },
   {
    "duration": 23,
    "start_time": "2023-01-04T12:09:03.907Z"
   },
   {
    "duration": 273,
    "start_time": "2023-01-04T12:10:18.667Z"
   },
   {
    "duration": 242,
    "start_time": "2023-01-04T12:10:32.363Z"
   },
   {
    "duration": 252,
    "start_time": "2023-01-04T12:11:44.163Z"
   },
   {
    "duration": 246,
    "start_time": "2023-01-04T12:12:18.211Z"
   },
   {
    "duration": 285,
    "start_time": "2023-01-04T12:12:25.467Z"
   },
   {
    "duration": 341,
    "start_time": "2023-01-04T12:12:33.212Z"
   },
   {
    "duration": 240,
    "start_time": "2023-01-04T12:12:41.291Z"
   },
   {
    "duration": 249,
    "start_time": "2023-01-04T12:12:49.177Z"
   },
   {
    "duration": 289,
    "start_time": "2023-01-04T12:13:47.004Z"
   },
   {
    "duration": 129,
    "start_time": "2023-01-04T12:14:56.701Z"
   },
   {
    "duration": 308,
    "start_time": "2023-01-04T12:15:07.365Z"
   },
   {
    "duration": 434,
    "start_time": "2023-01-04T12:17:54.581Z"
   },
   {
    "duration": 710,
    "start_time": "2023-01-04T12:20:39.182Z"
   },
   {
    "duration": 315,
    "start_time": "2023-01-04T12:20:56.096Z"
   },
   {
    "duration": 10,
    "start_time": "2023-01-04T12:21:10.271Z"
   },
   {
    "duration": 311,
    "start_time": "2023-01-04T12:21:21.103Z"
   },
   {
    "duration": 4,
    "start_time": "2023-01-04T13:19:38.083Z"
   },
   {
    "duration": 282,
    "start_time": "2023-01-04T13:21:58.171Z"
   },
   {
    "duration": 29,
    "start_time": "2023-01-04T13:23:56.228Z"
   },
   {
    "duration": 5,
    "start_time": "2023-01-04T13:25:08.053Z"
   },
   {
    "duration": 314,
    "start_time": "2023-01-04T13:25:14.910Z"
   },
   {
    "duration": 447,
    "start_time": "2023-01-04T13:25:30.510Z"
   },
   {
    "duration": 319,
    "start_time": "2023-01-04T13:26:21.974Z"
   },
   {
    "duration": 339,
    "start_time": "2023-01-04T13:26:32.158Z"
   },
   {
    "duration": 346,
    "start_time": "2023-01-04T13:26:44.710Z"
   },
   {
    "duration": 4,
    "start_time": "2023-01-04T13:27:32.190Z"
   },
   {
    "duration": 303,
    "start_time": "2023-01-04T13:27:32.950Z"
   },
   {
    "duration": 1043,
    "start_time": "2023-01-04T13:27:42.444Z"
   },
   {
    "duration": 52,
    "start_time": "2023-01-04T13:27:43.489Z"
   },
   {
    "duration": 17,
    "start_time": "2023-01-04T13:27:43.543Z"
   },
   {
    "duration": 19,
    "start_time": "2023-01-04T13:27:43.562Z"
   },
   {
    "duration": 3,
    "start_time": "2023-01-04T13:27:43.582Z"
   },
   {
    "duration": 32,
    "start_time": "2023-01-04T13:27:43.587Z"
   },
   {
    "duration": 5,
    "start_time": "2023-01-04T13:27:43.620Z"
   },
   {
    "duration": 8,
    "start_time": "2023-01-04T13:27:43.627Z"
   },
   {
    "duration": 12,
    "start_time": "2023-01-04T13:27:43.637Z"
   },
   {
    "duration": 4,
    "start_time": "2023-01-04T13:27:43.653Z"
   },
   {
    "duration": 17,
    "start_time": "2023-01-04T13:27:43.659Z"
   },
   {
    "duration": 30,
    "start_time": "2023-01-04T13:27:43.677Z"
   },
   {
    "duration": 178,
    "start_time": "2023-01-04T13:27:43.709Z"
   },
   {
    "duration": 21,
    "start_time": "2023-01-04T13:27:43.889Z"
   },
   {
    "duration": 160,
    "start_time": "2023-01-04T13:27:43.911Z"
   },
   {
    "duration": 3,
    "start_time": "2023-01-04T13:27:44.073Z"
   },
   {
    "duration": 1623,
    "start_time": "2023-01-04T13:27:44.077Z"
   },
   {
    "duration": 105,
    "start_time": "2023-01-04T13:27:45.701Z"
   },
   {
    "duration": 251,
    "start_time": "2023-01-04T13:27:45.807Z"
   },
   {
    "duration": 29,
    "start_time": "2023-01-04T13:27:46.060Z"
   },
   {
    "duration": 4,
    "start_time": "2023-01-04T13:27:46.090Z"
   },
   {
    "duration": 303,
    "start_time": "2023-01-04T13:27:46.095Z"
   },
   {
    "duration": 1308,
    "start_time": "2023-01-04T13:45:35.852Z"
   },
   {
    "duration": 11,
    "start_time": "2023-01-04T13:49:57.493Z"
   },
   {
    "duration": 14,
    "start_time": "2023-01-04T14:11:36.156Z"
   },
   {
    "duration": 13,
    "start_time": "2023-01-04T14:12:25.581Z"
   },
   {
    "duration": 108,
    "start_time": "2023-01-04T14:12:33.141Z"
   },
   {
    "duration": 90,
    "start_time": "2023-01-04T14:12:52.533Z"
   },
   {
    "duration": 295,
    "start_time": "2023-01-04T14:13:01.141Z"
   },
   {
    "duration": 372,
    "start_time": "2023-01-04T14:13:08.781Z"
   },
   {
    "duration": 276,
    "start_time": "2023-01-04T14:13:16.421Z"
   },
   {
    "duration": 298,
    "start_time": "2023-01-04T14:13:30.941Z"
   },
   {
    "duration": 293,
    "start_time": "2023-01-04T14:13:41.174Z"
   },
   {
    "duration": 128,
    "start_time": "2023-01-04T14:19:01.590Z"
   },
   {
    "duration": 13,
    "start_time": "2023-01-04T14:19:53.751Z"
   },
   {
    "duration": 260,
    "start_time": "2023-01-04T14:19:55.895Z"
   },
   {
    "duration": 176,
    "start_time": "2023-01-04T14:19:56.535Z"
   },
   {
    "duration": 165,
    "start_time": "2023-01-04T14:20:04.783Z"
   },
   {
    "duration": 177,
    "start_time": "2023-01-04T14:20:18.488Z"
   },
   {
    "duration": 59,
    "start_time": "2023-01-04T14:20:40.578Z"
   },
   {
    "duration": 169,
    "start_time": "2023-01-04T14:20:45.271Z"
   },
   {
    "duration": 167,
    "start_time": "2023-01-04T14:20:52.057Z"
   },
   {
    "duration": 1104,
    "start_time": "2023-01-04T14:21:35.664Z"
   },
   {
    "duration": 52,
    "start_time": "2023-01-04T14:21:36.770Z"
   },
   {
    "duration": 16,
    "start_time": "2023-01-04T14:21:36.823Z"
   },
   {
    "duration": 14,
    "start_time": "2023-01-04T14:21:36.840Z"
   },
   {
    "duration": 3,
    "start_time": "2023-01-04T14:21:36.856Z"
   },
   {
    "duration": 23,
    "start_time": "2023-01-04T14:21:36.860Z"
   },
   {
    "duration": 15,
    "start_time": "2023-01-04T14:21:36.884Z"
   },
   {
    "duration": 7,
    "start_time": "2023-01-04T14:21:36.901Z"
   },
   {
    "duration": 7,
    "start_time": "2023-01-04T14:21:36.910Z"
   },
   {
    "duration": 4,
    "start_time": "2023-01-04T14:21:36.919Z"
   },
   {
    "duration": 14,
    "start_time": "2023-01-04T14:21:36.924Z"
   },
   {
    "duration": 14,
    "start_time": "2023-01-04T14:21:36.939Z"
   },
   {
    "duration": 189,
    "start_time": "2023-01-04T14:21:36.954Z"
   },
   {
    "duration": 15,
    "start_time": "2023-01-04T14:21:37.146Z"
   },
   {
    "duration": 152,
    "start_time": "2023-01-04T14:21:37.162Z"
   },
   {
    "duration": 3,
    "start_time": "2023-01-04T14:21:37.315Z"
   },
   {
    "duration": 1493,
    "start_time": "2023-01-04T14:21:37.319Z"
   },
   {
    "duration": 106,
    "start_time": "2023-01-04T14:21:38.814Z"
   },
   {
    "duration": 249,
    "start_time": "2023-01-04T14:21:38.921Z"
   },
   {
    "duration": 28,
    "start_time": "2023-01-04T14:21:39.172Z"
   },
   {
    "duration": 4,
    "start_time": "2023-01-04T14:21:39.201Z"
   },
   {
    "duration": 294,
    "start_time": "2023-01-04T14:21:39.206Z"
   },
   {
    "duration": 1335,
    "start_time": "2023-01-04T14:21:39.502Z"
   },
   {
    "duration": 11,
    "start_time": "2023-01-04T14:21:40.839Z"
   },
   {
    "duration": 34,
    "start_time": "2023-01-04T14:21:40.851Z"
   },
   {
    "duration": 166,
    "start_time": "2023-01-04T14:21:40.886Z"
   },
   {
    "duration": 4,
    "start_time": "2023-01-04T14:27:38.283Z"
   },
   {
    "duration": 450,
    "start_time": "2023-01-04T14:27:41.345Z"
   },
   {
    "duration": 4,
    "start_time": "2023-01-04T14:28:33.778Z"
   },
   {
    "duration": 4,
    "start_time": "2023-01-04T14:28:45.658Z"
   },
   {
    "duration": 4,
    "start_time": "2023-01-04T14:28:49.330Z"
   },
   {
    "duration": 400,
    "start_time": "2023-01-04T14:28:49.778Z"
   },
   {
    "duration": 53,
    "start_time": "2023-01-04T14:29:19.002Z"
   },
   {
    "duration": 4,
    "start_time": "2023-01-04T14:29:26.090Z"
   },
   {
    "duration": 343,
    "start_time": "2023-01-04T14:29:27.026Z"
   },
   {
    "duration": 4,
    "start_time": "2023-01-04T14:29:40.330Z"
   },
   {
    "duration": 362,
    "start_time": "2023-01-04T14:29:40.690Z"
   },
   {
    "duration": 5,
    "start_time": "2023-01-04T14:30:40.114Z"
   },
   {
    "duration": 369,
    "start_time": "2023-01-04T14:30:40.515Z"
   },
   {
    "duration": 4,
    "start_time": "2023-01-04T14:31:40.610Z"
   },
   {
    "duration": 322,
    "start_time": "2023-01-04T14:31:47.042Z"
   },
   {
    "duration": 4,
    "start_time": "2023-01-04T14:32:04.588Z"
   },
   {
    "duration": 490,
    "start_time": "2023-01-04T14:32:05.220Z"
   },
   {
    "duration": 4,
    "start_time": "2023-01-04T14:32:28.732Z"
   },
   {
    "duration": 352,
    "start_time": "2023-01-04T14:32:29.172Z"
   },
   {
    "duration": 4,
    "start_time": "2023-01-04T14:33:35.924Z"
   },
   {
    "duration": 355,
    "start_time": "2023-01-04T14:33:36.330Z"
   },
   {
    "duration": 5,
    "start_time": "2023-01-04T14:33:44.067Z"
   },
   {
    "duration": 416,
    "start_time": "2023-01-04T14:33:44.452Z"
   },
   {
    "duration": 4,
    "start_time": "2023-01-04T14:34:03.621Z"
   },
   {
    "duration": 394,
    "start_time": "2023-01-04T14:34:05.756Z"
   },
   {
    "duration": 5,
    "start_time": "2023-01-04T14:34:29.987Z"
   },
   {
    "duration": 485,
    "start_time": "2023-01-04T14:34:30.299Z"
   },
   {
    "duration": 4,
    "start_time": "2023-01-04T14:34:58.924Z"
   },
   {
    "duration": 359,
    "start_time": "2023-01-04T14:35:00.739Z"
   },
   {
    "duration": 5,
    "start_time": "2023-01-04T14:35:18.981Z"
   },
   {
    "duration": 388,
    "start_time": "2023-01-04T14:35:19.324Z"
   },
   {
    "duration": 5,
    "start_time": "2023-01-04T14:35:32.060Z"
   },
   {
    "duration": 358,
    "start_time": "2023-01-04T14:35:32.317Z"
   },
   {
    "duration": 5,
    "start_time": "2023-01-04T14:35:43.819Z"
   },
   {
    "duration": 355,
    "start_time": "2023-01-04T14:35:44.139Z"
   },
   {
    "duration": 4,
    "start_time": "2023-01-04T14:37:23.156Z"
   },
   {
    "duration": 362,
    "start_time": "2023-01-04T14:37:23.492Z"
   },
   {
    "duration": 4,
    "start_time": "2023-01-04T14:37:32.276Z"
   },
   {
    "duration": 457,
    "start_time": "2023-01-04T14:37:32.638Z"
   },
   {
    "duration": 4,
    "start_time": "2023-01-04T14:37:39.414Z"
   },
   {
    "duration": 380,
    "start_time": "2023-01-04T14:37:39.821Z"
   },
   {
    "duration": 4,
    "start_time": "2023-01-04T14:38:23.661Z"
   },
   {
    "duration": 366,
    "start_time": "2023-01-04T14:38:24.171Z"
   },
   {
    "duration": 4,
    "start_time": "2023-01-04T14:39:27.701Z"
   },
   {
    "duration": 378,
    "start_time": "2023-01-04T14:39:28.125Z"
   },
   {
    "duration": 4,
    "start_time": "2023-01-04T14:39:41.437Z"
   },
   {
    "duration": 365,
    "start_time": "2023-01-04T14:39:41.937Z"
   },
   {
    "duration": 437,
    "start_time": "2023-01-04T14:43:46.342Z"
   },
   {
    "duration": 9,
    "start_time": "2023-01-04T14:46:57.447Z"
   },
   {
    "duration": 11,
    "start_time": "2023-01-04T14:47:17.864Z"
   },
   {
    "duration": 14,
    "start_time": "2023-01-04T14:47:58.642Z"
   },
   {
    "duration": 9,
    "start_time": "2023-01-04T14:51:28.169Z"
   },
   {
    "duration": 10,
    "start_time": "2023-01-04T14:51:45.058Z"
   },
   {
    "duration": 15,
    "start_time": "2023-01-04T14:52:19.907Z"
   },
   {
    "duration": 4,
    "start_time": "2023-01-04T14:59:47.468Z"
   },
   {
    "duration": 9,
    "start_time": "2023-01-04T15:08:16.455Z"
   },
   {
    "duration": 9,
    "start_time": "2023-01-04T15:08:31.455Z"
   },
   {
    "duration": 5,
    "start_time": "2023-01-04T15:09:14.848Z"
   },
   {
    "duration": 1139,
    "start_time": "2023-01-04T15:21:57.576Z"
   },
   {
    "duration": 52,
    "start_time": "2023-01-04T15:21:58.718Z"
   },
   {
    "duration": 19,
    "start_time": "2023-01-04T15:21:58.772Z"
   },
   {
    "duration": 16,
    "start_time": "2023-01-04T15:21:58.793Z"
   },
   {
    "duration": 18,
    "start_time": "2023-01-04T15:21:58.810Z"
   },
   {
    "duration": 27,
    "start_time": "2023-01-04T15:21:58.830Z"
   },
   {
    "duration": 4,
    "start_time": "2023-01-04T15:21:58.858Z"
   },
   {
    "duration": 12,
    "start_time": "2023-01-04T15:21:58.863Z"
   },
   {
    "duration": 19,
    "start_time": "2023-01-04T15:21:58.876Z"
   },
   {
    "duration": 15,
    "start_time": "2023-01-04T15:21:58.897Z"
   },
   {
    "duration": 28,
    "start_time": "2023-01-04T15:21:58.914Z"
   },
   {
    "duration": 25,
    "start_time": "2023-01-04T15:21:58.943Z"
   },
   {
    "duration": 194,
    "start_time": "2023-01-04T15:21:58.970Z"
   },
   {
    "duration": 16,
    "start_time": "2023-01-04T15:21:59.166Z"
   },
   {
    "duration": 159,
    "start_time": "2023-01-04T15:21:59.183Z"
   },
   {
    "duration": 3,
    "start_time": "2023-01-04T15:21:59.344Z"
   },
   {
    "duration": 1608,
    "start_time": "2023-01-04T15:21:59.348Z"
   },
   {
    "duration": 110,
    "start_time": "2023-01-04T15:22:00.958Z"
   },
   {
    "duration": 264,
    "start_time": "2023-01-04T15:22:01.070Z"
   },
   {
    "duration": 33,
    "start_time": "2023-01-04T15:22:01.335Z"
   },
   {
    "duration": 53,
    "start_time": "2023-01-04T15:22:01.370Z"
   },
   {
    "duration": 336,
    "start_time": "2023-01-04T15:22:01.425Z"
   },
   {
    "duration": 1413,
    "start_time": "2023-01-04T15:22:01.763Z"
   },
   {
    "duration": 21,
    "start_time": "2023-01-04T15:22:03.178Z"
   },
   {
    "duration": 22,
    "start_time": "2023-01-04T15:22:03.200Z"
   },
   {
    "duration": 166,
    "start_time": "2023-01-04T15:22:03.224Z"
   },
   {
    "duration": 4,
    "start_time": "2023-01-04T15:22:03.397Z"
   },
   {
    "duration": 463,
    "start_time": "2023-01-04T15:22:03.404Z"
   },
   {
    "duration": 404,
    "start_time": "2023-01-04T15:22:03.869Z"
   },
   {
    "duration": 27,
    "start_time": "2023-01-04T15:22:04.275Z"
   },
   {
    "duration": 8,
    "start_time": "2023-01-04T15:22:04.304Z"
   },
   {
    "duration": 8,
    "start_time": "2023-01-04T15:22:04.313Z"
   },
   {
    "duration": 21,
    "start_time": "2023-01-04T15:22:04.323Z"
   },
   {
    "duration": 6,
    "start_time": "2023-01-04T15:22:04.346Z"
   },
   {
    "duration": 4,
    "start_time": "2023-01-04T15:54:39.356Z"
   },
   {
    "duration": 3,
    "start_time": "2023-01-04T15:54:55.589Z"
   },
   {
    "duration": 1273,
    "start_time": "2023-01-04T16:21:52.268Z"
   },
   {
    "duration": 66,
    "start_time": "2023-01-04T16:21:53.544Z"
   },
   {
    "duration": 20,
    "start_time": "2023-01-04T16:21:53.612Z"
   },
   {
    "duration": 20,
    "start_time": "2023-01-04T16:21:53.634Z"
   },
   {
    "duration": 4,
    "start_time": "2023-01-04T16:21:53.664Z"
   },
   {
    "duration": 31,
    "start_time": "2023-01-04T16:21:53.671Z"
   },
   {
    "duration": 4,
    "start_time": "2023-01-04T16:21:53.704Z"
   },
   {
    "duration": 10,
    "start_time": "2023-01-04T16:21:53.710Z"
   },
   {
    "duration": 11,
    "start_time": "2023-01-04T16:21:53.722Z"
   },
   {
    "duration": 30,
    "start_time": "2023-01-04T16:21:53.735Z"
   },
   {
    "duration": 23,
    "start_time": "2023-01-04T16:21:53.768Z"
   },
   {
    "duration": 18,
    "start_time": "2023-01-04T16:21:53.794Z"
   },
   {
    "duration": 224,
    "start_time": "2023-01-04T16:21:53.814Z"
   },
   {
    "duration": 32,
    "start_time": "2023-01-04T16:21:54.041Z"
   },
   {
    "duration": 204,
    "start_time": "2023-01-04T16:21:54.075Z"
   },
   {
    "duration": 4,
    "start_time": "2023-01-04T16:21:54.281Z"
   },
   {
    "duration": 1963,
    "start_time": "2023-01-04T16:21:54.287Z"
   },
   {
    "duration": 138,
    "start_time": "2023-01-04T16:21:56.252Z"
   },
   {
    "duration": 340,
    "start_time": "2023-01-04T16:21:56.392Z"
   },
   {
    "duration": 40,
    "start_time": "2023-01-04T16:21:56.734Z"
   },
   {
    "duration": 4,
    "start_time": "2023-01-04T16:21:56.776Z"
   },
   {
    "duration": 400,
    "start_time": "2023-01-04T16:21:56.782Z"
   },
   {
    "duration": 1806,
    "start_time": "2023-01-04T16:21:57.184Z"
   },
   {
    "duration": 14,
    "start_time": "2023-01-04T16:21:58.992Z"
   },
   {
    "duration": 19,
    "start_time": "2023-01-04T16:21:59.008Z"
   },
   {
    "duration": 251,
    "start_time": "2023-01-04T16:21:59.028Z"
   },
   {
    "duration": 5,
    "start_time": "2023-01-04T16:21:59.280Z"
   },
   {
    "duration": 687,
    "start_time": "2023-01-04T16:21:59.287Z"
   },
   {
    "duration": 496,
    "start_time": "2023-01-04T16:21:59.976Z"
   },
   {
    "duration": 19,
    "start_time": "2023-01-04T16:22:00.474Z"
   },
   {
    "duration": 11,
    "start_time": "2023-01-04T16:22:00.495Z"
   },
   {
    "duration": 7,
    "start_time": "2023-01-04T16:22:00.508Z"
   },
   {
    "duration": 50,
    "start_time": "2023-01-04T16:22:00.517Z"
   },
   {
    "duration": 16,
    "start_time": "2023-01-04T16:22:00.569Z"
   },
   {
    "duration": 46,
    "start_time": "2023-01-05T09:48:33.335Z"
   },
   {
    "duration": 1318,
    "start_time": "2023-01-05T09:48:38.686Z"
   },
   {
    "duration": 179,
    "start_time": "2023-01-05T09:48:40.006Z"
   },
   {
    "duration": 18,
    "start_time": "2023-01-05T09:48:40.187Z"
   },
   {
    "duration": 15,
    "start_time": "2023-01-05T09:48:40.206Z"
   },
   {
    "duration": 4,
    "start_time": "2023-01-05T09:48:40.223Z"
   },
   {
    "duration": 23,
    "start_time": "2023-01-05T09:48:40.228Z"
   },
   {
    "duration": 4,
    "start_time": "2023-01-05T09:48:40.253Z"
   },
   {
    "duration": 7,
    "start_time": "2023-01-05T09:48:40.258Z"
   },
   {
    "duration": 8,
    "start_time": "2023-01-05T09:48:40.267Z"
   },
   {
    "duration": 5,
    "start_time": "2023-01-05T09:48:40.276Z"
   },
   {
    "duration": 50,
    "start_time": "2023-01-05T09:48:40.282Z"
   },
   {
    "duration": 23,
    "start_time": "2023-01-05T09:48:40.334Z"
   },
   {
    "duration": 15,
    "start_time": "2023-01-05T09:48:40.359Z"
   },
   {
    "duration": 204,
    "start_time": "2023-01-05T09:48:40.377Z"
   },
   {
    "duration": 17,
    "start_time": "2023-01-05T09:48:40.583Z"
   },
   {
    "duration": 169,
    "start_time": "2023-01-05T09:48:40.601Z"
   },
   {
    "duration": 3,
    "start_time": "2023-01-05T09:48:40.772Z"
   },
   {
    "duration": 1755,
    "start_time": "2023-01-05T09:48:40.776Z"
   },
   {
    "duration": 117,
    "start_time": "2023-01-05T09:48:42.533Z"
   },
   {
    "duration": 291,
    "start_time": "2023-01-05T09:48:42.652Z"
   },
   {
    "duration": 32,
    "start_time": "2023-01-05T09:48:42.945Z"
   },
   {
    "duration": 4,
    "start_time": "2023-01-05T09:48:42.979Z"
   },
   {
    "duration": 314,
    "start_time": "2023-01-05T09:48:42.984Z"
   },
   {
    "duration": 1600,
    "start_time": "2023-01-05T09:48:43.300Z"
   },
   {
    "duration": 11,
    "start_time": "2023-01-05T09:48:44.902Z"
   },
   {
    "duration": 19,
    "start_time": "2023-01-05T09:48:44.922Z"
   },
   {
    "duration": 193,
    "start_time": "2023-01-05T09:48:44.942Z"
   },
   {
    "duration": 3,
    "start_time": "2023-01-05T09:48:45.137Z"
   },
   {
    "duration": 495,
    "start_time": "2023-01-05T09:48:45.142Z"
   },
   {
    "duration": 416,
    "start_time": "2023-01-05T09:48:45.639Z"
   },
   {
    "duration": 16,
    "start_time": "2023-01-05T09:48:46.057Z"
   },
   {
    "duration": 9,
    "start_time": "2023-01-05T09:48:46.074Z"
   },
   {
    "duration": 5,
    "start_time": "2023-01-05T09:48:46.084Z"
   },
   {
    "duration": 33,
    "start_time": "2023-01-05T09:48:46.090Z"
   },
   {
    "duration": 5,
    "start_time": "2023-01-05T09:48:46.124Z"
   },
   {
    "duration": 13,
    "start_time": "2023-01-05T09:48:56.229Z"
   },
   {
    "duration": 1114,
    "start_time": "2023-01-05T09:49:01.197Z"
   },
   {
    "duration": 57,
    "start_time": "2023-01-05T09:49:02.313Z"
   },
   {
    "duration": 19,
    "start_time": "2023-01-05T09:49:02.372Z"
   },
   {
    "duration": 18,
    "start_time": "2023-01-05T09:49:02.393Z"
   },
   {
    "duration": 3,
    "start_time": "2023-01-05T09:49:02.412Z"
   },
   {
    "duration": 21,
    "start_time": "2023-01-05T09:49:02.417Z"
   },
   {
    "duration": 4,
    "start_time": "2023-01-05T09:49:02.439Z"
   },
   {
    "duration": 8,
    "start_time": "2023-01-05T09:49:02.444Z"
   },
   {
    "duration": 9,
    "start_time": "2023-01-05T09:49:02.453Z"
   },
   {
    "duration": 5,
    "start_time": "2023-01-05T09:49:02.464Z"
   },
   {
    "duration": 17,
    "start_time": "2023-01-05T09:49:02.471Z"
   },
   {
    "duration": 38,
    "start_time": "2023-01-05T09:49:02.490Z"
   },
   {
    "duration": 13,
    "start_time": "2023-01-05T09:49:02.530Z"
   },
   {
    "duration": 194,
    "start_time": "2023-01-05T09:49:02.545Z"
   },
   {
    "duration": 17,
    "start_time": "2023-01-05T09:49:02.741Z"
   },
   {
    "duration": 164,
    "start_time": "2023-01-05T09:49:02.760Z"
   },
   {
    "duration": 3,
    "start_time": "2023-01-05T09:49:02.926Z"
   },
   {
    "duration": 1706,
    "start_time": "2023-01-05T09:49:02.931Z"
   },
   {
    "duration": 117,
    "start_time": "2023-01-05T09:49:04.638Z"
   },
   {
    "duration": 275,
    "start_time": "2023-01-05T09:49:04.756Z"
   },
   {
    "duration": 32,
    "start_time": "2023-01-05T09:49:05.033Z"
   },
   {
    "duration": 4,
    "start_time": "2023-01-05T09:49:05.066Z"
   },
   {
    "duration": 337,
    "start_time": "2023-01-05T09:49:05.071Z"
   },
   {
    "duration": 1468,
    "start_time": "2023-01-05T09:49:05.410Z"
   },
   {
    "duration": 12,
    "start_time": "2023-01-05T09:49:06.880Z"
   },
   {
    "duration": 34,
    "start_time": "2023-01-05T09:49:06.893Z"
   },
   {
    "duration": 187,
    "start_time": "2023-01-05T09:49:06.929Z"
   },
   {
    "duration": 4,
    "start_time": "2023-01-05T09:49:07.119Z"
   },
   {
    "duration": 517,
    "start_time": "2023-01-05T09:49:07.125Z"
   },
   {
    "duration": 409,
    "start_time": "2023-01-05T09:49:07.644Z"
   },
   {
    "duration": 17,
    "start_time": "2023-01-05T09:49:08.055Z"
   },
   {
    "duration": 17,
    "start_time": "2023-01-05T09:49:08.074Z"
   },
   {
    "duration": 16,
    "start_time": "2023-01-05T09:49:08.093Z"
   },
   {
    "duration": 17,
    "start_time": "2023-01-05T09:49:08.111Z"
   },
   {
    "duration": 15,
    "start_time": "2023-01-05T09:49:08.130Z"
   },
   {
    "duration": 19,
    "start_time": "2023-01-05T10:03:29.500Z"
   },
   {
    "duration": 18,
    "start_time": "2023-01-05T10:05:08.115Z"
   },
   {
    "duration": 1167,
    "start_time": "2023-01-05T10:05:12.690Z"
   },
   {
    "duration": 54,
    "start_time": "2023-01-05T10:05:13.860Z"
   },
   {
    "duration": 19,
    "start_time": "2023-01-05T10:05:13.916Z"
   },
   {
    "duration": 18,
    "start_time": "2023-01-05T10:05:13.936Z"
   },
   {
    "duration": 4,
    "start_time": "2023-01-05T10:05:13.956Z"
   },
   {
    "duration": 24,
    "start_time": "2023-01-05T10:05:13.961Z"
   },
   {
    "duration": 4,
    "start_time": "2023-01-05T10:05:13.987Z"
   },
   {
    "duration": 9,
    "start_time": "2023-01-05T10:05:13.992Z"
   },
   {
    "duration": 10,
    "start_time": "2023-01-05T10:05:14.023Z"
   },
   {
    "duration": 11,
    "start_time": "2023-01-05T10:05:14.037Z"
   },
   {
    "duration": 42,
    "start_time": "2023-01-05T10:05:14.050Z"
   },
   {
    "duration": 26,
    "start_time": "2023-01-05T10:05:14.094Z"
   },
   {
    "duration": 18,
    "start_time": "2023-01-05T10:05:14.123Z"
   },
   {
    "duration": 226,
    "start_time": "2023-01-05T10:05:14.143Z"
   },
   {
    "duration": 22,
    "start_time": "2023-01-05T10:05:14.370Z"
   },
   {
    "duration": 181,
    "start_time": "2023-01-05T10:05:14.394Z"
   },
   {
    "duration": 4,
    "start_time": "2023-01-05T10:05:14.577Z"
   },
   {
    "duration": 1867,
    "start_time": "2023-01-05T10:05:14.583Z"
   },
   {
    "duration": 23,
    "start_time": "2023-01-05T10:05:16.452Z"
   },
   {
    "duration": 374,
    "start_time": "2023-01-05T10:05:16.477Z"
   },
   {
    "duration": 42,
    "start_time": "2023-01-05T10:05:16.853Z"
   },
   {
    "duration": 5,
    "start_time": "2023-01-05T10:05:16.897Z"
   },
   {
    "duration": 427,
    "start_time": "2023-01-05T10:05:16.903Z"
   },
   {
    "duration": 1611,
    "start_time": "2023-01-05T10:05:17.332Z"
   },
   {
    "duration": 11,
    "start_time": "2023-01-05T10:05:18.945Z"
   },
   {
    "duration": 21,
    "start_time": "2023-01-05T10:05:18.958Z"
   },
   {
    "duration": 283,
    "start_time": "2023-01-05T10:05:18.981Z"
   },
   {
    "duration": 5,
    "start_time": "2023-01-05T10:05:19.268Z"
   },
   {
    "duration": 613,
    "start_time": "2023-01-05T10:05:19.275Z"
   },
   {
    "duration": 476,
    "start_time": "2023-01-05T10:05:19.889Z"
   },
   {
    "duration": 25,
    "start_time": "2023-01-05T10:05:20.367Z"
   },
   {
    "duration": 9,
    "start_time": "2023-01-05T10:05:20.394Z"
   },
   {
    "duration": 50,
    "start_time": "2023-01-05T10:05:20.404Z"
   },
   {
    "duration": 11,
    "start_time": "2023-01-05T10:05:20.456Z"
   },
   {
    "duration": 6,
    "start_time": "2023-01-05T10:05:20.469Z"
   },
   {
    "duration": 50,
    "start_time": "2023-01-05T10:05:43.715Z"
   },
   {
    "duration": 27,
    "start_time": "2023-01-05T10:06:02.692Z"
   },
   {
    "duration": 1205,
    "start_time": "2023-01-05T10:06:12.995Z"
   },
   {
    "duration": 59,
    "start_time": "2023-01-05T10:06:14.202Z"
   },
   {
    "duration": 23,
    "start_time": "2023-01-05T10:06:14.263Z"
   },
   {
    "duration": 41,
    "start_time": "2023-01-05T10:06:14.290Z"
   },
   {
    "duration": 81,
    "start_time": "2023-01-05T10:06:14.335Z"
   },
   {
    "duration": 3,
    "start_time": "2023-01-05T10:06:14.417Z"
   },
   {
    "duration": 49,
    "start_time": "2023-01-05T10:06:14.422Z"
   },
   {
    "duration": 27,
    "start_time": "2023-01-05T10:06:14.473Z"
   },
   {
    "duration": 41,
    "start_time": "2023-01-05T10:06:14.502Z"
   },
   {
    "duration": 43,
    "start_time": "2023-01-05T10:06:14.546Z"
   },
   {
    "duration": 29,
    "start_time": "2023-01-05T10:06:14.592Z"
   },
   {
    "duration": 41,
    "start_time": "2023-01-05T10:06:14.623Z"
   },
   {
    "duration": 46,
    "start_time": "2023-01-05T10:06:14.665Z"
   },
   {
    "duration": 57,
    "start_time": "2023-01-05T10:06:14.713Z"
   },
   {
    "duration": 221,
    "start_time": "2023-01-05T10:06:14.771Z"
   },
   {
    "duration": 29,
    "start_time": "2023-01-05T10:06:14.994Z"
   },
   {
    "duration": 176,
    "start_time": "2023-01-05T10:06:15.024Z"
   },
   {
    "duration": 3,
    "start_time": "2023-01-05T10:06:15.201Z"
   },
   {
    "duration": 1920,
    "start_time": "2023-01-05T10:06:15.206Z"
   },
   {
    "duration": 26,
    "start_time": "2023-01-05T10:06:17.127Z"
   },
   {
    "duration": 301,
    "start_time": "2023-01-05T10:06:17.155Z"
   },
   {
    "duration": 35,
    "start_time": "2023-01-05T10:06:17.458Z"
   },
   {
    "duration": 5,
    "start_time": "2023-01-05T10:06:17.495Z"
   },
   {
    "duration": 347,
    "start_time": "2023-01-05T10:06:17.502Z"
   },
   {
    "duration": 1604,
    "start_time": "2023-01-05T10:06:17.852Z"
   },
   {
    "duration": 12,
    "start_time": "2023-01-05T10:06:19.458Z"
   },
   {
    "duration": 30,
    "start_time": "2023-01-05T10:06:19.472Z"
   },
   {
    "duration": 218,
    "start_time": "2023-01-05T10:06:19.506Z"
   },
   {
    "duration": 5,
    "start_time": "2023-01-05T10:06:19.726Z"
   },
   {
    "duration": 598,
    "start_time": "2023-01-05T10:06:19.732Z"
   },
   {
    "duration": 425,
    "start_time": "2023-01-05T10:06:20.332Z"
   },
   {
    "duration": 26,
    "start_time": "2023-01-05T10:06:20.759Z"
   },
   {
    "duration": 14,
    "start_time": "2023-01-05T10:06:20.787Z"
   },
   {
    "duration": 6,
    "start_time": "2023-01-05T10:06:20.823Z"
   },
   {
    "duration": 15,
    "start_time": "2023-01-05T10:06:20.831Z"
   },
   {
    "duration": 6,
    "start_time": "2023-01-05T10:06:20.848Z"
   },
   {
    "duration": 1229,
    "start_time": "2023-01-05T10:10:57.497Z"
   },
   {
    "duration": 51,
    "start_time": "2023-01-05T10:10:58.728Z"
   },
   {
    "duration": 18,
    "start_time": "2023-01-05T10:10:58.781Z"
   },
   {
    "duration": 14,
    "start_time": "2023-01-05T10:10:58.801Z"
   },
   {
    "duration": 58,
    "start_time": "2023-01-05T10:10:58.817Z"
   },
   {
    "duration": 3,
    "start_time": "2023-01-05T10:10:58.877Z"
   },
   {
    "duration": 46,
    "start_time": "2023-01-05T10:10:58.882Z"
   },
   {
    "duration": 11,
    "start_time": "2023-01-05T10:10:58.930Z"
   },
   {
    "duration": 28,
    "start_time": "2023-01-05T10:10:58.943Z"
   },
   {
    "duration": 28,
    "start_time": "2023-01-05T10:10:58.974Z"
   },
   {
    "duration": 16,
    "start_time": "2023-01-05T10:10:59.004Z"
   },
   {
    "duration": 41,
    "start_time": "2023-01-05T10:10:59.023Z"
   },
   {
    "duration": 33,
    "start_time": "2023-01-05T10:10:59.066Z"
   },
   {
    "duration": 19,
    "start_time": "2023-01-05T10:10:59.101Z"
   },
   {
    "duration": 239,
    "start_time": "2023-01-05T10:10:59.122Z"
   },
   {
    "duration": 22,
    "start_time": "2023-01-05T10:10:59.363Z"
   },
   {
    "duration": 190,
    "start_time": "2023-01-05T10:10:59.388Z"
   },
   {
    "duration": 4,
    "start_time": "2023-01-05T10:10:59.580Z"
   },
   {
    "duration": 2036,
    "start_time": "2023-01-05T10:10:59.586Z"
   },
   {
    "duration": 33,
    "start_time": "2023-01-05T10:11:01.624Z"
   },
   {
    "duration": 282,
    "start_time": "2023-01-05T10:11:01.660Z"
   },
   {
    "duration": 33,
    "start_time": "2023-01-05T10:11:01.944Z"
   },
   {
    "duration": 25,
    "start_time": "2023-01-05T10:11:01.979Z"
   },
   {
    "duration": 290,
    "start_time": "2023-01-05T10:11:02.005Z"
   },
   {
    "duration": 1649,
    "start_time": "2023-01-05T10:11:02.298Z"
   },
   {
    "duration": 13,
    "start_time": "2023-01-05T10:11:03.949Z"
   },
   {
    "duration": 21,
    "start_time": "2023-01-05T10:11:03.963Z"
   },
   {
    "duration": 245,
    "start_time": "2023-01-05T10:11:03.987Z"
   },
   {
    "duration": 7,
    "start_time": "2023-01-05T10:11:04.235Z"
   },
   {
    "duration": 603,
    "start_time": "2023-01-05T10:11:04.244Z"
   },
   {
    "duration": 446,
    "start_time": "2023-01-05T10:11:04.850Z"
   },
   {
    "duration": 26,
    "start_time": "2023-01-05T10:11:05.299Z"
   },
   {
    "duration": 14,
    "start_time": "2023-01-05T10:11:05.327Z"
   },
   {
    "duration": 14,
    "start_time": "2023-01-05T10:11:05.343Z"
   },
   {
    "duration": 16,
    "start_time": "2023-01-05T10:11:05.358Z"
   },
   {
    "duration": 10,
    "start_time": "2023-01-05T10:11:05.376Z"
   },
   {
    "duration": 1159,
    "start_time": "2023-01-05T10:18:33.217Z"
   },
   {
    "duration": 50,
    "start_time": "2023-01-05T10:18:34.378Z"
   },
   {
    "duration": 17,
    "start_time": "2023-01-05T10:18:34.430Z"
   },
   {
    "duration": 17,
    "start_time": "2023-01-05T10:18:34.449Z"
   },
   {
    "duration": 64,
    "start_time": "2023-01-05T10:18:34.467Z"
   },
   {
    "duration": 3,
    "start_time": "2023-01-05T10:18:34.532Z"
   },
   {
    "duration": 32,
    "start_time": "2023-01-05T10:18:34.537Z"
   },
   {
    "duration": 22,
    "start_time": "2023-01-05T10:18:34.570Z"
   },
   {
    "duration": 24,
    "start_time": "2023-01-05T10:18:34.594Z"
   },
   {
    "duration": 24,
    "start_time": "2023-01-05T10:18:34.620Z"
   },
   {
    "duration": 12,
    "start_time": "2023-01-05T10:18:34.646Z"
   },
   {
    "duration": 30,
    "start_time": "2023-01-05T10:18:34.659Z"
   },
   {
    "duration": 30,
    "start_time": "2023-01-05T10:18:34.691Z"
   },
   {
    "duration": 26,
    "start_time": "2023-01-05T10:18:34.722Z"
   },
   {
    "duration": 199,
    "start_time": "2023-01-05T10:18:34.750Z"
   },
   {
    "duration": 21,
    "start_time": "2023-01-05T10:18:34.950Z"
   },
   {
    "duration": 161,
    "start_time": "2023-01-05T10:18:34.972Z"
   },
   {
    "duration": 4,
    "start_time": "2023-01-05T10:18:35.134Z"
   },
   {
    "duration": 1778,
    "start_time": "2023-01-05T10:18:35.139Z"
   },
   {
    "duration": 22,
    "start_time": "2023-01-05T10:18:36.922Z"
   },
   {
    "duration": 249,
    "start_time": "2023-01-05T10:18:36.946Z"
   },
   {
    "duration": 41,
    "start_time": "2023-01-05T10:18:37.197Z"
   },
   {
    "duration": 5,
    "start_time": "2023-01-05T10:18:37.240Z"
   },
   {
    "duration": 289,
    "start_time": "2023-01-05T10:18:37.246Z"
   },
   {
    "duration": 1511,
    "start_time": "2023-01-05T10:18:37.537Z"
   },
   {
    "duration": 12,
    "start_time": "2023-01-05T10:18:39.050Z"
   },
   {
    "duration": 18,
    "start_time": "2023-01-05T10:18:39.063Z"
   },
   {
    "duration": 191,
    "start_time": "2023-01-05T10:18:39.084Z"
   },
   {
    "duration": 5,
    "start_time": "2023-01-05T10:18:39.276Z"
   },
   {
    "duration": 531,
    "start_time": "2023-01-05T10:18:39.282Z"
   },
   {
    "duration": 394,
    "start_time": "2023-01-05T10:18:39.821Z"
   },
   {
    "duration": 17,
    "start_time": "2023-01-05T10:18:40.217Z"
   },
   {
    "duration": 9,
    "start_time": "2023-01-05T10:18:40.236Z"
   },
   {
    "duration": 8,
    "start_time": "2023-01-05T10:18:40.247Z"
   },
   {
    "duration": 10,
    "start_time": "2023-01-05T10:18:40.256Z"
   },
   {
    "duration": 5,
    "start_time": "2023-01-05T10:18:40.267Z"
   },
   {
    "duration": 4,
    "start_time": "2023-01-05T10:39:10.087Z"
   },
   {
    "duration": 22,
    "start_time": "2023-01-05T10:39:47.034Z"
   },
   {
    "duration": 9,
    "start_time": "2023-01-05T10:40:00.056Z"
   },
   {
    "duration": 7,
    "start_time": "2023-01-05T10:40:11.512Z"
   },
   {
    "duration": 95,
    "start_time": "2023-01-05T10:40:45.184Z"
   },
   {
    "duration": 8,
    "start_time": "2023-01-05T10:40:50.520Z"
   },
   {
    "duration": 7,
    "start_time": "2023-01-05T10:40:57.185Z"
   },
   {
    "duration": 5,
    "start_time": "2023-01-05T10:41:23.192Z"
   },
   {
    "duration": 7,
    "start_time": "2023-01-05T10:41:32.031Z"
   },
   {
    "duration": 7,
    "start_time": "2023-01-05T10:41:44.528Z"
   },
   {
    "duration": 15,
    "start_time": "2023-01-05T10:42:17.417Z"
   },
   {
    "duration": 29,
    "start_time": "2023-01-05T10:42:26.225Z"
   },
   {
    "duration": 28,
    "start_time": "2023-01-05T10:43:54.825Z"
   },
   {
    "duration": 33,
    "start_time": "2023-01-05T10:44:15.921Z"
   },
   {
    "duration": 4,
    "start_time": "2023-01-05T10:46:33.955Z"
   },
   {
    "duration": 95,
    "start_time": "2023-01-05T10:47:35.357Z"
   },
   {
    "duration": 1349,
    "start_time": "2023-01-05T10:47:43.051Z"
   },
   {
    "duration": 1143,
    "start_time": "2023-01-05T10:48:05.520Z"
   },
   {
    "duration": 52,
    "start_time": "2023-01-05T10:48:06.665Z"
   },
   {
    "duration": 19,
    "start_time": "2023-01-05T10:48:06.719Z"
   },
   {
    "duration": 13,
    "start_time": "2023-01-05T10:48:06.740Z"
   },
   {
    "duration": 68,
    "start_time": "2023-01-05T10:48:06.755Z"
   },
   {
    "duration": 3,
    "start_time": "2023-01-05T10:48:06.824Z"
   },
   {
    "duration": 22,
    "start_time": "2023-01-05T10:48:06.829Z"
   },
   {
    "duration": 3,
    "start_time": "2023-01-05T10:48:06.853Z"
   },
   {
    "duration": 9,
    "start_time": "2023-01-05T10:48:06.858Z"
   },
   {
    "duration": 9,
    "start_time": "2023-01-05T10:48:06.869Z"
   },
   {
    "duration": 10,
    "start_time": "2023-01-05T10:48:06.879Z"
   },
   {
    "duration": 33,
    "start_time": "2023-01-05T10:48:06.890Z"
   },
   {
    "duration": 15,
    "start_time": "2023-01-05T10:48:06.924Z"
   },
   {
    "duration": 14,
    "start_time": "2023-01-05T10:48:06.940Z"
   },
   {
    "duration": 205,
    "start_time": "2023-01-05T10:48:06.956Z"
   },
   {
    "duration": 22,
    "start_time": "2023-01-05T10:48:07.162Z"
   },
   {
    "duration": 184,
    "start_time": "2023-01-05T10:48:07.186Z"
   },
   {
    "duration": 3,
    "start_time": "2023-01-05T10:48:07.372Z"
   },
   {
    "duration": 1729,
    "start_time": "2023-01-05T10:48:07.377Z"
   },
   {
    "duration": 32,
    "start_time": "2023-01-05T10:48:09.107Z"
   },
   {
    "duration": 239,
    "start_time": "2023-01-05T10:48:09.140Z"
   },
   {
    "duration": 43,
    "start_time": "2023-01-05T10:48:09.380Z"
   },
   {
    "duration": 4,
    "start_time": "2023-01-05T10:48:09.424Z"
   },
   {
    "duration": 264,
    "start_time": "2023-01-05T10:48:09.430Z"
   },
   {
    "duration": 1512,
    "start_time": "2023-01-05T10:48:09.696Z"
   },
   {
    "duration": 11,
    "start_time": "2023-01-05T10:48:11.209Z"
   },
   {
    "duration": 26,
    "start_time": "2023-01-05T10:48:11.222Z"
   },
   {
    "duration": 11,
    "start_time": "2023-01-05T10:48:11.251Z"
   },
   {
    "duration": 1397,
    "start_time": "2023-01-05T10:48:11.263Z"
   },
   {
    "duration": 7,
    "start_time": "2023-01-05T10:48:12.662Z"
   },
   {
    "duration": 36,
    "start_time": "2023-01-05T10:48:12.670Z"
   },
   {
    "duration": 22,
    "start_time": "2023-01-05T10:48:12.708Z"
   },
   {
    "duration": 190,
    "start_time": "2023-01-05T10:48:12.732Z"
   },
   {
    "duration": 5,
    "start_time": "2023-01-05T10:48:12.923Z"
   },
   {
    "duration": 396,
    "start_time": "2023-01-05T10:48:12.929Z"
   },
   {
    "duration": 382,
    "start_time": "2023-01-05T10:48:13.327Z"
   },
   {
    "duration": 18,
    "start_time": "2023-01-05T10:48:13.711Z"
   },
   {
    "duration": 14,
    "start_time": "2023-01-05T10:48:13.730Z"
   },
   {
    "duration": 29,
    "start_time": "2023-01-05T10:48:13.746Z"
   },
   {
    "duration": 59,
    "start_time": "2023-01-05T10:48:13.776Z"
   },
   {
    "duration": 23,
    "start_time": "2023-01-05T10:48:13.836Z"
   },
   {
    "duration": 5,
    "start_time": "2023-01-05T10:48:45.355Z"
   },
   {
    "duration": 1304,
    "start_time": "2023-01-05T10:48:48.763Z"
   },
   {
    "duration": 2,
    "start_time": "2023-01-05T10:51:14.813Z"
   },
   {
    "duration": 25,
    "start_time": "2023-01-05T10:53:14.517Z"
   },
   {
    "duration": 6,
    "start_time": "2023-01-05T10:56:34.502Z"
   },
   {
    "duration": 15,
    "start_time": "2023-01-05T11:04:09.136Z"
   },
   {
    "duration": 182,
    "start_time": "2023-01-05T11:04:14.281Z"
   },
   {
    "duration": 1140,
    "start_time": "2023-01-05T11:04:23.129Z"
   },
   {
    "duration": 60,
    "start_time": "2023-01-05T11:04:24.271Z"
   },
   {
    "duration": 17,
    "start_time": "2023-01-05T11:04:24.335Z"
   },
   {
    "duration": 24,
    "start_time": "2023-01-05T11:04:24.354Z"
   },
   {
    "duration": 80,
    "start_time": "2023-01-05T11:04:24.379Z"
   },
   {
    "duration": 3,
    "start_time": "2023-01-05T11:04:24.460Z"
   },
   {
    "duration": 28,
    "start_time": "2023-01-05T11:04:24.465Z"
   },
   {
    "duration": 5,
    "start_time": "2023-01-05T11:04:24.495Z"
   },
   {
    "duration": 26,
    "start_time": "2023-01-05T11:04:24.502Z"
   },
   {
    "duration": 27,
    "start_time": "2023-01-05T11:04:24.532Z"
   },
   {
    "duration": 13,
    "start_time": "2023-01-05T11:04:24.561Z"
   },
   {
    "duration": 46,
    "start_time": "2023-01-05T11:04:24.576Z"
   },
   {
    "duration": 27,
    "start_time": "2023-01-05T11:04:24.624Z"
   },
   {
    "duration": 35,
    "start_time": "2023-01-05T11:04:24.653Z"
   },
   {
    "duration": 186,
    "start_time": "2023-01-05T11:04:24.690Z"
   },
   {
    "duration": 21,
    "start_time": "2023-01-05T11:04:24.877Z"
   },
   {
    "duration": 175,
    "start_time": "2023-01-05T11:04:24.900Z"
   },
   {
    "duration": 3,
    "start_time": "2023-01-05T11:04:25.076Z"
   },
   {
    "duration": 1844,
    "start_time": "2023-01-05T11:04:25.082Z"
   },
   {
    "duration": 23,
    "start_time": "2023-01-05T11:04:26.928Z"
   },
   {
    "duration": 251,
    "start_time": "2023-01-05T11:04:26.953Z"
   },
   {
    "duration": 37,
    "start_time": "2023-01-05T11:04:27.205Z"
   },
   {
    "duration": 3,
    "start_time": "2023-01-05T11:04:27.244Z"
   },
   {
    "duration": 267,
    "start_time": "2023-01-05T11:04:27.249Z"
   },
   {
    "duration": 2,
    "start_time": "2023-01-05T11:04:27.521Z"
   },
   {
    "duration": 21,
    "start_time": "2023-01-05T11:04:27.525Z"
   },
   {
    "duration": 23,
    "start_time": "2023-01-05T11:04:27.548Z"
   },
   {
    "duration": 1235,
    "start_time": "2023-01-05T11:04:27.574Z"
   },
   {
    "duration": 26,
    "start_time": "2023-01-05T11:04:28.811Z"
   },
   {
    "duration": 22,
    "start_time": "2023-01-05T11:04:28.839Z"
   },
   {
    "duration": 204,
    "start_time": "2023-01-05T11:04:28.863Z"
   },
   {
    "duration": 4,
    "start_time": "2023-01-05T11:04:29.069Z"
   },
   {
    "duration": 554,
    "start_time": "2023-01-05T11:04:29.075Z"
   },
   {
    "duration": 412,
    "start_time": "2023-01-05T11:04:29.631Z"
   },
   {
    "duration": 17,
    "start_time": "2023-01-05T11:04:30.045Z"
   },
   {
    "duration": 24,
    "start_time": "2023-01-05T11:04:30.064Z"
   },
   {
    "duration": 33,
    "start_time": "2023-01-05T11:04:30.090Z"
   },
   {
    "duration": 43,
    "start_time": "2023-01-05T11:04:30.125Z"
   },
   {
    "duration": 28,
    "start_time": "2023-01-05T11:04:30.169Z"
   },
   {
    "duration": 16,
    "start_time": "2023-01-05T11:04:43.800Z"
   },
   {
    "duration": 184,
    "start_time": "2023-01-05T11:04:52.753Z"
   },
   {
    "duration": 1182,
    "start_time": "2023-01-05T11:05:03.862Z"
   },
   {
    "duration": 54,
    "start_time": "2023-01-05T11:05:05.046Z"
   },
   {
    "duration": 19,
    "start_time": "2023-01-05T11:05:05.102Z"
   },
   {
    "duration": 15,
    "start_time": "2023-01-05T11:05:05.123Z"
   },
   {
    "duration": 58,
    "start_time": "2023-01-05T11:05:05.139Z"
   },
   {
    "duration": 3,
    "start_time": "2023-01-05T11:05:05.199Z"
   },
   {
    "duration": 37,
    "start_time": "2023-01-05T11:05:05.203Z"
   },
   {
    "duration": 4,
    "start_time": "2023-01-05T11:05:05.242Z"
   },
   {
    "duration": 23,
    "start_time": "2023-01-05T11:05:05.247Z"
   },
   {
    "duration": 18,
    "start_time": "2023-01-05T11:05:05.272Z"
   },
   {
    "duration": 7,
    "start_time": "2023-01-05T11:05:05.292Z"
   },
   {
    "duration": 22,
    "start_time": "2023-01-05T11:05:05.301Z"
   },
   {
    "duration": 24,
    "start_time": "2023-01-05T11:05:05.325Z"
   },
   {
    "duration": 16,
    "start_time": "2023-01-05T11:05:05.351Z"
   },
   {
    "duration": 204,
    "start_time": "2023-01-05T11:05:05.369Z"
   },
   {
    "duration": 22,
    "start_time": "2023-01-05T11:05:05.575Z"
   },
   {
    "duration": 192,
    "start_time": "2023-01-05T11:05:05.598Z"
   },
   {
    "duration": 3,
    "start_time": "2023-01-05T11:05:05.792Z"
   },
   {
    "duration": 1844,
    "start_time": "2023-01-05T11:05:05.796Z"
   },
   {
    "duration": 23,
    "start_time": "2023-01-05T11:05:07.642Z"
   },
   {
    "duration": 266,
    "start_time": "2023-01-05T11:05:07.667Z"
   },
   {
    "duration": 31,
    "start_time": "2023-01-05T11:05:07.934Z"
   },
   {
    "duration": 4,
    "start_time": "2023-01-05T11:05:07.967Z"
   },
   {
    "duration": 279,
    "start_time": "2023-01-05T11:05:07.973Z"
   },
   {
    "duration": 3,
    "start_time": "2023-01-05T11:05:08.254Z"
   },
   {
    "duration": 11,
    "start_time": "2023-01-05T11:05:08.258Z"
   },
   {
    "duration": 8,
    "start_time": "2023-01-05T11:05:08.271Z"
   },
   {
    "duration": 1181,
    "start_time": "2023-01-05T11:05:08.282Z"
   },
   {
    "duration": 24,
    "start_time": "2023-01-05T11:05:09.465Z"
   },
   {
    "duration": 33,
    "start_time": "2023-01-05T11:05:09.491Z"
   },
   {
    "duration": 178,
    "start_time": "2023-01-05T11:05:09.525Z"
   },
   {
    "duration": 9,
    "start_time": "2023-01-05T11:05:09.705Z"
   },
   {
    "duration": 549,
    "start_time": "2023-01-05T11:05:09.722Z"
   },
   {
    "duration": 394,
    "start_time": "2023-01-05T11:05:10.273Z"
   },
   {
    "duration": 15,
    "start_time": "2023-01-05T11:05:10.669Z"
   },
   {
    "duration": 10,
    "start_time": "2023-01-05T11:05:10.686Z"
   },
   {
    "duration": 12,
    "start_time": "2023-01-05T11:05:10.697Z"
   },
   {
    "duration": 21,
    "start_time": "2023-01-05T11:05:10.710Z"
   },
   {
    "duration": 6,
    "start_time": "2023-01-05T11:05:10.733Z"
   },
   {
    "duration": 4,
    "start_time": "2023-01-05T11:16:28.117Z"
   },
   {
    "duration": 403,
    "start_time": "2023-01-05T11:16:29.476Z"
   },
   {
    "duration": 1142,
    "start_time": "2023-01-05T11:16:37.390Z"
   },
   {
    "duration": 51,
    "start_time": "2023-01-05T11:16:38.534Z"
   },
   {
    "duration": 17,
    "start_time": "2023-01-05T11:16:38.587Z"
   },
   {
    "duration": 14,
    "start_time": "2023-01-05T11:16:38.606Z"
   },
   {
    "duration": 51,
    "start_time": "2023-01-05T11:16:38.621Z"
   },
   {
    "duration": 3,
    "start_time": "2023-01-05T11:16:38.673Z"
   },
   {
    "duration": 22,
    "start_time": "2023-01-05T11:16:38.678Z"
   },
   {
    "duration": 21,
    "start_time": "2023-01-05T11:16:38.701Z"
   },
   {
    "duration": 8,
    "start_time": "2023-01-05T11:16:38.724Z"
   },
   {
    "duration": 10,
    "start_time": "2023-01-05T11:16:38.734Z"
   },
   {
    "duration": 4,
    "start_time": "2023-01-05T11:16:38.746Z"
   },
   {
    "duration": 18,
    "start_time": "2023-01-05T11:16:38.752Z"
   },
   {
    "duration": 14,
    "start_time": "2023-01-05T11:16:38.772Z"
   },
   {
    "duration": 37,
    "start_time": "2023-01-05T11:16:38.787Z"
   },
   {
    "duration": 193,
    "start_time": "2023-01-05T11:16:38.826Z"
   },
   {
    "duration": 22,
    "start_time": "2023-01-05T11:16:39.022Z"
   },
   {
    "duration": 168,
    "start_time": "2023-01-05T11:16:39.045Z"
   },
   {
    "duration": 8,
    "start_time": "2023-01-05T11:16:39.214Z"
   },
   {
    "duration": 1773,
    "start_time": "2023-01-05T11:16:39.224Z"
   },
   {
    "duration": 31,
    "start_time": "2023-01-05T11:16:40.998Z"
   },
   {
    "duration": 264,
    "start_time": "2023-01-05T11:16:41.031Z"
   },
   {
    "duration": 46,
    "start_time": "2023-01-05T11:16:41.296Z"
   },
   {
    "duration": 5,
    "start_time": "2023-01-05T11:16:41.343Z"
   },
   {
    "duration": 287,
    "start_time": "2023-01-05T11:16:41.350Z"
   },
   {
    "duration": 3,
    "start_time": "2023-01-05T11:16:41.639Z"
   },
   {
    "duration": 43,
    "start_time": "2023-01-05T11:16:41.644Z"
   },
   {
    "duration": 32,
    "start_time": "2023-01-05T11:16:41.689Z"
   },
   {
    "duration": 1239,
    "start_time": "2023-01-05T11:16:41.725Z"
   },
   {
    "duration": 23,
    "start_time": "2023-01-05T11:16:42.965Z"
   },
   {
    "duration": 16,
    "start_time": "2023-01-05T11:16:42.990Z"
   },
   {
    "duration": 183,
    "start_time": "2023-01-05T11:16:43.023Z"
   },
   {
    "duration": 4,
    "start_time": "2023-01-05T11:16:43.209Z"
   },
   {
    "duration": 503,
    "start_time": "2023-01-05T11:16:43.214Z"
   },
   {
    "duration": 415,
    "start_time": "2023-01-05T11:16:43.718Z"
   },
   {
    "duration": 19,
    "start_time": "2023-01-05T11:16:44.135Z"
   },
   {
    "duration": 61,
    "start_time": "2023-01-05T11:16:44.156Z"
   },
   {
    "duration": 41,
    "start_time": "2023-01-05T11:16:44.219Z"
   },
   {
    "duration": 65,
    "start_time": "2023-01-05T11:16:44.261Z"
   },
   {
    "duration": 25,
    "start_time": "2023-01-05T11:16:44.328Z"
   },
   {
    "duration": 17,
    "start_time": "2023-01-05T11:19:55.580Z"
   },
   {
    "duration": 17,
    "start_time": "2023-01-05T11:21:38.854Z"
   },
   {
    "duration": 4,
    "start_time": "2023-01-05T11:22:51.169Z"
   },
   {
    "duration": 1308,
    "start_time": "2023-01-05T11:28:46.929Z"
   },
   {
    "duration": 1067,
    "start_time": "2023-01-05T11:28:55.855Z"
   },
   {
    "duration": 50,
    "start_time": "2023-01-05T11:28:56.924Z"
   },
   {
    "duration": 17,
    "start_time": "2023-01-05T11:28:56.976Z"
   },
   {
    "duration": 26,
    "start_time": "2023-01-05T11:28:56.995Z"
   },
   {
    "duration": 7,
    "start_time": "2023-01-05T11:28:57.023Z"
   },
   {
    "duration": 82,
    "start_time": "2023-01-05T11:28:57.032Z"
   },
   {
    "duration": 3,
    "start_time": "2023-01-05T11:28:57.116Z"
   },
   {
    "duration": 33,
    "start_time": "2023-01-05T11:28:57.121Z"
   },
   {
    "duration": 17,
    "start_time": "2023-01-05T11:28:57.155Z"
   },
   {
    "duration": 17,
    "start_time": "2023-01-05T11:28:57.175Z"
   },
   {
    "duration": 29,
    "start_time": "2023-01-05T11:28:57.193Z"
   },
   {
    "duration": 26,
    "start_time": "2023-01-05T11:28:57.223Z"
   },
   {
    "duration": 39,
    "start_time": "2023-01-05T11:28:57.250Z"
   },
   {
    "duration": 25,
    "start_time": "2023-01-05T11:28:57.291Z"
   },
   {
    "duration": 29,
    "start_time": "2023-01-05T11:28:57.318Z"
   },
   {
    "duration": 12,
    "start_time": "2023-01-05T11:28:57.349Z"
   },
   {
    "duration": 205,
    "start_time": "2023-01-05T11:28:57.363Z"
   },
   {
    "duration": 21,
    "start_time": "2023-01-05T11:28:57.569Z"
   },
   {
    "duration": 168,
    "start_time": "2023-01-05T11:28:57.592Z"
   },
   {
    "duration": 3,
    "start_time": "2023-01-05T11:28:57.762Z"
   },
   {
    "duration": 1785,
    "start_time": "2023-01-05T11:28:57.767Z"
   },
   {
    "duration": 25,
    "start_time": "2023-01-05T11:28:59.553Z"
   },
   {
    "duration": 248,
    "start_time": "2023-01-05T11:28:59.580Z"
   },
   {
    "duration": 32,
    "start_time": "2023-01-05T11:28:59.830Z"
   },
   {
    "duration": 4,
    "start_time": "2023-01-05T11:28:59.863Z"
   },
   {
    "duration": 280,
    "start_time": "2023-01-05T11:28:59.869Z"
   },
   {
    "duration": 3,
    "start_time": "2023-01-05T11:29:00.150Z"
   },
   {
    "duration": 27,
    "start_time": "2023-01-05T11:29:00.155Z"
   },
   {
    "duration": 33,
    "start_time": "2023-01-05T11:29:00.184Z"
   },
   {
    "duration": 1252,
    "start_time": "2023-01-05T11:29:00.219Z"
   },
   {
    "duration": 27,
    "start_time": "2023-01-05T11:29:01.472Z"
   },
   {
    "duration": 38,
    "start_time": "2023-01-05T11:29:01.501Z"
   },
   {
    "duration": 212,
    "start_time": "2023-01-05T11:29:01.541Z"
   },
   {
    "duration": 5,
    "start_time": "2023-01-05T11:29:01.754Z"
   },
   {
    "duration": 563,
    "start_time": "2023-01-05T11:29:01.761Z"
   },
   {
    "duration": 418,
    "start_time": "2023-01-05T11:29:02.325Z"
   },
   {
    "duration": 16,
    "start_time": "2023-01-05T11:29:02.745Z"
   },
   {
    "duration": 8,
    "start_time": "2023-01-05T11:29:02.763Z"
   },
   {
    "duration": 8,
    "start_time": "2023-01-05T11:29:02.772Z"
   },
   {
    "duration": 14,
    "start_time": "2023-01-05T11:29:02.781Z"
   },
   {
    "duration": 28,
    "start_time": "2023-01-05T11:29:02.796Z"
   },
   {
    "duration": 93,
    "start_time": "2023-01-05T12:02:28.114Z"
   },
   {
    "duration": 8,
    "start_time": "2023-01-05T12:02:45.610Z"
   },
   {
    "duration": 44,
    "start_time": "2023-01-05T12:03:53.483Z"
   },
   {
    "duration": 16,
    "start_time": "2023-01-05T12:03:54.818Z"
   },
   {
    "duration": 1163,
    "start_time": "2023-01-05T12:04:04.923Z"
   },
   {
    "duration": 52,
    "start_time": "2023-01-05T12:04:06.088Z"
   },
   {
    "duration": 17,
    "start_time": "2023-01-05T12:04:06.141Z"
   },
   {
    "duration": 15,
    "start_time": "2023-01-05T12:04:06.160Z"
   },
   {
    "duration": 72,
    "start_time": "2023-01-05T12:04:06.176Z"
   },
   {
    "duration": 3,
    "start_time": "2023-01-05T12:04:06.250Z"
   },
   {
    "duration": 31,
    "start_time": "2023-01-05T12:04:06.254Z"
   },
   {
    "duration": 5,
    "start_time": "2023-01-05T12:04:06.287Z"
   },
   {
    "duration": 9,
    "start_time": "2023-01-05T12:04:06.294Z"
   },
   {
    "duration": 9,
    "start_time": "2023-01-05T12:04:06.322Z"
   },
   {
    "duration": 10,
    "start_time": "2023-01-05T12:04:06.332Z"
   },
   {
    "duration": 19,
    "start_time": "2023-01-05T12:04:06.344Z"
   },
   {
    "duration": 72,
    "start_time": "2023-01-05T12:04:06.365Z"
   },
   {
    "duration": 17,
    "start_time": "2023-01-05T12:04:06.439Z"
   },
   {
    "duration": 15,
    "start_time": "2023-01-05T12:04:06.458Z"
   },
   {
    "duration": 5,
    "start_time": "2023-01-05T12:04:06.475Z"
   },
   {
    "duration": 220,
    "start_time": "2023-01-05T12:04:06.482Z"
   },
   {
    "duration": 28,
    "start_time": "2023-01-05T12:04:06.704Z"
   },
   {
    "duration": 171,
    "start_time": "2023-01-05T12:04:06.733Z"
   },
   {
    "duration": 3,
    "start_time": "2023-01-05T12:04:06.906Z"
   },
   {
    "duration": 1783,
    "start_time": "2023-01-05T12:04:06.911Z"
   },
   {
    "duration": 31,
    "start_time": "2023-01-05T12:04:08.696Z"
   },
   {
    "duration": 236,
    "start_time": "2023-01-05T12:04:08.729Z"
   },
   {
    "duration": 27,
    "start_time": "2023-01-05T12:04:08.967Z"
   },
   {
    "duration": 4,
    "start_time": "2023-01-05T12:04:08.996Z"
   },
   {
    "duration": 295,
    "start_time": "2023-01-05T12:04:09.002Z"
   },
   {
    "duration": 3,
    "start_time": "2023-01-05T12:04:09.299Z"
   },
   {
    "duration": 17,
    "start_time": "2023-01-05T12:04:09.306Z"
   },
   {
    "duration": 5,
    "start_time": "2023-01-05T12:04:09.324Z"
   },
   {
    "duration": 319,
    "start_time": "2023-01-05T12:04:09.330Z"
   },
   {
    "duration": 0,
    "start_time": "2023-01-05T12:04:09.651Z"
   },
   {
    "duration": 0,
    "start_time": "2023-01-05T12:04:09.652Z"
   },
   {
    "duration": 0,
    "start_time": "2023-01-05T12:04:09.652Z"
   },
   {
    "duration": 1,
    "start_time": "2023-01-05T12:04:09.653Z"
   },
   {
    "duration": 0,
    "start_time": "2023-01-05T12:04:09.654Z"
   },
   {
    "duration": 0,
    "start_time": "2023-01-05T12:04:09.655Z"
   },
   {
    "duration": 0,
    "start_time": "2023-01-05T12:04:09.656Z"
   },
   {
    "duration": 0,
    "start_time": "2023-01-05T12:04:09.657Z"
   },
   {
    "duration": 0,
    "start_time": "2023-01-05T12:04:09.658Z"
   },
   {
    "duration": 0,
    "start_time": "2023-01-05T12:04:09.659Z"
   },
   {
    "duration": 0,
    "start_time": "2023-01-05T12:04:09.660Z"
   },
   {
    "duration": 4,
    "start_time": "2023-01-05T12:05:16.506Z"
   },
   {
    "duration": 5,
    "start_time": "2023-01-05T12:05:33.924Z"
   },
   {
    "duration": 1170,
    "start_time": "2023-01-05T12:05:42.404Z"
   },
   {
    "duration": 51,
    "start_time": "2023-01-05T12:05:43.576Z"
   },
   {
    "duration": 23,
    "start_time": "2023-01-05T12:05:43.629Z"
   },
   {
    "duration": 13,
    "start_time": "2023-01-05T12:05:43.655Z"
   },
   {
    "duration": 68,
    "start_time": "2023-01-05T12:05:43.670Z"
   },
   {
    "duration": 3,
    "start_time": "2023-01-05T12:05:43.740Z"
   },
   {
    "duration": 24,
    "start_time": "2023-01-05T12:05:43.745Z"
   },
   {
    "duration": 4,
    "start_time": "2023-01-05T12:05:43.771Z"
   },
   {
    "duration": 14,
    "start_time": "2023-01-05T12:05:43.777Z"
   },
   {
    "duration": 27,
    "start_time": "2023-01-05T12:05:43.795Z"
   },
   {
    "duration": 5,
    "start_time": "2023-01-05T12:05:43.824Z"
   },
   {
    "duration": 28,
    "start_time": "2023-01-05T12:05:43.831Z"
   },
   {
    "duration": 14,
    "start_time": "2023-01-05T12:05:43.861Z"
   },
   {
    "duration": 25,
    "start_time": "2023-01-05T12:05:43.877Z"
   },
   {
    "duration": 28,
    "start_time": "2023-01-05T12:05:43.904Z"
   },
   {
    "duration": 6,
    "start_time": "2023-01-05T12:05:43.934Z"
   },
   {
    "duration": 262,
    "start_time": "2023-01-05T12:05:43.943Z"
   },
   {
    "duration": 30,
    "start_time": "2023-01-05T12:05:44.207Z"
   },
   {
    "duration": 197,
    "start_time": "2023-01-05T12:05:44.240Z"
   },
   {
    "duration": 4,
    "start_time": "2023-01-05T12:05:44.439Z"
   },
   {
    "duration": 1917,
    "start_time": "2023-01-05T12:05:44.445Z"
   },
   {
    "duration": 26,
    "start_time": "2023-01-05T12:05:46.365Z"
   },
   {
    "duration": 257,
    "start_time": "2023-01-05T12:05:46.393Z"
   },
   {
    "duration": 31,
    "start_time": "2023-01-05T12:05:46.652Z"
   },
   {
    "duration": 4,
    "start_time": "2023-01-05T12:05:46.685Z"
   },
   {
    "duration": 299,
    "start_time": "2023-01-05T12:05:46.691Z"
   },
   {
    "duration": 2,
    "start_time": "2023-01-05T12:05:46.992Z"
   },
   {
    "duration": 9,
    "start_time": "2023-01-05T12:05:47.000Z"
   },
   {
    "duration": 17,
    "start_time": "2023-01-05T12:05:47.011Z"
   },
   {
    "duration": 1243,
    "start_time": "2023-01-05T12:05:47.030Z"
   },
   {
    "duration": 23,
    "start_time": "2023-01-05T12:05:48.274Z"
   },
   {
    "duration": 30,
    "start_time": "2023-01-05T12:05:48.299Z"
   },
   {
    "duration": 196,
    "start_time": "2023-01-05T12:05:48.331Z"
   },
   {
    "duration": 5,
    "start_time": "2023-01-05T12:05:48.528Z"
   },
   {
    "duration": 553,
    "start_time": "2023-01-05T12:05:48.536Z"
   },
   {
    "duration": 500,
    "start_time": "2023-01-05T12:05:49.091Z"
   },
   {
    "duration": 32,
    "start_time": "2023-01-05T12:05:49.593Z"
   },
   {
    "duration": 11,
    "start_time": "2023-01-05T12:05:49.628Z"
   },
   {
    "duration": 8,
    "start_time": "2023-01-05T12:05:49.641Z"
   },
   {
    "duration": 23,
    "start_time": "2023-01-05T12:05:49.650Z"
   },
   {
    "duration": 8,
    "start_time": "2023-01-05T12:05:49.675Z"
   },
   {
    "duration": 15,
    "start_time": "2023-01-05T12:07:26.174Z"
   },
   {
    "duration": 1172,
    "start_time": "2023-01-05T12:26:09.891Z"
   },
   {
    "duration": 52,
    "start_time": "2023-01-05T12:26:11.065Z"
   },
   {
    "duration": 23,
    "start_time": "2023-01-05T12:26:11.119Z"
   },
   {
    "duration": 39,
    "start_time": "2023-01-05T12:26:11.145Z"
   },
   {
    "duration": 74,
    "start_time": "2023-01-05T12:26:11.187Z"
   },
   {
    "duration": 3,
    "start_time": "2023-01-05T12:26:11.263Z"
   },
   {
    "duration": 64,
    "start_time": "2023-01-05T12:26:11.268Z"
   },
   {
    "duration": 24,
    "start_time": "2023-01-05T12:26:11.333Z"
   },
   {
    "duration": 33,
    "start_time": "2023-01-05T12:26:11.359Z"
   },
   {
    "duration": 37,
    "start_time": "2023-01-05T12:26:11.395Z"
   },
   {
    "duration": 28,
    "start_time": "2023-01-05T12:26:11.434Z"
   },
   {
    "duration": 41,
    "start_time": "2023-01-05T12:26:11.464Z"
   },
   {
    "duration": 35,
    "start_time": "2023-01-05T12:26:11.507Z"
   },
   {
    "duration": 37,
    "start_time": "2023-01-05T12:26:11.544Z"
   },
   {
    "duration": 52,
    "start_time": "2023-01-05T12:26:11.584Z"
   },
   {
    "duration": 13,
    "start_time": "2023-01-05T12:26:11.638Z"
   },
   {
    "duration": 221,
    "start_time": "2023-01-05T12:26:11.653Z"
   },
   {
    "duration": 22,
    "start_time": "2023-01-05T12:26:11.876Z"
   },
   {
    "duration": 174,
    "start_time": "2023-01-05T12:26:11.899Z"
   },
   {
    "duration": 3,
    "start_time": "2023-01-05T12:26:12.075Z"
   },
   {
    "duration": 1794,
    "start_time": "2023-01-05T12:26:12.080Z"
   },
   {
    "duration": 23,
    "start_time": "2023-01-05T12:26:13.876Z"
   },
   {
    "duration": 282,
    "start_time": "2023-01-05T12:26:13.901Z"
   },
   {
    "duration": 55,
    "start_time": "2023-01-05T12:26:14.184Z"
   },
   {
    "duration": 5,
    "start_time": "2023-01-05T12:26:14.241Z"
   },
   {
    "duration": 314,
    "start_time": "2023-01-05T12:26:14.248Z"
   },
   {
    "duration": 3,
    "start_time": "2023-01-05T12:26:14.564Z"
   },
   {
    "duration": 20,
    "start_time": "2023-01-05T12:26:14.569Z"
   },
   {
    "duration": 15,
    "start_time": "2023-01-05T12:26:14.591Z"
   },
   {
    "duration": 1235,
    "start_time": "2023-01-05T12:26:14.607Z"
   },
   {
    "duration": 33,
    "start_time": "2023-01-05T12:26:15.844Z"
   },
   {
    "duration": 24,
    "start_time": "2023-01-05T12:26:15.880Z"
   },
   {
    "duration": 189,
    "start_time": "2023-01-05T12:26:15.921Z"
   },
   {
    "duration": 10,
    "start_time": "2023-01-05T12:26:16.112Z"
   },
   {
    "duration": 572,
    "start_time": "2023-01-05T12:26:16.124Z"
   },
   {
    "duration": 417,
    "start_time": "2023-01-05T12:26:16.698Z"
   },
   {
    "duration": 16,
    "start_time": "2023-01-05T12:26:17.117Z"
   },
   {
    "duration": 29,
    "start_time": "2023-01-05T12:26:17.136Z"
   },
   {
    "duration": 20,
    "start_time": "2023-01-05T12:26:17.167Z"
   },
   {
    "duration": 35,
    "start_time": "2023-01-05T12:26:17.188Z"
   },
   {
    "duration": 22,
    "start_time": "2023-01-05T12:26:17.225Z"
   },
   {
    "duration": 1252,
    "start_time": "2023-01-05T12:46:11.304Z"
   },
   {
    "duration": 54,
    "start_time": "2023-01-05T12:46:12.558Z"
   },
   {
    "duration": 24,
    "start_time": "2023-01-05T12:46:12.613Z"
   },
   {
    "duration": 18,
    "start_time": "2023-01-05T12:46:12.640Z"
   },
   {
    "duration": 67,
    "start_time": "2023-01-05T12:46:12.660Z"
   },
   {
    "duration": 6,
    "start_time": "2023-01-05T12:46:12.729Z"
   },
   {
    "duration": 24,
    "start_time": "2023-01-05T12:46:12.737Z"
   },
   {
    "duration": 4,
    "start_time": "2023-01-05T12:46:12.762Z"
   },
   {
    "duration": 8,
    "start_time": "2023-01-05T12:46:12.767Z"
   },
   {
    "duration": 9,
    "start_time": "2023-01-05T12:46:12.777Z"
   },
   {
    "duration": 23,
    "start_time": "2023-01-05T12:46:12.787Z"
   },
   {
    "duration": 24,
    "start_time": "2023-01-05T12:46:12.811Z"
   },
   {
    "duration": 9,
    "start_time": "2023-01-05T12:46:12.837Z"
   },
   {
    "duration": 15,
    "start_time": "2023-01-05T12:46:12.848Z"
   },
   {
    "duration": 16,
    "start_time": "2023-01-05T12:46:12.865Z"
   },
   {
    "duration": 5,
    "start_time": "2023-01-05T12:46:12.883Z"
   },
   {
    "duration": 221,
    "start_time": "2023-01-05T12:46:12.890Z"
   },
   {
    "duration": 27,
    "start_time": "2023-01-05T12:46:13.112Z"
   },
   {
    "duration": 160,
    "start_time": "2023-01-05T12:46:13.141Z"
   },
   {
    "duration": 3,
    "start_time": "2023-01-05T12:46:13.302Z"
   },
   {
    "duration": 1920,
    "start_time": "2023-01-05T12:46:13.307Z"
   },
   {
    "duration": 26,
    "start_time": "2023-01-05T12:46:15.229Z"
   },
   {
    "duration": 251,
    "start_time": "2023-01-05T12:46:15.256Z"
   },
   {
    "duration": 41,
    "start_time": "2023-01-05T12:46:15.509Z"
   },
   {
    "duration": 4,
    "start_time": "2023-01-05T12:46:15.551Z"
   },
   {
    "duration": 277,
    "start_time": "2023-01-05T12:46:15.556Z"
   },
   {
    "duration": 3,
    "start_time": "2023-01-05T12:46:15.835Z"
   },
   {
    "duration": 18,
    "start_time": "2023-01-05T12:46:15.843Z"
   },
   {
    "duration": 8,
    "start_time": "2023-01-05T12:46:15.863Z"
   },
   {
    "duration": 1242,
    "start_time": "2023-01-05T12:46:15.873Z"
   },
   {
    "duration": 33,
    "start_time": "2023-01-05T12:46:17.116Z"
   },
   {
    "duration": 15,
    "start_time": "2023-01-05T12:46:17.151Z"
   },
   {
    "duration": 204,
    "start_time": "2023-01-05T12:46:17.167Z"
   },
   {
    "duration": 5,
    "start_time": "2023-01-05T12:46:17.372Z"
   },
   {
    "duration": 560,
    "start_time": "2023-01-05T12:46:17.378Z"
   },
   {
    "duration": 410,
    "start_time": "2023-01-05T12:46:17.940Z"
   },
   {
    "duration": 14,
    "start_time": "2023-01-05T12:46:18.352Z"
   },
   {
    "duration": 7,
    "start_time": "2023-01-05T12:46:18.368Z"
   },
   {
    "duration": 5,
    "start_time": "2023-01-05T12:46:18.377Z"
   },
   {
    "duration": 10,
    "start_time": "2023-01-05T12:46:18.383Z"
   },
   {
    "duration": 31,
    "start_time": "2023-01-05T12:46:18.395Z"
   }
  ],
  "kernelspec": {
   "display_name": "Python 3 (ipykernel)",
   "language": "python",
   "name": "python3"
  },
  "language_info": {
   "codemirror_mode": {
    "name": "ipython",
    "version": 3
   },
   "file_extension": ".py",
   "mimetype": "text/x-python",
   "name": "python",
   "nbconvert_exporter": "python",
   "pygments_lexer": "ipython3",
   "version": "3.9.12"
  },
  "toc": {
   "base_numbering": 1,
   "nav_menu": {},
   "number_sections": true,
   "sideBar": true,
   "skip_h1_title": true,
   "title_cell": "Table of Contents",
   "title_sidebar": "Contents",
   "toc_cell": false,
   "toc_position": {},
   "toc_section_display": true,
   "toc_window_display": false
  }
 },
 "nbformat": 4,
 "nbformat_minor": 2
}
