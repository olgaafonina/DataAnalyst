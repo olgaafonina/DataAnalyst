{
 "cells": [
  {
   "cell_type": "markdown",
   "metadata": {
    "toc": true
   },
   "source": [
    "<h1>Содержание<span class=\"tocSkip\"></span></h1>\n",
    "<div class=\"toc\"><ul class=\"toc-item\"><li><span><a href=\"#Изучение-данных-из-файла\" data-toc-modified-id=\"Изучение-данных-из-файла-1\"><span class=\"toc-item-num\">1&nbsp;&nbsp;</span>Изучение данных из файла</a></span><ul class=\"toc-item\"><li><span><a href=\"#Вывод\" data-toc-modified-id=\"Вывод-1.1\"><span class=\"toc-item-num\">1.1&nbsp;&nbsp;</span>Вывод</a></span></li></ul></li><li><span><a href=\"#Предобработка-данных\" data-toc-modified-id=\"Предобработка-данных-2\"><span class=\"toc-item-num\">2&nbsp;&nbsp;</span>Предобработка данных</a></span></li><li><span><a href=\"#Расчёты-и-добавление-результатов-в-таблицу\" data-toc-modified-id=\"Расчёты-и-добавление-результатов-в-таблицу-3\"><span class=\"toc-item-num\">3&nbsp;&nbsp;</span>Расчёты и добавление результатов в таблицу</a></span></li><li><span><a href=\"#Исследовательский-анализ-данных\" data-toc-modified-id=\"Исследовательский-анализ-данных-4\"><span class=\"toc-item-num\">4&nbsp;&nbsp;</span>Исследовательский анализ данных</a></span><ul class=\"toc-item\"><li><span><a href=\"#Изучаем-основные-параметры\" data-toc-modified-id=\"Изучаем-основные-параметры-4.1\"><span class=\"toc-item-num\">4.1&nbsp;&nbsp;</span>Изучаем основные параметры</a></span></li><li><span><a href=\"#Изучаем-время-продажи-квартиры\" data-toc-modified-id=\"Изучаем-время-продажи-квартиры-4.2\"><span class=\"toc-item-num\">4.2&nbsp;&nbsp;</span>Изучаем время продажи квартиры</a></span></li><li><span><a href=\"#Работа-с-редкими-и-выбивающимися-значениями\" data-toc-modified-id=\"Работа-с-редкими-и-выбивающимися-значениями-4.3\"><span class=\"toc-item-num\">4.3&nbsp;&nbsp;</span>Работа с редкими и выбивающимися значениями</a></span></li><li><span><a href=\"#Выявление-факторов,-влияющих-на-стоимость-квартиры\" data-toc-modified-id=\"Выявление-факторов,-влияющих-на-стоимость-квартиры-4.4\"><span class=\"toc-item-num\">4.4&nbsp;&nbsp;</span>Выявление факторов, влияющих на стоимость квартиры</a></span></li><li><span><a href=\"#Исследование-10-населённых-пунктов-с-самой-высокой-и-низкой-стоимостью-жилья.\" data-toc-modified-id=\"Исследование-10-населённых-пунктов-с-самой-высокой-и-низкой-стоимостью-жилья.-4.5\"><span class=\"toc-item-num\">4.5&nbsp;&nbsp;</span>Исследование 10 населённых пунктов с самой высокой и низкой стоимостью жилья.</a></span></li><li><span><a href=\"#Изучим-предложения-квартир-в-Санкт-Петербурге\" data-toc-modified-id=\"Изучим-предложения-квартир-в-Санкт-Петербурге-4.6\"><span class=\"toc-item-num\">4.6&nbsp;&nbsp;</span>Изучим предложения квартир в Санкт-Петербурге</a></span></li><li><span><a href=\"#Изучим-предложения-квартир-в-центре-Санкт-Петербурга\" data-toc-modified-id=\"Изучим-предложения-квартир-в-центре-Санкт-Петербурга-4.7\"><span class=\"toc-item-num\">4.7&nbsp;&nbsp;</span>Изучим предложения квартир в центре Санкт-Петербурга</a></span></li></ul></li><li><span><a href=\"#Общий-вывод\" data-toc-modified-id=\"Общий-вывод-5\"><span class=\"toc-item-num\">5&nbsp;&nbsp;</span>Общий вывод</a></span></li><li><span><a href=\"#Чек-лист-готовности-проекта\" data-toc-modified-id=\"Чек-лист-готовности-проекта-6\"><span class=\"toc-item-num\">6&nbsp;&nbsp;</span>Чек-лист готовности проекта</a></span></li></ul></div>"
   ]
  },
  {
   "cell_type": "markdown",
   "metadata": {},
   "source": [
    "# Исследование объявлений о продаже квартир\n",
    "\n",
    "База для исследования — архив объявлений о продаже квартир в Санкт-Петербурге и соседних населённых пунктах за несколько лет. Нужно научиться определять рыночную стоимость объектов недвижимости. Задача — установить параметры, которые позволят построить автоматизированную систему: она отследит аномалии и мошенническую деятельность. \n",
    " "
   ]
  },
  {
   "cell_type": "markdown",
   "metadata": {},
   "source": [
    "## Изучение данных из файла"
   ]
  },
  {
   "cell_type": "code",
   "execution_count": 1,
   "metadata": {},
   "outputs": [],
   "source": [
    "# Импортируем необходимые библиотеки\n",
    "import pandas as pd\n",
    "import matplotlib.pyplot as plt\n",
    "import warnings\n",
    "warnings.filterwarnings('ignore')"
   ]
  },
  {
   "cell_type": "code",
   "execution_count": 2,
   "metadata": {},
   "outputs": [
    {
     "name": "stdout",
     "output_type": "stream",
     "text": [
      "<class 'pandas.core.frame.DataFrame'>\n",
      "RangeIndex: 23699 entries, 0 to 23698\n",
      "Data columns (total 22 columns):\n",
      " #   Column                Non-Null Count  Dtype  \n",
      "---  ------                --------------  -----  \n",
      " 0   total_images          23699 non-null  int64  \n",
      " 1   last_price            23699 non-null  float64\n",
      " 2   total_area            23699 non-null  float64\n",
      " 3   first_day_exposition  23699 non-null  object \n",
      " 4   rooms                 23699 non-null  int64  \n",
      " 5   ceiling_height        14504 non-null  float64\n",
      " 6   floors_total          23613 non-null  float64\n",
      " 7   living_area           21796 non-null  float64\n",
      " 8   floor                 23699 non-null  int64  \n",
      " 9   is_apartment          2775 non-null   object \n",
      " 10  studio                23699 non-null  bool   \n",
      " 11  open_plan             23699 non-null  bool   \n",
      " 12  kitchen_area          21421 non-null  float64\n",
      " 13  balcony               12180 non-null  float64\n",
      " 14  locality_name         23650 non-null  object \n",
      " 15  airports_nearest      18157 non-null  float64\n",
      " 16  cityCenters_nearest   18180 non-null  float64\n",
      " 17  parks_around3000      18181 non-null  float64\n",
      " 18  parks_nearest         8079 non-null   float64\n",
      " 19  ponds_around3000      18181 non-null  float64\n",
      " 20  ponds_nearest         9110 non-null   float64\n",
      " 21  days_exposition       20518 non-null  float64\n",
      "dtypes: bool(2), float64(14), int64(3), object(3)\n",
      "memory usage: 3.7+ MB\n"
     ]
    }
   ],
   "source": [
    "# Укажим путь к файлу с локального компьютера и с юпитера\n",
    "try:\n",
    "    data = pd.read_csv('C:/Users/Olga/Desktop/Проект Квартиры/real_estate_data.csv', sep='\\t')\n",
    "except:\n",
    "    data = pd.read_csv('/datasets/real_estate_data.csv', sep='\\t')\n",
    "else:\n",
    "    'something is wrong'\n",
    "# Посмотрим, что представляют из себя данные\n",
    "data.info()  "
   ]
  },
  {
   "cell_type": "code",
   "execution_count": 3,
   "metadata": {},
   "outputs": [
    {
     "data": {
      "text/html": [
       "<div>\n",
       "<style scoped>\n",
       "    .dataframe tbody tr th:only-of-type {\n",
       "        vertical-align: middle;\n",
       "    }\n",
       "\n",
       "    .dataframe tbody tr th {\n",
       "        vertical-align: top;\n",
       "    }\n",
       "\n",
       "    .dataframe thead th {\n",
       "        text-align: right;\n",
       "    }\n",
       "</style>\n",
       "<table border=\"1\" class=\"dataframe\">\n",
       "  <thead>\n",
       "    <tr style=\"text-align: right;\">\n",
       "      <th></th>\n",
       "      <th>total_images</th>\n",
       "      <th>last_price</th>\n",
       "      <th>total_area</th>\n",
       "      <th>first_day_exposition</th>\n",
       "      <th>rooms</th>\n",
       "      <th>ceiling_height</th>\n",
       "      <th>floors_total</th>\n",
       "      <th>living_area</th>\n",
       "      <th>floor</th>\n",
       "      <th>is_apartment</th>\n",
       "      <th>...</th>\n",
       "      <th>kitchen_area</th>\n",
       "      <th>balcony</th>\n",
       "      <th>locality_name</th>\n",
       "      <th>airports_nearest</th>\n",
       "      <th>cityCenters_nearest</th>\n",
       "      <th>parks_around3000</th>\n",
       "      <th>parks_nearest</th>\n",
       "      <th>ponds_around3000</th>\n",
       "      <th>ponds_nearest</th>\n",
       "      <th>days_exposition</th>\n",
       "    </tr>\n",
       "  </thead>\n",
       "  <tbody>\n",
       "    <tr>\n",
       "      <th>0</th>\n",
       "      <td>20</td>\n",
       "      <td>13000000.0</td>\n",
       "      <td>108.0</td>\n",
       "      <td>2019-03-07T00:00:00</td>\n",
       "      <td>3</td>\n",
       "      <td>2.70</td>\n",
       "      <td>16.0</td>\n",
       "      <td>51.0</td>\n",
       "      <td>8</td>\n",
       "      <td>NaN</td>\n",
       "      <td>...</td>\n",
       "      <td>25.0</td>\n",
       "      <td>NaN</td>\n",
       "      <td>Санкт-Петербург</td>\n",
       "      <td>18863.0</td>\n",
       "      <td>16028.0</td>\n",
       "      <td>1.0</td>\n",
       "      <td>482.0</td>\n",
       "      <td>2.0</td>\n",
       "      <td>755.0</td>\n",
       "      <td>NaN</td>\n",
       "    </tr>\n",
       "    <tr>\n",
       "      <th>1</th>\n",
       "      <td>7</td>\n",
       "      <td>3350000.0</td>\n",
       "      <td>40.4</td>\n",
       "      <td>2018-12-04T00:00:00</td>\n",
       "      <td>1</td>\n",
       "      <td>NaN</td>\n",
       "      <td>11.0</td>\n",
       "      <td>18.6</td>\n",
       "      <td>1</td>\n",
       "      <td>NaN</td>\n",
       "      <td>...</td>\n",
       "      <td>11.0</td>\n",
       "      <td>2.0</td>\n",
       "      <td>посёлок Шушары</td>\n",
       "      <td>12817.0</td>\n",
       "      <td>18603.0</td>\n",
       "      <td>0.0</td>\n",
       "      <td>NaN</td>\n",
       "      <td>0.0</td>\n",
       "      <td>NaN</td>\n",
       "      <td>81.0</td>\n",
       "    </tr>\n",
       "    <tr>\n",
       "      <th>2</th>\n",
       "      <td>10</td>\n",
       "      <td>5196000.0</td>\n",
       "      <td>56.0</td>\n",
       "      <td>2015-08-20T00:00:00</td>\n",
       "      <td>2</td>\n",
       "      <td>NaN</td>\n",
       "      <td>5.0</td>\n",
       "      <td>34.3</td>\n",
       "      <td>4</td>\n",
       "      <td>NaN</td>\n",
       "      <td>...</td>\n",
       "      <td>8.3</td>\n",
       "      <td>0.0</td>\n",
       "      <td>Санкт-Петербург</td>\n",
       "      <td>21741.0</td>\n",
       "      <td>13933.0</td>\n",
       "      <td>1.0</td>\n",
       "      <td>90.0</td>\n",
       "      <td>2.0</td>\n",
       "      <td>574.0</td>\n",
       "      <td>558.0</td>\n",
       "    </tr>\n",
       "    <tr>\n",
       "      <th>3</th>\n",
       "      <td>0</td>\n",
       "      <td>64900000.0</td>\n",
       "      <td>159.0</td>\n",
       "      <td>2015-07-24T00:00:00</td>\n",
       "      <td>3</td>\n",
       "      <td>NaN</td>\n",
       "      <td>14.0</td>\n",
       "      <td>NaN</td>\n",
       "      <td>9</td>\n",
       "      <td>NaN</td>\n",
       "      <td>...</td>\n",
       "      <td>NaN</td>\n",
       "      <td>0.0</td>\n",
       "      <td>Санкт-Петербург</td>\n",
       "      <td>28098.0</td>\n",
       "      <td>6800.0</td>\n",
       "      <td>2.0</td>\n",
       "      <td>84.0</td>\n",
       "      <td>3.0</td>\n",
       "      <td>234.0</td>\n",
       "      <td>424.0</td>\n",
       "    </tr>\n",
       "    <tr>\n",
       "      <th>4</th>\n",
       "      <td>2</td>\n",
       "      <td>10000000.0</td>\n",
       "      <td>100.0</td>\n",
       "      <td>2018-06-19T00:00:00</td>\n",
       "      <td>2</td>\n",
       "      <td>3.03</td>\n",
       "      <td>14.0</td>\n",
       "      <td>32.0</td>\n",
       "      <td>13</td>\n",
       "      <td>NaN</td>\n",
       "      <td>...</td>\n",
       "      <td>41.0</td>\n",
       "      <td>NaN</td>\n",
       "      <td>Санкт-Петербург</td>\n",
       "      <td>31856.0</td>\n",
       "      <td>8098.0</td>\n",
       "      <td>2.0</td>\n",
       "      <td>112.0</td>\n",
       "      <td>1.0</td>\n",
       "      <td>48.0</td>\n",
       "      <td>121.0</td>\n",
       "    </tr>\n",
       "  </tbody>\n",
       "</table>\n",
       "<p>5 rows × 22 columns</p>\n",
       "</div>"
      ],
      "text/plain": [
       "   total_images  last_price  total_area first_day_exposition  rooms  \\\n",
       "0            20  13000000.0       108.0  2019-03-07T00:00:00      3   \n",
       "1             7   3350000.0        40.4  2018-12-04T00:00:00      1   \n",
       "2            10   5196000.0        56.0  2015-08-20T00:00:00      2   \n",
       "3             0  64900000.0       159.0  2015-07-24T00:00:00      3   \n",
       "4             2  10000000.0       100.0  2018-06-19T00:00:00      2   \n",
       "\n",
       "   ceiling_height  floors_total  living_area  floor is_apartment  ...  \\\n",
       "0            2.70          16.0         51.0      8          NaN  ...   \n",
       "1             NaN          11.0         18.6      1          NaN  ...   \n",
       "2             NaN           5.0         34.3      4          NaN  ...   \n",
       "3             NaN          14.0          NaN      9          NaN  ...   \n",
       "4            3.03          14.0         32.0     13          NaN  ...   \n",
       "\n",
       "   kitchen_area  balcony    locality_name  airports_nearest  \\\n",
       "0          25.0      NaN  Санкт-Петербург           18863.0   \n",
       "1          11.0      2.0   посёлок Шушары           12817.0   \n",
       "2           8.3      0.0  Санкт-Петербург           21741.0   \n",
       "3           NaN      0.0  Санкт-Петербург           28098.0   \n",
       "4          41.0      NaN  Санкт-Петербург           31856.0   \n",
       "\n",
       "  cityCenters_nearest  parks_around3000  parks_nearest  ponds_around3000  \\\n",
       "0             16028.0               1.0          482.0               2.0   \n",
       "1             18603.0               0.0            NaN               0.0   \n",
       "2             13933.0               1.0           90.0               2.0   \n",
       "3              6800.0               2.0           84.0               3.0   \n",
       "4              8098.0               2.0          112.0               1.0   \n",
       "\n",
       "   ponds_nearest  days_exposition  \n",
       "0          755.0              NaN  \n",
       "1            NaN             81.0  \n",
       "2          574.0            558.0  \n",
       "3          234.0            424.0  \n",
       "4           48.0            121.0  \n",
       "\n",
       "[5 rows x 22 columns]"
      ]
     },
     "execution_count": 3,
     "metadata": {},
     "output_type": "execute_result"
    }
   ],
   "source": [
    "# Выведим первые 5 строк таблицы, чтобы просмотреть данные\n",
    "data.head()"
   ]
  },
  {
   "cell_type": "markdown",
   "metadata": {},
   "source": [
    "### Вывод"
   ]
  },
  {
   "cell_type": "markdown",
   "metadata": {},
   "source": [
    "В таблице 23699 строк, часть из них них имеет неверный тип данных и пустые значения.\n",
    "\n",
    "last_price тип должен быть int\n",
    "first_day_exposition тип должен быть data\n",
    "floors_total тип должен быть int, плюс пустые значения\n",
    "is_apartment тип должен быть bool, плюс пустые значения\n",
    "balcony тип должен быть int, плюс пустые значения\n",
    "airports_nearest есть пустые значения\n",
    "cityCenters_nearest есть пустые значения\n",
    "parks_around3000 тип должен быть int, плюс пустые значения\n",
    "parks_nearest есть пустые значения\n",
    "ponds_around3000 тип должен быть int, плюс пустые значения\n",
    "ponds_nearest есть пустые значения\n",
    "days_exposition тип должен быть int, плюс пустые значения\n",
    "ceiling_height есть пустые значения\n",
    "living_area есть пустые значения\n",
    "kitchen_area есть пустые значения\n",
    "locality_name есть пустые значения"
   ]
  },
  {
   "cell_type": "markdown",
   "metadata": {},
   "source": [
    "## Предобработка данных"
   ]
  },
  {
   "cell_type": "code",
   "execution_count": 4,
   "metadata": {},
   "outputs": [
    {
     "name": "stdout",
     "output_type": "stream",
     "text": [
      "----------------------\n",
      "count    14504.000000\n",
      "mean         2.771499\n",
      "std          1.261056\n",
      "min          1.000000\n",
      "25%          2.520000\n",
      "50%          2.650000\n",
      "75%          2.800000\n",
      "max        100.000000\n",
      "Name: ceiling_height, dtype: float64\n",
      "----------------------\n",
      "count    20518.000000\n",
      "mean       180.888634\n",
      "std        219.727988\n",
      "min          1.000000\n",
      "25%         45.000000\n",
      "50%         95.000000\n",
      "75%        232.000000\n",
      "max       1580.000000\n",
      "Name: days_exposition, dtype: float64\n",
      "----------------------\n",
      "count    21796.000000\n",
      "mean        34.457852\n",
      "std         22.030445\n",
      "min          2.000000\n",
      "25%         18.600000\n",
      "50%         30.000000\n",
      "75%         42.300000\n",
      "max        409.700000\n",
      "Name: living_area, dtype: float64\n",
      "----------------------\n",
      "count    21421.000000\n",
      "mean        10.569807\n",
      "std          5.905438\n",
      "min          1.300000\n",
      "25%          7.000000\n",
      "50%          9.100000\n",
      "75%         12.000000\n",
      "max        112.000000\n",
      "Name: kitchen_area, dtype: float64\n"
     ]
    }
   ],
   "source": [
    "# Напишем цикл, чтобы посмотреть на средние, медианные, максимальные и минимальные данные в колонках\n",
    "columns = ['ceiling_height', 'days_exposition', 'living_area', 'kitchen_area']\n",
    "for i in columns:\n",
    "    print('----------------------') \n",
    "    print(data[i].describe())  "
   ]
  },
  {
   "cell_type": "code",
   "execution_count": 5,
   "metadata": {},
   "outputs": [
    {
     "name": "stdout",
     "output_type": "stream",
     "text": [
      "<class 'pandas.core.frame.DataFrame'>\n",
      "Int64Index: 23565 entries, 0 to 23698\n",
      "Data columns (total 22 columns):\n",
      " #   Column                Non-Null Count  Dtype         \n",
      "---  ------                --------------  -----         \n",
      " 0   total_images          23565 non-null  int64         \n",
      " 1   last_price            23565 non-null  int32         \n",
      " 2   total_area            23565 non-null  float64       \n",
      " 3   first_day_exposition  23565 non-null  datetime64[ns]\n",
      " 4   rooms                 23565 non-null  int64         \n",
      " 5   ceiling_height        23565 non-null  float64       \n",
      " 6   floors_total          23565 non-null  int32         \n",
      " 7   living_area           23565 non-null  float64       \n",
      " 8   floor                 23565 non-null  int64         \n",
      " 9   is_apartment          23565 non-null  bool          \n",
      " 10  studio                23565 non-null  bool          \n",
      " 11  open_plan             23565 non-null  bool          \n",
      " 12  kitchen_area          23565 non-null  float64       \n",
      " 13  balcony               23565 non-null  int32         \n",
      " 14  locality_name         23565 non-null  object        \n",
      " 15  airports_nearest      18041 non-null  float64       \n",
      " 16  cityCenters_nearest   18064 non-null  float64       \n",
      " 17  parks_around3000      23565 non-null  int32         \n",
      " 18  parks_nearest         8030 non-null   float64       \n",
      " 19  ponds_around3000      23565 non-null  int32         \n",
      " 20  ponds_nearest         9036 non-null   float64       \n",
      " 21  days_exposition       23565 non-null  int32         \n",
      "dtypes: bool(3), datetime64[ns](1), float64(8), int32(6), int64(3), object(1)\n",
      "memory usage: 3.1+ MB\n"
     ]
    }
   ],
   "source": [
    "# Пропусков немного, данные столбцов будут нужны для анализа, заменить их достоточно точно не получается, поэтому удалим их.\n",
    "data = data.dropna(subset=['floors_total', 'locality_name'])\n",
    "\n",
    "# Изменим формат на формат времени\n",
    "data['first_day_exposition'] = pd.to_datetime(data['first_day_exposition'], format='%Y-%m-%dT%H:%M:%S')\n",
    "\n",
    "# Заменим тип данных на булевый, и пустые значения на False, т.к. если не указана информация,\n",
    "# что тип недвижимости апартаменты, то скорее всего, что нет\n",
    "data['is_apartment'] = data['is_apartment'].fillna(value=False).astype('bool')\n",
    "   \n",
    "# С помощью цикла заменим значения на целочисленные, т.к. кол-во балконов, парков, прудов, \n",
    "# цена продажи квартиры и количества этажей целые числа. Также заменим пустые значения на 0.\n",
    "\n",
    "for column in data[[\"last_price\", \"floors_total\", \"balcony\", \"parks_around3000\", \"ponds_around3000\"]]:\n",
    "    data[column] = data[column].fillna(0)\n",
    "    data[column] = data[column].astype(int)\n",
    "        \n",
    "# Заменим медианным значением, т.к. для расчетов столбец пригодится, \n",
    "# а средне значение сильно отличается из-за большого разброса значений\n",
    "data.loc[data['days_exposition'].isna(), 'days_exposition'] = data['days_exposition'].median()\n",
    "data['days_exposition'] = data['days_exposition'].astype('int')\n",
    "\n",
    "data.loc[data['ceiling_height'].isna(), 'ceiling_height'] = data['ceiling_height'].median()\n",
    "\n",
    "# Заменим средним значением, т.к. разница меджу средним и медианным не велика\n",
    "data['kitchen_area'] = data['kitchen_area'].fillna(data['kitchen_area'].mean())\n",
    "data['living_area'] = data['living_area'].fillna(data['living_area'].mean())\n",
    "\n",
    "# airports_nearest, cityCenters_nearest, parks_nearest, ponds_nearest не будем избавляться от пустых значений \n",
    "# или заменять их, так как для расчетов они не понадобятся\n",
    "\n",
    "# Проверим пустые значения и тип данных\n",
    "data.info()"
   ]
  },
  {
   "cell_type": "markdown",
   "metadata": {},
   "source": [
    "## Расчёты и добавление результатов в таблицу"
   ]
  },
  {
   "cell_type": "code",
   "execution_count": 6,
   "metadata": {},
   "outputs": [],
   "source": [
    "# Добавим столбец с ценой за квадратный метр и приведем к целочисленному типу\n",
    "data['price_for_m2'] = (data['last_price'] / data['total_area']).round().astype('int')"
   ]
  },
  {
   "cell_type": "code",
   "execution_count": 7,
   "metadata": {},
   "outputs": [],
   "source": [
    "# Добавим столбцы с днем недели, месяцем и годом публикации объявления\n",
    "import datetime\n",
    "#mydate = datetime.datetime.now()\n",
    "#mydate.strftime(\"%B\")\n",
    "data['first_day_exposition'] = pd.to_datetime(data['first_day_exposition'])\n",
    "data['month'] = pd.DatetimeIndex(data['first_day_exposition']).month\n",
    "data['weekday'] = pd.DatetimeIndex(data['first_day_exposition']).weekday\n",
    "data['year'] = pd.DatetimeIndex(data['first_day_exposition']).year"
   ]
  },
  {
   "cell_type": "code",
   "execution_count": 9,
   "metadata": {},
   "outputs": [],
   "source": [
    "# Напишем функцию для расчета этажности и добавим столбец с этажом квартиры(первый, последний, другой)\n",
    "def number_of_floor(row):\n",
    "    if row['floor'] == 1:\n",
    "        return 'Первый'\n",
    "    elif row['floor'] == row['floors_total']:\n",
    "        return 'Последний'  \n",
    "    else:\n",
    "        return 'Другой'\n",
    "data['floor_of_flat'] = data.apply(number_of_floor, axis=1)"
   ]
  },
  {
   "cell_type": "code",
   "execution_count": 10,
   "metadata": {},
   "outputs": [
    {
     "data": {
      "text/html": [
       "<div>\n",
       "<style scoped>\n",
       "    .dataframe tbody tr th:only-of-type {\n",
       "        vertical-align: middle;\n",
       "    }\n",
       "\n",
       "    .dataframe tbody tr th {\n",
       "        vertical-align: top;\n",
       "    }\n",
       "\n",
       "    .dataframe thead th {\n",
       "        text-align: right;\n",
       "    }\n",
       "</style>\n",
       "<table border=\"1\" class=\"dataframe\">\n",
       "  <thead>\n",
       "    <tr style=\"text-align: right;\">\n",
       "      <th></th>\n",
       "      <th>total_images</th>\n",
       "      <th>last_price</th>\n",
       "      <th>total_area</th>\n",
       "      <th>first_day_exposition</th>\n",
       "      <th>rooms</th>\n",
       "      <th>ceiling_height</th>\n",
       "      <th>floors_total</th>\n",
       "      <th>living_area</th>\n",
       "      <th>floor</th>\n",
       "      <th>is_apartment</th>\n",
       "      <th>...</th>\n",
       "      <th>ponds_around3000</th>\n",
       "      <th>ponds_nearest</th>\n",
       "      <th>days_exposition</th>\n",
       "      <th>price_for_m2</th>\n",
       "      <th>month</th>\n",
       "      <th>weekday</th>\n",
       "      <th>year</th>\n",
       "      <th>floor_of_flat</th>\n",
       "      <th>part_of_living_aria</th>\n",
       "      <th>part_of_kitchen</th>\n",
       "    </tr>\n",
       "  </thead>\n",
       "  <tbody>\n",
       "    <tr>\n",
       "      <th>0</th>\n",
       "      <td>20</td>\n",
       "      <td>13000000</td>\n",
       "      <td>108.0</td>\n",
       "      <td>2019-03-07</td>\n",
       "      <td>3</td>\n",
       "      <td>2.70</td>\n",
       "      <td>16</td>\n",
       "      <td>51.000000</td>\n",
       "      <td>8</td>\n",
       "      <td>False</td>\n",
       "      <td>...</td>\n",
       "      <td>2</td>\n",
       "      <td>755.0</td>\n",
       "      <td>95</td>\n",
       "      <td>120370</td>\n",
       "      <td>3</td>\n",
       "      <td>3</td>\n",
       "      <td>2019</td>\n",
       "      <td>Другой</td>\n",
       "      <td>47</td>\n",
       "      <td>23</td>\n",
       "    </tr>\n",
       "    <tr>\n",
       "      <th>1</th>\n",
       "      <td>7</td>\n",
       "      <td>3350000</td>\n",
       "      <td>40.4</td>\n",
       "      <td>2018-12-04</td>\n",
       "      <td>1</td>\n",
       "      <td>2.65</td>\n",
       "      <td>11</td>\n",
       "      <td>18.600000</td>\n",
       "      <td>1</td>\n",
       "      <td>False</td>\n",
       "      <td>...</td>\n",
       "      <td>0</td>\n",
       "      <td>NaN</td>\n",
       "      <td>81</td>\n",
       "      <td>82921</td>\n",
       "      <td>12</td>\n",
       "      <td>1</td>\n",
       "      <td>2018</td>\n",
       "      <td>Первый</td>\n",
       "      <td>46</td>\n",
       "      <td>27</td>\n",
       "    </tr>\n",
       "    <tr>\n",
       "      <th>2</th>\n",
       "      <td>10</td>\n",
       "      <td>5196000</td>\n",
       "      <td>56.0</td>\n",
       "      <td>2015-08-20</td>\n",
       "      <td>2</td>\n",
       "      <td>2.65</td>\n",
       "      <td>5</td>\n",
       "      <td>34.300000</td>\n",
       "      <td>4</td>\n",
       "      <td>False</td>\n",
       "      <td>...</td>\n",
       "      <td>2</td>\n",
       "      <td>574.0</td>\n",
       "      <td>558</td>\n",
       "      <td>92786</td>\n",
       "      <td>8</td>\n",
       "      <td>3</td>\n",
       "      <td>2015</td>\n",
       "      <td>Другой</td>\n",
       "      <td>61</td>\n",
       "      <td>15</td>\n",
       "    </tr>\n",
       "    <tr>\n",
       "      <th>3</th>\n",
       "      <td>0</td>\n",
       "      <td>64900000</td>\n",
       "      <td>159.0</td>\n",
       "      <td>2015-07-24</td>\n",
       "      <td>3</td>\n",
       "      <td>2.65</td>\n",
       "      <td>14</td>\n",
       "      <td>34.454822</td>\n",
       "      <td>9</td>\n",
       "      <td>False</td>\n",
       "      <td>...</td>\n",
       "      <td>3</td>\n",
       "      <td>234.0</td>\n",
       "      <td>424</td>\n",
       "      <td>408176</td>\n",
       "      <td>7</td>\n",
       "      <td>4</td>\n",
       "      <td>2015</td>\n",
       "      <td>Другой</td>\n",
       "      <td>22</td>\n",
       "      <td>7</td>\n",
       "    </tr>\n",
       "    <tr>\n",
       "      <th>4</th>\n",
       "      <td>2</td>\n",
       "      <td>10000000</td>\n",
       "      <td>100.0</td>\n",
       "      <td>2018-06-19</td>\n",
       "      <td>2</td>\n",
       "      <td>3.03</td>\n",
       "      <td>14</td>\n",
       "      <td>32.000000</td>\n",
       "      <td>13</td>\n",
       "      <td>False</td>\n",
       "      <td>...</td>\n",
       "      <td>1</td>\n",
       "      <td>48.0</td>\n",
       "      <td>121</td>\n",
       "      <td>100000</td>\n",
       "      <td>6</td>\n",
       "      <td>1</td>\n",
       "      <td>2018</td>\n",
       "      <td>Другой</td>\n",
       "      <td>32</td>\n",
       "      <td>41</td>\n",
       "    </tr>\n",
       "  </tbody>\n",
       "</table>\n",
       "<p>5 rows × 29 columns</p>\n",
       "</div>"
      ],
      "text/plain": [
       "   total_images  last_price  total_area first_day_exposition  rooms  \\\n",
       "0            20    13000000       108.0           2019-03-07      3   \n",
       "1             7     3350000        40.4           2018-12-04      1   \n",
       "2            10     5196000        56.0           2015-08-20      2   \n",
       "3             0    64900000       159.0           2015-07-24      3   \n",
       "4             2    10000000       100.0           2018-06-19      2   \n",
       "\n",
       "   ceiling_height  floors_total  living_area  floor  is_apartment  ...  \\\n",
       "0            2.70            16    51.000000      8         False  ...   \n",
       "1            2.65            11    18.600000      1         False  ...   \n",
       "2            2.65             5    34.300000      4         False  ...   \n",
       "3            2.65            14    34.454822      9         False  ...   \n",
       "4            3.03            14    32.000000     13         False  ...   \n",
       "\n",
       "   ponds_around3000  ponds_nearest  days_exposition  price_for_m2 month  \\\n",
       "0                 2          755.0               95        120370     3   \n",
       "1                 0            NaN               81         82921    12   \n",
       "2                 2          574.0              558         92786     8   \n",
       "3                 3          234.0              424        408176     7   \n",
       "4                 1           48.0              121        100000     6   \n",
       "\n",
       "   weekday  year  floor_of_flat  part_of_living_aria  part_of_kitchen  \n",
       "0        3  2019         Другой                   47               23  \n",
       "1        1  2018         Первый                   46               27  \n",
       "2        3  2015         Другой                   61               15  \n",
       "3        4  2015         Другой                   22                7  \n",
       "4        1  2018         Другой                   32               41  \n",
       "\n",
       "[5 rows x 29 columns]"
      ]
     },
     "execution_count": 10,
     "metadata": {},
     "output_type": "execute_result"
    }
   ],
   "source": [
    "# Добавим столбцы с соотношением жилой и общей площади, а также отношение площади кухни к общей\n",
    "data['part_of_living_aria'] = (data['living_area'] / data['total_area'] * 100).round().astype('int')\n",
    "data['part_of_kitchen'] = (data['kitchen_area'] / data['total_area'] * 100).round().astype('int')\n",
    "# Проверим, все ли столбцы коррктно добавились\n",
    "data.head()"
   ]
  },
  {
   "cell_type": "markdown",
   "metadata": {},
   "source": [
    "## Исследовательский анализ данных"
   ]
  },
  {
   "cell_type": "markdown",
   "metadata": {},
   "source": [
    "### Изучаем основные параметры"
   ]
  },
  {
   "cell_type": "code",
   "execution_count": 11,
   "metadata": {},
   "outputs": [
    {
     "data": {
      "image/png": "[encoded data removed]",
      "text/plain": [
       "<Figure size 432x216 with 1 Axes>"
      ]
     },
     "metadata": {
      "needs_background": "light"
     },
     "output_type": "display_data"
    }
   ],
   "source": [
    "# Рассмотрим общую площадь \n",
    "data['total_area'].plot(title='total_area', kind='hist', bins=50, range=(0, 350), grid=True, figsize=(6,3))\n",
    "plt.show()"
   ]
  },
  {
   "cell_type": "code",
   "execution_count": 12,
   "metadata": {},
   "outputs": [
    {
     "data": {
      "image/png": "[encoded data removed]",
      "text/plain": [
       "<Figure size 432x288 with 1 Axes>"
      ]
     },
     "metadata": {
      "needs_background": "light"
     },
     "output_type": "display_data"
    }
   ],
   "source": [
    "# Посмотрим на данные из диаграммы размаха\n",
    "plt.ylim(0,600)\n",
    "plt.boxplot(data['total_area'])\n",
    "plt.show()"
   ]
  },
  {
   "cell_type": "code",
   "execution_count": 13,
   "metadata": {},
   "outputs": [
    {
     "data": {
      "image/png": "[encoded data removed]",
      "text/plain": [
       "<Figure size 432x216 with 1 Axes>"
      ]
     },
     "metadata": {
      "needs_background": "light"
     },
     "output_type": "display_data"
    }
   ],
   "source": [
    "# Изучим конечную цену \n",
    "data['last_price'].plot(title='last_price', grid=True, kind='hist', bins=100, range=(0, 15000000), figsize=(6,3))\n",
    "plt.show()"
   ]
  },
  {
   "cell_type": "code",
   "execution_count": 14,
   "metadata": {},
   "outputs": [
    {
     "data": {
      "image/png": "[encoded data removed]",
      "text/plain": [
       "<Figure size 432x288 with 1 Axes>"
      ]
     },
     "metadata": {
      "needs_background": "light"
     },
     "output_type": "display_data"
    }
   ],
   "source": [
    "# Проанализируем данные из диаграммы размаха\n",
    "plt.ylim(0,15000000)\n",
    "plt.boxplot(data['last_price'])\n",
    "plt.show()"
   ]
  },
  {
   "cell_type": "code",
   "execution_count": 15,
   "metadata": {},
   "outputs": [
    {
     "data": {
      "image/png": "[encoded data removed]",
      "text/plain": [
       "<Figure size 432x216 with 1 Axes>"
      ]
     },
     "metadata": {
      "needs_background": "light"
     },
     "output_type": "display_data"
    }
   ],
   "source": [
    "# Изучим количество комнат\n",
    "data['rooms'].plot(title='rooms', grid=True, kind='hist', bins=20, figsize=(6,3))\n",
    "plt.show()"
   ]
  },
  {
   "cell_type": "code",
   "execution_count": 16,
   "metadata": {},
   "outputs": [
    {
     "data": {
      "image/png": "[encoded data removed]",
      "text/plain": [
       "<Figure size 432x288 with 1 Axes>"
      ]
     },
     "metadata": {
      "needs_background": "light"
     },
     "output_type": "display_data"
    }
   ],
   "source": [
    "# Посмотрим на данные из диаграммы размаха\n",
    "plt.ylim(0,17)\n",
    "plt.boxplot(data['rooms'])\n",
    "plt.show()"
   ]
  },
  {
   "cell_type": "code",
   "execution_count": 17,
   "metadata": {},
   "outputs": [
    {
     "data": {
      "image/png": "[encoded data removed]",
      "text/plain": [
       "<Figure size 432x216 with 1 Axes>"
      ]
     },
     "metadata": {
      "needs_background": "light"
     },
     "output_type": "display_data"
    }
   ],
   "source": [
    "# Рассмотрим высоту потолков\n",
    "data['ceiling_height'].plot(title='ceiling_height', kind='hist', bins=40, grid=True, range=(2, 5), figsize=(6,3))\n",
    "plt.show()"
   ]
  },
  {
   "cell_type": "code",
   "execution_count": 18,
   "metadata": {},
   "outputs": [
    {
     "data": {
      "image/png": "[encoded data removed]",
      "text/plain": [
       "<Figure size 432x288 with 1 Axes>"
      ]
     },
     "metadata": {
      "needs_background": "light"
     },
     "output_type": "display_data"
    }
   ],
   "source": [
    "# Изучим данные из диаграммы размаха\n",
    "plt.ylim(1.5,4)\n",
    "plt.boxplot(data['ceiling_height'])\n",
    "plt.show()"
   ]
  },
  {
   "cell_type": "markdown",
   "metadata": {},
   "source": [
    "Итог: изучив общую площадь, цену, количетсво комнат, высоту потолков, видим, что распределение значений нормальное, с небольшим разбросом.\n",
    "\n",
    "Наиболее распространенная площадь в районе 35-70м2. Наиболее продаваемые квартиры находятся в диапозоне от 3 до 6 млн. руб. Чаще продают 1,2 и 3 комнатные квартиры. И квартиры, с высотой потолка 2,5 до 2,7м."
   ]
  },
  {
   "cell_type": "markdown",
   "metadata": {},
   "source": [
    "### Изучаем время продажи квартиры"
   ]
  },
  {
   "cell_type": "code",
   "execution_count": 19,
   "metadata": {},
   "outputs": [
    {
     "data": {
      "image/png": "[encoded data removed]",
      "text/plain": [
       "<Figure size 432x288 with 1 Axes>"
      ]
     },
     "metadata": {
      "needs_background": "light"
     },
     "output_type": "display_data"
    }
   ],
   "source": [
    "# Посмотрим на данные диаграммы размаха\n",
    "plt.ylim(-10,1000)\n",
    "plt.boxplot(data['days_exposition'])\n",
    "plt.show()"
   ]
  },
  {
   "cell_type": "code",
   "execution_count": 20,
   "metadata": {},
   "outputs": [
    {
     "data": {
      "image/png": "[encoded data removed]",
      "text/plain": [
       "<Figure size 432x216 with 1 Axes>"
      ]
     },
     "metadata": {
      "needs_background": "light"
     },
     "output_type": "display_data"
    },
    {
     "data": {
      "text/plain": [
       "count    23565.000000\n",
       "mean       169.203692\n",
       "std        206.497729\n",
       "min          1.000000\n",
       "25%         45.000000\n",
       "50%         95.000000\n",
       "75%        198.000000\n",
       "max       1580.000000\n",
       "Name: days_exposition, dtype: float64"
      ]
     },
     "execution_count": 20,
     "metadata": {},
     "output_type": "execute_result"
    }
   ],
   "source": [
    "# Построим гистограмму количества размещенных объявления дней\n",
    "data['days_exposition'].plot(title='days_exposition', kind='hist', bins=50, grid=True, range=(0, 1500), figsize=(6,3))\n",
    "plt.show()\n",
    "data['days_exposition'].describe()"
   ]
  },
  {
   "cell_type": "code",
   "execution_count": 21,
   "metadata": {},
   "outputs": [
    {
     "data": {
      "image/png": "[encoded data removed]",
      "text/plain": [
       "<Figure size 432x216 with 1 Axes>"
      ]
     },
     "metadata": {
      "needs_background": "light"
     },
     "output_type": "display_data"
    }
   ],
   "source": [
    "# Построим гистограмму количества размещенных дней объявления(с ограничением до 200)\n",
    "data['days_exposition'].plot(title='days_exposition', kind='hist', bins=50, grid=True, range=(0, 200), figsize=(6,3))\n",
    "plt.show()"
   ]
  },
  {
   "cell_type": "code",
   "execution_count": 22,
   "metadata": {},
   "outputs": [
    {
     "data": {
      "text/plain": [
       "count    23565.000000\n",
       "mean       169.203692\n",
       "std        206.497729\n",
       "min          1.000000\n",
       "25%         45.000000\n",
       "50%         95.000000\n",
       "75%        198.000000\n",
       "max       1580.000000\n",
       "Name: days_exposition, dtype: float64"
      ]
     },
     "execution_count": 22,
     "metadata": {},
     "output_type": "execute_result"
    }
   ],
   "source": [
    "# Изучим данные столбца \n",
    "data['days_exposition'].describe()"
   ]
  },
  {
   "cell_type": "code",
   "execution_count": 23,
   "metadata": {},
   "outputs": [
    {
     "data": {
      "text/plain": [
       "95      3234\n",
       "45       879\n",
       "60       538\n",
       "7        234\n",
       "30       208\n",
       "        ... \n",
       "964        1\n",
       "1147       1\n",
       "1228       1\n",
       "1112       1\n",
       "971        1\n",
       "Name: days_exposition, Length: 1139, dtype: int64"
      ]
     },
     "execution_count": 23,
     "metadata": {},
     "output_type": "execute_result"
    }
   ],
   "source": [
    "# Применим метод value_counts, чтобы увидеть аномалии \n",
    "data['days_exposition'].value_counts()"
   ]
  },
  {
   "cell_type": "markdown",
   "metadata": {},
   "source": [
    "Среднее число дней продажи 169, медиана 95. Межквартильный размах составляет 45 до 198, а диаграмма размаха от 0 до 450. Значит особо быстрых продаж у нас нет, а долгие лежат за пределами 450. По гистограмме, с числом корзин 50 и значениями от 0 до 200, видны аномальные выбросы. С помощью метода value_counts нашли аномалии - 95,45,60,7,30. "
   ]
  },
  {
   "cell_type": "markdown",
   "metadata": {},
   "source": [
    "###  Работа с редкими и выбивающимися значениями"
   ]
  },
  {
   "cell_type": "code",
   "execution_count": 24,
   "metadata": {},
   "outputs": [],
   "source": [
    "# Уберем аномальные значения в днях размещения объявления, а также выбросы из диаграммы размаха в количестве комнат,\n",
    "#жилой площади и высоте потолков\n",
    "good_data = data.query('days_exposition != [95, 45, 60, 7, 30] and \\\n",
    "    rooms < (rooms.quantile(0.75) + 1.5*(rooms.quantile(0.75) - rooms.quantile(0.25))) and \\\n",
    "    ceiling_height < (ceiling_height.quantile(0.75) + 1.5*(ceiling_height.quantile(0.75) - ceiling_height.quantile(0.25))) and \\\n",
    "    total_area < (total_area.quantile(0.75) + 1.5*(total_area.quantile(0.75) - total_area.quantile(0.25)))'\n",
    "                      )"
   ]
  },
  {
   "cell_type": "code",
   "execution_count": 25,
   "metadata": {},
   "outputs": [],
   "source": [
    "# Код ревьюера\n",
    "\n",
    "# Уберем аномальные значения в днях размещения объявления, а также выбросы из диаграммы размаха в количестве комнат, \n",
    "#жилой площади и высоте потолков\n",
    "good_data = data.query('days_exposition != [95, 45, 60, 7, 30] and \\\n",
    "                       rooms < (rooms.quantile(0.75) + 1.5*(rooms.quantile(0.75) - rooms.quantile(0.25))) and \\\n",
    "                       ceiling_height < (ceiling_height.quantile(0.75) + 1.5*(ceiling_height.quantile(0.75) - ceiling_height.quantile(0.25))) and \\\n",
    "                       total_area < (total_area.quantile(0.75) + 1.5*(total_area.quantile(0.75) - total_area.quantile(0.25)))')"
   ]
  },
  {
   "cell_type": "code",
   "execution_count": 26,
   "metadata": {},
   "outputs": [
    {
     "data": {
      "text/plain": [
       "count    15890.000000\n",
       "mean       183.281624\n",
       "std        214.209217\n",
       "min          1.000000\n",
       "25%         43.000000\n",
       "50%        105.500000\n",
       "75%        237.000000\n",
       "max       1580.000000\n",
       "Name: days_exposition, dtype: float64"
      ]
     },
     "execution_count": 26,
     "metadata": {},
     "output_type": "execute_result"
    },
    {
     "data": {
      "image/png": "[encoded data removed]",
      "text/plain": [
       "<Figure size 432x288 with 1 Axes>"
      ]
     },
     "metadata": {
      "needs_background": "light"
     },
     "output_type": "display_data"
    }
   ],
   "source": [
    "# По диаграмме размаха посмотрим, как изменилось время продажи квартир после очистик данных \n",
    "plt.boxplot(good_data['days_exposition'])\n",
    "good_data['days_exposition'].describe()"
   ]
  },
  {
   "cell_type": "code",
   "execution_count": 27,
   "metadata": {},
   "outputs": [
    {
     "data": {
      "image/png": "[encoded data removed]",
      "text/plain": [
       "<Figure size 432x216 with 1 Axes>"
      ]
     },
     "metadata": {
      "needs_background": "light"
     },
     "output_type": "display_data"
    }
   ],
   "source": [
    "# Построим гистограмму количества размещенных объявления дней, очищенную от аномалий \n",
    "good_data['days_exposition'].plot(title='days_exposition', kind='hist', bins=50, grid=True, range=(0, 1500), figsize=(6,3))\n",
    "plt.show()"
   ]
  },
  {
   "cell_type": "code",
   "execution_count": 28,
   "metadata": {},
   "outputs": [
    {
     "data": {
      "image/png": "[encoded data removed]",
      "text/plain": [
       "<Figure size 432x216 with 1 Axes>"
      ]
     },
     "metadata": {
      "needs_background": "light"
     },
     "output_type": "display_data"
    }
   ],
   "source": [
    "# Построим гистограмму количества размещенных объявления дней(с ограничением до 200), очищенную от аномалий\n",
    "good_data['days_exposition'].plot(title='days_exposition', kind='hist', bins=50, grid=True, range=(0, 200), figsize=(6,3))\n",
    "plt.show()"
   ]
  },
  {
   "cell_type": "markdown",
   "metadata": {},
   "source": [
    "Избавившись от аномалий во времени продажи квартир, выбросах в количестве квартир, площади и высоте потолков, увеличилась медиана и среднее число дней продажи квартир. Нормальное распределение теперь составляет от до до 550 дней. Аномальные значения 95,60,45,30 и 7 дней, возможно связаны с обновлением объявления, ведь размещение объявления также имеет определенных срок."
   ]
  },
  {
   "cell_type": "markdown",
   "metadata": {},
   "source": [
    "###  Выявление факторов, влияющих на стоимость квартиры"
   ]
  },
  {
   "cell_type": "code",
   "execution_count": 29,
   "metadata": {},
   "outputs": [
    {
     "data": {
      "text/plain": [
       "0.6886404038694154"
      ]
     },
     "execution_count": 29,
     "metadata": {},
     "output_type": "execute_result"
    },
    {
     "data": {
      "image/png": "[encoded data removed]",
      "text/plain": [
       "<Figure size 432x288 with 1 Axes>"
      ]
     },
     "metadata": {
      "needs_background": "light"
     },
     "output_type": "display_data"
    }
   ],
   "source": [
    "# Беру данные, очищенные от аномалий и выбросов(good_data). \n",
    "\n",
    "# Построим график зависимости цены от площади\n",
    "good_data.pivot_table(index='total_area', values='last_price', aggfunc='median').plot(grid=True, style='o')\n",
    "good_data['total_area'].corr(good_data['last_price'])"
   ]
  },
  {
   "cell_type": "markdown",
   "metadata": {},
   "source": [
    "Из графика видим зависимость цены от площади квартиры, с увелечнием площади растет цена. Но корреляция не особо сильная, составляет 68%."
   ]
  },
  {
   "cell_type": "code",
   "execution_count": 30,
   "metadata": {},
   "outputs": [
    {
     "data": {
      "text/plain": [
       "0.7145463833406964"
      ]
     },
     "execution_count": 30,
     "metadata": {},
     "output_type": "execute_result"
    }
   ],
   "source": [
    "# Код ревьюера\n",
    "\n",
    "# Корреляция между значениями полной цены квартиры и м^2\n",
    "good_data['last_price'].corr(good_data['price_for_m2'])"
   ]
  },
  {
   "cell_type": "code",
   "execution_count": 31,
   "metadata": {},
   "outputs": [
    {
     "data": {
      "image/png": "[encoded data removed]",
      "text/plain": [
       "<Figure size 432x288 with 1 Axes>"
      ]
     },
     "metadata": {
      "needs_background": "light"
     },
     "output_type": "display_data"
    },
    {
     "data": {
      "text/plain": [
       "0.4004723439518457"
      ]
     },
     "execution_count": 31,
     "metadata": {},
     "output_type": "execute_result"
    }
   ],
   "source": [
    "# Построим график зависимости цены от числа комнат  \n",
    "good_data.pivot_table(index='rooms', values='last_price', aggfunc='median').plot(grid=True)\n",
    "plt.show()\n",
    "good_data['rooms'].corr(good_data['last_price'])"
   ]
  },
  {
   "cell_type": "markdown",
   "metadata": {},
   "source": [
    "Из графика видим, что цена растет с увеличением количества комнат в квартире. Данное увеличение в цене характерно до 4 комнат, далее цена начинает снижаться. Корреляция не высокая - 40%."
   ]
  },
  {
   "cell_type": "code",
   "execution_count": 32,
   "metadata": {},
   "outputs": [
    {
     "data": {
      "image/png": "[encoded data removed]",
      "text/plain": [
       "<Figure size 432x288 with 1 Axes>"
      ]
     },
     "metadata": {
      "needs_background": "light"
     },
     "output_type": "display_data"
    },
    {
     "data": {
      "text/plain": [
       "-0.30734271282843373"
      ]
     },
     "execution_count": 32,
     "metadata": {},
     "output_type": "execute_result"
    }
   ],
   "source": [
    "# Построим график зависимости цены от удалённости от центра\n",
    "good_data.plot(grid=True, kind='scatter', y = 'last_price', x = 'cityCenters_nearest', alpha = 0.3)\n",
    "plt.show()\n",
    "good_data['cityCenters_nearest'].corr(good_data['last_price'])"
   ]
  },
  {
   "cell_type": "markdown",
   "metadata": {},
   "source": [
    "На графике видно снижение цены от удаленности от центра, но сильной корреляции при этом нет."
   ]
  },
  {
   "cell_type": "code",
   "execution_count": 33,
   "metadata": {},
   "outputs": [
    {
     "data": {
      "image/png": "[encoded data removed]",
      "text/plain": [
       "<Figure size 432x288 with 1 Axes>"
      ]
     },
     "metadata": {
      "needs_background": "light"
     },
     "output_type": "display_data"
    }
   ],
   "source": [
    "# Построим столчатую диаграмму.\n",
    "good_data.pivot_table(index='floor_of_flat', values='last_price', aggfunc='median').plot(kind='hist', grid=True)\n",
    "plt.show()"
   ]
  },
  {
   "cell_type": "code",
   "execution_count": 34,
   "metadata": {},
   "outputs": [
    {
     "data": {
      "text/plain": [
       "<AxesSubplot:xlabel='floor_of_flat'>"
      ]
     },
     "execution_count": 34,
     "metadata": {},
     "output_type": "execute_result"
    },
    {
     "data": {
      "image/png": "[encoded data removed]",
      "text/plain": [
       "<Figure size 432x288 with 1 Axes>"
      ]
     },
     "metadata": {
      "needs_background": "light"
     },
     "output_type": "display_data"
    }
   ],
   "source": [
    "# Построим график зависимости цены от этажа.\n",
    "(good_data.pivot_table(index='floor_of_flat', values='last_price', aggfunc='median')\n",
    ".plot(grid=True))"
   ]
  },
  {
   "cell_type": "markdown",
   "metadata": {},
   "source": [
    "На графике видим, что дешевле всего стоят квартиры на первом этаже, выше всего цена квартир категории другой."
   ]
  },
  {
   "cell_type": "code",
   "execution_count": 35,
   "metadata": {},
   "outputs": [
    {
     "data": {
      "text/plain": [
       "<AxesSubplot:xlabel='floor_of_flat'>"
      ]
     },
     "execution_count": 35,
     "metadata": {},
     "output_type": "execute_result"
    },
    {
     "data": {
      "image/png": "[encoded data removed]",
      "text/plain": [
       "<Figure size 432x288 with 1 Axes>"
      ]
     },
     "metadata": {
      "needs_background": "light"
     },
     "output_type": "display_data"
    }
   ],
   "source": [
    "(good_data.pivot_table(index='floor_of_flat', values='last_price', aggfunc='median')\n",
    ".plot(kind='bar', legend=False))"
   ]
  },
  {
   "cell_type": "code",
   "execution_count": 36,
   "metadata": {},
   "outputs": [
    {
     "data": {
      "image/png": "[encoded data removed]",
      "text/plain": [
       "<Figure size 432x288 with 1 Axes>"
      ]
     },
     "metadata": {
      "needs_background": "light"
     },
     "output_type": "display_data"
    }
   ],
   "source": [
    "# Построим график зависимости цены от месяца продажи\n",
    "good_data.pivot_table(index='month', values='last_price', aggfunc='median').plot(grid=True)\n",
    "plt.show()"
   ]
  },
  {
   "cell_type": "markdown",
   "metadata": {},
   "source": [
    "Судя по графику, дороже квартиры, которых были проданы в сентябре и ноябре, а дешевле в июне и июле. Возможно это связано с новым учебным годом, когда студенты и окончившие вуз переезжают в город и после университета задумываются о приобретении недвижимости. А летом спрос падает и с этим цена."
   ]
  },
  {
   "cell_type": "code",
   "execution_count": 37,
   "metadata": {},
   "outputs": [
    {
     "data": {
      "image/png": "[encoded data removed]",
      "text/plain": [
       "<Figure size 432x288 with 1 Axes>"
      ]
     },
     "metadata": {
      "needs_background": "light"
     },
     "output_type": "display_data"
    }
   ],
   "source": [
    "# Построим график зависимости цены от дня недели\n",
    "good_data.pivot_table(index='weekday', values='last_price', aggfunc='median').plot(grid=True)\n",
    "plt.show()"
   ]
  },
  {
   "cell_type": "markdown",
   "metadata": {},
   "source": [
    "По графику видим, что более дорогие квартиры были проданы в понедельник и вторник, а наиболее дешевые в четверг."
   ]
  },
  {
   "cell_type": "code",
   "execution_count": 38,
   "metadata": {},
   "outputs": [
    {
     "data": {
      "image/png": "[encoded data removed]",
      "text/plain": [
       "<Figure size 432x288 with 1 Axes>"
      ]
     },
     "metadata": {
      "needs_background": "light"
     },
     "output_type": "display_data"
    }
   ],
   "source": [
    "# Построим график зависимости цены от года продажи\n",
    "good_data.pivot_table(index='year', values='last_price', aggfunc='median').plot(grid=True)\n",
    "plt.show()"
   ]
  },
  {
   "cell_type": "markdown",
   "metadata": {},
   "source": [
    "Можем наблюдать с 2014 резкий спад до 2016, с 2016 по 2017 цена особо не менялась, возможно это связано с кризисом 2014 года. В 2017 квартиры стали расти в цене, т.к. экономика стала укрепляться и стало повляться новое комфортабельное жилье."
   ]
  },
  {
   "cell_type": "markdown",
   "metadata": {},
   "source": [
    " ###  Исследование 10 населённых пунктов с самой высокой и низкой стоимостью жилья."
   ]
  },
  {
   "cell_type": "code",
   "execution_count": 39,
   "metadata": {},
   "outputs": [
    {
     "data": {
      "text/html": [
       "<div>\n",
       "<style scoped>\n",
       "    .dataframe tbody tr th:only-of-type {\n",
       "        vertical-align: middle;\n",
       "    }\n",
       "\n",
       "    .dataframe tbody tr th {\n",
       "        vertical-align: top;\n",
       "    }\n",
       "\n",
       "    .dataframe thead th {\n",
       "        text-align: right;\n",
       "    }\n",
       "</style>\n",
       "<table border=\"1\" class=\"dataframe\">\n",
       "  <thead>\n",
       "    <tr style=\"text-align: right;\">\n",
       "      <th></th>\n",
       "      <th>count</th>\n",
       "      <th>mean</th>\n",
       "    </tr>\n",
       "    <tr>\n",
       "      <th>locality_name</th>\n",
       "      <th></th>\n",
       "      <th></th>\n",
       "    </tr>\n",
       "  </thead>\n",
       "  <tbody>\n",
       "    <tr>\n",
       "      <th>Санкт-Петербург</th>\n",
       "      <td>10211</td>\n",
       "      <td>106432.294388</td>\n",
       "    </tr>\n",
       "    <tr>\n",
       "      <th>посёлок Мурино</th>\n",
       "      <td>458</td>\n",
       "      <td>85570.816594</td>\n",
       "    </tr>\n",
       "    <tr>\n",
       "      <th>посёлок Шушары</th>\n",
       "      <td>353</td>\n",
       "      <td>77955.090652</td>\n",
       "    </tr>\n",
       "    <tr>\n",
       "      <th>Всеволожск</th>\n",
       "      <td>294</td>\n",
       "      <td>68709.935374</td>\n",
       "    </tr>\n",
       "    <tr>\n",
       "      <th>деревня Кудрово</th>\n",
       "      <td>264</td>\n",
       "      <td>92242.094697</td>\n",
       "    </tr>\n",
       "    <tr>\n",
       "      <th>посёлок Парголово</th>\n",
       "      <td>259</td>\n",
       "      <td>89934.482625</td>\n",
       "    </tr>\n",
       "    <tr>\n",
       "      <th>Колпино</th>\n",
       "      <td>258</td>\n",
       "      <td>75314.189922</td>\n",
       "    </tr>\n",
       "    <tr>\n",
       "      <th>Пушкин</th>\n",
       "      <td>245</td>\n",
       "      <td>100583.489796</td>\n",
       "    </tr>\n",
       "    <tr>\n",
       "      <th>Гатчина</th>\n",
       "      <td>225</td>\n",
       "      <td>67383.675556</td>\n",
       "    </tr>\n",
       "    <tr>\n",
       "      <th>Выборг</th>\n",
       "      <td>160</td>\n",
       "      <td>56696.637500</td>\n",
       "    </tr>\n",
       "  </tbody>\n",
       "</table>\n",
       "</div>"
      ],
      "text/plain": [
       "                   count           mean\n",
       "locality_name                          \n",
       "Санкт-Петербург    10211  106432.294388\n",
       "посёлок Мурино       458   85570.816594\n",
       "посёлок Шушары       353   77955.090652\n",
       "Всеволожск           294   68709.935374\n",
       "деревня Кудрово      264   92242.094697\n",
       "посёлок Парголово    259   89934.482625\n",
       "Колпино              258   75314.189922\n",
       "Пушкин               245  100583.489796\n",
       "Гатчина              225   67383.675556\n",
       "Выборг               160   56696.637500"
      ]
     },
     "execution_count": 39,
     "metadata": {},
     "output_type": "execute_result"
    }
   ],
   "source": [
    "# С помощью pivot_table построим таблицу с 10 населенными пунктами с наибольшим числом объявлений\n",
    "locality_name_pivot_table = good_data.pivot_table(index='locality_name', values='price_for_m2', aggfunc=['count', 'mean'])\n",
    "locality_name_pivot_table.columns= ['count', 'mean']\n",
    "locality_name_pivot_table.sort_values(by='count', ascending=False).head(10)"
   ]
  },
  {
   "cell_type": "markdown",
   "metadata": {},
   "source": [
    "Населённый пункт с самой высокой стоимостью жилья - Санкт-Петербург, с самой низкой - Выборг"
   ]
  },
  {
   "cell_type": "markdown",
   "metadata": {},
   "source": [
    " ### Изучим предложения квартир в Санкт-Петербурге"
   ]
  },
  {
   "cell_type": "code",
   "execution_count": 40,
   "metadata": {},
   "outputs": [
    {
     "data": {
      "image/png": "[encoded data removed]",
      "text/plain": [
       "<Figure size 432x288 with 1 Axes>"
      ]
     },
     "metadata": {
      "needs_background": "light"
     },
     "output_type": "display_data"
    }
   ],
   "source": [
    "# Добавим столбец с расстоянием в км до центра\n",
    "good_data = good_data.dropna(subset=['cityCenters_nearest'])\n",
    "good_data['cityCenters_km'] = (good_data['cityCenters_nearest'] / 1000).round().astype('int')\n",
    "(good_data.query('locality_name == \"Санкт-Петербург\"')\n",
    " .pivot_table(index='cityCenters_km', values='last_price', aggfunc='median').plot(grid=True))\n",
    "plt.show()"
   ]
  },
  {
   "cell_type": "markdown",
   "metadata": {},
   "source": [
    "Судя по графику, центр Санкт-Петербурга находится в радиусе 8 км, т.к. после идет снижение цены идет более плавно с небольшими выпадами. "
   ]
  },
  {
   "cell_type": "markdown",
   "metadata": {},
   "source": [
    " ### Изучим предложения квартир в центре Санкт-Петербурга\n"
   ]
  },
  {
   "cell_type": "code",
   "execution_count": 41,
   "metadata": {},
   "outputs": [
    {
     "data": {
      "image/png": "[encoded data removed]",
      "text/plain": [
       "<Figure size 432x216 with 1 Axes>"
      ]
     },
     "metadata": {
      "needs_background": "light"
     },
     "output_type": "display_data"
    }
   ],
   "source": [
    "# Выделим сегмент квартир в центре, в радиусе 8 км.\n",
    "center_spb = good_data.query('locality_name == \"Санкт-Петербург\"  and cityCenters_km <=8')\n",
    "\n",
    "# Построим гистограмму, чтобы посмотреть, как распредилилась общая площадь в центре Санкт-Петербурга \n",
    "center_spb['total_area'].plot(title='total_area', kind='hist', bins=50, range=(0, 150), grid=True, figsize=(6,3))\n",
    "plt.show()"
   ]
  },
  {
   "cell_type": "code",
   "execution_count": 42,
   "metadata": {},
   "outputs": [
    {
     "data": {
      "image/png": "[encoded data removed]",
      "text/plain": [
       "<Figure size 432x216 with 1 Axes>"
      ]
     },
     "metadata": {
      "needs_background": "light"
     },
     "output_type": "display_data"
    }
   ],
   "source": [
    "# Построим гистограмму, чтобы оценить, как распредилилась стоимость квартр в центре Санкт-Петербурга \n",
    "center_spb['last_price'].plot(title='last_price', kind='hist', bins=20, range=(0, 15000000), grid=True, figsize=(6,3))\n",
    "plt.show()"
   ]
  },
  {
   "cell_type": "code",
   "execution_count": 43,
   "metadata": {},
   "outputs": [
    {
     "data": {
      "image/png": "[encoded data removed]",
      "text/plain": [
       "<Figure size 432x216 with 1 Axes>"
      ]
     },
     "metadata": {
      "needs_background": "light"
     },
     "output_type": "display_data"
    }
   ],
   "source": [
    "# Построим гистограмму, чтобы оценить, как распредилилась стоимость квартр в центре Санкт-Петербурга \n",
    "center_spb['rooms'].plot(title='rooms', kind='hist', bins=10, range=(0, 10), grid=True, figsize=(6,3))\n",
    "plt.show()"
   ]
  },
  {
   "cell_type": "code",
   "execution_count": 44,
   "metadata": {},
   "outputs": [
    {
     "data": {
      "image/png": "[encoded data removed]",
      "text/plain": [
       "<Figure size 432x216 with 1 Axes>"
      ]
     },
     "metadata": {
      "needs_background": "light"
     },
     "output_type": "display_data"
    }
   ],
   "source": [
    "# Построим гистограмму, чтобы посмотреть на высоту потолков в центре города\n",
    "center_spb['ceiling_height'].plot(title='ceiling_height', kind='hist', bins=20, range=(1.5, 5), grid=True, figsize=(6,3))\n",
    "plt.show()"
   ]
  },
  {
   "cell_type": "markdown",
   "metadata": {},
   "source": [
    "По графикам видим, что наиболее продаваемые квартиры в центре Санкт-Петербурга с площадью от 45-80м2, от 5-8 млн, 2 и 3 комнатны, с высотой потолка 2,65м."
   ]
  },
  {
   "cell_type": "code",
   "execution_count": 45,
   "metadata": {},
   "outputs": [
    {
     "data": {
      "image/png": "[encoded data removed]",
      "text/plain": [
       "<Figure size 432x288 with 1 Axes>"
      ]
     },
     "metadata": {
      "needs_background": "light"
     },
     "output_type": "display_data"
    }
   ],
   "source": [
    "# Построим график зависимости цены от количества комнат\n",
    "center_spb.pivot_table(index='rooms', values='last_price', aggfunc='median').plot(grid=True)\n",
    "plt.show()"
   ]
  },
  {
   "cell_type": "markdown",
   "metadata": {},
   "source": [
    "Судя по графику, в центре Санкт-Петербурга стоимость квартиры растет с увеличением количества комнат. "
   ]
  },
  {
   "cell_type": "code",
   "execution_count": 46,
   "metadata": {},
   "outputs": [
    {
     "data": {
      "image/png": "[encoded data removed]",
      "text/plain": [
       "<Figure size 432x288 with 1 Axes>"
      ]
     },
     "metadata": {
      "needs_background": "light"
     },
     "output_type": "display_data"
    }
   ],
   "source": [
    "# Построим график зависимости цены от удаленности от центра\n",
    "center_spb.pivot_table(index='cityCenters_km', values='last_price', aggfunc='median').plot(grid=True)\n",
    "plt.show()"
   ]
  },
  {
   "cell_type": "markdown",
   "metadata": {},
   "source": [
    "Исходя из графика, цена Санкт-Петербурга падает, чем больше ее удаленность, но есть спад цены в районе 3 км, возможно там находятся более старые дома и менее комфортные дома."
   ]
  },
  {
   "cell_type": "code",
   "execution_count": 47,
   "metadata": {},
   "outputs": [
    {
     "data": {
      "image/png": "[encoded data removed]",
      "text/plain": [
       "<Figure size 432x288 with 1 Axes>"
      ]
     },
     "metadata": {
      "needs_background": "light"
     },
     "output_type": "display_data"
    }
   ],
   "source": [
    "# Построим график зависимости цены от месяца продажи квартиры \n",
    "center_spb.pivot_table(index='month', values='last_price', aggfunc='median').plot(grid=True)\n",
    "plt.show()"
   ]
  },
  {
   "cell_type": "markdown",
   "metadata": {},
   "source": [
    "По графику видим, что наибольшая цена продажи в центре Санкт-Петербурга была в сентябре. Наименьшая в феврале. Возможно это связано с тем, что летом люди имеют другие планы, отпуск, и начинают в сентярбя начинают свою активность, так же покупка может быть связана с прибывшими студентами и закончавшими ВУЗы."
   ]
  },
  {
   "cell_type": "code",
   "execution_count": 48,
   "metadata": {},
   "outputs": [
    {
     "data": {
      "image/png": "[encoded data removed]",
      "text/plain": [
       "<Figure size 432x288 with 1 Axes>"
      ]
     },
     "metadata": {
      "needs_background": "light"
     },
     "output_type": "display_data"
    }
   ],
   "source": [
    "# Построим график зависимости цены от дня недели\n",
    "center_spb.pivot_table(index='weekday', values='last_price', aggfunc='median').plot(grid=True)\n",
    "plt.show()"
   ]
  },
  {
   "cell_type": "markdown",
   "metadata": {},
   "source": [
    "Исходя из графика, в субботу наблюдаем пик продаж, наименьшее количество в среду. Это может быть связано с тем, что в субботу проще провести осомотр и договориться о сделке, так как в буднии люди заняты на работе.  "
   ]
  },
  {
   "cell_type": "code",
   "execution_count": 49,
   "metadata": {},
   "outputs": [
    {
     "data": {
      "image/png": "[encoded data removed]",
      "text/plain": [
       "<Figure size 432x288 with 1 Axes>"
      ]
     },
     "metadata": {
      "needs_background": "light"
     },
     "output_type": "display_data"
    }
   ],
   "source": [
    "# Построим график зависимости цены от года продажи\n",
    "center_spb.pivot_table(index='year', values='last_price', aggfunc='median').plot(grid=True)\n",
    "plt.show()"
   ]
  },
  {
   "cell_type": "markdown",
   "metadata": {},
   "source": [
    "По графику зависимости цены от года наблюдаем спад цены в 2014, что может быть связано с кризисом 2014 года."
   ]
  },
  {
   "cell_type": "markdown",
   "metadata": {},
   "source": [
    "## Общий вывод"
   ]
  },
  {
   "cell_type": "markdown",
   "metadata": {},
   "source": [
    "Была произведена предобработка данных, заменены пустые значения там, где это необходимо, удалены ненужные значения. \n",
    "Сделана замена типов данных. Добавлены необходимые столбцы. \n",
    "\n",
    "Были изучены следующие параметры: площадь, цена, число комнат, высота потолков, построены гистограммы для каждого из них. Изучено время продажи квартиры. Произведена обработка данных от аномальных значений и значений, лежащих за пределеми нормальных. \n",
    "Мы выявили при помощи диаграммы размаха, что нормальные значения продажи квартир варьируются от 1 до 550 дней, а чаще всего квартиры продают за 105 дней. Обнаружили, что на стоимость квартиры больше всего влияют количество комнат, этаж квартиры, близость к центру. Наименьшее влияние оказывают день, месяц, год размещения и общая площадь. \n",
    "\n",
    "Выяснили, что самые дорогие квартиры в Санкт-Петербурге, а самые недорогие в Выборге.\n",
    "\n",
    "Было обнаружено с помощью графика зависимости цены от расстояния от центра, что центр города находится в радиусе 8 километров.\n",
    "При анализе продаж квартир в центре Санкт-Петербурга видим, что на стоимость влияют те же факторы - количество комнат, близость к центру, только в центре больше продаются 2 и 3 комнатные квартиры, а не 1 и 2 комнатные. Для всех квартир был заченен рост цен после 2017, что не характерано для квартир в центре Санкт_Петербурга. Вероятно было построено новое комфортное и элитное жилье, что вызвало рост цен за пределами центра."
   ]
  }
 ],
 "metadata": {
  "ExecuteTimeLog": [
   {
    "duration": 474,
    "start_time": "2022-04-11T13:41:23.731Z"
   },
   {
    "duration": 85,
    "start_time": "2022-04-11T13:41:36.371Z"
   },
   {
    "duration": 2,
    "start_time": "2022-04-11T13:43:02.325Z"
   },
   {
    "duration": 135,
    "start_time": "2022-04-11T13:50:40.329Z"
   },
   {
    "duration": 164,
    "start_time": "2022-04-11T13:51:12.886Z"
   },
   {
    "duration": 3,
    "start_time": "2022-04-11T13:51:17.166Z"
   },
   {
    "duration": 130,
    "start_time": "2022-04-11T13:51:18.821Z"
   },
   {
    "duration": 135,
    "start_time": "2022-04-11T13:51:35.668Z"
   },
   {
    "duration": 209,
    "start_time": "2022-04-11T13:51:55.407Z"
   },
   {
    "duration": 204,
    "start_time": "2022-04-11T13:52:20.151Z"
   },
   {
    "duration": 143,
    "start_time": "2022-04-11T13:53:03.134Z"
   },
   {
    "duration": 203,
    "start_time": "2022-04-11T13:53:20.200Z"
   },
   {
    "duration": 64,
    "start_time": "2022-04-11T13:55:02.295Z"
   },
   {
    "duration": 212,
    "start_time": "2022-04-11T13:56:18.945Z"
   },
   {
    "duration": 1940,
    "start_time": "2022-04-11T14:15:58.043Z"
   },
   {
    "duration": 118,
    "start_time": "2022-04-11T14:16:10.525Z"
   },
   {
    "duration": 125,
    "start_time": "2022-04-11T14:16:15.068Z"
   },
   {
    "duration": 158,
    "start_time": "2022-04-11T14:16:22.645Z"
   },
   {
    "duration": 224,
    "start_time": "2022-04-11T14:16:50.221Z"
   },
   {
    "duration": 228,
    "start_time": "2022-04-11T14:19:43.062Z"
   },
   {
    "duration": 199,
    "start_time": "2022-04-11T14:19:51.599Z"
   },
   {
    "duration": 206,
    "start_time": "2022-04-11T14:20:15.679Z"
   },
   {
    "duration": 24,
    "start_time": "2022-04-11T14:20:35.412Z"
   },
   {
    "duration": 2,
    "start_time": "2022-04-11T14:41:58.300Z"
   },
   {
    "duration": 158,
    "start_time": "2022-04-11T14:42:01.881Z"
   },
   {
    "duration": 24,
    "start_time": "2022-04-11T14:42:08.562Z"
   },
   {
    "duration": 33,
    "start_time": "2022-04-11T16:04:51.988Z"
   },
   {
    "duration": 39,
    "start_time": "2022-04-11T16:05:30.686Z"
   },
   {
    "duration": 24,
    "start_time": "2022-04-11T16:05:41.182Z"
   },
   {
    "duration": 379,
    "start_time": "2022-04-12T10:56:25.766Z"
   },
   {
    "duration": 205,
    "start_time": "2022-04-12T10:56:28.770Z"
   },
   {
    "duration": 28,
    "start_time": "2022-04-12T10:56:32.276Z"
   },
   {
    "duration": 6,
    "start_time": "2022-04-12T10:57:57.685Z"
   },
   {
    "duration": 8,
    "start_time": "2022-04-12T10:58:15.307Z"
   },
   {
    "duration": 6,
    "start_time": "2022-04-12T10:59:46.910Z"
   },
   {
    "duration": 4,
    "start_time": "2022-04-12T10:59:57.749Z"
   },
   {
    "duration": 5,
    "start_time": "2022-04-12T11:00:27.015Z"
   },
   {
    "duration": 7,
    "start_time": "2022-04-12T11:00:37.291Z"
   },
   {
    "duration": 11,
    "start_time": "2022-04-12T11:01:18.127Z"
   },
   {
    "duration": 189,
    "start_time": "2022-04-12T11:29:49.957Z"
   },
   {
    "duration": 218,
    "start_time": "2022-04-12T11:30:46.414Z"
   },
   {
    "duration": 181,
    "start_time": "2022-04-12T11:31:16.142Z"
   },
   {
    "duration": 1582,
    "start_time": "2022-04-12T11:31:42.062Z"
   },
   {
    "duration": 8,
    "start_time": "2022-04-12T11:32:10.989Z"
   },
   {
    "duration": 53,
    "start_time": "2022-04-12T11:32:14.735Z"
   },
   {
    "duration": 52,
    "start_time": "2022-04-12T11:32:19.045Z"
   },
   {
    "duration": 23,
    "start_time": "2022-04-12T11:34:50.600Z"
   },
   {
    "duration": 23,
    "start_time": "2022-04-12T11:36:07.336Z"
   },
   {
    "duration": 17,
    "start_time": "2022-04-12T11:37:42.303Z"
   },
   {
    "duration": 30,
    "start_time": "2022-04-12T11:37:50.321Z"
   },
   {
    "duration": 18,
    "start_time": "2022-04-12T11:39:37.498Z"
   },
   {
    "duration": 32,
    "start_time": "2022-04-12T11:39:50.136Z"
   },
   {
    "duration": 24,
    "start_time": "2022-04-12T11:42:47.864Z"
   },
   {
    "duration": 24,
    "start_time": "2022-04-12T11:55:23.334Z"
   },
   {
    "duration": 56,
    "start_time": "2022-04-12T11:55:50.589Z"
   },
   {
    "duration": 20,
    "start_time": "2022-04-12T11:56:54.596Z"
   },
   {
    "duration": 442,
    "start_time": "2022-04-12T12:49:25.724Z"
   },
   {
    "duration": 198,
    "start_time": "2022-04-12T12:49:26.169Z"
   },
   {
    "duration": 39,
    "start_time": "2022-04-12T12:49:26.370Z"
   },
   {
    "duration": 9,
    "start_time": "2022-04-12T12:49:26.423Z"
   },
   {
    "duration": 97,
    "start_time": "2022-04-12T12:49:26.434Z"
   },
   {
    "duration": 58,
    "start_time": "2022-04-12T12:49:42.352Z"
   },
   {
    "duration": 10,
    "start_time": "2022-04-12T12:50:04.594Z"
   },
   {
    "duration": 20,
    "start_time": "2022-04-12T12:50:07.823Z"
   },
   {
    "duration": 21,
    "start_time": "2022-04-12T12:50:13.063Z"
   },
   {
    "duration": 18,
    "start_time": "2022-04-12T12:50:31.650Z"
   },
   {
    "duration": 20,
    "start_time": "2022-04-12T12:50:34.529Z"
   },
   {
    "duration": 21,
    "start_time": "2022-04-12T12:50:37.944Z"
   },
   {
    "duration": 20,
    "start_time": "2022-04-12T12:50:40.655Z"
   },
   {
    "duration": 23,
    "start_time": "2022-04-12T12:50:43.552Z"
   },
   {
    "duration": 24,
    "start_time": "2022-04-12T12:50:47.251Z"
   },
   {
    "duration": 24,
    "start_time": "2022-04-12T12:50:52.761Z"
   },
   {
    "duration": 76,
    "start_time": "2022-04-12T13:05:11.091Z"
   },
   {
    "duration": 27,
    "start_time": "2022-04-12T13:05:15.030Z"
   },
   {
    "duration": 22,
    "start_time": "2022-04-12T13:05:42.534Z"
   },
   {
    "duration": 7,
    "start_time": "2022-04-12T13:18:27.055Z"
   },
   {
    "duration": 3,
    "start_time": "2022-04-12T13:19:02.321Z"
   },
   {
    "duration": 237,
    "start_time": "2022-04-12T13:19:04.977Z"
   },
   {
    "duration": 32,
    "start_time": "2022-04-12T13:19:14.416Z"
   },
   {
    "duration": 9,
    "start_time": "2022-04-12T13:19:19.463Z"
   },
   {
    "duration": 27,
    "start_time": "2022-04-12T13:19:28.223Z"
   },
   {
    "duration": 7,
    "start_time": "2022-04-12T13:19:48.756Z"
   },
   {
    "duration": 188,
    "start_time": "2022-04-12T13:20:26.800Z"
   },
   {
    "duration": 5,
    "start_time": "2022-04-12T13:20:31.329Z"
   },
   {
    "duration": 8,
    "start_time": "2022-04-12T13:20:43.399Z"
   },
   {
    "duration": 5,
    "start_time": "2022-04-12T13:20:47.559Z"
   },
   {
    "duration": 60,
    "start_time": "2022-04-12T13:21:02.531Z"
   },
   {
    "duration": 34,
    "start_time": "2022-04-12T13:21:15.063Z"
   },
   {
    "duration": 63,
    "start_time": "2022-04-12T13:21:37.177Z"
   },
   {
    "duration": 28,
    "start_time": "2022-04-12T13:21:50.004Z"
   },
   {
    "duration": 29,
    "start_time": "2022-04-12T13:22:51.850Z"
   },
   {
    "duration": 7,
    "start_time": "2022-04-12T13:24:26.850Z"
   },
   {
    "duration": 13,
    "start_time": "2022-04-12T13:25:18.127Z"
   },
   {
    "duration": 9,
    "start_time": "2022-04-12T13:25:42.852Z"
   },
   {
    "duration": 10,
    "start_time": "2022-04-12T13:25:51.699Z"
   },
   {
    "duration": 8,
    "start_time": "2022-04-12T13:33:06.764Z"
   },
   {
    "duration": 5,
    "start_time": "2022-04-12T13:33:17.716Z"
   },
   {
    "duration": 9,
    "start_time": "2022-04-12T13:33:29.739Z"
   },
   {
    "duration": 5,
    "start_time": "2022-04-12T13:33:50.189Z"
   },
   {
    "duration": 9,
    "start_time": "2022-04-12T13:33:57.757Z"
   },
   {
    "duration": 9,
    "start_time": "2022-04-12T13:34:03.196Z"
   },
   {
    "duration": 28,
    "start_time": "2022-04-12T13:42:18.846Z"
   },
   {
    "duration": 25,
    "start_time": "2022-04-12T13:42:32.335Z"
   },
   {
    "duration": 28,
    "start_time": "2022-04-12T13:44:08.263Z"
   },
   {
    "duration": 28,
    "start_time": "2022-04-12T13:48:18.861Z"
   },
   {
    "duration": 6,
    "start_time": "2022-04-12T13:49:17.807Z"
   },
   {
    "duration": 12,
    "start_time": "2022-04-12T13:49:47.149Z"
   },
   {
    "duration": 6,
    "start_time": "2022-04-12T13:49:57.529Z"
   },
   {
    "duration": 24,
    "start_time": "2022-04-12T13:50:12.712Z"
   },
   {
    "duration": 55,
    "start_time": "2022-04-12T13:50:30.632Z"
   },
   {
    "duration": 18,
    "start_time": "2022-04-12T13:50:39.039Z"
   },
   {
    "duration": 5,
    "start_time": "2022-04-12T13:50:46.760Z"
   },
   {
    "duration": 13,
    "start_time": "2022-04-12T13:51:09.903Z"
   },
   {
    "duration": 127,
    "start_time": "2022-04-12T13:51:27.583Z"
   },
   {
    "duration": 12,
    "start_time": "2022-04-12T13:51:42.496Z"
   },
   {
    "duration": 12,
    "start_time": "2022-04-12T13:51:50.159Z"
   },
   {
    "duration": 32,
    "start_time": "2022-04-12T13:51:57.341Z"
   },
   {
    "duration": 32,
    "start_time": "2022-04-12T13:52:33.920Z"
   },
   {
    "duration": 9,
    "start_time": "2022-04-12T13:53:02.360Z"
   },
   {
    "duration": 7,
    "start_time": "2022-04-12T13:53:10.226Z"
   },
   {
    "duration": 32,
    "start_time": "2022-04-12T13:53:24.930Z"
   },
   {
    "duration": 16,
    "start_time": "2022-04-12T13:55:14.041Z"
   },
   {
    "duration": 22,
    "start_time": "2022-04-12T13:55:16.072Z"
   },
   {
    "duration": 4,
    "start_time": "2022-04-12T13:56:46.792Z"
   },
   {
    "duration": 2253,
    "start_time": "2022-04-12T13:57:32.324Z"
   },
   {
    "duration": 0,
    "start_time": "2022-04-12T13:57:34.579Z"
   },
   {
    "duration": 9,
    "start_time": "2022-04-12T13:58:16.665Z"
   },
   {
    "duration": 2235,
    "start_time": "2022-04-12T13:58:45.498Z"
   },
   {
    "duration": 9,
    "start_time": "2022-04-12T13:58:51.465Z"
   },
   {
    "duration": 2191,
    "start_time": "2022-04-12T13:58:53.266Z"
   },
   {
    "duration": 2,
    "start_time": "2022-04-12T13:59:02.242Z"
   },
   {
    "duration": 186,
    "start_time": "2022-04-12T13:59:02.922Z"
   },
   {
    "duration": 24,
    "start_time": "2022-04-12T13:59:03.794Z"
   },
   {
    "duration": 11,
    "start_time": "2022-04-12T13:59:06.640Z"
   },
   {
    "duration": 10,
    "start_time": "2022-04-12T13:59:07.305Z"
   },
   {
    "duration": 30,
    "start_time": "2022-04-12T13:59:07.963Z"
   },
   {
    "duration": 5,
    "start_time": "2022-04-12T13:59:11.450Z"
   },
   {
    "duration": 14,
    "start_time": "2022-04-12T13:59:12.601Z"
   },
   {
    "duration": 383,
    "start_time": "2022-04-12T13:59:38.156Z"
   },
   {
    "duration": 1768,
    "start_time": "2022-04-12T13:59:38.541Z"
   },
   {
    "duration": 40,
    "start_time": "2022-04-12T13:59:40.310Z"
   },
   {
    "duration": 9,
    "start_time": "2022-04-12T13:59:40.352Z"
   },
   {
    "duration": 8,
    "start_time": "2022-04-12T13:59:40.363Z"
   },
   {
    "duration": 69,
    "start_time": "2022-04-12T13:59:40.373Z"
   },
   {
    "duration": 5,
    "start_time": "2022-04-12T13:59:40.444Z"
   },
   {
    "duration": 14,
    "start_time": "2022-04-12T13:59:40.451Z"
   },
   {
    "duration": 8,
    "start_time": "2022-04-12T14:02:00.375Z"
   },
   {
    "duration": 10,
    "start_time": "2022-04-12T14:02:19.284Z"
   },
   {
    "duration": 81,
    "start_time": "2022-04-12T14:12:35.265Z"
   },
   {
    "duration": 29,
    "start_time": "2022-04-12T14:12:53.735Z"
   },
   {
    "duration": 33,
    "start_time": "2022-04-12T14:20:37.259Z"
   },
   {
    "duration": 31,
    "start_time": "2022-04-12T14:25:32.867Z"
   },
   {
    "duration": 13,
    "start_time": "2022-04-12T14:32:00.036Z"
   },
   {
    "duration": 4,
    "start_time": "2022-04-12T14:49:18.832Z"
   },
   {
    "duration": 51,
    "start_time": "2022-04-12T14:49:23.440Z"
   },
   {
    "duration": 66,
    "start_time": "2022-04-12T14:55:05.842Z"
   },
   {
    "duration": 54,
    "start_time": "2022-04-12T14:55:46.706Z"
   },
   {
    "duration": 50,
    "start_time": "2022-04-12T14:56:16.618Z"
   },
   {
    "duration": 25,
    "start_time": "2022-04-12T14:56:43.546Z"
   },
   {
    "duration": 12,
    "start_time": "2022-04-12T15:29:37.894Z"
   },
   {
    "duration": 5,
    "start_time": "2022-04-12T15:35:18.750Z"
   },
   {
    "duration": 67,
    "start_time": "2022-04-12T15:35:24.966Z"
   },
   {
    "duration": 34,
    "start_time": "2022-04-12T15:35:34.016Z"
   },
   {
    "duration": 31,
    "start_time": "2022-04-12T15:35:52.279Z"
   },
   {
    "duration": 38,
    "start_time": "2022-04-12T15:35:59.495Z"
   },
   {
    "duration": 34,
    "start_time": "2022-04-12T15:37:08.119Z"
   },
   {
    "duration": 27,
    "start_time": "2022-04-12T15:37:33.650Z"
   },
   {
    "duration": 27,
    "start_time": "2022-04-12T15:38:12.057Z"
   },
   {
    "duration": 30,
    "start_time": "2022-04-12T15:38:22.529Z"
   },
   {
    "duration": 30,
    "start_time": "2022-04-12T15:38:40.531Z"
   },
   {
    "duration": 429,
    "start_time": "2022-04-12T15:39:07.815Z"
   },
   {
    "duration": 191,
    "start_time": "2022-04-12T15:39:08.246Z"
   },
   {
    "duration": 31,
    "start_time": "2022-04-12T15:39:08.439Z"
   },
   {
    "duration": 10,
    "start_time": "2022-04-12T15:39:08.473Z"
   },
   {
    "duration": 8,
    "start_time": "2022-04-12T15:39:08.485Z"
   },
   {
    "duration": 31,
    "start_time": "2022-04-12T15:39:08.495Z"
   },
   {
    "duration": 12,
    "start_time": "2022-04-12T15:39:08.529Z"
   },
   {
    "duration": 44,
    "start_time": "2022-04-12T15:39:08.543Z"
   },
   {
    "duration": 49,
    "start_time": "2022-04-12T15:39:08.589Z"
   },
   {
    "duration": 25,
    "start_time": "2022-04-12T15:39:08.641Z"
   },
   {
    "duration": 31,
    "start_time": "2022-04-12T15:39:08.668Z"
   },
   {
    "duration": 34,
    "start_time": "2022-04-12T15:39:44.926Z"
   },
   {
    "duration": 437,
    "start_time": "2022-04-12T15:39:56.797Z"
   },
   {
    "duration": 181,
    "start_time": "2022-04-12T15:39:57.237Z"
   },
   {
    "duration": 38,
    "start_time": "2022-04-12T15:39:57.420Z"
   },
   {
    "duration": 11,
    "start_time": "2022-04-12T15:39:57.461Z"
   },
   {
    "duration": 10,
    "start_time": "2022-04-12T15:39:57.474Z"
   },
   {
    "duration": 39,
    "start_time": "2022-04-12T15:39:57.486Z"
   },
   {
    "duration": 19,
    "start_time": "2022-04-12T15:39:57.527Z"
   },
   {
    "duration": 54,
    "start_time": "2022-04-12T15:39:57.549Z"
   },
   {
    "duration": 40,
    "start_time": "2022-04-12T15:39:57.605Z"
   },
   {
    "duration": 34,
    "start_time": "2022-04-12T15:39:57.648Z"
   },
   {
    "duration": 60,
    "start_time": "2022-04-12T15:39:57.684Z"
   },
   {
    "duration": 69,
    "start_time": "2022-04-12T15:47:22.860Z"
   },
   {
    "duration": 11,
    "start_time": "2022-04-12T15:47:50.931Z"
   },
   {
    "duration": 16,
    "start_time": "2022-04-12T15:48:56.931Z"
   },
   {
    "duration": 10,
    "start_time": "2022-04-12T15:49:14.630Z"
   },
   {
    "duration": 10,
    "start_time": "2022-04-12T15:49:53.128Z"
   },
   {
    "duration": 11,
    "start_time": "2022-04-12T15:50:06.955Z"
   },
   {
    "duration": 14,
    "start_time": "2022-04-12T15:50:26.259Z"
   },
   {
    "duration": 14,
    "start_time": "2022-04-12T15:50:43.155Z"
   },
   {
    "duration": 21,
    "start_time": "2022-04-12T15:51:29.451Z"
   },
   {
    "duration": 2155,
    "start_time": "2022-04-12T15:52:19.293Z"
   },
   {
    "duration": 2100,
    "start_time": "2022-04-12T15:52:56.861Z"
   },
   {
    "duration": 388,
    "start_time": "2022-04-12T15:53:39.118Z"
   },
   {
    "duration": 331,
    "start_time": "2022-04-12T15:53:51.155Z"
   },
   {
    "duration": 4,
    "start_time": "2022-04-12T16:03:11.992Z"
   },
   {
    "duration": 6,
    "start_time": "2022-04-12T16:04:25.696Z"
   },
   {
    "duration": 24,
    "start_time": "2022-04-12T16:04:31.959Z"
   },
   {
    "duration": 27,
    "start_time": "2022-04-12T16:04:56.840Z"
   },
   {
    "duration": 25,
    "start_time": "2022-04-12T16:05:57.135Z"
   },
   {
    "duration": 31,
    "start_time": "2022-04-12T16:06:13.016Z"
   },
   {
    "duration": 26,
    "start_time": "2022-04-12T16:07:17.479Z"
   },
   {
    "duration": 18,
    "start_time": "2022-04-12T16:07:37.959Z"
   },
   {
    "duration": 33,
    "start_time": "2022-04-12T16:07:57.720Z"
   },
   {
    "duration": 16,
    "start_time": "2022-04-12T16:07:59.573Z"
   },
   {
    "duration": 11,
    "start_time": "2022-04-12T16:08:14.040Z"
   },
   {
    "duration": 27,
    "start_time": "2022-04-12T16:08:50.975Z"
   },
   {
    "duration": 28,
    "start_time": "2022-04-12T16:08:57.122Z"
   },
   {
    "duration": 33,
    "start_time": "2022-04-12T16:09:11.409Z"
   },
   {
    "duration": 14,
    "start_time": "2022-04-12T16:09:12.895Z"
   },
   {
    "duration": 78,
    "start_time": "2022-04-13T09:27:18.889Z"
   },
   {
    "duration": 491,
    "start_time": "2022-04-13T09:27:28.887Z"
   },
   {
    "duration": 177,
    "start_time": "2022-04-13T09:27:29.381Z"
   },
   {
    "duration": 48,
    "start_time": "2022-04-13T09:27:29.561Z"
   },
   {
    "duration": 12,
    "start_time": "2022-04-13T09:27:29.611Z"
   },
   {
    "duration": 18,
    "start_time": "2022-04-13T09:27:29.651Z"
   },
   {
    "duration": 15,
    "start_time": "2022-04-13T09:27:29.671Z"
   },
   {
    "duration": 11,
    "start_time": "2022-04-13T09:27:29.688Z"
   },
   {
    "duration": 99,
    "start_time": "2022-04-13T09:27:29.700Z"
   },
   {
    "duration": 19,
    "start_time": "2022-04-13T09:27:29.801Z"
   },
   {
    "duration": 66,
    "start_time": "2022-04-13T09:27:29.822Z"
   },
   {
    "duration": 61,
    "start_time": "2022-04-13T09:27:29.890Z"
   },
   {
    "duration": 668,
    "start_time": "2022-04-13T09:27:29.953Z"
   },
   {
    "duration": 58,
    "start_time": "2022-04-13T09:27:30.623Z"
   },
   {
    "duration": 22,
    "start_time": "2022-04-13T09:27:30.685Z"
   },
   {
    "duration": 1733,
    "start_time": "2022-04-13T09:27:30.709Z"
   },
   {
    "duration": 414,
    "start_time": "2022-04-13T09:28:10.071Z"
   },
   {
    "duration": 389,
    "start_time": "2022-04-13T09:28:13.045Z"
   },
   {
    "duration": 399,
    "start_time": "2022-04-13T09:28:16.443Z"
   },
   {
    "duration": 488,
    "start_time": "2022-04-13T09:31:00.401Z"
   },
   {
    "duration": 501,
    "start_time": "2022-04-13T09:31:05.226Z"
   },
   {
    "duration": 448,
    "start_time": "2022-04-13T09:31:21.279Z"
   },
   {
    "duration": 389,
    "start_time": "2022-04-13T09:32:50.339Z"
   },
   {
    "duration": 376,
    "start_time": "2022-04-13T09:32:54.302Z"
   },
   {
    "duration": 285,
    "start_time": "2022-04-13T09:33:02.735Z"
   },
   {
    "duration": 405,
    "start_time": "2022-04-13T09:33:10.405Z"
   },
   {
    "duration": 369,
    "start_time": "2022-04-13T09:33:17.484Z"
   },
   {
    "duration": 466,
    "start_time": "2022-04-13T09:33:28.054Z"
   },
   {
    "duration": 319,
    "start_time": "2022-04-13T09:38:56.149Z"
   },
   {
    "duration": 281,
    "start_time": "2022-04-13T09:39:06.709Z"
   },
   {
    "duration": 377,
    "start_time": "2022-04-13T09:39:21.297Z"
   },
   {
    "duration": 472,
    "start_time": "2022-04-13T09:39:30.764Z"
   },
   {
    "duration": 547,
    "start_time": "2022-04-13T09:39:39.485Z"
   },
   {
    "duration": 427,
    "start_time": "2022-04-13T09:39:46.354Z"
   },
   {
    "duration": 398,
    "start_time": "2022-04-13T09:39:54.102Z"
   },
   {
    "duration": 308,
    "start_time": "2022-04-13T09:40:02.067Z"
   },
   {
    "duration": 255,
    "start_time": "2022-04-13T09:40:07.548Z"
   },
   {
    "duration": 261,
    "start_time": "2022-04-13T09:40:17.318Z"
   },
   {
    "duration": 2386,
    "start_time": "2022-04-13T09:40:28.111Z"
   },
   {
    "duration": 307,
    "start_time": "2022-04-13T09:40:49.767Z"
   },
   {
    "duration": 297,
    "start_time": "2022-04-13T09:40:55.465Z"
   },
   {
    "duration": 253,
    "start_time": "2022-04-13T09:41:01.786Z"
   },
   {
    "duration": 561,
    "start_time": "2022-04-13T09:41:10.405Z"
   },
   {
    "duration": 195,
    "start_time": "2022-04-13T09:41:21.279Z"
   },
   {
    "duration": 231,
    "start_time": "2022-04-13T09:41:32.293Z"
   },
   {
    "duration": 223,
    "start_time": "2022-04-13T09:41:43.900Z"
   },
   {
    "duration": 238,
    "start_time": "2022-04-13T09:41:49.649Z"
   },
   {
    "duration": 315,
    "start_time": "2022-04-13T09:43:30.931Z"
   },
   {
    "duration": 275,
    "start_time": "2022-04-13T09:43:38.705Z"
   },
   {
    "duration": 1241,
    "start_time": "2022-04-13T09:44:16.689Z"
   },
   {
    "duration": 1651,
    "start_time": "2022-04-13T09:44:25.242Z"
   },
   {
    "duration": 1431,
    "start_time": "2022-04-13T09:44:52.515Z"
   },
   {
    "duration": 1707,
    "start_time": "2022-04-13T09:45:02.115Z"
   },
   {
    "duration": 3679,
    "start_time": "2022-04-13T09:45:15.847Z"
   },
   {
    "duration": 1210,
    "start_time": "2022-04-13T09:45:39.001Z"
   },
   {
    "duration": 993,
    "start_time": "2022-04-13T09:45:47.334Z"
   },
   {
    "duration": 413,
    "start_time": "2022-04-13T09:46:09.223Z"
   },
   {
    "duration": 298,
    "start_time": "2022-04-13T09:46:23.712Z"
   },
   {
    "duration": 972,
    "start_time": "2022-04-13T09:46:50.572Z"
   },
   {
    "duration": 1357,
    "start_time": "2022-04-13T09:46:58.481Z"
   },
   {
    "duration": 3203,
    "start_time": "2022-04-13T09:47:05.673Z"
   },
   {
    "duration": 3723,
    "start_time": "2022-04-13T09:47:16.416Z"
   },
   {
    "duration": 1191,
    "start_time": "2022-04-13T09:47:35.935Z"
   },
   {
    "duration": 222,
    "start_time": "2022-04-13T09:47:47.021Z"
   },
   {
    "duration": 243,
    "start_time": "2022-04-13T09:47:55.093Z"
   },
   {
    "duration": 275,
    "start_time": "2022-04-13T09:48:01.969Z"
   },
   {
    "duration": 250,
    "start_time": "2022-04-13T09:48:07.081Z"
   },
   {
    "duration": 772,
    "start_time": "2022-04-13T09:48:17.390Z"
   },
   {
    "duration": 270,
    "start_time": "2022-04-13T09:48:26.163Z"
   },
   {
    "duration": 287,
    "start_time": "2022-04-13T09:48:49.817Z"
   },
   {
    "duration": 94,
    "start_time": "2022-04-13T09:48:59.345Z"
   },
   {
    "duration": 278,
    "start_time": "2022-04-13T09:49:04.514Z"
   },
   {
    "duration": 149,
    "start_time": "2022-04-13T09:49:12.723Z"
   },
   {
    "duration": 278,
    "start_time": "2022-04-13T09:49:20.207Z"
   },
   {
    "duration": 265,
    "start_time": "2022-04-13T09:49:25.302Z"
   },
   {
    "duration": 276,
    "start_time": "2022-04-13T09:49:43.705Z"
   },
   {
    "duration": 5,
    "start_time": "2022-04-13T09:49:52.117Z"
   },
   {
    "duration": 280,
    "start_time": "2022-04-13T09:49:55.836Z"
   },
   {
    "duration": 321,
    "start_time": "2022-04-13T09:50:04.689Z"
   },
   {
    "duration": 296,
    "start_time": "2022-04-13T09:50:47.705Z"
   },
   {
    "duration": 271,
    "start_time": "2022-04-13T09:51:00.520Z"
   },
   {
    "duration": 280,
    "start_time": "2022-04-13T09:51:33.828Z"
   },
   {
    "duration": 299,
    "start_time": "2022-04-13T09:51:41.978Z"
   },
   {
    "duration": 291,
    "start_time": "2022-04-13T09:51:54.565Z"
   },
   {
    "duration": 506,
    "start_time": "2022-04-13T09:52:19.439Z"
   },
   {
    "duration": 470,
    "start_time": "2022-04-13T09:52:26.808Z"
   },
   {
    "duration": 312,
    "start_time": "2022-04-13T09:52:37.368Z"
   },
   {
    "duration": 322,
    "start_time": "2022-04-13T09:56:58.426Z"
   },
   {
    "duration": 335,
    "start_time": "2022-04-13T09:57:37.626Z"
   },
   {
    "duration": 374,
    "start_time": "2022-04-13T09:58:55.088Z"
   },
   {
    "duration": 350,
    "start_time": "2022-04-13T09:59:08.041Z"
   },
   {
    "duration": 325,
    "start_time": "2022-04-13T10:00:16.990Z"
   },
   {
    "duration": 332,
    "start_time": "2022-04-13T10:00:25.491Z"
   },
   {
    "duration": 284,
    "start_time": "2022-04-13T10:01:40.719Z"
   },
   {
    "duration": 294,
    "start_time": "2022-04-13T10:01:59.315Z"
   },
   {
    "duration": 434,
    "start_time": "2022-04-13T10:02:28.034Z"
   },
   {
    "duration": 424,
    "start_time": "2022-04-13T10:02:36.041Z"
   },
   {
    "duration": 421,
    "start_time": "2022-04-13T10:02:42.310Z"
   },
   {
    "duration": 440,
    "start_time": "2022-04-13T10:03:16.485Z"
   },
   {
    "duration": 280,
    "start_time": "2022-04-13T10:03:56.467Z"
   },
   {
    "duration": 425,
    "start_time": "2022-04-13T10:04:28.093Z"
   },
   {
    "duration": 332,
    "start_time": "2022-04-13T10:04:35.387Z"
   },
   {
    "duration": 365,
    "start_time": "2022-04-13T10:04:39.468Z"
   },
   {
    "duration": 350,
    "start_time": "2022-04-13T10:05:05.769Z"
   },
   {
    "duration": 350,
    "start_time": "2022-04-13T10:05:18.139Z"
   },
   {
    "duration": 329,
    "start_time": "2022-04-13T10:06:06.409Z"
   },
   {
    "duration": 324,
    "start_time": "2022-04-13T10:06:17.406Z"
   },
   {
    "duration": 341,
    "start_time": "2022-04-13T10:06:49.617Z"
   },
   {
    "duration": 308,
    "start_time": "2022-04-13T10:06:56.807Z"
   },
   {
    "duration": 306,
    "start_time": "2022-04-13T10:07:29.971Z"
   },
   {
    "duration": 293,
    "start_time": "2022-04-13T10:07:39.566Z"
   },
   {
    "duration": 924,
    "start_time": "2022-04-13T10:07:46.545Z"
   },
   {
    "duration": 331,
    "start_time": "2022-04-13T10:07:59.280Z"
   },
   {
    "duration": 426,
    "start_time": "2022-04-13T10:08:13.830Z"
   },
   {
    "duration": 405,
    "start_time": "2022-04-13T10:08:21.701Z"
   },
   {
    "duration": 405,
    "start_time": "2022-04-13T10:08:28.529Z"
   },
   {
    "duration": 277,
    "start_time": "2022-04-13T10:08:34.308Z"
   },
   {
    "duration": 296,
    "start_time": "2022-04-13T10:08:41.092Z"
   },
   {
    "duration": 277,
    "start_time": "2022-04-13T10:12:12.028Z"
   },
   {
    "duration": 290,
    "start_time": "2022-04-13T10:30:33.565Z"
   },
   {
    "duration": 2961,
    "start_time": "2022-04-13T10:30:44.993Z"
   },
   {
    "duration": 408,
    "start_time": "2022-04-13T10:30:57.838Z"
   },
   {
    "duration": 404,
    "start_time": "2022-04-13T10:33:09.150Z"
   },
   {
    "duration": 819,
    "start_time": "2022-04-13T10:42:56.582Z"
   },
   {
    "duration": 170,
    "start_time": "2022-04-13T10:42:57.403Z"
   },
   {
    "duration": 41,
    "start_time": "2022-04-13T10:42:57.576Z"
   },
   {
    "duration": 33,
    "start_time": "2022-04-13T10:42:57.620Z"
   },
   {
    "duration": 15,
    "start_time": "2022-04-13T10:42:57.656Z"
   },
   {
    "duration": 12,
    "start_time": "2022-04-13T10:42:57.674Z"
   },
   {
    "duration": 12,
    "start_time": "2022-04-13T10:42:57.689Z"
   },
   {
    "duration": 107,
    "start_time": "2022-04-13T10:42:57.704Z"
   },
   {
    "duration": 38,
    "start_time": "2022-04-13T10:42:57.814Z"
   },
   {
    "duration": 41,
    "start_time": "2022-04-13T10:42:57.859Z"
   },
   {
    "duration": 78,
    "start_time": "2022-04-13T10:42:57.902Z"
   },
   {
    "duration": 618,
    "start_time": "2022-04-13T10:42:57.983Z"
   },
   {
    "duration": 58,
    "start_time": "2022-04-13T10:42:58.603Z"
   },
   {
    "duration": 22,
    "start_time": "2022-04-13T10:42:58.665Z"
   },
   {
    "duration": 346,
    "start_time": "2022-04-13T10:42:58.689Z"
   },
   {
    "duration": 460,
    "start_time": "2022-04-13T10:42:59.037Z"
   },
   {
    "duration": 262,
    "start_time": "2022-04-13T10:42:59.499Z"
   },
   {
    "duration": 306,
    "start_time": "2022-04-13T10:42:59.765Z"
   },
   {
    "duration": 401,
    "start_time": "2022-04-13T10:43:00.074Z"
   },
   {
    "duration": 1146,
    "start_time": "2022-04-13T10:44:34.764Z"
   },
   {
    "duration": 1334,
    "start_time": "2022-04-13T10:44:47.949Z"
   },
   {
    "duration": 378,
    "start_time": "2022-04-13T10:45:01.881Z"
   },
   {
    "duration": 13,
    "start_time": "2022-04-13T10:45:50.699Z"
   },
   {
    "duration": 9,
    "start_time": "2022-04-13T10:47:33.544Z"
   },
   {
    "duration": 409,
    "start_time": "2022-04-13T10:48:01.236Z"
   },
   {
    "duration": 12,
    "start_time": "2022-04-13T10:48:15.049Z"
   },
   {
    "duration": 417,
    "start_time": "2022-04-13T10:50:35.998Z"
   },
   {
    "duration": 328,
    "start_time": "2022-04-13T10:50:51.541Z"
   },
   {
    "duration": 339,
    "start_time": "2022-04-13T10:51:29.109Z"
   },
   {
    "duration": 1264,
    "start_time": "2022-04-13T10:52:31.493Z"
   },
   {
    "duration": 1143,
    "start_time": "2022-04-13T10:52:40.409Z"
   },
   {
    "duration": 296,
    "start_time": "2022-04-13T10:53:09.967Z"
   },
   {
    "duration": 233,
    "start_time": "2022-04-13T10:53:21.260Z"
   },
   {
    "duration": 190,
    "start_time": "2022-04-13T10:54:54.396Z"
   },
   {
    "duration": 356,
    "start_time": "2022-04-13T10:55:23.923Z"
   },
   {
    "duration": 4,
    "start_time": "2022-04-13T10:55:44.827Z"
   },
   {
    "duration": 209,
    "start_time": "2022-04-13T10:56:12.941Z"
   },
   {
    "duration": 188,
    "start_time": "2022-04-13T10:58:04.125Z"
   },
   {
    "duration": 179,
    "start_time": "2022-04-13T10:58:32.429Z"
   },
   {
    "duration": 160,
    "start_time": "2022-04-13T10:59:00.403Z"
   },
   {
    "duration": 896,
    "start_time": "2022-04-13T10:59:40.528Z"
   },
   {
    "duration": 183,
    "start_time": "2022-04-13T10:59:41.427Z"
   },
   {
    "duration": 67,
    "start_time": "2022-04-13T10:59:41.613Z"
   },
   {
    "duration": 15,
    "start_time": "2022-04-13T10:59:41.682Z"
   },
   {
    "duration": 13,
    "start_time": "2022-04-13T10:59:41.701Z"
   },
   {
    "duration": 41,
    "start_time": "2022-04-13T10:59:41.716Z"
   },
   {
    "duration": 13,
    "start_time": "2022-04-13T10:59:41.760Z"
   },
   {
    "duration": 106,
    "start_time": "2022-04-13T10:59:41.776Z"
   },
   {
    "duration": 21,
    "start_time": "2022-04-13T10:59:41.884Z"
   },
   {
    "duration": 78,
    "start_time": "2022-04-13T10:59:41.907Z"
   },
   {
    "duration": 47,
    "start_time": "2022-04-13T10:59:41.987Z"
   },
   {
    "duration": 858,
    "start_time": "2022-04-13T10:59:42.053Z"
   },
   {
    "duration": 64,
    "start_time": "2022-04-13T10:59:42.914Z"
   },
   {
    "duration": 30,
    "start_time": "2022-04-13T10:59:42.982Z"
   },
   {
    "duration": 452,
    "start_time": "2022-04-13T10:59:43.014Z"
   },
   {
    "duration": 631,
    "start_time": "2022-04-13T10:59:43.469Z"
   },
   {
    "duration": 335,
    "start_time": "2022-04-13T10:59:44.102Z"
   },
   {
    "duration": 314,
    "start_time": "2022-04-13T10:59:44.440Z"
   },
   {
    "duration": 184,
    "start_time": "2022-04-13T10:59:44.756Z"
   },
   {
    "duration": 434,
    "start_time": "2022-04-13T10:59:44.942Z"
   },
   {
    "duration": 398,
    "start_time": "2022-04-13T10:59:45.379Z"
   },
   {
    "duration": 11,
    "start_time": "2022-04-13T10:59:45.779Z"
   },
   {
    "duration": 998,
    "start_time": "2022-04-13T11:00:02.899Z"
   },
   {
    "duration": 194,
    "start_time": "2022-04-13T11:00:03.900Z"
   },
   {
    "duration": 57,
    "start_time": "2022-04-13T11:00:04.096Z"
   },
   {
    "duration": 12,
    "start_time": "2022-04-13T11:00:04.166Z"
   },
   {
    "duration": 11,
    "start_time": "2022-04-13T11:00:04.180Z"
   },
   {
    "duration": 11,
    "start_time": "2022-04-13T11:00:04.194Z"
   },
   {
    "duration": 12,
    "start_time": "2022-04-13T11:00:04.207Z"
   },
   {
    "duration": 63,
    "start_time": "2022-04-13T11:00:04.253Z"
   },
   {
    "duration": 44,
    "start_time": "2022-04-13T11:00:04.318Z"
   },
   {
    "duration": 44,
    "start_time": "2022-04-13T11:00:04.367Z"
   },
   {
    "duration": 82,
    "start_time": "2022-04-13T11:00:04.413Z"
   },
   {
    "duration": 616,
    "start_time": "2022-04-13T11:00:04.497Z"
   },
   {
    "duration": 56,
    "start_time": "2022-04-13T11:00:05.116Z"
   },
   {
    "duration": 21,
    "start_time": "2022-04-13T11:00:05.174Z"
   },
   {
    "duration": 364,
    "start_time": "2022-04-13T11:00:05.197Z"
   },
   {
    "duration": 487,
    "start_time": "2022-04-13T11:00:05.565Z"
   },
   {
    "duration": 264,
    "start_time": "2022-04-13T11:00:06.055Z"
   },
   {
    "duration": 315,
    "start_time": "2022-04-13T11:00:06.322Z"
   },
   {
    "duration": 166,
    "start_time": "2022-04-13T11:00:06.640Z"
   },
   {
    "duration": 329,
    "start_time": "2022-04-13T11:00:06.808Z"
   },
   {
    "duration": 351,
    "start_time": "2022-04-13T11:00:07.139Z"
   },
   {
    "duration": 12,
    "start_time": "2022-04-13T11:00:07.492Z"
   },
   {
    "duration": 151,
    "start_time": "2022-04-13T11:01:27.292Z"
   },
   {
    "duration": 209,
    "start_time": "2022-04-13T11:01:32.831Z"
   },
   {
    "duration": 218,
    "start_time": "2022-04-13T11:01:41.603Z"
   },
   {
    "duration": 106,
    "start_time": "2022-04-13T13:53:28.204Z"
   },
   {
    "duration": 67,
    "start_time": "2022-04-13T13:54:51.456Z"
   },
   {
    "duration": 4364,
    "start_time": "2022-04-13T13:55:41.630Z"
   },
   {
    "duration": 17,
    "start_time": "2022-04-13T13:56:26.170Z"
   },
   {
    "duration": 5,
    "start_time": "2022-04-13T14:06:05.887Z"
   },
   {
    "duration": 43,
    "start_time": "2022-04-13T14:06:11.092Z"
   },
   {
    "duration": 9,
    "start_time": "2022-04-13T14:19:53.771Z"
   },
   {
    "duration": 8,
    "start_time": "2022-04-13T14:34:02.925Z"
   },
   {
    "duration": 8,
    "start_time": "2022-04-13T14:37:53.156Z"
   },
   {
    "duration": 9,
    "start_time": "2022-04-13T14:39:34.445Z"
   },
   {
    "duration": 63,
    "start_time": "2022-04-13T14:48:24.707Z"
   },
   {
    "duration": 150,
    "start_time": "2022-04-13T14:49:08.158Z"
   },
   {
    "duration": 14,
    "start_time": "2022-04-13T14:49:41.753Z"
   },
   {
    "duration": 160,
    "start_time": "2022-04-13T14:50:15.344Z"
   },
   {
    "duration": 13,
    "start_time": "2022-04-13T14:50:21.239Z"
   },
   {
    "duration": 324,
    "start_time": "2022-04-13T14:51:17.849Z"
   },
   {
    "duration": 325,
    "start_time": "2022-04-13T14:51:18.519Z"
   },
   {
    "duration": 9,
    "start_time": "2022-04-13T14:52:39.281Z"
   },
   {
    "duration": 907,
    "start_time": "2022-04-13T14:52:56.338Z"
   },
   {
    "duration": 251,
    "start_time": "2022-04-13T14:52:57.248Z"
   },
   {
    "duration": 56,
    "start_time": "2022-04-13T14:52:57.501Z"
   },
   {
    "duration": 19,
    "start_time": "2022-04-13T14:52:57.561Z"
   },
   {
    "duration": 12,
    "start_time": "2022-04-13T14:52:57.584Z"
   },
   {
    "duration": 13,
    "start_time": "2022-04-13T14:52:57.598Z"
   },
   {
    "duration": 48,
    "start_time": "2022-04-13T14:52:57.613Z"
   },
   {
    "duration": 61,
    "start_time": "2022-04-13T14:52:57.664Z"
   },
   {
    "duration": 43,
    "start_time": "2022-04-13T14:52:57.727Z"
   },
   {
    "duration": 42,
    "start_time": "2022-04-13T14:52:57.774Z"
   },
   {
    "duration": 78,
    "start_time": "2022-04-13T14:52:57.818Z"
   },
   {
    "duration": 635,
    "start_time": "2022-04-13T14:52:57.899Z"
   },
   {
    "duration": 54,
    "start_time": "2022-04-13T14:52:58.537Z"
   },
   {
    "duration": 23,
    "start_time": "2022-04-13T14:52:58.594Z"
   },
   {
    "duration": 348,
    "start_time": "2022-04-13T14:52:58.619Z"
   },
   {
    "duration": 463,
    "start_time": "2022-04-13T14:52:58.969Z"
   },
   {
    "duration": 249,
    "start_time": "2022-04-13T14:52:59.434Z"
   },
   {
    "duration": 312,
    "start_time": "2022-04-13T14:52:59.686Z"
   },
   {
    "duration": 165,
    "start_time": "2022-04-13T14:53:00.000Z"
   },
   {
    "duration": 331,
    "start_time": "2022-04-13T14:53:00.168Z"
   },
   {
    "duration": 348,
    "start_time": "2022-04-13T14:53:00.502Z"
   },
   {
    "duration": 13,
    "start_time": "2022-04-13T14:53:00.853Z"
   },
   {
    "duration": 21,
    "start_time": "2022-04-13T14:53:00.869Z"
   },
   {
    "duration": 181,
    "start_time": "2022-04-13T14:53:00.893Z"
   },
   {
    "duration": 14,
    "start_time": "2022-04-13T14:53:01.077Z"
   },
   {
    "duration": 348,
    "start_time": "2022-04-13T14:53:01.093Z"
   },
   {
    "duration": 350,
    "start_time": "2022-04-13T14:53:01.444Z"
   },
   {
    "duration": 213,
    "start_time": "2022-04-13T14:54:32.489Z"
   },
   {
    "duration": 10,
    "start_time": "2022-04-13T14:54:33.760Z"
   },
   {
    "duration": 302,
    "start_time": "2022-04-13T14:54:34.328Z"
   },
   {
    "duration": 291,
    "start_time": "2022-04-13T14:54:34.816Z"
   },
   {
    "duration": 840,
    "start_time": "2022-04-13T14:55:53.577Z"
   },
   {
    "duration": 185,
    "start_time": "2022-04-13T14:55:54.420Z"
   },
   {
    "duration": 55,
    "start_time": "2022-04-13T14:55:54.608Z"
   },
   {
    "duration": 13,
    "start_time": "2022-04-13T14:55:54.668Z"
   },
   {
    "duration": 13,
    "start_time": "2022-04-13T14:55:54.683Z"
   },
   {
    "duration": 55,
    "start_time": "2022-04-13T14:55:54.698Z"
   },
   {
    "duration": 13,
    "start_time": "2022-04-13T14:55:54.756Z"
   },
   {
    "duration": 54,
    "start_time": "2022-04-13T14:55:54.771Z"
   },
   {
    "duration": 19,
    "start_time": "2022-04-13T14:55:54.851Z"
   },
   {
    "duration": 37,
    "start_time": "2022-04-13T14:55:54.874Z"
   },
   {
    "duration": 73,
    "start_time": "2022-04-13T14:55:54.913Z"
   },
   {
    "duration": 553,
    "start_time": "2022-04-13T14:55:54.988Z"
   },
   {
    "duration": 40,
    "start_time": "2022-04-13T14:55:55.543Z"
   },
   {
    "duration": 20,
    "start_time": "2022-04-13T14:55:55.585Z"
   },
   {
    "duration": 331,
    "start_time": "2022-04-13T14:55:55.607Z"
   },
   {
    "duration": 437,
    "start_time": "2022-04-13T14:55:55.940Z"
   },
   {
    "duration": 232,
    "start_time": "2022-04-13T14:55:56.379Z"
   },
   {
    "duration": 278,
    "start_time": "2022-04-13T14:55:56.613Z"
   },
   {
    "duration": 152,
    "start_time": "2022-04-13T14:55:56.893Z"
   },
   {
    "duration": 295,
    "start_time": "2022-04-13T14:55:57.052Z"
   },
   {
    "duration": 315,
    "start_time": "2022-04-13T14:55:57.351Z"
   },
   {
    "duration": 10,
    "start_time": "2022-04-13T14:55:57.669Z"
   },
   {
    "duration": 16,
    "start_time": "2022-04-13T14:55:57.681Z"
   },
   {
    "duration": 173,
    "start_time": "2022-04-13T14:55:57.699Z"
   },
   {
    "duration": 10,
    "start_time": "2022-04-13T14:55:57.875Z"
   },
   {
    "duration": 309,
    "start_time": "2022-04-13T14:55:57.887Z"
   },
   {
    "duration": 465,
    "start_time": "2022-04-13T14:55:58.199Z"
   },
   {
    "duration": 296,
    "start_time": "2022-04-13T14:56:37.959Z"
   },
   {
    "duration": 12,
    "start_time": "2022-04-13T14:57:57.135Z"
   },
   {
    "duration": 244,
    "start_time": "2022-04-13T14:59:59.969Z"
   },
   {
    "duration": 288,
    "start_time": "2022-04-13T15:00:05.081Z"
   },
   {
    "duration": 140,
    "start_time": "2022-04-13T15:00:17.889Z"
   },
   {
    "duration": 289,
    "start_time": "2022-04-13T15:00:20.427Z"
   },
   {
    "duration": 324,
    "start_time": "2022-04-13T15:00:21.648Z"
   },
   {
    "duration": 155,
    "start_time": "2022-04-13T15:00:29.352Z"
   },
   {
    "duration": 298,
    "start_time": "2022-04-13T15:00:30.087Z"
   },
   {
    "duration": 292,
    "start_time": "2022-04-13T15:00:30.844Z"
   },
   {
    "duration": 12,
    "start_time": "2022-04-13T15:00:34.144Z"
   },
   {
    "duration": 525,
    "start_time": "2022-04-13T15:01:16.272Z"
   },
   {
    "duration": 287,
    "start_time": "2022-04-13T15:01:24.783Z"
   },
   {
    "duration": 156,
    "start_time": "2022-04-13T15:10:30.908Z"
   },
   {
    "duration": 818,
    "start_time": "2022-04-13T15:10:39.497Z"
   },
   {
    "duration": 168,
    "start_time": "2022-04-13T15:10:40.318Z"
   },
   {
    "duration": 44,
    "start_time": "2022-04-13T15:10:40.488Z"
   },
   {
    "duration": 29,
    "start_time": "2022-04-13T15:10:40.534Z"
   },
   {
    "duration": 14,
    "start_time": "2022-04-13T15:10:40.568Z"
   },
   {
    "duration": 15,
    "start_time": "2022-04-13T15:10:40.585Z"
   },
   {
    "duration": 56,
    "start_time": "2022-04-13T15:10:40.603Z"
   },
   {
    "duration": 98,
    "start_time": "2022-04-13T15:10:40.661Z"
   },
   {
    "duration": 31,
    "start_time": "2022-04-13T15:10:40.762Z"
   },
   {
    "duration": 90,
    "start_time": "2022-04-13T15:10:40.796Z"
   },
   {
    "duration": 82,
    "start_time": "2022-04-13T15:10:40.889Z"
   },
   {
    "duration": 602,
    "start_time": "2022-04-13T15:10:40.973Z"
   },
   {
    "duration": 37,
    "start_time": "2022-04-13T15:10:41.577Z"
   },
   {
    "duration": 48,
    "start_time": "2022-04-13T15:10:41.618Z"
   },
   {
    "duration": 323,
    "start_time": "2022-04-13T15:10:41.668Z"
   },
   {
    "duration": 666,
    "start_time": "2022-04-13T15:10:41.994Z"
   },
   {
    "duration": 358,
    "start_time": "2022-04-13T15:10:42.663Z"
   },
   {
    "duration": 293,
    "start_time": "2022-04-13T15:10:43.024Z"
   },
   {
    "duration": 161,
    "start_time": "2022-04-13T15:10:43.319Z"
   },
   {
    "duration": 306,
    "start_time": "2022-04-13T15:10:43.482Z"
   },
   {
    "duration": 330,
    "start_time": "2022-04-13T15:10:43.791Z"
   },
   {
    "duration": 12,
    "start_time": "2022-04-13T15:10:44.123Z"
   },
   {
    "duration": 9,
    "start_time": "2022-04-13T15:10:44.152Z"
   },
   {
    "duration": 171,
    "start_time": "2022-04-13T15:10:44.163Z"
   },
   {
    "duration": 318,
    "start_time": "2022-04-13T15:10:44.336Z"
   },
   {
    "duration": 329,
    "start_time": "2022-04-13T15:10:44.657Z"
   },
   {
    "duration": 12,
    "start_time": "2022-04-13T15:10:44.988Z"
   },
   {
    "duration": 841,
    "start_time": "2022-04-13T15:11:45.562Z"
   },
   {
    "duration": 160,
    "start_time": "2022-04-13T15:11:46.406Z"
   },
   {
    "duration": 44,
    "start_time": "2022-04-13T15:11:46.568Z"
   },
   {
    "duration": 36,
    "start_time": "2022-04-13T15:11:46.615Z"
   },
   {
    "duration": 15,
    "start_time": "2022-04-13T15:11:46.653Z"
   },
   {
    "duration": 14,
    "start_time": "2022-04-13T15:11:46.671Z"
   },
   {
    "duration": 14,
    "start_time": "2022-04-13T15:11:46.688Z"
   },
   {
    "duration": 121,
    "start_time": "2022-04-13T15:11:46.705Z"
   },
   {
    "duration": 41,
    "start_time": "2022-04-13T15:11:46.828Z"
   },
   {
    "duration": 39,
    "start_time": "2022-04-13T15:11:46.875Z"
   },
   {
    "duration": 71,
    "start_time": "2022-04-13T15:11:46.916Z"
   },
   {
    "duration": 589,
    "start_time": "2022-04-13T15:11:46.989Z"
   },
   {
    "duration": 37,
    "start_time": "2022-04-13T15:11:47.580Z"
   },
   {
    "duration": 56,
    "start_time": "2022-04-13T15:11:47.619Z"
   },
   {
    "duration": 374,
    "start_time": "2022-04-13T15:11:47.677Z"
   },
   {
    "duration": 451,
    "start_time": "2022-04-13T15:11:48.054Z"
   },
   {
    "duration": 253,
    "start_time": "2022-04-13T15:11:48.507Z"
   },
   {
    "duration": 290,
    "start_time": "2022-04-13T15:11:48.762Z"
   },
   {
    "duration": 160,
    "start_time": "2022-04-13T15:11:49.054Z"
   },
   {
    "duration": 301,
    "start_time": "2022-04-13T15:11:49.217Z"
   },
   {
    "duration": 326,
    "start_time": "2022-04-13T15:11:49.520Z"
   },
   {
    "duration": 11,
    "start_time": "2022-04-13T15:11:49.853Z"
   },
   {
    "duration": 8,
    "start_time": "2022-04-13T15:11:49.866Z"
   },
   {
    "duration": 181,
    "start_time": "2022-04-13T15:11:49.877Z"
   },
   {
    "duration": 304,
    "start_time": "2022-04-13T15:11:50.060Z"
   },
   {
    "duration": 312,
    "start_time": "2022-04-13T15:11:50.366Z"
   },
   {
    "duration": 11,
    "start_time": "2022-04-13T15:11:50.680Z"
   },
   {
    "duration": 130,
    "start_time": "2022-04-13T15:58:51.282Z"
   },
   {
    "duration": 307,
    "start_time": "2022-04-13T15:58:58.704Z"
   },
   {
    "duration": 237,
    "start_time": "2022-04-13T16:00:57.195Z"
   },
   {
    "duration": 237,
    "start_time": "2022-04-13T16:01:46.687Z"
   },
   {
    "duration": 218,
    "start_time": "2022-04-13T16:02:54.876Z"
   },
   {
    "duration": 215,
    "start_time": "2022-04-13T16:03:27.892Z"
   },
   {
    "duration": 225,
    "start_time": "2022-04-13T16:05:27.821Z"
   },
   {
    "duration": 262,
    "start_time": "2022-04-13T16:05:35.523Z"
   },
   {
    "duration": 90,
    "start_time": "2022-04-13T16:09:47.677Z"
   },
   {
    "duration": 209,
    "start_time": "2022-04-13T16:10:22.845Z"
   },
   {
    "duration": 207,
    "start_time": "2022-04-13T16:10:26.952Z"
   },
   {
    "duration": 189,
    "start_time": "2022-04-13T16:10:54.440Z"
   },
   {
    "duration": 270,
    "start_time": "2022-04-13T16:11:08.984Z"
   },
   {
    "duration": 211,
    "start_time": "2022-04-13T16:13:16.069Z"
   },
   {
    "duration": 239,
    "start_time": "2022-04-13T16:13:17.733Z"
   },
   {
    "duration": 254,
    "start_time": "2022-04-13T16:13:18.782Z"
   },
   {
    "duration": 299,
    "start_time": "2022-04-13T16:13:57.159Z"
   },
   {
    "duration": 1207,
    "start_time": "2022-04-14T08:35:22.288Z"
   },
   {
    "duration": 378,
    "start_time": "2022-04-14T08:35:23.498Z"
   },
   {
    "duration": 57,
    "start_time": "2022-04-14T08:35:23.878Z"
   },
   {
    "duration": 12,
    "start_time": "2022-04-14T08:35:23.938Z"
   },
   {
    "duration": 13,
    "start_time": "2022-04-14T08:35:23.952Z"
   },
   {
    "duration": 42,
    "start_time": "2022-04-14T08:35:23.967Z"
   },
   {
    "duration": 15,
    "start_time": "2022-04-14T08:35:24.011Z"
   },
   {
    "duration": 79,
    "start_time": "2022-04-14T08:35:24.028Z"
   },
   {
    "duration": 20,
    "start_time": "2022-04-14T08:35:24.109Z"
   },
   {
    "duration": 37,
    "start_time": "2022-04-14T08:35:24.133Z"
   },
   {
    "duration": 51,
    "start_time": "2022-04-14T08:35:24.197Z"
   },
   {
    "duration": 627,
    "start_time": "2022-04-14T08:35:24.250Z"
   },
   {
    "duration": 49,
    "start_time": "2022-04-14T08:35:24.881Z"
   },
   {
    "duration": 21,
    "start_time": "2022-04-14T08:35:24.932Z"
   },
   {
    "duration": 347,
    "start_time": "2022-04-14T08:35:24.956Z"
   },
   {
    "duration": 448,
    "start_time": "2022-04-14T08:35:25.306Z"
   },
   {
    "duration": 258,
    "start_time": "2022-04-14T08:35:25.757Z"
   },
   {
    "duration": 301,
    "start_time": "2022-04-14T08:35:26.018Z"
   },
   {
    "duration": 159,
    "start_time": "2022-04-14T08:35:26.322Z"
   },
   {
    "duration": 320,
    "start_time": "2022-04-14T08:35:26.483Z"
   },
   {
    "duration": 328,
    "start_time": "2022-04-14T08:35:26.806Z"
   },
   {
    "duration": 12,
    "start_time": "2022-04-14T08:35:27.136Z"
   },
   {
    "duration": 8,
    "start_time": "2022-04-14T08:35:27.150Z"
   },
   {
    "duration": 189,
    "start_time": "2022-04-14T08:35:27.160Z"
   },
   {
    "duration": 331,
    "start_time": "2022-04-14T08:35:27.352Z"
   },
   {
    "duration": 335,
    "start_time": "2022-04-14T08:35:27.694Z"
   },
   {
    "duration": 10,
    "start_time": "2022-04-14T08:35:28.032Z"
   },
   {
    "duration": 279,
    "start_time": "2022-04-14T08:35:28.046Z"
   },
   {
    "duration": 240,
    "start_time": "2022-04-14T08:35:28.327Z"
   },
   {
    "duration": 267,
    "start_time": "2022-04-14T08:35:28.569Z"
   },
   {
    "duration": 21,
    "start_time": "2022-04-14T08:42:04.941Z"
   },
   {
    "duration": 19,
    "start_time": "2022-04-14T08:42:37.595Z"
   },
   {
    "duration": 185,
    "start_time": "2022-04-14T08:43:09.373Z"
   },
   {
    "duration": 12,
    "start_time": "2022-04-14T08:43:33.331Z"
   },
   {
    "duration": 237,
    "start_time": "2022-04-14T08:43:50.758Z"
   },
   {
    "duration": 6,
    "start_time": "2022-04-14T08:44:29.323Z"
   },
   {
    "duration": 109,
    "start_time": "2022-04-14T08:44:40.900Z"
   },
   {
    "duration": 10,
    "start_time": "2022-04-14T08:44:56.014Z"
   },
   {
    "duration": 6,
    "start_time": "2022-04-14T08:45:06.964Z"
   },
   {
    "duration": 8,
    "start_time": "2022-04-14T08:45:23.201Z"
   },
   {
    "duration": 239,
    "start_time": "2022-04-14T08:55:56.517Z"
   },
   {
    "duration": 244,
    "start_time": "2022-04-14T08:56:07.799Z"
   },
   {
    "duration": 215,
    "start_time": "2022-04-14T08:56:19.072Z"
   },
   {
    "duration": 212,
    "start_time": "2022-04-14T08:56:27.238Z"
   },
   {
    "duration": 203,
    "start_time": "2022-04-14T09:05:40.842Z"
   },
   {
    "duration": 230,
    "start_time": "2022-04-14T09:05:46.650Z"
   },
   {
    "duration": 252,
    "start_time": "2022-04-14T09:05:53.390Z"
   },
   {
    "duration": 202,
    "start_time": "2022-04-14T09:06:17.410Z"
   },
   {
    "duration": 214,
    "start_time": "2022-04-14T09:06:24.162Z"
   },
   {
    "duration": 311,
    "start_time": "2022-04-14T09:06:31.265Z"
   },
   {
    "duration": 229,
    "start_time": "2022-04-14T09:13:04.364Z"
   },
   {
    "duration": 18,
    "start_time": "2022-04-14T09:13:40.436Z"
   },
   {
    "duration": 205,
    "start_time": "2022-04-14T09:13:52.403Z"
   },
   {
    "duration": 216,
    "start_time": "2022-04-14T09:13:56.667Z"
   },
   {
    "duration": 218,
    "start_time": "2022-04-14T09:14:56.148Z"
   },
   {
    "duration": 1012,
    "start_time": "2022-04-14T09:15:01.863Z"
   },
   {
    "duration": 257,
    "start_time": "2022-04-14T09:15:02.877Z"
   },
   {
    "duration": 43,
    "start_time": "2022-04-14T09:15:03.136Z"
   },
   {
    "duration": 12,
    "start_time": "2022-04-14T09:15:03.193Z"
   },
   {
    "duration": 11,
    "start_time": "2022-04-14T09:15:03.208Z"
   },
   {
    "duration": 10,
    "start_time": "2022-04-14T09:15:03.221Z"
   },
   {
    "duration": 12,
    "start_time": "2022-04-14T09:15:03.233Z"
   },
   {
    "duration": 95,
    "start_time": "2022-04-14T09:15:03.247Z"
   },
   {
    "duration": 20,
    "start_time": "2022-04-14T09:15:03.344Z"
   },
   {
    "duration": 66,
    "start_time": "2022-04-14T09:15:03.366Z"
   },
   {
    "duration": 63,
    "start_time": "2022-04-14T09:15:03.434Z"
   },
   {
    "duration": 559,
    "start_time": "2022-04-14T09:15:03.499Z"
   },
   {
    "duration": 47,
    "start_time": "2022-04-14T09:15:04.060Z"
   },
   {
    "duration": 20,
    "start_time": "2022-04-14T09:15:04.111Z"
   },
   {
    "duration": 334,
    "start_time": "2022-04-14T09:15:04.134Z"
   },
   {
    "duration": 432,
    "start_time": "2022-04-14T09:15:04.470Z"
   },
   {
    "duration": 232,
    "start_time": "2022-04-14T09:15:04.904Z"
   },
   {
    "duration": 274,
    "start_time": "2022-04-14T09:15:05.138Z"
   },
   {
    "duration": 153,
    "start_time": "2022-04-14T09:15:05.414Z"
   },
   {
    "duration": 301,
    "start_time": "2022-04-14T09:15:05.569Z"
   },
   {
    "duration": 311,
    "start_time": "2022-04-14T09:15:05.873Z"
   },
   {
    "duration": 16,
    "start_time": "2022-04-14T09:15:06.186Z"
   },
   {
    "duration": 8,
    "start_time": "2022-04-14T09:15:06.204Z"
   },
   {
    "duration": 180,
    "start_time": "2022-04-14T09:15:06.215Z"
   },
   {
    "duration": 297,
    "start_time": "2022-04-14T09:15:06.397Z"
   },
   {
    "duration": 297,
    "start_time": "2022-04-14T09:15:06.696Z"
   },
   {
    "duration": 11,
    "start_time": "2022-04-14T09:15:06.995Z"
   },
   {
    "duration": 313,
    "start_time": "2022-04-14T09:15:07.009Z"
   },
   {
    "duration": 234,
    "start_time": "2022-04-14T09:15:07.325Z"
   },
   {
    "duration": 247,
    "start_time": "2022-04-14T09:15:07.561Z"
   },
   {
    "duration": 7,
    "start_time": "2022-04-14T09:15:07.810Z"
   },
   {
    "duration": 227,
    "start_time": "2022-04-14T09:16:57.592Z"
   },
   {
    "duration": 227,
    "start_time": "2022-04-14T09:17:04.145Z"
   },
   {
    "duration": 256,
    "start_time": "2022-04-14T09:17:59.873Z"
   },
   {
    "duration": 212,
    "start_time": "2022-04-14T09:18:05.505Z"
   },
   {
    "duration": 13,
    "start_time": "2022-04-14T09:21:01.132Z"
   },
   {
    "duration": 12,
    "start_time": "2022-04-14T09:21:24.450Z"
   },
   {
    "duration": 13,
    "start_time": "2022-04-14T09:22:26.762Z"
   },
   {
    "duration": 11,
    "start_time": "2022-04-14T09:22:34.524Z"
   },
   {
    "duration": 157,
    "start_time": "2022-04-14T09:25:03.389Z"
   },
   {
    "duration": 283,
    "start_time": "2022-04-14T09:25:09.212Z"
   },
   {
    "duration": 287,
    "start_time": "2022-04-14T09:25:09.779Z"
   },
   {
    "duration": 12,
    "start_time": "2022-04-14T09:25:10.706Z"
   },
   {
    "duration": 245,
    "start_time": "2022-04-14T09:25:25.394Z"
   },
   {
    "duration": 322,
    "start_time": "2022-04-14T09:25:29.850Z"
   },
   {
    "duration": 236,
    "start_time": "2022-04-14T09:25:33.202Z"
   },
   {
    "duration": 9,
    "start_time": "2022-04-14T09:25:46.409Z"
   },
   {
    "duration": 8,
    "start_time": "2022-04-14T09:25:51.522Z"
   },
   {
    "duration": 145,
    "start_time": "2022-04-14T09:26:26.138Z"
   },
   {
    "duration": 148,
    "start_time": "2022-04-14T09:26:47.565Z"
   },
   {
    "duration": 143,
    "start_time": "2022-04-14T09:26:54.636Z"
   },
   {
    "duration": 153,
    "start_time": "2022-04-14T09:27:01.291Z"
   },
   {
    "duration": 149,
    "start_time": "2022-04-14T09:27:15.476Z"
   },
   {
    "duration": 149,
    "start_time": "2022-04-14T09:27:27.610Z"
   },
   {
    "duration": 172,
    "start_time": "2022-04-14T09:27:53.173Z"
   },
   {
    "duration": 160,
    "start_time": "2022-04-14T09:27:59.287Z"
   },
   {
    "duration": 885,
    "start_time": "2022-04-14T09:28:08.652Z"
   },
   {
    "duration": 226,
    "start_time": "2022-04-14T09:28:09.539Z"
   },
   {
    "duration": 48,
    "start_time": "2022-04-14T09:28:09.767Z"
   },
   {
    "duration": 12,
    "start_time": "2022-04-14T09:28:09.817Z"
   },
   {
    "duration": 14,
    "start_time": "2022-04-14T09:28:09.831Z"
   },
   {
    "duration": 11,
    "start_time": "2022-04-14T09:28:09.847Z"
   },
   {
    "duration": 40,
    "start_time": "2022-04-14T09:28:09.859Z"
   },
   {
    "duration": 53,
    "start_time": "2022-04-14T09:28:09.901Z"
   },
   {
    "duration": 43,
    "start_time": "2022-04-14T09:28:09.956Z"
   },
   {
    "duration": 38,
    "start_time": "2022-04-14T09:28:10.001Z"
   },
   {
    "duration": 65,
    "start_time": "2022-04-14T09:28:10.041Z"
   },
   {
    "duration": 533,
    "start_time": "2022-04-14T09:28:10.109Z"
   },
   {
    "duration": 50,
    "start_time": "2022-04-14T09:28:10.644Z"
   },
   {
    "duration": 21,
    "start_time": "2022-04-14T09:28:10.699Z"
   },
   {
    "duration": 311,
    "start_time": "2022-04-14T09:28:10.722Z"
   },
   {
    "duration": 202,
    "start_time": "2022-04-14T09:28:11.035Z"
   },
   {
    "duration": 11,
    "start_time": "2022-04-14T09:28:11.239Z"
   },
   {
    "duration": 381,
    "start_time": "2022-04-14T09:28:11.253Z"
   },
   {
    "duration": 168,
    "start_time": "2022-04-14T09:28:11.636Z"
   },
   {
    "duration": 11,
    "start_time": "2022-04-14T09:28:11.806Z"
   },
   {
    "duration": 246,
    "start_time": "2022-04-14T09:28:11.819Z"
   },
   {
    "duration": 167,
    "start_time": "2022-04-14T09:28:12.067Z"
   },
   {
    "duration": 278,
    "start_time": "2022-04-14T09:28:12.236Z"
   },
   {
    "duration": 149,
    "start_time": "2022-04-14T09:28:12.516Z"
   },
   {
    "duration": 285,
    "start_time": "2022-04-14T09:28:12.668Z"
   },
   {
    "duration": 306,
    "start_time": "2022-04-14T09:28:12.956Z"
   },
   {
    "duration": 10,
    "start_time": "2022-04-14T09:28:13.264Z"
   },
   {
    "duration": 23,
    "start_time": "2022-04-14T09:28:13.277Z"
   },
   {
    "duration": 172,
    "start_time": "2022-04-14T09:28:13.302Z"
   },
   {
    "duration": 371,
    "start_time": "2022-04-14T09:28:13.476Z"
   },
   {
    "duration": 307,
    "start_time": "2022-04-14T09:28:13.850Z"
   },
   {
    "duration": 13,
    "start_time": "2022-04-14T09:28:14.160Z"
   },
   {
    "duration": 246,
    "start_time": "2022-04-14T09:28:14.194Z"
   },
   {
    "duration": 252,
    "start_time": "2022-04-14T09:28:14.443Z"
   },
   {
    "duration": 246,
    "start_time": "2022-04-14T09:28:14.698Z"
   },
   {
    "duration": 139,
    "start_time": "2022-04-14T09:35:28.582Z"
   },
   {
    "duration": 283,
    "start_time": "2022-04-14T09:35:35.500Z"
   },
   {
    "duration": 279,
    "start_time": "2022-04-14T09:35:37.236Z"
   },
   {
    "duration": 13,
    "start_time": "2022-04-14T09:35:41.691Z"
   },
   {
    "duration": 821,
    "start_time": "2022-04-14T09:35:48.326Z"
   },
   {
    "duration": 216,
    "start_time": "2022-04-14T09:35:49.150Z"
   },
   {
    "duration": 45,
    "start_time": "2022-04-14T09:35:49.369Z"
   },
   {
    "duration": 13,
    "start_time": "2022-04-14T09:35:49.417Z"
   },
   {
    "duration": 11,
    "start_time": "2022-04-14T09:35:49.432Z"
   },
   {
    "duration": 10,
    "start_time": "2022-04-14T09:35:49.446Z"
   },
   {
    "duration": 43,
    "start_time": "2022-04-14T09:35:49.458Z"
   },
   {
    "duration": 55,
    "start_time": "2022-04-14T09:35:49.504Z"
   },
   {
    "duration": 45,
    "start_time": "2022-04-14T09:35:49.562Z"
   },
   {
    "duration": 37,
    "start_time": "2022-04-14T09:35:49.611Z"
   },
   {
    "duration": 68,
    "start_time": "2022-04-14T09:35:49.650Z"
   },
   {
    "duration": 542,
    "start_time": "2022-04-14T09:35:49.720Z"
   },
   {
    "duration": 47,
    "start_time": "2022-04-14T09:35:50.264Z"
   },
   {
    "duration": 22,
    "start_time": "2022-04-14T09:35:50.313Z"
   },
   {
    "duration": 310,
    "start_time": "2022-04-14T09:35:50.337Z"
   },
   {
    "duration": 198,
    "start_time": "2022-04-14T09:35:50.649Z"
   },
   {
    "duration": 12,
    "start_time": "2022-04-14T09:35:50.849Z"
   },
   {
    "duration": 386,
    "start_time": "2022-04-14T09:35:50.864Z"
   },
   {
    "duration": 171,
    "start_time": "2022-04-14T09:35:51.252Z"
   },
   {
    "duration": 12,
    "start_time": "2022-04-14T09:35:51.425Z"
   },
   {
    "duration": 236,
    "start_time": "2022-04-14T09:35:51.439Z"
   },
   {
    "duration": 167,
    "start_time": "2022-04-14T09:35:51.677Z"
   },
   {
    "duration": 268,
    "start_time": "2022-04-14T09:35:51.846Z"
   },
   {
    "duration": 156,
    "start_time": "2022-04-14T09:35:52.117Z"
   },
   {
    "duration": 290,
    "start_time": "2022-04-14T09:35:52.275Z"
   },
   {
    "duration": 305,
    "start_time": "2022-04-14T09:35:52.568Z"
   },
   {
    "duration": 19,
    "start_time": "2022-04-14T09:35:52.876Z"
   },
   {
    "duration": 9,
    "start_time": "2022-04-14T09:35:52.900Z"
   },
   {
    "duration": 166,
    "start_time": "2022-04-14T09:35:52.911Z"
   },
   {
    "duration": 355,
    "start_time": "2022-04-14T09:35:53.080Z"
   },
   {
    "duration": 290,
    "start_time": "2022-04-14T09:35:53.437Z"
   },
   {
    "duration": 13,
    "start_time": "2022-04-14T09:35:53.729Z"
   },
   {
    "duration": 264,
    "start_time": "2022-04-14T09:35:53.744Z"
   },
   {
    "duration": 256,
    "start_time": "2022-04-14T09:35:54.010Z"
   },
   {
    "duration": 257,
    "start_time": "2022-04-14T09:35:54.269Z"
   },
   {
    "duration": 244,
    "start_time": "2022-04-14T09:45:49.278Z"
   },
   {
    "duration": 54,
    "start_time": "2022-04-14T09:46:43.160Z"
   },
   {
    "duration": 184,
    "start_time": "2022-04-14T09:46:56.489Z"
   },
   {
    "duration": 429,
    "start_time": "2022-04-14T09:47:09.118Z"
   },
   {
    "duration": 345,
    "start_time": "2022-04-14T09:47:11.390Z"
   },
   {
    "duration": 1045,
    "start_time": "2022-04-14T09:47:17.722Z"
   },
   {
    "duration": 228,
    "start_time": "2022-04-14T09:47:18.770Z"
   },
   {
    "duration": 44,
    "start_time": "2022-04-14T09:47:19.001Z"
   },
   {
    "duration": 13,
    "start_time": "2022-04-14T09:47:19.049Z"
   },
   {
    "duration": 14,
    "start_time": "2022-04-14T09:47:19.093Z"
   },
   {
    "duration": 14,
    "start_time": "2022-04-14T09:47:19.109Z"
   },
   {
    "duration": 14,
    "start_time": "2022-04-14T09:47:19.125Z"
   },
   {
    "duration": 98,
    "start_time": "2022-04-14T09:47:19.141Z"
   },
   {
    "duration": 27,
    "start_time": "2022-04-14T09:47:19.242Z"
   },
   {
    "duration": 54,
    "start_time": "2022-04-14T09:47:19.294Z"
   },
   {
    "duration": 84,
    "start_time": "2022-04-14T09:47:19.350Z"
   },
   {
    "duration": 718,
    "start_time": "2022-04-14T09:47:19.437Z"
   },
   {
    "duration": 63,
    "start_time": "2022-04-14T09:47:20.157Z"
   },
   {
    "duration": 31,
    "start_time": "2022-04-14T09:47:20.222Z"
   },
   {
    "duration": 318,
    "start_time": "2022-04-14T09:47:20.256Z"
   },
   {
    "duration": 205,
    "start_time": "2022-04-14T09:47:20.577Z"
   },
   {
    "duration": 12,
    "start_time": "2022-04-14T09:47:20.792Z"
   },
   {
    "duration": 387,
    "start_time": "2022-04-14T09:47:20.806Z"
   },
   {
    "duration": 166,
    "start_time": "2022-04-14T09:47:21.195Z"
   },
   {
    "duration": 12,
    "start_time": "2022-04-14T09:47:21.363Z"
   },
   {
    "duration": 241,
    "start_time": "2022-04-14T09:47:21.377Z"
   },
   {
    "duration": 169,
    "start_time": "2022-04-14T09:47:21.620Z"
   },
   {
    "duration": 282,
    "start_time": "2022-04-14T09:47:21.793Z"
   },
   {
    "duration": 157,
    "start_time": "2022-04-14T09:47:22.078Z"
   },
   {
    "duration": 305,
    "start_time": "2022-04-14T09:47:22.238Z"
   },
   {
    "duration": 331,
    "start_time": "2022-04-14T09:47:22.545Z"
   },
   {
    "duration": 21,
    "start_time": "2022-04-14T09:47:22.878Z"
   },
   {
    "duration": 9,
    "start_time": "2022-04-14T09:47:22.905Z"
   },
   {
    "duration": 179,
    "start_time": "2022-04-14T09:47:22.916Z"
   },
   {
    "duration": 382,
    "start_time": "2022-04-14T09:47:23.097Z"
   },
   {
    "duration": 312,
    "start_time": "2022-04-14T09:47:23.481Z"
   },
   {
    "duration": 10,
    "start_time": "2022-04-14T09:47:23.795Z"
   },
   {
    "duration": 251,
    "start_time": "2022-04-14T09:47:23.807Z"
   },
   {
    "duration": 237,
    "start_time": "2022-04-14T09:47:24.061Z"
   },
   {
    "duration": 263,
    "start_time": "2022-04-14T09:47:24.301Z"
   },
   {
    "duration": 150,
    "start_time": "2022-04-14T09:47:45.220Z"
   },
   {
    "duration": 871,
    "start_time": "2022-04-14T09:47:51.007Z"
   },
   {
    "duration": 228,
    "start_time": "2022-04-14T09:47:51.881Z"
   },
   {
    "duration": 42,
    "start_time": "2022-04-14T09:47:52.111Z"
   },
   {
    "duration": 38,
    "start_time": "2022-04-14T09:47:52.156Z"
   },
   {
    "duration": 12,
    "start_time": "2022-04-14T09:47:52.197Z"
   },
   {
    "duration": 12,
    "start_time": "2022-04-14T09:47:52.211Z"
   },
   {
    "duration": 12,
    "start_time": "2022-04-14T09:47:52.225Z"
   },
   {
    "duration": 101,
    "start_time": "2022-04-14T09:47:52.239Z"
   },
   {
    "duration": 21,
    "start_time": "2022-04-14T09:47:52.342Z"
   },
   {
    "duration": 38,
    "start_time": "2022-04-14T09:47:52.395Z"
   },
   {
    "duration": 62,
    "start_time": "2022-04-14T09:47:52.435Z"
   },
   {
    "duration": 558,
    "start_time": "2022-04-14T09:47:52.499Z"
   },
   {
    "duration": 63,
    "start_time": "2022-04-14T09:47:53.060Z"
   },
   {
    "duration": 23,
    "start_time": "2022-04-14T09:47:53.126Z"
   },
   {
    "duration": 317,
    "start_time": "2022-04-14T09:47:53.151Z"
   },
   {
    "duration": 212,
    "start_time": "2022-04-14T09:47:53.471Z"
   },
   {
    "duration": 13,
    "start_time": "2022-04-14T09:47:53.694Z"
   },
   {
    "duration": 497,
    "start_time": "2022-04-14T09:47:53.709Z"
   },
   {
    "duration": 172,
    "start_time": "2022-04-14T09:47:54.209Z"
   },
   {
    "duration": 16,
    "start_time": "2022-04-14T09:47:54.383Z"
   },
   {
    "duration": 245,
    "start_time": "2022-04-14T09:47:54.401Z"
   },
   {
    "duration": 174,
    "start_time": "2022-04-14T09:47:54.648Z"
   },
   {
    "duration": 283,
    "start_time": "2022-04-14T09:47:54.824Z"
   },
   {
    "duration": 153,
    "start_time": "2022-04-14T09:47:55.110Z"
   },
   {
    "duration": 298,
    "start_time": "2022-04-14T09:47:55.266Z"
   },
   {
    "duration": 326,
    "start_time": "2022-04-14T09:47:55.567Z"
   },
   {
    "duration": 12,
    "start_time": "2022-04-14T09:47:55.897Z"
   },
   {
    "duration": 8,
    "start_time": "2022-04-14T09:47:55.913Z"
   },
   {
    "duration": 186,
    "start_time": "2022-04-14T09:47:55.923Z"
   },
   {
    "duration": 369,
    "start_time": "2022-04-14T09:47:56.111Z"
   },
   {
    "duration": 297,
    "start_time": "2022-04-14T09:47:56.482Z"
   },
   {
    "duration": 20,
    "start_time": "2022-04-14T09:47:56.781Z"
   },
   {
    "duration": 341,
    "start_time": "2022-04-14T09:47:56.804Z"
   },
   {
    "duration": 261,
    "start_time": "2022-04-14T09:47:57.147Z"
   },
   {
    "duration": 271,
    "start_time": "2022-04-14T09:47:57.410Z"
   },
   {
    "duration": 236,
    "start_time": "2022-04-14T09:50:17.817Z"
   },
   {
    "duration": 64,
    "start_time": "2022-04-14T09:51:15.440Z"
   },
   {
    "duration": 65,
    "start_time": "2022-04-14T09:52:26.372Z"
   },
   {
    "duration": 150,
    "start_time": "2022-04-14T09:53:16.030Z"
   },
   {
    "duration": 865,
    "start_time": "2022-04-14T09:53:22.935Z"
   },
   {
    "duration": 240,
    "start_time": "2022-04-14T09:53:23.802Z"
   },
   {
    "duration": 55,
    "start_time": "2022-04-14T09:53:24.045Z"
   },
   {
    "duration": 14,
    "start_time": "2022-04-14T09:53:24.103Z"
   },
   {
    "duration": 15,
    "start_time": "2022-04-14T09:53:24.119Z"
   },
   {
    "duration": 12,
    "start_time": "2022-04-14T09:53:24.136Z"
   },
   {
    "duration": 50,
    "start_time": "2022-04-14T09:53:24.150Z"
   },
   {
    "duration": 58,
    "start_time": "2022-04-14T09:53:24.202Z"
   },
   {
    "duration": 50,
    "start_time": "2022-04-14T09:53:24.262Z"
   },
   {
    "duration": 42,
    "start_time": "2022-04-14T09:53:24.315Z"
   },
   {
    "duration": 72,
    "start_time": "2022-04-14T09:53:24.359Z"
   },
   {
    "duration": 572,
    "start_time": "2022-04-14T09:53:24.433Z"
   },
   {
    "duration": 38,
    "start_time": "2022-04-14T09:53:25.007Z"
   },
   {
    "duration": 47,
    "start_time": "2022-04-14T09:53:25.047Z"
   },
   {
    "duration": 314,
    "start_time": "2022-04-14T09:53:25.097Z"
   },
   {
    "duration": 294,
    "start_time": "2022-04-14T09:53:25.414Z"
   },
   {
    "duration": 16,
    "start_time": "2022-04-14T09:53:25.711Z"
   },
   {
    "duration": 577,
    "start_time": "2022-04-14T09:53:25.730Z"
   },
   {
    "duration": 236,
    "start_time": "2022-04-14T09:53:26.309Z"
   },
   {
    "duration": 15,
    "start_time": "2022-04-14T09:53:26.547Z"
   },
   {
    "duration": 246,
    "start_time": "2022-04-14T09:53:26.565Z"
   },
   {
    "duration": 170,
    "start_time": "2022-04-14T09:53:26.814Z"
   },
   {
    "duration": 285,
    "start_time": "2022-04-14T09:53:26.986Z"
   },
   {
    "duration": 161,
    "start_time": "2022-04-14T09:53:27.273Z"
   },
   {
    "duration": 305,
    "start_time": "2022-04-14T09:53:27.436Z"
   },
   {
    "duration": 319,
    "start_time": "2022-04-14T09:53:27.743Z"
   },
   {
    "duration": 12,
    "start_time": "2022-04-14T09:53:28.064Z"
   },
   {
    "duration": 8,
    "start_time": "2022-04-14T09:53:28.093Z"
   },
   {
    "duration": 174,
    "start_time": "2022-04-14T09:53:28.103Z"
   },
   {
    "duration": 372,
    "start_time": "2022-04-14T09:53:28.280Z"
   },
   {
    "duration": 307,
    "start_time": "2022-04-14T09:53:28.654Z"
   },
   {
    "duration": 28,
    "start_time": "2022-04-14T09:53:28.964Z"
   },
   {
    "duration": 217,
    "start_time": "2022-04-14T09:53:28.995Z"
   },
   {
    "duration": 248,
    "start_time": "2022-04-14T09:53:29.214Z"
   },
   {
    "duration": 247,
    "start_time": "2022-04-14T09:53:29.465Z"
   },
   {
    "duration": 862,
    "start_time": "2022-04-14T09:58:50.811Z"
   },
   {
    "duration": 222,
    "start_time": "2022-04-14T09:58:51.676Z"
   },
   {
    "duration": 44,
    "start_time": "2022-04-14T09:58:51.900Z"
   },
   {
    "duration": 13,
    "start_time": "2022-04-14T09:58:51.946Z"
   },
   {
    "duration": 41,
    "start_time": "2022-04-14T09:58:51.962Z"
   },
   {
    "duration": 11,
    "start_time": "2022-04-14T09:58:52.005Z"
   },
   {
    "duration": 13,
    "start_time": "2022-04-14T09:58:52.018Z"
   },
   {
    "duration": 98,
    "start_time": "2022-04-14T09:58:52.034Z"
   },
   {
    "duration": 22,
    "start_time": "2022-04-14T09:58:52.134Z"
   },
   {
    "duration": 67,
    "start_time": "2022-04-14T09:58:52.159Z"
   },
   {
    "duration": 47,
    "start_time": "2022-04-14T09:58:52.229Z"
   },
   {
    "duration": 577,
    "start_time": "2022-04-14T09:58:52.279Z"
   },
   {
    "duration": 51,
    "start_time": "2022-04-14T09:58:52.859Z"
   },
   {
    "duration": 22,
    "start_time": "2022-04-14T09:58:52.916Z"
   },
   {
    "duration": 329,
    "start_time": "2022-04-14T09:58:52.940Z"
   },
   {
    "duration": 209,
    "start_time": "2022-04-14T09:58:53.272Z"
   },
   {
    "duration": 21,
    "start_time": "2022-04-14T09:58:53.483Z"
   },
   {
    "duration": 390,
    "start_time": "2022-04-14T09:58:53.506Z"
   },
   {
    "duration": 179,
    "start_time": "2022-04-14T09:58:53.898Z"
   },
   {
    "duration": 20,
    "start_time": "2022-04-14T09:58:54.079Z"
   },
   {
    "duration": 240,
    "start_time": "2022-04-14T09:58:54.101Z"
   },
   {
    "duration": 178,
    "start_time": "2022-04-14T09:58:54.343Z"
   },
   {
    "duration": 290,
    "start_time": "2022-04-14T09:58:54.523Z"
   },
   {
    "duration": 157,
    "start_time": "2022-04-14T09:58:54.815Z"
   },
   {
    "duration": 303,
    "start_time": "2022-04-14T09:58:54.975Z"
   },
   {
    "duration": 325,
    "start_time": "2022-04-14T09:58:55.280Z"
   },
   {
    "duration": 12,
    "start_time": "2022-04-14T09:58:55.608Z"
   },
   {
    "duration": 10,
    "start_time": "2022-04-14T09:58:55.622Z"
   },
   {
    "duration": 194,
    "start_time": "2022-04-14T09:58:55.635Z"
   },
   {
    "duration": 378,
    "start_time": "2022-04-14T09:58:55.831Z"
   },
   {
    "duration": 311,
    "start_time": "2022-04-14T09:58:56.211Z"
   },
   {
    "duration": 14,
    "start_time": "2022-04-14T09:58:56.524Z"
   },
   {
    "duration": 326,
    "start_time": "2022-04-14T09:58:56.541Z"
   },
   {
    "duration": 360,
    "start_time": "2022-04-14T09:58:56.870Z"
   },
   {
    "duration": 365,
    "start_time": "2022-04-14T09:58:57.233Z"
   },
   {
    "duration": 164,
    "start_time": "2022-04-14T10:02:42.058Z"
   },
   {
    "duration": 952,
    "start_time": "2022-04-14T10:02:51.183Z"
   },
   {
    "duration": 246,
    "start_time": "2022-04-14T10:02:52.138Z"
   },
   {
    "duration": 60,
    "start_time": "2022-04-14T10:02:52.386Z"
   },
   {
    "duration": 16,
    "start_time": "2022-04-14T10:02:52.450Z"
   },
   {
    "duration": 36,
    "start_time": "2022-04-14T10:02:52.468Z"
   },
   {
    "duration": 14,
    "start_time": "2022-04-14T10:02:52.506Z"
   },
   {
    "duration": 17,
    "start_time": "2022-04-14T10:02:52.522Z"
   },
   {
    "duration": 126,
    "start_time": "2022-04-14T10:02:52.542Z"
   },
   {
    "duration": 47,
    "start_time": "2022-04-14T10:02:52.671Z"
   },
   {
    "duration": 72,
    "start_time": "2022-04-14T10:02:52.724Z"
   },
   {
    "duration": 49,
    "start_time": "2022-04-14T10:02:52.798Z"
   },
   {
    "duration": 600,
    "start_time": "2022-04-14T10:02:52.849Z"
   },
   {
    "duration": 72,
    "start_time": "2022-04-14T10:02:53.452Z"
   },
   {
    "duration": 22,
    "start_time": "2022-04-14T10:02:53.526Z"
   },
   {
    "duration": 345,
    "start_time": "2022-04-14T10:02:53.550Z"
   },
   {
    "duration": 209,
    "start_time": "2022-04-14T10:02:53.898Z"
   },
   {
    "duration": 394,
    "start_time": "2022-04-14T10:02:54.109Z"
   },
   {
    "duration": 181,
    "start_time": "2022-04-14T10:02:54.505Z"
   },
   {
    "duration": 249,
    "start_time": "2022-04-14T10:02:54.688Z"
   },
   {
    "duration": 176,
    "start_time": "2022-04-14T10:02:54.939Z"
   },
   {
    "duration": 288,
    "start_time": "2022-04-14T10:02:55.117Z"
   },
   {
    "duration": 156,
    "start_time": "2022-04-14T10:02:55.407Z"
   },
   {
    "duration": 295,
    "start_time": "2022-04-14T10:02:55.565Z"
   },
   {
    "duration": 320,
    "start_time": "2022-04-14T10:02:55.862Z"
   },
   {
    "duration": 11,
    "start_time": "2022-04-14T10:02:56.193Z"
   },
   {
    "duration": 8,
    "start_time": "2022-04-14T10:02:56.206Z"
   },
   {
    "duration": 206,
    "start_time": "2022-04-14T10:02:56.216Z"
   },
   {
    "duration": 382,
    "start_time": "2022-04-14T10:02:56.427Z"
   },
   {
    "duration": 320,
    "start_time": "2022-04-14T10:02:56.811Z"
   },
   {
    "duration": 11,
    "start_time": "2022-04-14T10:02:57.134Z"
   },
   {
    "duration": 232,
    "start_time": "2022-04-14T10:02:57.147Z"
   },
   {
    "duration": 253,
    "start_time": "2022-04-14T10:02:57.382Z"
   },
   {
    "duration": 259,
    "start_time": "2022-04-14T10:02:57.637Z"
   },
   {
    "duration": 207,
    "start_time": "2022-04-14T10:10:52.124Z"
   },
   {
    "duration": 229,
    "start_time": "2022-04-14T10:10:57.453Z"
   },
   {
    "duration": 235,
    "start_time": "2022-04-14T10:11:05.148Z"
   },
   {
    "duration": 33,
    "start_time": "2022-04-14T10:17:43.678Z"
   },
   {
    "duration": 339,
    "start_time": "2022-04-14T10:17:53.404Z"
   },
   {
    "duration": 374,
    "start_time": "2022-04-14T10:24:19.225Z"
   },
   {
    "duration": 241,
    "start_time": "2022-04-14T10:26:55.020Z"
   },
   {
    "duration": 113,
    "start_time": "2022-04-14T10:31:36.266Z"
   },
   {
    "duration": 330,
    "start_time": "2022-04-14T10:32:35.026Z"
   },
   {
    "duration": 228,
    "start_time": "2022-04-14T10:32:36.478Z"
   },
   {
    "duration": 204,
    "start_time": "2022-04-14T10:32:38.732Z"
   },
   {
    "duration": 12,
    "start_time": "2022-04-14T10:52:17.558Z"
   },
   {
    "duration": 196,
    "start_time": "2022-04-14T10:53:59.639Z"
   },
   {
    "duration": 23,
    "start_time": "2022-04-14T10:56:12.933Z"
   },
   {
    "duration": 43,
    "start_time": "2022-04-14T10:56:32.086Z"
   },
   {
    "duration": 18,
    "start_time": "2022-04-14T10:56:57.055Z"
   },
   {
    "duration": 23,
    "start_time": "2022-04-14T10:57:03.286Z"
   },
   {
    "duration": 32,
    "start_time": "2022-04-14T10:58:06.479Z"
   },
   {
    "duration": 59,
    "start_time": "2022-04-14T10:58:20.871Z"
   },
   {
    "duration": 23,
    "start_time": "2022-04-14T10:58:56.279Z"
   },
   {
    "duration": 247,
    "start_time": "2022-04-14T10:59:08.471Z"
   },
   {
    "duration": 218,
    "start_time": "2022-04-14T10:59:12.519Z"
   },
   {
    "duration": 23,
    "start_time": "2022-04-14T10:59:48.679Z"
   },
   {
    "duration": 25,
    "start_time": "2022-04-14T10:59:53.937Z"
   },
   {
    "duration": 10,
    "start_time": "2022-04-14T11:00:34.735Z"
   },
   {
    "duration": 893,
    "start_time": "2022-04-14T11:00:46.898Z"
   },
   {
    "duration": 222,
    "start_time": "2022-04-14T11:00:47.794Z"
   },
   {
    "duration": 44,
    "start_time": "2022-04-14T11:00:48.018Z"
   },
   {
    "duration": 36,
    "start_time": "2022-04-14T11:00:48.067Z"
   },
   {
    "duration": 23,
    "start_time": "2022-04-14T11:00:48.106Z"
   },
   {
    "duration": 23,
    "start_time": "2022-04-14T11:00:48.131Z"
   },
   {
    "duration": 19,
    "start_time": "2022-04-14T11:00:48.156Z"
   },
   {
    "duration": 68,
    "start_time": "2022-04-14T11:00:48.178Z"
   },
   {
    "duration": 20,
    "start_time": "2022-04-14T11:00:48.249Z"
   },
   {
    "duration": 38,
    "start_time": "2022-04-14T11:00:48.296Z"
   },
   {
    "duration": 66,
    "start_time": "2022-04-14T11:00:48.336Z"
   },
   {
    "duration": 543,
    "start_time": "2022-04-14T11:00:48.405Z"
   },
   {
    "duration": 47,
    "start_time": "2022-04-14T11:00:48.950Z"
   },
   {
    "duration": 22,
    "start_time": "2022-04-14T11:00:48.999Z"
   },
   {
    "duration": 316,
    "start_time": "2022-04-14T11:00:49.023Z"
   },
   {
    "duration": 217,
    "start_time": "2022-04-14T11:00:49.341Z"
   },
   {
    "duration": 389,
    "start_time": "2022-04-14T11:00:49.562Z"
   },
   {
    "duration": 178,
    "start_time": "2022-04-14T11:00:49.954Z"
   },
   {
    "duration": 228,
    "start_time": "2022-04-14T11:00:50.135Z"
   },
   {
    "duration": 175,
    "start_time": "2022-04-14T11:00:50.366Z"
   },
   {
    "duration": 281,
    "start_time": "2022-04-14T11:00:50.543Z"
   },
   {
    "duration": 147,
    "start_time": "2022-04-14T11:00:50.826Z"
   },
   {
    "duration": 290,
    "start_time": "2022-04-14T11:00:50.975Z"
   },
   {
    "duration": 312,
    "start_time": "2022-04-14T11:00:51.267Z"
   },
   {
    "duration": 20,
    "start_time": "2022-04-14T11:00:51.581Z"
   },
   {
    "duration": 8,
    "start_time": "2022-04-14T11:00:51.604Z"
   },
   {
    "duration": 181,
    "start_time": "2022-04-14T11:00:51.614Z"
   },
   {
    "duration": 369,
    "start_time": "2022-04-14T11:00:51.800Z"
   },
   {
    "duration": 298,
    "start_time": "2022-04-14T11:00:52.171Z"
   },
   {
    "duration": 24,
    "start_time": "2022-04-14T11:00:52.471Z"
   },
   {
    "duration": 221,
    "start_time": "2022-04-14T11:00:52.497Z"
   },
   {
    "duration": 244,
    "start_time": "2022-04-14T11:00:52.720Z"
   },
   {
    "duration": 245,
    "start_time": "2022-04-14T11:00:52.966Z"
   },
   {
    "duration": 238,
    "start_time": "2022-04-14T11:00:53.214Z"
   },
   {
    "duration": 233,
    "start_time": "2022-04-14T11:00:53.455Z"
   },
   {
    "duration": 235,
    "start_time": "2022-04-14T11:00:53.693Z"
   },
   {
    "duration": 225,
    "start_time": "2022-04-14T11:00:53.930Z"
   },
   {
    "duration": 117,
    "start_time": "2022-04-14T11:00:54.158Z"
   },
   {
    "duration": 0,
    "start_time": "2022-04-14T11:00:54.278Z"
   },
   {
    "duration": 0,
    "start_time": "2022-04-14T11:00:54.279Z"
   },
   {
    "duration": 14,
    "start_time": "2022-04-14T11:01:13.939Z"
   },
   {
    "duration": 12,
    "start_time": "2022-04-14T11:01:20.547Z"
   },
   {
    "duration": 13,
    "start_time": "2022-04-14T11:01:31.415Z"
   },
   {
    "duration": 13,
    "start_time": "2022-04-14T11:02:14.391Z"
   },
   {
    "duration": 190,
    "start_time": "2022-04-14T11:02:38.865Z"
   },
   {
    "duration": 209,
    "start_time": "2022-04-14T11:02:42.591Z"
   },
   {
    "duration": 13,
    "start_time": "2022-04-14T11:02:53.247Z"
   },
   {
    "duration": 14,
    "start_time": "2022-04-14T11:03:09.223Z"
   },
   {
    "duration": 14,
    "start_time": "2022-04-14T11:03:18.359Z"
   },
   {
    "duration": 25,
    "start_time": "2022-04-14T11:03:20.926Z"
   },
   {
    "duration": 24,
    "start_time": "2022-04-14T11:07:07.593Z"
   },
   {
    "duration": 41,
    "start_time": "2022-04-14T11:07:41.113Z"
   },
   {
    "duration": 25,
    "start_time": "2022-04-14T11:08:02.746Z"
   },
   {
    "duration": 21,
    "start_time": "2022-04-14T11:08:10.193Z"
   },
   {
    "duration": 205,
    "start_time": "2022-04-14T11:08:35.619Z"
   },
   {
    "duration": 39,
    "start_time": "2022-04-14T11:08:42.249Z"
   },
   {
    "duration": 42,
    "start_time": "2022-04-14T11:09:15.684Z"
   },
   {
    "duration": 35,
    "start_time": "2022-04-14T11:09:29.793Z"
   },
   {
    "duration": 233,
    "start_time": "2022-04-14T11:09:56.499Z"
   },
   {
    "duration": 38,
    "start_time": "2022-04-14T11:10:31.330Z"
   },
   {
    "duration": 37,
    "start_time": "2022-04-14T11:10:54.387Z"
   },
   {
    "duration": 37,
    "start_time": "2022-04-14T11:11:55.330Z"
   },
   {
    "duration": 39,
    "start_time": "2022-04-14T11:12:17.009Z"
   },
   {
    "duration": 207,
    "start_time": "2022-04-14T11:12:22.931Z"
   },
   {
    "duration": 42,
    "start_time": "2022-04-14T11:12:59.275Z"
   },
   {
    "duration": 30,
    "start_time": "2022-04-14T11:13:49.708Z"
   },
   {
    "duration": 29,
    "start_time": "2022-04-14T11:14:21.549Z"
   },
   {
    "duration": 28,
    "start_time": "2022-04-14T11:14:23.457Z"
   },
   {
    "duration": 850,
    "start_time": "2022-04-14T11:14:31.721Z"
   },
   {
    "duration": 215,
    "start_time": "2022-04-14T11:14:32.573Z"
   },
   {
    "duration": 42,
    "start_time": "2022-04-14T11:14:32.790Z"
   },
   {
    "duration": 13,
    "start_time": "2022-04-14T11:14:32.835Z"
   },
   {
    "duration": 43,
    "start_time": "2022-04-14T11:14:32.851Z"
   },
   {
    "duration": 13,
    "start_time": "2022-04-14T11:14:32.897Z"
   },
   {
    "duration": 13,
    "start_time": "2022-04-14T11:14:32.912Z"
   },
   {
    "duration": 90,
    "start_time": "2022-04-14T11:14:32.927Z"
   },
   {
    "duration": 22,
    "start_time": "2022-04-14T11:14:33.019Z"
   },
   {
    "duration": 58,
    "start_time": "2022-04-14T11:14:33.045Z"
   },
   {
    "duration": 45,
    "start_time": "2022-04-14T11:14:33.105Z"
   },
   {
    "duration": 596,
    "start_time": "2022-04-14T11:14:33.152Z"
   },
   {
    "duration": 54,
    "start_time": "2022-04-14T11:14:33.750Z"
   },
   {
    "duration": 22,
    "start_time": "2022-04-14T11:14:33.806Z"
   },
   {
    "duration": 312,
    "start_time": "2022-04-14T11:14:33.830Z"
   },
   {
    "duration": 204,
    "start_time": "2022-04-14T11:14:34.145Z"
   },
   {
    "duration": 395,
    "start_time": "2022-04-14T11:14:34.351Z"
   },
   {
    "duration": 167,
    "start_time": "2022-04-14T11:14:34.749Z"
   },
   {
    "duration": 239,
    "start_time": "2022-04-14T11:14:34.918Z"
   },
   {
    "duration": 176,
    "start_time": "2022-04-14T11:14:35.160Z"
   },
   {
    "duration": 293,
    "start_time": "2022-04-14T11:14:35.339Z"
   },
   {
    "duration": 152,
    "start_time": "2022-04-14T11:14:35.635Z"
   },
   {
    "duration": 325,
    "start_time": "2022-04-14T11:14:35.794Z"
   },
   {
    "duration": 380,
    "start_time": "2022-04-14T11:14:36.121Z"
   },
   {
    "duration": 12,
    "start_time": "2022-04-14T11:14:36.503Z"
   },
   {
    "duration": 9,
    "start_time": "2022-04-14T11:14:36.518Z"
   },
   {
    "duration": 196,
    "start_time": "2022-04-14T11:14:36.530Z"
   },
   {
    "duration": 392,
    "start_time": "2022-04-14T11:14:36.731Z"
   },
   {
    "duration": 307,
    "start_time": "2022-04-14T11:14:37.125Z"
   },
   {
    "duration": 12,
    "start_time": "2022-04-14T11:14:37.434Z"
   },
   {
    "duration": 238,
    "start_time": "2022-04-14T11:14:37.449Z"
   },
   {
    "duration": 253,
    "start_time": "2022-04-14T11:14:37.693Z"
   },
   {
    "duration": 271,
    "start_time": "2022-04-14T11:14:37.948Z"
   },
   {
    "duration": 293,
    "start_time": "2022-04-14T11:14:38.221Z"
   },
   {
    "duration": 242,
    "start_time": "2022-04-14T11:14:38.517Z"
   },
   {
    "duration": 246,
    "start_time": "2022-04-14T11:14:38.761Z"
   },
   {
    "duration": 234,
    "start_time": "2022-04-14T11:14:39.009Z"
   },
   {
    "duration": 13,
    "start_time": "2022-04-14T11:14:39.245Z"
   },
   {
    "duration": 57,
    "start_time": "2022-04-14T11:14:39.260Z"
   },
   {
    "duration": 200,
    "start_time": "2022-04-14T11:14:39.319Z"
   },
   {
    "duration": 42,
    "start_time": "2022-04-14T11:14:58.726Z"
   },
   {
    "duration": 30,
    "start_time": "2022-04-14T11:15:11.710Z"
   },
   {
    "duration": 5,
    "start_time": "2022-04-14T11:15:32.518Z"
   },
   {
    "duration": 15,
    "start_time": "2022-04-14T11:15:39.726Z"
   },
   {
    "duration": 16,
    "start_time": "2022-04-14T11:16:04.199Z"
   },
   {
    "duration": 11,
    "start_time": "2022-04-14T11:16:27.128Z"
   },
   {
    "duration": 11,
    "start_time": "2022-04-14T11:16:41.039Z"
   },
   {
    "duration": 1090,
    "start_time": "2022-04-14T12:31:39.043Z"
   },
   {
    "duration": 171,
    "start_time": "2022-04-14T12:31:40.136Z"
   },
   {
    "duration": 47,
    "start_time": "2022-04-14T12:31:40.309Z"
   },
   {
    "duration": 19,
    "start_time": "2022-04-14T12:31:40.359Z"
   },
   {
    "duration": 13,
    "start_time": "2022-04-14T12:31:40.380Z"
   },
   {
    "duration": 37,
    "start_time": "2022-04-14T12:31:40.395Z"
   },
   {
    "duration": 22,
    "start_time": "2022-04-14T12:31:40.434Z"
   },
   {
    "duration": 76,
    "start_time": "2022-04-14T12:31:40.458Z"
   },
   {
    "duration": 20,
    "start_time": "2022-04-14T12:31:40.536Z"
   },
   {
    "duration": 39,
    "start_time": "2022-04-14T12:31:40.560Z"
   },
   {
    "duration": 48,
    "start_time": "2022-04-14T12:31:40.625Z"
   },
   {
    "duration": 590,
    "start_time": "2022-04-14T12:31:40.675Z"
   },
   {
    "duration": 36,
    "start_time": "2022-04-14T12:31:41.267Z"
   },
   {
    "duration": 39,
    "start_time": "2022-04-14T12:31:41.306Z"
   },
   {
    "duration": 331,
    "start_time": "2022-04-14T12:31:41.347Z"
   },
   {
    "duration": 224,
    "start_time": "2022-04-14T12:31:41.681Z"
   },
   {
    "duration": 395,
    "start_time": "2022-04-14T12:31:41.908Z"
   },
   {
    "duration": 173,
    "start_time": "2022-04-14T12:31:42.306Z"
   },
   {
    "duration": 236,
    "start_time": "2022-04-14T12:31:42.481Z"
   },
   {
    "duration": 167,
    "start_time": "2022-04-14T12:31:42.719Z"
   },
   {
    "duration": 294,
    "start_time": "2022-04-14T12:31:42.888Z"
   },
   {
    "duration": 164,
    "start_time": "2022-04-14T12:31:43.184Z"
   },
   {
    "duration": 305,
    "start_time": "2022-04-14T12:31:43.351Z"
   },
   {
    "duration": 336,
    "start_time": "2022-04-14T12:31:43.659Z"
   },
   {
    "duration": 11,
    "start_time": "2022-04-14T12:31:43.997Z"
   },
   {
    "duration": 21,
    "start_time": "2022-04-14T12:31:44.010Z"
   },
   {
    "duration": 175,
    "start_time": "2022-04-14T12:31:44.033Z"
   },
   {
    "duration": 382,
    "start_time": "2022-04-14T12:31:44.212Z"
   },
   {
    "duration": 305,
    "start_time": "2022-04-14T12:31:44.596Z"
   },
   {
    "duration": 25,
    "start_time": "2022-04-14T12:31:44.903Z"
   },
   {
    "duration": 225,
    "start_time": "2022-04-14T12:31:44.930Z"
   },
   {
    "duration": 266,
    "start_time": "2022-04-14T12:31:45.158Z"
   },
   {
    "duration": 256,
    "start_time": "2022-04-14T12:31:45.427Z"
   },
   {
    "duration": 242,
    "start_time": "2022-04-14T12:31:45.685Z"
   },
   {
    "duration": 232,
    "start_time": "2022-04-14T12:31:45.929Z"
   },
   {
    "duration": 230,
    "start_time": "2022-04-14T12:31:46.163Z"
   },
   {
    "duration": 233,
    "start_time": "2022-04-14T12:31:46.395Z"
   },
   {
    "duration": 120,
    "start_time": "2022-04-14T12:31:46.630Z"
   },
   {
    "duration": 37,
    "start_time": "2022-04-14T12:33:53.971Z"
   },
   {
    "duration": 30,
    "start_time": "2022-04-14T12:39:08.212Z"
   },
   {
    "duration": 62,
    "start_time": "2022-04-14T12:39:20.115Z"
   },
   {
    "duration": 12,
    "start_time": "2022-04-14T12:44:41.590Z"
   },
   {
    "duration": 13,
    "start_time": "2022-04-14T12:44:43.774Z"
   },
   {
    "duration": 55,
    "start_time": "2022-04-14T12:44:47.763Z"
   },
   {
    "duration": 13,
    "start_time": "2022-04-14T12:46:29.877Z"
   },
   {
    "duration": 84,
    "start_time": "2022-04-14T12:46:44.877Z"
   },
   {
    "duration": 65,
    "start_time": "2022-04-14T12:46:59.135Z"
   },
   {
    "duration": 68,
    "start_time": "2022-04-14T12:48:00.807Z"
   },
   {
    "duration": 82,
    "start_time": "2022-04-14T12:48:13.021Z"
   },
   {
    "duration": 61,
    "start_time": "2022-04-14T12:48:22.390Z"
   },
   {
    "duration": 63,
    "start_time": "2022-04-14T12:48:44.142Z"
   },
   {
    "duration": 31,
    "start_time": "2022-04-14T12:49:05.248Z"
   },
   {
    "duration": 63,
    "start_time": "2022-04-14T12:49:13.766Z"
   },
   {
    "duration": 19,
    "start_time": "2022-04-14T12:49:31.289Z"
   },
   {
    "duration": 8,
    "start_time": "2022-04-14T12:50:21.342Z"
   },
   {
    "duration": 6,
    "start_time": "2022-04-14T12:51:06.591Z"
   },
   {
    "duration": 101,
    "start_time": "2022-04-14T12:53:36.879Z"
   },
   {
    "duration": 13,
    "start_time": "2022-04-14T12:53:42.530Z"
   },
   {
    "duration": 5,
    "start_time": "2022-04-14T12:54:06.959Z"
   },
   {
    "duration": 13,
    "start_time": "2022-04-14T12:54:14.768Z"
   },
   {
    "duration": 6,
    "start_time": "2022-04-14T12:54:26.263Z"
   },
   {
    "duration": 5,
    "start_time": "2022-04-14T12:56:20.105Z"
   },
   {
    "duration": 56,
    "start_time": "2022-04-14T12:56:24.399Z"
   },
   {
    "duration": 15,
    "start_time": "2022-04-14T12:57:16.103Z"
   },
   {
    "duration": 21,
    "start_time": "2022-04-14T12:57:55.761Z"
   },
   {
    "duration": 17,
    "start_time": "2022-04-14T12:58:24.665Z"
   },
   {
    "duration": 12,
    "start_time": "2022-04-14T12:58:52.247Z"
   },
   {
    "duration": 62,
    "start_time": "2022-04-14T12:58:56.904Z"
   },
   {
    "duration": 26,
    "start_time": "2022-04-14T12:59:30.663Z"
   },
   {
    "duration": 28,
    "start_time": "2022-04-14T12:59:39.047Z"
   },
   {
    "duration": 64,
    "start_time": "2022-04-14T12:59:51.345Z"
   },
   {
    "duration": 24,
    "start_time": "2022-04-14T13:00:02.417Z"
   },
   {
    "duration": 120,
    "start_time": "2022-04-14T13:00:33.313Z"
   },
   {
    "duration": 28,
    "start_time": "2022-04-14T13:00:37.761Z"
   },
   {
    "duration": 64,
    "start_time": "2022-04-14T13:01:16.865Z"
   },
   {
    "duration": 28,
    "start_time": "2022-04-14T13:03:11.473Z"
   },
   {
    "duration": 28,
    "start_time": "2022-04-14T13:03:18.000Z"
   },
   {
    "duration": 37,
    "start_time": "2022-04-14T13:03:23.641Z"
   },
   {
    "duration": 244,
    "start_time": "2022-04-14T13:04:37.432Z"
   },
   {
    "duration": 35,
    "start_time": "2022-04-14T13:16:07.999Z"
   },
   {
    "duration": 849,
    "start_time": "2022-04-14T13:16:21.768Z"
   },
   {
    "duration": 177,
    "start_time": "2022-04-14T13:16:22.620Z"
   },
   {
    "duration": 49,
    "start_time": "2022-04-14T13:16:22.800Z"
   },
   {
    "duration": 12,
    "start_time": "2022-04-14T13:16:22.853Z"
   },
   {
    "duration": 16,
    "start_time": "2022-04-14T13:16:22.868Z"
   },
   {
    "duration": 54,
    "start_time": "2022-04-14T13:16:22.886Z"
   },
   {
    "duration": 13,
    "start_time": "2022-04-14T13:16:22.942Z"
   },
   {
    "duration": 98,
    "start_time": "2022-04-14T13:16:22.958Z"
   },
   {
    "duration": 22,
    "start_time": "2022-04-14T13:16:23.058Z"
   },
   {
    "duration": 68,
    "start_time": "2022-04-14T13:16:23.084Z"
   },
   {
    "duration": 87,
    "start_time": "2022-04-14T13:16:23.155Z"
   },
   {
    "duration": 677,
    "start_time": "2022-04-14T13:16:23.245Z"
   },
   {
    "duration": 37,
    "start_time": "2022-04-14T13:16:23.926Z"
   },
   {
    "duration": 23,
    "start_time": "2022-04-14T13:16:23.966Z"
   },
   {
    "duration": 513,
    "start_time": "2022-04-14T13:16:24.025Z"
   },
   {
    "duration": 214,
    "start_time": "2022-04-14T13:16:24.541Z"
   },
   {
    "duration": 511,
    "start_time": "2022-04-14T13:16:24.758Z"
   },
   {
    "duration": 181,
    "start_time": "2022-04-14T13:16:25.272Z"
   },
   {
    "duration": 241,
    "start_time": "2022-04-14T13:16:25.455Z"
   },
   {
    "duration": 173,
    "start_time": "2022-04-14T13:16:25.698Z"
   },
   {
    "duration": 460,
    "start_time": "2022-04-14T13:16:25.874Z"
   },
   {
    "duration": 232,
    "start_time": "2022-04-14T13:16:26.337Z"
   },
   {
    "duration": 476,
    "start_time": "2022-04-14T13:16:26.572Z"
   },
   {
    "duration": 509,
    "start_time": "2022-04-14T13:16:27.051Z"
   },
   {
    "duration": 14,
    "start_time": "2022-04-14T13:16:27.563Z"
   },
   {
    "duration": 12,
    "start_time": "2022-04-14T13:16:27.580Z"
   },
   {
    "duration": 294,
    "start_time": "2022-04-14T13:16:27.595Z"
   },
   {
    "duration": 581,
    "start_time": "2022-04-14T13:16:27.899Z"
   },
   {
    "duration": 491,
    "start_time": "2022-04-14T13:16:28.483Z"
   },
   {
    "duration": 15,
    "start_time": "2022-04-14T13:16:28.977Z"
   },
   {
    "duration": 367,
    "start_time": "2022-04-14T13:16:28.995Z"
   },
   {
    "duration": 320,
    "start_time": "2022-04-14T13:16:29.365Z"
   },
   {
    "duration": 265,
    "start_time": "2022-04-14T13:16:29.687Z"
   },
   {
    "duration": 247,
    "start_time": "2022-04-14T13:16:29.954Z"
   },
   {
    "duration": 248,
    "start_time": "2022-04-14T13:16:30.204Z"
   },
   {
    "duration": 241,
    "start_time": "2022-04-14T13:16:30.455Z"
   },
   {
    "duration": 233,
    "start_time": "2022-04-14T13:16:30.698Z"
   },
   {
    "duration": 39,
    "start_time": "2022-04-14T13:16:30.933Z"
   },
   {
    "duration": 144,
    "start_time": "2022-04-14T13:16:30.975Z"
   },
   {
    "duration": 20,
    "start_time": "2022-04-14T13:20:09.418Z"
   },
   {
    "duration": 268,
    "start_time": "2022-04-14T13:20:39.804Z"
   },
   {
    "duration": 227,
    "start_time": "2022-04-14T13:30:40.790Z"
   },
   {
    "duration": 505,
    "start_time": "2022-04-14T13:33:26.188Z"
   },
   {
    "duration": 353,
    "start_time": "2022-04-14T13:33:57.790Z"
   },
   {
    "duration": 224,
    "start_time": "2022-04-14T13:34:33.754Z"
   },
   {
    "duration": 247,
    "start_time": "2022-04-14T13:35:00.354Z"
   },
   {
    "duration": 228,
    "start_time": "2022-04-14T13:35:00.822Z"
   },
   {
    "duration": 228,
    "start_time": "2022-04-14T13:35:01.243Z"
   },
   {
    "duration": 257,
    "start_time": "2022-04-14T13:36:26.424Z"
   },
   {
    "duration": 241,
    "start_time": "2022-04-14T13:36:29.325Z"
   },
   {
    "duration": 472,
    "start_time": "2022-04-14T13:36:45.434Z"
   },
   {
    "duration": 217,
    "start_time": "2022-04-14T13:37:07.075Z"
   },
   {
    "duration": 246,
    "start_time": "2022-04-14T13:37:27.163Z"
   },
   {
    "duration": 225,
    "start_time": "2022-04-14T13:37:38.404Z"
   },
   {
    "duration": 33,
    "start_time": "2022-04-14T13:39:45.006Z"
   },
   {
    "duration": 251,
    "start_time": "2022-04-14T13:39:51.374Z"
   },
   {
    "duration": 244,
    "start_time": "2022-04-14T13:41:15.126Z"
   },
   {
    "duration": 256,
    "start_time": "2022-04-14T13:41:22.621Z"
   },
   {
    "duration": 342,
    "start_time": "2022-04-14T13:41:27.716Z"
   },
   {
    "duration": 262,
    "start_time": "2022-04-14T13:41:34.337Z"
   },
   {
    "duration": 318,
    "start_time": "2022-04-14T13:41:40.734Z"
   },
   {
    "duration": 615,
    "start_time": "2022-04-14T13:43:24.511Z"
   },
   {
    "duration": 1582,
    "start_time": "2022-04-14T13:44:25.252Z"
   },
   {
    "duration": 12,
    "start_time": "2022-04-14T13:45:05.629Z"
   },
   {
    "duration": 620,
    "start_time": "2022-04-14T13:45:19.100Z"
   },
   {
    "duration": 653,
    "start_time": "2022-04-14T13:46:32.318Z"
   },
   {
    "duration": 337,
    "start_time": "2022-04-14T13:47:59.247Z"
   },
   {
    "duration": 313,
    "start_time": "2022-04-14T13:48:14.662Z"
   },
   {
    "duration": 229,
    "start_time": "2022-04-14T13:48:31.214Z"
   },
   {
    "duration": 20,
    "start_time": "2022-04-14T13:49:02.889Z"
   },
   {
    "duration": 213,
    "start_time": "2022-04-14T13:49:13.013Z"
   },
   {
    "duration": 1827,
    "start_time": "2022-04-14T13:49:45.765Z"
   },
   {
    "duration": 30,
    "start_time": "2022-04-14T13:50:01.470Z"
   },
   {
    "duration": 28,
    "start_time": "2022-04-14T13:50:06.742Z"
   },
   {
    "duration": 230,
    "start_time": "2022-04-14T13:50:27.627Z"
   },
   {
    "duration": 299,
    "start_time": "2022-04-14T13:54:58.721Z"
   },
   {
    "duration": 227,
    "start_time": "2022-04-14T13:57:02.664Z"
   },
   {
    "duration": 377,
    "start_time": "2022-04-14T14:00:11.728Z"
   },
   {
    "duration": 25,
    "start_time": "2022-04-14T14:10:28.722Z"
   },
   {
    "duration": 24,
    "start_time": "2022-04-14T14:10:41.042Z"
   },
   {
    "duration": 26,
    "start_time": "2022-04-14T14:10:56.554Z"
   },
   {
    "duration": 25,
    "start_time": "2022-04-14T14:11:46.571Z"
   },
   {
    "duration": 28,
    "start_time": "2022-04-14T14:12:51.008Z"
   },
   {
    "duration": 250,
    "start_time": "2022-04-14T14:13:12.404Z"
   },
   {
    "duration": 247,
    "start_time": "2022-04-14T14:13:25.507Z"
   },
   {
    "duration": 50,
    "start_time": "2022-04-14T14:13:41.845Z"
   },
   {
    "duration": 238,
    "start_time": "2022-04-14T14:14:19.469Z"
   },
   {
    "duration": 233,
    "start_time": "2022-04-14T14:14:29.381Z"
   },
   {
    "duration": 233,
    "start_time": "2022-04-14T14:14:51.586Z"
   },
   {
    "duration": 245,
    "start_time": "2022-04-14T14:15:00.812Z"
   },
   {
    "duration": 244,
    "start_time": "2022-04-14T14:15:11.563Z"
   },
   {
    "duration": 249,
    "start_time": "2022-04-14T14:16:09.611Z"
   },
   {
    "duration": 245,
    "start_time": "2022-04-14T14:16:19.371Z"
   },
   {
    "duration": 226,
    "start_time": "2022-04-14T14:16:22.825Z"
   },
   {
    "duration": 246,
    "start_time": "2022-04-14T14:16:25.924Z"
   },
   {
    "duration": 251,
    "start_time": "2022-04-14T14:27:51.888Z"
   },
   {
    "duration": 237,
    "start_time": "2022-04-14T14:27:55.959Z"
   },
   {
    "duration": 897,
    "start_time": "2022-04-14T14:28:03.104Z"
   },
   {
    "duration": 183,
    "start_time": "2022-04-14T14:28:04.004Z"
   },
   {
    "duration": 56,
    "start_time": "2022-04-14T14:28:04.190Z"
   },
   {
    "duration": 12,
    "start_time": "2022-04-14T14:28:04.249Z"
   },
   {
    "duration": 12,
    "start_time": "2022-04-14T14:28:04.263Z"
   },
   {
    "duration": 23,
    "start_time": "2022-04-14T14:28:04.278Z"
   },
   {
    "duration": 12,
    "start_time": "2022-04-14T14:28:04.324Z"
   },
   {
    "duration": 62,
    "start_time": "2022-04-14T14:28:04.338Z"
   },
   {
    "duration": 43,
    "start_time": "2022-04-14T14:28:04.402Z"
   },
   {
    "duration": 41,
    "start_time": "2022-04-14T14:28:04.448Z"
   },
   {
    "duration": 76,
    "start_time": "2022-04-14T14:28:04.491Z"
   },
   {
    "duration": 581,
    "start_time": "2022-04-14T14:28:04.570Z"
   },
   {
    "duration": 39,
    "start_time": "2022-04-14T14:28:05.153Z"
   },
   {
    "duration": 46,
    "start_time": "2022-04-14T14:28:05.194Z"
   },
   {
    "duration": 347,
    "start_time": "2022-04-14T14:28:05.243Z"
   },
   {
    "duration": 222,
    "start_time": "2022-04-14T14:28:05.592Z"
   },
   {
    "duration": 399,
    "start_time": "2022-04-14T14:28:05.816Z"
   },
   {
    "duration": 179,
    "start_time": "2022-04-14T14:28:06.217Z"
   },
   {
    "duration": 250,
    "start_time": "2022-04-14T14:28:06.398Z"
   },
   {
    "duration": 182,
    "start_time": "2022-04-14T14:28:06.650Z"
   },
   {
    "duration": 304,
    "start_time": "2022-04-14T14:28:06.834Z"
   },
   {
    "duration": 163,
    "start_time": "2022-04-14T14:28:07.141Z"
   },
   {
    "duration": 311,
    "start_time": "2022-04-14T14:28:07.306Z"
   },
   {
    "duration": 323,
    "start_time": "2022-04-14T14:28:07.619Z"
   },
   {
    "duration": 12,
    "start_time": "2022-04-14T14:28:07.944Z"
   },
   {
    "duration": 11,
    "start_time": "2022-04-14T14:28:07.958Z"
   },
   {
    "duration": 190,
    "start_time": "2022-04-14T14:28:07.971Z"
   },
   {
    "duration": 388,
    "start_time": "2022-04-14T14:28:08.166Z"
   },
   {
    "duration": 311,
    "start_time": "2022-04-14T14:28:08.557Z"
   },
   {
    "duration": 11,
    "start_time": "2022-04-14T14:28:08.871Z"
   },
   {
    "duration": 243,
    "start_time": "2022-04-14T14:28:08.884Z"
   },
   {
    "duration": 249,
    "start_time": "2022-04-14T14:28:09.130Z"
   },
   {
    "duration": 264,
    "start_time": "2022-04-14T14:28:09.381Z"
   },
   {
    "duration": 247,
    "start_time": "2022-04-14T14:28:09.648Z"
   },
   {
    "duration": 244,
    "start_time": "2022-04-14T14:28:09.897Z"
   },
   {
    "duration": 238,
    "start_time": "2022-04-14T14:28:10.143Z"
   },
   {
    "duration": 234,
    "start_time": "2022-04-14T14:28:10.383Z"
   },
   {
    "duration": 39,
    "start_time": "2022-04-14T14:28:10.625Z"
   },
   {
    "duration": 279,
    "start_time": "2022-04-14T14:28:10.667Z"
   },
   {
    "duration": 166,
    "start_time": "2022-04-14T14:28:10.949Z"
   },
   {
    "duration": 0,
    "start_time": "2022-04-14T14:28:11.119Z"
   },
   {
    "duration": 0,
    "start_time": "2022-04-14T14:28:11.125Z"
   },
   {
    "duration": 0,
    "start_time": "2022-04-14T14:28:11.127Z"
   },
   {
    "duration": 0,
    "start_time": "2022-04-14T14:28:11.129Z"
   },
   {
    "duration": 0,
    "start_time": "2022-04-14T14:28:11.131Z"
   },
   {
    "duration": 35,
    "start_time": "2022-04-14T14:30:35.266Z"
   },
   {
    "duration": 259,
    "start_time": "2022-04-14T14:30:51.170Z"
   },
   {
    "duration": 338,
    "start_time": "2022-04-14T14:30:58.908Z"
   },
   {
    "duration": 235,
    "start_time": "2022-04-14T14:31:02.368Z"
   },
   {
    "duration": 250,
    "start_time": "2022-04-14T14:31:03.137Z"
   },
   {
    "duration": 225,
    "start_time": "2022-04-14T14:31:06.672Z"
   },
   {
    "duration": 249,
    "start_time": "2022-04-14T14:31:07.324Z"
   },
   {
    "duration": 840,
    "start_time": "2022-04-14T14:31:10.825Z"
   },
   {
    "duration": 233,
    "start_time": "2022-04-14T14:34:14.067Z"
   },
   {
    "duration": 219,
    "start_time": "2022-04-14T14:34:27.212Z"
   },
   {
    "duration": 258,
    "start_time": "2022-04-14T14:34:36.658Z"
   },
   {
    "duration": 250,
    "start_time": "2022-04-14T14:34:41.219Z"
   },
   {
    "duration": 242,
    "start_time": "2022-04-14T14:34:47.738Z"
   },
   {
    "duration": 242,
    "start_time": "2022-04-14T14:35:10.027Z"
   },
   {
    "duration": 266,
    "start_time": "2022-04-14T14:35:20.899Z"
   },
   {
    "duration": 256,
    "start_time": "2022-04-14T14:36:23.203Z"
   },
   {
    "duration": 874,
    "start_time": "2022-04-14T14:36:35.529Z"
   },
   {
    "duration": 173,
    "start_time": "2022-04-14T14:36:36.406Z"
   },
   {
    "duration": 57,
    "start_time": "2022-04-14T14:36:36.581Z"
   },
   {
    "duration": 12,
    "start_time": "2022-04-14T14:36:36.641Z"
   },
   {
    "duration": 12,
    "start_time": "2022-04-14T14:36:36.655Z"
   },
   {
    "duration": 11,
    "start_time": "2022-04-14T14:36:36.670Z"
   },
   {
    "duration": 46,
    "start_time": "2022-04-14T14:36:36.683Z"
   },
   {
    "duration": 60,
    "start_time": "2022-04-14T14:36:36.732Z"
   },
   {
    "duration": 40,
    "start_time": "2022-04-14T14:36:36.794Z"
   },
   {
    "duration": 39,
    "start_time": "2022-04-14T14:36:36.839Z"
   },
   {
    "duration": 68,
    "start_time": "2022-04-14T14:36:36.880Z"
   },
   {
    "duration": 619,
    "start_time": "2022-04-14T14:36:36.950Z"
   },
   {
    "duration": 52,
    "start_time": "2022-04-14T14:36:37.572Z"
   },
   {
    "duration": 21,
    "start_time": "2022-04-14T14:36:37.627Z"
   },
   {
    "duration": 334,
    "start_time": "2022-04-14T14:36:37.650Z"
   },
   {
    "duration": 216,
    "start_time": "2022-04-14T14:36:37.986Z"
   },
   {
    "duration": 401,
    "start_time": "2022-04-14T14:36:38.204Z"
   },
   {
    "duration": 178,
    "start_time": "2022-04-14T14:36:38.607Z"
   },
   {
    "duration": 254,
    "start_time": "2022-04-14T14:36:38.788Z"
   },
   {
    "duration": 175,
    "start_time": "2022-04-14T14:36:39.045Z"
   },
   {
    "duration": 300,
    "start_time": "2022-04-14T14:36:39.225Z"
   },
   {
    "duration": 167,
    "start_time": "2022-04-14T14:36:39.528Z"
   },
   {
    "duration": 326,
    "start_time": "2022-04-14T14:36:39.698Z"
   },
   {
    "duration": 339,
    "start_time": "2022-04-14T14:36:40.027Z"
   },
   {
    "duration": 13,
    "start_time": "2022-04-14T14:36:40.369Z"
   },
   {
    "duration": 50,
    "start_time": "2022-04-14T14:36:40.385Z"
   },
   {
    "duration": 192,
    "start_time": "2022-04-14T14:36:40.438Z"
   },
   {
    "duration": 400,
    "start_time": "2022-04-14T14:36:40.637Z"
   },
   {
    "duration": 316,
    "start_time": "2022-04-14T14:36:41.039Z"
   },
   {
    "duration": 12,
    "start_time": "2022-04-14T14:36:41.357Z"
   },
   {
    "duration": 255,
    "start_time": "2022-04-14T14:36:41.372Z"
   },
   {
    "duration": 309,
    "start_time": "2022-04-14T14:36:41.630Z"
   },
   {
    "duration": 275,
    "start_time": "2022-04-14T14:36:41.942Z"
   },
   {
    "duration": 250,
    "start_time": "2022-04-14T14:36:42.219Z"
   },
   {
    "duration": 244,
    "start_time": "2022-04-14T14:36:42.471Z"
   },
   {
    "duration": 247,
    "start_time": "2022-04-14T14:36:42.717Z"
   },
   {
    "duration": 263,
    "start_time": "2022-04-14T14:36:42.967Z"
   },
   {
    "duration": 39,
    "start_time": "2022-04-14T14:36:43.233Z"
   },
   {
    "duration": 168,
    "start_time": "2022-04-14T14:36:43.276Z"
   },
   {
    "duration": 1,
    "start_time": "2022-04-14T14:36:43.446Z"
   },
   {
    "duration": 0,
    "start_time": "2022-04-14T14:36:43.448Z"
   },
   {
    "duration": 0,
    "start_time": "2022-04-14T14:36:43.450Z"
   },
   {
    "duration": 0,
    "start_time": "2022-04-14T14:36:43.452Z"
   },
   {
    "duration": 0,
    "start_time": "2022-04-14T14:36:43.453Z"
   },
   {
    "duration": 0,
    "start_time": "2022-04-14T14:36:43.455Z"
   },
   {
    "duration": 272,
    "start_time": "2022-04-14T14:39:20.381Z"
   },
   {
    "duration": 228,
    "start_time": "2022-04-14T14:40:54.282Z"
   },
   {
    "duration": 322,
    "start_time": "2022-04-14T14:41:14.605Z"
   },
   {
    "duration": 219,
    "start_time": "2022-04-14T14:41:39.831Z"
   },
   {
    "duration": 2239,
    "start_time": "2022-04-14T14:42:21.799Z"
   },
   {
    "duration": 28,
    "start_time": "2022-04-14T14:42:39.256Z"
   },
   {
    "duration": 879,
    "start_time": "2022-04-14T16:41:30.093Z"
   },
   {
    "duration": 170,
    "start_time": "2022-04-14T16:41:30.975Z"
   },
   {
    "duration": 46,
    "start_time": "2022-04-14T16:41:31.148Z"
   },
   {
    "duration": 37,
    "start_time": "2022-04-14T16:41:31.197Z"
   },
   {
    "duration": 14,
    "start_time": "2022-04-14T16:41:31.238Z"
   },
   {
    "duration": 13,
    "start_time": "2022-04-14T16:41:31.255Z"
   },
   {
    "duration": 55,
    "start_time": "2022-04-14T16:41:31.271Z"
   },
   {
    "duration": 92,
    "start_time": "2022-04-14T16:41:31.329Z"
   },
   {
    "duration": 31,
    "start_time": "2022-04-14T16:41:31.425Z"
   },
   {
    "duration": 66,
    "start_time": "2022-04-14T16:41:31.459Z"
   },
   {
    "duration": 47,
    "start_time": "2022-04-14T16:41:31.528Z"
   },
   {
    "duration": 1012,
    "start_time": "2022-04-14T16:41:31.578Z"
   },
   {
    "duration": 57,
    "start_time": "2022-04-14T16:41:32.594Z"
   },
   {
    "duration": 24,
    "start_time": "2022-04-14T16:41:32.658Z"
   },
   {
    "duration": 336,
    "start_time": "2022-04-14T16:41:32.684Z"
   },
   {
    "duration": 226,
    "start_time": "2022-04-14T16:41:33.022Z"
   },
   {
    "duration": 395,
    "start_time": "2022-04-14T16:41:33.250Z"
   },
   {
    "duration": 174,
    "start_time": "2022-04-14T16:41:33.647Z"
   },
   {
    "duration": 239,
    "start_time": "2022-04-14T16:41:33.823Z"
   },
   {
    "duration": 176,
    "start_time": "2022-04-14T16:41:34.064Z"
   },
   {
    "duration": 287,
    "start_time": "2022-04-14T16:41:34.242Z"
   },
   {
    "duration": 162,
    "start_time": "2022-04-14T16:41:34.531Z"
   },
   {
    "duration": 311,
    "start_time": "2022-04-14T16:41:34.696Z"
   },
   {
    "duration": 325,
    "start_time": "2022-04-14T16:41:35.009Z"
   },
   {
    "duration": 12,
    "start_time": "2022-04-14T16:41:35.337Z"
   },
   {
    "duration": 11,
    "start_time": "2022-04-14T16:41:35.352Z"
   },
   {
    "duration": 200,
    "start_time": "2022-04-14T16:41:35.366Z"
   },
   {
    "duration": 400,
    "start_time": "2022-04-14T16:41:35.569Z"
   },
   {
    "duration": 308,
    "start_time": "2022-04-14T16:41:35.972Z"
   },
   {
    "duration": 11,
    "start_time": "2022-04-14T16:41:36.282Z"
   },
   {
    "duration": 143,
    "start_time": "2022-04-14T16:41:36.295Z"
   },
   {
    "duration": 0,
    "start_time": "2022-04-14T16:41:36.440Z"
   },
   {
    "duration": 0,
    "start_time": "2022-04-14T16:41:36.442Z"
   },
   {
    "duration": 0,
    "start_time": "2022-04-14T16:41:36.445Z"
   },
   {
    "duration": 0,
    "start_time": "2022-04-14T16:41:36.447Z"
   },
   {
    "duration": 0,
    "start_time": "2022-04-14T16:41:36.450Z"
   },
   {
    "duration": 0,
    "start_time": "2022-04-14T16:41:36.452Z"
   },
   {
    "duration": 0,
    "start_time": "2022-04-14T16:41:36.454Z"
   },
   {
    "duration": 0,
    "start_time": "2022-04-14T16:41:36.456Z"
   },
   {
    "duration": 0,
    "start_time": "2022-04-14T16:41:36.459Z"
   },
   {
    "duration": 1,
    "start_time": "2022-04-14T16:41:36.460Z"
   },
   {
    "duration": 0,
    "start_time": "2022-04-14T16:41:36.463Z"
   },
   {
    "duration": 0,
    "start_time": "2022-04-14T16:41:36.466Z"
   },
   {
    "duration": 0,
    "start_time": "2022-04-14T16:41:36.467Z"
   },
   {
    "duration": 0,
    "start_time": "2022-04-14T16:41:36.470Z"
   },
   {
    "duration": 225,
    "start_time": "2022-04-14T16:42:06.904Z"
   },
   {
    "duration": 1055,
    "start_time": "2022-04-14T16:42:19.798Z"
   },
   {
    "duration": 176,
    "start_time": "2022-04-14T16:42:20.856Z"
   },
   {
    "duration": 42,
    "start_time": "2022-04-14T16:42:21.035Z"
   },
   {
    "duration": 12,
    "start_time": "2022-04-14T16:42:21.080Z"
   },
   {
    "duration": 39,
    "start_time": "2022-04-14T16:42:21.094Z"
   },
   {
    "duration": 11,
    "start_time": "2022-04-14T16:42:21.136Z"
   },
   {
    "duration": 12,
    "start_time": "2022-04-14T16:42:21.149Z"
   },
   {
    "duration": 112,
    "start_time": "2022-04-14T16:42:21.164Z"
   },
   {
    "duration": 23,
    "start_time": "2022-04-14T16:42:21.279Z"
   },
   {
    "duration": 40,
    "start_time": "2022-04-14T16:42:21.326Z"
   },
   {
    "duration": 68,
    "start_time": "2022-04-14T16:42:21.368Z"
   },
   {
    "duration": 574,
    "start_time": "2022-04-14T16:42:21.438Z"
   },
   {
    "duration": 42,
    "start_time": "2022-04-14T16:42:22.015Z"
   },
   {
    "duration": 30,
    "start_time": "2022-04-14T16:42:22.059Z"
   },
   {
    "duration": 341,
    "start_time": "2022-04-14T16:42:22.091Z"
   },
   {
    "duration": 216,
    "start_time": "2022-04-14T16:42:22.434Z"
   },
   {
    "duration": 401,
    "start_time": "2022-04-14T16:42:22.653Z"
   },
   {
    "duration": 182,
    "start_time": "2022-04-14T16:42:23.057Z"
   },
   {
    "duration": 247,
    "start_time": "2022-04-14T16:42:23.242Z"
   },
   {
    "duration": 183,
    "start_time": "2022-04-14T16:42:23.491Z"
   },
   {
    "duration": 287,
    "start_time": "2022-04-14T16:42:23.677Z"
   },
   {
    "duration": 164,
    "start_time": "2022-04-14T16:42:23.966Z"
   },
   {
    "duration": 318,
    "start_time": "2022-04-14T16:42:24.132Z"
   },
   {
    "duration": 335,
    "start_time": "2022-04-14T16:42:24.452Z"
   },
   {
    "duration": 11,
    "start_time": "2022-04-14T16:42:24.790Z"
   },
   {
    "duration": 25,
    "start_time": "2022-04-14T16:42:24.803Z"
   },
   {
    "duration": 180,
    "start_time": "2022-04-14T16:42:24.830Z"
   },
   {
    "duration": 387,
    "start_time": "2022-04-14T16:42:25.024Z"
   },
   {
    "duration": 321,
    "start_time": "2022-04-14T16:42:25.413Z"
   },
   {
    "duration": 11,
    "start_time": "2022-04-14T16:42:25.736Z"
   },
   {
    "duration": 252,
    "start_time": "2022-04-14T16:42:25.749Z"
   },
   {
    "duration": 276,
    "start_time": "2022-04-14T16:42:26.004Z"
   },
   {
    "duration": 265,
    "start_time": "2022-04-14T16:42:26.282Z"
   },
   {
    "duration": 249,
    "start_time": "2022-04-14T16:42:26.550Z"
   },
   {
    "duration": 388,
    "start_time": "2022-04-14T16:42:26.802Z"
   },
   {
    "duration": 288,
    "start_time": "2022-04-14T16:42:27.193Z"
   },
   {
    "duration": 250,
    "start_time": "2022-04-14T16:42:27.484Z"
   },
   {
    "duration": 36,
    "start_time": "2022-04-14T16:42:27.738Z"
   },
   {
    "duration": 177,
    "start_time": "2022-04-14T16:42:27.777Z"
   },
   {
    "duration": 0,
    "start_time": "2022-04-14T16:42:27.956Z"
   },
   {
    "duration": 0,
    "start_time": "2022-04-14T16:42:27.958Z"
   },
   {
    "duration": 0,
    "start_time": "2022-04-14T16:42:27.960Z"
   },
   {
    "duration": 0,
    "start_time": "2022-04-14T16:42:27.961Z"
   },
   {
    "duration": 0,
    "start_time": "2022-04-14T16:42:27.962Z"
   },
   {
    "duration": 0,
    "start_time": "2022-04-14T16:42:27.963Z"
   },
   {
    "duration": 36,
    "start_time": "2022-04-14T16:42:50.015Z"
   },
   {
    "duration": 40,
    "start_time": "2022-04-14T16:43:20.438Z"
   },
   {
    "duration": 12,
    "start_time": "2022-04-14T16:43:27.552Z"
   },
   {
    "duration": 58,
    "start_time": "2022-04-14T16:43:34.887Z"
   },
   {
    "duration": 36,
    "start_time": "2022-04-14T16:43:40.552Z"
   },
   {
    "duration": 37,
    "start_time": "2022-04-14T16:44:14.914Z"
   },
   {
    "duration": 246,
    "start_time": "2022-04-14T16:44:22.648Z"
   },
   {
    "duration": 246,
    "start_time": "2022-04-14T16:44:26.330Z"
   },
   {
    "duration": 369,
    "start_time": "2022-04-14T16:44:26.582Z"
   },
   {
    "duration": 287,
    "start_time": "2022-04-14T16:44:26.954Z"
   },
   {
    "duration": 261,
    "start_time": "2022-04-14T16:44:27.244Z"
   },
   {
    "duration": 253,
    "start_time": "2022-04-14T16:44:27.575Z"
   },
   {
    "duration": 19,
    "start_time": "2022-04-14T16:44:28.071Z"
   },
   {
    "duration": 844,
    "start_time": "2022-04-15T09:19:14.444Z"
   },
   {
    "duration": 163,
    "start_time": "2022-04-15T09:19:15.290Z"
   },
   {
    "duration": 32,
    "start_time": "2022-04-15T09:19:15.455Z"
   },
   {
    "duration": 9,
    "start_time": "2022-04-15T09:19:15.489Z"
   },
   {
    "duration": 8,
    "start_time": "2022-04-15T09:19:15.500Z"
   },
   {
    "duration": 10,
    "start_time": "2022-04-15T09:19:15.510Z"
   },
   {
    "duration": 9,
    "start_time": "2022-04-15T09:19:15.521Z"
   },
   {
    "duration": 72,
    "start_time": "2022-04-15T09:19:15.532Z"
   },
   {
    "duration": 13,
    "start_time": "2022-04-15T09:19:15.606Z"
   },
   {
    "duration": 24,
    "start_time": "2022-04-15T09:19:15.621Z"
   },
   {
    "duration": 45,
    "start_time": "2022-04-15T09:19:15.647Z"
   },
   {
    "duration": 333,
    "start_time": "2022-04-15T09:19:15.694Z"
   },
   {
    "duration": 29,
    "start_time": "2022-04-15T09:19:16.028Z"
   },
   {
    "duration": 28,
    "start_time": "2022-04-15T09:19:16.059Z"
   },
   {
    "duration": 203,
    "start_time": "2022-04-15T09:19:16.088Z"
   },
   {
    "duration": 162,
    "start_time": "2022-04-15T09:19:16.293Z"
   },
   {
    "duration": 242,
    "start_time": "2022-04-15T09:19:16.472Z"
   },
   {
    "duration": 110,
    "start_time": "2022-04-15T09:19:16.716Z"
   },
   {
    "duration": 154,
    "start_time": "2022-04-15T09:19:16.828Z"
   },
   {
    "duration": 111,
    "start_time": "2022-04-15T09:19:16.985Z"
   },
   {
    "duration": 181,
    "start_time": "2022-04-15T09:19:17.098Z"
   },
   {
    "duration": 97,
    "start_time": "2022-04-15T09:19:17.281Z"
   },
   {
    "duration": 195,
    "start_time": "2022-04-15T09:19:17.380Z"
   },
   {
    "duration": 203,
    "start_time": "2022-04-15T09:19:17.577Z"
   },
   {
    "duration": 9,
    "start_time": "2022-04-15T09:19:17.782Z"
   },
   {
    "duration": 7,
    "start_time": "2022-04-15T09:19:17.793Z"
   },
   {
    "duration": 124,
    "start_time": "2022-04-15T09:19:17.802Z"
   },
   {
    "duration": 280,
    "start_time": "2022-04-15T09:19:17.931Z"
   },
   {
    "duration": 214,
    "start_time": "2022-04-15T09:19:18.213Z"
   },
   {
    "duration": 9,
    "start_time": "2022-04-15T09:19:18.429Z"
   },
   {
    "duration": 164,
    "start_time": "2022-04-15T09:19:18.440Z"
   },
   {
    "duration": 195,
    "start_time": "2022-04-15T09:19:18.606Z"
   },
   {
    "duration": 176,
    "start_time": "2022-04-15T09:19:18.803Z"
   },
   {
    "duration": 161,
    "start_time": "2022-04-15T09:19:18.981Z"
   },
   {
    "duration": 150,
    "start_time": "2022-04-15T09:19:19.144Z"
   },
   {
    "duration": 152,
    "start_time": "2022-04-15T09:19:19.296Z"
   },
   {
    "duration": 159,
    "start_time": "2022-04-15T09:19:19.450Z"
   },
   {
    "duration": 24,
    "start_time": "2022-04-15T09:19:19.610Z"
   },
   {
    "duration": 174,
    "start_time": "2022-04-15T09:19:19.635Z"
   },
   {
    "duration": 162,
    "start_time": "2022-04-15T09:19:19.811Z"
   },
   {
    "duration": 257,
    "start_time": "2022-04-15T09:19:19.974Z"
   },
   {
    "duration": 163,
    "start_time": "2022-04-15T09:19:20.233Z"
   },
   {
    "duration": 153,
    "start_time": "2022-04-15T09:19:20.398Z"
   },
   {
    "duration": 155,
    "start_time": "2022-04-15T09:19:20.553Z"
   },
   {
    "duration": 2300,
    "start_time": "2022-04-15T09:32:17.079Z"
   },
   {
    "duration": 334,
    "start_time": "2022-04-15T09:33:13.813Z"
   },
   {
    "duration": 182,
    "start_time": "2022-04-15T09:33:23.327Z"
   },
   {
    "duration": 181,
    "start_time": "2022-04-15T09:34:23.560Z"
   },
   {
    "duration": 176,
    "start_time": "2022-04-15T09:34:27.738Z"
   },
   {
    "duration": 172,
    "start_time": "2022-04-15T09:34:35.405Z"
   },
   {
    "duration": 146,
    "start_time": "2022-04-15T09:34:40.721Z"
   },
   {
    "duration": 139,
    "start_time": "2022-04-15T09:35:45.856Z"
   },
   {
    "duration": 140,
    "start_time": "2022-04-15T09:35:53.296Z"
   },
   {
    "duration": 136,
    "start_time": "2022-04-15T09:36:27.418Z"
   },
   {
    "duration": 132,
    "start_time": "2022-04-15T09:36:37.633Z"
   },
   {
    "duration": 144,
    "start_time": "2022-04-15T09:36:42.241Z"
   },
   {
    "duration": 137,
    "start_time": "2022-04-15T09:36:48.152Z"
   },
   {
    "duration": 658,
    "start_time": "2022-04-15T09:41:27.186Z"
   },
   {
    "duration": 155,
    "start_time": "2022-04-15T09:41:27.846Z"
   },
   {
    "duration": 29,
    "start_time": "2022-04-15T09:41:28.002Z"
   },
   {
    "duration": 9,
    "start_time": "2022-04-15T09:41:28.034Z"
   },
   {
    "duration": 9,
    "start_time": "2022-04-15T09:41:28.045Z"
   },
   {
    "duration": 9,
    "start_time": "2022-04-15T09:41:28.072Z"
   },
   {
    "duration": 8,
    "start_time": "2022-04-15T09:41:28.083Z"
   },
   {
    "duration": 41,
    "start_time": "2022-04-15T09:41:28.092Z"
   },
   {
    "duration": 38,
    "start_time": "2022-04-15T09:41:28.135Z"
   },
   {
    "duration": 26,
    "start_time": "2022-04-15T09:41:28.176Z"
   },
   {
    "duration": 31,
    "start_time": "2022-04-15T09:41:28.203Z"
   },
   {
    "duration": 346,
    "start_time": "2022-04-15T09:41:28.236Z"
   },
   {
    "duration": 22,
    "start_time": "2022-04-15T09:41:28.584Z"
   },
   {
    "duration": 14,
    "start_time": "2022-04-15T09:41:28.607Z"
   },
   {
    "duration": 213,
    "start_time": "2022-04-15T09:41:28.622Z"
   },
   {
    "duration": 151,
    "start_time": "2022-04-15T09:41:28.837Z"
   },
   {
    "duration": 256,
    "start_time": "2022-04-15T09:41:28.990Z"
   },
   {
    "duration": 111,
    "start_time": "2022-04-15T09:41:29.248Z"
   },
   {
    "duration": 147,
    "start_time": "2022-04-15T09:41:29.372Z"
   },
   {
    "duration": 107,
    "start_time": "2022-04-15T09:41:29.521Z"
   },
   {
    "duration": 189,
    "start_time": "2022-04-15T09:41:29.629Z"
   },
   {
    "duration": 99,
    "start_time": "2022-04-15T09:41:29.820Z"
   },
   {
    "duration": 205,
    "start_time": "2022-04-15T09:41:29.920Z"
   },
   {
    "duration": 209,
    "start_time": "2022-04-15T09:41:30.127Z"
   },
   {
    "duration": 9,
    "start_time": "2022-04-15T09:41:30.338Z"
   },
   {
    "duration": 17,
    "start_time": "2022-04-15T09:41:30.348Z"
   },
   {
    "duration": 118,
    "start_time": "2022-04-15T09:41:30.367Z"
   },
   {
    "duration": 277,
    "start_time": "2022-04-15T09:41:30.488Z"
   },
   {
    "duration": 196,
    "start_time": "2022-04-15T09:41:30.772Z"
   },
   {
    "duration": 10,
    "start_time": "2022-04-15T09:41:30.969Z"
   },
   {
    "duration": 167,
    "start_time": "2022-04-15T09:41:30.981Z"
   },
   {
    "duration": 177,
    "start_time": "2022-04-15T09:41:31.150Z"
   },
   {
    "duration": 171,
    "start_time": "2022-04-15T09:41:31.329Z"
   },
   {
    "duration": 163,
    "start_time": "2022-04-15T09:41:31.502Z"
   },
   {
    "duration": 147,
    "start_time": "2022-04-15T09:41:31.667Z"
   },
   {
    "duration": 157,
    "start_time": "2022-04-15T09:41:31.816Z"
   },
   {
    "duration": 164,
    "start_time": "2022-04-15T09:41:31.975Z"
   },
   {
    "duration": 33,
    "start_time": "2022-04-15T09:41:32.141Z"
   },
   {
    "duration": 172,
    "start_time": "2022-04-15T09:41:32.176Z"
   },
   {
    "duration": 209,
    "start_time": "2022-04-15T09:41:32.350Z"
   },
   {
    "duration": 259,
    "start_time": "2022-04-15T09:41:32.561Z"
   },
   {
    "duration": 152,
    "start_time": "2022-04-15T09:41:32.821Z"
   },
   {
    "duration": 155,
    "start_time": "2022-04-15T09:41:32.975Z"
   },
   {
    "duration": 156,
    "start_time": "2022-04-15T09:41:33.132Z"
   },
   {
    "duration": 159,
    "start_time": "2022-04-15T09:41:33.290Z"
   },
   {
    "duration": 162,
    "start_time": "2022-04-15T09:41:33.450Z"
   },
   {
    "duration": 151,
    "start_time": "2022-04-15T09:41:33.614Z"
   },
   {
    "duration": 174,
    "start_time": "2022-04-15T09:41:33.766Z"
   },
   {
    "duration": 672,
    "start_time": "2022-04-15T09:54:40.452Z"
   },
   {
    "duration": 138,
    "start_time": "2022-04-15T09:54:41.126Z"
   },
   {
    "duration": 28,
    "start_time": "2022-04-15T09:54:41.265Z"
   },
   {
    "duration": 11,
    "start_time": "2022-04-15T09:54:41.295Z"
   },
   {
    "duration": 9,
    "start_time": "2022-04-15T09:54:41.308Z"
   },
   {
    "duration": 9,
    "start_time": "2022-04-15T09:54:41.318Z"
   },
   {
    "duration": 8,
    "start_time": "2022-04-15T09:54:41.328Z"
   },
   {
    "duration": 72,
    "start_time": "2022-04-15T09:54:41.338Z"
   },
   {
    "duration": 25,
    "start_time": "2022-04-15T09:54:41.412Z"
   },
   {
    "duration": 48,
    "start_time": "2022-04-15T09:54:41.439Z"
   },
   {
    "duration": 319,
    "start_time": "2022-04-15T09:54:41.489Z"
   },
   {
    "duration": 25,
    "start_time": "2022-04-15T09:54:41.809Z"
   },
   {
    "duration": 14,
    "start_time": "2022-04-15T09:54:41.836Z"
   },
   {
    "duration": 220,
    "start_time": "2022-04-15T09:54:41.853Z"
   },
   {
    "duration": 156,
    "start_time": "2022-04-15T09:54:42.075Z"
   },
   {
    "duration": 249,
    "start_time": "2022-04-15T09:54:42.233Z"
   },
   {
    "duration": 112,
    "start_time": "2022-04-15T09:54:42.484Z"
   },
   {
    "duration": 145,
    "start_time": "2022-04-15T09:54:42.597Z"
   },
   {
    "duration": 100,
    "start_time": "2022-04-15T09:54:42.744Z"
   },
   {
    "duration": 184,
    "start_time": "2022-04-15T09:54:42.846Z"
   },
   {
    "duration": 97,
    "start_time": "2022-04-15T09:54:43.032Z"
   },
   {
    "duration": 204,
    "start_time": "2022-04-15T09:54:43.131Z"
   },
   {
    "duration": 198,
    "start_time": "2022-04-15T09:54:43.337Z"
   },
   {
    "duration": 9,
    "start_time": "2022-04-15T09:54:43.536Z"
   },
   {
    "duration": 6,
    "start_time": "2022-04-15T09:54:43.547Z"
   },
   {
    "duration": 123,
    "start_time": "2022-04-15T09:54:43.554Z"
   },
   {
    "duration": 261,
    "start_time": "2022-04-15T09:54:43.679Z"
   },
   {
    "duration": 197,
    "start_time": "2022-04-15T09:54:43.941Z"
   },
   {
    "duration": 9,
    "start_time": "2022-04-15T09:54:44.140Z"
   },
   {
    "duration": 166,
    "start_time": "2022-04-15T09:54:44.151Z"
   },
   {
    "duration": 178,
    "start_time": "2022-04-15T09:54:44.319Z"
   },
   {
    "duration": 155,
    "start_time": "2022-04-15T09:54:44.499Z"
   },
   {
    "duration": 150,
    "start_time": "2022-04-15T09:54:44.656Z"
   },
   {
    "duration": 146,
    "start_time": "2022-04-15T09:54:44.808Z"
   },
   {
    "duration": 155,
    "start_time": "2022-04-15T09:54:44.956Z"
   },
   {
    "duration": 149,
    "start_time": "2022-04-15T09:54:45.113Z"
   },
   {
    "duration": 30,
    "start_time": "2022-04-15T09:54:45.264Z"
   },
   {
    "duration": 167,
    "start_time": "2022-04-15T09:54:45.296Z"
   },
   {
    "duration": 192,
    "start_time": "2022-04-15T09:54:45.473Z"
   },
   {
    "duration": 249,
    "start_time": "2022-04-15T09:54:45.666Z"
   },
   {
    "duration": 153,
    "start_time": "2022-04-15T09:54:45.920Z"
   },
   {
    "duration": 150,
    "start_time": "2022-04-15T09:54:46.075Z"
   },
   {
    "duration": 152,
    "start_time": "2022-04-15T09:54:46.227Z"
   },
   {
    "duration": 150,
    "start_time": "2022-04-15T09:54:46.381Z"
   },
   {
    "duration": 165,
    "start_time": "2022-04-15T09:54:46.533Z"
   },
   {
    "duration": 145,
    "start_time": "2022-04-15T09:54:46.700Z"
   },
   {
    "duration": 156,
    "start_time": "2022-04-15T09:54:46.846Z"
   },
   {
    "duration": 17,
    "start_time": "2022-04-15T10:02:38.562Z"
   },
   {
    "duration": 20,
    "start_time": "2022-04-15T10:02:49.371Z"
   },
   {
    "duration": 19,
    "start_time": "2022-04-15T10:03:09.965Z"
   },
   {
    "duration": 20,
    "start_time": "2022-04-15T10:03:22.357Z"
   },
   {
    "duration": 20,
    "start_time": "2022-04-15T10:03:28.454Z"
   },
   {
    "duration": 19,
    "start_time": "2022-04-15T10:03:33.085Z"
   },
   {
    "duration": 625,
    "start_time": "2022-04-15T10:03:55.107Z"
   },
   {
    "duration": 143,
    "start_time": "2022-04-15T10:03:55.734Z"
   },
   {
    "duration": 27,
    "start_time": "2022-04-15T10:03:55.879Z"
   },
   {
    "duration": 21,
    "start_time": "2022-04-15T10:03:55.908Z"
   },
   {
    "duration": 10,
    "start_time": "2022-04-15T10:03:55.931Z"
   },
   {
    "duration": 37,
    "start_time": "2022-04-15T10:03:55.942Z"
   },
   {
    "duration": 9,
    "start_time": "2022-04-15T10:03:55.981Z"
   },
   {
    "duration": 9,
    "start_time": "2022-04-15T10:03:55.991Z"
   },
   {
    "duration": 44,
    "start_time": "2022-04-15T10:03:56.002Z"
   },
   {
    "duration": 48,
    "start_time": "2022-04-15T10:03:56.049Z"
   },
   {
    "duration": 30,
    "start_time": "2022-04-15T10:03:56.099Z"
   },
   {
    "duration": 336,
    "start_time": "2022-04-15T10:03:56.131Z"
   },
   {
    "duration": 26,
    "start_time": "2022-04-15T10:03:56.468Z"
   },
   {
    "duration": 14,
    "start_time": "2022-04-15T10:03:56.495Z"
   },
   {
    "duration": 208,
    "start_time": "2022-04-15T10:03:56.510Z"
   },
   {
    "duration": 155,
    "start_time": "2022-04-15T10:03:56.720Z"
   },
   {
    "duration": 237,
    "start_time": "2022-04-15T10:03:56.877Z"
   },
   {
    "duration": 111,
    "start_time": "2022-04-15T10:03:57.116Z"
   },
   {
    "duration": 146,
    "start_time": "2022-04-15T10:03:57.229Z"
   },
   {
    "duration": 99,
    "start_time": "2022-04-15T10:03:57.376Z"
   },
   {
    "duration": 179,
    "start_time": "2022-04-15T10:03:57.476Z"
   },
   {
    "duration": 88,
    "start_time": "2022-04-15T10:03:57.657Z"
   },
   {
    "duration": 190,
    "start_time": "2022-04-15T10:03:57.746Z"
   },
   {
    "duration": 201,
    "start_time": "2022-04-15T10:03:57.937Z"
   },
   {
    "duration": 8,
    "start_time": "2022-04-15T10:03:58.140Z"
   },
   {
    "duration": 5,
    "start_time": "2022-04-15T10:03:58.150Z"
   },
   {
    "duration": 118,
    "start_time": "2022-04-15T10:03:58.157Z"
   },
   {
    "duration": 251,
    "start_time": "2022-04-15T10:03:58.279Z"
   },
   {
    "duration": 183,
    "start_time": "2022-04-15T10:03:58.531Z"
   },
   {
    "duration": 8,
    "start_time": "2022-04-15T10:03:58.715Z"
   },
   {
    "duration": 154,
    "start_time": "2022-04-15T10:03:58.724Z"
   },
   {
    "duration": 161,
    "start_time": "2022-04-15T10:03:58.880Z"
   },
   {
    "duration": 159,
    "start_time": "2022-04-15T10:03:59.043Z"
   },
   {
    "duration": 139,
    "start_time": "2022-04-15T10:03:59.203Z"
   },
   {
    "duration": 142,
    "start_time": "2022-04-15T10:03:59.344Z"
   },
   {
    "duration": 143,
    "start_time": "2022-04-15T10:03:59.487Z"
   },
   {
    "duration": 148,
    "start_time": "2022-04-15T10:03:59.631Z"
   },
   {
    "duration": 22,
    "start_time": "2022-04-15T10:03:59.781Z"
   },
   {
    "duration": 160,
    "start_time": "2022-04-15T10:03:59.805Z"
   },
   {
    "duration": 201,
    "start_time": "2022-04-15T10:03:59.967Z"
   },
   {
    "duration": 260,
    "start_time": "2022-04-15T10:04:00.172Z"
   },
   {
    "duration": 146,
    "start_time": "2022-04-15T10:04:00.433Z"
   },
   {
    "duration": 148,
    "start_time": "2022-04-15T10:04:00.581Z"
   },
   {
    "duration": 154,
    "start_time": "2022-04-15T10:04:00.730Z"
   },
   {
    "duration": 168,
    "start_time": "2022-04-15T10:04:00.886Z"
   },
   {
    "duration": 175,
    "start_time": "2022-04-15T10:04:01.056Z"
   },
   {
    "duration": 159,
    "start_time": "2022-04-15T10:04:01.233Z"
   },
   {
    "duration": 164,
    "start_time": "2022-04-15T10:04:01.394Z"
   },
   {
    "duration": 678,
    "start_time": "2022-04-15T10:05:22.467Z"
   },
   {
    "duration": 142,
    "start_time": "2022-04-15T10:05:23.147Z"
   },
   {
    "duration": 28,
    "start_time": "2022-04-15T10:05:23.291Z"
   },
   {
    "duration": 22,
    "start_time": "2022-04-15T10:05:23.321Z"
   },
   {
    "duration": 30,
    "start_time": "2022-04-15T10:05:23.344Z"
   },
   {
    "duration": 10,
    "start_time": "2022-04-15T10:05:23.376Z"
   },
   {
    "duration": 9,
    "start_time": "2022-04-15T10:05:23.387Z"
   },
   {
    "duration": 8,
    "start_time": "2022-04-15T10:05:23.398Z"
   },
   {
    "duration": 72,
    "start_time": "2022-04-15T10:05:23.408Z"
   },
   {
    "duration": 26,
    "start_time": "2022-04-15T10:05:23.483Z"
   },
   {
    "duration": 30,
    "start_time": "2022-04-15T10:05:23.511Z"
   },
   {
    "duration": 344,
    "start_time": "2022-04-15T10:05:23.543Z"
   },
   {
    "duration": 24,
    "start_time": "2022-04-15T10:05:23.888Z"
   },
   {
    "duration": 14,
    "start_time": "2022-04-15T10:05:23.913Z"
   },
   {
    "duration": 217,
    "start_time": "2022-04-15T10:05:23.928Z"
   },
   {
    "duration": 160,
    "start_time": "2022-04-15T10:05:24.146Z"
   },
   {
    "duration": 253,
    "start_time": "2022-04-15T10:05:24.308Z"
   },
   {
    "duration": 112,
    "start_time": "2022-04-15T10:05:24.563Z"
   },
   {
    "duration": 148,
    "start_time": "2022-04-15T10:05:24.677Z"
   },
   {
    "duration": 109,
    "start_time": "2022-04-15T10:05:24.827Z"
   },
   {
    "duration": 188,
    "start_time": "2022-04-15T10:05:24.938Z"
   },
   {
    "duration": 102,
    "start_time": "2022-04-15T10:05:25.127Z"
   },
   {
    "duration": 194,
    "start_time": "2022-04-15T10:05:25.230Z"
   },
   {
    "duration": 200,
    "start_time": "2022-04-15T10:05:25.426Z"
   },
   {
    "duration": 8,
    "start_time": "2022-04-15T10:05:25.628Z"
   },
   {
    "duration": 6,
    "start_time": "2022-04-15T10:05:25.638Z"
   },
   {
    "duration": 119,
    "start_time": "2022-04-15T10:05:25.645Z"
   },
   {
    "duration": 283,
    "start_time": "2022-04-15T10:05:25.772Z"
   },
   {
    "duration": 188,
    "start_time": "2022-04-15T10:05:26.056Z"
   },
   {
    "duration": 8,
    "start_time": "2022-04-15T10:05:26.246Z"
   },
   {
    "duration": 165,
    "start_time": "2022-04-15T10:05:26.255Z"
   },
   {
    "duration": 173,
    "start_time": "2022-04-15T10:05:26.422Z"
   },
   {
    "duration": 159,
    "start_time": "2022-04-15T10:05:26.596Z"
   },
   {
    "duration": 151,
    "start_time": "2022-04-15T10:05:26.757Z"
   },
   {
    "duration": 148,
    "start_time": "2022-04-15T10:05:26.910Z"
   },
   {
    "duration": 152,
    "start_time": "2022-04-15T10:05:27.060Z"
   },
   {
    "duration": 148,
    "start_time": "2022-04-15T10:05:27.213Z"
   },
   {
    "duration": 30,
    "start_time": "2022-04-15T10:05:27.363Z"
   },
   {
    "duration": 169,
    "start_time": "2022-04-15T10:05:27.395Z"
   },
   {
    "duration": 189,
    "start_time": "2022-04-15T10:05:27.566Z"
   },
   {
    "duration": 250,
    "start_time": "2022-04-15T10:05:27.757Z"
   },
   {
    "duration": 151,
    "start_time": "2022-04-15T10:05:28.008Z"
   },
   {
    "duration": 152,
    "start_time": "2022-04-15T10:05:28.161Z"
   },
   {
    "duration": 153,
    "start_time": "2022-04-15T10:05:28.315Z"
   },
   {
    "duration": 162,
    "start_time": "2022-04-15T10:05:28.470Z"
   },
   {
    "duration": 166,
    "start_time": "2022-04-15T10:05:28.633Z"
   },
   {
    "duration": 151,
    "start_time": "2022-04-15T10:05:28.801Z"
   },
   {
    "duration": 165,
    "start_time": "2022-04-15T10:05:28.954Z"
   },
   {
    "duration": 663,
    "start_time": "2022-04-15T10:16:25.800Z"
   },
   {
    "duration": 150,
    "start_time": "2022-04-15T10:16:26.465Z"
   },
   {
    "duration": 30,
    "start_time": "2022-04-15T10:16:26.617Z"
   },
   {
    "duration": 38,
    "start_time": "2022-04-15T10:16:26.650Z"
   },
   {
    "duration": 45,
    "start_time": "2022-04-15T10:16:26.691Z"
   },
   {
    "duration": 5,
    "start_time": "2022-04-15T10:16:26.738Z"
   },
   {
    "duration": 35,
    "start_time": "2022-04-15T10:16:26.745Z"
   },
   {
    "duration": 313,
    "start_time": "2022-04-15T10:16:26.782Z"
   },
   {
    "duration": 26,
    "start_time": "2022-04-15T10:16:27.097Z"
   },
   {
    "duration": 204,
    "start_time": "2022-04-15T10:16:27.127Z"
   },
   {
    "duration": 160,
    "start_time": "2022-04-15T10:16:27.333Z"
   },
   {
    "duration": 253,
    "start_time": "2022-04-15T10:16:27.495Z"
   },
   {
    "duration": 107,
    "start_time": "2022-04-15T10:16:27.751Z"
   },
   {
    "duration": 168,
    "start_time": "2022-04-15T10:16:27.861Z"
   },
   {
    "duration": 103,
    "start_time": "2022-04-15T10:16:28.031Z"
   },
   {
    "duration": 181,
    "start_time": "2022-04-15T10:16:28.136Z"
   },
   {
    "duration": 94,
    "start_time": "2022-04-15T10:16:28.319Z"
   },
   {
    "duration": 201,
    "start_time": "2022-04-15T10:16:28.415Z"
   },
   {
    "duration": 203,
    "start_time": "2022-04-15T10:16:28.618Z"
   },
   {
    "duration": 9,
    "start_time": "2022-04-15T10:16:28.823Z"
   },
   {
    "duration": 7,
    "start_time": "2022-04-15T10:16:28.833Z"
   },
   {
    "duration": 120,
    "start_time": "2022-04-15T10:16:28.841Z"
   },
   {
    "duration": 278,
    "start_time": "2022-04-15T10:16:28.963Z"
   },
   {
    "duration": 198,
    "start_time": "2022-04-15T10:16:29.243Z"
   },
   {
    "duration": 8,
    "start_time": "2022-04-15T10:16:29.443Z"
   },
   {
    "duration": 159,
    "start_time": "2022-04-15T10:16:29.453Z"
   },
   {
    "duration": 174,
    "start_time": "2022-04-15T10:16:29.614Z"
   },
   {
    "duration": 166,
    "start_time": "2022-04-15T10:16:29.791Z"
   },
   {
    "duration": 163,
    "start_time": "2022-04-15T10:16:29.959Z"
   },
   {
    "duration": 152,
    "start_time": "2022-04-15T10:16:30.124Z"
   },
   {
    "duration": 151,
    "start_time": "2022-04-15T10:16:30.277Z"
   },
   {
    "duration": 158,
    "start_time": "2022-04-15T10:16:30.430Z"
   },
   {
    "duration": 23,
    "start_time": "2022-04-15T10:16:30.590Z"
   },
   {
    "duration": 178,
    "start_time": "2022-04-15T10:16:30.615Z"
   },
   {
    "duration": 202,
    "start_time": "2022-04-15T10:16:30.795Z"
   },
   {
    "duration": 261,
    "start_time": "2022-04-15T10:16:31.000Z"
   },
   {
    "duration": 157,
    "start_time": "2022-04-15T10:16:31.263Z"
   },
   {
    "duration": 160,
    "start_time": "2022-04-15T10:16:31.422Z"
   },
   {
    "duration": 172,
    "start_time": "2022-04-15T10:16:31.585Z"
   },
   {
    "duration": 168,
    "start_time": "2022-04-15T10:16:31.760Z"
   },
   {
    "duration": 169,
    "start_time": "2022-04-15T10:16:31.930Z"
   },
   {
    "duration": 167,
    "start_time": "2022-04-15T10:16:32.101Z"
   },
   {
    "duration": 174,
    "start_time": "2022-04-15T10:16:32.269Z"
   },
   {
    "duration": 73,
    "start_time": "2022-04-15T10:18:43.496Z"
   },
   {
    "duration": 645,
    "start_time": "2022-04-15T10:18:52.301Z"
   },
   {
    "duration": 144,
    "start_time": "2022-04-15T10:18:52.948Z"
   },
   {
    "duration": 28,
    "start_time": "2022-04-15T10:18:53.094Z"
   },
   {
    "duration": 21,
    "start_time": "2022-04-15T10:18:53.124Z"
   },
   {
    "duration": 63,
    "start_time": "2022-04-15T10:18:53.147Z"
   },
   {
    "duration": 4,
    "start_time": "2022-04-15T10:18:53.212Z"
   },
   {
    "duration": 23,
    "start_time": "2022-04-15T10:18:53.218Z"
   },
   {
    "duration": 320,
    "start_time": "2022-04-15T10:18:53.243Z"
   },
   {
    "duration": 25,
    "start_time": "2022-04-15T10:18:53.564Z"
   },
   {
    "duration": 197,
    "start_time": "2022-04-15T10:18:53.592Z"
   },
   {
    "duration": 147,
    "start_time": "2022-04-15T10:18:53.790Z"
   },
   {
    "duration": 258,
    "start_time": "2022-04-15T10:18:53.938Z"
   },
   {
    "duration": 104,
    "start_time": "2022-04-15T10:18:54.198Z"
   },
   {
    "duration": 154,
    "start_time": "2022-04-15T10:18:54.304Z"
   },
   {
    "duration": 99,
    "start_time": "2022-04-15T10:18:54.460Z"
   },
   {
    "duration": 178,
    "start_time": "2022-04-15T10:18:54.573Z"
   },
   {
    "duration": 89,
    "start_time": "2022-04-15T10:18:54.753Z"
   },
   {
    "duration": 197,
    "start_time": "2022-04-15T10:18:54.844Z"
   },
   {
    "duration": 202,
    "start_time": "2022-04-15T10:18:55.043Z"
   },
   {
    "duration": 8,
    "start_time": "2022-04-15T10:18:55.247Z"
   },
   {
    "duration": 19,
    "start_time": "2022-04-15T10:18:55.257Z"
   },
   {
    "duration": 108,
    "start_time": "2022-04-15T10:18:55.277Z"
   },
   {
    "duration": 270,
    "start_time": "2022-04-15T10:18:55.387Z"
   },
   {
    "duration": 198,
    "start_time": "2022-04-15T10:18:55.658Z"
   },
   {
    "duration": 18,
    "start_time": "2022-04-15T10:18:55.858Z"
   },
   {
    "duration": 73,
    "start_time": "2022-04-15T10:18:55.877Z"
   },
   {
    "duration": 0,
    "start_time": "2022-04-15T10:18:55.952Z"
   },
   {
    "duration": 0,
    "start_time": "2022-04-15T10:18:55.953Z"
   },
   {
    "duration": 0,
    "start_time": "2022-04-15T10:18:55.955Z"
   },
   {
    "duration": 0,
    "start_time": "2022-04-15T10:18:55.956Z"
   },
   {
    "duration": 0,
    "start_time": "2022-04-15T10:18:55.957Z"
   },
   {
    "duration": 0,
    "start_time": "2022-04-15T10:18:55.973Z"
   },
   {
    "duration": 0,
    "start_time": "2022-04-15T10:18:55.975Z"
   },
   {
    "duration": 0,
    "start_time": "2022-04-15T10:18:55.976Z"
   },
   {
    "duration": 0,
    "start_time": "2022-04-15T10:18:55.977Z"
   },
   {
    "duration": 0,
    "start_time": "2022-04-15T10:18:55.978Z"
   },
   {
    "duration": 0,
    "start_time": "2022-04-15T10:18:55.979Z"
   },
   {
    "duration": 0,
    "start_time": "2022-04-15T10:18:55.980Z"
   },
   {
    "duration": 0,
    "start_time": "2022-04-15T10:18:55.981Z"
   },
   {
    "duration": 0,
    "start_time": "2022-04-15T10:18:55.982Z"
   },
   {
    "duration": 0,
    "start_time": "2022-04-15T10:18:55.984Z"
   },
   {
    "duration": 0,
    "start_time": "2022-04-15T10:18:55.985Z"
   },
   {
    "duration": 0,
    "start_time": "2022-04-15T10:18:55.986Z"
   },
   {
    "duration": 144,
    "start_time": "2022-04-15T10:19:41.165Z"
   },
   {
    "duration": 180,
    "start_time": "2022-04-15T10:19:44.875Z"
   },
   {
    "duration": 149,
    "start_time": "2022-04-15T10:19:45.755Z"
   },
   {
    "duration": 139,
    "start_time": "2022-04-15T10:19:46.395Z"
   },
   {
    "duration": 135,
    "start_time": "2022-04-15T10:19:47.007Z"
   },
   {
    "duration": 131,
    "start_time": "2022-04-15T10:19:47.636Z"
   },
   {
    "duration": 142,
    "start_time": "2022-04-15T10:19:48.603Z"
   },
   {
    "duration": 25,
    "start_time": "2022-04-15T10:19:50.108Z"
   },
   {
    "duration": 154,
    "start_time": "2022-04-15T10:19:51.195Z"
   },
   {
    "duration": 189,
    "start_time": "2022-04-15T10:19:52.155Z"
   },
   {
    "duration": 245,
    "start_time": "2022-04-15T10:19:52.420Z"
   },
   {
    "duration": 153,
    "start_time": "2022-04-15T10:19:52.672Z"
   },
   {
    "duration": 145,
    "start_time": "2022-04-15T10:19:53.125Z"
   },
   {
    "duration": 164,
    "start_time": "2022-04-15T10:19:53.475Z"
   },
   {
    "duration": 143,
    "start_time": "2022-04-15T10:19:53.802Z"
   },
   {
    "duration": 157,
    "start_time": "2022-04-15T10:19:54.140Z"
   },
   {
    "duration": 148,
    "start_time": "2022-04-15T10:19:54.467Z"
   },
   {
    "duration": 148,
    "start_time": "2022-04-15T10:19:54.811Z"
   },
   {
    "duration": 136,
    "start_time": "2022-04-15T10:20:33.285Z"
   },
   {
    "duration": 145,
    "start_time": "2022-04-15T10:20:44.917Z"
   },
   {
    "duration": 218,
    "start_time": "2022-04-15T10:21:15.997Z"
   },
   {
    "duration": 224,
    "start_time": "2022-04-15T10:21:23.430Z"
   },
   {
    "duration": 332,
    "start_time": "2022-04-15T10:21:28.261Z"
   },
   {
    "duration": 215,
    "start_time": "2022-04-15T10:21:32.997Z"
   },
   {
    "duration": 196,
    "start_time": "2022-04-15T10:21:51.061Z"
   },
   {
    "duration": 140,
    "start_time": "2022-04-15T10:22:37.285Z"
   },
   {
    "duration": 178,
    "start_time": "2022-04-15T10:22:56.949Z"
   },
   {
    "duration": 184,
    "start_time": "2022-04-15T10:23:02.982Z"
   },
   {
    "duration": 182,
    "start_time": "2022-04-15T10:23:07.112Z"
   },
   {
    "duration": 181,
    "start_time": "2022-04-15T10:23:17.277Z"
   },
   {
    "duration": 172,
    "start_time": "2022-04-15T10:23:27.597Z"
   },
   {
    "duration": 179,
    "start_time": "2022-04-15T10:23:46.175Z"
   },
   {
    "duration": 201,
    "start_time": "2022-04-15T10:24:17.797Z"
   },
   {
    "duration": 200,
    "start_time": "2022-04-15T10:24:27.189Z"
   },
   {
    "duration": 357,
    "start_time": "2022-04-15T10:24:38.524Z"
   },
   {
    "duration": 684,
    "start_time": "2022-04-15T10:24:51.501Z"
   },
   {
    "duration": 152,
    "start_time": "2022-04-15T10:24:52.187Z"
   },
   {
    "duration": 32,
    "start_time": "2022-04-15T10:24:52.341Z"
   },
   {
    "duration": 22,
    "start_time": "2022-04-15T10:24:52.375Z"
   },
   {
    "duration": 46,
    "start_time": "2022-04-15T10:24:52.399Z"
   },
   {
    "duration": 4,
    "start_time": "2022-04-15T10:24:52.447Z"
   },
   {
    "duration": 12,
    "start_time": "2022-04-15T10:24:52.474Z"
   },
   {
    "duration": 320,
    "start_time": "2022-04-15T10:24:52.488Z"
   },
   {
    "duration": 26,
    "start_time": "2022-04-15T10:24:52.810Z"
   },
   {
    "duration": 214,
    "start_time": "2022-04-15T10:24:52.839Z"
   },
   {
    "duration": 173,
    "start_time": "2022-04-15T10:24:53.055Z"
   },
   {
    "duration": 260,
    "start_time": "2022-04-15T10:24:53.229Z"
   },
   {
    "duration": 118,
    "start_time": "2022-04-15T10:24:53.491Z"
   },
   {
    "duration": 164,
    "start_time": "2022-04-15T10:24:53.611Z"
   },
   {
    "duration": 112,
    "start_time": "2022-04-15T10:24:53.776Z"
   },
   {
    "duration": 192,
    "start_time": "2022-04-15T10:24:53.890Z"
   },
   {
    "duration": 107,
    "start_time": "2022-04-15T10:24:54.084Z"
   },
   {
    "duration": 199,
    "start_time": "2022-04-15T10:24:54.193Z"
   },
   {
    "duration": 213,
    "start_time": "2022-04-15T10:24:54.394Z"
   },
   {
    "duration": 9,
    "start_time": "2022-04-15T10:24:54.609Z"
   },
   {
    "duration": 8,
    "start_time": "2022-04-15T10:24:54.619Z"
   },
   {
    "duration": 134,
    "start_time": "2022-04-15T10:24:54.628Z"
   },
   {
    "duration": 310,
    "start_time": "2022-04-15T10:24:54.764Z"
   },
   {
    "duration": 202,
    "start_time": "2022-04-15T10:24:55.076Z"
   },
   {
    "duration": 9,
    "start_time": "2022-04-15T10:24:55.280Z"
   },
   {
    "duration": 221,
    "start_time": "2022-04-15T10:24:55.291Z"
   },
   {
    "duration": 184,
    "start_time": "2022-04-15T10:24:55.514Z"
   },
   {
    "duration": 240,
    "start_time": "2022-04-15T10:24:55.702Z"
   },
   {
    "duration": 159,
    "start_time": "2022-04-15T10:24:55.944Z"
   },
   {
    "duration": 155,
    "start_time": "2022-04-15T10:24:56.105Z"
   },
   {
    "duration": 155,
    "start_time": "2022-04-15T10:24:56.262Z"
   },
   {
    "duration": 170,
    "start_time": "2022-04-15T10:24:56.420Z"
   },
   {
    "duration": 26,
    "start_time": "2022-04-15T10:24:56.592Z"
   },
   {
    "duration": 194,
    "start_time": "2022-04-15T10:24:56.620Z"
   },
   {
    "duration": 330,
    "start_time": "2022-04-15T10:24:56.816Z"
   },
   {
    "duration": 194,
    "start_time": "2022-04-15T10:24:57.148Z"
   },
   {
    "duration": 151,
    "start_time": "2022-04-15T10:24:57.343Z"
   },
   {
    "duration": 161,
    "start_time": "2022-04-15T10:24:57.496Z"
   },
   {
    "duration": 164,
    "start_time": "2022-04-15T10:24:57.658Z"
   },
   {
    "duration": 163,
    "start_time": "2022-04-15T10:24:57.824Z"
   },
   {
    "duration": 174,
    "start_time": "2022-04-15T10:24:57.989Z"
   },
   {
    "duration": 158,
    "start_time": "2022-04-15T10:24:58.166Z"
   },
   {
    "duration": 165,
    "start_time": "2022-04-15T10:24:58.326Z"
   },
   {
    "duration": 205,
    "start_time": "2022-04-15T10:25:42.095Z"
   },
   {
    "duration": 205,
    "start_time": "2022-04-15T10:25:48.196Z"
   },
   {
    "duration": 630,
    "start_time": "2022-04-15T10:25:53.826Z"
   },
   {
    "duration": 156,
    "start_time": "2022-04-15T10:25:54.458Z"
   },
   {
    "duration": 31,
    "start_time": "2022-04-15T10:25:54.616Z"
   },
   {
    "duration": 37,
    "start_time": "2022-04-15T10:25:54.650Z"
   },
   {
    "duration": 46,
    "start_time": "2022-04-15T10:25:54.689Z"
   },
   {
    "duration": 5,
    "start_time": "2022-04-15T10:25:54.738Z"
   },
   {
    "duration": 36,
    "start_time": "2022-04-15T10:25:54.745Z"
   },
   {
    "duration": 314,
    "start_time": "2022-04-15T10:25:54.782Z"
   },
   {
    "duration": 26,
    "start_time": "2022-04-15T10:25:55.098Z"
   },
   {
    "duration": 208,
    "start_time": "2022-04-15T10:25:55.128Z"
   },
   {
    "duration": 165,
    "start_time": "2022-04-15T10:25:55.338Z"
   },
   {
    "duration": 254,
    "start_time": "2022-04-15T10:25:55.505Z"
   },
   {
    "duration": 117,
    "start_time": "2022-04-15T10:25:55.761Z"
   },
   {
    "duration": 162,
    "start_time": "2022-04-15T10:25:55.880Z"
   },
   {
    "duration": 111,
    "start_time": "2022-04-15T10:25:56.045Z"
   },
   {
    "duration": 201,
    "start_time": "2022-04-15T10:25:56.158Z"
   },
   {
    "duration": 100,
    "start_time": "2022-04-15T10:25:56.361Z"
   },
   {
    "duration": 195,
    "start_time": "2022-04-15T10:25:56.472Z"
   },
   {
    "duration": 206,
    "start_time": "2022-04-15T10:25:56.672Z"
   },
   {
    "duration": 10,
    "start_time": "2022-04-15T10:25:56.880Z"
   },
   {
    "duration": 7,
    "start_time": "2022-04-15T10:25:56.892Z"
   },
   {
    "duration": 126,
    "start_time": "2022-04-15T10:25:56.901Z"
   },
   {
    "duration": 277,
    "start_time": "2022-04-15T10:25:57.030Z"
   },
   {
    "duration": 193,
    "start_time": "2022-04-15T10:25:57.309Z"
   },
   {
    "duration": 9,
    "start_time": "2022-04-15T10:25:57.504Z"
   },
   {
    "duration": 220,
    "start_time": "2022-04-15T10:25:57.515Z"
   },
   {
    "duration": 177,
    "start_time": "2022-04-15T10:25:57.738Z"
   },
   {
    "duration": 222,
    "start_time": "2022-04-15T10:25:57.919Z"
   },
   {
    "duration": 158,
    "start_time": "2022-04-15T10:25:58.143Z"
   },
   {
    "duration": 159,
    "start_time": "2022-04-15T10:25:58.303Z"
   },
   {
    "duration": 154,
    "start_time": "2022-04-15T10:25:58.464Z"
   },
   {
    "duration": 165,
    "start_time": "2022-04-15T10:25:58.620Z"
   },
   {
    "duration": 26,
    "start_time": "2022-04-15T10:25:58.787Z"
   },
   {
    "duration": 179,
    "start_time": "2022-04-15T10:25:58.815Z"
   },
   {
    "duration": 205,
    "start_time": "2022-04-15T10:25:58.996Z"
   },
   {
    "duration": 259,
    "start_time": "2022-04-15T10:25:59.203Z"
   },
   {
    "duration": 159,
    "start_time": "2022-04-15T10:25:59.463Z"
   },
   {
    "duration": 152,
    "start_time": "2022-04-15T10:25:59.624Z"
   },
   {
    "duration": 166,
    "start_time": "2022-04-15T10:25:59.778Z"
   },
   {
    "duration": 173,
    "start_time": "2022-04-15T10:25:59.945Z"
   },
   {
    "duration": 173,
    "start_time": "2022-04-15T10:26:00.119Z"
   },
   {
    "duration": 158,
    "start_time": "2022-04-15T10:26:00.294Z"
   },
   {
    "duration": 165,
    "start_time": "2022-04-15T10:26:00.454Z"
   },
   {
    "duration": 219,
    "start_time": "2022-04-15T10:26:06.188Z"
   },
   {
    "duration": 715,
    "start_time": "2022-04-15T10:26:11.255Z"
   },
   {
    "duration": 149,
    "start_time": "2022-04-15T10:26:11.973Z"
   },
   {
    "duration": 27,
    "start_time": "2022-04-15T10:26:12.124Z"
   },
   {
    "duration": 29,
    "start_time": "2022-04-15T10:26:12.153Z"
   },
   {
    "duration": 45,
    "start_time": "2022-04-15T10:26:12.184Z"
   },
   {
    "duration": 5,
    "start_time": "2022-04-15T10:26:12.231Z"
   },
   {
    "duration": 14,
    "start_time": "2022-04-15T10:26:12.237Z"
   },
   {
    "duration": 309,
    "start_time": "2022-04-15T10:26:12.273Z"
   },
   {
    "duration": 26,
    "start_time": "2022-04-15T10:26:12.583Z"
   },
   {
    "duration": 201,
    "start_time": "2022-04-15T10:26:12.611Z"
   },
   {
    "duration": 158,
    "start_time": "2022-04-15T10:26:12.814Z"
   },
   {
    "duration": 247,
    "start_time": "2022-04-15T10:26:12.974Z"
   },
   {
    "duration": 106,
    "start_time": "2022-04-15T10:26:13.223Z"
   },
   {
    "duration": 163,
    "start_time": "2022-04-15T10:26:13.330Z"
   },
   {
    "duration": 115,
    "start_time": "2022-04-15T10:26:13.495Z"
   },
   {
    "duration": 181,
    "start_time": "2022-04-15T10:26:13.612Z"
   },
   {
    "duration": 99,
    "start_time": "2022-04-15T10:26:13.794Z"
   },
   {
    "duration": 193,
    "start_time": "2022-04-15T10:26:13.895Z"
   },
   {
    "duration": 213,
    "start_time": "2022-04-15T10:26:14.090Z"
   },
   {
    "duration": 9,
    "start_time": "2022-04-15T10:26:14.305Z"
   },
   {
    "duration": 12,
    "start_time": "2022-04-15T10:26:14.316Z"
   },
   {
    "duration": 124,
    "start_time": "2022-04-15T10:26:14.329Z"
   },
   {
    "duration": 281,
    "start_time": "2022-04-15T10:26:14.455Z"
   },
   {
    "duration": 199,
    "start_time": "2022-04-15T10:26:14.738Z"
   },
   {
    "duration": 10,
    "start_time": "2022-04-15T10:26:14.938Z"
   },
   {
    "duration": 224,
    "start_time": "2022-04-15T10:26:14.949Z"
   },
   {
    "duration": 174,
    "start_time": "2022-04-15T10:26:15.175Z"
   },
   {
    "duration": 238,
    "start_time": "2022-04-15T10:26:15.353Z"
   },
   {
    "duration": 151,
    "start_time": "2022-04-15T10:26:15.593Z"
   },
   {
    "duration": 144,
    "start_time": "2022-04-15T10:26:15.746Z"
   },
   {
    "duration": 152,
    "start_time": "2022-04-15T10:26:15.891Z"
   },
   {
    "duration": 166,
    "start_time": "2022-04-15T10:26:16.045Z"
   },
   {
    "duration": 24,
    "start_time": "2022-04-15T10:26:16.212Z"
   },
   {
    "duration": 171,
    "start_time": "2022-04-15T10:26:16.238Z"
   },
   {
    "duration": 299,
    "start_time": "2022-04-15T10:26:16.410Z"
   },
   {
    "duration": 164,
    "start_time": "2022-04-15T10:26:16.711Z"
   },
   {
    "duration": 157,
    "start_time": "2022-04-15T10:26:16.877Z"
   },
   {
    "duration": 154,
    "start_time": "2022-04-15T10:26:17.036Z"
   },
   {
    "duration": 160,
    "start_time": "2022-04-15T10:26:17.192Z"
   },
   {
    "duration": 169,
    "start_time": "2022-04-15T10:26:17.353Z"
   },
   {
    "duration": 168,
    "start_time": "2022-04-15T10:26:17.524Z"
   },
   {
    "duration": 151,
    "start_time": "2022-04-15T10:26:17.694Z"
   },
   {
    "duration": 161,
    "start_time": "2022-04-15T10:26:17.846Z"
   },
   {
    "duration": 140,
    "start_time": "2022-04-15T10:37:49.245Z"
   },
   {
    "duration": 140,
    "start_time": "2022-04-15T10:37:57.070Z"
   },
   {
    "duration": 651,
    "start_time": "2022-04-15T10:38:49.503Z"
   },
   {
    "duration": 145,
    "start_time": "2022-04-15T10:38:50.156Z"
   },
   {
    "duration": 7,
    "start_time": "2022-04-15T10:38:50.303Z"
   },
   {
    "duration": 30,
    "start_time": "2022-04-15T10:38:50.313Z"
   },
   {
    "duration": 38,
    "start_time": "2022-04-15T10:38:50.344Z"
   },
   {
    "duration": 43,
    "start_time": "2022-04-15T10:38:50.384Z"
   },
   {
    "duration": 4,
    "start_time": "2022-04-15T10:38:50.429Z"
   },
   {
    "duration": 20,
    "start_time": "2022-04-15T10:38:50.435Z"
   },
   {
    "duration": 324,
    "start_time": "2022-04-15T10:38:50.456Z"
   },
   {
    "duration": 24,
    "start_time": "2022-04-15T10:38:50.783Z"
   },
   {
    "duration": 206,
    "start_time": "2022-04-15T10:38:50.808Z"
   },
   {
    "duration": 160,
    "start_time": "2022-04-15T10:38:51.015Z"
   },
   {
    "duration": 245,
    "start_time": "2022-04-15T10:38:51.177Z"
   },
   {
    "duration": 106,
    "start_time": "2022-04-15T10:38:51.424Z"
   },
   {
    "duration": 157,
    "start_time": "2022-04-15T10:38:51.532Z"
   },
   {
    "duration": 103,
    "start_time": "2022-04-15T10:38:51.691Z"
   },
   {
    "duration": 191,
    "start_time": "2022-04-15T10:38:51.796Z"
   },
   {
    "duration": 102,
    "start_time": "2022-04-15T10:38:51.989Z"
   },
   {
    "duration": 191,
    "start_time": "2022-04-15T10:38:52.094Z"
   },
   {
    "duration": 205,
    "start_time": "2022-04-15T10:38:52.287Z"
   },
   {
    "duration": 8,
    "start_time": "2022-04-15T10:38:52.494Z"
   },
   {
    "duration": 6,
    "start_time": "2022-04-15T10:38:52.503Z"
   },
   {
    "duration": 124,
    "start_time": "2022-04-15T10:38:52.510Z"
   },
   {
    "duration": 272,
    "start_time": "2022-04-15T10:38:52.636Z"
   },
   {
    "duration": 204,
    "start_time": "2022-04-15T10:38:52.910Z"
   },
   {
    "duration": 8,
    "start_time": "2022-04-15T10:38:53.115Z"
   },
   {
    "duration": 203,
    "start_time": "2022-04-15T10:38:53.125Z"
   },
   {
    "duration": 172,
    "start_time": "2022-04-15T10:38:53.331Z"
   },
   {
    "duration": 224,
    "start_time": "2022-04-15T10:38:53.505Z"
   },
   {
    "duration": 149,
    "start_time": "2022-04-15T10:38:53.730Z"
   },
   {
    "duration": 150,
    "start_time": "2022-04-15T10:38:53.881Z"
   },
   {
    "duration": 155,
    "start_time": "2022-04-15T10:38:54.032Z"
   },
   {
    "duration": 155,
    "start_time": "2022-04-15T10:38:54.189Z"
   },
   {
    "duration": 29,
    "start_time": "2022-04-15T10:38:54.345Z"
   },
   {
    "duration": 167,
    "start_time": "2022-04-15T10:38:54.375Z"
   },
   {
    "duration": 296,
    "start_time": "2022-04-15T10:38:54.543Z"
   },
   {
    "duration": 156,
    "start_time": "2022-04-15T10:38:54.841Z"
   },
   {
    "duration": 146,
    "start_time": "2022-04-15T10:38:54.998Z"
   },
   {
    "duration": 147,
    "start_time": "2022-04-15T10:38:55.146Z"
   },
   {
    "duration": 151,
    "start_time": "2022-04-15T10:38:55.295Z"
   },
   {
    "duration": 155,
    "start_time": "2022-04-15T10:38:55.448Z"
   },
   {
    "duration": 163,
    "start_time": "2022-04-15T10:38:55.605Z"
   },
   {
    "duration": 154,
    "start_time": "2022-04-15T10:38:55.772Z"
   },
   {
    "duration": 165,
    "start_time": "2022-04-15T10:38:55.928Z"
   },
   {
    "duration": 90,
    "start_time": "2022-04-15T10:44:52.160Z"
   },
   {
    "duration": 98,
    "start_time": "2022-04-15T10:44:57.832Z"
   },
   {
    "duration": 105,
    "start_time": "2022-04-15T10:45:04.176Z"
   },
   {
    "duration": 89,
    "start_time": "2022-04-15T10:45:12.618Z"
   },
   {
    "duration": 176,
    "start_time": "2022-04-15T10:52:28.689Z"
   },
   {
    "duration": 317,
    "start_time": "2022-04-15T10:52:31.956Z"
   },
   {
    "duration": 182,
    "start_time": "2022-04-15T10:53:13.950Z"
   },
   {
    "duration": 119,
    "start_time": "2022-04-15T10:53:32.204Z"
   },
   {
    "duration": 131,
    "start_time": "2022-04-15T10:53:50.995Z"
   },
   {
    "duration": 130,
    "start_time": "2022-04-15T10:54:07.683Z"
   },
   {
    "duration": 661,
    "start_time": "2022-04-15T10:58:14.707Z"
   },
   {
    "duration": 147,
    "start_time": "2022-04-15T10:58:15.371Z"
   },
   {
    "duration": 30,
    "start_time": "2022-04-15T10:58:15.520Z"
   },
   {
    "duration": 35,
    "start_time": "2022-04-15T10:58:15.553Z"
   },
   {
    "duration": 44,
    "start_time": "2022-04-15T10:58:15.589Z"
   },
   {
    "duration": 5,
    "start_time": "2022-04-15T10:58:15.635Z"
   },
   {
    "duration": 36,
    "start_time": "2022-04-15T10:58:15.642Z"
   },
   {
    "duration": 343,
    "start_time": "2022-04-15T10:58:15.680Z"
   },
   {
    "duration": 28,
    "start_time": "2022-04-15T10:58:16.025Z"
   },
   {
    "duration": 224,
    "start_time": "2022-04-15T10:58:16.056Z"
   },
   {
    "duration": 166,
    "start_time": "2022-04-15T10:58:16.281Z"
   },
   {
    "duration": 266,
    "start_time": "2022-04-15T10:58:16.449Z"
   },
   {
    "duration": 115,
    "start_time": "2022-04-15T10:58:16.717Z"
   },
   {
    "duration": 164,
    "start_time": "2022-04-15T10:58:16.834Z"
   },
   {
    "duration": 115,
    "start_time": "2022-04-15T10:58:17.000Z"
   },
   {
    "duration": 189,
    "start_time": "2022-04-15T10:58:17.117Z"
   },
   {
    "duration": 106,
    "start_time": "2022-04-15T10:58:17.308Z"
   },
   {
    "duration": 128,
    "start_time": "2022-04-15T10:58:17.416Z"
   },
   {
    "duration": 202,
    "start_time": "2022-04-15T10:58:17.545Z"
   },
   {
    "duration": 203,
    "start_time": "2022-04-15T10:58:17.749Z"
   },
   {
    "duration": 20,
    "start_time": "2022-04-15T10:58:17.954Z"
   },
   {
    "duration": 6,
    "start_time": "2022-04-15T10:58:17.976Z"
   },
   {
    "duration": 201,
    "start_time": "2022-04-15T10:58:17.983Z"
   },
   {
    "duration": 204,
    "start_time": "2022-04-15T10:58:18.185Z"
   },
   {
    "duration": 201,
    "start_time": "2022-04-15T10:58:18.391Z"
   },
   {
    "duration": 9,
    "start_time": "2022-04-15T10:58:18.594Z"
   },
   {
    "duration": 170,
    "start_time": "2022-04-15T10:58:18.605Z"
   },
   {
    "duration": 189,
    "start_time": "2022-04-15T10:58:18.779Z"
   },
   {
    "duration": 233,
    "start_time": "2022-04-15T10:58:18.973Z"
   },
   {
    "duration": 156,
    "start_time": "2022-04-15T10:58:19.208Z"
   },
   {
    "duration": 146,
    "start_time": "2022-04-15T10:58:19.372Z"
   },
   {
    "duration": 157,
    "start_time": "2022-04-15T10:58:19.519Z"
   },
   {
    "duration": 154,
    "start_time": "2022-04-15T10:58:19.677Z"
   },
   {
    "duration": 24,
    "start_time": "2022-04-15T10:58:19.833Z"
   },
   {
    "duration": 273,
    "start_time": "2022-04-15T10:58:19.859Z"
   },
   {
    "duration": 199,
    "start_time": "2022-04-15T10:58:20.133Z"
   },
   {
    "duration": 152,
    "start_time": "2022-04-15T10:58:20.334Z"
   },
   {
    "duration": 149,
    "start_time": "2022-04-15T10:58:20.488Z"
   },
   {
    "duration": 152,
    "start_time": "2022-04-15T10:58:20.638Z"
   },
   {
    "duration": 170,
    "start_time": "2022-04-15T10:58:20.792Z"
   },
   {
    "duration": 179,
    "start_time": "2022-04-15T10:58:20.963Z"
   },
   {
    "duration": 166,
    "start_time": "2022-04-15T10:58:21.144Z"
   },
   {
    "duration": 147,
    "start_time": "2022-04-15T10:58:21.312Z"
   },
   {
    "duration": 165,
    "start_time": "2022-04-15T10:58:21.461Z"
   },
   {
    "duration": 651,
    "start_time": "2022-04-15T10:58:54.394Z"
   },
   {
    "duration": 145,
    "start_time": "2022-04-15T10:58:55.047Z"
   },
   {
    "duration": 28,
    "start_time": "2022-04-15T10:58:55.193Z"
   },
   {
    "duration": 21,
    "start_time": "2022-04-15T10:58:55.223Z"
   },
   {
    "duration": 66,
    "start_time": "2022-04-15T10:58:55.245Z"
   },
   {
    "duration": 4,
    "start_time": "2022-04-15T10:58:55.313Z"
   },
   {
    "duration": 15,
    "start_time": "2022-04-15T10:58:55.318Z"
   },
   {
    "duration": 323,
    "start_time": "2022-04-15T10:58:55.335Z"
   },
   {
    "duration": 31,
    "start_time": "2022-04-15T10:58:55.660Z"
   },
   {
    "duration": 195,
    "start_time": "2022-04-15T10:58:55.694Z"
   },
   {
    "duration": 158,
    "start_time": "2022-04-15T10:58:55.890Z"
   },
   {
    "duration": 247,
    "start_time": "2022-04-15T10:58:56.050Z"
   },
   {
    "duration": 150,
    "start_time": "2022-04-15T10:58:56.299Z"
   },
   {
    "duration": 144,
    "start_time": "2022-04-15T10:58:56.450Z"
   },
   {
    "duration": 106,
    "start_time": "2022-04-15T10:58:56.596Z"
   },
   {
    "duration": 183,
    "start_time": "2022-04-15T10:58:56.704Z"
   },
   {
    "duration": 98,
    "start_time": "2022-04-15T10:58:56.889Z"
   },
   {
    "duration": 102,
    "start_time": "2022-04-15T10:58:56.990Z"
   },
   {
    "duration": 190,
    "start_time": "2022-04-15T10:58:57.094Z"
   },
   {
    "duration": 202,
    "start_time": "2022-04-15T10:58:57.286Z"
   },
   {
    "duration": 10,
    "start_time": "2022-04-15T10:58:57.490Z"
   },
   {
    "duration": 7,
    "start_time": "2022-04-15T10:58:57.501Z"
   },
   {
    "duration": 205,
    "start_time": "2022-04-15T10:58:57.509Z"
   },
   {
    "duration": 192,
    "start_time": "2022-04-15T10:58:57.716Z"
   },
   {
    "duration": 191,
    "start_time": "2022-04-15T10:58:57.910Z"
   },
   {
    "duration": 10,
    "start_time": "2022-04-15T10:58:58.103Z"
   },
   {
    "duration": 158,
    "start_time": "2022-04-15T10:58:58.115Z"
   },
   {
    "duration": 174,
    "start_time": "2022-04-15T10:58:58.278Z"
   },
   {
    "duration": 224,
    "start_time": "2022-04-15T10:58:58.454Z"
   },
   {
    "duration": 143,
    "start_time": "2022-04-15T10:58:58.680Z"
   },
   {
    "duration": 144,
    "start_time": "2022-04-15T10:58:58.825Z"
   },
   {
    "duration": 145,
    "start_time": "2022-04-15T10:58:58.974Z"
   },
   {
    "duration": 140,
    "start_time": "2022-04-15T10:58:59.121Z"
   },
   {
    "duration": 28,
    "start_time": "2022-04-15T10:58:59.263Z"
   },
   {
    "duration": 253,
    "start_time": "2022-04-15T10:58:59.293Z"
   },
   {
    "duration": 195,
    "start_time": "2022-04-15T10:58:59.548Z"
   },
   {
    "duration": 154,
    "start_time": "2022-04-15T10:58:59.745Z"
   },
   {
    "duration": 153,
    "start_time": "2022-04-15T10:58:59.901Z"
   },
   {
    "duration": 153,
    "start_time": "2022-04-15T10:59:00.056Z"
   },
   {
    "duration": 164,
    "start_time": "2022-04-15T10:59:00.211Z"
   },
   {
    "duration": 160,
    "start_time": "2022-04-15T10:59:00.377Z"
   },
   {
    "duration": 159,
    "start_time": "2022-04-15T10:59:00.540Z"
   },
   {
    "duration": 154,
    "start_time": "2022-04-15T10:59:00.701Z"
   },
   {
    "duration": 168,
    "start_time": "2022-04-15T10:59:00.857Z"
   },
   {
    "duration": 82,
    "start_time": "2022-04-15T10:59:33.476Z"
   },
   {
    "duration": 171,
    "start_time": "2022-04-15T11:00:42.078Z"
   },
   {
    "duration": 165,
    "start_time": "2022-04-15T11:01:03.380Z"
   },
   {
    "duration": 160,
    "start_time": "2022-04-15T11:01:17.545Z"
   },
   {
    "duration": 162,
    "start_time": "2022-04-15T11:01:26.315Z"
   },
   {
    "duration": 287,
    "start_time": "2022-04-15T11:01:32.132Z"
   },
   {
    "duration": 115,
    "start_time": "2022-04-15T11:02:03.395Z"
   },
   {
    "duration": 159,
    "start_time": "2022-04-15T11:02:09.277Z"
   },
   {
    "duration": 122,
    "start_time": "2022-04-15T11:06:56.574Z"
   },
   {
    "duration": 118,
    "start_time": "2022-04-15T11:07:06.142Z"
   },
   {
    "duration": 161,
    "start_time": "2022-04-15T11:07:34.049Z"
   },
   {
    "duration": 228,
    "start_time": "2022-04-15T11:07:48.669Z"
   },
   {
    "duration": 225,
    "start_time": "2022-04-15T11:07:54.310Z"
   },
   {
    "duration": 230,
    "start_time": "2022-04-15T11:07:59.693Z"
   },
   {
    "duration": 221,
    "start_time": "2022-04-15T11:08:12.909Z"
   },
   {
    "duration": 204,
    "start_time": "2022-04-15T11:08:29.471Z"
   },
   {
    "duration": 202,
    "start_time": "2022-04-15T11:08:37.206Z"
   },
   {
    "duration": 196,
    "start_time": "2022-04-15T11:08:47.247Z"
   },
   {
    "duration": 195,
    "start_time": "2022-04-15T11:08:54.615Z"
   },
   {
    "duration": 206,
    "start_time": "2022-04-15T11:08:59.678Z"
   },
   {
    "duration": 9,
    "start_time": "2022-04-15T11:09:34.423Z"
   },
   {
    "duration": 208,
    "start_time": "2022-04-15T11:09:40.357Z"
   },
   {
    "duration": 1776,
    "start_time": "2022-04-15T11:10:05.196Z"
   },
   {
    "duration": 267,
    "start_time": "2022-04-15T11:10:54.232Z"
   },
   {
    "duration": 130,
    "start_time": "2022-04-15T11:11:17.007Z"
   },
   {
    "duration": 143,
    "start_time": "2022-04-15T11:11:38.307Z"
   },
   {
    "duration": 206,
    "start_time": "2022-04-15T11:12:15.463Z"
   },
   {
    "duration": 136,
    "start_time": "2022-04-15T11:13:02.642Z"
   },
   {
    "duration": 151,
    "start_time": "2022-04-15T11:13:23.280Z"
   },
   {
    "duration": 132,
    "start_time": "2022-04-15T11:14:29.421Z"
   },
   {
    "duration": 121,
    "start_time": "2022-04-15T11:15:18.904Z"
   },
   {
    "duration": 143,
    "start_time": "2022-04-15T11:15:27.742Z"
   },
   {
    "duration": 1901,
    "start_time": "2022-04-15T11:16:18.432Z"
   },
   {
    "duration": 156,
    "start_time": "2022-04-15T11:16:52.417Z"
   },
   {
    "duration": 161,
    "start_time": "2022-04-15T11:17:09.928Z"
   },
   {
    "duration": 164,
    "start_time": "2022-04-15T11:17:22.706Z"
   },
   {
    "duration": 154,
    "start_time": "2022-04-15T11:17:28.144Z"
   },
   {
    "duration": 175,
    "start_time": "2022-04-15T11:18:14.768Z"
   },
   {
    "duration": 162,
    "start_time": "2022-04-15T11:18:19.543Z"
   },
   {
    "duration": 160,
    "start_time": "2022-04-15T11:19:35.712Z"
   },
   {
    "duration": 175,
    "start_time": "2022-04-15T11:19:55.497Z"
   },
   {
    "duration": 165,
    "start_time": "2022-04-15T11:20:29.665Z"
   },
   {
    "duration": 134,
    "start_time": "2022-04-15T11:22:09.720Z"
   },
   {
    "duration": 8,
    "start_time": "2022-04-15T11:24:57.730Z"
   },
   {
    "duration": 132,
    "start_time": "2022-04-15T11:27:51.900Z"
   },
   {
    "duration": 157,
    "start_time": "2022-04-15T11:33:12.436Z"
   },
   {
    "duration": 157,
    "start_time": "2022-04-15T11:34:16.413Z"
   },
   {
    "duration": 201,
    "start_time": "2022-04-15T11:37:44.748Z"
   },
   {
    "duration": 244,
    "start_time": "2022-04-15T13:19:51.706Z"
   },
   {
    "duration": 373,
    "start_time": "2022-04-15T13:20:37.354Z"
   },
   {
    "duration": 110,
    "start_time": "2022-04-15T13:20:42.673Z"
   },
   {
    "duration": 21,
    "start_time": "2022-04-15T13:21:14.786Z"
   },
   {
    "duration": 20,
    "start_time": "2022-04-15T13:22:03.123Z"
   },
   {
    "duration": 4,
    "start_time": "2022-04-15T13:27:40.251Z"
   },
   {
    "duration": 28,
    "start_time": "2022-04-15T13:28:36.332Z"
   },
   {
    "duration": 29,
    "start_time": "2022-04-15T13:28:56.963Z"
   },
   {
    "duration": 30,
    "start_time": "2022-04-15T13:29:18.003Z"
   },
   {
    "duration": 9,
    "start_time": "2022-04-15T13:29:42.042Z"
   },
   {
    "duration": 16,
    "start_time": "2022-04-15T13:29:50.757Z"
   },
   {
    "duration": 20,
    "start_time": "2022-04-15T13:30:10.601Z"
   },
   {
    "duration": 17,
    "start_time": "2022-04-15T13:31:07.709Z"
   },
   {
    "duration": 29,
    "start_time": "2022-04-15T13:34:56.918Z"
   },
   {
    "duration": 709,
    "start_time": "2022-04-15T13:35:09.154Z"
   },
   {
    "duration": 147,
    "start_time": "2022-04-15T13:35:09.865Z"
   },
   {
    "duration": 28,
    "start_time": "2022-04-15T13:35:10.014Z"
   },
   {
    "duration": 32,
    "start_time": "2022-04-15T13:35:10.044Z"
   },
   {
    "duration": 45,
    "start_time": "2022-04-15T13:35:10.077Z"
   },
   {
    "duration": 4,
    "start_time": "2022-04-15T13:35:10.124Z"
   },
   {
    "duration": 16,
    "start_time": "2022-04-15T13:35:10.130Z"
   },
   {
    "duration": 341,
    "start_time": "2022-04-15T13:35:10.147Z"
   },
   {
    "duration": 24,
    "start_time": "2022-04-15T13:35:10.490Z"
   },
   {
    "duration": 203,
    "start_time": "2022-04-15T13:35:10.517Z"
   },
   {
    "duration": 159,
    "start_time": "2022-04-15T13:35:10.722Z"
   },
   {
    "duration": 255,
    "start_time": "2022-04-15T13:35:10.883Z"
   },
   {
    "duration": 103,
    "start_time": "2022-04-15T13:35:11.140Z"
   },
   {
    "duration": 159,
    "start_time": "2022-04-15T13:35:11.245Z"
   },
   {
    "duration": 109,
    "start_time": "2022-04-15T13:35:11.406Z"
   },
   {
    "duration": 179,
    "start_time": "2022-04-15T13:35:11.517Z"
   },
   {
    "duration": 99,
    "start_time": "2022-04-15T13:35:11.697Z"
   },
   {
    "duration": 96,
    "start_time": "2022-04-15T13:35:11.798Z"
   },
   {
    "duration": 186,
    "start_time": "2022-04-15T13:35:11.895Z"
   },
   {
    "duration": 200,
    "start_time": "2022-04-15T13:35:12.082Z"
   },
   {
    "duration": 9,
    "start_time": "2022-04-15T13:35:12.284Z"
   },
   {
    "duration": 5,
    "start_time": "2022-04-15T13:35:12.295Z"
   },
   {
    "duration": 21,
    "start_time": "2022-04-15T13:35:12.301Z"
   },
   {
    "duration": 201,
    "start_time": "2022-04-15T13:35:12.324Z"
   },
   {
    "duration": 0,
    "start_time": "2022-04-15T13:35:12.527Z"
   },
   {
    "duration": 0,
    "start_time": "2022-04-15T13:35:12.528Z"
   },
   {
    "duration": 0,
    "start_time": "2022-04-15T13:35:12.529Z"
   },
   {
    "duration": 0,
    "start_time": "2022-04-15T13:35:12.530Z"
   },
   {
    "duration": 0,
    "start_time": "2022-04-15T13:35:12.531Z"
   },
   {
    "duration": 0,
    "start_time": "2022-04-15T13:35:12.532Z"
   },
   {
    "duration": 0,
    "start_time": "2022-04-15T13:35:12.533Z"
   },
   {
    "duration": 0,
    "start_time": "2022-04-15T13:35:12.534Z"
   },
   {
    "duration": 0,
    "start_time": "2022-04-15T13:35:12.535Z"
   },
   {
    "duration": 0,
    "start_time": "2022-04-15T13:35:12.536Z"
   },
   {
    "duration": 0,
    "start_time": "2022-04-15T13:35:12.537Z"
   },
   {
    "duration": 0,
    "start_time": "2022-04-15T13:35:12.538Z"
   },
   {
    "duration": 0,
    "start_time": "2022-04-15T13:35:12.539Z"
   },
   {
    "duration": 0,
    "start_time": "2022-04-15T13:35:12.540Z"
   },
   {
    "duration": 0,
    "start_time": "2022-04-15T13:35:12.541Z"
   },
   {
    "duration": 0,
    "start_time": "2022-04-15T13:35:12.542Z"
   },
   {
    "duration": 0,
    "start_time": "2022-04-15T13:35:12.543Z"
   },
   {
    "duration": 0,
    "start_time": "2022-04-15T13:35:12.544Z"
   },
   {
    "duration": 0,
    "start_time": "2022-04-15T13:35:12.573Z"
   },
   {
    "duration": 0,
    "start_time": "2022-04-15T13:35:12.574Z"
   },
   {
    "duration": 0,
    "start_time": "2022-04-15T13:35:12.576Z"
   },
   {
    "duration": 104,
    "start_time": "2022-04-15T13:35:32.824Z"
   },
   {
    "duration": 104,
    "start_time": "2022-04-15T13:35:48.439Z"
   },
   {
    "duration": 186,
    "start_time": "2022-04-15T13:36:05.065Z"
   },
   {
    "duration": 183,
    "start_time": "2022-04-15T13:36:05.583Z"
   },
   {
    "duration": 10,
    "start_time": "2022-04-15T13:36:06.111Z"
   },
   {
    "duration": 20,
    "start_time": "2022-04-15T13:37:05.112Z"
   },
   {
    "duration": 19,
    "start_time": "2022-04-15T13:37:49.133Z"
   },
   {
    "duration": 103,
    "start_time": "2022-04-15T13:38:32.458Z"
   },
   {
    "duration": 57,
    "start_time": "2022-04-15T13:39:16.120Z"
   },
   {
    "duration": 660,
    "start_time": "2022-04-15T13:39:31.983Z"
   },
   {
    "duration": 159,
    "start_time": "2022-04-15T13:39:32.645Z"
   },
   {
    "duration": 29,
    "start_time": "2022-04-15T13:39:32.805Z"
   },
   {
    "duration": 39,
    "start_time": "2022-04-15T13:39:32.837Z"
   },
   {
    "duration": 44,
    "start_time": "2022-04-15T13:39:32.878Z"
   },
   {
    "duration": 5,
    "start_time": "2022-04-15T13:39:32.924Z"
   },
   {
    "duration": 15,
    "start_time": "2022-04-15T13:39:32.931Z"
   },
   {
    "duration": 330,
    "start_time": "2022-04-15T13:39:32.947Z"
   },
   {
    "duration": 26,
    "start_time": "2022-04-15T13:39:33.278Z"
   },
   {
    "duration": 204,
    "start_time": "2022-04-15T13:39:33.307Z"
   },
   {
    "duration": 162,
    "start_time": "2022-04-15T13:39:33.513Z"
   },
   {
    "duration": 238,
    "start_time": "2022-04-15T13:39:33.677Z"
   },
   {
    "duration": 110,
    "start_time": "2022-04-15T13:39:33.917Z"
   },
   {
    "duration": 160,
    "start_time": "2022-04-15T13:39:34.029Z"
   },
   {
    "duration": 105,
    "start_time": "2022-04-15T13:39:34.191Z"
   },
   {
    "duration": 184,
    "start_time": "2022-04-15T13:39:34.298Z"
   },
   {
    "duration": 99,
    "start_time": "2022-04-15T13:39:34.484Z"
   },
   {
    "duration": 101,
    "start_time": "2022-04-15T13:39:34.586Z"
   },
   {
    "duration": 192,
    "start_time": "2022-04-15T13:39:34.689Z"
   },
   {
    "duration": 204,
    "start_time": "2022-04-15T13:39:34.883Z"
   },
   {
    "duration": 9,
    "start_time": "2022-04-15T13:39:35.089Z"
   },
   {
    "duration": 7,
    "start_time": "2022-04-15T13:39:35.100Z"
   },
   {
    "duration": 21,
    "start_time": "2022-04-15T13:39:35.109Z"
   },
   {
    "duration": 187,
    "start_time": "2022-04-15T13:39:35.132Z"
   },
   {
    "duration": 0,
    "start_time": "2022-04-15T13:39:35.322Z"
   },
   {
    "duration": 0,
    "start_time": "2022-04-15T13:39:35.324Z"
   },
   {
    "duration": 0,
    "start_time": "2022-04-15T13:39:35.325Z"
   },
   {
    "duration": 0,
    "start_time": "2022-04-15T13:39:35.327Z"
   },
   {
    "duration": 0,
    "start_time": "2022-04-15T13:39:35.328Z"
   },
   {
    "duration": 0,
    "start_time": "2022-04-15T13:39:35.329Z"
   },
   {
    "duration": 0,
    "start_time": "2022-04-15T13:39:35.330Z"
   },
   {
    "duration": 0,
    "start_time": "2022-04-15T13:39:35.331Z"
   },
   {
    "duration": 0,
    "start_time": "2022-04-15T13:39:35.332Z"
   },
   {
    "duration": 1,
    "start_time": "2022-04-15T13:39:35.332Z"
   },
   {
    "duration": 0,
    "start_time": "2022-04-15T13:39:35.334Z"
   },
   {
    "duration": 0,
    "start_time": "2022-04-15T13:39:35.335Z"
   },
   {
    "duration": 0,
    "start_time": "2022-04-15T13:39:35.336Z"
   },
   {
    "duration": 0,
    "start_time": "2022-04-15T13:39:35.337Z"
   },
   {
    "duration": 0,
    "start_time": "2022-04-15T13:39:35.338Z"
   },
   {
    "duration": 0,
    "start_time": "2022-04-15T13:39:35.339Z"
   },
   {
    "duration": 0,
    "start_time": "2022-04-15T13:39:35.340Z"
   },
   {
    "duration": 0,
    "start_time": "2022-04-15T13:39:35.340Z"
   },
   {
    "duration": 0,
    "start_time": "2022-04-15T13:39:35.341Z"
   },
   {
    "duration": 0,
    "start_time": "2022-04-15T13:39:35.342Z"
   },
   {
    "duration": 0,
    "start_time": "2022-04-15T13:39:35.343Z"
   },
   {
    "duration": 66,
    "start_time": "2022-04-15T13:39:49.267Z"
   },
   {
    "duration": 59,
    "start_time": "2022-04-15T13:40:10.343Z"
   },
   {
    "duration": 113,
    "start_time": "2022-04-15T13:40:21.653Z"
   },
   {
    "duration": 655,
    "start_time": "2022-04-15T13:40:28.391Z"
   },
   {
    "duration": 145,
    "start_time": "2022-04-15T13:40:29.048Z"
   },
   {
    "duration": 27,
    "start_time": "2022-04-15T13:40:29.195Z"
   },
   {
    "duration": 21,
    "start_time": "2022-04-15T13:40:29.224Z"
   },
   {
    "duration": 60,
    "start_time": "2022-04-15T13:40:29.246Z"
   },
   {
    "duration": 5,
    "start_time": "2022-04-15T13:40:29.307Z"
   },
   {
    "duration": 14,
    "start_time": "2022-04-15T13:40:29.313Z"
   },
   {
    "duration": 319,
    "start_time": "2022-04-15T13:40:29.329Z"
   },
   {
    "duration": 30,
    "start_time": "2022-04-15T13:40:29.650Z"
   },
   {
    "duration": 205,
    "start_time": "2022-04-15T13:40:29.683Z"
   },
   {
    "duration": 154,
    "start_time": "2022-04-15T13:40:29.890Z"
   },
   {
    "duration": 260,
    "start_time": "2022-04-15T13:40:30.046Z"
   },
   {
    "duration": 113,
    "start_time": "2022-04-15T13:40:30.308Z"
   },
   {
    "duration": 154,
    "start_time": "2022-04-15T13:40:30.422Z"
   },
   {
    "duration": 108,
    "start_time": "2022-04-15T13:40:30.578Z"
   },
   {
    "duration": 191,
    "start_time": "2022-04-15T13:40:30.687Z"
   },
   {
    "duration": 102,
    "start_time": "2022-04-15T13:40:30.880Z"
   },
   {
    "duration": 104,
    "start_time": "2022-04-15T13:40:30.984Z"
   },
   {
    "duration": 196,
    "start_time": "2022-04-15T13:40:31.090Z"
   },
   {
    "duration": 211,
    "start_time": "2022-04-15T13:40:31.288Z"
   },
   {
    "duration": 9,
    "start_time": "2022-04-15T13:40:31.501Z"
   },
   {
    "duration": 14,
    "start_time": "2022-04-15T13:40:31.511Z"
   },
   {
    "duration": 221,
    "start_time": "2022-04-15T13:40:31.527Z"
   },
   {
    "duration": 208,
    "start_time": "2022-04-15T13:40:31.750Z"
   },
   {
    "duration": 197,
    "start_time": "2022-04-15T13:40:31.959Z"
   },
   {
    "duration": 18,
    "start_time": "2022-04-15T13:40:32.157Z"
   },
   {
    "duration": 156,
    "start_time": "2022-04-15T13:40:32.177Z"
   },
   {
    "duration": 176,
    "start_time": "2022-04-15T13:40:32.336Z"
   },
   {
    "duration": 243,
    "start_time": "2022-04-15T13:40:32.513Z"
   },
   {
    "duration": 169,
    "start_time": "2022-04-15T13:40:32.758Z"
   },
   {
    "duration": 155,
    "start_time": "2022-04-15T13:40:32.929Z"
   },
   {
    "duration": 153,
    "start_time": "2022-04-15T13:40:33.085Z"
   },
   {
    "duration": 251,
    "start_time": "2022-04-15T13:40:33.239Z"
   },
   {
    "duration": 25,
    "start_time": "2022-04-15T13:40:33.491Z"
   },
   {
    "duration": 178,
    "start_time": "2022-04-15T13:40:33.517Z"
   },
   {
    "duration": 208,
    "start_time": "2022-04-15T13:40:33.697Z"
   },
   {
    "duration": 174,
    "start_time": "2022-04-15T13:40:33.907Z"
   },
   {
    "duration": 160,
    "start_time": "2022-04-15T13:40:34.083Z"
   },
   {
    "duration": 154,
    "start_time": "2022-04-15T13:40:34.244Z"
   },
   {
    "duration": 163,
    "start_time": "2022-04-15T13:40:34.400Z"
   },
   {
    "duration": 161,
    "start_time": "2022-04-15T13:40:34.565Z"
   },
   {
    "duration": 171,
    "start_time": "2022-04-15T13:40:34.728Z"
   },
   {
    "duration": 163,
    "start_time": "2022-04-15T13:40:34.901Z"
   },
   {
    "duration": 184,
    "start_time": "2022-04-15T13:40:35.066Z"
   },
   {
    "duration": 19,
    "start_time": "2022-04-15T13:47:13.174Z"
   },
   {
    "duration": 424,
    "start_time": "2022-04-15T13:49:37.103Z"
   },
   {
    "duration": 336,
    "start_time": "2022-04-15T13:50:37.890Z"
   },
   {
    "duration": 121,
    "start_time": "2022-04-15T13:50:56.145Z"
   },
   {
    "duration": 118,
    "start_time": "2022-04-15T13:51:19.949Z"
   },
   {
    "duration": 114,
    "start_time": "2022-04-15T13:52:24.463Z"
   },
   {
    "duration": 111,
    "start_time": "2022-04-15T13:52:47.059Z"
   },
   {
    "duration": 651,
    "start_time": "2022-04-15T13:52:54.975Z"
   },
   {
    "duration": 149,
    "start_time": "2022-04-15T13:52:55.628Z"
   },
   {
    "duration": 29,
    "start_time": "2022-04-15T13:52:55.781Z"
   },
   {
    "duration": 23,
    "start_time": "2022-04-15T13:52:55.811Z"
   },
   {
    "duration": 70,
    "start_time": "2022-04-15T13:52:55.835Z"
   },
   {
    "duration": 4,
    "start_time": "2022-04-15T13:52:55.907Z"
   },
   {
    "duration": 16,
    "start_time": "2022-04-15T13:52:55.913Z"
   },
   {
    "duration": 311,
    "start_time": "2022-04-15T13:52:55.931Z"
   },
   {
    "duration": 29,
    "start_time": "2022-04-15T13:52:56.245Z"
   },
   {
    "duration": 193,
    "start_time": "2022-04-15T13:52:56.275Z"
   },
   {
    "duration": 154,
    "start_time": "2022-04-15T13:52:56.470Z"
   },
   {
    "duration": 243,
    "start_time": "2022-04-15T13:52:56.627Z"
   },
   {
    "duration": 108,
    "start_time": "2022-04-15T13:52:56.873Z"
   },
   {
    "duration": 154,
    "start_time": "2022-04-15T13:52:56.983Z"
   },
   {
    "duration": 105,
    "start_time": "2022-04-15T13:52:57.139Z"
   },
   {
    "duration": 175,
    "start_time": "2022-04-15T13:52:57.246Z"
   },
   {
    "duration": 101,
    "start_time": "2022-04-15T13:52:57.423Z"
   },
   {
    "duration": 97,
    "start_time": "2022-04-15T13:52:57.526Z"
   },
   {
    "duration": 190,
    "start_time": "2022-04-15T13:52:57.625Z"
   },
   {
    "duration": 196,
    "start_time": "2022-04-15T13:52:57.817Z"
   },
   {
    "duration": 8,
    "start_time": "2022-04-15T13:52:58.015Z"
   },
   {
    "duration": 5,
    "start_time": "2022-04-15T13:52:58.025Z"
   },
   {
    "duration": 119,
    "start_time": "2022-04-15T13:52:58.032Z"
   },
   {
    "duration": 102,
    "start_time": "2022-04-15T13:52:58.153Z"
   },
   {
    "duration": 0,
    "start_time": "2022-04-15T13:52:58.257Z"
   },
   {
    "duration": 0,
    "start_time": "2022-04-15T13:52:58.259Z"
   },
   {
    "duration": 0,
    "start_time": "2022-04-15T13:52:58.260Z"
   },
   {
    "duration": 0,
    "start_time": "2022-04-15T13:52:58.261Z"
   },
   {
    "duration": 0,
    "start_time": "2022-04-15T13:52:58.261Z"
   },
   {
    "duration": 0,
    "start_time": "2022-04-15T13:52:58.262Z"
   },
   {
    "duration": 0,
    "start_time": "2022-04-15T13:52:58.263Z"
   },
   {
    "duration": 0,
    "start_time": "2022-04-15T13:52:58.264Z"
   },
   {
    "duration": 0,
    "start_time": "2022-04-15T13:52:58.265Z"
   },
   {
    "duration": 0,
    "start_time": "2022-04-15T13:52:58.266Z"
   },
   {
    "duration": 0,
    "start_time": "2022-04-15T13:52:58.267Z"
   },
   {
    "duration": 0,
    "start_time": "2022-04-15T13:52:58.268Z"
   },
   {
    "duration": 0,
    "start_time": "2022-04-15T13:52:58.269Z"
   },
   {
    "duration": 0,
    "start_time": "2022-04-15T13:52:58.270Z"
   },
   {
    "duration": 0,
    "start_time": "2022-04-15T13:52:58.270Z"
   },
   {
    "duration": 0,
    "start_time": "2022-04-15T13:52:58.271Z"
   },
   {
    "duration": 0,
    "start_time": "2022-04-15T13:52:58.272Z"
   },
   {
    "duration": 0,
    "start_time": "2022-04-15T13:52:58.273Z"
   },
   {
    "duration": 0,
    "start_time": "2022-04-15T13:52:58.274Z"
   },
   {
    "duration": 0,
    "start_time": "2022-04-15T13:52:58.275Z"
   },
   {
    "duration": 0,
    "start_time": "2022-04-15T13:52:58.275Z"
   },
   {
    "duration": 112,
    "start_time": "2022-04-15T13:53:56.653Z"
   },
   {
    "duration": 21,
    "start_time": "2022-04-15T13:54:06.477Z"
   },
   {
    "duration": 136,
    "start_time": "2022-04-15T13:54:25.828Z"
   },
   {
    "duration": 45,
    "start_time": "2022-04-15T13:54:40.205Z"
   },
   {
    "duration": 17,
    "start_time": "2022-04-15T13:54:51.253Z"
   },
   {
    "duration": 123,
    "start_time": "2022-04-15T13:54:53.533Z"
   },
   {
    "duration": 110,
    "start_time": "2022-04-15T13:55:08.987Z"
   },
   {
    "duration": 15,
    "start_time": "2022-04-15T13:55:37.958Z"
   },
   {
    "duration": 147,
    "start_time": "2022-04-15T13:56:13.623Z"
   },
   {
    "duration": 15,
    "start_time": "2022-04-15T13:56:51.919Z"
   },
   {
    "duration": 127,
    "start_time": "2022-04-15T13:57:03.011Z"
   },
   {
    "duration": 134,
    "start_time": "2022-04-15T13:57:20.940Z"
   },
   {
    "duration": 122,
    "start_time": "2022-04-15T13:57:33.884Z"
   },
   {
    "duration": 119,
    "start_time": "2022-04-15T14:00:34.253Z"
   },
   {
    "duration": 321,
    "start_time": "2022-04-15T14:01:09.022Z"
   },
   {
    "duration": 336,
    "start_time": "2022-04-15T14:01:25.989Z"
   },
   {
    "duration": 420,
    "start_time": "2022-04-15T14:01:33.231Z"
   },
   {
    "duration": 689,
    "start_time": "2022-04-15T14:03:07.539Z"
   },
   {
    "duration": 160,
    "start_time": "2022-04-15T14:03:08.229Z"
   },
   {
    "duration": 26,
    "start_time": "2022-04-15T14:03:08.391Z"
   },
   {
    "duration": 20,
    "start_time": "2022-04-15T14:03:08.419Z"
   },
   {
    "duration": 59,
    "start_time": "2022-04-15T14:03:08.441Z"
   },
   {
    "duration": 5,
    "start_time": "2022-04-15T14:03:08.501Z"
   },
   {
    "duration": 13,
    "start_time": "2022-04-15T14:03:08.508Z"
   },
   {
    "duration": 315,
    "start_time": "2022-04-15T14:03:08.523Z"
   },
   {
    "duration": 24,
    "start_time": "2022-04-15T14:03:08.840Z"
   },
   {
    "duration": 194,
    "start_time": "2022-04-15T14:03:08.874Z"
   },
   {
    "duration": 152,
    "start_time": "2022-04-15T14:03:09.072Z"
   },
   {
    "duration": 238,
    "start_time": "2022-04-15T14:03:09.225Z"
   },
   {
    "duration": 106,
    "start_time": "2022-04-15T14:03:09.472Z"
   },
   {
    "duration": 151,
    "start_time": "2022-04-15T14:03:09.580Z"
   },
   {
    "duration": 109,
    "start_time": "2022-04-15T14:03:09.733Z"
   },
   {
    "duration": 183,
    "start_time": "2022-04-15T14:03:09.843Z"
   },
   {
    "duration": 102,
    "start_time": "2022-04-15T14:03:10.028Z"
   },
   {
    "duration": 101,
    "start_time": "2022-04-15T14:03:10.132Z"
   },
   {
    "duration": 199,
    "start_time": "2022-04-15T14:03:10.235Z"
   },
   {
    "duration": 212,
    "start_time": "2022-04-15T14:03:10.436Z"
   },
   {
    "duration": 8,
    "start_time": "2022-04-15T14:03:10.650Z"
   },
   {
    "duration": 17,
    "start_time": "2022-04-15T14:03:10.660Z"
   },
   {
    "duration": 116,
    "start_time": "2022-04-15T14:03:10.678Z"
   },
   {
    "duration": 183,
    "start_time": "2022-04-15T14:03:10.797Z"
   },
   {
    "duration": 210,
    "start_time": "2022-04-15T14:03:10.982Z"
   },
   {
    "duration": 9,
    "start_time": "2022-04-15T14:03:11.194Z"
   },
   {
    "duration": 158,
    "start_time": "2022-04-15T14:03:11.204Z"
   },
   {
    "duration": 176,
    "start_time": "2022-04-15T14:03:11.372Z"
   },
   {
    "duration": 226,
    "start_time": "2022-04-15T14:03:11.549Z"
   },
   {
    "duration": 156,
    "start_time": "2022-04-15T14:03:11.777Z"
   },
   {
    "duration": 153,
    "start_time": "2022-04-15T14:03:11.935Z"
   },
   {
    "duration": 149,
    "start_time": "2022-04-15T14:03:12.090Z"
   },
   {
    "duration": 154,
    "start_time": "2022-04-15T14:03:12.241Z"
   },
   {
    "duration": 24,
    "start_time": "2022-04-15T14:03:12.397Z"
   },
   {
    "duration": 170,
    "start_time": "2022-04-15T14:03:12.422Z"
   },
   {
    "duration": 297,
    "start_time": "2022-04-15T14:03:12.594Z"
   },
   {
    "duration": 157,
    "start_time": "2022-04-15T14:03:12.893Z"
   },
   {
    "duration": 159,
    "start_time": "2022-04-15T14:03:13.051Z"
   },
   {
    "duration": 161,
    "start_time": "2022-04-15T14:03:13.212Z"
   },
   {
    "duration": 165,
    "start_time": "2022-04-15T14:03:13.375Z"
   },
   {
    "duration": 170,
    "start_time": "2022-04-15T14:03:13.542Z"
   },
   {
    "duration": 172,
    "start_time": "2022-04-15T14:03:13.714Z"
   },
   {
    "duration": 156,
    "start_time": "2022-04-15T14:03:13.888Z"
   },
   {
    "duration": 172,
    "start_time": "2022-04-15T14:03:14.046Z"
   },
   {
    "duration": 103,
    "start_time": "2022-04-15T14:09:21.237Z"
   },
   {
    "duration": 180,
    "start_time": "2022-04-15T14:09:23.918Z"
   },
   {
    "duration": 83,
    "start_time": "2022-04-15T14:09:51.839Z"
   },
   {
    "duration": 82,
    "start_time": "2022-04-15T14:10:08.462Z"
   },
   {
    "duration": 202,
    "start_time": "2022-04-15T14:10:26.414Z"
   },
   {
    "duration": 90,
    "start_time": "2022-04-15T14:11:04.913Z"
   },
   {
    "duration": 90,
    "start_time": "2022-04-15T14:11:23.353Z"
   },
   {
    "duration": 86,
    "start_time": "2022-04-15T14:11:31.678Z"
   },
   {
    "duration": 101,
    "start_time": "2022-04-15T14:11:45.237Z"
   },
   {
    "duration": 100,
    "start_time": "2022-04-15T14:12:19.102Z"
   },
   {
    "duration": 106,
    "start_time": "2022-04-15T14:12:24.781Z"
   },
   {
    "duration": 99,
    "start_time": "2022-04-15T14:12:34.366Z"
   },
   {
    "duration": 174,
    "start_time": "2022-04-15T14:13:11.112Z"
   },
   {
    "duration": 197,
    "start_time": "2022-04-15T14:13:18.598Z"
   },
   {
    "duration": 190,
    "start_time": "2022-04-15T14:14:15.230Z"
   },
   {
    "duration": 90,
    "start_time": "2022-04-15T14:14:23.152Z"
   },
   {
    "duration": 194,
    "start_time": "2022-04-15T14:14:24.411Z"
   },
   {
    "duration": 170,
    "start_time": "2022-04-15T14:15:14.006Z"
   },
   {
    "duration": 181,
    "start_time": "2022-04-15T14:15:23.256Z"
   },
   {
    "duration": 85,
    "start_time": "2022-04-15T14:20:32.945Z"
   },
   {
    "duration": 23,
    "start_time": "2022-04-15T14:20:40.656Z"
   },
   {
    "duration": 15,
    "start_time": "2022-04-15T14:21:02.346Z"
   },
   {
    "duration": 305,
    "start_time": "2022-04-15T14:21:51.895Z"
   },
   {
    "duration": 170,
    "start_time": "2022-04-15T14:21:59.328Z"
   },
   {
    "duration": 142,
    "start_time": "2022-04-15T14:23:03.320Z"
   },
   {
    "duration": 130,
    "start_time": "2022-04-15T14:23:22.898Z"
   },
   {
    "duration": 154,
    "start_time": "2022-04-15T14:23:27.328Z"
   },
   {
    "duration": 128,
    "start_time": "2022-04-15T14:23:33.331Z"
   },
   {
    "duration": 674,
    "start_time": "2022-04-15T14:23:52.635Z"
   },
   {
    "duration": 148,
    "start_time": "2022-04-15T14:23:53.311Z"
   },
   {
    "duration": 30,
    "start_time": "2022-04-15T14:23:53.461Z"
   },
   {
    "duration": 22,
    "start_time": "2022-04-15T14:23:53.493Z"
   },
   {
    "duration": 62,
    "start_time": "2022-04-15T14:23:53.517Z"
   },
   {
    "duration": 4,
    "start_time": "2022-04-15T14:23:53.581Z"
   },
   {
    "duration": 14,
    "start_time": "2022-04-15T14:23:53.586Z"
   },
   {
    "duration": 314,
    "start_time": "2022-04-15T14:23:53.602Z"
   },
   {
    "duration": 24,
    "start_time": "2022-04-15T14:23:53.918Z"
   },
   {
    "duration": 209,
    "start_time": "2022-04-15T14:23:53.945Z"
   },
   {
    "duration": 167,
    "start_time": "2022-04-15T14:23:54.156Z"
   },
   {
    "duration": 251,
    "start_time": "2022-04-15T14:23:54.325Z"
   },
   {
    "duration": 108,
    "start_time": "2022-04-15T14:23:54.578Z"
   },
   {
    "duration": 155,
    "start_time": "2022-04-15T14:23:54.688Z"
   },
   {
    "duration": 101,
    "start_time": "2022-04-15T14:23:54.845Z"
   },
   {
    "duration": 193,
    "start_time": "2022-04-15T14:23:54.948Z"
   },
   {
    "duration": 96,
    "start_time": "2022-04-15T14:23:55.143Z"
   },
   {
    "duration": 99,
    "start_time": "2022-04-15T14:23:55.241Z"
   },
   {
    "duration": 199,
    "start_time": "2022-04-15T14:23:55.342Z"
   },
   {
    "duration": 204,
    "start_time": "2022-04-15T14:23:55.542Z"
   },
   {
    "duration": 10,
    "start_time": "2022-04-15T14:23:55.747Z"
   },
   {
    "duration": 20,
    "start_time": "2022-04-15T14:23:55.758Z"
   },
   {
    "duration": 116,
    "start_time": "2022-04-15T14:23:55.780Z"
   },
   {
    "duration": 118,
    "start_time": "2022-04-15T14:23:55.898Z"
   },
   {
    "duration": 204,
    "start_time": "2022-04-15T14:23:56.018Z"
   },
   {
    "duration": 197,
    "start_time": "2022-04-15T14:23:56.224Z"
   },
   {
    "duration": 106,
    "start_time": "2022-04-15T14:23:56.422Z"
   },
   {
    "duration": 207,
    "start_time": "2022-04-15T14:23:56.532Z"
   },
   {
    "duration": 96,
    "start_time": "2022-04-15T14:23:56.741Z"
   },
   {
    "duration": 178,
    "start_time": "2022-04-15T14:23:56.839Z"
   },
   {
    "duration": 147,
    "start_time": "2022-04-15T14:23:57.019Z"
   },
   {
    "duration": 162,
    "start_time": "2022-04-15T14:23:57.172Z"
   },
   {
    "duration": 187,
    "start_time": "2022-04-15T14:23:57.336Z"
   },
   {
    "duration": 242,
    "start_time": "2022-04-15T14:23:57.524Z"
   },
   {
    "duration": 152,
    "start_time": "2022-04-15T14:23:57.767Z"
   },
   {
    "duration": 160,
    "start_time": "2022-04-15T14:23:57.921Z"
   },
   {
    "duration": 162,
    "start_time": "2022-04-15T14:23:58.083Z"
   },
   {
    "duration": 33,
    "start_time": "2022-04-15T14:23:58.247Z"
   },
   {
    "duration": 167,
    "start_time": "2022-04-15T14:23:58.281Z"
   },
   {
    "duration": 193,
    "start_time": "2022-04-15T14:23:58.450Z"
   },
   {
    "duration": 156,
    "start_time": "2022-04-15T14:23:58.645Z"
   },
   {
    "duration": 147,
    "start_time": "2022-04-15T14:23:58.803Z"
   },
   {
    "duration": 157,
    "start_time": "2022-04-15T14:23:58.951Z"
   },
   {
    "duration": 153,
    "start_time": "2022-04-15T14:23:59.109Z"
   },
   {
    "duration": 159,
    "start_time": "2022-04-15T14:23:59.264Z"
   },
   {
    "duration": 156,
    "start_time": "2022-04-15T14:23:59.425Z"
   },
   {
    "duration": 150,
    "start_time": "2022-04-15T14:23:59.582Z"
   },
   {
    "duration": 271,
    "start_time": "2022-04-15T14:23:59.733Z"
   },
   {
    "duration": 842,
    "start_time": "2022-04-18T08:38:01.091Z"
   },
   {
    "duration": 132,
    "start_time": "2022-04-18T08:38:01.935Z"
   },
   {
    "duration": 39,
    "start_time": "2022-04-18T08:38:02.069Z"
   },
   {
    "duration": 30,
    "start_time": "2022-04-18T08:38:02.109Z"
   },
   {
    "duration": 68,
    "start_time": "2022-04-18T08:38:02.143Z"
   },
   {
    "duration": 5,
    "start_time": "2022-04-18T08:38:02.213Z"
   },
   {
    "duration": 17,
    "start_time": "2022-04-18T08:38:02.221Z"
   },
   {
    "duration": 362,
    "start_time": "2022-04-18T08:38:02.241Z"
   },
   {
    "duration": 27,
    "start_time": "2022-04-18T08:38:02.606Z"
   },
   {
    "duration": 220,
    "start_time": "2022-04-18T08:38:02.635Z"
   },
   {
    "duration": 169,
    "start_time": "2022-04-18T08:38:02.856Z"
   },
   {
    "duration": 250,
    "start_time": "2022-04-18T08:38:03.027Z"
   },
   {
    "duration": 113,
    "start_time": "2022-04-18T08:38:03.279Z"
   },
   {
    "duration": 166,
    "start_time": "2022-04-18T08:38:03.395Z"
   },
   {
    "duration": 109,
    "start_time": "2022-04-18T08:38:03.563Z"
   },
   {
    "duration": 201,
    "start_time": "2022-04-18T08:38:03.673Z"
   },
   {
    "duration": 102,
    "start_time": "2022-04-18T08:38:03.876Z"
   },
   {
    "duration": 105,
    "start_time": "2022-04-18T08:38:03.979Z"
   },
   {
    "duration": 202,
    "start_time": "2022-04-18T08:38:04.086Z"
   },
   {
    "duration": 223,
    "start_time": "2022-04-18T08:38:04.290Z"
   },
   {
    "duration": 10,
    "start_time": "2022-04-18T08:38:04.515Z"
   },
   {
    "duration": 7,
    "start_time": "2022-04-18T08:38:04.526Z"
   },
   {
    "duration": 115,
    "start_time": "2022-04-18T08:38:04.535Z"
   },
   {
    "duration": 126,
    "start_time": "2022-04-18T08:38:04.652Z"
   },
   {
    "duration": 218,
    "start_time": "2022-04-18T08:38:04.780Z"
   },
   {
    "duration": 210,
    "start_time": "2022-04-18T08:38:04.999Z"
   },
   {
    "duration": 104,
    "start_time": "2022-04-18T08:38:05.211Z"
   },
   {
    "duration": 216,
    "start_time": "2022-04-18T08:38:05.317Z"
   },
   {
    "duration": 108,
    "start_time": "2022-04-18T08:38:05.535Z"
   },
   {
    "duration": 201,
    "start_time": "2022-04-18T08:38:05.645Z"
   },
   {
    "duration": 197,
    "start_time": "2022-04-18T08:38:05.847Z"
   },
   {
    "duration": 194,
    "start_time": "2022-04-18T08:38:06.047Z"
   },
   {
    "duration": 201,
    "start_time": "2022-04-18T08:38:06.243Z"
   },
   {
    "duration": 254,
    "start_time": "2022-04-18T08:38:06.445Z"
   },
   {
    "duration": 156,
    "start_time": "2022-04-18T08:38:06.701Z"
   },
   {
    "duration": 178,
    "start_time": "2022-04-18T08:38:06.859Z"
   },
   {
    "duration": 169,
    "start_time": "2022-04-18T08:38:07.039Z"
   },
   {
    "duration": 24,
    "start_time": "2022-04-18T08:38:07.209Z"
   },
   {
    "duration": 186,
    "start_time": "2022-04-18T08:38:07.235Z"
   },
   {
    "duration": 207,
    "start_time": "2022-04-18T08:38:07.422Z"
   },
   {
    "duration": 165,
    "start_time": "2022-04-18T08:38:07.633Z"
   },
   {
    "duration": 162,
    "start_time": "2022-04-18T08:38:07.799Z"
   },
   {
    "duration": 164,
    "start_time": "2022-04-18T08:38:07.963Z"
   },
   {
    "duration": 171,
    "start_time": "2022-04-18T08:38:08.129Z"
   },
   {
    "duration": 180,
    "start_time": "2022-04-18T08:38:08.302Z"
   },
   {
    "duration": 186,
    "start_time": "2022-04-18T08:38:08.484Z"
   },
   {
    "duration": 170,
    "start_time": "2022-04-18T08:38:08.672Z"
   },
   {
    "duration": 271,
    "start_time": "2022-04-18T08:38:08.844Z"
   },
   {
    "duration": 683,
    "start_time": "2022-04-18T08:39:27.883Z"
   },
   {
    "duration": 128,
    "start_time": "2022-04-18T08:39:28.568Z"
   },
   {
    "duration": 29,
    "start_time": "2022-04-18T08:39:28.698Z"
   },
   {
    "duration": 23,
    "start_time": "2022-04-18T08:39:28.729Z"
   },
   {
    "duration": 69,
    "start_time": "2022-04-18T08:39:28.754Z"
   },
   {
    "duration": 6,
    "start_time": "2022-04-18T08:39:28.825Z"
   },
   {
    "duration": 15,
    "start_time": "2022-04-18T08:39:28.832Z"
   },
   {
    "duration": 362,
    "start_time": "2022-04-18T08:39:28.848Z"
   },
   {
    "duration": 27,
    "start_time": "2022-04-18T08:39:29.211Z"
   },
   {
    "duration": 223,
    "start_time": "2022-04-18T08:39:29.241Z"
   },
   {
    "duration": 166,
    "start_time": "2022-04-18T08:39:29.466Z"
   },
   {
    "duration": 273,
    "start_time": "2022-04-18T08:39:29.634Z"
   },
   {
    "duration": 115,
    "start_time": "2022-04-18T08:39:29.909Z"
   },
   {
    "duration": 166,
    "start_time": "2022-04-18T08:39:30.026Z"
   },
   {
    "duration": 125,
    "start_time": "2022-04-18T08:39:30.194Z"
   },
   {
    "duration": 200,
    "start_time": "2022-04-18T08:39:30.321Z"
   },
   {
    "duration": 109,
    "start_time": "2022-04-18T08:39:30.523Z"
   },
   {
    "duration": 105,
    "start_time": "2022-04-18T08:39:30.634Z"
   },
   {
    "duration": 210,
    "start_time": "2022-04-18T08:39:30.741Z"
   },
   {
    "duration": 229,
    "start_time": "2022-04-18T08:39:30.953Z"
   },
   {
    "duration": 10,
    "start_time": "2022-04-18T08:39:31.184Z"
   },
   {
    "duration": 8,
    "start_time": "2022-04-18T08:39:31.208Z"
   },
   {
    "duration": 112,
    "start_time": "2022-04-18T08:39:31.218Z"
   },
   {
    "duration": 126,
    "start_time": "2022-04-18T08:39:31.332Z"
   },
   {
    "duration": 212,
    "start_time": "2022-04-18T08:39:31.460Z"
   },
   {
    "duration": 213,
    "start_time": "2022-04-18T08:39:31.674Z"
   },
   {
    "duration": 103,
    "start_time": "2022-04-18T08:39:31.890Z"
   },
   {
    "duration": 219,
    "start_time": "2022-04-18T08:39:31.997Z"
   },
   {
    "duration": 113,
    "start_time": "2022-04-18T08:39:32.218Z"
   },
   {
    "duration": 190,
    "start_time": "2022-04-18T08:39:32.333Z"
   },
   {
    "duration": 162,
    "start_time": "2022-04-18T08:39:32.524Z"
   },
   {
    "duration": 175,
    "start_time": "2022-04-18T08:39:32.688Z"
   },
   {
    "duration": 267,
    "start_time": "2022-04-18T08:39:32.865Z"
   },
   {
    "duration": 168,
    "start_time": "2022-04-18T08:39:33.133Z"
   },
   {
    "duration": 163,
    "start_time": "2022-04-18T08:39:33.302Z"
   },
   {
    "duration": 172,
    "start_time": "2022-04-18T08:39:33.466Z"
   },
   {
    "duration": 168,
    "start_time": "2022-04-18T08:39:33.641Z"
   },
   {
    "duration": 24,
    "start_time": "2022-04-18T08:39:33.810Z"
   },
   {
    "duration": 187,
    "start_time": "2022-04-18T08:39:33.835Z"
   },
   {
    "duration": 224,
    "start_time": "2022-04-18T08:39:34.024Z"
   },
   {
    "duration": 173,
    "start_time": "2022-04-18T08:39:34.250Z"
   },
   {
    "duration": 162,
    "start_time": "2022-04-18T08:39:34.425Z"
   },
   {
    "duration": 169,
    "start_time": "2022-04-18T08:39:34.589Z"
   },
   {
    "duration": 165,
    "start_time": "2022-04-18T08:39:34.759Z"
   },
   {
    "duration": 168,
    "start_time": "2022-04-18T08:39:34.926Z"
   },
   {
    "duration": 266,
    "start_time": "2022-04-18T08:39:35.095Z"
   },
   {
    "duration": 164,
    "start_time": "2022-04-18T08:39:35.363Z"
   },
   {
    "duration": 162,
    "start_time": "2022-04-18T08:39:35.529Z"
   },
   {
    "duration": 624,
    "start_time": "2022-04-18T08:42:12.359Z"
   },
   {
    "duration": 128,
    "start_time": "2022-04-18T08:42:12.985Z"
   },
   {
    "duration": 31,
    "start_time": "2022-04-18T08:42:13.116Z"
   },
   {
    "duration": 23,
    "start_time": "2022-04-18T08:42:13.150Z"
   },
   {
    "duration": 72,
    "start_time": "2022-04-18T08:42:13.175Z"
   },
   {
    "duration": 5,
    "start_time": "2022-04-18T08:42:13.248Z"
   },
   {
    "duration": 16,
    "start_time": "2022-04-18T08:42:13.254Z"
   },
   {
    "duration": 358,
    "start_time": "2022-04-18T08:42:13.272Z"
   },
   {
    "duration": 26,
    "start_time": "2022-04-18T08:42:13.631Z"
   },
   {
    "duration": 219,
    "start_time": "2022-04-18T08:42:13.659Z"
   },
   {
    "duration": 164,
    "start_time": "2022-04-18T08:42:13.880Z"
   },
   {
    "duration": 270,
    "start_time": "2022-04-18T08:42:14.045Z"
   },
   {
    "duration": 120,
    "start_time": "2022-04-18T08:42:14.317Z"
   },
   {
    "duration": 170,
    "start_time": "2022-04-18T08:42:14.438Z"
   },
   {
    "duration": 116,
    "start_time": "2022-04-18T08:42:14.609Z"
   },
   {
    "duration": 200,
    "start_time": "2022-04-18T08:42:14.726Z"
   },
   {
    "duration": 109,
    "start_time": "2022-04-18T08:42:14.928Z"
   },
   {
    "duration": 110,
    "start_time": "2022-04-18T08:42:15.038Z"
   },
   {
    "duration": 211,
    "start_time": "2022-04-18T08:42:15.150Z"
   },
   {
    "duration": 221,
    "start_time": "2022-04-18T08:42:15.363Z"
   },
   {
    "duration": 8,
    "start_time": "2022-04-18T08:42:15.586Z"
   },
   {
    "duration": 6,
    "start_time": "2022-04-18T08:42:15.608Z"
   },
   {
    "duration": 109,
    "start_time": "2022-04-18T08:42:15.616Z"
   },
   {
    "duration": 128,
    "start_time": "2022-04-18T08:42:15.727Z"
   },
   {
    "duration": 216,
    "start_time": "2022-04-18T08:42:15.857Z"
   },
   {
    "duration": 213,
    "start_time": "2022-04-18T08:42:16.075Z"
   },
   {
    "duration": 104,
    "start_time": "2022-04-18T08:42:16.289Z"
   },
   {
    "duration": 207,
    "start_time": "2022-04-18T08:42:16.407Z"
   },
   {
    "duration": 109,
    "start_time": "2022-04-18T08:42:16.615Z"
   },
   {
    "duration": 184,
    "start_time": "2022-04-18T08:42:16.726Z"
   },
   {
    "duration": 168,
    "start_time": "2022-04-18T08:42:16.911Z"
   },
   {
    "duration": 176,
    "start_time": "2022-04-18T08:42:17.081Z"
   },
   {
    "duration": 194,
    "start_time": "2022-04-18T08:42:17.259Z"
   },
   {
    "duration": 260,
    "start_time": "2022-04-18T08:42:17.455Z"
   },
   {
    "duration": 161,
    "start_time": "2022-04-18T08:42:17.717Z"
   },
   {
    "duration": 173,
    "start_time": "2022-04-18T08:42:17.880Z"
   },
   {
    "duration": 175,
    "start_time": "2022-04-18T08:42:18.055Z"
   },
   {
    "duration": 24,
    "start_time": "2022-04-18T08:42:18.232Z"
   },
   {
    "duration": 215,
    "start_time": "2022-04-18T08:42:18.257Z"
   },
   {
    "duration": 250,
    "start_time": "2022-04-18T08:42:18.474Z"
   },
   {
    "duration": 181,
    "start_time": "2022-04-18T08:42:18.726Z"
   },
   {
    "duration": 173,
    "start_time": "2022-04-18T08:42:18.909Z"
   },
   {
    "duration": 167,
    "start_time": "2022-04-18T08:42:19.084Z"
   },
   {
    "duration": 168,
    "start_time": "2022-04-18T08:42:19.253Z"
   },
   {
    "duration": 175,
    "start_time": "2022-04-18T08:42:19.423Z"
   },
   {
    "duration": 172,
    "start_time": "2022-04-18T08:42:19.600Z"
   },
   {
    "duration": 172,
    "start_time": "2022-04-18T08:42:19.774Z"
   },
   {
    "duration": 267,
    "start_time": "2022-04-18T08:42:19.948Z"
   },
   {
    "duration": 125,
    "start_time": "2022-04-18T08:44:59.702Z"
   },
   {
    "duration": 626,
    "start_time": "2022-04-18T08:46:52.817Z"
   },
   {
    "duration": 118,
    "start_time": "2022-04-18T08:46:53.445Z"
   },
   {
    "duration": 31,
    "start_time": "2022-04-18T08:46:53.565Z"
   },
   {
    "duration": 23,
    "start_time": "2022-04-18T08:46:53.607Z"
   },
   {
    "duration": 45,
    "start_time": "2022-04-18T08:46:53.633Z"
   },
   {
    "duration": 4,
    "start_time": "2022-04-18T08:46:53.680Z"
   },
   {
    "duration": 12,
    "start_time": "2022-04-18T08:46:53.708Z"
   },
   {
    "duration": 341,
    "start_time": "2022-04-18T08:46:53.722Z"
   },
   {
    "duration": 26,
    "start_time": "2022-04-18T08:46:54.065Z"
   },
   {
    "duration": 218,
    "start_time": "2022-04-18T08:46:54.094Z"
   },
   {
    "duration": 146,
    "start_time": "2022-04-18T08:46:54.313Z"
   },
   {
    "duration": 250,
    "start_time": "2022-04-18T08:46:54.461Z"
   },
   {
    "duration": 106,
    "start_time": "2022-04-18T08:46:54.713Z"
   },
   {
    "duration": 148,
    "start_time": "2022-04-18T08:46:54.821Z"
   },
   {
    "duration": 102,
    "start_time": "2022-04-18T08:46:54.971Z"
   },
   {
    "duration": 184,
    "start_time": "2022-04-18T08:46:55.075Z"
   },
   {
    "duration": 96,
    "start_time": "2022-04-18T08:46:55.261Z"
   },
   {
    "duration": 93,
    "start_time": "2022-04-18T08:46:55.359Z"
   },
   {
    "duration": 191,
    "start_time": "2022-04-18T08:46:55.453Z"
   },
   {
    "duration": 203,
    "start_time": "2022-04-18T08:46:55.646Z"
   },
   {
    "duration": 9,
    "start_time": "2022-04-18T08:46:55.851Z"
   },
   {
    "duration": 6,
    "start_time": "2022-04-18T08:46:55.861Z"
   },
   {
    "duration": 112,
    "start_time": "2022-04-18T08:46:55.868Z"
   },
   {
    "duration": 118,
    "start_time": "2022-04-18T08:46:55.982Z"
   },
   {
    "duration": 208,
    "start_time": "2022-04-18T08:46:56.101Z"
   },
   {
    "duration": 191,
    "start_time": "2022-04-18T08:46:56.311Z"
   },
   {
    "duration": 152,
    "start_time": "2022-04-18T08:46:56.504Z"
   },
   {
    "duration": 174,
    "start_time": "2022-04-18T08:46:56.659Z"
   },
   {
    "duration": 176,
    "start_time": "2022-04-18T08:46:56.835Z"
   },
   {
    "duration": 156,
    "start_time": "2022-04-18T08:46:57.012Z"
   },
   {
    "duration": 154,
    "start_time": "2022-04-18T08:46:57.169Z"
   },
   {
    "duration": 160,
    "start_time": "2022-04-18T08:46:57.325Z"
   },
   {
    "duration": 157,
    "start_time": "2022-04-18T08:46:57.487Z"
   },
   {
    "duration": 22,
    "start_time": "2022-04-18T08:46:57.645Z"
   },
   {
    "duration": 170,
    "start_time": "2022-04-18T08:46:57.669Z"
   },
   {
    "duration": 272,
    "start_time": "2022-04-18T08:46:57.840Z"
   },
   {
    "duration": 154,
    "start_time": "2022-04-18T08:46:58.113Z"
   },
   {
    "duration": 152,
    "start_time": "2022-04-18T08:46:58.268Z"
   },
   {
    "duration": 155,
    "start_time": "2022-04-18T08:46:58.422Z"
   },
   {
    "duration": 148,
    "start_time": "2022-04-18T08:46:58.579Z"
   },
   {
    "duration": 160,
    "start_time": "2022-04-18T08:46:58.728Z"
   },
   {
    "duration": 163,
    "start_time": "2022-04-18T08:46:58.889Z"
   },
   {
    "duration": 162,
    "start_time": "2022-04-18T08:46:59.054Z"
   },
   {
    "duration": 160,
    "start_time": "2022-04-18T08:46:59.218Z"
   },
   {
    "duration": 215,
    "start_time": "2022-04-18T08:50:04.016Z"
   },
   {
    "duration": 156,
    "start_time": "2022-04-18T08:50:19.998Z"
   },
   {
    "duration": 156,
    "start_time": "2022-04-18T08:50:55.031Z"
   },
   {
    "duration": 144,
    "start_time": "2022-04-18T08:51:09.478Z"
   },
   {
    "duration": 253,
    "start_time": "2022-04-18T08:51:25.902Z"
   },
   {
    "duration": 165,
    "start_time": "2022-04-18T08:51:38.006Z"
   },
   {
    "duration": 141,
    "start_time": "2022-04-18T08:52:01.953Z"
   },
   {
    "duration": 155,
    "start_time": "2022-04-18T08:52:08.651Z"
   },
   {
    "duration": 156,
    "start_time": "2022-04-18T08:52:24.011Z"
   },
   {
    "duration": 659,
    "start_time": "2022-04-18T09:09:09.596Z"
   },
   {
    "duration": 133,
    "start_time": "2022-04-18T09:09:10.257Z"
   },
   {
    "duration": 32,
    "start_time": "2022-04-18T09:09:10.392Z"
   },
   {
    "duration": 21,
    "start_time": "2022-04-18T09:09:10.425Z"
   },
   {
    "duration": 64,
    "start_time": "2022-04-18T09:09:10.449Z"
   },
   {
    "duration": 5,
    "start_time": "2022-04-18T09:09:10.515Z"
   },
   {
    "duration": 14,
    "start_time": "2022-04-18T09:09:10.522Z"
   },
   {
    "duration": 340,
    "start_time": "2022-04-18T09:09:10.537Z"
   },
   {
    "duration": 30,
    "start_time": "2022-04-18T09:09:10.879Z"
   },
   {
    "duration": 212,
    "start_time": "2022-04-18T09:09:10.911Z"
   },
   {
    "duration": 152,
    "start_time": "2022-04-18T09:09:11.126Z"
   },
   {
    "duration": 259,
    "start_time": "2022-04-18T09:09:11.280Z"
   },
   {
    "duration": 117,
    "start_time": "2022-04-18T09:09:11.541Z"
   },
   {
    "duration": 162,
    "start_time": "2022-04-18T09:09:11.661Z"
   },
   {
    "duration": 113,
    "start_time": "2022-04-18T09:09:11.825Z"
   },
   {
    "duration": 204,
    "start_time": "2022-04-18T09:09:11.940Z"
   },
   {
    "duration": 109,
    "start_time": "2022-04-18T09:09:12.146Z"
   },
   {
    "duration": 98,
    "start_time": "2022-04-18T09:09:12.258Z"
   },
   {
    "duration": 211,
    "start_time": "2022-04-18T09:09:12.357Z"
   },
   {
    "duration": 213,
    "start_time": "2022-04-18T09:09:12.570Z"
   },
   {
    "duration": 8,
    "start_time": "2022-04-18T09:09:12.785Z"
   },
   {
    "duration": 21,
    "start_time": "2022-04-18T09:09:12.794Z"
   },
   {
    "duration": 106,
    "start_time": "2022-04-18T09:09:12.817Z"
   },
   {
    "duration": 121,
    "start_time": "2022-04-18T09:09:12.925Z"
   },
   {
    "duration": 205,
    "start_time": "2022-04-18T09:09:13.047Z"
   },
   {
    "duration": 199,
    "start_time": "2022-04-18T09:09:13.254Z"
   },
   {
    "duration": 162,
    "start_time": "2022-04-18T09:09:13.455Z"
   },
   {
    "duration": 167,
    "start_time": "2022-04-18T09:09:13.619Z"
   },
   {
    "duration": 194,
    "start_time": "2022-04-18T09:09:13.788Z"
   },
   {
    "duration": 172,
    "start_time": "2022-04-18T09:09:13.984Z"
   },
   {
    "duration": 172,
    "start_time": "2022-04-18T09:09:14.158Z"
   },
   {
    "duration": 177,
    "start_time": "2022-04-18T09:09:14.332Z"
   },
   {
    "duration": 171,
    "start_time": "2022-04-18T09:09:14.512Z"
   },
   {
    "duration": 38,
    "start_time": "2022-04-18T09:09:14.686Z"
   },
   {
    "duration": 182,
    "start_time": "2022-04-18T09:09:14.727Z"
   },
   {
    "duration": 309,
    "start_time": "2022-04-18T09:09:14.911Z"
   },
   {
    "duration": 164,
    "start_time": "2022-04-18T09:09:15.222Z"
   },
   {
    "duration": 160,
    "start_time": "2022-04-18T09:09:15.388Z"
   },
   {
    "duration": 163,
    "start_time": "2022-04-18T09:09:15.550Z"
   },
   {
    "duration": 167,
    "start_time": "2022-04-18T09:09:15.714Z"
   },
   {
    "duration": 168,
    "start_time": "2022-04-18T09:09:15.885Z"
   },
   {
    "duration": 169,
    "start_time": "2022-04-18T09:09:16.055Z"
   },
   {
    "duration": 159,
    "start_time": "2022-04-18T09:09:16.226Z"
   },
   {
    "duration": 163,
    "start_time": "2022-04-18T09:09:16.387Z"
   },
   {
    "duration": 588,
    "start_time": "2022-04-18T09:16:32.248Z"
   },
   {
    "duration": 132,
    "start_time": "2022-04-18T09:16:32.838Z"
   },
   {
    "duration": 36,
    "start_time": "2022-04-18T09:16:32.972Z"
   },
   {
    "duration": 24,
    "start_time": "2022-04-18T09:16:33.010Z"
   },
   {
    "duration": 70,
    "start_time": "2022-04-18T09:16:33.037Z"
   },
   {
    "duration": 6,
    "start_time": "2022-04-18T09:16:33.109Z"
   },
   {
    "duration": 14,
    "start_time": "2022-04-18T09:16:33.117Z"
   },
   {
    "duration": 332,
    "start_time": "2022-04-18T09:16:33.132Z"
   },
   {
    "duration": 24,
    "start_time": "2022-04-18T09:16:33.466Z"
   },
   {
    "duration": 201,
    "start_time": "2022-04-18T09:16:33.492Z"
   },
   {
    "duration": 148,
    "start_time": "2022-04-18T09:16:33.695Z"
   },
   {
    "duration": 250,
    "start_time": "2022-04-18T09:16:33.845Z"
   },
   {
    "duration": 96,
    "start_time": "2022-04-18T09:16:34.096Z"
   },
   {
    "duration": 153,
    "start_time": "2022-04-18T09:16:34.194Z"
   },
   {
    "duration": 104,
    "start_time": "2022-04-18T09:16:34.349Z"
   },
   {
    "duration": 182,
    "start_time": "2022-04-18T09:16:34.455Z"
   },
   {
    "duration": 93,
    "start_time": "2022-04-18T09:16:34.638Z"
   },
   {
    "duration": 99,
    "start_time": "2022-04-18T09:16:34.732Z"
   },
   {
    "duration": 192,
    "start_time": "2022-04-18T09:16:34.833Z"
   },
   {
    "duration": 205,
    "start_time": "2022-04-18T09:16:35.027Z"
   },
   {
    "duration": 7,
    "start_time": "2022-04-18T09:16:35.234Z"
   },
   {
    "duration": 5,
    "start_time": "2022-04-18T09:16:35.243Z"
   },
   {
    "duration": 109,
    "start_time": "2022-04-18T09:16:35.249Z"
   },
   {
    "duration": 108,
    "start_time": "2022-04-18T09:16:35.360Z"
   },
   {
    "duration": 225,
    "start_time": "2022-04-18T09:16:35.470Z"
   },
   {
    "duration": 195,
    "start_time": "2022-04-18T09:16:35.705Z"
   },
   {
    "duration": 154,
    "start_time": "2022-04-18T09:16:35.906Z"
   },
   {
    "duration": 163,
    "start_time": "2022-04-18T09:16:36.062Z"
   },
   {
    "duration": 170,
    "start_time": "2022-04-18T09:16:36.226Z"
   },
   {
    "duration": 158,
    "start_time": "2022-04-18T09:16:36.398Z"
   },
   {
    "duration": 153,
    "start_time": "2022-04-18T09:16:36.557Z"
   },
   {
    "duration": 160,
    "start_time": "2022-04-18T09:16:36.712Z"
   },
   {
    "duration": 277,
    "start_time": "2022-04-18T09:16:36.873Z"
   },
   {
    "duration": 76,
    "start_time": "2022-04-18T09:16:37.152Z"
   },
   {
    "duration": 311,
    "start_time": "2022-04-18T09:16:37.229Z"
   },
   {
    "duration": 583,
    "start_time": "2022-04-18T09:16:37.542Z"
   },
   {
    "duration": 258,
    "start_time": "2022-04-18T09:16:38.127Z"
   },
   {
    "duration": 156,
    "start_time": "2022-04-18T09:16:38.387Z"
   },
   {
    "duration": 149,
    "start_time": "2022-04-18T09:16:38.544Z"
   },
   {
    "duration": 158,
    "start_time": "2022-04-18T09:16:38.695Z"
   },
   {
    "duration": 164,
    "start_time": "2022-04-18T09:16:38.858Z"
   },
   {
    "duration": 168,
    "start_time": "2022-04-18T09:16:39.024Z"
   },
   {
    "duration": 152,
    "start_time": "2022-04-18T09:16:39.194Z"
   },
   {
    "duration": 148,
    "start_time": "2022-04-18T09:16:39.348Z"
   },
   {
    "duration": 742,
    "start_time": "2022-04-18T09:18:00.487Z"
   },
   {
    "duration": 126,
    "start_time": "2022-04-18T09:18:01.231Z"
   },
   {
    "duration": 27,
    "start_time": "2022-04-18T09:18:01.359Z"
   },
   {
    "duration": 24,
    "start_time": "2022-04-18T09:18:01.388Z"
   },
   {
    "duration": 43,
    "start_time": "2022-04-18T09:18:01.413Z"
   },
   {
    "duration": 5,
    "start_time": "2022-04-18T09:18:01.457Z"
   },
   {
    "duration": 12,
    "start_time": "2022-04-18T09:18:01.507Z"
   },
   {
    "duration": 421,
    "start_time": "2022-04-18T09:18:01.521Z"
   },
   {
    "duration": 23,
    "start_time": "2022-04-18T09:18:01.944Z"
   },
   {
    "duration": 203,
    "start_time": "2022-04-18T09:18:01.970Z"
   },
   {
    "duration": 154,
    "start_time": "2022-04-18T09:18:02.175Z"
   },
   {
    "duration": 254,
    "start_time": "2022-04-18T09:18:02.331Z"
   },
   {
    "duration": 102,
    "start_time": "2022-04-18T09:18:02.586Z"
   },
   {
    "duration": 160,
    "start_time": "2022-04-18T09:18:02.690Z"
   },
   {
    "duration": 112,
    "start_time": "2022-04-18T09:18:02.852Z"
   },
   {
    "duration": 185,
    "start_time": "2022-04-18T09:18:02.966Z"
   },
   {
    "duration": 103,
    "start_time": "2022-04-18T09:18:03.153Z"
   },
   {
    "duration": 104,
    "start_time": "2022-04-18T09:18:03.257Z"
   },
   {
    "duration": 202,
    "start_time": "2022-04-18T09:18:03.363Z"
   },
   {
    "duration": 204,
    "start_time": "2022-04-18T09:18:03.567Z"
   },
   {
    "duration": 8,
    "start_time": "2022-04-18T09:18:03.773Z"
   },
   {
    "duration": 27,
    "start_time": "2022-04-18T09:18:03.783Z"
   },
   {
    "duration": 96,
    "start_time": "2022-04-18T09:18:03.811Z"
   },
   {
    "duration": 118,
    "start_time": "2022-04-18T09:18:03.909Z"
   },
   {
    "duration": 211,
    "start_time": "2022-04-18T09:18:04.029Z"
   },
   {
    "duration": 192,
    "start_time": "2022-04-18T09:18:04.242Z"
   },
   {
    "duration": 208,
    "start_time": "2022-04-18T09:18:04.436Z"
   },
   {
    "duration": 366,
    "start_time": "2022-04-18T09:18:04.648Z"
   },
   {
    "duration": 334,
    "start_time": "2022-04-18T09:18:05.016Z"
   },
   {
    "duration": 304,
    "start_time": "2022-04-18T09:18:05.406Z"
   },
   {
    "duration": 297,
    "start_time": "2022-04-18T09:18:05.712Z"
   },
   {
    "duration": 170,
    "start_time": "2022-04-18T09:18:06.011Z"
   },
   {
    "duration": 154,
    "start_time": "2022-04-18T09:18:06.183Z"
   },
   {
    "duration": 24,
    "start_time": "2022-04-18T09:18:06.339Z"
   },
   {
    "duration": 184,
    "start_time": "2022-04-18T09:18:06.365Z"
   },
   {
    "duration": 289,
    "start_time": "2022-04-18T09:18:06.551Z"
   },
   {
    "duration": 171,
    "start_time": "2022-04-18T09:18:06.842Z"
   },
   {
    "duration": 160,
    "start_time": "2022-04-18T09:18:07.014Z"
   },
   {
    "duration": 157,
    "start_time": "2022-04-18T09:18:07.176Z"
   },
   {
    "duration": 157,
    "start_time": "2022-04-18T09:18:07.335Z"
   },
   {
    "duration": 170,
    "start_time": "2022-04-18T09:18:07.494Z"
   },
   {
    "duration": 161,
    "start_time": "2022-04-18T09:18:07.666Z"
   },
   {
    "duration": 156,
    "start_time": "2022-04-18T09:18:07.829Z"
   },
   {
    "duration": 165,
    "start_time": "2022-04-18T09:18:07.986Z"
   },
   {
    "duration": 610,
    "start_time": "2022-04-18T09:21:56.645Z"
   },
   {
    "duration": 128,
    "start_time": "2022-04-18T09:21:57.257Z"
   },
   {
    "duration": 27,
    "start_time": "2022-04-18T09:21:57.387Z"
   },
   {
    "duration": 20,
    "start_time": "2022-04-18T09:21:57.416Z"
   },
   {
    "duration": 42,
    "start_time": "2022-04-18T09:21:57.438Z"
   },
   {
    "duration": 25,
    "start_time": "2022-04-18T09:21:57.482Z"
   },
   {
    "duration": 12,
    "start_time": "2022-04-18T09:21:57.509Z"
   },
   {
    "duration": 331,
    "start_time": "2022-04-18T09:21:57.522Z"
   },
   {
    "duration": 24,
    "start_time": "2022-04-18T09:21:57.855Z"
   },
   {
    "duration": 201,
    "start_time": "2022-04-18T09:21:57.881Z"
   },
   {
    "duration": 150,
    "start_time": "2022-04-18T09:21:58.084Z"
   },
   {
    "duration": 235,
    "start_time": "2022-04-18T09:21:58.235Z"
   },
   {
    "duration": 101,
    "start_time": "2022-04-18T09:21:58.471Z"
   },
   {
    "duration": 155,
    "start_time": "2022-04-18T09:21:58.573Z"
   },
   {
    "duration": 103,
    "start_time": "2022-04-18T09:21:58.730Z"
   },
   {
    "duration": 181,
    "start_time": "2022-04-18T09:21:58.835Z"
   },
   {
    "duration": 105,
    "start_time": "2022-04-18T09:21:59.017Z"
   },
   {
    "duration": 110,
    "start_time": "2022-04-18T09:21:59.124Z"
   },
   {
    "duration": 190,
    "start_time": "2022-04-18T09:21:59.235Z"
   },
   {
    "duration": 213,
    "start_time": "2022-04-18T09:21:59.426Z"
   },
   {
    "duration": 8,
    "start_time": "2022-04-18T09:21:59.641Z"
   },
   {
    "duration": 5,
    "start_time": "2022-04-18T09:21:59.651Z"
   },
   {
    "duration": 94,
    "start_time": "2022-04-18T09:21:59.658Z"
   },
   {
    "duration": 116,
    "start_time": "2022-04-18T09:21:59.753Z"
   },
   {
    "duration": 237,
    "start_time": "2022-04-18T09:21:59.871Z"
   },
   {
    "duration": 209,
    "start_time": "2022-04-18T09:22:00.111Z"
   },
   {
    "duration": 162,
    "start_time": "2022-04-18T09:22:00.321Z"
   },
   {
    "duration": 181,
    "start_time": "2022-04-18T09:22:00.486Z"
   },
   {
    "duration": 309,
    "start_time": "2022-04-18T09:22:00.669Z"
   },
   {
    "duration": 233,
    "start_time": "2022-04-18T09:22:01.008Z"
   },
   {
    "duration": 300,
    "start_time": "2022-04-18T09:22:01.242Z"
   },
   {
    "duration": 309,
    "start_time": "2022-04-18T09:22:01.543Z"
   },
   {
    "duration": 354,
    "start_time": "2022-04-18T09:22:01.853Z"
   },
   {
    "duration": 24,
    "start_time": "2022-04-18T09:22:02.209Z"
   },
   {
    "duration": 393,
    "start_time": "2022-04-18T09:22:02.234Z"
   },
   {
    "duration": 300,
    "start_time": "2022-04-18T09:22:02.629Z"
   },
   {
    "duration": 176,
    "start_time": "2022-04-18T09:22:02.930Z"
   },
   {
    "duration": 151,
    "start_time": "2022-04-18T09:22:03.108Z"
   },
   {
    "duration": 173,
    "start_time": "2022-04-18T09:22:03.260Z"
   },
   {
    "duration": 170,
    "start_time": "2022-04-18T09:22:03.435Z"
   },
   {
    "duration": 178,
    "start_time": "2022-04-18T09:22:03.607Z"
   },
   {
    "duration": 177,
    "start_time": "2022-04-18T09:22:03.788Z"
   },
   {
    "duration": 171,
    "start_time": "2022-04-18T09:22:03.967Z"
   },
   {
    "duration": 189,
    "start_time": "2022-04-18T09:22:04.140Z"
   },
   {
    "duration": 637,
    "start_time": "2022-04-18T09:23:35.152Z"
   },
   {
    "duration": 131,
    "start_time": "2022-04-18T09:23:35.791Z"
   },
   {
    "duration": 30,
    "start_time": "2022-04-18T09:23:35.924Z"
   },
   {
    "duration": 21,
    "start_time": "2022-04-18T09:23:35.956Z"
   },
   {
    "duration": 63,
    "start_time": "2022-04-18T09:23:35.979Z"
   },
   {
    "duration": 4,
    "start_time": "2022-04-18T09:23:36.044Z"
   },
   {
    "duration": 15,
    "start_time": "2022-04-18T09:23:36.049Z"
   },
   {
    "duration": 328,
    "start_time": "2022-04-18T09:23:36.066Z"
   },
   {
    "duration": 28,
    "start_time": "2022-04-18T09:23:36.396Z"
   },
   {
    "duration": 194,
    "start_time": "2022-04-18T09:23:36.427Z"
   },
   {
    "duration": 145,
    "start_time": "2022-04-18T09:23:36.623Z"
   },
   {
    "duration": 251,
    "start_time": "2022-04-18T09:23:36.769Z"
   },
   {
    "duration": 110,
    "start_time": "2022-04-18T09:23:37.022Z"
   },
   {
    "duration": 145,
    "start_time": "2022-04-18T09:23:37.134Z"
   },
   {
    "duration": 102,
    "start_time": "2022-04-18T09:23:37.280Z"
   },
   {
    "duration": 178,
    "start_time": "2022-04-18T09:23:37.384Z"
   },
   {
    "duration": 95,
    "start_time": "2022-04-18T09:23:37.563Z"
   },
   {
    "duration": 94,
    "start_time": "2022-04-18T09:23:37.660Z"
   },
   {
    "duration": 200,
    "start_time": "2022-04-18T09:23:37.755Z"
   },
   {
    "duration": 205,
    "start_time": "2022-04-18T09:23:37.957Z"
   },
   {
    "duration": 9,
    "start_time": "2022-04-18T09:23:38.163Z"
   },
   {
    "duration": 7,
    "start_time": "2022-04-18T09:23:38.174Z"
   },
   {
    "duration": 106,
    "start_time": "2022-04-18T09:23:38.183Z"
   },
   {
    "duration": 118,
    "start_time": "2022-04-18T09:23:38.291Z"
   },
   {
    "duration": 190,
    "start_time": "2022-04-18T09:23:38.410Z"
   },
   {
    "duration": 192,
    "start_time": "2022-04-18T09:23:38.602Z"
   },
   {
    "duration": 162,
    "start_time": "2022-04-18T09:23:38.796Z"
   },
   {
    "duration": 172,
    "start_time": "2022-04-18T09:23:38.963Z"
   },
   {
    "duration": 189,
    "start_time": "2022-04-18T09:23:39.137Z"
   },
   {
    "duration": 153,
    "start_time": "2022-04-18T09:23:39.328Z"
   },
   {
    "duration": 141,
    "start_time": "2022-04-18T09:23:39.482Z"
   },
   {
    "duration": 161,
    "start_time": "2022-04-18T09:23:39.625Z"
   },
   {
    "duration": 153,
    "start_time": "2022-04-18T09:23:39.787Z"
   },
   {
    "duration": 23,
    "start_time": "2022-04-18T09:23:39.942Z"
   },
   {
    "duration": 170,
    "start_time": "2022-04-18T09:23:39.967Z"
   },
   {
    "duration": 280,
    "start_time": "2022-04-18T09:23:40.139Z"
   },
   {
    "duration": 155,
    "start_time": "2022-04-18T09:23:40.421Z"
   },
   {
    "duration": 142,
    "start_time": "2022-04-18T09:23:40.578Z"
   },
   {
    "duration": 152,
    "start_time": "2022-04-18T09:23:40.722Z"
   },
   {
    "duration": 156,
    "start_time": "2022-04-18T09:23:40.876Z"
   },
   {
    "duration": 162,
    "start_time": "2022-04-18T09:23:41.034Z"
   },
   {
    "duration": 169,
    "start_time": "2022-04-18T09:23:41.198Z"
   },
   {
    "duration": 146,
    "start_time": "2022-04-18T09:23:41.369Z"
   },
   {
    "duration": 158,
    "start_time": "2022-04-18T09:23:41.517Z"
   },
   {
    "duration": 679,
    "start_time": "2022-04-18T09:26:05.336Z"
   },
   {
    "duration": 131,
    "start_time": "2022-04-18T09:26:06.018Z"
   },
   {
    "duration": 31,
    "start_time": "2022-04-18T09:26:06.151Z"
   },
   {
    "duration": 41,
    "start_time": "2022-04-18T09:26:06.185Z"
   },
   {
    "duration": 51,
    "start_time": "2022-04-18T09:26:06.229Z"
   },
   {
    "duration": 26,
    "start_time": "2022-04-18T09:26:06.282Z"
   },
   {
    "duration": 17,
    "start_time": "2022-04-18T09:26:06.311Z"
   },
   {
    "duration": 337,
    "start_time": "2022-04-18T09:26:06.330Z"
   },
   {
    "duration": 27,
    "start_time": "2022-04-18T09:26:06.669Z"
   },
   {
    "duration": 217,
    "start_time": "2022-04-18T09:26:06.707Z"
   },
   {
    "duration": 155,
    "start_time": "2022-04-18T09:26:06.926Z"
   },
   {
    "duration": 274,
    "start_time": "2022-04-18T09:26:07.085Z"
   },
   {
    "duration": 111,
    "start_time": "2022-04-18T09:26:07.360Z"
   },
   {
    "duration": 164,
    "start_time": "2022-04-18T09:26:07.474Z"
   },
   {
    "duration": 112,
    "start_time": "2022-04-18T09:26:07.640Z"
   },
   {
    "duration": 194,
    "start_time": "2022-04-18T09:26:07.753Z"
   },
   {
    "duration": 102,
    "start_time": "2022-04-18T09:26:07.948Z"
   },
   {
    "duration": 7,
    "start_time": "2022-04-18T09:26:08.051Z"
   },
   {
    "duration": 101,
    "start_time": "2022-04-18T09:26:08.059Z"
   },
   {
    "duration": 197,
    "start_time": "2022-04-18T09:26:08.161Z"
   },
   {
    "duration": 208,
    "start_time": "2022-04-18T09:26:08.359Z"
   },
   {
    "duration": 9,
    "start_time": "2022-04-18T09:26:08.569Z"
   },
   {
    "duration": 5,
    "start_time": "2022-04-18T09:26:08.580Z"
   },
   {
    "duration": 98,
    "start_time": "2022-04-18T09:26:08.587Z"
   },
   {
    "duration": 123,
    "start_time": "2022-04-18T09:26:08.686Z"
   },
   {
    "duration": 210,
    "start_time": "2022-04-18T09:26:08.811Z"
   },
   {
    "duration": 203,
    "start_time": "2022-04-18T09:26:09.022Z"
   },
   {
    "duration": 158,
    "start_time": "2022-04-18T09:26:09.227Z"
   },
   {
    "duration": 245,
    "start_time": "2022-04-18T09:26:09.387Z"
   },
   {
    "duration": 397,
    "start_time": "2022-04-18T09:26:09.634Z"
   },
   {
    "duration": 314,
    "start_time": "2022-04-18T09:26:10.033Z"
   },
   {
    "duration": 307,
    "start_time": "2022-04-18T09:26:10.348Z"
   },
   {
    "duration": 389,
    "start_time": "2022-04-18T09:26:10.656Z"
   },
   {
    "duration": 181,
    "start_time": "2022-04-18T09:26:11.047Z"
   },
   {
    "duration": 26,
    "start_time": "2022-04-18T09:26:11.230Z"
   },
   {
    "duration": 194,
    "start_time": "2022-04-18T09:26:11.258Z"
   },
   {
    "duration": 303,
    "start_time": "2022-04-18T09:26:11.454Z"
   },
   {
    "duration": 174,
    "start_time": "2022-04-18T09:26:11.759Z"
   },
   {
    "duration": 166,
    "start_time": "2022-04-18T09:26:11.935Z"
   },
   {
    "duration": 174,
    "start_time": "2022-04-18T09:26:12.102Z"
   },
   {
    "duration": 169,
    "start_time": "2022-04-18T09:26:12.281Z"
   },
   {
    "duration": 166,
    "start_time": "2022-04-18T09:26:12.452Z"
   },
   {
    "duration": 167,
    "start_time": "2022-04-18T09:26:12.620Z"
   },
   {
    "duration": 160,
    "start_time": "2022-04-18T09:26:12.789Z"
   },
   {
    "duration": 166,
    "start_time": "2022-04-18T09:26:12.951Z"
   },
   {
    "duration": 601,
    "start_time": "2022-04-18T09:28:12.144Z"
   },
   {
    "duration": 118,
    "start_time": "2022-04-18T09:28:12.747Z"
   },
   {
    "duration": 29,
    "start_time": "2022-04-18T09:28:12.868Z"
   },
   {
    "duration": 22,
    "start_time": "2022-04-18T09:28:12.906Z"
   },
   {
    "duration": 46,
    "start_time": "2022-04-18T09:28:12.930Z"
   },
   {
    "duration": 5,
    "start_time": "2022-04-18T09:28:12.978Z"
   },
   {
    "duration": 13,
    "start_time": "2022-04-18T09:28:13.008Z"
   },
   {
    "duration": 333,
    "start_time": "2022-04-18T09:28:13.023Z"
   },
   {
    "duration": 26,
    "start_time": "2022-04-18T09:28:13.358Z"
   },
   {
    "duration": 221,
    "start_time": "2022-04-18T09:28:13.388Z"
   },
   {
    "duration": 160,
    "start_time": "2022-04-18T09:28:13.611Z"
   },
   {
    "duration": 272,
    "start_time": "2022-04-18T09:28:13.773Z"
   },
   {
    "duration": 114,
    "start_time": "2022-04-18T09:28:14.047Z"
   },
   {
    "duration": 166,
    "start_time": "2022-04-18T09:28:14.163Z"
   },
   {
    "duration": 112,
    "start_time": "2022-04-18T09:28:14.331Z"
   },
   {
    "duration": 189,
    "start_time": "2022-04-18T09:28:14.445Z"
   },
   {
    "duration": 102,
    "start_time": "2022-04-18T09:28:14.636Z"
   },
   {
    "duration": 105,
    "start_time": "2022-04-18T09:28:14.740Z"
   },
   {
    "duration": 208,
    "start_time": "2022-04-18T09:28:14.847Z"
   },
   {
    "duration": 218,
    "start_time": "2022-04-18T09:28:15.057Z"
   },
   {
    "duration": 9,
    "start_time": "2022-04-18T09:28:15.277Z"
   },
   {
    "duration": 23,
    "start_time": "2022-04-18T09:28:15.287Z"
   },
   {
    "duration": 103,
    "start_time": "2022-04-18T09:28:15.312Z"
   },
   {
    "duration": 119,
    "start_time": "2022-04-18T09:28:15.417Z"
   },
   {
    "duration": 199,
    "start_time": "2022-04-18T09:28:15.538Z"
   },
   {
    "duration": 206,
    "start_time": "2022-04-18T09:28:15.738Z"
   },
   {
    "duration": 163,
    "start_time": "2022-04-18T09:28:15.946Z"
   },
   {
    "duration": 172,
    "start_time": "2022-04-18T09:28:16.112Z"
   },
   {
    "duration": 188,
    "start_time": "2022-04-18T09:28:16.286Z"
   },
   {
    "duration": 165,
    "start_time": "2022-04-18T09:28:16.476Z"
   },
   {
    "duration": 156,
    "start_time": "2022-04-18T09:28:16.642Z"
   },
   {
    "duration": 168,
    "start_time": "2022-04-18T09:28:16.800Z"
   },
   {
    "duration": 164,
    "start_time": "2022-04-18T09:28:16.970Z"
   },
   {
    "duration": 25,
    "start_time": "2022-04-18T09:28:17.136Z"
   },
   {
    "duration": 490,
    "start_time": "2022-04-18T09:28:17.163Z"
   },
   {
    "duration": 476,
    "start_time": "2022-04-18T09:28:17.655Z"
   },
   {
    "duration": 322,
    "start_time": "2022-04-18T09:28:18.133Z"
   },
   {
    "duration": 264,
    "start_time": "2022-04-18T09:28:18.508Z"
   },
   {
    "duration": 170,
    "start_time": "2022-04-18T09:28:18.775Z"
   },
   {
    "duration": 162,
    "start_time": "2022-04-18T09:28:18.947Z"
   },
   {
    "duration": 169,
    "start_time": "2022-04-18T09:28:19.111Z"
   },
   {
    "duration": 177,
    "start_time": "2022-04-18T09:28:19.282Z"
   },
   {
    "duration": 171,
    "start_time": "2022-04-18T09:28:19.460Z"
   },
   {
    "duration": 164,
    "start_time": "2022-04-18T09:28:19.633Z"
   },
   {
    "duration": 152,
    "start_time": "2022-04-18T09:30:59.419Z"
   },
   {
    "duration": 153,
    "start_time": "2022-04-18T09:31:07.287Z"
   },
   {
    "duration": 167,
    "start_time": "2022-04-18T09:31:11.718Z"
   },
   {
    "duration": 258,
    "start_time": "2022-04-18T09:31:20.943Z"
   },
   {
    "duration": 146,
    "start_time": "2022-04-18T09:31:46.647Z"
   },
   {
    "duration": 593,
    "start_time": "2022-04-18T09:34:33.104Z"
   },
   {
    "duration": 471,
    "start_time": "2022-04-18T09:34:47.975Z"
   },
   {
    "duration": 324,
    "start_time": "2022-04-18T09:35:41.282Z"
   },
   {
    "duration": 168,
    "start_time": "2022-04-18T09:35:57.362Z"
   },
   {
    "duration": 182,
    "start_time": "2022-04-18T09:36:10.939Z"
   },
   {
    "duration": 167,
    "start_time": "2022-04-18T09:36:28.904Z"
   },
   {
    "duration": 158,
    "start_time": "2022-04-18T09:36:36.568Z"
   },
   {
    "duration": 145,
    "start_time": "2022-04-18T09:36:41.933Z"
   },
   {
    "duration": 150,
    "start_time": "2022-04-18T09:36:54.560Z"
   },
   {
    "duration": 173,
    "start_time": "2022-04-18T09:37:35.121Z"
   },
   {
    "duration": 154,
    "start_time": "2022-04-18T09:39:33.582Z"
   },
   {
    "duration": 162,
    "start_time": "2022-04-18T09:39:53.617Z"
   },
   {
    "duration": 657,
    "start_time": "2022-04-18T09:40:03.403Z"
   },
   {
    "duration": 134,
    "start_time": "2022-04-18T09:40:04.062Z"
   },
   {
    "duration": 30,
    "start_time": "2022-04-18T09:40:04.197Z"
   },
   {
    "duration": 22,
    "start_time": "2022-04-18T09:40:04.229Z"
   },
   {
    "duration": 63,
    "start_time": "2022-04-18T09:40:04.253Z"
   },
   {
    "duration": 4,
    "start_time": "2022-04-18T09:40:04.318Z"
   },
   {
    "duration": 18,
    "start_time": "2022-04-18T09:40:04.324Z"
   },
   {
    "duration": 335,
    "start_time": "2022-04-18T09:40:04.344Z"
   },
   {
    "duration": 33,
    "start_time": "2022-04-18T09:40:04.681Z"
   },
   {
    "duration": 201,
    "start_time": "2022-04-18T09:40:04.715Z"
   },
   {
    "duration": 142,
    "start_time": "2022-04-18T09:40:04.917Z"
   },
   {
    "duration": 260,
    "start_time": "2022-04-18T09:40:05.061Z"
   },
   {
    "duration": 114,
    "start_time": "2022-04-18T09:40:05.323Z"
   },
   {
    "duration": 168,
    "start_time": "2022-04-18T09:40:05.441Z"
   },
   {
    "duration": 113,
    "start_time": "2022-04-18T09:40:05.611Z"
   },
   {
    "duration": 195,
    "start_time": "2022-04-18T09:40:05.726Z"
   },
   {
    "duration": 104,
    "start_time": "2022-04-18T09:40:05.923Z"
   },
   {
    "duration": 100,
    "start_time": "2022-04-18T09:40:06.029Z"
   },
   {
    "duration": 204,
    "start_time": "2022-04-18T09:40:06.131Z"
   },
   {
    "duration": 217,
    "start_time": "2022-04-18T09:40:06.337Z"
   },
   {
    "duration": 9,
    "start_time": "2022-04-18T09:40:06.555Z"
   },
   {
    "duration": 6,
    "start_time": "2022-04-18T09:40:06.565Z"
   },
   {
    "duration": 115,
    "start_time": "2022-04-18T09:40:06.572Z"
   },
   {
    "duration": 109,
    "start_time": "2022-04-18T09:40:06.689Z"
   },
   {
    "duration": 213,
    "start_time": "2022-04-18T09:40:06.799Z"
   },
   {
    "duration": 215,
    "start_time": "2022-04-18T09:40:07.014Z"
   },
   {
    "duration": 154,
    "start_time": "2022-04-18T09:40:07.231Z"
   },
   {
    "duration": 163,
    "start_time": "2022-04-18T09:40:07.387Z"
   },
   {
    "duration": 187,
    "start_time": "2022-04-18T09:40:07.551Z"
   },
   {
    "duration": 161,
    "start_time": "2022-04-18T09:40:07.740Z"
   },
   {
    "duration": 151,
    "start_time": "2022-04-18T09:40:07.902Z"
   },
   {
    "duration": 313,
    "start_time": "2022-04-18T09:40:08.108Z"
   },
   {
    "duration": 309,
    "start_time": "2022-04-18T09:40:08.423Z"
   },
   {
    "duration": 77,
    "start_time": "2022-04-18T09:40:08.733Z"
   },
   {
    "duration": 517,
    "start_time": "2022-04-18T09:40:08.811Z"
   },
   {
    "duration": 299,
    "start_time": "2022-04-18T09:40:09.329Z"
   },
   {
    "duration": 170,
    "start_time": "2022-04-18T09:40:09.630Z"
   },
   {
    "duration": 165,
    "start_time": "2022-04-18T09:40:09.802Z"
   },
   {
    "duration": 162,
    "start_time": "2022-04-18T09:40:09.968Z"
   },
   {
    "duration": 161,
    "start_time": "2022-04-18T09:40:10.131Z"
   },
   {
    "duration": 168,
    "start_time": "2022-04-18T09:40:10.295Z"
   },
   {
    "duration": 165,
    "start_time": "2022-04-18T09:40:10.464Z"
   },
   {
    "duration": 248,
    "start_time": "2022-04-18T09:40:10.630Z"
   },
   {
    "duration": 0,
    "start_time": "2022-04-18T09:40:10.879Z"
   },
   {
    "duration": 184,
    "start_time": "2022-04-18T09:42:14.715Z"
   },
   {
    "duration": 159,
    "start_time": "2022-04-18T09:42:26.328Z"
   },
   {
    "duration": 154,
    "start_time": "2022-04-18T09:42:42.026Z"
   },
   {
    "duration": 635,
    "start_time": "2022-04-18T09:43:57.170Z"
   },
   {
    "duration": 138,
    "start_time": "2022-04-18T09:43:57.807Z"
   },
   {
    "duration": 27,
    "start_time": "2022-04-18T09:43:57.947Z"
   },
   {
    "duration": 32,
    "start_time": "2022-04-18T09:43:57.976Z"
   },
   {
    "duration": 43,
    "start_time": "2022-04-18T09:43:58.010Z"
   },
   {
    "duration": 4,
    "start_time": "2022-04-18T09:43:58.055Z"
   },
   {
    "duration": 15,
    "start_time": "2022-04-18T09:43:58.060Z"
   },
   {
    "duration": 341,
    "start_time": "2022-04-18T09:43:58.076Z"
   },
   {
    "duration": 23,
    "start_time": "2022-04-18T09:43:58.419Z"
   },
   {
    "duration": 197,
    "start_time": "2022-04-18T09:43:58.444Z"
   },
   {
    "duration": 136,
    "start_time": "2022-04-18T09:43:58.643Z"
   },
   {
    "duration": 257,
    "start_time": "2022-04-18T09:43:58.781Z"
   },
   {
    "duration": 111,
    "start_time": "2022-04-18T09:43:59.040Z"
   },
   {
    "duration": 158,
    "start_time": "2022-04-18T09:43:59.154Z"
   },
   {
    "duration": 109,
    "start_time": "2022-04-18T09:43:59.313Z"
   },
   {
    "duration": 183,
    "start_time": "2022-04-18T09:43:59.424Z"
   },
   {
    "duration": 102,
    "start_time": "2022-04-18T09:43:59.609Z"
   },
   {
    "duration": 105,
    "start_time": "2022-04-18T09:43:59.714Z"
   },
   {
    "duration": 201,
    "start_time": "2022-04-18T09:43:59.821Z"
   },
   {
    "duration": 210,
    "start_time": "2022-04-18T09:44:00.024Z"
   },
   {
    "duration": 10,
    "start_time": "2022-04-18T09:44:00.236Z"
   },
   {
    "duration": 21,
    "start_time": "2022-04-18T09:44:00.248Z"
   },
   {
    "duration": 112,
    "start_time": "2022-04-18T09:44:00.271Z"
   },
   {
    "duration": 145,
    "start_time": "2022-04-18T09:44:00.385Z"
   },
   {
    "duration": 308,
    "start_time": "2022-04-18T09:44:00.532Z"
   },
   {
    "duration": 187,
    "start_time": "2022-04-18T09:44:00.841Z"
   },
   {
    "duration": 145,
    "start_time": "2022-04-18T09:44:01.030Z"
   },
   {
    "duration": 156,
    "start_time": "2022-04-18T09:44:01.176Z"
   },
   {
    "duration": 180,
    "start_time": "2022-04-18T09:44:01.334Z"
   },
   {
    "duration": 227,
    "start_time": "2022-04-18T09:44:01.516Z"
   },
   {
    "duration": 292,
    "start_time": "2022-04-18T09:44:01.744Z"
   },
   {
    "duration": 371,
    "start_time": "2022-04-18T09:44:02.037Z"
   },
   {
    "duration": 301,
    "start_time": "2022-04-18T09:44:02.409Z"
   },
   {
    "duration": 23,
    "start_time": "2022-04-18T09:44:02.711Z"
   },
   {
    "duration": 511,
    "start_time": "2022-04-18T09:44:02.736Z"
   },
   {
    "duration": 240,
    "start_time": "2022-04-18T09:44:03.249Z"
   },
   {
    "duration": 169,
    "start_time": "2022-04-18T09:44:03.491Z"
   },
   {
    "duration": 156,
    "start_time": "2022-04-18T09:44:03.661Z"
   },
   {
    "duration": 155,
    "start_time": "2022-04-18T09:44:03.819Z"
   },
   {
    "duration": 153,
    "start_time": "2022-04-18T09:44:03.975Z"
   },
   {
    "duration": 165,
    "start_time": "2022-04-18T09:44:04.132Z"
   },
   {
    "duration": 161,
    "start_time": "2022-04-18T09:44:04.299Z"
   },
   {
    "duration": 165,
    "start_time": "2022-04-18T09:44:04.461Z"
   },
   {
    "duration": 234,
    "start_time": "2022-04-18T09:44:04.628Z"
   },
   {
    "duration": 648,
    "start_time": "2022-04-18T09:45:59.606Z"
   },
   {
    "duration": 131,
    "start_time": "2022-04-18T09:46:00.256Z"
   },
   {
    "duration": 33,
    "start_time": "2022-04-18T09:46:00.389Z"
   },
   {
    "duration": 25,
    "start_time": "2022-04-18T09:46:00.424Z"
   },
   {
    "duration": 64,
    "start_time": "2022-04-18T09:46:00.451Z"
   },
   {
    "duration": 5,
    "start_time": "2022-04-18T09:46:00.516Z"
   },
   {
    "duration": 17,
    "start_time": "2022-04-18T09:46:00.523Z"
   },
   {
    "duration": 328,
    "start_time": "2022-04-18T09:46:00.542Z"
   },
   {
    "duration": 25,
    "start_time": "2022-04-18T09:46:00.871Z"
   },
   {
    "duration": 259,
    "start_time": "2022-04-18T09:46:00.898Z"
   },
   {
    "duration": 158,
    "start_time": "2022-04-18T09:46:01.159Z"
   },
   {
    "duration": 247,
    "start_time": "2022-04-18T09:46:01.319Z"
   },
   {
    "duration": 107,
    "start_time": "2022-04-18T09:46:01.567Z"
   },
   {
    "duration": 249,
    "start_time": "2022-04-18T09:46:01.675Z"
   },
   {
    "duration": 191,
    "start_time": "2022-04-18T09:46:01.925Z"
   },
   {
    "duration": 197,
    "start_time": "2022-04-18T09:46:02.118Z"
   },
   {
    "duration": 105,
    "start_time": "2022-04-18T09:46:02.318Z"
   },
   {
    "duration": 100,
    "start_time": "2022-04-18T09:46:02.425Z"
   },
   {
    "duration": 200,
    "start_time": "2022-04-18T09:46:02.527Z"
   },
   {
    "duration": 226,
    "start_time": "2022-04-18T09:46:02.729Z"
   },
   {
    "duration": 9,
    "start_time": "2022-04-18T09:46:02.957Z"
   },
   {
    "duration": 6,
    "start_time": "2022-04-18T09:46:02.967Z"
   },
   {
    "duration": 114,
    "start_time": "2022-04-18T09:46:02.975Z"
   },
   {
    "duration": 119,
    "start_time": "2022-04-18T09:46:03.090Z"
   },
   {
    "duration": 200,
    "start_time": "2022-04-18T09:46:03.211Z"
   },
   {
    "duration": 203,
    "start_time": "2022-04-18T09:46:03.413Z"
   },
   {
    "duration": 163,
    "start_time": "2022-04-18T09:46:03.617Z"
   },
   {
    "duration": 170,
    "start_time": "2022-04-18T09:46:03.784Z"
   },
   {
    "duration": 194,
    "start_time": "2022-04-18T09:46:03.956Z"
   },
   {
    "duration": 155,
    "start_time": "2022-04-18T09:46:04.152Z"
   },
   {
    "duration": 164,
    "start_time": "2022-04-18T09:46:04.309Z"
   },
   {
    "duration": 168,
    "start_time": "2022-04-18T09:46:04.475Z"
   },
   {
    "duration": 158,
    "start_time": "2022-04-18T09:46:04.645Z"
   },
   {
    "duration": 24,
    "start_time": "2022-04-18T09:46:04.806Z"
   },
   {
    "duration": 257,
    "start_time": "2022-04-18T09:46:04.831Z"
   },
   {
    "duration": 210,
    "start_time": "2022-04-18T09:46:05.089Z"
   },
   {
    "duration": 164,
    "start_time": "2022-04-18T09:46:05.301Z"
   },
   {
    "duration": 160,
    "start_time": "2022-04-18T09:46:05.467Z"
   },
   {
    "duration": 162,
    "start_time": "2022-04-18T09:46:05.628Z"
   },
   {
    "duration": 159,
    "start_time": "2022-04-18T09:46:05.792Z"
   },
   {
    "duration": 284,
    "start_time": "2022-04-18T09:46:05.953Z"
   },
   {
    "duration": 301,
    "start_time": "2022-04-18T09:46:06.239Z"
   },
   {
    "duration": 371,
    "start_time": "2022-04-18T09:46:06.541Z"
   },
   {
    "duration": 316,
    "start_time": "2022-04-18T09:46:06.914Z"
   },
   {
    "duration": 640,
    "start_time": "2022-04-18T09:49:58.344Z"
   },
   {
    "duration": 114,
    "start_time": "2022-04-18T09:49:58.987Z"
   },
   {
    "duration": 28,
    "start_time": "2022-04-18T09:49:59.103Z"
   },
   {
    "duration": 21,
    "start_time": "2022-04-18T09:49:59.133Z"
   },
   {
    "duration": 67,
    "start_time": "2022-04-18T09:49:59.157Z"
   },
   {
    "duration": 5,
    "start_time": "2022-04-18T09:49:59.226Z"
   },
   {
    "duration": 14,
    "start_time": "2022-04-18T09:49:59.232Z"
   },
   {
    "duration": 329,
    "start_time": "2022-04-18T09:49:59.248Z"
   },
   {
    "duration": 38,
    "start_time": "2022-04-18T09:49:59.579Z"
   },
   {
    "duration": 196,
    "start_time": "2022-04-18T09:49:59.619Z"
   },
   {
    "duration": 145,
    "start_time": "2022-04-18T09:49:59.817Z"
   },
   {
    "duration": 303,
    "start_time": "2022-04-18T09:49:59.964Z"
   },
   {
    "duration": 104,
    "start_time": "2022-04-18T09:50:00.269Z"
   },
   {
    "duration": 155,
    "start_time": "2022-04-18T09:50:00.376Z"
   },
   {
    "duration": 108,
    "start_time": "2022-04-18T09:50:00.532Z"
   },
   {
    "duration": 223,
    "start_time": "2022-04-18T09:50:00.641Z"
   },
   {
    "duration": 160,
    "start_time": "2022-04-18T09:50:00.866Z"
   },
   {
    "duration": 103,
    "start_time": "2022-04-18T09:50:01.028Z"
   },
   {
    "duration": 199,
    "start_time": "2022-04-18T09:50:01.133Z"
   },
   {
    "duration": 217,
    "start_time": "2022-04-18T09:50:01.334Z"
   },
   {
    "duration": 9,
    "start_time": "2022-04-18T09:50:01.553Z"
   },
   {
    "duration": 34,
    "start_time": "2022-04-18T09:50:01.564Z"
   },
   {
    "duration": 105,
    "start_time": "2022-04-18T09:50:01.600Z"
   },
   {
    "duration": 118,
    "start_time": "2022-04-18T09:50:01.706Z"
   },
   {
    "duration": 203,
    "start_time": "2022-04-18T09:50:01.826Z"
   },
   {
    "duration": 202,
    "start_time": "2022-04-18T09:50:02.031Z"
   },
   {
    "duration": 156,
    "start_time": "2022-04-18T09:50:02.235Z"
   },
   {
    "duration": 161,
    "start_time": "2022-04-18T09:50:02.393Z"
   },
   {
    "duration": 187,
    "start_time": "2022-04-18T09:50:02.556Z"
   },
   {
    "duration": 153,
    "start_time": "2022-04-18T09:50:02.745Z"
   },
   {
    "duration": 155,
    "start_time": "2022-04-18T09:50:02.907Z"
   },
   {
    "duration": 163,
    "start_time": "2022-04-18T09:50:03.064Z"
   },
   {
    "duration": 165,
    "start_time": "2022-04-18T09:50:03.229Z"
   },
   {
    "duration": 28,
    "start_time": "2022-04-18T09:50:03.396Z"
   },
   {
    "duration": 181,
    "start_time": "2022-04-18T09:50:03.426Z"
   },
   {
    "duration": 304,
    "start_time": "2022-04-18T09:50:03.609Z"
   },
   {
    "duration": 166,
    "start_time": "2022-04-18T09:50:03.915Z"
   },
   {
    "duration": 161,
    "start_time": "2022-04-18T09:50:04.083Z"
   },
   {
    "duration": 162,
    "start_time": "2022-04-18T09:50:04.246Z"
   },
   {
    "duration": 159,
    "start_time": "2022-04-18T09:50:04.410Z"
   },
   {
    "duration": 174,
    "start_time": "2022-04-18T09:50:04.574Z"
   },
   {
    "duration": 159,
    "start_time": "2022-04-18T09:50:04.750Z"
   },
   {
    "duration": 309,
    "start_time": "2022-04-18T09:50:04.911Z"
   },
   {
    "duration": 316,
    "start_time": "2022-04-18T09:50:05.222Z"
   },
   {
    "duration": 78,
    "start_time": "2022-04-18T10:16:16.060Z"
   },
   {
    "duration": 147,
    "start_time": "2022-04-18T10:16:21.686Z"
   },
   {
    "duration": 135,
    "start_time": "2022-04-18T10:17:21.488Z"
   },
   {
    "duration": 125,
    "start_time": "2022-04-18T10:17:35.229Z"
   },
   {
    "duration": 134,
    "start_time": "2022-04-18T10:17:40.248Z"
   },
   {
    "duration": 234,
    "start_time": "2022-04-18T10:17:46.641Z"
   },
   {
    "duration": 166,
    "start_time": "2022-04-18T10:18:06.302Z"
   },
   {
    "duration": 135,
    "start_time": "2022-04-18T10:18:18.566Z"
   },
   {
    "duration": 135,
    "start_time": "2022-04-18T10:18:30.711Z"
   },
   {
    "duration": 139,
    "start_time": "2022-04-18T10:18:35.988Z"
   },
   {
    "duration": 614,
    "start_time": "2022-04-18T10:19:23.943Z"
   },
   {
    "duration": 132,
    "start_time": "2022-04-18T10:19:24.559Z"
   },
   {
    "duration": 30,
    "start_time": "2022-04-18T10:19:24.693Z"
   },
   {
    "duration": 23,
    "start_time": "2022-04-18T10:19:24.725Z"
   },
   {
    "duration": 67,
    "start_time": "2022-04-18T10:19:24.749Z"
   },
   {
    "duration": 5,
    "start_time": "2022-04-18T10:19:24.817Z"
   },
   {
    "duration": 13,
    "start_time": "2022-04-18T10:19:24.824Z"
   },
   {
    "duration": 333,
    "start_time": "2022-04-18T10:19:24.838Z"
   },
   {
    "duration": 23,
    "start_time": "2022-04-18T10:19:25.172Z"
   },
   {
    "duration": 187,
    "start_time": "2022-04-18T10:19:25.207Z"
   },
   {
    "duration": 147,
    "start_time": "2022-04-18T10:19:25.395Z"
   },
   {
    "duration": 244,
    "start_time": "2022-04-18T10:19:25.543Z"
   },
   {
    "duration": 103,
    "start_time": "2022-04-18T10:19:25.788Z"
   },
   {
    "duration": 171,
    "start_time": "2022-04-18T10:19:25.893Z"
   },
   {
    "duration": 112,
    "start_time": "2022-04-18T10:19:26.066Z"
   },
   {
    "duration": 184,
    "start_time": "2022-04-18T10:19:26.180Z"
   },
   {
    "duration": 99,
    "start_time": "2022-04-18T10:19:26.365Z"
   },
   {
    "duration": 92,
    "start_time": "2022-04-18T10:19:26.465Z"
   },
   {
    "duration": 195,
    "start_time": "2022-04-18T10:19:26.559Z"
   },
   {
    "duration": 197,
    "start_time": "2022-04-18T10:19:26.755Z"
   },
   {
    "duration": 8,
    "start_time": "2022-04-18T10:19:26.953Z"
   },
   {
    "duration": 6,
    "start_time": "2022-04-18T10:19:26.962Z"
   },
   {
    "duration": 98,
    "start_time": "2022-04-18T10:19:26.969Z"
   },
   {
    "duration": 108,
    "start_time": "2022-04-18T10:19:27.069Z"
   },
   {
    "duration": 330,
    "start_time": "2022-04-18T10:19:27.179Z"
   },
   {
    "duration": 400,
    "start_time": "2022-04-18T10:19:27.510Z"
   },
   {
    "duration": 295,
    "start_time": "2022-04-18T10:19:27.912Z"
   },
   {
    "duration": 318,
    "start_time": "2022-04-18T10:19:28.211Z"
   },
   {
    "duration": 281,
    "start_time": "2022-04-18T10:19:28.531Z"
   },
   {
    "duration": 146,
    "start_time": "2022-04-18T10:19:28.814Z"
   },
   {
    "duration": 158,
    "start_time": "2022-04-18T10:19:28.962Z"
   },
   {
    "duration": 156,
    "start_time": "2022-04-18T10:19:29.122Z"
   },
   {
    "duration": 160,
    "start_time": "2022-04-18T10:19:29.279Z"
   },
   {
    "duration": 22,
    "start_time": "2022-04-18T10:19:29.441Z"
   },
   {
    "duration": 255,
    "start_time": "2022-04-18T10:19:29.465Z"
   },
   {
    "duration": 210,
    "start_time": "2022-04-18T10:19:29.721Z"
   },
   {
    "duration": 171,
    "start_time": "2022-04-18T10:19:29.933Z"
   },
   {
    "duration": 147,
    "start_time": "2022-04-18T10:19:30.107Z"
   },
   {
    "duration": 162,
    "start_time": "2022-04-18T10:19:30.256Z"
   },
   {
    "duration": 151,
    "start_time": "2022-04-18T10:19:30.420Z"
   },
   {
    "duration": 173,
    "start_time": "2022-04-18T10:19:30.573Z"
   },
   {
    "duration": 152,
    "start_time": "2022-04-18T10:19:30.748Z"
   },
   {
    "duration": 167,
    "start_time": "2022-04-18T10:19:30.901Z"
   },
   {
    "duration": 165,
    "start_time": "2022-04-18T10:19:31.070Z"
   },
   {
    "duration": 143,
    "start_time": "2022-04-18T10:19:46.558Z"
   },
   {
    "duration": 202,
    "start_time": "2022-04-18T10:20:29.045Z"
   },
   {
    "duration": 660,
    "start_time": "2022-04-18T10:20:47.576Z"
   },
   {
    "duration": 127,
    "start_time": "2022-04-18T10:20:48.238Z"
   },
   {
    "duration": 29,
    "start_time": "2022-04-18T10:20:48.367Z"
   },
   {
    "duration": 27,
    "start_time": "2022-04-18T10:20:48.398Z"
   },
   {
    "duration": 50,
    "start_time": "2022-04-18T10:20:48.428Z"
   },
   {
    "duration": 4,
    "start_time": "2022-04-18T10:20:48.480Z"
   },
   {
    "duration": 12,
    "start_time": "2022-04-18T10:20:48.507Z"
   },
   {
    "duration": 339,
    "start_time": "2022-04-18T10:20:48.520Z"
   },
   {
    "duration": 25,
    "start_time": "2022-04-18T10:20:48.861Z"
   },
   {
    "duration": 219,
    "start_time": "2022-04-18T10:20:48.888Z"
   },
   {
    "duration": 155,
    "start_time": "2022-04-18T10:20:49.109Z"
   },
   {
    "duration": 251,
    "start_time": "2022-04-18T10:20:49.266Z"
   },
   {
    "duration": 104,
    "start_time": "2022-04-18T10:20:49.518Z"
   },
   {
    "duration": 150,
    "start_time": "2022-04-18T10:20:49.625Z"
   },
   {
    "duration": 103,
    "start_time": "2022-04-18T10:20:49.777Z"
   },
   {
    "duration": 194,
    "start_time": "2022-04-18T10:20:49.882Z"
   },
   {
    "duration": 106,
    "start_time": "2022-04-18T10:20:50.078Z"
   },
   {
    "duration": 98,
    "start_time": "2022-04-18T10:20:50.186Z"
   },
   {
    "duration": 193,
    "start_time": "2022-04-18T10:20:50.285Z"
   },
   {
    "duration": 202,
    "start_time": "2022-04-18T10:20:50.480Z"
   },
   {
    "duration": 9,
    "start_time": "2022-04-18T10:20:50.684Z"
   },
   {
    "duration": 18,
    "start_time": "2022-04-18T10:20:50.694Z"
   },
   {
    "duration": 107,
    "start_time": "2022-04-18T10:20:50.713Z"
   },
   {
    "duration": 123,
    "start_time": "2022-04-18T10:20:50.822Z"
   },
   {
    "duration": 205,
    "start_time": "2022-04-18T10:20:50.947Z"
   },
   {
    "duration": 209,
    "start_time": "2022-04-18T10:20:51.154Z"
   },
   {
    "duration": 161,
    "start_time": "2022-04-18T10:20:51.365Z"
   },
   {
    "duration": 189,
    "start_time": "2022-04-18T10:20:51.527Z"
   },
   {
    "duration": 207,
    "start_time": "2022-04-18T10:20:51.717Z"
   },
   {
    "duration": 162,
    "start_time": "2022-04-18T10:20:51.926Z"
   },
   {
    "duration": 166,
    "start_time": "2022-04-18T10:20:52.090Z"
   },
   {
    "duration": 158,
    "start_time": "2022-04-18T10:20:52.257Z"
   },
   {
    "duration": 149,
    "start_time": "2022-04-18T10:20:52.417Z"
   },
   {
    "duration": 22,
    "start_time": "2022-04-18T10:20:52.568Z"
   },
   {
    "duration": 180,
    "start_time": "2022-04-18T10:20:52.592Z"
   },
   {
    "duration": 286,
    "start_time": "2022-04-18T10:20:52.774Z"
   },
   {
    "duration": 175,
    "start_time": "2022-04-18T10:20:53.062Z"
   },
   {
    "duration": 159,
    "start_time": "2022-04-18T10:20:53.239Z"
   },
   {
    "duration": 155,
    "start_time": "2022-04-18T10:20:53.400Z"
   },
   {
    "duration": 164,
    "start_time": "2022-04-18T10:20:53.556Z"
   },
   {
    "duration": 168,
    "start_time": "2022-04-18T10:20:53.724Z"
   },
   {
    "duration": 155,
    "start_time": "2022-04-18T10:20:53.894Z"
   },
   {
    "duration": 173,
    "start_time": "2022-04-18T10:20:54.051Z"
   },
   {
    "duration": 307,
    "start_time": "2022-04-18T10:20:54.226Z"
   },
   {
    "duration": 234,
    "start_time": "2022-04-18T10:34:09.857Z"
   },
   {
    "duration": 326,
    "start_time": "2022-04-18T10:34:38.740Z"
   },
   {
    "duration": 176,
    "start_time": "2022-04-18T10:35:43.258Z"
   },
   {
    "duration": 149,
    "start_time": "2022-04-18T10:35:57.620Z"
   },
   {
    "duration": 194,
    "start_time": "2022-04-18T10:37:02.991Z"
   },
   {
    "duration": 169,
    "start_time": "2022-04-18T10:37:45.133Z"
   },
   {
    "duration": 141,
    "start_time": "2022-04-18T10:41:34.771Z"
   },
   {
    "duration": 77,
    "start_time": "2022-04-18T10:41:48.754Z"
   },
   {
    "duration": 149,
    "start_time": "2022-04-18T10:41:56.178Z"
   },
   {
    "duration": 610,
    "start_time": "2022-04-18T10:42:06.169Z"
   },
   {
    "duration": 184,
    "start_time": "2022-04-18T10:42:06.780Z"
   },
   {
    "duration": 28,
    "start_time": "2022-04-18T10:42:06.965Z"
   },
   {
    "duration": 30,
    "start_time": "2022-04-18T10:42:06.994Z"
   },
   {
    "duration": 42,
    "start_time": "2022-04-18T10:42:07.026Z"
   },
   {
    "duration": 5,
    "start_time": "2022-04-18T10:42:07.069Z"
   },
   {
    "duration": 32,
    "start_time": "2022-04-18T10:42:07.075Z"
   },
   {
    "duration": 319,
    "start_time": "2022-04-18T10:42:07.109Z"
   },
   {
    "duration": 25,
    "start_time": "2022-04-18T10:42:07.430Z"
   },
   {
    "duration": 206,
    "start_time": "2022-04-18T10:42:07.456Z"
   },
   {
    "duration": 160,
    "start_time": "2022-04-18T10:42:07.663Z"
   },
   {
    "duration": 255,
    "start_time": "2022-04-18T10:42:07.825Z"
   },
   {
    "duration": 103,
    "start_time": "2022-04-18T10:42:08.082Z"
   },
   {
    "duration": 160,
    "start_time": "2022-04-18T10:42:08.188Z"
   },
   {
    "duration": 107,
    "start_time": "2022-04-18T10:42:08.349Z"
   },
   {
    "duration": 173,
    "start_time": "2022-04-18T10:42:08.457Z"
   },
   {
    "duration": 97,
    "start_time": "2022-04-18T10:42:08.631Z"
   },
   {
    "duration": 90,
    "start_time": "2022-04-18T10:42:08.729Z"
   },
   {
    "duration": 188,
    "start_time": "2022-04-18T10:42:08.820Z"
   },
   {
    "duration": 208,
    "start_time": "2022-04-18T10:42:09.010Z"
   },
   {
    "duration": 8,
    "start_time": "2022-04-18T10:42:09.220Z"
   },
   {
    "duration": 6,
    "start_time": "2022-04-18T10:42:09.229Z"
   },
   {
    "duration": 104,
    "start_time": "2022-04-18T10:42:09.236Z"
   },
   {
    "duration": 108,
    "start_time": "2022-04-18T10:42:09.341Z"
   },
   {
    "duration": 196,
    "start_time": "2022-04-18T10:42:09.450Z"
   },
   {
    "duration": 206,
    "start_time": "2022-04-18T10:42:09.648Z"
   },
   {
    "duration": 156,
    "start_time": "2022-04-18T10:42:09.856Z"
   },
   {
    "duration": 181,
    "start_time": "2022-04-18T10:42:10.015Z"
   },
   {
    "duration": 185,
    "start_time": "2022-04-18T10:42:10.198Z"
   },
   {
    "duration": 144,
    "start_time": "2022-04-18T10:42:10.385Z"
   },
   {
    "duration": 158,
    "start_time": "2022-04-18T10:42:10.530Z"
   },
   {
    "duration": 160,
    "start_time": "2022-04-18T10:42:10.689Z"
   },
   {
    "duration": 154,
    "start_time": "2022-04-18T10:42:10.850Z"
   },
   {
    "duration": 22,
    "start_time": "2022-04-18T10:42:11.005Z"
   },
   {
    "duration": 172,
    "start_time": "2022-04-18T10:42:11.029Z"
   },
   {
    "duration": 275,
    "start_time": "2022-04-18T10:42:11.206Z"
   },
   {
    "duration": 169,
    "start_time": "2022-04-18T10:42:11.483Z"
   },
   {
    "duration": 140,
    "start_time": "2022-04-18T10:42:11.654Z"
   },
   {
    "duration": 165,
    "start_time": "2022-04-18T10:42:11.797Z"
   },
   {
    "duration": 168,
    "start_time": "2022-04-18T10:42:11.964Z"
   },
   {
    "duration": 178,
    "start_time": "2022-04-18T10:42:12.136Z"
   },
   {
    "duration": 152,
    "start_time": "2022-04-18T10:42:12.317Z"
   },
   {
    "duration": 175,
    "start_time": "2022-04-18T10:42:12.471Z"
   },
   {
    "duration": 162,
    "start_time": "2022-04-18T10:42:12.648Z"
   },
   {
    "duration": 250,
    "start_time": "2022-04-18T10:55:35.716Z"
   },
   {
    "duration": 166,
    "start_time": "2022-04-18T10:55:54.932Z"
   },
   {
    "duration": 26,
    "start_time": "2022-04-18T10:56:56.595Z"
   },
   {
    "duration": 24,
    "start_time": "2022-04-18T10:57:06.781Z"
   },
   {
    "duration": 147,
    "start_time": "2022-04-18T10:57:09.027Z"
   },
   {
    "duration": 11,
    "start_time": "2022-04-18T10:57:27.074Z"
   },
   {
    "duration": 133,
    "start_time": "2022-04-18T10:57:52.421Z"
   },
   {
    "duration": 149,
    "start_time": "2022-04-18T10:58:23.107Z"
   },
   {
    "duration": 232,
    "start_time": "2022-04-18T10:58:39.725Z"
   },
   {
    "duration": 152,
    "start_time": "2022-04-18T10:59:25.245Z"
   },
   {
    "duration": 171,
    "start_time": "2022-04-18T11:03:05.929Z"
   },
   {
    "duration": 153,
    "start_time": "2022-04-18T11:03:20.148Z"
   },
   {
    "duration": 14,
    "start_time": "2022-04-18T11:03:36.362Z"
   },
   {
    "duration": 144,
    "start_time": "2022-04-18T11:03:47.430Z"
   },
   {
    "duration": 80,
    "start_time": "2022-04-18T11:03:57.495Z"
   },
   {
    "duration": 17,
    "start_time": "2022-04-18T11:04:11.294Z"
   },
   {
    "duration": 170,
    "start_time": "2022-04-18T11:04:22.710Z"
   },
   {
    "duration": 154,
    "start_time": "2022-04-18T11:05:20.784Z"
   },
   {
    "duration": 11,
    "start_time": "2022-04-18T11:05:31.655Z"
   },
   {
    "duration": 153,
    "start_time": "2022-04-18T11:05:46.630Z"
   },
   {
    "duration": 162,
    "start_time": "2022-04-18T11:06:08.799Z"
   },
   {
    "duration": 164,
    "start_time": "2022-04-18T11:06:40.868Z"
   },
   {
    "duration": 633,
    "start_time": "2022-04-18T11:06:46.581Z"
   },
   {
    "duration": 137,
    "start_time": "2022-04-18T11:06:47.216Z"
   },
   {
    "duration": 29,
    "start_time": "2022-04-18T11:06:47.355Z"
   },
   {
    "duration": 40,
    "start_time": "2022-04-18T11:06:47.387Z"
   },
   {
    "duration": 51,
    "start_time": "2022-04-18T11:06:47.429Z"
   },
   {
    "duration": 5,
    "start_time": "2022-04-18T11:06:47.481Z"
   },
   {
    "duration": 37,
    "start_time": "2022-04-18T11:06:47.487Z"
   },
   {
    "duration": 333,
    "start_time": "2022-04-18T11:06:47.526Z"
   },
   {
    "duration": 23,
    "start_time": "2022-04-18T11:06:47.861Z"
   },
   {
    "duration": 208,
    "start_time": "2022-04-18T11:06:47.887Z"
   },
   {
    "duration": 157,
    "start_time": "2022-04-18T11:06:48.097Z"
   },
   {
    "duration": 266,
    "start_time": "2022-04-18T11:06:48.256Z"
   },
   {
    "duration": 116,
    "start_time": "2022-04-18T11:06:48.524Z"
   },
   {
    "duration": 151,
    "start_time": "2022-04-18T11:06:48.642Z"
   },
   {
    "duration": 115,
    "start_time": "2022-04-18T11:06:48.795Z"
   },
   {
    "duration": 181,
    "start_time": "2022-04-18T11:06:48.913Z"
   },
   {
    "duration": 103,
    "start_time": "2022-04-18T11:06:49.096Z"
   },
   {
    "duration": 101,
    "start_time": "2022-04-18T11:06:49.206Z"
   },
   {
    "duration": 203,
    "start_time": "2022-04-18T11:06:49.309Z"
   },
   {
    "duration": 223,
    "start_time": "2022-04-18T11:06:49.514Z"
   },
   {
    "duration": 9,
    "start_time": "2022-04-18T11:06:49.738Z"
   },
   {
    "duration": 62,
    "start_time": "2022-04-18T11:06:49.748Z"
   },
   {
    "duration": 204,
    "start_time": "2022-04-18T11:06:49.812Z"
   },
   {
    "duration": 301,
    "start_time": "2022-04-18T11:06:50.019Z"
   },
   {
    "duration": 498,
    "start_time": "2022-04-18T11:06:50.321Z"
   },
   {
    "duration": 511,
    "start_time": "2022-04-18T11:06:50.820Z"
   },
   {
    "duration": 263,
    "start_time": "2022-04-18T11:06:51.333Z"
   },
   {
    "duration": 171,
    "start_time": "2022-04-18T11:06:51.599Z"
   },
   {
    "duration": 197,
    "start_time": "2022-04-18T11:06:51.773Z"
   },
   {
    "duration": 165,
    "start_time": "2022-04-18T11:06:51.972Z"
   },
   {
    "duration": 157,
    "start_time": "2022-04-18T11:06:52.139Z"
   },
   {
    "duration": 162,
    "start_time": "2022-04-18T11:06:52.298Z"
   },
   {
    "duration": 180,
    "start_time": "2022-04-18T11:06:52.461Z"
   },
   {
    "duration": 22,
    "start_time": "2022-04-18T11:06:52.642Z"
   },
   {
    "duration": 184,
    "start_time": "2022-04-18T11:06:52.666Z"
   },
   {
    "duration": 300,
    "start_time": "2022-04-18T11:06:52.851Z"
   },
   {
    "duration": 164,
    "start_time": "2022-04-18T11:06:53.152Z"
   },
   {
    "duration": 147,
    "start_time": "2022-04-18T11:06:53.318Z"
   },
   {
    "duration": 163,
    "start_time": "2022-04-18T11:06:53.467Z"
   },
   {
    "duration": 157,
    "start_time": "2022-04-18T11:06:53.632Z"
   },
   {
    "duration": 173,
    "start_time": "2022-04-18T11:06:53.791Z"
   },
   {
    "duration": 159,
    "start_time": "2022-04-18T11:06:53.965Z"
   },
   {
    "duration": 163,
    "start_time": "2022-04-18T11:06:54.126Z"
   },
   {
    "duration": 176,
    "start_time": "2022-04-18T11:06:54.291Z"
   },
   {
    "duration": 159,
    "start_time": "2022-04-18T11:07:13.665Z"
   },
   {
    "duration": 154,
    "start_time": "2022-04-18T11:07:31.759Z"
   },
   {
    "duration": 191,
    "start_time": "2022-04-18T11:07:40.490Z"
   },
   {
    "duration": 168,
    "start_time": "2022-04-18T11:07:58.347Z"
   },
   {
    "duration": 63,
    "start_time": "2022-04-18T11:08:48.873Z"
   },
   {
    "duration": 88,
    "start_time": "2022-04-18T11:08:55.101Z"
   },
   {
    "duration": 171,
    "start_time": "2022-04-18T11:09:01.500Z"
   },
   {
    "duration": 256,
    "start_time": "2022-04-18T11:09:55.340Z"
   },
   {
    "duration": 166,
    "start_time": "2022-04-18T11:10:35.575Z"
   },
   {
    "duration": 170,
    "start_time": "2022-04-18T11:11:08.227Z"
   },
   {
    "duration": 151,
    "start_time": "2022-04-18T11:11:46.427Z"
   },
   {
    "duration": 688,
    "start_time": "2022-04-18T11:12:22.194Z"
   },
   {
    "duration": 141,
    "start_time": "2022-04-18T11:12:22.884Z"
   },
   {
    "duration": 29,
    "start_time": "2022-04-18T11:12:23.027Z"
   },
   {
    "duration": 22,
    "start_time": "2022-04-18T11:12:23.059Z"
   },
   {
    "duration": 78,
    "start_time": "2022-04-18T11:12:23.083Z"
   },
   {
    "duration": 4,
    "start_time": "2022-04-18T11:12:23.163Z"
   },
   {
    "duration": 16,
    "start_time": "2022-04-18T11:12:23.168Z"
   },
   {
    "duration": 354,
    "start_time": "2022-04-18T11:12:23.186Z"
   },
   {
    "duration": 24,
    "start_time": "2022-04-18T11:12:23.542Z"
   },
   {
    "duration": 216,
    "start_time": "2022-04-18T11:12:23.569Z"
   },
   {
    "duration": 161,
    "start_time": "2022-04-18T11:12:23.787Z"
   },
   {
    "duration": 275,
    "start_time": "2022-04-18T11:12:23.950Z"
   },
   {
    "duration": 108,
    "start_time": "2022-04-18T11:12:24.227Z"
   },
   {
    "duration": 157,
    "start_time": "2022-04-18T11:12:24.336Z"
   },
   {
    "duration": 117,
    "start_time": "2022-04-18T11:12:24.494Z"
   },
   {
    "duration": 192,
    "start_time": "2022-04-18T11:12:24.613Z"
   },
   {
    "duration": 103,
    "start_time": "2022-04-18T11:12:24.808Z"
   },
   {
    "duration": 103,
    "start_time": "2022-04-18T11:12:24.912Z"
   },
   {
    "duration": 218,
    "start_time": "2022-04-18T11:12:25.018Z"
   },
   {
    "duration": 227,
    "start_time": "2022-04-18T11:12:25.238Z"
   },
   {
    "duration": 9,
    "start_time": "2022-04-18T11:12:25.467Z"
   },
   {
    "duration": 6,
    "start_time": "2022-04-18T11:12:25.477Z"
   },
   {
    "duration": 107,
    "start_time": "2022-04-18T11:12:25.484Z"
   },
   {
    "duration": 123,
    "start_time": "2022-04-18T11:12:25.593Z"
   },
   {
    "duration": 206,
    "start_time": "2022-04-18T11:12:25.717Z"
   },
   {
    "duration": 208,
    "start_time": "2022-04-18T11:12:25.925Z"
   },
   {
    "duration": 153,
    "start_time": "2022-04-18T11:12:26.135Z"
   },
   {
    "duration": 172,
    "start_time": "2022-04-18T11:12:26.292Z"
   },
   {
    "duration": 197,
    "start_time": "2022-04-18T11:12:26.466Z"
   },
   {
    "duration": 166,
    "start_time": "2022-04-18T11:12:26.665Z"
   },
   {
    "duration": 164,
    "start_time": "2022-04-18T11:12:26.833Z"
   },
   {
    "duration": 167,
    "start_time": "2022-04-18T11:12:26.998Z"
   },
   {
    "duration": 160,
    "start_time": "2022-04-18T11:12:27.167Z"
   },
   {
    "duration": 23,
    "start_time": "2022-04-18T11:12:27.329Z"
   },
   {
    "duration": 189,
    "start_time": "2022-04-18T11:12:27.354Z"
   },
   {
    "duration": 290,
    "start_time": "2022-04-18T11:12:27.544Z"
   },
   {
    "duration": 152,
    "start_time": "2022-04-18T11:12:27.836Z"
   },
   {
    "duration": 144,
    "start_time": "2022-04-18T11:12:27.990Z"
   },
   {
    "duration": 161,
    "start_time": "2022-04-18T11:12:28.136Z"
   },
   {
    "duration": 158,
    "start_time": "2022-04-18T11:12:28.307Z"
   },
   {
    "duration": 180,
    "start_time": "2022-04-18T11:12:28.467Z"
   },
   {
    "duration": 158,
    "start_time": "2022-04-18T11:12:28.650Z"
   },
   {
    "duration": 166,
    "start_time": "2022-04-18T11:12:28.814Z"
   },
   {
    "duration": 176,
    "start_time": "2022-04-18T11:12:28.982Z"
   },
   {
    "duration": 645,
    "start_time": "2022-04-18T12:49:49.089Z"
   },
   {
    "duration": 126,
    "start_time": "2022-04-18T12:49:49.736Z"
   },
   {
    "duration": 30,
    "start_time": "2022-04-18T12:49:49.864Z"
   },
   {
    "duration": 31,
    "start_time": "2022-04-18T12:49:49.896Z"
   },
   {
    "duration": 42,
    "start_time": "2022-04-18T12:49:49.929Z"
   },
   {
    "duration": 4,
    "start_time": "2022-04-18T12:49:49.972Z"
   },
   {
    "duration": 35,
    "start_time": "2022-04-18T12:49:49.978Z"
   },
   {
    "duration": 328,
    "start_time": "2022-04-18T12:49:50.015Z"
   },
   {
    "duration": 24,
    "start_time": "2022-04-18T12:49:50.345Z"
   },
   {
    "duration": 199,
    "start_time": "2022-04-18T12:49:50.370Z"
   },
   {
    "duration": 149,
    "start_time": "2022-04-18T12:49:50.570Z"
   },
   {
    "duration": 244,
    "start_time": "2022-04-18T12:49:50.721Z"
   },
   {
    "duration": 99,
    "start_time": "2022-04-18T12:49:50.967Z"
   },
   {
    "duration": 149,
    "start_time": "2022-04-18T12:49:51.069Z"
   },
   {
    "duration": 105,
    "start_time": "2022-04-18T12:49:51.220Z"
   },
   {
    "duration": 180,
    "start_time": "2022-04-18T12:49:51.327Z"
   },
   {
    "duration": 84,
    "start_time": "2022-04-18T12:49:51.509Z"
   },
   {
    "duration": 101,
    "start_time": "2022-04-18T12:49:51.608Z"
   },
   {
    "duration": 189,
    "start_time": "2022-04-18T12:49:51.711Z"
   },
   {
    "duration": 203,
    "start_time": "2022-04-18T12:49:51.906Z"
   },
   {
    "duration": 10,
    "start_time": "2022-04-18T12:49:52.111Z"
   },
   {
    "duration": 23,
    "start_time": "2022-04-18T12:49:52.122Z"
   },
   {
    "duration": 89,
    "start_time": "2022-04-18T12:49:52.147Z"
   },
   {
    "duration": 105,
    "start_time": "2022-04-18T12:49:52.238Z"
   },
   {
    "duration": 202,
    "start_time": "2022-04-18T12:49:52.344Z"
   },
   {
    "duration": 189,
    "start_time": "2022-04-18T12:49:52.548Z"
   },
   {
    "duration": 147,
    "start_time": "2022-04-18T12:49:52.738Z"
   },
   {
    "duration": 160,
    "start_time": "2022-04-18T12:49:52.887Z"
   },
   {
    "duration": 174,
    "start_time": "2022-04-18T12:49:53.049Z"
   },
   {
    "duration": 141,
    "start_time": "2022-04-18T12:49:53.225Z"
   },
   {
    "duration": 157,
    "start_time": "2022-04-18T12:49:53.367Z"
   },
   {
    "duration": 155,
    "start_time": "2022-04-18T12:49:53.525Z"
   },
   {
    "duration": 146,
    "start_time": "2022-04-18T12:49:53.682Z"
   },
   {
    "duration": 21,
    "start_time": "2022-04-18T12:49:53.830Z"
   },
   {
    "duration": 174,
    "start_time": "2022-04-18T12:49:53.852Z"
   },
   {
    "duration": 280,
    "start_time": "2022-04-18T12:49:54.028Z"
   },
   {
    "duration": 151,
    "start_time": "2022-04-18T12:49:54.309Z"
   },
   {
    "duration": 132,
    "start_time": "2022-04-18T12:49:54.462Z"
   },
   {
    "duration": 153,
    "start_time": "2022-04-18T12:49:54.596Z"
   },
   {
    "duration": 149,
    "start_time": "2022-04-18T12:49:54.751Z"
   },
   {
    "duration": 167,
    "start_time": "2022-04-18T12:49:54.907Z"
   },
   {
    "duration": 134,
    "start_time": "2022-04-18T12:49:55.076Z"
   },
   {
    "duration": 150,
    "start_time": "2022-04-18T12:49:55.211Z"
   },
   {
    "duration": 156,
    "start_time": "2022-04-18T12:49:55.363Z"
   },
   {
    "duration": 915,
    "start_time": "2022-04-26T17:17:49.295Z"
   },
   {
    "duration": 134,
    "start_time": "2022-04-26T17:17:50.212Z"
   },
   {
    "duration": 25,
    "start_time": "2022-04-26T17:17:50.348Z"
   },
   {
    "duration": 20,
    "start_time": "2022-04-26T17:17:50.374Z"
   },
   {
    "duration": 60,
    "start_time": "2022-04-26T17:17:50.396Z"
   },
   {
    "duration": 5,
    "start_time": "2022-04-26T17:17:50.457Z"
   },
   {
    "duration": 13,
    "start_time": "2022-04-26T17:17:50.463Z"
   },
   {
    "duration": 297,
    "start_time": "2022-04-26T17:17:50.477Z"
   },
   {
    "duration": 21,
    "start_time": "2022-04-26T17:17:50.775Z"
   },
   {
    "duration": 173,
    "start_time": "2022-04-26T17:17:50.797Z"
   },
   {
    "duration": 130,
    "start_time": "2022-04-26T17:17:50.972Z"
   },
   {
    "duration": 215,
    "start_time": "2022-04-26T17:17:51.104Z"
   },
   {
    "duration": 91,
    "start_time": "2022-04-26T17:17:51.321Z"
   },
   {
    "duration": 136,
    "start_time": "2022-04-26T17:17:51.416Z"
   },
   {
    "duration": 103,
    "start_time": "2022-04-26T17:17:51.554Z"
   },
   {
    "duration": 500,
    "start_time": "2022-04-26T17:17:51.659Z"
   },
   {
    "duration": 214,
    "start_time": "2022-04-26T17:17:52.161Z"
   },
   {
    "duration": 278,
    "start_time": "2022-04-26T17:17:52.377Z"
   },
   {
    "duration": 499,
    "start_time": "2022-04-26T17:17:52.657Z"
   },
   {
    "duration": 522,
    "start_time": "2022-04-26T17:17:53.158Z"
   },
   {
    "duration": 65,
    "start_time": "2022-04-26T17:17:53.682Z"
   },
   {
    "duration": 7,
    "start_time": "2022-04-26T17:17:53.750Z"
   },
   {
    "duration": 144,
    "start_time": "2022-04-26T17:17:53.759Z"
   },
   {
    "duration": 117,
    "start_time": "2022-04-26T17:17:53.905Z"
   },
   {
    "duration": 177,
    "start_time": "2022-04-26T17:17:54.023Z"
   },
   {
    "duration": 165,
    "start_time": "2022-04-26T17:17:54.202Z"
   },
   {
    "duration": 136,
    "start_time": "2022-04-26T17:17:54.368Z"
   },
   {
    "duration": 145,
    "start_time": "2022-04-26T17:17:54.506Z"
   },
   {
    "duration": 159,
    "start_time": "2022-04-26T17:17:54.652Z"
   },
   {
    "duration": 136,
    "start_time": "2022-04-26T17:17:54.813Z"
   },
   {
    "duration": 133,
    "start_time": "2022-04-26T17:17:54.950Z"
   },
   {
    "duration": 136,
    "start_time": "2022-04-26T17:17:55.084Z"
   },
   {
    "duration": 133,
    "start_time": "2022-04-26T17:17:55.221Z"
   },
   {
    "duration": 20,
    "start_time": "2022-04-26T17:17:55.355Z"
   },
   {
    "duration": 154,
    "start_time": "2022-04-26T17:17:55.376Z"
   },
   {
    "duration": 250,
    "start_time": "2022-04-26T17:17:55.532Z"
   },
   {
    "duration": 138,
    "start_time": "2022-04-26T17:17:55.784Z"
   },
   {
    "duration": 117,
    "start_time": "2022-04-26T17:17:55.923Z"
   },
   {
    "duration": 137,
    "start_time": "2022-04-26T17:17:56.047Z"
   },
   {
    "duration": 137,
    "start_time": "2022-04-26T17:17:56.186Z"
   },
   {
    "duration": 148,
    "start_time": "2022-04-26T17:17:56.328Z"
   },
   {
    "duration": 129,
    "start_time": "2022-04-26T17:17:56.479Z"
   },
   {
    "duration": 142,
    "start_time": "2022-04-26T17:17:56.610Z"
   },
   {
    "duration": 137,
    "start_time": "2022-04-26T17:17:56.753Z"
   },
   {
    "duration": 7,
    "start_time": "2022-04-26T17:18:05.983Z"
   },
   {
    "duration": 5,
    "start_time": "2022-04-26T17:25:20.311Z"
   },
   {
    "duration": 1674,
    "start_time": "2022-04-26T17:46:22.517Z"
   },
   {
    "duration": 4,
    "start_time": "2022-04-26T17:46:30.539Z"
   },
   {
    "duration": 5,
    "start_time": "2022-04-26T17:46:35.001Z"
   },
   {
    "duration": 5,
    "start_time": "2022-04-26T17:49:10.196Z"
   },
   {
    "duration": 916,
    "start_time": "2022-04-27T08:26:55.092Z"
   },
   {
    "duration": 212,
    "start_time": "2022-04-27T08:26:56.011Z"
   },
   {
    "duration": 28,
    "start_time": "2022-04-27T08:26:56.224Z"
   },
   {
    "duration": 21,
    "start_time": "2022-04-27T08:26:56.254Z"
   },
   {
    "duration": 66,
    "start_time": "2022-04-27T08:26:56.277Z"
   },
   {
    "duration": 5,
    "start_time": "2022-04-27T08:26:56.346Z"
   },
   {
    "duration": 18,
    "start_time": "2022-04-27T08:26:56.352Z"
   },
   {
    "duration": 441,
    "start_time": "2022-04-27T08:26:56.371Z"
   },
   {
    "duration": 27,
    "start_time": "2022-04-27T08:26:56.814Z"
   },
   {
    "duration": 238,
    "start_time": "2022-04-27T08:26:56.843Z"
   },
   {
    "duration": 147,
    "start_time": "2022-04-27T08:26:57.083Z"
   },
   {
    "duration": 223,
    "start_time": "2022-04-27T08:26:57.231Z"
   },
   {
    "duration": 103,
    "start_time": "2022-04-27T08:26:57.456Z"
   },
   {
    "duration": 144,
    "start_time": "2022-04-27T08:26:57.561Z"
   },
   {
    "duration": 89,
    "start_time": "2022-04-27T08:26:57.706Z"
   },
   {
    "duration": 168,
    "start_time": "2022-04-27T08:26:57.797Z"
   },
   {
    "duration": 87,
    "start_time": "2022-04-27T08:26:57.966Z"
   },
   {
    "duration": 92,
    "start_time": "2022-04-27T08:26:58.054Z"
   },
   {
    "duration": 176,
    "start_time": "2022-04-27T08:26:58.148Z"
   },
   {
    "duration": 178,
    "start_time": "2022-04-27T08:26:58.326Z"
   },
   {
    "duration": 17,
    "start_time": "2022-04-27T08:26:58.506Z"
   },
   {
    "duration": 6,
    "start_time": "2022-04-27T08:26:58.524Z"
   },
   {
    "duration": 95,
    "start_time": "2022-04-27T08:26:58.532Z"
   },
   {
    "duration": 21,
    "start_time": "2022-04-27T08:26:58.629Z"
   },
   {
    "duration": 110,
    "start_time": "2022-04-27T08:26:58.651Z"
   },
   {
    "duration": 173,
    "start_time": "2022-04-27T08:26:58.763Z"
   },
   {
    "duration": 171,
    "start_time": "2022-04-27T08:26:58.937Z"
   },
   {
    "duration": 141,
    "start_time": "2022-04-27T08:26:59.112Z"
   },
   {
    "duration": 5,
    "start_time": "2022-04-27T08:26:59.255Z"
   },
   {
    "duration": 147,
    "start_time": "2022-04-27T08:26:59.261Z"
   },
   {
    "duration": 173,
    "start_time": "2022-04-27T08:26:59.410Z"
   },
   {
    "duration": 140,
    "start_time": "2022-04-27T08:26:59.584Z"
   },
   {
    "duration": 135,
    "start_time": "2022-04-27T08:26:59.726Z"
   },
   {
    "duration": 153,
    "start_time": "2022-04-27T08:26:59.863Z"
   },
   {
    "duration": 145,
    "start_time": "2022-04-27T08:27:00.022Z"
   },
   {
    "duration": 24,
    "start_time": "2022-04-27T08:27:00.169Z"
   },
   {
    "duration": 173,
    "start_time": "2022-04-27T08:27:00.194Z"
   },
   {
    "duration": 268,
    "start_time": "2022-04-27T08:27:00.369Z"
   },
   {
    "duration": 184,
    "start_time": "2022-04-27T08:27:00.638Z"
   },
   {
    "duration": 141,
    "start_time": "2022-04-27T08:27:00.824Z"
   },
   {
    "duration": 157,
    "start_time": "2022-04-27T08:27:00.967Z"
   },
   {
    "duration": 157,
    "start_time": "2022-04-27T08:27:01.126Z"
   },
   {
    "duration": 161,
    "start_time": "2022-04-27T08:27:01.286Z"
   },
   {
    "duration": 132,
    "start_time": "2022-04-27T08:27:01.449Z"
   },
   {
    "duration": 169,
    "start_time": "2022-04-27T08:27:01.583Z"
   },
   {
    "duration": 149,
    "start_time": "2022-04-27T08:27:01.754Z"
   },
   {
    "duration": 694,
    "start_time": "2022-04-27T08:48:53.710Z"
   },
   {
    "duration": 191,
    "start_time": "2022-04-27T08:48:54.406Z"
   },
   {
    "duration": 37,
    "start_time": "2022-04-27T08:48:54.599Z"
   },
   {
    "duration": 21,
    "start_time": "2022-04-27T08:48:54.638Z"
   },
   {
    "duration": 69,
    "start_time": "2022-04-27T08:48:54.661Z"
   },
   {
    "duration": 5,
    "start_time": "2022-04-27T08:48:54.732Z"
   },
   {
    "duration": 13,
    "start_time": "2022-04-27T08:48:54.738Z"
   },
   {
    "duration": 323,
    "start_time": "2022-04-27T08:48:54.752Z"
   },
   {
    "duration": 22,
    "start_time": "2022-04-27T08:48:55.077Z"
   },
   {
    "duration": 194,
    "start_time": "2022-04-27T08:48:55.102Z"
   },
   {
    "duration": 136,
    "start_time": "2022-04-27T08:48:55.298Z"
   },
   {
    "duration": 224,
    "start_time": "2022-04-27T08:48:55.435Z"
   },
   {
    "duration": 100,
    "start_time": "2022-04-27T08:48:55.661Z"
   },
   {
    "duration": 138,
    "start_time": "2022-04-27T08:48:55.762Z"
   },
   {
    "duration": 96,
    "start_time": "2022-04-27T08:48:55.902Z"
   },
   {
    "duration": 182,
    "start_time": "2022-04-27T08:48:56.000Z"
   },
   {
    "duration": 100,
    "start_time": "2022-04-27T08:48:56.184Z"
   },
   {
    "duration": 90,
    "start_time": "2022-04-27T08:48:56.286Z"
   },
   {
    "duration": 195,
    "start_time": "2022-04-27T08:48:56.378Z"
   },
   {
    "duration": 215,
    "start_time": "2022-04-27T08:48:56.575Z"
   },
   {
    "duration": 8,
    "start_time": "2022-04-27T08:48:56.791Z"
   },
   {
    "duration": 6,
    "start_time": "2022-04-27T08:48:56.801Z"
   },
   {
    "duration": 88,
    "start_time": "2022-04-27T08:48:56.808Z"
   },
   {
    "duration": 31,
    "start_time": "2022-04-27T08:48:56.898Z"
   },
   {
    "duration": 109,
    "start_time": "2022-04-27T08:48:56.931Z"
   },
   {
    "duration": 175,
    "start_time": "2022-04-27T08:48:57.042Z"
   },
   {
    "duration": 183,
    "start_time": "2022-04-27T08:48:57.222Z"
   },
   {
    "duration": 144,
    "start_time": "2022-04-27T08:48:57.408Z"
   },
   {
    "duration": 5,
    "start_time": "2022-04-27T08:48:57.553Z"
   },
   {
    "duration": 159,
    "start_time": "2022-04-27T08:48:57.560Z"
   },
   {
    "duration": 164,
    "start_time": "2022-04-27T08:48:57.721Z"
   },
   {
    "duration": 131,
    "start_time": "2022-04-27T08:48:57.887Z"
   },
   {
    "duration": 141,
    "start_time": "2022-04-27T08:48:58.019Z"
   },
   {
    "duration": 150,
    "start_time": "2022-04-27T08:48:58.162Z"
   },
   {
    "duration": 141,
    "start_time": "2022-04-27T08:48:58.313Z"
   },
   {
    "duration": 22,
    "start_time": "2022-04-27T08:48:58.455Z"
   },
   {
    "duration": 161,
    "start_time": "2022-04-27T08:48:58.478Z"
   },
   {
    "duration": 266,
    "start_time": "2022-04-27T08:48:58.641Z"
   },
   {
    "duration": 140,
    "start_time": "2022-04-27T08:48:58.910Z"
   },
   {
    "duration": 123,
    "start_time": "2022-04-27T08:48:59.052Z"
   },
   {
    "duration": 135,
    "start_time": "2022-04-27T08:48:59.177Z"
   },
   {
    "duration": 137,
    "start_time": "2022-04-27T08:48:59.322Z"
   },
   {
    "duration": 148,
    "start_time": "2022-04-27T08:48:59.460Z"
   },
   {
    "duration": 136,
    "start_time": "2022-04-27T08:48:59.610Z"
   },
   {
    "duration": 146,
    "start_time": "2022-04-27T08:48:59.747Z"
   },
   {
    "duration": 144,
    "start_time": "2022-04-27T08:48:59.895Z"
   },
   {
    "duration": 723,
    "start_time": "2022-04-27T10:23:50.325Z"
   },
   {
    "duration": 253,
    "start_time": "2022-04-27T10:23:51.051Z"
   },
   {
    "duration": 40,
    "start_time": "2022-04-27T10:23:51.306Z"
   },
   {
    "duration": 23,
    "start_time": "2022-04-27T10:23:51.350Z"
   },
   {
    "duration": 68,
    "start_time": "2022-04-27T10:23:51.375Z"
   },
   {
    "duration": 6,
    "start_time": "2022-04-27T10:23:51.444Z"
   },
   {
    "duration": 23,
    "start_time": "2022-04-27T10:23:51.451Z"
   },
   {
    "duration": 385,
    "start_time": "2022-04-27T10:23:51.475Z"
   },
   {
    "duration": 24,
    "start_time": "2022-04-27T10:23:51.861Z"
   },
   {
    "duration": 206,
    "start_time": "2022-04-27T10:23:51.886Z"
   },
   {
    "duration": 161,
    "start_time": "2022-04-27T10:23:52.094Z"
   },
   {
    "duration": 243,
    "start_time": "2022-04-27T10:23:52.257Z"
   },
   {
    "duration": 110,
    "start_time": "2022-04-27T10:23:52.501Z"
   },
   {
    "duration": 153,
    "start_time": "2022-04-27T10:23:52.614Z"
   },
   {
    "duration": 114,
    "start_time": "2022-04-27T10:23:52.769Z"
   },
   {
    "duration": 183,
    "start_time": "2022-04-27T10:23:52.886Z"
   },
   {
    "duration": 106,
    "start_time": "2022-04-27T10:23:53.071Z"
   },
   {
    "duration": 103,
    "start_time": "2022-04-27T10:23:53.179Z"
   },
   {
    "duration": 268,
    "start_time": "2022-04-27T10:23:53.284Z"
   },
   {
    "duration": 260,
    "start_time": "2022-04-27T10:23:53.556Z"
   },
   {
    "duration": 21,
    "start_time": "2022-04-27T10:23:53.819Z"
   },
   {
    "duration": 9,
    "start_time": "2022-04-27T10:23:53.844Z"
   },
   {
    "duration": 95,
    "start_time": "2022-04-27T10:23:53.855Z"
   },
   {
    "duration": 21,
    "start_time": "2022-04-27T10:23:53.952Z"
   },
   {
    "duration": 112,
    "start_time": "2022-04-27T10:23:53.975Z"
   },
   {
    "duration": 187,
    "start_time": "2022-04-27T10:23:54.089Z"
   },
   {
    "duration": 198,
    "start_time": "2022-04-27T10:23:54.278Z"
   },
   {
    "duration": 143,
    "start_time": "2022-04-27T10:23:54.477Z"
   },
   {
    "duration": 8,
    "start_time": "2022-04-27T10:23:54.622Z"
   },
   {
    "duration": 161,
    "start_time": "2022-04-27T10:23:54.633Z"
   },
   {
    "duration": 183,
    "start_time": "2022-04-27T10:23:54.796Z"
   },
   {
    "duration": 153,
    "start_time": "2022-04-27T10:23:54.981Z"
   },
   {
    "duration": 143,
    "start_time": "2022-04-27T10:23:55.136Z"
   },
   {
    "duration": 166,
    "start_time": "2022-04-27T10:23:55.281Z"
   },
   {
    "duration": 155,
    "start_time": "2022-04-27T10:23:55.449Z"
   },
   {
    "duration": 34,
    "start_time": "2022-04-27T10:23:55.606Z"
   },
   {
    "duration": 165,
    "start_time": "2022-04-27T10:23:55.642Z"
   },
   {
    "duration": 276,
    "start_time": "2022-04-27T10:23:55.809Z"
   },
   {
    "duration": 174,
    "start_time": "2022-04-27T10:23:56.087Z"
   },
   {
    "duration": 190,
    "start_time": "2022-04-27T10:23:56.262Z"
   },
   {
    "duration": 148,
    "start_time": "2022-04-27T10:23:56.457Z"
   },
   {
    "duration": 150,
    "start_time": "2022-04-27T10:23:56.607Z"
   },
   {
    "duration": 164,
    "start_time": "2022-04-27T10:23:56.759Z"
   },
   {
    "duration": 194,
    "start_time": "2022-04-27T10:23:56.925Z"
   },
   {
    "duration": 227,
    "start_time": "2022-04-27T10:23:57.122Z"
   },
   {
    "duration": 181,
    "start_time": "2022-04-27T10:23:57.351Z"
   },
   {
    "duration": 499,
    "start_time": "2022-04-27T10:28:33.147Z"
   },
   {
    "duration": 912,
    "start_time": "2022-04-27T10:28:39.740Z"
   },
   {
    "duration": 202,
    "start_time": "2022-04-27T10:28:40.657Z"
   },
   {
    "duration": 27,
    "start_time": "2022-04-27T10:28:40.861Z"
   },
   {
    "duration": 25,
    "start_time": "2022-04-27T10:28:40.890Z"
   },
   {
    "duration": 53,
    "start_time": "2022-04-27T10:28:40.922Z"
   },
   {
    "duration": 5,
    "start_time": "2022-04-27T10:28:40.976Z"
   },
   {
    "duration": 28,
    "start_time": "2022-04-27T10:28:40.982Z"
   },
   {
    "duration": 380,
    "start_time": "2022-04-27T10:28:41.011Z"
   },
   {
    "duration": 34,
    "start_time": "2022-04-27T10:28:41.393Z"
   },
   {
    "duration": 216,
    "start_time": "2022-04-27T10:28:41.431Z"
   },
   {
    "duration": 139,
    "start_time": "2022-04-27T10:28:41.649Z"
   },
   {
    "duration": 244,
    "start_time": "2022-04-27T10:28:41.791Z"
   },
   {
    "duration": 121,
    "start_time": "2022-04-27T10:28:42.037Z"
   },
   {
    "duration": 173,
    "start_time": "2022-04-27T10:28:42.160Z"
   },
   {
    "duration": 99,
    "start_time": "2022-04-27T10:28:42.337Z"
   },
   {
    "duration": 175,
    "start_time": "2022-04-27T10:28:42.447Z"
   },
   {
    "duration": 88,
    "start_time": "2022-04-27T10:28:42.623Z"
   },
   {
    "duration": 103,
    "start_time": "2022-04-27T10:28:42.713Z"
   },
   {
    "duration": 187,
    "start_time": "2022-04-27T10:28:42.817Z"
   },
   {
    "duration": 221,
    "start_time": "2022-04-27T10:28:43.006Z"
   },
   {
    "duration": 18,
    "start_time": "2022-04-27T10:28:43.230Z"
   },
   {
    "duration": 9,
    "start_time": "2022-04-27T10:28:43.251Z"
   },
   {
    "duration": 103,
    "start_time": "2022-04-27T10:28:43.261Z"
   },
   {
    "duration": 21,
    "start_time": "2022-04-27T10:28:43.366Z"
   },
   {
    "duration": 120,
    "start_time": "2022-04-27T10:28:43.389Z"
   },
   {
    "duration": 210,
    "start_time": "2022-04-27T10:28:43.511Z"
   },
   {
    "duration": 205,
    "start_time": "2022-04-27T10:28:43.727Z"
   },
   {
    "duration": 161,
    "start_time": "2022-04-27T10:28:43.940Z"
   },
   {
    "duration": 5,
    "start_time": "2022-04-27T10:28:44.103Z"
   },
   {
    "duration": 178,
    "start_time": "2022-04-27T10:28:44.110Z"
   },
   {
    "duration": 196,
    "start_time": "2022-04-27T10:28:44.290Z"
   },
   {
    "duration": 172,
    "start_time": "2022-04-27T10:28:44.488Z"
   },
   {
    "duration": 153,
    "start_time": "2022-04-27T10:28:44.662Z"
   },
   {
    "duration": 167,
    "start_time": "2022-04-27T10:28:44.816Z"
   },
   {
    "duration": 163,
    "start_time": "2022-04-27T10:28:44.985Z"
   },
   {
    "duration": 29,
    "start_time": "2022-04-27T10:28:45.149Z"
   },
   {
    "duration": 194,
    "start_time": "2022-04-27T10:28:45.180Z"
   },
   {
    "duration": 313,
    "start_time": "2022-04-27T10:28:45.376Z"
   },
   {
    "duration": 172,
    "start_time": "2022-04-27T10:28:45.692Z"
   },
   {
    "duration": 142,
    "start_time": "2022-04-27T10:28:45.866Z"
   },
   {
    "duration": 185,
    "start_time": "2022-04-27T10:28:46.010Z"
   },
   {
    "duration": 174,
    "start_time": "2022-04-27T10:28:46.197Z"
   },
   {
    "duration": 166,
    "start_time": "2022-04-27T10:28:46.373Z"
   },
   {
    "duration": 140,
    "start_time": "2022-04-27T10:28:46.544Z"
   },
   {
    "duration": 171,
    "start_time": "2022-04-27T10:28:46.686Z"
   },
   {
    "duration": 156,
    "start_time": "2022-04-27T10:28:46.858Z"
   },
   {
    "duration": 133,
    "start_time": "2022-04-27T10:30:50.609Z"
   },
   {
    "duration": 132,
    "start_time": "2022-04-27T10:30:55.785Z"
   },
   {
    "duration": 98,
    "start_time": "2022-04-27T10:31:06.941Z"
   },
   {
    "duration": 107,
    "start_time": "2022-04-27T10:31:12.694Z"
   },
   {
    "duration": 113,
    "start_time": "2022-04-27T10:31:17.630Z"
   },
   {
    "duration": 188,
    "start_time": "2022-04-27T10:31:23.519Z"
   },
   {
    "duration": 185,
    "start_time": "2022-04-27T10:32:12.816Z"
   },
   {
    "duration": 161,
    "start_time": "2022-04-27T10:32:18.641Z"
   },
   {
    "duration": 162,
    "start_time": "2022-04-27T10:32:24.098Z"
   },
   {
    "duration": 152,
    "start_time": "2022-04-27T10:32:27.303Z"
   },
   {
    "duration": 229,
    "start_time": "2022-04-27T10:32:31.896Z"
   },
   {
    "duration": 174,
    "start_time": "2022-04-27T10:32:37.601Z"
   },
   {
    "duration": 89,
    "start_time": "2022-04-27T10:34:46.544Z"
   },
   {
    "duration": 1017,
    "start_time": "2022-04-27T10:35:02.090Z"
   },
   {
    "duration": 448,
    "start_time": "2022-04-27T10:35:03.109Z"
   },
   {
    "duration": 27,
    "start_time": "2022-04-27T10:35:03.559Z"
   },
   {
    "duration": 34,
    "start_time": "2022-04-27T10:35:03.589Z"
   },
   {
    "duration": 58,
    "start_time": "2022-04-27T10:35:03.625Z"
   },
   {
    "duration": 4,
    "start_time": "2022-04-27T10:35:03.685Z"
   },
   {
    "duration": 16,
    "start_time": "2022-04-27T10:35:03.691Z"
   },
   {
    "duration": 357,
    "start_time": "2022-04-27T10:35:03.709Z"
   },
   {
    "duration": 23,
    "start_time": "2022-04-27T10:35:04.068Z"
   },
   {
    "duration": 200,
    "start_time": "2022-04-27T10:35:04.094Z"
   },
   {
    "duration": 148,
    "start_time": "2022-04-27T10:35:04.296Z"
   },
   {
    "duration": 240,
    "start_time": "2022-04-27T10:35:04.446Z"
   },
   {
    "duration": 106,
    "start_time": "2022-04-27T10:35:04.688Z"
   },
   {
    "duration": 155,
    "start_time": "2022-04-27T10:35:04.795Z"
   },
   {
    "duration": 113,
    "start_time": "2022-04-27T10:35:04.952Z"
   },
   {
    "duration": 188,
    "start_time": "2022-04-27T10:35:05.067Z"
   },
   {
    "duration": 98,
    "start_time": "2022-04-27T10:35:05.257Z"
   },
   {
    "duration": 100,
    "start_time": "2022-04-27T10:35:05.357Z"
   },
   {
    "duration": 198,
    "start_time": "2022-04-27T10:35:05.459Z"
   },
   {
    "duration": 202,
    "start_time": "2022-04-27T10:35:05.659Z"
   },
   {
    "duration": 10,
    "start_time": "2022-04-27T10:35:05.862Z"
   },
   {
    "duration": 6,
    "start_time": "2022-04-27T10:35:05.874Z"
   },
   {
    "duration": 132,
    "start_time": "2022-04-27T10:35:05.882Z"
   },
   {
    "duration": 27,
    "start_time": "2022-04-27T10:35:06.016Z"
   },
   {
    "duration": 127,
    "start_time": "2022-04-27T10:35:06.048Z"
   },
   {
    "duration": 211,
    "start_time": "2022-04-27T10:35:06.177Z"
   },
   {
    "duration": 196,
    "start_time": "2022-04-27T10:35:06.390Z"
   },
   {
    "duration": 167,
    "start_time": "2022-04-27T10:35:06.590Z"
   },
   {
    "duration": 6,
    "start_time": "2022-04-27T10:35:06.758Z"
   },
   {
    "duration": 177,
    "start_time": "2022-04-27T10:35:06.765Z"
   },
   {
    "duration": 175,
    "start_time": "2022-04-27T10:35:06.945Z"
   },
   {
    "duration": 153,
    "start_time": "2022-04-27T10:35:07.122Z"
   },
   {
    "duration": 159,
    "start_time": "2022-04-27T10:35:07.277Z"
   },
   {
    "duration": 146,
    "start_time": "2022-04-27T10:35:07.438Z"
   },
   {
    "duration": 161,
    "start_time": "2022-04-27T10:35:07.586Z"
   },
   {
    "duration": 24,
    "start_time": "2022-04-27T10:35:07.748Z"
   },
   {
    "duration": 170,
    "start_time": "2022-04-27T10:35:07.774Z"
   },
   {
    "duration": 273,
    "start_time": "2022-04-27T10:35:07.948Z"
   },
   {
    "duration": 155,
    "start_time": "2022-04-27T10:35:08.227Z"
   },
   {
    "duration": 128,
    "start_time": "2022-04-27T10:35:08.384Z"
   },
   {
    "duration": 155,
    "start_time": "2022-04-27T10:35:08.514Z"
   },
   {
    "duration": 158,
    "start_time": "2022-04-27T10:35:08.671Z"
   },
   {
    "duration": 163,
    "start_time": "2022-04-27T10:35:08.831Z"
   },
   {
    "duration": 153,
    "start_time": "2022-04-27T10:35:08.996Z"
   },
   {
    "duration": 168,
    "start_time": "2022-04-27T10:35:09.151Z"
   },
   {
    "duration": 149,
    "start_time": "2022-04-27T10:35:09.326Z"
   },
   {
    "duration": 18,
    "start_time": "2022-04-27T10:37:53.894Z"
   },
   {
    "duration": 18,
    "start_time": "2022-04-27T10:38:08.395Z"
   },
   {
    "duration": 177,
    "start_time": "2022-04-27T10:39:08.396Z"
   },
   {
    "duration": 264,
    "start_time": "2022-04-27T10:39:14.371Z"
   },
   {
    "duration": 780,
    "start_time": "2022-04-27T10:40:37.840Z"
   },
   {
    "duration": 223,
    "start_time": "2022-04-27T10:40:38.625Z"
   },
   {
    "duration": 27,
    "start_time": "2022-04-27T10:40:38.849Z"
   },
   {
    "duration": 21,
    "start_time": "2022-04-27T10:40:38.878Z"
   },
   {
    "duration": 71,
    "start_time": "2022-04-27T10:40:38.901Z"
   },
   {
    "duration": 4,
    "start_time": "2022-04-27T10:40:38.974Z"
   },
   {
    "duration": 17,
    "start_time": "2022-04-27T10:40:38.979Z"
   },
   {
    "duration": 333,
    "start_time": "2022-04-27T10:40:38.998Z"
   },
   {
    "duration": 25,
    "start_time": "2022-04-27T10:40:39.333Z"
   },
   {
    "duration": 193,
    "start_time": "2022-04-27T10:40:39.360Z"
   },
   {
    "duration": 151,
    "start_time": "2022-04-27T10:40:39.555Z"
   },
   {
    "duration": 237,
    "start_time": "2022-04-27T10:40:39.708Z"
   },
   {
    "duration": 109,
    "start_time": "2022-04-27T10:40:39.946Z"
   },
   {
    "duration": 146,
    "start_time": "2022-04-27T10:40:40.056Z"
   },
   {
    "duration": 91,
    "start_time": "2022-04-27T10:40:40.203Z"
   },
   {
    "duration": 178,
    "start_time": "2022-04-27T10:40:40.295Z"
   },
   {
    "duration": 87,
    "start_time": "2022-04-27T10:40:40.474Z"
   },
   {
    "duration": 84,
    "start_time": "2022-04-27T10:40:40.562Z"
   },
   {
    "duration": 176,
    "start_time": "2022-04-27T10:40:40.648Z"
   },
   {
    "duration": 187,
    "start_time": "2022-04-27T10:40:40.826Z"
   },
   {
    "duration": 10,
    "start_time": "2022-04-27T10:40:41.022Z"
   },
   {
    "duration": 8,
    "start_time": "2022-04-27T10:40:41.034Z"
   },
   {
    "duration": 120,
    "start_time": "2022-04-27T10:40:41.044Z"
   },
   {
    "duration": 22,
    "start_time": "2022-04-27T10:40:41.166Z"
   },
   {
    "duration": 116,
    "start_time": "2022-04-27T10:40:41.189Z"
   },
   {
    "duration": 174,
    "start_time": "2022-04-27T10:40:41.307Z"
   },
   {
    "duration": 179,
    "start_time": "2022-04-27T10:40:41.483Z"
   },
   {
    "duration": 147,
    "start_time": "2022-04-27T10:40:41.666Z"
   },
   {
    "duration": 17,
    "start_time": "2022-04-27T10:40:41.815Z"
   },
   {
    "duration": 143,
    "start_time": "2022-04-27T10:40:41.834Z"
   },
   {
    "duration": 171,
    "start_time": "2022-04-27T10:40:41.978Z"
   },
   {
    "duration": 142,
    "start_time": "2022-04-27T10:40:42.150Z"
   },
   {
    "duration": 143,
    "start_time": "2022-04-27T10:40:42.294Z"
   },
   {
    "duration": 145,
    "start_time": "2022-04-27T10:40:42.439Z"
   },
   {
    "duration": 204,
    "start_time": "2022-04-27T10:40:42.586Z"
   },
   {
    "duration": 35,
    "start_time": "2022-04-27T10:40:42.792Z"
   },
   {
    "duration": 160,
    "start_time": "2022-04-27T10:40:42.829Z"
   },
   {
    "duration": 202,
    "start_time": "2022-04-27T10:40:42.992Z"
   },
   {
    "duration": 163,
    "start_time": "2022-04-27T10:40:43.196Z"
   },
   {
    "duration": 132,
    "start_time": "2022-04-27T10:40:43.361Z"
   },
   {
    "duration": 145,
    "start_time": "2022-04-27T10:40:43.495Z"
   },
   {
    "duration": 152,
    "start_time": "2022-04-27T10:40:43.642Z"
   },
   {
    "duration": 180,
    "start_time": "2022-04-27T10:40:43.796Z"
   },
   {
    "duration": 154,
    "start_time": "2022-04-27T10:40:43.978Z"
   },
   {
    "duration": 158,
    "start_time": "2022-04-27T10:40:44.134Z"
   },
   {
    "duration": 213,
    "start_time": "2022-04-27T10:40:44.293Z"
   },
   {
    "duration": 144,
    "start_time": "2022-04-27T10:44:11.606Z"
   },
   {
    "duration": 127,
    "start_time": "2022-04-27T10:44:45.720Z"
   },
   {
    "duration": 872,
    "start_time": "2022-04-27T10:45:02.263Z"
   },
   {
    "duration": 1290,
    "start_time": "2022-04-27T10:45:03.137Z"
   },
   {
    "duration": 26,
    "start_time": "2022-04-27T10:45:04.428Z"
   },
   {
    "duration": 20,
    "start_time": "2022-04-27T10:45:04.456Z"
   },
   {
    "duration": 62,
    "start_time": "2022-04-27T10:45:04.478Z"
   },
   {
    "duration": 5,
    "start_time": "2022-04-27T10:45:04.541Z"
   },
   {
    "duration": 14,
    "start_time": "2022-04-27T10:45:04.547Z"
   },
   {
    "duration": 366,
    "start_time": "2022-04-27T10:45:04.563Z"
   },
   {
    "duration": 26,
    "start_time": "2022-04-27T10:45:04.931Z"
   },
   {
    "duration": 233,
    "start_time": "2022-04-27T10:45:04.959Z"
   },
   {
    "duration": 157,
    "start_time": "2022-04-27T10:45:05.194Z"
   },
   {
    "duration": 225,
    "start_time": "2022-04-27T10:45:05.352Z"
   },
   {
    "duration": 96,
    "start_time": "2022-04-27T10:45:05.578Z"
   },
   {
    "duration": 134,
    "start_time": "2022-04-27T10:45:05.675Z"
   },
   {
    "duration": 91,
    "start_time": "2022-04-27T10:45:05.810Z"
   },
   {
    "duration": 183,
    "start_time": "2022-04-27T10:45:05.903Z"
   },
   {
    "duration": 98,
    "start_time": "2022-04-27T10:45:06.088Z"
   },
   {
    "duration": 87,
    "start_time": "2022-04-27T10:45:06.188Z"
   },
   {
    "duration": 168,
    "start_time": "2022-04-27T10:45:06.277Z"
   },
   {
    "duration": 184,
    "start_time": "2022-04-27T10:45:06.447Z"
   },
   {
    "duration": 7,
    "start_time": "2022-04-27T10:45:06.633Z"
   },
   {
    "duration": 5,
    "start_time": "2022-04-27T10:45:06.642Z"
   },
   {
    "duration": 122,
    "start_time": "2022-04-27T10:45:06.649Z"
   },
   {
    "duration": 21,
    "start_time": "2022-04-27T10:45:06.772Z"
   },
   {
    "duration": 105,
    "start_time": "2022-04-27T10:45:06.795Z"
   },
   {
    "duration": 180,
    "start_time": "2022-04-27T10:45:06.902Z"
   },
   {
    "duration": 179,
    "start_time": "2022-04-27T10:45:07.084Z"
   },
   {
    "duration": 145,
    "start_time": "2022-04-27T10:45:07.267Z"
   },
   {
    "duration": 5,
    "start_time": "2022-04-27T10:45:07.422Z"
   },
   {
    "duration": 154,
    "start_time": "2022-04-27T10:45:07.429Z"
   },
   {
    "duration": 175,
    "start_time": "2022-04-27T10:45:07.585Z"
   },
   {
    "duration": 133,
    "start_time": "2022-04-27T10:45:07.762Z"
   },
   {
    "duration": 137,
    "start_time": "2022-04-27T10:45:07.897Z"
   },
   {
    "duration": 134,
    "start_time": "2022-04-27T10:45:08.036Z"
   },
   {
    "duration": 212,
    "start_time": "2022-04-27T10:45:08.172Z"
   },
   {
    "duration": 24,
    "start_time": "2022-04-27T10:45:08.386Z"
   },
   {
    "duration": 153,
    "start_time": "2022-04-27T10:45:08.412Z"
   },
   {
    "duration": 185,
    "start_time": "2022-04-27T10:45:08.567Z"
   },
   {
    "duration": 142,
    "start_time": "2022-04-27T10:45:08.754Z"
   },
   {
    "duration": 114,
    "start_time": "2022-04-27T10:45:08.898Z"
   },
   {
    "duration": 138,
    "start_time": "2022-04-27T10:45:09.014Z"
   },
   {
    "duration": 134,
    "start_time": "2022-04-27T10:45:09.154Z"
   },
   {
    "duration": 147,
    "start_time": "2022-04-27T10:45:09.290Z"
   },
   {
    "duration": 130,
    "start_time": "2022-04-27T10:45:09.439Z"
   },
   {
    "duration": 145,
    "start_time": "2022-04-27T10:45:09.571Z"
   },
   {
    "duration": 207,
    "start_time": "2022-04-27T10:45:09.717Z"
   },
   {
    "duration": 44,
    "start_time": "2022-04-27T10:48:20.216Z"
   },
   {
    "duration": 736,
    "start_time": "2022-04-27T10:48:26.393Z"
   },
   {
    "duration": 194,
    "start_time": "2022-04-27T10:48:27.131Z"
   },
   {
    "duration": 27,
    "start_time": "2022-04-27T10:48:27.327Z"
   },
   {
    "duration": 21,
    "start_time": "2022-04-27T10:48:27.357Z"
   },
   {
    "duration": 59,
    "start_time": "2022-04-27T10:48:27.379Z"
   },
   {
    "duration": 4,
    "start_time": "2022-04-27T10:48:27.440Z"
   },
   {
    "duration": 12,
    "start_time": "2022-04-27T10:48:27.446Z"
   },
   {
    "duration": 329,
    "start_time": "2022-04-27T10:48:27.460Z"
   },
   {
    "duration": 24,
    "start_time": "2022-04-27T10:48:27.790Z"
   },
   {
    "duration": 172,
    "start_time": "2022-04-27T10:48:27.824Z"
   },
   {
    "duration": 143,
    "start_time": "2022-04-27T10:48:27.997Z"
   },
   {
    "duration": 227,
    "start_time": "2022-04-27T10:48:28.141Z"
   },
   {
    "duration": 96,
    "start_time": "2022-04-27T10:48:28.370Z"
   },
   {
    "duration": 135,
    "start_time": "2022-04-27T10:48:28.468Z"
   },
   {
    "duration": 91,
    "start_time": "2022-04-27T10:48:28.604Z"
   },
   {
    "duration": 160,
    "start_time": "2022-04-27T10:48:28.696Z"
   },
   {
    "duration": 84,
    "start_time": "2022-04-27T10:48:28.857Z"
   },
   {
    "duration": 82,
    "start_time": "2022-04-27T10:48:28.942Z"
   },
   {
    "duration": 168,
    "start_time": "2022-04-27T10:48:29.025Z"
   },
   {
    "duration": 182,
    "start_time": "2022-04-27T10:48:29.195Z"
   },
   {
    "duration": 8,
    "start_time": "2022-04-27T10:48:29.380Z"
   },
   {
    "duration": 7,
    "start_time": "2022-04-27T10:48:29.390Z"
   },
   {
    "duration": 108,
    "start_time": "2022-04-27T10:48:29.399Z"
   },
   {
    "duration": 30,
    "start_time": "2022-04-27T10:48:29.509Z"
   },
   {
    "duration": 109,
    "start_time": "2022-04-27T10:48:29.540Z"
   },
   {
    "duration": 170,
    "start_time": "2022-04-27T10:48:29.651Z"
   },
   {
    "duration": 170,
    "start_time": "2022-04-27T10:48:29.823Z"
   },
   {
    "duration": 136,
    "start_time": "2022-04-27T10:48:29.996Z"
   },
   {
    "duration": 5,
    "start_time": "2022-04-27T10:48:30.133Z"
   },
   {
    "duration": 146,
    "start_time": "2022-04-27T10:48:30.140Z"
   },
   {
    "duration": 163,
    "start_time": "2022-04-27T10:48:30.287Z"
   },
   {
    "duration": 135,
    "start_time": "2022-04-27T10:48:30.451Z"
   },
   {
    "duration": 138,
    "start_time": "2022-04-27T10:48:30.588Z"
   },
   {
    "duration": 133,
    "start_time": "2022-04-27T10:48:30.728Z"
   },
   {
    "duration": 213,
    "start_time": "2022-04-27T10:48:30.863Z"
   },
   {
    "duration": 24,
    "start_time": "2022-04-27T10:48:31.078Z"
   },
   {
    "duration": 159,
    "start_time": "2022-04-27T10:48:31.103Z"
   },
   {
    "duration": 192,
    "start_time": "2022-04-27T10:48:31.264Z"
   },
   {
    "duration": 136,
    "start_time": "2022-04-27T10:48:31.458Z"
   },
   {
    "duration": 118,
    "start_time": "2022-04-27T10:48:31.595Z"
   },
   {
    "duration": 131,
    "start_time": "2022-04-27T10:48:31.722Z"
   },
   {
    "duration": 137,
    "start_time": "2022-04-27T10:48:31.855Z"
   },
   {
    "duration": 148,
    "start_time": "2022-04-27T10:48:31.994Z"
   },
   {
    "duration": 127,
    "start_time": "2022-04-27T10:48:32.144Z"
   },
   {
    "duration": 148,
    "start_time": "2022-04-27T10:48:32.273Z"
   },
   {
    "duration": 207,
    "start_time": "2022-04-27T10:48:32.423Z"
   },
   {
    "duration": 193,
    "start_time": "2022-04-27T10:52:50.312Z"
   },
   {
    "duration": 22,
    "start_time": "2022-04-27T10:53:59.613Z"
   },
   {
    "duration": 104,
    "start_time": "2022-04-27T10:54:04.944Z"
   },
   {
    "duration": 795,
    "start_time": "2022-04-27T10:54:58.091Z"
   },
   {
    "duration": 206,
    "start_time": "2022-04-27T10:54:58.888Z"
   },
   {
    "duration": 31,
    "start_time": "2022-04-27T10:54:59.096Z"
   },
   {
    "duration": 27,
    "start_time": "2022-04-27T10:54:59.130Z"
   },
   {
    "duration": 49,
    "start_time": "2022-04-27T10:54:59.159Z"
   },
   {
    "duration": 9,
    "start_time": "2022-04-27T10:54:59.227Z"
   },
   {
    "duration": 17,
    "start_time": "2022-04-27T10:54:59.238Z"
   },
   {
    "duration": 522,
    "start_time": "2022-04-27T10:54:59.257Z"
   },
   {
    "duration": 42,
    "start_time": "2022-04-27T10:54:59.781Z"
   },
   {
    "duration": 285,
    "start_time": "2022-04-27T10:54:59.826Z"
   },
   {
    "duration": 221,
    "start_time": "2022-04-27T10:55:00.113Z"
   },
   {
    "duration": 378,
    "start_time": "2022-04-27T10:55:00.336Z"
   },
   {
    "duration": 147,
    "start_time": "2022-04-27T10:55:00.716Z"
   },
   {
    "duration": 226,
    "start_time": "2022-04-27T10:55:00.866Z"
   },
   {
    "duration": 148,
    "start_time": "2022-04-27T10:55:01.094Z"
   },
   {
    "duration": 246,
    "start_time": "2022-04-27T10:55:01.244Z"
   },
   {
    "duration": 133,
    "start_time": "2022-04-27T10:55:01.493Z"
   },
   {
    "duration": 122,
    "start_time": "2022-04-27T10:55:01.629Z"
   },
   {
    "duration": 252,
    "start_time": "2022-04-27T10:55:01.753Z"
   },
   {
    "duration": 308,
    "start_time": "2022-04-27T10:55:02.008Z"
   },
   {
    "duration": 16,
    "start_time": "2022-04-27T10:55:02.322Z"
   },
   {
    "duration": 6,
    "start_time": "2022-04-27T10:55:02.340Z"
   },
   {
    "duration": 116,
    "start_time": "2022-04-27T10:55:02.348Z"
   },
   {
    "duration": 20,
    "start_time": "2022-04-27T10:55:02.466Z"
   },
   {
    "duration": 118,
    "start_time": "2022-04-27T10:55:02.488Z"
   },
   {
    "duration": 187,
    "start_time": "2022-04-27T10:55:02.608Z"
   },
   {
    "duration": 179,
    "start_time": "2022-04-27T10:55:02.796Z"
   },
   {
    "duration": 203,
    "start_time": "2022-04-27T10:55:02.978Z"
   },
   {
    "duration": 6,
    "start_time": "2022-04-27T10:55:03.183Z"
   },
   {
    "duration": 254,
    "start_time": "2022-04-27T10:55:03.191Z"
   },
   {
    "duration": 266,
    "start_time": "2022-04-27T10:55:03.447Z"
   },
   {
    "duration": 215,
    "start_time": "2022-04-27T10:55:03.722Z"
   },
   {
    "duration": 152,
    "start_time": "2022-04-27T10:55:03.938Z"
   },
   {
    "duration": 153,
    "start_time": "2022-04-27T10:55:04.092Z"
   },
   {
    "duration": 220,
    "start_time": "2022-04-27T10:55:04.247Z"
   },
   {
    "duration": 24,
    "start_time": "2022-04-27T10:55:04.469Z"
   },
   {
    "duration": 180,
    "start_time": "2022-04-27T10:55:04.495Z"
   },
   {
    "duration": 212,
    "start_time": "2022-04-27T10:55:04.677Z"
   },
   {
    "duration": 269,
    "start_time": "2022-04-27T10:55:04.891Z"
   },
   {
    "duration": 143,
    "start_time": "2022-04-27T10:55:05.162Z"
   },
   {
    "duration": 157,
    "start_time": "2022-04-27T10:55:05.308Z"
   },
   {
    "duration": 155,
    "start_time": "2022-04-27T10:55:05.467Z"
   },
   {
    "duration": 200,
    "start_time": "2022-04-27T10:55:05.624Z"
   },
   {
    "duration": 217,
    "start_time": "2022-04-27T10:55:05.826Z"
   },
   {
    "duration": 259,
    "start_time": "2022-04-27T10:55:06.046Z"
   },
   {
    "duration": 243,
    "start_time": "2022-04-27T10:55:06.307Z"
   },
   {
    "duration": 24,
    "start_time": "2022-04-27T11:01:17.404Z"
   },
   {
    "duration": 23,
    "start_time": "2022-04-27T11:01:24.713Z"
   },
   {
    "duration": 19,
    "start_time": "2022-04-27T11:02:04.687Z"
   },
   {
    "duration": 19,
    "start_time": "2022-04-27T11:02:09.278Z"
   },
   {
    "duration": 114,
    "start_time": "2022-04-27T11:02:10.312Z"
   },
   {
    "duration": 717,
    "start_time": "2022-04-27T11:02:20.960Z"
   },
   {
    "duration": 249,
    "start_time": "2022-04-27T11:02:21.679Z"
   },
   {
    "duration": 32,
    "start_time": "2022-04-27T11:02:21.929Z"
   },
   {
    "duration": 19,
    "start_time": "2022-04-27T11:02:21.962Z"
   },
   {
    "duration": 76,
    "start_time": "2022-04-27T11:02:21.983Z"
   },
   {
    "duration": 4,
    "start_time": "2022-04-27T11:02:22.061Z"
   },
   {
    "duration": 15,
    "start_time": "2022-04-27T11:02:22.070Z"
   },
   {
    "duration": 418,
    "start_time": "2022-04-27T11:02:22.086Z"
   },
   {
    "duration": 41,
    "start_time": "2022-04-27T11:02:22.506Z"
   },
   {
    "duration": 209,
    "start_time": "2022-04-27T11:02:22.549Z"
   },
   {
    "duration": 157,
    "start_time": "2022-04-27T11:02:22.760Z"
   },
   {
    "duration": 389,
    "start_time": "2022-04-27T11:02:22.919Z"
   },
   {
    "duration": 111,
    "start_time": "2022-04-27T11:02:23.310Z"
   },
   {
    "duration": 156,
    "start_time": "2022-04-27T11:02:23.428Z"
   },
   {
    "duration": 110,
    "start_time": "2022-04-27T11:02:23.586Z"
   },
   {
    "duration": 187,
    "start_time": "2022-04-27T11:02:23.698Z"
   },
   {
    "duration": 147,
    "start_time": "2022-04-27T11:02:23.887Z"
   },
   {
    "duration": 96,
    "start_time": "2022-04-27T11:02:24.039Z"
   },
   {
    "duration": 190,
    "start_time": "2022-04-27T11:02:24.137Z"
   },
   {
    "duration": 323,
    "start_time": "2022-04-27T11:02:24.330Z"
   },
   {
    "duration": 10,
    "start_time": "2022-04-27T11:02:24.655Z"
   },
   {
    "duration": 11,
    "start_time": "2022-04-27T11:02:24.666Z"
   },
   {
    "duration": 156,
    "start_time": "2022-04-27T11:02:24.679Z"
   },
   {
    "duration": 26,
    "start_time": "2022-04-27T11:02:24.836Z"
   },
   {
    "duration": 120,
    "start_time": "2022-04-27T11:02:24.864Z"
   },
   {
    "duration": 196,
    "start_time": "2022-04-27T11:02:24.986Z"
   },
   {
    "duration": 198,
    "start_time": "2022-04-27T11:02:25.184Z"
   },
   {
    "duration": 175,
    "start_time": "2022-04-27T11:02:25.384Z"
   },
   {
    "duration": 6,
    "start_time": "2022-04-27T11:02:25.562Z"
   },
   {
    "duration": 247,
    "start_time": "2022-04-27T11:02:25.570Z"
   },
   {
    "duration": 271,
    "start_time": "2022-04-27T11:02:25.822Z"
   },
   {
    "duration": 221,
    "start_time": "2022-04-27T11:02:26.095Z"
   },
   {
    "duration": 159,
    "start_time": "2022-04-27T11:02:26.321Z"
   },
   {
    "duration": 175,
    "start_time": "2022-04-27T11:02:26.483Z"
   },
   {
    "duration": 243,
    "start_time": "2022-04-27T11:02:26.659Z"
   },
   {
    "duration": 47,
    "start_time": "2022-04-27T11:02:26.904Z"
   },
   {
    "duration": 179,
    "start_time": "2022-04-27T11:02:26.953Z"
   },
   {
    "duration": 229,
    "start_time": "2022-04-27T11:02:27.137Z"
   },
   {
    "duration": 175,
    "start_time": "2022-04-27T11:02:27.367Z"
   },
   {
    "duration": 150,
    "start_time": "2022-04-27T11:02:27.544Z"
   },
   {
    "duration": 175,
    "start_time": "2022-04-27T11:02:27.698Z"
   },
   {
    "duration": 161,
    "start_time": "2022-04-27T11:02:27.875Z"
   },
   {
    "duration": 247,
    "start_time": "2022-04-27T11:02:28.038Z"
   },
   {
    "duration": 179,
    "start_time": "2022-04-27T11:02:28.286Z"
   },
   {
    "duration": 173,
    "start_time": "2022-04-27T11:02:28.468Z"
   },
   {
    "duration": 258,
    "start_time": "2022-04-27T11:02:28.648Z"
   },
   {
    "duration": 123,
    "start_time": "2022-04-27T11:29:04.664Z"
   },
   {
    "duration": 722,
    "start_time": "2022-04-27T11:32:42.085Z"
   },
   {
    "duration": 188,
    "start_time": "2022-04-27T11:32:42.808Z"
   },
   {
    "duration": 34,
    "start_time": "2022-04-27T11:32:42.998Z"
   },
   {
    "duration": 20,
    "start_time": "2022-04-27T11:32:43.035Z"
   },
   {
    "duration": 67,
    "start_time": "2022-04-27T11:32:43.056Z"
   },
   {
    "duration": 4,
    "start_time": "2022-04-27T11:32:43.125Z"
   },
   {
    "duration": 14,
    "start_time": "2022-04-27T11:32:43.131Z"
   },
   {
    "duration": 344,
    "start_time": "2022-04-27T11:32:43.147Z"
   },
   {
    "duration": 38,
    "start_time": "2022-04-27T11:32:43.493Z"
   },
   {
    "duration": 194,
    "start_time": "2022-04-27T11:32:43.534Z"
   },
   {
    "duration": 140,
    "start_time": "2022-04-27T11:32:43.729Z"
   },
   {
    "duration": 233,
    "start_time": "2022-04-27T11:32:43.871Z"
   },
   {
    "duration": 101,
    "start_time": "2022-04-27T11:32:44.105Z"
   },
   {
    "duration": 144,
    "start_time": "2022-04-27T11:32:44.208Z"
   },
   {
    "duration": 95,
    "start_time": "2022-04-27T11:32:44.354Z"
   },
   {
    "duration": 161,
    "start_time": "2022-04-27T11:32:44.451Z"
   },
   {
    "duration": 89,
    "start_time": "2022-04-27T11:32:44.614Z"
   },
   {
    "duration": 94,
    "start_time": "2022-04-27T11:32:44.705Z"
   },
   {
    "duration": 200,
    "start_time": "2022-04-27T11:32:44.801Z"
   },
   {
    "duration": 185,
    "start_time": "2022-04-27T11:32:45.003Z"
   },
   {
    "duration": 8,
    "start_time": "2022-04-27T11:32:45.189Z"
   },
   {
    "duration": 25,
    "start_time": "2022-04-27T11:32:45.198Z"
   },
   {
    "duration": 107,
    "start_time": "2022-04-27T11:32:45.225Z"
   },
   {
    "duration": 204,
    "start_time": "2022-04-27T11:32:45.334Z"
   },
   {
    "duration": 0,
    "start_time": "2022-04-27T11:32:45.541Z"
   },
   {
    "duration": 0,
    "start_time": "2022-04-27T11:32:45.542Z"
   },
   {
    "duration": 0,
    "start_time": "2022-04-27T11:32:45.543Z"
   },
   {
    "duration": 0,
    "start_time": "2022-04-27T11:32:45.544Z"
   },
   {
    "duration": 0,
    "start_time": "2022-04-27T11:32:45.546Z"
   },
   {
    "duration": 0,
    "start_time": "2022-04-27T11:32:45.547Z"
   },
   {
    "duration": 0,
    "start_time": "2022-04-27T11:32:45.549Z"
   },
   {
    "duration": 0,
    "start_time": "2022-04-27T11:32:45.550Z"
   },
   {
    "duration": 0,
    "start_time": "2022-04-27T11:32:45.551Z"
   },
   {
    "duration": 0,
    "start_time": "2022-04-27T11:32:45.552Z"
   },
   {
    "duration": 0,
    "start_time": "2022-04-27T11:32:45.553Z"
   },
   {
    "duration": 0,
    "start_time": "2022-04-27T11:32:45.554Z"
   },
   {
    "duration": 0,
    "start_time": "2022-04-27T11:32:45.555Z"
   },
   {
    "duration": 0,
    "start_time": "2022-04-27T11:32:45.556Z"
   },
   {
    "duration": 0,
    "start_time": "2022-04-27T11:32:45.557Z"
   },
   {
    "duration": 0,
    "start_time": "2022-04-27T11:32:45.558Z"
   },
   {
    "duration": 0,
    "start_time": "2022-04-27T11:32:45.559Z"
   },
   {
    "duration": 0,
    "start_time": "2022-04-27T11:32:45.560Z"
   },
   {
    "duration": 0,
    "start_time": "2022-04-27T11:32:45.561Z"
   },
   {
    "duration": 0,
    "start_time": "2022-04-27T11:32:45.562Z"
   },
   {
    "duration": 0,
    "start_time": "2022-04-27T11:32:45.563Z"
   },
   {
    "duration": 0,
    "start_time": "2022-04-27T11:32:45.564Z"
   },
   {
    "duration": 22,
    "start_time": "2022-04-27T11:33:39.503Z"
   },
   {
    "duration": 105,
    "start_time": "2022-04-27T11:33:42.338Z"
   },
   {
    "duration": 692,
    "start_time": "2022-04-27T11:33:48.260Z"
   },
   {
    "duration": 211,
    "start_time": "2022-04-27T11:33:48.954Z"
   },
   {
    "duration": 25,
    "start_time": "2022-04-27T11:33:49.167Z"
   },
   {
    "duration": 34,
    "start_time": "2022-04-27T11:33:49.194Z"
   },
   {
    "duration": 43,
    "start_time": "2022-04-27T11:33:49.229Z"
   },
   {
    "duration": 4,
    "start_time": "2022-04-27T11:33:49.274Z"
   },
   {
    "duration": 14,
    "start_time": "2022-04-27T11:33:49.280Z"
   },
   {
    "duration": 331,
    "start_time": "2022-04-27T11:33:49.295Z"
   },
   {
    "duration": 22,
    "start_time": "2022-04-27T11:33:49.628Z"
   },
   {
    "duration": 187,
    "start_time": "2022-04-27T11:33:49.653Z"
   },
   {
    "duration": 136,
    "start_time": "2022-04-27T11:33:49.842Z"
   },
   {
    "duration": 225,
    "start_time": "2022-04-27T11:33:49.980Z"
   },
   {
    "duration": 96,
    "start_time": "2022-04-27T11:33:50.207Z"
   },
   {
    "duration": 143,
    "start_time": "2022-04-27T11:33:50.305Z"
   },
   {
    "duration": 94,
    "start_time": "2022-04-27T11:33:50.450Z"
   },
   {
    "duration": 169,
    "start_time": "2022-04-27T11:33:50.546Z"
   },
   {
    "duration": 83,
    "start_time": "2022-04-27T11:33:50.717Z"
   },
   {
    "duration": 91,
    "start_time": "2022-04-27T11:33:50.802Z"
   },
   {
    "duration": 194,
    "start_time": "2022-04-27T11:33:50.895Z"
   },
   {
    "duration": 196,
    "start_time": "2022-04-27T11:33:51.091Z"
   },
   {
    "duration": 10,
    "start_time": "2022-04-27T11:33:51.288Z"
   },
   {
    "duration": 23,
    "start_time": "2022-04-27T11:33:51.300Z"
   },
   {
    "duration": 114,
    "start_time": "2022-04-27T11:33:51.325Z"
   },
   {
    "duration": 22,
    "start_time": "2022-04-27T11:33:51.440Z"
   },
   {
    "duration": 113,
    "start_time": "2022-04-27T11:33:51.464Z"
   },
   {
    "duration": 180,
    "start_time": "2022-04-27T11:33:51.579Z"
   },
   {
    "duration": 182,
    "start_time": "2022-04-27T11:33:51.760Z"
   },
   {
    "duration": 133,
    "start_time": "2022-04-27T11:33:51.945Z"
   },
   {
    "duration": 5,
    "start_time": "2022-04-27T11:33:52.080Z"
   },
   {
    "duration": 153,
    "start_time": "2022-04-27T11:33:52.086Z"
   },
   {
    "duration": 158,
    "start_time": "2022-04-27T11:33:52.241Z"
   },
   {
    "duration": 137,
    "start_time": "2022-04-27T11:33:52.401Z"
   },
   {
    "duration": 136,
    "start_time": "2022-04-27T11:33:52.540Z"
   },
   {
    "duration": 146,
    "start_time": "2022-04-27T11:33:52.678Z"
   },
   {
    "duration": 205,
    "start_time": "2022-04-27T11:33:52.826Z"
   },
   {
    "duration": 24,
    "start_time": "2022-04-27T11:33:53.032Z"
   },
   {
    "duration": 165,
    "start_time": "2022-04-27T11:33:53.057Z"
   },
   {
    "duration": 187,
    "start_time": "2022-04-27T11:33:53.224Z"
   },
   {
    "duration": 143,
    "start_time": "2022-04-27T11:33:53.413Z"
   },
   {
    "duration": 127,
    "start_time": "2022-04-27T11:33:53.558Z"
   },
   {
    "duration": 136,
    "start_time": "2022-04-27T11:33:53.688Z"
   },
   {
    "duration": 144,
    "start_time": "2022-04-27T11:33:53.826Z"
   },
   {
    "duration": 160,
    "start_time": "2022-04-27T11:33:53.972Z"
   },
   {
    "duration": 147,
    "start_time": "2022-04-27T11:33:54.135Z"
   },
   {
    "duration": 149,
    "start_time": "2022-04-27T11:33:54.284Z"
   },
   {
    "duration": 219,
    "start_time": "2022-04-27T11:33:54.434Z"
   },
   {
    "duration": 154,
    "start_time": "2022-04-27T12:47:02.430Z"
   },
   {
    "duration": 160,
    "start_time": "2022-04-27T12:47:09.914Z"
   },
   {
    "duration": 144,
    "start_time": "2022-04-27T12:47:18.249Z"
   },
   {
    "duration": 157,
    "start_time": "2022-04-27T12:47:24.844Z"
   },
   {
    "duration": 159,
    "start_time": "2022-04-27T12:47:34.676Z"
   },
   {
    "duration": 147,
    "start_time": "2022-04-27T12:47:39.770Z"
   },
   {
    "duration": 8,
    "start_time": "2022-04-27T13:37:56.336Z"
   },
   {
    "duration": 126,
    "start_time": "2022-04-27T13:38:12.422Z"
   },
   {
    "duration": 128,
    "start_time": "2022-04-27T13:41:24.574Z"
   },
   {
    "duration": 142,
    "start_time": "2022-04-27T13:41:41.976Z"
   },
   {
    "duration": 134,
    "start_time": "2022-04-27T13:41:51.310Z"
   },
   {
    "duration": 221,
    "start_time": "2022-04-27T13:42:00.402Z"
   },
   {
    "duration": 138,
    "start_time": "2022-04-27T13:43:26.966Z"
   },
   {
    "duration": 124,
    "start_time": "2022-04-27T13:43:48.182Z"
   },
   {
    "duration": 256,
    "start_time": "2022-04-27T13:46:43.192Z"
   },
   {
    "duration": 138,
    "start_time": "2022-04-27T13:46:53.004Z"
   },
   {
    "duration": 138,
    "start_time": "2022-04-27T13:46:57.442Z"
   },
   {
    "duration": 286,
    "start_time": "2022-04-27T13:48:20.817Z"
   },
   {
    "duration": 275,
    "start_time": "2022-04-27T13:48:33.497Z"
   },
   {
    "duration": 466,
    "start_time": "2022-04-27T13:49:55.895Z"
   },
   {
    "duration": 134,
    "start_time": "2022-04-27T13:50:01.984Z"
   },
   {
    "duration": 77,
    "start_time": "2022-04-27T13:58:08.884Z"
   },
   {
    "duration": 24,
    "start_time": "2022-04-27T13:58:24.017Z"
   },
   {
    "duration": 116,
    "start_time": "2022-04-27T13:58:34.699Z"
   },
   {
    "duration": 319,
    "start_time": "2022-04-27T13:59:52.762Z"
   },
   {
    "duration": 123,
    "start_time": "2022-04-27T14:00:02.157Z"
   },
   {
    "duration": 129,
    "start_time": "2022-04-27T14:00:14.003Z"
   },
   {
    "duration": 122,
    "start_time": "2022-04-27T14:00:26.986Z"
   },
   {
    "duration": 199,
    "start_time": "2022-04-27T14:06:10.335Z"
   },
   {
    "duration": 202,
    "start_time": "2022-04-27T14:06:24.949Z"
   },
   {
    "duration": 196,
    "start_time": "2022-04-27T14:06:36.132Z"
   },
   {
    "duration": 139,
    "start_time": "2022-04-27T14:06:49.596Z"
   },
   {
    "duration": 197,
    "start_time": "2022-04-27T14:06:52.958Z"
   },
   {
    "duration": 225,
    "start_time": "2022-04-27T14:07:13.344Z"
   },
   {
    "duration": 192,
    "start_time": "2022-04-27T14:07:41.492Z"
   },
   {
    "duration": 1232,
    "start_time": "2022-04-27T14:07:58.636Z"
   },
   {
    "duration": 126,
    "start_time": "2022-04-27T14:08:10.689Z"
   },
   {
    "duration": 138,
    "start_time": "2022-04-27T14:08:26.528Z"
   },
   {
    "duration": 769,
    "start_time": "2022-04-27T14:08:44.613Z"
   },
   {
    "duration": 663,
    "start_time": "2022-04-27T14:08:52.116Z"
   },
   {
    "duration": 183,
    "start_time": "2022-04-27T14:08:58.100Z"
   },
   {
    "duration": 227,
    "start_time": "2022-04-27T14:09:37.564Z"
   },
   {
    "duration": 20,
    "start_time": "2022-04-27T14:10:44.342Z"
   },
   {
    "duration": 37,
    "start_time": "2022-04-27T14:11:33.082Z"
   },
   {
    "duration": 13,
    "start_time": "2022-04-27T14:12:02.550Z"
   },
   {
    "duration": 131,
    "start_time": "2022-04-27T14:12:31.220Z"
   },
   {
    "duration": 118,
    "start_time": "2022-04-27T14:14:59.485Z"
   },
   {
    "duration": 256,
    "start_time": "2022-04-27T14:15:23.764Z"
   },
   {
    "duration": 127,
    "start_time": "2022-04-27T14:15:36.404Z"
   },
   {
    "duration": 120,
    "start_time": "2022-04-27T14:15:54.561Z"
   },
   {
    "duration": 8,
    "start_time": "2022-04-27T14:16:20.513Z"
   },
   {
    "duration": 120,
    "start_time": "2022-04-27T14:16:43.575Z"
   },
   {
    "duration": 278,
    "start_time": "2022-04-27T14:17:17.719Z"
   },
   {
    "duration": 122,
    "start_time": "2022-04-27T14:18:44.912Z"
   },
   {
    "duration": 130,
    "start_time": "2022-04-27T14:21:22.984Z"
   },
   {
    "duration": 132,
    "start_time": "2022-04-27T14:21:39.327Z"
   },
   {
    "duration": 3327,
    "start_time": "2022-04-27T14:23:18.272Z"
   },
   {
    "duration": 3316,
    "start_time": "2022-04-27T14:23:32.169Z"
   },
   {
    "duration": 222,
    "start_time": "2022-04-27T14:24:18.792Z"
   },
   {
    "duration": 145,
    "start_time": "2022-04-27T14:24:25.042Z"
   },
   {
    "duration": 121,
    "start_time": "2022-04-27T14:26:46.150Z"
   },
   {
    "duration": 876,
    "start_time": "2022-04-27T19:33:06.658Z"
   },
   {
    "duration": 181,
    "start_time": "2022-04-27T19:33:07.536Z"
   },
   {
    "duration": 38,
    "start_time": "2022-04-27T19:33:07.719Z"
   },
   {
    "duration": 24,
    "start_time": "2022-04-27T19:33:07.760Z"
   },
   {
    "duration": 60,
    "start_time": "2022-04-27T19:33:07.801Z"
   },
   {
    "duration": 5,
    "start_time": "2022-04-27T19:33:07.863Z"
   },
   {
    "duration": 37,
    "start_time": "2022-04-27T19:33:07.870Z"
   },
   {
    "duration": 2,
    "start_time": "2022-04-27T19:33:07.909Z"
   },
   {
    "duration": 317,
    "start_time": "2022-04-27T19:33:07.912Z"
   },
   {
    "duration": 23,
    "start_time": "2022-04-27T19:33:08.232Z"
   },
   {
    "duration": 231,
    "start_time": "2022-04-27T19:33:08.257Z"
   },
   {
    "duration": 86,
    "start_time": "2022-04-27T19:33:08.490Z"
   },
   {
    "duration": 213,
    "start_time": "2022-04-27T19:33:08.577Z"
   },
   {
    "duration": 84,
    "start_time": "2022-04-27T19:33:08.799Z"
   },
   {
    "duration": 133,
    "start_time": "2022-04-27T19:33:08.885Z"
   },
   {
    "duration": 93,
    "start_time": "2022-04-27T19:33:09.020Z"
   },
   {
    "duration": 149,
    "start_time": "2022-04-27T19:33:09.115Z"
   },
   {
    "duration": 82,
    "start_time": "2022-04-27T19:33:09.265Z"
   },
   {
    "duration": 82,
    "start_time": "2022-04-27T19:33:09.348Z"
   },
   {
    "duration": 169,
    "start_time": "2022-04-27T19:33:09.432Z"
   },
   {
    "duration": 235,
    "start_time": "2022-04-27T19:33:09.603Z"
   },
   {
    "duration": 8,
    "start_time": "2022-04-27T19:33:09.839Z"
   },
   {
    "duration": 6,
    "start_time": "2022-04-27T19:33:09.848Z"
   },
   {
    "duration": 24,
    "start_time": "2022-04-27T19:33:09.855Z"
   },
   {
    "duration": 35,
    "start_time": "2022-04-27T19:33:09.881Z"
   },
   {
    "duration": 100,
    "start_time": "2022-04-27T19:33:09.918Z"
   },
   {
    "duration": 164,
    "start_time": "2022-04-27T19:33:10.019Z"
   },
   {
    "duration": 264,
    "start_time": "2022-04-27T19:33:10.187Z"
   },
   {
    "duration": 122,
    "start_time": "2022-04-27T19:33:10.453Z"
   },
   {
    "duration": 6,
    "start_time": "2022-04-27T19:33:10.577Z"
   },
   {
    "duration": 136,
    "start_time": "2022-04-27T19:33:10.584Z"
   },
   {
    "duration": 141,
    "start_time": "2022-04-27T19:33:10.722Z"
   },
   {
    "duration": 144,
    "start_time": "2022-04-27T19:33:10.865Z"
   },
   {
    "duration": 141,
    "start_time": "2022-04-27T19:33:11.011Z"
   },
   {
    "duration": 189,
    "start_time": "2022-04-27T19:33:11.153Z"
   },
   {
    "duration": 122,
    "start_time": "2022-04-27T19:33:11.343Z"
   },
   {
    "duration": 117,
    "start_time": "2022-04-27T19:33:11.467Z"
   },
   {
    "duration": 24,
    "start_time": "2022-04-27T19:33:11.586Z"
   },
   {
    "duration": 140,
    "start_time": "2022-04-27T19:33:11.611Z"
   },
   {
    "duration": 153,
    "start_time": "2022-04-27T19:33:11.753Z"
   },
   {
    "duration": 132,
    "start_time": "2022-04-27T19:33:11.908Z"
   },
   {
    "duration": 120,
    "start_time": "2022-04-27T19:33:12.042Z"
   },
   {
    "duration": 137,
    "start_time": "2022-04-27T19:33:12.163Z"
   },
   {
    "duration": 119,
    "start_time": "2022-04-27T19:33:12.301Z"
   },
   {
    "duration": 207,
    "start_time": "2022-04-27T19:33:12.421Z"
   },
   {
    "duration": 282,
    "start_time": "2022-04-27T19:33:12.630Z"
   },
   {
    "duration": 194,
    "start_time": "2022-04-27T19:33:12.914Z"
   },
   {
    "duration": 198,
    "start_time": "2022-04-27T19:33:13.110Z"
   },
   {
    "duration": 5,
    "start_time": "2022-04-27T19:33:39.651Z"
   },
   {
    "duration": 6,
    "start_time": "2022-04-27T19:33:48.509Z"
   },
   {
    "duration": 113,
    "start_time": "2022-04-27T19:33:59.668Z"
   },
   {
    "duration": 5,
    "start_time": "2022-04-27T19:34:35.327Z"
   },
   {
    "duration": 8,
    "start_time": "2022-04-27T19:35:36.011Z"
   },
   {
    "duration": 6,
    "start_time": "2022-04-27T19:35:48.348Z"
   },
   {
    "duration": 4,
    "start_time": "2022-04-27T19:36:05.049Z"
   },
   {
    "duration": 8,
    "start_time": "2022-04-27T19:36:07.939Z"
   },
   {
    "duration": 8,
    "start_time": "2022-04-27T19:36:51.943Z"
   },
   {
    "duration": 11,
    "start_time": "2022-04-27T19:37:26.187Z"
   },
   {
    "duration": 17,
    "start_time": "2022-04-27T19:38:14.660Z"
   },
   {
    "duration": 26,
    "start_time": "2022-04-27T19:38:45.190Z"
   },
   {
    "duration": 390,
    "start_time": "2022-04-27T19:45:08.975Z"
   },
   {
    "duration": 183,
    "start_time": "2022-04-27T19:45:13.800Z"
   },
   {
    "duration": 14,
    "start_time": "2022-04-27T19:45:17.196Z"
   },
   {
    "duration": 132,
    "start_time": "2022-04-27T19:45:33.848Z"
   },
   {
    "duration": 12,
    "start_time": "2022-04-27T19:45:59.148Z"
   },
   {
    "duration": 11,
    "start_time": "2022-04-27T19:46:02.284Z"
   },
   {
    "duration": 20,
    "start_time": "2022-04-27T19:46:39.206Z"
   },
   {
    "duration": 116,
    "start_time": "2022-04-27T19:47:06.306Z"
   },
   {
    "duration": 15,
    "start_time": "2022-04-27T19:47:37.361Z"
   },
   {
    "duration": 14,
    "start_time": "2022-04-27T19:47:56.033Z"
   },
   {
    "duration": 92,
    "start_time": "2022-04-27T19:48:57.938Z"
   },
   {
    "duration": 120,
    "start_time": "2022-04-27T19:49:17.952Z"
   },
   {
    "duration": 104,
    "start_time": "2022-04-27T19:50:01.167Z"
   },
   {
    "duration": 153,
    "start_time": "2022-04-27T19:51:21.699Z"
   },
   {
    "duration": 107,
    "start_time": "2022-04-27T19:52:19.980Z"
   }
  ],
  "kernelspec": {
   "display_name": "Python 3 (ipykernel)",
   "language": "python",
   "name": "python3"
  },
  "language_info": {
   "codemirror_mode": {
    "name": "ipython",
    "version": 3
   },
   "file_extension": ".py",
   "mimetype": "text/x-python",
   "name": "python",
   "nbconvert_exporter": "python",
   "pygments_lexer": "ipython3",
   "version": "3.9.12"
  },
  "toc": {
   "base_numbering": 1,
   "nav_menu": {},
   "number_sections": true,
   "sideBar": true,
   "skip_h1_title": true,
   "title_cell": "Содержание",
   "title_sidebar": "Contents",
   "toc_cell": true,
   "toc_position": {
    "height": "calc(100% - 180px)",
    "left": "10px",
    "top": "150px",
    "width": "165px"
   },
   "toc_section_display": true,
   "toc_window_display": true
  }
 },
 "nbformat": 4,
 "nbformat_minor": 4
}
