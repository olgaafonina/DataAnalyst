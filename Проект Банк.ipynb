{
 "cells": [
  {
   "cell_type": "markdown",
   "id": "7f56a2ac",
   "metadata": {},
   "source": [
    "# Исследование надежности заемщиков."
   ]
  },
  {
   "cell_type": "markdown",
   "id": "484c144c",
   "metadata": {},
   "source": [
    "### Задача проекта:\n",
    "Разобраться, влияет ли семейное положение и количество детей клиента на факт погашения кредита в срок. Заказчик — кредитный отдел банка. Входные данные от банка — статистика о платёжеспособности клиентов."
   ]
  },
  {
   "cell_type": "markdown",
   "id": "008f6285",
   "metadata": {},
   "source": [
    "### Шаг 1. Обзор данных"
   ]
  },
  {
   "cell_type": "code",
   "execution_count": 1,
   "id": "2c06029c",
   "metadata": {},
   "outputs": [],
   "source": [
    "#импортируем необходимые библиотеки\n",
    "import pandas as pd\n",
    "import os"
   ]
  },
  {
   "cell_type": "code",
   "execution_count": 2,
   "id": "aac821c4",
   "metadata": {
    "scrolled": true
   },
   "outputs": [
    {
     "name": "stdout",
     "output_type": "stream",
     "text": [
      "<class 'pandas.core.frame.DataFrame'>\n",
      "RangeIndex: 21525 entries, 0 to 21524\n",
      "Data columns (total 12 columns):\n",
      " #   Column            Non-Null Count  Dtype  \n",
      "---  ------            --------------  -----  \n",
      " 0   children          21525 non-null  int64  \n",
      " 1   days_employed     19351 non-null  float64\n",
      " 2   dob_years         21525 non-null  int64  \n",
      " 3   education         21525 non-null  object \n",
      " 4   education_id      21525 non-null  int64  \n",
      " 5   family_status     21525 non-null  object \n",
      " 6   family_status_id  21525 non-null  int64  \n",
      " 7   gender            21525 non-null  object \n",
      " 8   income_type       21525 non-null  object \n",
      " 9   debt              21525 non-null  int64  \n",
      " 10  total_income      19351 non-null  float64\n",
      " 11  purpose           21525 non-null  object \n",
      "dtypes: float64(2), int64(5), object(5)\n",
      "memory usage: 2.0+ MB\n"
     ]
    }
   ],
   "source": [
    "#прочитаем датасет\n",
    "pth1 = '/datasets/data.csv'\n",
    "pth2 = 'C:/Users/Olga/Desktop/Проект Банк/data.csv'\n",
    "if os.path.exists(pth1):\n",
    "    data = pd.read_csv(pth1)\n",
    "elif os.path.exists(pth2):\n",
    "    data = pd.read_csv(pth2)\n",
    "else:\n",
    "    print('something is wrong')    \n",
    "#посмотрим информацию по датасету\n",
    "data.info()"
   ]
  },
  {
   "cell_type": "code",
   "execution_count": 3,
   "id": "4b91e9e8",
   "metadata": {},
   "outputs": [
    {
     "data": {
      "text/html": [
       "<div>\n",
       "<style scoped>\n",
       "    .dataframe tbody tr th:only-of-type {\n",
       "        vertical-align: middle;\n",
       "    }\n",
       "\n",
       "    .dataframe tbody tr th {\n",
       "        vertical-align: top;\n",
       "    }\n",
       "\n",
       "    .dataframe thead th {\n",
       "        text-align: right;\n",
       "    }\n",
       "</style>\n",
       "<table border=\"1\" class=\"dataframe\">\n",
       "  <thead>\n",
       "    <tr style=\"text-align: right;\">\n",
       "      <th></th>\n",
       "      <th>children</th>\n",
       "      <th>days_employed</th>\n",
       "      <th>dob_years</th>\n",
       "      <th>education</th>\n",
       "      <th>education_id</th>\n",
       "      <th>family_status</th>\n",
       "      <th>family_status_id</th>\n",
       "      <th>gender</th>\n",
       "      <th>income_type</th>\n",
       "      <th>debt</th>\n",
       "      <th>total_income</th>\n",
       "      <th>purpose</th>\n",
       "    </tr>\n",
       "  </thead>\n",
       "  <tbody>\n",
       "    <tr>\n",
       "      <th>0</th>\n",
       "      <td>1</td>\n",
       "      <td>-8437.673028</td>\n",
       "      <td>42</td>\n",
       "      <td>высшее</td>\n",
       "      <td>0</td>\n",
       "      <td>женат / замужем</td>\n",
       "      <td>0</td>\n",
       "      <td>F</td>\n",
       "      <td>сотрудник</td>\n",
       "      <td>0</td>\n",
       "      <td>253875.639453</td>\n",
       "      <td>покупка жилья</td>\n",
       "    </tr>\n",
       "    <tr>\n",
       "      <th>1</th>\n",
       "      <td>1</td>\n",
       "      <td>-4024.803754</td>\n",
       "      <td>36</td>\n",
       "      <td>среднее</td>\n",
       "      <td>1</td>\n",
       "      <td>женат / замужем</td>\n",
       "      <td>0</td>\n",
       "      <td>F</td>\n",
       "      <td>сотрудник</td>\n",
       "      <td>0</td>\n",
       "      <td>112080.014102</td>\n",
       "      <td>приобретение автомобиля</td>\n",
       "    </tr>\n",
       "    <tr>\n",
       "      <th>2</th>\n",
       "      <td>0</td>\n",
       "      <td>-5623.422610</td>\n",
       "      <td>33</td>\n",
       "      <td>Среднее</td>\n",
       "      <td>1</td>\n",
       "      <td>женат / замужем</td>\n",
       "      <td>0</td>\n",
       "      <td>M</td>\n",
       "      <td>сотрудник</td>\n",
       "      <td>0</td>\n",
       "      <td>145885.952297</td>\n",
       "      <td>покупка жилья</td>\n",
       "    </tr>\n",
       "    <tr>\n",
       "      <th>3</th>\n",
       "      <td>3</td>\n",
       "      <td>-4124.747207</td>\n",
       "      <td>32</td>\n",
       "      <td>среднее</td>\n",
       "      <td>1</td>\n",
       "      <td>женат / замужем</td>\n",
       "      <td>0</td>\n",
       "      <td>M</td>\n",
       "      <td>сотрудник</td>\n",
       "      <td>0</td>\n",
       "      <td>267628.550329</td>\n",
       "      <td>дополнительное образование</td>\n",
       "    </tr>\n",
       "    <tr>\n",
       "      <th>4</th>\n",
       "      <td>0</td>\n",
       "      <td>340266.072047</td>\n",
       "      <td>53</td>\n",
       "      <td>среднее</td>\n",
       "      <td>1</td>\n",
       "      <td>гражданский брак</td>\n",
       "      <td>1</td>\n",
       "      <td>F</td>\n",
       "      <td>пенсионер</td>\n",
       "      <td>0</td>\n",
       "      <td>158616.077870</td>\n",
       "      <td>сыграть свадьбу</td>\n",
       "    </tr>\n",
       "  </tbody>\n",
       "</table>\n",
       "</div>"
      ],
      "text/plain": [
       "   children  days_employed  dob_years education  education_id  \\\n",
       "0         1   -8437.673028         42    высшее             0   \n",
       "1         1   -4024.803754         36   среднее             1   \n",
       "2         0   -5623.422610         33   Среднее             1   \n",
       "3         3   -4124.747207         32   среднее             1   \n",
       "4         0  340266.072047         53   среднее             1   \n",
       "\n",
       "      family_status  family_status_id gender income_type  debt   total_income  \\\n",
       "0   женат / замужем                 0      F   сотрудник     0  253875.639453   \n",
       "1   женат / замужем                 0      F   сотрудник     0  112080.014102   \n",
       "2   женат / замужем                 0      M   сотрудник     0  145885.952297   \n",
       "3   женат / замужем                 0      M   сотрудник     0  267628.550329   \n",
       "4  гражданский брак                 1      F   пенсионер     0  158616.077870   \n",
       "\n",
       "                      purpose  \n",
       "0               покупка жилья  \n",
       "1     приобретение автомобиля  \n",
       "2               покупка жилья  \n",
       "3  дополнительное образование  \n",
       "4             сыграть свадьбу  "
      ]
     },
     "execution_count": 3,
     "metadata": {},
     "output_type": "execute_result"
    }
   ],
   "source": [
    "# посмотрим на данные в таблице\n",
    "data.head(5)"
   ]
  },
  {
   "cell_type": "code",
   "execution_count": 4,
   "id": "dcb57220",
   "metadata": {},
   "outputs": [
    {
     "data": {
      "text/html": [
       "<div>\n",
       "<style scoped>\n",
       "    .dataframe tbody tr th:only-of-type {\n",
       "        vertical-align: middle;\n",
       "    }\n",
       "\n",
       "    .dataframe tbody tr th {\n",
       "        vertical-align: top;\n",
       "    }\n",
       "\n",
       "    .dataframe thead th {\n",
       "        text-align: right;\n",
       "    }\n",
       "</style>\n",
       "<table border=\"1\" class=\"dataframe\">\n",
       "  <thead>\n",
       "    <tr style=\"text-align: right;\">\n",
       "      <th></th>\n",
       "      <th>children</th>\n",
       "      <th>days_employed</th>\n",
       "      <th>dob_years</th>\n",
       "      <th>education_id</th>\n",
       "      <th>family_status_id</th>\n",
       "      <th>debt</th>\n",
       "      <th>total_income</th>\n",
       "    </tr>\n",
       "  </thead>\n",
       "  <tbody>\n",
       "    <tr>\n",
       "      <th>count</th>\n",
       "      <td>21525.000000</td>\n",
       "      <td>19351.000000</td>\n",
       "      <td>21525.000000</td>\n",
       "      <td>21525.000000</td>\n",
       "      <td>21525.000000</td>\n",
       "      <td>21525.000000</td>\n",
       "      <td>1.935100e+04</td>\n",
       "    </tr>\n",
       "    <tr>\n",
       "      <th>mean</th>\n",
       "      <td>0.538908</td>\n",
       "      <td>63046.497661</td>\n",
       "      <td>43.293380</td>\n",
       "      <td>0.817236</td>\n",
       "      <td>0.972544</td>\n",
       "      <td>0.080883</td>\n",
       "      <td>1.674223e+05</td>\n",
       "    </tr>\n",
       "    <tr>\n",
       "      <th>std</th>\n",
       "      <td>1.381587</td>\n",
       "      <td>140827.311974</td>\n",
       "      <td>12.574584</td>\n",
       "      <td>0.548138</td>\n",
       "      <td>1.420324</td>\n",
       "      <td>0.272661</td>\n",
       "      <td>1.029716e+05</td>\n",
       "    </tr>\n",
       "    <tr>\n",
       "      <th>min</th>\n",
       "      <td>-1.000000</td>\n",
       "      <td>-18388.949901</td>\n",
       "      <td>0.000000</td>\n",
       "      <td>0.000000</td>\n",
       "      <td>0.000000</td>\n",
       "      <td>0.000000</td>\n",
       "      <td>2.066726e+04</td>\n",
       "    </tr>\n",
       "    <tr>\n",
       "      <th>25%</th>\n",
       "      <td>0.000000</td>\n",
       "      <td>-2747.423625</td>\n",
       "      <td>33.000000</td>\n",
       "      <td>1.000000</td>\n",
       "      <td>0.000000</td>\n",
       "      <td>0.000000</td>\n",
       "      <td>1.030532e+05</td>\n",
       "    </tr>\n",
       "    <tr>\n",
       "      <th>50%</th>\n",
       "      <td>0.000000</td>\n",
       "      <td>-1203.369529</td>\n",
       "      <td>42.000000</td>\n",
       "      <td>1.000000</td>\n",
       "      <td>0.000000</td>\n",
       "      <td>0.000000</td>\n",
       "      <td>1.450179e+05</td>\n",
       "    </tr>\n",
       "    <tr>\n",
       "      <th>75%</th>\n",
       "      <td>1.000000</td>\n",
       "      <td>-291.095954</td>\n",
       "      <td>53.000000</td>\n",
       "      <td>1.000000</td>\n",
       "      <td>1.000000</td>\n",
       "      <td>0.000000</td>\n",
       "      <td>2.034351e+05</td>\n",
       "    </tr>\n",
       "    <tr>\n",
       "      <th>max</th>\n",
       "      <td>20.000000</td>\n",
       "      <td>401755.400475</td>\n",
       "      <td>75.000000</td>\n",
       "      <td>4.000000</td>\n",
       "      <td>4.000000</td>\n",
       "      <td>1.000000</td>\n",
       "      <td>2.265604e+06</td>\n",
       "    </tr>\n",
       "  </tbody>\n",
       "</table>\n",
       "</div>"
      ],
      "text/plain": [
       "           children  days_employed     dob_years  education_id  \\\n",
       "count  21525.000000   19351.000000  21525.000000  21525.000000   \n",
       "mean       0.538908   63046.497661     43.293380      0.817236   \n",
       "std        1.381587  140827.311974     12.574584      0.548138   \n",
       "min       -1.000000  -18388.949901      0.000000      0.000000   \n",
       "25%        0.000000   -2747.423625     33.000000      1.000000   \n",
       "50%        0.000000   -1203.369529     42.000000      1.000000   \n",
       "75%        1.000000    -291.095954     53.000000      1.000000   \n",
       "max       20.000000  401755.400475     75.000000      4.000000   \n",
       "\n",
       "       family_status_id          debt  total_income  \n",
       "count      21525.000000  21525.000000  1.935100e+04  \n",
       "mean           0.972544      0.080883  1.674223e+05  \n",
       "std            1.420324      0.272661  1.029716e+05  \n",
       "min            0.000000      0.000000  2.066726e+04  \n",
       "25%            0.000000      0.000000  1.030532e+05  \n",
       "50%            0.000000      0.000000  1.450179e+05  \n",
       "75%            1.000000      0.000000  2.034351e+05  \n",
       "max            4.000000      1.000000  2.265604e+06  "
      ]
     },
     "execution_count": 4,
     "metadata": {},
     "output_type": "execute_result"
    }
   ],
   "source": [
    "# посмотрим на данные в таблице\n",
    "data.describe()"
   ]
  },
  {
   "cell_type": "markdown",
   "id": "41e55046",
   "metadata": {},
   "source": [
    "Вывод: Есть одинакове количество пропусков в столбцах days_employed и total_income. Так как их количесство одинаково в обох столбцах, то можно предполодить, что человек не был трудоустроен официально. \n",
    "В столбце days_employed вещественные данные, чего не может быть, также есть отрицательные значение, чего также быть не может. \n",
    "В стообце education использованы разные регистры для написания, необходимо привести столбец к одному виду.\n",
    "В столбце total_income представлены вещественные данные, лучше заменить на целочисленные, так как зп в месяц в основном целое чило. "
   ]
  },
  {
   "cell_type": "code",
   "execution_count": 5,
   "id": "fae0a6cd",
   "metadata": {},
   "outputs": [
    {
     "data": {
      "text/plain": [
       "Index(['children', 'days_employed', 'dob_years', 'education', 'education_id',\n",
       "       'family_status', 'family_status_id', 'gender', 'income_type', 'debt',\n",
       "       'total_income', 'purpose'],\n",
       "      dtype='object')"
      ]
     },
     "execution_count": 5,
     "metadata": {},
     "output_type": "execute_result"
    }
   ],
   "source": [
    "#проверка написания столбцов, ошибок не воявлено\n",
    "data.columns"
   ]
  },
  {
   "cell_type": "code",
   "execution_count": 6,
   "id": "c8e704b3",
   "metadata": {},
   "outputs": [],
   "source": [
    "#приведем к одноу регистру столбец education.\n",
    "data['education'] = data['education'].str.lower()"
   ]
  },
  {
   "cell_type": "markdown",
   "id": "81eb90b1",
   "metadata": {},
   "source": [
    "### Шаг 2.1 Заполнение пропусков"
   ]
  },
  {
   "cell_type": "code",
   "execution_count": 7,
   "id": "7d72f0eb",
   "metadata": {},
   "outputs": [
    {
     "data": {
      "text/plain": [
       "children               0\n",
       "days_employed       2174\n",
       "dob_years              0\n",
       "education              0\n",
       "education_id           0\n",
       "family_status          0\n",
       "family_status_id       0\n",
       "gender                 0\n",
       "income_type            0\n",
       "debt                   0\n",
       "total_income        2174\n",
       "purpose                0\n",
       "dtype: int64"
      ]
     },
     "execution_count": 7,
     "metadata": {},
     "output_type": "execute_result"
    }
   ],
   "source": [
    "#посмотрим, в какой столбцах есть пропуски и какое количество.\n",
    "data.isna().sum()"
   ]
  },
  {
   "cell_type": "code",
   "execution_count": 8,
   "id": "9940b2ff",
   "metadata": {},
   "outputs": [
    {
     "data": {
      "text/html": [
       "<div>\n",
       "<style scoped>\n",
       "    .dataframe tbody tr th:only-of-type {\n",
       "        vertical-align: middle;\n",
       "    }\n",
       "\n",
       "    .dataframe tbody tr th {\n",
       "        vertical-align: top;\n",
       "    }\n",
       "\n",
       "    .dataframe thead th {\n",
       "        text-align: right;\n",
       "    }\n",
       "</style>\n",
       "<table border=\"1\" class=\"dataframe\">\n",
       "  <thead>\n",
       "    <tr style=\"text-align: right;\">\n",
       "      <th></th>\n",
       "      <th>children</th>\n",
       "      <th>days_employed</th>\n",
       "      <th>dob_years</th>\n",
       "      <th>education</th>\n",
       "      <th>education_id</th>\n",
       "      <th>family_status</th>\n",
       "      <th>family_status_id</th>\n",
       "      <th>gender</th>\n",
       "      <th>income_type</th>\n",
       "      <th>debt</th>\n",
       "      <th>total_income</th>\n",
       "      <th>purpose</th>\n",
       "    </tr>\n",
       "  </thead>\n",
       "  <tbody>\n",
       "    <tr>\n",
       "      <th>12</th>\n",
       "      <td>0</td>\n",
       "      <td>NaN</td>\n",
       "      <td>65</td>\n",
       "      <td>среднее</td>\n",
       "      <td>1</td>\n",
       "      <td>гражданский брак</td>\n",
       "      <td>1</td>\n",
       "      <td>M</td>\n",
       "      <td>пенсионер</td>\n",
       "      <td>0</td>\n",
       "      <td>NaN</td>\n",
       "      <td>сыграть свадьбу</td>\n",
       "    </tr>\n",
       "    <tr>\n",
       "      <th>26</th>\n",
       "      <td>0</td>\n",
       "      <td>NaN</td>\n",
       "      <td>41</td>\n",
       "      <td>среднее</td>\n",
       "      <td>1</td>\n",
       "      <td>женат / замужем</td>\n",
       "      <td>0</td>\n",
       "      <td>M</td>\n",
       "      <td>госслужащий</td>\n",
       "      <td>0</td>\n",
       "      <td>NaN</td>\n",
       "      <td>образование</td>\n",
       "    </tr>\n",
       "    <tr>\n",
       "      <th>29</th>\n",
       "      <td>0</td>\n",
       "      <td>NaN</td>\n",
       "      <td>63</td>\n",
       "      <td>среднее</td>\n",
       "      <td>1</td>\n",
       "      <td>Не женат / не замужем</td>\n",
       "      <td>4</td>\n",
       "      <td>F</td>\n",
       "      <td>пенсионер</td>\n",
       "      <td>0</td>\n",
       "      <td>NaN</td>\n",
       "      <td>строительство жилой недвижимости</td>\n",
       "    </tr>\n",
       "    <tr>\n",
       "      <th>41</th>\n",
       "      <td>0</td>\n",
       "      <td>NaN</td>\n",
       "      <td>50</td>\n",
       "      <td>среднее</td>\n",
       "      <td>1</td>\n",
       "      <td>женат / замужем</td>\n",
       "      <td>0</td>\n",
       "      <td>F</td>\n",
       "      <td>госслужащий</td>\n",
       "      <td>0</td>\n",
       "      <td>NaN</td>\n",
       "      <td>сделка с подержанным автомобилем</td>\n",
       "    </tr>\n",
       "    <tr>\n",
       "      <th>55</th>\n",
       "      <td>0</td>\n",
       "      <td>NaN</td>\n",
       "      <td>54</td>\n",
       "      <td>среднее</td>\n",
       "      <td>1</td>\n",
       "      <td>гражданский брак</td>\n",
       "      <td>1</td>\n",
       "      <td>F</td>\n",
       "      <td>пенсионер</td>\n",
       "      <td>1</td>\n",
       "      <td>NaN</td>\n",
       "      <td>сыграть свадьбу</td>\n",
       "    </tr>\n",
       "  </tbody>\n",
       "</table>\n",
       "</div>"
      ],
      "text/plain": [
       "    children  days_employed  dob_years education  education_id  \\\n",
       "12         0            NaN         65   среднее             1   \n",
       "26         0            NaN         41   среднее             1   \n",
       "29         0            NaN         63   среднее             1   \n",
       "41         0            NaN         50   среднее             1   \n",
       "55         0            NaN         54   среднее             1   \n",
       "\n",
       "            family_status  family_status_id gender  income_type  debt  \\\n",
       "12       гражданский брак                 1      M    пенсионер     0   \n",
       "26        женат / замужем                 0      M  госслужащий     0   \n",
       "29  Не женат / не замужем                 4      F    пенсионер     0   \n",
       "41        женат / замужем                 0      F  госслужащий     0   \n",
       "55       гражданский брак                 1      F    пенсионер     1   \n",
       "\n",
       "    total_income                           purpose  \n",
       "12           NaN                   сыграть свадьбу  \n",
       "26           NaN                       образование  \n",
       "29           NaN  строительство жилой недвижимости  \n",
       "41           NaN  сделка с подержанным автомобилем  \n",
       "55           NaN                   сыграть свадьбу  "
      ]
     },
     "execution_count": 8,
     "metadata": {},
     "output_type": "execute_result"
    }
   ],
   "source": [
    "#посмотрим, что представляют из себя пустые значения.\n",
    "data[data['total_income'].isna()].head(5)"
   ]
  },
  {
   "cell_type": "code",
   "execution_count": 9,
   "id": "fc399ab3",
   "metadata": {},
   "outputs": [
    {
     "data": {
      "text/html": [
       "<div>\n",
       "<style scoped>\n",
       "    .dataframe tbody tr th:only-of-type {\n",
       "        vertical-align: middle;\n",
       "    }\n",
       "\n",
       "    .dataframe tbody tr th {\n",
       "        vertical-align: top;\n",
       "    }\n",
       "\n",
       "    .dataframe thead th {\n",
       "        text-align: right;\n",
       "    }\n",
       "</style>\n",
       "<table border=\"1\" class=\"dataframe\">\n",
       "  <thead>\n",
       "    <tr style=\"text-align: right;\">\n",
       "      <th></th>\n",
       "      <th>education</th>\n",
       "      <th>income_type</th>\n",
       "      <th>total_income</th>\n",
       "    </tr>\n",
       "  </thead>\n",
       "  <tbody>\n",
       "    <tr>\n",
       "      <th>0</th>\n",
       "      <td>высшее</td>\n",
       "      <td>безработный</td>\n",
       "      <td>202722.511368</td>\n",
       "    </tr>\n",
       "    <tr>\n",
       "      <th>1</th>\n",
       "      <td>высшее</td>\n",
       "      <td>госслужащий</td>\n",
       "      <td>172511.107016</td>\n",
       "    </tr>\n",
       "    <tr>\n",
       "      <th>2</th>\n",
       "      <td>высшее</td>\n",
       "      <td>компаньон</td>\n",
       "      <td>201785.400018</td>\n",
       "    </tr>\n",
       "    <tr>\n",
       "      <th>3</th>\n",
       "      <td>высшее</td>\n",
       "      <td>пенсионер</td>\n",
       "      <td>144240.768611</td>\n",
       "    </tr>\n",
       "    <tr>\n",
       "      <th>4</th>\n",
       "      <td>высшее</td>\n",
       "      <td>предприниматель</td>\n",
       "      <td>499163.144947</td>\n",
       "    </tr>\n",
       "  </tbody>\n",
       "</table>\n",
       "</div>"
      ],
      "text/plain": [
       "  education      income_type   total_income\n",
       "0    высшее      безработный  202722.511368\n",
       "1    высшее      госслужащий  172511.107016\n",
       "2    высшее        компаньон  201785.400018\n",
       "3    высшее        пенсионер  144240.768611\n",
       "4    высшее  предприниматель  499163.144947"
      ]
     },
     "execution_count": 9,
     "metadata": {},
     "output_type": "execute_result"
    }
   ],
   "source": [
    "#сводная таблица поможет проверить корректность данных(медианы), подставляемых функцией.\n",
    "data_pivot = data.pivot_table(index=['education', 'income_type'], values='total_income', aggfunc='median')\n",
    "data_pivot.reset_index().head()\n"
   ]
  },
  {
   "cell_type": "code",
   "execution_count": 10,
   "id": "0e0fdf53",
   "metadata": {},
   "outputs": [
    {
     "data": {
      "text/plain": [
       "144240.76861073746"
      ]
     },
     "execution_count": 10,
     "metadata": {},
     "output_type": "execute_result"
    }
   ],
   "source": [
    "#столбец total_income можно заполнить медианными значениями в зависимости от income_type и от education. \n",
    "#вариант с медианой наиболее выйграшный, так как считает средний доход, а не среднее между минимальным и максимальным значением. \n",
    "#функция считает медианное значение по уровню образования и типу занятости\n",
    "def mediana_by_education_and_income(data, education, income_type):\n",
    "    mediana = data[(data['education'] == education) & (data['income_type'] == income_type)]['total_income'].median()\n",
    "    return mediana\n",
    "#проверка работы функции(полученное значение сравниваю со значением из сводной таблицы)\n",
    "med = mediana_by_education_and_income(data, 'высшее', 'пенсионер')\n",
    "med\n"
   ]
  },
  {
   "cell_type": "code",
   "execution_count": 11,
   "id": "aa746197",
   "metadata": {},
   "outputs": [
    {
     "data": {
      "text/plain": [
       "children               0\n",
       "days_employed       2174\n",
       "dob_years              0\n",
       "education              0\n",
       "education_id           0\n",
       "family_status          0\n",
       "family_status_id       0\n",
       "gender                 0\n",
       "income_type            0\n",
       "debt                   0\n",
       "total_income           0\n",
       "purpose                0\n",
       "dtype: int64"
      ]
     },
     "execution_count": 11,
     "metadata": {},
     "output_type": "execute_result"
    }
   ],
   "source": [
    "#в цикле проходимся по одразованию и типу занятости и в пустые ячейки ежемесячного дохода(total_income) Подставляем медианное значение\n",
    "for education in data[data['total_income'].isna()]['education']:\n",
    "    for income_type in data[data['total_income'].isna()]['income_type']:\n",
    "        med = mediana_by_education_and_income(data, education, income_type)\n",
    "        row = (data['education'] == education) & (data['income_type'] == income_type) & (data['total_income'].isna())\n",
    "        data.loc[row, 'total_income'] = data.loc[row, 'total_income'].fillna(med)\n",
    "#проверка, заполнились ли пустые значения в столбце ежемесячного дохода(total_income) \n",
    "data.isna().sum() "
   ]
  },
  {
   "cell_type": "code",
   "execution_count": 12,
   "id": "9d485e0d",
   "metadata": {},
   "outputs": [
    {
     "data": {
      "text/plain": [
       "-8437.673028      1\n",
       "-3507.818775      1\n",
       " 354500.415854    1\n",
       "-769.717438       1\n",
       "-3963.590317      1\n",
       "                 ..\n",
       "-1099.957609      1\n",
       "-209.984794       1\n",
       " 398099.392433    1\n",
       "-1271.038880      1\n",
       "-1984.507589      1\n",
       "Name: days_employed, Length: 19351, dtype: int64"
      ]
     },
     "execution_count": 12,
     "metadata": {},
     "output_type": "execute_result"
    }
   ],
   "source": [
    "#посмотрм, что представляют из себя значения в столбце days_employed\n",
    "data['days_employed'].value_counts()"
   ]
  },
  {
   "cell_type": "code",
   "execution_count": 13,
   "id": "bc345c3a",
   "metadata": {},
   "outputs": [
    {
     "name": "stdout",
     "output_type": "stream",
     "text": [
      "<class 'pandas.core.frame.DataFrame'>\n",
      "RangeIndex: 21525 entries, 0 to 21524\n",
      "Data columns (total 12 columns):\n",
      " #   Column            Non-Null Count  Dtype  \n",
      "---  ------            --------------  -----  \n",
      " 0   children          21525 non-null  int64  \n",
      " 1   days_employed     21525 non-null  float64\n",
      " 2   dob_years         21525 non-null  int64  \n",
      " 3   education         21525 non-null  object \n",
      " 4   education_id      21525 non-null  int64  \n",
      " 5   family_status     21525 non-null  object \n",
      " 6   family_status_id  21525 non-null  int64  \n",
      " 7   gender            21525 non-null  object \n",
      " 8   income_type       21525 non-null  object \n",
      " 9   debt              21525 non-null  int64  \n",
      " 10  total_income      21525 non-null  float64\n",
      " 11  purpose           21525 non-null  object \n",
      "dtypes: float64(2), int64(5), object(5)\n",
      "memory usage: 2.0+ MB\n"
     ]
    }
   ],
   "source": [
    "#т.к. есть отрицательные значения,скорее всего это опечатка, ведь невозможно,\n",
    "#чтобы количество отработанных дней было отрицательным числом, заменим их положителными.\n",
    "data['days_employed'] = data['days_employed'].abs()\n",
    "#найдем медиану и заменим пустые значения медианой. Пустые значения могут означать, что человек работает не официально.\n",
    "med = data['days_employed'].median()\n",
    "data.loc[data['days_employed'].isna(), 'days_employed'] = med\n",
    "#проверим, остались ли пропуски, вызвав метод info()\n",
    "data.info()"
   ]
  },
  {
   "cell_type": "code",
   "execution_count": 14,
   "id": "118bcca1",
   "metadata": {},
   "outputs": [
    {
     "data": {
      "text/plain": [
       "2194      2180\n",
       "133         16\n",
       "327         16\n",
       "438         15\n",
       "223         14\n",
       "          ... \n",
       "8200         1\n",
       "9090         1\n",
       "360849       1\n",
       "2101         1\n",
       "343937       1\n",
       "Name: days_employed, Length: 9086, dtype: int64"
      ]
     },
     "execution_count": 14,
     "metadata": {},
     "output_type": "execute_result"
    }
   ],
   "source": [
    "#количество отработанных дней days_employed лучше отображать целым числом, так как обычно учет ведется в целых днях или сменах. \n",
    "data['days_employed'] = data['days_employed'].astype(int)\n",
    "data['days_employed'].value_counts()"
   ]
  },
  {
   "cell_type": "markdown",
   "id": "40970494",
   "metadata": {},
   "source": [
    "### Шаг 2.2 Проверка данных на аномалии и исправления."
   ]
  },
  {
   "cell_type": "code",
   "execution_count": 15,
   "id": "5adbb2f9",
   "metadata": {},
   "outputs": [
    {
     "data": {
      "text/html": [
       "<div>\n",
       "<style scoped>\n",
       "    .dataframe tbody tr th:only-of-type {\n",
       "        vertical-align: middle;\n",
       "    }\n",
       "\n",
       "    .dataframe tbody tr th {\n",
       "        vertical-align: top;\n",
       "    }\n",
       "\n",
       "    .dataframe thead th {\n",
       "        text-align: right;\n",
       "    }\n",
       "</style>\n",
       "<table border=\"1\" class=\"dataframe\">\n",
       "  <thead>\n",
       "    <tr style=\"text-align: right;\">\n",
       "      <th></th>\n",
       "      <th>gender</th>\n",
       "    </tr>\n",
       "  </thead>\n",
       "  <tbody>\n",
       "    <tr>\n",
       "      <th>F</th>\n",
       "      <td>14236</td>\n",
       "    </tr>\n",
       "    <tr>\n",
       "      <th>M</th>\n",
       "      <td>7288</td>\n",
       "    </tr>\n",
       "    <tr>\n",
       "      <th>XNA</th>\n",
       "      <td>1</td>\n",
       "    </tr>\n",
       "  </tbody>\n",
       "</table>\n",
       "</div>"
      ],
      "text/plain": [
       "     gender\n",
       "F     14236\n",
       "M      7288\n",
       "XNA       1"
      ]
     },
     "execution_count": 15,
     "metadata": {},
     "output_type": "execute_result"
    }
   ],
   "source": [
    "#посмотрим, какие данные есть в столбце gender.\n",
    "data['gender'].value_counts().to_frame()"
   ]
  },
  {
   "cell_type": "code",
   "execution_count": 16,
   "id": "dd28867f",
   "metadata": {},
   "outputs": [
    {
     "data": {
      "text/html": [
       "<div>\n",
       "<style scoped>\n",
       "    .dataframe tbody tr th:only-of-type {\n",
       "        vertical-align: middle;\n",
       "    }\n",
       "\n",
       "    .dataframe tbody tr th {\n",
       "        vertical-align: top;\n",
       "    }\n",
       "\n",
       "    .dataframe thead th {\n",
       "        text-align: right;\n",
       "    }\n",
       "</style>\n",
       "<table border=\"1\" class=\"dataframe\">\n",
       "  <thead>\n",
       "    <tr style=\"text-align: right;\">\n",
       "      <th></th>\n",
       "      <th>gender</th>\n",
       "    </tr>\n",
       "  </thead>\n",
       "  <tbody>\n",
       "    <tr>\n",
       "      <th>F</th>\n",
       "      <td>14236</td>\n",
       "    </tr>\n",
       "    <tr>\n",
       "      <th>M</th>\n",
       "      <td>7288</td>\n",
       "    </tr>\n",
       "  </tbody>\n",
       "</table>\n",
       "</div>"
      ],
      "text/plain": [
       "   gender\n",
       "F   14236\n",
       "M    7288"
      ]
     },
     "execution_count": 16,
     "metadata": {},
     "output_type": "execute_result"
    }
   ],
   "source": [
    "#в одном случае гендер не определен, удалим его, чтобы остались только изветсные значения. \n",
    "data['gender'] = data.loc[data['gender'] != 'XNA', 'gender']\n",
    "data['gender'].value_counts().to_frame()"
   ]
  },
  {
   "cell_type": "code",
   "execution_count": 17,
   "id": "3606caa7",
   "metadata": {},
   "outputs": [
    {
     "data": {
      "text/html": [
       "<div>\n",
       "<style scoped>\n",
       "    .dataframe tbody tr th:only-of-type {\n",
       "        vertical-align: middle;\n",
       "    }\n",
       "\n",
       "    .dataframe tbody tr th {\n",
       "        vertical-align: top;\n",
       "    }\n",
       "\n",
       "    .dataframe thead th {\n",
       "        text-align: right;\n",
       "    }\n",
       "</style>\n",
       "<table border=\"1\" class=\"dataframe\">\n",
       "  <thead>\n",
       "    <tr style=\"text-align: right;\">\n",
       "      <th></th>\n",
       "      <th>children</th>\n",
       "    </tr>\n",
       "  </thead>\n",
       "  <tbody>\n",
       "    <tr>\n",
       "      <th>0</th>\n",
       "      <td>14149</td>\n",
       "    </tr>\n",
       "    <tr>\n",
       "      <th>1</th>\n",
       "      <td>4818</td>\n",
       "    </tr>\n",
       "    <tr>\n",
       "      <th>2</th>\n",
       "      <td>2055</td>\n",
       "    </tr>\n",
       "    <tr>\n",
       "      <th>3</th>\n",
       "      <td>330</td>\n",
       "    </tr>\n",
       "    <tr>\n",
       "      <th>20</th>\n",
       "      <td>76</td>\n",
       "    </tr>\n",
       "    <tr>\n",
       "      <th>-1</th>\n",
       "      <td>47</td>\n",
       "    </tr>\n",
       "    <tr>\n",
       "      <th>4</th>\n",
       "      <td>41</td>\n",
       "    </tr>\n",
       "    <tr>\n",
       "      <th>5</th>\n",
       "      <td>9</td>\n",
       "    </tr>\n",
       "  </tbody>\n",
       "</table>\n",
       "</div>"
      ],
      "text/plain": [
       "     children\n",
       " 0      14149\n",
       " 1       4818\n",
       " 2       2055\n",
       " 3        330\n",
       " 20        76\n",
       "-1         47\n",
       " 4         41\n",
       " 5          9"
      ]
     },
     "execution_count": 17,
     "metadata": {},
     "output_type": "execute_result"
    }
   ],
   "source": [
    "#посмотрим, какие данные есть в столбце children.\n",
    "data['children'].value_counts().to_frame()"
   ]
  },
  {
   "cell_type": "code",
   "execution_count": 18,
   "id": "9bc6a851",
   "metadata": {},
   "outputs": [
    {
     "data": {
      "text/plain": [
       "женат / замужем          29\n",
       "гражданский брак          5\n",
       "Не женат / не замужем     5\n",
       "в разводе                 4\n",
       "вдовец / вдова            4\n",
       "Name: family_status, dtype: int64"
      ]
     },
     "execution_count": 18,
     "metadata": {},
     "output_type": "execute_result"
    }
   ],
   "source": [
    "#т.к.отрицательное число детей быть не может, проверим семейный статус тех, у кого вышло -1.\n",
    "data.loc[data['children'] == -1]['family_status'].value_counts()"
   ]
  },
  {
   "cell_type": "code",
   "execution_count": 19,
   "id": "614b7c3b",
   "metadata": {},
   "outputs": [
    {
     "data": {
      "text/plain": [
       "0    14149\n",
       "1     4865\n",
       "2     2131\n",
       "3      330\n",
       "4       41\n",
       "5        9\n",
       "Name: children, dtype: int64"
      ]
     },
     "execution_count": 19,
     "metadata": {},
     "output_type": "execute_result"
    }
   ],
   "source": [
    "#так как большинство были в браке или соcтоят в нем, то предположим, что опечатка в знаке. Заменим значение на положительное.\n",
    "data.loc[data['children'] == -1, 'children'] = 1\n",
    "\n",
    "#также число 20 детей кажется ошибочным, скорре всего опечатка, добавили лишний 0, исправим.\n",
    "data.loc[data['children'] == 20, 'children'] = 2\n",
    "\n",
    "data['children'].value_counts()"
   ]
  },
  {
   "cell_type": "code",
   "execution_count": 20,
   "id": "ad4b317a",
   "metadata": {},
   "outputs": [
    {
     "data": {
      "text/plain": [
       "array([42, 36, 33, 32, 53, 27, 43, 50, 35, 41, 40, 65, 54, 56, 26, 48, 24,\n",
       "       21, 57, 67, 28, 63, 62, 47, 34, 68, 25, 31, 30, 20, 49, 37, 45, 61,\n",
       "       64, 44, 52, 46, 23, 38, 39, 51,  0, 59, 29, 60, 55, 58, 71, 22, 73,\n",
       "       66, 69, 19, 72, 70, 74, 75], dtype=int64)"
      ]
     },
     "execution_count": 20,
     "metadata": {},
     "output_type": "execute_result"
    }
   ],
   "source": [
    "#посмотрим, нет ли каких то аномальных значений\n",
    "data['dob_years'].unique()"
   ]
  },
  {
   "cell_type": "code",
   "execution_count": 21,
   "id": "1b6e6e40",
   "metadata": {},
   "outputs": [],
   "source": [
    "#найдем медиану, чтобы заменить 0 возраст заемщика, так как он не может быть 0\n",
    "#data_dod_avr = data['dob_years'].median()\n",
    "#data_dod_avr\n"
   ]
  },
  {
   "cell_type": "code",
   "execution_count": 22,
   "id": "bcd27395",
   "metadata": {},
   "outputs": [],
   "source": [
    "#заменим 0 медианным значением\n",
    "#data.loc[data['dob_years'] == 0, 'dob_years'] = data_dod_avr\n",
    "#data['dob_years'].unique().astype(int)"
   ]
  },
  {
   "cell_type": "code",
   "execution_count": 23,
   "id": "4e6591b2",
   "metadata": {},
   "outputs": [
    {
     "data": {
      "text/html": [
       "<div>\n",
       "<style scoped>\n",
       "    .dataframe tbody tr th:only-of-type {\n",
       "        vertical-align: middle;\n",
       "    }\n",
       "\n",
       "    .dataframe tbody tr th {\n",
       "        vertical-align: top;\n",
       "    }\n",
       "\n",
       "    .dataframe thead th {\n",
       "        text-align: right;\n",
       "    }\n",
       "</style>\n",
       "<table border=\"1\" class=\"dataframe\">\n",
       "  <thead>\n",
       "    <tr style=\"text-align: right;\">\n",
       "      <th></th>\n",
       "      <th>purpose</th>\n",
       "    </tr>\n",
       "  </thead>\n",
       "  <tbody>\n",
       "    <tr>\n",
       "      <th>свадьба</th>\n",
       "      <td>797</td>\n",
       "    </tr>\n",
       "    <tr>\n",
       "      <th>на проведение свадьбы</th>\n",
       "      <td>777</td>\n",
       "    </tr>\n",
       "    <tr>\n",
       "      <th>сыграть свадьбу</th>\n",
       "      <td>774</td>\n",
       "    </tr>\n",
       "    <tr>\n",
       "      <th>операции с недвижимостью</th>\n",
       "      <td>676</td>\n",
       "    </tr>\n",
       "    <tr>\n",
       "      <th>покупка коммерческой недвижимости</th>\n",
       "      <td>664</td>\n",
       "    </tr>\n",
       "    <tr>\n",
       "      <th>покупка жилья для сдачи</th>\n",
       "      <td>653</td>\n",
       "    </tr>\n",
       "    <tr>\n",
       "      <th>операции с жильем</th>\n",
       "      <td>653</td>\n",
       "    </tr>\n",
       "    <tr>\n",
       "      <th>операции с коммерческой недвижимостью</th>\n",
       "      <td>651</td>\n",
       "    </tr>\n",
       "    <tr>\n",
       "      <th>покупка жилья</th>\n",
       "      <td>647</td>\n",
       "    </tr>\n",
       "    <tr>\n",
       "      <th>жилье</th>\n",
       "      <td>647</td>\n",
       "    </tr>\n",
       "    <tr>\n",
       "      <th>покупка жилья для семьи</th>\n",
       "      <td>641</td>\n",
       "    </tr>\n",
       "    <tr>\n",
       "      <th>строительство собственной недвижимости</th>\n",
       "      <td>635</td>\n",
       "    </tr>\n",
       "    <tr>\n",
       "      <th>недвижимость</th>\n",
       "      <td>634</td>\n",
       "    </tr>\n",
       "    <tr>\n",
       "      <th>операции со своей недвижимостью</th>\n",
       "      <td>630</td>\n",
       "    </tr>\n",
       "    <tr>\n",
       "      <th>строительство жилой недвижимости</th>\n",
       "      <td>626</td>\n",
       "    </tr>\n",
       "    <tr>\n",
       "      <th>покупка недвижимости</th>\n",
       "      <td>624</td>\n",
       "    </tr>\n",
       "    <tr>\n",
       "      <th>строительство недвижимости</th>\n",
       "      <td>620</td>\n",
       "    </tr>\n",
       "    <tr>\n",
       "      <th>покупка своего жилья</th>\n",
       "      <td>620</td>\n",
       "    </tr>\n",
       "    <tr>\n",
       "      <th>ремонт жилью</th>\n",
       "      <td>612</td>\n",
       "    </tr>\n",
       "    <tr>\n",
       "      <th>покупка жилой недвижимости</th>\n",
       "      <td>607</td>\n",
       "    </tr>\n",
       "    <tr>\n",
       "      <th>на покупку своего автомобиля</th>\n",
       "      <td>505</td>\n",
       "    </tr>\n",
       "    <tr>\n",
       "      <th>заняться высшим образованием</th>\n",
       "      <td>496</td>\n",
       "    </tr>\n",
       "    <tr>\n",
       "      <th>автомобиль</th>\n",
       "      <td>495</td>\n",
       "    </tr>\n",
       "    <tr>\n",
       "      <th>сделка с подержанным автомобилем</th>\n",
       "      <td>489</td>\n",
       "    </tr>\n",
       "    <tr>\n",
       "      <th>свой автомобиль</th>\n",
       "      <td>480</td>\n",
       "    </tr>\n",
       "    <tr>\n",
       "      <th>на покупку подержанного автомобиля</th>\n",
       "      <td>479</td>\n",
       "    </tr>\n",
       "    <tr>\n",
       "      <th>автомобили</th>\n",
       "      <td>478</td>\n",
       "    </tr>\n",
       "    <tr>\n",
       "      <th>на покупку автомобиля</th>\n",
       "      <td>472</td>\n",
       "    </tr>\n",
       "    <tr>\n",
       "      <th>дополнительное образование</th>\n",
       "      <td>462</td>\n",
       "    </tr>\n",
       "    <tr>\n",
       "      <th>приобретение автомобиля</th>\n",
       "      <td>462</td>\n",
       "    </tr>\n",
       "    <tr>\n",
       "      <th>сделка с автомобилем</th>\n",
       "      <td>455</td>\n",
       "    </tr>\n",
       "    <tr>\n",
       "      <th>высшее образование</th>\n",
       "      <td>453</td>\n",
       "    </tr>\n",
       "    <tr>\n",
       "      <th>образование</th>\n",
       "      <td>447</td>\n",
       "    </tr>\n",
       "    <tr>\n",
       "      <th>получение дополнительного образования</th>\n",
       "      <td>447</td>\n",
       "    </tr>\n",
       "    <tr>\n",
       "      <th>получение образования</th>\n",
       "      <td>443</td>\n",
       "    </tr>\n",
       "    <tr>\n",
       "      <th>профильное образование</th>\n",
       "      <td>436</td>\n",
       "    </tr>\n",
       "    <tr>\n",
       "      <th>получение высшего образования</th>\n",
       "      <td>426</td>\n",
       "    </tr>\n",
       "    <tr>\n",
       "      <th>заняться образованием</th>\n",
       "      <td>412</td>\n",
       "    </tr>\n",
       "  </tbody>\n",
       "</table>\n",
       "</div>"
      ],
      "text/plain": [
       "                                        purpose\n",
       "свадьба                                     797\n",
       "на проведение свадьбы                       777\n",
       "сыграть свадьбу                             774\n",
       "операции с недвижимостью                    676\n",
       "покупка коммерческой недвижимости           664\n",
       "покупка жилья для сдачи                     653\n",
       "операции с жильем                           653\n",
       "операции с коммерческой недвижимостью       651\n",
       "покупка жилья                               647\n",
       "жилье                                       647\n",
       "покупка жилья для семьи                     641\n",
       "строительство собственной недвижимости      635\n",
       "недвижимость                                634\n",
       "операции со своей недвижимостью             630\n",
       "строительство жилой недвижимости            626\n",
       "покупка недвижимости                        624\n",
       "строительство недвижимости                  620\n",
       "покупка своего жилья                        620\n",
       "ремонт жилью                                612\n",
       "покупка жилой недвижимости                  607\n",
       "на покупку своего автомобиля                505\n",
       "заняться высшим образованием                496\n",
       "автомобиль                                  495\n",
       "сделка с подержанным автомобилем            489\n",
       "свой автомобиль                             480\n",
       "на покупку подержанного автомобиля          479\n",
       "автомобили                                  478\n",
       "на покупку автомобиля                       472\n",
       "дополнительное образование                  462\n",
       "приобретение автомобиля                     462\n",
       "сделка с автомобилем                        455\n",
       "высшее образование                          453\n",
       "образование                                 447\n",
       "получение дополнительного образования       447\n",
       "получение образования                       443\n",
       "профильное образование                      436\n",
       "получение высшего образования               426\n",
       "заняться образованием                       412"
      ]
     },
     "execution_count": 23,
     "metadata": {},
     "output_type": "execute_result"
    }
   ],
   "source": [
    "#приведем цели на кредит к одной форме - без пробелов и строчным буквам\n",
    "data['purpose'].str.strip().str.lower().value_counts().to_frame()    "
   ]
  },
  {
   "cell_type": "code",
   "execution_count": 24,
   "id": "bbbde3ca",
   "metadata": {},
   "outputs": [
    {
     "data": {
      "text/plain": [
       "0"
      ]
     },
     "execution_count": 24,
     "metadata": {},
     "output_type": "execute_result"
    }
   ],
   "source": [
    "#исправим опечатку \"ремонт жилью\"\n",
    "data.loc[data['purpose'] == 'ремонт жилью', 'purpose'] = 'ремонт жилья'\n",
    "#проверим, осталась ли опечатка \n",
    "data.loc[data['purpose'] == 'ремонт жилью', 'purpose'].count()"
   ]
  },
  {
   "cell_type": "markdown",
   "id": "ba0b1ed0",
   "metadata": {},
   "source": [
    "### Шаг 2.3. Изменение типов данных."
   ]
  },
  {
   "cell_type": "code",
   "execution_count": 25,
   "id": "621f1225",
   "metadata": {},
   "outputs": [
    {
     "data": {
      "text/html": [
       "<div>\n",
       "<style scoped>\n",
       "    .dataframe tbody tr th:only-of-type {\n",
       "        vertical-align: middle;\n",
       "    }\n",
       "\n",
       "    .dataframe tbody tr th {\n",
       "        vertical-align: top;\n",
       "    }\n",
       "\n",
       "    .dataframe thead th {\n",
       "        text-align: right;\n",
       "    }\n",
       "</style>\n",
       "<table border=\"1\" class=\"dataframe\">\n",
       "  <thead>\n",
       "    <tr style=\"text-align: right;\">\n",
       "      <th></th>\n",
       "      <th>children</th>\n",
       "      <th>days_employed</th>\n",
       "      <th>dob_years</th>\n",
       "      <th>education</th>\n",
       "      <th>education_id</th>\n",
       "      <th>family_status</th>\n",
       "      <th>family_status_id</th>\n",
       "      <th>gender</th>\n",
       "      <th>income_type</th>\n",
       "      <th>debt</th>\n",
       "      <th>total_income</th>\n",
       "      <th>purpose</th>\n",
       "    </tr>\n",
       "  </thead>\n",
       "  <tbody>\n",
       "    <tr>\n",
       "      <th>0</th>\n",
       "      <td>1</td>\n",
       "      <td>8437</td>\n",
       "      <td>42</td>\n",
       "      <td>высшее</td>\n",
       "      <td>0</td>\n",
       "      <td>женат / замужем</td>\n",
       "      <td>0</td>\n",
       "      <td>F</td>\n",
       "      <td>сотрудник</td>\n",
       "      <td>0</td>\n",
       "      <td>253875</td>\n",
       "      <td>покупка жилья</td>\n",
       "    </tr>\n",
       "    <tr>\n",
       "      <th>1</th>\n",
       "      <td>1</td>\n",
       "      <td>4024</td>\n",
       "      <td>36</td>\n",
       "      <td>среднее</td>\n",
       "      <td>1</td>\n",
       "      <td>женат / замужем</td>\n",
       "      <td>0</td>\n",
       "      <td>F</td>\n",
       "      <td>сотрудник</td>\n",
       "      <td>0</td>\n",
       "      <td>112080</td>\n",
       "      <td>приобретение автомобиля</td>\n",
       "    </tr>\n",
       "    <tr>\n",
       "      <th>2</th>\n",
       "      <td>0</td>\n",
       "      <td>5623</td>\n",
       "      <td>33</td>\n",
       "      <td>среднее</td>\n",
       "      <td>1</td>\n",
       "      <td>женат / замужем</td>\n",
       "      <td>0</td>\n",
       "      <td>M</td>\n",
       "      <td>сотрудник</td>\n",
       "      <td>0</td>\n",
       "      <td>145885</td>\n",
       "      <td>покупка жилья</td>\n",
       "    </tr>\n",
       "    <tr>\n",
       "      <th>3</th>\n",
       "      <td>3</td>\n",
       "      <td>4124</td>\n",
       "      <td>32</td>\n",
       "      <td>среднее</td>\n",
       "      <td>1</td>\n",
       "      <td>женат / замужем</td>\n",
       "      <td>0</td>\n",
       "      <td>M</td>\n",
       "      <td>сотрудник</td>\n",
       "      <td>0</td>\n",
       "      <td>267628</td>\n",
       "      <td>дополнительное образование</td>\n",
       "    </tr>\n",
       "    <tr>\n",
       "      <th>4</th>\n",
       "      <td>0</td>\n",
       "      <td>340266</td>\n",
       "      <td>53</td>\n",
       "      <td>среднее</td>\n",
       "      <td>1</td>\n",
       "      <td>гражданский брак</td>\n",
       "      <td>1</td>\n",
       "      <td>F</td>\n",
       "      <td>пенсионер</td>\n",
       "      <td>0</td>\n",
       "      <td>158616</td>\n",
       "      <td>сыграть свадьбу</td>\n",
       "    </tr>\n",
       "  </tbody>\n",
       "</table>\n",
       "</div>"
      ],
      "text/plain": [
       "   children  days_employed  dob_years education  education_id  \\\n",
       "0         1           8437         42    высшее             0   \n",
       "1         1           4024         36   среднее             1   \n",
       "2         0           5623         33   среднее             1   \n",
       "3         3           4124         32   среднее             1   \n",
       "4         0         340266         53   среднее             1   \n",
       "\n",
       "      family_status  family_status_id gender income_type  debt  total_income  \\\n",
       "0   женат / замужем                 0      F   сотрудник     0        253875   \n",
       "1   женат / замужем                 0      F   сотрудник     0        112080   \n",
       "2   женат / замужем                 0      M   сотрудник     0        145885   \n",
       "3   женат / замужем                 0      M   сотрудник     0        267628   \n",
       "4  гражданский брак                 1      F   пенсионер     0        158616   \n",
       "\n",
       "                      purpose  \n",
       "0               покупка жилья  \n",
       "1     приобретение автомобиля  \n",
       "2               покупка жилья  \n",
       "3  дополнительное образование  \n",
       "4             сыграть свадьбу  "
      ]
     },
     "execution_count": 25,
     "metadata": {},
     "output_type": "execute_result"
    }
   ],
   "source": [
    "#заменим вещественный тип данных в столбце total_income на целочисленный.\n",
    "data['total_income'] = data['total_income'].astype(int)\n",
    "data.head()"
   ]
  },
  {
   "cell_type": "markdown",
   "id": "75e66b91",
   "metadata": {},
   "source": [
    "### Шаг 2.4. Удаление дубликатов."
   ]
  },
  {
   "cell_type": "code",
   "execution_count": 26,
   "id": "00aea092",
   "metadata": {},
   "outputs": [
    {
     "data": {
      "text/plain": [
       "71"
      ]
     },
     "execution_count": 26,
     "metadata": {},
     "output_type": "execute_result"
    }
   ],
   "source": [
    "#проверим количество дубликатов\n",
    "data.duplicated().sum()"
   ]
  },
  {
   "cell_type": "code",
   "execution_count": 27,
   "id": "f589ec81",
   "metadata": {},
   "outputs": [
    {
     "data": {
      "text/plain": [
       "0"
      ]
     },
     "execution_count": 27,
     "metadata": {},
     "output_type": "execute_result"
    }
   ],
   "source": [
    "#удалим дубликаты методом drop_duplicates\n",
    "data = data.drop_duplicates(subset=None, keep='first', inplace=False,)\n",
    "#проверим, остались ли дубликаты\n",
    "data.duplicated().sum()"
   ]
  },
  {
   "cell_type": "code",
   "execution_count": 28,
   "id": "ae4dfa62",
   "metadata": {},
   "outputs": [],
   "source": [
    "#приведем к одноу регистру столбец education.\n",
    "data['education'] = data['education'].str.lower()"
   ]
  },
  {
   "cell_type": "markdown",
   "id": "11a6c620",
   "metadata": {},
   "source": [
    "### Шаг 2.5. Формирование дополнительных датафреймов словарей, декомпозиция исходного датафрейма."
   ]
  },
  {
   "cell_type": "code",
   "execution_count": 29,
   "id": "81cd7a72",
   "metadata": {},
   "outputs": [
    {
     "data": {
      "text/html": [
       "<div>\n",
       "<style scoped>\n",
       "    .dataframe tbody tr th:only-of-type {\n",
       "        vertical-align: middle;\n",
       "    }\n",
       "\n",
       "    .dataframe tbody tr th {\n",
       "        vertical-align: top;\n",
       "    }\n",
       "\n",
       "    .dataframe thead th {\n",
       "        text-align: right;\n",
       "    }\n",
       "</style>\n",
       "<table border=\"1\" class=\"dataframe\">\n",
       "  <thead>\n",
       "    <tr style=\"text-align: right;\">\n",
       "      <th></th>\n",
       "      <th>education</th>\n",
       "      <th>education_id</th>\n",
       "    </tr>\n",
       "  </thead>\n",
       "  <tbody>\n",
       "    <tr>\n",
       "      <th>0</th>\n",
       "      <td>высшее</td>\n",
       "      <td>0</td>\n",
       "    </tr>\n",
       "    <tr>\n",
       "      <th>1</th>\n",
       "      <td>среднее</td>\n",
       "      <td>1</td>\n",
       "    </tr>\n",
       "    <tr>\n",
       "      <th>13</th>\n",
       "      <td>неоконченное высшее</td>\n",
       "      <td>2</td>\n",
       "    </tr>\n",
       "    <tr>\n",
       "      <th>31</th>\n",
       "      <td>начальное</td>\n",
       "      <td>3</td>\n",
       "    </tr>\n",
       "    <tr>\n",
       "      <th>2963</th>\n",
       "      <td>ученая степень</td>\n",
       "      <td>4</td>\n",
       "    </tr>\n",
       "  </tbody>\n",
       "</table>\n",
       "</div>"
      ],
      "text/plain": [
       "                education  education_id\n",
       "0                  высшее             0\n",
       "1                 среднее             1\n",
       "13    неоконченное высшее             2\n",
       "31              начальное             3\n",
       "2963       ученая степень             4"
      ]
     },
     "execution_count": 29,
     "metadata": {},
     "output_type": "execute_result"
    }
   ],
   "source": [
    "#создадим новый датафрейм education_dictionary\n",
    "education_dictionary = data[['education', 'education_id']]\n",
    "education_dictionary.drop_duplicates()"
   ]
  },
  {
   "cell_type": "code",
   "execution_count": 30,
   "id": "76bd9b81",
   "metadata": {},
   "outputs": [
    {
     "data": {
      "text/html": [
       "<div>\n",
       "<style scoped>\n",
       "    .dataframe tbody tr th:only-of-type {\n",
       "        vertical-align: middle;\n",
       "    }\n",
       "\n",
       "    .dataframe tbody tr th {\n",
       "        vertical-align: top;\n",
       "    }\n",
       "\n",
       "    .dataframe thead th {\n",
       "        text-align: right;\n",
       "    }\n",
       "</style>\n",
       "<table border=\"1\" class=\"dataframe\">\n",
       "  <thead>\n",
       "    <tr style=\"text-align: right;\">\n",
       "      <th></th>\n",
       "      <th>family_status</th>\n",
       "      <th>family_status_id</th>\n",
       "    </tr>\n",
       "  </thead>\n",
       "  <tbody>\n",
       "    <tr>\n",
       "      <th>0</th>\n",
       "      <td>женат / замужем</td>\n",
       "      <td>0</td>\n",
       "    </tr>\n",
       "    <tr>\n",
       "      <th>4</th>\n",
       "      <td>гражданский брак</td>\n",
       "      <td>1</td>\n",
       "    </tr>\n",
       "    <tr>\n",
       "      <th>18</th>\n",
       "      <td>вдовец / вдова</td>\n",
       "      <td>2</td>\n",
       "    </tr>\n",
       "    <tr>\n",
       "      <th>19</th>\n",
       "      <td>в разводе</td>\n",
       "      <td>3</td>\n",
       "    </tr>\n",
       "    <tr>\n",
       "      <th>24</th>\n",
       "      <td>Не женат / не замужем</td>\n",
       "      <td>4</td>\n",
       "    </tr>\n",
       "  </tbody>\n",
       "</table>\n",
       "</div>"
      ],
      "text/plain": [
       "            family_status  family_status_id\n",
       "0         женат / замужем                 0\n",
       "4        гражданский брак                 1\n",
       "18         вдовец / вдова                 2\n",
       "19              в разводе                 3\n",
       "24  Не женат / не замужем                 4"
      ]
     },
     "execution_count": 30,
     "metadata": {},
     "output_type": "execute_result"
    }
   ],
   "source": [
    "#создадим новый датафрейм family_dictionary\n",
    "family_dictionary = data[['family_status', 'family_status_id']]\n",
    "family_dictionary.drop_duplicates()"
   ]
  },
  {
   "cell_type": "code",
   "execution_count": 31,
   "id": "89cd6232",
   "metadata": {},
   "outputs": [
    {
     "name": "stdout",
     "output_type": "stream",
     "text": [
      "<class 'pandas.core.frame.DataFrame'>\n",
      "Int64Index: 21454 entries, 0 to 21524\n",
      "Data columns (total 10 columns):\n",
      " #   Column            Non-Null Count  Dtype \n",
      "---  ------            --------------  ----- \n",
      " 0   children          21454 non-null  int64 \n",
      " 1   days_employed     21454 non-null  int32 \n",
      " 2   dob_years         21454 non-null  int64 \n",
      " 3   education_id      21454 non-null  int64 \n",
      " 4   family_status_id  21454 non-null  int64 \n",
      " 5   gender            21453 non-null  object\n",
      " 6   income_type       21454 non-null  object\n",
      " 7   debt              21454 non-null  int64 \n",
      " 8   total_income      21454 non-null  int32 \n",
      " 9   purpose           21454 non-null  object\n",
      "dtypes: int32(2), int64(5), object(3)\n",
      "memory usage: 1.6+ MB\n"
     ]
    }
   ],
   "source": [
    "#удалим из исходного датафрейма столбцы education и family_status\n",
    "del data['education']\n",
    "del data['family_status']\n",
    "data.info()"
   ]
  },
  {
   "cell_type": "markdown",
   "id": "0caf562f",
   "metadata": {},
   "source": [
    "### Шаг 2.6. Категоризация дохода."
   ]
  },
  {
   "cell_type": "code",
   "execution_count": 32,
   "id": "6e339673",
   "metadata": {},
   "outputs": [
    {
     "data": {
      "text/plain": [
       "'C'"
      ]
     },
     "execution_count": 32,
     "metadata": {},
     "output_type": "execute_result"
    }
   ],
   "source": [
    "#функция, которая будет определять категорию по доходу\n",
    "def category_by_income(total_income):\n",
    "    if 0 <= total_income <= 30000:\n",
    "        return('E')\n",
    "    elif 30001 <= total_income <= 50000:\n",
    "        return('D')    \n",
    "    elif 50001 <= total_income <= 200000:\n",
    "        return('C') \n",
    "    elif 200001 <= total_income <= 1000000:\n",
    "        return('B') \n",
    "    else:\n",
    "        return('A')\n",
    "    \n",
    "category_by_income(145885)"
   ]
  },
  {
   "cell_type": "code",
   "execution_count": 33,
   "id": "19586514",
   "metadata": {},
   "outputs": [
    {
     "data": {
      "text/plain": [
       "C    15829\n",
       "B     5228\n",
       "D      350\n",
       "A       25\n",
       "E       22\n",
       "Name: total_income_category, dtype: int64"
      ]
     },
     "execution_count": 33,
     "metadata": {},
     "output_type": "execute_result"
    }
   ],
   "source": [
    "#проверка работы функции \n",
    "data['total_income_category'] = data['total_income'].apply(category_by_income)\n",
    "data['total_income_category'].value_counts()"
   ]
  },
  {
   "cell_type": "markdown",
   "id": "fa029cbe",
   "metadata": {},
   "source": [
    "### Шаг 2.7. Категоризация целей кредита."
   ]
  },
  {
   "cell_type": "code",
   "execution_count": 34,
   "id": "5907897d",
   "metadata": {},
   "outputs": [
    {
     "data": {
      "text/plain": [
       "'операции с недвижимостью'"
      ]
     },
     "execution_count": 34,
     "metadata": {},
     "output_type": "execute_result"
    }
   ],
   "source": [
    "#функция, которая будет определять категорию по цели кредита\n",
    "def purpose_by_category(purpose):\n",
    "    if 'автомобил' in purpose:\n",
    "        return 'операции с автомобилем'\n",
    "    if 'свадьб'in purpose:\n",
    "        return 'проведение свадьбы'\n",
    "    if 'образован' in purpose:\n",
    "        return 'получение образования'\n",
    "    else: \n",
    "        return 'операции с недвижимостью'\n",
    "        \n",
    "#проверка работы функции    \n",
    "purpose_by_category('покупка жилья')\n",
    "#purpose_by_category('приобретение автомобиля')\n",
    "#purpose_by_category('сыграть свадьбу')\n",
    "#purpose_by_category('получение дополнительного образования')\n"
   ]
  },
  {
   "cell_type": "code",
   "execution_count": 35,
   "id": "f87b236d",
   "metadata": {},
   "outputs": [
    {
     "data": {
      "text/plain": [
       "операции с недвижимостью    10811\n",
       "операции с автомобилем       4306\n",
       "получение образования        4013\n",
       "проведение свадьбы           2324\n",
       "Name: purpose_category, dtype: int64"
      ]
     },
     "execution_count": 35,
     "metadata": {},
     "output_type": "execute_result"
    }
   ],
   "source": [
    "#проверка работы функции\n",
    "data['purpose_category'] = data['purpose'].apply(purpose_by_category)\n",
    "data['purpose_category'].value_counts()"
   ]
  },
  {
   "cell_type": "markdown",
   "id": "be1bf47b",
   "metadata": {},
   "source": [
    "### Ответы на вопросы."
   ]
  },
  {
   "cell_type": "markdown",
   "id": "0a43f6df",
   "metadata": {},
   "source": [
    "##### Вопрос 1:Есть ли зависимость между количеством детей и возвратом кредита в срок?"
   ]
  },
  {
   "cell_type": "code",
   "execution_count": 36,
   "id": "f4bc7972",
   "metadata": {},
   "outputs": [
    {
     "data": {
      "text/html": [
       "<div>\n",
       "<style scoped>\n",
       "    .dataframe tbody tr th:only-of-type {\n",
       "        vertical-align: middle;\n",
       "    }\n",
       "\n",
       "    .dataframe tbody tr th {\n",
       "        vertical-align: top;\n",
       "    }\n",
       "\n",
       "    .dataframe thead tr th {\n",
       "        text-align: left;\n",
       "    }\n",
       "\n",
       "    .dataframe thead tr:last-of-type th {\n",
       "        text-align: right;\n",
       "    }\n",
       "</style>\n",
       "<table border=\"1\" class=\"dataframe\">\n",
       "  <thead>\n",
       "    <tr>\n",
       "      <th></th>\n",
       "      <th>sum</th>\n",
       "      <th>count</th>\n",
       "      <th>%</th>\n",
       "    </tr>\n",
       "    <tr>\n",
       "      <th></th>\n",
       "      <th>debt</th>\n",
       "      <th>debt</th>\n",
       "      <th></th>\n",
       "    </tr>\n",
       "    <tr>\n",
       "      <th>children</th>\n",
       "      <th></th>\n",
       "      <th></th>\n",
       "      <th></th>\n",
       "    </tr>\n",
       "  </thead>\n",
       "  <tbody>\n",
       "    <tr>\n",
       "      <th>0</th>\n",
       "      <td>1063</td>\n",
       "      <td>14091</td>\n",
       "      <td>7.543822</td>\n",
       "    </tr>\n",
       "    <tr>\n",
       "      <th>1</th>\n",
       "      <td>445</td>\n",
       "      <td>4855</td>\n",
       "      <td>9.165808</td>\n",
       "    </tr>\n",
       "    <tr>\n",
       "      <th>2</th>\n",
       "      <td>202</td>\n",
       "      <td>2128</td>\n",
       "      <td>9.492481</td>\n",
       "    </tr>\n",
       "    <tr>\n",
       "      <th>3</th>\n",
       "      <td>27</td>\n",
       "      <td>330</td>\n",
       "      <td>8.181818</td>\n",
       "    </tr>\n",
       "    <tr>\n",
       "      <th>4</th>\n",
       "      <td>4</td>\n",
       "      <td>41</td>\n",
       "      <td>9.756098</td>\n",
       "    </tr>\n",
       "    <tr>\n",
       "      <th>5</th>\n",
       "      <td>0</td>\n",
       "      <td>9</td>\n",
       "      <td>0.000000</td>\n",
       "    </tr>\n",
       "  </tbody>\n",
       "</table>\n",
       "</div>"
      ],
      "text/plain": [
       "           sum  count         %\n",
       "          debt   debt          \n",
       "children                       \n",
       "0         1063  14091  7.543822\n",
       "1          445   4855  9.165808\n",
       "2          202   2128  9.492481\n",
       "3           27    330  8.181818\n",
       "4            4     41  9.756098\n",
       "5            0      9  0.000000"
      ]
     },
     "execution_count": 36,
     "metadata": {},
     "output_type": "execute_result"
    }
   ],
   "source": [
    "#построим сводную таблицу \n",
    "data_child_debt = data.pivot_table(index=['children'], values='debt', aggfunc = ['sum', 'count'])\n",
    "#добавим столбец с %, чтобы узнать долю.\n",
    "data_child_debt['%'] = data_child_debt['sum', 'debt'] / data_child_debt['count', 'debt'] * 100\n",
    "data_child_debt"
   ]
  },
  {
   "cell_type": "markdown",
   "id": "c76f0969",
   "metadata": {},
   "source": [
    "Вывод: Если нет детей, то процент задолженности немного ниже, чем когда дети есть. Совсем отсутсвует задолженность, когда детей 5. Но разница в задоженности не совсем значительная."
   ]
  },
  {
   "cell_type": "markdown",
   "id": "ff372be6",
   "metadata": {},
   "source": [
    "##### Вопрос 2:Есть ли зависимость между семейным положением и возвратом кредита в срок?"
   ]
  },
  {
   "cell_type": "code",
   "execution_count": 37,
   "id": "ecef9bcb",
   "metadata": {},
   "outputs": [
    {
     "data": {
      "text/html": [
       "<div>\n",
       "<style scoped>\n",
       "    .dataframe tbody tr th:only-of-type {\n",
       "        vertical-align: middle;\n",
       "    }\n",
       "\n",
       "    .dataframe tbody tr th {\n",
       "        vertical-align: top;\n",
       "    }\n",
       "\n",
       "    .dataframe thead tr th {\n",
       "        text-align: left;\n",
       "    }\n",
       "\n",
       "    .dataframe thead tr:last-of-type th {\n",
       "        text-align: right;\n",
       "    }\n",
       "</style>\n",
       "<table border=\"1\" class=\"dataframe\">\n",
       "  <thead>\n",
       "    <tr>\n",
       "      <th></th>\n",
       "      <th>sum</th>\n",
       "      <th>count</th>\n",
       "      <th>%</th>\n",
       "    </tr>\n",
       "    <tr>\n",
       "      <th></th>\n",
       "      <th>debt</th>\n",
       "      <th>debt</th>\n",
       "      <th></th>\n",
       "    </tr>\n",
       "    <tr>\n",
       "      <th>family_status</th>\n",
       "      <th></th>\n",
       "      <th></th>\n",
       "      <th></th>\n",
       "    </tr>\n",
       "  </thead>\n",
       "  <tbody>\n",
       "    <tr>\n",
       "      <th>Не женат / не замужем</th>\n",
       "      <td>769940</td>\n",
       "      <td>7896100</td>\n",
       "      <td>9.750890</td>\n",
       "    </tr>\n",
       "    <tr>\n",
       "      <th>в разводе</th>\n",
       "      <td>101575</td>\n",
       "      <td>1428025</td>\n",
       "      <td>7.112971</td>\n",
       "    </tr>\n",
       "    <tr>\n",
       "      <th>вдовец / вдова</th>\n",
       "      <td>60417</td>\n",
       "      <td>919681</td>\n",
       "      <td>6.569343</td>\n",
       "    </tr>\n",
       "    <tr>\n",
       "      <th>гражданский брак</th>\n",
       "      <td>1610588</td>\n",
       "      <td>17230801</td>\n",
       "      <td>9.347145</td>\n",
       "    </tr>\n",
       "    <tr>\n",
       "      <th>женат / замужем</th>\n",
       "      <td>11487609</td>\n",
       "      <td>152250921</td>\n",
       "      <td>7.545182</td>\n",
       "    </tr>\n",
       "  </tbody>\n",
       "</table>\n",
       "</div>"
      ],
      "text/plain": [
       "                            sum      count         %\n",
       "                           debt       debt          \n",
       "family_status                                       \n",
       "Не женат / не замужем    769940    7896100  9.750890\n",
       "в разводе                101575    1428025  7.112971\n",
       "вдовец / вдова            60417     919681  6.569343\n",
       "гражданский брак        1610588   17230801  9.347145\n",
       "женат / замужем        11487609  152250921  7.545182"
      ]
     },
     "execution_count": 37,
     "metadata": {},
     "output_type": "execute_result"
    }
   ],
   "source": [
    "#объединим таблицу data с family_dictionary методом merge и по общей таблице построим сводную.\n",
    "data_family = data.merge(family_dictionary, on='family_status_id', how='left')\n",
    "data_family_status_debt = data_family.pivot_table(index='family_status', values='debt', aggfunc=['sum', 'count'])\n",
    "#добавим столбец с %, чтобы узнать долю.\n",
    "data_family_status_debt['%'] = data_family_status_debt['sum', 'debt'] / data_family_status_debt['count', 'debt'] *100\n",
    "data_family_status_debt"
   ]
  },
  {
   "cell_type": "markdown",
   "id": "01da84d8",
   "metadata": {},
   "source": [
    "Вывод: Вдовы/вдовцы, находящиеся в разводе и в браке имеют меньший процент задолженности, а не женатые/на замужем, а также в гражданском браке(сожители имеются ввиду, видимо, гражданский, это узаконенный брак) имеют больший процент задолженности."
   ]
  },
  {
   "cell_type": "markdown",
   "id": "4d3e1519",
   "metadata": {},
   "source": [
    "##### Вопрос 3:Есть ли зависимость между уровнем дохода и возвратом кредита в срок?"
   ]
  },
  {
   "cell_type": "code",
   "execution_count": 38,
   "id": "df4f3741",
   "metadata": {},
   "outputs": [
    {
     "data": {
      "text/html": [
       "<div>\n",
       "<style scoped>\n",
       "    .dataframe tbody tr th:only-of-type {\n",
       "        vertical-align: middle;\n",
       "    }\n",
       "\n",
       "    .dataframe tbody tr th {\n",
       "        vertical-align: top;\n",
       "    }\n",
       "\n",
       "    .dataframe thead tr th {\n",
       "        text-align: left;\n",
       "    }\n",
       "\n",
       "    .dataframe thead tr:last-of-type th {\n",
       "        text-align: right;\n",
       "    }\n",
       "</style>\n",
       "<table border=\"1\" class=\"dataframe\">\n",
       "  <thead>\n",
       "    <tr>\n",
       "      <th></th>\n",
       "      <th>sum</th>\n",
       "      <th>count</th>\n",
       "      <th>%</th>\n",
       "    </tr>\n",
       "    <tr>\n",
       "      <th></th>\n",
       "      <th>debt</th>\n",
       "      <th>debt</th>\n",
       "      <th></th>\n",
       "    </tr>\n",
       "    <tr>\n",
       "      <th>total_income_category</th>\n",
       "      <th></th>\n",
       "      <th></th>\n",
       "      <th></th>\n",
       "    </tr>\n",
       "  </thead>\n",
       "  <tbody>\n",
       "    <tr>\n",
       "      <th>A</th>\n",
       "      <td>2</td>\n",
       "      <td>25</td>\n",
       "      <td>8.000000</td>\n",
       "    </tr>\n",
       "    <tr>\n",
       "      <th>B</th>\n",
       "      <td>364</td>\n",
       "      <td>5228</td>\n",
       "      <td>6.962510</td>\n",
       "    </tr>\n",
       "    <tr>\n",
       "      <th>C</th>\n",
       "      <td>1352</td>\n",
       "      <td>15829</td>\n",
       "      <td>8.541285</td>\n",
       "    </tr>\n",
       "    <tr>\n",
       "      <th>D</th>\n",
       "      <td>21</td>\n",
       "      <td>350</td>\n",
       "      <td>6.000000</td>\n",
       "    </tr>\n",
       "    <tr>\n",
       "      <th>E</th>\n",
       "      <td>2</td>\n",
       "      <td>22</td>\n",
       "      <td>9.090909</td>\n",
       "    </tr>\n",
       "  </tbody>\n",
       "</table>\n",
       "</div>"
      ],
      "text/plain": [
       "                        sum  count         %\n",
       "                       debt   debt          \n",
       "total_income_category                       \n",
       "A                         2     25  8.000000\n",
       "B                       364   5228  6.962510\n",
       "C                      1352  15829  8.541285\n",
       "D                        21    350  6.000000\n",
       "E                         2     22  9.090909"
      ]
     },
     "execution_count": 38,
     "metadata": {},
     "output_type": "execute_result"
    }
   ],
   "source": [
    "#построим сводную таблицу \n",
    "data_income_and_debt = data.pivot_table(index=['total_income_category'],  values='debt', aggfunc=['sum', 'count'])\n",
    "#добавим столбец с %, чтобы узнать долю.\n",
    "data_income_and_debt['%'] = data_income_and_debt['sum', 'debt'] / data_income_and_debt['count', 'debt'] * 100\n",
    "data_income_and_debt"
   ]
  },
  {
   "cell_type": "markdown",
   "id": "586cd78b",
   "metadata": {},
   "source": [
    "Вывод: Люди, относящиеся к категории B(200001–1000000)  и D(30001–50000) имеют меньший процент задолженности, и берут кредиты реже, чем средний класс С, который хуже возвращает кредиты. "
   ]
  },
  {
   "cell_type": "markdown",
   "id": "c7046687",
   "metadata": {},
   "source": [
    "##### Вопрос 4:Как разные цели кредита влияют на его возврат в срок?"
   ]
  },
  {
   "cell_type": "code",
   "execution_count": 39,
   "id": "60e24bd4",
   "metadata": {},
   "outputs": [
    {
     "data": {
      "text/html": [
       "<div>\n",
       "<style scoped>\n",
       "    .dataframe tbody tr th:only-of-type {\n",
       "        vertical-align: middle;\n",
       "    }\n",
       "\n",
       "    .dataframe tbody tr th {\n",
       "        vertical-align: top;\n",
       "    }\n",
       "\n",
       "    .dataframe thead tr th {\n",
       "        text-align: left;\n",
       "    }\n",
       "\n",
       "    .dataframe thead tr:last-of-type th {\n",
       "        text-align: right;\n",
       "    }\n",
       "</style>\n",
       "<table border=\"1\" class=\"dataframe\">\n",
       "  <thead>\n",
       "    <tr>\n",
       "      <th></th>\n",
       "      <th>sum</th>\n",
       "      <th>count</th>\n",
       "      <th>%</th>\n",
       "    </tr>\n",
       "    <tr>\n",
       "      <th></th>\n",
       "      <th>debt</th>\n",
       "      <th>debt</th>\n",
       "      <th></th>\n",
       "    </tr>\n",
       "    <tr>\n",
       "      <th>purpose_category</th>\n",
       "      <th></th>\n",
       "      <th></th>\n",
       "      <th></th>\n",
       "    </tr>\n",
       "  </thead>\n",
       "  <tbody>\n",
       "    <tr>\n",
       "      <th>операции с автомобилем</th>\n",
       "      <td>403</td>\n",
       "      <td>4306</td>\n",
       "      <td>9.359034</td>\n",
       "    </tr>\n",
       "    <tr>\n",
       "      <th>операции с недвижимостью</th>\n",
       "      <td>782</td>\n",
       "      <td>10811</td>\n",
       "      <td>7.233373</td>\n",
       "    </tr>\n",
       "    <tr>\n",
       "      <th>получение образования</th>\n",
       "      <td>370</td>\n",
       "      <td>4013</td>\n",
       "      <td>9.220035</td>\n",
       "    </tr>\n",
       "    <tr>\n",
       "      <th>проведение свадьбы</th>\n",
       "      <td>186</td>\n",
       "      <td>2324</td>\n",
       "      <td>8.003442</td>\n",
       "    </tr>\n",
       "  </tbody>\n",
       "</table>\n",
       "</div>"
      ],
      "text/plain": [
       "                          sum  count         %\n",
       "                         debt   debt          \n",
       "purpose_category                              \n",
       "операции с автомобилем    403   4306  9.359034\n",
       "операции с недвижимостью  782  10811  7.233373\n",
       "получение образования     370   4013  9.220035\n",
       "проведение свадьбы        186   2324  8.003442"
      ]
     },
     "execution_count": 39,
     "metadata": {},
     "output_type": "execute_result"
    }
   ],
   "source": [
    "#построим сводную таблицу \n",
    "data_purpose_and_debt = data.pivot_table(index=['purpose_category'],  values='debt', aggfunc=['sum', 'count'])\n",
    "#добавим столбец с %, чтобы узнать долю.\n",
    "data_purpose_and_debt['%'] = data_purpose_and_debt['sum', 'debt'] / data_purpose_and_debt['count', 'debt'] * 100\n",
    "data_purpose_and_debt"
   ]
  },
  {
   "cell_type": "markdown",
   "id": "4474e95f",
   "metadata": {},
   "source": [
    "Вывод: Больше всего кредит берут на опреции с недвижимостью, и процент возврата по этой категории хороший, так же как и на кредит на проведение свадеб. Хуже обстоят дела с кредитами на автомобиль и образование."
   ]
  },
  {
   "cell_type": "markdown",
   "id": "f56dc445",
   "metadata": {},
   "source": [
    "## Общий вывод:"
   ]
  },
  {
   "cell_type": "markdown",
   "id": "fbbfb36b",
   "metadata": {},
   "source": [
    "Наиболее подходящий заемщик - у которого нет детей, находящийся в официальных отношениях или разводе, зарабатывайщий выше среднего и берущий кредит на недвижимость.\n",
    "Но разброс не особо большой и составляет приблизительно 2% в каждом сравнении. Хотя если брать 10% задолженоости за 100%, то разница будет более значительная между должниками от 20-35% "
   ]
  }
 ],
 "metadata": {
  "ExecuteTimeLog": [
   {
    "duration": 212,
    "start_time": "2022-03-21T12:34:09.902Z"
   },
   {
    "duration": 637,
    "start_time": "2022-03-21T12:34:26.858Z"
   },
   {
    "duration": 86,
    "start_time": "2022-03-21T12:34:47.852Z"
   },
   {
    "duration": 87,
    "start_time": "2022-03-21T12:35:01.108Z"
   },
   {
    "duration": 67,
    "start_time": "2022-03-22T08:19:24.635Z"
   },
   {
    "duration": 466,
    "start_time": "2022-03-22T08:19:27.441Z"
   },
   {
    "duration": 17,
    "start_time": "2022-03-22T08:19:29.972Z"
   },
   {
    "duration": 14,
    "start_time": "2022-03-22T08:19:34.681Z"
   },
   {
    "duration": 23,
    "start_time": "2022-03-22T08:33:59.484Z"
   },
   {
    "duration": 15,
    "start_time": "2022-03-22T08:34:36.735Z"
   },
   {
    "duration": 12,
    "start_time": "2022-03-22T09:07:05.121Z"
   },
   {
    "duration": 38,
    "start_time": "2022-03-22T09:10:41.769Z"
   },
   {
    "duration": 14,
    "start_time": "2022-03-22T09:11:04.546Z"
   },
   {
    "duration": 18,
    "start_time": "2022-03-22T09:40:03.075Z"
   },
   {
    "duration": 17,
    "start_time": "2022-03-22T09:40:51.970Z"
   },
   {
    "duration": 16,
    "start_time": "2022-03-22T09:41:58.324Z"
   },
   {
    "duration": 7,
    "start_time": "2022-03-22T09:42:16.190Z"
   },
   {
    "duration": 7,
    "start_time": "2022-03-22T10:00:02.691Z"
   },
   {
    "duration": 7,
    "start_time": "2022-03-22T10:03:59.396Z"
   },
   {
    "duration": 8,
    "start_time": "2022-03-22T10:04:14.763Z"
   },
   {
    "duration": 8,
    "start_time": "2022-03-22T10:07:47.394Z"
   },
   {
    "duration": 9,
    "start_time": "2022-03-22T10:08:29.454Z"
   },
   {
    "duration": 8,
    "start_time": "2022-03-22T10:09:13.075Z"
   },
   {
    "duration": 15,
    "start_time": "2022-03-22T10:09:28.077Z"
   },
   {
    "duration": 8,
    "start_time": "2022-03-22T10:09:31.152Z"
   },
   {
    "duration": 8,
    "start_time": "2022-03-22T10:10:35.094Z"
   },
   {
    "duration": 13,
    "start_time": "2022-03-22T10:10:38.124Z"
   },
   {
    "duration": 8,
    "start_time": "2022-03-22T10:10:42.629Z"
   },
   {
    "duration": 8,
    "start_time": "2022-03-22T10:11:35.830Z"
   },
   {
    "duration": 9,
    "start_time": "2022-03-22T10:11:51.989Z"
   },
   {
    "duration": 7,
    "start_time": "2022-03-22T10:12:10.120Z"
   },
   {
    "duration": 4,
    "start_time": "2022-03-22T10:12:56.137Z"
   },
   {
    "duration": 4,
    "start_time": "2022-03-22T10:14:24.006Z"
   },
   {
    "duration": 22,
    "start_time": "2022-03-22T10:15:32.100Z"
   },
   {
    "duration": 21,
    "start_time": "2022-03-22T10:15:57.726Z"
   },
   {
    "duration": 22,
    "start_time": "2022-03-22T10:16:07.581Z"
   },
   {
    "duration": 10,
    "start_time": "2022-03-22T10:16:58.045Z"
   },
   {
    "duration": 22,
    "start_time": "2022-03-22T10:17:06.045Z"
   },
   {
    "duration": 22,
    "start_time": "2022-03-22T10:17:10.381Z"
   },
   {
    "duration": 11,
    "start_time": "2022-03-22T10:18:57.389Z"
   },
   {
    "duration": 12,
    "start_time": "2022-03-22T10:18:59.749Z"
   },
   {
    "duration": 30,
    "start_time": "2022-03-22T10:19:07.444Z"
   },
   {
    "duration": 24,
    "start_time": "2022-03-22T10:19:16.493Z"
   },
   {
    "duration": 11,
    "start_time": "2022-03-22T10:19:26.189Z"
   },
   {
    "duration": 21,
    "start_time": "2022-03-22T10:19:30.344Z"
   },
   {
    "duration": 21,
    "start_time": "2022-03-22T10:19:34.519Z"
   },
   {
    "duration": 9,
    "start_time": "2022-03-22T10:21:21.138Z"
   },
   {
    "duration": 4,
    "start_time": "2022-03-22T10:21:29.506Z"
   },
   {
    "duration": 4,
    "start_time": "2022-03-22T10:22:02.218Z"
   },
   {
    "duration": 21,
    "start_time": "2022-03-22T10:22:08.795Z"
   },
   {
    "duration": 20,
    "start_time": "2022-03-22T10:23:00.491Z"
   },
   {
    "duration": 18,
    "start_time": "2022-03-22T10:23:10.746Z"
   },
   {
    "duration": 18,
    "start_time": "2022-03-22T10:23:15.851Z"
   },
   {
    "duration": 20,
    "start_time": "2022-03-22T10:23:24.410Z"
   },
   {
    "duration": 13,
    "start_time": "2022-03-22T10:23:42.171Z"
   },
   {
    "duration": 13,
    "start_time": "2022-03-22T10:23:48.074Z"
   },
   {
    "duration": 8,
    "start_time": "2022-03-22T10:29:23.811Z"
   },
   {
    "duration": 8,
    "start_time": "2022-03-22T10:29:28.154Z"
   },
   {
    "duration": 8,
    "start_time": "2022-03-22T10:29:34.866Z"
   },
   {
    "duration": 6,
    "start_time": "2022-03-22T10:29:37.883Z"
   },
   {
    "duration": 67,
    "start_time": "2022-03-22T10:29:43.827Z"
   },
   {
    "duration": 12,
    "start_time": "2022-03-22T10:29:47.570Z"
   },
   {
    "duration": 22,
    "start_time": "2022-03-22T10:29:51.436Z"
   },
   {
    "duration": 10,
    "start_time": "2022-03-22T10:30:03.698Z"
   },
   {
    "duration": 14,
    "start_time": "2022-03-22T10:30:07.026Z"
   },
   {
    "duration": 18,
    "start_time": "2022-03-22T10:30:13.570Z"
   },
   {
    "duration": 13,
    "start_time": "2022-03-22T10:30:34.420Z"
   },
   {
    "duration": 21,
    "start_time": "2022-03-22T10:30:41.747Z"
   },
   {
    "duration": 9662,
    "start_time": "2022-03-22T10:39:16.434Z"
   },
   {
    "duration": 0,
    "start_time": "2022-03-22T10:39:26.097Z"
   },
   {
    "duration": 65,
    "start_time": "2022-03-22T10:39:26.272Z"
   },
   {
    "duration": 12,
    "start_time": "2022-03-22T10:39:29.280Z"
   },
   {
    "duration": 4,
    "start_time": "2022-03-22T10:41:03.272Z"
   },
   {
    "duration": 22,
    "start_time": "2022-03-22T10:41:42.706Z"
   },
   {
    "duration": 10,
    "start_time": "2022-03-22T10:41:46.559Z"
   },
   {
    "duration": 14,
    "start_time": "2022-03-22T10:41:52.386Z"
   },
   {
    "duration": 8,
    "start_time": "2022-03-22T10:44:20.292Z"
   },
   {
    "duration": 8,
    "start_time": "2022-03-22T10:44:47.871Z"
   },
   {
    "duration": 3,
    "start_time": "2022-03-22T10:45:22.744Z"
   },
   {
    "duration": 22,
    "start_time": "2022-03-22T10:45:29.952Z"
   },
   {
    "duration": 16,
    "start_time": "2022-03-22T10:45:48.402Z"
   },
   {
    "duration": 6,
    "start_time": "2022-03-22T10:46:14.609Z"
   },
   {
    "duration": 10,
    "start_time": "2022-03-22T10:46:27.578Z"
   },
   {
    "duration": 252,
    "start_time": "2022-03-22T10:46:34.482Z"
   },
   {
    "duration": 10,
    "start_time": "2022-03-22T10:46:58.794Z"
   },
   {
    "duration": 8,
    "start_time": "2022-03-22T10:47:03.067Z"
   },
   {
    "duration": 10,
    "start_time": "2022-03-22T10:47:06.098Z"
   },
   {
    "duration": 9,
    "start_time": "2022-03-22T10:47:11.220Z"
   },
   {
    "duration": 439,
    "start_time": "2022-03-22T10:47:34.466Z"
   },
   {
    "duration": 19,
    "start_time": "2022-03-22T10:47:34.907Z"
   },
   {
    "duration": 4,
    "start_time": "2022-03-22T10:47:34.927Z"
   },
   {
    "duration": 23,
    "start_time": "2022-03-22T10:47:34.933Z"
   },
   {
    "duration": 11,
    "start_time": "2022-03-22T10:47:34.958Z"
   },
   {
    "duration": 15,
    "start_time": "2022-03-22T10:47:34.971Z"
   },
   {
    "duration": 9,
    "start_time": "2022-03-22T10:47:34.988Z"
   },
   {
    "duration": 10,
    "start_time": "2022-03-22T10:47:44.525Z"
   },
   {
    "duration": 10,
    "start_time": "2022-03-22T10:47:57.078Z"
   },
   {
    "duration": 76,
    "start_time": "2022-03-22T10:48:13.597Z"
   },
   {
    "duration": 13,
    "start_time": "2022-03-22T10:48:20.413Z"
   },
   {
    "duration": 17,
    "start_time": "2022-03-22T10:48:27.861Z"
   },
   {
    "duration": 9,
    "start_time": "2022-03-22T10:49:15.885Z"
   },
   {
    "duration": 3,
    "start_time": "2022-03-22T10:49:54.556Z"
   },
   {
    "duration": 9,
    "start_time": "2022-03-22T10:50:36.956Z"
   },
   {
    "duration": 11,
    "start_time": "2022-03-22T10:51:08.606Z"
   },
   {
    "duration": 8,
    "start_time": "2022-03-22T10:51:23.732Z"
   },
   {
    "duration": 5,
    "start_time": "2022-03-22T10:51:29.663Z"
   },
   {
    "duration": 5,
    "start_time": "2022-03-22T10:51:41.213Z"
   },
   {
    "duration": 8,
    "start_time": "2022-03-22T10:51:55.804Z"
   },
   {
    "duration": 11,
    "start_time": "2022-03-22T10:59:46.331Z"
   },
   {
    "duration": 6,
    "start_time": "2022-03-22T11:00:18.925Z"
   },
   {
    "duration": 6,
    "start_time": "2022-03-22T11:00:22.109Z"
   },
   {
    "duration": 8,
    "start_time": "2022-03-22T11:00:34.020Z"
   },
   {
    "duration": 24,
    "start_time": "2022-03-22T12:08:53.651Z"
   },
   {
    "duration": 18,
    "start_time": "2022-03-22T12:19:45.942Z"
   },
   {
    "duration": 16,
    "start_time": "2022-03-22T12:19:48.748Z"
   },
   {
    "duration": 22,
    "start_time": "2022-03-22T12:19:51.460Z"
   },
   {
    "duration": 17,
    "start_time": "2022-03-22T12:19:54.492Z"
   },
   {
    "duration": 25,
    "start_time": "2022-03-22T12:20:06.588Z"
   },
   {
    "duration": 28,
    "start_time": "2022-03-22T12:21:17.333Z"
   },
   {
    "duration": 19,
    "start_time": "2022-03-22T12:21:37.079Z"
   },
   {
    "duration": 20,
    "start_time": "2022-03-22T12:21:47.084Z"
   },
   {
    "duration": 20,
    "start_time": "2022-03-22T12:21:54.197Z"
   },
   {
    "duration": 0,
    "start_time": "2022-03-22T12:26:53.382Z"
   },
   {
    "duration": 21,
    "start_time": "2022-03-22T12:26:55.685Z"
   },
   {
    "duration": 3911,
    "start_time": "2022-03-22T12:26:58.141Z"
   },
   {
    "duration": 4645,
    "start_time": "2022-03-22T12:27:14.912Z"
   },
   {
    "duration": 4932,
    "start_time": "2022-03-22T12:27:58.669Z"
   },
   {
    "duration": 3772,
    "start_time": "2022-03-22T12:33:16.189Z"
   },
   {
    "duration": 20,
    "start_time": "2022-03-22T12:33:33.191Z"
   },
   {
    "duration": 19,
    "start_time": "2022-03-22T12:33:37.535Z"
   },
   {
    "duration": 18,
    "start_time": "2022-03-22T12:33:41.192Z"
   },
   {
    "duration": 19,
    "start_time": "2022-03-22T12:33:44.614Z"
   },
   {
    "duration": 23,
    "start_time": "2022-03-22T12:33:50.997Z"
   },
   {
    "duration": 4053,
    "start_time": "2022-03-22T12:34:15.206Z"
   },
   {
    "duration": 18797,
    "start_time": "2022-03-22T12:35:04.262Z"
   },
   {
    "duration": 10426,
    "start_time": "2022-03-22T12:36:22.839Z"
   },
   {
    "duration": 23,
    "start_time": "2022-03-22T12:39:02.855Z"
   },
   {
    "duration": 6207,
    "start_time": "2022-03-22T12:39:11.217Z"
   },
   {
    "duration": 7,
    "start_time": "2022-03-22T12:40:18.407Z"
   },
   {
    "duration": 8,
    "start_time": "2022-03-22T12:40:56.881Z"
   },
   {
    "duration": 4979,
    "start_time": "2022-03-22T12:42:07.129Z"
   },
   {
    "duration": 4829,
    "start_time": "2022-03-22T12:42:43.939Z"
   },
   {
    "duration": 203,
    "start_time": "2022-03-22T12:52:24.964Z"
   },
   {
    "duration": 179,
    "start_time": "2022-03-22T12:53:35.188Z"
   },
   {
    "duration": 3600,
    "start_time": "2022-03-22T12:54:30.405Z"
   },
   {
    "duration": 3748,
    "start_time": "2022-03-22T12:55:21.638Z"
   },
   {
    "duration": 7,
    "start_time": "2022-03-22T13:05:22.665Z"
   },
   {
    "duration": 9,
    "start_time": "2022-03-22T13:05:33.001Z"
   },
   {
    "duration": 7,
    "start_time": "2022-03-22T13:05:45.938Z"
   },
   {
    "duration": 13,
    "start_time": "2022-03-22T13:05:57.809Z"
   },
   {
    "duration": 5,
    "start_time": "2022-03-22T13:06:00.563Z"
   },
   {
    "duration": 9,
    "start_time": "2022-03-22T13:06:04.099Z"
   },
   {
    "duration": 6,
    "start_time": "2022-03-22T13:07:33.289Z"
   },
   {
    "duration": 9,
    "start_time": "2022-03-22T13:07:46.032Z"
   },
   {
    "duration": 10,
    "start_time": "2022-03-22T13:08:00.064Z"
   },
   {
    "duration": 6,
    "start_time": "2022-03-22T13:08:05.312Z"
   },
   {
    "duration": 257,
    "start_time": "2022-03-22T13:12:13.081Z"
   },
   {
    "duration": 23,
    "start_time": "2022-03-22T13:12:20.818Z"
   },
   {
    "duration": 9,
    "start_time": "2022-03-22T13:12:32.737Z"
   },
   {
    "duration": 6,
    "start_time": "2022-03-22T13:12:51.769Z"
   },
   {
    "duration": 10,
    "start_time": "2022-03-22T13:13:17.100Z"
   },
   {
    "duration": 7,
    "start_time": "2022-03-22T13:13:30.393Z"
   },
   {
    "duration": 8,
    "start_time": "2022-03-22T13:15:59.638Z"
   },
   {
    "duration": 8,
    "start_time": "2022-03-22T13:16:10.434Z"
   },
   {
    "duration": 8,
    "start_time": "2022-03-22T13:16:17.116Z"
   },
   {
    "duration": 5,
    "start_time": "2022-03-22T13:16:21.538Z"
   },
   {
    "duration": 6348,
    "start_time": "2022-03-22T13:20:51.662Z"
   },
   {
    "duration": 6732,
    "start_time": "2022-03-22T13:21:07.629Z"
   },
   {
    "duration": 4753,
    "start_time": "2022-03-22T13:22:29.094Z"
   },
   {
    "duration": 1672,
    "start_time": "2022-03-22T13:33:25.839Z"
   },
   {
    "duration": 1852,
    "start_time": "2022-03-22T13:33:59.758Z"
   },
   {
    "duration": 465,
    "start_time": "2022-03-22T13:34:09.244Z"
   },
   {
    "duration": 21,
    "start_time": "2022-03-22T13:34:09.711Z"
   },
   {
    "duration": 25,
    "start_time": "2022-03-22T13:34:09.738Z"
   },
   {
    "duration": 26,
    "start_time": "2022-03-22T13:34:09.765Z"
   },
   {
    "duration": 31,
    "start_time": "2022-03-22T13:34:09.794Z"
   },
   {
    "duration": 36,
    "start_time": "2022-03-22T13:34:09.827Z"
   },
   {
    "duration": 22,
    "start_time": "2022-03-22T13:34:09.866Z"
   },
   {
    "duration": 154,
    "start_time": "2022-03-22T13:34:09.890Z"
   },
   {
    "duration": 5732,
    "start_time": "2022-03-22T13:34:10.046Z"
   },
   {
    "duration": 0,
    "start_time": "2022-03-22T13:34:15.779Z"
   },
   {
    "duration": 0,
    "start_time": "2022-03-22T13:34:15.781Z"
   },
   {
    "duration": 0,
    "start_time": "2022-03-22T13:34:15.783Z"
   },
   {
    "duration": 12,
    "start_time": "2022-03-22T13:34:49.278Z"
   },
   {
    "duration": 8,
    "start_time": "2022-03-22T13:35:14.612Z"
   },
   {
    "duration": 6,
    "start_time": "2022-03-22T13:35:21.659Z"
   },
   {
    "duration": 6,
    "start_time": "2022-03-22T13:35:27.907Z"
   },
   {
    "duration": 12,
    "start_time": "2022-03-22T13:35:58.363Z"
   },
   {
    "duration": 9,
    "start_time": "2022-03-22T13:36:04.717Z"
   },
   {
    "duration": 6,
    "start_time": "2022-03-22T13:36:21.789Z"
   },
   {
    "duration": 23,
    "start_time": "2022-03-22T13:37:00.220Z"
   },
   {
    "duration": 22,
    "start_time": "2022-03-22T13:37:03.316Z"
   },
   {
    "duration": 8,
    "start_time": "2022-03-22T13:44:58.958Z"
   },
   {
    "duration": 8,
    "start_time": "2022-03-22T13:45:24.678Z"
   },
   {
    "duration": 8,
    "start_time": "2022-03-22T13:45:46.606Z"
   },
   {
    "duration": 7144,
    "start_time": "2022-03-22T14:18:59.638Z"
   },
   {
    "duration": 17,
    "start_time": "2022-03-22T14:19:39.943Z"
   },
   {
    "duration": 17,
    "start_time": "2022-03-22T14:19:48.927Z"
   },
   {
    "duration": 19,
    "start_time": "2022-03-22T14:20:33.805Z"
   },
   {
    "duration": 19,
    "start_time": "2022-03-22T14:20:41.890Z"
   },
   {
    "duration": 22,
    "start_time": "2022-03-22T14:21:05.536Z"
   },
   {
    "duration": 147,
    "start_time": "2022-03-22T14:21:30.503Z"
   },
   {
    "duration": 6,
    "start_time": "2022-03-22T14:28:02.511Z"
   },
   {
    "duration": 243,
    "start_time": "2022-03-22T14:28:21.358Z"
   },
   {
    "duration": 4579,
    "start_time": "2022-03-22T14:28:30.303Z"
   },
   {
    "duration": 4321,
    "start_time": "2022-03-22T14:30:47.783Z"
   },
   {
    "duration": 4137,
    "start_time": "2022-03-22T14:30:55.479Z"
   },
   {
    "duration": 16,
    "start_time": "2022-03-22T14:32:38.777Z"
   },
   {
    "duration": 15,
    "start_time": "2022-03-22T14:33:03.585Z"
   },
   {
    "duration": 343,
    "start_time": "2022-03-22T14:46:48.508Z"
   },
   {
    "duration": 383,
    "start_time": "2022-03-22T14:47:33.180Z"
   },
   {
    "duration": 239,
    "start_time": "2022-03-22T14:48:00.535Z"
   },
   {
    "duration": 16,
    "start_time": "2022-03-22T14:48:12.388Z"
   },
   {
    "duration": 15,
    "start_time": "2022-03-22T14:50:54.237Z"
   },
   {
    "duration": 15,
    "start_time": "2022-03-22T14:51:34.374Z"
   },
   {
    "duration": 14,
    "start_time": "2022-03-22T14:52:07.391Z"
   },
   {
    "duration": 4,
    "start_time": "2022-03-22T15:14:05.732Z"
   },
   {
    "duration": 195,
    "start_time": "2022-03-22T15:14:41.644Z"
   },
   {
    "duration": 10,
    "start_time": "2022-03-22T15:14:49.323Z"
   },
   {
    "duration": 9,
    "start_time": "2022-03-22T15:15:18.164Z"
   },
   {
    "duration": 14,
    "start_time": "2022-03-22T15:18:39.629Z"
   },
   {
    "duration": 15,
    "start_time": "2022-03-22T15:22:07.313Z"
   },
   {
    "duration": 16,
    "start_time": "2022-03-22T16:22:09.976Z"
   },
   {
    "duration": 16,
    "start_time": "2022-03-22T16:22:17.587Z"
   },
   {
    "duration": 9,
    "start_time": "2022-03-22T16:22:50.222Z"
   },
   {
    "duration": 4,
    "start_time": "2022-03-22T16:22:52.818Z"
   },
   {
    "duration": 29,
    "start_time": "2022-03-22T16:25:12.101Z"
   },
   {
    "duration": 18,
    "start_time": "2022-03-22T16:25:31.555Z"
   },
   {
    "duration": 28,
    "start_time": "2022-03-22T16:25:39.935Z"
   },
   {
    "duration": 21,
    "start_time": "2022-03-22T16:25:42.836Z"
   },
   {
    "duration": 21,
    "start_time": "2022-03-22T16:26:07.404Z"
   },
   {
    "duration": 457,
    "start_time": "2022-03-22T16:26:21.162Z"
   },
   {
    "duration": 20,
    "start_time": "2022-03-22T16:26:21.621Z"
   },
   {
    "duration": 6,
    "start_time": "2022-03-22T16:26:21.642Z"
   },
   {
    "duration": 9,
    "start_time": "2022-03-22T16:26:21.649Z"
   },
   {
    "duration": 11,
    "start_time": "2022-03-22T16:26:21.660Z"
   },
   {
    "duration": 22,
    "start_time": "2022-03-22T16:26:21.673Z"
   },
   {
    "duration": 11,
    "start_time": "2022-03-22T16:26:21.696Z"
   },
   {
    "duration": 36,
    "start_time": "2022-03-22T16:26:21.709Z"
   },
   {
    "duration": 7,
    "start_time": "2022-03-22T16:26:21.746Z"
   },
   {
    "duration": 25,
    "start_time": "2022-03-22T16:26:21.755Z"
   },
   {
    "duration": 94,
    "start_time": "2022-03-22T16:26:21.782Z"
   },
   {
    "duration": 0,
    "start_time": "2022-03-22T16:26:21.878Z"
   },
   {
    "duration": 21,
    "start_time": "2022-03-22T16:29:49.267Z"
   },
   {
    "duration": 7,
    "start_time": "2022-03-22T16:29:57.300Z"
   },
   {
    "duration": 22,
    "start_time": "2022-03-22T16:30:03.396Z"
   },
   {
    "duration": 13,
    "start_time": "2022-03-22T16:30:11.124Z"
   },
   {
    "duration": 13,
    "start_time": "2022-03-22T16:30:31.396Z"
   },
   {
    "duration": 3973,
    "start_time": "2022-03-22T16:30:50.884Z"
   },
   {
    "duration": 20,
    "start_time": "2022-03-22T16:31:06.405Z"
   },
   {
    "duration": 9,
    "start_time": "2022-03-22T16:31:11.360Z"
   },
   {
    "duration": 16,
    "start_time": "2022-03-22T16:31:15.934Z"
   },
   {
    "duration": 3350,
    "start_time": "2022-03-22T16:31:31.317Z"
   },
   {
    "duration": 5,
    "start_time": "2022-03-22T16:32:23.635Z"
   },
   {
    "duration": 4897,
    "start_time": "2022-03-22T16:33:45.101Z"
   },
   {
    "duration": 5949,
    "start_time": "2022-03-22T16:34:46.502Z"
   },
   {
    "duration": 12540,
    "start_time": "2022-03-22T16:35:59.744Z"
   },
   {
    "duration": 71,
    "start_time": "2022-03-22T16:36:46.342Z"
   },
   {
    "duration": 13,
    "start_time": "2022-03-22T16:36:50.062Z"
   },
   {
    "duration": 4,
    "start_time": "2022-03-22T16:36:53.326Z"
   },
   {
    "duration": 5,
    "start_time": "2022-03-22T16:36:56.471Z"
   },
   {
    "duration": 7,
    "start_time": "2022-03-22T16:36:59.461Z"
   },
   {
    "duration": 23,
    "start_time": "2022-03-22T16:37:02.894Z"
   },
   {
    "duration": 11,
    "start_time": "2022-03-22T16:37:05.877Z"
   },
   {
    "duration": 16,
    "start_time": "2022-03-22T16:37:09.894Z"
   },
   {
    "duration": 7,
    "start_time": "2022-03-22T16:37:13.786Z"
   },
   {
    "duration": 23,
    "start_time": "2022-03-22T16:37:23.166Z"
   },
   {
    "duration": 4068,
    "start_time": "2022-03-22T16:37:27.727Z"
   },
   {
    "duration": 4,
    "start_time": "2022-03-22T16:40:12.768Z"
   },
   {
    "duration": 7,
    "start_time": "2022-03-22T16:40:20.806Z"
   },
   {
    "duration": 7,
    "start_time": "2022-03-22T16:40:30.630Z"
   },
   {
    "duration": 7,
    "start_time": "2022-03-22T16:40:52.830Z"
   },
   {
    "duration": 21,
    "start_time": "2022-03-22T16:41:14.161Z"
   },
   {
    "duration": 4320,
    "start_time": "2022-03-22T16:41:21.577Z"
   },
   {
    "duration": 4637,
    "start_time": "2022-03-22T16:41:40.728Z"
   },
   {
    "duration": 3581,
    "start_time": "2022-03-22T16:42:27.208Z"
   },
   {
    "duration": 3578,
    "start_time": "2022-03-22T16:43:05.066Z"
   },
   {
    "duration": 3604,
    "start_time": "2022-03-22T16:43:41.163Z"
   },
   {
    "duration": 3611,
    "start_time": "2022-03-22T16:44:03.737Z"
   },
   {
    "duration": 3746,
    "start_time": "2022-03-22T16:44:26.289Z"
   },
   {
    "duration": 28,
    "start_time": "2022-03-22T16:44:44.048Z"
   },
   {
    "duration": 31,
    "start_time": "2022-03-22T16:44:55.993Z"
   },
   {
    "duration": 3486,
    "start_time": "2022-03-22T16:45:47.160Z"
   },
   {
    "duration": 3954,
    "start_time": "2022-03-22T16:48:22.203Z"
   },
   {
    "duration": 4050,
    "start_time": "2022-03-22T16:48:49.394Z"
   },
   {
    "duration": 3634,
    "start_time": "2022-03-22T16:49:28.201Z"
   },
   {
    "duration": 21,
    "start_time": "2022-03-22T16:50:21.506Z"
   },
   {
    "duration": 24,
    "start_time": "2022-03-22T16:50:24.750Z"
   },
   {
    "duration": 30,
    "start_time": "2022-03-22T16:50:36.772Z"
   },
   {
    "duration": 3390,
    "start_time": "2022-03-22T16:52:34.258Z"
   },
   {
    "duration": 3476,
    "start_time": "2022-03-22T16:52:45.386Z"
   },
   {
    "duration": 14,
    "start_time": "2022-03-22T16:53:08.855Z"
   },
   {
    "duration": 7,
    "start_time": "2022-03-22T16:53:13.846Z"
   },
   {
    "duration": 23,
    "start_time": "2022-03-22T16:53:18.412Z"
   },
   {
    "duration": 3884,
    "start_time": "2022-03-22T16:53:21.249Z"
   },
   {
    "duration": 4,
    "start_time": "2022-03-22T16:53:35.717Z"
   },
   {
    "duration": 3278,
    "start_time": "2022-03-22T16:54:16.038Z"
   },
   {
    "duration": 23,
    "start_time": "2022-03-22T16:55:27.564Z"
   },
   {
    "duration": 23,
    "start_time": "2022-03-22T16:55:36.907Z"
   },
   {
    "duration": 11,
    "start_time": "2022-03-22T16:55:42.411Z"
   },
   {
    "duration": 71,
    "start_time": "2022-03-22T16:55:46.539Z"
   },
   {
    "duration": 14,
    "start_time": "2022-03-22T16:55:50.811Z"
   },
   {
    "duration": 14,
    "start_time": "2022-03-22T16:56:09.229Z"
   },
   {
    "duration": 5,
    "start_time": "2022-03-22T16:56:30.119Z"
   },
   {
    "duration": 6,
    "start_time": "2022-03-22T16:56:33.531Z"
   },
   {
    "duration": 9,
    "start_time": "2022-03-22T16:56:36.643Z"
   },
   {
    "duration": 30,
    "start_time": "2022-03-22T16:56:40.700Z"
   },
   {
    "duration": 15,
    "start_time": "2022-03-22T16:56:44.899Z"
   },
   {
    "duration": 14,
    "start_time": "2022-03-22T16:56:49.940Z"
   },
   {
    "duration": 7,
    "start_time": "2022-03-22T16:56:54.115Z"
   },
   {
    "duration": 3634,
    "start_time": "2022-03-22T16:56:59.132Z"
   },
   {
    "duration": 22,
    "start_time": "2022-03-22T17:03:34.111Z"
   },
   {
    "duration": 5,
    "start_time": "2022-03-22T17:03:41.638Z"
   },
   {
    "duration": 150,
    "start_time": "2022-03-22T17:04:24.222Z"
   },
   {
    "duration": 16,
    "start_time": "2022-03-22T17:05:00.592Z"
   },
   {
    "duration": 16,
    "start_time": "2022-03-22T17:05:56.685Z"
   },
   {
    "duration": 15,
    "start_time": "2022-03-22T17:06:46.695Z"
   },
   {
    "duration": 21,
    "start_time": "2022-03-22T17:07:24.143Z"
   },
   {
    "duration": 22,
    "start_time": "2022-03-22T17:07:46.511Z"
   },
   {
    "duration": 17,
    "start_time": "2022-03-22T17:08:28.438Z"
   },
   {
    "duration": 15,
    "start_time": "2022-03-22T17:09:05.280Z"
   },
   {
    "duration": 15,
    "start_time": "2022-03-22T17:09:40.222Z"
   },
   {
    "duration": 16,
    "start_time": "2022-03-22T17:09:50.554Z"
   },
   {
    "duration": 464,
    "start_time": "2022-03-22T17:09:56.161Z"
   },
   {
    "duration": 21,
    "start_time": "2022-03-22T17:09:56.627Z"
   },
   {
    "duration": 11,
    "start_time": "2022-03-22T17:09:56.649Z"
   },
   {
    "duration": 15,
    "start_time": "2022-03-22T17:09:56.663Z"
   },
   {
    "duration": 26,
    "start_time": "2022-03-22T17:09:56.680Z"
   },
   {
    "duration": 42,
    "start_time": "2022-03-22T17:09:56.708Z"
   },
   {
    "duration": 11,
    "start_time": "2022-03-22T17:09:56.752Z"
   },
   {
    "duration": 32,
    "start_time": "2022-03-22T17:09:56.765Z"
   },
   {
    "duration": 6,
    "start_time": "2022-03-22T17:09:56.799Z"
   },
   {
    "duration": 40,
    "start_time": "2022-03-22T17:09:56.807Z"
   },
   {
    "duration": 0,
    "start_time": "2022-03-22T17:10:01.004Z"
   },
   {
    "duration": 0,
    "start_time": "2022-03-22T17:10:01.005Z"
   },
   {
    "duration": 3937,
    "start_time": "2022-03-22T17:10:12.985Z"
   },
   {
    "duration": 71,
    "start_time": "2022-03-22T17:10:22.825Z"
   },
   {
    "duration": 14,
    "start_time": "2022-03-22T17:10:25.489Z"
   },
   {
    "duration": 6,
    "start_time": "2022-03-22T17:10:31.278Z"
   },
   {
    "duration": 6,
    "start_time": "2022-03-22T17:10:34.297Z"
   },
   {
    "duration": 10,
    "start_time": "2022-03-22T17:10:36.159Z"
   },
   {
    "duration": 25,
    "start_time": "2022-03-22T17:10:38.624Z"
   },
   {
    "duration": 11,
    "start_time": "2022-03-22T17:10:43.361Z"
   },
   {
    "duration": 15,
    "start_time": "2022-03-22T17:10:48.289Z"
   },
   {
    "duration": 9,
    "start_time": "2022-03-22T17:10:58.664Z"
   },
   {
    "duration": 32,
    "start_time": "2022-03-22T17:11:03.135Z"
   },
   {
    "duration": 3372,
    "start_time": "2022-03-22T17:11:05.832Z"
   },
   {
    "duration": 3309,
    "start_time": "2022-03-22T17:11:29.056Z"
   },
   {
    "duration": 540,
    "start_time": "2022-03-22T17:11:40.329Z"
   },
   {
    "duration": 19,
    "start_time": "2022-03-22T17:11:40.871Z"
   },
   {
    "duration": 4,
    "start_time": "2022-03-22T17:11:40.892Z"
   },
   {
    "duration": 11,
    "start_time": "2022-03-22T17:11:40.898Z"
   },
   {
    "duration": 11,
    "start_time": "2022-03-22T17:11:40.911Z"
   },
   {
    "duration": 35,
    "start_time": "2022-03-22T17:11:40.924Z"
   },
   {
    "duration": 13,
    "start_time": "2022-03-22T17:11:40.961Z"
   },
   {
    "duration": 14,
    "start_time": "2022-03-22T17:11:40.976Z"
   },
   {
    "duration": 8,
    "start_time": "2022-03-22T17:11:40.992Z"
   },
   {
    "duration": 58,
    "start_time": "2022-03-22T17:11:41.002Z"
   },
   {
    "duration": 3533,
    "start_time": "2022-03-22T17:11:41.062Z"
   },
   {
    "duration": 0,
    "start_time": "2022-03-22T17:11:44.597Z"
   },
   {
    "duration": 73,
    "start_time": "2022-03-22T17:11:47.943Z"
   },
   {
    "duration": 15,
    "start_time": "2022-03-22T17:11:51.280Z"
   },
   {
    "duration": 3,
    "start_time": "2022-03-22T17:11:54.513Z"
   },
   {
    "duration": 5,
    "start_time": "2022-03-22T17:11:56.045Z"
   },
   {
    "duration": 7,
    "start_time": "2022-03-22T17:11:56.980Z"
   },
   {
    "duration": 23,
    "start_time": "2022-03-22T17:11:58.114Z"
   },
   {
    "duration": 11,
    "start_time": "2022-03-22T17:11:59.273Z"
   },
   {
    "duration": 14,
    "start_time": "2022-03-22T17:11:59.904Z"
   },
   {
    "duration": 7,
    "start_time": "2022-03-22T17:12:00.599Z"
   },
   {
    "duration": 27,
    "start_time": "2022-03-22T17:12:01.261Z"
   },
   {
    "duration": 3397,
    "start_time": "2022-03-22T17:12:03.428Z"
   },
   {
    "duration": 0,
    "start_time": "2022-03-22T17:12:06.827Z"
   },
   {
    "duration": 3715,
    "start_time": "2022-03-22T17:12:55.225Z"
   },
   {
    "duration": 22,
    "start_time": "2022-03-22T17:13:09.063Z"
   },
   {
    "duration": 3507,
    "start_time": "2022-03-22T17:13:18.429Z"
   },
   {
    "duration": 8,
    "start_time": "2022-03-22T17:13:29.599Z"
   },
   {
    "duration": 16,
    "start_time": "2022-03-22T17:14:42.097Z"
   },
   {
    "duration": 152,
    "start_time": "2022-03-22T17:16:09.398Z"
   },
   {
    "duration": 16,
    "start_time": "2022-03-22T17:16:49.584Z"
   },
   {
    "duration": 17,
    "start_time": "2022-03-22T17:17:48.298Z"
   },
   {
    "duration": 14,
    "start_time": "2022-03-22T17:18:05.953Z"
   },
   {
    "duration": 36,
    "start_time": "2022-03-22T17:18:11.609Z"
   },
   {
    "duration": 24,
    "start_time": "2022-03-22T17:18:16.293Z"
   },
   {
    "duration": 15,
    "start_time": "2022-03-22T17:18:17.920Z"
   },
   {
    "duration": 15,
    "start_time": "2022-03-22T17:18:20.726Z"
   },
   {
    "duration": 4,
    "start_time": "2022-03-22T17:18:22.941Z"
   },
   {
    "duration": 31,
    "start_time": "2022-03-22T17:18:25.535Z"
   },
   {
    "duration": 22,
    "start_time": "2022-03-22T17:18:29.154Z"
   },
   {
    "duration": 14,
    "start_time": "2022-03-22T17:18:33.827Z"
   },
   {
    "duration": 445,
    "start_time": "2022-03-22T17:18:58.292Z"
   },
   {
    "duration": 22,
    "start_time": "2022-03-22T17:18:58.739Z"
   },
   {
    "duration": 4,
    "start_time": "2022-03-22T17:18:58.763Z"
   },
   {
    "duration": 6,
    "start_time": "2022-03-22T17:18:58.770Z"
   },
   {
    "duration": 10,
    "start_time": "2022-03-22T17:18:58.778Z"
   },
   {
    "duration": 53,
    "start_time": "2022-03-22T17:18:58.790Z"
   },
   {
    "duration": 13,
    "start_time": "2022-03-22T17:18:58.845Z"
   },
   {
    "duration": 18,
    "start_time": "2022-03-22T17:18:58.860Z"
   },
   {
    "duration": 8,
    "start_time": "2022-03-22T17:18:58.880Z"
   },
   {
    "duration": 63,
    "start_time": "2022-03-22T17:18:58.891Z"
   },
   {
    "duration": 0,
    "start_time": "2022-03-22T17:19:03.527Z"
   },
   {
    "duration": 3907,
    "start_time": "2022-03-22T17:19:03.539Z"
   },
   {
    "duration": 24,
    "start_time": "2022-03-22T17:19:15.573Z"
   },
   {
    "duration": 3416,
    "start_time": "2022-03-22T17:19:19.330Z"
   },
   {
    "duration": 4516,
    "start_time": "2022-03-22T17:19:59.411Z"
   },
   {
    "duration": 74,
    "start_time": "2022-03-22T17:20:21.952Z"
   },
   {
    "duration": 14,
    "start_time": "2022-03-22T17:20:23.501Z"
   },
   {
    "duration": 4,
    "start_time": "2022-03-22T17:20:26.818Z"
   },
   {
    "duration": 5,
    "start_time": "2022-03-22T17:20:28.285Z"
   },
   {
    "duration": 7,
    "start_time": "2022-03-22T17:20:29.288Z"
   },
   {
    "duration": 27,
    "start_time": "2022-03-22T17:20:32.138Z"
   },
   {
    "duration": 12,
    "start_time": "2022-03-22T17:20:36.716Z"
   },
   {
    "duration": 15,
    "start_time": "2022-03-22T17:20:37.730Z"
   },
   {
    "duration": 7,
    "start_time": "2022-03-22T17:20:38.725Z"
   },
   {
    "duration": 23,
    "start_time": "2022-03-22T17:20:39.482Z"
   },
   {
    "duration": 6590,
    "start_time": "2022-03-22T17:20:40.191Z"
   },
   {
    "duration": 5681,
    "start_time": "2022-03-22T17:21:14.277Z"
   },
   {
    "duration": 4631,
    "start_time": "2022-03-22T17:21:51.581Z"
   },
   {
    "duration": 4427,
    "start_time": "2022-03-22T17:23:05.005Z"
   },
   {
    "duration": 3734,
    "start_time": "2022-03-22T17:23:31.172Z"
   },
   {
    "duration": 160,
    "start_time": "2022-03-22T17:25:35.698Z"
   },
   {
    "duration": 472,
    "start_time": "2022-03-22T17:26:03.278Z"
   },
   {
    "duration": 19,
    "start_time": "2022-03-22T17:26:03.752Z"
   },
   {
    "duration": 18,
    "start_time": "2022-03-22T17:26:03.772Z"
   },
   {
    "duration": 15,
    "start_time": "2022-03-22T17:26:03.792Z"
   },
   {
    "duration": 35,
    "start_time": "2022-03-22T17:26:03.809Z"
   },
   {
    "duration": 31,
    "start_time": "2022-03-22T17:26:03.846Z"
   },
   {
    "duration": 14,
    "start_time": "2022-03-22T17:26:03.879Z"
   },
   {
    "duration": 29,
    "start_time": "2022-03-22T17:26:03.895Z"
   },
   {
    "duration": 28,
    "start_time": "2022-03-22T17:26:03.926Z"
   },
   {
    "duration": 24,
    "start_time": "2022-03-22T17:26:03.957Z"
   },
   {
    "duration": 161,
    "start_time": "2022-03-22T17:26:03.983Z"
   },
   {
    "duration": 4,
    "start_time": "2022-03-22T17:26:04.147Z"
   },
   {
    "duration": 15,
    "start_time": "2022-03-22T17:26:07.906Z"
   },
   {
    "duration": 15,
    "start_time": "2022-03-22T17:26:50.944Z"
   },
   {
    "duration": 500,
    "start_time": "2022-03-22T17:27:08.638Z"
   },
   {
    "duration": 20,
    "start_time": "2022-03-22T17:27:09.140Z"
   },
   {
    "duration": 16,
    "start_time": "2022-03-22T17:27:09.162Z"
   },
   {
    "duration": 14,
    "start_time": "2022-03-22T17:27:09.180Z"
   },
   {
    "duration": 9,
    "start_time": "2022-03-22T17:27:09.197Z"
   },
   {
    "duration": 39,
    "start_time": "2022-03-22T17:27:09.208Z"
   },
   {
    "duration": 13,
    "start_time": "2022-03-22T17:27:09.249Z"
   },
   {
    "duration": 17,
    "start_time": "2022-03-22T17:27:09.263Z"
   },
   {
    "duration": 7,
    "start_time": "2022-03-22T17:27:09.282Z"
   },
   {
    "duration": 54,
    "start_time": "2022-03-22T17:27:09.291Z"
   },
   {
    "duration": 0,
    "start_time": "2022-03-22T17:27:12.939Z"
   },
   {
    "duration": 0,
    "start_time": "2022-03-22T17:27:12.942Z"
   },
   {
    "duration": 8235,
    "start_time": "2022-03-22T17:27:24.088Z"
   },
   {
    "duration": 3,
    "start_time": "2022-03-22T17:27:51.342Z"
   },
   {
    "duration": 3683,
    "start_time": "2022-03-22T17:27:59.609Z"
   },
   {
    "duration": 12,
    "start_time": "2022-03-22T17:31:32.355Z"
   },
   {
    "duration": 173,
    "start_time": "2022-03-22T17:32:56.481Z"
   },
   {
    "duration": 23,
    "start_time": "2022-03-22T17:33:47.906Z"
   },
   {
    "duration": 17,
    "start_time": "2022-03-22T17:33:59.178Z"
   },
   {
    "duration": 15,
    "start_time": "2022-03-22T17:34:21.747Z"
   },
   {
    "duration": 16,
    "start_time": "2022-03-22T17:34:39.631Z"
   },
   {
    "duration": 16,
    "start_time": "2022-03-22T17:34:51.215Z"
   },
   {
    "duration": 21,
    "start_time": "2022-03-22T17:35:04.341Z"
   },
   {
    "duration": 14,
    "start_time": "2022-03-22T17:35:22.351Z"
   },
   {
    "duration": 17,
    "start_time": "2022-03-22T17:35:31.937Z"
   },
   {
    "duration": 16,
    "start_time": "2022-03-22T17:36:03.073Z"
   },
   {
    "duration": 6,
    "start_time": "2022-03-22T17:36:12.024Z"
   },
   {
    "duration": 478,
    "start_time": "2022-03-22T17:40:36.131Z"
   },
   {
    "duration": 19,
    "start_time": "2022-03-22T17:40:36.611Z"
   },
   {
    "duration": 5,
    "start_time": "2022-03-22T17:40:36.632Z"
   },
   {
    "duration": 12,
    "start_time": "2022-03-22T17:40:36.639Z"
   },
   {
    "duration": 13,
    "start_time": "2022-03-22T17:40:36.653Z"
   },
   {
    "duration": 22,
    "start_time": "2022-03-22T17:40:36.667Z"
   },
   {
    "duration": 11,
    "start_time": "2022-03-22T17:40:36.691Z"
   },
   {
    "duration": 38,
    "start_time": "2022-03-22T17:40:36.704Z"
   },
   {
    "duration": 7,
    "start_time": "2022-03-22T17:40:36.744Z"
   },
   {
    "duration": 28,
    "start_time": "2022-03-22T17:40:36.753Z"
   },
   {
    "duration": 16745,
    "start_time": "2022-03-22T17:40:36.783Z"
   },
   {
    "duration": 0,
    "start_time": "2022-03-22T17:40:53.530Z"
   },
   {
    "duration": 6238,
    "start_time": "2022-03-22T17:41:05.214Z"
   },
   {
    "duration": 79,
    "start_time": "2022-03-23T07:44:19.669Z"
   },
   {
    "duration": 992,
    "start_time": "2022-03-23T07:44:24.563Z"
   },
   {
    "duration": 31,
    "start_time": "2022-03-23T07:44:27.522Z"
   },
   {
    "duration": 5,
    "start_time": "2022-03-23T07:44:29.962Z"
   },
   {
    "duration": 7,
    "start_time": "2022-03-23T07:44:30.908Z"
   },
   {
    "duration": 15,
    "start_time": "2022-03-23T07:44:31.839Z"
   },
   {
    "duration": 50,
    "start_time": "2022-03-23T07:44:34.273Z"
   },
   {
    "duration": 14,
    "start_time": "2022-03-23T07:44:37.148Z"
   },
   {
    "duration": 22,
    "start_time": "2022-03-23T07:44:38.637Z"
   },
   {
    "duration": 9,
    "start_time": "2022-03-23T07:44:40.538Z"
   },
   {
    "duration": 47,
    "start_time": "2022-03-23T07:44:44.367Z"
   },
   {
    "duration": 2234,
    "start_time": "2022-03-23T07:44:47.617Z"
   },
   {
    "duration": 142,
    "start_time": "2022-03-23T07:52:25.775Z"
   },
   {
    "duration": 1836,
    "start_time": "2022-03-23T07:52:41.943Z"
   },
   {
    "duration": 11,
    "start_time": "2022-03-23T07:53:34.118Z"
   },
   {
    "duration": 1912,
    "start_time": "2022-03-23T07:54:10.606Z"
   },
   {
    "duration": 1943,
    "start_time": "2022-03-23T07:54:18.930Z"
   },
   {
    "duration": 2305,
    "start_time": "2022-03-23T07:55:09.548Z"
   },
   {
    "duration": 14,
    "start_time": "2022-03-23T07:57:54.625Z"
   },
   {
    "duration": 13,
    "start_time": "2022-03-23T07:58:14.048Z"
   },
   {
    "duration": 13,
    "start_time": "2022-03-23T07:58:21.315Z"
   },
   {
    "duration": 12,
    "start_time": "2022-03-23T07:58:32.946Z"
   },
   {
    "duration": 13,
    "start_time": "2022-03-23T07:59:35.242Z"
   },
   {
    "duration": 13,
    "start_time": "2022-03-23T07:59:47.247Z"
   },
   {
    "duration": 13,
    "start_time": "2022-03-23T08:01:31.656Z"
   },
   {
    "duration": 107,
    "start_time": "2022-03-23T08:01:32.528Z"
   },
   {
    "duration": 15,
    "start_time": "2022-03-23T08:01:35.136Z"
   },
   {
    "duration": 106,
    "start_time": "2022-03-23T08:05:37.802Z"
   },
   {
    "duration": 1740,
    "start_time": "2022-03-23T08:06:58.729Z"
   },
   {
    "duration": 1706,
    "start_time": "2022-03-23T08:09:05.941Z"
   },
   {
    "duration": 14,
    "start_time": "2022-03-23T08:09:25.793Z"
   },
   {
    "duration": 1668,
    "start_time": "2022-03-23T08:09:46.505Z"
   },
   {
    "duration": 16,
    "start_time": "2022-03-23T08:10:42.163Z"
   },
   {
    "duration": 1882,
    "start_time": "2022-03-23T08:10:54.338Z"
   },
   {
    "duration": 13,
    "start_time": "2022-03-23T08:11:07.354Z"
   },
   {
    "duration": 1878,
    "start_time": "2022-03-23T08:11:18.562Z"
   },
   {
    "duration": 1910,
    "start_time": "2022-03-23T08:11:38.507Z"
   },
   {
    "duration": 1775,
    "start_time": "2022-03-23T08:11:45.139Z"
   },
   {
    "duration": 2055,
    "start_time": "2022-03-23T08:11:59.284Z"
   },
   {
    "duration": 1885,
    "start_time": "2022-03-23T08:12:24.060Z"
   },
   {
    "duration": 30,
    "start_time": "2022-03-23T08:12:28.457Z"
   },
   {
    "duration": 1866,
    "start_time": "2022-03-23T08:12:34.508Z"
   },
   {
    "duration": 1840,
    "start_time": "2022-03-23T08:13:10.594Z"
   },
   {
    "duration": 13,
    "start_time": "2022-03-23T08:13:44.979Z"
   },
   {
    "duration": 670,
    "start_time": "2022-03-23T08:15:30.625Z"
   },
   {
    "duration": 34,
    "start_time": "2022-03-23T08:15:31.299Z"
   },
   {
    "duration": 35,
    "start_time": "2022-03-23T08:15:31.335Z"
   },
   {
    "duration": 24,
    "start_time": "2022-03-23T08:15:31.374Z"
   },
   {
    "duration": 28,
    "start_time": "2022-03-23T08:15:31.403Z"
   },
   {
    "duration": 50,
    "start_time": "2022-03-23T08:15:31.433Z"
   },
   {
    "duration": 30,
    "start_time": "2022-03-23T08:15:31.486Z"
   },
   {
    "duration": 48,
    "start_time": "2022-03-23T08:15:31.519Z"
   },
   {
    "duration": 41,
    "start_time": "2022-03-23T08:15:31.569Z"
   },
   {
    "duration": 59,
    "start_time": "2022-03-23T08:15:31.614Z"
   },
   {
    "duration": 22,
    "start_time": "2022-03-23T08:17:58.067Z"
   },
   {
    "duration": 16,
    "start_time": "2022-03-23T08:18:26.034Z"
   },
   {
    "duration": 813,
    "start_time": "2022-03-23T08:18:57.128Z"
   },
   {
    "duration": 52,
    "start_time": "2022-03-23T08:18:57.945Z"
   },
   {
    "duration": 7,
    "start_time": "2022-03-23T08:18:58.000Z"
   },
   {
    "duration": 22,
    "start_time": "2022-03-23T08:18:58.009Z"
   },
   {
    "duration": 29,
    "start_time": "2022-03-23T08:18:58.033Z"
   },
   {
    "duration": 39,
    "start_time": "2022-03-23T08:18:58.064Z"
   },
   {
    "duration": 14,
    "start_time": "2022-03-23T08:18:58.105Z"
   },
   {
    "duration": 28,
    "start_time": "2022-03-23T08:18:58.121Z"
   },
   {
    "duration": 34,
    "start_time": "2022-03-23T08:18:58.151Z"
   },
   {
    "duration": 34,
    "start_time": "2022-03-23T08:18:58.188Z"
   },
   {
    "duration": 5,
    "start_time": "2022-03-23T08:18:58.224Z"
   },
   {
    "duration": 653,
    "start_time": "2022-03-23T08:19:55.569Z"
   },
   {
    "duration": 31,
    "start_time": "2022-03-23T08:19:56.226Z"
   },
   {
    "duration": 30,
    "start_time": "2022-03-23T08:19:56.259Z"
   },
   {
    "duration": 16,
    "start_time": "2022-03-23T08:19:56.293Z"
   },
   {
    "duration": 19,
    "start_time": "2022-03-23T08:19:56.312Z"
   },
   {
    "duration": 64,
    "start_time": "2022-03-23T08:19:56.333Z"
   },
   {
    "duration": 15,
    "start_time": "2022-03-23T08:19:56.399Z"
   },
   {
    "duration": 22,
    "start_time": "2022-03-23T08:19:56.417Z"
   },
   {
    "duration": 43,
    "start_time": "2022-03-23T08:19:56.441Z"
   },
   {
    "duration": 35,
    "start_time": "2022-03-23T08:19:56.487Z"
   },
   {
    "duration": 5,
    "start_time": "2022-03-23T08:19:56.524Z"
   },
   {
    "duration": 721,
    "start_time": "2022-03-23T08:20:12.124Z"
   },
   {
    "duration": 39,
    "start_time": "2022-03-23T08:20:12.848Z"
   },
   {
    "duration": 6,
    "start_time": "2022-03-23T08:20:12.890Z"
   },
   {
    "duration": 15,
    "start_time": "2022-03-23T08:20:12.898Z"
   },
   {
    "duration": 14,
    "start_time": "2022-03-23T08:20:12.916Z"
   },
   {
    "duration": 61,
    "start_time": "2022-03-23T08:20:12.933Z"
   },
   {
    "duration": 15,
    "start_time": "2022-03-23T08:20:12.997Z"
   },
   {
    "duration": 25,
    "start_time": "2022-03-23T08:20:13.015Z"
   },
   {
    "duration": 42,
    "start_time": "2022-03-23T08:20:13.043Z"
   },
   {
    "duration": 40,
    "start_time": "2022-03-23T08:20:13.087Z"
   },
   {
    "duration": 5,
    "start_time": "2022-03-23T08:20:13.129Z"
   },
   {
    "duration": 21,
    "start_time": "2022-03-23T08:22:08.592Z"
   },
   {
    "duration": 47,
    "start_time": "2022-03-23T08:22:08.763Z"
   },
   {
    "duration": 137,
    "start_time": "2022-03-23T08:22:08.813Z"
   },
   {
    "duration": 20,
    "start_time": "2022-03-23T08:22:49.836Z"
   },
   {
    "duration": 5,
    "start_time": "2022-03-23T08:22:52.710Z"
   },
   {
    "duration": 6,
    "start_time": "2022-03-23T08:22:53.766Z"
   },
   {
    "duration": 11,
    "start_time": "2022-03-23T08:22:54.471Z"
   },
   {
    "duration": 32,
    "start_time": "2022-03-23T08:22:56.757Z"
   },
   {
    "duration": 15,
    "start_time": "2022-03-23T08:22:59.078Z"
   },
   {
    "duration": 23,
    "start_time": "2022-03-23T08:23:00.353Z"
   },
   {
    "duration": 10,
    "start_time": "2022-03-23T08:23:01.697Z"
   },
   {
    "duration": 31,
    "start_time": "2022-03-23T08:23:02.773Z"
   },
   {
    "duration": 4,
    "start_time": "2022-03-23T08:23:04.735Z"
   },
   {
    "duration": 821,
    "start_time": "2022-03-23T08:24:54.753Z"
   },
   {
    "duration": 29,
    "start_time": "2022-03-23T08:24:55.577Z"
   },
   {
    "duration": 7,
    "start_time": "2022-03-23T08:24:55.610Z"
   },
   {
    "duration": 38,
    "start_time": "2022-03-23T08:24:55.620Z"
   },
   {
    "duration": 29,
    "start_time": "2022-03-23T08:24:55.663Z"
   },
   {
    "duration": 60,
    "start_time": "2022-03-23T08:24:55.695Z"
   },
   {
    "duration": 29,
    "start_time": "2022-03-23T08:24:55.759Z"
   },
   {
    "duration": 32,
    "start_time": "2022-03-23T08:24:55.791Z"
   },
   {
    "duration": 25,
    "start_time": "2022-03-23T08:24:55.826Z"
   },
   {
    "duration": 72,
    "start_time": "2022-03-23T08:24:55.854Z"
   },
   {
    "duration": 6,
    "start_time": "2022-03-23T08:24:55.928Z"
   },
   {
    "duration": 141670,
    "start_time": "2022-03-23T08:24:55.936Z"
   },
   {
    "duration": 6,
    "start_time": "2022-03-23T08:27:17.611Z"
   },
   {
    "duration": 149,
    "start_time": "2022-03-23T08:27:17.620Z"
   },
   {
    "duration": 20,
    "start_time": "2022-03-23T08:27:56.912Z"
   },
   {
    "duration": 5,
    "start_time": "2022-03-23T08:27:59.319Z"
   },
   {
    "duration": 6,
    "start_time": "2022-03-23T08:28:00.377Z"
   },
   {
    "duration": 11,
    "start_time": "2022-03-23T08:28:01.373Z"
   },
   {
    "duration": 34,
    "start_time": "2022-03-23T08:28:04.243Z"
   },
   {
    "duration": 15,
    "start_time": "2022-03-23T08:28:06.398Z"
   },
   {
    "duration": 21,
    "start_time": "2022-03-23T08:28:07.785Z"
   },
   {
    "duration": 9,
    "start_time": "2022-03-23T08:28:08.769Z"
   },
   {
    "duration": 33,
    "start_time": "2022-03-23T08:28:09.904Z"
   },
   {
    "duration": 5,
    "start_time": "2022-03-23T08:28:11.538Z"
   },
   {
    "duration": 115399,
    "start_time": "2022-03-23T08:28:15.103Z"
   },
   {
    "duration": 13,
    "start_time": "2022-03-23T08:38:58.344Z"
   },
   {
    "duration": 2004,
    "start_time": "2022-03-23T08:40:02.665Z"
   },
   {
    "duration": 1795,
    "start_time": "2022-03-23T08:40:32.480Z"
   },
   {
    "duration": 16,
    "start_time": "2022-03-23T08:40:48.586Z"
   },
   {
    "duration": 21,
    "start_time": "2022-03-23T08:40:54.512Z"
   },
   {
    "duration": 1642,
    "start_time": "2022-03-23T08:41:38.491Z"
   },
   {
    "duration": 14,
    "start_time": "2022-03-23T08:41:46.300Z"
   },
   {
    "duration": 10,
    "start_time": "2022-03-23T08:43:01.168Z"
   },
   {
    "duration": 13,
    "start_time": "2022-03-23T08:43:06.055Z"
   },
   {
    "duration": 11,
    "start_time": "2022-03-23T08:44:37.424Z"
   },
   {
    "duration": 15,
    "start_time": "2022-03-23T08:45:02.088Z"
   },
   {
    "duration": 16,
    "start_time": "2022-03-23T08:46:32.739Z"
   },
   {
    "duration": 12,
    "start_time": "2022-03-23T08:46:40.251Z"
   },
   {
    "duration": 15,
    "start_time": "2022-03-23T08:47:01.481Z"
   },
   {
    "duration": 1607,
    "start_time": "2022-03-23T08:48:29.305Z"
   },
   {
    "duration": 415,
    "start_time": "2022-03-23T08:48:36.905Z"
   },
   {
    "duration": 13,
    "start_time": "2022-03-23T08:50:55.065Z"
   },
   {
    "duration": 1731,
    "start_time": "2022-03-23T08:52:01.228Z"
   },
   {
    "duration": 13,
    "start_time": "2022-03-23T08:52:40.138Z"
   },
   {
    "duration": 14,
    "start_time": "2022-03-23T08:53:13.242Z"
   },
   {
    "duration": 13,
    "start_time": "2022-03-23T08:53:29.419Z"
   },
   {
    "duration": 17,
    "start_time": "2022-03-23T08:54:12.190Z"
   },
   {
    "duration": 19,
    "start_time": "2022-03-23T08:55:18.201Z"
   },
   {
    "duration": 20,
    "start_time": "2022-03-23T08:55:25.757Z"
   },
   {
    "duration": 96,
    "start_time": "2022-03-23T08:55:29.555Z"
   },
   {
    "duration": 20,
    "start_time": "2022-03-23T08:55:32.596Z"
   },
   {
    "duration": 21,
    "start_time": "2022-03-23T08:55:39.797Z"
   },
   {
    "duration": 20,
    "start_time": "2022-03-23T08:55:41.336Z"
   },
   {
    "duration": 6,
    "start_time": "2022-03-23T08:56:04.368Z"
   },
   {
    "duration": 9,
    "start_time": "2022-03-23T08:56:17.487Z"
   },
   {
    "duration": 20,
    "start_time": "2022-03-23T08:56:44.229Z"
   },
   {
    "duration": 31,
    "start_time": "2022-03-23T08:56:52.611Z"
   },
   {
    "duration": 90,
    "start_time": "2022-03-23T08:56:59.475Z"
   },
   {
    "duration": 20,
    "start_time": "2022-03-23T08:57:02.180Z"
   },
   {
    "duration": 32,
    "start_time": "2022-03-23T08:57:14.501Z"
   },
   {
    "duration": 11,
    "start_time": "2022-03-23T08:58:46.853Z"
   },
   {
    "duration": 10,
    "start_time": "2022-03-23T08:59:24.021Z"
   },
   {
    "duration": 10,
    "start_time": "2022-03-23T08:59:49.853Z"
   },
   {
    "duration": 33,
    "start_time": "2022-03-23T09:00:21.514Z"
   },
   {
    "duration": 22,
    "start_time": "2022-03-23T09:16:38.108Z"
   },
   {
    "duration": 9,
    "start_time": "2022-03-23T09:18:05.219Z"
   },
   {
    "duration": 16,
    "start_time": "2022-03-23T09:18:17.867Z"
   },
   {
    "duration": 15,
    "start_time": "2022-03-23T09:19:19.533Z"
   },
   {
    "duration": 10,
    "start_time": "2022-03-23T09:20:02.145Z"
   },
   {
    "duration": 10,
    "start_time": "2022-03-23T09:20:21.263Z"
   },
   {
    "duration": 17,
    "start_time": "2022-03-23T09:21:10.410Z"
   },
   {
    "duration": 16,
    "start_time": "2022-03-23T09:22:17.826Z"
   },
   {
    "duration": 22,
    "start_time": "2022-03-23T09:22:25.637Z"
   },
   {
    "duration": 83,
    "start_time": "2022-03-23T09:22:39.710Z"
   },
   {
    "duration": 20,
    "start_time": "2022-03-23T09:22:41.676Z"
   },
   {
    "duration": 7,
    "start_time": "2022-03-23T09:22:45.023Z"
   },
   {
    "duration": 8,
    "start_time": "2022-03-23T09:22:46.090Z"
   },
   {
    "duration": 11,
    "start_time": "2022-03-23T09:22:46.836Z"
   },
   {
    "duration": 49,
    "start_time": "2022-03-23T09:22:47.895Z"
   },
   {
    "duration": 17,
    "start_time": "2022-03-23T09:22:55.706Z"
   },
   {
    "duration": 37,
    "start_time": "2022-03-23T09:22:55.727Z"
   },
   {
    "duration": 34,
    "start_time": "2022-03-23T09:22:55.823Z"
   },
   {
    "duration": 16,
    "start_time": "2022-03-23T09:22:55.860Z"
   },
   {
    "duration": 152314,
    "start_time": "2022-03-23T09:23:05.900Z"
   },
   {
    "duration": 29,
    "start_time": "2022-03-23T09:29:08.636Z"
   },
   {
    "duration": 1728,
    "start_time": "2022-03-23T09:29:20.965Z"
   },
   {
    "duration": 1691,
    "start_time": "2022-03-23T09:29:35.173Z"
   },
   {
    "duration": 1964,
    "start_time": "2022-03-23T09:29:46.914Z"
   },
   {
    "duration": 1740,
    "start_time": "2022-03-23T09:29:58.853Z"
   },
   {
    "duration": 648,
    "start_time": "2022-03-23T09:30:11.345Z"
   },
   {
    "duration": 32,
    "start_time": "2022-03-23T09:30:11.996Z"
   },
   {
    "duration": 8,
    "start_time": "2022-03-23T09:30:12.030Z"
   },
   {
    "duration": 43,
    "start_time": "2022-03-23T09:30:12.041Z"
   },
   {
    "duration": 20,
    "start_time": "2022-03-23T09:30:12.088Z"
   },
   {
    "duration": 43,
    "start_time": "2022-03-23T09:30:12.110Z"
   },
   {
    "duration": 46,
    "start_time": "2022-03-23T09:30:12.156Z"
   },
   {
    "duration": 23,
    "start_time": "2022-03-23T09:30:12.204Z"
   },
   {
    "duration": 78,
    "start_time": "2022-03-23T09:30:12.230Z"
   },
   {
    "duration": 14,
    "start_time": "2022-03-23T09:30:12.311Z"
   },
   {
    "duration": 160078,
    "start_time": "2022-03-23T09:30:12.328Z"
   },
   {
    "duration": 14,
    "start_time": "2022-03-23T09:32:52.408Z"
   },
   {
    "duration": 119,
    "start_time": "2022-03-23T09:34:00.779Z"
   },
   {
    "duration": 20,
    "start_time": "2022-03-23T09:34:17.660Z"
   },
   {
    "duration": 21,
    "start_time": "2022-03-23T09:35:15.582Z"
   },
   {
    "duration": 116,
    "start_time": "2022-03-23T09:38:30.073Z"
   },
   {
    "duration": 1766,
    "start_time": "2022-03-23T09:38:53.384Z"
   },
   {
    "duration": 1782,
    "start_time": "2022-03-23T09:39:14.415Z"
   },
   {
    "duration": 621,
    "start_time": "2022-03-23T09:39:23.770Z"
   },
   {
    "duration": 31,
    "start_time": "2022-03-23T09:39:24.394Z"
   },
   {
    "duration": 6,
    "start_time": "2022-03-23T09:39:24.427Z"
   },
   {
    "duration": 12,
    "start_time": "2022-03-23T09:39:24.437Z"
   },
   {
    "duration": 38,
    "start_time": "2022-03-23T09:39:24.451Z"
   },
   {
    "duration": 32,
    "start_time": "2022-03-23T09:39:24.491Z"
   },
   {
    "duration": 17,
    "start_time": "2022-03-23T09:39:24.526Z"
   },
   {
    "duration": 56,
    "start_time": "2022-03-23T09:39:24.545Z"
   },
   {
    "duration": 35,
    "start_time": "2022-03-23T09:39:24.603Z"
   },
   {
    "duration": 14,
    "start_time": "2022-03-23T09:39:24.641Z"
   },
   {
    "duration": 117985,
    "start_time": "2022-03-23T09:39:24.684Z"
   },
   {
    "duration": 23,
    "start_time": "2022-03-23T09:41:22.672Z"
   },
   {
    "duration": 20,
    "start_time": "2022-03-23T09:43:56.727Z"
   },
   {
    "duration": 8,
    "start_time": "2022-03-23T09:45:49.418Z"
   },
   {
    "duration": 52,
    "start_time": "2022-03-23T09:48:00.304Z"
   },
   {
    "duration": 7,
    "start_time": "2022-03-23T09:50:53.951Z"
   },
   {
    "duration": 10,
    "start_time": "2022-03-23T09:52:25.247Z"
   },
   {
    "duration": 71,
    "start_time": "2022-03-23T09:53:07.857Z"
   },
   {
    "duration": 75,
    "start_time": "2022-03-23T09:53:38.329Z"
   },
   {
    "duration": 78,
    "start_time": "2022-03-23T09:53:46.873Z"
   },
   {
    "duration": 12,
    "start_time": "2022-03-23T10:07:32.438Z"
   },
   {
    "duration": 12,
    "start_time": "2022-03-23T10:07:48.060Z"
   },
   {
    "duration": 14,
    "start_time": "2022-03-23T10:08:05.125Z"
   },
   {
    "duration": 18,
    "start_time": "2022-03-23T10:08:41.181Z"
   },
   {
    "duration": 101,
    "start_time": "2022-03-23T10:09:44.605Z"
   },
   {
    "duration": 17,
    "start_time": "2022-03-23T10:09:49.005Z"
   },
   {
    "duration": 15,
    "start_time": "2022-03-23T10:10:05.653Z"
   },
   {
    "duration": 15,
    "start_time": "2022-03-23T10:10:14.948Z"
   },
   {
    "duration": 8,
    "start_time": "2022-03-23T10:10:27.309Z"
   },
   {
    "duration": 15,
    "start_time": "2022-03-23T10:10:53.327Z"
   },
   {
    "duration": 11,
    "start_time": "2022-03-23T10:11:09.427Z"
   },
   {
    "duration": 13,
    "start_time": "2022-03-23T10:11:21.325Z"
   },
   {
    "duration": 10,
    "start_time": "2022-03-23T10:11:58.326Z"
   },
   {
    "duration": 13,
    "start_time": "2022-03-23T10:12:06.884Z"
   },
   {
    "duration": 10,
    "start_time": "2022-03-23T10:12:22.936Z"
   },
   {
    "duration": 19,
    "start_time": "2022-03-23T10:12:33.359Z"
   },
   {
    "duration": 8,
    "start_time": "2022-03-23T10:12:43.501Z"
   },
   {
    "duration": 14,
    "start_time": "2022-03-23T10:13:03.326Z"
   },
   {
    "duration": 12,
    "start_time": "2022-03-23T10:21:19.368Z"
   },
   {
    "duration": 12,
    "start_time": "2022-03-23T10:21:32.232Z"
   },
   {
    "duration": 9,
    "start_time": "2022-03-23T10:22:10.288Z"
   },
   {
    "duration": 9,
    "start_time": "2022-03-23T10:22:19.672Z"
   },
   {
    "duration": 2013,
    "start_time": "2022-03-23T10:22:29.207Z"
   },
   {
    "duration": 10,
    "start_time": "2022-03-23T10:22:38.039Z"
   },
   {
    "duration": 9,
    "start_time": "2022-03-23T10:22:50.377Z"
   },
   {
    "duration": 12,
    "start_time": "2022-03-23T10:22:51.807Z"
   },
   {
    "duration": 12,
    "start_time": "2022-03-23T10:23:00.385Z"
   },
   {
    "duration": 11,
    "start_time": "2022-03-23T10:24:17.825Z"
   },
   {
    "duration": 1800,
    "start_time": "2022-03-23T10:24:33.642Z"
   },
   {
    "duration": 2059,
    "start_time": "2022-03-23T10:25:17.056Z"
   },
   {
    "duration": 11,
    "start_time": "2022-03-23T10:25:44.562Z"
   },
   {
    "duration": 1788,
    "start_time": "2022-03-23T10:26:13.991Z"
   },
   {
    "duration": 2016,
    "start_time": "2022-03-23T10:27:04.920Z"
   },
   {
    "duration": 35,
    "start_time": "2022-03-23T10:27:23.321Z"
   },
   {
    "duration": 78,
    "start_time": "2022-03-23T10:27:37.209Z"
   },
   {
    "duration": 15,
    "start_time": "2022-03-23T10:27:50.105Z"
   },
   {
    "duration": 10,
    "start_time": "2022-03-23T10:31:31.825Z"
   },
   {
    "duration": 10,
    "start_time": "2022-03-23T10:32:27.058Z"
   },
   {
    "duration": 10,
    "start_time": "2022-03-23T10:33:20.074Z"
   },
   {
    "duration": 14,
    "start_time": "2022-03-23T10:33:35.083Z"
   },
   {
    "duration": 34,
    "start_time": "2022-03-23T10:33:40.235Z"
   },
   {
    "duration": 28,
    "start_time": "2022-03-23T10:34:00.562Z"
   },
   {
    "duration": 31,
    "start_time": "2022-03-23T10:34:09.487Z"
   },
   {
    "duration": 10,
    "start_time": "2022-03-23T10:34:36.261Z"
   },
   {
    "duration": 10,
    "start_time": "2022-03-23T10:34:53.699Z"
   },
   {
    "duration": 18,
    "start_time": "2022-03-23T10:40:09.364Z"
   },
   {
    "duration": 21,
    "start_time": "2022-03-23T10:40:16.893Z"
   },
   {
    "duration": 31,
    "start_time": "2022-03-23T10:41:13.998Z"
   },
   {
    "duration": 10,
    "start_time": "2022-03-23T10:41:34.323Z"
   },
   {
    "duration": 12,
    "start_time": "2022-03-23T10:46:24.500Z"
   },
   {
    "duration": 15,
    "start_time": "2022-03-23T10:52:34.450Z"
   },
   {
    "duration": 7,
    "start_time": "2022-03-23T10:53:00.926Z"
   },
   {
    "duration": 10,
    "start_time": "2022-03-23T10:54:40.119Z"
   },
   {
    "duration": 653,
    "start_time": "2022-03-23T11:10:50.160Z"
   },
   {
    "duration": 31,
    "start_time": "2022-03-23T11:10:50.817Z"
   },
   {
    "duration": 7,
    "start_time": "2022-03-23T11:10:50.850Z"
   },
   {
    "duration": 34,
    "start_time": "2022-03-23T11:10:50.885Z"
   },
   {
    "duration": 29,
    "start_time": "2022-03-23T11:10:50.923Z"
   },
   {
    "duration": 43,
    "start_time": "2022-03-23T11:10:50.954Z"
   },
   {
    "duration": 37,
    "start_time": "2022-03-23T11:10:51.000Z"
   },
   {
    "duration": 52,
    "start_time": "2022-03-23T11:10:51.040Z"
   },
   {
    "duration": 119356,
    "start_time": "2022-03-23T11:10:51.094Z"
   },
   {
    "duration": 32,
    "start_time": "2022-03-23T11:12:50.452Z"
   },
   {
    "duration": 23,
    "start_time": "2022-03-23T11:12:50.486Z"
   },
   {
    "duration": 14,
    "start_time": "2022-03-23T11:12:50.511Z"
   },
   {
    "duration": 58,
    "start_time": "2022-03-23T11:12:50.527Z"
   },
   {
    "duration": 10,
    "start_time": "2022-03-23T11:12:50.591Z"
   },
   {
    "duration": 17,
    "start_time": "2022-03-23T11:12:50.603Z"
   },
   {
    "duration": 14,
    "start_time": "2022-03-23T11:12:50.621Z"
   },
   {
    "duration": 47,
    "start_time": "2022-03-23T11:12:50.638Z"
   },
   {
    "duration": 9,
    "start_time": "2022-03-23T11:12:50.688Z"
   },
   {
    "duration": 30,
    "start_time": "2022-03-23T11:12:50.700Z"
   },
   {
    "duration": 904,
    "start_time": "2022-03-23T12:22:29.413Z"
   },
   {
    "duration": 755,
    "start_time": "2022-03-23T12:22:57.510Z"
   },
   {
    "duration": 746,
    "start_time": "2022-03-23T12:23:13.842Z"
   },
   {
    "duration": 100,
    "start_time": "2022-03-23T12:24:43.371Z"
   },
   {
    "duration": 14,
    "start_time": "2022-03-23T12:24:52.576Z"
   },
   {
    "duration": 12,
    "start_time": "2022-03-23T12:25:16.812Z"
   },
   {
    "duration": 12,
    "start_time": "2022-03-23T12:25:24.144Z"
   },
   {
    "duration": 11,
    "start_time": "2022-03-23T12:25:46.425Z"
   },
   {
    "duration": 14,
    "start_time": "2022-03-23T12:25:58.094Z"
   },
   {
    "duration": 754,
    "start_time": "2022-03-23T12:26:12.696Z"
   },
   {
    "duration": 894,
    "start_time": "2022-03-23T12:26:23.753Z"
   },
   {
    "duration": 1129,
    "start_time": "2022-03-23T12:27:36.904Z"
   },
   {
    "duration": 750,
    "start_time": "2022-03-23T12:27:46.000Z"
   },
   {
    "duration": 838,
    "start_time": "2022-03-23T12:29:18.881Z"
   },
   {
    "duration": 13,
    "start_time": "2022-03-23T12:30:58.865Z"
   },
   {
    "duration": 10,
    "start_time": "2022-03-23T12:31:17.201Z"
   },
   {
    "duration": 14,
    "start_time": "2022-03-23T12:31:26.769Z"
   },
   {
    "duration": 1053,
    "start_time": "2022-03-23T12:32:53.066Z"
   },
   {
    "duration": 39,
    "start_time": "2022-03-23T12:34:04.194Z"
   },
   {
    "duration": 115,
    "start_time": "2022-03-23T12:34:18.114Z"
   },
   {
    "duration": 698,
    "start_time": "2022-03-23T12:34:29.755Z"
   },
   {
    "duration": 492,
    "start_time": "2022-03-23T12:35:33.018Z"
   },
   {
    "duration": 583,
    "start_time": "2022-03-23T12:35:50.857Z"
   },
   {
    "duration": 454,
    "start_time": "2022-03-23T12:37:19.154Z"
   },
   {
    "duration": 462,
    "start_time": "2022-03-23T12:40:07.341Z"
   },
   {
    "duration": 30,
    "start_time": "2022-03-23T12:41:55.436Z"
   },
   {
    "duration": 41,
    "start_time": "2022-03-23T12:43:04.078Z"
   },
   {
    "duration": 41,
    "start_time": "2022-03-23T12:43:25.564Z"
   },
   {
    "duration": 40,
    "start_time": "2022-03-23T12:45:49.388Z"
   },
   {
    "duration": 13,
    "start_time": "2022-03-23T12:46:50.893Z"
   },
   {
    "duration": 12,
    "start_time": "2022-03-23T12:47:25.813Z"
   },
   {
    "duration": 46,
    "start_time": "2022-03-23T12:49:28.549Z"
   },
   {
    "duration": 43,
    "start_time": "2022-03-23T12:49:40.893Z"
   },
   {
    "duration": 579,
    "start_time": "2022-03-23T12:49:47.313Z"
   },
   {
    "duration": 46,
    "start_time": "2022-03-23T12:49:47.895Z"
   },
   {
    "duration": 8,
    "start_time": "2022-03-23T12:49:47.944Z"
   },
   {
    "duration": 58,
    "start_time": "2022-03-23T12:49:47.957Z"
   },
   {
    "duration": 16,
    "start_time": "2022-03-23T12:49:48.017Z"
   },
   {
    "duration": 56,
    "start_time": "2022-03-23T12:49:48.036Z"
   },
   {
    "duration": 38,
    "start_time": "2022-03-23T12:49:48.095Z"
   },
   {
    "duration": 49,
    "start_time": "2022-03-23T12:49:48.136Z"
   },
   {
    "duration": 112016,
    "start_time": "2022-03-23T12:49:48.188Z"
   },
   {
    "duration": 24,
    "start_time": "2022-03-23T12:51:40.210Z"
   },
   {
    "duration": 54,
    "start_time": "2022-03-23T12:51:40.237Z"
   },
   {
    "duration": 15,
    "start_time": "2022-03-23T12:51:40.294Z"
   },
   {
    "duration": 21,
    "start_time": "2022-03-23T12:51:40.311Z"
   },
   {
    "duration": 56,
    "start_time": "2022-03-23T12:51:40.335Z"
   },
   {
    "duration": 13,
    "start_time": "2022-03-23T12:51:40.393Z"
   },
   {
    "duration": 18,
    "start_time": "2022-03-23T12:51:40.408Z"
   },
   {
    "duration": 15,
    "start_time": "2022-03-23T12:51:40.429Z"
   },
   {
    "duration": 46,
    "start_time": "2022-03-23T12:51:40.447Z"
   },
   {
    "duration": 46,
    "start_time": "2022-03-23T12:51:40.496Z"
   },
   {
    "duration": 48,
    "start_time": "2022-03-23T12:51:40.544Z"
   },
   {
    "duration": 120,
    "start_time": "2022-03-23T12:56:08.416Z"
   },
   {
    "duration": 121,
    "start_time": "2022-03-23T12:56:22.528Z"
   },
   {
    "duration": 100,
    "start_time": "2022-03-23T12:56:28.698Z"
   },
   {
    "duration": 14,
    "start_time": "2022-03-23T12:56:37.624Z"
   },
   {
    "duration": 107,
    "start_time": "2022-03-23T12:57:08.593Z"
   },
   {
    "duration": 112,
    "start_time": "2022-03-23T12:57:20.121Z"
   },
   {
    "duration": 13,
    "start_time": "2022-03-23T12:57:45.481Z"
   },
   {
    "duration": 108,
    "start_time": "2022-03-23T12:58:35.386Z"
   },
   {
    "duration": 11,
    "start_time": "2022-03-23T12:58:41.977Z"
   },
   {
    "duration": 45,
    "start_time": "2022-03-23T13:15:21.676Z"
   },
   {
    "duration": 13,
    "start_time": "2022-03-23T13:16:15.588Z"
   },
   {
    "duration": 8,
    "start_time": "2022-03-23T13:16:24.045Z"
   },
   {
    "duration": 14,
    "start_time": "2022-03-23T13:16:36.781Z"
   },
   {
    "duration": 120,
    "start_time": "2022-03-23T13:16:46.692Z"
   },
   {
    "duration": 12,
    "start_time": "2022-03-23T13:16:52.652Z"
   },
   {
    "duration": 11,
    "start_time": "2022-03-23T13:17:14.068Z"
   },
   {
    "duration": 14,
    "start_time": "2022-03-23T13:17:55.184Z"
   },
   {
    "duration": 9,
    "start_time": "2022-03-23T13:18:31.693Z"
   },
   {
    "duration": 40,
    "start_time": "2022-03-23T13:20:08.757Z"
   },
   {
    "duration": 28,
    "start_time": "2022-03-23T13:20:35.653Z"
   },
   {
    "duration": 43,
    "start_time": "2022-03-23T13:20:48.780Z"
   },
   {
    "duration": 7,
    "start_time": "2022-03-23T13:29:38.645Z"
   },
   {
    "duration": 43,
    "start_time": "2022-03-23T13:29:43.799Z"
   },
   {
    "duration": 16,
    "start_time": "2022-03-23T13:31:58.814Z"
   },
   {
    "duration": 43,
    "start_time": "2022-03-23T13:32:19.384Z"
   },
   {
    "duration": 30,
    "start_time": "2022-03-23T13:32:32.312Z"
   },
   {
    "duration": 24,
    "start_time": "2022-03-23T13:32:40.065Z"
   },
   {
    "duration": 42,
    "start_time": "2022-03-23T13:35:05.032Z"
   },
   {
    "duration": 61,
    "start_time": "2022-03-23T13:35:14.071Z"
   },
   {
    "duration": 115,
    "start_time": "2022-03-23T13:43:05.608Z"
   },
   {
    "duration": 0,
    "start_time": "2022-03-23T13:43:05.725Z"
   },
   {
    "duration": 25,
    "start_time": "2022-03-23T13:44:17.066Z"
   },
   {
    "duration": 1112,
    "start_time": "2022-03-23T13:49:01.631Z"
   },
   {
    "duration": 97,
    "start_time": "2022-03-23T13:50:28.178Z"
   },
   {
    "duration": 42,
    "start_time": "2022-03-23T13:51:13.057Z"
   },
   {
    "duration": 55,
    "start_time": "2022-03-23T13:51:28.000Z"
   },
   {
    "duration": 36,
    "start_time": "2022-03-23T13:52:31.401Z"
   },
   {
    "duration": 23,
    "start_time": "2022-03-23T13:52:37.243Z"
   },
   {
    "duration": 10,
    "start_time": "2022-03-23T13:53:27.608Z"
   },
   {
    "duration": 23,
    "start_time": "2022-03-23T13:54:58.233Z"
   },
   {
    "duration": 11,
    "start_time": "2022-03-23T13:55:18.040Z"
   },
   {
    "duration": 11,
    "start_time": "2022-03-23T13:55:24.060Z"
   },
   {
    "duration": 45,
    "start_time": "2022-03-23T13:55:30.537Z"
   },
   {
    "duration": 45,
    "start_time": "2022-03-23T13:55:45.737Z"
   },
   {
    "duration": 48,
    "start_time": "2022-03-23T13:56:32.409Z"
   },
   {
    "duration": 53,
    "start_time": "2022-03-23T13:57:14.753Z"
   },
   {
    "duration": 62,
    "start_time": "2022-03-23T13:59:28.754Z"
   },
   {
    "duration": 25,
    "start_time": "2022-03-23T14:01:26.162Z"
   },
   {
    "duration": 45,
    "start_time": "2022-03-23T14:01:35.898Z"
   },
   {
    "duration": 25,
    "start_time": "2022-03-23T14:01:43.490Z"
   },
   {
    "duration": 25,
    "start_time": "2022-03-23T14:01:48.017Z"
   },
   {
    "duration": 25,
    "start_time": "2022-03-23T14:01:52.304Z"
   },
   {
    "duration": 25,
    "start_time": "2022-03-23T14:01:55.978Z"
   },
   {
    "duration": 1248,
    "start_time": "2022-03-23T14:02:04.079Z"
   },
   {
    "duration": 54,
    "start_time": "2022-03-23T14:02:05.330Z"
   },
   {
    "duration": 30,
    "start_time": "2022-03-23T14:02:05.387Z"
   },
   {
    "duration": 124,
    "start_time": "2022-03-23T14:02:05.422Z"
   },
   {
    "duration": 119,
    "start_time": "2022-03-23T14:02:05.549Z"
   },
   {
    "duration": 62,
    "start_time": "2022-03-23T14:02:05.671Z"
   },
   {
    "duration": 59,
    "start_time": "2022-03-23T14:02:05.736Z"
   },
   {
    "duration": 56,
    "start_time": "2022-03-23T14:02:05.798Z"
   },
   {
    "duration": 16,
    "start_time": "2022-03-23T14:04:00.887Z"
   },
   {
    "duration": 44,
    "start_time": "2022-03-23T14:04:00.906Z"
   },
   {
    "duration": 44,
    "start_time": "2022-03-23T14:04:00.953Z"
   },
   {
    "duration": 33,
    "start_time": "2022-03-23T14:04:00.999Z"
   },
   {
    "duration": 18,
    "start_time": "2022-03-23T14:04:01.035Z"
   },
   {
    "duration": 34,
    "start_time": "2022-03-23T14:04:01.056Z"
   },
   {
    "duration": 19,
    "start_time": "2022-03-23T14:04:01.093Z"
   },
   {
    "duration": 25,
    "start_time": "2022-03-23T14:04:01.115Z"
   },
   {
    "duration": 51,
    "start_time": "2022-03-23T14:04:01.143Z"
   },
   {
    "duration": 77,
    "start_time": "2022-03-23T14:04:01.197Z"
   },
   {
    "duration": 34,
    "start_time": "2022-03-23T14:04:01.277Z"
   },
   {
    "duration": 33,
    "start_time": "2022-03-23T14:04:01.313Z"
   },
   {
    "duration": 97,
    "start_time": "2022-03-23T14:04:01.349Z"
   },
   {
    "duration": 59,
    "start_time": "2022-03-23T14:04:01.449Z"
   },
   {
    "duration": 86,
    "start_time": "2022-03-23T14:04:01.511Z"
   },
   {
    "duration": 125,
    "start_time": "2022-03-23T14:04:18.011Z"
   },
   {
    "duration": 29,
    "start_time": "2022-03-23T14:04:19.111Z"
   },
   {
    "duration": 7,
    "start_time": "2022-03-23T14:04:21.450Z"
   },
   {
    "duration": 34,
    "start_time": "2022-03-23T14:04:22.773Z"
   },
   {
    "duration": 16,
    "start_time": "2022-03-23T14:04:25.058Z"
   },
   {
    "duration": 25,
    "start_time": "2022-03-23T14:04:26.647Z"
   },
   {
    "duration": 37,
    "start_time": "2022-03-23T14:04:27.908Z"
   },
   {
    "duration": 15,
    "start_time": "2022-03-23T14:04:29.646Z"
   },
   {
    "duration": 138681,
    "start_time": "2022-03-23T14:04:30.765Z"
   },
   {
    "duration": 14,
    "start_time": "2022-03-23T14:06:49.449Z"
   },
   {
    "duration": 1733,
    "start_time": "2022-03-23T14:08:09.320Z"
   },
   {
    "duration": 1646,
    "start_time": "2022-03-23T14:08:26.669Z"
   },
   {
    "duration": 2476,
    "start_time": "2022-03-23T14:10:01.046Z"
   },
   {
    "duration": 885,
    "start_time": "2022-03-23T14:10:15.559Z"
   },
   {
    "duration": 55,
    "start_time": "2022-03-23T14:10:16.449Z"
   },
   {
    "duration": 9,
    "start_time": "2022-03-23T14:10:16.507Z"
   },
   {
    "duration": 82,
    "start_time": "2022-03-23T14:10:16.520Z"
   },
   {
    "duration": 18,
    "start_time": "2022-03-23T14:10:16.608Z"
   },
   {
    "duration": 76,
    "start_time": "2022-03-23T14:10:16.630Z"
   },
   {
    "duration": 42,
    "start_time": "2022-03-23T14:10:16.713Z"
   },
   {
    "duration": 38,
    "start_time": "2022-03-23T14:10:16.759Z"
   },
   {
    "duration": 153015,
    "start_time": "2022-03-23T14:10:16.800Z"
   },
   {
    "duration": 15,
    "start_time": "2022-03-23T14:12:49.817Z"
   },
   {
    "duration": 65,
    "start_time": "2022-03-23T14:12:49.835Z"
   },
   {
    "duration": 15,
    "start_time": "2022-03-23T14:12:49.903Z"
   },
   {
    "duration": 17,
    "start_time": "2022-03-23T14:12:49.920Z"
   },
   {
    "duration": 10,
    "start_time": "2022-03-23T14:12:49.941Z"
   },
   {
    "duration": 15,
    "start_time": "2022-03-23T14:12:49.989Z"
   },
   {
    "duration": 13,
    "start_time": "2022-03-23T14:12:50.006Z"
   },
   {
    "duration": 8,
    "start_time": "2022-03-23T14:12:50.021Z"
   },
   {
    "duration": 66,
    "start_time": "2022-03-23T14:12:50.031Z"
   },
   {
    "duration": 41,
    "start_time": "2022-03-23T14:12:50.101Z"
   },
   {
    "duration": 15,
    "start_time": "2022-03-23T14:12:50.145Z"
   },
   {
    "duration": 22,
    "start_time": "2022-03-23T14:12:50.185Z"
   },
   {
    "duration": 24,
    "start_time": "2022-03-23T14:12:50.210Z"
   },
   {
    "duration": 73,
    "start_time": "2022-03-23T14:12:50.237Z"
   },
   {
    "duration": 119,
    "start_time": "2022-03-23T14:13:32.247Z"
   },
   {
    "duration": 12,
    "start_time": "2022-03-23T14:13:51.527Z"
   },
   {
    "duration": 27,
    "start_time": "2022-03-23T14:13:57.046Z"
   },
   {
    "duration": 59,
    "start_time": "2022-03-23T14:14:01.668Z"
   },
   {
    "duration": 47,
    "start_time": "2022-03-23T14:14:09.336Z"
   },
   {
    "duration": 1719,
    "start_time": "2022-03-23T14:17:57.736Z"
   },
   {
    "duration": 74,
    "start_time": "2022-03-23T14:18:34.179Z"
   },
   {
    "duration": 791,
    "start_time": "2022-03-23T14:18:45.778Z"
   },
   {
    "duration": 44,
    "start_time": "2022-03-23T14:18:46.573Z"
   },
   {
    "duration": 5,
    "start_time": "2022-03-23T14:18:46.620Z"
   },
   {
    "duration": 77,
    "start_time": "2022-03-23T14:18:46.629Z"
   },
   {
    "duration": 14,
    "start_time": "2022-03-23T14:18:46.708Z"
   },
   {
    "duration": 24,
    "start_time": "2022-03-23T14:18:46.725Z"
   },
   {
    "duration": 82,
    "start_time": "2022-03-23T14:18:46.751Z"
   },
   {
    "duration": 48,
    "start_time": "2022-03-23T14:18:46.836Z"
   },
   {
    "duration": 125222,
    "start_time": "2022-03-23T14:18:46.887Z"
   },
   {
    "duration": 15,
    "start_time": "2022-03-23T14:20:52.113Z"
   },
   {
    "duration": 21,
    "start_time": "2022-03-23T14:20:52.131Z"
   },
   {
    "duration": 20,
    "start_time": "2022-03-23T14:20:52.185Z"
   },
   {
    "duration": 16,
    "start_time": "2022-03-23T14:20:52.208Z"
   },
   {
    "duration": 14,
    "start_time": "2022-03-23T14:20:52.226Z"
   },
   {
    "duration": 24,
    "start_time": "2022-03-23T14:20:52.284Z"
   },
   {
    "duration": 16,
    "start_time": "2022-03-23T14:20:52.311Z"
   },
   {
    "duration": 7,
    "start_time": "2022-03-23T14:20:52.329Z"
   },
   {
    "duration": 54,
    "start_time": "2022-03-23T14:20:52.339Z"
   },
   {
    "duration": 44,
    "start_time": "2022-03-23T14:20:52.396Z"
   },
   {
    "duration": 43,
    "start_time": "2022-03-23T14:20:52.443Z"
   },
   {
    "duration": 23,
    "start_time": "2022-03-23T14:20:52.489Z"
   },
   {
    "duration": 18,
    "start_time": "2022-03-23T14:20:52.515Z"
   },
   {
    "duration": 72,
    "start_time": "2022-03-23T14:20:52.535Z"
   },
   {
    "duration": 46,
    "start_time": "2022-03-23T14:20:52.609Z"
   },
   {
    "duration": 33,
    "start_time": "2022-03-23T14:25:35.487Z"
   },
   {
    "duration": 29,
    "start_time": "2022-03-23T14:25:41.767Z"
   },
   {
    "duration": 2167,
    "start_time": "2022-03-23T14:41:59.972Z"
   },
   {
    "duration": 11,
    "start_time": "2022-03-23T14:42:14.470Z"
   },
   {
    "duration": 23,
    "start_time": "2022-03-23T14:42:32.788Z"
   },
   {
    "duration": 21,
    "start_time": "2022-03-23T14:42:52.389Z"
   },
   {
    "duration": 5,
    "start_time": "2022-03-23T14:44:13.877Z"
   },
   {
    "duration": 17,
    "start_time": "2022-03-23T14:44:32.093Z"
   },
   {
    "duration": 109,
    "start_time": "2022-03-23T14:45:40.396Z"
   },
   {
    "duration": 1655,
    "start_time": "2022-03-23T14:45:57.149Z"
   },
   {
    "duration": 5,
    "start_time": "2022-03-23T14:46:10.103Z"
   },
   {
    "duration": 2114,
    "start_time": "2022-03-23T14:46:31.780Z"
   },
   {
    "duration": 1698,
    "start_time": "2022-03-23T14:46:46.060Z"
   },
   {
    "duration": 25,
    "start_time": "2022-03-23T14:47:29.725Z"
   },
   {
    "duration": 1914,
    "start_time": "2022-03-23T14:47:32.564Z"
   },
   {
    "duration": 1715,
    "start_time": "2022-03-23T14:47:52.821Z"
   },
   {
    "duration": 662,
    "start_time": "2022-03-23T14:48:03.766Z"
   },
   {
    "duration": 62,
    "start_time": "2022-03-23T14:48:04.431Z"
   },
   {
    "duration": 8,
    "start_time": "2022-03-23T14:48:04.496Z"
   },
   {
    "duration": 49,
    "start_time": "2022-03-23T14:48:04.507Z"
   },
   {
    "duration": 49,
    "start_time": "2022-03-23T14:48:04.560Z"
   },
   {
    "duration": 83,
    "start_time": "2022-03-23T14:48:04.613Z"
   },
   {
    "duration": 19,
    "start_time": "2022-03-23T14:48:04.700Z"
   },
   {
    "duration": 255394,
    "start_time": "2022-03-23T14:48:04.722Z"
   },
   {
    "duration": 16,
    "start_time": "2022-03-23T14:52:20.119Z"
   },
   {
    "duration": 49,
    "start_time": "2022-03-23T14:52:20.137Z"
   },
   {
    "duration": 17,
    "start_time": "2022-03-23T14:52:20.189Z"
   },
   {
    "duration": 17,
    "start_time": "2022-03-23T14:52:20.209Z"
   },
   {
    "duration": 57,
    "start_time": "2022-03-23T14:52:20.228Z"
   },
   {
    "duration": 11,
    "start_time": "2022-03-23T14:52:20.291Z"
   },
   {
    "duration": 31,
    "start_time": "2022-03-23T14:52:20.304Z"
   },
   {
    "duration": 11,
    "start_time": "2022-03-23T14:52:20.337Z"
   },
   {
    "duration": 19,
    "start_time": "2022-03-23T14:52:20.383Z"
   },
   {
    "duration": 48,
    "start_time": "2022-03-23T14:52:20.405Z"
   },
   {
    "duration": 35,
    "start_time": "2022-03-23T14:52:20.456Z"
   },
   {
    "duration": 20,
    "start_time": "2022-03-23T14:52:20.494Z"
   },
   {
    "duration": 20,
    "start_time": "2022-03-23T14:52:20.516Z"
   },
   {
    "duration": 70,
    "start_time": "2022-03-23T14:52:20.540Z"
   },
   {
    "duration": 46,
    "start_time": "2022-03-23T14:52:20.613Z"
   },
   {
    "duration": 46,
    "start_time": "2022-03-23T14:52:20.663Z"
   },
   {
    "duration": 20,
    "start_time": "2022-03-23T14:52:20.711Z"
   },
   {
    "duration": 61,
    "start_time": "2022-03-23T14:52:20.734Z"
   },
   {
    "duration": 10,
    "start_time": "2022-03-23T14:52:20.797Z"
   },
   {
    "duration": 1943,
    "start_time": "2022-03-23T14:52:47.725Z"
   },
   {
    "duration": 1790,
    "start_time": "2022-03-23T14:53:06.781Z"
   },
   {
    "duration": 21,
    "start_time": "2022-03-23T14:53:14.462Z"
   },
   {
    "duration": 18,
    "start_time": "2022-03-23T14:53:25.419Z"
   },
   {
    "duration": 15,
    "start_time": "2022-03-23T14:53:31.589Z"
   },
   {
    "duration": 11,
    "start_time": "2022-03-23T14:53:36.317Z"
   },
   {
    "duration": 16,
    "start_time": "2022-03-23T14:53:39.691Z"
   },
   {
    "duration": 24,
    "start_time": "2022-03-23T14:53:46.633Z"
   },
   {
    "duration": 33,
    "start_time": "2022-03-23T14:53:48.820Z"
   },
   {
    "duration": 21,
    "start_time": "2022-03-23T14:53:55.110Z"
   },
   {
    "duration": 90,
    "start_time": "2022-03-23T14:54:05.061Z"
   },
   {
    "duration": 19,
    "start_time": "2022-03-23T14:54:06.988Z"
   },
   {
    "duration": 6,
    "start_time": "2022-03-23T14:54:09.848Z"
   },
   {
    "duration": 14,
    "start_time": "2022-03-23T14:54:11.755Z"
   },
   {
    "duration": 24,
    "start_time": "2022-03-23T14:54:12.911Z"
   },
   {
    "duration": 55,
    "start_time": "2022-03-23T14:54:14.349Z"
   },
   {
    "duration": 13,
    "start_time": "2022-03-23T14:54:17.955Z"
   },
   {
    "duration": 15,
    "start_time": "2022-03-23T14:58:33.393Z"
   },
   {
    "duration": 38,
    "start_time": "2022-03-23T14:58:33.410Z"
   },
   {
    "duration": 837,
    "start_time": "2022-03-23T14:59:25.765Z"
   },
   {
    "duration": 49,
    "start_time": "2022-03-23T14:59:26.606Z"
   },
   {
    "duration": 32,
    "start_time": "2022-03-23T14:59:26.658Z"
   },
   {
    "duration": 19,
    "start_time": "2022-03-23T14:59:26.693Z"
   },
   {
    "duration": 72,
    "start_time": "2022-03-23T14:59:26.717Z"
   },
   {
    "duration": 43,
    "start_time": "2022-03-23T14:59:26.791Z"
   },
   {
    "duration": 52,
    "start_time": "2022-03-23T14:59:26.837Z"
   },
   {
    "duration": 239923,
    "start_time": "2022-03-23T14:59:26.892Z"
   },
   {
    "duration": 15,
    "start_time": "2022-03-23T15:03:26.818Z"
   },
   {
    "duration": 53,
    "start_time": "2022-03-23T15:03:26.835Z"
   },
   {
    "duration": 13,
    "start_time": "2022-03-23T15:03:26.890Z"
   },
   {
    "duration": 29,
    "start_time": "2022-03-23T15:03:26.905Z"
   },
   {
    "duration": 27,
    "start_time": "2022-03-23T15:03:26.938Z"
   },
   {
    "duration": 18,
    "start_time": "2022-03-23T15:03:26.987Z"
   },
   {
    "duration": 26,
    "start_time": "2022-03-23T15:03:27.008Z"
   },
   {
    "duration": 26,
    "start_time": "2022-03-23T15:03:27.036Z"
   },
   {
    "duration": 9,
    "start_time": "2022-03-23T15:03:27.065Z"
   },
   {
    "duration": 41,
    "start_time": "2022-03-23T15:03:27.085Z"
   },
   {
    "duration": 15,
    "start_time": "2022-03-23T15:03:27.128Z"
   },
   {
    "duration": 11,
    "start_time": "2022-03-23T15:03:27.185Z"
   },
   {
    "duration": 18,
    "start_time": "2022-03-23T15:03:27.198Z"
   },
   {
    "duration": 71,
    "start_time": "2022-03-23T15:03:27.218Z"
   },
   {
    "duration": 45,
    "start_time": "2022-03-23T15:03:27.291Z"
   },
   {
    "duration": 58,
    "start_time": "2022-03-23T15:03:27.338Z"
   },
   {
    "duration": 19,
    "start_time": "2022-03-23T15:03:27.398Z"
   },
   {
    "duration": 16,
    "start_time": "2022-03-23T15:03:27.420Z"
   },
   {
    "duration": 67,
    "start_time": "2022-03-23T15:03:27.439Z"
   },
   {
    "duration": 1850,
    "start_time": "2022-03-23T15:05:51.210Z"
   },
   {
    "duration": 599,
    "start_time": "2022-03-23T15:06:36.198Z"
   },
   {
    "duration": 30,
    "start_time": "2022-03-23T15:06:36.800Z"
   },
   {
    "duration": 6,
    "start_time": "2022-03-23T15:06:36.832Z"
   },
   {
    "duration": 60,
    "start_time": "2022-03-23T15:06:36.841Z"
   },
   {
    "duration": 16,
    "start_time": "2022-03-23T15:06:36.904Z"
   },
   {
    "duration": 69,
    "start_time": "2022-03-23T15:06:36.922Z"
   },
   {
    "duration": 36,
    "start_time": "2022-03-23T15:06:36.994Z"
   },
   {
    "duration": 14,
    "start_time": "2022-03-23T15:06:37.032Z"
   },
   {
    "duration": 147293,
    "start_time": "2022-03-23T15:06:37.084Z"
   },
   {
    "duration": 21,
    "start_time": "2022-03-23T15:09:04.382Z"
   },
   {
    "duration": 75,
    "start_time": "2022-03-23T15:09:04.406Z"
   },
   {
    "duration": 34,
    "start_time": "2022-03-23T15:09:04.484Z"
   },
   {
    "duration": 43,
    "start_time": "2022-03-23T15:09:04.521Z"
   },
   {
    "duration": 38,
    "start_time": "2022-03-23T15:09:04.567Z"
   },
   {
    "duration": 29,
    "start_time": "2022-03-23T15:09:04.609Z"
   },
   {
    "duration": 28,
    "start_time": "2022-03-23T15:09:04.641Z"
   },
   {
    "duration": 15,
    "start_time": "2022-03-23T15:09:04.672Z"
   },
   {
    "duration": 35,
    "start_time": "2022-03-23T15:09:04.690Z"
   },
   {
    "duration": 61,
    "start_time": "2022-03-23T15:09:04.728Z"
   },
   {
    "duration": 16,
    "start_time": "2022-03-23T15:09:04.791Z"
   },
   {
    "duration": 52,
    "start_time": "2022-03-23T15:09:04.809Z"
   },
   {
    "duration": 29,
    "start_time": "2022-03-23T15:09:04.863Z"
   },
   {
    "duration": 47,
    "start_time": "2022-03-23T15:09:04.895Z"
   },
   {
    "duration": 65,
    "start_time": "2022-03-23T15:09:04.944Z"
   },
   {
    "duration": 29,
    "start_time": "2022-03-23T15:09:05.011Z"
   },
   {
    "duration": 44,
    "start_time": "2022-03-23T15:09:05.042Z"
   },
   {
    "duration": 35,
    "start_time": "2022-03-23T15:09:05.089Z"
   },
   {
    "duration": 26,
    "start_time": "2022-03-23T15:09:05.129Z"
   },
   {
    "duration": 55,
    "start_time": "2022-03-24T08:11:04.719Z"
   },
   {
    "duration": 10,
    "start_time": "2022-03-24T08:11:38.706Z"
   },
   {
    "duration": 6,
    "start_time": "2022-03-24T08:12:49.845Z"
   },
   {
    "duration": 5,
    "start_time": "2022-03-24T08:13:54.932Z"
   },
   {
    "duration": 511,
    "start_time": "2022-03-24T08:14:07.417Z"
   },
   {
    "duration": 22,
    "start_time": "2022-03-24T08:14:07.931Z"
   },
   {
    "duration": 5,
    "start_time": "2022-03-24T08:14:07.955Z"
   },
   {
    "duration": 26,
    "start_time": "2022-03-24T08:14:07.962Z"
   },
   {
    "duration": 15,
    "start_time": "2022-03-24T08:14:07.990Z"
   },
   {
    "duration": 16,
    "start_time": "2022-03-24T08:14:08.032Z"
   },
   {
    "duration": 29,
    "start_time": "2022-03-24T08:14:08.051Z"
   },
   {
    "duration": 11,
    "start_time": "2022-03-24T08:14:08.082Z"
   },
   {
    "duration": 77662,
    "start_time": "2022-03-24T08:14:08.095Z"
   },
   {
    "duration": 11,
    "start_time": "2022-03-24T08:15:25.760Z"
   },
   {
    "duration": 16,
    "start_time": "2022-03-24T08:15:25.773Z"
   },
   {
    "duration": 9,
    "start_time": "2022-03-24T08:15:25.791Z"
   },
   {
    "duration": 34,
    "start_time": "2022-03-24T08:15:25.801Z"
   },
   {
    "duration": 11,
    "start_time": "2022-03-24T08:15:25.837Z"
   },
   {
    "duration": 8,
    "start_time": "2022-03-24T08:15:25.850Z"
   },
   {
    "duration": 9,
    "start_time": "2022-03-24T08:15:25.859Z"
   },
   {
    "duration": 5,
    "start_time": "2022-03-24T08:15:25.870Z"
   },
   {
    "duration": 9,
    "start_time": "2022-03-24T08:15:25.877Z"
   },
   {
    "duration": 64,
    "start_time": "2022-03-24T08:15:25.888Z"
   },
   {
    "duration": 10,
    "start_time": "2022-03-24T08:15:25.954Z"
   },
   {
    "duration": 13,
    "start_time": "2022-03-24T08:15:25.966Z"
   },
   {
    "duration": 16,
    "start_time": "2022-03-24T08:15:25.981Z"
   },
   {
    "duration": 39,
    "start_time": "2022-03-24T08:15:25.999Z"
   },
   {
    "duration": 31,
    "start_time": "2022-03-24T08:15:26.040Z"
   },
   {
    "duration": 21,
    "start_time": "2022-03-24T08:15:26.073Z"
   },
   {
    "duration": 36,
    "start_time": "2022-03-24T08:15:26.096Z"
   },
   {
    "duration": 11,
    "start_time": "2022-03-24T08:15:26.134Z"
   },
   {
    "duration": 15,
    "start_time": "2022-03-24T08:15:26.148Z"
   },
   {
    "duration": 4,
    "start_time": "2022-03-24T08:15:26.165Z"
   },
   {
    "duration": 14,
    "start_time": "2022-03-24T08:15:26.171Z"
   },
   {
    "duration": 10,
    "start_time": "2022-03-24T08:19:57.244Z"
   },
   {
    "duration": 18,
    "start_time": "2022-03-24T08:20:11.780Z"
   },
   {
    "duration": 41,
    "start_time": "2022-03-24T08:23:26.469Z"
   },
   {
    "duration": 16,
    "start_time": "2022-03-24T08:23:40.772Z"
   },
   {
    "duration": 16,
    "start_time": "2022-03-24T08:24:16.164Z"
   },
   {
    "duration": 18,
    "start_time": "2022-03-24T08:24:26.870Z"
   },
   {
    "duration": 172,
    "start_time": "2022-03-24T08:28:58.174Z"
   },
   {
    "duration": 163,
    "start_time": "2022-03-24T08:29:14.286Z"
   },
   {
    "duration": 165,
    "start_time": "2022-03-24T08:31:18.022Z"
   },
   {
    "duration": 229,
    "start_time": "2022-03-24T08:31:28.441Z"
   },
   {
    "duration": 179,
    "start_time": "2022-03-24T08:31:58.631Z"
   },
   {
    "duration": 479,
    "start_time": "2022-03-24T08:35:57.885Z"
   },
   {
    "duration": 5,
    "start_time": "2022-03-24T08:36:12.510Z"
   },
   {
    "duration": 6,
    "start_time": "2022-03-24T08:36:25.965Z"
   },
   {
    "duration": 8,
    "start_time": "2022-03-24T08:37:16.397Z"
   },
   {
    "duration": 15,
    "start_time": "2022-03-24T08:37:29.766Z"
   },
   {
    "duration": 12,
    "start_time": "2022-03-24T08:41:45.799Z"
   },
   {
    "duration": 13,
    "start_time": "2022-03-24T08:41:54.446Z"
   },
   {
    "duration": 6,
    "start_time": "2022-03-24T08:42:26.127Z"
   },
   {
    "duration": 4,
    "start_time": "2022-03-24T08:42:59.311Z"
   },
   {
    "duration": 15,
    "start_time": "2022-03-24T08:43:20.152Z"
   },
   {
    "duration": 5,
    "start_time": "2022-03-24T08:43:41.383Z"
   },
   {
    "duration": 4,
    "start_time": "2022-03-24T08:44:07.296Z"
   },
   {
    "duration": 5,
    "start_time": "2022-03-24T08:45:14.806Z"
   },
   {
    "duration": 5,
    "start_time": "2022-03-24T08:45:50.230Z"
   },
   {
    "duration": 5,
    "start_time": "2022-03-24T08:46:18.750Z"
   },
   {
    "duration": 5,
    "start_time": "2022-03-24T08:46:40.422Z"
   },
   {
    "duration": 5,
    "start_time": "2022-03-24T08:47:27.784Z"
   },
   {
    "duration": 5,
    "start_time": "2022-03-24T08:47:38.792Z"
   },
   {
    "duration": 19,
    "start_time": "2022-03-24T08:48:15.279Z"
   },
   {
    "duration": 14,
    "start_time": "2022-03-24T08:48:45.054Z"
   },
   {
    "duration": 20,
    "start_time": "2022-03-24T08:48:47.936Z"
   },
   {
    "duration": 4,
    "start_time": "2022-03-24T08:49:03.302Z"
   },
   {
    "duration": 4,
    "start_time": "2022-03-24T08:49:44.103Z"
   },
   {
    "duration": 5,
    "start_time": "2022-03-24T08:50:13.080Z"
   },
   {
    "duration": 472,
    "start_time": "2022-03-24T08:50:56.857Z"
   },
   {
    "duration": 20,
    "start_time": "2022-03-24T08:50:57.331Z"
   },
   {
    "duration": 6,
    "start_time": "2022-03-24T08:50:57.353Z"
   },
   {
    "duration": 25,
    "start_time": "2022-03-24T08:50:57.361Z"
   },
   {
    "duration": 11,
    "start_time": "2022-03-24T08:50:57.387Z"
   },
   {
    "duration": 41,
    "start_time": "2022-03-24T08:50:57.400Z"
   },
   {
    "duration": 27,
    "start_time": "2022-03-24T08:50:57.443Z"
   },
   {
    "duration": 10,
    "start_time": "2022-03-24T08:50:57.471Z"
   },
   {
    "duration": 77385,
    "start_time": "2022-03-24T08:50:57.482Z"
   },
   {
    "duration": 13,
    "start_time": "2022-03-24T08:52:14.870Z"
   },
   {
    "duration": 15,
    "start_time": "2022-03-24T08:52:14.885Z"
   },
   {
    "duration": 31,
    "start_time": "2022-03-24T08:52:14.902Z"
   },
   {
    "duration": 15,
    "start_time": "2022-03-24T08:52:14.935Z"
   },
   {
    "duration": 13,
    "start_time": "2022-03-24T08:52:14.952Z"
   },
   {
    "duration": 8,
    "start_time": "2022-03-24T08:52:14.967Z"
   },
   {
    "duration": 11,
    "start_time": "2022-03-24T08:52:14.976Z"
   },
   {
    "duration": 5,
    "start_time": "2022-03-24T08:52:14.989Z"
   },
   {
    "duration": 8,
    "start_time": "2022-03-24T08:52:14.996Z"
   },
   {
    "duration": 32,
    "start_time": "2022-03-24T08:52:15.031Z"
   },
   {
    "duration": 11,
    "start_time": "2022-03-24T08:52:15.065Z"
   },
   {
    "duration": 14,
    "start_time": "2022-03-24T08:52:15.077Z"
   },
   {
    "duration": 16,
    "start_time": "2022-03-24T08:52:15.092Z"
   },
   {
    "duration": 39,
    "start_time": "2022-03-24T08:52:15.109Z"
   },
   {
    "duration": 32,
    "start_time": "2022-03-24T08:52:15.150Z"
   },
   {
    "duration": 21,
    "start_time": "2022-03-24T08:52:15.184Z"
   },
   {
    "duration": 14,
    "start_time": "2022-03-24T08:52:15.231Z"
   },
   {
    "duration": 12,
    "start_time": "2022-03-24T08:52:15.247Z"
   },
   {
    "duration": 15,
    "start_time": "2022-03-24T08:52:15.263Z"
   },
   {
    "duration": 6,
    "start_time": "2022-03-24T08:52:15.280Z"
   },
   {
    "duration": 56,
    "start_time": "2022-03-24T08:52:15.288Z"
   },
   {
    "duration": 6,
    "start_time": "2022-03-24T08:52:15.346Z"
   },
   {
    "duration": 14,
    "start_time": "2022-03-24T08:52:15.354Z"
   },
   {
    "duration": 23,
    "start_time": "2022-03-24T09:15:09.270Z"
   },
   {
    "duration": 37,
    "start_time": "2022-03-24T09:15:30.184Z"
   },
   {
    "duration": 28,
    "start_time": "2022-03-24T09:15:51.959Z"
   },
   {
    "duration": 14,
    "start_time": "2022-03-24T09:15:56.430Z"
   },
   {
    "duration": 171,
    "start_time": "2022-03-24T09:19:15.087Z"
   },
   {
    "duration": 156,
    "start_time": "2022-03-24T09:19:42.254Z"
   },
   {
    "duration": 182,
    "start_time": "2022-03-24T09:19:55.454Z"
   },
   {
    "duration": 180,
    "start_time": "2022-03-24T09:20:41.694Z"
   },
   {
    "duration": 33,
    "start_time": "2022-03-24T09:21:00.959Z"
   },
   {
    "duration": 6,
    "start_time": "2022-03-24T09:21:23.886Z"
   },
   {
    "duration": 70,
    "start_time": "2022-03-24T09:21:30.152Z"
   },
   {
    "duration": 8,
    "start_time": "2022-03-24T09:21:39.831Z"
   },
   {
    "duration": 19,
    "start_time": "2022-03-24T09:21:59.631Z"
   },
   {
    "duration": 10,
    "start_time": "2022-03-24T09:22:12.350Z"
   },
   {
    "duration": 10,
    "start_time": "2022-03-24T09:22:24.388Z"
   },
   {
    "duration": 9,
    "start_time": "2022-03-24T09:22:36.503Z"
   },
   {
    "duration": 29,
    "start_time": "2022-03-24T09:22:46.753Z"
   },
   {
    "duration": 29,
    "start_time": "2022-03-24T09:22:53.617Z"
   },
   {
    "duration": 370,
    "start_time": "2022-03-24T09:23:53.239Z"
   },
   {
    "duration": 332,
    "start_time": "2022-03-24T09:24:05.360Z"
   },
   {
    "duration": 332,
    "start_time": "2022-03-24T09:25:05.559Z"
   },
   {
    "duration": 507,
    "start_time": "2022-03-24T09:25:54.163Z"
   },
   {
    "duration": 24,
    "start_time": "2022-03-24T09:25:54.672Z"
   },
   {
    "duration": 3,
    "start_time": "2022-03-24T09:25:54.698Z"
   },
   {
    "duration": 38,
    "start_time": "2022-03-24T09:25:54.703Z"
   },
   {
    "duration": 18,
    "start_time": "2022-03-24T09:25:54.742Z"
   },
   {
    "duration": 23,
    "start_time": "2022-03-24T09:25:54.762Z"
   },
   {
    "duration": 47,
    "start_time": "2022-03-24T09:25:54.786Z"
   },
   {
    "duration": 13,
    "start_time": "2022-03-24T09:25:54.835Z"
   },
   {
    "duration": 79861,
    "start_time": "2022-03-24T09:25:54.850Z"
   },
   {
    "duration": 20,
    "start_time": "2022-03-24T09:27:14.714Z"
   },
   {
    "duration": 41,
    "start_time": "2022-03-24T09:27:14.735Z"
   },
   {
    "duration": 14,
    "start_time": "2022-03-24T09:27:14.778Z"
   },
   {
    "duration": 27,
    "start_time": "2022-03-24T09:27:14.794Z"
   },
   {
    "duration": 8,
    "start_time": "2022-03-24T09:27:14.824Z"
   },
   {
    "duration": 19,
    "start_time": "2022-03-24T09:27:14.833Z"
   },
   {
    "duration": 13,
    "start_time": "2022-03-24T09:27:14.854Z"
   },
   {
    "duration": 20,
    "start_time": "2022-03-24T09:27:14.868Z"
   },
   {
    "duration": 23,
    "start_time": "2022-03-24T09:27:14.889Z"
   },
   {
    "duration": 370,
    "start_time": "2022-03-24T09:27:14.913Z"
   },
   {
    "duration": 9,
    "start_time": "2022-03-24T09:27:15.285Z"
   },
   {
    "duration": 16,
    "start_time": "2022-03-24T09:27:15.296Z"
   },
   {
    "duration": 26,
    "start_time": "2022-03-24T09:27:15.314Z"
   },
   {
    "duration": 19,
    "start_time": "2022-03-24T09:27:15.344Z"
   },
   {
    "duration": 56,
    "start_time": "2022-03-24T09:27:15.365Z"
   },
   {
    "duration": 31,
    "start_time": "2022-03-24T09:27:15.423Z"
   },
   {
    "duration": 25,
    "start_time": "2022-03-24T09:27:15.456Z"
   },
   {
    "duration": 24,
    "start_time": "2022-03-24T09:27:15.482Z"
   },
   {
    "duration": 44,
    "start_time": "2022-03-24T09:27:15.509Z"
   },
   {
    "duration": 7,
    "start_time": "2022-03-24T09:27:15.556Z"
   },
   {
    "duration": 32,
    "start_time": "2022-03-24T09:27:15.565Z"
   },
   {
    "duration": 64,
    "start_time": "2022-03-24T09:27:15.599Z"
   },
   {
    "duration": 19,
    "start_time": "2022-03-24T09:27:15.665Z"
   },
   {
    "duration": 160,
    "start_time": "2022-03-24T09:30:13.769Z"
   },
   {
    "duration": 26,
    "start_time": "2022-03-24T09:30:29.386Z"
   },
   {
    "duration": 185,
    "start_time": "2022-03-24T09:30:47.808Z"
   },
   {
    "duration": 26,
    "start_time": "2022-03-24T09:30:56.320Z"
   },
   {
    "duration": 25,
    "start_time": "2022-03-24T09:31:12.416Z"
   },
   {
    "duration": 26,
    "start_time": "2022-03-24T10:06:44.957Z"
   },
   {
    "duration": 25,
    "start_time": "2022-03-24T10:07:15.678Z"
   },
   {
    "duration": 26,
    "start_time": "2022-03-24T10:07:25.087Z"
   },
   {
    "duration": 26,
    "start_time": "2022-03-24T10:08:16.158Z"
   },
   {
    "duration": 96,
    "start_time": "2022-03-24T10:11:41.669Z"
   },
   {
    "duration": 38,
    "start_time": "2022-03-24T10:12:50.437Z"
   },
   {
    "duration": 27,
    "start_time": "2022-03-24T10:14:24.537Z"
   },
   {
    "duration": 27,
    "start_time": "2022-03-24T10:15:54.845Z"
   },
   {
    "duration": 13,
    "start_time": "2022-03-24T10:15:59.893Z"
   },
   {
    "duration": 37,
    "start_time": "2022-03-24T10:16:13.597Z"
   },
   {
    "duration": 15,
    "start_time": "2022-03-24T10:19:15.781Z"
   },
   {
    "duration": 6,
    "start_time": "2022-03-24T10:19:54.918Z"
   },
   {
    "duration": 13,
    "start_time": "2022-03-24T10:20:16.237Z"
   },
   {
    "duration": 11,
    "start_time": "2022-03-24T10:22:45.606Z"
   },
   {
    "duration": 11,
    "start_time": "2022-03-24T10:23:23.893Z"
   },
   {
    "duration": 11,
    "start_time": "2022-03-24T10:24:07.798Z"
   },
   {
    "duration": 11,
    "start_time": "2022-03-24T10:25:13.965Z"
   },
   {
    "duration": 27,
    "start_time": "2022-03-24T10:25:43.029Z"
   },
   {
    "duration": 28,
    "start_time": "2022-03-24T10:25:46.684Z"
   },
   {
    "duration": 163,
    "start_time": "2022-03-24T10:26:36.702Z"
   },
   {
    "duration": 34,
    "start_time": "2022-03-24T10:26:44.645Z"
   },
   {
    "duration": 26,
    "start_time": "2022-03-24T10:27:02.150Z"
   },
   {
    "duration": 482,
    "start_time": "2022-03-24T10:27:12.570Z"
   },
   {
    "duration": 23,
    "start_time": "2022-03-24T10:27:13.054Z"
   },
   {
    "duration": 11,
    "start_time": "2022-03-24T10:27:13.078Z"
   },
   {
    "duration": 41,
    "start_time": "2022-03-24T10:27:13.091Z"
   },
   {
    "duration": 27,
    "start_time": "2022-03-24T10:27:13.134Z"
   },
   {
    "duration": 27,
    "start_time": "2022-03-24T10:27:13.163Z"
   },
   {
    "duration": 44,
    "start_time": "2022-03-24T10:27:13.192Z"
   },
   {
    "duration": 15,
    "start_time": "2022-03-24T10:27:13.238Z"
   },
   {
    "duration": 76373,
    "start_time": "2022-03-24T10:27:13.255Z"
   },
   {
    "duration": 10,
    "start_time": "2022-03-24T10:28:29.632Z"
   },
   {
    "duration": 16,
    "start_time": "2022-03-24T10:28:29.644Z"
   },
   {
    "duration": 10,
    "start_time": "2022-03-24T10:28:29.662Z"
   },
   {
    "duration": 24,
    "start_time": "2022-03-24T10:28:29.674Z"
   },
   {
    "duration": 11,
    "start_time": "2022-03-24T10:28:29.700Z"
   },
   {
    "duration": 24,
    "start_time": "2022-03-24T10:28:29.713Z"
   },
   {
    "duration": 10,
    "start_time": "2022-03-24T10:28:29.739Z"
   },
   {
    "duration": 21,
    "start_time": "2022-03-24T10:28:29.751Z"
   },
   {
    "duration": 13,
    "start_time": "2022-03-24T10:28:29.773Z"
   },
   {
    "duration": 329,
    "start_time": "2022-03-24T10:28:29.787Z"
   },
   {
    "duration": 36,
    "start_time": "2022-03-24T10:28:30.118Z"
   },
   {
    "duration": 15,
    "start_time": "2022-03-24T10:28:30.156Z"
   },
   {
    "duration": 23,
    "start_time": "2022-03-24T10:28:30.173Z"
   },
   {
    "duration": 34,
    "start_time": "2022-03-24T10:28:30.198Z"
   },
   {
    "duration": 33,
    "start_time": "2022-03-24T10:28:30.233Z"
   },
   {
    "duration": 20,
    "start_time": "2022-03-24T10:28:30.267Z"
   },
   {
    "duration": 18,
    "start_time": "2022-03-24T10:28:30.289Z"
   },
   {
    "duration": 32,
    "start_time": "2022-03-24T10:28:30.309Z"
   },
   {
    "duration": 14,
    "start_time": "2022-03-24T10:28:30.345Z"
   },
   {
    "duration": 6,
    "start_time": "2022-03-24T10:28:30.361Z"
   },
   {
    "duration": 33,
    "start_time": "2022-03-24T10:28:30.368Z"
   },
   {
    "duration": 39,
    "start_time": "2022-03-24T10:28:30.402Z"
   },
   {
    "duration": 25,
    "start_time": "2022-03-24T10:28:30.443Z"
   },
   {
    "duration": 5,
    "start_time": "2022-03-24T10:31:09.901Z"
   },
   {
    "duration": 5,
    "start_time": "2022-03-24T10:32:21.534Z"
   },
   {
    "duration": 5,
    "start_time": "2022-03-24T10:34:39.469Z"
   },
   {
    "duration": 193,
    "start_time": "2022-03-24T10:35:00.172Z"
   },
   {
    "duration": 5,
    "start_time": "2022-03-24T10:35:10.700Z"
   },
   {
    "duration": 12,
    "start_time": "2022-03-24T10:35:16.397Z"
   },
   {
    "duration": 4,
    "start_time": "2022-03-24T10:35:31.093Z"
   },
   {
    "duration": 3,
    "start_time": "2022-03-24T10:44:56.039Z"
   },
   {
    "duration": 5,
    "start_time": "2022-03-24T10:45:41.943Z"
   },
   {
    "duration": 5,
    "start_time": "2022-03-24T10:46:06.297Z"
   },
   {
    "duration": 6,
    "start_time": "2022-03-24T10:47:06.190Z"
   },
   {
    "duration": 6,
    "start_time": "2022-03-24T10:47:23.737Z"
   },
   {
    "duration": 5,
    "start_time": "2022-03-24T10:47:45.785Z"
   },
   {
    "duration": 4,
    "start_time": "2022-03-24T10:47:56.015Z"
   },
   {
    "duration": 5,
    "start_time": "2022-03-24T10:48:07.990Z"
   },
   {
    "duration": 5,
    "start_time": "2022-03-24T10:48:20.861Z"
   },
   {
    "duration": 188,
    "start_time": "2022-03-24T10:48:41.246Z"
   },
   {
    "duration": 6,
    "start_time": "2022-03-24T10:48:46.911Z"
   },
   {
    "duration": 7,
    "start_time": "2022-03-24T10:49:27.365Z"
   },
   {
    "duration": 6,
    "start_time": "2022-03-24T10:49:44.717Z"
   },
   {
    "duration": 6,
    "start_time": "2022-03-24T10:49:57.229Z"
   },
   {
    "duration": 5,
    "start_time": "2022-03-24T10:50:48.702Z"
   },
   {
    "duration": 4,
    "start_time": "2022-03-24T10:50:57.865Z"
   },
   {
    "duration": 5,
    "start_time": "2022-03-24T10:51:11.973Z"
   },
   {
    "duration": 5,
    "start_time": "2022-03-24T10:52:22.118Z"
   },
   {
    "duration": 2,
    "start_time": "2022-03-24T10:52:36.617Z"
   },
   {
    "duration": 5,
    "start_time": "2022-03-24T10:52:45.885Z"
   },
   {
    "duration": 6,
    "start_time": "2022-03-24T10:53:09.934Z"
   },
   {
    "duration": 7,
    "start_time": "2022-03-24T10:53:19.470Z"
   },
   {
    "duration": 5,
    "start_time": "2022-03-24T10:53:28.327Z"
   },
   {
    "duration": 5,
    "start_time": "2022-03-24T10:54:52.648Z"
   },
   {
    "duration": 5,
    "start_time": "2022-03-24T10:55:41.791Z"
   },
   {
    "duration": 14,
    "start_time": "2022-03-24T10:57:06.647Z"
   },
   {
    "duration": 5,
    "start_time": "2022-03-24T10:58:48.542Z"
   },
   {
    "duration": 542,
    "start_time": "2022-03-24T11:00:01.339Z"
   },
   {
    "duration": 22,
    "start_time": "2022-03-24T11:00:01.884Z"
   },
   {
    "duration": 4,
    "start_time": "2022-03-24T11:00:01.908Z"
   },
   {
    "duration": 23,
    "start_time": "2022-03-24T11:00:01.931Z"
   },
   {
    "duration": 28,
    "start_time": "2022-03-24T11:00:01.956Z"
   },
   {
    "duration": 31,
    "start_time": "2022-03-24T11:00:01.986Z"
   },
   {
    "duration": 27,
    "start_time": "2022-03-24T11:00:02.018Z"
   },
   {
    "duration": 28,
    "start_time": "2022-03-24T11:00:02.047Z"
   },
   {
    "duration": 78065,
    "start_time": "2022-03-24T11:00:02.077Z"
   },
   {
    "duration": 13,
    "start_time": "2022-03-24T11:01:20.145Z"
   },
   {
    "duration": 20,
    "start_time": "2022-03-24T11:01:20.159Z"
   },
   {
    "duration": 9,
    "start_time": "2022-03-24T11:01:20.181Z"
   },
   {
    "duration": 19,
    "start_time": "2022-03-24T11:01:20.192Z"
   },
   {
    "duration": 8,
    "start_time": "2022-03-24T11:01:20.232Z"
   },
   {
    "duration": 10,
    "start_time": "2022-03-24T11:01:20.242Z"
   },
   {
    "duration": 9,
    "start_time": "2022-03-24T11:01:20.253Z"
   },
   {
    "duration": 7,
    "start_time": "2022-03-24T11:01:20.263Z"
   },
   {
    "duration": 11,
    "start_time": "2022-03-24T11:01:20.272Z"
   },
   {
    "duration": 365,
    "start_time": "2022-03-24T11:01:20.284Z"
   },
   {
    "duration": 31,
    "start_time": "2022-03-24T11:01:20.651Z"
   },
   {
    "duration": 9,
    "start_time": "2022-03-24T11:01:20.684Z"
   },
   {
    "duration": 19,
    "start_time": "2022-03-24T11:01:20.695Z"
   },
   {
    "duration": 18,
    "start_time": "2022-03-24T11:01:20.732Z"
   },
   {
    "duration": 32,
    "start_time": "2022-03-24T11:01:20.752Z"
   },
   {
    "duration": 22,
    "start_time": "2022-03-24T11:01:20.786Z"
   },
   {
    "duration": 14,
    "start_time": "2022-03-24T11:01:20.831Z"
   },
   {
    "duration": 11,
    "start_time": "2022-03-24T11:01:20.847Z"
   },
   {
    "duration": 16,
    "start_time": "2022-03-24T11:01:20.861Z"
   },
   {
    "duration": 5,
    "start_time": "2022-03-24T11:01:20.879Z"
   },
   {
    "duration": 47,
    "start_time": "2022-03-24T11:01:20.886Z"
   },
   {
    "duration": 6,
    "start_time": "2022-03-24T11:01:20.934Z"
   },
   {
    "duration": 18,
    "start_time": "2022-03-24T11:01:20.942Z"
   },
   {
    "duration": 5,
    "start_time": "2022-03-24T11:03:14.370Z"
   },
   {
    "duration": 5,
    "start_time": "2022-03-24T11:04:24.159Z"
   },
   {
    "duration": 14,
    "start_time": "2022-03-24T11:04:31.353Z"
   },
   {
    "duration": 5,
    "start_time": "2022-03-24T11:04:48.395Z"
   },
   {
    "duration": 4,
    "start_time": "2022-03-24T11:04:57.571Z"
   },
   {
    "duration": 5,
    "start_time": "2022-03-24T11:05:06.035Z"
   },
   {
    "duration": 4,
    "start_time": "2022-03-24T11:05:13.043Z"
   },
   {
    "duration": 14,
    "start_time": "2022-03-24T11:05:25.218Z"
   },
   {
    "duration": 15,
    "start_time": "2022-03-24T11:05:32.907Z"
   },
   {
    "duration": 569,
    "start_time": "2022-03-24T11:05:52.011Z"
   },
   {
    "duration": 14,
    "start_time": "2022-03-24T11:05:58.586Z"
   },
   {
    "duration": 11,
    "start_time": "2022-03-24T12:01:56.697Z"
   },
   {
    "duration": 11,
    "start_time": "2022-03-24T12:02:06.148Z"
   },
   {
    "duration": 14,
    "start_time": "2022-03-24T12:05:14.664Z"
   },
   {
    "duration": 25,
    "start_time": "2022-03-24T12:05:19.713Z"
   },
   {
    "duration": 19,
    "start_time": "2022-03-24T12:05:29.977Z"
   },
   {
    "duration": 182,
    "start_time": "2022-03-24T12:06:42.994Z"
   },
   {
    "duration": 236,
    "start_time": "2022-03-24T12:07:07.514Z"
   },
   {
    "duration": 181,
    "start_time": "2022-03-24T12:08:12.078Z"
   },
   {
    "duration": 18,
    "start_time": "2022-03-24T12:09:04.826Z"
   },
   {
    "duration": 196,
    "start_time": "2022-03-24T12:10:20.555Z"
   },
   {
    "duration": 22,
    "start_time": "2022-03-24T12:10:33.298Z"
   },
   {
    "duration": 68,
    "start_time": "2022-03-24T12:12:55.242Z"
   },
   {
    "duration": 9,
    "start_time": "2022-03-24T12:13:11.810Z"
   },
   {
    "duration": 21,
    "start_time": "2022-03-24T12:13:32.331Z"
   },
   {
    "duration": 8,
    "start_time": "2022-03-24T12:17:44.730Z"
   },
   {
    "duration": 15,
    "start_time": "2022-03-24T12:18:02.515Z"
   },
   {
    "duration": 13,
    "start_time": "2022-03-24T12:18:11.404Z"
   },
   {
    "duration": 16,
    "start_time": "2022-03-24T12:18:54.124Z"
   },
   {
    "duration": 13,
    "start_time": "2022-03-24T12:19:17.838Z"
   },
   {
    "duration": 12,
    "start_time": "2022-03-24T12:19:23.277Z"
   },
   {
    "duration": 21,
    "start_time": "2022-03-24T12:24:31.461Z"
   },
   {
    "duration": 11,
    "start_time": "2022-03-24T12:24:33.612Z"
   },
   {
    "duration": 30,
    "start_time": "2022-03-24T12:27:38.582Z"
   },
   {
    "duration": 44,
    "start_time": "2022-03-24T12:27:45.174Z"
   },
   {
    "duration": 8,
    "start_time": "2022-03-24T12:28:14.345Z"
   },
   {
    "duration": 19,
    "start_time": "2022-03-24T12:28:21.791Z"
   },
   {
    "duration": 22,
    "start_time": "2022-03-24T12:29:48.720Z"
   },
   {
    "duration": 15,
    "start_time": "2022-03-24T12:30:42.006Z"
   },
   {
    "duration": 22,
    "start_time": "2022-03-24T12:30:57.335Z"
   },
   {
    "duration": 15,
    "start_time": "2022-03-24T12:31:23.632Z"
   },
   {
    "duration": 23,
    "start_time": "2022-03-24T12:31:30.758Z"
   },
   {
    "duration": 55,
    "start_time": "2022-03-24T12:35:52.127Z"
   },
   {
    "duration": 2932,
    "start_time": "2022-03-24T12:36:06.220Z"
   },
   {
    "duration": 21,
    "start_time": "2022-03-24T12:36:09.154Z"
   },
   {
    "duration": 4,
    "start_time": "2022-03-24T12:36:09.176Z"
   },
   {
    "duration": 24,
    "start_time": "2022-03-24T12:36:09.183Z"
   },
   {
    "duration": 29,
    "start_time": "2022-03-24T12:36:09.209Z"
   },
   {
    "duration": 16,
    "start_time": "2022-03-24T12:36:09.240Z"
   },
   {
    "duration": 27,
    "start_time": "2022-03-24T12:36:09.258Z"
   },
   {
    "duration": 10,
    "start_time": "2022-03-24T12:36:09.287Z"
   },
   {
    "duration": 76309,
    "start_time": "2022-03-24T12:36:09.298Z"
   },
   {
    "duration": 12,
    "start_time": "2022-03-24T12:37:25.610Z"
   },
   {
    "duration": 16,
    "start_time": "2022-03-24T12:37:25.631Z"
   },
   {
    "duration": 9,
    "start_time": "2022-03-24T12:37:25.648Z"
   },
   {
    "duration": 15,
    "start_time": "2022-03-24T12:37:25.658Z"
   },
   {
    "duration": 10,
    "start_time": "2022-03-24T12:37:25.674Z"
   },
   {
    "duration": 10,
    "start_time": "2022-03-24T12:37:25.686Z"
   },
   {
    "duration": 35,
    "start_time": "2022-03-24T12:37:25.697Z"
   },
   {
    "duration": 5,
    "start_time": "2022-03-24T12:37:25.734Z"
   },
   {
    "duration": 17,
    "start_time": "2022-03-24T12:37:25.741Z"
   },
   {
    "duration": 350,
    "start_time": "2022-03-24T12:37:25.760Z"
   },
   {
    "duration": 39,
    "start_time": "2022-03-24T12:37:26.112Z"
   },
   {
    "duration": 12,
    "start_time": "2022-03-24T12:37:26.153Z"
   },
   {
    "duration": 12,
    "start_time": "2022-03-24T12:37:26.167Z"
   },
   {
    "duration": 21,
    "start_time": "2022-03-24T12:37:26.180Z"
   },
   {
    "duration": 57,
    "start_time": "2022-03-24T12:37:26.203Z"
   },
   {
    "duration": 22,
    "start_time": "2022-03-24T12:37:26.262Z"
   },
   {
    "duration": 15,
    "start_time": "2022-03-24T12:37:26.286Z"
   },
   {
    "duration": 31,
    "start_time": "2022-03-24T12:37:26.302Z"
   },
   {
    "duration": 14,
    "start_time": "2022-03-24T12:37:26.336Z"
   },
   {
    "duration": 5,
    "start_time": "2022-03-24T12:37:26.352Z"
   },
   {
    "duration": 17,
    "start_time": "2022-03-24T12:37:26.359Z"
   },
   {
    "duration": 4,
    "start_time": "2022-03-24T12:37:26.378Z"
   },
   {
    "duration": 50,
    "start_time": "2022-03-24T12:37:26.384Z"
   },
   {
    "duration": 20,
    "start_time": "2022-03-24T12:37:26.435Z"
   },
   {
    "duration": 23,
    "start_time": "2022-03-24T12:37:26.456Z"
   },
   {
    "duration": 12,
    "start_time": "2022-03-24T12:37:26.481Z"
   },
   {
    "duration": 51,
    "start_time": "2022-03-24T12:39:12.556Z"
   },
   {
    "duration": 795,
    "start_time": "2022-03-24T12:39:19.621Z"
   },
   {
    "duration": 21,
    "start_time": "2022-03-24T12:39:21.489Z"
   },
   {
    "duration": 555,
    "start_time": "2022-03-24T13:42:16.739Z"
   },
   {
    "duration": 23,
    "start_time": "2022-03-24T13:42:17.297Z"
   },
   {
    "duration": 11,
    "start_time": "2022-03-24T13:42:17.322Z"
   },
   {
    "duration": 27,
    "start_time": "2022-03-24T13:42:17.335Z"
   },
   {
    "duration": 13,
    "start_time": "2022-03-24T13:42:17.365Z"
   },
   {
    "duration": 17,
    "start_time": "2022-03-24T13:42:17.381Z"
   },
   {
    "duration": 30,
    "start_time": "2022-03-24T13:42:17.432Z"
   },
   {
    "duration": 12,
    "start_time": "2022-03-24T13:42:17.464Z"
   },
   {
    "duration": 77467,
    "start_time": "2022-03-24T13:42:17.479Z"
   },
   {
    "duration": 11,
    "start_time": "2022-03-24T13:43:34.948Z"
   },
   {
    "duration": 22,
    "start_time": "2022-03-24T13:43:34.960Z"
   },
   {
    "duration": 11,
    "start_time": "2022-03-24T13:43:34.984Z"
   },
   {
    "duration": 19,
    "start_time": "2022-03-24T13:43:34.997Z"
   },
   {
    "duration": 8,
    "start_time": "2022-03-24T13:43:35.033Z"
   },
   {
    "duration": 12,
    "start_time": "2022-03-24T13:43:35.043Z"
   },
   {
    "duration": 12,
    "start_time": "2022-03-24T13:43:35.057Z"
   },
   {
    "duration": 6,
    "start_time": "2022-03-24T13:43:35.070Z"
   },
   {
    "duration": 9,
    "start_time": "2022-03-24T13:43:35.077Z"
   },
   {
    "duration": 344,
    "start_time": "2022-03-24T13:43:35.088Z"
   },
   {
    "duration": 31,
    "start_time": "2022-03-24T13:43:35.434Z"
   },
   {
    "duration": 12,
    "start_time": "2022-03-24T13:43:35.466Z"
   },
   {
    "duration": 13,
    "start_time": "2022-03-24T13:43:35.480Z"
   },
   {
    "duration": 48,
    "start_time": "2022-03-24T13:43:35.495Z"
   },
   {
    "duration": 33,
    "start_time": "2022-03-24T13:43:35.545Z"
   },
   {
    "duration": 22,
    "start_time": "2022-03-24T13:43:35.580Z"
   },
   {
    "duration": 15,
    "start_time": "2022-03-24T13:43:35.631Z"
   },
   {
    "duration": 11,
    "start_time": "2022-03-24T13:43:35.648Z"
   },
   {
    "duration": 15,
    "start_time": "2022-03-24T13:43:35.661Z"
   },
   {
    "duration": 6,
    "start_time": "2022-03-24T13:43:35.677Z"
   },
   {
    "duration": 48,
    "start_time": "2022-03-24T13:43:35.685Z"
   },
   {
    "duration": 5,
    "start_time": "2022-03-24T13:43:35.735Z"
   },
   {
    "duration": 18,
    "start_time": "2022-03-24T13:43:35.742Z"
   },
   {
    "duration": 16,
    "start_time": "2022-03-24T13:43:35.762Z"
   },
   {
    "duration": 31,
    "start_time": "2022-03-24T13:43:35.780Z"
   },
   {
    "duration": 13,
    "start_time": "2022-03-24T13:43:35.832Z"
   },
   {
    "duration": 52,
    "start_time": "2022-03-24T13:49:17.612Z"
   },
   {
    "duration": 482,
    "start_time": "2022-03-24T13:50:33.281Z"
   },
   {
    "duration": 20,
    "start_time": "2022-03-24T13:50:33.765Z"
   },
   {
    "duration": 4,
    "start_time": "2022-03-24T13:50:33.787Z"
   },
   {
    "duration": 25,
    "start_time": "2022-03-24T13:50:33.792Z"
   },
   {
    "duration": 11,
    "start_time": "2022-03-24T13:50:33.831Z"
   },
   {
    "duration": 17,
    "start_time": "2022-03-24T13:50:33.844Z"
   },
   {
    "duration": 26,
    "start_time": "2022-03-24T13:50:33.863Z"
   },
   {
    "duration": 41,
    "start_time": "2022-03-24T13:50:33.891Z"
   },
   {
    "duration": 469,
    "start_time": "2022-03-24T13:51:48.391Z"
   },
   {
    "duration": 21,
    "start_time": "2022-03-24T13:51:48.862Z"
   },
   {
    "duration": 4,
    "start_time": "2022-03-24T13:51:48.885Z"
   },
   {
    "duration": 36,
    "start_time": "2022-03-24T13:51:48.890Z"
   },
   {
    "duration": 11,
    "start_time": "2022-03-24T13:51:48.931Z"
   },
   {
    "duration": 15,
    "start_time": "2022-03-24T13:51:48.944Z"
   },
   {
    "duration": 26,
    "start_time": "2022-03-24T13:51:48.960Z"
   },
   {
    "duration": 46,
    "start_time": "2022-03-24T13:51:48.988Z"
   },
   {
    "duration": 504,
    "start_time": "2022-03-24T13:52:30.038Z"
   },
   {
    "duration": 20,
    "start_time": "2022-03-24T13:52:30.544Z"
   },
   {
    "duration": 13,
    "start_time": "2022-03-24T13:52:30.566Z"
   },
   {
    "duration": 29,
    "start_time": "2022-03-24T13:52:30.581Z"
   },
   {
    "duration": 15,
    "start_time": "2022-03-24T13:52:30.611Z"
   },
   {
    "duration": 18,
    "start_time": "2022-03-24T13:52:30.632Z"
   },
   {
    "duration": 26,
    "start_time": "2022-03-24T13:52:30.652Z"
   },
   {
    "duration": 10,
    "start_time": "2022-03-24T13:52:30.680Z"
   },
   {
    "duration": 77202,
    "start_time": "2022-03-24T13:52:30.691Z"
   },
   {
    "duration": 12,
    "start_time": "2022-03-24T13:53:47.896Z"
   },
   {
    "duration": 29,
    "start_time": "2022-03-24T13:53:47.910Z"
   },
   {
    "duration": 9,
    "start_time": "2022-03-24T13:53:47.941Z"
   },
   {
    "duration": 16,
    "start_time": "2022-03-24T13:53:47.952Z"
   },
   {
    "duration": 13,
    "start_time": "2022-03-24T13:53:47.969Z"
   },
   {
    "duration": 10,
    "start_time": "2022-03-24T13:53:47.984Z"
   },
   {
    "duration": 37,
    "start_time": "2022-03-24T13:53:47.995Z"
   },
   {
    "duration": 5,
    "start_time": "2022-03-24T13:53:48.034Z"
   },
   {
    "duration": 12,
    "start_time": "2022-03-24T13:53:48.040Z"
   },
   {
    "duration": 35,
    "start_time": "2022-03-24T13:53:48.054Z"
   },
   {
    "duration": 17,
    "start_time": "2022-03-24T13:53:48.090Z"
   },
   {
    "duration": 29,
    "start_time": "2022-03-24T13:53:48.109Z"
   },
   {
    "duration": 21,
    "start_time": "2022-03-24T13:53:48.140Z"
   },
   {
    "duration": 31,
    "start_time": "2022-03-24T13:53:48.163Z"
   },
   {
    "duration": 38,
    "start_time": "2022-03-24T13:53:48.195Z"
   },
   {
    "duration": 16,
    "start_time": "2022-03-24T13:53:48.235Z"
   },
   {
    "duration": 12,
    "start_time": "2022-03-24T13:53:48.252Z"
   },
   {
    "duration": 15,
    "start_time": "2022-03-24T13:53:48.265Z"
   },
   {
    "duration": 9,
    "start_time": "2022-03-24T13:53:48.283Z"
   },
   {
    "duration": 44,
    "start_time": "2022-03-24T13:53:48.294Z"
   },
   {
    "duration": 5,
    "start_time": "2022-03-24T13:53:48.339Z"
   },
   {
    "duration": 18,
    "start_time": "2022-03-24T13:53:48.347Z"
   },
   {
    "duration": 13,
    "start_time": "2022-03-24T13:53:48.367Z"
   },
   {
    "duration": 26,
    "start_time": "2022-03-24T13:53:48.382Z"
   },
   {
    "duration": 11,
    "start_time": "2022-03-24T13:53:48.433Z"
   },
   {
    "duration": 552,
    "start_time": "2022-03-24T13:55:06.217Z"
   },
   {
    "duration": 21,
    "start_time": "2022-03-24T13:55:06.771Z"
   },
   {
    "duration": 4,
    "start_time": "2022-03-24T13:55:06.794Z"
   },
   {
    "duration": 44,
    "start_time": "2022-03-24T13:55:06.800Z"
   },
   {
    "duration": 12,
    "start_time": "2022-03-24T13:55:06.846Z"
   },
   {
    "duration": 15,
    "start_time": "2022-03-24T13:55:06.859Z"
   },
   {
    "duration": 37,
    "start_time": "2022-03-24T13:55:06.875Z"
   },
   {
    "duration": 24,
    "start_time": "2022-03-24T13:55:06.913Z"
   },
   {
    "duration": 77353,
    "start_time": "2022-03-24T13:55:06.938Z"
   },
   {
    "duration": 11,
    "start_time": "2022-03-24T13:56:24.294Z"
   },
   {
    "duration": 29,
    "start_time": "2022-03-24T13:56:24.307Z"
   },
   {
    "duration": 9,
    "start_time": "2022-03-24T13:56:24.338Z"
   },
   {
    "duration": 14,
    "start_time": "2022-03-24T13:56:24.349Z"
   },
   {
    "duration": 8,
    "start_time": "2022-03-24T13:56:24.365Z"
   },
   {
    "duration": 8,
    "start_time": "2022-03-24T13:56:24.374Z"
   },
   {
    "duration": 9,
    "start_time": "2022-03-24T13:56:24.384Z"
   },
   {
    "duration": 5,
    "start_time": "2022-03-24T13:56:24.395Z"
   },
   {
    "duration": 7,
    "start_time": "2022-03-24T13:56:24.432Z"
   },
   {
    "duration": 33,
    "start_time": "2022-03-24T13:56:24.440Z"
   },
   {
    "duration": 8,
    "start_time": "2022-03-24T13:56:24.475Z"
   },
   {
    "duration": 14,
    "start_time": "2022-03-24T13:56:24.485Z"
   },
   {
    "duration": 47,
    "start_time": "2022-03-24T13:56:24.501Z"
   },
   {
    "duration": 33,
    "start_time": "2022-03-24T13:56:24.550Z"
   },
   {
    "duration": 21,
    "start_time": "2022-03-24T13:56:24.584Z"
   },
   {
    "duration": 36,
    "start_time": "2022-03-24T13:56:24.607Z"
   },
   {
    "duration": 12,
    "start_time": "2022-03-24T13:56:24.644Z"
   },
   {
    "duration": 19,
    "start_time": "2022-03-24T13:56:24.658Z"
   },
   {
    "duration": 7,
    "start_time": "2022-03-24T13:56:24.682Z"
   },
   {
    "duration": 50,
    "start_time": "2022-03-24T13:56:24.691Z"
   },
   {
    "duration": 8,
    "start_time": "2022-03-24T13:56:24.743Z"
   },
   {
    "duration": 16,
    "start_time": "2022-03-24T13:56:24.753Z"
   },
   {
    "duration": 13,
    "start_time": "2022-03-24T13:56:24.771Z"
   },
   {
    "duration": 53,
    "start_time": "2022-03-24T13:56:24.786Z"
   },
   {
    "duration": 54,
    "start_time": "2022-03-24T14:01:10.161Z"
   },
   {
    "duration": 506,
    "start_time": "2022-03-24T14:01:16.064Z"
   },
   {
    "duration": 20,
    "start_time": "2022-03-24T14:01:17.558Z"
   },
   {
    "duration": 5,
    "start_time": "2022-03-24T14:01:18.986Z"
   },
   {
    "duration": 22,
    "start_time": "2022-03-24T14:01:19.593Z"
   },
   {
    "duration": 11,
    "start_time": "2022-03-24T14:01:20.554Z"
   },
   {
    "duration": 16,
    "start_time": "2022-03-24T14:01:21.058Z"
   },
   {
    "duration": 29,
    "start_time": "2022-03-24T14:01:21.577Z"
   },
   {
    "duration": 11,
    "start_time": "2022-03-24T14:01:22.117Z"
   },
   {
    "duration": 75827,
    "start_time": "2022-03-24T14:01:22.642Z"
   },
   {
    "duration": 12,
    "start_time": "2022-03-24T14:02:38.471Z"
   },
   {
    "duration": 35,
    "start_time": "2022-03-24T14:02:38.484Z"
   },
   {
    "duration": 16,
    "start_time": "2022-03-24T14:02:38.521Z"
   },
   {
    "duration": 25,
    "start_time": "2022-03-24T14:02:38.539Z"
   },
   {
    "duration": 27,
    "start_time": "2022-03-24T14:02:38.565Z"
   },
   {
    "duration": 31,
    "start_time": "2022-03-24T14:02:38.594Z"
   },
   {
    "duration": 26,
    "start_time": "2022-03-24T14:02:38.627Z"
   },
   {
    "duration": 23,
    "start_time": "2022-03-24T14:02:38.654Z"
   },
   {
    "duration": 29,
    "start_time": "2022-03-24T14:02:38.679Z"
   },
   {
    "duration": 44,
    "start_time": "2022-03-24T14:02:38.710Z"
   },
   {
    "duration": 28,
    "start_time": "2022-03-24T14:02:38.756Z"
   },
   {
    "duration": 33,
    "start_time": "2022-03-24T14:02:38.786Z"
   },
   {
    "duration": 27,
    "start_time": "2022-03-24T14:02:38.821Z"
   },
   {
    "duration": 48,
    "start_time": "2022-03-24T14:02:38.850Z"
   },
   {
    "duration": 20,
    "start_time": "2022-03-24T14:02:38.901Z"
   },
   {
    "duration": 29,
    "start_time": "2022-03-24T14:02:38.923Z"
   },
   {
    "duration": 30,
    "start_time": "2022-03-24T14:02:38.954Z"
   },
   {
    "duration": 27,
    "start_time": "2022-03-24T14:02:38.986Z"
   },
   {
    "duration": 14,
    "start_time": "2022-03-24T14:02:39.014Z"
   },
   {
    "duration": 25,
    "start_time": "2022-03-24T14:02:39.030Z"
   },
   {
    "duration": 25,
    "start_time": "2022-03-24T14:02:39.057Z"
   },
   {
    "duration": 34,
    "start_time": "2022-03-24T14:02:39.084Z"
   },
   {
    "duration": 21,
    "start_time": "2022-03-24T14:02:39.119Z"
   },
   {
    "duration": 45,
    "start_time": "2022-03-24T14:02:39.141Z"
   },
   {
    "duration": 520,
    "start_time": "2022-03-24T14:21:59.513Z"
   },
   {
    "duration": 20,
    "start_time": "2022-03-24T14:22:01.678Z"
   },
   {
    "duration": 4,
    "start_time": "2022-03-24T14:22:03.729Z"
   },
   {
    "duration": 13,
    "start_time": "2022-03-24T14:22:05.228Z"
   },
   {
    "duration": 11,
    "start_time": "2022-03-24T14:22:11.261Z"
   },
   {
    "duration": 16,
    "start_time": "2022-03-24T14:22:16.215Z"
   },
   {
    "duration": 24,
    "start_time": "2022-03-24T14:22:30.572Z"
   },
   {
    "duration": 11,
    "start_time": "2022-03-24T14:22:51.014Z"
   },
   {
    "duration": 76072,
    "start_time": "2022-03-24T14:22:56.650Z"
   },
   {
    "duration": 14,
    "start_time": "2022-03-24T14:24:29.240Z"
   },
   {
    "duration": 3223,
    "start_time": "2022-03-24T14:24:54.995Z"
   },
   {
    "duration": 79,
    "start_time": "2022-03-24T14:25:08.645Z"
   },
   {
    "duration": 13,
    "start_time": "2022-03-24T14:25:10.298Z"
   },
   {
    "duration": 4,
    "start_time": "2022-03-24T14:25:12.154Z"
   },
   {
    "duration": 12,
    "start_time": "2022-03-24T14:25:13.027Z"
   },
   {
    "duration": 12,
    "start_time": "2022-03-24T14:25:14.284Z"
   },
   {
    "duration": 14,
    "start_time": "2022-03-24T14:25:15.350Z"
   },
   {
    "duration": 23,
    "start_time": "2022-03-24T14:25:16.436Z"
   },
   {
    "duration": 10,
    "start_time": "2022-03-24T14:25:17.465Z"
   },
   {
    "duration": 76173,
    "start_time": "2022-03-24T14:25:18.611Z"
   },
   {
    "duration": 4,
    "start_time": "2022-03-24T14:26:38.123Z"
   },
   {
    "duration": 20,
    "start_time": "2022-03-24T14:26:42.045Z"
   },
   {
    "duration": 16,
    "start_time": "2022-03-24T14:28:06.395Z"
   },
   {
    "duration": 10,
    "start_time": "2022-03-24T14:28:16.923Z"
   },
   {
    "duration": 12,
    "start_time": "2022-03-24T14:28:20.445Z"
   },
   {
    "duration": 8,
    "start_time": "2022-03-24T14:28:23.075Z"
   },
   {
    "duration": 7,
    "start_time": "2022-03-24T14:28:57.916Z"
   },
   {
    "duration": 8,
    "start_time": "2022-03-24T14:28:59.564Z"
   },
   {
    "duration": 4,
    "start_time": "2022-03-24T14:29:36.884Z"
   },
   {
    "duration": 31,
    "start_time": "2022-03-24T14:29:51.756Z"
   },
   {
    "duration": 8,
    "start_time": "2022-03-24T14:30:08.988Z"
   },
   {
    "duration": 12,
    "start_time": "2022-03-24T14:30:19.396Z"
   },
   {
    "duration": 18,
    "start_time": "2022-03-24T14:30:30.892Z"
   },
   {
    "duration": 30,
    "start_time": "2022-03-24T14:30:33.976Z"
   },
   {
    "duration": 16,
    "start_time": "2022-03-24T14:30:44.245Z"
   },
   {
    "duration": 29,
    "start_time": "2022-03-24T14:30:48.484Z"
   },
   {
    "duration": 21,
    "start_time": "2022-03-24T14:31:11.671Z"
   },
   {
    "duration": 12,
    "start_time": "2022-03-24T14:31:29.142Z"
   },
   {
    "duration": 19,
    "start_time": "2022-03-24T14:31:33.252Z"
   },
   {
    "duration": 30,
    "start_time": "2022-03-24T14:31:35.372Z"
   },
   {
    "duration": 17,
    "start_time": "2022-03-24T14:32:05.556Z"
   },
   {
    "duration": 30,
    "start_time": "2022-03-24T14:32:15.260Z"
   },
   {
    "duration": 13,
    "start_time": "2022-03-24T14:32:30.680Z"
   },
   {
    "duration": 13,
    "start_time": "2022-03-24T14:32:32.652Z"
   },
   {
    "duration": 13,
    "start_time": "2022-03-24T14:33:59.156Z"
   },
   {
    "duration": 17,
    "start_time": "2022-03-24T14:34:01.156Z"
   },
   {
    "duration": 5,
    "start_time": "2022-03-24T14:34:15.533Z"
   },
   {
    "duration": 15,
    "start_time": "2022-03-24T14:34:18.717Z"
   },
   {
    "duration": 5,
    "start_time": "2022-03-24T14:34:25.261Z"
   },
   {
    "duration": 14,
    "start_time": "2022-03-24T14:34:28.295Z"
   },
   {
    "duration": 11,
    "start_time": "2022-03-24T14:34:30.628Z"
   },
   {
    "duration": 22,
    "start_time": "2022-03-24T14:34:38.255Z"
   },
   {
    "duration": 54,
    "start_time": "2022-03-24T14:36:02.311Z"
   },
   {
    "duration": 505,
    "start_time": "2022-03-24T14:36:09.889Z"
   },
   {
    "duration": 21,
    "start_time": "2022-03-24T14:36:10.396Z"
   },
   {
    "duration": 14,
    "start_time": "2022-03-24T14:36:10.418Z"
   },
   {
    "duration": 13,
    "start_time": "2022-03-24T14:36:10.434Z"
   },
   {
    "duration": 16,
    "start_time": "2022-03-24T14:36:10.449Z"
   },
   {
    "duration": 14,
    "start_time": "2022-03-24T14:36:10.467Z"
   },
   {
    "duration": 49,
    "start_time": "2022-03-24T14:36:10.484Z"
   },
   {
    "duration": 11,
    "start_time": "2022-03-24T14:36:10.535Z"
   },
   {
    "duration": 77298,
    "start_time": "2022-03-24T14:36:10.547Z"
   },
   {
    "duration": 3,
    "start_time": "2022-03-24T14:37:27.847Z"
   },
   {
    "duration": 20,
    "start_time": "2022-03-24T14:37:27.851Z"
   },
   {
    "duration": 9,
    "start_time": "2022-03-24T14:37:27.873Z"
   },
   {
    "duration": 13,
    "start_time": "2022-03-24T14:37:27.884Z"
   },
   {
    "duration": 7,
    "start_time": "2022-03-24T14:37:27.899Z"
   },
   {
    "duration": 8,
    "start_time": "2022-03-24T14:37:27.932Z"
   },
   {
    "duration": 10,
    "start_time": "2022-03-24T14:37:27.942Z"
   },
   {
    "duration": 7,
    "start_time": "2022-03-24T14:37:27.954Z"
   },
   {
    "duration": 32,
    "start_time": "2022-03-24T14:37:27.963Z"
   },
   {
    "duration": 36,
    "start_time": "2022-03-24T14:37:27.997Z"
   },
   {
    "duration": 19,
    "start_time": "2022-03-24T14:37:28.034Z"
   },
   {
    "duration": 18,
    "start_time": "2022-03-24T14:37:28.055Z"
   },
   {
    "duration": 30,
    "start_time": "2022-03-24T14:37:28.075Z"
   },
   {
    "duration": 34,
    "start_time": "2022-03-24T14:37:28.107Z"
   },
   {
    "duration": 16,
    "start_time": "2022-03-24T14:37:28.143Z"
   },
   {
    "duration": 15,
    "start_time": "2022-03-24T14:37:28.161Z"
   },
   {
    "duration": 15,
    "start_time": "2022-03-24T14:37:28.178Z"
   },
   {
    "duration": 9,
    "start_time": "2022-03-24T14:37:28.195Z"
   },
   {
    "duration": 38,
    "start_time": "2022-03-24T14:37:28.207Z"
   },
   {
    "duration": 6,
    "start_time": "2022-03-24T14:37:28.247Z"
   },
   {
    "duration": 15,
    "start_time": "2022-03-24T14:37:28.255Z"
   },
   {
    "duration": 12,
    "start_time": "2022-03-24T14:37:28.272Z"
   },
   {
    "duration": 56,
    "start_time": "2022-03-24T14:37:28.286Z"
   },
   {
    "duration": 496,
    "start_time": "2022-03-24T14:45:07.746Z"
   },
   {
    "duration": 19,
    "start_time": "2022-03-24T14:45:08.245Z"
   },
   {
    "duration": 4,
    "start_time": "2022-03-24T14:45:08.266Z"
   },
   {
    "duration": 14,
    "start_time": "2022-03-24T14:45:08.272Z"
   },
   {
    "duration": 15,
    "start_time": "2022-03-24T14:45:08.287Z"
   },
   {
    "duration": 35,
    "start_time": "2022-03-24T14:45:08.304Z"
   },
   {
    "duration": 23,
    "start_time": "2022-03-24T14:45:08.341Z"
   },
   {
    "duration": 11,
    "start_time": "2022-03-24T14:45:08.366Z"
   },
   {
    "duration": 75284,
    "start_time": "2022-03-24T14:45:08.379Z"
   },
   {
    "duration": 3,
    "start_time": "2022-03-24T14:46:23.666Z"
   },
   {
    "duration": 21,
    "start_time": "2022-03-24T14:46:23.672Z"
   },
   {
    "duration": 9,
    "start_time": "2022-03-24T14:46:23.695Z"
   },
   {
    "duration": 33,
    "start_time": "2022-03-24T14:46:23.706Z"
   },
   {
    "duration": 7,
    "start_time": "2022-03-24T14:46:23.740Z"
   },
   {
    "duration": 9,
    "start_time": "2022-03-24T14:46:23.749Z"
   },
   {
    "duration": 9,
    "start_time": "2022-03-24T14:46:23.760Z"
   },
   {
    "duration": 5,
    "start_time": "2022-03-24T14:46:23.771Z"
   },
   {
    "duration": 57,
    "start_time": "2022-03-24T14:46:23.777Z"
   },
   {
    "duration": 8,
    "start_time": "2022-03-24T14:46:23.835Z"
   },
   {
    "duration": 16,
    "start_time": "2022-03-24T14:46:23.845Z"
   },
   {
    "duration": 24,
    "start_time": "2022-03-24T14:46:23.864Z"
   },
   {
    "duration": 68,
    "start_time": "2022-03-24T14:46:23.889Z"
   },
   {
    "duration": 12,
    "start_time": "2022-03-24T14:46:23.959Z"
   },
   {
    "duration": 16,
    "start_time": "2022-03-24T14:46:23.973Z"
   },
   {
    "duration": 12,
    "start_time": "2022-03-24T14:46:23.992Z"
   },
   {
    "duration": 16,
    "start_time": "2022-03-24T14:46:24.032Z"
   },
   {
    "duration": 6,
    "start_time": "2022-03-24T14:46:24.050Z"
   },
   {
    "duration": 20,
    "start_time": "2022-03-24T14:46:24.059Z"
   },
   {
    "duration": 9,
    "start_time": "2022-03-24T14:46:24.080Z"
   },
   {
    "duration": 42,
    "start_time": "2022-03-24T14:46:24.091Z"
   },
   {
    "duration": 12,
    "start_time": "2022-03-24T14:46:24.134Z"
   },
   {
    "duration": 30,
    "start_time": "2022-03-24T14:46:24.148Z"
   },
   {
    "duration": 522,
    "start_time": "2022-03-24T16:40:58.327Z"
   },
   {
    "duration": 19,
    "start_time": "2022-03-24T16:40:58.852Z"
   },
   {
    "duration": 5,
    "start_time": "2022-03-24T16:40:58.874Z"
   },
   {
    "duration": 16,
    "start_time": "2022-03-24T16:40:58.881Z"
   },
   {
    "duration": 34,
    "start_time": "2022-03-24T16:40:58.899Z"
   },
   {
    "duration": 14,
    "start_time": "2022-03-24T16:40:58.935Z"
   },
   {
    "duration": 31,
    "start_time": "2022-03-24T16:40:58.951Z"
   },
   {
    "duration": 11,
    "start_time": "2022-03-24T16:40:58.984Z"
   },
   {
    "duration": 76588,
    "start_time": "2022-03-24T16:40:58.996Z"
   },
   {
    "duration": 3,
    "start_time": "2022-03-24T16:42:15.587Z"
   },
   {
    "duration": 21,
    "start_time": "2022-03-24T16:42:15.592Z"
   },
   {
    "duration": 21,
    "start_time": "2022-03-24T16:42:15.614Z"
   },
   {
    "duration": 14,
    "start_time": "2022-03-24T16:42:15.637Z"
   },
   {
    "duration": 9,
    "start_time": "2022-03-24T16:42:15.653Z"
   },
   {
    "duration": 9,
    "start_time": "2022-03-24T16:42:15.664Z"
   },
   {
    "duration": 9,
    "start_time": "2022-03-24T16:42:15.675Z"
   },
   {
    "duration": 8,
    "start_time": "2022-03-24T16:42:15.686Z"
   },
   {
    "duration": 59,
    "start_time": "2022-03-24T16:42:15.696Z"
   },
   {
    "duration": 8,
    "start_time": "2022-03-24T16:42:15.757Z"
   },
   {
    "duration": 16,
    "start_time": "2022-03-24T16:42:15.767Z"
   },
   {
    "duration": 20,
    "start_time": "2022-03-24T16:42:15.785Z"
   },
   {
    "duration": 56,
    "start_time": "2022-03-24T16:42:15.807Z"
   },
   {
    "duration": 13,
    "start_time": "2022-03-24T16:42:15.865Z"
   },
   {
    "duration": 17,
    "start_time": "2022-03-24T16:42:15.880Z"
   },
   {
    "duration": 33,
    "start_time": "2022-03-24T16:42:15.899Z"
   },
   {
    "duration": 16,
    "start_time": "2022-03-24T16:42:15.934Z"
   },
   {
    "duration": 6,
    "start_time": "2022-03-24T16:42:15.952Z"
   },
   {
    "duration": 17,
    "start_time": "2022-03-24T16:42:15.962Z"
   },
   {
    "duration": 4,
    "start_time": "2022-03-24T16:42:15.982Z"
   },
   {
    "duration": 48,
    "start_time": "2022-03-24T16:42:15.988Z"
   },
   {
    "duration": 15,
    "start_time": "2022-03-24T16:42:16.037Z"
   },
   {
    "duration": 26,
    "start_time": "2022-03-24T16:42:16.054Z"
   },
   {
    "duration": 50,
    "start_time": "2022-03-25T07:13:11.502Z"
   },
   {
    "duration": 458,
    "start_time": "2022-03-25T07:13:15.745Z"
   },
   {
    "duration": 27,
    "start_time": "2022-03-25T07:13:16.806Z"
   },
   {
    "duration": 3,
    "start_time": "2022-03-25T07:13:18.162Z"
   },
   {
    "duration": 12,
    "start_time": "2022-03-25T07:13:18.715Z"
   },
   {
    "duration": 12,
    "start_time": "2022-03-25T07:13:19.903Z"
   },
   {
    "duration": 15,
    "start_time": "2022-03-25T07:13:20.481Z"
   },
   {
    "duration": 27,
    "start_time": "2022-03-25T07:13:21.338Z"
   },
   {
    "duration": 12,
    "start_time": "2022-03-25T07:13:21.927Z"
   },
   {
    "duration": 75438,
    "start_time": "2022-03-25T07:13:23.011Z"
   },
   {
    "duration": 4,
    "start_time": "2022-03-25T07:16:16.764Z"
   },
   {
    "duration": 17,
    "start_time": "2022-03-25T07:16:18.507Z"
   },
   {
    "duration": 10,
    "start_time": "2022-03-25T07:16:19.654Z"
   },
   {
    "duration": 11,
    "start_time": "2022-03-25T07:16:20.560Z"
   },
   {
    "duration": 8,
    "start_time": "2022-03-25T07:16:21.318Z"
   },
   {
    "duration": 8,
    "start_time": "2022-03-25T07:16:22.168Z"
   },
   {
    "duration": 9,
    "start_time": "2022-03-25T07:16:23.075Z"
   },
   {
    "duration": 6,
    "start_time": "2022-03-25T07:16:23.843Z"
   },
   {
    "duration": 32,
    "start_time": "2022-03-25T07:16:25.121Z"
   },
   {
    "duration": 9,
    "start_time": "2022-03-25T07:16:26.791Z"
   },
   {
    "duration": 14,
    "start_time": "2022-03-25T07:16:29.375Z"
   },
   {
    "duration": 19,
    "start_time": "2022-03-25T07:16:31.313Z"
   },
   {
    "duration": 37,
    "start_time": "2022-03-25T07:16:32.013Z"
   },
   {
    "duration": 34,
    "start_time": "2022-03-25T07:16:53.041Z"
   },
   {
    "duration": 13,
    "start_time": "2022-03-25T07:16:57.879Z"
   },
   {
    "duration": 13,
    "start_time": "2022-03-25T07:16:59.354Z"
   },
   {
    "duration": 13,
    "start_time": "2022-03-25T07:17:00.363Z"
   },
   {
    "duration": 16,
    "start_time": "2022-03-25T07:17:01.305Z"
   },
   {
    "duration": 5,
    "start_time": "2022-03-25T07:17:03.220Z"
   },
   {
    "duration": 18,
    "start_time": "2022-03-25T07:17:04.089Z"
   },
   {
    "duration": 5,
    "start_time": "2022-03-25T07:17:05.754Z"
   },
   {
    "duration": 15,
    "start_time": "2022-03-25T07:17:06.490Z"
   },
   {
    "duration": 11,
    "start_time": "2022-03-25T07:17:07.208Z"
   },
   {
    "duration": 23,
    "start_time": "2022-03-25T07:17:09.589Z"
   },
   {
    "duration": 570,
    "start_time": "2022-04-05T09:11:34.879Z"
   },
   {
    "duration": 27,
    "start_time": "2022-04-05T09:11:35.452Z"
   },
   {
    "duration": 5,
    "start_time": "2022-04-05T09:11:35.481Z"
   },
   {
    "duration": 22,
    "start_time": "2022-04-05T09:11:35.489Z"
   },
   {
    "duration": 23,
    "start_time": "2022-04-05T09:11:35.513Z"
   },
   {
    "duration": 33,
    "start_time": "2022-04-05T09:11:35.538Z"
   },
   {
    "duration": 33,
    "start_time": "2022-04-05T09:11:35.573Z"
   },
   {
    "duration": 13,
    "start_time": "2022-04-05T09:11:35.608Z"
   },
   {
    "duration": 102082,
    "start_time": "2022-04-05T09:11:35.623Z"
   },
   {
    "duration": 5,
    "start_time": "2022-04-05T09:13:17.709Z"
   },
   {
    "duration": 26,
    "start_time": "2022-04-05T09:13:17.715Z"
   },
   {
    "duration": 32,
    "start_time": "2022-04-05T09:13:17.743Z"
   },
   {
    "duration": 17,
    "start_time": "2022-04-05T09:13:17.777Z"
   },
   {
    "duration": 10,
    "start_time": "2022-04-05T09:13:17.796Z"
   },
   {
    "duration": 10,
    "start_time": "2022-04-05T09:13:17.808Z"
   },
   {
    "duration": 55,
    "start_time": "2022-04-05T09:13:17.820Z"
   },
   {
    "duration": 8,
    "start_time": "2022-04-05T09:13:17.877Z"
   },
   {
    "duration": 16,
    "start_time": "2022-04-05T09:13:17.887Z"
   },
   {
    "duration": 8,
    "start_time": "2022-04-05T09:13:17.906Z"
   },
   {
    "duration": 52,
    "start_time": "2022-04-05T09:13:17.916Z"
   },
   {
    "duration": 38,
    "start_time": "2022-04-05T09:13:17.970Z"
   },
   {
    "duration": 10,
    "start_time": "2022-04-05T09:13:18.011Z"
   },
   {
    "duration": 46,
    "start_time": "2022-04-05T09:13:18.024Z"
   },
   {
    "duration": 26,
    "start_time": "2022-04-05T09:13:18.072Z"
   },
   {
    "duration": 69,
    "start_time": "2022-04-05T09:13:18.100Z"
   },
   {
    "duration": 14,
    "start_time": "2022-04-05T09:13:18.171Z"
   },
   {
    "duration": 33,
    "start_time": "2022-04-05T09:13:18.187Z"
   },
   {
    "duration": 23,
    "start_time": "2022-04-05T09:13:18.225Z"
   },
   {
    "duration": 24,
    "start_time": "2022-04-05T09:13:18.250Z"
   },
   {
    "duration": 17,
    "start_time": "2022-04-05T09:13:18.276Z"
   },
   {
    "duration": 52,
    "start_time": "2022-04-05T09:13:18.295Z"
   },
   {
    "duration": 9,
    "start_time": "2022-04-05T09:13:18.349Z"
   },
   {
    "duration": 37,
    "start_time": "2022-04-05T09:13:18.360Z"
   },
   {
    "duration": 36,
    "start_time": "2022-04-05T09:13:18.399Z"
   },
   {
    "duration": 564,
    "start_time": "2022-04-06T05:53:16.235Z"
   },
   {
    "duration": 97,
    "start_time": "2022-04-06T05:53:16.802Z"
   },
   {
    "duration": 28,
    "start_time": "2022-04-06T05:53:16.902Z"
   },
   {
    "duration": 65,
    "start_time": "2022-04-06T05:53:16.933Z"
   },
   {
    "duration": 5,
    "start_time": "2022-04-06T05:53:17.002Z"
   },
   {
    "duration": 16,
    "start_time": "2022-04-06T05:53:17.010Z"
   },
   {
    "duration": 17,
    "start_time": "2022-04-06T05:53:17.028Z"
   },
   {
    "duration": 54,
    "start_time": "2022-04-06T05:53:17.047Z"
   },
   {
    "duration": 33,
    "start_time": "2022-04-06T05:53:17.103Z"
   },
   {
    "duration": 14,
    "start_time": "2022-04-06T05:53:17.139Z"
   },
   {
    "duration": 110624,
    "start_time": "2022-04-06T05:53:17.183Z"
   },
   {
    "duration": 10,
    "start_time": "2022-04-06T05:55:07.809Z"
   },
   {
    "duration": 48,
    "start_time": "2022-04-06T05:55:07.821Z"
   },
   {
    "duration": 15,
    "start_time": "2022-04-06T05:55:07.874Z"
   },
   {
    "duration": 16,
    "start_time": "2022-04-06T05:55:07.892Z"
   },
   {
    "duration": 46,
    "start_time": "2022-04-06T05:55:07.910Z"
   },
   {
    "duration": 14,
    "start_time": "2022-04-06T05:55:07.958Z"
   },
   {
    "duration": 43,
    "start_time": "2022-04-06T05:55:07.974Z"
   },
   {
    "duration": 16,
    "start_time": "2022-04-06T05:55:08.019Z"
   },
   {
    "duration": 27,
    "start_time": "2022-04-06T05:55:08.037Z"
   },
   {
    "duration": 29,
    "start_time": "2022-04-06T05:55:08.067Z"
   },
   {
    "duration": 18,
    "start_time": "2022-04-06T05:55:08.098Z"
   },
   {
    "duration": 75,
    "start_time": "2022-04-06T05:55:08.118Z"
   },
   {
    "duration": 34,
    "start_time": "2022-04-06T05:55:08.196Z"
   },
   {
    "duration": 26,
    "start_time": "2022-04-06T05:55:08.233Z"
   },
   {
    "duration": 53,
    "start_time": "2022-04-06T05:55:08.262Z"
   },
   {
    "duration": 58,
    "start_time": "2022-04-06T05:55:08.317Z"
   },
   {
    "duration": 16,
    "start_time": "2022-04-06T05:55:08.377Z"
   },
   {
    "duration": 59,
    "start_time": "2022-04-06T05:55:08.396Z"
   },
   {
    "duration": 24,
    "start_time": "2022-04-06T05:55:08.457Z"
   },
   {
    "duration": 44,
    "start_time": "2022-04-06T05:55:08.483Z"
   },
   {
    "duration": 10,
    "start_time": "2022-04-06T05:55:08.530Z"
   },
   {
    "duration": 37,
    "start_time": "2022-04-06T05:55:08.543Z"
   },
   {
    "duration": 32,
    "start_time": "2022-04-06T05:55:08.583Z"
   },
   {
    "duration": 53,
    "start_time": "2022-04-06T05:55:08.618Z"
   },
   {
    "duration": 50,
    "start_time": "2022-04-06T05:55:08.673Z"
   }
  ],
  "kernelspec": {
   "display_name": "Python 3 (ipykernel)",
   "language": "python",
   "name": "python3"
  },
  "language_info": {
   "codemirror_mode": {
    "name": "ipython",
    "version": 3
   },
   "file_extension": ".py",
   "mimetype": "text/x-python",
   "name": "python",
   "nbconvert_exporter": "python",
   "pygments_lexer": "ipython3",
   "version": "3.9.12"
  },
  "toc": {
   "base_numbering": 1,
   "nav_menu": {},
   "number_sections": true,
   "sideBar": true,
   "skip_h1_title": true,
   "title_cell": "Table of Contents",
   "title_sidebar": "Contents",
   "toc_cell": false,
   "toc_position": {},
   "toc_section_display": true,
   "toc_window_display": false
  }
 },
 "nbformat": 4,
 "nbformat_minor": 5
}
