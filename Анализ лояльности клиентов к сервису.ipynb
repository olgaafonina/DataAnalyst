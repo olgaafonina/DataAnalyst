{
 "cells": [
  {
   "cell_type": "code",
   "execution_count": 37,
   "id": "5d4fd013",
   "metadata": {},
   "outputs": [],
   "source": [
    "import pandas as pd\n",
    "from sqlalchemy import create_engine"
   ]
  },
  {
   "cell_type": "code",
   "execution_count": 16,
   "id": "97c34c8d",
   "metadata": {},
   "outputs": [],
   "source": [
    "path_to_db = '/datasets/telecomm_csi.db'"
   ]
  },
  {
   "cell_type": "code",
   "execution_count": 17,
   "id": "c75fef84",
   "metadata": {},
   "outputs": [],
   "source": [
    "engine = create_engine(f'sqlite:///{path_to_db}', echo = False)"
   ]
  },
  {
   "cell_type": "code",
   "execution_count": 18,
   "id": "eae5e0ac",
   "metadata": {},
   "outputs": [],
   "source": [
    "query = \"\"\"\n",
    "SELECT SUBSTR(tab.user_id, 1) as user_id,\n",
    "       SUBSTR(tab.lt_day, 1) as lt_day,\n",
    "       SUBSTR(tab.is_new, 1) as is_new,\n",
    "       SUBSTR(tab.age, 1) as age,\n",
    "       SUBSTR(tab.gender_segment, 1) as gender_segment,\n",
    "       SUBSTR(tab.os_name, 1) as os_name,\n",
    "       SUBSTR(tab.cpe_type_name, 1) as cpe_type_name,\n",
    "       SUBSTR(tab.city, 1) as city,\n",
    "       SUBSTR(tab.age_title, 1) as age_title,\n",
    "       SUBSTR(tab.traffic_title, 1) as traffic_title,\n",
    "       SUBSTR(tab.lifetime_title, 1) as lifetime_title,\n",
    "       SUBSTR(tab.nps_score, 1) as nps_score,\n",
    "       SUBSTR(tab.nps_group, 1) as nps_group\n",
    "       \n",
    "FROM\n",
    "(SELECT u.user_id as user_id,\n",
    "       u.lt_day as lt_day,\n",
    "       CASE\n",
    "          WHEN u.lt_day <= 365 THEN 'new'\n",
    "          ELSE 'old'\n",
    "       END as is_new,\n",
    "       u.age as age,\n",
    "       CAST(u.gender_segment as varchar) as gender_segment,\n",
    "       u.os_name as os_name,\n",
    "       u.cpe_type_name as cpe_type_name,\n",
    "       l.country as country,\n",
    "       l.city as city,\n",
    "       a.bucket_min,\n",
    "       a.bucket_max,\n",
    "       a.title as age_title,\n",
    "       t.bucket_min,\n",
    "       t.bucket_max,\n",
    "       t.title as traffic_title,\n",
    "       ls.bucket_min,\n",
    "       ls.bucket_max,\n",
    "       ls.title as lifetime_title,\n",
    "       u.nps_score as nps_score,\n",
    "       CASE \n",
    "         WHEN u.nps_score BETWEEN 9 AND 10 THEN 'promoters'\n",
    "         WHEN u.nps_score BETWEEN 7 AND 8 THEN 'passives'\n",
    "         ELSE 'detractors'\n",
    "       END as nps_group\n",
    "FROM user as u\n",
    "INNER JOIN location as l on u.location_id = l.location_id\n",
    "INNER JOIN age_segment as a ON u.age_gr_id = a.age_gr_id\n",
    "INNER JOIN traffic_segment as t ON u.tr_gr_id = t.tr_gr_id \n",
    "INNER JOIN lifetime_segment as ls ON u.lt_gr_id = ls.lt_gr_id) as tab \n",
    "\"\"\""
   ]
  },
  {
   "cell_type": "code",
   "execution_count": 36,
   "id": "f78ff622",
   "metadata": {},
   "outputs": [
    {
     "data": {
      "text/html": [
       "<div>\n",
       "<style scoped>\n",
       "    .dataframe tbody tr th:only-of-type {\n",
       "        vertical-align: middle;\n",
       "    }\n",
       "\n",
       "    .dataframe tbody tr th {\n",
       "        vertical-align: top;\n",
       "    }\n",
       "\n",
       "    .dataframe thead th {\n",
       "        text-align: right;\n",
       "    }\n",
       "</style>\n",
       "<table border=\"1\" class=\"dataframe\">\n",
       "  <thead>\n",
       "    <tr style=\"text-align: right;\">\n",
       "      <th></th>\n",
       "      <th>age_segment</th>\n",
       "    </tr>\n",
       "  </thead>\n",
       "  <tbody>\n",
       "    <tr>\n",
       "      <th>0</th>\n",
       "      <td>до 16</td>\n",
       "    </tr>\n",
       "    <tr>\n",
       "      <th>1</th>\n",
       "      <td>16-24</td>\n",
       "    </tr>\n",
       "    <tr>\n",
       "      <th>2</th>\n",
       "      <td>25-34</td>\n",
       "    </tr>\n",
       "    <tr>\n",
       "      <th>3</th>\n",
       "      <td>35-44</td>\n",
       "    </tr>\n",
       "    <tr>\n",
       "      <th>4</th>\n",
       "      <td>45-54</td>\n",
       "    </tr>\n",
       "    <tr>\n",
       "      <th>5</th>\n",
       "      <td>55-64</td>\n",
       "    </tr>\n",
       "    <tr>\n",
       "      <th>6</th>\n",
       "      <td>66 +</td>\n",
       "    </tr>\n",
       "    <tr>\n",
       "      <th>7</th>\n",
       "      <td>n/a</td>\n",
       "    </tr>\n",
       "  </tbody>\n",
       "</table>\n",
       "</div>"
      ],
      "text/plain": [
       "  age_segment\n",
       "0       до 16\n",
       "1       16-24\n",
       "2       25-34\n",
       "3       35-44\n",
       "4       45-54\n",
       "5       55-64\n",
       "6        66 +\n",
       "7         n/a"
      ]
     },
     "execution_count": 36,
     "metadata": {},
     "output_type": "execute_result"
    }
   ],
   "source": [
    "query = '''SELECT \n",
    "                SUBSTR(title, 4) AS age_segment\n",
    "           FROM age_segment\n",
    "        '''\n",
    "\n",
    "pd.read_sql(query, engine) "
   ]
  },
  {
   "cell_type": "code",
   "execution_count": 19,
   "id": "c7ca1abc",
   "metadata": {},
   "outputs": [
    {
     "data": {
      "text/html": [
       "<div>\n",
       "<style scoped>\n",
       "    .dataframe tbody tr th:only-of-type {\n",
       "        vertical-align: middle;\n",
       "    }\n",
       "\n",
       "    .dataframe tbody tr th {\n",
       "        vertical-align: top;\n",
       "    }\n",
       "\n",
       "    .dataframe thead th {\n",
       "        text-align: right;\n",
       "    }\n",
       "</style>\n",
       "<table border=\"1\" class=\"dataframe\">\n",
       "  <thead>\n",
       "    <tr style=\"text-align: right;\">\n",
       "      <th></th>\n",
       "      <th>user_id</th>\n",
       "      <th>lt_day</th>\n",
       "      <th>is_new</th>\n",
       "      <th>age</th>\n",
       "      <th>gender_segment</th>\n",
       "      <th>os_name</th>\n",
       "      <th>cpe_type_name</th>\n",
       "      <th>city</th>\n",
       "      <th>age_title</th>\n",
       "      <th>traffic_title</th>\n",
       "      <th>lifetime_title</th>\n",
       "      <th>nps_score</th>\n",
       "      <th>nps_group</th>\n",
       "    </tr>\n",
       "  </thead>\n",
       "  <tbody>\n",
       "    <tr>\n",
       "      <th>0</th>\n",
       "      <td>A001A2</td>\n",
       "      <td>2320</td>\n",
       "      <td>old</td>\n",
       "      <td>45.0</td>\n",
       "      <td>1.0</td>\n",
       "      <td>ANDROID</td>\n",
       "      <td>SMARTPHONE</td>\n",
       "      <td>Уфа</td>\n",
       "      <td>05 45-54</td>\n",
       "      <td>04 1-5</td>\n",
       "      <td>08 36+</td>\n",
       "      <td>10</td>\n",
       "      <td>promoters</td>\n",
       "    </tr>\n",
       "    <tr>\n",
       "      <th>1</th>\n",
       "      <td>A001WF</td>\n",
       "      <td>2344</td>\n",
       "      <td>old</td>\n",
       "      <td>53.0</td>\n",
       "      <td>0.0</td>\n",
       "      <td>ANDROID</td>\n",
       "      <td>SMARTPHONE</td>\n",
       "      <td>Киров</td>\n",
       "      <td>05 45-54</td>\n",
       "      <td>04 1-5</td>\n",
       "      <td>08 36+</td>\n",
       "      <td>10</td>\n",
       "      <td>promoters</td>\n",
       "    </tr>\n",
       "    <tr>\n",
       "      <th>2</th>\n",
       "      <td>A003Q7</td>\n",
       "      <td>467</td>\n",
       "      <td>old</td>\n",
       "      <td>57.0</td>\n",
       "      <td>0.0</td>\n",
       "      <td>ANDROID</td>\n",
       "      <td>SMARTPHONE</td>\n",
       "      <td>Москва</td>\n",
       "      <td>06 55-64</td>\n",
       "      <td>08 20-25</td>\n",
       "      <td>06 13-24</td>\n",
       "      <td>10</td>\n",
       "      <td>promoters</td>\n",
       "    </tr>\n",
       "    <tr>\n",
       "      <th>3</th>\n",
       "      <td>A004TB</td>\n",
       "      <td>4190</td>\n",
       "      <td>old</td>\n",
       "      <td>44.0</td>\n",
       "      <td>1.0</td>\n",
       "      <td>IOS</td>\n",
       "      <td>SMARTPHONE</td>\n",
       "      <td>РостовнаДону</td>\n",
       "      <td>04 35-44</td>\n",
       "      <td>03 0.1-1</td>\n",
       "      <td>08 36+</td>\n",
       "      <td>10</td>\n",
       "      <td>promoters</td>\n",
       "    </tr>\n",
       "    <tr>\n",
       "      <th>4</th>\n",
       "      <td>A004XT</td>\n",
       "      <td>1163</td>\n",
       "      <td>old</td>\n",
       "      <td>24.0</td>\n",
       "      <td>0.0</td>\n",
       "      <td>ANDROID</td>\n",
       "      <td>SMARTPHONE</td>\n",
       "      <td>Рязань</td>\n",
       "      <td>02 16-24</td>\n",
       "      <td>05 5-10</td>\n",
       "      <td>08 36+</td>\n",
       "      <td>10</td>\n",
       "      <td>promoters</td>\n",
       "    </tr>\n",
       "    <tr>\n",
       "      <th>...</th>\n",
       "      <td>...</td>\n",
       "      <td>...</td>\n",
       "      <td>...</td>\n",
       "      <td>...</td>\n",
       "      <td>...</td>\n",
       "      <td>...</td>\n",
       "      <td>...</td>\n",
       "      <td>...</td>\n",
       "      <td>...</td>\n",
       "      <td>...</td>\n",
       "      <td>...</td>\n",
       "      <td>...</td>\n",
       "      <td>...</td>\n",
       "    </tr>\n",
       "    <tr>\n",
       "      <th>502488</th>\n",
       "      <td>ZZZKLD</td>\n",
       "      <td>1249</td>\n",
       "      <td>old</td>\n",
       "      <td>54.0</td>\n",
       "      <td>1.0</td>\n",
       "      <td>ANDROID</td>\n",
       "      <td>SMARTPHONE</td>\n",
       "      <td>Москва</td>\n",
       "      <td>05 45-54</td>\n",
       "      <td>04 1-5</td>\n",
       "      <td>08 36+</td>\n",
       "      <td>5</td>\n",
       "      <td>detractors</td>\n",
       "    </tr>\n",
       "    <tr>\n",
       "      <th>502489</th>\n",
       "      <td>ZZZLWY</td>\n",
       "      <td>129</td>\n",
       "      <td>new</td>\n",
       "      <td>31.0</td>\n",
       "      <td>0.0</td>\n",
       "      <td>ANDROID</td>\n",
       "      <td>SMARTPHONE</td>\n",
       "      <td>Москва</td>\n",
       "      <td>03 25-34</td>\n",
       "      <td>04 1-5</td>\n",
       "      <td>04 4-6</td>\n",
       "      <td>8</td>\n",
       "      <td>passives</td>\n",
       "    </tr>\n",
       "    <tr>\n",
       "      <th>502490</th>\n",
       "      <td>ZZZQ5F</td>\n",
       "      <td>522</td>\n",
       "      <td>old</td>\n",
       "      <td>36.0</td>\n",
       "      <td>0.0</td>\n",
       "      <td>ANDROID</td>\n",
       "      <td>SMARTPHONE</td>\n",
       "      <td>Сургут</td>\n",
       "      <td>04 35-44</td>\n",
       "      <td>09 25-30</td>\n",
       "      <td>06 13-24</td>\n",
       "      <td>10</td>\n",
       "      <td>promoters</td>\n",
       "    </tr>\n",
       "    <tr>\n",
       "      <th>502491</th>\n",
       "      <td>ZZZQ8E</td>\n",
       "      <td>2936</td>\n",
       "      <td>old</td>\n",
       "      <td>37.0</td>\n",
       "      <td>1.0</td>\n",
       "      <td>ANDROID</td>\n",
       "      <td>SMARTPHONE</td>\n",
       "      <td>УланУдэ</td>\n",
       "      <td>04 35-44</td>\n",
       "      <td>17 65-70</td>\n",
       "      <td>08 36+</td>\n",
       "      <td>9</td>\n",
       "      <td>promoters</td>\n",
       "    </tr>\n",
       "    <tr>\n",
       "      <th>502492</th>\n",
       "      <td>ZZZYH0</td>\n",
       "      <td>2471</td>\n",
       "      <td>old</td>\n",
       "      <td>37.0</td>\n",
       "      <td>0.0</td>\n",
       "      <td>IOS</td>\n",
       "      <td>SMARTPHONE</td>\n",
       "      <td>Самара</td>\n",
       "      <td>04 35-44</td>\n",
       "      <td>06 10-15</td>\n",
       "      <td>08 36+</td>\n",
       "      <td>2</td>\n",
       "      <td>detractors</td>\n",
       "    </tr>\n",
       "  </tbody>\n",
       "</table>\n",
       "<p>502493 rows × 13 columns</p>\n",
       "</div>"
      ],
      "text/plain": [
       "       user_id lt_day is_new   age gender_segment  os_name cpe_type_name  \\\n",
       "0       A001A2   2320    old  45.0            1.0  ANDROID    SMARTPHONE   \n",
       "1       A001WF   2344    old  53.0            0.0  ANDROID    SMARTPHONE   \n",
       "2       A003Q7    467    old  57.0            0.0  ANDROID    SMARTPHONE   \n",
       "3       A004TB   4190    old  44.0            1.0      IOS    SMARTPHONE   \n",
       "4       A004XT   1163    old  24.0            0.0  ANDROID    SMARTPHONE   \n",
       "...        ...    ...    ...   ...            ...      ...           ...   \n",
       "502488  ZZZKLD   1249    old  54.0            1.0  ANDROID    SMARTPHONE   \n",
       "502489  ZZZLWY    129    new  31.0            0.0  ANDROID    SMARTPHONE   \n",
       "502490  ZZZQ5F    522    old  36.0            0.0  ANDROID    SMARTPHONE   \n",
       "502491  ZZZQ8E   2936    old  37.0            1.0  ANDROID    SMARTPHONE   \n",
       "502492  ZZZYH0   2471    old  37.0            0.0      IOS    SMARTPHONE   \n",
       "\n",
       "                city age_title traffic_title lifetime_title nps_score  \\\n",
       "0                Уфа  05 45-54        04 1-5         08 36+        10   \n",
       "1              Киров  05 45-54        04 1-5         08 36+        10   \n",
       "2             Москва  06 55-64      08 20-25       06 13-24        10   \n",
       "3       РостовнаДону  04 35-44      03 0.1-1         08 36+        10   \n",
       "4             Рязань  02 16-24       05 5-10         08 36+        10   \n",
       "...              ...       ...           ...            ...       ...   \n",
       "502488        Москва  05 45-54        04 1-5         08 36+         5   \n",
       "502489        Москва  03 25-34        04 1-5         04 4-6         8   \n",
       "502490        Сургут  04 35-44      09 25-30       06 13-24        10   \n",
       "502491       УланУдэ  04 35-44      17 65-70         08 36+         9   \n",
       "502492        Самара  04 35-44      06 10-15         08 36+         2   \n",
       "\n",
       "         nps_group  \n",
       "0        promoters  \n",
       "1        promoters  \n",
       "2        promoters  \n",
       "3        promoters  \n",
       "4        promoters  \n",
       "...            ...  \n",
       "502488  detractors  \n",
       "502489    passives  \n",
       "502490   promoters  \n",
       "502491   promoters  \n",
       "502492  detractors  \n",
       "\n",
       "[502493 rows x 13 columns]"
      ]
     },
     "execution_count": 19,
     "metadata": {},
     "output_type": "execute_result"
    }
   ],
   "source": [
    "df = pd.read_sql(query, engine) \n",
    "df"
   ]
  },
  {
   "cell_type": "code",
   "execution_count": 20,
   "id": "dbde028d",
   "metadata": {},
   "outputs": [],
   "source": [
    "df.to_csv('telecomm.csv', index=False)"
   ]
  },
  {
   "cell_type": "code",
   "execution_count": 21,
   "id": "635d5a26",
   "metadata": {},
   "outputs": [
    {
     "data": {
      "text/html": [
       "<div>\n",
       "<style scoped>\n",
       "    .dataframe tbody tr th:only-of-type {\n",
       "        vertical-align: middle;\n",
       "    }\n",
       "\n",
       "    .dataframe tbody tr th {\n",
       "        vertical-align: top;\n",
       "    }\n",
       "\n",
       "    .dataframe thead th {\n",
       "        text-align: right;\n",
       "    }\n",
       "</style>\n",
       "<table border=\"1\" class=\"dataframe\">\n",
       "  <thead>\n",
       "    <tr style=\"text-align: right;\">\n",
       "      <th></th>\n",
       "      <th>user_id</th>\n",
       "      <th>lt_day</th>\n",
       "      <th>is_new</th>\n",
       "      <th>age</th>\n",
       "      <th>gender_segment</th>\n",
       "      <th>os_name</th>\n",
       "      <th>cpe_type_name</th>\n",
       "      <th>city</th>\n",
       "      <th>age_title</th>\n",
       "      <th>traffic_title</th>\n",
       "      <th>lifetime_title</th>\n",
       "      <th>nps_score</th>\n",
       "      <th>nps_group</th>\n",
       "    </tr>\n",
       "  </thead>\n",
       "  <tbody>\n",
       "    <tr>\n",
       "      <th>0</th>\n",
       "      <td>A001A2</td>\n",
       "      <td>2320</td>\n",
       "      <td>old</td>\n",
       "      <td>45.0</td>\n",
       "      <td>1.0</td>\n",
       "      <td>ANDROID</td>\n",
       "      <td>SMARTPHONE</td>\n",
       "      <td>Уфа</td>\n",
       "      <td>05 45-54</td>\n",
       "      <td>04 1-5</td>\n",
       "      <td>08 36+</td>\n",
       "      <td>10</td>\n",
       "      <td>promoters</td>\n",
       "    </tr>\n",
       "    <tr>\n",
       "      <th>1</th>\n",
       "      <td>A001WF</td>\n",
       "      <td>2344</td>\n",
       "      <td>old</td>\n",
       "      <td>53.0</td>\n",
       "      <td>0.0</td>\n",
       "      <td>ANDROID</td>\n",
       "      <td>SMARTPHONE</td>\n",
       "      <td>Киров</td>\n",
       "      <td>05 45-54</td>\n",
       "      <td>04 1-5</td>\n",
       "      <td>08 36+</td>\n",
       "      <td>10</td>\n",
       "      <td>promoters</td>\n",
       "    </tr>\n",
       "    <tr>\n",
       "      <th>2</th>\n",
       "      <td>A003Q7</td>\n",
       "      <td>467</td>\n",
       "      <td>old</td>\n",
       "      <td>57.0</td>\n",
       "      <td>0.0</td>\n",
       "      <td>ANDROID</td>\n",
       "      <td>SMARTPHONE</td>\n",
       "      <td>Москва</td>\n",
       "      <td>06 55-64</td>\n",
       "      <td>08 20-25</td>\n",
       "      <td>06 13-24</td>\n",
       "      <td>10</td>\n",
       "      <td>promoters</td>\n",
       "    </tr>\n",
       "    <tr>\n",
       "      <th>3</th>\n",
       "      <td>A004TB</td>\n",
       "      <td>4190</td>\n",
       "      <td>old</td>\n",
       "      <td>44.0</td>\n",
       "      <td>1.0</td>\n",
       "      <td>IOS</td>\n",
       "      <td>SMARTPHONE</td>\n",
       "      <td>РостовнаДону</td>\n",
       "      <td>04 35-44</td>\n",
       "      <td>03 0.1-1</td>\n",
       "      <td>08 36+</td>\n",
       "      <td>10</td>\n",
       "      <td>promoters</td>\n",
       "    </tr>\n",
       "    <tr>\n",
       "      <th>4</th>\n",
       "      <td>A004XT</td>\n",
       "      <td>1163</td>\n",
       "      <td>old</td>\n",
       "      <td>24.0</td>\n",
       "      <td>0.0</td>\n",
       "      <td>ANDROID</td>\n",
       "      <td>SMARTPHONE</td>\n",
       "      <td>Рязань</td>\n",
       "      <td>02 16-24</td>\n",
       "      <td>05 5-10</td>\n",
       "      <td>08 36+</td>\n",
       "      <td>10</td>\n",
       "      <td>promoters</td>\n",
       "    </tr>\n",
       "    <tr>\n",
       "      <th>...</th>\n",
       "      <td>...</td>\n",
       "      <td>...</td>\n",
       "      <td>...</td>\n",
       "      <td>...</td>\n",
       "      <td>...</td>\n",
       "      <td>...</td>\n",
       "      <td>...</td>\n",
       "      <td>...</td>\n",
       "      <td>...</td>\n",
       "      <td>...</td>\n",
       "      <td>...</td>\n",
       "      <td>...</td>\n",
       "      <td>...</td>\n",
       "    </tr>\n",
       "    <tr>\n",
       "      <th>502488</th>\n",
       "      <td>ZZZKLD</td>\n",
       "      <td>1249</td>\n",
       "      <td>old</td>\n",
       "      <td>54.0</td>\n",
       "      <td>1.0</td>\n",
       "      <td>ANDROID</td>\n",
       "      <td>SMARTPHONE</td>\n",
       "      <td>Москва</td>\n",
       "      <td>05 45-54</td>\n",
       "      <td>04 1-5</td>\n",
       "      <td>08 36+</td>\n",
       "      <td>5</td>\n",
       "      <td>detractors</td>\n",
       "    </tr>\n",
       "    <tr>\n",
       "      <th>502489</th>\n",
       "      <td>ZZZLWY</td>\n",
       "      <td>129</td>\n",
       "      <td>new</td>\n",
       "      <td>31.0</td>\n",
       "      <td>0.0</td>\n",
       "      <td>ANDROID</td>\n",
       "      <td>SMARTPHONE</td>\n",
       "      <td>Москва</td>\n",
       "      <td>03 25-34</td>\n",
       "      <td>04 1-5</td>\n",
       "      <td>04 4-6</td>\n",
       "      <td>8</td>\n",
       "      <td>passives</td>\n",
       "    </tr>\n",
       "    <tr>\n",
       "      <th>502490</th>\n",
       "      <td>ZZZQ5F</td>\n",
       "      <td>522</td>\n",
       "      <td>old</td>\n",
       "      <td>36.0</td>\n",
       "      <td>0.0</td>\n",
       "      <td>ANDROID</td>\n",
       "      <td>SMARTPHONE</td>\n",
       "      <td>Сургут</td>\n",
       "      <td>04 35-44</td>\n",
       "      <td>09 25-30</td>\n",
       "      <td>06 13-24</td>\n",
       "      <td>10</td>\n",
       "      <td>promoters</td>\n",
       "    </tr>\n",
       "    <tr>\n",
       "      <th>502491</th>\n",
       "      <td>ZZZQ8E</td>\n",
       "      <td>2936</td>\n",
       "      <td>old</td>\n",
       "      <td>37.0</td>\n",
       "      <td>1.0</td>\n",
       "      <td>ANDROID</td>\n",
       "      <td>SMARTPHONE</td>\n",
       "      <td>УланУдэ</td>\n",
       "      <td>04 35-44</td>\n",
       "      <td>17 65-70</td>\n",
       "      <td>08 36+</td>\n",
       "      <td>9</td>\n",
       "      <td>promoters</td>\n",
       "    </tr>\n",
       "    <tr>\n",
       "      <th>502492</th>\n",
       "      <td>ZZZYH0</td>\n",
       "      <td>2471</td>\n",
       "      <td>old</td>\n",
       "      <td>37.0</td>\n",
       "      <td>0.0</td>\n",
       "      <td>IOS</td>\n",
       "      <td>SMARTPHONE</td>\n",
       "      <td>Самара</td>\n",
       "      <td>04 35-44</td>\n",
       "      <td>06 10-15</td>\n",
       "      <td>08 36+</td>\n",
       "      <td>2</td>\n",
       "      <td>detractors</td>\n",
       "    </tr>\n",
       "  </tbody>\n",
       "</table>\n",
       "<p>502493 rows × 13 columns</p>\n",
       "</div>"
      ],
      "text/plain": [
       "       user_id  lt_day is_new   age  gender_segment  os_name cpe_type_name  \\\n",
       "0       A001A2    2320    old  45.0             1.0  ANDROID    SMARTPHONE   \n",
       "1       A001WF    2344    old  53.0             0.0  ANDROID    SMARTPHONE   \n",
       "2       A003Q7     467    old  57.0             0.0  ANDROID    SMARTPHONE   \n",
       "3       A004TB    4190    old  44.0             1.0      IOS    SMARTPHONE   \n",
       "4       A004XT    1163    old  24.0             0.0  ANDROID    SMARTPHONE   \n",
       "...        ...     ...    ...   ...             ...      ...           ...   \n",
       "502488  ZZZKLD    1249    old  54.0             1.0  ANDROID    SMARTPHONE   \n",
       "502489  ZZZLWY     129    new  31.0             0.0  ANDROID    SMARTPHONE   \n",
       "502490  ZZZQ5F     522    old  36.0             0.0  ANDROID    SMARTPHONE   \n",
       "502491  ZZZQ8E    2936    old  37.0             1.0  ANDROID    SMARTPHONE   \n",
       "502492  ZZZYH0    2471    old  37.0             0.0      IOS    SMARTPHONE   \n",
       "\n",
       "                city age_title traffic_title lifetime_title  nps_score  \\\n",
       "0                Уфа  05 45-54        04 1-5         08 36+         10   \n",
       "1              Киров  05 45-54        04 1-5         08 36+         10   \n",
       "2             Москва  06 55-64      08 20-25       06 13-24         10   \n",
       "3       РостовнаДону  04 35-44      03 0.1-1         08 36+         10   \n",
       "4             Рязань  02 16-24       05 5-10         08 36+         10   \n",
       "...              ...       ...           ...            ...        ...   \n",
       "502488        Москва  05 45-54        04 1-5         08 36+          5   \n",
       "502489        Москва  03 25-34        04 1-5         04 4-6          8   \n",
       "502490        Сургут  04 35-44      09 25-30       06 13-24         10   \n",
       "502491       УланУдэ  04 35-44      17 65-70         08 36+          9   \n",
       "502492        Самара  04 35-44      06 10-15         08 36+          2   \n",
       "\n",
       "         nps_group  \n",
       "0        promoters  \n",
       "1        promoters  \n",
       "2        promoters  \n",
       "3        promoters  \n",
       "4        promoters  \n",
       "...            ...  \n",
       "502488  detractors  \n",
       "502489    passives  \n",
       "502490   promoters  \n",
       "502491   promoters  \n",
       "502492  detractors  \n",
       "\n",
       "[502493 rows x 13 columns]"
      ]
     },
     "execution_count": 21,
     "metadata": {},
     "output_type": "execute_result"
    }
   ],
   "source": [
    "df = pd.read_csv('telecomm.csv')\n",
    "df"
   ]
  },
  {
   "cell_type": "markdown",
   "id": "10c63fb9",
   "metadata": {},
   "source": [
    "### Ссылка на презентацию"
   ]
  },
  {
   "cell_type": "markdown",
   "id": "e8c4e345",
   "metadata": {},
   "source": [
    "https://disk.yandex.ru/d/M66UpsZ4LLGAtA"
   ]
  },
  {
   "cell_type": "code",
   "execution_count": 22,
   "id": "24ccef55",
   "metadata": {},
   "outputs": [
    {
     "data": {
      "text/plain": [
       "0.2189821549752932"
      ]
     },
     "execution_count": 22,
     "metadata": {},
     "output_type": "execute_result"
    }
   ],
   "source": [
    "(df['nps_group'].value_counts()[0] - df['nps_group'].value_counts()[1])/len(df)"
   ]
  },
  {
   "cell_type": "code",
   "execution_count": 23,
   "id": "4d674c73",
   "metadata": {},
   "outputs": [
    {
     "data": {
      "text/html": [
       "<div>\n",
       "<style scoped>\n",
       "    .dataframe tbody tr th:only-of-type {\n",
       "        vertical-align: middle;\n",
       "    }\n",
       "\n",
       "    .dataframe tbody tr th {\n",
       "        vertical-align: top;\n",
       "    }\n",
       "\n",
       "    .dataframe thead th {\n",
       "        text-align: right;\n",
       "    }\n",
       "</style>\n",
       "<table border=\"1\" class=\"dataframe\">\n",
       "  <thead>\n",
       "    <tr style=\"text-align: right;\">\n",
       "      <th></th>\n",
       "      <th>traffic_title</th>\n",
       "      <th>01 0</th>\n",
       "      <th>01 0-0.01</th>\n",
       "      <th>02 0.01-0.1</th>\n",
       "      <th>03 0.1-1</th>\n",
       "      <th>04 1-5</th>\n",
       "      <th>05 5-10</th>\n",
       "      <th>06 10-15</th>\n",
       "      <th>07 15-20</th>\n",
       "      <th>08 20-25</th>\n",
       "      <th>09 25-30</th>\n",
       "      <th>...</th>\n",
       "      <th>15 55-60</th>\n",
       "      <th>16 60-65</th>\n",
       "      <th>17 65-70</th>\n",
       "      <th>18 70-75</th>\n",
       "      <th>19 75-80</th>\n",
       "      <th>20 80-85</th>\n",
       "      <th>21 85-90</th>\n",
       "      <th>22 90-95</th>\n",
       "      <th>23 95-100</th>\n",
       "      <th>24 100+</th>\n",
       "    </tr>\n",
       "    <tr>\n",
       "      <th>gender_segment</th>\n",
       "      <th>age_title</th>\n",
       "      <th></th>\n",
       "      <th></th>\n",
       "      <th></th>\n",
       "      <th></th>\n",
       "      <th></th>\n",
       "      <th></th>\n",
       "      <th></th>\n",
       "      <th></th>\n",
       "      <th></th>\n",
       "      <th></th>\n",
       "      <th></th>\n",
       "      <th></th>\n",
       "      <th></th>\n",
       "      <th></th>\n",
       "      <th></th>\n",
       "      <th></th>\n",
       "      <th></th>\n",
       "      <th></th>\n",
       "      <th></th>\n",
       "      <th></th>\n",
       "      <th></th>\n",
       "    </tr>\n",
       "  </thead>\n",
       "  <tbody>\n",
       "    <tr>\n",
       "      <th rowspan=\"8\" valign=\"top\">0.0</th>\n",
       "      <th>01 до 16</th>\n",
       "      <td>NaN</td>\n",
       "      <td>NaN</td>\n",
       "      <td>NaN</td>\n",
       "      <td>NaN</td>\n",
       "      <td>-0.363636</td>\n",
       "      <td>-0.038462</td>\n",
       "      <td>-0.150000</td>\n",
       "      <td>-0.038462</td>\n",
       "      <td>-0.500000</td>\n",
       "      <td>0.083333</td>\n",
       "      <td>...</td>\n",
       "      <td>-0.214286</td>\n",
       "      <td>0.062500</td>\n",
       "      <td>0.062500</td>\n",
       "      <td>0.100000</td>\n",
       "      <td>0.100000</td>\n",
       "      <td>-0.166667</td>\n",
       "      <td>-0.285714</td>\n",
       "      <td>0.000000</td>\n",
       "      <td>-1.000000</td>\n",
       "      <td>-0.244444</td>\n",
       "    </tr>\n",
       "    <tr>\n",
       "      <th>02 16-24</th>\n",
       "      <td>1.00</td>\n",
       "      <td>1.000000</td>\n",
       "      <td>0.300000</td>\n",
       "      <td>0.067114</td>\n",
       "      <td>0.147795</td>\n",
       "      <td>0.080182</td>\n",
       "      <td>0.082827</td>\n",
       "      <td>0.070539</td>\n",
       "      <td>0.099912</td>\n",
       "      <td>0.036120</td>\n",
       "      <td>...</td>\n",
       "      <td>0.034234</td>\n",
       "      <td>0.072187</td>\n",
       "      <td>-0.037281</td>\n",
       "      <td>-0.016393</td>\n",
       "      <td>-0.038835</td>\n",
       "      <td>-0.084000</td>\n",
       "      <td>-0.086614</td>\n",
       "      <td>0.034188</td>\n",
       "      <td>-0.066327</td>\n",
       "      <td>-0.110000</td>\n",
       "    </tr>\n",
       "    <tr>\n",
       "      <th>03 25-34</th>\n",
       "      <td>-0.25</td>\n",
       "      <td>0.473684</td>\n",
       "      <td>0.034335</td>\n",
       "      <td>0.114179</td>\n",
       "      <td>0.091748</td>\n",
       "      <td>0.105374</td>\n",
       "      <td>0.086486</td>\n",
       "      <td>0.072949</td>\n",
       "      <td>0.084164</td>\n",
       "      <td>0.096735</td>\n",
       "      <td>...</td>\n",
       "      <td>0.046923</td>\n",
       "      <td>0.052790</td>\n",
       "      <td>0.073778</td>\n",
       "      <td>0.090264</td>\n",
       "      <td>0.043587</td>\n",
       "      <td>-0.021362</td>\n",
       "      <td>0.059801</td>\n",
       "      <td>0.062724</td>\n",
       "      <td>0.052632</td>\n",
       "      <td>-0.052920</td>\n",
       "    </tr>\n",
       "    <tr>\n",
       "      <th>04 35-44</th>\n",
       "      <td>0.20</td>\n",
       "      <td>0.611111</td>\n",
       "      <td>0.133333</td>\n",
       "      <td>0.175342</td>\n",
       "      <td>0.148309</td>\n",
       "      <td>0.175698</td>\n",
       "      <td>0.192103</td>\n",
       "      <td>0.198322</td>\n",
       "      <td>0.235945</td>\n",
       "      <td>0.243514</td>\n",
       "      <td>...</td>\n",
       "      <td>0.267338</td>\n",
       "      <td>0.237960</td>\n",
       "      <td>0.228374</td>\n",
       "      <td>0.280088</td>\n",
       "      <td>0.181564</td>\n",
       "      <td>0.227723</td>\n",
       "      <td>0.237705</td>\n",
       "      <td>0.267857</td>\n",
       "      <td>0.145833</td>\n",
       "      <td>0.110149</td>\n",
       "    </tr>\n",
       "    <tr>\n",
       "      <th>05 45-54</th>\n",
       "      <td>1.00</td>\n",
       "      <td>0.000000</td>\n",
       "      <td>0.200787</td>\n",
       "      <td>0.242283</td>\n",
       "      <td>0.227058</td>\n",
       "      <td>0.259818</td>\n",
       "      <td>0.298726</td>\n",
       "      <td>0.369592</td>\n",
       "      <td>0.336842</td>\n",
       "      <td>0.389553</td>\n",
       "      <td>...</td>\n",
       "      <td>0.418103</td>\n",
       "      <td>0.427861</td>\n",
       "      <td>0.358491</td>\n",
       "      <td>0.413793</td>\n",
       "      <td>0.426966</td>\n",
       "      <td>0.326087</td>\n",
       "      <td>0.266667</td>\n",
       "      <td>0.237288</td>\n",
       "      <td>0.169492</td>\n",
       "      <td>0.287066</td>\n",
       "    </tr>\n",
       "    <tr>\n",
       "      <th>06 55-64</th>\n",
       "      <td>1.00</td>\n",
       "      <td>1.000000</td>\n",
       "      <td>0.437500</td>\n",
       "      <td>0.335811</td>\n",
       "      <td>0.325729</td>\n",
       "      <td>0.369189</td>\n",
       "      <td>0.387336</td>\n",
       "      <td>0.401987</td>\n",
       "      <td>0.388375</td>\n",
       "      <td>0.484127</td>\n",
       "      <td>...</td>\n",
       "      <td>0.493151</td>\n",
       "      <td>0.581818</td>\n",
       "      <td>0.361111</td>\n",
       "      <td>0.689655</td>\n",
       "      <td>0.275862</td>\n",
       "      <td>0.269231</td>\n",
       "      <td>0.545455</td>\n",
       "      <td>0.428571</td>\n",
       "      <td>0.222222</td>\n",
       "      <td>0.301587</td>\n",
       "    </tr>\n",
       "    <tr>\n",
       "      <th>07 66 +</th>\n",
       "      <td>0.50</td>\n",
       "      <td>NaN</td>\n",
       "      <td>0.523810</td>\n",
       "      <td>0.421239</td>\n",
       "      <td>0.431066</td>\n",
       "      <td>0.453846</td>\n",
       "      <td>0.470000</td>\n",
       "      <td>0.492908</td>\n",
       "      <td>0.465517</td>\n",
       "      <td>0.554622</td>\n",
       "      <td>...</td>\n",
       "      <td>0.777778</td>\n",
       "      <td>0.285714</td>\n",
       "      <td>0.375000</td>\n",
       "      <td>1.000000</td>\n",
       "      <td>0.666667</td>\n",
       "      <td>0.500000</td>\n",
       "      <td>1.000000</td>\n",
       "      <td>0.333333</td>\n",
       "      <td>NaN</td>\n",
       "      <td>0.142857</td>\n",
       "    </tr>\n",
       "    <tr>\n",
       "      <th>08 n/a</th>\n",
       "      <td>NaN</td>\n",
       "      <td>NaN</td>\n",
       "      <td>NaN</td>\n",
       "      <td>-0.333333</td>\n",
       "      <td>-0.600000</td>\n",
       "      <td>-1.000000</td>\n",
       "      <td>-0.400000</td>\n",
       "      <td>-1.000000</td>\n",
       "      <td>NaN</td>\n",
       "      <td>-1.000000</td>\n",
       "      <td>...</td>\n",
       "      <td>NaN</td>\n",
       "      <td>NaN</td>\n",
       "      <td>NaN</td>\n",
       "      <td>NaN</td>\n",
       "      <td>NaN</td>\n",
       "      <td>NaN</td>\n",
       "      <td>-1.000000</td>\n",
       "      <td>NaN</td>\n",
       "      <td>NaN</td>\n",
       "      <td>1.000000</td>\n",
       "    </tr>\n",
       "    <tr>\n",
       "      <th rowspan=\"8\" valign=\"top\">1.0</th>\n",
       "      <th>01 до 16</th>\n",
       "      <td>NaN</td>\n",
       "      <td>NaN</td>\n",
       "      <td>NaN</td>\n",
       "      <td>1.000000</td>\n",
       "      <td>0.333333</td>\n",
       "      <td>0.263158</td>\n",
       "      <td>0.142857</td>\n",
       "      <td>0.080000</td>\n",
       "      <td>-0.043478</td>\n",
       "      <td>0.235294</td>\n",
       "      <td>...</td>\n",
       "      <td>-0.400000</td>\n",
       "      <td>0.214286</td>\n",
       "      <td>-0.250000</td>\n",
       "      <td>0.400000</td>\n",
       "      <td>0.333333</td>\n",
       "      <td>-0.100000</td>\n",
       "      <td>-0.250000</td>\n",
       "      <td>0.384615</td>\n",
       "      <td>0.000000</td>\n",
       "      <td>-0.297297</td>\n",
       "    </tr>\n",
       "    <tr>\n",
       "      <th>02 16-24</th>\n",
       "      <td>NaN</td>\n",
       "      <td>1.000000</td>\n",
       "      <td>0.533333</td>\n",
       "      <td>0.209459</td>\n",
       "      <td>0.086294</td>\n",
       "      <td>0.129104</td>\n",
       "      <td>0.100075</td>\n",
       "      <td>0.084378</td>\n",
       "      <td>0.075623</td>\n",
       "      <td>0.072375</td>\n",
       "      <td>...</td>\n",
       "      <td>0.026930</td>\n",
       "      <td>0.002392</td>\n",
       "      <td>0.084746</td>\n",
       "      <td>-0.038462</td>\n",
       "      <td>0.065359</td>\n",
       "      <td>-0.030043</td>\n",
       "      <td>0.000000</td>\n",
       "      <td>-0.074074</td>\n",
       "      <td>0.016949</td>\n",
       "      <td>-0.068493</td>\n",
       "    </tr>\n",
       "    <tr>\n",
       "      <th>03 25-34</th>\n",
       "      <td>0.00</td>\n",
       "      <td>0.437500</td>\n",
       "      <td>0.144860</td>\n",
       "      <td>0.187573</td>\n",
       "      <td>0.122389</td>\n",
       "      <td>0.134840</td>\n",
       "      <td>0.138101</td>\n",
       "      <td>0.117347</td>\n",
       "      <td>0.162374</td>\n",
       "      <td>0.149917</td>\n",
       "      <td>...</td>\n",
       "      <td>0.111401</td>\n",
       "      <td>0.106335</td>\n",
       "      <td>0.103220</td>\n",
       "      <td>0.068104</td>\n",
       "      <td>0.070707</td>\n",
       "      <td>0.067771</td>\n",
       "      <td>0.090909</td>\n",
       "      <td>0.125506</td>\n",
       "      <td>0.109974</td>\n",
       "      <td>0.060996</td>\n",
       "    </tr>\n",
       "    <tr>\n",
       "      <th>04 35-44</th>\n",
       "      <td>-0.20</td>\n",
       "      <td>0.105263</td>\n",
       "      <td>0.302222</td>\n",
       "      <td>0.252777</td>\n",
       "      <td>0.212892</td>\n",
       "      <td>0.237662</td>\n",
       "      <td>0.237280</td>\n",
       "      <td>0.248996</td>\n",
       "      <td>0.280173</td>\n",
       "      <td>0.290997</td>\n",
       "      <td>...</td>\n",
       "      <td>0.318182</td>\n",
       "      <td>0.311724</td>\n",
       "      <td>0.239933</td>\n",
       "      <td>0.309829</td>\n",
       "      <td>0.227273</td>\n",
       "      <td>0.295181</td>\n",
       "      <td>0.196850</td>\n",
       "      <td>0.266968</td>\n",
       "      <td>0.280423</td>\n",
       "      <td>0.163769</td>\n",
       "    </tr>\n",
       "    <tr>\n",
       "      <th>05 45-54</th>\n",
       "      <td>0.50</td>\n",
       "      <td>0.333333</td>\n",
       "      <td>0.422222</td>\n",
       "      <td>0.311377</td>\n",
       "      <td>0.301068</td>\n",
       "      <td>0.336581</td>\n",
       "      <td>0.385710</td>\n",
       "      <td>0.385371</td>\n",
       "      <td>0.392658</td>\n",
       "      <td>0.437132</td>\n",
       "      <td>...</td>\n",
       "      <td>0.470779</td>\n",
       "      <td>0.389558</td>\n",
       "      <td>0.258242</td>\n",
       "      <td>0.229508</td>\n",
       "      <td>0.464286</td>\n",
       "      <td>0.500000</td>\n",
       "      <td>0.424242</td>\n",
       "      <td>0.339286</td>\n",
       "      <td>0.333333</td>\n",
       "      <td>0.260870</td>\n",
       "    </tr>\n",
       "    <tr>\n",
       "      <th>06 55-64</th>\n",
       "      <td>NaN</td>\n",
       "      <td>-0.333333</td>\n",
       "      <td>0.485000</td>\n",
       "      <td>0.417137</td>\n",
       "      <td>0.405618</td>\n",
       "      <td>0.446405</td>\n",
       "      <td>0.461097</td>\n",
       "      <td>0.529355</td>\n",
       "      <td>0.507310</td>\n",
       "      <td>0.531729</td>\n",
       "      <td>...</td>\n",
       "      <td>0.669065</td>\n",
       "      <td>0.571429</td>\n",
       "      <td>0.444444</td>\n",
       "      <td>0.596154</td>\n",
       "      <td>0.615385</td>\n",
       "      <td>0.638889</td>\n",
       "      <td>0.500000</td>\n",
       "      <td>0.190476</td>\n",
       "      <td>0.736842</td>\n",
       "      <td>0.342105</td>\n",
       "    </tr>\n",
       "    <tr>\n",
       "      <th>07 66 +</th>\n",
       "      <td>1.00</td>\n",
       "      <td>-0.333333</td>\n",
       "      <td>0.532710</td>\n",
       "      <td>0.554845</td>\n",
       "      <td>0.514910</td>\n",
       "      <td>0.570674</td>\n",
       "      <td>0.549843</td>\n",
       "      <td>0.513181</td>\n",
       "      <td>0.602667</td>\n",
       "      <td>0.550201</td>\n",
       "      <td>...</td>\n",
       "      <td>0.600000</td>\n",
       "      <td>0.761905</td>\n",
       "      <td>1.000000</td>\n",
       "      <td>0.909091</td>\n",
       "      <td>0.600000</td>\n",
       "      <td>0.666667</td>\n",
       "      <td>0.800000</td>\n",
       "      <td>1.000000</td>\n",
       "      <td>1.000000</td>\n",
       "      <td>0.000000</td>\n",
       "    </tr>\n",
       "    <tr>\n",
       "      <th>08 n/a</th>\n",
       "      <td>NaN</td>\n",
       "      <td>NaN</td>\n",
       "      <td>-1.000000</td>\n",
       "      <td>NaN</td>\n",
       "      <td>0.666667</td>\n",
       "      <td>1.000000</td>\n",
       "      <td>-1.000000</td>\n",
       "      <td>-1.000000</td>\n",
       "      <td>NaN</td>\n",
       "      <td>NaN</td>\n",
       "      <td>...</td>\n",
       "      <td>NaN</td>\n",
       "      <td>NaN</td>\n",
       "      <td>NaN</td>\n",
       "      <td>NaN</td>\n",
       "      <td>NaN</td>\n",
       "      <td>1.000000</td>\n",
       "      <td>NaN</td>\n",
       "      <td>NaN</td>\n",
       "      <td>NaN</td>\n",
       "      <td>1.000000</td>\n",
       "    </tr>\n",
       "  </tbody>\n",
       "</table>\n",
       "<p>16 rows × 25 columns</p>\n",
       "</div>"
      ],
      "text/plain": [
       "traffic_title             01 0  01 0-0.01  02 0.01-0.1  03 0.1-1    04 1-5  \\\n",
       "gender_segment age_title                                                     \n",
       "0.0            01 до 16    NaN        NaN          NaN       NaN -0.363636   \n",
       "               02 16-24   1.00   1.000000     0.300000  0.067114  0.147795   \n",
       "               03 25-34  -0.25   0.473684     0.034335  0.114179  0.091748   \n",
       "               04 35-44   0.20   0.611111     0.133333  0.175342  0.148309   \n",
       "               05 45-54   1.00   0.000000     0.200787  0.242283  0.227058   \n",
       "               06 55-64   1.00   1.000000     0.437500  0.335811  0.325729   \n",
       "               07 66 +    0.50        NaN     0.523810  0.421239  0.431066   \n",
       "               08 n/a      NaN        NaN          NaN -0.333333 -0.600000   \n",
       "1.0            01 до 16    NaN        NaN          NaN  1.000000  0.333333   \n",
       "               02 16-24    NaN   1.000000     0.533333  0.209459  0.086294   \n",
       "               03 25-34   0.00   0.437500     0.144860  0.187573  0.122389   \n",
       "               04 35-44  -0.20   0.105263     0.302222  0.252777  0.212892   \n",
       "               05 45-54   0.50   0.333333     0.422222  0.311377  0.301068   \n",
       "               06 55-64    NaN  -0.333333     0.485000  0.417137  0.405618   \n",
       "               07 66 +    1.00  -0.333333     0.532710  0.554845  0.514910   \n",
       "               08 n/a      NaN        NaN    -1.000000       NaN  0.666667   \n",
       "\n",
       "traffic_title              05 5-10  06 10-15  07 15-20  08 20-25  09 25-30  \\\n",
       "gender_segment age_title                                                     \n",
       "0.0            01 до 16  -0.038462 -0.150000 -0.038462 -0.500000  0.083333   \n",
       "               02 16-24   0.080182  0.082827  0.070539  0.099912  0.036120   \n",
       "               03 25-34   0.105374  0.086486  0.072949  0.084164  0.096735   \n",
       "               04 35-44   0.175698  0.192103  0.198322  0.235945  0.243514   \n",
       "               05 45-54   0.259818  0.298726  0.369592  0.336842  0.389553   \n",
       "               06 55-64   0.369189  0.387336  0.401987  0.388375  0.484127   \n",
       "               07 66 +    0.453846  0.470000  0.492908  0.465517  0.554622   \n",
       "               08 n/a    -1.000000 -0.400000 -1.000000       NaN -1.000000   \n",
       "1.0            01 до 16   0.263158  0.142857  0.080000 -0.043478  0.235294   \n",
       "               02 16-24   0.129104  0.100075  0.084378  0.075623  0.072375   \n",
       "               03 25-34   0.134840  0.138101  0.117347  0.162374  0.149917   \n",
       "               04 35-44   0.237662  0.237280  0.248996  0.280173  0.290997   \n",
       "               05 45-54   0.336581  0.385710  0.385371  0.392658  0.437132   \n",
       "               06 55-64   0.446405  0.461097  0.529355  0.507310  0.531729   \n",
       "               07 66 +    0.570674  0.549843  0.513181  0.602667  0.550201   \n",
       "               08 n/a     1.000000 -1.000000 -1.000000       NaN       NaN   \n",
       "\n",
       "traffic_title             ...  15 55-60  16 60-65  17 65-70  18 70-75  \\\n",
       "gender_segment age_title  ...                                           \n",
       "0.0            01 до 16   ... -0.214286  0.062500  0.062500  0.100000   \n",
       "               02 16-24   ...  0.034234  0.072187 -0.037281 -0.016393   \n",
       "               03 25-34   ...  0.046923  0.052790  0.073778  0.090264   \n",
       "               04 35-44   ...  0.267338  0.237960  0.228374  0.280088   \n",
       "               05 45-54   ...  0.418103  0.427861  0.358491  0.413793   \n",
       "               06 55-64   ...  0.493151  0.581818  0.361111  0.689655   \n",
       "               07 66 +    ...  0.777778  0.285714  0.375000  1.000000   \n",
       "               08 n/a     ...       NaN       NaN       NaN       NaN   \n",
       "1.0            01 до 16   ... -0.400000  0.214286 -0.250000  0.400000   \n",
       "               02 16-24   ...  0.026930  0.002392  0.084746 -0.038462   \n",
       "               03 25-34   ...  0.111401  0.106335  0.103220  0.068104   \n",
       "               04 35-44   ...  0.318182  0.311724  0.239933  0.309829   \n",
       "               05 45-54   ...  0.470779  0.389558  0.258242  0.229508   \n",
       "               06 55-64   ...  0.669065  0.571429  0.444444  0.596154   \n",
       "               07 66 +    ...  0.600000  0.761905  1.000000  0.909091   \n",
       "               08 n/a     ...       NaN       NaN       NaN       NaN   \n",
       "\n",
       "traffic_title             19 75-80  20 80-85  21 85-90  22 90-95  23 95-100  \\\n",
       "gender_segment age_title                                                      \n",
       "0.0            01 до 16   0.100000 -0.166667 -0.285714  0.000000  -1.000000   \n",
       "               02 16-24  -0.038835 -0.084000 -0.086614  0.034188  -0.066327   \n",
       "               03 25-34   0.043587 -0.021362  0.059801  0.062724   0.052632   \n",
       "               04 35-44   0.181564  0.227723  0.237705  0.267857   0.145833   \n",
       "               05 45-54   0.426966  0.326087  0.266667  0.237288   0.169492   \n",
       "               06 55-64   0.275862  0.269231  0.545455  0.428571   0.222222   \n",
       "               07 66 +    0.666667  0.500000  1.000000  0.333333        NaN   \n",
       "               08 n/a          NaN       NaN -1.000000       NaN        NaN   \n",
       "1.0            01 до 16   0.333333 -0.100000 -0.250000  0.384615   0.000000   \n",
       "               02 16-24   0.065359 -0.030043  0.000000 -0.074074   0.016949   \n",
       "               03 25-34   0.070707  0.067771  0.090909  0.125506   0.109974   \n",
       "               04 35-44   0.227273  0.295181  0.196850  0.266968   0.280423   \n",
       "               05 45-54   0.464286  0.500000  0.424242  0.339286   0.333333   \n",
       "               06 55-64   0.615385  0.638889  0.500000  0.190476   0.736842   \n",
       "               07 66 +    0.600000  0.666667  0.800000  1.000000   1.000000   \n",
       "               08 n/a          NaN  1.000000       NaN       NaN        NaN   \n",
       "\n",
       "traffic_title              24 100+  \n",
       "gender_segment age_title            \n",
       "0.0            01 до 16  -0.244444  \n",
       "               02 16-24  -0.110000  \n",
       "               03 25-34  -0.052920  \n",
       "               04 35-44   0.110149  \n",
       "               05 45-54   0.287066  \n",
       "               06 55-64   0.301587  \n",
       "               07 66 +    0.142857  \n",
       "               08 n/a     1.000000  \n",
       "1.0            01 до 16  -0.297297  \n",
       "               02 16-24  -0.068493  \n",
       "               03 25-34   0.060996  \n",
       "               04 35-44   0.163769  \n",
       "               05 45-54   0.260870  \n",
       "               06 55-64   0.342105  \n",
       "               07 66 +    0.000000  \n",
       "               08 n/a     1.000000  \n",
       "\n",
       "[16 rows x 25 columns]"
      ]
     },
     "metadata": {},
     "output_type": "display_data"
    },
    {
     "data": {
      "image/png": "[encoded data removed]",
      "text/plain": [
       "<Figure size 1080x576 with 2 Axes>"
      ]
     },
     "metadata": {
      "needs_background": "light"
     },
     "output_type": "display_data"
    }
   ],
   "source": [
    "# Код ревьюера\n",
    "import seaborn as sns\n",
    "import matplotlib.pyplot as plt\n",
    "d = df.assign(total_nps=lambda row: row['nps_group'].map({'promoters': 1, 'passives': 0, 'detractors': -1}))\\\n",
    "  .pivot_table(index=['gender_segment', 'age_title'], columns=['traffic_title'], values='total_nps', aggfunc='mean')\n",
    "display(d)\n",
    "plt.figure(figsize=(15,8))\n",
    "sns.heatmap(d, annot=True);"
   ]
  }
 ],
 "metadata": {
  "ExecuteTimeLog": [
   {
    "duration": 533,
    "start_time": "2022-07-24T12:33:50.547Z"
   },
   {
    "duration": 3,
    "start_time": "2022-07-24T12:33:51.082Z"
   },
   {
    "duration": 37,
    "start_time": "2022-07-24T12:33:51.087Z"
   },
   {
    "duration": 4,
    "start_time": "2022-07-24T12:33:51.126Z"
   },
   {
    "duration": 566,
    "start_time": "2022-07-24T12:33:51.133Z"
   },
   {
    "duration": 0,
    "start_time": "2022-07-24T12:33:51.701Z"
   },
   {
    "duration": 0,
    "start_time": "2022-07-24T12:33:51.703Z"
   },
   {
    "duration": 90,
    "start_time": "2022-07-24T13:37:12.951Z"
   },
   {
    "duration": 43,
    "start_time": "2022-07-24T13:38:20.487Z"
   },
   {
    "duration": 3,
    "start_time": "2022-07-24T13:38:24.831Z"
   },
   {
    "duration": 47,
    "start_time": "2022-07-24T13:38:25.451Z"
   },
   {
    "duration": 4,
    "start_time": "2022-07-24T13:38:27.851Z"
   },
   {
    "duration": 6,
    "start_time": "2022-07-24T13:38:29.172Z"
   },
   {
    "duration": 8,
    "start_time": "2022-07-24T13:38:33.202Z"
   },
   {
    "duration": 548,
    "start_time": "2022-07-24T13:38:39.259Z"
   },
   {
    "duration": 2,
    "start_time": "2022-07-24T13:38:39.809Z"
   },
   {
    "duration": 30,
    "start_time": "2022-07-24T13:38:40.596Z"
   },
   {
    "duration": 3,
    "start_time": "2022-07-24T13:38:41.388Z"
   },
   {
    "duration": 7663,
    "start_time": "2022-07-24T13:38:42.235Z"
   },
   {
    "duration": 79,
    "start_time": "2022-07-24T13:38:49.901Z"
   },
   {
    "duration": 0,
    "start_time": "2022-07-24T13:38:49.982Z"
   },
   {
    "duration": 6458,
    "start_time": "2022-07-24T13:39:02.532Z"
   },
   {
    "duration": 2819,
    "start_time": "2022-07-24T13:39:08.994Z"
   },
   {
    "duration": 551,
    "start_time": "2022-07-24T13:39:16.617Z"
   },
   {
    "duration": 2,
    "start_time": "2022-07-24T13:39:17.170Z"
   },
   {
    "duration": 14,
    "start_time": "2022-07-24T13:39:17.174Z"
   },
   {
    "duration": 3,
    "start_time": "2022-07-24T13:39:17.190Z"
   },
   {
    "duration": 7342,
    "start_time": "2022-07-24T13:39:17.195Z"
   },
   {
    "duration": 6492,
    "start_time": "2022-07-24T13:39:24.539Z"
   },
   {
    "duration": 2840,
    "start_time": "2022-07-24T13:39:31.033Z"
   },
   {
    "duration": 555,
    "start_time": "2022-07-25T04:30:01.895Z"
   },
   {
    "duration": 2,
    "start_time": "2022-07-25T04:30:02.452Z"
   },
   {
    "duration": 85,
    "start_time": "2022-07-25T04:30:02.456Z"
   },
   {
    "duration": 3,
    "start_time": "2022-07-25T04:30:02.543Z"
   },
   {
    "duration": 8180,
    "start_time": "2022-07-25T04:30:02.548Z"
   },
   {
    "duration": 6921,
    "start_time": "2022-07-25T04:30:10.730Z"
   },
   {
    "duration": 2943,
    "start_time": "2022-07-25T04:30:17.653Z"
   },
   {
    "duration": 226,
    "start_time": "2022-07-25T04:30:29.168Z"
   },
   {
    "duration": 48,
    "start_time": "2022-07-25T04:36:56.951Z"
   },
   {
    "duration": 45,
    "start_time": "2022-07-25T04:37:17.739Z"
   },
   {
    "duration": 85,
    "start_time": "2022-07-25T04:37:38.074Z"
   },
   {
    "duration": 2200,
    "start_time": "2022-07-25T04:41:08.498Z"
   },
   {
    "duration": 63,
    "start_time": "2022-07-25T08:05:15.561Z"
   },
   {
    "duration": 523,
    "start_time": "2022-07-25T08:05:22.939Z"
   },
   {
    "duration": 2,
    "start_time": "2022-07-25T08:05:23.464Z"
   },
   {
    "duration": 38,
    "start_time": "2022-07-25T08:05:23.468Z"
   },
   {
    "duration": 3,
    "start_time": "2022-07-25T08:05:23.507Z"
   },
   {
    "duration": 7571,
    "start_time": "2022-07-25T08:05:23.512Z"
   },
   {
    "duration": 6927,
    "start_time": "2022-07-25T08:05:31.084Z"
   },
   {
    "duration": 2252,
    "start_time": "2022-07-25T08:05:38.013Z"
   },
   {
    "duration": 125,
    "start_time": "2022-07-25T08:05:40.267Z"
   },
   {
    "duration": 75,
    "start_time": "2022-07-25T08:05:40.395Z"
   },
   {
    "duration": 2533,
    "start_time": "2022-07-25T08:05:40.472Z"
   },
   {
    "duration": 4,
    "start_time": "2022-07-25T09:11:03.695Z"
   },
   {
    "duration": 3,
    "start_time": "2022-07-25T09:11:06.553Z"
   },
   {
    "duration": 8,
    "start_time": "2022-07-25T09:11:10.840Z"
   },
   {
    "duration": 3,
    "start_time": "2022-07-25T09:11:11.463Z"
   },
   {
    "duration": 4,
    "start_time": "2022-07-25T09:11:12.086Z"
   },
   {
    "duration": 3,
    "start_time": "2022-07-25T09:11:12.711Z"
   },
   {
    "duration": 828,
    "start_time": "2022-07-25T09:11:14.021Z"
   },
   {
    "duration": 7124,
    "start_time": "2022-07-25T09:11:15.158Z"
   },
   {
    "duration": 2888,
    "start_time": "2022-07-25T09:11:22.285Z"
   },
   {
    "duration": 3,
    "start_time": "2022-07-25T09:11:59.454Z"
   },
   {
    "duration": 608,
    "start_time": "2022-07-25T09:12:00.744Z"
   },
   {
    "duration": 3,
    "start_time": "2022-07-25T09:12:36.158Z"
   },
   {
    "duration": 2292,
    "start_time": "2022-07-25T09:12:37.252Z"
   },
   {
    "duration": 4,
    "start_time": "2022-07-25T09:16:20.785Z"
   },
   {
    "duration": 2308,
    "start_time": "2022-07-25T09:16:22.100Z"
   },
   {
    "duration": 3,
    "start_time": "2022-07-25T09:50:12.668Z"
   },
   {
    "duration": 4,
    "start_time": "2022-07-25T09:50:13.338Z"
   },
   {
    "duration": 6608,
    "start_time": "2022-07-25T09:50:15.252Z"
   },
   {
    "duration": 4801,
    "start_time": "2022-07-25T09:50:23.250Z"
   },
   {
    "duration": 1932,
    "start_time": "2022-07-25T09:50:28.055Z"
   },
   {
    "duration": 3,
    "start_time": "2022-07-25T09:51:22.204Z"
   },
   {
    "duration": 5403,
    "start_time": "2022-07-25T09:51:23.525Z"
   },
   {
    "duration": 3832,
    "start_time": "2022-07-25T09:51:28.931Z"
   },
   {
    "duration": 1544,
    "start_time": "2022-07-25T09:51:32.767Z"
   },
   {
    "duration": 3,
    "start_time": "2022-07-25T09:52:02.045Z"
   },
   {
    "duration": 6036,
    "start_time": "2022-07-25T09:52:03.396Z"
   },
   {
    "duration": 4117,
    "start_time": "2022-07-25T09:52:09.435Z"
   },
   {
    "duration": 2022,
    "start_time": "2022-07-25T09:52:13.554Z"
   },
   {
    "duration": 551,
    "start_time": "2022-07-25T10:25:14.335Z"
   },
   {
    "duration": 3,
    "start_time": "2022-07-25T10:25:14.889Z"
   },
   {
    "duration": 13,
    "start_time": "2022-07-25T10:25:14.894Z"
   },
   {
    "duration": 4,
    "start_time": "2022-07-25T10:25:14.909Z"
   },
   {
    "duration": 6328,
    "start_time": "2022-07-25T10:25:14.915Z"
   },
   {
    "duration": 4052,
    "start_time": "2022-07-25T10:25:21.245Z"
   },
   {
    "duration": 4180,
    "start_time": "2022-07-25T10:25:25.299Z"
   },
   {
    "duration": 95,
    "start_time": "2022-07-25T10:25:29.480Z"
   },
   {
    "duration": 871,
    "start_time": "2022-07-25T10:25:29.577Z"
   },
   {
    "duration": 140,
    "start_time": "2022-07-25T10:32:01.542Z"
   },
   {
    "duration": 2711,
    "start_time": "2022-07-25T10:32:42.853Z"
   },
   {
    "duration": 51,
    "start_time": "2022-07-25T10:32:49.493Z"
   },
   {
    "duration": 489,
    "start_time": "2022-07-27T05:42:32.653Z"
   },
   {
    "duration": 3,
    "start_time": "2022-07-27T05:42:33.144Z"
   },
   {
    "duration": 32,
    "start_time": "2022-07-27T05:42:33.148Z"
   },
   {
    "duration": 4,
    "start_time": "2022-07-27T05:42:33.181Z"
   },
   {
    "duration": 5255,
    "start_time": "2022-07-27T05:42:33.187Z"
   },
   {
    "duration": 3721,
    "start_time": "2022-07-27T05:42:38.443Z"
   },
   {
    "duration": 1901,
    "start_time": "2022-07-27T05:42:42.169Z"
   },
   {
    "duration": 75,
    "start_time": "2022-07-27T05:42:44.071Z"
   },
   {
    "duration": 3333,
    "start_time": "2022-07-27T05:42:44.148Z"
   },
   {
    "duration": 790,
    "start_time": "2022-07-27T05:44:58.873Z"
   },
   {
    "duration": 562,
    "start_time": "2022-07-27T05:45:21.966Z"
   },
   {
    "duration": 465,
    "start_time": "2022-07-27T05:45:31.032Z"
   },
   {
    "duration": 469,
    "start_time": "2022-07-27T05:45:39.009Z"
   },
   {
    "duration": 465,
    "start_time": "2022-07-27T05:47:22.513Z"
   },
   {
    "duration": 44,
    "start_time": "2022-07-27T09:22:05.900Z"
   },
   {
    "duration": 487,
    "start_time": "2022-07-27T09:22:16.743Z"
   },
   {
    "duration": 3,
    "start_time": "2022-07-27T09:22:17.232Z"
   },
   {
    "duration": 25,
    "start_time": "2022-07-27T09:22:17.237Z"
   },
   {
    "duration": 5,
    "start_time": "2022-07-27T09:22:17.264Z"
   },
   {
    "duration": 588,
    "start_time": "2022-07-27T09:22:17.272Z"
   },
   {
    "duration": 531,
    "start_time": "2022-07-27T09:22:17.862Z"
   },
   {
    "duration": 64,
    "start_time": "2022-07-27T09:22:18.395Z"
   },
   {
    "duration": 31,
    "start_time": "2022-07-27T09:22:18.460Z"
   },
   {
    "duration": 1727,
    "start_time": "2022-07-27T09:22:18.493Z"
   },
   {
    "duration": 0,
    "start_time": "2022-07-27T09:22:20.222Z"
   },
   {
    "duration": 3,
    "start_time": "2022-07-27T09:22:55.537Z"
   },
   {
    "duration": 2,
    "start_time": "2022-07-27T09:22:56.032Z"
   },
   {
    "duration": 4,
    "start_time": "2022-07-27T09:23:02.899Z"
   },
   {
    "duration": 3,
    "start_time": "2022-07-27T09:23:03.527Z"
   },
   {
    "duration": 527,
    "start_time": "2022-07-27T09:23:06.509Z"
   },
   {
    "duration": 3,
    "start_time": "2022-07-27T09:23:15.304Z"
   },
   {
    "duration": 2,
    "start_time": "2022-07-27T09:23:16.080Z"
   },
   {
    "duration": 3,
    "start_time": "2022-07-27T09:23:16.528Z"
   },
   {
    "duration": 3,
    "start_time": "2022-07-27T09:23:17.103Z"
   },
   {
    "duration": 5241,
    "start_time": "2022-07-27T09:23:26.792Z"
   },
   {
    "duration": 3921,
    "start_time": "2022-07-27T09:23:33.208Z"
   },
   {
    "duration": 1773,
    "start_time": "2022-07-27T09:23:37.132Z"
   },
   {
    "duration": 66,
    "start_time": "2022-07-27T09:23:38.907Z"
   },
   {
    "duration": 3263,
    "start_time": "2022-07-27T09:23:39.833Z"
   },
   {
    "duration": 530,
    "start_time": "2022-07-27T09:23:50.161Z"
   },
   {
    "duration": 435,
    "start_time": "2022-07-27T09:24:24.177Z"
   },
   {
    "duration": 529,
    "start_time": "2022-07-27T09:25:04.761Z"
   },
   {
    "duration": 531,
    "start_time": "2022-07-27T09:25:25.520Z"
   },
   {
    "duration": 535,
    "start_time": "2022-07-27T09:25:33.974Z"
   },
   {
    "duration": 547,
    "start_time": "2022-07-27T09:25:48.417Z"
   },
   {
    "duration": 529,
    "start_time": "2022-07-27T09:25:54.073Z"
   },
   {
    "duration": 528,
    "start_time": "2022-07-27T09:25:59.593Z"
   },
   {
    "duration": 534,
    "start_time": "2022-07-27T09:26:04.593Z"
   },
   {
    "duration": 537,
    "start_time": "2022-07-27T09:26:08.673Z"
   },
   {
    "duration": 529,
    "start_time": "2022-07-27T09:26:13.272Z"
   },
   {
    "duration": 621,
    "start_time": "2022-07-27T09:26:33.017Z"
   },
   {
    "duration": 527,
    "start_time": "2022-07-27T09:26:52.304Z"
   },
   {
    "duration": 4,
    "start_time": "2022-07-27T09:57:08.759Z"
   }
  ],
  "kernelspec": {
   "display_name": "Python 3 (ipykernel)",
   "language": "python",
   "name": "python3"
  },
  "language_info": {
   "codemirror_mode": {
    "name": "ipython",
    "version": 3
   },
   "file_extension": ".py",
   "mimetype": "text/x-python",
   "name": "python",
   "nbconvert_exporter": "python",
   "pygments_lexer": "ipython3",
   "version": "3.9.12"
  },
  "toc": {
   "base_numbering": 1,
   "nav_menu": {},
   "number_sections": true,
   "sideBar": true,
   "skip_h1_title": true,
   "title_cell": "Table of Contents",
   "title_sidebar": "Contents",
   "toc_cell": false,
   "toc_position": {},
   "toc_section_display": true,
   "toc_window_display": false
  }
 },
 "nbformat": 4,
 "nbformat_minor": 5
}
