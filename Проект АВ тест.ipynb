{
 "cells": [
  {
   "cell_type": "markdown",
   "metadata": {},
   "source": [
    "# Проверка статистических гипотез в крупком интернет - магазине."
   ]
  },
  {
   "cell_type": "markdown",
   "metadata": {},
   "source": [
    "# Содержание\n",
    "1. [Загрузка и предобработка данных](#start)\n",
    "2. [Приоритизация гипотез](#priority)\n",
    "3. [Анализ A/B-теста](#A/B)<br>\n",
    "    3.1. [График кумулятивной выручки](#cumulative)<br>\n",
    "    3.2. [График кумулятивного среднего чека](#average)<br>\n",
    "    3.3. [График относительного изменения кумулятивного среднего чека](#average_changes)<br>\n",
    "    3.4. [График кумулятивного среднего количества заказов по группам](#cumulative_revenue)<br>\n",
    "    3.5. [График относительного изменения кумулятивного среднего количества заказов группы B к группе A](#cumulative_changes)<br>\n",
    "    3.6. [Точечный график количества заказов по пользователям](#qty_orders)<br>\n",
    "    3.7. [Граница заказов для определения аномальных пользователей](#border_abnormal)<br>\n",
    "    3.8. [Точечный график стоимостей заказов](#scatter_plot)<br>\n",
    "    3.9. [Граница для определения аномальных заказов (по выручке)](#border_revenue)<br>\n",
    "    3.10. [Статистическая значимость различий в среднем количестве заказов между группами по «сырым» данным](#row_qty)<br>\n",
    "    3.11. [Статистическая значимость различий в среднем чеке заказа между группами по «сырым» данным](#row_order)<br>\n",
    "    3.12. [Статистическая значимость различий в среднем количестве заказов между группами по «очищенным» данным](#clear_order)<br>\n",
    "    3.13. [Статистическая значимость различий в среднем чеке заказа между группами по «очищенным» данным](#clear_order_mean)<br>\n",
    "    3.14. [Решение по результатам теста](#conclusions)<br>"
   ]
  },
  {
   "cell_type": "markdown",
   "metadata": {},
   "source": [
    "<b> Описание проекта </b> <br>\n",
    "Контекст :<br>\n",
    "Вы — аналитик крупного интернет-магазина. Вместе с отделом маркетинга вы подготовили список гипотез для увеличения выручки. Приоритизируйте гипотезы, запустите A/B-тест и проанализируйте результаты.\n",
    "\n",
    "\n",
    "<b>Описание данных</b> <br>\n",
    "Hypothesis — краткое описание гипотезы;<br>\n",
    "Reach — охват пользователей по 10-балльной шкале;<br>\n",
    "Impact — влияние на пользователей по 10-балльной шкале;<br>\n",
    "Confidence — уверенность в гипотезе по 10-балльной шкале;<br>\n",
    "Efforts — затраты ресурсов на проверку гипотезы по 10-балльной шкале. Чем больше значение Efforts, тем дороже проверка гипотезы.<br>\n",
    "\n",
    "\n",
    "transactionId — идентификатор заказа;<br>\n",
    "visitorId — идентификатор пользователя, совершившего заказ;<br>\n",
    "date — дата, когда был совершён заказ;<br>\n",
    "revenue — выручка заказа;<br>\n",
    "group — группа A/B-теста, в которую попал заказ.<br>\n",
    "\n",
    "date — дата;<br>\n",
    "group — группа A/B-теста;<br>\n",
    "visitors — количество пользователей в указанную дату в указанной группе A/B-теста<br>\n"
   ]
  },
  {
   "cell_type": "markdown",
   "metadata": {},
   "source": [
    "<a id=\"start\"></a>\n",
    "### Загрузка и предобработка данных"
   ]
  },
  {
   "cell_type": "code",
   "execution_count": 1,
   "metadata": {},
   "outputs": [],
   "source": [
    "# Импортируем необходимые библиотеки\n",
    "import pandas as pd\n",
    "import os\n",
    "import numpy as np\n",
    "import datetime as dt\n",
    "import matplotlib.pyplot as plt\n",
    "from scipy import stats as st\n",
    "import warnings\n",
    "warnings.filterwarnings('ignore')\n",
    "import scipy.stats as stats"
   ]
  },
  {
   "cell_type": "code",
   "execution_count": 2,
   "metadata": {},
   "outputs": [],
   "source": [
    "# Чтенение файлов\n",
    "df = pd.read_csv('/datasets/hypothesis.csv')\n",
    "orders = pd.read_csv('/datasets/orders.csv')\n",
    "visitors = pd.read_csv('/datasets/visitors.csv')"
   ]
  },
  {
   "cell_type": "code",
   "execution_count": 3,
   "metadata": {},
   "outputs": [
    {
     "name": "stdout",
     "output_type": "stream",
     "text": [
      "<class 'pandas.core.frame.DataFrame'>\n",
      "RangeIndex: 9 entries, 0 to 8\n",
      "Data columns (total 5 columns):\n",
      " #   Column      Non-Null Count  Dtype \n",
      "---  ------      --------------  ----- \n",
      " 0   Hypothesis  9 non-null      object\n",
      " 1   Reach       9 non-null      int64 \n",
      " 2   Impact      9 non-null      int64 \n",
      " 3   Confidence  9 non-null      int64 \n",
      " 4   Efforts     9 non-null      int64 \n",
      "dtypes: int64(4), object(1)\n",
      "memory usage: 488.0+ bytes\n"
     ]
    }
   ],
   "source": [
    "df.info()"
   ]
  },
  {
   "cell_type": "code",
   "execution_count": 4,
   "metadata": {},
   "outputs": [
    {
     "data": {
      "text/html": [
       "<div>\n",
       "<style scoped>\n",
       "    .dataframe tbody tr th:only-of-type {\n",
       "        vertical-align: middle;\n",
       "    }\n",
       "\n",
       "    .dataframe tbody tr th {\n",
       "        vertical-align: top;\n",
       "    }\n",
       "\n",
       "    .dataframe thead th {\n",
       "        text-align: right;\n",
       "    }\n",
       "</style>\n",
       "<table border=\"1\" class=\"dataframe\">\n",
       "  <thead>\n",
       "    <tr style=\"text-align: right;\">\n",
       "      <th></th>\n",
       "      <th>Hypothesis</th>\n",
       "      <th>Reach</th>\n",
       "      <th>Impact</th>\n",
       "      <th>Confidence</th>\n",
       "      <th>Efforts</th>\n",
       "    </tr>\n",
       "  </thead>\n",
       "  <tbody>\n",
       "    <tr>\n",
       "      <th>0</th>\n",
       "      <td>Добавить два новых канала привлечения трафика,...</td>\n",
       "      <td>3</td>\n",
       "      <td>10</td>\n",
       "      <td>8</td>\n",
       "      <td>6</td>\n",
       "    </tr>\n",
       "    <tr>\n",
       "      <th>1</th>\n",
       "      <td>Запустить собственную службу доставки, что сок...</td>\n",
       "      <td>2</td>\n",
       "      <td>5</td>\n",
       "      <td>4</td>\n",
       "      <td>10</td>\n",
       "    </tr>\n",
       "    <tr>\n",
       "      <th>2</th>\n",
       "      <td>Добавить блоки рекомендаций товаров на сайт ин...</td>\n",
       "      <td>8</td>\n",
       "      <td>3</td>\n",
       "      <td>7</td>\n",
       "      <td>3</td>\n",
       "    </tr>\n",
       "    <tr>\n",
       "      <th>3</th>\n",
       "      <td>Изменить структура категорий, что увеличит кон...</td>\n",
       "      <td>8</td>\n",
       "      <td>3</td>\n",
       "      <td>3</td>\n",
       "      <td>8</td>\n",
       "    </tr>\n",
       "    <tr>\n",
       "      <th>4</th>\n",
       "      <td>Изменить цвет фона главной страницы, чтобы уве...</td>\n",
       "      <td>3</td>\n",
       "      <td>1</td>\n",
       "      <td>1</td>\n",
       "      <td>1</td>\n",
       "    </tr>\n",
       "  </tbody>\n",
       "</table>\n",
       "</div>"
      ],
      "text/plain": [
       "                                          Hypothesis  Reach  Impact  \\\n",
       "0  Добавить два новых канала привлечения трафика,...      3      10   \n",
       "1  Запустить собственную службу доставки, что сок...      2       5   \n",
       "2  Добавить блоки рекомендаций товаров на сайт ин...      8       3   \n",
       "3  Изменить структура категорий, что увеличит кон...      8       3   \n",
       "4  Изменить цвет фона главной страницы, чтобы уве...      3       1   \n",
       "\n",
       "   Confidence  Efforts  \n",
       "0           8        6  \n",
       "1           4       10  \n",
       "2           7        3  \n",
       "3           3        8  \n",
       "4           1        1  "
      ]
     },
     "execution_count": 4,
     "metadata": {},
     "output_type": "execute_result"
    }
   ],
   "source": [
    "df.head()"
   ]
  },
  {
   "cell_type": "code",
   "execution_count": 5,
   "metadata": {},
   "outputs": [
    {
     "name": "stdout",
     "output_type": "stream",
     "text": [
      "<class 'pandas.core.frame.DataFrame'>\n",
      "RangeIndex: 1197 entries, 0 to 1196\n",
      "Data columns (total 5 columns):\n",
      " #   Column         Non-Null Count  Dtype \n",
      "---  ------         --------------  ----- \n",
      " 0   transactionId  1197 non-null   int64 \n",
      " 1   visitorId      1197 non-null   int64 \n",
      " 2   date           1197 non-null   object\n",
      " 3   revenue        1197 non-null   int64 \n",
      " 4   group          1197 non-null   object\n",
      "dtypes: int64(3), object(2)\n",
      "memory usage: 46.9+ KB\n"
     ]
    }
   ],
   "source": [
    "orders.info()"
   ]
  },
  {
   "cell_type": "code",
   "execution_count": 6,
   "metadata": {},
   "outputs": [
    {
     "data": {
      "text/html": [
       "<div>\n",
       "<style scoped>\n",
       "    .dataframe tbody tr th:only-of-type {\n",
       "        vertical-align: middle;\n",
       "    }\n",
       "\n",
       "    .dataframe tbody tr th {\n",
       "        vertical-align: top;\n",
       "    }\n",
       "\n",
       "    .dataframe thead th {\n",
       "        text-align: right;\n",
       "    }\n",
       "</style>\n",
       "<table border=\"1\" class=\"dataframe\">\n",
       "  <thead>\n",
       "    <tr style=\"text-align: right;\">\n",
       "      <th></th>\n",
       "      <th>transactionId</th>\n",
       "      <th>visitorId</th>\n",
       "      <th>date</th>\n",
       "      <th>revenue</th>\n",
       "      <th>group</th>\n",
       "    </tr>\n",
       "  </thead>\n",
       "  <tbody>\n",
       "    <tr>\n",
       "      <th>0</th>\n",
       "      <td>3667963787</td>\n",
       "      <td>3312258926</td>\n",
       "      <td>2019-08-15</td>\n",
       "      <td>1650</td>\n",
       "      <td>B</td>\n",
       "    </tr>\n",
       "    <tr>\n",
       "      <th>1</th>\n",
       "      <td>2804400009</td>\n",
       "      <td>3642806036</td>\n",
       "      <td>2019-08-15</td>\n",
       "      <td>730</td>\n",
       "      <td>B</td>\n",
       "    </tr>\n",
       "    <tr>\n",
       "      <th>2</th>\n",
       "      <td>2961555356</td>\n",
       "      <td>4069496402</td>\n",
       "      <td>2019-08-15</td>\n",
       "      <td>400</td>\n",
       "      <td>A</td>\n",
       "    </tr>\n",
       "    <tr>\n",
       "      <th>3</th>\n",
       "      <td>3797467345</td>\n",
       "      <td>1196621759</td>\n",
       "      <td>2019-08-15</td>\n",
       "      <td>9759</td>\n",
       "      <td>B</td>\n",
       "    </tr>\n",
       "    <tr>\n",
       "      <th>4</th>\n",
       "      <td>2282983706</td>\n",
       "      <td>2322279887</td>\n",
       "      <td>2019-08-15</td>\n",
       "      <td>2308</td>\n",
       "      <td>B</td>\n",
       "    </tr>\n",
       "  </tbody>\n",
       "</table>\n",
       "</div>"
      ],
      "text/plain": [
       "   transactionId   visitorId        date  revenue group\n",
       "0     3667963787  3312258926  2019-08-15     1650     B\n",
       "1     2804400009  3642806036  2019-08-15      730     B\n",
       "2     2961555356  4069496402  2019-08-15      400     A\n",
       "3     3797467345  1196621759  2019-08-15     9759     B\n",
       "4     2282983706  2322279887  2019-08-15     2308     B"
      ]
     },
     "execution_count": 6,
     "metadata": {},
     "output_type": "execute_result"
    }
   ],
   "source": [
    "orders.head()"
   ]
  },
  {
   "cell_type": "code",
   "execution_count": 7,
   "metadata": {},
   "outputs": [],
   "source": [
    "orders['date'] = pd.to_datetime(orders['date'])"
   ]
  },
  {
   "cell_type": "code",
   "execution_count": 8,
   "metadata": {},
   "outputs": [
    {
     "data": {
      "text/plain": [
       "0"
      ]
     },
     "execution_count": 8,
     "metadata": {},
     "output_type": "execute_result"
    }
   ],
   "source": [
    "orders.duplicated().sum()"
   ]
  },
  {
   "cell_type": "code",
   "execution_count": 9,
   "metadata": {},
   "outputs": [
    {
     "name": "stdout",
     "output_type": "stream",
     "text": [
      "Кол-во уникальных пользователей: 1031\n"
     ]
    }
   ],
   "source": [
    "print(f'Кол-во уникальных пользователей: {orders.visitorId.nunique()}')"
   ]
  },
  {
   "cell_type": "code",
   "execution_count": 10,
   "metadata": {},
   "outputs": [
    {
     "data": {
      "text/plain": [
       "visitorId\n",
       "2654030115    2\n",
       "3891541246    2\n",
       "3941795274    2\n",
       "1404934699    2\n",
       "351125977     2\n",
       "Name: group, dtype: int64"
      ]
     },
     "execution_count": 10,
     "metadata": {},
     "output_type": "execute_result"
    }
   ],
   "source": [
    "orders.groupby('visitorId')['group'].nunique().sort_values(ascending = False).head()"
   ]
  },
  {
   "cell_type": "code",
   "execution_count": 11,
   "metadata": {},
   "outputs": [
    {
     "data": {
      "text/plain": [
       "58"
      ]
     },
     "execution_count": 11,
     "metadata": {},
     "output_type": "execute_result"
    }
   ],
   "source": [
    "orders_2 = orders.groupby('visitorId')['group'].nunique().reset_index().query('group > 1')['visitorId']\n",
    "orders_2.nunique()"
   ]
  },
  {
   "cell_type": "markdown",
   "metadata": {},
   "source": [
    "58 пользователей, сделавших заказ, которые попали в обе группы. Хоть они и составляют 5,6% от общего числа пользователей, считаю корректым исключить их из анализа, чтобы получить более достоверные выводы."
   ]
  },
  {
   "cell_type": "code",
   "execution_count": 12,
   "metadata": {},
   "outputs": [
    {
     "name": "stdout",
     "output_type": "stream",
     "text": [
      "Кол-во уникальных пользователей после удаления пользователей из обеих групп: 973\n"
     ]
    }
   ],
   "source": [
    "orders = orders.query('visitorId not in @orders_2')\n",
    "print(f'Кол-во уникальных пользователей после удаления пользователей из обеих групп: {orders.visitorId.nunique()}')"
   ]
  },
  {
   "cell_type": "code",
   "execution_count": 13,
   "metadata": {},
   "outputs": [
    {
     "name": "stdout",
     "output_type": "stream",
     "text": [
      "<class 'pandas.core.frame.DataFrame'>\n",
      "RangeIndex: 62 entries, 0 to 61\n",
      "Data columns (total 3 columns):\n",
      " #   Column    Non-Null Count  Dtype \n",
      "---  ------    --------------  ----- \n",
      " 0   date      62 non-null     object\n",
      " 1   group     62 non-null     object\n",
      " 2   visitors  62 non-null     int64 \n",
      "dtypes: int64(1), object(2)\n",
      "memory usage: 1.6+ KB\n"
     ]
    }
   ],
   "source": [
    "visitors.info()"
   ]
  },
  {
   "cell_type": "code",
   "execution_count": 14,
   "metadata": {},
   "outputs": [
    {
     "data": {
      "text/html": [
       "<div>\n",
       "<style scoped>\n",
       "    .dataframe tbody tr th:only-of-type {\n",
       "        vertical-align: middle;\n",
       "    }\n",
       "\n",
       "    .dataframe tbody tr th {\n",
       "        vertical-align: top;\n",
       "    }\n",
       "\n",
       "    .dataframe thead th {\n",
       "        text-align: right;\n",
       "    }\n",
       "</style>\n",
       "<table border=\"1\" class=\"dataframe\">\n",
       "  <thead>\n",
       "    <tr style=\"text-align: right;\">\n",
       "      <th></th>\n",
       "      <th>date</th>\n",
       "      <th>group</th>\n",
       "      <th>visitors</th>\n",
       "    </tr>\n",
       "  </thead>\n",
       "  <tbody>\n",
       "    <tr>\n",
       "      <th>0</th>\n",
       "      <td>2019-08-01</td>\n",
       "      <td>A</td>\n",
       "      <td>719</td>\n",
       "    </tr>\n",
       "    <tr>\n",
       "      <th>1</th>\n",
       "      <td>2019-08-02</td>\n",
       "      <td>A</td>\n",
       "      <td>619</td>\n",
       "    </tr>\n",
       "    <tr>\n",
       "      <th>2</th>\n",
       "      <td>2019-08-03</td>\n",
       "      <td>A</td>\n",
       "      <td>507</td>\n",
       "    </tr>\n",
       "    <tr>\n",
       "      <th>3</th>\n",
       "      <td>2019-08-04</td>\n",
       "      <td>A</td>\n",
       "      <td>717</td>\n",
       "    </tr>\n",
       "    <tr>\n",
       "      <th>4</th>\n",
       "      <td>2019-08-05</td>\n",
       "      <td>A</td>\n",
       "      <td>756</td>\n",
       "    </tr>\n",
       "  </tbody>\n",
       "</table>\n",
       "</div>"
      ],
      "text/plain": [
       "         date group  visitors\n",
       "0  2019-08-01     A       719\n",
       "1  2019-08-02     A       619\n",
       "2  2019-08-03     A       507\n",
       "3  2019-08-04     A       717\n",
       "4  2019-08-05     A       756"
      ]
     },
     "execution_count": 14,
     "metadata": {},
     "output_type": "execute_result"
    }
   ],
   "source": [
    "visitors.head()"
   ]
  },
  {
   "cell_type": "code",
   "execution_count": 15,
   "metadata": {},
   "outputs": [],
   "source": [
    "visitors['date'] = pd.to_datetime(visitors['date'])"
   ]
  },
  {
   "cell_type": "code",
   "execution_count": 16,
   "metadata": {},
   "outputs": [
    {
     "data": {
      "text/plain": [
       "0"
      ]
     },
     "execution_count": 16,
     "metadata": {},
     "output_type": "execute_result"
    }
   ],
   "source": [
    "visitors.duplicated().sum()"
   ]
  },
  {
   "cell_type": "markdown",
   "metadata": {},
   "source": [
    "В процессе предобработки был изменен тип столбца 'date' на datetime в таблицах orders и visitors. Данные целостны, без дубликатов, готовы к анализу. Также были удалены пользователи, попавшие в обе группы, думаю, что правильно удаль пользователей, попавших в обе группы, чтобы не искажать результаты анализа. "
   ]
  },
  {
   "cell_type": "markdown",
   "metadata": {},
   "source": [
    "<a id=\"priority\"></a>\n",
    "### Приоритизация гипотез "
   ]
  },
  {
   "cell_type": "code",
   "execution_count": 21,
   "metadata": {},
   "outputs": [
    {
     "data": {
      "text/html": [
       "<div>\n",
       "<style scoped>\n",
       "    .dataframe tbody tr th:only-of-type {\n",
       "        vertical-align: middle;\n",
       "    }\n",
       "\n",
       "    .dataframe tbody tr th {\n",
       "        vertical-align: top;\n",
       "    }\n",
       "\n",
       "    .dataframe thead th {\n",
       "        text-align: right;\n",
       "    }\n",
       "</style>\n",
       "<table border=\"1\" class=\"dataframe\">\n",
       "  <thead>\n",
       "    <tr style=\"text-align: right;\">\n",
       "      <th></th>\n",
       "      <th>Ice</th>\n",
       "      <th>Hypothesis</th>\n",
       "    </tr>\n",
       "  </thead>\n",
       "  <tbody>\n",
       "    <tr>\n",
       "      <th>8</th>\n",
       "      <td>16.200000</td>\n",
       "      <td>Запустить акцию, дающую скидку на товар в день...</td>\n",
       "    </tr>\n",
       "    <tr>\n",
       "      <th>0</th>\n",
       "      <td>13.333333</td>\n",
       "      <td>Добавить два новых канала привлечения трафика,...</td>\n",
       "    </tr>\n",
       "    <tr>\n",
       "      <th>7</th>\n",
       "      <td>11.200000</td>\n",
       "      <td>Добавить форму подписки на все основные страни...</td>\n",
       "    </tr>\n",
       "    <tr>\n",
       "      <th>6</th>\n",
       "      <td>8.000000</td>\n",
       "      <td>Показать на главной странице баннеры с актуаль...</td>\n",
       "    </tr>\n",
       "    <tr>\n",
       "      <th>2</th>\n",
       "      <td>7.000000</td>\n",
       "      <td>Добавить блоки рекомендаций товаров на сайт ин...</td>\n",
       "    </tr>\n",
       "    <tr>\n",
       "      <th>1</th>\n",
       "      <td>2.000000</td>\n",
       "      <td>Запустить собственную службу доставки, что сок...</td>\n",
       "    </tr>\n",
       "    <tr>\n",
       "      <th>5</th>\n",
       "      <td>1.333333</td>\n",
       "      <td>Добавить страницу отзывов клиентов о магазине,...</td>\n",
       "    </tr>\n",
       "    <tr>\n",
       "      <th>3</th>\n",
       "      <td>1.125000</td>\n",
       "      <td>Изменить структура категорий, что увеличит кон...</td>\n",
       "    </tr>\n",
       "    <tr>\n",
       "      <th>4</th>\n",
       "      <td>1.000000</td>\n",
       "      <td>Изменить цвет фона главной страницы, чтобы уве...</td>\n",
       "    </tr>\n",
       "  </tbody>\n",
       "</table>\n",
       "</div>"
      ],
      "text/plain": [
       "         Ice                                         Hypothesis\n",
       "8  16.200000  Запустить акцию, дающую скидку на товар в день...\n",
       "0  13.333333  Добавить два новых канала привлечения трафика,...\n",
       "7  11.200000  Добавить форму подписки на все основные страни...\n",
       "6   8.000000  Показать на главной странице баннеры с актуаль...\n",
       "2   7.000000  Добавить блоки рекомендаций товаров на сайт ин...\n",
       "1   2.000000  Запустить собственную службу доставки, что сок...\n",
       "5   1.333333  Добавить страницу отзывов клиентов о магазине,...\n",
       "3   1.125000  Изменить структура категорий, что увеличит кон...\n",
       "4   1.000000  Изменить цвет фона главной страницы, чтобы уве..."
      ]
     },
     "execution_count": 21,
     "metadata": {},
     "output_type": "execute_result"
    }
   ],
   "source": [
    "df['Ice'] = df['Impact'] * df['Confidence'] / df['Efforts']\n",
    "df['Rice'] = df['Reach'] * df['Impact'] * df['Confidence'] / df['Efforts']\n",
    "df[['Ice', 'Hypothesis']].sort_values(by='Ice', ascending=False)"
   ]
  },
  {
   "cell_type": "code",
   "execution_count": 22,
   "metadata": {},
   "outputs": [
    {
     "data": {
      "text/html": [
       "<div>\n",
       "<style scoped>\n",
       "    .dataframe tbody tr th:only-of-type {\n",
       "        vertical-align: middle;\n",
       "    }\n",
       "\n",
       "    .dataframe tbody tr th {\n",
       "        vertical-align: top;\n",
       "    }\n",
       "\n",
       "    .dataframe thead th {\n",
       "        text-align: right;\n",
       "    }\n",
       "</style>\n",
       "<table border=\"1\" class=\"dataframe\">\n",
       "  <thead>\n",
       "    <tr style=\"text-align: right;\">\n",
       "      <th></th>\n",
       "      <th>Rice</th>\n",
       "      <th>Hypothesis</th>\n",
       "    </tr>\n",
       "  </thead>\n",
       "  <tbody>\n",
       "    <tr>\n",
       "      <th>7</th>\n",
       "      <td>112.0</td>\n",
       "      <td>Добавить форму подписки на все основные страни...</td>\n",
       "    </tr>\n",
       "    <tr>\n",
       "      <th>2</th>\n",
       "      <td>56.0</td>\n",
       "      <td>Добавить блоки рекомендаций товаров на сайт ин...</td>\n",
       "    </tr>\n",
       "    <tr>\n",
       "      <th>0</th>\n",
       "      <td>40.0</td>\n",
       "      <td>Добавить два новых канала привлечения трафика,...</td>\n",
       "    </tr>\n",
       "    <tr>\n",
       "      <th>6</th>\n",
       "      <td>40.0</td>\n",
       "      <td>Показать на главной странице баннеры с актуаль...</td>\n",
       "    </tr>\n",
       "    <tr>\n",
       "      <th>8</th>\n",
       "      <td>16.2</td>\n",
       "      <td>Запустить акцию, дающую скидку на товар в день...</td>\n",
       "    </tr>\n",
       "    <tr>\n",
       "      <th>3</th>\n",
       "      <td>9.0</td>\n",
       "      <td>Изменить структура категорий, что увеличит кон...</td>\n",
       "    </tr>\n",
       "    <tr>\n",
       "      <th>1</th>\n",
       "      <td>4.0</td>\n",
       "      <td>Запустить собственную службу доставки, что сок...</td>\n",
       "    </tr>\n",
       "    <tr>\n",
       "      <th>5</th>\n",
       "      <td>4.0</td>\n",
       "      <td>Добавить страницу отзывов клиентов о магазине,...</td>\n",
       "    </tr>\n",
       "    <tr>\n",
       "      <th>4</th>\n",
       "      <td>3.0</td>\n",
       "      <td>Изменить цвет фона главной страницы, чтобы уве...</td>\n",
       "    </tr>\n",
       "  </tbody>\n",
       "</table>\n",
       "</div>"
      ],
      "text/plain": [
       "    Rice                                         Hypothesis\n",
       "7  112.0  Добавить форму подписки на все основные страни...\n",
       "2   56.0  Добавить блоки рекомендаций товаров на сайт ин...\n",
       "0   40.0  Добавить два новых канала привлечения трафика,...\n",
       "6   40.0  Показать на главной странице баннеры с актуаль...\n",
       "8   16.2  Запустить акцию, дающую скидку на товар в день...\n",
       "3    9.0  Изменить структура категорий, что увеличит кон...\n",
       "1    4.0  Запустить собственную службу доставки, что сок...\n",
       "5    4.0  Добавить страницу отзывов клиентов о магазине,...\n",
       "4    3.0  Изменить цвет фона главной страницы, чтобы уве..."
      ]
     },
     "execution_count": 22,
     "metadata": {},
     "output_type": "execute_result"
    }
   ],
   "source": [
    "df[['Rice', 'Hypothesis']].sort_values(by='Rice', ascending=False)"
   ]
  },
  {
   "cell_type": "markdown",
   "metadata": {},
   "source": [
    "При применении Rice меняется выбор приоритетной гипотезы. Изменение связано с тем, что в фреймворке Rice используется дополнительный параметр Reach, который учитывает скольких пользователей затронет изменение, которое хотят внести. При применении фреймворка Ice приоритетна гипотеза 8, а при Rice 7. "
   ]
  },
  {
   "cell_type": "markdown",
   "metadata": {},
   "source": [
    "<a id=\"A/B\"></a>\n",
    "### Анализ A/B-теста"
   ]
  },
  {
   "cell_type": "markdown",
   "metadata": {},
   "source": [
    "<a id=\"cumulative\"></a>\n",
    "#### График кумулятивной выручки по группам"
   ]
  },
  {
   "cell_type": "code",
   "execution_count": 23,
   "metadata": {},
   "outputs": [],
   "source": [
    "datesGroups = orders[['date','group']].drop_duplicates()\n",
    "ordersAggregated = datesGroups\\\n",
    "       .apply(lambda x: orders[np.logical_and(orders['date'] <=x['date'], orders['group'] == x['group'])] \\\n",
    "       .agg({'date':'max', 'group':'max','transactionId':'nunique','revenue':'sum'}), axis=1) \\\n",
    "       .sort_values(by=['date','group'])"
   ]
  },
  {
   "cell_type": "code",
   "execution_count": 24,
   "metadata": {},
   "outputs": [],
   "source": [
    "visitorsAggregated = datesGroups \\\n",
    "        .apply(lambda x: visitors[np.logical_and(visitors['date'] <=x['date'], visitors['group'] == x['group'])] \\\n",
    "        .agg({'date':'max', 'group':'max','visitors':'sum'}), axis=1) \\\n",
    "        .sort_values(by=['date','group'])       "
   ]
  },
  {
   "cell_type": "code",
   "execution_count": 25,
   "metadata": {},
   "outputs": [],
   "source": [
    "cumulativeData = ordersAggregated.merge(visitorsAggregated, on = ['date','group'])\n",
    "cumulativeData = cumulativeData.rename(columns={'transactionId': 'orders'})"
   ]
  },
  {
   "cell_type": "code",
   "execution_count": 26,
   "metadata": {},
   "outputs": [
    {
     "data": {
      "text/html": [
       "<div>\n",
       "<style scoped>\n",
       "    .dataframe tbody tr th:only-of-type {\n",
       "        vertical-align: middle;\n",
       "    }\n",
       "\n",
       "    .dataframe tbody tr th {\n",
       "        vertical-align: top;\n",
       "    }\n",
       "\n",
       "    .dataframe thead th {\n",
       "        text-align: right;\n",
       "    }\n",
       "</style>\n",
       "<table border=\"1\" class=\"dataframe\">\n",
       "  <thead>\n",
       "    <tr style=\"text-align: right;\">\n",
       "      <th></th>\n",
       "      <th>date</th>\n",
       "      <th>group</th>\n",
       "      <th>orders</th>\n",
       "      <th>revenue</th>\n",
       "      <th>visitors</th>\n",
       "    </tr>\n",
       "  </thead>\n",
       "  <tbody>\n",
       "    <tr>\n",
       "      <th>0</th>\n",
       "      <td>2019-08-01</td>\n",
       "      <td>A</td>\n",
       "      <td>23</td>\n",
       "      <td>142779</td>\n",
       "      <td>719</td>\n",
       "    </tr>\n",
       "    <tr>\n",
       "      <th>1</th>\n",
       "      <td>2019-08-01</td>\n",
       "      <td>B</td>\n",
       "      <td>17</td>\n",
       "      <td>59758</td>\n",
       "      <td>713</td>\n",
       "    </tr>\n",
       "    <tr>\n",
       "      <th>2</th>\n",
       "      <td>2019-08-02</td>\n",
       "      <td>A</td>\n",
       "      <td>42</td>\n",
       "      <td>234381</td>\n",
       "      <td>1338</td>\n",
       "    </tr>\n",
       "    <tr>\n",
       "      <th>3</th>\n",
       "      <td>2019-08-02</td>\n",
       "      <td>B</td>\n",
       "      <td>40</td>\n",
       "      <td>221801</td>\n",
       "      <td>1294</td>\n",
       "    </tr>\n",
       "    <tr>\n",
       "      <th>4</th>\n",
       "      <td>2019-08-03</td>\n",
       "      <td>A</td>\n",
       "      <td>66</td>\n",
       "      <td>346854</td>\n",
       "      <td>1845</td>\n",
       "    </tr>\n",
       "  </tbody>\n",
       "</table>\n",
       "</div>"
      ],
      "text/plain": [
       "        date group  orders  revenue  visitors\n",
       "0 2019-08-01     A      23   142779       719\n",
       "1 2019-08-01     B      17    59758       713\n",
       "2 2019-08-02     A      42   234381      1338\n",
       "3 2019-08-02     B      40   221801      1294\n",
       "4 2019-08-03     A      66   346854      1845"
      ]
     },
     "execution_count": 26,
     "metadata": {},
     "output_type": "execute_result"
    }
   ],
   "source": [
    "cumulativeData.head()"
   ]
  },
  {
   "cell_type": "code",
   "execution_count": 27,
   "metadata": {},
   "outputs": [
    {
     "data": {
      "image/png": "[encoded data removed]",
      "text/plain": [
       "<Figure size 720x288 with 1 Axes>"
      ]
     },
     "metadata": {
      "needs_background": "light"
     },
     "output_type": "display_data"
    }
   ],
   "source": [
    "cumulativeRevenueA = cumulativeData[cumulativeData['group']=='A'][['date','revenue', 'orders']]\n",
    "cumulativeRevenueB = cumulativeData[cumulativeData['group']=='B'][['date','revenue', 'orders']]\n",
    "\n",
    "plt.figure(figsize=(10,4))\n",
    "plt.plot(cumulativeRevenueA['date'], cumulativeRevenueA['revenue'], label='A')\n",
    "plt.plot(cumulativeRevenueB['date'],cumulativeRevenueB['revenue'], label='B')\n",
    "plt.legend() \n",
    "plt.title('Кумулятивная выручка по группам')\n",
    "plt.xlabel('Дата')\n",
    "plt.ylabel('Выручка')\n",
    "plt.xticks(rotation=45)\n",
    "plt.show()"
   ]
  },
  {
   "cell_type": "markdown",
   "metadata": {},
   "source": [
    "В начале месяца выручка в группе B растет немного быстрее. 19 августа происходит резкий скачок, и далее выручка в группе B остается выше."
   ]
  },
  {
   "cell_type": "code",
   "execution_count": 28,
   "metadata": {},
   "outputs": [
    {
     "data": {
      "text/html": [
       "<div>\n",
       "<style scoped>\n",
       "    .dataframe tbody tr th:only-of-type {\n",
       "        vertical-align: middle;\n",
       "    }\n",
       "\n",
       "    .dataframe tbody tr th {\n",
       "        vertical-align: top;\n",
       "    }\n",
       "\n",
       "    .dataframe thead th {\n",
       "        text-align: right;\n",
       "    }\n",
       "</style>\n",
       "<table border=\"1\" class=\"dataframe\">\n",
       "  <thead>\n",
       "    <tr style=\"text-align: right;\">\n",
       "      <th></th>\n",
       "      <th>date</th>\n",
       "      <th>revenue</th>\n",
       "      <th>orders</th>\n",
       "    </tr>\n",
       "  </thead>\n",
       "  <tbody>\n",
       "    <tr>\n",
       "      <th>33</th>\n",
       "      <td>2019-08-17</td>\n",
       "      <td>2155542</td>\n",
       "      <td>320</td>\n",
       "    </tr>\n",
       "    <tr>\n",
       "      <th>35</th>\n",
       "      <td>2019-08-18</td>\n",
       "      <td>2190865</td>\n",
       "      <td>327</td>\n",
       "    </tr>\n",
       "    <tr>\n",
       "      <th>37</th>\n",
       "      <td>2019-08-19</td>\n",
       "      <td>3620785</td>\n",
       "      <td>348</td>\n",
       "    </tr>\n",
       "    <tr>\n",
       "      <th>39</th>\n",
       "      <td>2019-08-20</td>\n",
       "      <td>3768059</td>\n",
       "      <td>368</td>\n",
       "    </tr>\n",
       "    <tr>\n",
       "      <th>41</th>\n",
       "      <td>2019-08-21</td>\n",
       "      <td>3908406</td>\n",
       "      <td>380</td>\n",
       "    </tr>\n",
       "  </tbody>\n",
       "</table>\n",
       "</div>"
      ],
      "text/plain": [
       "         date  revenue  orders\n",
       "33 2019-08-17  2155542     320\n",
       "35 2019-08-18  2190865     327\n",
       "37 2019-08-19  3620785     348\n",
       "39 2019-08-20  3768059     368\n",
       "41 2019-08-21  3908406     380"
      ]
     },
     "execution_count": 28,
     "metadata": {},
     "output_type": "execute_result"
    }
   ],
   "source": [
    "cumulativeRevenueB.query('\"2019-08-17\" <=date <=\"2019-08-21\"')"
   ]
  },
  {
   "cell_type": "markdown",
   "metadata": {},
   "source": [
    "Количество заказов 19.08 не выбивается из количкества заказов в другие дни."
   ]
  },
  {
   "cell_type": "code",
   "execution_count": 29,
   "metadata": {},
   "outputs": [
    {
     "data": {
      "text/html": [
       "<div>\n",
       "<style scoped>\n",
       "    .dataframe tbody tr th:only-of-type {\n",
       "        vertical-align: middle;\n",
       "    }\n",
       "\n",
       "    .dataframe tbody tr th {\n",
       "        vertical-align: top;\n",
       "    }\n",
       "\n",
       "    .dataframe thead th {\n",
       "        text-align: right;\n",
       "    }\n",
       "</style>\n",
       "<table border=\"1\" class=\"dataframe\">\n",
       "  <thead>\n",
       "    <tr style=\"text-align: right;\">\n",
       "      <th></th>\n",
       "      <th>transactionId</th>\n",
       "      <th>visitorId</th>\n",
       "      <th>date</th>\n",
       "      <th>revenue</th>\n",
       "      <th>group</th>\n",
       "    </tr>\n",
       "  </thead>\n",
       "  <tbody>\n",
       "    <tr>\n",
       "      <th>425</th>\n",
       "      <td>590470918</td>\n",
       "      <td>1920142716</td>\n",
       "      <td>2019-08-19</td>\n",
       "      <td>1294500</td>\n",
       "      <td>B</td>\n",
       "    </tr>\n",
       "    <tr>\n",
       "      <th>530</th>\n",
       "      <td>3970235543</td>\n",
       "      <td>2912540959</td>\n",
       "      <td>2019-08-19</td>\n",
       "      <td>43990</td>\n",
       "      <td>A</td>\n",
       "    </tr>\n",
       "    <tr>\n",
       "      <th>527</th>\n",
       "      <td>1570513684</td>\n",
       "      <td>2837914161</td>\n",
       "      <td>2019-08-19</td>\n",
       "      <td>33405</td>\n",
       "      <td>B</td>\n",
       "    </tr>\n",
       "    <tr>\n",
       "      <th>421</th>\n",
       "      <td>3765974140</td>\n",
       "      <td>1357170471</td>\n",
       "      <td>2019-08-19</td>\n",
       "      <td>31680</td>\n",
       "      <td>A</td>\n",
       "    </tr>\n",
       "    <tr>\n",
       "      <th>461</th>\n",
       "      <td>2683113224</td>\n",
       "      <td>154576532</td>\n",
       "      <td>2019-08-19</td>\n",
       "      <td>26550</td>\n",
       "      <td>B</td>\n",
       "    </tr>\n",
       "  </tbody>\n",
       "</table>\n",
       "</div>"
      ],
      "text/plain": [
       "     transactionId   visitorId       date  revenue group\n",
       "425      590470918  1920142716 2019-08-19  1294500     B\n",
       "530     3970235543  2912540959 2019-08-19    43990     A\n",
       "527     1570513684  2837914161 2019-08-19    33405     B\n",
       "421     3765974140  1357170471 2019-08-19    31680     A\n",
       "461     2683113224   154576532 2019-08-19    26550     B"
      ]
     },
     "execution_count": 29,
     "metadata": {},
     "output_type": "execute_result"
    }
   ],
   "source": [
    "orders.query('date ==\"2019-08-19\"').sort_values(by='revenue', ascending=False).head()"
   ]
  },
  {
   "cell_type": "markdown",
   "metadata": {},
   "source": [
    "Видим, что 19.08 был сделан один дорогой заказ, который вызвал рост на графике. И который можно считать выбросом."
   ]
  },
  {
   "cell_type": "markdown",
   "metadata": {},
   "source": [
    "<a id=\"average\"></a>\n",
    "#### График кумулятивного среднего чека"
   ]
  },
  {
   "cell_type": "code",
   "execution_count": 30,
   "metadata": {},
   "outputs": [
    {
     "data": {
      "image/png": "[encoded data removed]",
      "text/plain": [
       "<Figure size 720x288 with 1 Axes>"
      ]
     },
     "metadata": {
      "needs_background": "light"
     },
     "output_type": "display_data"
    }
   ],
   "source": [
    "plt.figure(figsize=(10,4))\n",
    "plt.plot(cumulativeRevenueA['date'], cumulativeRevenueA['revenue']/cumulativeRevenueA['orders'], label='A')\n",
    "plt.plot(cumulativeRevenueB['date'], cumulativeRevenueB['revenue']/cumulativeRevenueB['orders'], label='B')\n",
    "plt.title('Кумулятивный средний чек')\n",
    "plt.xlabel('Дата')\n",
    "plt.ylabel('Средний чек')\n",
    "plt.xticks(rotation=45)\n",
    "plt.show()"
   ]
  },
  {
   "cell_type": "markdown",
   "metadata": {},
   "source": [
    "В начале месяца средний чек группы В был преимущественной больше. Также заметно влиятние дорогого заказа 19.08, после которого средний чек группы В стал постоянно больше, но заметно некоторое понижение в 20-ых числах месяца, тогда как средний чек группы А немного растет."
   ]
  },
  {
   "cell_type": "markdown",
   "metadata": {},
   "source": [
    "<a id=\"average_changes\"></a>\n",
    "#### График относительного изменения кумулятивного среднего чека"
   ]
  },
  {
   "cell_type": "code",
   "execution_count": 31,
   "metadata": {},
   "outputs": [
    {
     "data": {
      "text/html": [
       "<div>\n",
       "<style scoped>\n",
       "    .dataframe tbody tr th:only-of-type {\n",
       "        vertical-align: middle;\n",
       "    }\n",
       "\n",
       "    .dataframe tbody tr th {\n",
       "        vertical-align: top;\n",
       "    }\n",
       "\n",
       "    .dataframe thead th {\n",
       "        text-align: right;\n",
       "    }\n",
       "</style>\n",
       "<table border=\"1\" class=\"dataframe\">\n",
       "  <thead>\n",
       "    <tr style=\"text-align: right;\">\n",
       "      <th></th>\n",
       "      <th>date</th>\n",
       "      <th>revenue_A</th>\n",
       "      <th>orders_A</th>\n",
       "      <th>revenue_B</th>\n",
       "      <th>orders_B</th>\n",
       "    </tr>\n",
       "  </thead>\n",
       "  <tbody>\n",
       "    <tr>\n",
       "      <th>0</th>\n",
       "      <td>2019-08-01</td>\n",
       "      <td>142779</td>\n",
       "      <td>23</td>\n",
       "      <td>59758</td>\n",
       "      <td>17</td>\n",
       "    </tr>\n",
       "    <tr>\n",
       "      <th>1</th>\n",
       "      <td>2019-08-02</td>\n",
       "      <td>234381</td>\n",
       "      <td>42</td>\n",
       "      <td>221801</td>\n",
       "      <td>40</td>\n",
       "    </tr>\n",
       "    <tr>\n",
       "      <th>2</th>\n",
       "      <td>2019-08-03</td>\n",
       "      <td>346854</td>\n",
       "      <td>66</td>\n",
       "      <td>288850</td>\n",
       "      <td>54</td>\n",
       "    </tr>\n",
       "    <tr>\n",
       "      <th>3</th>\n",
       "      <td>2019-08-04</td>\n",
       "      <td>388030</td>\n",
       "      <td>77</td>\n",
       "      <td>385740</td>\n",
       "      <td>68</td>\n",
       "    </tr>\n",
       "    <tr>\n",
       "      <th>4</th>\n",
       "      <td>2019-08-05</td>\n",
       "      <td>474413</td>\n",
       "      <td>99</td>\n",
       "      <td>475648</td>\n",
       "      <td>89</td>\n",
       "    </tr>\n",
       "  </tbody>\n",
       "</table>\n",
       "</div>"
      ],
      "text/plain": [
       "        date  revenue_A  orders_A  revenue_B  orders_B\n",
       "0 2019-08-01     142779        23      59758        17\n",
       "1 2019-08-02     234381        42     221801        40\n",
       "2 2019-08-03     346854        66     288850        54\n",
       "3 2019-08-04     388030        77     385740        68\n",
       "4 2019-08-05     474413        99     475648        89"
      ]
     },
     "execution_count": 31,
     "metadata": {},
     "output_type": "execute_result"
    }
   ],
   "source": [
    "mergedCumulativeRevenue = cumulativeRevenueA.merge(cumulativeRevenueB, on = 'date', suffixes=['_A', '_B'])\n",
    "mergedCumulativeRevenue.head()"
   ]
  },
  {
   "cell_type": "code",
   "execution_count": 32,
   "metadata": {},
   "outputs": [
    {
     "data": {
      "image/png": "[encoded data removed]",
      "text/plain": [
       "<Figure size 720x288 with 1 Axes>"
      ]
     },
     "metadata": {
      "needs_background": "light"
     },
     "output_type": "display_data"
    }
   ],
   "source": [
    "plt.figure(figsize=(10,4))\n",
    "plt.plot(mergedCumulativeRevenue['date'], (mergedCumulativeRevenue['revenue_B']/mergedCumulativeRevenue['orders_B']) /\n",
    "         (mergedCumulativeRevenue['revenue_A']/mergedCumulativeRevenue['orders_A'])-1) \n",
    "plt.axhline(y=0, color='grey', linestyle='--') \n",
    "plt.title('Относительное изменение кумулятивного среднего чека')\n",
    "plt.xlabel('Дата')\n",
    "plt.ylabel('Отношение среднего чека группы В к группе А')\n",
    "plt.xticks(rotation=45)\n",
    "plt.show()"
   ]
  },
  {
   "cell_type": "markdown",
   "metadata": {},
   "source": [
    "Из графика видно, что средний чек группы А был больше в период с 12.08 - 14.08, а в остальное время средний чек группы В больше, хотя после всплеска 19.08, когда был сделан заказ на значительную сумму, средний чек группы В постепенно снижается."
   ]
  },
  {
   "cell_type": "markdown",
   "metadata": {},
   "source": [
    "<a id=\"cumulative_revenue\"></a>\n",
    "#### График кумулятивного среднего количества заказов по группам"
   ]
  },
  {
   "cell_type": "code",
   "execution_count": 33,
   "metadata": {},
   "outputs": [],
   "source": [
    "#cumulativeData['orders_avg'] = cumulativeData['orders'] / cumulativeData['visitors']"
   ]
  },
  {
   "cell_type": "code",
   "execution_count": 34,
   "metadata": {},
   "outputs": [
    {
     "data": {
      "text/html": [
       "<div>\n",
       "<style scoped>\n",
       "    .dataframe tbody tr th:only-of-type {\n",
       "        vertical-align: middle;\n",
       "    }\n",
       "\n",
       "    .dataframe tbody tr th {\n",
       "        vertical-align: top;\n",
       "    }\n",
       "\n",
       "    .dataframe thead th {\n",
       "        text-align: right;\n",
       "    }\n",
       "</style>\n",
       "<table border=\"1\" class=\"dataframe\">\n",
       "  <thead>\n",
       "    <tr style=\"text-align: right;\">\n",
       "      <th></th>\n",
       "      <th>date</th>\n",
       "      <th>group</th>\n",
       "      <th>orders</th>\n",
       "      <th>revenue</th>\n",
       "      <th>visitors</th>\n",
       "    </tr>\n",
       "  </thead>\n",
       "  <tbody>\n",
       "    <tr>\n",
       "      <th>0</th>\n",
       "      <td>2019-08-01</td>\n",
       "      <td>A</td>\n",
       "      <td>23</td>\n",
       "      <td>142779</td>\n",
       "      <td>719</td>\n",
       "    </tr>\n",
       "    <tr>\n",
       "      <th>2</th>\n",
       "      <td>2019-08-02</td>\n",
       "      <td>A</td>\n",
       "      <td>42</td>\n",
       "      <td>234381</td>\n",
       "      <td>1338</td>\n",
       "    </tr>\n",
       "    <tr>\n",
       "      <th>4</th>\n",
       "      <td>2019-08-03</td>\n",
       "      <td>A</td>\n",
       "      <td>66</td>\n",
       "      <td>346854</td>\n",
       "      <td>1845</td>\n",
       "    </tr>\n",
       "    <tr>\n",
       "      <th>6</th>\n",
       "      <td>2019-08-04</td>\n",
       "      <td>A</td>\n",
       "      <td>77</td>\n",
       "      <td>388030</td>\n",
       "      <td>2562</td>\n",
       "    </tr>\n",
       "    <tr>\n",
       "      <th>8</th>\n",
       "      <td>2019-08-05</td>\n",
       "      <td>A</td>\n",
       "      <td>99</td>\n",
       "      <td>474413</td>\n",
       "      <td>3318</td>\n",
       "    </tr>\n",
       "  </tbody>\n",
       "</table>\n",
       "</div>"
      ],
      "text/plain": [
       "        date group  orders  revenue  visitors\n",
       "0 2019-08-01     A      23   142779       719\n",
       "2 2019-08-02     A      42   234381      1338\n",
       "4 2019-08-03     A      66   346854      1845\n",
       "6 2019-08-04     A      77   388030      2562\n",
       "8 2019-08-05     A      99   474413      3318"
      ]
     },
     "execution_count": 34,
     "metadata": {},
     "output_type": "execute_result"
    }
   ],
   "source": [
    "cumulativeDataA = cumulativeData[cumulativeData['group']=='A']\n",
    "cumulativeDataB = cumulativeData[cumulativeData['group']=='B']\n",
    "cumulativeDataA.head()"
   ]
  },
  {
   "cell_type": "code",
   "execution_count": 35,
   "metadata": {},
   "outputs": [
    {
     "data": {
      "image/png": "[encoded data removed]",
      "text/plain": [
       "<Figure size 720x288 with 1 Axes>"
      ]
     },
     "metadata": {
      "needs_background": "light"
     },
     "output_type": "display_data"
    }
   ],
   "source": [
    "plt.figure(figsize=(10,4))\n",
    "plt.plot(cumulativeDataA['date'], cumulativeDataA['orders'], label='A')\n",
    "plt.plot(cumulativeDataB['date'], cumulativeDataB['orders'], label='B')\n",
    "plt.legend()\n",
    "plt.title('Кумулятивное среднее количество заказов по группам')\n",
    "plt.xlabel('Дата')\n",
    "plt.ylabel('Среднего количества заказов по группам')\n",
    "plt.xticks(rotation=45)\n",
    "plt.show()"
   ]
  },
  {
   "cell_type": "markdown",
   "metadata": {},
   "source": [
    "Глядя на график можно сделать вывод, что количество заказов в группе В больше, чем в группе А и со временем разрыв увеличивается."
   ]
  },
  {
   "cell_type": "markdown",
   "metadata": {},
   "source": [
    "<a id=\"cumulative_changes\"></a>\n",
    "#### График относительного изменения кумулятивного среднего количества заказов группы B к группе A"
   ]
  },
  {
   "cell_type": "code",
   "execution_count": 36,
   "metadata": {},
   "outputs": [
    {
     "data": {
      "image/png": "[encoded data removed]",
      "text/plain": [
       "<Figure size 720x288 with 1 Axes>"
      ]
     },
     "metadata": {
      "needs_background": "light"
     },
     "output_type": "display_data"
    }
   ],
   "source": [
    "mergedCumulativeOrders =cumulativeDataA[['date', 'orders']] \\\n",
    "         .merge(cumulativeDataB[['date', 'orders']], on='date', suffixes=['_A', '_B'])\n",
    "\n",
    "plt.figure(figsize=(10,4))\n",
    "plt.plot(mergedCumulativeOrders['date'], \\\n",
    "         mergedCumulativeOrders['orders_B']/mergedCumulativeOrders['orders_A']-1)\n",
    "plt.title('Относительное изменение кумулятивного среднего количества заказов')\n",
    "plt.xlabel('Дата')\n",
    "plt.ylabel('Отношение количества заказов по группам')\n",
    "plt.xticks(rotation=45)\n",
    "plt.axhline(y=0, color='black', linestyle='--')\n",
    "plt.axhline(y=0.21, color='gray', linestyle='--')\n",
    "plt.show()"
   ]
  },
  {
   "cell_type": "markdown",
   "metadata": {},
   "source": [
    "По графику можно сделать вывод, что в начале тестирования количество заказов группы А было больше, кроме 2.08. После 6.08 количество заказов группы В стало расти и в остальной период было стабильно больше."
   ]
  },
  {
   "cell_type": "markdown",
   "metadata": {},
   "source": [
    "<a id=\"qty_orders\"></a>\n",
    "#### Точечный график количества заказов по пользователям"
   ]
  },
  {
   "cell_type": "code",
   "execution_count": 37,
   "metadata": {},
   "outputs": [],
   "source": [
    "ordersByUsers = orders.groupby('visitorId', as_index=False).agg({'transactionId':'nunique'})\n",
    "ordersByUsers.columns = ['userId', 'orders']"
   ]
  },
  {
   "cell_type": "code",
   "execution_count": 38,
   "metadata": {},
   "outputs": [
    {
     "data": {
      "image/png": "[encoded data removed]",
      "text/plain": [
       "<Figure size 432x288 with 1 Axes>"
      ]
     },
     "metadata": {
      "needs_background": "light"
     },
     "output_type": "display_data"
    }
   ],
   "source": [
    "x_value = pd.Series(range(0,len(ordersByUsers)))\n",
    "plt.scatter(x_value, ordersByUsers['orders'])\n",
    "plt.title('Диаграмма числа заказов на одного пользователя')\n",
    "plt.xlabel('Пользователи')\n",
    "plt.ylabel('Количество заказов')\n",
    "plt.show()"
   ]
  },
  {
   "cell_type": "markdown",
   "metadata": {},
   "source": [
    "Большинство покупателей сделали 1 заказ, тех, кто сделал 2 заказа тоже определенная часть, но больше 3 заказов мало кто сделал. "
   ]
  },
  {
   "cell_type": "markdown",
   "metadata": {},
   "source": [
    "<a id=\"border_abnormal\"></a>\n",
    "#### Граница заказов для определения аномальных пользователей"
   ]
  },
  {
   "cell_type": "code",
   "execution_count": 39,
   "metadata": {},
   "outputs": [
    {
     "name": "stdout",
     "output_type": "stream",
     "text": [
      "95-й и 99-й перцентили количества заказов на пользователя равны [1. 2.]\n"
     ]
    }
   ],
   "source": [
    "print('95-й и 99-й перцентили количества заказов на пользователя равны', np.percentile(ordersByUsers['orders'],[95,99]))"
   ]
  },
  {
   "cell_type": "code",
   "execution_count": 40,
   "metadata": {},
   "outputs": [
    {
     "name": "stdout",
     "output_type": "stream",
     "text": [
      "97-й перцентиль количества заказов на пользователя равен [2.]\n"
     ]
    }
   ],
   "source": [
    "print('97-й перцентиль количества заказов на пользователя равен', np.percentile(ordersByUsers['orders'],[97]))"
   ]
  },
  {
   "cell_type": "markdown",
   "metadata": {},
   "source": [
    "Не более 5% оформили больше 1 заказов, и не более 1% оформили 2 заказа. Выберу 2 заказа на одного пользователя за верхнюю границу числа заказов, т.к. и не более 3% оформили больше 2 заказов, значит большее количество заказов можно считать аномальными."
   ]
  },
  {
   "cell_type": "markdown",
   "metadata": {},
   "source": [
    "<a id=\"scatter_plot\"></a>\n",
    "#### Точечный график стоимостей заказов"
   ]
  },
  {
   "cell_type": "code",
   "execution_count": 41,
   "metadata": {},
   "outputs": [],
   "source": [
    "revenueByUsers = orders.groupby('visitorId', as_index=False).agg({'revenue':'sum'})"
   ]
  },
  {
   "cell_type": "code",
   "execution_count": 42,
   "metadata": {},
   "outputs": [
    {
     "data": {
      "image/png": "[encoded data removed]",
      "text/plain": [
       "<Figure size 432x288 with 1 Axes>"
      ]
     },
     "metadata": {
      "needs_background": "light"
     },
     "output_type": "display_data"
    }
   ],
   "source": [
    "x_value_rev = pd.Series(range(0, len(revenueByUsers)))\n",
    "plt.scatter(x_value_rev, revenueByUsers['revenue'])\n",
    "plt.title('Диаграмма прибыли на одного пользователя')\n",
    "plt.xlabel('Пользователи')\n",
    "plt.ylabel('Прибыль')\n",
    "plt.show()"
   ]
  },
  {
   "cell_type": "markdown",
   "metadata": {},
   "source": [
    "Чтобы лучше увидеть распределение прибыли, исключу аномальный заказ."
   ]
  },
  {
   "cell_type": "code",
   "execution_count": 43,
   "metadata": {},
   "outputs": [
    {
     "data": {
      "image/png": "[encoded data removed]",
      "text/plain": [
       "<Figure size 432x288 with 1 Axes>"
      ]
     },
     "metadata": {
      "needs_background": "light"
     },
     "output_type": "display_data"
    }
   ],
   "source": [
    "norm_revenue = revenueByUsers.query('revenue < 200000')\n",
    "\n",
    "x_value_rev = pd.Series(range(0, len(norm_revenue)))\n",
    "plt.scatter(x_value_rev, norm_revenue['revenue'])\n",
    "plt.title('Диаграмма прибыли на одного пользователя')\n",
    "plt.xlabel('Пользователи')\n",
    "plt.ylabel('Прибыль')\n",
    "plt.show()"
   ]
  },
  {
   "cell_type": "markdown",
   "metadata": {},
   "source": [
    "По графику прибыли видно, что большинство заказов находятся до 100 000."
   ]
  },
  {
   "cell_type": "markdown",
   "metadata": {},
   "source": [
    "<a id=\"border_revenue\"></a>\n",
    "#### Граница для определения аномальных заказов (по выручке)"
   ]
  },
  {
   "cell_type": "code",
   "execution_count": 44,
   "metadata": {},
   "outputs": [
    {
     "name": "stdout",
     "output_type": "stream",
     "text": [
      "95-й и 99-й перцентили стоимости заказов на пользователя равны [26785. 53904.]\n"
     ]
    }
   ],
   "source": [
    "print('95-й и 99-й перцентили стоимости заказов на пользователя равны',np.percentile(orders['revenue'], [95,99]))"
   ]
  },
  {
   "cell_type": "markdown",
   "metadata": {},
   "source": [
    "Не более 1% оформили заказы дороже 53904. Установим данное значение в качестве аномального."
   ]
  },
  {
   "cell_type": "markdown",
   "metadata": {},
   "source": [
    "<a id=\"row_qty\"></a>\n",
    "#### Статистическая значимость различий в среднем количестве заказов между группами по «сырым» данным"
   ]
  },
  {
   "cell_type": "code",
   "execution_count": 45,
   "metadata": {},
   "outputs": [],
   "source": [
    "visitorsADaily = visitors[visitors['group']=='A'][['date', 'visitors']]\n",
    "visitorsADaily.columns = ['date', 'visitorsPerDateA']\n",
    "visitorsACummulative = visitorsADaily.apply(lambda x: visitorsADaily[visitorsADaily['date'] <=x['date']] \\\n",
    "   .agg({'date':'max', 'visitorsPerDateA':'sum'}), axis=1)\n",
    "visitorsACummulative.columns = ['date', 'visitorsCummulativeA']\n",
    "\n",
    "\n",
    "visitorsBDaily = visitors[visitors['group']=='B'][['date','visitors']]\n",
    "visitorsBDaily.columns = ['date', 'visitorsPerDateB']\n",
    "visitorsBCummulative = visitorsBDaily.apply(lambda x: visitorsBDaily[visitorsBDaily['date'] <=x['date']] \\\n",
    "   .agg({'date':'max', 'visitorsPerDateB':'sum'}), axis=1)\n",
    "visitorsBCummulative.columns = ['date', 'visitorsCummulativeB']\n",
    "\n",
    "ordersADaily = orders[orders['group']=='A'][['date', 'transactionId', 'visitorId', 'revenue']] \\\n",
    "   .groupby('date', as_index=False) \\\n",
    "   .agg({'transactionId' : pd.Series.nunique, 'revenue':'sum'})\n",
    "ordersADaily.columns = ['date', 'ordersPerDateA', 'revenuePerDateA']\n",
    "\n",
    "ordersACummulative = ordersADaily.apply(lambda x: ordersADaily[ordersADaily['date']<=x['date']] \\\n",
    "    .agg({'date':'max', 'ordersPerDateA': 'sum', 'revenuePerDateA': 'sum'}), axis=1)\n",
    "ordersACummulative.columns = ['date', 'ordersCummulativeA', 'revenueCummulativeA']\n",
    "\n",
    "ordersBDaily = orders[orders['group']=='B'][['date', 'transactionId', 'visitorId', 'revenue']] \\\n",
    "    .groupby('date', as_index=False) \\\n",
    "    .agg({'transactionId' : pd.Series.nunique, 'revenue':'sum'})\n",
    "ordersBDaily.columns = ['date', 'ordersPerDateB', 'revenuePerDateB']\n",
    "\n",
    "ordersBCummulative = ordersBDaily.apply(lambda x: ordersBDaily[ordersBDaily['date']<=x['date']] \\\n",
    "    .agg({'date':'max', 'ordersPerDateB': 'sum', 'revenuePerDateB': 'sum'}), axis=1)\n",
    "ordersBCummulative.columns = ['date', 'ordersCummulativeB', 'revenueCummulativeB']\n",
    "\n",
    "data = (ordersADaily.merge(ordersBDaily, on='date', how='left')\n",
    "    .merge(ordersACummulative, on='date', how='left')\n",
    "    .merge(ordersBCummulative, on='date', how='left')\n",
    "    .merge(visitorsADaily, on='date', how='left')\n",
    "    .merge(visitorsBDaily, on='date', how='left')\n",
    "    .merge(visitorsACummulative, on='date', how='left')\n",
    "    .merge(visitorsBCummulative, on='date', how='left'))"
   ]
  },
  {
   "cell_type": "code",
   "execution_count": 46,
   "metadata": {},
   "outputs": [
    {
     "name": "stdout",
     "output_type": "stream",
     "text": [
      "        date  ordersPerDateA  revenuePerDateA  ordersPerDateB  \\\n",
      "0 2019-08-01              23           142779              17   \n",
      "1 2019-08-02              19            91602              23   \n",
      "2 2019-08-03              24           112473              14   \n",
      "3 2019-08-04              11            41176              14   \n",
      "4 2019-08-05              22            86383              21   \n",
      "\n",
      "   revenuePerDateB  ordersCummulativeA  revenueCummulativeA  \\\n",
      "0            59758                  23               142779   \n",
      "1           162043                  42               234381   \n",
      "2            67049                  66               346854   \n",
      "3            96890                  77               388030   \n",
      "4            89908                  99               474413   \n",
      "\n",
      "   ordersCummulativeB  revenueCummulativeB  visitorsPerDateA  \\\n",
      "0                  17                59758               719   \n",
      "1                  40               221801               619   \n",
      "2                  54               288850               507   \n",
      "3                  68               385740               717   \n",
      "4                  89               475648               756   \n",
      "\n",
      "   visitorsPerDateB  visitorsCummulativeA  visitorsCummulativeB  \n",
      "0               713                   719                   713  \n",
      "1               581                  1338                  1294  \n",
      "2               509                  1845                  1803  \n",
      "3               770                  2562                  2573  \n",
      "4               707                  3318                  3280  \n"
     ]
    }
   ],
   "source": [
    "print(data.head(5)) "
   ]
  },
  {
   "cell_type": "markdown",
   "metadata": {},
   "source": [
    "Нулевая гипотеза - статистически значимых различий в среднем количестве заказов между группами нет.<br>\n",
    "Альтернативная гипотеза - статистически значимые различия есть."
   ]
  },
  {
   "cell_type": "code",
   "execution_count": 47,
   "metadata": {},
   "outputs": [
    {
     "name": "stdout",
     "output_type": "stream",
     "text": [
      "alpha = 0.05\n",
      "p-value = 0.011\n",
      "Относительный показатель = 0.160\n"
     ]
    }
   ],
   "source": [
    "ordersByUsersA = orders[orders['group']=='A'].groupby('visitorId', as_index=False) \\\n",
    "   .agg({'transactionId': pd.Series.nunique})\n",
    "ordersByUsersA.columns = ['userId', 'orders']\n",
    "\n",
    "ordersByUsersB = orders[orders['group']=='B'].groupby('visitorId', as_index=False) \\\n",
    "   .agg({'transactionId' : pd.Series.nunique})\n",
    "ordersByUsersB.columns = ['userId', 'orders']\n",
    "\n",
    "sampleA = pd.concat([ordersByUsersA['orders'], pd.Series(0, index=np.arange(data['visitorsPerDateA'].sum() \\\n",
    "                                                        - len(ordersByUsersA['orders'])), name='orders')],axis=0)\n",
    "\n",
    "sampleB = pd.concat([ordersByUsersB['orders'], pd.Series(0, index=np.arange(data['visitorsPerDateB'].sum() \\\n",
    "                                                        - len(ordersByUsersB['orders'])), name='orders')],axis=0)\n",
    "\n",
    "print('alpha =', 0.05)\n",
    "print(\"p-value = {0:.3f}\".format(stats.mannwhitneyu(sampleA, sampleB)[1]))\n",
    "print(\"Относительный показатель = {0:.3f}\".format(sampleB.mean() /sampleA.mean() -1))"
   ]
  },
  {
   "cell_type": "markdown",
   "metadata": {},
   "source": [
    "P-value = 0.011, что меньше alph. Значит можно отвегрнуть нулевую гипотезу о том, что нет статистически значимых различий в среднем количестве заказов между группами. По «сырым» данным есть различия в количестве заказов групп A и B. Относительный выигрыш группы B равен 16.0% ."
   ]
  },
  {
   "cell_type": "markdown",
   "metadata": {},
   "source": [
    "<a id=\"row_order\"></a>\n",
    "#### Статистическая значимость различий в среднем чеке заказа между группами по «сырым» данным"
   ]
  },
  {
   "cell_type": "markdown",
   "metadata": {},
   "source": [
    "Нулевая гипотеза - статистически значимых различий в средних чеках между группами нет. <br>\n",
    "Альтернативная гипотеза - статистически значимые различия есть."
   ]
  },
  {
   "cell_type": "code",
   "execution_count": 48,
   "metadata": {},
   "outputs": [
    {
     "name": "stdout",
     "output_type": "stream",
     "text": [
      "alpha = 0.05\n",
      "p-value = 0.829\n",
      "Относительный показатель = 0.287\n"
     ]
    }
   ],
   "source": [
    "print('alpha =', 0.05)\n",
    "print(\"p-value = {0:.3f}\".format(stats.mannwhitneyu(orders[orders['group']=='A']['revenue'], \\\n",
    "                                          orders[orders['group']=='B']['revenue'])[1]))\n",
    "print(\"Относительный показатель = {0:.3f}\".format(orders[orders['group']=='B']['revenue']\\\n",
    "                                                  .mean() /orders[orders['group']=='A']['revenue'].mean() -1))"
   ]
  },
  {
   "cell_type": "markdown",
   "metadata": {},
   "source": [
    "P-value больше alpha, значит нет причин отвергать нулевую гипотезу, т.е. по сырым данным в средних чеках нет различий, а наблюдаемое превышение среднего чека группы В на 28,7% не является значимым, получено случайно."
   ]
  },
  {
   "cell_type": "markdown",
   "metadata": {},
   "source": [
    "<a id=\"clear_order\"></a>\n",
    "#### Статистическая значимость различий в среднем количестве заказов между группами по «очищенным» данным"
   ]
  },
  {
   "cell_type": "markdown",
   "metadata": {},
   "source": [
    "Узнаем, сколько всего аномальных пользователей. Из предудыщих расчетов возьму количество аномальных заказов больше 2, сумма заказа больше 53904."
   ]
  },
  {
   "cell_type": "code",
   "execution_count": 49,
   "metadata": {},
   "outputs": [],
   "source": [
    "a =int(np.percentile(ordersByUsers['orders'],[99]))\n",
    "b= int(np.percentile(orders['revenue'], [99]))"
   ]
  },
  {
   "cell_type": "code",
   "execution_count": 50,
   "metadata": {},
   "outputs": [
    {
     "name": "stdout",
     "output_type": "stream",
     "text": [
      "Всего аномальных пользователей: 16\n"
     ]
    }
   ],
   "source": [
    "usersWithManyOrders = pd.concat([ordersByUsersA[ordersByUsersA['orders']>a]['userId'],\n",
    "                                 ordersByUsersA[ordersByUsersB['orders']>a]['userId']], axis=0)\n",
    "usersWithExpensiveOrders = orders[orders['revenue']>b]['visitorId']\n",
    "abnormalUsers = pd.concat([usersWithManyOrders, usersWithExpensiveOrders], axis=0).drop_duplicates()\n",
    "\n",
    "print('Всего аномальных пользователей:', abnormalUsers.shape[0])"
   ]
  },
  {
   "cell_type": "markdown",
   "metadata": {},
   "source": [
    "Посмотрим, как их действия повлияло на результаты теста."
   ]
  },
  {
   "cell_type": "code",
   "execution_count": 51,
   "metadata": {},
   "outputs": [
    {
     "name": "stdout",
     "output_type": "stream",
     "text": [
      "alpha = 0.05\n",
      "p-value = 0.005\n",
      "Относительный показатель = 0.208\n"
     ]
    }
   ],
   "source": [
    "sampleAFiltered = pd.concat([ordersByUsersA[np.logical_not(ordersByUsersA['userId'].isin(abnormalUsers))]['orders'], \\\n",
    "    pd.Series(0, index=np.arange(data['visitorsPerDateA'].sum()-len(ordersByUsersA['orders'])),  name='orders')],  axis=0)\n",
    "\n",
    "sampleBFiltered = pd.concat([ordersByUsersB[np.logical_not(ordersByUsersB['userId'].isin(abnormalUsers))]['orders'], \\\n",
    "    pd.Series(0, index=np.arange(data['visitorsPerDateB'].sum()-len(ordersByUsersB['orders'])),  name='orders')],  axis=0)\n",
    "\n",
    "print('alpha =', 0.05)\n",
    "print('p-value = {0:.3f}'.format(stats.mannwhitneyu(sampleAFiltered, sampleBFiltered)[1]))\n",
    "print('Относительный показатель = {0:.3f}'.format(sampleBFiltered.mean()/sampleAFiltered.mean()-1)) "
   ]
  },
  {
   "cell_type": "markdown",
   "metadata": {},
   "source": [
    "P-value меньше alpha = 0.05, значит нулевую гипотезу отвергаем, что значит, что есть есть различия в конверсии группы В и А. Относительный выйгрыш равен 20,8%."
   ]
  },
  {
   "cell_type": "markdown",
   "metadata": {},
   "source": [
    "<a id=\"clear_order_mean\"></a>\n",
    "#### Статистическая значимость различий в среднем чеке заказа между группами по «очищенным» данным"
   ]
  },
  {
   "cell_type": "code",
   "execution_count": 53,
   "metadata": {},
   "outputs": [
    {
     "name": "stdout",
     "output_type": "stream",
     "text": [
      "alpha = 0.05\n",
      "p-value =0.839\n",
      "Относительный показатель = -0.029\n"
     ]
    }
   ],
   "source": [
    "print('alpha =', 0.05)\n",
    "print('p-value ={0:.3f}'.format(stats.mannwhitneyu(orders[np.logical_and(orders['group']=='A', \\\n",
    "                                             np.logical_not(orders['visitorId'].isin(abnormalUsers)))]['revenue'], \n",
    "                                         orders[np.logical_and(orders['group']=='B', \\\n",
    "                                            np.logical_not(orders['visitorId'].isin(abnormalUsers)))]['revenue'])[1]))\n",
    "\n",
    "\n",
    "print('Относительный показатель = {0:.3f}'.format(orders[np.logical_and(orders['group']=='B', \\\n",
    "                              np.logical_not(orders['visitorId'].isin(abnormalUsers)))]['revenue'].mean() / \n",
    "                       orders[np.logical_and(orders['group']=='A', \\\n",
    "                              np.logical_not(orders['visitorId'].isin(abnormalUsers)))]['revenue'].mean()-1))\n"
   ]
  },
  {
   "cell_type": "markdown",
   "metadata": {},
   "source": [
    "P-value равен 83,9%, что значительно выше alpha =0.05, значит нет причин отвергать нулевую гипотезу и считать,что в средних чеках есть различия тоже нет. Средний чек группы B оказался немного ниже среднего чека группы A на 0.029%"
   ]
  },
  {
   "cell_type": "markdown",
   "metadata": {},
   "source": [
    "<a id=\"conclusions\"></a>\n",
    "#### Решение по результатам теста"
   ]
  },
  {
   "cell_type": "markdown",
   "metadata": {},
   "source": [
    "По сырым и очищенным данным есть различия в количестве заказов групп А и В. Относительный выигрыш по очищенным данным группы В равен 20,8%.\n",
    "\n",
    "\n",
    "Отсутствуют отличия в средних чеках группы А и В как по сырым данным, так и по очищенным. Разница в 28,7% в средних чеках по сырым данным была вызвана аномальным заказом в группе В.\n",
    "\n",
    "По результатам тестирования можно сделать вывод о приостановке тестирования и в качестве победиля считать победу группы B : группа B лучше группы A по количеству заказов, хотя по среднему чеку группы примерно равны."
   ]
  }
 ],
 "metadata": {
  "ExecuteTimeLog": [
   {
    "duration": 1626,
    "start_time": "2022-11-21T09:52:44.315Z"
   },
   {
    "duration": 190,
    "start_time": "2022-11-21T09:53:50.051Z"
   },
   {
    "duration": 11,
    "start_time": "2022-11-21T09:56:28.657Z"
   },
   {
    "duration": 14,
    "start_time": "2022-11-21T09:56:38.929Z"
   },
   {
    "duration": 10,
    "start_time": "2022-11-21T09:56:53.113Z"
   },
   {
    "duration": 9,
    "start_time": "2022-11-21T09:57:13.783Z"
   },
   {
    "duration": 5,
    "start_time": "2022-11-21T10:24:27.183Z"
   },
   {
    "duration": 14,
    "start_time": "2022-11-21T10:24:37.830Z"
   },
   {
    "duration": 10,
    "start_time": "2022-11-21T10:24:59.650Z"
   },
   {
    "duration": 7,
    "start_time": "2022-11-21T10:25:09.472Z"
   },
   {
    "duration": 4,
    "start_time": "2022-11-21T10:25:22.609Z"
   },
   {
    "duration": 6,
    "start_time": "2022-11-21T10:26:27.709Z"
   },
   {
    "duration": 7,
    "start_time": "2022-11-21T10:26:42.353Z"
   },
   {
    "duration": 6,
    "start_time": "2022-11-21T11:43:08.989Z"
   },
   {
    "duration": 6,
    "start_time": "2022-11-21T11:43:33.983Z"
   },
   {
    "duration": 5,
    "start_time": "2022-11-21T11:43:38.274Z"
   },
   {
    "duration": 7,
    "start_time": "2022-11-21T11:43:49.349Z"
   },
   {
    "duration": 4,
    "start_time": "2022-11-21T11:43:57.213Z"
   },
   {
    "duration": 6,
    "start_time": "2022-11-21T11:44:07.302Z"
   },
   {
    "duration": 3,
    "start_time": "2022-11-21T11:45:04.906Z"
   },
   {
    "duration": 6,
    "start_time": "2022-11-21T11:45:29.895Z"
   },
   {
    "duration": 69,
    "start_time": "2022-11-21T11:58:33.279Z"
   },
   {
    "duration": 70,
    "start_time": "2022-11-21T11:59:01.417Z"
   },
   {
    "duration": 104,
    "start_time": "2022-11-21T12:09:45.234Z"
   },
   {
    "duration": 10,
    "start_time": "2022-11-21T12:09:56.680Z"
   },
   {
    "duration": 7,
    "start_time": "2022-11-21T12:10:16.545Z"
   },
   {
    "duration": 98,
    "start_time": "2022-11-21T12:16:33.887Z"
   },
   {
    "duration": 78,
    "start_time": "2022-11-21T12:16:41.222Z"
   },
   {
    "duration": 77,
    "start_time": "2022-11-21T12:17:20.892Z"
   },
   {
    "duration": 68,
    "start_time": "2022-11-21T12:17:26.667Z"
   },
   {
    "duration": 74,
    "start_time": "2022-11-21T12:17:56.120Z"
   },
   {
    "duration": 1061,
    "start_time": "2022-11-21T12:18:32.371Z"
   },
   {
    "duration": 162,
    "start_time": "2022-11-21T12:20:04.158Z"
   },
   {
    "duration": 149,
    "start_time": "2022-11-21T12:20:28.233Z"
   },
   {
    "duration": 148,
    "start_time": "2022-11-21T12:20:34.843Z"
   },
   {
    "duration": 149,
    "start_time": "2022-11-21T12:20:40.230Z"
   },
   {
    "duration": 158,
    "start_time": "2022-11-21T12:21:01.622Z"
   },
   {
    "duration": 167,
    "start_time": "2022-11-21T12:21:14.118Z"
   },
   {
    "duration": 132,
    "start_time": "2022-11-21T12:24:48.194Z"
   },
   {
    "duration": 6,
    "start_time": "2022-11-21T12:25:51.978Z"
   },
   {
    "duration": 12,
    "start_time": "2022-11-21T12:25:55.011Z"
   },
   {
    "duration": 9,
    "start_time": "2022-11-21T12:26:07.235Z"
   },
   {
    "duration": 159,
    "start_time": "2022-11-21T12:27:36.480Z"
   },
   {
    "duration": 120,
    "start_time": "2022-11-21T12:27:36.990Z"
   },
   {
    "duration": 6,
    "start_time": "2022-11-21T12:27:37.503Z"
   },
   {
    "duration": 12,
    "start_time": "2022-11-21T12:27:38.023Z"
   },
   {
    "duration": 8,
    "start_time": "2022-11-21T12:28:34.705Z"
   },
   {
    "duration": 12,
    "start_time": "2022-11-21T12:28:35.409Z"
   },
   {
    "duration": 6,
    "start_time": "2022-11-21T12:29:54.987Z"
   },
   {
    "duration": 9,
    "start_time": "2022-11-21T12:30:19.051Z"
   },
   {
    "duration": 207,
    "start_time": "2022-11-21T12:31:38.418Z"
   },
   {
    "duration": 247,
    "start_time": "2022-11-21T12:31:52.741Z"
   },
   {
    "duration": 161,
    "start_time": "2022-11-21T12:32:22.740Z"
   },
   {
    "duration": 181,
    "start_time": "2022-11-21T12:32:27.049Z"
   },
   {
    "duration": 180,
    "start_time": "2022-11-21T12:32:39.123Z"
   },
   {
    "duration": 186,
    "start_time": "2022-11-21T12:35:38.269Z"
   },
   {
    "duration": 208,
    "start_time": "2022-11-21T12:35:44.010Z"
   },
   {
    "duration": 240,
    "start_time": "2022-11-21T12:35:48.993Z"
   },
   {
    "duration": 258,
    "start_time": "2022-11-21T12:36:12.851Z"
   },
   {
    "duration": 95,
    "start_time": "2022-11-21T12:41:14.414Z"
   },
   {
    "duration": 78,
    "start_time": "2022-11-21T12:41:41.909Z"
   },
   {
    "duration": 8,
    "start_time": "2022-11-21T12:41:46.920Z"
   },
   {
    "duration": 12,
    "start_time": "2022-11-21T12:45:32.270Z"
   },
   {
    "duration": 10,
    "start_time": "2022-11-21T12:45:42.548Z"
   },
   {
    "duration": 9,
    "start_time": "2022-11-21T12:46:55.710Z"
   },
   {
    "duration": 10,
    "start_time": "2022-11-21T12:47:24.382Z"
   },
   {
    "duration": 15,
    "start_time": "2022-11-21T12:47:47.575Z"
   },
   {
    "duration": 14,
    "start_time": "2022-11-21T12:47:55.275Z"
   },
   {
    "duration": 10,
    "start_time": "2022-11-21T12:48:17.528Z"
   },
   {
    "duration": 12,
    "start_time": "2022-11-21T12:48:24.351Z"
   },
   {
    "duration": 159,
    "start_time": "2022-11-21T12:52:54.292Z"
   },
   {
    "duration": 149,
    "start_time": "2022-11-21T12:53:16.577Z"
   },
   {
    "duration": 155,
    "start_time": "2022-11-21T12:53:25.819Z"
   },
   {
    "duration": 140,
    "start_time": "2022-11-21T12:53:43.173Z"
   },
   {
    "duration": 157,
    "start_time": "2022-11-21T12:54:02.128Z"
   },
   {
    "duration": 181,
    "start_time": "2022-11-21T12:54:09.325Z"
   },
   {
    "duration": 1283,
    "start_time": "2022-11-21T13:20:45.955Z"
   },
   {
    "duration": 77,
    "start_time": "2022-11-21T13:20:47.240Z"
   },
   {
    "duration": 18,
    "start_time": "2022-11-21T13:20:47.319Z"
   },
   {
    "duration": 10,
    "start_time": "2022-11-21T13:20:47.340Z"
   },
   {
    "duration": 10,
    "start_time": "2022-11-21T13:20:47.352Z"
   },
   {
    "duration": 10,
    "start_time": "2022-11-21T13:20:47.363Z"
   },
   {
    "duration": 9,
    "start_time": "2022-11-21T13:20:47.375Z"
   },
   {
    "duration": 9,
    "start_time": "2022-11-21T13:20:47.386Z"
   },
   {
    "duration": 50,
    "start_time": "2022-11-21T13:20:47.397Z"
   },
   {
    "duration": 12,
    "start_time": "2022-11-21T13:20:47.449Z"
   },
   {
    "duration": 6,
    "start_time": "2022-11-21T13:20:47.463Z"
   },
   {
    "duration": 8,
    "start_time": "2022-11-21T13:20:47.471Z"
   },
   {
    "duration": 11,
    "start_time": "2022-11-21T13:20:47.481Z"
   },
   {
    "duration": 6,
    "start_time": "2022-11-21T13:20:47.494Z"
   },
   {
    "duration": 160,
    "start_time": "2022-11-21T13:20:47.538Z"
   },
   {
    "duration": 116,
    "start_time": "2022-11-21T13:20:47.700Z"
   },
   {
    "duration": 7,
    "start_time": "2022-11-21T13:20:47.818Z"
   },
   {
    "duration": 23,
    "start_time": "2022-11-21T13:20:47.827Z"
   },
   {
    "duration": 287,
    "start_time": "2022-11-21T13:20:47.852Z"
   },
   {
    "duration": 11,
    "start_time": "2022-11-21T13:20:48.141Z"
   },
   {
    "duration": 18,
    "start_time": "2022-11-21T13:20:48.154Z"
   },
   {
    "duration": 203,
    "start_time": "2022-11-21T13:20:48.175Z"
   },
   {
    "duration": 196,
    "start_time": "2022-11-21T13:21:50.198Z"
   },
   {
    "duration": 73,
    "start_time": "2022-11-21T13:27:37.471Z"
   },
   {
    "duration": 6,
    "start_time": "2022-11-21T13:30:57.435Z"
   },
   {
    "duration": 14,
    "start_time": "2022-11-21T13:32:19.752Z"
   },
   {
    "duration": 13,
    "start_time": "2022-11-21T13:32:50.343Z"
   },
   {
    "duration": 13,
    "start_time": "2022-11-21T13:33:05.367Z"
   },
   {
    "duration": 13,
    "start_time": "2022-11-21T13:33:15.264Z"
   },
   {
    "duration": 15,
    "start_time": "2022-11-21T13:33:40.106Z"
   },
   {
    "duration": 11,
    "start_time": "2022-11-21T13:33:59.912Z"
   },
   {
    "duration": 152,
    "start_time": "2022-11-21T13:34:55.252Z"
   },
   {
    "duration": 146,
    "start_time": "2022-11-21T13:35:10.720Z"
   },
   {
    "duration": 154,
    "start_time": "2022-11-21T13:35:20.369Z"
   },
   {
    "duration": 158,
    "start_time": "2022-11-21T13:35:39.896Z"
   },
   {
    "duration": 158,
    "start_time": "2022-11-21T13:35:48.129Z"
   },
   {
    "duration": 340,
    "start_time": "2022-11-21T13:46:15.979Z"
   },
   {
    "duration": 322,
    "start_time": "2022-11-21T13:46:28.189Z"
   },
   {
    "duration": 320,
    "start_time": "2022-11-21T13:46:37.760Z"
   },
   {
    "duration": 102,
    "start_time": "2022-11-21T13:51:45.817Z"
   },
   {
    "duration": 113,
    "start_time": "2022-11-21T13:59:46.051Z"
   },
   {
    "duration": 14,
    "start_time": "2022-11-21T14:00:52.794Z"
   },
   {
    "duration": 14,
    "start_time": "2022-11-21T14:00:56.992Z"
   },
   {
    "duration": 19,
    "start_time": "2022-11-21T14:01:34.110Z"
   },
   {
    "duration": 4,
    "start_time": "2022-11-21T14:01:57.335Z"
   },
   {
    "duration": 13,
    "start_time": "2022-11-21T14:02:09.700Z"
   },
   {
    "duration": 5,
    "start_time": "2022-11-21T14:02:50.399Z"
   },
   {
    "duration": 5,
    "start_time": "2022-11-21T14:04:04.369Z"
   },
   {
    "duration": 22,
    "start_time": "2022-11-21T14:04:09.336Z"
   },
   {
    "duration": 189,
    "start_time": "2022-11-21T14:04:29.421Z"
   },
   {
    "duration": 265,
    "start_time": "2022-11-21T14:04:46.449Z"
   },
   {
    "duration": 177,
    "start_time": "2022-11-21T14:04:53.235Z"
   },
   {
    "duration": 194,
    "start_time": "2022-11-21T14:05:12.570Z"
   },
   {
    "duration": 188,
    "start_time": "2022-11-21T14:05:18.278Z"
   },
   {
    "duration": 168,
    "start_time": "2022-11-21T14:05:24.977Z"
   },
   {
    "duration": 191,
    "start_time": "2022-11-21T14:05:44.180Z"
   },
   {
    "duration": 193,
    "start_time": "2022-11-21T14:06:01.070Z"
   },
   {
    "duration": 313,
    "start_time": "2022-11-21T14:07:00.871Z"
   },
   {
    "duration": 5,
    "start_time": "2022-11-21T14:07:12.035Z"
   },
   {
    "duration": 289,
    "start_time": "2022-11-21T14:07:46.912Z"
   },
   {
    "duration": 162,
    "start_time": "2022-11-21T14:08:24.646Z"
   },
   {
    "duration": 77,
    "start_time": "2022-11-21T14:17:51.705Z"
   },
   {
    "duration": 15,
    "start_time": "2022-11-21T14:49:26.105Z"
   },
   {
    "duration": 6,
    "start_time": "2022-11-21T14:49:36.106Z"
   },
   {
    "duration": 19,
    "start_time": "2022-11-21T14:49:54.873Z"
   },
   {
    "duration": 10,
    "start_time": "2022-11-21T14:50:07.936Z"
   },
   {
    "duration": 10,
    "start_time": "2022-11-21T14:50:16.940Z"
   },
   {
    "duration": 21,
    "start_time": "2022-11-21T14:50:29.854Z"
   },
   {
    "duration": 15,
    "start_time": "2022-11-21T14:51:05.523Z"
   },
   {
    "duration": 13,
    "start_time": "2022-11-21T14:51:23.295Z"
   },
   {
    "duration": 154,
    "start_time": "2022-11-21T14:52:34.458Z"
   },
   {
    "duration": 183,
    "start_time": "2022-11-21T14:52:41.354Z"
   },
   {
    "duration": 201,
    "start_time": "2022-11-21T14:52:51.994Z"
   },
   {
    "duration": 175,
    "start_time": "2022-11-21T14:53:17.505Z"
   },
   {
    "duration": 240,
    "start_time": "2022-11-21T14:54:18.730Z"
   },
   {
    "duration": 175,
    "start_time": "2022-11-21T14:57:16.802Z"
   },
   {
    "duration": 266,
    "start_time": "2022-11-21T14:58:37.374Z"
   },
   {
    "duration": 326,
    "start_time": "2022-11-21T15:00:16.124Z"
   },
   {
    "duration": 335,
    "start_time": "2022-11-21T15:01:40.125Z"
   },
   {
    "duration": 75,
    "start_time": "2022-11-21T15:06:27.801Z"
   },
   {
    "duration": 8,
    "start_time": "2022-11-21T15:09:04.190Z"
   },
   {
    "duration": 7,
    "start_time": "2022-11-21T15:10:34.390Z"
   },
   {
    "duration": 12,
    "start_time": "2022-11-21T15:10:44.726Z"
   },
   {
    "duration": 6,
    "start_time": "2022-11-21T15:11:00.710Z"
   },
   {
    "duration": 217,
    "start_time": "2022-11-21T15:14:27.463Z"
   },
   {
    "duration": 5,
    "start_time": "2022-11-21T15:14:33.950Z"
   },
   {
    "duration": 137,
    "start_time": "2022-11-21T15:16:13.600Z"
   },
   {
    "duration": 5,
    "start_time": "2022-11-21T15:21:07.848Z"
   },
   {
    "duration": 6,
    "start_time": "2022-11-21T15:22:18.432Z"
   },
   {
    "duration": 5,
    "start_time": "2022-11-21T15:26:26.619Z"
   },
   {
    "duration": 4,
    "start_time": "2022-11-21T15:26:42.409Z"
   },
   {
    "duration": 5,
    "start_time": "2022-11-21T15:26:46.227Z"
   },
   {
    "duration": 139,
    "start_time": "2022-11-21T15:29:13.213Z"
   },
   {
    "duration": 13,
    "start_time": "2022-11-21T15:31:07.714Z"
   },
   {
    "duration": 3,
    "start_time": "2022-11-21T15:31:16.412Z"
   },
   {
    "duration": 6,
    "start_time": "2022-11-21T15:31:49.939Z"
   },
   {
    "duration": 12,
    "start_time": "2022-11-21T15:31:58.290Z"
   },
   {
    "duration": 7,
    "start_time": "2022-11-21T15:32:04.577Z"
   },
   {
    "duration": 12,
    "start_time": "2022-11-21T15:33:32.219Z"
   },
   {
    "duration": 12,
    "start_time": "2022-11-21T15:34:10.420Z"
   },
   {
    "duration": 176,
    "start_time": "2022-11-21T15:34:38.605Z"
   },
   {
    "duration": 130,
    "start_time": "2022-11-21T15:34:48.540Z"
   },
   {
    "duration": 120,
    "start_time": "2022-11-21T15:36:49.869Z"
   },
   {
    "duration": 15,
    "start_time": "2022-11-21T15:37:35.988Z"
   },
   {
    "duration": 6,
    "start_time": "2022-11-21T15:37:48.525Z"
   },
   {
    "duration": 7,
    "start_time": "2022-11-21T15:39:28.587Z"
   },
   {
    "duration": 144,
    "start_time": "2022-11-21T15:39:45.028Z"
   },
   {
    "duration": 5,
    "start_time": "2022-11-21T15:44:36.163Z"
   },
   {
    "duration": 6,
    "start_time": "2022-11-21T15:45:03.974Z"
   },
   {
    "duration": 4,
    "start_time": "2022-11-21T15:46:05.975Z"
   },
   {
    "duration": 1164,
    "start_time": "2022-11-21T15:50:01.597Z"
   },
   {
    "duration": 76,
    "start_time": "2022-11-21T15:50:02.764Z"
   },
   {
    "duration": 16,
    "start_time": "2022-11-21T15:50:02.841Z"
   },
   {
    "duration": 50,
    "start_time": "2022-11-21T15:50:02.859Z"
   },
   {
    "duration": 84,
    "start_time": "2022-11-21T15:50:02.912Z"
   },
   {
    "duration": 37,
    "start_time": "2022-11-21T15:50:02.998Z"
   },
   {
    "duration": 59,
    "start_time": "2022-11-21T15:50:03.037Z"
   },
   {
    "duration": 34,
    "start_time": "2022-11-21T15:50:03.097Z"
   },
   {
    "duration": 49,
    "start_time": "2022-11-21T15:50:03.133Z"
   },
   {
    "duration": 50,
    "start_time": "2022-11-21T15:50:03.184Z"
   },
   {
    "duration": 46,
    "start_time": "2022-11-21T15:50:03.237Z"
   },
   {
    "duration": 14,
    "start_time": "2022-11-21T15:50:03.285Z"
   },
   {
    "duration": 39,
    "start_time": "2022-11-21T15:50:03.302Z"
   },
   {
    "duration": 48,
    "start_time": "2022-11-21T15:50:03.345Z"
   },
   {
    "duration": 179,
    "start_time": "2022-11-21T15:50:03.395Z"
   },
   {
    "duration": 133,
    "start_time": "2022-11-21T15:50:03.576Z"
   },
   {
    "duration": 8,
    "start_time": "2022-11-21T15:50:03.711Z"
   },
   {
    "duration": 25,
    "start_time": "2022-11-21T15:50:03.720Z"
   },
   {
    "duration": 306,
    "start_time": "2022-11-21T15:50:03.747Z"
   },
   {
    "duration": 13,
    "start_time": "2022-11-21T15:50:04.055Z"
   },
   {
    "duration": 58,
    "start_time": "2022-11-21T15:50:04.070Z"
   },
   {
    "duration": 201,
    "start_time": "2022-11-21T15:50:04.130Z"
   },
   {
    "duration": 16,
    "start_time": "2022-11-21T15:50:04.332Z"
   },
   {
    "duration": 309,
    "start_time": "2022-11-21T15:50:04.350Z"
   },
   {
    "duration": 4,
    "start_time": "2022-11-21T15:50:04.661Z"
   },
   {
    "duration": 24,
    "start_time": "2022-11-21T15:50:04.666Z"
   },
   {
    "duration": 214,
    "start_time": "2022-11-21T15:50:04.692Z"
   },
   {
    "duration": 340,
    "start_time": "2022-11-21T15:50:04.908Z"
   },
   {
    "duration": 7,
    "start_time": "2022-11-21T15:50:05.251Z"
   },
   {
    "duration": 141,
    "start_time": "2022-11-21T15:50:05.259Z"
   },
   {
    "duration": 5,
    "start_time": "2022-11-21T15:50:05.402Z"
   },
   {
    "duration": 21,
    "start_time": "2022-11-21T15:50:05.409Z"
   },
   {
    "duration": 25,
    "start_time": "2022-11-21T15:50:05.432Z"
   },
   {
    "duration": 206,
    "start_time": "2022-11-21T15:50:05.459Z"
   },
   {
    "duration": 165,
    "start_time": "2022-11-21T15:50:05.667Z"
   },
   {
    "duration": 15,
    "start_time": "2022-11-21T15:50:05.835Z"
   },
   {
    "duration": 1254,
    "start_time": "2022-11-23T12:03:12.469Z"
   },
   {
    "duration": 184,
    "start_time": "2022-11-23T12:03:13.725Z"
   },
   {
    "duration": 13,
    "start_time": "2022-11-23T12:03:13.910Z"
   },
   {
    "duration": 11,
    "start_time": "2022-11-23T12:03:13.925Z"
   },
   {
    "duration": 11,
    "start_time": "2022-11-23T12:03:13.937Z"
   },
   {
    "duration": 12,
    "start_time": "2022-11-23T12:03:13.949Z"
   },
   {
    "duration": 6,
    "start_time": "2022-11-23T12:03:13.962Z"
   },
   {
    "duration": 7,
    "start_time": "2022-11-23T12:03:13.970Z"
   },
   {
    "duration": 10,
    "start_time": "2022-11-23T12:03:13.979Z"
   },
   {
    "duration": 13,
    "start_time": "2022-11-23T12:03:13.992Z"
   },
   {
    "duration": 36,
    "start_time": "2022-11-23T12:03:14.007Z"
   },
   {
    "duration": 7,
    "start_time": "2022-11-23T12:03:14.045Z"
   },
   {
    "duration": 9,
    "start_time": "2022-11-23T12:03:14.054Z"
   },
   {
    "duration": 10,
    "start_time": "2022-11-23T12:03:14.064Z"
   },
   {
    "duration": 178,
    "start_time": "2022-11-23T12:03:14.075Z"
   },
   {
    "duration": 128,
    "start_time": "2022-11-23T12:03:14.255Z"
   },
   {
    "duration": 6,
    "start_time": "2022-11-23T12:03:14.385Z"
   },
   {
    "duration": 14,
    "start_time": "2022-11-23T12:03:14.393Z"
   },
   {
    "duration": 268,
    "start_time": "2022-11-23T12:03:14.408Z"
   },
   {
    "duration": 9,
    "start_time": "2022-11-23T12:03:14.677Z"
   },
   {
    "duration": 13,
    "start_time": "2022-11-23T12:03:14.688Z"
   },
   {
    "duration": 168,
    "start_time": "2022-11-23T12:03:14.702Z"
   },
   {
    "duration": 10,
    "start_time": "2022-11-23T12:03:14.872Z"
   },
   {
    "duration": 293,
    "start_time": "2022-11-23T12:03:14.884Z"
   },
   {
    "duration": 4,
    "start_time": "2022-11-23T12:03:15.178Z"
   },
   {
    "duration": 20,
    "start_time": "2022-11-23T12:03:15.184Z"
   },
   {
    "duration": 189,
    "start_time": "2022-11-23T12:03:15.206Z"
   },
   {
    "duration": 312,
    "start_time": "2022-11-23T12:03:15.398Z"
   },
   {
    "duration": 5,
    "start_time": "2022-11-23T12:03:15.712Z"
   },
   {
    "duration": 140,
    "start_time": "2022-11-23T12:03:15.719Z"
   },
   {
    "duration": 4,
    "start_time": "2022-11-23T12:03:15.861Z"
   },
   {
    "duration": 5,
    "start_time": "2022-11-23T12:03:15.867Z"
   },
   {
    "duration": 7,
    "start_time": "2022-11-23T12:03:15.874Z"
   },
   {
    "duration": 147,
    "start_time": "2022-11-23T12:03:15.883Z"
   },
   {
    "duration": 132,
    "start_time": "2022-11-23T12:03:16.036Z"
   },
   {
    "duration": 4,
    "start_time": "2022-11-23T12:03:16.170Z"
   },
   {
    "duration": 10,
    "start_time": "2022-11-23T14:28:55.474Z"
   },
   {
    "duration": 1020,
    "start_time": "2022-11-23T14:31:33.393Z"
   },
   {
    "duration": 892,
    "start_time": "2022-11-23T14:32:15.211Z"
   },
   {
    "duration": 109,
    "start_time": "2022-11-23T14:33:49.285Z"
   },
   {
    "duration": 56,
    "start_time": "2022-11-23T14:34:08.768Z"
   },
   {
    "duration": 49,
    "start_time": "2022-11-23T14:34:26.319Z"
   },
   {
    "duration": 48,
    "start_time": "2022-11-23T14:35:10.907Z"
   },
   {
    "duration": 59,
    "start_time": "2022-11-23T14:35:25.556Z"
   },
   {
    "duration": 71,
    "start_time": "2022-11-23T14:37:14.483Z"
   },
   {
    "duration": 82,
    "start_time": "2022-11-23T14:37:49.051Z"
   },
   {
    "duration": 68,
    "start_time": "2022-11-23T14:37:58.060Z"
   },
   {
    "duration": 48,
    "start_time": "2022-11-23T14:38:06.713Z"
   },
   {
    "duration": 91,
    "start_time": "2022-11-23T14:38:18.748Z"
   },
   {
    "duration": 87,
    "start_time": "2022-11-23T14:38:22.425Z"
   },
   {
    "duration": 135,
    "start_time": "2022-11-23T14:43:19.274Z"
   },
   {
    "duration": 96,
    "start_time": "2022-11-23T14:45:29.269Z"
   },
   {
    "duration": 113,
    "start_time": "2022-11-23T14:46:16.936Z"
   },
   {
    "duration": 102,
    "start_time": "2022-11-23T14:46:30.756Z"
   },
   {
    "duration": 115,
    "start_time": "2022-11-23T14:48:07.028Z"
   },
   {
    "duration": 116,
    "start_time": "2022-11-23T14:48:55.666Z"
   },
   {
    "duration": 96,
    "start_time": "2022-11-23T14:49:29.646Z"
   },
   {
    "duration": 145,
    "start_time": "2022-11-23T14:49:48.964Z"
   },
   {
    "duration": 111,
    "start_time": "2022-11-23T14:50:21.286Z"
   },
   {
    "duration": 104,
    "start_time": "2022-11-23T14:50:56.767Z"
   },
   {
    "duration": 146,
    "start_time": "2022-11-23T14:51:18.976Z"
   },
   {
    "duration": 104,
    "start_time": "2022-11-23T14:51:24.491Z"
   },
   {
    "duration": 112,
    "start_time": "2022-11-23T14:51:30.948Z"
   },
   {
    "duration": 111,
    "start_time": "2022-11-23T14:51:48.652Z"
   },
   {
    "duration": 126,
    "start_time": "2022-11-23T14:52:15.189Z"
   },
   {
    "duration": 143,
    "start_time": "2022-11-23T14:55:58.452Z"
   },
   {
    "duration": 155,
    "start_time": "2022-11-23T14:56:21.320Z"
   },
   {
    "duration": 169,
    "start_time": "2022-11-23T14:56:51.680Z"
   },
   {
    "duration": 160,
    "start_time": "2022-11-23T14:57:02.855Z"
   },
   {
    "duration": 165,
    "start_time": "2022-11-23T14:57:26.188Z"
   },
   {
    "duration": 190,
    "start_time": "2022-11-23T14:57:41.098Z"
   },
   {
    "duration": 188,
    "start_time": "2022-11-23T14:58:04.100Z"
   },
   {
    "duration": 209,
    "start_time": "2022-11-23T15:15:15.342Z"
   },
   {
    "duration": 7,
    "start_time": "2022-11-23T15:15:21.464Z"
   },
   {
    "duration": 197,
    "start_time": "2022-11-23T15:16:30.867Z"
   },
   {
    "duration": 6,
    "start_time": "2022-11-23T15:16:32.450Z"
   },
   {
    "duration": 13,
    "start_time": "2022-11-23T15:19:34.098Z"
   },
   {
    "duration": 67,
    "start_time": "2022-11-23T15:20:32.452Z"
   },
   {
    "duration": 63,
    "start_time": "2022-11-23T15:20:55.366Z"
   },
   {
    "duration": 149,
    "start_time": "2022-11-23T15:22:21.170Z"
   },
   {
    "duration": 11,
    "start_time": "2022-11-23T15:26:25.808Z"
   },
   {
    "duration": 1311,
    "start_time": "2022-11-23T15:26:45.543Z"
   },
   {
    "duration": 11,
    "start_time": "2022-11-23T15:27:04.503Z"
   },
   {
    "duration": 99,
    "start_time": "2022-11-23T15:31:56.301Z"
   },
   {
    "duration": 72,
    "start_time": "2022-11-23T15:32:09.696Z"
   },
   {
    "duration": 5,
    "start_time": "2022-11-23T15:32:35.810Z"
   },
   {
    "duration": 5,
    "start_time": "2022-11-23T15:34:44.152Z"
   },
   {
    "duration": 5,
    "start_time": "2022-11-23T15:35:10.395Z"
   },
   {
    "duration": 3236,
    "start_time": "2022-11-23T15:35:29.839Z"
   },
   {
    "duration": 153,
    "start_time": "2022-11-23T15:35:55.801Z"
   },
   {
    "duration": 168,
    "start_time": "2022-11-23T15:36:23.522Z"
   },
   {
    "duration": 128,
    "start_time": "2022-11-23T15:37:53.285Z"
   },
   {
    "duration": 1105,
    "start_time": "2022-11-23T15:38:27.598Z"
   },
   {
    "duration": 71,
    "start_time": "2022-11-23T15:38:28.705Z"
   },
   {
    "duration": 13,
    "start_time": "2022-11-23T15:38:28.778Z"
   },
   {
    "duration": 20,
    "start_time": "2022-11-23T15:38:28.794Z"
   },
   {
    "duration": 27,
    "start_time": "2022-11-23T15:38:28.816Z"
   },
   {
    "duration": 24,
    "start_time": "2022-11-23T15:38:28.845Z"
   },
   {
    "duration": 11,
    "start_time": "2022-11-23T15:38:28.871Z"
   },
   {
    "duration": 16,
    "start_time": "2022-11-23T15:38:28.885Z"
   },
   {
    "duration": 16,
    "start_time": "2022-11-23T15:38:28.903Z"
   },
   {
    "duration": 18,
    "start_time": "2022-11-23T15:38:28.923Z"
   },
   {
    "duration": 29,
    "start_time": "2022-11-23T15:38:28.945Z"
   },
   {
    "duration": 11,
    "start_time": "2022-11-23T15:38:28.976Z"
   },
   {
    "duration": 36,
    "start_time": "2022-11-23T15:38:28.989Z"
   },
   {
    "duration": 35,
    "start_time": "2022-11-23T15:38:29.027Z"
   },
   {
    "duration": 183,
    "start_time": "2022-11-23T15:38:29.064Z"
   },
   {
    "duration": 130,
    "start_time": "2022-11-23T15:38:29.248Z"
   },
   {
    "duration": 6,
    "start_time": "2022-11-23T15:38:29.380Z"
   },
   {
    "duration": 10,
    "start_time": "2022-11-23T15:38:29.388Z"
   },
   {
    "duration": 299,
    "start_time": "2022-11-23T15:38:29.400Z"
   },
   {
    "duration": 10,
    "start_time": "2022-11-23T15:38:29.701Z"
   },
   {
    "duration": 26,
    "start_time": "2022-11-23T15:38:29.714Z"
   },
   {
    "duration": 200,
    "start_time": "2022-11-23T15:38:29.742Z"
   },
   {
    "duration": 11,
    "start_time": "2022-11-23T15:38:29.944Z"
   },
   {
    "duration": 295,
    "start_time": "2022-11-23T15:38:29.956Z"
   },
   {
    "duration": 4,
    "start_time": "2022-11-23T15:38:30.253Z"
   },
   {
    "duration": 18,
    "start_time": "2022-11-23T15:38:30.260Z"
   },
   {
    "duration": 239,
    "start_time": "2022-11-23T15:38:30.281Z"
   },
   {
    "duration": 333,
    "start_time": "2022-11-23T15:38:30.524Z"
   },
   {
    "duration": 7,
    "start_time": "2022-11-23T15:38:30.859Z"
   },
   {
    "duration": 136,
    "start_time": "2022-11-23T15:38:30.868Z"
   },
   {
    "duration": 5,
    "start_time": "2022-11-23T15:38:31.006Z"
   },
   {
    "duration": 25,
    "start_time": "2022-11-23T15:38:31.013Z"
   },
   {
    "duration": 11,
    "start_time": "2022-11-23T15:38:31.041Z"
   },
   {
    "duration": 153,
    "start_time": "2022-11-23T15:38:31.054Z"
   },
   {
    "duration": 146,
    "start_time": "2022-11-23T15:38:31.208Z"
   },
   {
    "duration": 5,
    "start_time": "2022-11-23T15:38:31.356Z"
   },
   {
    "duration": 323,
    "start_time": "2022-11-23T15:38:31.363Z"
   },
   {
    "duration": 10,
    "start_time": "2022-11-23T15:38:31.688Z"
   },
   {
    "duration": 263,
    "start_time": "2022-11-23T15:38:31.701Z"
   },
   {
    "duration": 142,
    "start_time": "2022-11-23T15:38:49.957Z"
   },
   {
    "duration": 80,
    "start_time": "2022-11-23T15:40:03.001Z"
   },
   {
    "duration": 157,
    "start_time": "2022-11-23T15:40:34.005Z"
   },
   {
    "duration": 11,
    "start_time": "2022-11-23T16:30:40.986Z"
   },
   {
    "duration": 10,
    "start_time": "2022-11-23T16:36:44.418Z"
   },
   {
    "duration": 190,
    "start_time": "2022-11-23T16:37:07.966Z"
   },
   {
    "duration": 184,
    "start_time": "2022-11-23T16:37:17.679Z"
   },
   {
    "duration": 6,
    "start_time": "2022-11-23T16:40:27.618Z"
   },
   {
    "duration": 1177,
    "start_time": "2022-11-23T16:43:47.862Z"
   },
   {
    "duration": 7,
    "start_time": "2022-11-23T16:44:20.940Z"
   },
   {
    "duration": 8,
    "start_time": "2022-11-23T16:45:30.177Z"
   },
   {
    "duration": 8,
    "start_time": "2022-11-23T16:45:45.495Z"
   },
   {
    "duration": 8,
    "start_time": "2022-11-23T16:46:23.911Z"
   },
   {
    "duration": 6,
    "start_time": "2022-11-23T16:52:12.101Z"
   },
   {
    "duration": 10,
    "start_time": "2022-11-23T16:52:26.199Z"
   },
   {
    "duration": 8,
    "start_time": "2022-11-23T16:52:57.046Z"
   },
   {
    "duration": 29,
    "start_time": "2022-11-23T16:55:03.592Z"
   },
   {
    "duration": 8,
    "start_time": "2022-11-23T16:55:21.363Z"
   },
   {
    "duration": 23,
    "start_time": "2022-11-23T16:55:26.754Z"
   },
   {
    "duration": 6,
    "start_time": "2022-11-23T17:25:19.216Z"
   },
   {
    "duration": 79,
    "start_time": "2022-11-23T17:25:25.736Z"
   },
   {
    "duration": 11,
    "start_time": "2022-11-23T17:25:37.965Z"
   },
   {
    "duration": 1202,
    "start_time": "2022-11-23T17:26:17.974Z"
   },
   {
    "duration": 12,
    "start_time": "2022-11-23T17:26:43.502Z"
   },
   {
    "duration": 15,
    "start_time": "2022-11-23T17:27:21.383Z"
   },
   {
    "duration": 12,
    "start_time": "2022-11-23T17:27:46.956Z"
   },
   {
    "duration": 10,
    "start_time": "2022-11-23T17:30:32.284Z"
   },
   {
    "duration": 80,
    "start_time": "2022-11-23T17:31:36.956Z"
   },
   {
    "duration": 20,
    "start_time": "2022-11-23T17:31:45.587Z"
   },
   {
    "duration": 23,
    "start_time": "2022-11-23T17:32:07.805Z"
   },
   {
    "duration": 14,
    "start_time": "2022-11-23T17:32:37.410Z"
   },
   {
    "duration": 14,
    "start_time": "2022-11-23T17:33:09.178Z"
   },
   {
    "duration": 1138,
    "start_time": "2022-11-23T17:36:27.435Z"
   },
   {
    "duration": 72,
    "start_time": "2022-11-23T17:36:28.575Z"
   },
   {
    "duration": 12,
    "start_time": "2022-11-23T17:36:28.649Z"
   },
   {
    "duration": 13,
    "start_time": "2022-11-23T17:36:28.663Z"
   },
   {
    "duration": 11,
    "start_time": "2022-11-23T17:36:28.678Z"
   },
   {
    "duration": 14,
    "start_time": "2022-11-23T17:36:28.690Z"
   },
   {
    "duration": 9,
    "start_time": "2022-11-23T17:36:28.706Z"
   },
   {
    "duration": 9,
    "start_time": "2022-11-23T17:36:28.716Z"
   },
   {
    "duration": 17,
    "start_time": "2022-11-23T17:36:28.727Z"
   },
   {
    "duration": 7,
    "start_time": "2022-11-23T17:36:28.747Z"
   },
   {
    "duration": 10,
    "start_time": "2022-11-23T17:36:28.756Z"
   },
   {
    "duration": 11,
    "start_time": "2022-11-23T17:36:28.767Z"
   },
   {
    "duration": 11,
    "start_time": "2022-11-23T17:36:28.780Z"
   },
   {
    "duration": 6,
    "start_time": "2022-11-23T17:36:28.793Z"
   },
   {
    "duration": 200,
    "start_time": "2022-11-23T17:36:28.801Z"
   },
   {
    "duration": 137,
    "start_time": "2022-11-23T17:36:29.003Z"
   },
   {
    "duration": 8,
    "start_time": "2022-11-23T17:36:29.142Z"
   },
   {
    "duration": 11,
    "start_time": "2022-11-23T17:36:29.151Z"
   },
   {
    "duration": 259,
    "start_time": "2022-11-23T17:36:29.164Z"
   },
   {
    "duration": 14,
    "start_time": "2022-11-23T17:36:29.424Z"
   },
   {
    "duration": 11,
    "start_time": "2022-11-23T17:36:29.440Z"
   },
   {
    "duration": 174,
    "start_time": "2022-11-23T17:36:29.452Z"
   },
   {
    "duration": 14,
    "start_time": "2022-11-23T17:36:29.628Z"
   },
   {
    "duration": 283,
    "start_time": "2022-11-23T17:36:29.644Z"
   },
   {
    "duration": 8,
    "start_time": "2022-11-23T17:36:29.929Z"
   },
   {
    "duration": 6,
    "start_time": "2022-11-23T17:36:29.938Z"
   },
   {
    "duration": 196,
    "start_time": "2022-11-23T17:36:29.945Z"
   },
   {
    "duration": 277,
    "start_time": "2022-11-23T17:36:30.144Z"
   },
   {
    "duration": 20,
    "start_time": "2022-11-23T17:36:30.423Z"
   },
   {
    "duration": 152,
    "start_time": "2022-11-23T17:36:30.444Z"
   },
   {
    "duration": 5,
    "start_time": "2022-11-23T17:36:30.597Z"
   },
   {
    "duration": 25,
    "start_time": "2022-11-23T17:36:30.603Z"
   },
   {
    "duration": 46,
    "start_time": "2022-11-23T17:36:30.630Z"
   },
   {
    "duration": 158,
    "start_time": "2022-11-23T17:36:30.677Z"
   },
   {
    "duration": 133,
    "start_time": "2022-11-23T17:36:30.837Z"
   },
   {
    "duration": 4,
    "start_time": "2022-11-23T17:36:30.972Z"
   },
   {
    "duration": 294,
    "start_time": "2022-11-23T17:36:30.978Z"
   },
   {
    "duration": 6,
    "start_time": "2022-11-23T17:36:31.274Z"
   },
   {
    "duration": 159,
    "start_time": "2022-11-23T17:36:31.282Z"
   },
   {
    "duration": 10,
    "start_time": "2022-11-23T17:36:31.443Z"
   },
   {
    "duration": 11,
    "start_time": "2022-11-23T17:36:31.455Z"
   },
   {
    "duration": 26,
    "start_time": "2022-11-23T17:36:31.468Z"
   },
   {
    "duration": 8,
    "start_time": "2022-11-23T17:36:31.495Z"
   },
   {
    "duration": 41,
    "start_time": "2022-11-23T17:36:31.504Z"
   },
   {
    "duration": 1088,
    "start_time": "2022-11-23T17:55:33.486Z"
   },
   {
    "duration": 75,
    "start_time": "2022-11-23T17:55:34.576Z"
   },
   {
    "duration": 14,
    "start_time": "2022-11-23T17:55:34.653Z"
   },
   {
    "duration": 13,
    "start_time": "2022-11-23T17:55:34.669Z"
   },
   {
    "duration": 11,
    "start_time": "2022-11-23T17:55:34.683Z"
   },
   {
    "duration": 11,
    "start_time": "2022-11-23T17:55:34.696Z"
   },
   {
    "duration": 5,
    "start_time": "2022-11-23T17:55:34.709Z"
   },
   {
    "duration": 21,
    "start_time": "2022-11-23T17:55:34.716Z"
   },
   {
    "duration": 10,
    "start_time": "2022-11-23T17:55:34.739Z"
   },
   {
    "duration": 7,
    "start_time": "2022-11-23T17:55:34.751Z"
   },
   {
    "duration": 5,
    "start_time": "2022-11-23T17:55:34.760Z"
   },
   {
    "duration": 13,
    "start_time": "2022-11-23T17:55:34.766Z"
   },
   {
    "duration": 9,
    "start_time": "2022-11-23T17:55:34.781Z"
   },
   {
    "duration": 7,
    "start_time": "2022-11-23T17:55:34.792Z"
   },
   {
    "duration": 185,
    "start_time": "2022-11-23T17:55:34.801Z"
   },
   {
    "duration": 137,
    "start_time": "2022-11-23T17:55:34.988Z"
   },
   {
    "duration": 15,
    "start_time": "2022-11-23T17:55:35.127Z"
   },
   {
    "duration": 13,
    "start_time": "2022-11-23T17:55:35.143Z"
   },
   {
    "duration": 267,
    "start_time": "2022-11-23T17:55:35.158Z"
   },
   {
    "duration": 18,
    "start_time": "2022-11-23T17:55:35.427Z"
   },
   {
    "duration": 12,
    "start_time": "2022-11-23T17:55:35.447Z"
   },
   {
    "duration": 183,
    "start_time": "2022-11-23T17:55:35.461Z"
   },
   {
    "duration": 16,
    "start_time": "2022-11-23T17:55:35.646Z"
   },
   {
    "duration": 317,
    "start_time": "2022-11-23T17:55:35.664Z"
   },
   {
    "duration": 5,
    "start_time": "2022-11-23T17:55:35.983Z"
   },
   {
    "duration": 6,
    "start_time": "2022-11-23T17:55:35.990Z"
   },
   {
    "duration": 227,
    "start_time": "2022-11-23T17:55:35.998Z"
   },
   {
    "duration": 289,
    "start_time": "2022-11-23T17:55:36.238Z"
   },
   {
    "duration": 11,
    "start_time": "2022-11-23T17:55:36.529Z"
   },
   {
    "duration": 136,
    "start_time": "2022-11-23T17:55:36.542Z"
   },
   {
    "duration": 4,
    "start_time": "2022-11-23T17:55:36.680Z"
   },
   {
    "duration": 6,
    "start_time": "2022-11-23T17:55:36.686Z"
   },
   {
    "duration": 11,
    "start_time": "2022-11-23T17:55:36.693Z"
   },
   {
    "duration": 141,
    "start_time": "2022-11-23T17:55:36.706Z"
   },
   {
    "duration": 152,
    "start_time": "2022-11-23T17:55:36.849Z"
   },
   {
    "duration": 5,
    "start_time": "2022-11-23T17:55:37.002Z"
   },
   {
    "duration": 308,
    "start_time": "2022-11-23T17:55:37.009Z"
   },
   {
    "duration": 7,
    "start_time": "2022-11-23T17:55:37.318Z"
   },
   {
    "duration": 158,
    "start_time": "2022-11-23T17:55:37.338Z"
   },
   {
    "duration": 11,
    "start_time": "2022-11-23T17:55:37.498Z"
   },
   {
    "duration": 27,
    "start_time": "2022-11-23T17:55:37.511Z"
   },
   {
    "duration": 42,
    "start_time": "2022-11-23T17:55:37.540Z"
   },
   {
    "duration": 8,
    "start_time": "2022-11-23T17:55:37.585Z"
   },
   {
    "duration": 49,
    "start_time": "2022-11-23T17:55:37.595Z"
   },
   {
    "duration": 1211,
    "start_time": "2022-11-24T17:03:37.084Z"
   },
   {
    "duration": 230,
    "start_time": "2022-11-24T17:03:38.297Z"
   },
   {
    "duration": 13,
    "start_time": "2022-11-24T17:03:38.529Z"
   },
   {
    "duration": 13,
    "start_time": "2022-11-24T17:03:38.544Z"
   },
   {
    "duration": 9,
    "start_time": "2022-11-24T17:03:38.559Z"
   },
   {
    "duration": 9,
    "start_time": "2022-11-24T17:03:38.570Z"
   },
   {
    "duration": 15,
    "start_time": "2022-11-24T17:03:38.581Z"
   },
   {
    "duration": 17,
    "start_time": "2022-11-24T17:03:38.597Z"
   },
   {
    "duration": 12,
    "start_time": "2022-11-24T17:03:38.616Z"
   },
   {
    "duration": 9,
    "start_time": "2022-11-24T17:03:38.630Z"
   },
   {
    "duration": 12,
    "start_time": "2022-11-24T17:03:38.640Z"
   },
   {
    "duration": 6,
    "start_time": "2022-11-24T17:03:38.654Z"
   },
   {
    "duration": 8,
    "start_time": "2022-11-24T17:03:38.662Z"
   },
   {
    "duration": 6,
    "start_time": "2022-11-24T17:03:38.671Z"
   },
   {
    "duration": 156,
    "start_time": "2022-11-24T17:03:38.678Z"
   },
   {
    "duration": 126,
    "start_time": "2022-11-24T17:03:38.836Z"
   },
   {
    "duration": 7,
    "start_time": "2022-11-24T17:03:38.964Z"
   },
   {
    "duration": 14,
    "start_time": "2022-11-24T17:03:38.972Z"
   },
   {
    "duration": 264,
    "start_time": "2022-11-24T17:03:38.988Z"
   },
   {
    "duration": 10,
    "start_time": "2022-11-24T17:03:39.253Z"
   },
   {
    "duration": 14,
    "start_time": "2022-11-24T17:03:39.265Z"
   },
   {
    "duration": 165,
    "start_time": "2022-11-24T17:03:39.281Z"
   },
   {
    "duration": 11,
    "start_time": "2022-11-24T17:03:39.451Z"
   },
   {
    "duration": 334,
    "start_time": "2022-11-24T17:03:39.464Z"
   },
   {
    "duration": 5,
    "start_time": "2022-11-24T17:03:39.800Z"
   },
   {
    "duration": 8,
    "start_time": "2022-11-24T17:03:39.806Z"
   },
   {
    "duration": 193,
    "start_time": "2022-11-24T17:03:39.816Z"
   },
   {
    "duration": 314,
    "start_time": "2022-11-24T17:03:40.014Z"
   },
   {
    "duration": 7,
    "start_time": "2022-11-24T17:03:40.330Z"
   },
   {
    "duration": 122,
    "start_time": "2022-11-24T17:03:40.339Z"
   },
   {
    "duration": 5,
    "start_time": "2022-11-24T17:03:40.463Z"
   },
   {
    "duration": 12,
    "start_time": "2022-11-24T17:03:40.469Z"
   },
   {
    "duration": 19,
    "start_time": "2022-11-24T17:03:40.482Z"
   },
   {
    "duration": 140,
    "start_time": "2022-11-24T17:03:40.503Z"
   },
   {
    "duration": 188,
    "start_time": "2022-11-24T17:03:40.645Z"
   },
   {
    "duration": 4,
    "start_time": "2022-11-24T17:03:40.835Z"
   },
   {
    "duration": 207,
    "start_time": "2022-11-24T17:03:40.851Z"
   },
   {
    "duration": 6,
    "start_time": "2022-11-24T17:03:41.060Z"
   },
   {
    "duration": 165,
    "start_time": "2022-11-24T17:03:41.067Z"
   },
   {
    "duration": 21,
    "start_time": "2022-11-24T17:03:41.234Z"
   },
   {
    "duration": 22,
    "start_time": "2022-11-24T17:03:41.257Z"
   },
   {
    "duration": 43,
    "start_time": "2022-11-24T17:03:41.280Z"
   },
   {
    "duration": 14,
    "start_time": "2022-11-24T17:03:41.326Z"
   },
   {
    "duration": 43,
    "start_time": "2022-11-24T17:03:41.342Z"
   },
   {
    "duration": 12,
    "start_time": "2022-11-24T17:33:34.972Z"
   },
   {
    "duration": 212,
    "start_time": "2022-11-24T17:35:27.085Z"
   },
   {
    "duration": 148,
    "start_time": "2022-11-24T17:40:40.885Z"
   },
   {
    "duration": 1309,
    "start_time": "2022-11-24T17:44:17.618Z"
   },
   {
    "duration": 28,
    "start_time": "2022-11-24T17:44:30.843Z"
   },
   {
    "duration": 13,
    "start_time": "2022-11-24T17:46:40.864Z"
   },
   {
    "duration": 41,
    "start_time": "2022-11-25T10:13:55.172Z"
   },
   {
    "duration": 1254,
    "start_time": "2022-11-25T10:14:04.729Z"
   },
   {
    "duration": 206,
    "start_time": "2022-11-25T10:14:05.985Z"
   },
   {
    "duration": 13,
    "start_time": "2022-11-25T10:14:06.192Z"
   },
   {
    "duration": 15,
    "start_time": "2022-11-25T10:14:06.206Z"
   },
   {
    "duration": 20,
    "start_time": "2022-11-25T10:14:06.224Z"
   },
   {
    "duration": 10,
    "start_time": "2022-11-25T10:14:06.245Z"
   },
   {
    "duration": 8,
    "start_time": "2022-11-25T10:14:06.256Z"
   },
   {
    "duration": 8,
    "start_time": "2022-11-25T10:14:06.266Z"
   },
   {
    "duration": 10,
    "start_time": "2022-11-25T10:14:06.275Z"
   },
   {
    "duration": 28,
    "start_time": "2022-11-25T10:14:06.286Z"
   },
   {
    "duration": 5,
    "start_time": "2022-11-25T10:14:06.316Z"
   },
   {
    "duration": 16,
    "start_time": "2022-11-25T10:14:06.323Z"
   },
   {
    "duration": 6,
    "start_time": "2022-11-25T10:14:06.340Z"
   },
   {
    "duration": 7,
    "start_time": "2022-11-25T10:14:06.349Z"
   },
   {
    "duration": 8,
    "start_time": "2022-11-25T10:14:06.357Z"
   },
   {
    "duration": 162,
    "start_time": "2022-11-25T10:14:06.366Z"
   },
   {
    "duration": 119,
    "start_time": "2022-11-25T10:14:06.530Z"
   },
   {
    "duration": 7,
    "start_time": "2022-11-25T10:14:06.650Z"
   },
   {
    "duration": 10,
    "start_time": "2022-11-25T10:14:06.658Z"
   },
   {
    "duration": 297,
    "start_time": "2022-11-25T10:14:06.669Z"
   },
   {
    "duration": 10,
    "start_time": "2022-11-25T10:14:06.967Z"
   },
   {
    "duration": 14,
    "start_time": "2022-11-25T10:14:06.978Z"
   },
   {
    "duration": 179,
    "start_time": "2022-11-25T10:14:06.994Z"
   },
   {
    "duration": 11,
    "start_time": "2022-11-25T10:14:07.175Z"
   },
   {
    "duration": 360,
    "start_time": "2022-11-25T10:14:07.187Z"
   },
   {
    "duration": 4,
    "start_time": "2022-11-25T10:14:07.548Z"
   },
   {
    "duration": 8,
    "start_time": "2022-11-25T10:14:07.553Z"
   },
   {
    "duration": 213,
    "start_time": "2022-11-25T10:14:07.562Z"
   },
   {
    "duration": 329,
    "start_time": "2022-11-25T10:14:07.777Z"
   },
   {
    "duration": 9,
    "start_time": "2022-11-25T10:14:08.108Z"
   },
   {
    "duration": 130,
    "start_time": "2022-11-25T10:14:08.119Z"
   },
   {
    "duration": 4,
    "start_time": "2022-11-25T10:14:08.250Z"
   },
   {
    "duration": 7,
    "start_time": "2022-11-25T10:14:08.255Z"
   },
   {
    "duration": 9,
    "start_time": "2022-11-25T10:14:08.263Z"
   },
   {
    "duration": 144,
    "start_time": "2022-11-25T10:14:08.273Z"
   },
   {
    "duration": 149,
    "start_time": "2022-11-25T10:14:08.424Z"
   },
   {
    "duration": 4,
    "start_time": "2022-11-25T10:14:08.575Z"
   },
   {
    "duration": 298,
    "start_time": "2022-11-25T10:14:08.580Z"
   },
   {
    "duration": 7,
    "start_time": "2022-11-25T10:14:08.879Z"
   },
   {
    "duration": 193,
    "start_time": "2022-11-25T10:14:08.887Z"
   },
   {
    "duration": 9,
    "start_time": "2022-11-25T10:14:09.083Z"
   },
   {
    "duration": 27,
    "start_time": "2022-11-25T10:14:09.093Z"
   },
   {
    "duration": 35,
    "start_time": "2022-11-25T10:14:09.122Z"
   },
   {
    "duration": 7,
    "start_time": "2022-11-25T10:14:09.158Z"
   },
   {
    "duration": 11,
    "start_time": "2022-11-25T10:14:09.166Z"
   },
   {
    "duration": 5,
    "start_time": "2022-11-25T10:15:40.615Z"
   },
   {
    "duration": 90,
    "start_time": "2022-11-25T10:16:56.656Z"
   },
   {
    "duration": 16,
    "start_time": "2022-11-25T10:17:40.384Z"
   },
   {
    "duration": 13,
    "start_time": "2022-11-25T10:18:01.176Z"
   },
   {
    "duration": 10,
    "start_time": "2022-11-25T10:18:06.197Z"
   },
   {
    "duration": 177,
    "start_time": "2022-11-25T10:21:13.674Z"
   },
   {
    "duration": 207,
    "start_time": "2022-11-25T10:21:40.319Z"
   },
   {
    "duration": 171,
    "start_time": "2022-11-25T10:21:52.540Z"
   },
   {
    "duration": 174,
    "start_time": "2022-11-25T10:21:59.343Z"
   },
   {
    "duration": 169,
    "start_time": "2022-11-25T10:22:05.651Z"
   },
   {
    "duration": 181,
    "start_time": "2022-11-25T10:22:11.489Z"
   },
   {
    "duration": 184,
    "start_time": "2022-11-25T10:23:01.731Z"
   },
   {
    "duration": 186,
    "start_time": "2022-11-25T10:23:24.074Z"
   },
   {
    "duration": 177,
    "start_time": "2022-11-25T10:24:23.247Z"
   },
   {
    "duration": 197,
    "start_time": "2022-11-25T10:24:32.256Z"
   },
   {
    "duration": 196,
    "start_time": "2022-11-25T10:24:49.026Z"
   },
   {
    "duration": 258,
    "start_time": "2022-11-25T10:24:56.861Z"
   },
   {
    "duration": 167,
    "start_time": "2022-11-25T10:25:41.601Z"
   },
   {
    "duration": 165,
    "start_time": "2022-11-25T10:25:51.398Z"
   },
   {
    "duration": 182,
    "start_time": "2022-11-25T10:25:57.933Z"
   },
   {
    "duration": 295,
    "start_time": "2022-11-25T10:27:15.281Z"
   },
   {
    "duration": 180,
    "start_time": "2022-11-25T10:28:19.266Z"
   },
   {
    "duration": 4,
    "start_time": "2022-11-25T10:29:45.878Z"
   },
   {
    "duration": 187,
    "start_time": "2022-11-25T10:29:46.852Z"
   },
   {
    "duration": 3,
    "start_time": "2022-11-25T10:34:42.777Z"
   },
   {
    "duration": 5,
    "start_time": "2022-11-25T10:34:43.411Z"
   },
   {
    "duration": 193,
    "start_time": "2022-11-25T10:34:43.953Z"
   },
   {
    "duration": 201,
    "start_time": "2022-11-25T10:36:25.778Z"
   },
   {
    "duration": 5,
    "start_time": "2022-11-25T10:40:26.297Z"
   },
   {
    "duration": 147,
    "start_time": "2022-11-25T10:40:26.875Z"
   },
   {
    "duration": 1017,
    "start_time": "2022-11-25T10:41:21.940Z"
   },
   {
    "duration": 74,
    "start_time": "2022-11-25T10:41:22.959Z"
   },
   {
    "duration": 12,
    "start_time": "2022-11-25T10:41:23.034Z"
   },
   {
    "duration": 13,
    "start_time": "2022-11-25T10:41:23.048Z"
   },
   {
    "duration": 10,
    "start_time": "2022-11-25T10:41:23.062Z"
   },
   {
    "duration": 8,
    "start_time": "2022-11-25T10:41:23.073Z"
   },
   {
    "duration": 6,
    "start_time": "2022-11-25T10:41:23.082Z"
   },
   {
    "duration": 8,
    "start_time": "2022-11-25T10:41:23.089Z"
   },
   {
    "duration": 14,
    "start_time": "2022-11-25T10:41:23.098Z"
   },
   {
    "duration": 8,
    "start_time": "2022-11-25T10:41:23.114Z"
   },
   {
    "duration": 5,
    "start_time": "2022-11-25T10:41:23.124Z"
   },
   {
    "duration": 8,
    "start_time": "2022-11-25T10:41:23.131Z"
   },
   {
    "duration": 14,
    "start_time": "2022-11-25T10:41:23.140Z"
   },
   {
    "duration": 8,
    "start_time": "2022-11-25T10:41:23.156Z"
   },
   {
    "duration": 170,
    "start_time": "2022-11-25T10:41:23.165Z"
   },
   {
    "duration": 125,
    "start_time": "2022-11-25T10:41:23.337Z"
   },
   {
    "duration": 6,
    "start_time": "2022-11-25T10:41:23.463Z"
   },
   {
    "duration": 13,
    "start_time": "2022-11-25T10:41:23.471Z"
   },
   {
    "duration": 265,
    "start_time": "2022-11-25T10:41:23.485Z"
   },
   {
    "duration": 9,
    "start_time": "2022-11-25T10:41:23.752Z"
   },
   {
    "duration": 11,
    "start_time": "2022-11-25T10:41:23.764Z"
   },
   {
    "duration": 173,
    "start_time": "2022-11-25T10:41:23.777Z"
   },
   {
    "duration": 10,
    "start_time": "2022-11-25T10:41:23.952Z"
   },
   {
    "duration": 276,
    "start_time": "2022-11-25T10:41:23.963Z"
   },
   {
    "duration": 3,
    "start_time": "2022-11-25T10:41:24.240Z"
   },
   {
    "duration": 5,
    "start_time": "2022-11-25T10:41:24.245Z"
   },
   {
    "duration": 240,
    "start_time": "2022-11-25T10:41:24.252Z"
   },
   {
    "duration": 0,
    "start_time": "2022-11-25T10:41:24.494Z"
   },
   {
    "duration": 0,
    "start_time": "2022-11-25T10:41:24.495Z"
   },
   {
    "duration": 0,
    "start_time": "2022-11-25T10:41:24.496Z"
   },
   {
    "duration": 0,
    "start_time": "2022-11-25T10:41:24.497Z"
   },
   {
    "duration": 0,
    "start_time": "2022-11-25T10:41:24.497Z"
   },
   {
    "duration": 0,
    "start_time": "2022-11-25T10:41:24.498Z"
   },
   {
    "duration": 0,
    "start_time": "2022-11-25T10:41:24.499Z"
   },
   {
    "duration": 0,
    "start_time": "2022-11-25T10:41:24.512Z"
   },
   {
    "duration": 0,
    "start_time": "2022-11-25T10:41:24.514Z"
   },
   {
    "duration": 0,
    "start_time": "2022-11-25T10:41:24.515Z"
   },
   {
    "duration": 0,
    "start_time": "2022-11-25T10:41:24.516Z"
   },
   {
    "duration": 0,
    "start_time": "2022-11-25T10:41:24.517Z"
   },
   {
    "duration": 0,
    "start_time": "2022-11-25T10:41:24.517Z"
   },
   {
    "duration": 0,
    "start_time": "2022-11-25T10:41:24.518Z"
   },
   {
    "duration": 0,
    "start_time": "2022-11-25T10:41:24.519Z"
   },
   {
    "duration": 0,
    "start_time": "2022-11-25T10:41:24.520Z"
   },
   {
    "duration": 0,
    "start_time": "2022-11-25T10:41:24.521Z"
   },
   {
    "duration": 12,
    "start_time": "2022-11-25T10:42:38.263Z"
   },
   {
    "duration": 10,
    "start_time": "2022-11-25T10:42:48.436Z"
   },
   {
    "duration": 180,
    "start_time": "2022-11-25T10:43:21.606Z"
   },
   {
    "duration": 1027,
    "start_time": "2022-11-25T10:56:58.023Z"
   },
   {
    "duration": 73,
    "start_time": "2022-11-25T10:56:59.053Z"
   },
   {
    "duration": 13,
    "start_time": "2022-11-25T10:56:59.128Z"
   },
   {
    "duration": 13,
    "start_time": "2022-11-25T10:56:59.143Z"
   },
   {
    "duration": 11,
    "start_time": "2022-11-25T10:56:59.159Z"
   },
   {
    "duration": 8,
    "start_time": "2022-11-25T10:56:59.172Z"
   },
   {
    "duration": 8,
    "start_time": "2022-11-25T10:56:59.181Z"
   },
   {
    "duration": 7,
    "start_time": "2022-11-25T10:56:59.190Z"
   },
   {
    "duration": 18,
    "start_time": "2022-11-25T10:56:59.199Z"
   },
   {
    "duration": 11,
    "start_time": "2022-11-25T10:56:59.218Z"
   },
   {
    "duration": 6,
    "start_time": "2022-11-25T10:56:59.230Z"
   },
   {
    "duration": 8,
    "start_time": "2022-11-25T10:56:59.238Z"
   },
   {
    "duration": 16,
    "start_time": "2022-11-25T10:56:59.248Z"
   },
   {
    "duration": 8,
    "start_time": "2022-11-25T10:56:59.266Z"
   },
   {
    "duration": 189,
    "start_time": "2022-11-25T10:56:59.276Z"
   },
   {
    "duration": 121,
    "start_time": "2022-11-25T10:56:59.467Z"
   },
   {
    "duration": 6,
    "start_time": "2022-11-25T10:56:59.590Z"
   },
   {
    "duration": 20,
    "start_time": "2022-11-25T10:56:59.598Z"
   },
   {
    "duration": 261,
    "start_time": "2022-11-25T10:56:59.619Z"
   },
   {
    "duration": 9,
    "start_time": "2022-11-25T10:56:59.882Z"
   },
   {
    "duration": 28,
    "start_time": "2022-11-25T10:56:59.893Z"
   },
   {
    "duration": 221,
    "start_time": "2022-11-25T10:56:59.924Z"
   },
   {
    "duration": 12,
    "start_time": "2022-11-25T10:57:00.146Z"
   },
   {
    "duration": 392,
    "start_time": "2022-11-25T10:57:00.160Z"
   },
   {
    "duration": 2,
    "start_time": "2022-11-25T10:57:00.554Z"
   },
   {
    "duration": 20,
    "start_time": "2022-11-25T10:57:00.558Z"
   },
   {
    "duration": 213,
    "start_time": "2022-11-25T10:57:00.580Z"
   },
   {
    "duration": 114,
    "start_time": "2022-11-25T10:57:00.795Z"
   },
   {
    "duration": 0,
    "start_time": "2022-11-25T10:57:00.913Z"
   },
   {
    "duration": 0,
    "start_time": "2022-11-25T10:57:00.914Z"
   },
   {
    "duration": 0,
    "start_time": "2022-11-25T10:57:00.915Z"
   },
   {
    "duration": 0,
    "start_time": "2022-11-25T10:57:00.916Z"
   },
   {
    "duration": 0,
    "start_time": "2022-11-25T10:57:00.917Z"
   },
   {
    "duration": 0,
    "start_time": "2022-11-25T10:57:00.918Z"
   },
   {
    "duration": 0,
    "start_time": "2022-11-25T10:57:00.920Z"
   },
   {
    "duration": 0,
    "start_time": "2022-11-25T10:57:00.921Z"
   },
   {
    "duration": 0,
    "start_time": "2022-11-25T10:57:00.923Z"
   },
   {
    "duration": 0,
    "start_time": "2022-11-25T10:57:00.925Z"
   },
   {
    "duration": 0,
    "start_time": "2022-11-25T10:57:00.926Z"
   },
   {
    "duration": 0,
    "start_time": "2022-11-25T10:57:00.927Z"
   },
   {
    "duration": 0,
    "start_time": "2022-11-25T10:57:00.929Z"
   },
   {
    "duration": 0,
    "start_time": "2022-11-25T10:57:00.931Z"
   },
   {
    "duration": 0,
    "start_time": "2022-11-25T10:57:00.933Z"
   },
   {
    "duration": 0,
    "start_time": "2022-11-25T10:57:00.935Z"
   },
   {
    "duration": 285,
    "start_time": "2022-11-25T11:04:03.008Z"
   },
   {
    "duration": 229,
    "start_time": "2022-11-25T11:04:35.963Z"
   },
   {
    "duration": 1147,
    "start_time": "2022-11-25T11:04:39.924Z"
   },
   {
    "duration": 72,
    "start_time": "2022-11-25T11:04:41.073Z"
   },
   {
    "duration": 14,
    "start_time": "2022-11-25T11:04:41.147Z"
   },
   {
    "duration": 13,
    "start_time": "2022-11-25T11:04:41.162Z"
   },
   {
    "duration": 9,
    "start_time": "2022-11-25T11:04:41.178Z"
   },
   {
    "duration": 15,
    "start_time": "2022-11-25T11:04:41.189Z"
   },
   {
    "duration": 6,
    "start_time": "2022-11-25T11:04:41.205Z"
   },
   {
    "duration": 10,
    "start_time": "2022-11-25T11:04:41.213Z"
   },
   {
    "duration": 23,
    "start_time": "2022-11-25T11:04:41.225Z"
   },
   {
    "duration": 9,
    "start_time": "2022-11-25T11:04:41.250Z"
   },
   {
    "duration": 6,
    "start_time": "2022-11-25T11:04:41.260Z"
   },
   {
    "duration": 8,
    "start_time": "2022-11-25T11:04:41.268Z"
   },
   {
    "duration": 14,
    "start_time": "2022-11-25T11:04:41.278Z"
   },
   {
    "duration": 9,
    "start_time": "2022-11-25T11:04:41.294Z"
   },
   {
    "duration": 165,
    "start_time": "2022-11-25T11:04:41.313Z"
   },
   {
    "duration": 138,
    "start_time": "2022-11-25T11:04:41.480Z"
   },
   {
    "duration": 6,
    "start_time": "2022-11-25T11:04:41.620Z"
   },
   {
    "duration": 10,
    "start_time": "2022-11-25T11:04:41.628Z"
   },
   {
    "duration": 294,
    "start_time": "2022-11-25T11:04:41.640Z"
   },
   {
    "duration": 11,
    "start_time": "2022-11-25T11:04:41.935Z"
   },
   {
    "duration": 14,
    "start_time": "2022-11-25T11:04:41.948Z"
   },
   {
    "duration": 187,
    "start_time": "2022-11-25T11:04:41.963Z"
   },
   {
    "duration": 12,
    "start_time": "2022-11-25T11:04:42.152Z"
   },
   {
    "duration": 282,
    "start_time": "2022-11-25T11:04:42.165Z"
   },
   {
    "duration": 2,
    "start_time": "2022-11-25T11:04:42.449Z"
   },
   {
    "duration": 14,
    "start_time": "2022-11-25T11:04:42.453Z"
   },
   {
    "duration": 206,
    "start_time": "2022-11-25T11:04:42.469Z"
   },
   {
    "duration": 337,
    "start_time": "2022-11-25T11:04:42.677Z"
   },
   {
    "duration": 7,
    "start_time": "2022-11-25T11:04:43.017Z"
   },
   {
    "duration": 127,
    "start_time": "2022-11-25T11:04:43.025Z"
   },
   {
    "duration": 5,
    "start_time": "2022-11-25T11:04:43.154Z"
   },
   {
    "duration": 9,
    "start_time": "2022-11-25T11:04:43.160Z"
   },
   {
    "duration": 8,
    "start_time": "2022-11-25T11:04:43.170Z"
   },
   {
    "duration": 135,
    "start_time": "2022-11-25T11:04:43.179Z"
   },
   {
    "duration": 136,
    "start_time": "2022-11-25T11:04:43.316Z"
   },
   {
    "duration": 5,
    "start_time": "2022-11-25T11:04:43.454Z"
   },
   {
    "duration": 305,
    "start_time": "2022-11-25T11:04:43.461Z"
   },
   {
    "duration": 6,
    "start_time": "2022-11-25T11:04:43.768Z"
   },
   {
    "duration": 170,
    "start_time": "2022-11-25T11:04:43.776Z"
   },
   {
    "duration": 10,
    "start_time": "2022-11-25T11:04:43.948Z"
   },
   {
    "duration": 9,
    "start_time": "2022-11-25T11:04:43.962Z"
   },
   {
    "duration": 42,
    "start_time": "2022-11-25T11:04:43.973Z"
   },
   {
    "duration": 7,
    "start_time": "2022-11-25T11:04:44.017Z"
   },
   {
    "duration": 20,
    "start_time": "2022-11-25T11:04:44.026Z"
   },
   {
    "duration": 189,
    "start_time": "2022-11-25T11:10:13.614Z"
   },
   {
    "duration": 297,
    "start_time": "2022-11-25T11:10:43.907Z"
   },
   {
    "duration": 137,
    "start_time": "2022-11-25T11:11:30.914Z"
   },
   {
    "duration": 125,
    "start_time": "2022-11-25T11:12:39.592Z"
   },
   {
    "duration": 151,
    "start_time": "2022-11-25T11:12:57.586Z"
   },
   {
    "duration": 194,
    "start_time": "2022-11-25T11:16:26.686Z"
   },
   {
    "duration": 226,
    "start_time": "2022-11-25T11:16:50.309Z"
   },
   {
    "duration": 151,
    "start_time": "2022-11-25T11:16:55.723Z"
   },
   {
    "duration": 145,
    "start_time": "2022-11-25T11:17:15.256Z"
   },
   {
    "duration": 145,
    "start_time": "2022-11-25T11:19:31.754Z"
   },
   {
    "duration": 22,
    "start_time": "2022-11-25T11:20:12.706Z"
   },
   {
    "duration": 7,
    "start_time": "2022-11-25T11:20:13.679Z"
   },
   {
    "duration": 11,
    "start_time": "2022-11-25T11:26:41.215Z"
   },
   {
    "duration": 10,
    "start_time": "2022-11-25T11:26:45.483Z"
   },
   {
    "duration": 1083,
    "start_time": "2022-11-25T11:33:23.557Z"
   },
   {
    "duration": 79,
    "start_time": "2022-11-25T11:33:24.642Z"
   },
   {
    "duration": 16,
    "start_time": "2022-11-25T11:33:24.722Z"
   },
   {
    "duration": 16,
    "start_time": "2022-11-25T11:33:24.741Z"
   },
   {
    "duration": 13,
    "start_time": "2022-11-25T11:33:24.759Z"
   },
   {
    "duration": 10,
    "start_time": "2022-11-25T11:33:24.774Z"
   },
   {
    "duration": 6,
    "start_time": "2022-11-25T11:33:24.786Z"
   },
   {
    "duration": 6,
    "start_time": "2022-11-25T11:33:24.813Z"
   },
   {
    "duration": 13,
    "start_time": "2022-11-25T11:33:24.821Z"
   },
   {
    "duration": 8,
    "start_time": "2022-11-25T11:33:24.836Z"
   },
   {
    "duration": 7,
    "start_time": "2022-11-25T11:33:24.846Z"
   },
   {
    "duration": 8,
    "start_time": "2022-11-25T11:33:24.854Z"
   },
   {
    "duration": 14,
    "start_time": "2022-11-25T11:33:24.864Z"
   },
   {
    "duration": 33,
    "start_time": "2022-11-25T11:33:24.880Z"
   },
   {
    "duration": 162,
    "start_time": "2022-11-25T11:33:24.915Z"
   },
   {
    "duration": 152,
    "start_time": "2022-11-25T11:33:25.079Z"
   },
   {
    "duration": 7,
    "start_time": "2022-11-25T11:33:25.233Z"
   },
   {
    "duration": 13,
    "start_time": "2022-11-25T11:33:25.242Z"
   },
   {
    "duration": 318,
    "start_time": "2022-11-25T11:33:25.256Z"
   },
   {
    "duration": 9,
    "start_time": "2022-11-25T11:33:25.578Z"
   },
   {
    "duration": 24,
    "start_time": "2022-11-25T11:33:25.589Z"
   },
   {
    "duration": 190,
    "start_time": "2022-11-25T11:33:25.615Z"
   },
   {
    "duration": 18,
    "start_time": "2022-11-25T11:33:25.806Z"
   },
   {
    "duration": 307,
    "start_time": "2022-11-25T11:33:25.826Z"
   },
   {
    "duration": 2,
    "start_time": "2022-11-25T11:33:26.135Z"
   },
   {
    "duration": 20,
    "start_time": "2022-11-25T11:33:26.139Z"
   },
   {
    "duration": 206,
    "start_time": "2022-11-25T11:33:26.161Z"
   },
   {
    "duration": 335,
    "start_time": "2022-11-25T11:33:26.370Z"
   },
   {
    "duration": 11,
    "start_time": "2022-11-25T11:33:26.706Z"
   },
   {
    "duration": 131,
    "start_time": "2022-11-25T11:33:26.719Z"
   },
   {
    "duration": 4,
    "start_time": "2022-11-25T11:33:26.851Z"
   },
   {
    "duration": 8,
    "start_time": "2022-11-25T11:33:26.856Z"
   },
   {
    "duration": 7,
    "start_time": "2022-11-25T11:33:26.865Z"
   },
   {
    "duration": 153,
    "start_time": "2022-11-25T11:33:26.874Z"
   },
   {
    "duration": 145,
    "start_time": "2022-11-25T11:33:27.029Z"
   },
   {
    "duration": 5,
    "start_time": "2022-11-25T11:33:27.176Z"
   },
   {
    "duration": 100,
    "start_time": "2022-11-25T11:33:27.183Z"
   },
   {
    "duration": 0,
    "start_time": "2022-11-25T11:33:27.285Z"
   },
   {
    "duration": 0,
    "start_time": "2022-11-25T11:33:27.288Z"
   },
   {
    "duration": 0,
    "start_time": "2022-11-25T11:33:27.289Z"
   },
   {
    "duration": 0,
    "start_time": "2022-11-25T11:33:27.290Z"
   },
   {
    "duration": 0,
    "start_time": "2022-11-25T11:33:27.292Z"
   },
   {
    "duration": 0,
    "start_time": "2022-11-25T11:33:27.293Z"
   },
   {
    "duration": 0,
    "start_time": "2022-11-25T11:33:27.295Z"
   },
   {
    "duration": 171,
    "start_time": "2022-11-25T12:04:45.273Z"
   },
   {
    "duration": 1054,
    "start_time": "2022-11-25T12:10:49.519Z"
   },
   {
    "duration": 72,
    "start_time": "2022-11-25T12:10:50.575Z"
   },
   {
    "duration": 12,
    "start_time": "2022-11-25T12:10:50.648Z"
   },
   {
    "duration": 21,
    "start_time": "2022-11-25T12:10:50.662Z"
   },
   {
    "duration": 10,
    "start_time": "2022-11-25T12:10:50.684Z"
   },
   {
    "duration": 8,
    "start_time": "2022-11-25T12:10:50.695Z"
   },
   {
    "duration": 7,
    "start_time": "2022-11-25T12:10:50.704Z"
   },
   {
    "duration": 7,
    "start_time": "2022-11-25T12:10:50.712Z"
   },
   {
    "duration": 8,
    "start_time": "2022-11-25T12:10:50.720Z"
   },
   {
    "duration": 9,
    "start_time": "2022-11-25T12:10:50.730Z"
   },
   {
    "duration": 7,
    "start_time": "2022-11-25T12:10:50.740Z"
   },
   {
    "duration": 6,
    "start_time": "2022-11-25T12:10:50.749Z"
   },
   {
    "duration": 14,
    "start_time": "2022-11-25T12:10:50.757Z"
   },
   {
    "duration": 8,
    "start_time": "2022-11-25T12:10:50.772Z"
   },
   {
    "duration": 175,
    "start_time": "2022-11-25T12:10:50.782Z"
   },
   {
    "duration": 114,
    "start_time": "2022-11-25T12:10:50.959Z"
   },
   {
    "duration": 6,
    "start_time": "2022-11-25T12:10:51.075Z"
   },
   {
    "duration": 11,
    "start_time": "2022-11-25T12:10:51.082Z"
   },
   {
    "duration": 269,
    "start_time": "2022-11-25T12:10:51.094Z"
   },
   {
    "duration": 9,
    "start_time": "2022-11-25T12:10:51.365Z"
   },
   {
    "duration": 11,
    "start_time": "2022-11-25T12:10:51.376Z"
   },
   {
    "duration": 179,
    "start_time": "2022-11-25T12:10:51.388Z"
   },
   {
    "duration": 11,
    "start_time": "2022-11-25T12:10:51.568Z"
   },
   {
    "duration": 308,
    "start_time": "2022-11-25T12:10:51.580Z"
   },
   {
    "duration": 2,
    "start_time": "2022-11-25T12:10:51.889Z"
   },
   {
    "duration": 20,
    "start_time": "2022-11-25T12:10:51.893Z"
   },
   {
    "duration": 187,
    "start_time": "2022-11-25T12:10:51.915Z"
   },
   {
    "duration": 294,
    "start_time": "2022-11-25T12:10:52.112Z"
   },
   {
    "duration": 7,
    "start_time": "2022-11-25T12:10:52.412Z"
   },
   {
    "duration": 132,
    "start_time": "2022-11-25T12:10:52.421Z"
   },
   {
    "duration": 5,
    "start_time": "2022-11-25T12:10:52.555Z"
   },
   {
    "duration": 8,
    "start_time": "2022-11-25T12:10:52.561Z"
   },
   {
    "duration": 11,
    "start_time": "2022-11-25T12:10:52.571Z"
   },
   {
    "duration": 135,
    "start_time": "2022-11-25T12:10:52.583Z"
   },
   {
    "duration": 134,
    "start_time": "2022-11-25T12:10:52.720Z"
   },
   {
    "duration": 5,
    "start_time": "2022-11-25T12:10:52.856Z"
   },
   {
    "duration": 284,
    "start_time": "2022-11-25T12:10:52.862Z"
   },
   {
    "duration": 6,
    "start_time": "2022-11-25T12:10:53.147Z"
   },
   {
    "duration": 174,
    "start_time": "2022-11-25T12:10:53.154Z"
   },
   {
    "duration": 10,
    "start_time": "2022-11-25T12:10:53.330Z"
   },
   {
    "duration": 8,
    "start_time": "2022-11-25T12:10:53.342Z"
   },
   {
    "duration": 26,
    "start_time": "2022-11-25T12:10:53.352Z"
   },
   {
    "duration": 71,
    "start_time": "2022-11-25T12:10:53.380Z"
   },
   {
    "duration": 0,
    "start_time": "2022-11-25T12:10:53.453Z"
   },
   {
    "duration": 221,
    "start_time": "2022-11-25T12:14:14.193Z"
   },
   {
    "duration": 159,
    "start_time": "2022-11-25T12:14:39.670Z"
   },
   {
    "duration": 160,
    "start_time": "2022-11-25T12:14:58.892Z"
   },
   {
    "duration": 12,
    "start_time": "2022-11-25T12:21:48.921Z"
   },
   {
    "duration": 10,
    "start_time": "2022-11-25T12:22:08.365Z"
   },
   {
    "duration": 2,
    "start_time": "2022-11-25T12:24:09.971Z"
   },
   {
    "duration": 12,
    "start_time": "2022-11-25T12:24:11.670Z"
   },
   {
    "duration": 27,
    "start_time": "2022-11-25T12:24:45.318Z"
   },
   {
    "duration": 24,
    "start_time": "2022-11-25T12:24:56.385Z"
   },
   {
    "duration": 26,
    "start_time": "2022-11-25T12:25:01.614Z"
   },
   {
    "duration": 25,
    "start_time": "2022-11-25T12:25:04.359Z"
   },
   {
    "duration": 11,
    "start_time": "2022-11-25T12:25:15.131Z"
   },
   {
    "duration": 142,
    "start_time": "2022-11-25T12:25:23.938Z"
   },
   {
    "duration": 70,
    "start_time": "2022-11-25T12:25:42.943Z"
   },
   {
    "duration": 10,
    "start_time": "2022-11-25T12:25:47.970Z"
   },
   {
    "duration": 23,
    "start_time": "2022-11-25T12:26:05.151Z"
   },
   {
    "duration": 13,
    "start_time": "2022-11-25T12:27:18.708Z"
   },
   {
    "duration": 14,
    "start_time": "2022-11-25T12:27:48.169Z"
   },
   {
    "duration": 14,
    "start_time": "2022-11-25T12:28:03.435Z"
   },
   {
    "duration": 6,
    "start_time": "2022-11-25T12:34:18.426Z"
   },
   {
    "duration": 7,
    "start_time": "2022-11-25T12:34:36.053Z"
   },
   {
    "duration": 7,
    "start_time": "2022-11-25T12:35:40.678Z"
   },
   {
    "duration": 12,
    "start_time": "2022-11-25T12:35:49.844Z"
   },
   {
    "duration": 11,
    "start_time": "2022-11-25T12:36:29.946Z"
   },
   {
    "duration": 12,
    "start_time": "2022-11-25T12:36:45.797Z"
   },
   {
    "duration": 1080,
    "start_time": "2022-11-25T12:36:55.139Z"
   },
   {
    "duration": 72,
    "start_time": "2022-11-25T12:36:56.221Z"
   },
   {
    "duration": 12,
    "start_time": "2022-11-25T12:36:56.295Z"
   },
   {
    "duration": 11,
    "start_time": "2022-11-25T12:36:56.309Z"
   },
   {
    "duration": 10,
    "start_time": "2022-11-25T12:36:56.321Z"
   },
   {
    "duration": 8,
    "start_time": "2022-11-25T12:36:56.332Z"
   },
   {
    "duration": 6,
    "start_time": "2022-11-25T12:36:56.342Z"
   },
   {
    "duration": 7,
    "start_time": "2022-11-25T12:36:56.350Z"
   },
   {
    "duration": 10,
    "start_time": "2022-11-25T12:36:56.358Z"
   },
   {
    "duration": 8,
    "start_time": "2022-11-25T12:36:56.370Z"
   },
   {
    "duration": 5,
    "start_time": "2022-11-25T12:36:56.379Z"
   },
   {
    "duration": 32,
    "start_time": "2022-11-25T12:36:56.385Z"
   },
   {
    "duration": 10,
    "start_time": "2022-11-25T12:36:56.419Z"
   },
   {
    "duration": 13,
    "start_time": "2022-11-25T12:36:56.431Z"
   },
   {
    "duration": 11,
    "start_time": "2022-11-25T12:36:56.446Z"
   },
   {
    "duration": 11,
    "start_time": "2022-11-25T12:36:56.459Z"
   },
   {
    "duration": 156,
    "start_time": "2022-11-25T12:36:56.471Z"
   },
   {
    "duration": 1626,
    "start_time": "2022-11-25T12:36:56.629Z"
   },
   {
    "duration": 0,
    "start_time": "2022-11-25T12:36:58.257Z"
   },
   {
    "duration": 0,
    "start_time": "2022-11-25T12:36:58.258Z"
   },
   {
    "duration": 0,
    "start_time": "2022-11-25T12:36:58.260Z"
   },
   {
    "duration": 0,
    "start_time": "2022-11-25T12:36:58.260Z"
   },
   {
    "duration": 0,
    "start_time": "2022-11-25T12:36:58.261Z"
   },
   {
    "duration": 0,
    "start_time": "2022-11-25T12:36:58.262Z"
   },
   {
    "duration": 0,
    "start_time": "2022-11-25T12:36:58.263Z"
   },
   {
    "duration": 0,
    "start_time": "2022-11-25T12:36:58.264Z"
   },
   {
    "duration": 0,
    "start_time": "2022-11-25T12:36:58.265Z"
   },
   {
    "duration": 0,
    "start_time": "2022-11-25T12:36:58.266Z"
   },
   {
    "duration": 0,
    "start_time": "2022-11-25T12:36:58.267Z"
   },
   {
    "duration": 0,
    "start_time": "2022-11-25T12:36:58.268Z"
   },
   {
    "duration": 0,
    "start_time": "2022-11-25T12:36:58.269Z"
   },
   {
    "duration": 0,
    "start_time": "2022-11-25T12:36:58.270Z"
   },
   {
    "duration": 0,
    "start_time": "2022-11-25T12:36:58.271Z"
   },
   {
    "duration": 0,
    "start_time": "2022-11-25T12:36:58.272Z"
   },
   {
    "duration": 0,
    "start_time": "2022-11-25T12:36:58.273Z"
   },
   {
    "duration": 0,
    "start_time": "2022-11-25T12:36:58.273Z"
   },
   {
    "duration": 0,
    "start_time": "2022-11-25T12:36:58.274Z"
   },
   {
    "duration": 1,
    "start_time": "2022-11-25T12:36:58.275Z"
   },
   {
    "duration": 0,
    "start_time": "2022-11-25T12:36:58.276Z"
   },
   {
    "duration": 0,
    "start_time": "2022-11-25T12:36:58.277Z"
   },
   {
    "duration": 0,
    "start_time": "2022-11-25T12:36:58.278Z"
   },
   {
    "duration": 0,
    "start_time": "2022-11-25T12:36:58.279Z"
   },
   {
    "duration": 0,
    "start_time": "2022-11-25T12:36:58.280Z"
   },
   {
    "duration": 0,
    "start_time": "2022-11-25T12:36:58.281Z"
   },
   {
    "duration": 0,
    "start_time": "2022-11-25T12:36:58.283Z"
   },
   {
    "duration": 11,
    "start_time": "2022-11-25T12:38:14.261Z"
   },
   {
    "duration": 1130,
    "start_time": "2022-11-25T12:38:19.827Z"
   },
   {
    "duration": 72,
    "start_time": "2022-11-25T12:38:20.959Z"
   },
   {
    "duration": 13,
    "start_time": "2022-11-25T12:38:21.032Z"
   },
   {
    "duration": 13,
    "start_time": "2022-11-25T12:38:21.046Z"
   },
   {
    "duration": 10,
    "start_time": "2022-11-25T12:38:21.061Z"
   },
   {
    "duration": 12,
    "start_time": "2022-11-25T12:38:21.072Z"
   },
   {
    "duration": 9,
    "start_time": "2022-11-25T12:38:21.085Z"
   },
   {
    "duration": 9,
    "start_time": "2022-11-25T12:38:21.095Z"
   },
   {
    "duration": 11,
    "start_time": "2022-11-25T12:38:21.105Z"
   },
   {
    "duration": 7,
    "start_time": "2022-11-25T12:38:21.118Z"
   },
   {
    "duration": 7,
    "start_time": "2022-11-25T12:38:21.126Z"
   },
   {
    "duration": 7,
    "start_time": "2022-11-25T12:38:21.135Z"
   },
   {
    "duration": 7,
    "start_time": "2022-11-25T12:38:21.143Z"
   },
   {
    "duration": 12,
    "start_time": "2022-11-25T12:38:21.151Z"
   },
   {
    "duration": 11,
    "start_time": "2022-11-25T12:38:21.164Z"
   },
   {
    "duration": 11,
    "start_time": "2022-11-25T12:38:21.176Z"
   },
   {
    "duration": 146,
    "start_time": "2022-11-25T12:38:21.212Z"
   },
   {
    "duration": 1406,
    "start_time": "2022-11-25T12:38:21.360Z"
   },
   {
    "duration": 0,
    "start_time": "2022-11-25T12:38:22.768Z"
   },
   {
    "duration": 0,
    "start_time": "2022-11-25T12:38:22.770Z"
   },
   {
    "duration": 0,
    "start_time": "2022-11-25T12:38:22.771Z"
   },
   {
    "duration": 0,
    "start_time": "2022-11-25T12:38:22.772Z"
   },
   {
    "duration": 0,
    "start_time": "2022-11-25T12:38:22.773Z"
   },
   {
    "duration": 0,
    "start_time": "2022-11-25T12:38:22.774Z"
   },
   {
    "duration": 0,
    "start_time": "2022-11-25T12:38:22.775Z"
   },
   {
    "duration": 0,
    "start_time": "2022-11-25T12:38:22.776Z"
   },
   {
    "duration": 0,
    "start_time": "2022-11-25T12:38:22.777Z"
   },
   {
    "duration": 0,
    "start_time": "2022-11-25T12:38:22.779Z"
   },
   {
    "duration": 0,
    "start_time": "2022-11-25T12:38:22.780Z"
   },
   {
    "duration": 0,
    "start_time": "2022-11-25T12:38:22.781Z"
   },
   {
    "duration": 0,
    "start_time": "2022-11-25T12:38:22.782Z"
   },
   {
    "duration": 0,
    "start_time": "2022-11-25T12:38:22.783Z"
   },
   {
    "duration": 0,
    "start_time": "2022-11-25T12:38:22.784Z"
   },
   {
    "duration": 0,
    "start_time": "2022-11-25T12:38:22.785Z"
   },
   {
    "duration": 0,
    "start_time": "2022-11-25T12:38:22.786Z"
   },
   {
    "duration": 0,
    "start_time": "2022-11-25T12:38:22.788Z"
   },
   {
    "duration": 0,
    "start_time": "2022-11-25T12:38:22.789Z"
   },
   {
    "duration": 0,
    "start_time": "2022-11-25T12:38:22.790Z"
   },
   {
    "duration": 0,
    "start_time": "2022-11-25T12:38:22.791Z"
   },
   {
    "duration": 0,
    "start_time": "2022-11-25T12:38:22.792Z"
   },
   {
    "duration": 0,
    "start_time": "2022-11-25T12:38:22.793Z"
   },
   {
    "duration": 0,
    "start_time": "2022-11-25T12:38:22.794Z"
   },
   {
    "duration": 0,
    "start_time": "2022-11-25T12:38:22.795Z"
   },
   {
    "duration": 0,
    "start_time": "2022-11-25T12:38:22.796Z"
   },
   {
    "duration": 0,
    "start_time": "2022-11-25T12:38:22.797Z"
   },
   {
    "duration": 8,
    "start_time": "2022-11-25T12:40:03.734Z"
   },
   {
    "duration": 4,
    "start_time": "2022-11-25T12:40:37.440Z"
   },
   {
    "duration": 6,
    "start_time": "2022-11-25T12:41:17.839Z"
   },
   {
    "duration": 6,
    "start_time": "2022-11-25T12:41:31.482Z"
   },
   {
    "duration": 8,
    "start_time": "2022-11-25T12:52:41.093Z"
   },
   {
    "duration": 6,
    "start_time": "2022-11-25T12:52:49.240Z"
   },
   {
    "duration": 9,
    "start_time": "2022-11-25T12:53:48.634Z"
   },
   {
    "duration": 6,
    "start_time": "2022-11-25T12:54:44.739Z"
   },
   {
    "duration": 1071,
    "start_time": "2022-11-25T12:54:51.892Z"
   },
   {
    "duration": 71,
    "start_time": "2022-11-25T12:54:52.965Z"
   },
   {
    "duration": 12,
    "start_time": "2022-11-25T12:54:53.037Z"
   },
   {
    "duration": 19,
    "start_time": "2022-11-25T12:54:53.051Z"
   },
   {
    "duration": 10,
    "start_time": "2022-11-25T12:54:53.071Z"
   },
   {
    "duration": 12,
    "start_time": "2022-11-25T12:54:53.083Z"
   },
   {
    "duration": 12,
    "start_time": "2022-11-25T12:54:53.097Z"
   },
   {
    "duration": 13,
    "start_time": "2022-11-25T12:54:53.110Z"
   },
   {
    "duration": 11,
    "start_time": "2022-11-25T12:54:53.125Z"
   },
   {
    "duration": 11,
    "start_time": "2022-11-25T12:54:53.138Z"
   },
   {
    "duration": 7,
    "start_time": "2022-11-25T12:54:53.150Z"
   },
   {
    "duration": 7,
    "start_time": "2022-11-25T12:54:53.159Z"
   },
   {
    "duration": 8,
    "start_time": "2022-11-25T12:54:53.167Z"
   },
   {
    "duration": 24,
    "start_time": "2022-11-25T12:54:53.177Z"
   },
   {
    "duration": 7,
    "start_time": "2022-11-25T12:54:53.202Z"
   },
   {
    "duration": 15,
    "start_time": "2022-11-25T12:54:53.210Z"
   },
   {
    "duration": 13,
    "start_time": "2022-11-25T12:54:53.227Z"
   },
   {
    "duration": 146,
    "start_time": "2022-11-25T12:54:53.242Z"
   },
   {
    "duration": 124,
    "start_time": "2022-11-25T12:54:53.389Z"
   },
   {
    "duration": 6,
    "start_time": "2022-11-25T12:54:53.514Z"
   },
   {
    "duration": 11,
    "start_time": "2022-11-25T12:54:53.521Z"
   },
   {
    "duration": 259,
    "start_time": "2022-11-25T12:54:53.534Z"
   },
   {
    "duration": 9,
    "start_time": "2022-11-25T12:54:53.794Z"
   },
   {
    "duration": 12,
    "start_time": "2022-11-25T12:54:53.813Z"
   },
   {
    "duration": 187,
    "start_time": "2022-11-25T12:54:53.826Z"
   },
   {
    "duration": 11,
    "start_time": "2022-11-25T12:54:54.014Z"
   },
   {
    "duration": 293,
    "start_time": "2022-11-25T12:54:54.026Z"
   },
   {
    "duration": 2,
    "start_time": "2022-11-25T12:54:54.323Z"
   },
   {
    "duration": 14,
    "start_time": "2022-11-25T12:54:54.326Z"
   },
   {
    "duration": 197,
    "start_time": "2022-11-25T12:54:54.342Z"
   },
   {
    "duration": 279,
    "start_time": "2022-11-25T12:54:54.540Z"
   },
   {
    "duration": 6,
    "start_time": "2022-11-25T12:54:54.820Z"
   },
   {
    "duration": 122,
    "start_time": "2022-11-25T12:54:54.827Z"
   },
   {
    "duration": 4,
    "start_time": "2022-11-25T12:54:54.950Z"
   },
   {
    "duration": 10,
    "start_time": "2022-11-25T12:54:54.955Z"
   },
   {
    "duration": 10,
    "start_time": "2022-11-25T12:54:54.966Z"
   },
   {
    "duration": 133,
    "start_time": "2022-11-25T12:54:54.978Z"
   },
   {
    "duration": 129,
    "start_time": "2022-11-25T12:54:55.113Z"
   },
   {
    "duration": 4,
    "start_time": "2022-11-25T12:54:55.243Z"
   },
   {
    "duration": 295,
    "start_time": "2022-11-25T12:54:55.249Z"
   },
   {
    "duration": 7,
    "start_time": "2022-11-25T12:54:55.545Z"
   },
   {
    "duration": 176,
    "start_time": "2022-11-25T12:54:55.554Z"
   },
   {
    "duration": 10,
    "start_time": "2022-11-25T12:54:55.731Z"
   },
   {
    "duration": 18,
    "start_time": "2022-11-25T12:54:55.742Z"
   },
   {
    "duration": 23,
    "start_time": "2022-11-25T12:54:55.762Z"
   },
   {
    "duration": 29,
    "start_time": "2022-11-25T12:54:55.787Z"
   },
   {
    "duration": 88,
    "start_time": "2022-11-25T12:55:57.535Z"
   },
   {
    "duration": 1023,
    "start_time": "2022-11-25T12:56:14.526Z"
   },
   {
    "duration": 72,
    "start_time": "2022-11-25T12:56:15.550Z"
   },
   {
    "duration": 12,
    "start_time": "2022-11-25T12:56:15.623Z"
   },
   {
    "duration": 11,
    "start_time": "2022-11-25T12:56:15.638Z"
   },
   {
    "duration": 10,
    "start_time": "2022-11-25T12:56:15.650Z"
   },
   {
    "duration": 8,
    "start_time": "2022-11-25T12:56:15.662Z"
   },
   {
    "duration": 5,
    "start_time": "2022-11-25T12:56:15.672Z"
   },
   {
    "duration": 7,
    "start_time": "2022-11-25T12:56:15.678Z"
   },
   {
    "duration": 34,
    "start_time": "2022-11-25T12:56:15.687Z"
   },
   {
    "duration": 8,
    "start_time": "2022-11-25T12:56:15.724Z"
   },
   {
    "duration": 12,
    "start_time": "2022-11-25T12:56:15.734Z"
   },
   {
    "duration": 8,
    "start_time": "2022-11-25T12:56:15.748Z"
   },
   {
    "duration": 91,
    "start_time": "2022-11-25T12:56:15.758Z"
   },
   {
    "duration": 0,
    "start_time": "2022-11-25T12:56:15.851Z"
   },
   {
    "duration": 0,
    "start_time": "2022-11-25T12:56:15.853Z"
   },
   {
    "duration": 0,
    "start_time": "2022-11-25T12:56:15.854Z"
   },
   {
    "duration": 0,
    "start_time": "2022-11-25T12:56:15.856Z"
   },
   {
    "duration": 0,
    "start_time": "2022-11-25T12:56:15.857Z"
   },
   {
    "duration": 0,
    "start_time": "2022-11-25T12:56:15.858Z"
   },
   {
    "duration": 0,
    "start_time": "2022-11-25T12:56:15.860Z"
   },
   {
    "duration": 0,
    "start_time": "2022-11-25T12:56:15.861Z"
   },
   {
    "duration": 0,
    "start_time": "2022-11-25T12:56:15.863Z"
   },
   {
    "duration": 0,
    "start_time": "2022-11-25T12:56:15.864Z"
   },
   {
    "duration": 0,
    "start_time": "2022-11-25T12:56:15.865Z"
   },
   {
    "duration": 0,
    "start_time": "2022-11-25T12:56:15.866Z"
   },
   {
    "duration": 0,
    "start_time": "2022-11-25T12:56:15.868Z"
   },
   {
    "duration": 0,
    "start_time": "2022-11-25T12:56:15.869Z"
   },
   {
    "duration": 0,
    "start_time": "2022-11-25T12:56:15.870Z"
   },
   {
    "duration": 0,
    "start_time": "2022-11-25T12:56:15.871Z"
   },
   {
    "duration": 0,
    "start_time": "2022-11-25T12:56:15.873Z"
   },
   {
    "duration": 0,
    "start_time": "2022-11-25T12:56:15.913Z"
   },
   {
    "duration": 0,
    "start_time": "2022-11-25T12:56:15.915Z"
   },
   {
    "duration": 0,
    "start_time": "2022-11-25T12:56:15.916Z"
   },
   {
    "duration": 0,
    "start_time": "2022-11-25T12:56:15.918Z"
   },
   {
    "duration": 0,
    "start_time": "2022-11-25T12:56:15.919Z"
   },
   {
    "duration": 0,
    "start_time": "2022-11-25T12:56:15.920Z"
   },
   {
    "duration": 1,
    "start_time": "2022-11-25T12:56:15.921Z"
   },
   {
    "duration": 0,
    "start_time": "2022-11-25T12:56:15.924Z"
   },
   {
    "duration": 0,
    "start_time": "2022-11-25T12:56:15.925Z"
   },
   {
    "duration": 0,
    "start_time": "2022-11-25T12:56:15.926Z"
   },
   {
    "duration": 0,
    "start_time": "2022-11-25T12:56:15.928Z"
   },
   {
    "duration": 0,
    "start_time": "2022-11-25T12:56:15.929Z"
   },
   {
    "duration": 0,
    "start_time": "2022-11-25T12:56:15.930Z"
   },
   {
    "duration": 0,
    "start_time": "2022-11-25T12:56:15.931Z"
   },
   {
    "duration": 0,
    "start_time": "2022-11-25T12:56:15.933Z"
   },
   {
    "duration": 0,
    "start_time": "2022-11-25T12:56:15.934Z"
   },
   {
    "duration": 0,
    "start_time": "2022-11-25T12:56:15.935Z"
   },
   {
    "duration": 3,
    "start_time": "2022-11-25T12:56:47.313Z"
   },
   {
    "duration": 1024,
    "start_time": "2022-11-25T12:56:52.727Z"
   },
   {
    "duration": 71,
    "start_time": "2022-11-25T12:56:53.752Z"
   },
   {
    "duration": 12,
    "start_time": "2022-11-25T12:56:53.825Z"
   },
   {
    "duration": 13,
    "start_time": "2022-11-25T12:56:53.839Z"
   },
   {
    "duration": 9,
    "start_time": "2022-11-25T12:56:53.854Z"
   },
   {
    "duration": 9,
    "start_time": "2022-11-25T12:56:53.864Z"
   },
   {
    "duration": 6,
    "start_time": "2022-11-25T12:56:53.875Z"
   },
   {
    "duration": 8,
    "start_time": "2022-11-25T12:56:53.882Z"
   },
   {
    "duration": 24,
    "start_time": "2022-11-25T12:56:53.891Z"
   },
   {
    "duration": 8,
    "start_time": "2022-11-25T12:56:53.917Z"
   },
   {
    "duration": 6,
    "start_time": "2022-11-25T12:56:53.926Z"
   },
   {
    "duration": 7,
    "start_time": "2022-11-25T12:56:53.933Z"
   },
   {
    "duration": 6,
    "start_time": "2022-11-25T12:56:53.942Z"
   },
   {
    "duration": 9,
    "start_time": "2022-11-25T12:56:53.949Z"
   },
   {
    "duration": 9,
    "start_time": "2022-11-25T12:56:53.959Z"
   },
   {
    "duration": 5,
    "start_time": "2022-11-25T12:56:53.969Z"
   },
   {
    "duration": 43,
    "start_time": "2022-11-25T12:56:53.976Z"
   },
   {
    "duration": 7,
    "start_time": "2022-11-25T12:56:54.021Z"
   },
   {
    "duration": 152,
    "start_time": "2022-11-25T12:56:54.030Z"
   },
   {
    "duration": 130,
    "start_time": "2022-11-25T12:56:54.184Z"
   },
   {
    "duration": 6,
    "start_time": "2022-11-25T12:56:54.315Z"
   },
   {
    "duration": 11,
    "start_time": "2022-11-25T12:56:54.322Z"
   },
   {
    "duration": 261,
    "start_time": "2022-11-25T12:56:54.335Z"
   },
   {
    "duration": 15,
    "start_time": "2022-11-25T12:56:54.598Z"
   },
   {
    "duration": 16,
    "start_time": "2022-11-25T12:56:54.615Z"
   },
   {
    "duration": 181,
    "start_time": "2022-11-25T12:56:54.633Z"
   },
   {
    "duration": 10,
    "start_time": "2022-11-25T12:56:54.816Z"
   },
   {
    "duration": 276,
    "start_time": "2022-11-25T12:56:54.829Z"
   },
   {
    "duration": 7,
    "start_time": "2022-11-25T12:56:55.106Z"
   },
   {
    "duration": 15,
    "start_time": "2022-11-25T12:56:55.115Z"
   },
   {
    "duration": 198,
    "start_time": "2022-11-25T12:56:55.132Z"
   },
   {
    "duration": 289,
    "start_time": "2022-11-25T12:56:55.331Z"
   },
   {
    "duration": 7,
    "start_time": "2022-11-25T12:56:55.621Z"
   },
   {
    "duration": 133,
    "start_time": "2022-11-25T12:56:55.629Z"
   },
   {
    "duration": 5,
    "start_time": "2022-11-25T12:56:55.763Z"
   },
   {
    "duration": 9,
    "start_time": "2022-11-25T12:56:55.769Z"
   },
   {
    "duration": 11,
    "start_time": "2022-11-25T12:56:55.779Z"
   },
   {
    "duration": 140,
    "start_time": "2022-11-25T12:56:55.791Z"
   },
   {
    "duration": 144,
    "start_time": "2022-11-25T12:56:55.932Z"
   },
   {
    "duration": 4,
    "start_time": "2022-11-25T12:56:56.077Z"
   },
   {
    "duration": 305,
    "start_time": "2022-11-25T12:56:56.082Z"
   },
   {
    "duration": 8,
    "start_time": "2022-11-25T12:56:56.389Z"
   },
   {
    "duration": 198,
    "start_time": "2022-11-25T12:56:56.398Z"
   },
   {
    "duration": 16,
    "start_time": "2022-11-25T12:56:56.598Z"
   },
   {
    "duration": 8,
    "start_time": "2022-11-25T12:56:56.616Z"
   },
   {
    "duration": 28,
    "start_time": "2022-11-25T12:56:56.625Z"
   },
   {
    "duration": 16,
    "start_time": "2022-11-25T12:56:56.654Z"
   },
   {
    "duration": 7,
    "start_time": "2022-11-25T12:57:36.767Z"
   },
   {
    "duration": 7,
    "start_time": "2022-11-25T12:58:14.666Z"
   },
   {
    "duration": 7,
    "start_time": "2022-11-25T12:58:24.684Z"
   },
   {
    "duration": 5,
    "start_time": "2022-11-25T13:05:38.851Z"
   },
   {
    "duration": 8,
    "start_time": "2022-11-25T13:05:47.009Z"
   },
   {
    "duration": 9,
    "start_time": "2022-11-25T13:06:06.562Z"
   },
   {
    "duration": 6,
    "start_time": "2022-11-25T13:06:12.828Z"
   },
   {
    "duration": 7,
    "start_time": "2022-11-25T13:06:44.284Z"
   },
   {
    "duration": 7,
    "start_time": "2022-11-25T13:06:48.480Z"
   },
   {
    "duration": 8,
    "start_time": "2022-11-25T13:06:54.431Z"
   },
   {
    "duration": 6,
    "start_time": "2022-11-25T13:07:01.530Z"
   },
   {
    "duration": 7,
    "start_time": "2022-11-25T13:08:23.650Z"
   },
   {
    "duration": 103,
    "start_time": "2022-11-25T13:08:58.013Z"
   },
   {
    "duration": 1076,
    "start_time": "2022-11-25T13:09:30.492Z"
   },
   {
    "duration": 74,
    "start_time": "2022-11-25T13:09:31.570Z"
   },
   {
    "duration": 13,
    "start_time": "2022-11-25T13:09:31.645Z"
   },
   {
    "duration": 16,
    "start_time": "2022-11-25T13:09:31.660Z"
   },
   {
    "duration": 17,
    "start_time": "2022-11-25T13:09:31.678Z"
   },
   {
    "duration": 14,
    "start_time": "2022-11-25T13:09:31.697Z"
   },
   {
    "duration": 8,
    "start_time": "2022-11-25T13:09:31.713Z"
   },
   {
    "duration": 9,
    "start_time": "2022-11-25T13:09:31.723Z"
   },
   {
    "duration": 7,
    "start_time": "2022-11-25T13:09:31.733Z"
   },
   {
    "duration": 11,
    "start_time": "2022-11-25T13:09:31.742Z"
   },
   {
    "duration": 11,
    "start_time": "2022-11-25T13:09:31.754Z"
   },
   {
    "duration": 112,
    "start_time": "2022-11-25T13:09:31.767Z"
   },
   {
    "duration": 0,
    "start_time": "2022-11-25T13:09:31.882Z"
   },
   {
    "duration": 0,
    "start_time": "2022-11-25T13:09:31.883Z"
   },
   {
    "duration": 0,
    "start_time": "2022-11-25T13:09:31.885Z"
   },
   {
    "duration": 0,
    "start_time": "2022-11-25T13:09:31.886Z"
   },
   {
    "duration": 0,
    "start_time": "2022-11-25T13:09:31.888Z"
   },
   {
    "duration": 0,
    "start_time": "2022-11-25T13:09:31.890Z"
   },
   {
    "duration": 0,
    "start_time": "2022-11-25T13:09:31.891Z"
   },
   {
    "duration": 0,
    "start_time": "2022-11-25T13:09:31.913Z"
   },
   {
    "duration": 0,
    "start_time": "2022-11-25T13:09:31.914Z"
   },
   {
    "duration": 0,
    "start_time": "2022-11-25T13:09:31.916Z"
   },
   {
    "duration": 0,
    "start_time": "2022-11-25T13:09:31.917Z"
   },
   {
    "duration": 0,
    "start_time": "2022-11-25T13:09:31.918Z"
   },
   {
    "duration": 0,
    "start_time": "2022-11-25T13:09:31.919Z"
   },
   {
    "duration": 0,
    "start_time": "2022-11-25T13:09:31.921Z"
   },
   {
    "duration": 0,
    "start_time": "2022-11-25T13:09:31.922Z"
   },
   {
    "duration": 0,
    "start_time": "2022-11-25T13:09:31.923Z"
   },
   {
    "duration": 0,
    "start_time": "2022-11-25T13:09:31.925Z"
   },
   {
    "duration": 1,
    "start_time": "2022-11-25T13:09:31.926Z"
   },
   {
    "duration": 0,
    "start_time": "2022-11-25T13:09:31.928Z"
   },
   {
    "duration": 0,
    "start_time": "2022-11-25T13:09:31.929Z"
   },
   {
    "duration": 0,
    "start_time": "2022-11-25T13:09:31.931Z"
   },
   {
    "duration": 0,
    "start_time": "2022-11-25T13:09:31.932Z"
   },
   {
    "duration": 0,
    "start_time": "2022-11-25T13:09:31.933Z"
   },
   {
    "duration": 0,
    "start_time": "2022-11-25T13:09:31.934Z"
   },
   {
    "duration": 1,
    "start_time": "2022-11-25T13:09:31.935Z"
   },
   {
    "duration": 0,
    "start_time": "2022-11-25T13:09:31.937Z"
   },
   {
    "duration": 0,
    "start_time": "2022-11-25T13:09:31.938Z"
   },
   {
    "duration": 0,
    "start_time": "2022-11-25T13:09:31.939Z"
   },
   {
    "duration": 0,
    "start_time": "2022-11-25T13:09:31.940Z"
   },
   {
    "duration": 0,
    "start_time": "2022-11-25T13:09:31.942Z"
   },
   {
    "duration": 0,
    "start_time": "2022-11-25T13:09:31.942Z"
   },
   {
    "duration": 0,
    "start_time": "2022-11-25T13:09:31.944Z"
   },
   {
    "duration": 0,
    "start_time": "2022-11-25T13:09:31.945Z"
   },
   {
    "duration": 0,
    "start_time": "2022-11-25T13:09:31.946Z"
   },
   {
    "duration": 0,
    "start_time": "2022-11-25T13:09:31.947Z"
   },
   {
    "duration": 0,
    "start_time": "2022-11-25T13:09:31.948Z"
   },
   {
    "duration": 0,
    "start_time": "2022-11-25T13:09:31.949Z"
   },
   {
    "duration": 0,
    "start_time": "2022-11-25T13:09:32.013Z"
   },
   {
    "duration": 0,
    "start_time": "2022-11-25T13:09:32.014Z"
   },
   {
    "duration": 0,
    "start_time": "2022-11-25T13:09:32.014Z"
   },
   {
    "duration": 10,
    "start_time": "2022-11-25T13:09:54.711Z"
   },
   {
    "duration": 9,
    "start_time": "2022-11-25T13:10:23.750Z"
   },
   {
    "duration": 24,
    "start_time": "2022-11-25T13:10:59.407Z"
   },
   {
    "duration": 5,
    "start_time": "2022-11-25T13:11:47.397Z"
   },
   {
    "duration": 7,
    "start_time": "2022-11-25T13:11:51.906Z"
   },
   {
    "duration": 1098,
    "start_time": "2022-11-25T13:11:59.282Z"
   },
   {
    "duration": 84,
    "start_time": "2022-11-25T13:12:00.383Z"
   },
   {
    "duration": 13,
    "start_time": "2022-11-25T13:12:00.468Z"
   },
   {
    "duration": 22,
    "start_time": "2022-11-25T13:12:00.483Z"
   },
   {
    "duration": 22,
    "start_time": "2022-11-25T13:12:00.507Z"
   },
   {
    "duration": 39,
    "start_time": "2022-11-25T13:12:00.531Z"
   },
   {
    "duration": 39,
    "start_time": "2022-11-25T13:12:00.571Z"
   },
   {
    "duration": 17,
    "start_time": "2022-11-25T13:12:00.612Z"
   },
   {
    "duration": 23,
    "start_time": "2022-11-25T13:12:00.631Z"
   },
   {
    "duration": 17,
    "start_time": "2022-11-25T13:12:00.657Z"
   },
   {
    "duration": 16,
    "start_time": "2022-11-25T13:12:00.676Z"
   },
   {
    "duration": 7,
    "start_time": "2022-11-25T13:12:00.693Z"
   },
   {
    "duration": 16,
    "start_time": "2022-11-25T13:12:00.702Z"
   },
   {
    "duration": 21,
    "start_time": "2022-11-25T13:12:00.720Z"
   },
   {
    "duration": 19,
    "start_time": "2022-11-25T13:12:00.742Z"
   },
   {
    "duration": 13,
    "start_time": "2022-11-25T13:12:00.763Z"
   },
   {
    "duration": 26,
    "start_time": "2022-11-25T13:12:00.778Z"
   },
   {
    "duration": 16,
    "start_time": "2022-11-25T13:12:00.806Z"
   },
   {
    "duration": 35,
    "start_time": "2022-11-25T13:12:00.824Z"
   },
   {
    "duration": 14,
    "start_time": "2022-11-25T13:12:00.861Z"
   },
   {
    "duration": 30,
    "start_time": "2022-11-25T13:12:00.877Z"
   },
   {
    "duration": 32,
    "start_time": "2022-11-25T13:12:00.908Z"
   },
   {
    "duration": 211,
    "start_time": "2022-11-25T13:12:00.942Z"
   },
   {
    "duration": 122,
    "start_time": "2022-11-25T13:12:01.155Z"
   },
   {
    "duration": 6,
    "start_time": "2022-11-25T13:12:01.279Z"
   },
   {
    "duration": 27,
    "start_time": "2022-11-25T13:12:01.287Z"
   },
   {
    "duration": 269,
    "start_time": "2022-11-25T13:12:01.315Z"
   },
   {
    "duration": 9,
    "start_time": "2022-11-25T13:12:01.587Z"
   },
   {
    "duration": 144,
    "start_time": "2022-11-25T13:12:01.598Z"
   },
   {
    "duration": 179,
    "start_time": "2022-11-25T13:12:01.744Z"
   },
   {
    "duration": 12,
    "start_time": "2022-11-25T13:12:01.925Z"
   },
   {
    "duration": 266,
    "start_time": "2022-11-25T13:12:01.939Z"
   },
   {
    "duration": 7,
    "start_time": "2022-11-25T13:12:02.207Z"
   },
   {
    "duration": 14,
    "start_time": "2022-11-25T13:12:02.216Z"
   },
   {
    "duration": 193,
    "start_time": "2022-11-25T13:12:02.232Z"
   },
   {
    "duration": 266,
    "start_time": "2022-11-25T13:12:02.427Z"
   },
   {
    "duration": 18,
    "start_time": "2022-11-25T13:12:02.695Z"
   },
   {
    "duration": 298,
    "start_time": "2022-11-25T13:12:02.715Z"
   },
   {
    "duration": 3,
    "start_time": "2022-11-25T13:12:03.015Z"
   },
   {
    "duration": 7,
    "start_time": "2022-11-25T13:12:03.020Z"
   },
   {
    "duration": 10,
    "start_time": "2022-11-25T13:12:03.028Z"
   },
   {
    "duration": 132,
    "start_time": "2022-11-25T13:12:03.040Z"
   },
   {
    "duration": 125,
    "start_time": "2022-11-25T13:12:03.174Z"
   },
   {
    "duration": 13,
    "start_time": "2022-11-25T13:12:03.301Z"
   },
   {
    "duration": 272,
    "start_time": "2022-11-25T13:12:03.316Z"
   },
   {
    "duration": 9,
    "start_time": "2022-11-25T13:12:03.590Z"
   },
   {
    "duration": 154,
    "start_time": "2022-11-25T13:12:03.600Z"
   },
   {
    "duration": 9,
    "start_time": "2022-11-25T13:12:03.755Z"
   },
   {
    "duration": 7,
    "start_time": "2022-11-25T13:12:03.766Z"
   },
   {
    "duration": 41,
    "start_time": "2022-11-25T13:12:03.774Z"
   },
   {
    "duration": 2,
    "start_time": "2022-11-25T13:12:03.816Z"
   },
   {
    "duration": 15,
    "start_time": "2022-11-25T13:12:03.821Z"
   },
   {
    "duration": 9,
    "start_time": "2022-11-25T13:14:33.758Z"
   },
   {
    "duration": 1064,
    "start_time": "2022-11-25T13:14:40.146Z"
   },
   {
    "duration": 71,
    "start_time": "2022-11-25T13:14:41.213Z"
   },
   {
    "duration": 12,
    "start_time": "2022-11-25T13:14:41.286Z"
   },
   {
    "duration": 14,
    "start_time": "2022-11-25T13:14:41.300Z"
   },
   {
    "duration": 11,
    "start_time": "2022-11-25T13:14:41.316Z"
   },
   {
    "duration": 11,
    "start_time": "2022-11-25T13:14:41.329Z"
   },
   {
    "duration": 7,
    "start_time": "2022-11-25T13:14:41.342Z"
   },
   {
    "duration": 8,
    "start_time": "2022-11-25T13:14:41.351Z"
   },
   {
    "duration": 4,
    "start_time": "2022-11-25T13:14:41.360Z"
   },
   {
    "duration": 13,
    "start_time": "2022-11-25T13:14:41.366Z"
   },
   {
    "duration": 11,
    "start_time": "2022-11-25T13:14:41.381Z"
   },
   {
    "duration": 10,
    "start_time": "2022-11-25T13:14:41.413Z"
   },
   {
    "duration": 11,
    "start_time": "2022-11-25T13:14:41.425Z"
   },
   {
    "duration": 11,
    "start_time": "2022-11-25T13:14:41.437Z"
   },
   {
    "duration": 4,
    "start_time": "2022-11-25T13:14:41.449Z"
   },
   {
    "duration": 9,
    "start_time": "2022-11-25T13:14:41.455Z"
   },
   {
    "duration": 7,
    "start_time": "2022-11-25T13:14:41.465Z"
   },
   {
    "duration": 8,
    "start_time": "2022-11-25T13:14:41.473Z"
   },
   {
    "duration": 30,
    "start_time": "2022-11-25T13:14:41.483Z"
   },
   {
    "duration": 7,
    "start_time": "2022-11-25T13:14:41.515Z"
   },
   {
    "duration": 14,
    "start_time": "2022-11-25T13:14:41.523Z"
   },
   {
    "duration": 11,
    "start_time": "2022-11-25T13:14:41.538Z"
   },
   {
    "duration": 152,
    "start_time": "2022-11-25T13:14:41.551Z"
   },
   {
    "duration": 129,
    "start_time": "2022-11-25T13:14:41.704Z"
   },
   {
    "duration": 8,
    "start_time": "2022-11-25T13:14:41.835Z"
   },
   {
    "duration": 14,
    "start_time": "2022-11-25T13:14:41.845Z"
   },
   {
    "duration": 270,
    "start_time": "2022-11-25T13:14:41.860Z"
   },
   {
    "duration": 9,
    "start_time": "2022-11-25T13:14:42.133Z"
   },
   {
    "duration": 13,
    "start_time": "2022-11-25T13:14:42.144Z"
   },
   {
    "duration": 186,
    "start_time": "2022-11-25T13:14:42.158Z"
   },
   {
    "duration": 12,
    "start_time": "2022-11-25T13:14:42.345Z"
   },
   {
    "duration": 257,
    "start_time": "2022-11-25T13:14:42.358Z"
   },
   {
    "duration": 2,
    "start_time": "2022-11-25T13:14:42.617Z"
   },
   {
    "duration": 14,
    "start_time": "2022-11-25T13:14:42.621Z"
   },
   {
    "duration": 194,
    "start_time": "2022-11-25T13:14:42.637Z"
   },
   {
    "duration": 264,
    "start_time": "2022-11-25T13:14:42.832Z"
   },
   {
    "duration": 16,
    "start_time": "2022-11-25T13:14:43.097Z"
   },
   {
    "duration": 141,
    "start_time": "2022-11-25T13:14:43.114Z"
   },
   {
    "duration": 4,
    "start_time": "2022-11-25T13:14:43.256Z"
   },
   {
    "duration": 7,
    "start_time": "2022-11-25T13:14:43.262Z"
   },
   {
    "duration": 11,
    "start_time": "2022-11-25T13:14:43.270Z"
   },
   {
    "duration": 140,
    "start_time": "2022-11-25T13:14:43.282Z"
   },
   {
    "duration": 146,
    "start_time": "2022-11-25T13:14:43.423Z"
   },
   {
    "duration": 5,
    "start_time": "2022-11-25T13:14:43.571Z"
   },
   {
    "duration": 304,
    "start_time": "2022-11-25T13:14:43.578Z"
   },
   {
    "duration": 8,
    "start_time": "2022-11-25T13:14:43.884Z"
   },
   {
    "duration": 181,
    "start_time": "2022-11-25T13:14:43.894Z"
   },
   {
    "duration": 12,
    "start_time": "2022-11-25T13:14:44.077Z"
   },
   {
    "duration": 26,
    "start_time": "2022-11-25T13:14:44.091Z"
   },
   {
    "duration": 25,
    "start_time": "2022-11-25T13:14:44.119Z"
   },
   {
    "duration": 3,
    "start_time": "2022-11-25T13:14:44.146Z"
   },
   {
    "duration": 18,
    "start_time": "2022-11-25T13:14:44.150Z"
   },
   {
    "duration": 9,
    "start_time": "2022-11-25T13:15:32.939Z"
   },
   {
    "duration": 5,
    "start_time": "2022-11-25T13:30:14.174Z"
   },
   {
    "duration": 1011,
    "start_time": "2022-11-25T13:30:25.938Z"
   },
   {
    "duration": 72,
    "start_time": "2022-11-25T13:30:26.951Z"
   },
   {
    "duration": 12,
    "start_time": "2022-11-25T13:30:27.025Z"
   },
   {
    "duration": 12,
    "start_time": "2022-11-25T13:30:27.039Z"
   },
   {
    "duration": 9,
    "start_time": "2022-11-25T13:30:27.053Z"
   },
   {
    "duration": 9,
    "start_time": "2022-11-25T13:30:27.063Z"
   },
   {
    "duration": 6,
    "start_time": "2022-11-25T13:30:27.073Z"
   },
   {
    "duration": 8,
    "start_time": "2022-11-25T13:30:27.080Z"
   },
   {
    "duration": 3,
    "start_time": "2022-11-25T13:30:27.090Z"
   },
   {
    "duration": 5,
    "start_time": "2022-11-25T13:30:27.112Z"
   },
   {
    "duration": 8,
    "start_time": "2022-11-25T13:30:27.118Z"
   },
   {
    "duration": 9,
    "start_time": "2022-11-25T13:30:27.128Z"
   },
   {
    "duration": 6,
    "start_time": "2022-11-25T13:30:27.138Z"
   },
   {
    "duration": 12,
    "start_time": "2022-11-25T13:30:27.146Z"
   },
   {
    "duration": 8,
    "start_time": "2022-11-25T13:30:27.159Z"
   },
   {
    "duration": 5,
    "start_time": "2022-11-25T13:30:27.168Z"
   },
   {
    "duration": 9,
    "start_time": "2022-11-25T13:30:27.175Z"
   },
   {
    "duration": 3,
    "start_time": "2022-11-25T13:30:27.213Z"
   },
   {
    "duration": 9,
    "start_time": "2022-11-25T13:30:27.217Z"
   },
   {
    "duration": 8,
    "start_time": "2022-11-25T13:30:27.227Z"
   },
   {
    "duration": 9,
    "start_time": "2022-11-25T13:30:27.236Z"
   },
   {
    "duration": 12,
    "start_time": "2022-11-25T13:30:27.247Z"
   },
   {
    "duration": 9,
    "start_time": "2022-11-25T13:30:27.261Z"
   },
   {
    "duration": 180,
    "start_time": "2022-11-25T13:30:27.271Z"
   },
   {
    "duration": 114,
    "start_time": "2022-11-25T13:30:27.453Z"
   },
   {
    "duration": 6,
    "start_time": "2022-11-25T13:30:27.569Z"
   },
   {
    "duration": 13,
    "start_time": "2022-11-25T13:30:27.577Z"
   },
   {
    "duration": 260,
    "start_time": "2022-11-25T13:30:27.592Z"
   },
   {
    "duration": 9,
    "start_time": "2022-11-25T13:30:27.854Z"
   },
   {
    "duration": 13,
    "start_time": "2022-11-25T13:30:27.864Z"
   },
   {
    "duration": 179,
    "start_time": "2022-11-25T13:30:27.878Z"
   },
   {
    "duration": 10,
    "start_time": "2022-11-25T13:30:28.058Z"
   },
   {
    "duration": 263,
    "start_time": "2022-11-25T13:30:28.070Z"
   },
   {
    "duration": 3,
    "start_time": "2022-11-25T13:30:28.334Z"
   },
   {
    "duration": 16,
    "start_time": "2022-11-25T13:30:28.338Z"
   },
   {
    "duration": 192,
    "start_time": "2022-11-25T13:30:28.355Z"
   },
   {
    "duration": 268,
    "start_time": "2022-11-25T13:30:28.549Z"
   },
   {
    "duration": 6,
    "start_time": "2022-11-25T13:30:28.818Z"
   },
   {
    "duration": 145,
    "start_time": "2022-11-25T13:30:28.826Z"
   },
   {
    "duration": 4,
    "start_time": "2022-11-25T13:30:28.972Z"
   },
   {
    "duration": 9,
    "start_time": "2022-11-25T13:30:28.980Z"
   },
   {
    "duration": 9,
    "start_time": "2022-11-25T13:30:28.991Z"
   },
   {
    "duration": 139,
    "start_time": "2022-11-25T13:30:29.001Z"
   },
   {
    "duration": 148,
    "start_time": "2022-11-25T13:30:29.142Z"
   },
   {
    "duration": 4,
    "start_time": "2022-11-25T13:30:29.292Z"
   },
   {
    "duration": 276,
    "start_time": "2022-11-25T13:30:29.298Z"
   },
   {
    "duration": 7,
    "start_time": "2022-11-25T13:30:29.576Z"
   },
   {
    "duration": 137,
    "start_time": "2022-11-25T13:30:29.585Z"
   },
   {
    "duration": 10,
    "start_time": "2022-11-25T13:30:29.724Z"
   },
   {
    "duration": 8,
    "start_time": "2022-11-25T13:30:29.735Z"
   },
   {
    "duration": 27,
    "start_time": "2022-11-25T13:30:29.745Z"
   },
   {
    "duration": 2,
    "start_time": "2022-11-25T13:30:29.774Z"
   },
   {
    "duration": 43,
    "start_time": "2022-11-25T13:30:29.778Z"
   },
   {
    "duration": 87,
    "start_time": "2022-11-25T13:35:26.900Z"
   },
   {
    "duration": 5,
    "start_time": "2022-11-25T13:35:36.419Z"
   },
   {
    "duration": 6,
    "start_time": "2022-11-25T13:35:47.479Z"
   },
   {
    "duration": 5,
    "start_time": "2022-11-25T13:35:53.254Z"
   },
   {
    "duration": 4,
    "start_time": "2022-11-25T13:38:43.905Z"
   },
   {
    "duration": 7,
    "start_time": "2022-11-25T13:38:49.137Z"
   },
   {
    "duration": 4,
    "start_time": "2022-11-25T13:39:03.362Z"
   },
   {
    "duration": 90,
    "start_time": "2022-11-25T13:39:15.556Z"
   },
   {
    "duration": 6,
    "start_time": "2022-11-25T13:39:37.977Z"
   },
   {
    "duration": 6,
    "start_time": "2022-11-25T13:39:52.623Z"
   },
   {
    "duration": 8,
    "start_time": "2022-11-25T13:40:02.028Z"
   },
   {
    "duration": 4,
    "start_time": "2022-11-25T13:40:16.686Z"
   },
   {
    "duration": 7,
    "start_time": "2022-11-25T13:40:22.126Z"
   },
   {
    "duration": 1025,
    "start_time": "2022-11-25T13:40:27.647Z"
   },
   {
    "duration": 74,
    "start_time": "2022-11-25T13:40:28.674Z"
   },
   {
    "duration": 12,
    "start_time": "2022-11-25T13:40:28.750Z"
   },
   {
    "duration": 17,
    "start_time": "2022-11-25T13:40:28.764Z"
   },
   {
    "duration": 17,
    "start_time": "2022-11-25T13:40:28.782Z"
   },
   {
    "duration": 24,
    "start_time": "2022-11-25T13:40:28.800Z"
   },
   {
    "duration": 12,
    "start_time": "2022-11-25T13:40:28.826Z"
   },
   {
    "duration": 21,
    "start_time": "2022-11-25T13:40:28.839Z"
   },
   {
    "duration": 5,
    "start_time": "2022-11-25T13:40:28.862Z"
   },
   {
    "duration": 8,
    "start_time": "2022-11-25T13:40:28.869Z"
   },
   {
    "duration": 25,
    "start_time": "2022-11-25T13:40:28.878Z"
   },
   {
    "duration": 16,
    "start_time": "2022-11-25T13:40:28.905Z"
   },
   {
    "duration": 39,
    "start_time": "2022-11-25T13:40:28.923Z"
   },
   {
    "duration": 31,
    "start_time": "2022-11-25T13:40:28.964Z"
   },
   {
    "duration": 8,
    "start_time": "2022-11-25T13:40:28.997Z"
   },
   {
    "duration": 15,
    "start_time": "2022-11-25T13:40:29.007Z"
   },
   {
    "duration": 11,
    "start_time": "2022-11-25T13:40:29.024Z"
   },
   {
    "duration": 29,
    "start_time": "2022-11-25T13:40:29.036Z"
   },
   {
    "duration": 32,
    "start_time": "2022-11-25T13:40:29.067Z"
   },
   {
    "duration": 11,
    "start_time": "2022-11-25T13:40:29.101Z"
   },
   {
    "duration": 14,
    "start_time": "2022-11-25T13:40:29.113Z"
   },
   {
    "duration": 12,
    "start_time": "2022-11-25T13:40:29.129Z"
   },
   {
    "duration": 150,
    "start_time": "2022-11-25T13:40:29.143Z"
   },
   {
    "duration": 112,
    "start_time": "2022-11-25T13:40:29.294Z"
   },
   {
    "duration": 6,
    "start_time": "2022-11-25T13:40:29.413Z"
   },
   {
    "duration": 24,
    "start_time": "2022-11-25T13:40:29.420Z"
   },
   {
    "duration": 260,
    "start_time": "2022-11-25T13:40:29.446Z"
   },
   {
    "duration": 10,
    "start_time": "2022-11-25T13:40:29.709Z"
   },
   {
    "duration": 18,
    "start_time": "2022-11-25T13:40:29.720Z"
   },
   {
    "duration": 180,
    "start_time": "2022-11-25T13:40:29.739Z"
   },
   {
    "duration": 11,
    "start_time": "2022-11-25T13:40:29.920Z"
   },
   {
    "duration": 273,
    "start_time": "2022-11-25T13:40:29.933Z"
   },
   {
    "duration": 3,
    "start_time": "2022-11-25T13:40:30.213Z"
   },
   {
    "duration": 48,
    "start_time": "2022-11-25T13:40:30.217Z"
   },
   {
    "duration": 241,
    "start_time": "2022-11-25T13:40:30.267Z"
   },
   {
    "duration": 318,
    "start_time": "2022-11-25T13:40:30.510Z"
   },
   {
    "duration": 7,
    "start_time": "2022-11-25T13:40:30.830Z"
   },
   {
    "duration": 162,
    "start_time": "2022-11-25T13:40:30.838Z"
   },
   {
    "duration": 5,
    "start_time": "2022-11-25T13:40:31.002Z"
   },
   {
    "duration": 38,
    "start_time": "2022-11-25T13:40:31.013Z"
   },
   {
    "duration": 36,
    "start_time": "2022-11-25T13:40:31.053Z"
   },
   {
    "duration": 152,
    "start_time": "2022-11-25T13:40:31.090Z"
   },
   {
    "duration": 134,
    "start_time": "2022-11-25T13:40:31.243Z"
   },
   {
    "duration": 5,
    "start_time": "2022-11-25T13:40:31.379Z"
   },
   {
    "duration": 347,
    "start_time": "2022-11-25T13:40:31.385Z"
   },
   {
    "duration": 8,
    "start_time": "2022-11-25T13:40:31.733Z"
   },
   {
    "duration": 283,
    "start_time": "2022-11-25T13:40:31.742Z"
   },
   {
    "duration": 13,
    "start_time": "2022-11-25T13:40:32.027Z"
   },
   {
    "duration": 4,
    "start_time": "2022-11-25T13:40:32.041Z"
   },
   {
    "duration": 12,
    "start_time": "2022-11-25T13:40:32.047Z"
   },
   {
    "duration": 81,
    "start_time": "2022-11-25T13:40:32.060Z"
   },
   {
    "duration": 3,
    "start_time": "2022-11-25T13:40:32.143Z"
   },
   {
    "duration": 13,
    "start_time": "2022-11-25T13:40:32.148Z"
   },
   {
    "duration": 1046,
    "start_time": "2022-11-25T13:46:15.396Z"
   },
   {
    "duration": 72,
    "start_time": "2022-11-25T13:46:16.444Z"
   },
   {
    "duration": 12,
    "start_time": "2022-11-25T13:46:16.517Z"
   },
   {
    "duration": 13,
    "start_time": "2022-11-25T13:46:16.530Z"
   },
   {
    "duration": 10,
    "start_time": "2022-11-25T13:46:16.545Z"
   },
   {
    "duration": 9,
    "start_time": "2022-11-25T13:46:16.556Z"
   },
   {
    "duration": 7,
    "start_time": "2022-11-25T13:46:16.566Z"
   },
   {
    "duration": 7,
    "start_time": "2022-11-25T13:46:16.574Z"
   },
   {
    "duration": 3,
    "start_time": "2022-11-25T13:46:16.583Z"
   },
   {
    "duration": 6,
    "start_time": "2022-11-25T13:46:16.613Z"
   },
   {
    "duration": 9,
    "start_time": "2022-11-25T13:46:16.621Z"
   },
   {
    "duration": 6,
    "start_time": "2022-11-25T13:46:16.631Z"
   },
   {
    "duration": 10,
    "start_time": "2022-11-25T13:46:16.638Z"
   },
   {
    "duration": 7,
    "start_time": "2022-11-25T13:46:16.651Z"
   },
   {
    "duration": 8,
    "start_time": "2022-11-25T13:46:16.660Z"
   },
   {
    "duration": 12,
    "start_time": "2022-11-25T13:46:16.670Z"
   },
   {
    "duration": 29,
    "start_time": "2022-11-25T13:46:16.684Z"
   },
   {
    "duration": 5,
    "start_time": "2022-11-25T13:46:16.714Z"
   },
   {
    "duration": 5,
    "start_time": "2022-11-25T13:46:16.720Z"
   },
   {
    "duration": 12,
    "start_time": "2022-11-25T13:46:16.726Z"
   },
   {
    "duration": 13,
    "start_time": "2022-11-25T13:46:16.740Z"
   },
   {
    "duration": 13,
    "start_time": "2022-11-25T13:46:16.754Z"
   },
   {
    "duration": 154,
    "start_time": "2022-11-25T13:46:16.769Z"
   },
   {
    "duration": 129,
    "start_time": "2022-11-25T13:46:16.925Z"
   },
   {
    "duration": 7,
    "start_time": "2022-11-25T13:46:17.055Z"
   },
   {
    "duration": 11,
    "start_time": "2022-11-25T13:46:17.064Z"
   },
   {
    "duration": 274,
    "start_time": "2022-11-25T13:46:17.077Z"
   },
   {
    "duration": 10,
    "start_time": "2022-11-25T13:46:17.352Z"
   },
   {
    "duration": 14,
    "start_time": "2022-11-25T13:46:17.363Z"
   },
   {
    "duration": 172,
    "start_time": "2022-11-25T13:46:17.379Z"
   },
   {
    "duration": 10,
    "start_time": "2022-11-25T13:46:17.553Z"
   },
   {
    "duration": 253,
    "start_time": "2022-11-25T13:46:17.565Z"
   },
   {
    "duration": 2,
    "start_time": "2022-11-25T13:46:17.819Z"
   },
   {
    "duration": 11,
    "start_time": "2022-11-25T13:46:17.823Z"
   },
   {
    "duration": 192,
    "start_time": "2022-11-25T13:46:17.836Z"
   },
   {
    "duration": 274,
    "start_time": "2022-11-25T13:46:18.030Z"
   },
   {
    "duration": 11,
    "start_time": "2022-11-25T13:46:18.305Z"
   },
   {
    "duration": 142,
    "start_time": "2022-11-25T13:46:18.317Z"
   },
   {
    "duration": 4,
    "start_time": "2022-11-25T13:46:18.461Z"
   },
   {
    "duration": 8,
    "start_time": "2022-11-25T13:46:18.467Z"
   },
   {
    "duration": 10,
    "start_time": "2022-11-25T13:46:18.479Z"
   },
   {
    "duration": 136,
    "start_time": "2022-11-25T13:46:18.490Z"
   },
   {
    "duration": 138,
    "start_time": "2022-11-25T13:46:18.628Z"
   },
   {
    "duration": 4,
    "start_time": "2022-11-25T13:46:18.767Z"
   },
   {
    "duration": 284,
    "start_time": "2022-11-25T13:46:18.772Z"
   },
   {
    "duration": 8,
    "start_time": "2022-11-25T13:46:19.058Z"
   },
   {
    "duration": 177,
    "start_time": "2022-11-25T13:46:19.068Z"
   },
   {
    "duration": 9,
    "start_time": "2022-11-25T13:46:19.247Z"
   },
   {
    "duration": 12,
    "start_time": "2022-11-25T13:46:19.258Z"
   },
   {
    "duration": 22,
    "start_time": "2022-11-25T13:46:19.272Z"
   },
   {
    "duration": 34,
    "start_time": "2022-11-25T13:46:19.295Z"
   },
   {
    "duration": 7,
    "start_time": "2022-11-25T13:46:19.330Z"
   },
   {
    "duration": 16,
    "start_time": "2022-11-25T13:46:19.339Z"
   },
   {
    "duration": 988,
    "start_time": "2022-11-25T13:46:47.560Z"
   },
   {
    "duration": 72,
    "start_time": "2022-11-25T13:46:48.550Z"
   },
   {
    "duration": 12,
    "start_time": "2022-11-25T13:46:48.624Z"
   },
   {
    "duration": 13,
    "start_time": "2022-11-25T13:46:48.637Z"
   },
   {
    "duration": 10,
    "start_time": "2022-11-25T13:46:48.652Z"
   },
   {
    "duration": 7,
    "start_time": "2022-11-25T13:46:48.663Z"
   },
   {
    "duration": 6,
    "start_time": "2022-11-25T13:46:48.671Z"
   },
   {
    "duration": 7,
    "start_time": "2022-11-25T13:46:48.679Z"
   },
   {
    "duration": 27,
    "start_time": "2022-11-25T13:46:48.687Z"
   },
   {
    "duration": 7,
    "start_time": "2022-11-25T13:46:48.717Z"
   },
   {
    "duration": 9,
    "start_time": "2022-11-25T13:46:48.725Z"
   },
   {
    "duration": 6,
    "start_time": "2022-11-25T13:46:48.736Z"
   },
   {
    "duration": 10,
    "start_time": "2022-11-25T13:46:48.743Z"
   },
   {
    "duration": 10,
    "start_time": "2022-11-25T13:46:48.754Z"
   },
   {
    "duration": 4,
    "start_time": "2022-11-25T13:46:48.765Z"
   },
   {
    "duration": 8,
    "start_time": "2022-11-25T13:46:48.770Z"
   },
   {
    "duration": 33,
    "start_time": "2022-11-25T13:46:48.780Z"
   },
   {
    "duration": 6,
    "start_time": "2022-11-25T13:46:48.815Z"
   },
   {
    "duration": 5,
    "start_time": "2022-11-25T13:46:48.822Z"
   },
   {
    "duration": 5,
    "start_time": "2022-11-25T13:46:48.829Z"
   },
   {
    "duration": 14,
    "start_time": "2022-11-25T13:46:48.835Z"
   },
   {
    "duration": 9,
    "start_time": "2022-11-25T13:46:48.850Z"
   },
   {
    "duration": 175,
    "start_time": "2022-11-25T13:46:48.861Z"
   },
   {
    "duration": 131,
    "start_time": "2022-11-25T13:46:49.037Z"
   },
   {
    "duration": 7,
    "start_time": "2022-11-25T13:46:49.169Z"
   },
   {
    "duration": 12,
    "start_time": "2022-11-25T13:46:49.177Z"
   },
   {
    "duration": 267,
    "start_time": "2022-11-25T13:46:49.191Z"
   },
   {
    "duration": 9,
    "start_time": "2022-11-25T13:46:49.462Z"
   },
   {
    "duration": 11,
    "start_time": "2022-11-25T13:46:49.472Z"
   },
   {
    "duration": 180,
    "start_time": "2022-11-25T13:46:49.485Z"
   },
   {
    "duration": 10,
    "start_time": "2022-11-25T13:46:49.667Z"
   },
   {
    "duration": 277,
    "start_time": "2022-11-25T13:46:49.678Z"
   },
   {
    "duration": 3,
    "start_time": "2022-11-25T13:46:49.956Z"
   },
   {
    "duration": 12,
    "start_time": "2022-11-25T13:46:49.960Z"
   },
   {
    "duration": 191,
    "start_time": "2022-11-25T13:46:49.973Z"
   },
   {
    "duration": 332,
    "start_time": "2022-11-25T13:46:50.165Z"
   },
   {
    "duration": 15,
    "start_time": "2022-11-25T13:46:50.499Z"
   },
   {
    "duration": 139,
    "start_time": "2022-11-25T13:46:50.515Z"
   },
   {
    "duration": 4,
    "start_time": "2022-11-25T13:46:50.656Z"
   },
   {
    "duration": 8,
    "start_time": "2022-11-25T13:46:50.662Z"
   },
   {
    "duration": 9,
    "start_time": "2022-11-25T13:46:50.671Z"
   },
   {
    "duration": 136,
    "start_time": "2022-11-25T13:46:50.682Z"
   },
   {
    "duration": 131,
    "start_time": "2022-11-25T13:46:50.819Z"
   },
   {
    "duration": 5,
    "start_time": "2022-11-25T13:46:50.952Z"
   },
   {
    "duration": 300,
    "start_time": "2022-11-25T13:46:50.958Z"
   },
   {
    "duration": 6,
    "start_time": "2022-11-25T13:46:51.259Z"
   },
   {
    "duration": 139,
    "start_time": "2022-11-25T13:46:51.267Z"
   },
   {
    "duration": 11,
    "start_time": "2022-11-25T13:46:51.408Z"
   },
   {
    "duration": 5,
    "start_time": "2022-11-25T13:46:51.421Z"
   },
   {
    "duration": 9,
    "start_time": "2022-11-25T13:46:51.428Z"
   },
   {
    "duration": 26,
    "start_time": "2022-11-25T13:46:51.438Z"
   },
   {
    "duration": 2,
    "start_time": "2022-11-25T13:46:51.465Z"
   },
   {
    "duration": 14,
    "start_time": "2022-11-25T13:46:51.469Z"
   }
  ],
  "kernelspec": {
   "display_name": "Python 3 (ipykernel)",
   "language": "python",
   "name": "python3"
  },
  "language_info": {
   "codemirror_mode": {
    "name": "ipython",
    "version": 3
   },
   "file_extension": ".py",
   "mimetype": "text/x-python",
   "name": "python",
   "nbconvert_exporter": "python",
   "pygments_lexer": "ipython3",
   "version": "3.9.12"
  },
  "toc": {
   "base_numbering": 1,
   "nav_menu": {},
   "number_sections": true,
   "sideBar": true,
   "skip_h1_title": true,
   "title_cell": "Table of Contents",
   "title_sidebar": "Contents",
   "toc_cell": false,
   "toc_position": {},
   "toc_section_display": true,
   "toc_window_display": false
  }
 },
 "nbformat": 4,
 "nbformat_minor": 2
}
