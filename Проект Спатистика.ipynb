{
 "cells": [
  {
   "cell_type": "markdown",
   "metadata": {},
   "source": [
    "# Содержание\n",
    "1. [Открытие данных](#start)\n",
    "2. [Подготовка данных](#prepare)\n",
    "3. [Анализ данных](#Analysis)\n",
    "4. [Проверка гипотез ](#checking)\n",
    "5. [Вывод](#conclusion)"
   ]
  },
  {
   "cell_type": "markdown",
   "metadata": {},
   "source": [
    "<b> Определение перспективного тарифа для телеком-компании </b>\n",
    "\n",
    " Клиентам компании «Мегалайн» — федерального оператора сотовой связи, предлагают два тарифных плана: «Смарт» и «Ультра». Чтобы скорректировать рекламный бюджет, коммерческий департамент хочет понять, какой тариф приносит больше денег.\n",
    "Необходимо сделать предварительный анализ тарифов на небольшой выборке клиентов. Имеются данные 500 пользователей «Мегалайна»: кто они, откуда, каким тарифом пользуются, сколько звонков и сообщений каждый отправил за 2018 год. Нужно проанализировать поведение клиентов и сделать вывод — какой тариф лучше.\n",
    "\n",
    "<b>Описание тарифов</b>\n",
    "\n",
    "<b>Тариф «Смарт»</b> <br>\n",
    "Ежемесячная плата: 550 рублей<br>\n",
    "Включено 500 минут разговора, 50 сообщений и 15 Гб интернет-трафика<br>\n",
    "Стоимость услуг сверх тарифного пакета:<br>\n",
    "- минута разговора: 3 рубля<br>\n",
    "- сообщение: 3 рубля<br>\n",
    "- 1 Гб интернет-трафика: 200 рублей<br>\n",
    "\n",
    "<b>Тариф «Ультра»</b><br>\n",
    "Ежемесячная плата: 1950 рублей<br>\n",
    "Включено 3000 минут разговора, 1000 сообщений и 30 Гб интернет-трафика<br>\n",
    "Стоимость услуг сверх тарифного пакета:<br>\n",
    " - минута разговора: 1 рубль<br>\n",
    " - сообщение: 1 рубль<br>\n",
    " - 1 Гб интернет-трафика: 150 рублей<br>"
   ]
  },
  {
   "cell_type": "markdown",
   "metadata": {},
   "source": [
    "<a id=\"start\"></a>\n",
    "### Открытие данных"
   ]
  },
  {
   "cell_type": "code",
   "execution_count": 1,
   "metadata": {},
   "outputs": [],
   "source": [
    "# Импортируем необходимые библиотеки\n",
    "import pandas as pd\n",
    "import os\n",
    "import numpy as np\n",
    "import seaborn as sns\n",
    "import matplotlib.pyplot as plt\n",
    "from scipy import stats as st\n",
    "import warnings\n",
    "warnings.filterwarnings('ignore')"
   ]
  },
  {
   "cell_type": "code",
   "execution_count": 2,
   "metadata": {},
   "outputs": [],
   "source": [
    "# Чтенение файлов\n",
    "calls = pd.read_csv('/datasets/calls.csv')\n",
    "internet = pd.read_csv('/datasets/internet.csv')\n",
    "messages = pd.read_csv('/datasets/messages.csv')\n",
    "tariffs = pd.read_csv('/datasets/tariffs.csv')\n",
    "users = pd.read_csv('/datasets/users.csv')"
   ]
  },
  {
   "cell_type": "markdown",
   "metadata": {},
   "source": [
    "<a id=\"prepare\"></a>\n",
    "### Подготовка данных"
   ]
  },
  {
   "cell_type": "code",
   "execution_count": 3,
   "metadata": {},
   "outputs": [
    {
     "name": "stdout",
     "output_type": "stream",
     "text": [
      "       id   call_date  duration  user_id\n",
      "0  1000_0  2018-07-25      0.00     1000\n",
      "1  1000_1  2018-08-17      0.00     1000\n",
      "2  1000_2  2018-06-11      2.85     1000\n",
      "3  1000_3  2018-09-21     13.80     1000\n",
      "4  1000_4  2018-12-15      5.18     1000\n",
      "---------------------------------------------\n",
      "   Unnamed: 0      id  mb_used session_date  user_id\n",
      "0           0  1000_0   112.95   2018-11-25     1000\n",
      "1           1  1000_1  1052.81   2018-09-07     1000\n",
      "2           2  1000_2  1197.26   2018-06-25     1000\n",
      "3           3  1000_3   550.27   2018-08-22     1000\n",
      "4           4  1000_4   302.56   2018-09-24     1000\n",
      "---------------------------------------------\n",
      "       id message_date  user_id\n",
      "0  1000_0   2018-06-27     1000\n",
      "1  1000_1   2018-10-08     1000\n",
      "2  1000_2   2018-08-04     1000\n",
      "3  1000_3   2018-06-16     1000\n",
      "4  1000_4   2018-12-05     1000\n",
      "---------------------------------------------\n",
      "   messages_included  mb_per_month_included  minutes_included  \\\n",
      "0                 50                  15360               500   \n",
      "1               1000                  30720              3000   \n",
      "\n",
      "   rub_monthly_fee  rub_per_gb  rub_per_message  rub_per_minute tariff_name  \n",
      "0              550         200                3               3       smart  \n",
      "1             1950         150                1               1       ultra  \n",
      "---------------------------------------------\n",
      "   user_id  age churn_date         city first_name  last_name    reg_date  \\\n",
      "0     1000   52        NaN    Краснодар     Рафаил  Верещагин  2018-05-25   \n",
      "1     1001   41        NaN       Москва       Иван       Ежов  2018-11-01   \n",
      "2     1002   59        NaN  Стерлитамак    Евгений  Абрамович  2018-06-17   \n",
      "3     1003   23        NaN       Москва      Белла   Белякова  2018-08-17   \n",
      "4     1004   68        NaN  Новокузнецк    Татьяна   Авдеенко  2018-05-14   \n",
      "\n",
      "  tariff  \n",
      "0  ultra  \n",
      "1  smart  \n",
      "2  smart  \n",
      "3  ultra  \n",
      "4  ultra  \n",
      "---------------------------------------------\n"
     ]
    }
   ],
   "source": [
    "# Посмотрим на данные\n",
    "for data in [calls, internet, messages, tariffs, users]: \n",
    "    print(data.head())\n",
    "    print('---------------------------------------------')"
   ]
  },
  {
   "cell_type": "code",
   "execution_count": 4,
   "metadata": {},
   "outputs": [
    {
     "name": "stdout",
     "output_type": "stream",
     "text": [
      "<class 'pandas.core.frame.DataFrame'>\n",
      "RangeIndex: 202607 entries, 0 to 202606\n",
      "Data columns (total 4 columns):\n",
      " #   Column     Non-Null Count   Dtype  \n",
      "---  ------     --------------   -----  \n",
      " 0   id         202607 non-null  object \n",
      " 1   call_date  202607 non-null  object \n",
      " 2   duration   202607 non-null  float64\n",
      " 3   user_id    202607 non-null  int64  \n",
      "dtypes: float64(1), int64(1), object(2)\n",
      "memory usage: 6.2+ MB\n",
      "None\n",
      "---------------------------------------------\n",
      "<class 'pandas.core.frame.DataFrame'>\n",
      "RangeIndex: 149396 entries, 0 to 149395\n",
      "Data columns (total 5 columns):\n",
      " #   Column        Non-Null Count   Dtype  \n",
      "---  ------        --------------   -----  \n",
      " 0   Unnamed: 0    149396 non-null  int64  \n",
      " 1   id            149396 non-null  object \n",
      " 2   mb_used       149396 non-null  float64\n",
      " 3   session_date  149396 non-null  object \n",
      " 4   user_id       149396 non-null  int64  \n",
      "dtypes: float64(1), int64(2), object(2)\n",
      "memory usage: 5.7+ MB\n",
      "None\n",
      "---------------------------------------------\n",
      "<class 'pandas.core.frame.DataFrame'>\n",
      "RangeIndex: 123036 entries, 0 to 123035\n",
      "Data columns (total 3 columns):\n",
      " #   Column        Non-Null Count   Dtype \n",
      "---  ------        --------------   ----- \n",
      " 0   id            123036 non-null  object\n",
      " 1   message_date  123036 non-null  object\n",
      " 2   user_id       123036 non-null  int64 \n",
      "dtypes: int64(1), object(2)\n",
      "memory usage: 2.8+ MB\n",
      "None\n",
      "---------------------------------------------\n",
      "<class 'pandas.core.frame.DataFrame'>\n",
      "RangeIndex: 2 entries, 0 to 1\n",
      "Data columns (total 8 columns):\n",
      " #   Column                 Non-Null Count  Dtype \n",
      "---  ------                 --------------  ----- \n",
      " 0   messages_included      2 non-null      int64 \n",
      " 1   mb_per_month_included  2 non-null      int64 \n",
      " 2   minutes_included       2 non-null      int64 \n",
      " 3   rub_monthly_fee        2 non-null      int64 \n",
      " 4   rub_per_gb             2 non-null      int64 \n",
      " 5   rub_per_message        2 non-null      int64 \n",
      " 6   rub_per_minute         2 non-null      int64 \n",
      " 7   tariff_name            2 non-null      object\n",
      "dtypes: int64(7), object(1)\n",
      "memory usage: 256.0+ bytes\n",
      "None\n",
      "---------------------------------------------\n",
      "<class 'pandas.core.frame.DataFrame'>\n",
      "RangeIndex: 500 entries, 0 to 499\n",
      "Data columns (total 8 columns):\n",
      " #   Column      Non-Null Count  Dtype \n",
      "---  ------      --------------  ----- \n",
      " 0   user_id     500 non-null    int64 \n",
      " 1   age         500 non-null    int64 \n",
      " 2   churn_date  38 non-null     object\n",
      " 3   city        500 non-null    object\n",
      " 4   first_name  500 non-null    object\n",
      " 5   last_name   500 non-null    object\n",
      " 6   reg_date    500 non-null    object\n",
      " 7   tariff      500 non-null    object\n",
      "dtypes: int64(2), object(6)\n",
      "memory usage: 31.4+ KB\n",
      "None\n",
      "---------------------------------------------\n"
     ]
    }
   ],
   "source": [
    "# Посмотрим, что представляют из себя данные\n",
    "for data in [calls, internet, messages, tariffs, users]: \n",
    "    print(data.info())\n",
    "    print('---------------------------------------------')"
   ]
  },
  {
   "cell_type": "markdown",
   "metadata": {},
   "source": [
    "Видим, что есть пропуски в таблице users в столбце churn_date, что показывает, что тариф для пользователя еще действовал на момент выгрузки. Также видим, что не корректно указан тип данных времени. "
   ]
  },
  {
   "cell_type": "code",
   "execution_count": 5,
   "metadata": {},
   "outputs": [],
   "source": [
    "# Изменим тип данных.\n",
    "calls['call_date'] = pd.to_datetime(calls['call_date'])\n",
    "internet['session_date'] = pd.to_datetime(internet['session_date'])\n",
    "messages['message_date'] = pd.to_datetime(messages['message_date'])\n",
    "users['churn_date'] = pd.to_datetime(users['churn_date'])\n",
    "users['reg_date'] = pd.to_datetime(users['reg_date'])"
   ]
  },
  {
   "cell_type": "code",
   "execution_count": 6,
   "metadata": {},
   "outputs": [],
   "source": [
    "# Пропуски в столюце Сhurn_date заменим нулями.\n",
    "users['churn_date'] = users['churn_date'].fillna(0)"
   ]
  },
  {
   "cell_type": "code",
   "execution_count": 7,
   "metadata": {},
   "outputs": [
    {
     "data": {
      "text/html": [
       "<div>\n",
       "<style scoped>\n",
       "    .dataframe tbody tr th:only-of-type {\n",
       "        vertical-align: middle;\n",
       "    }\n",
       "\n",
       "    .dataframe tbody tr th {\n",
       "        vertical-align: top;\n",
       "    }\n",
       "\n",
       "    .dataframe thead th {\n",
       "        text-align: right;\n",
       "    }\n",
       "</style>\n",
       "<table border=\"1\" class=\"dataframe\">\n",
       "  <thead>\n",
       "    <tr style=\"text-align: right;\">\n",
       "      <th></th>\n",
       "      <th>id</th>\n",
       "      <th>call_date</th>\n",
       "      <th>duration</th>\n",
       "      <th>user_id</th>\n",
       "    </tr>\n",
       "  </thead>\n",
       "  <tbody>\n",
       "    <tr>\n",
       "      <th>0</th>\n",
       "      <td>1000_0</td>\n",
       "      <td>2018-07-25</td>\n",
       "      <td>0</td>\n",
       "      <td>1000</td>\n",
       "    </tr>\n",
       "    <tr>\n",
       "      <th>1</th>\n",
       "      <td>1000_1</td>\n",
       "      <td>2018-08-17</td>\n",
       "      <td>0</td>\n",
       "      <td>1000</td>\n",
       "    </tr>\n",
       "    <tr>\n",
       "      <th>2</th>\n",
       "      <td>1000_2</td>\n",
       "      <td>2018-06-11</td>\n",
       "      <td>3</td>\n",
       "      <td>1000</td>\n",
       "    </tr>\n",
       "    <tr>\n",
       "      <th>3</th>\n",
       "      <td>1000_3</td>\n",
       "      <td>2018-09-21</td>\n",
       "      <td>14</td>\n",
       "      <td>1000</td>\n",
       "    </tr>\n",
       "    <tr>\n",
       "      <th>4</th>\n",
       "      <td>1000_4</td>\n",
       "      <td>2018-12-15</td>\n",
       "      <td>6</td>\n",
       "      <td>1000</td>\n",
       "    </tr>\n",
       "    <tr>\n",
       "      <th>...</th>\n",
       "      <td>...</td>\n",
       "      <td>...</td>\n",
       "      <td>...</td>\n",
       "      <td>...</td>\n",
       "    </tr>\n",
       "    <tr>\n",
       "      <th>202602</th>\n",
       "      <td>1499_215</td>\n",
       "      <td>2018-12-26</td>\n",
       "      <td>1</td>\n",
       "      <td>1499</td>\n",
       "    </tr>\n",
       "    <tr>\n",
       "      <th>202603</th>\n",
       "      <td>1499_216</td>\n",
       "      <td>2018-10-18</td>\n",
       "      <td>19</td>\n",
       "      <td>1499</td>\n",
       "    </tr>\n",
       "    <tr>\n",
       "      <th>202604</th>\n",
       "      <td>1499_217</td>\n",
       "      <td>2018-11-10</td>\n",
       "      <td>11</td>\n",
       "      <td>1499</td>\n",
       "    </tr>\n",
       "    <tr>\n",
       "      <th>202605</th>\n",
       "      <td>1499_218</td>\n",
       "      <td>2018-10-06</td>\n",
       "      <td>5</td>\n",
       "      <td>1499</td>\n",
       "    </tr>\n",
       "    <tr>\n",
       "      <th>202606</th>\n",
       "      <td>1499_219</td>\n",
       "      <td>2018-12-14</td>\n",
       "      <td>20</td>\n",
       "      <td>1499</td>\n",
       "    </tr>\n",
       "  </tbody>\n",
       "</table>\n",
       "<p>202607 rows × 4 columns</p>\n",
       "</div>"
      ],
      "text/plain": [
       "              id  call_date  duration  user_id\n",
       "0         1000_0 2018-07-25         0     1000\n",
       "1         1000_1 2018-08-17         0     1000\n",
       "2         1000_2 2018-06-11         3     1000\n",
       "3         1000_3 2018-09-21        14     1000\n",
       "4         1000_4 2018-12-15         6     1000\n",
       "...          ...        ...       ...      ...\n",
       "202602  1499_215 2018-12-26         1     1499\n",
       "202603  1499_216 2018-10-18        19     1499\n",
       "202604  1499_217 2018-11-10        11     1499\n",
       "202605  1499_218 2018-10-06         5     1499\n",
       "202606  1499_219 2018-12-14        20     1499\n",
       "\n",
       "[202607 rows x 4 columns]"
      ]
     },
     "execution_count": 7,
     "metadata": {},
     "output_type": "execute_result"
    }
   ],
   "source": [
    "# Округлим длительность звонков, согласно условию.\n",
    "calls['duration'] = np.ceil(calls['duration']).astype(int)\n",
    "calls"
   ]
  },
  {
   "cell_type": "code",
   "execution_count": 8,
   "metadata": {},
   "outputs": [],
   "source": [
    "# Округлим объем потраченного трафика в большую сторону.\n",
    "#internet['mb_used'] = np.ceil(internet['mb_used']).astype(int) \n",
    "#internet"
   ]
  },
  {
   "cell_type": "markdown",
   "metadata": {},
   "source": [
    "Были изменены типы данных времени на datetime. В таблице users пропуски заменены нулями. В таблице calls и internet значения округлены до целого вверх значений."
   ]
  },
  {
   "cell_type": "markdown",
   "metadata": {},
   "source": [
    "#### Количество сделанных звонков и израсходованных минут разговора по месяцам;"
   ]
  },
  {
   "cell_type": "code",
   "execution_count": 9,
   "metadata": {},
   "outputs": [],
   "source": [
    "# Выделим месяц в отдельный столбец\n",
    "calls['month'] = calls['call_date'].dt.month"
   ]
  },
  {
   "cell_type": "code",
   "execution_count": 10,
   "metadata": {},
   "outputs": [
    {
     "data": {
      "text/html": [
       "<div>\n",
       "<style scoped>\n",
       "    .dataframe tbody tr th:only-of-type {\n",
       "        vertical-align: middle;\n",
       "    }\n",
       "\n",
       "    .dataframe tbody tr th {\n",
       "        vertical-align: top;\n",
       "    }\n",
       "\n",
       "    .dataframe thead th {\n",
       "        text-align: right;\n",
       "    }\n",
       "</style>\n",
       "<table border=\"1\" class=\"dataframe\">\n",
       "  <thead>\n",
       "    <tr style=\"text-align: right;\">\n",
       "      <th></th>\n",
       "      <th>month</th>\n",
       "      <th>user_id</th>\n",
       "      <th>count_calls</th>\n",
       "      <th>duration</th>\n",
       "    </tr>\n",
       "  </thead>\n",
       "  <tbody>\n",
       "    <tr>\n",
       "      <th>0</th>\n",
       "      <td>1</td>\n",
       "      <td>1005</td>\n",
       "      <td>15</td>\n",
       "      <td>95</td>\n",
       "    </tr>\n",
       "    <tr>\n",
       "      <th>1</th>\n",
       "      <td>1</td>\n",
       "      <td>1032</td>\n",
       "      <td>61</td>\n",
       "      <td>380</td>\n",
       "    </tr>\n",
       "    <tr>\n",
       "      <th>2</th>\n",
       "      <td>1</td>\n",
       "      <td>1045</td>\n",
       "      <td>1</td>\n",
       "      <td>9</td>\n",
       "    </tr>\n",
       "    <tr>\n",
       "      <th>3</th>\n",
       "      <td>1</td>\n",
       "      <td>1055</td>\n",
       "      <td>64</td>\n",
       "      <td>551</td>\n",
       "    </tr>\n",
       "    <tr>\n",
       "      <th>4</th>\n",
       "      <td>1</td>\n",
       "      <td>1071</td>\n",
       "      <td>24</td>\n",
       "      <td>194</td>\n",
       "    </tr>\n",
       "    <tr>\n",
       "      <th>...</th>\n",
       "      <td>...</td>\n",
       "      <td>...</td>\n",
       "      <td>...</td>\n",
       "      <td>...</td>\n",
       "    </tr>\n",
       "    <tr>\n",
       "      <th>3169</th>\n",
       "      <td>12</td>\n",
       "      <td>1494</td>\n",
       "      <td>62</td>\n",
       "      <td>418</td>\n",
       "    </tr>\n",
       "    <tr>\n",
       "      <th>3170</th>\n",
       "      <td>12</td>\n",
       "      <td>1495</td>\n",
       "      <td>155</td>\n",
       "      <td>1031</td>\n",
       "    </tr>\n",
       "    <tr>\n",
       "      <th>3171</th>\n",
       "      <td>12</td>\n",
       "      <td>1496</td>\n",
       "      <td>80</td>\n",
       "      <td>518</td>\n",
       "    </tr>\n",
       "    <tr>\n",
       "      <th>3172</th>\n",
       "      <td>12</td>\n",
       "      <td>1497</td>\n",
       "      <td>71</td>\n",
       "      <td>545</td>\n",
       "    </tr>\n",
       "    <tr>\n",
       "      <th>3173</th>\n",
       "      <td>12</td>\n",
       "      <td>1499</td>\n",
       "      <td>69</td>\n",
       "      <td>492</td>\n",
       "    </tr>\n",
       "  </tbody>\n",
       "</table>\n",
       "<p>3174 rows × 4 columns</p>\n",
       "</div>"
      ],
      "text/plain": [
       "      month  user_id  count_calls  duration\n",
       "0         1     1005           15        95\n",
       "1         1     1032           61       380\n",
       "2         1     1045            1         9\n",
       "3         1     1055           64       551\n",
       "4         1     1071           24       194\n",
       "...     ...      ...          ...       ...\n",
       "3169     12     1494           62       418\n",
       "3170     12     1495          155      1031\n",
       "3171     12     1496           80       518\n",
       "3172     12     1497           71       545\n",
       "3173     12     1499           69       492\n",
       "\n",
       "[3174 rows x 4 columns]"
      ]
     },
     "execution_count": 10,
     "metadata": {},
     "output_type": "execute_result"
    }
   ],
   "source": [
    "# Создадим сводную таблицу по звонкам.\n",
    "calls_table = calls.pivot_table(index= ['month', 'user_id'], values = ['duration'], aggfunc = ['count','sum'])\n",
    "calls_table.columns = ['count_calls', 'duration']\n",
    "calls_table = calls_table.reset_index()\n",
    "calls_table"
   ]
  },
  {
   "cell_type": "markdown",
   "metadata": {},
   "source": [
    "#### Количество отправленных сообщений по месяцам;"
   ]
  },
  {
   "cell_type": "code",
   "execution_count": 11,
   "metadata": {},
   "outputs": [],
   "source": [
    "# Выделим месяц в отдельный столбец\n",
    "messages['month'] = messages['message_date'].dt.month"
   ]
  },
  {
   "cell_type": "code",
   "execution_count": 12,
   "metadata": {},
   "outputs": [
    {
     "data": {
      "text/html": [
       "<div>\n",
       "<style scoped>\n",
       "    .dataframe tbody tr th:only-of-type {\n",
       "        vertical-align: middle;\n",
       "    }\n",
       "\n",
       "    .dataframe tbody tr th {\n",
       "        vertical-align: top;\n",
       "    }\n",
       "\n",
       "    .dataframe thead th {\n",
       "        text-align: right;\n",
       "    }\n",
       "</style>\n",
       "<table border=\"1\" class=\"dataframe\">\n",
       "  <thead>\n",
       "    <tr style=\"text-align: right;\">\n",
       "      <th></th>\n",
       "      <th>month</th>\n",
       "      <th>user_id</th>\n",
       "      <th>count_message</th>\n",
       "    </tr>\n",
       "  </thead>\n",
       "  <tbody>\n",
       "    <tr>\n",
       "      <th>0</th>\n",
       "      <td>1</td>\n",
       "      <td>1005</td>\n",
       "      <td>7</td>\n",
       "    </tr>\n",
       "    <tr>\n",
       "      <th>1</th>\n",
       "      <td>1</td>\n",
       "      <td>1032</td>\n",
       "      <td>38</td>\n",
       "    </tr>\n",
       "    <tr>\n",
       "      <th>2</th>\n",
       "      <td>1</td>\n",
       "      <td>1045</td>\n",
       "      <td>5</td>\n",
       "    </tr>\n",
       "    <tr>\n",
       "      <th>3</th>\n",
       "      <td>1</td>\n",
       "      <td>1055</td>\n",
       "      <td>30</td>\n",
       "    </tr>\n",
       "    <tr>\n",
       "      <th>4</th>\n",
       "      <td>1</td>\n",
       "      <td>1071</td>\n",
       "      <td>16</td>\n",
       "    </tr>\n",
       "    <tr>\n",
       "      <th>...</th>\n",
       "      <td>...</td>\n",
       "      <td>...</td>\n",
       "      <td>...</td>\n",
       "    </tr>\n",
       "    <tr>\n",
       "      <th>2712</th>\n",
       "      <td>12</td>\n",
       "      <td>1493</td>\n",
       "      <td>78</td>\n",
       "    </tr>\n",
       "    <tr>\n",
       "      <th>2713</th>\n",
       "      <td>12</td>\n",
       "      <td>1495</td>\n",
       "      <td>84</td>\n",
       "    </tr>\n",
       "    <tr>\n",
       "      <th>2714</th>\n",
       "      <td>12</td>\n",
       "      <td>1496</td>\n",
       "      <td>51</td>\n",
       "    </tr>\n",
       "    <tr>\n",
       "      <th>2715</th>\n",
       "      <td>12</td>\n",
       "      <td>1497</td>\n",
       "      <td>17</td>\n",
       "    </tr>\n",
       "    <tr>\n",
       "      <th>2716</th>\n",
       "      <td>12</td>\n",
       "      <td>1499</td>\n",
       "      <td>66</td>\n",
       "    </tr>\n",
       "  </tbody>\n",
       "</table>\n",
       "<p>2717 rows × 3 columns</p>\n",
       "</div>"
      ],
      "text/plain": [
       "      month  user_id  count_message\n",
       "0         1     1005              7\n",
       "1         1     1032             38\n",
       "2         1     1045              5\n",
       "3         1     1055             30\n",
       "4         1     1071             16\n",
       "...     ...      ...            ...\n",
       "2712     12     1493             78\n",
       "2713     12     1495             84\n",
       "2714     12     1496             51\n",
       "2715     12     1497             17\n",
       "2716     12     1499             66\n",
       "\n",
       "[2717 rows x 3 columns]"
      ]
     },
     "execution_count": 12,
     "metadata": {},
     "output_type": "execute_result"
    }
   ],
   "source": [
    "# Создадим сводную таблицу по сообщениям.\n",
    "messages_table = messages.pivot_table(index = ['month', 'user_id'], values = ['message_date'], aggfunc = 'count')\n",
    "messages_table.columns=['count_message']\n",
    "messages_table= messages_table.reset_index()\n",
    "messages_table"
   ]
  },
  {
   "cell_type": "markdown",
   "metadata": {},
   "source": [
    "#### Объем израсходованного интернет-трафика по месяцам;"
   ]
  },
  {
   "cell_type": "code",
   "execution_count": 13,
   "metadata": {},
   "outputs": [],
   "source": [
    "#internet['mb_used'] = np.ceil(internet['mb_used']).astype(int)\n",
    "#internet.head()"
   ]
  },
  {
   "cell_type": "code",
   "execution_count": 14,
   "metadata": {},
   "outputs": [],
   "source": [
    "# Выделим месяц в отдельный столбец\n",
    "internet['month'] = internet['session_date'].dt.month"
   ]
  },
  {
   "cell_type": "code",
   "execution_count": 15,
   "metadata": {},
   "outputs": [
    {
     "data": {
      "text/html": [
       "<div>\n",
       "<style scoped>\n",
       "    .dataframe tbody tr th:only-of-type {\n",
       "        vertical-align: middle;\n",
       "    }\n",
       "\n",
       "    .dataframe tbody tr th {\n",
       "        vertical-align: top;\n",
       "    }\n",
       "\n",
       "    .dataframe thead th {\n",
       "        text-align: right;\n",
       "    }\n",
       "</style>\n",
       "<table border=\"1\" class=\"dataframe\">\n",
       "  <thead>\n",
       "    <tr style=\"text-align: right;\">\n",
       "      <th></th>\n",
       "      <th>month</th>\n",
       "      <th>user_id</th>\n",
       "      <th>gb_used</th>\n",
       "    </tr>\n",
       "  </thead>\n",
       "  <tbody>\n",
       "    <tr>\n",
       "      <th>0</th>\n",
       "      <td>1</td>\n",
       "      <td>1005</td>\n",
       "      <td>3</td>\n",
       "    </tr>\n",
       "    <tr>\n",
       "      <th>1</th>\n",
       "      <td>1</td>\n",
       "      <td>1032</td>\n",
       "      <td>24</td>\n",
       "    </tr>\n",
       "    <tr>\n",
       "      <th>2</th>\n",
       "      <td>1</td>\n",
       "      <td>1045</td>\n",
       "      <td>3</td>\n",
       "    </tr>\n",
       "    <tr>\n",
       "      <th>3</th>\n",
       "      <td>1</td>\n",
       "      <td>1055</td>\n",
       "      <td>17</td>\n",
       "    </tr>\n",
       "    <tr>\n",
       "      <th>4</th>\n",
       "      <td>1</td>\n",
       "      <td>1071</td>\n",
       "      <td>16</td>\n",
       "    </tr>\n",
       "    <tr>\n",
       "      <th>...</th>\n",
       "      <td>...</td>\n",
       "      <td>...</td>\n",
       "      <td>...</td>\n",
       "    </tr>\n",
       "    <tr>\n",
       "      <th>3198</th>\n",
       "      <td>12</td>\n",
       "      <td>1494</td>\n",
       "      <td>18</td>\n",
       "    </tr>\n",
       "    <tr>\n",
       "      <th>3199</th>\n",
       "      <td>12</td>\n",
       "      <td>1495</td>\n",
       "      <td>23</td>\n",
       "    </tr>\n",
       "    <tr>\n",
       "      <th>3200</th>\n",
       "      <td>12</td>\n",
       "      <td>1496</td>\n",
       "      <td>21</td>\n",
       "    </tr>\n",
       "    <tr>\n",
       "      <th>3201</th>\n",
       "      <td>12</td>\n",
       "      <td>1497</td>\n",
       "      <td>20</td>\n",
       "    </tr>\n",
       "    <tr>\n",
       "      <th>3202</th>\n",
       "      <td>12</td>\n",
       "      <td>1499</td>\n",
       "      <td>13</td>\n",
       "    </tr>\n",
       "  </tbody>\n",
       "</table>\n",
       "<p>3203 rows × 3 columns</p>\n",
       "</div>"
      ],
      "text/plain": [
       "      month  user_id  gb_used\n",
       "0         1     1005        3\n",
       "1         1     1032       24\n",
       "2         1     1045        3\n",
       "3         1     1055       17\n",
       "4         1     1071       16\n",
       "...     ...      ...      ...\n",
       "3198     12     1494       18\n",
       "3199     12     1495       23\n",
       "3200     12     1496       21\n",
       "3201     12     1497       20\n",
       "3202     12     1499       13\n",
       "\n",
       "[3203 rows x 3 columns]"
      ]
     },
     "execution_count": 15,
     "metadata": {},
     "output_type": "execute_result"
    }
   ],
   "source": [
    "# Создадим сводную таблицу по интернет трафику.\n",
    "internet_table = internet.pivot_table(index =['month', 'user_id'], values = 'mb_used', aggfunc = 'sum').reset_index()\n",
    "internet_table['mb_used'] = np.ceil(internet_table['mb_used']/1024).astype(int)\n",
    "internet_table.columns=['month','user_id','gb_used']\n",
    "internet_table"
   ]
  },
  {
   "cell_type": "code",
   "execution_count": 16,
   "metadata": {},
   "outputs": [],
   "source": [
    "# Объединим полученные сводные таблицы и таблицу пользователей в одну, чтобы сравнить полученные значения.\n",
    "#table_all = users[['user_id', 'tariff']].merge(calls_table, on = 'user_id', how='left').\\\n",
    "#merge(messages_table[['user_id','count_message']], on = 'user_id', how='outer') \\\n",
    "#.merge(internet_table[['user_id','gb_used']], on = 'user_id',how='outer')\n",
    "#table_all"
   ]
  },
  {
   "cell_type": "code",
   "execution_count": 17,
   "metadata": {},
   "outputs": [
    {
     "data": {
      "text/html": [
       "<div>\n",
       "<style scoped>\n",
       "    .dataframe tbody tr th:only-of-type {\n",
       "        vertical-align: middle;\n",
       "    }\n",
       "\n",
       "    .dataframe tbody tr th {\n",
       "        vertical-align: top;\n",
       "    }\n",
       "\n",
       "    .dataframe thead th {\n",
       "        text-align: right;\n",
       "    }\n",
       "</style>\n",
       "<table border=\"1\" class=\"dataframe\">\n",
       "  <thead>\n",
       "    <tr style=\"text-align: right;\">\n",
       "      <th></th>\n",
       "      <th>month</th>\n",
       "      <th>user_id</th>\n",
       "      <th>count_calls</th>\n",
       "      <th>duration</th>\n",
       "      <th>count_message</th>\n",
       "      <th>gb_used</th>\n",
       "      <th>tariff</th>\n",
       "      <th>city</th>\n",
       "    </tr>\n",
       "  </thead>\n",
       "  <tbody>\n",
       "    <tr>\n",
       "      <th>0</th>\n",
       "      <td>1.0</td>\n",
       "      <td>1005</td>\n",
       "      <td>15.0</td>\n",
       "      <td>95.0</td>\n",
       "      <td>7.0</td>\n",
       "      <td>3.0</td>\n",
       "      <td>smart</td>\n",
       "      <td>Набережные Челны</td>\n",
       "    </tr>\n",
       "    <tr>\n",
       "      <th>1</th>\n",
       "      <td>2.0</td>\n",
       "      <td>1005</td>\n",
       "      <td>69.0</td>\n",
       "      <td>456.0</td>\n",
       "      <td>38.0</td>\n",
       "      <td>8.0</td>\n",
       "      <td>smart</td>\n",
       "      <td>Набережные Челны</td>\n",
       "    </tr>\n",
       "    <tr>\n",
       "      <th>2</th>\n",
       "      <td>3.0</td>\n",
       "      <td>1005</td>\n",
       "      <td>77.0</td>\n",
       "      <td>606.0</td>\n",
       "      <td>56.0</td>\n",
       "      <td>11.0</td>\n",
       "      <td>smart</td>\n",
       "      <td>Набережные Челны</td>\n",
       "    </tr>\n",
       "    <tr>\n",
       "      <th>3</th>\n",
       "      <td>4.0</td>\n",
       "      <td>1005</td>\n",
       "      <td>101.0</td>\n",
       "      <td>712.0</td>\n",
       "      <td>41.0</td>\n",
       "      <td>10.0</td>\n",
       "      <td>smart</td>\n",
       "      <td>Набережные Челны</td>\n",
       "    </tr>\n",
       "    <tr>\n",
       "      <th>4</th>\n",
       "      <td>5.0</td>\n",
       "      <td>1005</td>\n",
       "      <td>73.0</td>\n",
       "      <td>595.0</td>\n",
       "      <td>42.0</td>\n",
       "      <td>8.0</td>\n",
       "      <td>smart</td>\n",
       "      <td>Набережные Челны</td>\n",
       "    </tr>\n",
       "    <tr>\n",
       "      <th>...</th>\n",
       "      <td>...</td>\n",
       "      <td>...</td>\n",
       "      <td>...</td>\n",
       "      <td>...</td>\n",
       "      <td>...</td>\n",
       "      <td>...</td>\n",
       "      <td>...</td>\n",
       "      <td>...</td>\n",
       "    </tr>\n",
       "    <tr>\n",
       "      <th>3211</th>\n",
       "      <td>10.0</td>\n",
       "      <td>1328</td>\n",
       "      <td>NaN</td>\n",
       "      <td>NaN</td>\n",
       "      <td>6.0</td>\n",
       "      <td>22.0</td>\n",
       "      <td>ultra</td>\n",
       "      <td>Мурманск</td>\n",
       "    </tr>\n",
       "    <tr>\n",
       "      <th>3212</th>\n",
       "      <td>11.0</td>\n",
       "      <td>1328</td>\n",
       "      <td>NaN</td>\n",
       "      <td>NaN</td>\n",
       "      <td>8.0</td>\n",
       "      <td>35.0</td>\n",
       "      <td>ultra</td>\n",
       "      <td>Мурманск</td>\n",
       "    </tr>\n",
       "    <tr>\n",
       "      <th>3213</th>\n",
       "      <td>12.0</td>\n",
       "      <td>1328</td>\n",
       "      <td>NaN</td>\n",
       "      <td>NaN</td>\n",
       "      <td>7.0</td>\n",
       "      <td>39.0</td>\n",
       "      <td>ultra</td>\n",
       "      <td>Мурманск</td>\n",
       "    </tr>\n",
       "    <tr>\n",
       "      <th>3214</th>\n",
       "      <td>NaN</td>\n",
       "      <td>1128</td>\n",
       "      <td>NaN</td>\n",
       "      <td>NaN</td>\n",
       "      <td>NaN</td>\n",
       "      <td>NaN</td>\n",
       "      <td>ultra</td>\n",
       "      <td>Волжский</td>\n",
       "    </tr>\n",
       "    <tr>\n",
       "      <th>3215</th>\n",
       "      <td>NaN</td>\n",
       "      <td>1371</td>\n",
       "      <td>NaN</td>\n",
       "      <td>NaN</td>\n",
       "      <td>NaN</td>\n",
       "      <td>NaN</td>\n",
       "      <td>smart</td>\n",
       "      <td>Омск</td>\n",
       "    </tr>\n",
       "  </tbody>\n",
       "</table>\n",
       "<p>3216 rows × 8 columns</p>\n",
       "</div>"
      ],
      "text/plain": [
       "      month  user_id  count_calls  duration  count_message  gb_used tariff  \\\n",
       "0       1.0     1005         15.0      95.0            7.0      3.0  smart   \n",
       "1       2.0     1005         69.0     456.0           38.0      8.0  smart   \n",
       "2       3.0     1005         77.0     606.0           56.0     11.0  smart   \n",
       "3       4.0     1005        101.0     712.0           41.0     10.0  smart   \n",
       "4       5.0     1005         73.0     595.0           42.0      8.0  smart   \n",
       "...     ...      ...          ...       ...            ...      ...    ...   \n",
       "3211   10.0     1328          NaN       NaN            6.0     22.0  ultra   \n",
       "3212   11.0     1328          NaN       NaN            8.0     35.0  ultra   \n",
       "3213   12.0     1328          NaN       NaN            7.0     39.0  ultra   \n",
       "3214    NaN     1128          NaN       NaN            NaN      NaN  ultra   \n",
       "3215    NaN     1371          NaN       NaN            NaN      NaN  smart   \n",
       "\n",
       "                  city  \n",
       "0     Набережные Челны  \n",
       "1     Набережные Челны  \n",
       "2     Набережные Челны  \n",
       "3     Набережные Челны  \n",
       "4     Набережные Челны  \n",
       "...                ...  \n",
       "3211          Мурманск  \n",
       "3212          Мурманск  \n",
       "3213          Мурманск  \n",
       "3214          Волжский  \n",
       "3215              Омск  \n",
       "\n",
       "[3216 rows x 8 columns]"
      ]
     },
     "execution_count": 17,
     "metadata": {},
     "output_type": "execute_result"
    }
   ],
   "source": [
    "table_all = calls_table.merge(messages_table, on = ['user_id','month'], how='outer')\n",
    "table_all = table_all.merge(internet_table, on = ['user_id','month'],how='outer')\n",
    "table_all = table_all.merge(users[['user_id', 'tariff','city']], on = 'user_id', how='outer')\n",
    "table_all"
   ]
  },
  {
   "cell_type": "code",
   "execution_count": 18,
   "metadata": {},
   "outputs": [
    {
     "name": "stdout",
     "output_type": "stream",
     "text": [
      "<class 'pandas.core.frame.DataFrame'>\n",
      "Int64Index: 3216 entries, 0 to 3215\n",
      "Data columns (total 8 columns):\n",
      " #   Column         Non-Null Count  Dtype  \n",
      "---  ------         --------------  -----  \n",
      " 0   month          3214 non-null   float64\n",
      " 1   user_id        3216 non-null   int64  \n",
      " 2   count_calls    3174 non-null   float64\n",
      " 3   duration       3174 non-null   float64\n",
      " 4   count_message  2717 non-null   float64\n",
      " 5   gb_used        3203 non-null   float64\n",
      " 6   tariff         3216 non-null   object \n",
      " 7   city           3216 non-null   object \n",
      "dtypes: float64(5), int64(1), object(2)\n",
      "memory usage: 226.1+ KB\n"
     ]
    }
   ],
   "source": [
    "table_all.info()"
   ]
  },
  {
   "cell_type": "markdown",
   "metadata": {},
   "source": [
    "Применив метод Info() к таблице table_all видим пустые значения в столбцах month, count_calls, duration и count_message. Заменим их на нули.  "
   ]
  },
  {
   "cell_type": "code",
   "execution_count": 19,
   "metadata": {},
   "outputs": [
    {
     "data": {
      "text/plain": [
       "(500,)"
      ]
     },
     "execution_count": 19,
     "metadata": {},
     "output_type": "execute_result"
    }
   ],
   "source": [
    "# Комментарий ревьюера\n",
    "table_all.user_id.unique().shape "
   ]
  },
  {
   "cell_type": "code",
   "execution_count": 20,
   "metadata": {},
   "outputs": [
    {
     "name": "stdout",
     "output_type": "stream",
     "text": [
      "<class 'pandas.core.frame.DataFrame'>\n",
      "Int64Index: 3216 entries, 0 to 3215\n",
      "Data columns (total 8 columns):\n",
      " #   Column         Non-Null Count  Dtype  \n",
      "---  ------         --------------  -----  \n",
      " 0   month          3216 non-null   float64\n",
      " 1   user_id        3216 non-null   int64  \n",
      " 2   count_calls    3216 non-null   float64\n",
      " 3   duration       3216 non-null   float64\n",
      " 4   count_message  3216 non-null   float64\n",
      " 5   gb_used        3216 non-null   float64\n",
      " 6   tariff         3216 non-null   object \n",
      " 7   city           3216 non-null   object \n",
      "dtypes: float64(5), int64(1), object(2)\n",
      "memory usage: 226.1+ KB\n"
     ]
    }
   ],
   "source": [
    "# Заменим нулямипустые значения\n",
    "table_all = table_all.fillna(0)\n",
    "table_all.info()"
   ]
  },
  {
   "cell_type": "code",
   "execution_count": 21,
   "metadata": {},
   "outputs": [
    {
     "data": {
      "text/html": [
       "<div>\n",
       "<style scoped>\n",
       "    .dataframe tbody tr th:only-of-type {\n",
       "        vertical-align: middle;\n",
       "    }\n",
       "\n",
       "    .dataframe tbody tr th {\n",
       "        vertical-align: top;\n",
       "    }\n",
       "\n",
       "    .dataframe thead th {\n",
       "        text-align: right;\n",
       "    }\n",
       "</style>\n",
       "<table border=\"1\" class=\"dataframe\">\n",
       "  <thead>\n",
       "    <tr style=\"text-align: right;\">\n",
       "      <th></th>\n",
       "      <th>month</th>\n",
       "      <th>user_id</th>\n",
       "      <th>count_calls</th>\n",
       "      <th>duration</th>\n",
       "      <th>count_message</th>\n",
       "      <th>gb_used</th>\n",
       "      <th>tariff</th>\n",
       "      <th>city</th>\n",
       "    </tr>\n",
       "  </thead>\n",
       "  <tbody>\n",
       "    <tr>\n",
       "      <th>0</th>\n",
       "      <td>1.0</td>\n",
       "      <td>1005</td>\n",
       "      <td>15.0</td>\n",
       "      <td>95.0</td>\n",
       "      <td>7.0</td>\n",
       "      <td>3.0</td>\n",
       "      <td>smart</td>\n",
       "      <td>Набережные Челны</td>\n",
       "    </tr>\n",
       "    <tr>\n",
       "      <th>1</th>\n",
       "      <td>2.0</td>\n",
       "      <td>1005</td>\n",
       "      <td>69.0</td>\n",
       "      <td>456.0</td>\n",
       "      <td>38.0</td>\n",
       "      <td>8.0</td>\n",
       "      <td>smart</td>\n",
       "      <td>Набережные Челны</td>\n",
       "    </tr>\n",
       "    <tr>\n",
       "      <th>2</th>\n",
       "      <td>3.0</td>\n",
       "      <td>1005</td>\n",
       "      <td>77.0</td>\n",
       "      <td>606.0</td>\n",
       "      <td>56.0</td>\n",
       "      <td>11.0</td>\n",
       "      <td>smart</td>\n",
       "      <td>Набережные Челны</td>\n",
       "    </tr>\n",
       "    <tr>\n",
       "      <th>3</th>\n",
       "      <td>4.0</td>\n",
       "      <td>1005</td>\n",
       "      <td>101.0</td>\n",
       "      <td>712.0</td>\n",
       "      <td>41.0</td>\n",
       "      <td>10.0</td>\n",
       "      <td>smart</td>\n",
       "      <td>Набережные Челны</td>\n",
       "    </tr>\n",
       "    <tr>\n",
       "      <th>4</th>\n",
       "      <td>5.0</td>\n",
       "      <td>1005</td>\n",
       "      <td>73.0</td>\n",
       "      <td>595.0</td>\n",
       "      <td>42.0</td>\n",
       "      <td>8.0</td>\n",
       "      <td>smart</td>\n",
       "      <td>Набережные Челны</td>\n",
       "    </tr>\n",
       "    <tr>\n",
       "      <th>...</th>\n",
       "      <td>...</td>\n",
       "      <td>...</td>\n",
       "      <td>...</td>\n",
       "      <td>...</td>\n",
       "      <td>...</td>\n",
       "      <td>...</td>\n",
       "      <td>...</td>\n",
       "      <td>...</td>\n",
       "    </tr>\n",
       "    <tr>\n",
       "      <th>3209</th>\n",
       "      <td>11.0</td>\n",
       "      <td>1489</td>\n",
       "      <td>0.0</td>\n",
       "      <td>0.0</td>\n",
       "      <td>20.0</td>\n",
       "      <td>18.0</td>\n",
       "      <td>smart</td>\n",
       "      <td>Санкт-Петербург</td>\n",
       "    </tr>\n",
       "    <tr>\n",
       "      <th>3210</th>\n",
       "      <td>12.0</td>\n",
       "      <td>1489</td>\n",
       "      <td>0.0</td>\n",
       "      <td>0.0</td>\n",
       "      <td>35.0</td>\n",
       "      <td>17.0</td>\n",
       "      <td>smart</td>\n",
       "      <td>Санкт-Петербург</td>\n",
       "    </tr>\n",
       "    <tr>\n",
       "      <th>3211</th>\n",
       "      <td>10.0</td>\n",
       "      <td>1328</td>\n",
       "      <td>0.0</td>\n",
       "      <td>0.0</td>\n",
       "      <td>6.0</td>\n",
       "      <td>22.0</td>\n",
       "      <td>ultra</td>\n",
       "      <td>Мурманск</td>\n",
       "    </tr>\n",
       "    <tr>\n",
       "      <th>3212</th>\n",
       "      <td>11.0</td>\n",
       "      <td>1328</td>\n",
       "      <td>0.0</td>\n",
       "      <td>0.0</td>\n",
       "      <td>8.0</td>\n",
       "      <td>35.0</td>\n",
       "      <td>ultra</td>\n",
       "      <td>Мурманск</td>\n",
       "    </tr>\n",
       "    <tr>\n",
       "      <th>3213</th>\n",
       "      <td>12.0</td>\n",
       "      <td>1328</td>\n",
       "      <td>0.0</td>\n",
       "      <td>0.0</td>\n",
       "      <td>7.0</td>\n",
       "      <td>39.0</td>\n",
       "      <td>ultra</td>\n",
       "      <td>Мурманск</td>\n",
       "    </tr>\n",
       "  </tbody>\n",
       "</table>\n",
       "<p>3214 rows × 8 columns</p>\n",
       "</div>"
      ],
      "text/plain": [
       "      month  user_id  count_calls  duration  count_message  gb_used tariff  \\\n",
       "0       1.0     1005         15.0      95.0            7.0      3.0  smart   \n",
       "1       2.0     1005         69.0     456.0           38.0      8.0  smart   \n",
       "2       3.0     1005         77.0     606.0           56.0     11.0  smart   \n",
       "3       4.0     1005        101.0     712.0           41.0     10.0  smart   \n",
       "4       5.0     1005         73.0     595.0           42.0      8.0  smart   \n",
       "...     ...      ...          ...       ...            ...      ...    ...   \n",
       "3209   11.0     1489          0.0       0.0           20.0     18.0  smart   \n",
       "3210   12.0     1489          0.0       0.0           35.0     17.0  smart   \n",
       "3211   10.0     1328          0.0       0.0            6.0     22.0  ultra   \n",
       "3212   11.0     1328          0.0       0.0            8.0     35.0  ultra   \n",
       "3213   12.0     1328          0.0       0.0            7.0     39.0  ultra   \n",
       "\n",
       "                  city  \n",
       "0     Набережные Челны  \n",
       "1     Набережные Челны  \n",
       "2     Набережные Челны  \n",
       "3     Набережные Челны  \n",
       "4     Набережные Челны  \n",
       "...                ...  \n",
       "3209   Санкт-Петербург  \n",
       "3210   Санкт-Петербург  \n",
       "3211          Мурманск  \n",
       "3212          Мурманск  \n",
       "3213          Мурманск  \n",
       "\n",
       "[3214 rows x 8 columns]"
      ]
     },
     "execution_count": 21,
     "metadata": {},
     "output_type": "execute_result"
    }
   ],
   "source": [
    "# Оставим в таблице значение без нулевого месяца, чтобы не исказаить данные.\n",
    "table_all = table_all[table_all['month'] !=0]   \n",
    "table_all"
   ]
  },
  {
   "cell_type": "markdown",
   "metadata": {},
   "source": [
    "Уберем из таблицы данные со значением месяца 0, т.к. у этих записей количество минут, сообщений и мб также равно 0, они внесут нам искажения в распределения."
   ]
  },
  {
   "cell_type": "code",
   "execution_count": 22,
   "metadata": {},
   "outputs": [
    {
     "data": {
      "text/plain": [
       "(498,)"
      ]
     },
     "execution_count": 22,
     "metadata": {},
     "output_type": "execute_result"
    }
   ],
   "source": [
    "# Комментарий ревьюера\n",
    "table_all.user_id.unique().shape "
   ]
  },
  {
   "cell_type": "markdown",
   "metadata": {},
   "source": [
    "#### Помесячная выручка с каждого пользователя."
   ]
  },
  {
   "cell_type": "code",
   "execution_count": 23,
   "metadata": {},
   "outputs": [
    {
     "data": {
      "text/html": [
       "<div>\n",
       "<style scoped>\n",
       "    .dataframe tbody tr th:only-of-type {\n",
       "        vertical-align: middle;\n",
       "    }\n",
       "\n",
       "    .dataframe tbody tr th {\n",
       "        vertical-align: top;\n",
       "    }\n",
       "\n",
       "    .dataframe thead th {\n",
       "        text-align: right;\n",
       "    }\n",
       "</style>\n",
       "<table border=\"1\" class=\"dataframe\">\n",
       "  <thead>\n",
       "    <tr style=\"text-align: right;\">\n",
       "      <th></th>\n",
       "      <th>month</th>\n",
       "      <th>user_id</th>\n",
       "      <th>count_calls</th>\n",
       "      <th>duration</th>\n",
       "      <th>count_message</th>\n",
       "      <th>gb_used</th>\n",
       "      <th>tariff</th>\n",
       "      <th>city</th>\n",
       "      <th>revenue</th>\n",
       "    </tr>\n",
       "  </thead>\n",
       "  <tbody>\n",
       "    <tr>\n",
       "      <th>0</th>\n",
       "      <td>1.0</td>\n",
       "      <td>1005</td>\n",
       "      <td>15.0</td>\n",
       "      <td>95.0</td>\n",
       "      <td>7.0</td>\n",
       "      <td>3.0</td>\n",
       "      <td>smart</td>\n",
       "      <td>Набережные Челны</td>\n",
       "      <td>550.0</td>\n",
       "    </tr>\n",
       "    <tr>\n",
       "      <th>1</th>\n",
       "      <td>2.0</td>\n",
       "      <td>1005</td>\n",
       "      <td>69.0</td>\n",
       "      <td>456.0</td>\n",
       "      <td>38.0</td>\n",
       "      <td>8.0</td>\n",
       "      <td>smart</td>\n",
       "      <td>Набережные Челны</td>\n",
       "      <td>550.0</td>\n",
       "    </tr>\n",
       "    <tr>\n",
       "      <th>2</th>\n",
       "      <td>3.0</td>\n",
       "      <td>1005</td>\n",
       "      <td>77.0</td>\n",
       "      <td>606.0</td>\n",
       "      <td>56.0</td>\n",
       "      <td>11.0</td>\n",
       "      <td>smart</td>\n",
       "      <td>Набережные Челны</td>\n",
       "      <td>886.0</td>\n",
       "    </tr>\n",
       "    <tr>\n",
       "      <th>3</th>\n",
       "      <td>4.0</td>\n",
       "      <td>1005</td>\n",
       "      <td>101.0</td>\n",
       "      <td>712.0</td>\n",
       "      <td>41.0</td>\n",
       "      <td>10.0</td>\n",
       "      <td>smart</td>\n",
       "      <td>Набережные Челны</td>\n",
       "      <td>1186.0</td>\n",
       "    </tr>\n",
       "    <tr>\n",
       "      <th>4</th>\n",
       "      <td>5.0</td>\n",
       "      <td>1005</td>\n",
       "      <td>73.0</td>\n",
       "      <td>595.0</td>\n",
       "      <td>42.0</td>\n",
       "      <td>8.0</td>\n",
       "      <td>smart</td>\n",
       "      <td>Набережные Челны</td>\n",
       "      <td>835.0</td>\n",
       "    </tr>\n",
       "    <tr>\n",
       "      <th>5</th>\n",
       "      <td>6.0</td>\n",
       "      <td>1005</td>\n",
       "      <td>80.0</td>\n",
       "      <td>612.0</td>\n",
       "      <td>47.0</td>\n",
       "      <td>10.0</td>\n",
       "      <td>smart</td>\n",
       "      <td>Набережные Челны</td>\n",
       "      <td>886.0</td>\n",
       "    </tr>\n",
       "    <tr>\n",
       "      <th>6</th>\n",
       "      <td>7.0</td>\n",
       "      <td>1005</td>\n",
       "      <td>77.0</td>\n",
       "      <td>569.0</td>\n",
       "      <td>56.0</td>\n",
       "      <td>8.0</td>\n",
       "      <td>smart</td>\n",
       "      <td>Набережные Челны</td>\n",
       "      <td>775.0</td>\n",
       "    </tr>\n",
       "    <tr>\n",
       "      <th>7</th>\n",
       "      <td>8.0</td>\n",
       "      <td>1005</td>\n",
       "      <td>71.0</td>\n",
       "      <td>619.0</td>\n",
       "      <td>64.0</td>\n",
       "      <td>8.0</td>\n",
       "      <td>smart</td>\n",
       "      <td>Набережные Челны</td>\n",
       "      <td>949.0</td>\n",
       "    </tr>\n",
       "    <tr>\n",
       "      <th>8</th>\n",
       "      <td>9.0</td>\n",
       "      <td>1005</td>\n",
       "      <td>66.0</td>\n",
       "      <td>479.0</td>\n",
       "      <td>52.0</td>\n",
       "      <td>7.0</td>\n",
       "      <td>smart</td>\n",
       "      <td>Набережные Челны</td>\n",
       "      <td>556.0</td>\n",
       "    </tr>\n",
       "    <tr>\n",
       "      <th>9</th>\n",
       "      <td>10.0</td>\n",
       "      <td>1005</td>\n",
       "      <td>100.0</td>\n",
       "      <td>723.0</td>\n",
       "      <td>44.0</td>\n",
       "      <td>8.0</td>\n",
       "      <td>smart</td>\n",
       "      <td>Набережные Челны</td>\n",
       "      <td>1219.0</td>\n",
       "    </tr>\n",
       "  </tbody>\n",
       "</table>\n",
       "</div>"
      ],
      "text/plain": [
       "   month  user_id  count_calls  duration  count_message  gb_used tariff  \\\n",
       "0    1.0     1005         15.0      95.0            7.0      3.0  smart   \n",
       "1    2.0     1005         69.0     456.0           38.0      8.0  smart   \n",
       "2    3.0     1005         77.0     606.0           56.0     11.0  smart   \n",
       "3    4.0     1005        101.0     712.0           41.0     10.0  smart   \n",
       "4    5.0     1005         73.0     595.0           42.0      8.0  smart   \n",
       "5    6.0     1005         80.0     612.0           47.0     10.0  smart   \n",
       "6    7.0     1005         77.0     569.0           56.0      8.0  smart   \n",
       "7    8.0     1005         71.0     619.0           64.0      8.0  smart   \n",
       "8    9.0     1005         66.0     479.0           52.0      7.0  smart   \n",
       "9   10.0     1005        100.0     723.0           44.0      8.0  smart   \n",
       "\n",
       "               city  revenue  \n",
       "0  Набережные Челны    550.0  \n",
       "1  Набережные Челны    550.0  \n",
       "2  Набережные Челны    886.0  \n",
       "3  Набережные Челны   1186.0  \n",
       "4  Набережные Челны    835.0  \n",
       "5  Набережные Челны    886.0  \n",
       "6  Набережные Челны    775.0  \n",
       "7  Набережные Челны    949.0  \n",
       "8  Набережные Челны    556.0  \n",
       "9  Набережные Челны   1219.0  "
      ]
     },
     "execution_count": 23,
     "metadata": {},
     "output_type": "execute_result"
    }
   ],
   "source": [
    "# Создадим функцию для подсчета выручки с каждого пользователя \n",
    "def get_revenue(row):\n",
    "    calls = row['count_calls']\n",
    "    messages = row['count_message']\n",
    "    duration = row['duration']\n",
    "    gb_used = row['gb_used']\n",
    "    tariff = row['tariff']\n",
    "    \n",
    "    gig =1024\n",
    "    \n",
    "    if tariff == 'smart':\n",
    "        final_duration = duration - tariffs.loc[0, 'minutes_included']\n",
    "        final_messages = messages - tariffs.loc[0, 'messages_included']\n",
    "        final_gb = gb_used - tariffs.loc[0, 'mb_per_month_included']/1024\n",
    "       \n",
    "        \n",
    "        if final_duration < 0:\n",
    "            final_duration = 0\n",
    "        if final_messages < 0: \n",
    "            final_messages = 0   \n",
    "        if final_gb < 0:\n",
    "            final_gb = 0\n",
    "      \n",
    "        \n",
    "        return (tariffs.loc[0, 'rub_per_message'] * final_messages + tariffs.loc[0, 'rub_per_gb'] * final_gb + \n",
    "                   tariffs.loc[0, 'rub_per_minute'] * final_duration + tariffs.loc[0, 'rub_monthly_fee']) \n",
    "    \n",
    "    else:\n",
    "        final_duration = duration - tariffs.loc[1, 'minutes_included']\n",
    "        final_messages = messages - tariffs.loc[1, 'messages_included']\n",
    "        final_gb = gb_used - tariffs.loc[1, 'mb_per_month_included']/1024\n",
    "                \n",
    "        if final_duration < 0: \n",
    "            final_duration = 0\n",
    "        if final_messages < 0: \n",
    "            final_messages = 0    \n",
    "        if final_gb < 0: \n",
    "            final_gb = 0\n",
    "        \n",
    "        \n",
    "        return (tariffs.loc[1, 'rub_per_message'] * final_messages + (tariffs.loc[1, 'rub_per_gb']) * final_gb + \n",
    "                   tariffs.loc[1, 'rub_per_minute'] * final_duration + tariffs.loc[1, 'rub_monthly_fee'])\n",
    "\n",
    "table_all['revenue'] = table_all.apply(get_revenue, axis=1)\n",
    "table_all.head(10)"
   ]
  },
  {
   "cell_type": "code",
   "execution_count": 24,
   "metadata": {},
   "outputs": [
    {
     "data": {
      "text/plain": [
       "array([ 550.,  886., 1186.,  835.,  775.,  949.,  556., 1219.,  694.,\n",
       "        838., 2350., 2550., 1013.,  986., 1350., 1550., 1171., 2150.,\n",
       "       1150.,  574., 1356., 1965.,  995.,  971., 2189.,  756., 2213.,\n",
       "       1103.,  924.,  750., 2004.,  950., 1750., 2441., 1950.,  679.,\n",
       "       1040., 1805.,  974.,  934., 1126., 1012.,  964.,  733., 1069.,\n",
       "       1180., 2400., 1571.,  604., 1404.,  751., 1079.,  586.,  963.,\n",
       "       1038.,  792., 1342., 1612., 1655.,  765.,  577.,  912., 2250.,\n",
       "       2850., 1565.,  777., 2100., 2601., 1554., 1489., 1576., 1095.,\n",
       "       1137., 2903., 1715., 1138.,  703.,  676., 2950., 2022., 1804.,\n",
       "       1974., 1856., 2643., 2095., 1288., 2893., 2952., 2510., 2944.,\n",
       "       1494., 1647., 2907., 1500., 2164., 1312., 1051., 1336., 1487.,\n",
       "       2609., 1825., 1330., 1816.,  571., 2592.,  810.,  589.,  631.,\n",
       "        831., 1440., 1631., 1646.,  619.,  862., 1455.,  867.,  730.,\n",
       "        691., 2165., 3550., 1168., 1365., 2365.,  766.,  637.,  601.,\n",
       "        739., 3000., 2700., 3150.,  727.,  583.,  802., 2254., 1821.,\n",
       "       1673.,  882., 1445.,  559., 2017., 1761., 1131.,  568.,  622.,\n",
       "        736., 1039., 1488.,  844.,  927.,  673.,  697., 1551., 1192.,\n",
       "        658., 1139., 1450., 1240., 2704., 2705., 1055., 1566., 2252.,\n",
       "        910., 1767., 3432., 2721., 1813., 2596., 2231., 3036., 1807.,\n",
       "       2712., 3350., 2301., 3053., 2201.,  616.,  962., 1057., 1670.,\n",
       "        565.,  580.,  753.,  745.,  592.,  595.,  786., 2185., 2096.,\n",
       "        607., 1464., 1116.,  907.,  628., 1683., 3900.,  688.,  784.,\n",
       "        829.,  958., 1147.,  787., 1030.,  763.,  625., 1181.,  804.,\n",
       "        955., 3600., 4650., 1279., 1834., 2688., 2852., 2270., 2725.,\n",
       "       1679., 2897., 2452., 2094., 3750., 4200.,  715.,  706.,  724.,\n",
       "        742.,  718., 1482.,  700., 1140., 1082., 1162., 3450., 1777.,\n",
       "        973.,  922., 1045.,  778.,  919.,  901., 1490., 1820., 1148.,\n",
       "       1960., 1776., 1062., 1430., 2380., 1789., 2186., 1959., 1339.,\n",
       "       1523., 1785., 1159., 1441., 1113., 1454., 1637., 1732., 2298.,\n",
       "       1005., 1076., 2343., 2041., 3915.,  900.,  780., 1413., 1010.,\n",
       "       1795., 1540., 2553., 2750., 1906.,  781., 1009.,  959., 1154.,\n",
       "       1476., 1074., 1911., 2219., 1248., 1671., 1556., 3375., 2210.,\n",
       "       2605., 3195., 1954., 2234.,  819.,  840., 2106., 1858., 3211.,\n",
       "       1975., 1724., 2182., 2014., 1306.,  996., 1093., 1567., 1891.,\n",
       "       1348., 1193.,  928., 1205., 2288., 1133., 1962., 2069., 1423.,\n",
       "       1294., 1942.,  816., 1174.,  826., 1000., 1141., 1036., 1354.,\n",
       "       1078., 1479.,  670., 1943., 2049., 2414., 2608., 1007., 1909.,\n",
       "       1652., 1779., 2788., 1849., 1415., 1300., 1651., 1616., 1649.,\n",
       "       2031.,  858., 1252., 1237., 1682.,  610.,  598., 1395.,  685.,\n",
       "        981., 1015.,  990., 1019., 3040., 1838., 3004., 1004., 1235.,\n",
       "       1983., 1622., 2919., 1998.,  553.,  562., 1359., 2263., 2765.,\n",
       "       2813., 1948., 1608., 2028.,  976.,  712.,  634., 1688., 1106.,\n",
       "       1297., 1698.,  837.,  948., 1580.,  953., 2783.,  661., 1446.,\n",
       "        807., 1437., 1368.,  980., 2641., 1047., 1605., 1706.,  640.,\n",
       "       1198., 1993., 1202., 1461.,  834.,  646., 1743., 3300., 2127.,\n",
       "        965., 1420., 2965., 1189.,  888., 1681., 2068., 2446., 1183.,\n",
       "       2766., 1915., 1559., 1956., 1380., 1381., 1208., 1401., 1771.,\n",
       "       1023., 2191., 1798., 2861., 2274., 1504., 1696., 2571., 3251.,\n",
       "       1669.,  977., 1177., 1392.,  874.,  652., 1318.,  956.,  889.,\n",
       "        870.,  883., 1583., 1912., 1063., 1883., 1251., 2115.,  967.,\n",
       "       1270., 1241., 1898., 2307., 2768., 2480., 2118., 2410., 3306.,\n",
       "       2194., 2443., 1108., 2223., 2606., 2245., 1289., 2323., 2153.,\n",
       "       2559., 1473.,  871.,  859.,  682.,  655.,  664., 1410., 1002.,\n",
       "        643.,  772., 2097., 1436., 2076., 2273., 2855., 2697., 1831.,\n",
       "       2622., 2419., 4473., 3950., 2261., 2310., 2033., 2239., 3693.,\n",
       "       2065., 2063., 1662., 1739., 2046., 3037., 1716., 2291., 1675.,\n",
       "       2651., 3028., 2431., 1558., 2074., 1753., 1536., 1234., 1073.,\n",
       "       1624., 1228., 1784., 1709., 1439., 3773., 2468., 3448., 4231.,\n",
       "       2077., 2537., 1859., 2073.,  799.,  841., 2122., 1092., 1156.,\n",
       "       1577., 2395., 4011.,  873., 1705., 2362., 2589., 1034., 2368.,\n",
       "       2353., 2810., 2577., 1155., 2275., 1591., 2457., 3640., 2035.,\n",
       "       1870., 5014., 1864., 1470., 2268., 3315., 2773., 3083., 2247.,\n",
       "       1760., 2309., 1387., 2067., 2661., 2064., 1628., 1246., 2408.,\n",
       "       2332., 3393., 2831., 1640., 2616., 1112., 1661., 1951., 2130.,\n",
       "       2264., 1765., 2367., 1539., 1214., 2916.,  798., 1191.,  823.,\n",
       "       1006.,  916., 4427., 2953., 3136., 2631., 1987.,  942., 2062.,\n",
       "       1890., 2256., 1313., 1216., 1267., 1398., 1666., 1587., 1907.,\n",
       "        877., 1553., 1930., 1992., 3152., 4050., 2396., 2489., 1153.,\n",
       "       1389.,  769., 2780., 1227., 1684., 1573.,  918.,  613., 1263.,\n",
       "       1828., 2179., 3612., 1146., 1552.,  649., 1043.,  847., 1064.,\n",
       "       1014.,  993., 1923.,  925., 1416., 3248., 2647., 1570., 2378.,\n",
       "       2386., 1697.,  762., 1885., 2007., 1790.,  989., 1190., 2147.,\n",
       "       1046., 1713., 1151., 1467., 1411., 1158.,  868.,  783.,  998.,\n",
       "        828., 2467., 2665., 1774., 2675., 2180., 1285., 1969., 2667.,\n",
       "       2101., 1407., 3070., 3076., 1016., 3759., 2568., 1353., 3125.,\n",
       "       2822., 2295., 2915., 3073., 2587., 2433., 2146., 1176., 1597.,\n",
       "       2882., 3117., 4317., 4240.,  808., 1163., 1527., 2313., 1087.,\n",
       "       1723., 3410., 2837., 2646., 2361., 4800., 1277., 1135., 1768.,\n",
       "       2595., 2630., 3774., 2248., 1145., 1835., 2575., 1017., 1823.,\n",
       "       2628., 2218., 2945., 1733., 1083., 1806., 1824., 3148., 1513.,\n",
       "       1672., 3321., 3584., 3985., 1321.,  849., 1908., 3202.,  721.,\n",
       "       1120.,  994., 1122., 3194., 3266., 4116., 1529., 4664., 5672.,\n",
       "       2962., 3409., 3342.,  850., 1833., 4396., 1362., 1634.,  891.,\n",
       "       1236., 3449., 3484., 1574., 5680., 6770., 1685., 3233., 5709.,\n",
       "       3046., 3870.,  975., 5252., 3246.,  909., 2187., 4397., 2548.,\n",
       "       5321., 4550., 1563., 1982., 1109., 2190., 1763., 2403., 2121.,\n",
       "       2681., 1667., 2055., 1049.])"
      ]
     },
     "execution_count": 24,
     "metadata": {},
     "output_type": "execute_result"
    }
   ],
   "source": [
    "# Комментарий ревьюера\n",
    "table_all.revenue.unique()"
   ]
  },
  {
   "cell_type": "markdown",
   "metadata": {},
   "source": [
    "<a id=\"Analysis\"></a>\n",
    "### Анализ данных"
   ]
  },
  {
   "cell_type": "code",
   "execution_count": 27,
   "metadata": {},
   "outputs": [
    {
     "data": {
      "text/html": [
       "<div>\n",
       "<style scoped>\n",
       "    .dataframe tbody tr th:only-of-type {\n",
       "        vertical-align: middle;\n",
       "    }\n",
       "\n",
       "    .dataframe tbody tr th {\n",
       "        vertical-align: top;\n",
       "    }\n",
       "\n",
       "    .dataframe thead tr th {\n",
       "        text-align: left;\n",
       "    }\n",
       "\n",
       "    .dataframe thead tr:last-of-type th {\n",
       "        text-align: right;\n",
       "    }\n",
       "</style>\n",
       "<table border=\"1\" class=\"dataframe\">\n",
       "  <thead>\n",
       "    <tr>\n",
       "      <th></th>\n",
       "      <th colspan=\"3\" halign=\"left\">count_message</th>\n",
       "      <th colspan=\"3\" halign=\"left\">duration</th>\n",
       "      <th colspan=\"3\" halign=\"left\">gb_used</th>\n",
       "    </tr>\n",
       "    <tr>\n",
       "      <th></th>\n",
       "      <th>median</th>\n",
       "      <th>std</th>\n",
       "      <th>var</th>\n",
       "      <th>median</th>\n",
       "      <th>std</th>\n",
       "      <th>var</th>\n",
       "      <th>median</th>\n",
       "      <th>std</th>\n",
       "      <th>var</th>\n",
       "    </tr>\n",
       "    <tr>\n",
       "      <th>tariff</th>\n",
       "      <th></th>\n",
       "      <th></th>\n",
       "      <th></th>\n",
       "      <th></th>\n",
       "      <th></th>\n",
       "      <th></th>\n",
       "      <th></th>\n",
       "      <th></th>\n",
       "      <th></th>\n",
       "    </tr>\n",
       "  </thead>\n",
       "  <tbody>\n",
       "    <tr>\n",
       "      <th>smart</th>\n",
       "      <td>28.0</td>\n",
       "      <td>28.227876</td>\n",
       "      <td>796.812958</td>\n",
       "      <td>422.0</td>\n",
       "      <td>190.313730</td>\n",
       "      <td>36219.315784</td>\n",
       "      <td>17.0</td>\n",
       "      <td>5.747061</td>\n",
       "      <td>33.028705</td>\n",
       "    </tr>\n",
       "    <tr>\n",
       "      <th>ultra</th>\n",
       "      <td>38.0</td>\n",
       "      <td>47.804457</td>\n",
       "      <td>2285.266143</td>\n",
       "      <td>518.0</td>\n",
       "      <td>317.606098</td>\n",
       "      <td>100873.633397</td>\n",
       "      <td>19.0</td>\n",
       "      <td>9.853511</td>\n",
       "      <td>97.091686</td>\n",
       "    </tr>\n",
       "  </tbody>\n",
       "</table>\n",
       "</div>"
      ],
      "text/plain": [
       "       count_message                         duration              \\\n",
       "              median        std          var   median         std   \n",
       "tariff                                                              \n",
       "smart           28.0  28.227876   796.812958    422.0  190.313730   \n",
       "ultra           38.0  47.804457  2285.266143    518.0  317.606098   \n",
       "\n",
       "                      gb_used                       \n",
       "                  var  median       std        var  \n",
       "tariff                                              \n",
       "smart    36219.315784    17.0  5.747061  33.028705  \n",
       "ultra   100873.633397    19.0  9.853511  97.091686  "
      ]
     },
     "execution_count": 27,
     "metadata": {},
     "output_type": "execute_result"
    }
   ],
   "source": [
    "# Рассчитаем медиану, дисперсию и стандартное отклонение:\n",
    "stat_param = table_all.pivot_table(index=['tariff'], values=['duration', 'gb_used', 'count_message'], \n",
    "                    aggfunc={'duration': [np.median, np.var, np.std], \n",
    "                             'gb_used': [np.median, np.var, np.std], \n",
    "                             'count_message': [np.median, np.var, np.std]})\n",
    "stat_param"
   ]
  },
  {
   "cell_type": "markdown",
   "metadata": {},
   "source": [
    "По данным из таблицы видно, тариф \"Ультра\" имеет большую дисперсию для минут, сообщений и объема потраченного интернет-трафика, чем тариф \"Смарт\". "
   ]
  },
  {
   "cell_type": "code",
   "execution_count": 28,
   "metadata": {},
   "outputs": [
    {
     "data": {
      "image/png": "[encoded data removed]",
      "text/plain": [
       "<Figure size 432x288 with 1 Axes>"
      ]
     },
     "metadata": {
      "needs_background": "light"
     },
     "output_type": "display_data"
    }
   ],
   "source": [
    "# Построим гистрограмму распределения тарфика звонков по тарифам.\n",
    "for tariff in ['ultra', 'smart']:\n",
    "    ax = sns.distplot(table_all.query('tariff == @tariff')['duration'], kde=False, label=tariff)\n",
    "    ax.set_title('Распределение трафика звонков по тарифам', fontdict={'fontsize':12}, pad=15)\n",
    "    sns.despine()\n",
    "    _ = plt.legend(['ultra', 'smart'])"
   ]
  },
  {
   "cell_type": "code",
   "execution_count": 29,
   "metadata": {},
   "outputs": [
    {
     "data": {
      "image/png": "[encoded data removed]",
      "text/plain": [
       "<Figure size 432x288 with 1 Axes>"
      ]
     },
     "metadata": {
      "needs_background": "light"
     },
     "output_type": "display_data"
    }
   ],
   "source": [
    "# Построим гистрограмму распределения сообщений по тарифам.\n",
    "for tariff in ['ultra', 'smart']:\n",
    "    ax = sns.distplot(table_all.query('tariff == @tariff')['count_message'], kde=False, label=tariff)\n",
    "    ax.set_title('Распределение количества сообщений по тарифам', fontdict={'fontsize':12}, pad=15)\n",
    "    sns.despine()\n",
    "    _ = plt.legend(['ultra', 'smart'])"
   ]
  },
  {
   "cell_type": "code",
   "execution_count": 30,
   "metadata": {},
   "outputs": [
    {
     "data": {
      "image/png": "[encoded data removed]",
      "text/plain": [
       "<Figure size 432x288 with 1 Axes>"
      ]
     },
     "metadata": {
      "needs_background": "light"
     },
     "output_type": "display_data"
    }
   ],
   "source": [
    "# Построим гистрограмму распределения минут по тарифам.\n",
    "for tariff in ['ultra', 'smart']:\n",
    "    ax = sns.distplot(table_all.query('tariff == @tariff')['gb_used'], kde=False)\n",
    "    ax.set_title('Распределение трафика звонков по тарифам', fontdict={'fontsize':12}, pad=15)\n",
    "    sns.despine()\n",
    "    _ = plt.legend(['ultra', 'smart'])"
   ]
  },
  {
   "cell_type": "code",
   "execution_count": 31,
   "metadata": {},
   "outputs": [
    {
     "data": {
      "image/png": "[encoded data removed]",
      "text/plain": [
       "<Figure size 432x288 with 1 Axes>"
      ]
     },
     "metadata": {
      "needs_background": "light"
     },
     "output_type": "display_data"
    }
   ],
   "source": [
    "# Построим гистрограмму распределения затрат пользователей по тарифам.\n",
    "for tariff in ['ultra', 'smart']:\n",
    "    ax = sns.distplot(table_all.query('tariff == @tariff')['revenue'], kde=False)\n",
    "    ax.set_title('Распределение прибыли по тарифам', fontdict={'fontsize':12}, pad=15)\n",
    "    sns.despine()\n",
    "    _ = plt.legend(['ultra', 'smart'])"
   ]
  },
  {
   "cell_type": "code",
   "execution_count": 32,
   "metadata": {},
   "outputs": [
    {
     "data": {
      "text/plain": [
       "<seaborn.axisgrid.FacetGrid at 0x7fccdcfc1dc0>"
      ]
     },
     "execution_count": 32,
     "metadata": {},
     "output_type": "execute_result"
    },
    {
     "data": {
      "image/png": "[encoded data removed]",
      "text/plain": [
       "<Figure size 360x360 with 1 Axes>"
      ]
     },
     "metadata": {
      "needs_background": "light"
     },
     "output_type": "display_data"
    }
   ],
   "source": [
    " sns.catplot(x=\"tariff\", y=\"revenue\", kind=\"box\", data=table_all, orient='v')"
   ]
  },
  {
   "cell_type": "markdown",
   "metadata": {},
   "source": [
    "По гистограмме и диаграмме размаха видно, что в среднем больше прибыли приносит тариф \"Ультра\"."
   ]
  },
  {
   "cell_type": "markdown",
   "metadata": {},
   "source": [
    "По гистрограмме по доходам видно, что пользователи тарифа \"Ультра\" в основном не выходят за пределы своего тарифа. Тогда как пользователи тарифа \"Смарт\" докупают услуги в течение месяца.\n",
    "\n",
    "По гистограммам видно, что дисперсия тарифа \"Смарта\" меньше, чем у пользователей с тарифом \"Ультра\" по всем показателям: по длительности разговора, числу сообщений и использованному интернет-трафику. "
   ]
  },
  {
   "cell_type": "markdown",
   "metadata": {},
   "source": [
    "<a id=\"checking\"></a>\n",
    "### Проверка гипотез "
   ]
  },
  {
   "cell_type": "markdown",
   "metadata": {},
   "source": [
    "#### Средняя выручка пользователей тарифов «Ультра» и «Смарт» различается."
   ]
  },
  {
   "cell_type": "markdown",
   "metadata": {},
   "source": [
    "Сформируем H0 - средняя выручка пользователей тарифов «Ультра» и «Смарт» равна.\n",
    "H1 - средняя выручка пользователей тарифов «Ультра» и «Смарт» различаются.\n",
    "Для проверки гипотезы используем scipy.stats.ttest_ind, так как имеем две независимые генеральные совокупности."
   ]
  },
  {
   "cell_type": "code",
   "execution_count": 33,
   "metadata": {},
   "outputs": [
    {
     "name": "stdout",
     "output_type": "stream",
     "text": [
      "p-значение: 4.2606313931076085e-250\n",
      "Отвергаем нулевую гипотезу\n"
     ]
    }
   ],
   "source": [
    "# Проверим гипотезу\n",
    "\n",
    "ultra = table_all.query('tariff == \"ultra\"')['revenue']\n",
    "smart = table_all.query('tariff == \"smart\"')['revenue']\n",
    "\n",
    "alpha = .05\n",
    "\n",
    "results = st.ttest_ind(ultra, smart, equal_var=False)\n",
    "\n",
    "print('p-значение:', results.pvalue)\n",
    "\n",
    "if (results.pvalue < alpha):\n",
    "    print(\"Отвергаем нулевую гипотезу\")\n",
    "else:\n",
    "    print(\"Не получилось отвергнуть нулевую гипотезу\")"
   ]
  },
  {
   "cell_type": "code",
   "execution_count": 34,
   "metadata": {},
   "outputs": [
    {
     "name": "stdout",
     "output_type": "stream",
     "text": [
      "Средняя выручка тарифа \"Ультра\" равна 2070\n",
      "Средняя выручка тарифа \"Смарт\" равна 1290\n"
     ]
    }
   ],
   "source": [
    "ultra_median = round(table_all.query('tariff == \"ultra\"')['revenue'].mean())\n",
    "smart_median = round(table_all.query('tariff == \"smart\"')['revenue'].mean())\n",
    "print('Средняя выручка тарифа \"Ультра\" равна', ultra_median)\n",
    "print('Средняя выручка тарифа \"Смарт\" равна', smart_median)"
   ]
  },
  {
   "cell_type": "markdown",
   "metadata": {},
   "source": [
    "Рассчитав средние выручки по тарифам видно, что выручки не равны, значит вывод, полученный при проверке гипотезы, коректен."
   ]
  },
  {
   "cell_type": "markdown",
   "metadata": {},
   "source": [
    "Как проверка гипотезы, так и расчет средних значений говорят о том, что средняя выручка по тарифам не равна. Значит мы и правда можем отвергнуть нулевую гипотезу."
   ]
  },
  {
   "cell_type": "markdown",
   "metadata": {},
   "source": [
    "#### Cредняя выручка пользователей из Москвы отличается от выручки пользователей из других регионов."
   ]
  },
  {
   "cell_type": "markdown",
   "metadata": {},
   "source": [
    "Сформируем H0 - средняя выручка пользователей из Москвы и пользователей из других регионов равна.\n",
    "H1 - средняя выручка пользователей из Москвы и пользователей из других регионов различны.\n",
    "Для проверки гипотезы используем scipy.stats.ttest_ind, т.к. имеем две независимые генеральные совокупности."
   ]
  },
  {
   "cell_type": "code",
   "execution_count": 35,
   "metadata": {},
   "outputs": [
    {
     "name": "stdout",
     "output_type": "stream",
     "text": [
      "p-значение: 0.5257376663729298\n",
      "Не получилось отвергнуть нулевую гипотезу\n"
     ]
    }
   ],
   "source": [
    "moscow = table_all.query('city == \"Москва\"')['revenue']\n",
    "regions = table_all.query('city != \"Москва\"')['revenue']\n",
    "\n",
    "alpha = .05\n",
    "\n",
    "results = st.ttest_ind(moscow, regions, equal_var=False)\n",
    "print('p-значение:', results.pvalue)\n",
    "\n",
    "if (results.pvalue < alpha):\n",
    "    print(\"Отвергаем нулевую гипотезу\")\n",
    "else:\n",
    "    print(\"Не получилось отвергнуть нулевую гипотезу\")"
   ]
  },
  {
   "cell_type": "code",
   "execution_count": 36,
   "metadata": {},
   "outputs": [
    {
     "name": "stdout",
     "output_type": "stream",
     "text": [
      "Средняя выручка пользователей по Москве равна 1547\n",
      "Средняя выручка пользователей из других регионов равна 1525\n"
     ]
    }
   ],
   "source": [
    "moscow = round(table_all.query('city == \"Москва\"')['revenue'].mean())\n",
    "regions = round(table_all.query('city != \"Москва\"')['revenue'].mean())\n",
    "print('Средняя выручка пользователей по Москве равна', moscow)\n",
    "print('Средняя выручка пользователей из других регионов равна', regions)"
   ]
  },
  {
   "cell_type": "markdown",
   "metadata": {},
   "source": [
    "Проверка гипотезы показала, что отвергнуть нулевую гипотезу мы не можем. Так же при расчете средних мы приходим к выводу, что прибыль оператору сотовой связи пользователи Москвы и регионов приносят в среднем близкую друг к другу."
   ]
  },
  {
   "cell_type": "markdown",
   "metadata": {},
   "source": [
    "<a id=\"conclusion\"></a>\n",
    "### Вывод "
   ]
  },
  {
   "cell_type": "markdown",
   "metadata": {},
   "source": [
    "Из анализа доходов по тарифам видно, что доход от тарифа «Ультра» больше, чем доход от тарифа «Смарт». От одного пользователя в месяц получает 2070 рублей (тариф \"Ультра\") и 1290 рублей (тариф \"Смарт\"). Получается, что пользователи тарифа \"Ультра\" меньше докупают услуги вне тарифа, чем пользователи тарифа \"Смарт\".  \n",
    "\n",
    "Так же с помощью проверки гипотезы о равенстве прибыли от пользователей Москвы и других городов, а также проверки средней прибыли по регионам и Москве, пришли к выводу, что отвергать гипотезу не получается, потому что средняя прибыль не сильно различаемся между собой, в Москве 1547, в других городах 1525"
   ]
  },
  {
   "cell_type": "code",
   "execution_count": 37,
   "metadata": {},
   "outputs": [
    {
     "data": {
      "text/plain": [
       "Text(0, 0.5, 'Рубли')"
      ]
     },
     "execution_count": 37,
     "metadata": {},
     "output_type": "execute_result"
    },
    {
     "data": {
      "image/png": "[encoded data removed]",
      "text/plain": [
       "<Figure size 432x288 with 1 Axes>"
      ]
     },
     "metadata": {
      "needs_background": "light"
     },
     "output_type": "display_data"
    }
   ],
   "source": [
    "# Комментарий ревьюера 3\n",
    "table_all.pivot_table(index='tariff', columns='month', values='revenue', aggfunc='mean').T.plot(kind='bar', alpha=0.5)\n",
    "plt.title('Средняя ежемесячная выручка по 2-м тарифам за год'+ \"\\n\")\n",
    "plt.xlabel('Месяц')\n",
    "plt.ylabel('Рубли')"
   ]
  }
 ],
 "metadata": {
  "ExecuteTimeLog": [
   {
    "duration": 353,
    "start_time": "2022-10-26T17:44:30.932Z"
   },
   {
    "duration": 105,
    "start_time": "2022-10-26T17:45:56.724Z"
   },
   {
    "duration": 12,
    "start_time": "2022-10-26T17:46:33.227Z"
   },
   {
    "duration": 11,
    "start_time": "2022-10-26T17:47:23.594Z"
   },
   {
    "duration": 11,
    "start_time": "2022-10-26T17:47:58.919Z"
   },
   {
    "duration": 3,
    "start_time": "2022-10-26T17:48:41.091Z"
   },
   {
    "duration": 45,
    "start_time": "2022-10-26T17:48:41.743Z"
   },
   {
    "duration": 44,
    "start_time": "2022-10-26T17:49:08.459Z"
   },
   {
    "duration": 14,
    "start_time": "2022-10-26T17:49:17.961Z"
   },
   {
    "duration": 72,
    "start_time": "2022-10-26T17:50:11.741Z"
   },
   {
    "duration": 77,
    "start_time": "2022-10-26T17:50:19.206Z"
   },
   {
    "duration": 72,
    "start_time": "2022-10-26T17:50:26.202Z"
   },
   {
    "duration": 642,
    "start_time": "2022-10-26T17:50:45.210Z"
   },
   {
    "duration": 654,
    "start_time": "2022-10-26T17:50:49.781Z"
   },
   {
    "duration": 638,
    "start_time": "2022-10-26T17:51:08.448Z"
   },
   {
    "duration": 43,
    "start_time": "2022-10-26T17:53:31.916Z"
   },
   {
    "duration": 42,
    "start_time": "2022-10-26T17:53:41.736Z"
   },
   {
    "duration": 62,
    "start_time": "2022-10-26T17:53:48.559Z"
   },
   {
    "duration": 48,
    "start_time": "2022-10-26T17:53:55.647Z"
   },
   {
    "duration": 2,
    "start_time": "2022-10-26T17:53:57.931Z"
   },
   {
    "duration": 653,
    "start_time": "2022-10-26T17:53:58.450Z"
   },
   {
    "duration": 48,
    "start_time": "2022-10-26T17:53:59.105Z"
   },
   {
    "duration": 70,
    "start_time": "2022-10-26T17:54:30.405Z"
   },
   {
    "duration": 66,
    "start_time": "2022-10-26T17:55:02.380Z"
   },
   {
    "duration": 48,
    "start_time": "2022-10-26T17:55:12.320Z"
   },
   {
    "duration": 68,
    "start_time": "2022-10-26T17:55:24.198Z"
   },
   {
    "duration": 13,
    "start_time": "2022-10-26T17:55:28.789Z"
   },
   {
    "duration": 27,
    "start_time": "2022-10-26T18:02:34.193Z"
   },
   {
    "duration": 3,
    "start_time": "2022-10-26T18:03:38.532Z"
   },
   {
    "duration": 53024,
    "start_time": "2022-10-26T18:03:54.259Z"
   },
   {
    "duration": 2,
    "start_time": "2022-10-26T18:05:20.299Z"
   },
   {
    "duration": 127,
    "start_time": "2022-10-26T18:05:20.817Z"
   },
   {
    "duration": 10200,
    "start_time": "2022-10-26T18:05:30.520Z"
   },
   {
    "duration": 390,
    "start_time": "2022-10-26T18:05:40.722Z"
   },
   {
    "duration": 176,
    "start_time": "2022-10-26T18:05:41.114Z"
   },
   {
    "duration": 246,
    "start_time": "2022-10-26T18:05:57.181Z"
   },
   {
    "duration": 64,
    "start_time": "2022-10-26T18:05:58.085Z"
   },
   {
    "duration": 49,
    "start_time": "2022-10-26T18:06:12.916Z"
   },
   {
    "duration": 53,
    "start_time": "2022-10-26T18:06:41.129Z"
   },
   {
    "duration": 69,
    "start_time": "2022-10-26T18:07:13.252Z"
   },
   {
    "duration": 48,
    "start_time": "2022-10-26T18:07:50.405Z"
   },
   {
    "duration": 8,
    "start_time": "2022-10-26T18:13:23.529Z"
   },
   {
    "duration": 3,
    "start_time": "2022-10-26T18:13:56.623Z"
   },
   {
    "duration": 10,
    "start_time": "2022-10-26T18:13:57.395Z"
   },
   {
    "duration": 36,
    "start_time": "2022-10-26T18:14:32.543Z"
   },
   {
    "duration": 2,
    "start_time": "2022-10-26T18:15:20.656Z"
   },
   {
    "duration": 38,
    "start_time": "2022-10-26T18:15:21.213Z"
   },
   {
    "duration": 2,
    "start_time": "2022-10-26T18:15:25.584Z"
   },
   {
    "duration": 42,
    "start_time": "2022-10-26T18:15:26.129Z"
   },
   {
    "duration": 411,
    "start_time": "2022-10-26T18:15:40.078Z"
   },
   {
    "duration": 35,
    "start_time": "2022-10-26T18:15:40.492Z"
   },
   {
    "duration": 33,
    "start_time": "2022-10-26T18:17:29.636Z"
   },
   {
    "duration": 38,
    "start_time": "2022-10-26T18:18:37.568Z"
   },
   {
    "duration": 916,
    "start_time": "2022-10-26T18:20:25.074Z"
   },
   {
    "duration": 16,
    "start_time": "2022-10-26T18:20:32.493Z"
   },
   {
    "duration": 825,
    "start_time": "2022-10-26T18:22:05.084Z"
   },
   {
    "duration": 73,
    "start_time": "2022-10-26T18:22:59.736Z"
   },
   {
    "duration": 71,
    "start_time": "2022-10-26T18:23:17.030Z"
   },
   {
    "duration": 68,
    "start_time": "2022-10-26T18:23:24.046Z"
   },
   {
    "duration": 72,
    "start_time": "2022-10-26T18:23:53.129Z"
   },
   {
    "duration": 68,
    "start_time": "2022-10-26T18:24:08.024Z"
   },
   {
    "duration": 59,
    "start_time": "2022-10-26T18:24:51.146Z"
   },
   {
    "duration": 57,
    "start_time": "2022-10-26T18:24:58.782Z"
   },
   {
    "duration": 58,
    "start_time": "2022-10-26T18:25:16.659Z"
   },
   {
    "duration": 76,
    "start_time": "2022-10-26T18:25:48.103Z"
   },
   {
    "duration": 58,
    "start_time": "2022-10-26T18:25:56.898Z"
   },
   {
    "duration": 71,
    "start_time": "2022-10-26T18:26:23.546Z"
   },
   {
    "duration": 76,
    "start_time": "2022-10-26T18:26:30.638Z"
   },
   {
    "duration": 64,
    "start_time": "2022-10-26T18:26:40.517Z"
   },
   {
    "duration": 57,
    "start_time": "2022-10-26T18:26:46.267Z"
   },
   {
    "duration": 58,
    "start_time": "2022-10-26T18:26:57.695Z"
   },
   {
    "duration": 2,
    "start_time": "2022-10-26T18:27:42.413Z"
   },
   {
    "duration": 66,
    "start_time": "2022-10-26T18:27:47.787Z"
   },
   {
    "duration": 58,
    "start_time": "2022-10-26T18:28:03.101Z"
   },
   {
    "duration": 14,
    "start_time": "2022-10-26T18:28:39.132Z"
   },
   {
    "duration": 36,
    "start_time": "2022-10-26T18:33:40.428Z"
   },
   {
    "duration": 15,
    "start_time": "2022-10-26T18:33:51.039Z"
   },
   {
    "duration": 16,
    "start_time": "2022-10-26T18:34:25.844Z"
   },
   {
    "duration": 45,
    "start_time": "2022-10-26T18:34:33.456Z"
   },
   {
    "duration": 16,
    "start_time": "2022-10-26T18:34:33.864Z"
   },
   {
    "duration": 13,
    "start_time": "2022-10-26T18:34:44.431Z"
   },
   {
    "duration": 17,
    "start_time": "2022-10-26T18:34:46.030Z"
   },
   {
    "duration": 49,
    "start_time": "2022-10-26T18:37:22.319Z"
   },
   {
    "duration": 338,
    "start_time": "2022-10-30T07:47:41.875Z"
   },
   {
    "duration": 24,
    "start_time": "2022-10-30T07:47:42.216Z"
   },
   {
    "duration": 970,
    "start_time": "2022-10-30T07:47:42.241Z"
   },
   {
    "duration": 16,
    "start_time": "2022-10-30T07:47:43.213Z"
   },
   {
    "duration": 64,
    "start_time": "2022-10-30T07:47:43.230Z"
   },
   {
    "duration": 88,
    "start_time": "2022-10-30T07:47:43.296Z"
   },
   {
    "duration": 16,
    "start_time": "2022-10-30T07:47:43.385Z"
   },
   {
    "duration": 11,
    "start_time": "2022-10-30T08:12:31.672Z"
   },
   {
    "duration": 18,
    "start_time": "2022-10-30T08:12:45.656Z"
   },
   {
    "duration": 559,
    "start_time": "2022-10-30T08:12:54.303Z"
   },
   {
    "duration": 30,
    "start_time": "2022-10-30T08:13:00.905Z"
   },
   {
    "duration": 5,
    "start_time": "2022-10-30T08:13:09.663Z"
   },
   {
    "duration": 61,
    "start_time": "2022-10-30T08:13:14.476Z"
   },
   {
    "duration": 11,
    "start_time": "2022-10-30T08:13:20.642Z"
   },
   {
    "duration": 44,
    "start_time": "2022-10-30T08:15:26.531Z"
   },
   {
    "duration": 7,
    "start_time": "2022-10-30T08:15:29.440Z"
   },
   {
    "duration": 7,
    "start_time": "2022-10-30T08:15:51.662Z"
   },
   {
    "duration": 6,
    "start_time": "2022-10-30T08:16:17.939Z"
   },
   {
    "duration": 10,
    "start_time": "2022-10-30T08:16:25.046Z"
   },
   {
    "duration": 4,
    "start_time": "2022-10-30T08:17:36.355Z"
   },
   {
    "duration": 12,
    "start_time": "2022-10-30T08:17:41.731Z"
   },
   {
    "duration": 4,
    "start_time": "2022-10-30T08:18:10.860Z"
   },
   {
    "duration": 12,
    "start_time": "2022-10-30T08:18:16.028Z"
   },
   {
    "duration": 18,
    "start_time": "2022-10-30T08:20:02.675Z"
   },
   {
    "duration": 32,
    "start_time": "2022-10-30T08:20:10.764Z"
   },
   {
    "duration": 16,
    "start_time": "2022-10-30T08:20:54.361Z"
   },
   {
    "duration": 32,
    "start_time": "2022-10-30T08:21:07.965Z"
   },
   {
    "duration": 16,
    "start_time": "2022-10-30T08:21:08.677Z"
   },
   {
    "duration": 16,
    "start_time": "2022-10-30T08:21:09.124Z"
   },
   {
    "duration": 29,
    "start_time": "2022-10-30T08:21:15.968Z"
   },
   {
    "duration": 16,
    "start_time": "2022-10-30T08:22:00.726Z"
   },
   {
    "duration": 17,
    "start_time": "2022-10-30T08:22:08.495Z"
   },
   {
    "duration": 17,
    "start_time": "2022-10-30T08:22:09.334Z"
   },
   {
    "duration": 11,
    "start_time": "2022-10-30T08:22:17.828Z"
   },
   {
    "duration": 11,
    "start_time": "2022-10-30T10:24:28.651Z"
   },
   {
    "duration": 16,
    "start_time": "2022-10-30T10:24:30.639Z"
   },
   {
    "duration": 388,
    "start_time": "2022-10-30T10:24:35.377Z"
   },
   {
    "duration": 23,
    "start_time": "2022-10-30T10:24:35.767Z"
   },
   {
    "duration": 453,
    "start_time": "2022-10-30T10:24:35.792Z"
   },
   {
    "duration": 16,
    "start_time": "2022-10-30T10:24:36.247Z"
   },
   {
    "duration": 77,
    "start_time": "2022-10-30T10:24:36.264Z"
   },
   {
    "duration": 89,
    "start_time": "2022-10-30T10:24:36.344Z"
   },
   {
    "duration": 19,
    "start_time": "2022-10-30T10:24:36.435Z"
   },
   {
    "duration": 18,
    "start_time": "2022-10-30T10:24:36.456Z"
   },
   {
    "duration": 13,
    "start_time": "2022-10-30T10:24:36.475Z"
   },
   {
    "duration": 67,
    "start_time": "2022-10-30T10:25:41.508Z"
   },
   {
    "duration": 14,
    "start_time": "2022-10-30T10:27:12.535Z"
   },
   {
    "duration": 11,
    "start_time": "2022-10-30T10:27:23.595Z"
   },
   {
    "duration": 7,
    "start_time": "2022-10-30T10:27:54.046Z"
   },
   {
    "duration": 15,
    "start_time": "2022-10-30T10:28:13.622Z"
   },
   {
    "duration": 3,
    "start_time": "2022-10-30T10:29:04.973Z"
   },
   {
    "duration": 26,
    "start_time": "2022-10-30T10:29:06.513Z"
   },
   {
    "duration": 472,
    "start_time": "2022-10-30T10:29:06.773Z"
   },
   {
    "duration": 15,
    "start_time": "2022-10-30T10:29:07.247Z"
   },
   {
    "duration": 120,
    "start_time": "2022-10-30T10:29:07.429Z"
   },
   {
    "duration": 97,
    "start_time": "2022-10-30T10:29:07.886Z"
   },
   {
    "duration": 17,
    "start_time": "2022-10-30T10:29:08.301Z"
   },
   {
    "duration": 10,
    "start_time": "2022-10-30T10:29:09.198Z"
   },
   {
    "duration": 12,
    "start_time": "2022-10-30T10:29:09.695Z"
   },
   {
    "duration": 413,
    "start_time": "2022-10-30T10:29:23.994Z"
   },
   {
    "duration": 28,
    "start_time": "2022-10-30T10:29:24.409Z"
   },
   {
    "duration": 421,
    "start_time": "2022-10-30T10:29:24.439Z"
   },
   {
    "duration": 14,
    "start_time": "2022-10-30T10:29:24.862Z"
   },
   {
    "duration": 82,
    "start_time": "2022-10-30T10:29:24.877Z"
   },
   {
    "duration": 91,
    "start_time": "2022-10-30T10:29:24.960Z"
   },
   {
    "duration": 19,
    "start_time": "2022-10-30T10:29:25.053Z"
   },
   {
    "duration": 27,
    "start_time": "2022-10-30T10:29:25.073Z"
   },
   {
    "duration": 29,
    "start_time": "2022-10-30T10:29:25.102Z"
   },
   {
    "duration": 72,
    "start_time": "2022-10-30T10:29:44.190Z"
   },
   {
    "duration": 12,
    "start_time": "2022-10-30T10:30:01.598Z"
   },
   {
    "duration": 387,
    "start_time": "2022-10-30T10:30:18.277Z"
   },
   {
    "duration": 33,
    "start_time": "2022-10-30T10:30:18.666Z"
   },
   {
    "duration": 467,
    "start_time": "2022-10-30T10:30:18.704Z"
   },
   {
    "duration": 19,
    "start_time": "2022-10-30T10:30:19.174Z"
   },
   {
    "duration": 89,
    "start_time": "2022-10-30T10:30:19.194Z"
   },
   {
    "duration": 96,
    "start_time": "2022-10-30T10:30:19.285Z"
   },
   {
    "duration": 17,
    "start_time": "2022-10-30T10:30:19.382Z"
   },
   {
    "duration": 34,
    "start_time": "2022-10-30T10:30:19.400Z"
   },
   {
    "duration": 14,
    "start_time": "2022-10-30T10:30:19.438Z"
   },
   {
    "duration": 22,
    "start_time": "2022-10-30T10:34:31.542Z"
   },
   {
    "duration": 6,
    "start_time": "2022-10-30T10:35:15.457Z"
   },
   {
    "duration": 15,
    "start_time": "2022-10-30T10:35:24.058Z"
   },
   {
    "duration": 10,
    "start_time": "2022-10-30T10:36:38.872Z"
   },
   {
    "duration": 18,
    "start_time": "2022-10-30T10:36:55.914Z"
   },
   {
    "duration": 62,
    "start_time": "2022-10-30T10:37:37.209Z"
   },
   {
    "duration": 5,
    "start_time": "2022-10-30T10:37:42.247Z"
   },
   {
    "duration": 44,
    "start_time": "2022-10-30T10:38:25.821Z"
   },
   {
    "duration": 8,
    "start_time": "2022-10-30T10:38:33.360Z"
   },
   {
    "duration": 17,
    "start_time": "2022-10-30T10:38:45.276Z"
   },
   {
    "duration": 24,
    "start_time": "2022-10-30T10:38:55.824Z"
   },
   {
    "duration": 13,
    "start_time": "2022-10-30T10:39:02.788Z"
   },
   {
    "duration": 15,
    "start_time": "2022-10-30T10:39:07.951Z"
   },
   {
    "duration": 6,
    "start_time": "2022-10-30T10:39:19.479Z"
   },
   {
    "duration": 8,
    "start_time": "2022-10-30T10:39:24.734Z"
   },
   {
    "duration": 8,
    "start_time": "2022-10-30T10:40:08.948Z"
   },
   {
    "duration": 4,
    "start_time": "2022-10-30T10:44:43.613Z"
   },
   {
    "duration": 13,
    "start_time": "2022-10-30T10:44:55.098Z"
   },
   {
    "duration": 15,
    "start_time": "2022-10-30T10:45:07.545Z"
   },
   {
    "duration": 17,
    "start_time": "2022-10-30T10:45:19.090Z"
   },
   {
    "duration": 7,
    "start_time": "2022-10-30T11:04:55.927Z"
   },
   {
    "duration": 10,
    "start_time": "2022-10-30T11:05:28.977Z"
   },
   {
    "duration": 64,
    "start_time": "2022-10-30T11:05:56.151Z"
   },
   {
    "duration": 67,
    "start_time": "2022-10-30T11:06:06.660Z"
   },
   {
    "duration": 11,
    "start_time": "2022-10-30T11:06:12.743Z"
   },
   {
    "duration": 5,
    "start_time": "2022-10-30T11:06:24.592Z"
   },
   {
    "duration": 6,
    "start_time": "2022-10-30T11:06:30.327Z"
   },
   {
    "duration": 6,
    "start_time": "2022-10-30T11:06:31.688Z"
   },
   {
    "duration": 7,
    "start_time": "2022-10-30T11:06:38.917Z"
   },
   {
    "duration": 16,
    "start_time": "2022-10-30T11:06:42.807Z"
   },
   {
    "duration": 8,
    "start_time": "2022-10-30T11:07:21.623Z"
   },
   {
    "duration": 12,
    "start_time": "2022-10-30T11:07:26.161Z"
   },
   {
    "duration": 14,
    "start_time": "2022-10-30T11:08:21.360Z"
   },
   {
    "duration": 12,
    "start_time": "2022-10-30T11:08:25.553Z"
   },
   {
    "duration": 5,
    "start_time": "2022-10-30T11:09:05.349Z"
   },
   {
    "duration": 4,
    "start_time": "2022-10-30T11:09:15.096Z"
   },
   {
    "duration": 372,
    "start_time": "2022-10-30T11:10:55.539Z"
   },
   {
    "duration": 25,
    "start_time": "2022-10-30T11:10:55.913Z"
   },
   {
    "duration": 376,
    "start_time": "2022-10-30T11:10:55.940Z"
   },
   {
    "duration": 15,
    "start_time": "2022-10-30T11:10:56.318Z"
   },
   {
    "duration": 73,
    "start_time": "2022-10-30T11:10:56.335Z"
   },
   {
    "duration": 85,
    "start_time": "2022-10-30T11:10:56.424Z"
   },
   {
    "duration": 5,
    "start_time": "2022-10-30T11:10:56.521Z"
   },
   {
    "duration": 27,
    "start_time": "2022-10-30T11:10:56.530Z"
   },
   {
    "duration": 12,
    "start_time": "2022-10-30T11:10:56.559Z"
   },
   {
    "duration": 807,
    "start_time": "2022-10-30T11:31:26.565Z"
   },
   {
    "duration": 692,
    "start_time": "2022-10-30T11:31:48.310Z"
   },
   {
    "duration": 747,
    "start_time": "2022-10-30T11:31:52.531Z"
   },
   {
    "duration": 659,
    "start_time": "2022-10-30T11:32:07.779Z"
   },
   {
    "duration": 678,
    "start_time": "2022-10-30T11:32:20.979Z"
   },
   {
    "duration": 27,
    "start_time": "2022-10-30T11:32:48.418Z"
   },
   {
    "duration": 6,
    "start_time": "2022-10-30T11:35:12.932Z"
   },
   {
    "duration": 30,
    "start_time": "2022-10-30T11:35:22.548Z"
   },
   {
    "duration": 29,
    "start_time": "2022-10-30T11:35:31.676Z"
   },
   {
    "duration": 32,
    "start_time": "2022-10-30T11:36:22.685Z"
   },
   {
    "duration": 55,
    "start_time": "2022-10-30T11:36:34.255Z"
   },
   {
    "duration": 69,
    "start_time": "2022-10-30T11:37:11.690Z"
   },
   {
    "duration": 50,
    "start_time": "2022-10-30T11:37:40.700Z"
   },
   {
    "duration": 53,
    "start_time": "2022-10-30T11:37:54.493Z"
   },
   {
    "duration": 66,
    "start_time": "2022-10-30T11:38:07.646Z"
   },
   {
    "duration": 50,
    "start_time": "2022-10-30T11:38:15.998Z"
   },
   {
    "duration": 53,
    "start_time": "2022-10-30T11:38:25.418Z"
   },
   {
    "duration": 46,
    "start_time": "2022-10-30T11:41:48.790Z"
   },
   {
    "duration": 46,
    "start_time": "2022-10-30T11:41:57.720Z"
   },
   {
    "duration": 51,
    "start_time": "2022-10-30T11:42:28.038Z"
   },
   {
    "duration": 63,
    "start_time": "2022-10-30T11:43:05.702Z"
   },
   {
    "duration": 55,
    "start_time": "2022-10-30T11:43:49.784Z"
   },
   {
    "duration": 56,
    "start_time": "2022-10-30T11:44:01.806Z"
   },
   {
    "duration": 58,
    "start_time": "2022-10-30T11:46:50.039Z"
   },
   {
    "duration": 54,
    "start_time": "2022-10-30T11:47:02.552Z"
   },
   {
    "duration": 53,
    "start_time": "2022-10-30T11:47:42.616Z"
   },
   {
    "duration": 746,
    "start_time": "2022-10-30T11:49:32.718Z"
   },
   {
    "duration": 14,
    "start_time": "2022-10-30T11:49:59.184Z"
   },
   {
    "duration": 16,
    "start_time": "2022-10-30T11:51:15.153Z"
   },
   {
    "duration": 20,
    "start_time": "2022-10-30T11:51:19.675Z"
   },
   {
    "duration": 17,
    "start_time": "2022-10-30T11:53:52.147Z"
   },
   {
    "duration": 22,
    "start_time": "2022-10-30T11:54:58.757Z"
   },
   {
    "duration": 21,
    "start_time": "2022-10-30T11:55:02.835Z"
   },
   {
    "duration": 1269,
    "start_time": "2022-10-30T11:55:25.658Z"
   },
   {
    "duration": 21,
    "start_time": "2022-10-30T11:55:53.531Z"
   },
   {
    "duration": 9,
    "start_time": "2022-10-30T12:04:25.871Z"
   },
   {
    "duration": 13,
    "start_time": "2022-10-30T12:04:32.015Z"
   },
   {
    "duration": 24,
    "start_time": "2022-10-30T12:05:22.771Z"
   },
   {
    "duration": 27,
    "start_time": "2022-10-30T12:05:59.830Z"
   },
   {
    "duration": 296,
    "start_time": "2022-10-30T12:12:38.834Z"
   },
   {
    "duration": 55,
    "start_time": "2022-10-30T12:13:30.680Z"
   },
   {
    "duration": 48,
    "start_time": "2022-10-30T12:13:42.966Z"
   },
   {
    "duration": 53,
    "start_time": "2022-10-30T12:13:50.688Z"
   },
   {
    "duration": 56,
    "start_time": "2022-10-30T12:13:53.569Z"
   },
   {
    "duration": 50,
    "start_time": "2022-10-30T12:14:04.064Z"
   },
   {
    "duration": 54,
    "start_time": "2022-10-30T12:14:15.324Z"
   },
   {
    "duration": 23,
    "start_time": "2022-10-30T12:14:32.017Z"
   },
   {
    "duration": 22,
    "start_time": "2022-10-30T12:14:40.521Z"
   },
   {
    "duration": 19,
    "start_time": "2022-10-30T12:15:24.752Z"
   },
   {
    "duration": 180,
    "start_time": "2022-10-30T12:15:52.196Z"
   },
   {
    "duration": 13,
    "start_time": "2022-10-30T12:16:01.881Z"
   },
   {
    "duration": 21,
    "start_time": "2022-10-30T12:16:17.032Z"
   },
   {
    "duration": 11,
    "start_time": "2022-10-30T12:16:45.241Z"
   },
   {
    "duration": 730,
    "start_time": "2022-10-30T12:17:03.044Z"
   },
   {
    "duration": 10,
    "start_time": "2022-10-30T12:17:23.231Z"
   },
   {
    "duration": 633,
    "start_time": "2022-10-30T12:17:35.235Z"
   },
   {
    "duration": 27,
    "start_time": "2022-10-30T12:17:40.601Z"
   },
   {
    "duration": 52,
    "start_time": "2022-10-30T12:18:23.770Z"
   },
   {
    "duration": 51,
    "start_time": "2022-10-30T12:18:27.027Z"
   },
   {
    "duration": 40,
    "start_time": "2022-10-30T12:18:40.236Z"
   },
   {
    "duration": 11,
    "start_time": "2022-10-30T12:19:37.602Z"
   },
   {
    "duration": 17,
    "start_time": "2022-10-30T12:19:52.633Z"
   },
   {
    "duration": 32,
    "start_time": "2022-10-30T12:19:57.474Z"
   },
   {
    "duration": 32,
    "start_time": "2022-10-30T12:20:39.067Z"
   },
   {
    "duration": 31,
    "start_time": "2022-10-30T12:21:02.675Z"
   },
   {
    "duration": 34,
    "start_time": "2022-10-30T12:26:28.756Z"
   },
   {
    "duration": 30,
    "start_time": "2022-10-30T12:28:17.620Z"
   },
   {
    "duration": 30,
    "start_time": "2022-10-30T12:28:21.726Z"
   },
   {
    "duration": 62,
    "start_time": "2022-10-30T12:28:58.943Z"
   },
   {
    "duration": 30,
    "start_time": "2022-10-30T12:32:45.999Z"
   },
   {
    "duration": 48,
    "start_time": "2022-10-30T12:34:14.133Z"
   },
   {
    "duration": 47,
    "start_time": "2022-10-30T12:34:21.942Z"
   },
   {
    "duration": 44,
    "start_time": "2022-10-30T12:34:52.478Z"
   },
   {
    "duration": 44,
    "start_time": "2022-10-30T12:35:15.880Z"
   },
   {
    "duration": 8,
    "start_time": "2022-10-30T12:49:27.706Z"
   },
   {
    "duration": 14,
    "start_time": "2022-10-30T12:49:39.937Z"
   },
   {
    "duration": 59,
    "start_time": "2022-10-30T12:54:53.725Z"
   },
   {
    "duration": 757,
    "start_time": "2022-10-30T12:55:14.512Z"
   },
   {
    "duration": 34,
    "start_time": "2022-10-30T12:55:20.832Z"
   },
   {
    "duration": 11,
    "start_time": "2022-10-30T13:03:34.319Z"
   },
   {
    "duration": 10,
    "start_time": "2022-10-30T13:03:59.800Z"
   },
   {
    "duration": 1966,
    "start_time": "2022-10-30T13:04:09.425Z"
   },
   {
    "duration": 861,
    "start_time": "2022-10-30T13:05:19.200Z"
   },
   {
    "duration": 13586,
    "start_time": "2022-10-30T13:09:08.640Z"
   },
   {
    "duration": 70,
    "start_time": "2022-10-30T13:11:58.955Z"
   },
   {
    "duration": 51,
    "start_time": "2022-10-30T13:12:08.639Z"
   },
   {
    "duration": 16,
    "start_time": "2022-10-30T13:12:09.631Z"
   },
   {
    "duration": 13585,
    "start_time": "2022-10-30T13:12:16.166Z"
   },
   {
    "duration": 37,
    "start_time": "2022-10-30T13:16:39.320Z"
   },
   {
    "duration": 33,
    "start_time": "2022-10-30T13:16:56.511Z"
   },
   {
    "duration": 162,
    "start_time": "2022-10-30T13:18:27.459Z"
   },
   {
    "duration": 25,
    "start_time": "2022-10-30T13:18:49.707Z"
   },
   {
    "duration": 33,
    "start_time": "2022-10-30T13:18:56.830Z"
   },
   {
    "duration": 120,
    "start_time": "2022-10-30T13:19:06.251Z"
   },
   {
    "duration": 36,
    "start_time": "2022-10-30T13:20:03.781Z"
   },
   {
    "duration": 129,
    "start_time": "2022-10-30T13:20:17.115Z"
   },
   {
    "duration": 128,
    "start_time": "2022-10-30T13:21:01.661Z"
   },
   {
    "duration": 123,
    "start_time": "2022-10-30T13:22:45.604Z"
   },
   {
    "duration": 145,
    "start_time": "2022-10-30T13:23:30.172Z"
   },
   {
    "duration": 125,
    "start_time": "2022-10-30T13:23:37.412Z"
   },
   {
    "duration": 35,
    "start_time": "2022-10-30T13:25:49.261Z"
   },
   {
    "duration": 24,
    "start_time": "2022-10-30T13:25:57.854Z"
   },
   {
    "duration": 28,
    "start_time": "2022-10-30T13:26:01.525Z"
   },
   {
    "duration": 33,
    "start_time": "2022-10-30T13:26:08.348Z"
   },
   {
    "duration": 13632,
    "start_time": "2022-10-30T13:29:13.883Z"
   },
   {
    "duration": 7,
    "start_time": "2022-10-30T13:30:44.830Z"
   },
   {
    "duration": 405,
    "start_time": "2022-10-30T13:32:04.294Z"
   },
   {
    "duration": 25,
    "start_time": "2022-10-30T13:32:04.701Z"
   },
   {
    "duration": 413,
    "start_time": "2022-10-30T13:32:04.727Z"
   },
   {
    "duration": 17,
    "start_time": "2022-10-30T13:32:05.141Z"
   },
   {
    "duration": 73,
    "start_time": "2022-10-30T13:32:05.161Z"
   },
   {
    "duration": 86,
    "start_time": "2022-10-30T13:32:05.236Z"
   },
   {
    "duration": 6,
    "start_time": "2022-10-30T13:32:05.323Z"
   },
   {
    "duration": 21,
    "start_time": "2022-10-30T13:32:05.331Z"
   },
   {
    "duration": 14,
    "start_time": "2022-10-30T13:32:05.353Z"
   },
   {
    "duration": 21,
    "start_time": "2022-10-30T13:32:05.369Z"
   },
   {
    "duration": 58,
    "start_time": "2022-10-30T13:32:05.423Z"
   },
   {
    "duration": 15,
    "start_time": "2022-10-30T13:32:05.483Z"
   },
   {
    "duration": 24,
    "start_time": "2022-10-30T13:32:05.523Z"
   },
   {
    "duration": 16,
    "start_time": "2022-10-30T13:32:05.551Z"
   },
   {
    "duration": 56,
    "start_time": "2022-10-30T13:32:05.569Z"
   },
   {
    "duration": 67,
    "start_time": "2022-10-30T13:32:05.627Z"
   },
   {
    "duration": 41,
    "start_time": "2022-10-30T13:32:05.696Z"
   },
   {
    "duration": 146,
    "start_time": "2022-10-30T13:32:05.739Z"
   },
   {
    "duration": 0,
    "start_time": "2022-10-30T13:32:05.886Z"
   },
   {
    "duration": 0,
    "start_time": "2022-10-30T13:32:05.887Z"
   },
   {
    "duration": 405,
    "start_time": "2022-10-30T13:33:13.514Z"
   },
   {
    "duration": 27,
    "start_time": "2022-10-30T13:33:13.922Z"
   },
   {
    "duration": 418,
    "start_time": "2022-10-30T13:33:13.950Z"
   },
   {
    "duration": 16,
    "start_time": "2022-10-30T13:33:14.369Z"
   },
   {
    "duration": 68,
    "start_time": "2022-10-30T13:33:14.387Z"
   },
   {
    "duration": 94,
    "start_time": "2022-10-30T13:33:14.457Z"
   },
   {
    "duration": 4,
    "start_time": "2022-10-30T13:33:14.553Z"
   },
   {
    "duration": 23,
    "start_time": "2022-10-30T13:33:14.559Z"
   },
   {
    "duration": 37,
    "start_time": "2022-10-30T13:33:14.585Z"
   },
   {
    "duration": 23,
    "start_time": "2022-10-30T13:33:14.624Z"
   },
   {
    "duration": 80,
    "start_time": "2022-10-30T13:33:14.648Z"
   },
   {
    "duration": 14,
    "start_time": "2022-10-30T13:33:14.729Z"
   },
   {
    "duration": 27,
    "start_time": "2022-10-30T13:33:14.745Z"
   },
   {
    "duration": 51,
    "start_time": "2022-10-30T13:33:14.775Z"
   },
   {
    "duration": 29,
    "start_time": "2022-10-30T13:33:14.828Z"
   },
   {
    "duration": 93,
    "start_time": "2022-10-30T13:33:14.859Z"
   },
   {
    "duration": 22,
    "start_time": "2022-10-30T13:33:14.954Z"
   },
   {
    "duration": 14188,
    "start_time": "2022-10-30T13:33:14.978Z"
   },
   {
    "duration": 160,
    "start_time": "2022-10-30T13:33:29.168Z"
   },
   {
    "duration": 5,
    "start_time": "2022-10-30T13:33:29.330Z"
   },
   {
    "duration": 14087,
    "start_time": "2022-10-30T13:33:38.191Z"
   },
   {
    "duration": 135,
    "start_time": "2022-10-30T13:33:52.279Z"
   },
   {
    "duration": 6,
    "start_time": "2022-10-30T13:33:52.416Z"
   },
   {
    "duration": 14,
    "start_time": "2022-10-30T13:34:31.708Z"
   },
   {
    "duration": 122,
    "start_time": "2022-10-30T13:35:04.357Z"
   },
   {
    "duration": 47,
    "start_time": "2022-10-30T13:35:32.901Z"
   },
   {
    "duration": 14,
    "start_time": "2022-10-30T13:35:42.710Z"
   },
   {
    "duration": 89,
    "start_time": "2022-10-30T13:35:58.276Z"
   },
   {
    "duration": 14,
    "start_time": "2022-10-30T13:36:29.200Z"
   },
   {
    "duration": 11,
    "start_time": "2022-10-30T13:36:36.778Z"
   },
   {
    "duration": 14,
    "start_time": "2022-10-30T13:36:55.621Z"
   },
   {
    "duration": 142,
    "start_time": "2022-10-30T13:37:22.559Z"
   },
   {
    "duration": 14,
    "start_time": "2022-10-30T13:37:28.285Z"
   },
   {
    "duration": 26,
    "start_time": "2022-10-30T13:37:29.318Z"
   },
   {
    "duration": 156,
    "start_time": "2022-10-30T13:38:40.990Z"
   },
   {
    "duration": 15,
    "start_time": "2022-10-30T13:38:46.365Z"
   },
   {
    "duration": 25,
    "start_time": "2022-10-30T13:38:53.533Z"
   },
   {
    "duration": 38,
    "start_time": "2022-10-30T13:39:40.075Z"
   },
   {
    "duration": 1313,
    "start_time": "2022-10-30T13:42:19.953Z"
   },
   {
    "duration": 33,
    "start_time": "2022-10-30T13:42:21.268Z"
   },
   {
    "duration": 411,
    "start_time": "2022-10-30T13:42:21.303Z"
   },
   {
    "duration": 18,
    "start_time": "2022-10-30T13:42:21.716Z"
   },
   {
    "duration": 64,
    "start_time": "2022-10-30T13:42:21.736Z"
   },
   {
    "duration": 94,
    "start_time": "2022-10-30T13:42:21.802Z"
   },
   {
    "duration": 6,
    "start_time": "2022-10-30T13:42:21.898Z"
   },
   {
    "duration": 31,
    "start_time": "2022-10-30T13:42:21.905Z"
   },
   {
    "duration": 15,
    "start_time": "2022-10-30T13:42:21.937Z"
   },
   {
    "duration": 28,
    "start_time": "2022-10-30T13:42:21.954Z"
   },
   {
    "duration": 90,
    "start_time": "2022-10-30T13:42:21.984Z"
   },
   {
    "duration": 15,
    "start_time": "2022-10-30T13:42:22.076Z"
   },
   {
    "duration": 39,
    "start_time": "2022-10-30T13:42:22.093Z"
   },
   {
    "duration": 16,
    "start_time": "2022-10-30T13:42:22.135Z"
   },
   {
    "duration": 43,
    "start_time": "2022-10-30T13:42:22.152Z"
   },
   {
    "duration": 86,
    "start_time": "2022-10-30T13:42:22.196Z"
   },
   {
    "duration": 20,
    "start_time": "2022-10-30T13:42:22.284Z"
   },
   {
    "duration": 13796,
    "start_time": "2022-10-30T13:42:22.321Z"
   },
   {
    "duration": 149,
    "start_time": "2022-10-30T13:42:36.118Z"
   },
   {
    "duration": 13,
    "start_time": "2022-10-30T13:42:36.269Z"
   },
   {
    "duration": 48,
    "start_time": "2022-10-30T13:42:36.284Z"
   },
   {
    "duration": 811,
    "start_time": "2022-10-30T13:42:36.334Z"
   },
   {
    "duration": 93,
    "start_time": "2022-10-30T13:43:50.861Z"
   },
   {
    "duration": 10,
    "start_time": "2022-10-30T13:45:01.210Z"
   },
   {
    "duration": 9,
    "start_time": "2022-10-30T13:45:05.635Z"
   },
   {
    "duration": 10,
    "start_time": "2022-10-30T13:45:29.860Z"
   },
   {
    "duration": 1637,
    "start_time": "2022-10-30T13:45:39.668Z"
   },
   {
    "duration": 828,
    "start_time": "2022-10-30T13:45:51.203Z"
   },
   {
    "duration": 161,
    "start_time": "2022-10-30T13:45:58.145Z"
   },
   {
    "duration": 822,
    "start_time": "2022-10-30T13:46:04.213Z"
   },
   {
    "duration": 156,
    "start_time": "2022-10-30T13:46:17.509Z"
   },
   {
    "duration": 916,
    "start_time": "2022-10-30T13:47:05.325Z"
   },
   {
    "duration": 156,
    "start_time": "2022-10-30T13:50:19.391Z"
   },
   {
    "duration": 136,
    "start_time": "2022-10-30T13:50:35.405Z"
   },
   {
    "duration": 266,
    "start_time": "2022-10-30T13:50:49.476Z"
   },
   {
    "duration": 218,
    "start_time": "2022-10-30T13:51:10.660Z"
   },
   {
    "duration": 154,
    "start_time": "2022-10-30T13:51:24.599Z"
   },
   {
    "duration": 63,
    "start_time": "2022-10-30T13:52:31.566Z"
   },
   {
    "duration": 188,
    "start_time": "2022-10-30T13:52:52.574Z"
   },
   {
    "duration": 196,
    "start_time": "2022-10-30T13:52:59.730Z"
   },
   {
    "duration": 1096,
    "start_time": "2022-10-30T13:55:37.448Z"
   },
   {
    "duration": 30,
    "start_time": "2022-10-30T13:55:38.547Z"
   },
   {
    "duration": 446,
    "start_time": "2022-10-30T13:55:38.578Z"
   },
   {
    "duration": 19,
    "start_time": "2022-10-30T13:55:39.026Z"
   },
   {
    "duration": 110,
    "start_time": "2022-10-30T13:55:39.048Z"
   },
   {
    "duration": 91,
    "start_time": "2022-10-30T13:55:39.160Z"
   },
   {
    "duration": 5,
    "start_time": "2022-10-30T13:55:39.253Z"
   },
   {
    "duration": 19,
    "start_time": "2022-10-30T13:55:39.259Z"
   },
   {
    "duration": 13,
    "start_time": "2022-10-30T13:55:39.279Z"
   },
   {
    "duration": 37,
    "start_time": "2022-10-30T13:55:39.294Z"
   },
   {
    "duration": 25,
    "start_time": "2022-10-30T13:55:39.333Z"
   },
   {
    "duration": 87,
    "start_time": "2022-10-30T13:55:39.359Z"
   },
   {
    "duration": 15,
    "start_time": "2022-10-30T13:55:39.448Z"
   },
   {
    "duration": 28,
    "start_time": "2022-10-30T13:55:39.465Z"
   },
   {
    "duration": 17,
    "start_time": "2022-10-30T13:55:39.523Z"
   },
   {
    "duration": 35,
    "start_time": "2022-10-30T13:55:39.542Z"
   },
   {
    "duration": 117,
    "start_time": "2022-10-30T13:55:39.579Z"
   },
   {
    "duration": 39,
    "start_time": "2022-10-30T13:55:39.698Z"
   },
   {
    "duration": 13811,
    "start_time": "2022-10-30T13:55:39.740Z"
   },
   {
    "duration": 148,
    "start_time": "2022-10-30T13:55:53.553Z"
   },
   {
    "duration": 25,
    "start_time": "2022-10-30T13:55:53.703Z"
   },
   {
    "duration": 39,
    "start_time": "2022-10-30T13:55:53.729Z"
   },
   {
    "duration": 279,
    "start_time": "2022-10-30T13:55:53.769Z"
   },
   {
    "duration": 126,
    "start_time": "2022-10-30T13:57:36.398Z"
   },
   {
    "duration": 155,
    "start_time": "2022-10-30T14:00:20.873Z"
   },
   {
    "duration": 5,
    "start_time": "2022-10-30T14:00:28.249Z"
   },
   {
    "duration": 43,
    "start_time": "2022-10-30T14:00:32.264Z"
   },
   {
    "duration": 158,
    "start_time": "2022-10-30T14:00:35.518Z"
   },
   {
    "duration": 160,
    "start_time": "2022-10-30T14:00:45.041Z"
   },
   {
    "duration": 154,
    "start_time": "2022-10-30T14:00:51.347Z"
   },
   {
    "duration": 175,
    "start_time": "2022-10-30T14:00:58.896Z"
   },
   {
    "duration": 137,
    "start_time": "2022-10-30T14:02:08.439Z"
   },
   {
    "duration": 57,
    "start_time": "2022-10-30T14:02:36.784Z"
   },
   {
    "duration": 121,
    "start_time": "2022-10-30T14:02:44.436Z"
   },
   {
    "duration": 16,
    "start_time": "2022-10-30T14:03:34.004Z"
   },
   {
    "duration": 17,
    "start_time": "2022-10-30T14:04:05.048Z"
   },
   {
    "duration": 204,
    "start_time": "2022-10-30T14:04:09.394Z"
   },
   {
    "duration": 1143,
    "start_time": "2022-10-30T14:04:14.420Z"
   },
   {
    "duration": 26,
    "start_time": "2022-10-30T14:04:15.565Z"
   },
   {
    "duration": 451,
    "start_time": "2022-10-30T14:04:15.594Z"
   },
   {
    "duration": 16,
    "start_time": "2022-10-30T14:04:16.047Z"
   },
   {
    "duration": 74,
    "start_time": "2022-10-30T14:04:16.065Z"
   },
   {
    "duration": 87,
    "start_time": "2022-10-30T14:04:16.140Z"
   },
   {
    "duration": 7,
    "start_time": "2022-10-30T14:04:16.229Z"
   },
   {
    "duration": 51,
    "start_time": "2022-10-30T14:04:16.238Z"
   },
   {
    "duration": 12,
    "start_time": "2022-10-30T14:04:16.292Z"
   },
   {
    "duration": 19,
    "start_time": "2022-10-30T14:04:16.307Z"
   },
   {
    "duration": 20,
    "start_time": "2022-10-30T14:04:16.327Z"
   },
   {
    "duration": 85,
    "start_time": "2022-10-30T14:04:16.349Z"
   },
   {
    "duration": 16,
    "start_time": "2022-10-30T14:04:16.437Z"
   },
   {
    "duration": 36,
    "start_time": "2022-10-30T14:04:16.456Z"
   },
   {
    "duration": 40,
    "start_time": "2022-10-30T14:04:16.494Z"
   },
   {
    "duration": 28,
    "start_time": "2022-10-30T14:04:16.535Z"
   },
   {
    "duration": 88,
    "start_time": "2022-10-30T14:04:16.565Z"
   },
   {
    "duration": 21,
    "start_time": "2022-10-30T14:04:16.655Z"
   },
   {
    "duration": 13854,
    "start_time": "2022-10-30T14:04:16.678Z"
   },
   {
    "duration": 149,
    "start_time": "2022-10-30T14:04:30.534Z"
   },
   {
    "duration": 16,
    "start_time": "2022-10-30T14:04:30.685Z"
   },
   {
    "duration": 55,
    "start_time": "2022-10-30T14:04:30.703Z"
   },
   {
    "duration": 241,
    "start_time": "2022-10-30T14:04:30.761Z"
   },
   {
    "duration": 57,
    "start_time": "2022-10-30T14:04:38.793Z"
   },
   {
    "duration": 156,
    "start_time": "2022-10-30T14:04:45.416Z"
   },
   {
    "duration": 1144,
    "start_time": "2022-10-30T14:05:34.213Z"
   },
   {
    "duration": 26,
    "start_time": "2022-10-30T14:05:35.359Z"
   },
   {
    "duration": 433,
    "start_time": "2022-10-30T14:05:35.386Z"
   },
   {
    "duration": 30,
    "start_time": "2022-10-30T14:05:35.821Z"
   },
   {
    "duration": 120,
    "start_time": "2022-10-30T14:05:35.856Z"
   },
   {
    "duration": 91,
    "start_time": "2022-10-30T14:05:35.978Z"
   },
   {
    "duration": 5,
    "start_time": "2022-10-30T14:05:36.070Z"
   },
   {
    "duration": 18,
    "start_time": "2022-10-30T14:05:36.077Z"
   },
   {
    "duration": 34,
    "start_time": "2022-10-30T14:05:36.097Z"
   },
   {
    "duration": 12,
    "start_time": "2022-10-30T14:05:36.132Z"
   },
   {
    "duration": 25,
    "start_time": "2022-10-30T14:05:36.146Z"
   },
   {
    "duration": 97,
    "start_time": "2022-10-30T14:05:36.173Z"
   },
   {
    "duration": 14,
    "start_time": "2022-10-30T14:05:36.272Z"
   },
   {
    "duration": 36,
    "start_time": "2022-10-30T14:05:36.289Z"
   },
   {
    "duration": 17,
    "start_time": "2022-10-30T14:05:36.326Z"
   },
   {
    "duration": 28,
    "start_time": "2022-10-30T14:05:36.344Z"
   },
   {
    "duration": 104,
    "start_time": "2022-10-30T14:05:36.373Z"
   },
   {
    "duration": 22,
    "start_time": "2022-10-30T14:05:36.478Z"
   },
   {
    "duration": 14220,
    "start_time": "2022-10-30T14:05:36.501Z"
   },
   {
    "duration": 147,
    "start_time": "2022-10-30T14:05:50.722Z"
   },
   {
    "duration": 20,
    "start_time": "2022-10-30T14:05:50.870Z"
   },
   {
    "duration": 59,
    "start_time": "2022-10-30T14:05:50.893Z"
   },
   {
    "duration": 237,
    "start_time": "2022-10-30T14:05:50.954Z"
   },
   {
    "duration": 137,
    "start_time": "2022-10-30T14:06:02.206Z"
   },
   {
    "duration": 147,
    "start_time": "2022-10-30T14:06:21.522Z"
   },
   {
    "duration": 140,
    "start_time": "2022-10-30T14:07:23.966Z"
   },
   {
    "duration": 145,
    "start_time": "2022-10-30T14:07:58.454Z"
   },
   {
    "duration": 153,
    "start_time": "2022-10-30T14:08:06.191Z"
   },
   {
    "duration": 164,
    "start_time": "2022-10-30T14:08:13.139Z"
   },
   {
    "duration": 148,
    "start_time": "2022-10-30T14:08:26.406Z"
   },
   {
    "duration": 155,
    "start_time": "2022-10-30T14:08:57.951Z"
   },
   {
    "duration": 227,
    "start_time": "2022-10-30T14:09:05.303Z"
   },
   {
    "duration": 192,
    "start_time": "2022-10-30T14:10:16.064Z"
   },
   {
    "duration": 144,
    "start_time": "2022-10-30T14:10:42.840Z"
   },
   {
    "duration": 142,
    "start_time": "2022-10-30T14:10:47.583Z"
   },
   {
    "duration": 128,
    "start_time": "2022-10-30T14:10:54.407Z"
   },
   {
    "duration": 136,
    "start_time": "2022-10-30T14:11:02.743Z"
   },
   {
    "duration": 149,
    "start_time": "2022-10-30T14:12:42.088Z"
   },
   {
    "duration": 1108,
    "start_time": "2022-10-30T14:13:04.630Z"
   },
   {
    "duration": 24,
    "start_time": "2022-10-30T14:13:05.740Z"
   },
   {
    "duration": 425,
    "start_time": "2022-10-30T14:13:05.766Z"
   },
   {
    "duration": 23,
    "start_time": "2022-10-30T14:13:06.192Z"
   },
   {
    "duration": 80,
    "start_time": "2022-10-30T14:13:06.218Z"
   },
   {
    "duration": 84,
    "start_time": "2022-10-30T14:13:06.300Z"
   },
   {
    "duration": 4,
    "start_time": "2022-10-30T14:13:06.386Z"
   },
   {
    "duration": 35,
    "start_time": "2022-10-30T14:13:06.392Z"
   },
   {
    "duration": 12,
    "start_time": "2022-10-30T14:13:06.429Z"
   },
   {
    "duration": 10,
    "start_time": "2022-10-30T14:13:06.442Z"
   },
   {
    "duration": 24,
    "start_time": "2022-10-30T14:13:06.453Z"
   },
   {
    "duration": 99,
    "start_time": "2022-10-30T14:13:06.478Z"
   },
   {
    "duration": 13,
    "start_time": "2022-10-30T14:13:06.578Z"
   },
   {
    "duration": 44,
    "start_time": "2022-10-30T14:13:06.594Z"
   },
   {
    "duration": 16,
    "start_time": "2022-10-30T14:13:06.639Z"
   },
   {
    "duration": 28,
    "start_time": "2022-10-30T14:13:06.656Z"
   },
   {
    "duration": 93,
    "start_time": "2022-10-30T14:13:06.686Z"
   },
   {
    "duration": 20,
    "start_time": "2022-10-30T14:13:06.780Z"
   },
   {
    "duration": 14017,
    "start_time": "2022-10-30T14:13:06.801Z"
   },
   {
    "duration": 143,
    "start_time": "2022-10-30T14:13:20.821Z"
   },
   {
    "duration": 14,
    "start_time": "2022-10-30T14:13:20.965Z"
   },
   {
    "duration": 48,
    "start_time": "2022-10-30T14:13:20.981Z"
   },
   {
    "duration": 166,
    "start_time": "2022-10-30T14:13:21.030Z"
   },
   {
    "duration": 187,
    "start_time": "2022-10-30T14:13:21.197Z"
   },
   {
    "duration": 176,
    "start_time": "2022-10-30T14:13:34.804Z"
   },
   {
    "duration": 172,
    "start_time": "2022-10-30T14:13:42.503Z"
   },
   {
    "duration": 168,
    "start_time": "2022-10-30T14:13:49.632Z"
   },
   {
    "duration": 191,
    "start_time": "2022-10-30T14:13:57.208Z"
   },
   {
    "duration": 176,
    "start_time": "2022-10-30T14:14:28.257Z"
   },
   {
    "duration": 159,
    "start_time": "2022-10-30T14:15:03.264Z"
   },
   {
    "duration": 153,
    "start_time": "2022-10-30T14:15:08.481Z"
   },
   {
    "duration": 239,
    "start_time": "2022-10-30T14:15:33.774Z"
   },
   {
    "duration": 1218,
    "start_time": "2022-10-31T17:05:49.348Z"
   },
   {
    "duration": 36,
    "start_time": "2022-10-31T17:05:50.569Z"
   },
   {
    "duration": 1298,
    "start_time": "2022-10-31T17:05:50.606Z"
   },
   {
    "duration": 16,
    "start_time": "2022-10-31T17:05:51.906Z"
   },
   {
    "duration": 61,
    "start_time": "2022-10-31T17:05:51.925Z"
   },
   {
    "duration": 80,
    "start_time": "2022-10-31T17:05:51.988Z"
   },
   {
    "duration": 4,
    "start_time": "2022-10-31T17:05:52.070Z"
   },
   {
    "duration": 22,
    "start_time": "2022-10-31T17:05:52.075Z"
   },
   {
    "duration": 13,
    "start_time": "2022-10-31T17:05:52.099Z"
   },
   {
    "duration": 11,
    "start_time": "2022-10-31T17:05:52.122Z"
   },
   {
    "duration": 22,
    "start_time": "2022-10-31T17:05:52.135Z"
   },
   {
    "duration": 80,
    "start_time": "2022-10-31T17:05:52.158Z"
   },
   {
    "duration": 15,
    "start_time": "2022-10-31T17:05:52.240Z"
   },
   {
    "duration": 23,
    "start_time": "2022-10-31T17:05:52.258Z"
   },
   {
    "duration": 40,
    "start_time": "2022-10-31T17:05:52.283Z"
   },
   {
    "duration": 31,
    "start_time": "2022-10-31T17:05:52.325Z"
   },
   {
    "duration": 79,
    "start_time": "2022-10-31T17:05:52.358Z"
   },
   {
    "duration": 22,
    "start_time": "2022-10-31T17:05:52.438Z"
   },
   {
    "duration": 13959,
    "start_time": "2022-10-31T17:05:52.461Z"
   },
   {
    "duration": 155,
    "start_time": "2022-10-31T17:06:06.422Z"
   },
   {
    "duration": 15,
    "start_time": "2022-10-31T17:06:06.578Z"
   },
   {
    "duration": 39,
    "start_time": "2022-10-31T17:06:06.594Z"
   },
   {
    "duration": 186,
    "start_time": "2022-10-31T17:06:06.635Z"
   },
   {
    "duration": 167,
    "start_time": "2022-10-31T17:06:06.822Z"
   },
   {
    "duration": 174,
    "start_time": "2022-10-31T17:06:06.991Z"
   },
   {
    "duration": 169,
    "start_time": "2022-10-31T17:20:56.915Z"
   },
   {
    "duration": 91,
    "start_time": "2022-10-31T17:21:37.591Z"
   },
   {
    "duration": 203,
    "start_time": "2022-10-31T17:23:55.931Z"
   },
   {
    "duration": 122,
    "start_time": "2022-10-31T17:24:09.353Z"
   },
   {
    "duration": 44,
    "start_time": "2022-10-31T17:25:20.067Z"
   },
   {
    "duration": 16,
    "start_time": "2022-10-31T17:25:28.914Z"
   },
   {
    "duration": 73,
    "start_time": "2022-10-31T17:26:11.340Z"
   },
   {
    "duration": 70,
    "start_time": "2022-10-31T17:26:15.356Z"
   },
   {
    "duration": 747,
    "start_time": "2022-10-31T17:26:32.202Z"
   },
   {
    "duration": 38,
    "start_time": "2022-10-31T17:26:34.707Z"
   },
   {
    "duration": 194,
    "start_time": "2022-10-31T17:26:59.050Z"
   },
   {
    "duration": 169,
    "start_time": "2022-10-31T17:27:04.720Z"
   },
   {
    "duration": 20,
    "start_time": "2022-10-31T17:27:05.738Z"
   },
   {
    "duration": 3,
    "start_time": "2022-10-31T17:28:54.050Z"
   },
   {
    "duration": 1140,
    "start_time": "2022-10-31T17:29:09.293Z"
   },
   {
    "duration": 381,
    "start_time": "2022-10-31T17:29:10.435Z"
   },
   {
    "duration": 15,
    "start_time": "2022-10-31T17:29:10.818Z"
   },
   {
    "duration": 59,
    "start_time": "2022-10-31T17:29:10.835Z"
   },
   {
    "duration": 82,
    "start_time": "2022-10-31T17:29:10.896Z"
   },
   {
    "duration": 4,
    "start_time": "2022-10-31T17:29:10.980Z"
   },
   {
    "duration": 19,
    "start_time": "2022-10-31T17:29:10.985Z"
   },
   {
    "duration": 23,
    "start_time": "2022-10-31T17:29:11.006Z"
   },
   {
    "duration": 13,
    "start_time": "2022-10-31T17:29:11.031Z"
   },
   {
    "duration": 22,
    "start_time": "2022-10-31T17:29:11.046Z"
   },
   {
    "duration": 75,
    "start_time": "2022-10-31T17:29:11.070Z"
   },
   {
    "duration": 13,
    "start_time": "2022-10-31T17:29:11.147Z"
   },
   {
    "duration": 23,
    "start_time": "2022-10-31T17:29:11.162Z"
   },
   {
    "duration": 36,
    "start_time": "2022-10-31T17:29:11.186Z"
   },
   {
    "duration": 27,
    "start_time": "2022-10-31T17:29:11.223Z"
   },
   {
    "duration": 71,
    "start_time": "2022-10-31T17:29:11.251Z"
   },
   {
    "duration": 20,
    "start_time": "2022-10-31T17:29:11.324Z"
   },
   {
    "duration": 14066,
    "start_time": "2022-10-31T17:29:11.345Z"
   },
   {
    "duration": 133,
    "start_time": "2022-10-31T17:29:25.413Z"
   },
   {
    "duration": 14,
    "start_time": "2022-10-31T17:29:25.548Z"
   },
   {
    "duration": 23,
    "start_time": "2022-10-31T17:29:25.563Z"
   },
   {
    "duration": 187,
    "start_time": "2022-10-31T17:29:25.587Z"
   },
   {
    "duration": 160,
    "start_time": "2022-10-31T17:29:25.775Z"
   },
   {
    "duration": 213,
    "start_time": "2022-10-31T17:29:25.936Z"
   },
   {
    "duration": 2,
    "start_time": "2022-10-31T17:42:41.480Z"
   },
   {
    "duration": 3,
    "start_time": "2022-10-31T17:42:50.537Z"
   },
   {
    "duration": 37,
    "start_time": "2022-10-31T17:51:23.715Z"
   },
   {
    "duration": 33,
    "start_time": "2022-10-31T18:01:16.399Z"
   },
   {
    "duration": 28,
    "start_time": "2022-10-31T18:02:06.893Z"
   },
   {
    "duration": 24,
    "start_time": "2022-10-31T18:02:35.759Z"
   },
   {
    "duration": 13909,
    "start_time": "2022-10-31T18:34:34.663Z"
   },
   {
    "duration": 84,
    "start_time": "2022-10-31T18:34:56.430Z"
   },
   {
    "duration": 3,
    "start_time": "2022-10-31T18:35:21.886Z"
   },
   {
    "duration": 5,
    "start_time": "2022-10-31T18:35:29.079Z"
   },
   {
    "duration": 13682,
    "start_time": "2022-10-31T18:42:11.646Z"
   },
   {
    "duration": 4,
    "start_time": "2022-10-31T18:43:16.213Z"
   },
   {
    "duration": 34,
    "start_time": "2022-10-31T18:47:52.441Z"
   },
   {
    "duration": 121,
    "start_time": "2022-10-31T18:48:01.639Z"
   },
   {
    "duration": 1133,
    "start_time": "2022-10-31T18:49:12.803Z"
   },
   {
    "duration": 392,
    "start_time": "2022-10-31T18:49:13.938Z"
   },
   {
    "duration": 15,
    "start_time": "2022-10-31T18:49:14.332Z"
   },
   {
    "duration": 57,
    "start_time": "2022-10-31T18:49:14.350Z"
   },
   {
    "duration": 78,
    "start_time": "2022-10-31T18:49:14.409Z"
   },
   {
    "duration": 3,
    "start_time": "2022-10-31T18:49:14.489Z"
   },
   {
    "duration": 32,
    "start_time": "2022-10-31T18:49:14.494Z"
   },
   {
    "duration": 13,
    "start_time": "2022-10-31T18:49:14.527Z"
   },
   {
    "duration": 2,
    "start_time": "2022-10-31T18:49:14.541Z"
   },
   {
    "duration": 26,
    "start_time": "2022-10-31T18:49:14.545Z"
   },
   {
    "duration": 71,
    "start_time": "2022-10-31T18:49:14.573Z"
   },
   {
    "duration": 13,
    "start_time": "2022-10-31T18:49:14.645Z"
   },
   {
    "duration": 26,
    "start_time": "2022-10-31T18:49:14.659Z"
   },
   {
    "duration": 15,
    "start_time": "2022-10-31T18:49:14.686Z"
   },
   {
    "duration": 41,
    "start_time": "2022-10-31T18:49:14.702Z"
   },
   {
    "duration": 33,
    "start_time": "2022-10-31T18:49:14.745Z"
   },
   {
    "duration": 43,
    "start_time": "2022-10-31T18:49:14.779Z"
   },
   {
    "duration": 13536,
    "start_time": "2022-10-31T18:49:14.824Z"
   },
   {
    "duration": 141,
    "start_time": "2022-10-31T18:49:28.362Z"
   },
   {
    "duration": 19,
    "start_time": "2022-10-31T18:49:28.504Z"
   },
   {
    "duration": 23,
    "start_time": "2022-10-31T18:49:28.524Z"
   },
   {
    "duration": 170,
    "start_time": "2022-10-31T18:49:28.548Z"
   },
   {
    "duration": 155,
    "start_time": "2022-10-31T18:49:28.721Z"
   },
   {
    "duration": 171,
    "start_time": "2022-10-31T18:49:28.878Z"
   },
   {
    "duration": 15,
    "start_time": "2022-10-31T18:50:23.475Z"
   },
   {
    "duration": 31,
    "start_time": "2022-10-31T18:52:21.539Z"
   },
   {
    "duration": 94,
    "start_time": "2022-10-31T18:52:37.615Z"
   },
   {
    "duration": 125,
    "start_time": "2022-10-31T18:53:52.463Z"
   },
   {
    "duration": 13,
    "start_time": "2022-10-31T18:53:58.663Z"
   },
   {
    "duration": 6,
    "start_time": "2022-10-31T18:54:02.327Z"
   },
   {
    "duration": 24,
    "start_time": "2022-10-31T18:54:03.718Z"
   },
   {
    "duration": 31,
    "start_time": "2022-10-31T18:55:10.606Z"
   },
   {
    "duration": 13,
    "start_time": "2022-10-31T18:55:48.469Z"
   },
   {
    "duration": 11,
    "start_time": "2022-10-31T18:56:45.168Z"
   },
   {
    "duration": 6,
    "start_time": "2022-10-31T18:57:15.710Z"
   },
   {
    "duration": 21,
    "start_time": "2022-10-31T18:57:20.560Z"
   },
   {
    "duration": 1055,
    "start_time": "2022-10-31T18:57:39.662Z"
   },
   {
    "duration": 15,
    "start_time": "2022-10-31T18:57:49.163Z"
   },
   {
    "duration": 119,
    "start_time": "2022-10-31T18:58:15.030Z"
   },
   {
    "duration": 14,
    "start_time": "2022-10-31T18:58:21.574Z"
   },
   {
    "duration": 17,
    "start_time": "2022-10-31T18:59:15.051Z"
   },
   {
    "duration": 24,
    "start_time": "2022-10-31T18:59:22.325Z"
   },
   {
    "duration": 32,
    "start_time": "2022-10-31T19:00:03.927Z"
   },
   {
    "duration": 29,
    "start_time": "2022-10-31T19:00:11.194Z"
   },
   {
    "duration": 15,
    "start_time": "2022-10-31T19:00:54.782Z"
   },
   {
    "duration": 18,
    "start_time": "2022-10-31T19:00:59.223Z"
   },
   {
    "duration": 25,
    "start_time": "2022-10-31T19:01:06.799Z"
   },
   {
    "duration": 13,
    "start_time": "2022-10-31T19:02:10.734Z"
   },
   {
    "duration": 25,
    "start_time": "2022-10-31T19:02:55.695Z"
   },
   {
    "duration": 25,
    "start_time": "2022-10-31T19:03:22.405Z"
   },
   {
    "duration": 26,
    "start_time": "2022-10-31T19:03:31.240Z"
   },
   {
    "duration": 26,
    "start_time": "2022-10-31T19:10:11.183Z"
   },
   {
    "duration": 151,
    "start_time": "2022-10-31T19:10:28.776Z"
   },
   {
    "duration": 171,
    "start_time": "2022-10-31T19:10:41.625Z"
   },
   {
    "duration": 156,
    "start_time": "2022-10-31T19:11:41.170Z"
   },
   {
    "duration": 149,
    "start_time": "2022-10-31T19:11:58.173Z"
   },
   {
    "duration": 162,
    "start_time": "2022-10-31T19:12:14.840Z"
   },
   {
    "duration": 238,
    "start_time": "2022-10-31T19:12:20.136Z"
   },
   {
    "duration": 171,
    "start_time": "2022-10-31T19:12:24.215Z"
   },
   {
    "duration": 153,
    "start_time": "2022-10-31T19:13:10.825Z"
   },
   {
    "duration": 165,
    "start_time": "2022-10-31T19:13:14.271Z"
   },
   {
    "duration": 205,
    "start_time": "2022-10-31T19:13:31.994Z"
   },
   {
    "duration": 9,
    "start_time": "2022-10-31T19:37:19.160Z"
   },
   {
    "duration": 25,
    "start_time": "2022-10-31T19:38:01.989Z"
   },
   {
    "duration": 1059,
    "start_time": "2022-10-31T19:38:48.049Z"
   },
   {
    "duration": 382,
    "start_time": "2022-10-31T19:38:49.110Z"
   },
   {
    "duration": 15,
    "start_time": "2022-10-31T19:38:49.494Z"
   },
   {
    "duration": 59,
    "start_time": "2022-10-31T19:38:49.511Z"
   },
   {
    "duration": 67,
    "start_time": "2022-10-31T19:38:49.572Z"
   },
   {
    "duration": 4,
    "start_time": "2022-10-31T19:38:49.640Z"
   },
   {
    "duration": 19,
    "start_time": "2022-10-31T19:38:49.645Z"
   },
   {
    "duration": 11,
    "start_time": "2022-10-31T19:38:49.666Z"
   },
   {
    "duration": 4,
    "start_time": "2022-10-31T19:38:49.678Z"
   },
   {
    "duration": 22,
    "start_time": "2022-10-31T19:38:49.684Z"
   },
   {
    "duration": 65,
    "start_time": "2022-10-31T19:38:49.708Z"
   },
   {
    "duration": 12,
    "start_time": "2022-10-31T19:38:49.775Z"
   },
   {
    "duration": 36,
    "start_time": "2022-10-31T19:38:49.789Z"
   },
   {
    "duration": 15,
    "start_time": "2022-10-31T19:38:49.826Z"
   },
   {
    "duration": 27,
    "start_time": "2022-10-31T19:38:49.843Z"
   },
   {
    "duration": 53,
    "start_time": "2022-10-31T19:38:49.872Z"
   },
   {
    "duration": 31,
    "start_time": "2022-10-31T19:38:49.927Z"
   },
   {
    "duration": 13446,
    "start_time": "2022-10-31T19:38:49.959Z"
   },
   {
    "duration": 4,
    "start_time": "2022-10-31T19:39:03.407Z"
   },
   {
    "duration": 49,
    "start_time": "2022-10-31T19:39:03.422Z"
   },
   {
    "duration": 13,
    "start_time": "2022-10-31T19:39:03.473Z"
   },
   {
    "duration": 38,
    "start_time": "2022-10-31T19:39:03.487Z"
   },
   {
    "duration": 168,
    "start_time": "2022-10-31T19:39:03.526Z"
   },
   {
    "duration": 163,
    "start_time": "2022-10-31T19:39:03.695Z"
   },
   {
    "duration": 166,
    "start_time": "2022-10-31T19:39:03.860Z"
   },
   {
    "duration": 25,
    "start_time": "2022-10-31T19:39:04.028Z"
   },
   {
    "duration": 5,
    "start_time": "2022-10-31T19:39:45.660Z"
   },
   {
    "duration": 3,
    "start_time": "2022-10-31T19:39:59.381Z"
   },
   {
    "duration": 5,
    "start_time": "2022-10-31T19:40:34.098Z"
   },
   {
    "duration": 5,
    "start_time": "2022-10-31T19:40:50.070Z"
   },
   {
    "duration": 5,
    "start_time": "2022-10-31T19:40:56.874Z"
   },
   {
    "duration": 16,
    "start_time": "2022-10-31T19:42:07.177Z"
   },
   {
    "duration": 31,
    "start_time": "2022-10-31T19:43:13.067Z"
   },
   {
    "duration": 16,
    "start_time": "2022-10-31T19:43:22.379Z"
   },
   {
    "duration": 1090,
    "start_time": "2022-10-31T19:43:29.408Z"
   },
   {
    "duration": 415,
    "start_time": "2022-10-31T19:43:30.500Z"
   },
   {
    "duration": 14,
    "start_time": "2022-10-31T19:43:30.917Z"
   },
   {
    "duration": 61,
    "start_time": "2022-10-31T19:43:30.932Z"
   },
   {
    "duration": 91,
    "start_time": "2022-10-31T19:43:30.995Z"
   },
   {
    "duration": 4,
    "start_time": "2022-10-31T19:43:31.089Z"
   },
   {
    "duration": 28,
    "start_time": "2022-10-31T19:43:31.095Z"
   },
   {
    "duration": 15,
    "start_time": "2022-10-31T19:43:31.124Z"
   },
   {
    "duration": 6,
    "start_time": "2022-10-31T19:43:31.141Z"
   },
   {
    "duration": 36,
    "start_time": "2022-10-31T19:43:31.148Z"
   },
   {
    "duration": 66,
    "start_time": "2022-10-31T19:43:31.186Z"
   },
   {
    "duration": 14,
    "start_time": "2022-10-31T19:43:31.253Z"
   },
   {
    "duration": 24,
    "start_time": "2022-10-31T19:43:31.268Z"
   },
   {
    "duration": 38,
    "start_time": "2022-10-31T19:43:31.294Z"
   },
   {
    "duration": 30,
    "start_time": "2022-10-31T19:43:31.333Z"
   },
   {
    "duration": 59,
    "start_time": "2022-10-31T19:43:31.365Z"
   },
   {
    "duration": 30,
    "start_time": "2022-10-31T19:43:31.426Z"
   },
   {
    "duration": 13831,
    "start_time": "2022-10-31T19:43:31.457Z"
   },
   {
    "duration": 42,
    "start_time": "2022-10-31T19:43:45.290Z"
   },
   {
    "duration": 15,
    "start_time": "2022-10-31T19:43:45.334Z"
   },
   {
    "duration": 25,
    "start_time": "2022-10-31T19:43:45.351Z"
   },
   {
    "duration": 180,
    "start_time": "2022-10-31T19:43:45.377Z"
   },
   {
    "duration": 169,
    "start_time": "2022-10-31T19:43:45.559Z"
   },
   {
    "duration": 176,
    "start_time": "2022-10-31T19:43:45.730Z"
   },
   {
    "duration": 28,
    "start_time": "2022-10-31T19:43:45.908Z"
   },
   {
    "duration": 5,
    "start_time": "2022-10-31T19:44:01.768Z"
   },
   {
    "duration": 35,
    "start_time": "2022-10-31T19:44:39.861Z"
   },
   {
    "duration": 1025,
    "start_time": "2022-10-31T19:44:44.059Z"
   },
   {
    "duration": 362,
    "start_time": "2022-10-31T19:44:45.085Z"
   },
   {
    "duration": 14,
    "start_time": "2022-10-31T19:44:45.449Z"
   },
   {
    "duration": 56,
    "start_time": "2022-10-31T19:44:45.464Z"
   },
   {
    "duration": 67,
    "start_time": "2022-10-31T19:44:45.522Z"
   },
   {
    "duration": 3,
    "start_time": "2022-10-31T19:44:45.591Z"
   },
   {
    "duration": 20,
    "start_time": "2022-10-31T19:44:45.595Z"
   },
   {
    "duration": 11,
    "start_time": "2022-10-31T19:44:45.622Z"
   },
   {
    "duration": 2,
    "start_time": "2022-10-31T19:44:45.634Z"
   },
   {
    "duration": 25,
    "start_time": "2022-10-31T19:44:45.637Z"
   },
   {
    "duration": 64,
    "start_time": "2022-10-31T19:44:45.663Z"
   },
   {
    "duration": 12,
    "start_time": "2022-10-31T19:44:45.729Z"
   },
   {
    "duration": 21,
    "start_time": "2022-10-31T19:44:45.742Z"
   },
   {
    "duration": 15,
    "start_time": "2022-10-31T19:44:45.765Z"
   },
   {
    "duration": 49,
    "start_time": "2022-10-31T19:44:45.781Z"
   },
   {
    "duration": 35,
    "start_time": "2022-10-31T19:44:45.832Z"
   },
   {
    "duration": 34,
    "start_time": "2022-10-31T19:44:45.868Z"
   },
   {
    "duration": 13753,
    "start_time": "2022-10-31T19:44:45.903Z"
   },
   {
    "duration": 44,
    "start_time": "2022-10-31T19:44:59.658Z"
   },
   {
    "duration": 31,
    "start_time": "2022-10-31T19:44:59.703Z"
   },
   {
    "duration": 24,
    "start_time": "2022-10-31T19:44:59.735Z"
   },
   {
    "duration": 189,
    "start_time": "2022-10-31T19:44:59.760Z"
   },
   {
    "duration": 181,
    "start_time": "2022-10-31T19:44:59.951Z"
   },
   {
    "duration": 183,
    "start_time": "2022-10-31T19:45:00.134Z"
   },
   {
    "duration": 23,
    "start_time": "2022-10-31T19:45:00.321Z"
   },
   {
    "duration": 1171,
    "start_time": "2022-10-31T19:45:20.583Z"
   },
   {
    "duration": 1364,
    "start_time": "2022-10-31T19:45:42.171Z"
   },
   {
    "duration": 9,
    "start_time": "2022-10-31T19:47:09.706Z"
   },
   {
    "duration": 10,
    "start_time": "2022-10-31T19:47:17.247Z"
   },
   {
    "duration": 11,
    "start_time": "2022-10-31T19:47:37.653Z"
   },
   {
    "duration": 9,
    "start_time": "2022-10-31T19:48:02.469Z"
   },
   {
    "duration": 10,
    "start_time": "2022-10-31T19:49:22.621Z"
   },
   {
    "duration": 10,
    "start_time": "2022-10-31T19:50:11.636Z"
   },
   {
    "duration": 1075,
    "start_time": "2022-10-31T19:50:36.325Z"
   },
   {
    "duration": 363,
    "start_time": "2022-10-31T19:50:37.402Z"
   },
   {
    "duration": 15,
    "start_time": "2022-10-31T19:50:37.767Z"
   },
   {
    "duration": 69,
    "start_time": "2022-10-31T19:50:37.784Z"
   },
   {
    "duration": 74,
    "start_time": "2022-10-31T19:50:37.855Z"
   },
   {
    "duration": 4,
    "start_time": "2022-10-31T19:50:37.930Z"
   },
   {
    "duration": 17,
    "start_time": "2022-10-31T19:50:37.935Z"
   },
   {
    "duration": 12,
    "start_time": "2022-10-31T19:50:37.954Z"
   },
   {
    "duration": 2,
    "start_time": "2022-10-31T19:50:37.968Z"
   },
   {
    "duration": 29,
    "start_time": "2022-10-31T19:50:37.973Z"
   },
   {
    "duration": 72,
    "start_time": "2022-10-31T19:50:38.004Z"
   },
   {
    "duration": 13,
    "start_time": "2022-10-31T19:50:38.078Z"
   },
   {
    "duration": 41,
    "start_time": "2022-10-31T19:50:38.093Z"
   },
   {
    "duration": 15,
    "start_time": "2022-10-31T19:50:38.136Z"
   },
   {
    "duration": 28,
    "start_time": "2022-10-31T19:50:38.153Z"
   },
   {
    "duration": 59,
    "start_time": "2022-10-31T19:50:38.183Z"
   },
   {
    "duration": 29,
    "start_time": "2022-10-31T19:50:38.244Z"
   },
   {
    "duration": 13182,
    "start_time": "2022-10-31T19:50:38.274Z"
   },
   {
    "duration": 43,
    "start_time": "2022-10-31T19:50:51.458Z"
   },
   {
    "duration": 29,
    "start_time": "2022-10-31T19:50:51.502Z"
   },
   {
    "duration": 23,
    "start_time": "2022-10-31T19:50:51.532Z"
   },
   {
    "duration": 178,
    "start_time": "2022-10-31T19:50:51.557Z"
   },
   {
    "duration": 160,
    "start_time": "2022-10-31T19:50:51.737Z"
   },
   {
    "duration": 196,
    "start_time": "2022-10-31T19:50:51.899Z"
   },
   {
    "duration": 102,
    "start_time": "2022-10-31T19:50:52.097Z"
   },
   {
    "duration": 1102,
    "start_time": "2022-10-31T19:52:31.946Z"
   },
   {
    "duration": 412,
    "start_time": "2022-10-31T19:52:33.050Z"
   },
   {
    "duration": 17,
    "start_time": "2022-10-31T19:52:33.464Z"
   },
   {
    "duration": 64,
    "start_time": "2022-10-31T19:52:33.483Z"
   },
   {
    "duration": 73,
    "start_time": "2022-10-31T19:52:33.549Z"
   },
   {
    "duration": 4,
    "start_time": "2022-10-31T19:52:33.624Z"
   },
   {
    "duration": 17,
    "start_time": "2022-10-31T19:52:33.629Z"
   },
   {
    "duration": 12,
    "start_time": "2022-10-31T19:52:33.648Z"
   },
   {
    "duration": 3,
    "start_time": "2022-10-31T19:52:33.661Z"
   },
   {
    "duration": 26,
    "start_time": "2022-10-31T19:52:33.666Z"
   },
   {
    "duration": 82,
    "start_time": "2022-10-31T19:52:33.694Z"
   },
   {
    "duration": 14,
    "start_time": "2022-10-31T19:52:33.777Z"
   },
   {
    "duration": 35,
    "start_time": "2022-10-31T19:52:33.793Z"
   },
   {
    "duration": 16,
    "start_time": "2022-10-31T19:52:33.830Z"
   },
   {
    "duration": 28,
    "start_time": "2022-10-31T19:52:33.848Z"
   },
   {
    "duration": 59,
    "start_time": "2022-10-31T19:52:33.878Z"
   },
   {
    "duration": 31,
    "start_time": "2022-10-31T19:52:33.938Z"
   },
   {
    "duration": 13518,
    "start_time": "2022-10-31T19:52:33.971Z"
   },
   {
    "duration": 47,
    "start_time": "2022-10-31T19:52:47.491Z"
   },
   {
    "duration": 15,
    "start_time": "2022-10-31T19:52:47.539Z"
   },
   {
    "duration": 24,
    "start_time": "2022-10-31T19:52:47.555Z"
   },
   {
    "duration": 193,
    "start_time": "2022-10-31T19:52:47.580Z"
   },
   {
    "duration": 175,
    "start_time": "2022-10-31T19:52:47.774Z"
   },
   {
    "duration": 178,
    "start_time": "2022-10-31T19:52:47.950Z"
   },
   {
    "duration": 94,
    "start_time": "2022-10-31T19:52:48.129Z"
   },
   {
    "duration": 9,
    "start_time": "2022-10-31T19:56:03.026Z"
   },
   {
    "duration": 36,
    "start_time": "2022-10-31T19:56:13.116Z"
   },
   {
    "duration": 5,
    "start_time": "2022-10-31T19:56:27.106Z"
   },
   {
    "duration": 6,
    "start_time": "2022-10-31T19:56:33.844Z"
   },
   {
    "duration": 1104,
    "start_time": "2022-10-31T19:56:40.968Z"
   },
   {
    "duration": 1100,
    "start_time": "2022-10-31T19:59:13.387Z"
   },
   {
    "duration": 26,
    "start_time": "2022-10-31T19:59:33.004Z"
   },
   {
    "duration": 43,
    "start_time": "2022-10-31T20:00:02.523Z"
   },
   {
    "duration": 6,
    "start_time": "2022-10-31T20:00:05.359Z"
   },
   {
    "duration": 30,
    "start_time": "2022-10-31T20:00:41.933Z"
   },
   {
    "duration": 16,
    "start_time": "2022-10-31T20:00:52.413Z"
   },
   {
    "duration": 5,
    "start_time": "2022-10-31T20:01:03.831Z"
   },
   {
    "duration": 5,
    "start_time": "2022-10-31T20:01:08.579Z"
   },
   {
    "duration": 36,
    "start_time": "2022-10-31T20:01:16.459Z"
   },
   {
    "duration": 33,
    "start_time": "2022-10-31T20:01:19.091Z"
   },
   {
    "duration": 1120,
    "start_time": "2022-10-31T20:02:10.498Z"
   },
   {
    "duration": 376,
    "start_time": "2022-10-31T20:02:11.620Z"
   },
   {
    "duration": 18,
    "start_time": "2022-10-31T20:02:11.998Z"
   },
   {
    "duration": 57,
    "start_time": "2022-10-31T20:02:12.017Z"
   },
   {
    "duration": 80,
    "start_time": "2022-10-31T20:02:12.077Z"
   },
   {
    "duration": 3,
    "start_time": "2022-10-31T20:02:12.159Z"
   },
   {
    "duration": 27,
    "start_time": "2022-10-31T20:02:12.164Z"
   },
   {
    "duration": 13,
    "start_time": "2022-10-31T20:02:12.192Z"
   },
   {
    "duration": 2,
    "start_time": "2022-10-31T20:02:12.207Z"
   },
   {
    "duration": 32,
    "start_time": "2022-10-31T20:02:12.210Z"
   },
   {
    "duration": 58,
    "start_time": "2022-10-31T20:02:12.244Z"
   },
   {
    "duration": 24,
    "start_time": "2022-10-31T20:02:12.303Z"
   },
   {
    "duration": 23,
    "start_time": "2022-10-31T20:02:12.329Z"
   },
   {
    "duration": 15,
    "start_time": "2022-10-31T20:02:12.355Z"
   },
   {
    "duration": 26,
    "start_time": "2022-10-31T20:02:12.372Z"
   },
   {
    "duration": 58,
    "start_time": "2022-10-31T20:02:12.399Z"
   },
   {
    "duration": 30,
    "start_time": "2022-10-31T20:02:12.458Z"
   },
   {
    "duration": 13264,
    "start_time": "2022-10-31T20:02:12.490Z"
   },
   {
    "duration": 41,
    "start_time": "2022-10-31T20:02:25.756Z"
   },
   {
    "duration": 35,
    "start_time": "2022-10-31T20:02:25.799Z"
   },
   {
    "duration": 25,
    "start_time": "2022-10-31T20:02:25.836Z"
   },
   {
    "duration": 201,
    "start_time": "2022-10-31T20:02:25.862Z"
   },
   {
    "duration": 239,
    "start_time": "2022-10-31T20:02:26.066Z"
   },
   {
    "duration": 178,
    "start_time": "2022-10-31T20:02:26.307Z"
   },
   {
    "duration": 40,
    "start_time": "2022-10-31T20:02:26.486Z"
   },
   {
    "duration": 5,
    "start_time": "2022-10-31T20:02:26.528Z"
   },
   {
    "duration": 84,
    "start_time": "2022-10-31T20:07:45.194Z"
   },
   {
    "duration": 38,
    "start_time": "2022-10-31T20:07:59.118Z"
   },
   {
    "duration": 36,
    "start_time": "2022-10-31T20:08:09.435Z"
   },
   {
    "duration": 25,
    "start_time": "2022-10-31T20:13:19.885Z"
   },
   {
    "duration": 1087,
    "start_time": "2022-10-31T20:13:28.697Z"
   },
   {
    "duration": 367,
    "start_time": "2022-10-31T20:13:29.786Z"
   },
   {
    "duration": 15,
    "start_time": "2022-10-31T20:13:30.155Z"
   },
   {
    "duration": 80,
    "start_time": "2022-10-31T20:13:30.171Z"
   },
   {
    "duration": 73,
    "start_time": "2022-10-31T20:13:30.253Z"
   },
   {
    "duration": 10,
    "start_time": "2022-10-31T20:13:30.328Z"
   },
   {
    "duration": 55,
    "start_time": "2022-10-31T20:13:30.339Z"
   },
   {
    "duration": 61,
    "start_time": "2022-10-31T20:13:30.395Z"
   },
   {
    "duration": 34,
    "start_time": "2022-10-31T20:13:30.457Z"
   },
   {
    "duration": 71,
    "start_time": "2022-10-31T20:13:30.492Z"
   },
   {
    "duration": 84,
    "start_time": "2022-10-31T20:13:30.565Z"
   },
   {
    "duration": 13,
    "start_time": "2022-10-31T20:13:30.650Z"
   },
   {
    "duration": 64,
    "start_time": "2022-10-31T20:13:30.664Z"
   },
   {
    "duration": 49,
    "start_time": "2022-10-31T20:13:30.730Z"
   },
   {
    "duration": 53,
    "start_time": "2022-10-31T20:13:30.781Z"
   },
   {
    "duration": 65,
    "start_time": "2022-10-31T20:13:30.835Z"
   },
   {
    "duration": 30,
    "start_time": "2022-10-31T20:13:30.902Z"
   },
   {
    "duration": 13808,
    "start_time": "2022-10-31T20:13:30.933Z"
   },
   {
    "duration": 40,
    "start_time": "2022-10-31T20:13:44.742Z"
   },
   {
    "duration": 15,
    "start_time": "2022-10-31T20:13:44.783Z"
   },
   {
    "duration": 41,
    "start_time": "2022-10-31T20:13:44.799Z"
   },
   {
    "duration": 191,
    "start_time": "2022-10-31T20:13:44.841Z"
   },
   {
    "duration": 164,
    "start_time": "2022-10-31T20:13:45.034Z"
   },
   {
    "duration": 178,
    "start_time": "2022-10-31T20:13:45.199Z"
   },
   {
    "duration": 28,
    "start_time": "2022-10-31T20:13:45.378Z"
   },
   {
    "duration": 105,
    "start_time": "2022-10-31T20:13:45.408Z"
   },
   {
    "duration": 42,
    "start_time": "2022-10-31T20:15:59.263Z"
   },
   {
    "duration": 37,
    "start_time": "2022-10-31T20:17:52.663Z"
   },
   {
    "duration": 1079,
    "start_time": "2022-10-31T20:19:54.498Z"
   },
   {
    "duration": 363,
    "start_time": "2022-10-31T20:19:55.578Z"
   },
   {
    "duration": 18,
    "start_time": "2022-10-31T20:19:55.943Z"
   },
   {
    "duration": 73,
    "start_time": "2022-10-31T20:19:55.963Z"
   },
   {
    "duration": 88,
    "start_time": "2022-10-31T20:19:56.037Z"
   },
   {
    "duration": 5,
    "start_time": "2022-10-31T20:19:56.127Z"
   },
   {
    "duration": 29,
    "start_time": "2022-10-31T20:19:56.134Z"
   },
   {
    "duration": 14,
    "start_time": "2022-10-31T20:19:56.165Z"
   },
   {
    "duration": 13,
    "start_time": "2022-10-31T20:19:56.181Z"
   },
   {
    "duration": 46,
    "start_time": "2022-10-31T20:19:56.197Z"
   },
   {
    "duration": 57,
    "start_time": "2022-10-31T20:19:56.245Z"
   },
   {
    "duration": 25,
    "start_time": "2022-10-31T20:19:56.304Z"
   },
   {
    "duration": 24,
    "start_time": "2022-10-31T20:19:56.330Z"
   },
   {
    "duration": 16,
    "start_time": "2022-10-31T20:19:56.355Z"
   },
   {
    "duration": 27,
    "start_time": "2022-10-31T20:19:56.372Z"
   },
   {
    "duration": 39,
    "start_time": "2022-10-31T20:19:56.421Z"
   },
   {
    "duration": 35,
    "start_time": "2022-10-31T20:19:56.461Z"
   },
   {
    "duration": 13577,
    "start_time": "2022-10-31T20:19:56.497Z"
   },
   {
    "duration": 47,
    "start_time": "2022-10-31T20:20:10.075Z"
   },
   {
    "duration": 16,
    "start_time": "2022-10-31T20:20:10.124Z"
   },
   {
    "duration": 23,
    "start_time": "2022-10-31T20:20:10.141Z"
   },
   {
    "duration": 179,
    "start_time": "2022-10-31T20:20:10.165Z"
   },
   {
    "duration": 166,
    "start_time": "2022-10-31T20:20:10.346Z"
   },
   {
    "duration": 188,
    "start_time": "2022-10-31T20:20:10.514Z"
   },
   {
    "duration": 42,
    "start_time": "2022-10-31T20:20:10.703Z"
   },
   {
    "duration": 25,
    "start_time": "2022-10-31T20:20:10.746Z"
   },
   {
    "duration": 1101,
    "start_time": "2022-10-31T20:21:13.311Z"
   },
   {
    "duration": 374,
    "start_time": "2022-10-31T20:21:14.413Z"
   },
   {
    "duration": 16,
    "start_time": "2022-10-31T20:21:14.789Z"
   },
   {
    "duration": 62,
    "start_time": "2022-10-31T20:21:14.807Z"
   },
   {
    "duration": 76,
    "start_time": "2022-10-31T20:21:14.870Z"
   },
   {
    "duration": 5,
    "start_time": "2022-10-31T20:21:14.948Z"
   },
   {
    "duration": 29,
    "start_time": "2022-10-31T20:21:14.955Z"
   },
   {
    "duration": 13,
    "start_time": "2022-10-31T20:21:14.986Z"
   },
   {
    "duration": 11,
    "start_time": "2022-10-31T20:21:15.001Z"
   },
   {
    "duration": 48,
    "start_time": "2022-10-31T20:21:15.015Z"
   },
   {
    "duration": 57,
    "start_time": "2022-10-31T20:21:15.065Z"
   },
   {
    "duration": 13,
    "start_time": "2022-10-31T20:21:15.123Z"
   },
   {
    "duration": 22,
    "start_time": "2022-10-31T20:21:15.137Z"
   },
   {
    "duration": 23,
    "start_time": "2022-10-31T20:21:15.160Z"
   },
   {
    "duration": 37,
    "start_time": "2022-10-31T20:21:15.185Z"
   },
   {
    "duration": 35,
    "start_time": "2022-10-31T20:21:15.224Z"
   },
   {
    "duration": 31,
    "start_time": "2022-10-31T20:21:15.260Z"
   },
   {
    "duration": 13708,
    "start_time": "2022-10-31T20:21:15.292Z"
   },
   {
    "duration": 47,
    "start_time": "2022-10-31T20:21:29.002Z"
   },
   {
    "duration": 15,
    "start_time": "2022-10-31T20:21:29.050Z"
   },
   {
    "duration": 23,
    "start_time": "2022-10-31T20:21:29.066Z"
   },
   {
    "duration": 186,
    "start_time": "2022-10-31T20:21:29.091Z"
   },
   {
    "duration": 176,
    "start_time": "2022-10-31T20:21:29.279Z"
   },
   {
    "duration": 170,
    "start_time": "2022-10-31T20:21:29.456Z"
   },
   {
    "duration": 32,
    "start_time": "2022-10-31T20:21:29.628Z"
   },
   {
    "duration": 124,
    "start_time": "2022-10-31T20:21:29.661Z"
   },
   {
    "duration": 16,
    "start_time": "2022-10-31T20:22:13.965Z"
   },
   {
    "duration": 20,
    "start_time": "2022-10-31T20:22:47.341Z"
   },
   {
    "duration": 49,
    "start_time": "2022-10-31T20:23:21.909Z"
   },
   {
    "duration": 35,
    "start_time": "2022-10-31T20:23:24.397Z"
   },
   {
    "duration": 39,
    "start_time": "2022-10-31T20:23:41.901Z"
   },
   {
    "duration": 13,
    "start_time": "2022-10-31T20:24:02.493Z"
   },
   {
    "duration": 1060,
    "start_time": "2022-10-31T20:24:13.049Z"
   },
   {
    "duration": 386,
    "start_time": "2022-10-31T20:24:14.111Z"
   },
   {
    "duration": 19,
    "start_time": "2022-10-31T20:24:14.499Z"
   },
   {
    "duration": 58,
    "start_time": "2022-10-31T20:24:14.520Z"
   },
   {
    "duration": 92,
    "start_time": "2022-10-31T20:24:14.579Z"
   },
   {
    "duration": 5,
    "start_time": "2022-10-31T20:24:14.673Z"
   },
   {
    "duration": 24,
    "start_time": "2022-10-31T20:24:14.680Z"
   },
   {
    "duration": 27,
    "start_time": "2022-10-31T20:24:14.705Z"
   },
   {
    "duration": 2,
    "start_time": "2022-10-31T20:24:14.734Z"
   },
   {
    "duration": 27,
    "start_time": "2022-10-31T20:24:14.740Z"
   },
   {
    "duration": 71,
    "start_time": "2022-10-31T20:24:14.768Z"
   },
   {
    "duration": 25,
    "start_time": "2022-10-31T20:24:14.840Z"
   },
   {
    "duration": 25,
    "start_time": "2022-10-31T20:24:14.867Z"
   },
   {
    "duration": 15,
    "start_time": "2022-10-31T20:24:14.893Z"
   },
   {
    "duration": 39,
    "start_time": "2022-10-31T20:24:14.909Z"
   },
   {
    "duration": 36,
    "start_time": "2022-10-31T20:24:14.949Z"
   },
   {
    "duration": 48,
    "start_time": "2022-10-31T20:24:14.987Z"
   },
   {
    "duration": 13693,
    "start_time": "2022-10-31T20:24:15.037Z"
   },
   {
    "duration": 45,
    "start_time": "2022-10-31T20:24:28.731Z"
   },
   {
    "duration": 15,
    "start_time": "2022-10-31T20:24:28.778Z"
   },
   {
    "duration": 41,
    "start_time": "2022-10-31T20:24:28.795Z"
   },
   {
    "duration": 168,
    "start_time": "2022-10-31T20:24:28.838Z"
   },
   {
    "duration": 165,
    "start_time": "2022-10-31T20:24:29.007Z"
   },
   {
    "duration": 169,
    "start_time": "2022-10-31T20:24:29.173Z"
   },
   {
    "duration": 34,
    "start_time": "2022-10-31T20:24:29.344Z"
   },
   {
    "duration": 70,
    "start_time": "2022-10-31T20:24:29.380Z"
   },
   {
    "duration": 36,
    "start_time": "2022-10-31T20:24:29.452Z"
   },
   {
    "duration": 23,
    "start_time": "2022-10-31T20:25:38.136Z"
   },
   {
    "duration": 24,
    "start_time": "2022-10-31T20:26:38.033Z"
   },
   {
    "duration": 22,
    "start_time": "2022-10-31T20:26:42.633Z"
   },
   {
    "duration": 1131,
    "start_time": "2022-10-31T20:43:22.904Z"
   },
   {
    "duration": 392,
    "start_time": "2022-10-31T20:43:24.037Z"
   },
   {
    "duration": 16,
    "start_time": "2022-10-31T20:43:24.430Z"
   },
   {
    "duration": 60,
    "start_time": "2022-10-31T20:43:24.448Z"
   },
   {
    "duration": 79,
    "start_time": "2022-10-31T20:43:24.509Z"
   },
   {
    "duration": 4,
    "start_time": "2022-10-31T20:43:24.590Z"
   },
   {
    "duration": 28,
    "start_time": "2022-10-31T20:43:24.595Z"
   },
   {
    "duration": 14,
    "start_time": "2022-10-31T20:43:24.624Z"
   },
   {
    "duration": 3,
    "start_time": "2022-10-31T20:43:24.640Z"
   },
   {
    "duration": 25,
    "start_time": "2022-10-31T20:43:24.645Z"
   },
   {
    "duration": 82,
    "start_time": "2022-10-31T20:43:24.672Z"
   },
   {
    "duration": 13,
    "start_time": "2022-10-31T20:43:24.755Z"
   },
   {
    "duration": 23,
    "start_time": "2022-10-31T20:43:24.770Z"
   },
   {
    "duration": 34,
    "start_time": "2022-10-31T20:43:24.795Z"
   },
   {
    "duration": 27,
    "start_time": "2022-10-31T20:43:24.831Z"
   },
   {
    "duration": 39,
    "start_time": "2022-10-31T20:43:24.860Z"
   },
   {
    "duration": 51,
    "start_time": "2022-10-31T20:43:24.900Z"
   },
   {
    "duration": 14036,
    "start_time": "2022-10-31T20:43:24.953Z"
   },
   {
    "duration": 45,
    "start_time": "2022-10-31T20:43:38.991Z"
   },
   {
    "duration": 15,
    "start_time": "2022-10-31T20:43:39.037Z"
   },
   {
    "duration": 24,
    "start_time": "2022-10-31T20:43:39.053Z"
   },
   {
    "duration": 175,
    "start_time": "2022-10-31T20:43:39.079Z"
   },
   {
    "duration": 179,
    "start_time": "2022-10-31T20:43:39.256Z"
   },
   {
    "duration": 171,
    "start_time": "2022-10-31T20:43:39.437Z"
   },
   {
    "duration": 38,
    "start_time": "2022-10-31T20:43:39.610Z"
   },
   {
    "duration": 41,
    "start_time": "2022-10-31T20:43:39.649Z"
   },
   {
    "duration": 137,
    "start_time": "2022-10-31T20:43:39.692Z"
   },
   {
    "duration": 31,
    "start_time": "2022-10-31T20:44:41.415Z"
   },
   {
    "duration": 28,
    "start_time": "2022-10-31T20:44:49.128Z"
   },
   {
    "duration": 25,
    "start_time": "2022-10-31T20:44:57.043Z"
   },
   {
    "duration": 1119,
    "start_time": "2022-10-31T20:45:16.958Z"
   },
   {
    "duration": 399,
    "start_time": "2022-10-31T20:45:18.079Z"
   },
   {
    "duration": 14,
    "start_time": "2022-10-31T20:45:18.480Z"
   },
   {
    "duration": 57,
    "start_time": "2022-10-31T20:45:18.496Z"
   },
   {
    "duration": 71,
    "start_time": "2022-10-31T20:45:18.555Z"
   },
   {
    "duration": 4,
    "start_time": "2022-10-31T20:45:18.628Z"
   },
   {
    "duration": 42,
    "start_time": "2022-10-31T20:45:18.633Z"
   },
   {
    "duration": 12,
    "start_time": "2022-10-31T20:45:18.676Z"
   },
   {
    "duration": 580,
    "start_time": "2022-10-31T20:45:18.689Z"
   },
   {
    "duration": 109,
    "start_time": "2022-10-31T20:45:19.271Z"
   },
   {
    "duration": 0,
    "start_time": "2022-10-31T20:45:19.382Z"
   },
   {
    "duration": 0,
    "start_time": "2022-10-31T20:45:19.384Z"
   },
   {
    "duration": 0,
    "start_time": "2022-10-31T20:45:19.385Z"
   },
   {
    "duration": 0,
    "start_time": "2022-10-31T20:45:19.387Z"
   },
   {
    "duration": 0,
    "start_time": "2022-10-31T20:45:19.388Z"
   },
   {
    "duration": 0,
    "start_time": "2022-10-31T20:45:19.390Z"
   },
   {
    "duration": 0,
    "start_time": "2022-10-31T20:45:19.391Z"
   },
   {
    "duration": 0,
    "start_time": "2022-10-31T20:45:19.393Z"
   },
   {
    "duration": 0,
    "start_time": "2022-10-31T20:45:19.394Z"
   },
   {
    "duration": 1,
    "start_time": "2022-10-31T20:45:19.421Z"
   },
   {
    "duration": 0,
    "start_time": "2022-10-31T20:45:19.423Z"
   },
   {
    "duration": 0,
    "start_time": "2022-10-31T20:45:19.424Z"
   },
   {
    "duration": 0,
    "start_time": "2022-10-31T20:45:19.425Z"
   },
   {
    "duration": 0,
    "start_time": "2022-10-31T20:45:19.426Z"
   },
   {
    "duration": 0,
    "start_time": "2022-10-31T20:45:19.427Z"
   },
   {
    "duration": 0,
    "start_time": "2022-10-31T20:45:19.428Z"
   },
   {
    "duration": 0,
    "start_time": "2022-10-31T20:45:19.429Z"
   },
   {
    "duration": 1160,
    "start_time": "2022-10-31T20:46:17.995Z"
   },
   {
    "duration": 378,
    "start_time": "2022-10-31T20:46:19.157Z"
   },
   {
    "duration": 15,
    "start_time": "2022-10-31T20:46:19.537Z"
   },
   {
    "duration": 57,
    "start_time": "2022-10-31T20:46:19.554Z"
   },
   {
    "duration": 72,
    "start_time": "2022-10-31T20:46:19.613Z"
   },
   {
    "duration": 4,
    "start_time": "2022-10-31T20:46:19.686Z"
   },
   {
    "duration": 29,
    "start_time": "2022-10-31T20:46:19.692Z"
   },
   {
    "duration": 13,
    "start_time": "2022-10-31T20:46:19.723Z"
   },
   {
    "duration": 3,
    "start_time": "2022-10-31T20:46:19.737Z"
   },
   {
    "duration": 23,
    "start_time": "2022-10-31T20:46:19.742Z"
   },
   {
    "duration": 77,
    "start_time": "2022-10-31T20:46:19.767Z"
   },
   {
    "duration": 13,
    "start_time": "2022-10-31T20:46:19.845Z"
   },
   {
    "duration": 24,
    "start_time": "2022-10-31T20:46:19.859Z"
   },
   {
    "duration": 36,
    "start_time": "2022-10-31T20:46:19.885Z"
   },
   {
    "duration": 28,
    "start_time": "2022-10-31T20:46:19.923Z"
   },
   {
    "duration": 34,
    "start_time": "2022-10-31T20:46:19.953Z"
   },
   {
    "duration": 45,
    "start_time": "2022-10-31T20:46:19.988Z"
   },
   {
    "duration": 13449,
    "start_time": "2022-10-31T20:46:20.035Z"
   },
   {
    "duration": 54,
    "start_time": "2022-10-31T20:46:33.486Z"
   },
   {
    "duration": 16,
    "start_time": "2022-10-31T20:46:33.542Z"
   },
   {
    "duration": 25,
    "start_time": "2022-10-31T20:46:33.559Z"
   },
   {
    "duration": 193,
    "start_time": "2022-10-31T20:46:33.586Z"
   },
   {
    "duration": 196,
    "start_time": "2022-10-31T20:46:33.780Z"
   },
   {
    "duration": 190,
    "start_time": "2022-10-31T20:46:33.977Z"
   },
   {
    "duration": 32,
    "start_time": "2022-10-31T20:46:34.168Z"
   },
   {
    "duration": 56,
    "start_time": "2022-10-31T20:46:34.201Z"
   },
   {
    "duration": 35,
    "start_time": "2022-10-31T20:46:34.259Z"
   },
   {
    "duration": 1140,
    "start_time": "2022-10-31T20:47:52.713Z"
   },
   {
    "duration": 399,
    "start_time": "2022-10-31T20:47:53.855Z"
   },
   {
    "duration": 16,
    "start_time": "2022-10-31T20:47:54.256Z"
   },
   {
    "duration": 61,
    "start_time": "2022-10-31T20:47:54.274Z"
   },
   {
    "duration": 73,
    "start_time": "2022-10-31T20:47:54.337Z"
   },
   {
    "duration": 10,
    "start_time": "2022-10-31T20:47:54.412Z"
   },
   {
    "duration": 21,
    "start_time": "2022-10-31T20:47:54.424Z"
   },
   {
    "duration": 12,
    "start_time": "2022-10-31T20:47:54.447Z"
   },
   {
    "duration": 3,
    "start_time": "2022-10-31T20:47:54.460Z"
   },
   {
    "duration": 36,
    "start_time": "2022-10-31T20:47:54.464Z"
   },
   {
    "duration": 72,
    "start_time": "2022-10-31T20:47:54.502Z"
   },
   {
    "duration": 15,
    "start_time": "2022-10-31T20:47:54.575Z"
   },
   {
    "duration": 39,
    "start_time": "2022-10-31T20:47:54.592Z"
   },
   {
    "duration": 17,
    "start_time": "2022-10-31T20:47:54.634Z"
   },
   {
    "duration": 28,
    "start_time": "2022-10-31T20:47:54.652Z"
   },
   {
    "duration": 55,
    "start_time": "2022-10-31T20:47:54.681Z"
   },
   {
    "duration": 30,
    "start_time": "2022-10-31T20:47:54.738Z"
   },
   {
    "duration": 13255,
    "start_time": "2022-10-31T20:47:54.769Z"
   },
   {
    "duration": 42,
    "start_time": "2022-10-31T20:48:08.026Z"
   },
   {
    "duration": 15,
    "start_time": "2022-10-31T20:48:08.069Z"
   },
   {
    "duration": 43,
    "start_time": "2022-10-31T20:48:08.085Z"
   },
   {
    "duration": 164,
    "start_time": "2022-10-31T20:48:08.130Z"
   },
   {
    "duration": 163,
    "start_time": "2022-10-31T20:48:08.296Z"
   },
   {
    "duration": 173,
    "start_time": "2022-10-31T20:48:08.460Z"
   },
   {
    "duration": 32,
    "start_time": "2022-10-31T20:48:08.634Z"
   },
   {
    "duration": 54,
    "start_time": "2022-10-31T20:48:08.668Z"
   },
   {
    "duration": 34,
    "start_time": "2022-10-31T20:48:08.723Z"
   },
   {
    "duration": 1101,
    "start_time": "2022-10-31T21:08:30.329Z"
   },
   {
    "duration": 1029,
    "start_time": "2022-10-31T21:08:31.432Z"
   },
   {
    "duration": 17,
    "start_time": "2022-10-31T21:08:32.463Z"
   },
   {
    "duration": 70,
    "start_time": "2022-10-31T21:08:32.482Z"
   },
   {
    "duration": 74,
    "start_time": "2022-10-31T21:08:32.554Z"
   },
   {
    "duration": 5,
    "start_time": "2022-10-31T21:08:32.630Z"
   },
   {
    "duration": 63,
    "start_time": "2022-10-31T21:08:32.640Z"
   },
   {
    "duration": 39,
    "start_time": "2022-10-31T21:08:32.705Z"
   },
   {
    "duration": 17,
    "start_time": "2022-10-31T21:08:32.746Z"
   },
   {
    "duration": 47,
    "start_time": "2022-10-31T21:08:32.765Z"
   },
   {
    "duration": 60,
    "start_time": "2022-10-31T21:08:32.813Z"
   },
   {
    "duration": 13,
    "start_time": "2022-10-31T21:08:32.875Z"
   },
   {
    "duration": 32,
    "start_time": "2022-10-31T21:08:32.890Z"
   },
   {
    "duration": 24,
    "start_time": "2022-10-31T21:08:32.926Z"
   },
   {
    "duration": 34,
    "start_time": "2022-10-31T21:08:32.953Z"
   },
   {
    "duration": 65,
    "start_time": "2022-10-31T21:08:32.988Z"
   },
   {
    "duration": 31,
    "start_time": "2022-10-31T21:08:33.054Z"
   },
   {
    "duration": 16387,
    "start_time": "2022-10-31T21:08:33.087Z"
   },
   {
    "duration": 55,
    "start_time": "2022-10-31T21:08:49.475Z"
   },
   {
    "duration": 18,
    "start_time": "2022-10-31T21:08:49.533Z"
   },
   {
    "duration": 25,
    "start_time": "2022-10-31T21:08:49.553Z"
   },
   {
    "duration": 198,
    "start_time": "2022-10-31T21:08:49.580Z"
   },
   {
    "duration": 194,
    "start_time": "2022-10-31T21:08:49.779Z"
   },
   {
    "duration": 208,
    "start_time": "2022-10-31T21:08:49.975Z"
   },
   {
    "duration": 42,
    "start_time": "2022-10-31T21:08:50.185Z"
   },
   {
    "duration": 45,
    "start_time": "2022-10-31T21:08:50.229Z"
   },
   {
    "duration": 61,
    "start_time": "2022-10-31T21:08:50.276Z"
   },
   {
    "duration": 5,
    "start_time": "2022-10-31T22:28:12.354Z"
   },
   {
    "duration": 1143,
    "start_time": "2022-10-31T22:28:21.913Z"
   },
   {
    "duration": 404,
    "start_time": "2022-10-31T22:28:23.058Z"
   },
   {
    "duration": 15,
    "start_time": "2022-10-31T22:28:23.464Z"
   },
   {
    "duration": 61,
    "start_time": "2022-10-31T22:28:23.481Z"
   },
   {
    "duration": 80,
    "start_time": "2022-10-31T22:28:23.544Z"
   },
   {
    "duration": 4,
    "start_time": "2022-10-31T22:28:23.626Z"
   },
   {
    "duration": 33,
    "start_time": "2022-10-31T22:28:23.632Z"
   },
   {
    "duration": 13,
    "start_time": "2022-10-31T22:28:23.667Z"
   },
   {
    "duration": 4,
    "start_time": "2022-10-31T22:28:23.681Z"
   },
   {
    "duration": 29,
    "start_time": "2022-10-31T22:28:23.686Z"
   },
   {
    "duration": 63,
    "start_time": "2022-10-31T22:28:23.720Z"
   },
   {
    "duration": 14,
    "start_time": "2022-10-31T22:28:23.785Z"
   },
   {
    "duration": 44,
    "start_time": "2022-10-31T22:28:23.801Z"
   },
   {
    "duration": 17,
    "start_time": "2022-10-31T22:28:23.848Z"
   },
   {
    "duration": 31,
    "start_time": "2022-10-31T22:28:23.866Z"
   },
   {
    "duration": 58,
    "start_time": "2022-10-31T22:28:23.899Z"
   },
   {
    "duration": 5,
    "start_time": "2022-10-31T22:28:23.958Z"
   },
   {
    "duration": 40,
    "start_time": "2022-10-31T22:28:23.964Z"
   },
   {
    "duration": 13995,
    "start_time": "2022-10-31T22:28:24.006Z"
   },
   {
    "duration": 50,
    "start_time": "2022-10-31T22:28:38.003Z"
   },
   {
    "duration": 15,
    "start_time": "2022-10-31T22:28:38.055Z"
   },
   {
    "duration": 25,
    "start_time": "2022-10-31T22:28:38.072Z"
   },
   {
    "duration": 227,
    "start_time": "2022-10-31T22:28:38.098Z"
   },
   {
    "duration": 209,
    "start_time": "2022-10-31T22:28:38.327Z"
   },
   {
    "duration": 185,
    "start_time": "2022-10-31T22:28:38.538Z"
   },
   {
    "duration": 32,
    "start_time": "2022-10-31T22:28:38.725Z"
   },
   {
    "duration": 42,
    "start_time": "2022-10-31T22:28:38.758Z"
   },
   {
    "duration": 49,
    "start_time": "2022-10-31T22:28:38.802Z"
   },
   {
    "duration": 4,
    "start_time": "2022-10-31T22:34:32.279Z"
   },
   {
    "duration": 1124,
    "start_time": "2022-10-31T22:35:39.141Z"
   },
   {
    "duration": 445,
    "start_time": "2022-10-31T22:35:40.267Z"
   },
   {
    "duration": 18,
    "start_time": "2022-10-31T22:35:40.716Z"
   },
   {
    "duration": 66,
    "start_time": "2022-10-31T22:35:40.736Z"
   },
   {
    "duration": 87,
    "start_time": "2022-10-31T22:35:40.804Z"
   },
   {
    "duration": 5,
    "start_time": "2022-10-31T22:35:40.893Z"
   },
   {
    "duration": 37,
    "start_time": "2022-10-31T22:35:40.900Z"
   },
   {
    "duration": 14,
    "start_time": "2022-10-31T22:35:40.939Z"
   },
   {
    "duration": 8,
    "start_time": "2022-10-31T22:35:40.955Z"
   },
   {
    "duration": 55,
    "start_time": "2022-10-31T22:35:40.965Z"
   },
   {
    "duration": 78,
    "start_time": "2022-10-31T22:35:41.021Z"
   },
   {
    "duration": 14,
    "start_time": "2022-10-31T22:35:41.101Z"
   },
   {
    "duration": 26,
    "start_time": "2022-10-31T22:35:41.121Z"
   },
   {
    "duration": 18,
    "start_time": "2022-10-31T22:35:41.148Z"
   },
   {
    "duration": 54,
    "start_time": "2022-10-31T22:35:41.168Z"
   },
   {
    "duration": 38,
    "start_time": "2022-10-31T22:35:41.223Z"
   },
   {
    "duration": 4,
    "start_time": "2022-10-31T22:35:41.263Z"
   },
   {
    "duration": 55,
    "start_time": "2022-10-31T22:35:41.269Z"
   },
   {
    "duration": 4,
    "start_time": "2022-10-31T22:35:41.326Z"
   },
   {
    "duration": 14262,
    "start_time": "2022-10-31T22:35:41.332Z"
   },
   {
    "duration": 52,
    "start_time": "2022-10-31T22:35:55.595Z"
   },
   {
    "duration": 17,
    "start_time": "2022-10-31T22:35:55.648Z"
   },
   {
    "duration": 24,
    "start_time": "2022-10-31T22:35:55.667Z"
   },
   {
    "duration": 200,
    "start_time": "2022-10-31T22:35:55.692Z"
   },
   {
    "duration": 181,
    "start_time": "2022-10-31T22:35:55.893Z"
   },
   {
    "duration": 196,
    "start_time": "2022-10-31T22:35:56.076Z"
   },
   {
    "duration": 32,
    "start_time": "2022-10-31T22:35:56.273Z"
   },
   {
    "duration": 54,
    "start_time": "2022-10-31T22:35:56.307Z"
   },
   {
    "duration": 34,
    "start_time": "2022-10-31T22:35:56.363Z"
   },
   {
    "duration": 6,
    "start_time": "2022-10-31T22:40:12.521Z"
   },
   {
    "duration": 6,
    "start_time": "2022-10-31T23:00:17.890Z"
   },
   {
    "duration": 7,
    "start_time": "2022-10-31T23:00:58.941Z"
   },
   {
    "duration": 24,
    "start_time": "2022-10-31T23:02:40.913Z"
   },
   {
    "duration": 1118,
    "start_time": "2022-10-31T23:02:52.728Z"
   },
   {
    "duration": 381,
    "start_time": "2022-10-31T23:02:53.849Z"
   },
   {
    "duration": 17,
    "start_time": "2022-10-31T23:02:54.231Z"
   },
   {
    "duration": 71,
    "start_time": "2022-10-31T23:02:54.250Z"
   },
   {
    "duration": 72,
    "start_time": "2022-10-31T23:02:54.323Z"
   },
   {
    "duration": 5,
    "start_time": "2022-10-31T23:02:54.397Z"
   },
   {
    "duration": 29,
    "start_time": "2022-10-31T23:02:54.403Z"
   },
   {
    "duration": 12,
    "start_time": "2022-10-31T23:02:54.434Z"
   },
   {
    "duration": 3,
    "start_time": "2022-10-31T23:02:54.447Z"
   },
   {
    "duration": 25,
    "start_time": "2022-10-31T23:02:54.451Z"
   },
   {
    "duration": 82,
    "start_time": "2022-10-31T23:02:54.478Z"
   },
   {
    "duration": 14,
    "start_time": "2022-10-31T23:02:54.561Z"
   },
   {
    "duration": 23,
    "start_time": "2022-10-31T23:02:54.576Z"
   },
   {
    "duration": 30,
    "start_time": "2022-10-31T23:02:54.602Z"
   },
   {
    "duration": 28,
    "start_time": "2022-10-31T23:02:54.634Z"
   },
   {
    "duration": 36,
    "start_time": "2022-10-31T23:02:54.663Z"
   },
   {
    "duration": 23,
    "start_time": "2022-10-31T23:02:54.700Z"
   },
   {
    "duration": 24,
    "start_time": "2022-10-31T23:02:54.724Z"
   },
   {
    "duration": 33,
    "start_time": "2022-10-31T23:02:54.750Z"
   },
   {
    "duration": 5,
    "start_time": "2022-10-31T23:02:54.784Z"
   },
   {
    "duration": 14172,
    "start_time": "2022-10-31T23:02:54.791Z"
   },
   {
    "duration": 8,
    "start_time": "2022-10-31T23:03:08.965Z"
   },
   {
    "duration": 66,
    "start_time": "2022-10-31T23:03:08.975Z"
   },
   {
    "duration": 21,
    "start_time": "2022-10-31T23:03:09.043Z"
   },
   {
    "duration": 32,
    "start_time": "2022-10-31T23:03:09.066Z"
   },
   {
    "duration": 204,
    "start_time": "2022-10-31T23:03:09.099Z"
   },
   {
    "duration": 196,
    "start_time": "2022-10-31T23:03:09.304Z"
   },
   {
    "duration": 225,
    "start_time": "2022-10-31T23:03:09.501Z"
   },
   {
    "duration": 33,
    "start_time": "2022-10-31T23:03:09.728Z"
   },
   {
    "duration": 82,
    "start_time": "2022-10-31T23:03:09.762Z"
   },
   {
    "duration": 37,
    "start_time": "2022-10-31T23:03:09.845Z"
   },
   {
    "duration": 234,
    "start_time": "2022-10-31T23:08:07.049Z"
   },
   {
    "duration": 1181,
    "start_time": "2022-11-01T06:46:02.055Z"
   },
   {
    "duration": 1145,
    "start_time": "2022-11-01T06:46:03.238Z"
   },
   {
    "duration": 16,
    "start_time": "2022-11-01T06:46:04.384Z"
   },
   {
    "duration": 57,
    "start_time": "2022-11-01T06:46:04.401Z"
   },
   {
    "duration": 78,
    "start_time": "2022-11-01T06:46:04.460Z"
   },
   {
    "duration": 4,
    "start_time": "2022-11-01T06:46:04.540Z"
   },
   {
    "duration": 18,
    "start_time": "2022-11-01T06:46:04.546Z"
   },
   {
    "duration": 2,
    "start_time": "2022-11-01T06:46:04.566Z"
   },
   {
    "duration": 8,
    "start_time": "2022-11-01T06:46:04.569Z"
   },
   {
    "duration": 29,
    "start_time": "2022-11-01T06:46:04.578Z"
   },
   {
    "duration": 52,
    "start_time": "2022-11-01T06:46:04.609Z"
   },
   {
    "duration": 13,
    "start_time": "2022-11-01T06:46:04.662Z"
   },
   {
    "duration": 40,
    "start_time": "2022-11-01T06:46:04.677Z"
   },
   {
    "duration": 15,
    "start_time": "2022-11-01T06:46:04.720Z"
   },
   {
    "duration": 25,
    "start_time": "2022-11-01T06:46:04.737Z"
   },
   {
    "duration": 50,
    "start_time": "2022-11-01T06:46:04.764Z"
   },
   {
    "duration": 4,
    "start_time": "2022-11-01T06:46:04.815Z"
   },
   {
    "duration": 28,
    "start_time": "2022-11-01T06:46:04.820Z"
   },
   {
    "duration": 4,
    "start_time": "2022-11-01T06:46:04.849Z"
   },
   {
    "duration": 14162,
    "start_time": "2022-11-01T06:46:04.854Z"
   },
   {
    "duration": 7,
    "start_time": "2022-11-01T06:46:19.018Z"
   },
   {
    "duration": 40,
    "start_time": "2022-11-01T06:46:19.026Z"
   },
   {
    "duration": 39,
    "start_time": "2022-11-01T06:46:19.067Z"
   },
   {
    "duration": 23,
    "start_time": "2022-11-01T06:46:19.107Z"
   },
   {
    "duration": 169,
    "start_time": "2022-11-01T06:46:19.131Z"
   },
   {
    "duration": 164,
    "start_time": "2022-11-01T06:46:19.305Z"
   },
   {
    "duration": 185,
    "start_time": "2022-11-01T06:46:19.471Z"
   },
   {
    "duration": 34,
    "start_time": "2022-11-01T06:46:19.658Z"
   },
   {
    "duration": 41,
    "start_time": "2022-11-01T06:46:19.694Z"
   },
   {
    "duration": 25,
    "start_time": "2022-11-01T06:46:19.737Z"
   },
   {
    "duration": 13,
    "start_time": "2022-11-01T06:50:55.436Z"
   },
   {
    "duration": 13,
    "start_time": "2022-11-01T06:51:06.087Z"
   },
   {
    "duration": 12,
    "start_time": "2022-11-01T06:51:08.592Z"
   },
   {
    "duration": 987,
    "start_time": "2022-11-01T06:51:16.250Z"
   },
   {
    "duration": 412,
    "start_time": "2022-11-01T06:51:17.239Z"
   },
   {
    "duration": 16,
    "start_time": "2022-11-01T06:51:17.653Z"
   },
   {
    "duration": 57,
    "start_time": "2022-11-01T06:51:17.671Z"
   },
   {
    "duration": 68,
    "start_time": "2022-11-01T06:51:17.730Z"
   },
   {
    "duration": 6,
    "start_time": "2022-11-01T06:51:17.800Z"
   },
   {
    "duration": 17,
    "start_time": "2022-11-01T06:51:17.807Z"
   },
   {
    "duration": 2,
    "start_time": "2022-11-01T06:51:17.825Z"
   },
   {
    "duration": 25,
    "start_time": "2022-11-01T06:51:17.828Z"
   },
   {
    "duration": 69,
    "start_time": "2022-11-01T06:51:17.855Z"
   },
   {
    "duration": 14,
    "start_time": "2022-11-01T06:51:17.926Z"
   },
   {
    "duration": 27,
    "start_time": "2022-11-01T06:51:17.942Z"
   },
   {
    "duration": 35,
    "start_time": "2022-11-01T06:51:17.970Z"
   },
   {
    "duration": 32,
    "start_time": "2022-11-01T06:51:18.007Z"
   },
   {
    "duration": 39,
    "start_time": "2022-11-01T06:51:18.041Z"
   },
   {
    "duration": 25,
    "start_time": "2022-11-01T06:51:18.081Z"
   },
   {
    "duration": 29,
    "start_time": "2022-11-01T06:51:18.107Z"
   },
   {
    "duration": 5,
    "start_time": "2022-11-01T06:51:18.137Z"
   },
   {
    "duration": 13821,
    "start_time": "2022-11-01T06:51:18.143Z"
   },
   {
    "duration": 7,
    "start_time": "2022-11-01T06:51:31.965Z"
   },
   {
    "duration": 58,
    "start_time": "2022-11-01T06:51:31.973Z"
   },
   {
    "duration": 16,
    "start_time": "2022-11-01T06:51:32.033Z"
   },
   {
    "duration": 24,
    "start_time": "2022-11-01T06:51:32.051Z"
   },
   {
    "duration": 197,
    "start_time": "2022-11-01T06:51:32.076Z"
   },
   {
    "duration": 174,
    "start_time": "2022-11-01T06:51:32.276Z"
   },
   {
    "duration": 179,
    "start_time": "2022-11-01T06:51:32.452Z"
   },
   {
    "duration": 30,
    "start_time": "2022-11-01T06:51:32.632Z"
   },
   {
    "duration": 46,
    "start_time": "2022-11-01T06:51:32.665Z"
   },
   {
    "duration": 29,
    "start_time": "2022-11-01T06:51:32.712Z"
   },
   {
    "duration": 1350,
    "start_time": "2022-11-01T06:53:30.268Z"
   },
   {
    "duration": 1144,
    "start_time": "2022-11-01T06:53:36.194Z"
   },
   {
    "duration": 14,
    "start_time": "2022-11-01T06:53:47.867Z"
   },
   {
    "duration": 14,
    "start_time": "2022-11-01T06:54:02.212Z"
   },
   {
    "duration": 12,
    "start_time": "2022-11-01T06:54:27.292Z"
   },
   {
    "duration": 15,
    "start_time": "2022-11-01T06:54:43.901Z"
   },
   {
    "duration": 27,
    "start_time": "2022-11-01T06:54:46.789Z"
   },
   {
    "duration": 1094,
    "start_time": "2022-11-01T06:55:09.497Z"
   },
   {
    "duration": 356,
    "start_time": "2022-11-01T06:55:10.593Z"
   },
   {
    "duration": 14,
    "start_time": "2022-11-01T06:55:10.951Z"
   },
   {
    "duration": 58,
    "start_time": "2022-11-01T06:55:10.967Z"
   },
   {
    "duration": 65,
    "start_time": "2022-11-01T06:55:11.026Z"
   },
   {
    "duration": 14,
    "start_time": "2022-11-01T06:55:11.093Z"
   },
   {
    "duration": 18,
    "start_time": "2022-11-01T06:55:11.108Z"
   },
   {
    "duration": 2,
    "start_time": "2022-11-01T06:55:11.128Z"
   },
   {
    "duration": 30,
    "start_time": "2022-11-01T06:55:11.131Z"
   },
   {
    "duration": 62,
    "start_time": "2022-11-01T06:55:11.164Z"
   },
   {
    "duration": 14,
    "start_time": "2022-11-01T06:55:11.228Z"
   },
   {
    "duration": 24,
    "start_time": "2022-11-01T06:55:11.243Z"
   },
   {
    "duration": 9,
    "start_time": "2022-11-01T06:55:11.269Z"
   },
   {
    "duration": 16,
    "start_time": "2022-11-01T06:55:11.306Z"
   },
   {
    "duration": 26,
    "start_time": "2022-11-01T06:55:11.323Z"
   },
   {
    "duration": 55,
    "start_time": "2022-11-01T06:55:11.351Z"
   },
   {
    "duration": 5,
    "start_time": "2022-11-01T06:55:11.408Z"
   },
   {
    "duration": 28,
    "start_time": "2022-11-01T06:55:11.414Z"
   },
   {
    "duration": 6,
    "start_time": "2022-11-01T06:55:11.444Z"
   },
   {
    "duration": 13703,
    "start_time": "2022-11-01T06:55:11.451Z"
   },
   {
    "duration": 7,
    "start_time": "2022-11-01T06:55:25.156Z"
   },
   {
    "duration": 57,
    "start_time": "2022-11-01T06:55:25.165Z"
   },
   {
    "duration": 17,
    "start_time": "2022-11-01T06:55:25.223Z"
   },
   {
    "duration": 25,
    "start_time": "2022-11-01T06:55:25.241Z"
   },
   {
    "duration": 188,
    "start_time": "2022-11-01T06:55:25.267Z"
   },
   {
    "duration": 171,
    "start_time": "2022-11-01T06:55:25.457Z"
   },
   {
    "duration": 178,
    "start_time": "2022-11-01T06:55:25.630Z"
   },
   {
    "duration": 32,
    "start_time": "2022-11-01T06:55:25.812Z"
   },
   {
    "duration": 37,
    "start_time": "2022-11-01T06:55:25.845Z"
   },
   {
    "duration": 48,
    "start_time": "2022-11-01T06:55:25.883Z"
   },
   {
    "duration": 11,
    "start_time": "2022-11-01T06:56:06.262Z"
   },
   {
    "duration": 16,
    "start_time": "2022-11-01T06:56:07.196Z"
   },
   {
    "duration": 34,
    "start_time": "2022-11-01T06:56:08.093Z"
   },
   {
    "duration": 36,
    "start_time": "2022-11-01T06:56:12.078Z"
   },
   {
    "duration": 1086,
    "start_time": "2022-11-01T06:56:15.377Z"
   },
   {
    "duration": 376,
    "start_time": "2022-11-01T06:56:16.465Z"
   },
   {
    "duration": 14,
    "start_time": "2022-11-01T06:56:16.842Z"
   },
   {
    "duration": 57,
    "start_time": "2022-11-01T06:56:16.858Z"
   },
   {
    "duration": 66,
    "start_time": "2022-11-01T06:56:16.917Z"
   },
   {
    "duration": 5,
    "start_time": "2022-11-01T06:56:16.984Z"
   },
   {
    "duration": 17,
    "start_time": "2022-11-01T06:56:17.005Z"
   },
   {
    "duration": 16,
    "start_time": "2022-11-01T06:56:17.024Z"
   },
   {
    "duration": 38,
    "start_time": "2022-11-01T06:56:17.042Z"
   },
   {
    "duration": 51,
    "start_time": "2022-11-01T06:56:17.083Z"
   },
   {
    "duration": 12,
    "start_time": "2022-11-01T06:56:17.136Z"
   },
   {
    "duration": 23,
    "start_time": "2022-11-01T06:56:17.149Z"
   },
   {
    "duration": 10,
    "start_time": "2022-11-01T06:56:17.174Z"
   },
   {
    "duration": 34,
    "start_time": "2022-11-01T06:56:17.185Z"
   },
   {
    "duration": 30,
    "start_time": "2022-11-01T06:56:17.221Z"
   },
   {
    "duration": 62,
    "start_time": "2022-11-01T06:56:17.253Z"
   },
   {
    "duration": 5,
    "start_time": "2022-11-01T06:56:17.317Z"
   },
   {
    "duration": 61,
    "start_time": "2022-11-01T06:56:17.324Z"
   },
   {
    "duration": 5,
    "start_time": "2022-11-01T06:56:17.387Z"
   },
   {
    "duration": 13578,
    "start_time": "2022-11-01T06:56:17.394Z"
   },
   {
    "duration": 7,
    "start_time": "2022-11-01T06:56:30.974Z"
   },
   {
    "duration": 53,
    "start_time": "2022-11-01T06:56:30.982Z"
   },
   {
    "duration": 15,
    "start_time": "2022-11-01T06:56:31.036Z"
   },
   {
    "duration": 34,
    "start_time": "2022-11-01T06:56:31.053Z"
   },
   {
    "duration": 170,
    "start_time": "2022-11-01T06:56:31.089Z"
   },
   {
    "duration": 174,
    "start_time": "2022-11-01T06:56:31.261Z"
   },
   {
    "duration": 181,
    "start_time": "2022-11-01T06:56:31.437Z"
   },
   {
    "duration": 31,
    "start_time": "2022-11-01T06:56:31.621Z"
   },
   {
    "duration": 52,
    "start_time": "2022-11-01T06:56:31.654Z"
   },
   {
    "duration": 32,
    "start_time": "2022-11-01T06:56:31.708Z"
   },
   {
    "duration": 399,
    "start_time": "2022-11-01T07:02:25.988Z"
   },
   {
    "duration": 22,
    "start_time": "2022-11-01T07:02:32.506Z"
   },
   {
    "duration": 18,
    "start_time": "2022-11-01T07:03:06.276Z"
   },
   {
    "duration": 23,
    "start_time": "2022-11-01T07:03:11.178Z"
   },
   {
    "duration": 46,
    "start_time": "2022-11-01T16:04:38.886Z"
   },
   {
    "duration": 1340,
    "start_time": "2022-11-01T16:04:47.480Z"
   },
   {
    "duration": 2003,
    "start_time": "2022-11-01T16:04:48.822Z"
   },
   {
    "duration": 17,
    "start_time": "2022-11-01T16:04:50.826Z"
   },
   {
    "duration": 71,
    "start_time": "2022-11-01T16:04:50.845Z"
   },
   {
    "duration": 90,
    "start_time": "2022-11-01T16:04:50.918Z"
   },
   {
    "duration": 5,
    "start_time": "2022-11-01T16:04:51.009Z"
   },
   {
    "duration": 21,
    "start_time": "2022-11-01T16:04:51.015Z"
   },
   {
    "duration": 2,
    "start_time": "2022-11-01T16:04:51.037Z"
   },
   {
    "duration": 36,
    "start_time": "2022-11-01T16:04:51.041Z"
   },
   {
    "duration": 83,
    "start_time": "2022-11-01T16:04:51.079Z"
   },
   {
    "duration": 27,
    "start_time": "2022-11-01T16:04:51.164Z"
   },
   {
    "duration": 29,
    "start_time": "2022-11-01T16:04:51.193Z"
   },
   {
    "duration": 10,
    "start_time": "2022-11-01T16:04:51.224Z"
   },
   {
    "duration": 18,
    "start_time": "2022-11-01T16:04:51.237Z"
   },
   {
    "duration": 57,
    "start_time": "2022-11-01T16:04:51.257Z"
   },
   {
    "duration": 123,
    "start_time": "2022-11-01T16:04:51.316Z"
   },
   {
    "duration": 0,
    "start_time": "2022-11-01T16:04:51.440Z"
   },
   {
    "duration": 0,
    "start_time": "2022-11-01T16:04:51.442Z"
   },
   {
    "duration": 0,
    "start_time": "2022-11-01T16:04:51.443Z"
   },
   {
    "duration": 0,
    "start_time": "2022-11-01T16:04:51.444Z"
   },
   {
    "duration": 0,
    "start_time": "2022-11-01T16:04:51.445Z"
   },
   {
    "duration": 0,
    "start_time": "2022-11-01T16:04:51.447Z"
   },
   {
    "duration": 0,
    "start_time": "2022-11-01T16:04:51.448Z"
   },
   {
    "duration": 0,
    "start_time": "2022-11-01T16:04:51.449Z"
   },
   {
    "duration": 0,
    "start_time": "2022-11-01T16:04:51.450Z"
   },
   {
    "duration": 0,
    "start_time": "2022-11-01T16:04:51.451Z"
   },
   {
    "duration": 0,
    "start_time": "2022-11-01T16:04:51.452Z"
   },
   {
    "duration": 0,
    "start_time": "2022-11-01T16:04:51.453Z"
   },
   {
    "duration": 0,
    "start_time": "2022-11-01T16:04:51.454Z"
   },
   {
    "duration": 0,
    "start_time": "2022-11-01T16:04:51.456Z"
   },
   {
    "duration": 22,
    "start_time": "2022-11-01T16:05:29.462Z"
   },
   {
    "duration": 41,
    "start_time": "2022-11-01T16:05:47.419Z"
   },
   {
    "duration": 44,
    "start_time": "2022-11-01T16:05:54.885Z"
   },
   {
    "duration": 6,
    "start_time": "2022-11-01T16:05:58.861Z"
   },
   {
    "duration": 45,
    "start_time": "2022-11-01T16:06:09.960Z"
   },
   {
    "duration": 5,
    "start_time": "2022-11-01T16:06:12.011Z"
   },
   {
    "duration": 48,
    "start_time": "2022-11-01T16:06:28.558Z"
   },
   {
    "duration": 6,
    "start_time": "2022-11-01T16:06:30.107Z"
   },
   {
    "duration": 41,
    "start_time": "2022-11-01T16:06:31.518Z"
   },
   {
    "duration": 45,
    "start_time": "2022-11-01T16:07:02.444Z"
   },
   {
    "duration": 5,
    "start_time": "2022-11-01T16:07:03.670Z"
   },
   {
    "duration": 55,
    "start_time": "2022-11-01T16:07:22.614Z"
   },
   {
    "duration": 6,
    "start_time": "2022-11-01T16:07:25.491Z"
   },
   {
    "duration": 46,
    "start_time": "2022-11-01T16:07:32.951Z"
   },
   {
    "duration": 5,
    "start_time": "2022-11-01T16:07:34.133Z"
   },
   {
    "duration": 31,
    "start_time": "2022-11-01T16:07:34.920Z"
   },
   {
    "duration": 67,
    "start_time": "2022-11-01T16:08:36.675Z"
   },
   {
    "duration": 5,
    "start_time": "2022-11-01T16:08:38.621Z"
   },
   {
    "duration": 30,
    "start_time": "2022-11-01T16:08:39.317Z"
   },
   {
    "duration": 43,
    "start_time": "2022-11-01T16:08:45.765Z"
   },
   {
    "duration": 6,
    "start_time": "2022-11-01T16:08:47.052Z"
   },
   {
    "duration": 45,
    "start_time": "2022-11-01T16:08:54.726Z"
   },
   {
    "duration": 6,
    "start_time": "2022-11-01T16:08:56.209Z"
   },
   {
    "duration": 40,
    "start_time": "2022-11-01T16:08:56.756Z"
   },
   {
    "duration": 8,
    "start_time": "2022-11-01T16:11:15.578Z"
   },
   {
    "duration": 4,
    "start_time": "2022-11-01T16:11:37.141Z"
   },
   {
    "duration": 9,
    "start_time": "2022-11-01T16:11:41.525Z"
   },
   {
    "duration": 28,
    "start_time": "2022-11-01T16:12:37.591Z"
   },
   {
    "duration": 27,
    "start_time": "2022-11-01T16:13:49.553Z"
   },
   {
    "duration": 31,
    "start_time": "2022-11-01T16:13:53.070Z"
   },
   {
    "duration": 5,
    "start_time": "2022-11-01T16:14:17.686Z"
   },
   {
    "duration": 4,
    "start_time": "2022-11-01T16:14:32.958Z"
   },
   {
    "duration": 49,
    "start_time": "2022-11-01T16:15:51.855Z"
   },
   {
    "duration": 5,
    "start_time": "2022-11-01T16:15:55.744Z"
   },
   {
    "duration": 5,
    "start_time": "2022-11-01T16:15:56.311Z"
   },
   {
    "duration": 40,
    "start_time": "2022-11-01T16:15:57.586Z"
   },
   {
    "duration": 5,
    "start_time": "2022-11-01T16:17:20.176Z"
   },
   {
    "duration": 1256,
    "start_time": "2022-11-01T16:17:39.378Z"
   },
   {
    "duration": 430,
    "start_time": "2022-11-01T16:17:40.636Z"
   },
   {
    "duration": 19,
    "start_time": "2022-11-01T16:17:41.068Z"
   },
   {
    "duration": 69,
    "start_time": "2022-11-01T16:17:41.088Z"
   },
   {
    "duration": 89,
    "start_time": "2022-11-01T16:17:41.159Z"
   },
   {
    "duration": 5,
    "start_time": "2022-11-01T16:17:41.249Z"
   },
   {
    "duration": 20,
    "start_time": "2022-11-01T16:17:41.256Z"
   },
   {
    "duration": 2,
    "start_time": "2022-11-01T16:17:41.291Z"
   },
   {
    "duration": 25,
    "start_time": "2022-11-01T16:17:41.295Z"
   },
   {
    "duration": 70,
    "start_time": "2022-11-01T16:17:41.322Z"
   },
   {
    "duration": 15,
    "start_time": "2022-11-01T16:17:41.394Z"
   },
   {
    "duration": 26,
    "start_time": "2022-11-01T16:17:41.411Z"
   },
   {
    "duration": 11,
    "start_time": "2022-11-01T16:17:41.439Z"
   },
   {
    "duration": 45,
    "start_time": "2022-11-01T16:17:41.453Z"
   },
   {
    "duration": 33,
    "start_time": "2022-11-01T16:17:41.500Z"
   },
   {
    "duration": 62,
    "start_time": "2022-11-01T16:17:41.535Z"
   },
   {
    "duration": 5,
    "start_time": "2022-11-01T16:17:41.599Z"
   },
   {
    "duration": 14,
    "start_time": "2022-11-01T16:17:41.606Z"
   },
   {
    "duration": 42,
    "start_time": "2022-11-01T16:17:41.622Z"
   },
   {
    "duration": 25,
    "start_time": "2022-11-01T16:17:41.666Z"
   },
   {
    "duration": 1341,
    "start_time": "2022-11-01T16:17:41.693Z"
   },
   {
    "duration": 0,
    "start_time": "2022-11-01T16:17:43.036Z"
   },
   {
    "duration": 0,
    "start_time": "2022-11-01T16:17:43.037Z"
   },
   {
    "duration": 0,
    "start_time": "2022-11-01T16:17:43.039Z"
   },
   {
    "duration": 0,
    "start_time": "2022-11-01T16:17:43.041Z"
   },
   {
    "duration": 0,
    "start_time": "2022-11-01T16:17:43.042Z"
   },
   {
    "duration": 1,
    "start_time": "2022-11-01T16:17:43.042Z"
   },
   {
    "duration": 0,
    "start_time": "2022-11-01T16:17:43.044Z"
   },
   {
    "duration": 0,
    "start_time": "2022-11-01T16:17:43.045Z"
   },
   {
    "duration": 0,
    "start_time": "2022-11-01T16:17:43.045Z"
   },
   {
    "duration": 0,
    "start_time": "2022-11-01T16:17:43.046Z"
   },
   {
    "duration": 8,
    "start_time": "2022-11-01T16:18:23.819Z"
   },
   {
    "duration": 597,
    "start_time": "2022-11-01T16:18:41.960Z"
   },
   {
    "duration": 82,
    "start_time": "2022-11-01T16:18:53.926Z"
   },
   {
    "duration": 6,
    "start_time": "2022-11-01T16:19:06.362Z"
   },
   {
    "duration": 10,
    "start_time": "2022-11-01T16:20:48.102Z"
   },
   {
    "duration": 12,
    "start_time": "2022-11-01T16:21:16.779Z"
   },
   {
    "duration": 6,
    "start_time": "2022-11-01T16:22:51.905Z"
   },
   {
    "duration": 7,
    "start_time": "2022-11-01T16:23:01.260Z"
   },
   {
    "duration": 6,
    "start_time": "2022-11-01T16:23:09.978Z"
   },
   {
    "duration": 13,
    "start_time": "2022-11-01T16:24:00.532Z"
   },
   {
    "duration": 44,
    "start_time": "2022-11-01T16:24:28.636Z"
   },
   {
    "duration": 1133,
    "start_time": "2022-11-01T16:24:43.317Z"
   },
   {
    "duration": 389,
    "start_time": "2022-11-01T16:24:44.453Z"
   },
   {
    "duration": 16,
    "start_time": "2022-11-01T16:24:44.843Z"
   },
   {
    "duration": 75,
    "start_time": "2022-11-01T16:24:44.861Z"
   },
   {
    "duration": 85,
    "start_time": "2022-11-01T16:24:44.937Z"
   },
   {
    "duration": 5,
    "start_time": "2022-11-01T16:24:45.024Z"
   },
   {
    "duration": 20,
    "start_time": "2022-11-01T16:24:45.031Z"
   },
   {
    "duration": 2,
    "start_time": "2022-11-01T16:24:45.053Z"
   },
   {
    "duration": 38,
    "start_time": "2022-11-01T16:24:45.057Z"
   },
   {
    "duration": 60,
    "start_time": "2022-11-01T16:24:45.097Z"
   },
   {
    "duration": 15,
    "start_time": "2022-11-01T16:24:45.159Z"
   },
   {
    "duration": 38,
    "start_time": "2022-11-01T16:24:45.176Z"
   },
   {
    "duration": 10,
    "start_time": "2022-11-01T16:24:45.215Z"
   },
   {
    "duration": 18,
    "start_time": "2022-11-01T16:24:45.227Z"
   },
   {
    "duration": 58,
    "start_time": "2022-11-01T16:24:45.246Z"
   },
   {
    "duration": 40,
    "start_time": "2022-11-01T16:24:45.305Z"
   },
   {
    "duration": 5,
    "start_time": "2022-11-01T16:24:45.346Z"
   },
   {
    "duration": 17,
    "start_time": "2022-11-01T16:24:45.352Z"
   },
   {
    "duration": 125,
    "start_time": "2022-11-01T16:24:45.390Z"
   },
   {
    "duration": 0,
    "start_time": "2022-11-01T16:24:45.517Z"
   },
   {
    "duration": 0,
    "start_time": "2022-11-01T16:24:45.518Z"
   },
   {
    "duration": 0,
    "start_time": "2022-11-01T16:24:45.519Z"
   },
   {
    "duration": 0,
    "start_time": "2022-11-01T16:24:45.520Z"
   },
   {
    "duration": 0,
    "start_time": "2022-11-01T16:24:45.521Z"
   },
   {
    "duration": 0,
    "start_time": "2022-11-01T16:24:45.523Z"
   },
   {
    "duration": 0,
    "start_time": "2022-11-01T16:24:45.524Z"
   },
   {
    "duration": 0,
    "start_time": "2022-11-01T16:24:45.525Z"
   },
   {
    "duration": 0,
    "start_time": "2022-11-01T16:24:45.526Z"
   },
   {
    "duration": 0,
    "start_time": "2022-11-01T16:24:45.527Z"
   },
   {
    "duration": 0,
    "start_time": "2022-11-01T16:24:45.527Z"
   },
   {
    "duration": 0,
    "start_time": "2022-11-01T16:24:45.529Z"
   },
   {
    "duration": 0,
    "start_time": "2022-11-01T16:24:45.530Z"
   },
   {
    "duration": 20,
    "start_time": "2022-11-01T16:25:10.146Z"
   },
   {
    "duration": 26,
    "start_time": "2022-11-01T16:25:21.206Z"
   },
   {
    "duration": 1177,
    "start_time": "2022-11-01T16:25:46.404Z"
   },
   {
    "duration": 381,
    "start_time": "2022-11-01T16:25:47.583Z"
   },
   {
    "duration": 15,
    "start_time": "2022-11-01T16:25:47.966Z"
   },
   {
    "duration": 60,
    "start_time": "2022-11-01T16:25:47.982Z"
   },
   {
    "duration": 78,
    "start_time": "2022-11-01T16:25:48.044Z"
   },
   {
    "duration": 4,
    "start_time": "2022-11-01T16:25:48.123Z"
   },
   {
    "duration": 19,
    "start_time": "2022-11-01T16:25:48.129Z"
   },
   {
    "duration": 2,
    "start_time": "2022-11-01T16:25:48.149Z"
   },
   {
    "duration": 39,
    "start_time": "2022-11-01T16:25:48.152Z"
   },
   {
    "duration": 59,
    "start_time": "2022-11-01T16:25:48.192Z"
   },
   {
    "duration": 14,
    "start_time": "2022-11-01T16:25:48.253Z"
   },
   {
    "duration": 40,
    "start_time": "2022-11-01T16:25:48.268Z"
   },
   {
    "duration": 10,
    "start_time": "2022-11-01T16:25:48.309Z"
   },
   {
    "duration": 18,
    "start_time": "2022-11-01T16:25:48.321Z"
   },
   {
    "duration": 28,
    "start_time": "2022-11-01T16:25:48.340Z"
   },
   {
    "duration": 59,
    "start_time": "2022-11-01T16:25:48.370Z"
   },
   {
    "duration": 6,
    "start_time": "2022-11-01T16:25:48.431Z"
   },
   {
    "duration": 39,
    "start_time": "2022-11-01T16:25:48.438Z"
   },
   {
    "duration": 33,
    "start_time": "2022-11-01T16:25:48.479Z"
   },
   {
    "duration": 5,
    "start_time": "2022-11-01T16:25:48.514Z"
   },
   {
    "duration": 1339,
    "start_time": "2022-11-01T16:25:48.520Z"
   },
   {
    "duration": 0,
    "start_time": "2022-11-01T16:25:49.860Z"
   },
   {
    "duration": 0,
    "start_time": "2022-11-01T16:25:49.861Z"
   },
   {
    "duration": 0,
    "start_time": "2022-11-01T16:25:49.862Z"
   },
   {
    "duration": 0,
    "start_time": "2022-11-01T16:25:49.864Z"
   },
   {
    "duration": 0,
    "start_time": "2022-11-01T16:25:49.864Z"
   },
   {
    "duration": 0,
    "start_time": "2022-11-01T16:25:49.865Z"
   },
   {
    "duration": 0,
    "start_time": "2022-11-01T16:25:49.867Z"
   },
   {
    "duration": 0,
    "start_time": "2022-11-01T16:25:49.868Z"
   },
   {
    "duration": 0,
    "start_time": "2022-11-01T16:25:49.868Z"
   },
   {
    "duration": 0,
    "start_time": "2022-11-01T16:25:49.869Z"
   },
   {
    "duration": 39,
    "start_time": "2022-11-01T16:26:15.680Z"
   },
   {
    "duration": 6,
    "start_time": "2022-11-01T16:26:17.568Z"
   },
   {
    "duration": 34,
    "start_time": "2022-11-01T16:26:18.280Z"
   },
   {
    "duration": 28,
    "start_time": "2022-11-01T16:26:20.041Z"
   },
   {
    "duration": 30,
    "start_time": "2022-11-01T16:26:45.279Z"
   },
   {
    "duration": 8,
    "start_time": "2022-11-01T16:26:55.721Z"
   },
   {
    "duration": 29,
    "start_time": "2022-11-01T16:27:04.249Z"
   },
   {
    "duration": 1105,
    "start_time": "2022-11-01T16:27:32.931Z"
   },
   {
    "duration": 426,
    "start_time": "2022-11-01T16:27:34.038Z"
   },
   {
    "duration": 19,
    "start_time": "2022-11-01T16:27:34.465Z"
   },
   {
    "duration": 64,
    "start_time": "2022-11-01T16:27:34.486Z"
   },
   {
    "duration": 90,
    "start_time": "2022-11-01T16:27:34.552Z"
   },
   {
    "duration": 4,
    "start_time": "2022-11-01T16:27:34.644Z"
   },
   {
    "duration": 20,
    "start_time": "2022-11-01T16:27:34.650Z"
   },
   {
    "duration": 3,
    "start_time": "2022-11-01T16:27:34.672Z"
   },
   {
    "duration": 25,
    "start_time": "2022-11-01T16:27:34.691Z"
   },
   {
    "duration": 76,
    "start_time": "2022-11-01T16:27:34.718Z"
   },
   {
    "duration": 15,
    "start_time": "2022-11-01T16:27:34.797Z"
   },
   {
    "duration": 27,
    "start_time": "2022-11-01T16:27:34.813Z"
   },
   {
    "duration": 10,
    "start_time": "2022-11-01T16:27:34.842Z"
   },
   {
    "duration": 48,
    "start_time": "2022-11-01T16:27:34.856Z"
   },
   {
    "duration": 30,
    "start_time": "2022-11-01T16:27:34.906Z"
   },
   {
    "duration": 59,
    "start_time": "2022-11-01T16:27:34.939Z"
   },
   {
    "duration": 6,
    "start_time": "2022-11-01T16:27:35.000Z"
   },
   {
    "duration": 38,
    "start_time": "2022-11-01T16:27:35.008Z"
   },
   {
    "duration": 47,
    "start_time": "2022-11-01T16:27:35.048Z"
   },
   {
    "duration": 6,
    "start_time": "2022-11-01T16:27:35.097Z"
   },
   {
    "duration": 1278,
    "start_time": "2022-11-01T16:27:35.105Z"
   },
   {
    "duration": 0,
    "start_time": "2022-11-01T16:27:36.384Z"
   },
   {
    "duration": 0,
    "start_time": "2022-11-01T16:27:36.386Z"
   },
   {
    "duration": 0,
    "start_time": "2022-11-01T16:27:36.387Z"
   },
   {
    "duration": 0,
    "start_time": "2022-11-01T16:27:36.387Z"
   },
   {
    "duration": 0,
    "start_time": "2022-11-01T16:27:36.388Z"
   },
   {
    "duration": 0,
    "start_time": "2022-11-01T16:27:36.389Z"
   },
   {
    "duration": 0,
    "start_time": "2022-11-01T16:27:36.390Z"
   },
   {
    "duration": 0,
    "start_time": "2022-11-01T16:27:36.391Z"
   },
   {
    "duration": 0,
    "start_time": "2022-11-01T16:27:36.392Z"
   },
   {
    "duration": 0,
    "start_time": "2022-11-01T16:27:36.393Z"
   },
   {
    "duration": 15613,
    "start_time": "2022-11-01T16:34:49.128Z"
   },
   {
    "duration": 1167,
    "start_time": "2022-11-01T16:36:58.972Z"
   },
   {
    "duration": 413,
    "start_time": "2022-11-01T16:37:00.141Z"
   },
   {
    "duration": 17,
    "start_time": "2022-11-01T16:37:00.556Z"
   },
   {
    "duration": 92,
    "start_time": "2022-11-01T16:37:00.575Z"
   },
   {
    "duration": 78,
    "start_time": "2022-11-01T16:37:00.669Z"
   },
   {
    "duration": 5,
    "start_time": "2022-11-01T16:37:00.748Z"
   },
   {
    "duration": 37,
    "start_time": "2022-11-01T16:37:00.755Z"
   },
   {
    "duration": 3,
    "start_time": "2022-11-01T16:37:00.793Z"
   },
   {
    "duration": 28,
    "start_time": "2022-11-01T16:37:00.798Z"
   },
   {
    "duration": 77,
    "start_time": "2022-11-01T16:37:00.828Z"
   },
   {
    "duration": 15,
    "start_time": "2022-11-01T16:37:00.906Z"
   },
   {
    "duration": 41,
    "start_time": "2022-11-01T16:37:00.923Z"
   },
   {
    "duration": 26,
    "start_time": "2022-11-01T16:37:00.966Z"
   },
   {
    "duration": 18,
    "start_time": "2022-11-01T16:37:00.994Z"
   },
   {
    "duration": 30,
    "start_time": "2022-11-01T16:37:01.014Z"
   },
   {
    "duration": 67,
    "start_time": "2022-11-01T16:37:01.046Z"
   },
   {
    "duration": 5,
    "start_time": "2022-11-01T16:37:01.115Z"
   },
   {
    "duration": 45,
    "start_time": "2022-11-01T16:37:01.122Z"
   },
   {
    "duration": 37,
    "start_time": "2022-11-01T16:37:01.169Z"
   },
   {
    "duration": 6,
    "start_time": "2022-11-01T16:37:01.208Z"
   },
   {
    "duration": 15319,
    "start_time": "2022-11-01T16:37:01.216Z"
   },
   {
    "duration": 11,
    "start_time": "2022-11-01T16:37:16.537Z"
   },
   {
    "duration": 160,
    "start_time": "2022-11-01T16:37:16.549Z"
   },
   {
    "duration": 0,
    "start_time": "2022-11-01T16:37:16.712Z"
   },
   {
    "duration": 0,
    "start_time": "2022-11-01T16:37:16.714Z"
   },
   {
    "duration": 0,
    "start_time": "2022-11-01T16:37:16.715Z"
   },
   {
    "duration": 0,
    "start_time": "2022-11-01T16:37:16.717Z"
   },
   {
    "duration": 0,
    "start_time": "2022-11-01T16:37:16.718Z"
   },
   {
    "duration": 0,
    "start_time": "2022-11-01T16:37:16.719Z"
   },
   {
    "duration": 0,
    "start_time": "2022-11-01T16:37:16.720Z"
   },
   {
    "duration": 0,
    "start_time": "2022-11-01T16:37:16.721Z"
   },
   {
    "duration": 42,
    "start_time": "2022-11-01T16:37:20.673Z"
   },
   {
    "duration": 10,
    "start_time": "2022-11-01T16:37:28.711Z"
   },
   {
    "duration": 19,
    "start_time": "2022-11-01T16:37:36.807Z"
   },
   {
    "duration": 28,
    "start_time": "2022-11-01T16:37:37.702Z"
   },
   {
    "duration": 187,
    "start_time": "2022-11-01T16:37:43.515Z"
   },
   {
    "duration": 1172,
    "start_time": "2022-11-01T16:37:49.593Z"
   },
   {
    "duration": 405,
    "start_time": "2022-11-01T16:37:50.766Z"
   },
   {
    "duration": 17,
    "start_time": "2022-11-01T16:37:51.173Z"
   },
   {
    "duration": 64,
    "start_time": "2022-11-01T16:37:51.192Z"
   },
   {
    "duration": 86,
    "start_time": "2022-11-01T16:37:51.257Z"
   },
   {
    "duration": 4,
    "start_time": "2022-11-01T16:37:51.345Z"
   },
   {
    "duration": 17,
    "start_time": "2022-11-01T16:37:51.350Z"
   },
   {
    "duration": 4,
    "start_time": "2022-11-01T16:37:51.369Z"
   },
   {
    "duration": 35,
    "start_time": "2022-11-01T16:37:51.374Z"
   },
   {
    "duration": 65,
    "start_time": "2022-11-01T16:37:51.412Z"
   },
   {
    "duration": 21,
    "start_time": "2022-11-01T16:37:51.479Z"
   },
   {
    "duration": 25,
    "start_time": "2022-11-01T16:37:51.502Z"
   },
   {
    "duration": 9,
    "start_time": "2022-11-01T16:37:51.529Z"
   },
   {
    "duration": 17,
    "start_time": "2022-11-01T16:37:51.539Z"
   },
   {
    "duration": 65,
    "start_time": "2022-11-01T16:37:51.557Z"
   },
   {
    "duration": 35,
    "start_time": "2022-11-01T16:37:51.624Z"
   },
   {
    "duration": 3,
    "start_time": "2022-11-01T16:37:51.661Z"
   },
   {
    "duration": 57,
    "start_time": "2022-11-01T16:37:51.666Z"
   },
   {
    "duration": 26,
    "start_time": "2022-11-01T16:37:51.724Z"
   },
   {
    "duration": 4,
    "start_time": "2022-11-01T16:37:51.751Z"
   },
   {
    "duration": 14879,
    "start_time": "2022-11-01T16:37:51.757Z"
   },
   {
    "duration": 9,
    "start_time": "2022-11-01T16:38:06.638Z"
   },
   {
    "duration": 74,
    "start_time": "2022-11-01T16:38:06.649Z"
   },
   {
    "duration": 21,
    "start_time": "2022-11-01T16:38:06.725Z"
   },
   {
    "duration": 51,
    "start_time": "2022-11-01T16:38:06.748Z"
   },
   {
    "duration": 214,
    "start_time": "2022-11-01T16:38:06.801Z"
   },
   {
    "duration": 186,
    "start_time": "2022-11-01T16:38:07.017Z"
   },
   {
    "duration": 1223,
    "start_time": "2022-11-01T16:38:07.205Z"
   },
   {
    "duration": 0,
    "start_time": "2022-11-01T16:38:08.430Z"
   },
   {
    "duration": 0,
    "start_time": "2022-11-01T16:38:08.431Z"
   },
   {
    "duration": 0,
    "start_time": "2022-11-01T16:38:08.433Z"
   },
   {
    "duration": 199,
    "start_time": "2022-11-01T16:38:16.796Z"
   },
   {
    "duration": 38,
    "start_time": "2022-11-01T16:38:21.598Z"
   },
   {
    "duration": 38,
    "start_time": "2022-11-01T16:38:24.219Z"
   },
   {
    "duration": 32,
    "start_time": "2022-11-01T16:38:25.964Z"
   },
   {
    "duration": 28,
    "start_time": "2022-11-01T16:41:27.998Z"
   },
   {
    "duration": 8,
    "start_time": "2022-11-01T16:41:36.509Z"
   },
   {
    "duration": 9,
    "start_time": "2022-11-01T16:41:44.084Z"
   },
   {
    "duration": 8,
    "start_time": "2022-11-01T16:41:50.085Z"
   },
   {
    "duration": 9,
    "start_time": "2022-11-01T16:41:55.372Z"
   },
   {
    "duration": 29,
    "start_time": "2022-11-01T16:42:03.324Z"
   },
   {
    "duration": 31,
    "start_time": "2022-11-01T16:42:22.917Z"
   },
   {
    "duration": 31,
    "start_time": "2022-11-01T16:42:28.540Z"
   },
   {
    "duration": 30,
    "start_time": "2022-11-01T16:42:35.041Z"
   },
   {
    "duration": 30,
    "start_time": "2022-11-01T16:42:42.209Z"
   },
   {
    "duration": 382,
    "start_time": "2022-11-01T16:43:33.510Z"
   },
   {
    "duration": 361,
    "start_time": "2022-11-01T16:43:49.690Z"
   },
   {
    "duration": 9,
    "start_time": "2022-11-01T16:44:12.951Z"
   },
   {
    "duration": 12,
    "start_time": "2022-11-01T16:44:20.542Z"
   },
   {
    "duration": 10,
    "start_time": "2022-11-01T16:44:24.302Z"
   },
   {
    "duration": 5,
    "start_time": "2022-11-01T16:44:28.640Z"
   },
   {
    "duration": 1126,
    "start_time": "2022-11-01T16:44:32.706Z"
   },
   {
    "duration": 427,
    "start_time": "2022-11-01T16:44:33.834Z"
   },
   {
    "duration": 17,
    "start_time": "2022-11-01T16:44:34.262Z"
   },
   {
    "duration": 64,
    "start_time": "2022-11-01T16:44:34.280Z"
   },
   {
    "duration": 97,
    "start_time": "2022-11-01T16:44:34.348Z"
   },
   {
    "duration": 6,
    "start_time": "2022-11-01T16:44:34.447Z"
   },
   {
    "duration": 23,
    "start_time": "2022-11-01T16:44:34.455Z"
   },
   {
    "duration": 11,
    "start_time": "2022-11-01T16:44:34.480Z"
   },
   {
    "duration": 30,
    "start_time": "2022-11-01T16:44:34.493Z"
   },
   {
    "duration": 78,
    "start_time": "2022-11-01T16:44:34.525Z"
   },
   {
    "duration": 14,
    "start_time": "2022-11-01T16:44:34.604Z"
   },
   {
    "duration": 26,
    "start_time": "2022-11-01T16:44:34.621Z"
   },
   {
    "duration": 11,
    "start_time": "2022-11-01T16:44:34.649Z"
   },
   {
    "duration": 40,
    "start_time": "2022-11-01T16:44:34.663Z"
   },
   {
    "duration": 30,
    "start_time": "2022-11-01T16:44:34.705Z"
   },
   {
    "duration": 55,
    "start_time": "2022-11-01T16:44:34.737Z"
   },
   {
    "duration": 5,
    "start_time": "2022-11-01T16:44:34.794Z"
   },
   {
    "duration": 226,
    "start_time": "2022-11-01T16:44:34.800Z"
   },
   {
    "duration": 15,
    "start_time": "2022-11-01T16:44:35.027Z"
   },
   {
    "duration": 6,
    "start_time": "2022-11-01T16:44:35.044Z"
   },
   {
    "duration": 61,
    "start_time": "2022-11-01T16:44:35.051Z"
   },
   {
    "duration": 4,
    "start_time": "2022-11-01T16:44:35.114Z"
   },
   {
    "duration": 30,
    "start_time": "2022-11-01T16:44:35.119Z"
   },
   {
    "duration": 19,
    "start_time": "2022-11-01T16:44:35.151Z"
   },
   {
    "duration": 112,
    "start_time": "2022-11-01T16:44:35.171Z"
   },
   {
    "duration": 0,
    "start_time": "2022-11-01T16:44:35.284Z"
   },
   {
    "duration": 0,
    "start_time": "2022-11-01T16:44:35.285Z"
   },
   {
    "duration": 0,
    "start_time": "2022-11-01T16:44:35.286Z"
   },
   {
    "duration": 0,
    "start_time": "2022-11-01T16:44:35.291Z"
   },
   {
    "duration": 0,
    "start_time": "2022-11-01T16:44:35.292Z"
   },
   {
    "duration": 0,
    "start_time": "2022-11-01T16:44:35.293Z"
   },
   {
    "duration": 27,
    "start_time": "2022-11-01T16:45:11.019Z"
   },
   {
    "duration": 1188,
    "start_time": "2022-11-01T16:45:44.518Z"
   },
   {
    "duration": 426,
    "start_time": "2022-11-01T16:45:45.709Z"
   },
   {
    "duration": 18,
    "start_time": "2022-11-01T16:45:46.137Z"
   },
   {
    "duration": 64,
    "start_time": "2022-11-01T16:45:46.156Z"
   },
   {
    "duration": 90,
    "start_time": "2022-11-01T16:45:46.223Z"
   },
   {
    "duration": 4,
    "start_time": "2022-11-01T16:45:46.315Z"
   },
   {
    "duration": 18,
    "start_time": "2022-11-01T16:45:46.322Z"
   },
   {
    "duration": 2,
    "start_time": "2022-11-01T16:45:46.342Z"
   },
   {
    "duration": 45,
    "start_time": "2022-11-01T16:45:46.346Z"
   },
   {
    "duration": 64,
    "start_time": "2022-11-01T16:45:46.393Z"
   },
   {
    "duration": 16,
    "start_time": "2022-11-01T16:45:46.459Z"
   },
   {
    "duration": 27,
    "start_time": "2022-11-01T16:45:46.490Z"
   },
   {
    "duration": 10,
    "start_time": "2022-11-01T16:45:46.518Z"
   },
   {
    "duration": 18,
    "start_time": "2022-11-01T16:45:46.532Z"
   },
   {
    "duration": 64,
    "start_time": "2022-11-01T16:45:46.552Z"
   },
   {
    "duration": 58,
    "start_time": "2022-11-01T16:45:46.619Z"
   },
   {
    "duration": 13,
    "start_time": "2022-11-01T16:45:46.679Z"
   },
   {
    "duration": 643,
    "start_time": "2022-11-01T16:45:46.694Z"
   },
   {
    "duration": 18,
    "start_time": "2022-11-01T16:45:47.339Z"
   },
   {
    "duration": 8,
    "start_time": "2022-11-01T16:45:47.359Z"
   },
   {
    "duration": 58,
    "start_time": "2022-11-01T16:45:47.368Z"
   },
   {
    "duration": 5,
    "start_time": "2022-11-01T16:45:47.428Z"
   },
   {
    "duration": 15,
    "start_time": "2022-11-01T16:45:47.434Z"
   },
   {
    "duration": 13,
    "start_time": "2022-11-01T16:45:47.451Z"
   },
   {
    "duration": 113,
    "start_time": "2022-11-01T16:45:47.490Z"
   },
   {
    "duration": 0,
    "start_time": "2022-11-01T16:45:47.605Z"
   },
   {
    "duration": 0,
    "start_time": "2022-11-01T16:45:47.606Z"
   },
   {
    "duration": 0,
    "start_time": "2022-11-01T16:45:47.608Z"
   },
   {
    "duration": 0,
    "start_time": "2022-11-01T16:45:47.609Z"
   },
   {
    "duration": 0,
    "start_time": "2022-11-01T16:45:47.610Z"
   },
   {
    "duration": 0,
    "start_time": "2022-11-01T16:45:47.611Z"
   },
   {
    "duration": 1136,
    "start_time": "2022-11-01T16:47:01.186Z"
   },
   {
    "duration": 428,
    "start_time": "2022-11-01T16:47:02.324Z"
   },
   {
    "duration": 18,
    "start_time": "2022-11-01T16:47:02.753Z"
   },
   {
    "duration": 65,
    "start_time": "2022-11-01T16:47:02.772Z"
   },
   {
    "duration": 86,
    "start_time": "2022-11-01T16:47:02.839Z"
   },
   {
    "duration": 4,
    "start_time": "2022-11-01T16:47:02.927Z"
   },
   {
    "duration": 18,
    "start_time": "2022-11-01T16:47:02.933Z"
   },
   {
    "duration": 3,
    "start_time": "2022-11-01T16:47:02.953Z"
   },
   {
    "duration": 39,
    "start_time": "2022-11-01T16:47:02.958Z"
   },
   {
    "duration": 59,
    "start_time": "2022-11-01T16:47:02.999Z"
   },
   {
    "duration": 31,
    "start_time": "2022-11-01T16:47:03.060Z"
   },
   {
    "duration": 24,
    "start_time": "2022-11-01T16:47:03.093Z"
   },
   {
    "duration": 9,
    "start_time": "2022-11-01T16:47:03.119Z"
   },
   {
    "duration": 17,
    "start_time": "2022-11-01T16:47:03.130Z"
   },
   {
    "duration": 52,
    "start_time": "2022-11-01T16:47:03.149Z"
   },
   {
    "duration": 39,
    "start_time": "2022-11-01T16:47:03.203Z"
   },
   {
    "duration": 5,
    "start_time": "2022-11-01T16:47:03.243Z"
   },
   {
    "duration": 579,
    "start_time": "2022-11-01T16:47:03.249Z"
   },
   {
    "duration": 15,
    "start_time": "2022-11-01T16:47:03.829Z"
   },
   {
    "duration": 4,
    "start_time": "2022-11-01T16:47:03.846Z"
   },
   {
    "duration": 62,
    "start_time": "2022-11-01T16:47:03.852Z"
   },
   {
    "duration": 4,
    "start_time": "2022-11-01T16:47:03.915Z"
   },
   {
    "duration": 21,
    "start_time": "2022-11-01T16:47:03.920Z"
   },
   {
    "duration": 13,
    "start_time": "2022-11-01T16:47:03.943Z"
   },
   {
    "duration": 114,
    "start_time": "2022-11-01T16:47:03.957Z"
   },
   {
    "duration": 0,
    "start_time": "2022-11-01T16:47:04.072Z"
   },
   {
    "duration": 0,
    "start_time": "2022-11-01T16:47:04.074Z"
   },
   {
    "duration": 0,
    "start_time": "2022-11-01T16:47:04.075Z"
   },
   {
    "duration": 0,
    "start_time": "2022-11-01T16:47:04.076Z"
   },
   {
    "duration": 0,
    "start_time": "2022-11-01T16:47:04.077Z"
   },
   {
    "duration": 0,
    "start_time": "2022-11-01T16:47:04.091Z"
   },
   {
    "duration": 1130,
    "start_time": "2022-11-01T16:47:51.986Z"
   },
   {
    "duration": 406,
    "start_time": "2022-11-01T16:47:53.118Z"
   },
   {
    "duration": 15,
    "start_time": "2022-11-01T16:47:53.525Z"
   },
   {
    "duration": 65,
    "start_time": "2022-11-01T16:47:53.542Z"
   },
   {
    "duration": 86,
    "start_time": "2022-11-01T16:47:53.608Z"
   },
   {
    "duration": 4,
    "start_time": "2022-11-01T16:47:53.696Z"
   },
   {
    "duration": 18,
    "start_time": "2022-11-01T16:47:53.702Z"
   },
   {
    "duration": 3,
    "start_time": "2022-11-01T16:47:53.721Z"
   },
   {
    "duration": 24,
    "start_time": "2022-11-01T16:47:53.725Z"
   },
   {
    "duration": 78,
    "start_time": "2022-11-01T16:47:53.751Z"
   },
   {
    "duration": 15,
    "start_time": "2022-11-01T16:47:53.831Z"
   },
   {
    "duration": 26,
    "start_time": "2022-11-01T16:47:53.847Z"
   },
   {
    "duration": 21,
    "start_time": "2022-11-01T16:47:53.875Z"
   },
   {
    "duration": 19,
    "start_time": "2022-11-01T16:47:53.898Z"
   },
   {
    "duration": 30,
    "start_time": "2022-11-01T16:47:53.918Z"
   },
   {
    "duration": 58,
    "start_time": "2022-11-01T16:47:53.949Z"
   },
   {
    "duration": 4,
    "start_time": "2022-11-01T16:47:54.009Z"
   },
   {
    "duration": 599,
    "start_time": "2022-11-01T16:47:54.014Z"
   },
   {
    "duration": 2,
    "start_time": "2022-11-01T16:47:54.614Z"
   },
   {
    "duration": 10,
    "start_time": "2022-11-01T16:47:54.618Z"
   },
   {
    "duration": 14749,
    "start_time": "2022-11-01T16:47:54.629Z"
   },
   {
    "duration": 13,
    "start_time": "2022-11-01T16:48:09.380Z"
   },
   {
    "duration": 44,
    "start_time": "2022-11-01T16:48:09.395Z"
   },
   {
    "duration": 19,
    "start_time": "2022-11-01T16:48:09.440Z"
   },
   {
    "duration": 53,
    "start_time": "2022-11-01T16:48:09.461Z"
   },
   {
    "duration": 213,
    "start_time": "2022-11-01T16:48:09.516Z"
   },
   {
    "duration": 185,
    "start_time": "2022-11-01T16:48:09.731Z"
   },
   {
    "duration": 200,
    "start_time": "2022-11-01T16:48:09.919Z"
   },
   {
    "duration": 32,
    "start_time": "2022-11-01T16:48:10.121Z"
   },
   {
    "duration": 55,
    "start_time": "2022-11-01T16:48:10.155Z"
   },
   {
    "duration": 28,
    "start_time": "2022-11-01T16:48:10.212Z"
   },
   {
    "duration": 24,
    "start_time": "2022-11-01T16:50:31.845Z"
   },
   {
    "duration": 1143,
    "start_time": "2022-11-01T16:50:45.821Z"
   },
   {
    "duration": 395,
    "start_time": "2022-11-01T16:50:46.966Z"
   },
   {
    "duration": 15,
    "start_time": "2022-11-01T16:50:47.363Z"
   },
   {
    "duration": 66,
    "start_time": "2022-11-01T16:50:47.380Z"
   },
   {
    "duration": 81,
    "start_time": "2022-11-01T16:50:47.448Z"
   },
   {
    "duration": 5,
    "start_time": "2022-11-01T16:50:47.531Z"
   },
   {
    "duration": 17,
    "start_time": "2022-11-01T16:50:47.538Z"
   },
   {
    "duration": 2,
    "start_time": "2022-11-01T16:50:47.557Z"
   },
   {
    "duration": 44,
    "start_time": "2022-11-01T16:50:47.561Z"
   },
   {
    "duration": 59,
    "start_time": "2022-11-01T16:50:47.608Z"
   },
   {
    "duration": 27,
    "start_time": "2022-11-01T16:50:47.668Z"
   },
   {
    "duration": 26,
    "start_time": "2022-11-01T16:50:47.696Z"
   },
   {
    "duration": 10,
    "start_time": "2022-11-01T16:50:47.723Z"
   },
   {
    "duration": 18,
    "start_time": "2022-11-01T16:50:47.735Z"
   },
   {
    "duration": 57,
    "start_time": "2022-11-01T16:50:47.754Z"
   },
   {
    "duration": 37,
    "start_time": "2022-11-01T16:50:47.813Z"
   },
   {
    "duration": 40,
    "start_time": "2022-11-01T16:50:47.852Z"
   },
   {
    "duration": 5,
    "start_time": "2022-11-01T16:50:47.893Z"
   },
   {
    "duration": 570,
    "start_time": "2022-11-01T16:50:47.899Z"
   },
   {
    "duration": 2,
    "start_time": "2022-11-01T16:50:48.470Z"
   },
   {
    "duration": 6,
    "start_time": "2022-11-01T16:50:48.474Z"
   },
   {
    "duration": 14340,
    "start_time": "2022-11-01T16:50:48.491Z"
   },
   {
    "duration": 7,
    "start_time": "2022-11-01T16:51:02.833Z"
   },
   {
    "duration": 58,
    "start_time": "2022-11-01T16:51:02.842Z"
   },
   {
    "duration": 19,
    "start_time": "2022-11-01T16:51:02.901Z"
   },
   {
    "duration": 32,
    "start_time": "2022-11-01T16:51:02.922Z"
   },
   {
    "duration": 229,
    "start_time": "2022-11-01T16:51:02.956Z"
   },
   {
    "duration": 177,
    "start_time": "2022-11-01T16:51:03.190Z"
   },
   {
    "duration": 197,
    "start_time": "2022-11-01T16:51:03.368Z"
   },
   {
    "duration": 39,
    "start_time": "2022-11-01T16:51:03.566Z"
   },
   {
    "duration": 36,
    "start_time": "2022-11-01T16:51:03.607Z"
   },
   {
    "duration": 30,
    "start_time": "2022-11-01T16:51:03.644Z"
   },
   {
    "duration": 1051,
    "start_time": "2022-11-01T17:36:33.155Z"
   },
   {
    "duration": 1032,
    "start_time": "2022-11-01T17:36:48.459Z"
   },
   {
    "duration": 1053,
    "start_time": "2022-11-01T17:36:53.483Z"
   },
   {
    "duration": 8,
    "start_time": "2022-11-01T17:37:18.535Z"
   },
   {
    "duration": 25,
    "start_time": "2022-11-01T17:38:47.435Z"
   },
   {
    "duration": 1280,
    "start_time": "2022-11-01T17:40:08.881Z"
   },
   {
    "duration": 412,
    "start_time": "2022-11-01T17:40:10.163Z"
   },
   {
    "duration": 19,
    "start_time": "2022-11-01T17:40:10.577Z"
   },
   {
    "duration": 70,
    "start_time": "2022-11-01T17:40:10.597Z"
   },
   {
    "duration": 89,
    "start_time": "2022-11-01T17:40:10.670Z"
   },
   {
    "duration": 5,
    "start_time": "2022-11-01T17:40:10.760Z"
   },
   {
    "duration": 31,
    "start_time": "2022-11-01T17:40:10.766Z"
   },
   {
    "duration": 6,
    "start_time": "2022-11-01T17:40:10.798Z"
   },
   {
    "duration": 26,
    "start_time": "2022-11-01T17:40:10.805Z"
   },
   {
    "duration": 75,
    "start_time": "2022-11-01T17:40:10.832Z"
   },
   {
    "duration": 14,
    "start_time": "2022-11-01T17:40:10.909Z"
   },
   {
    "duration": 25,
    "start_time": "2022-11-01T17:40:10.925Z"
   },
   {
    "duration": 9,
    "start_time": "2022-11-01T17:40:10.952Z"
   },
   {
    "duration": 40,
    "start_time": "2022-11-01T17:40:10.964Z"
   },
   {
    "duration": 33,
    "start_time": "2022-11-01T17:40:11.006Z"
   },
   {
    "duration": 61,
    "start_time": "2022-11-01T17:40:11.041Z"
   },
   {
    "duration": 19,
    "start_time": "2022-11-01T17:40:11.104Z"
   },
   {
    "duration": 4,
    "start_time": "2022-11-01T17:40:11.125Z"
   },
   {
    "duration": 22,
    "start_time": "2022-11-01T17:40:11.131Z"
   },
   {
    "duration": 3,
    "start_time": "2022-11-01T17:40:11.155Z"
   },
   {
    "duration": 41,
    "start_time": "2022-11-01T17:40:11.191Z"
   },
   {
    "duration": 4,
    "start_time": "2022-11-01T17:40:11.234Z"
   },
   {
    "duration": 13,
    "start_time": "2022-11-01T17:40:11.240Z"
   },
   {
    "duration": 14,
    "start_time": "2022-11-01T17:40:11.255Z"
   },
   {
    "duration": 110,
    "start_time": "2022-11-01T17:40:11.291Z"
   },
   {
    "duration": 0,
    "start_time": "2022-11-01T17:40:11.402Z"
   },
   {
    "duration": 0,
    "start_time": "2022-11-01T17:40:11.403Z"
   },
   {
    "duration": 0,
    "start_time": "2022-11-01T17:40:11.404Z"
   },
   {
    "duration": 0,
    "start_time": "2022-11-01T17:40:11.405Z"
   },
   {
    "duration": 0,
    "start_time": "2022-11-01T17:40:11.407Z"
   },
   {
    "duration": 0,
    "start_time": "2022-11-01T17:40:11.408Z"
   },
   {
    "duration": 40,
    "start_time": "2022-11-01T17:44:31.400Z"
   },
   {
    "duration": 30,
    "start_time": "2022-11-01T17:47:17.903Z"
   },
   {
    "duration": 8,
    "start_time": "2022-11-01T17:48:05.291Z"
   },
   {
    "duration": 1086,
    "start_time": "2022-11-01T17:48:10.430Z"
   },
   {
    "duration": 401,
    "start_time": "2022-11-01T17:48:11.518Z"
   },
   {
    "duration": 16,
    "start_time": "2022-11-01T17:48:11.921Z"
   },
   {
    "duration": 59,
    "start_time": "2022-11-01T17:48:11.939Z"
   },
   {
    "duration": 73,
    "start_time": "2022-11-01T17:48:12.001Z"
   },
   {
    "duration": 16,
    "start_time": "2022-11-01T17:48:12.076Z"
   },
   {
    "duration": 15,
    "start_time": "2022-11-01T17:48:12.094Z"
   },
   {
    "duration": 3,
    "start_time": "2022-11-01T17:48:12.111Z"
   },
   {
    "duration": 23,
    "start_time": "2022-11-01T17:48:12.115Z"
   },
   {
    "duration": 85,
    "start_time": "2022-11-01T17:48:12.140Z"
   },
   {
    "duration": 16,
    "start_time": "2022-11-01T17:48:12.227Z"
   },
   {
    "duration": 26,
    "start_time": "2022-11-01T17:48:12.244Z"
   },
   {
    "duration": 26,
    "start_time": "2022-11-01T17:48:12.272Z"
   },
   {
    "duration": 17,
    "start_time": "2022-11-01T17:48:12.300Z"
   },
   {
    "duration": 29,
    "start_time": "2022-11-01T17:48:12.319Z"
   },
   {
    "duration": 71,
    "start_time": "2022-11-01T17:48:12.350Z"
   },
   {
    "duration": 20,
    "start_time": "2022-11-01T17:48:12.423Z"
   },
   {
    "duration": 4,
    "start_time": "2022-11-01T17:48:12.445Z"
   },
   {
    "duration": 42,
    "start_time": "2022-11-01T17:48:12.451Z"
   },
   {
    "duration": 4,
    "start_time": "2022-11-01T17:48:12.494Z"
   },
   {
    "duration": 44,
    "start_time": "2022-11-01T17:48:12.500Z"
   },
   {
    "duration": 4,
    "start_time": "2022-11-01T17:48:12.545Z"
   },
   {
    "duration": 15,
    "start_time": "2022-11-01T17:48:12.551Z"
   },
   {
    "duration": 33,
    "start_time": "2022-11-01T17:48:12.567Z"
   },
   {
    "duration": 109,
    "start_time": "2022-11-01T17:48:12.601Z"
   },
   {
    "duration": 0,
    "start_time": "2022-11-01T17:48:12.712Z"
   },
   {
    "duration": 0,
    "start_time": "2022-11-01T17:48:12.713Z"
   },
   {
    "duration": 0,
    "start_time": "2022-11-01T17:48:12.714Z"
   },
   {
    "duration": 0,
    "start_time": "2022-11-01T17:48:12.715Z"
   },
   {
    "duration": 0,
    "start_time": "2022-11-01T17:48:12.716Z"
   },
   {
    "duration": 0,
    "start_time": "2022-11-01T17:48:12.717Z"
   },
   {
    "duration": 3,
    "start_time": "2022-11-01T17:52:48.749Z"
   },
   {
    "duration": 10,
    "start_time": "2022-11-01T17:52:56.804Z"
   },
   {
    "duration": 1107,
    "start_time": "2022-11-01T17:53:03.238Z"
   },
   {
    "duration": 431,
    "start_time": "2022-11-01T17:53:04.348Z"
   },
   {
    "duration": 17,
    "start_time": "2022-11-01T17:53:04.780Z"
   },
   {
    "duration": 72,
    "start_time": "2022-11-01T17:53:04.799Z"
   },
   {
    "duration": 89,
    "start_time": "2022-11-01T17:53:04.873Z"
   },
   {
    "duration": 5,
    "start_time": "2022-11-01T17:53:04.963Z"
   },
   {
    "duration": 28,
    "start_time": "2022-11-01T17:53:04.970Z"
   },
   {
    "duration": 3,
    "start_time": "2022-11-01T17:53:05.000Z"
   },
   {
    "duration": 25,
    "start_time": "2022-11-01T17:53:05.004Z"
   },
   {
    "duration": 78,
    "start_time": "2022-11-01T17:53:05.031Z"
   },
   {
    "duration": 14,
    "start_time": "2022-11-01T17:53:05.111Z"
   },
   {
    "duration": 26,
    "start_time": "2022-11-01T17:53:05.126Z"
   },
   {
    "duration": 9,
    "start_time": "2022-11-01T17:53:05.154Z"
   },
   {
    "duration": 18,
    "start_time": "2022-11-01T17:53:05.191Z"
   },
   {
    "duration": 32,
    "start_time": "2022-11-01T17:53:05.211Z"
   },
   {
    "duration": 60,
    "start_time": "2022-11-01T17:53:05.245Z"
   },
   {
    "duration": 19,
    "start_time": "2022-11-01T17:53:05.307Z"
   },
   {
    "duration": 5,
    "start_time": "2022-11-01T17:53:05.327Z"
   },
   {
    "duration": 58,
    "start_time": "2022-11-01T17:53:05.333Z"
   },
   {
    "duration": 8,
    "start_time": "2022-11-01T17:53:05.393Z"
   },
   {
    "duration": 7,
    "start_time": "2022-11-01T17:53:05.403Z"
   },
   {
    "duration": 1268,
    "start_time": "2022-11-01T17:53:05.412Z"
   },
   {
    "duration": 0,
    "start_time": "2022-11-01T17:53:06.682Z"
   },
   {
    "duration": 0,
    "start_time": "2022-11-01T17:53:06.684Z"
   },
   {
    "duration": 0,
    "start_time": "2022-11-01T17:53:06.685Z"
   },
   {
    "duration": 0,
    "start_time": "2022-11-01T17:53:06.688Z"
   },
   {
    "duration": 0,
    "start_time": "2022-11-01T17:53:06.689Z"
   },
   {
    "duration": 1,
    "start_time": "2022-11-01T17:53:06.690Z"
   },
   {
    "duration": 0,
    "start_time": "2022-11-01T17:53:06.691Z"
   },
   {
    "duration": 0,
    "start_time": "2022-11-01T17:53:06.692Z"
   },
   {
    "duration": 0,
    "start_time": "2022-11-01T17:53:06.694Z"
   },
   {
    "duration": 0,
    "start_time": "2022-11-01T17:53:06.695Z"
   },
   {
    "duration": 8,
    "start_time": "2022-11-01T17:55:20.444Z"
   },
   {
    "duration": 1127,
    "start_time": "2022-11-01T17:55:37.532Z"
   },
   {
    "duration": 452,
    "start_time": "2022-11-01T17:55:38.661Z"
   },
   {
    "duration": 19,
    "start_time": "2022-11-01T17:55:39.115Z"
   },
   {
    "duration": 64,
    "start_time": "2022-11-01T17:55:39.136Z"
   },
   {
    "duration": 74,
    "start_time": "2022-11-01T17:55:39.202Z"
   },
   {
    "duration": 4,
    "start_time": "2022-11-01T17:55:39.277Z"
   },
   {
    "duration": 15,
    "start_time": "2022-11-01T17:55:39.291Z"
   },
   {
    "duration": 2,
    "start_time": "2022-11-01T17:55:39.307Z"
   },
   {
    "duration": 24,
    "start_time": "2022-11-01T17:55:39.311Z"
   },
   {
    "duration": 92,
    "start_time": "2022-11-01T17:55:39.337Z"
   },
   {
    "duration": 16,
    "start_time": "2022-11-01T17:55:39.431Z"
   },
   {
    "duration": 42,
    "start_time": "2022-11-01T17:55:39.449Z"
   },
   {
    "duration": 12,
    "start_time": "2022-11-01T17:55:39.492Z"
   },
   {
    "duration": 22,
    "start_time": "2022-11-01T17:55:39.508Z"
   },
   {
    "duration": 32,
    "start_time": "2022-11-01T17:55:39.531Z"
   },
   {
    "duration": 69,
    "start_time": "2022-11-01T17:55:39.565Z"
   },
   {
    "duration": 27,
    "start_time": "2022-11-01T17:55:39.636Z"
   },
   {
    "duration": 29,
    "start_time": "2022-11-01T17:55:39.665Z"
   },
   {
    "duration": 64,
    "start_time": "2022-11-01T17:55:39.697Z"
   },
   {
    "duration": 29,
    "start_time": "2022-11-01T17:55:39.762Z"
   },
   {
    "duration": 32,
    "start_time": "2022-11-01T17:55:39.793Z"
   },
   {
    "duration": 14956,
    "start_time": "2022-11-01T17:55:39.827Z"
   },
   {
    "duration": 9,
    "start_time": "2022-11-01T17:55:54.785Z"
   },
   {
    "duration": 44,
    "start_time": "2022-11-01T17:55:54.796Z"
   },
   {
    "duration": 16,
    "start_time": "2022-11-01T17:55:54.841Z"
   },
   {
    "duration": 38,
    "start_time": "2022-11-01T17:55:54.858Z"
   },
   {
    "duration": 184,
    "start_time": "2022-11-01T17:55:54.898Z"
   },
   {
    "duration": 174,
    "start_time": "2022-11-01T17:55:55.083Z"
   },
   {
    "duration": 195,
    "start_time": "2022-11-01T17:55:55.259Z"
   },
   {
    "duration": 46,
    "start_time": "2022-11-01T17:55:55.456Z"
   },
   {
    "duration": 41,
    "start_time": "2022-11-01T17:55:55.503Z"
   },
   {
    "duration": 46,
    "start_time": "2022-11-01T17:55:55.546Z"
   },
   {
    "duration": 4,
    "start_time": "2022-11-01T17:57:29.449Z"
   },
   {
    "duration": 1154,
    "start_time": "2022-11-01T17:58:28.360Z"
   },
   {
    "duration": 423,
    "start_time": "2022-11-01T17:58:29.516Z"
   },
   {
    "duration": 22,
    "start_time": "2022-11-01T17:58:29.941Z"
   },
   {
    "duration": 77,
    "start_time": "2022-11-01T17:58:29.964Z"
   },
   {
    "duration": 82,
    "start_time": "2022-11-01T17:58:30.043Z"
   },
   {
    "duration": 5,
    "start_time": "2022-11-01T17:58:30.127Z"
   },
   {
    "duration": 22,
    "start_time": "2022-11-01T17:58:30.134Z"
   },
   {
    "duration": 5,
    "start_time": "2022-11-01T17:58:30.157Z"
   },
   {
    "duration": 36,
    "start_time": "2022-11-01T17:58:30.164Z"
   },
   {
    "duration": 58,
    "start_time": "2022-11-01T17:58:30.202Z"
   },
   {
    "duration": 31,
    "start_time": "2022-11-01T17:58:30.262Z"
   },
   {
    "duration": 27,
    "start_time": "2022-11-01T17:58:30.295Z"
   },
   {
    "duration": 10,
    "start_time": "2022-11-01T17:58:30.324Z"
   },
   {
    "duration": 27,
    "start_time": "2022-11-01T17:58:30.337Z"
   },
   {
    "duration": 50,
    "start_time": "2022-11-01T17:58:30.365Z"
   },
   {
    "duration": 43,
    "start_time": "2022-11-01T17:58:30.417Z"
   },
   {
    "duration": 40,
    "start_time": "2022-11-01T17:58:30.462Z"
   },
   {
    "duration": 5,
    "start_time": "2022-11-01T17:58:30.504Z"
   },
   {
    "duration": 55,
    "start_time": "2022-11-01T17:58:30.511Z"
   },
   {
    "duration": 35,
    "start_time": "2022-11-01T17:58:30.568Z"
   },
   {
    "duration": 5,
    "start_time": "2022-11-01T17:58:30.605Z"
   },
   {
    "duration": 15250,
    "start_time": "2022-11-01T17:58:30.612Z"
   },
   {
    "duration": 7,
    "start_time": "2022-11-01T17:58:45.864Z"
   },
   {
    "duration": 61,
    "start_time": "2022-11-01T17:58:45.873Z"
   },
   {
    "duration": 17,
    "start_time": "2022-11-01T17:58:45.935Z"
   },
   {
    "duration": 42,
    "start_time": "2022-11-01T17:58:45.953Z"
   },
   {
    "duration": 178,
    "start_time": "2022-11-01T17:58:45.996Z"
   },
   {
    "duration": 178,
    "start_time": "2022-11-01T17:58:46.175Z"
   },
   {
    "duration": 202,
    "start_time": "2022-11-01T17:58:46.355Z"
   },
   {
    "duration": 49,
    "start_time": "2022-11-01T17:58:46.559Z"
   },
   {
    "duration": 43,
    "start_time": "2022-11-01T17:58:46.610Z"
   },
   {
    "duration": 55,
    "start_time": "2022-11-01T17:58:46.656Z"
   },
   {
    "duration": 76,
    "start_time": "2022-11-01T18:09:09.435Z"
   },
   {
    "duration": 376,
    "start_time": "2022-11-01T18:09:29.301Z"
   },
   {
    "duration": 373,
    "start_time": "2022-11-01T18:09:34.452Z"
   },
   {
    "duration": 391,
    "start_time": "2022-11-01T18:09:41.196Z"
   },
   {
    "duration": 1116,
    "start_time": "2022-11-01T18:10:24.213Z"
   },
   {
    "duration": 414,
    "start_time": "2022-11-01T18:10:25.331Z"
   },
   {
    "duration": 17,
    "start_time": "2022-11-01T18:10:25.747Z"
   },
   {
    "duration": 64,
    "start_time": "2022-11-01T18:10:25.766Z"
   },
   {
    "duration": 82,
    "start_time": "2022-11-01T18:10:25.833Z"
   },
   {
    "duration": 6,
    "start_time": "2022-11-01T18:10:25.917Z"
   },
   {
    "duration": 16,
    "start_time": "2022-11-01T18:10:25.925Z"
   },
   {
    "duration": 2,
    "start_time": "2022-11-01T18:10:25.943Z"
   },
   {
    "duration": 24,
    "start_time": "2022-11-01T18:10:25.947Z"
   },
   {
    "duration": 77,
    "start_time": "2022-11-01T18:10:25.973Z"
   },
   {
    "duration": 14,
    "start_time": "2022-11-01T18:10:26.052Z"
   },
   {
    "duration": 46,
    "start_time": "2022-11-01T18:10:26.068Z"
   },
   {
    "duration": 9,
    "start_time": "2022-11-01T18:10:26.116Z"
   },
   {
    "duration": 16,
    "start_time": "2022-11-01T18:10:26.128Z"
   },
   {
    "duration": 50,
    "start_time": "2022-11-01T18:10:26.145Z"
   },
   {
    "duration": 42,
    "start_time": "2022-11-01T18:10:26.197Z"
   },
   {
    "duration": 18,
    "start_time": "2022-11-01T18:10:26.241Z"
   },
   {
    "duration": 5,
    "start_time": "2022-11-01T18:10:26.261Z"
   },
   {
    "duration": 39,
    "start_time": "2022-11-01T18:10:26.290Z"
   },
   {
    "duration": 27,
    "start_time": "2022-11-01T18:10:26.331Z"
   },
   {
    "duration": 32,
    "start_time": "2022-11-01T18:10:26.360Z"
   },
   {
    "duration": 15029,
    "start_time": "2022-11-01T18:10:26.394Z"
   },
   {
    "duration": 8,
    "start_time": "2022-11-01T18:10:41.424Z"
   },
   {
    "duration": 68,
    "start_time": "2022-11-01T18:10:41.434Z"
   },
   {
    "duration": 0,
    "start_time": "2022-11-01T18:10:41.504Z"
   },
   {
    "duration": 0,
    "start_time": "2022-11-01T18:10:41.505Z"
   },
   {
    "duration": 0,
    "start_time": "2022-11-01T18:10:41.506Z"
   },
   {
    "duration": 0,
    "start_time": "2022-11-01T18:10:41.507Z"
   },
   {
    "duration": 0,
    "start_time": "2022-11-01T18:10:41.508Z"
   },
   {
    "duration": 0,
    "start_time": "2022-11-01T18:10:41.509Z"
   },
   {
    "duration": 0,
    "start_time": "2022-11-01T18:10:41.510Z"
   },
   {
    "duration": 0,
    "start_time": "2022-11-01T18:10:41.512Z"
   },
   {
    "duration": 1130,
    "start_time": "2022-11-01T18:11:52.297Z"
   },
   {
    "duration": 395,
    "start_time": "2022-11-01T18:11:53.429Z"
   },
   {
    "duration": 16,
    "start_time": "2022-11-01T18:11:53.825Z"
   },
   {
    "duration": 59,
    "start_time": "2022-11-01T18:11:53.843Z"
   },
   {
    "duration": 74,
    "start_time": "2022-11-01T18:11:53.904Z"
   },
   {
    "duration": 13,
    "start_time": "2022-11-01T18:11:53.979Z"
   },
   {
    "duration": 16,
    "start_time": "2022-11-01T18:11:53.994Z"
   },
   {
    "duration": 2,
    "start_time": "2022-11-01T18:11:54.012Z"
   },
   {
    "duration": 31,
    "start_time": "2022-11-01T18:11:54.016Z"
   },
   {
    "duration": 73,
    "start_time": "2022-11-01T18:11:54.049Z"
   },
   {
    "duration": 13,
    "start_time": "2022-11-01T18:11:54.124Z"
   },
   {
    "duration": 25,
    "start_time": "2022-11-01T18:11:54.139Z"
   },
   {
    "duration": 29,
    "start_time": "2022-11-01T18:11:54.166Z"
   },
   {
    "duration": 18,
    "start_time": "2022-11-01T18:11:54.197Z"
   },
   {
    "duration": 32,
    "start_time": "2022-11-01T18:11:54.217Z"
   },
   {
    "duration": 55,
    "start_time": "2022-11-01T18:11:54.250Z"
   },
   {
    "duration": 18,
    "start_time": "2022-11-01T18:11:54.307Z"
   },
   {
    "duration": 4,
    "start_time": "2022-11-01T18:11:54.327Z"
   },
   {
    "duration": 58,
    "start_time": "2022-11-01T18:11:54.333Z"
   },
   {
    "duration": 33,
    "start_time": "2022-11-01T18:11:54.393Z"
   },
   {
    "duration": 5,
    "start_time": "2022-11-01T18:11:54.428Z"
   },
   {
    "duration": 14124,
    "start_time": "2022-11-01T18:11:54.435Z"
   },
   {
    "duration": 6,
    "start_time": "2022-11-01T18:12:08.561Z"
   },
   {
    "duration": 3,
    "start_time": "2022-11-01T18:12:08.568Z"
   },
   {
    "duration": 20,
    "start_time": "2022-11-01T18:12:08.572Z"
   },
   {
    "duration": 81,
    "start_time": "2022-11-01T18:12:08.593Z"
   },
   {
    "duration": 328,
    "start_time": "2022-11-01T18:12:08.676Z"
   },
   {
    "duration": 311,
    "start_time": "2022-11-01T18:12:09.007Z"
   },
   {
    "duration": 307,
    "start_time": "2022-11-01T18:12:09.319Z"
   },
   {
    "duration": 43,
    "start_time": "2022-11-01T18:12:09.628Z"
   },
   {
    "duration": 54,
    "start_time": "2022-11-01T18:12:09.673Z"
   },
   {
    "duration": 28,
    "start_time": "2022-11-01T18:12:09.729Z"
   },
   {
    "duration": 331,
    "start_time": "2022-11-01T18:26:54.804Z"
   },
   {
    "duration": 108,
    "start_time": "2022-11-01T18:32:22.528Z"
   },
   {
    "duration": 12,
    "start_time": "2022-11-01T18:32:36.534Z"
   },
   {
    "duration": 499,
    "start_time": "2022-11-01T18:33:05.824Z"
   },
   {
    "duration": 34,
    "start_time": "2022-11-01T19:04:24.418Z"
   },
   {
    "duration": 41,
    "start_time": "2022-11-01T19:04:28.408Z"
   },
   {
    "duration": 110,
    "start_time": "2022-11-01T19:04:39.093Z"
   },
   {
    "duration": 47,
    "start_time": "2022-11-01T19:04:56.845Z"
   },
   {
    "duration": 1152,
    "start_time": "2022-11-01T19:05:03.999Z"
   },
   {
    "duration": 405,
    "start_time": "2022-11-01T19:05:05.153Z"
   },
   {
    "duration": 26,
    "start_time": "2022-11-01T19:05:05.560Z"
   },
   {
    "duration": 63,
    "start_time": "2022-11-01T19:05:05.588Z"
   },
   {
    "duration": 99,
    "start_time": "2022-11-01T19:05:05.652Z"
   },
   {
    "duration": 4,
    "start_time": "2022-11-01T19:05:05.753Z"
   },
   {
    "duration": 33,
    "start_time": "2022-11-01T19:05:05.758Z"
   },
   {
    "duration": 2,
    "start_time": "2022-11-01T19:05:05.792Z"
   },
   {
    "duration": 31,
    "start_time": "2022-11-01T19:05:05.796Z"
   },
   {
    "duration": 66,
    "start_time": "2022-11-01T19:05:05.829Z"
   },
   {
    "duration": 14,
    "start_time": "2022-11-01T19:05:05.897Z"
   },
   {
    "duration": 25,
    "start_time": "2022-11-01T19:05:05.913Z"
   },
   {
    "duration": 9,
    "start_time": "2022-11-01T19:05:05.939Z"
   },
   {
    "duration": 44,
    "start_time": "2022-11-01T19:05:05.950Z"
   },
   {
    "duration": 39,
    "start_time": "2022-11-01T19:05:05.995Z"
   },
   {
    "duration": 60,
    "start_time": "2022-11-01T19:05:06.036Z"
   },
   {
    "duration": 19,
    "start_time": "2022-11-01T19:05:06.098Z"
   },
   {
    "duration": 15,
    "start_time": "2022-11-01T19:05:06.119Z"
   },
   {
    "duration": 38,
    "start_time": "2022-11-01T19:05:06.135Z"
   },
   {
    "duration": 40,
    "start_time": "2022-11-01T19:05:06.175Z"
   },
   {
    "duration": 5,
    "start_time": "2022-11-01T19:05:06.217Z"
   },
   {
    "duration": 15144,
    "start_time": "2022-11-01T19:05:06.223Z"
   },
   {
    "duration": 7,
    "start_time": "2022-11-01T19:05:21.369Z"
   },
   {
    "duration": 15,
    "start_time": "2022-11-01T19:05:21.377Z"
   },
   {
    "duration": 5,
    "start_time": "2022-11-01T19:05:21.394Z"
   },
   {
    "duration": 95,
    "start_time": "2022-11-01T19:05:21.401Z"
   },
   {
    "duration": 341,
    "start_time": "2022-11-01T19:05:21.498Z"
   },
   {
    "duration": 333,
    "start_time": "2022-11-01T19:05:21.842Z"
   },
   {
    "duration": 295,
    "start_time": "2022-11-01T19:05:22.178Z"
   },
   {
    "duration": 326,
    "start_time": "2022-11-01T19:05:22.475Z"
   },
   {
    "duration": 523,
    "start_time": "2022-11-01T19:05:22.803Z"
   },
   {
    "duration": 25,
    "start_time": "2022-11-01T19:05:23.327Z"
   },
   {
    "duration": 41,
    "start_time": "2022-11-01T19:05:23.354Z"
   },
   {
    "duration": 38,
    "start_time": "2022-11-01T19:05:23.396Z"
   },
   {
    "duration": 110,
    "start_time": "2022-11-01T19:24:18.856Z"
   },
   {
    "duration": 21,
    "start_time": "2022-11-01T19:24:29.951Z"
   },
   {
    "duration": 19,
    "start_time": "2022-11-01T19:24:36.209Z"
   },
   {
    "duration": 12,
    "start_time": "2022-11-01T19:24:48.962Z"
   },
   {
    "duration": 27,
    "start_time": "2022-11-01T19:25:10.118Z"
   },
   {
    "duration": 11,
    "start_time": "2022-11-01T19:25:10.807Z"
   },
   {
    "duration": 19,
    "start_time": "2022-11-01T19:25:26.767Z"
   },
   {
    "duration": 12,
    "start_time": "2022-11-01T19:25:27.290Z"
   },
   {
    "duration": 20,
    "start_time": "2022-11-01T19:25:38.318Z"
   },
   {
    "duration": 13,
    "start_time": "2022-11-01T19:25:38.728Z"
   },
   {
    "duration": 1145,
    "start_time": "2022-11-01T19:26:04.572Z"
   },
   {
    "duration": 396,
    "start_time": "2022-11-01T19:26:05.718Z"
   },
   {
    "duration": 17,
    "start_time": "2022-11-01T19:26:06.116Z"
   },
   {
    "duration": 60,
    "start_time": "2022-11-01T19:26:06.135Z"
   },
   {
    "duration": 69,
    "start_time": "2022-11-01T19:26:06.197Z"
   },
   {
    "duration": 4,
    "start_time": "2022-11-01T19:26:06.268Z"
   },
   {
    "duration": 23,
    "start_time": "2022-11-01T19:26:06.273Z"
   },
   {
    "duration": 2,
    "start_time": "2022-11-01T19:26:06.297Z"
   },
   {
    "duration": 23,
    "start_time": "2022-11-01T19:26:06.301Z"
   },
   {
    "duration": 75,
    "start_time": "2022-11-01T19:26:06.327Z"
   },
   {
    "duration": 14,
    "start_time": "2022-11-01T19:26:06.403Z"
   },
   {
    "duration": 25,
    "start_time": "2022-11-01T19:26:06.419Z"
   },
   {
    "duration": 9,
    "start_time": "2022-11-01T19:26:06.446Z"
   },
   {
    "duration": 40,
    "start_time": "2022-11-01T19:26:06.457Z"
   },
   {
    "duration": 29,
    "start_time": "2022-11-01T19:26:06.499Z"
   },
   {
    "duration": 43,
    "start_time": "2022-11-01T19:26:06.529Z"
   },
   {
    "duration": 22,
    "start_time": "2022-11-01T19:26:06.591Z"
   },
   {
    "duration": 6,
    "start_time": "2022-11-01T19:26:06.615Z"
   },
   {
    "duration": 68,
    "start_time": "2022-11-01T19:26:06.623Z"
   },
   {
    "duration": 36,
    "start_time": "2022-11-01T19:26:06.693Z"
   },
   {
    "duration": 6,
    "start_time": "2022-11-01T19:26:06.731Z"
   },
   {
    "duration": 14511,
    "start_time": "2022-11-01T19:26:06.739Z"
   },
   {
    "duration": 6,
    "start_time": "2022-11-01T19:26:21.252Z"
   },
   {
    "duration": 2,
    "start_time": "2022-11-01T19:26:21.260Z"
   },
   {
    "duration": 6,
    "start_time": "2022-11-01T19:26:21.263Z"
   },
   {
    "duration": 87,
    "start_time": "2022-11-01T19:26:21.270Z"
   },
   {
    "duration": 314,
    "start_time": "2022-11-01T19:26:21.359Z"
   },
   {
    "duration": 297,
    "start_time": "2022-11-01T19:26:21.676Z"
   },
   {
    "duration": 282,
    "start_time": "2022-11-01T19:26:21.974Z"
   },
   {
    "duration": 328,
    "start_time": "2022-11-01T19:26:22.258Z"
   },
   {
    "duration": 465,
    "start_time": "2022-11-01T19:26:22.590Z"
   },
   {
    "duration": 23,
    "start_time": "2022-11-01T19:26:23.057Z"
   },
   {
    "duration": 30,
    "start_time": "2022-11-01T19:26:23.090Z"
   },
   {
    "duration": 35,
    "start_time": "2022-11-01T19:26:23.121Z"
   },
   {
    "duration": 12,
    "start_time": "2022-11-01T19:28:45.605Z"
   },
   {
    "duration": 29,
    "start_time": "2022-11-01T19:29:04.220Z"
   },
   {
    "duration": 25,
    "start_time": "2022-11-01T19:29:46.841Z"
   },
   {
    "duration": 29,
    "start_time": "2022-11-01T19:29:58.341Z"
   },
   {
    "duration": 27,
    "start_time": "2022-11-01T19:30:14.819Z"
   },
   {
    "duration": 23,
    "start_time": "2022-11-01T19:32:54.544Z"
   },
   {
    "duration": 23,
    "start_time": "2022-11-01T19:34:08.681Z"
   },
   {
    "duration": 26,
    "start_time": "2022-11-01T19:34:25.205Z"
   },
   {
    "duration": 26,
    "start_time": "2022-11-01T19:34:51.399Z"
   },
   {
    "duration": 26,
    "start_time": "2022-11-01T19:35:02.199Z"
   },
   {
    "duration": 1203,
    "start_time": "2022-11-01T19:35:10.126Z"
   },
   {
    "duration": 441,
    "start_time": "2022-11-01T19:35:11.332Z"
   },
   {
    "duration": 17,
    "start_time": "2022-11-01T19:35:11.776Z"
   },
   {
    "duration": 66,
    "start_time": "2022-11-01T19:35:11.795Z"
   },
   {
    "duration": 89,
    "start_time": "2022-11-01T19:35:11.863Z"
   },
   {
    "duration": 5,
    "start_time": "2022-11-01T19:35:11.953Z"
   },
   {
    "duration": 35,
    "start_time": "2022-11-01T19:35:11.960Z"
   },
   {
    "duration": 2,
    "start_time": "2022-11-01T19:35:11.997Z"
   },
   {
    "duration": 30,
    "start_time": "2022-11-01T19:35:12.001Z"
   },
   {
    "duration": 67,
    "start_time": "2022-11-01T19:35:12.033Z"
   },
   {
    "duration": 13,
    "start_time": "2022-11-01T19:35:12.102Z"
   },
   {
    "duration": 26,
    "start_time": "2022-11-01T19:35:12.117Z"
   },
   {
    "duration": 9,
    "start_time": "2022-11-01T19:35:12.145Z"
   },
   {
    "duration": 40,
    "start_time": "2022-11-01T19:35:12.157Z"
   },
   {
    "duration": 30,
    "start_time": "2022-11-01T19:35:12.199Z"
   },
   {
    "duration": 40,
    "start_time": "2022-11-01T19:35:12.231Z"
   },
   {
    "duration": 35,
    "start_time": "2022-11-01T19:35:12.273Z"
   },
   {
    "duration": 5,
    "start_time": "2022-11-01T19:35:12.310Z"
   },
   {
    "duration": 39,
    "start_time": "2022-11-01T19:35:12.316Z"
   },
   {
    "duration": 57,
    "start_time": "2022-11-01T19:35:12.357Z"
   },
   {
    "duration": 6,
    "start_time": "2022-11-01T19:35:12.416Z"
   },
   {
    "duration": 15350,
    "start_time": "2022-11-01T19:35:12.425Z"
   },
   {
    "duration": 14,
    "start_time": "2022-11-01T19:35:27.777Z"
   },
   {
    "duration": 2,
    "start_time": "2022-11-01T19:35:27.793Z"
   },
   {
    "duration": 6,
    "start_time": "2022-11-01T19:35:27.796Z"
   },
   {
    "duration": 74,
    "start_time": "2022-11-01T19:35:27.804Z"
   },
   {
    "duration": 353,
    "start_time": "2022-11-01T19:35:27.891Z"
   },
   {
    "duration": 314,
    "start_time": "2022-11-01T19:35:28.245Z"
   },
   {
    "duration": 310,
    "start_time": "2022-11-01T19:35:28.561Z"
   },
   {
    "duration": 331,
    "start_time": "2022-11-01T19:35:28.873Z"
   },
   {
    "duration": 516,
    "start_time": "2022-11-01T19:35:29.206Z"
   },
   {
    "duration": 29,
    "start_time": "2022-11-01T19:35:29.724Z"
   },
   {
    "duration": 41,
    "start_time": "2022-11-01T19:35:29.754Z"
   },
   {
    "duration": 28,
    "start_time": "2022-11-01T19:35:29.797Z"
   },
   {
    "duration": 131,
    "start_time": "2022-11-01T19:35:29.827Z"
   },
   {
    "duration": 41,
    "start_time": "2022-11-01T19:35:29.960Z"
   },
   {
    "duration": 27,
    "start_time": "2022-11-01T19:36:40.377Z"
   },
   {
    "duration": 1145,
    "start_time": "2022-11-01T19:37:34.202Z"
   },
   {
    "duration": 406,
    "start_time": "2022-11-01T19:37:35.349Z"
   },
   {
    "duration": 17,
    "start_time": "2022-11-01T19:37:35.757Z"
   },
   {
    "duration": 62,
    "start_time": "2022-11-01T19:37:35.776Z"
   },
   {
    "duration": 81,
    "start_time": "2022-11-01T19:37:35.841Z"
   },
   {
    "duration": 6,
    "start_time": "2022-11-01T19:37:35.923Z"
   },
   {
    "duration": 16,
    "start_time": "2022-11-01T19:37:35.931Z"
   },
   {
    "duration": 2,
    "start_time": "2022-11-01T19:37:35.949Z"
   },
   {
    "duration": 42,
    "start_time": "2022-11-01T19:37:35.952Z"
   },
   {
    "duration": 65,
    "start_time": "2022-11-01T19:37:35.996Z"
   },
   {
    "duration": 14,
    "start_time": "2022-11-01T19:37:36.063Z"
   },
   {
    "duration": 26,
    "start_time": "2022-11-01T19:37:36.090Z"
   },
   {
    "duration": 10,
    "start_time": "2022-11-01T19:37:36.118Z"
   },
   {
    "duration": 16,
    "start_time": "2022-11-01T19:37:36.131Z"
   },
   {
    "duration": 56,
    "start_time": "2022-11-01T19:37:36.149Z"
   },
   {
    "duration": 40,
    "start_time": "2022-11-01T19:37:36.206Z"
   },
   {
    "duration": 18,
    "start_time": "2022-11-01T19:37:36.247Z"
   },
   {
    "duration": 25,
    "start_time": "2022-11-01T19:37:36.267Z"
   },
   {
    "duration": 40,
    "start_time": "2022-11-01T19:37:36.293Z"
   },
   {
    "duration": 25,
    "start_time": "2022-11-01T19:37:36.334Z"
   },
   {
    "duration": 4,
    "start_time": "2022-11-01T19:37:36.361Z"
   },
   {
    "duration": 15029,
    "start_time": "2022-11-01T19:37:36.366Z"
   },
   {
    "duration": 7,
    "start_time": "2022-11-01T19:37:51.397Z"
   },
   {
    "duration": 3,
    "start_time": "2022-11-01T19:37:51.406Z"
   },
   {
    "duration": 27,
    "start_time": "2022-11-01T19:37:51.411Z"
   },
   {
    "duration": 121,
    "start_time": "2022-11-01T19:37:51.441Z"
   },
   {
    "duration": 321,
    "start_time": "2022-11-01T19:37:51.563Z"
   },
   {
    "duration": 317,
    "start_time": "2022-11-01T19:37:51.891Z"
   },
   {
    "duration": 322,
    "start_time": "2022-11-01T19:37:52.210Z"
   },
   {
    "duration": 339,
    "start_time": "2022-11-01T19:37:52.534Z"
   },
   {
    "duration": 491,
    "start_time": "2022-11-01T19:37:52.875Z"
   },
   {
    "duration": 43,
    "start_time": "2022-11-01T19:37:53.368Z"
   },
   {
    "duration": 30,
    "start_time": "2022-11-01T19:37:53.413Z"
   },
   {
    "duration": 51,
    "start_time": "2022-11-01T19:37:53.445Z"
   },
   {
    "duration": 144,
    "start_time": "2022-11-01T19:37:53.499Z"
   },
   {
    "duration": 29,
    "start_time": "2022-11-01T19:37:53.645Z"
   },
   {
    "duration": 29,
    "start_time": "2022-11-01T19:38:11.883Z"
   },
   {
    "duration": 1176,
    "start_time": "2022-11-01T19:38:48.957Z"
   },
   {
    "duration": 405,
    "start_time": "2022-11-01T19:38:50.135Z"
   },
   {
    "duration": 16,
    "start_time": "2022-11-01T19:38:50.542Z"
   },
   {
    "duration": 63,
    "start_time": "2022-11-01T19:38:50.560Z"
   },
   {
    "duration": 75,
    "start_time": "2022-11-01T19:38:50.624Z"
   },
   {
    "duration": 4,
    "start_time": "2022-11-01T19:38:50.701Z"
   },
   {
    "duration": 17,
    "start_time": "2022-11-01T19:38:50.706Z"
   },
   {
    "duration": 2,
    "start_time": "2022-11-01T19:38:50.725Z"
   },
   {
    "duration": 24,
    "start_time": "2022-11-01T19:38:50.728Z"
   },
   {
    "duration": 80,
    "start_time": "2022-11-01T19:38:50.755Z"
   },
   {
    "duration": 14,
    "start_time": "2022-11-01T19:38:50.837Z"
   },
   {
    "duration": 39,
    "start_time": "2022-11-01T19:38:50.853Z"
   },
   {
    "duration": 14,
    "start_time": "2022-11-01T19:38:50.894Z"
   },
   {
    "duration": 17,
    "start_time": "2022-11-01T19:38:50.910Z"
   },
   {
    "duration": 30,
    "start_time": "2022-11-01T19:38:50.929Z"
   },
   {
    "duration": 64,
    "start_time": "2022-11-01T19:38:50.961Z"
   },
   {
    "duration": 21,
    "start_time": "2022-11-01T19:38:51.026Z"
   },
   {
    "duration": 4,
    "start_time": "2022-11-01T19:38:51.049Z"
   },
   {
    "duration": 57,
    "start_time": "2022-11-01T19:38:51.055Z"
   },
   {
    "duration": 28,
    "start_time": "2022-11-01T19:38:51.114Z"
   },
   {
    "duration": 4,
    "start_time": "2022-11-01T19:38:51.144Z"
   },
   {
    "duration": 14793,
    "start_time": "2022-11-01T19:38:51.150Z"
   },
   {
    "duration": 6,
    "start_time": "2022-11-01T19:39:05.945Z"
   },
   {
    "duration": 5,
    "start_time": "2022-11-01T19:39:05.953Z"
   },
   {
    "duration": 8,
    "start_time": "2022-11-01T19:39:05.959Z"
   },
   {
    "duration": 90,
    "start_time": "2022-11-01T19:39:05.969Z"
   },
   {
    "duration": 347,
    "start_time": "2022-11-01T19:39:06.060Z"
   },
   {
    "duration": 394,
    "start_time": "2022-11-01T19:39:06.410Z"
   },
   {
    "duration": 308,
    "start_time": "2022-11-01T19:39:06.806Z"
   },
   {
    "duration": 349,
    "start_time": "2022-11-01T19:39:07.116Z"
   },
   {
    "duration": 476,
    "start_time": "2022-11-01T19:39:07.467Z"
   },
   {
    "duration": 25,
    "start_time": "2022-11-01T19:39:07.944Z"
   },
   {
    "duration": 42,
    "start_time": "2022-11-01T19:39:07.970Z"
   },
   {
    "duration": 32,
    "start_time": "2022-11-01T19:39:08.013Z"
   },
   {
    "duration": 141,
    "start_time": "2022-11-01T19:39:08.047Z"
   },
   {
    "duration": 31,
    "start_time": "2022-11-01T19:39:08.189Z"
   },
   {
    "duration": 26,
    "start_time": "2022-11-01T19:42:49.286Z"
   },
   {
    "duration": 31,
    "start_time": "2022-11-01T19:42:56.488Z"
   },
   {
    "duration": 26,
    "start_time": "2022-11-01T19:43:11.031Z"
   },
   {
    "duration": 27,
    "start_time": "2022-11-01T19:48:32.329Z"
   },
   {
    "duration": 24,
    "start_time": "2022-11-01T19:48:41.248Z"
   },
   {
    "duration": 23,
    "start_time": "2022-11-01T19:53:10.722Z"
   },
   {
    "duration": 32,
    "start_time": "2022-11-01T19:53:26.451Z"
   },
   {
    "duration": 1112,
    "start_time": "2022-11-01T19:54:51.128Z"
   },
   {
    "duration": 413,
    "start_time": "2022-11-01T19:54:52.241Z"
   },
   {
    "duration": 20,
    "start_time": "2022-11-01T19:54:52.656Z"
   },
   {
    "duration": 67,
    "start_time": "2022-11-01T19:54:52.678Z"
   },
   {
    "duration": 80,
    "start_time": "2022-11-01T19:54:52.747Z"
   },
   {
    "duration": 4,
    "start_time": "2022-11-01T19:54:52.828Z"
   },
   {
    "duration": 18,
    "start_time": "2022-11-01T19:54:52.834Z"
   },
   {
    "duration": 2,
    "start_time": "2022-11-01T19:54:52.854Z"
   },
   {
    "duration": 39,
    "start_time": "2022-11-01T19:54:52.857Z"
   },
   {
    "duration": 59,
    "start_time": "2022-11-01T19:54:52.899Z"
   },
   {
    "duration": 31,
    "start_time": "2022-11-01T19:54:52.960Z"
   },
   {
    "duration": 25,
    "start_time": "2022-11-01T19:54:52.993Z"
   },
   {
    "duration": 11,
    "start_time": "2022-11-01T19:54:53.020Z"
   },
   {
    "duration": 18,
    "start_time": "2022-11-01T19:54:53.032Z"
   },
   {
    "duration": 60,
    "start_time": "2022-11-01T19:54:53.052Z"
   },
   {
    "duration": 42,
    "start_time": "2022-11-01T19:54:53.113Z"
   },
   {
    "duration": 39,
    "start_time": "2022-11-01T19:54:53.156Z"
   },
   {
    "duration": 4,
    "start_time": "2022-11-01T19:54:53.197Z"
   },
   {
    "duration": 43,
    "start_time": "2022-11-01T19:54:53.203Z"
   },
   {
    "duration": 44,
    "start_time": "2022-11-01T19:54:53.248Z"
   },
   {
    "duration": 5,
    "start_time": "2022-11-01T19:54:53.293Z"
   },
   {
    "duration": 14947,
    "start_time": "2022-11-01T19:54:53.300Z"
   },
   {
    "duration": 6,
    "start_time": "2022-11-01T19:55:08.249Z"
   },
   {
    "duration": 4,
    "start_time": "2022-11-01T19:55:08.257Z"
   },
   {
    "duration": 6,
    "start_time": "2022-11-01T19:55:08.262Z"
   },
   {
    "duration": 89,
    "start_time": "2022-11-01T19:55:08.270Z"
   },
   {
    "duration": 341,
    "start_time": "2022-11-01T19:55:08.360Z"
   },
   {
    "duration": 318,
    "start_time": "2022-11-01T19:55:08.704Z"
   },
   {
    "duration": 318,
    "start_time": "2022-11-01T19:55:09.024Z"
   },
   {
    "duration": 351,
    "start_time": "2022-11-01T19:55:09.344Z"
   },
   {
    "duration": 522,
    "start_time": "2022-11-01T19:55:09.697Z"
   },
   {
    "duration": 24,
    "start_time": "2022-11-01T19:55:10.220Z"
   },
   {
    "duration": 24,
    "start_time": "2022-11-01T19:55:10.246Z"
   },
   {
    "duration": 46,
    "start_time": "2022-11-01T19:55:10.272Z"
   },
   {
    "duration": 143,
    "start_time": "2022-11-01T19:55:10.319Z"
   },
   {
    "duration": 36,
    "start_time": "2022-11-01T19:55:10.464Z"
   },
   {
    "duration": 78,
    "start_time": "2022-11-01T20:03:29.594Z"
   },
   {
    "duration": 110,
    "start_time": "2022-11-01T20:03:52.813Z"
   },
   {
    "duration": 1220,
    "start_time": "2022-11-01T20:04:54.381Z"
   },
   {
    "duration": 392,
    "start_time": "2022-11-01T20:04:55.603Z"
   },
   {
    "duration": 17,
    "start_time": "2022-11-01T20:04:55.996Z"
   },
   {
    "duration": 98,
    "start_time": "2022-11-01T20:04:56.015Z"
   },
   {
    "duration": 84,
    "start_time": "2022-11-01T20:04:56.114Z"
   },
   {
    "duration": 4,
    "start_time": "2022-11-01T20:04:56.199Z"
   },
   {
    "duration": 16,
    "start_time": "2022-11-01T20:04:56.205Z"
   },
   {
    "duration": 2,
    "start_time": "2022-11-01T20:04:56.223Z"
   },
   {
    "duration": 25,
    "start_time": "2022-11-01T20:04:56.227Z"
   },
   {
    "duration": 77,
    "start_time": "2022-11-01T20:04:56.255Z"
   },
   {
    "duration": 14,
    "start_time": "2022-11-01T20:04:56.334Z"
   },
   {
    "duration": 23,
    "start_time": "2022-11-01T20:04:56.350Z"
   },
   {
    "duration": 22,
    "start_time": "2022-11-01T20:04:56.375Z"
   },
   {
    "duration": 21,
    "start_time": "2022-11-01T20:04:56.399Z"
   },
   {
    "duration": 30,
    "start_time": "2022-11-01T20:04:56.423Z"
   },
   {
    "duration": 63,
    "start_time": "2022-11-01T20:04:56.455Z"
   },
   {
    "duration": 19,
    "start_time": "2022-11-01T20:04:56.520Z"
   },
   {
    "duration": 7,
    "start_time": "2022-11-01T20:04:56.541Z"
   },
   {
    "duration": 68,
    "start_time": "2022-11-01T20:04:56.550Z"
   },
   {
    "duration": 34,
    "start_time": "2022-11-01T20:04:56.620Z"
   },
   {
    "duration": 5,
    "start_time": "2022-11-01T20:04:56.656Z"
   },
   {
    "duration": 14526,
    "start_time": "2022-11-01T20:04:56.663Z"
   },
   {
    "duration": 6,
    "start_time": "2022-11-01T20:05:11.191Z"
   },
   {
    "duration": 2,
    "start_time": "2022-11-01T20:05:11.199Z"
   },
   {
    "duration": 9,
    "start_time": "2022-11-01T20:05:11.203Z"
   },
   {
    "duration": 82,
    "start_time": "2022-11-01T20:05:11.214Z"
   },
   {
    "duration": 331,
    "start_time": "2022-11-01T20:05:11.297Z"
   },
   {
    "duration": 302,
    "start_time": "2022-11-01T20:05:11.631Z"
   },
   {
    "duration": 308,
    "start_time": "2022-11-01T20:05:11.934Z"
   },
   {
    "duration": 333,
    "start_time": "2022-11-01T20:05:12.244Z"
   },
   {
    "duration": 480,
    "start_time": "2022-11-01T20:05:12.579Z"
   },
   {
    "duration": 36,
    "start_time": "2022-11-01T20:05:13.061Z"
   },
   {
    "duration": 29,
    "start_time": "2022-11-01T20:05:13.099Z"
   },
   {
    "duration": 29,
    "start_time": "2022-11-01T20:05:13.130Z"
   },
   {
    "duration": 141,
    "start_time": "2022-11-01T20:05:13.161Z"
   },
   {
    "duration": 28,
    "start_time": "2022-11-01T20:05:13.304Z"
   },
   {
    "duration": 1071,
    "start_time": "2022-11-01T20:06:29.046Z"
   },
   {
    "duration": 403,
    "start_time": "2022-11-01T20:06:30.120Z"
   },
   {
    "duration": 16,
    "start_time": "2022-11-01T20:06:30.527Z"
   },
   {
    "duration": 79,
    "start_time": "2022-11-01T20:06:30.545Z"
   },
   {
    "duration": 73,
    "start_time": "2022-11-01T20:06:30.626Z"
   },
   {
    "duration": 4,
    "start_time": "2022-11-01T20:06:30.701Z"
   },
   {
    "duration": 24,
    "start_time": "2022-11-01T20:06:30.706Z"
   },
   {
    "duration": 8,
    "start_time": "2022-11-01T20:06:30.731Z"
   },
   {
    "duration": 36,
    "start_time": "2022-11-01T20:06:30.740Z"
   },
   {
    "duration": 59,
    "start_time": "2022-11-01T20:06:30.777Z"
   },
   {
    "duration": 14,
    "start_time": "2022-11-01T20:06:30.838Z"
   },
   {
    "duration": 38,
    "start_time": "2022-11-01T20:06:30.854Z"
   },
   {
    "duration": 11,
    "start_time": "2022-11-01T20:06:30.895Z"
   },
   {
    "duration": 17,
    "start_time": "2022-11-01T20:06:30.907Z"
   },
   {
    "duration": 30,
    "start_time": "2022-11-01T20:06:30.926Z"
   },
   {
    "duration": 66,
    "start_time": "2022-11-01T20:06:30.957Z"
   },
   {
    "duration": 18,
    "start_time": "2022-11-01T20:06:31.025Z"
   },
   {
    "duration": 4,
    "start_time": "2022-11-01T20:06:31.045Z"
   },
   {
    "duration": 59,
    "start_time": "2022-11-01T20:06:31.051Z"
   },
   {
    "duration": 18,
    "start_time": "2022-11-01T20:06:31.112Z"
   },
   {
    "duration": 6,
    "start_time": "2022-11-01T20:06:31.132Z"
   },
   {
    "duration": 14575,
    "start_time": "2022-11-01T20:06:31.140Z"
   },
   {
    "duration": 7,
    "start_time": "2022-11-01T20:06:45.717Z"
   },
   {
    "duration": 2,
    "start_time": "2022-11-01T20:06:45.725Z"
   },
   {
    "duration": 6,
    "start_time": "2022-11-01T20:06:45.728Z"
   },
   {
    "duration": 90,
    "start_time": "2022-11-01T20:06:45.736Z"
   },
   {
    "duration": 323,
    "start_time": "2022-11-01T20:06:45.829Z"
   },
   {
    "duration": 325,
    "start_time": "2022-11-01T20:06:46.154Z"
   },
   {
    "duration": 395,
    "start_time": "2022-11-01T20:06:46.480Z"
   },
   {
    "duration": 327,
    "start_time": "2022-11-01T20:06:46.876Z"
   },
   {
    "duration": 519,
    "start_time": "2022-11-01T20:06:47.205Z"
   },
   {
    "duration": 36,
    "start_time": "2022-11-01T20:06:47.726Z"
   },
   {
    "duration": 37,
    "start_time": "2022-11-01T20:06:47.764Z"
   },
   {
    "duration": 38,
    "start_time": "2022-11-01T20:06:47.803Z"
   },
   {
    "duration": 136,
    "start_time": "2022-11-01T20:06:47.843Z"
   },
   {
    "duration": 37,
    "start_time": "2022-11-01T20:06:47.981Z"
   },
   {
    "duration": 1081,
    "start_time": "2022-11-01T20:09:27.731Z"
   },
   {
    "duration": 384,
    "start_time": "2022-11-01T20:09:28.814Z"
   },
   {
    "duration": 16,
    "start_time": "2022-11-01T20:09:29.200Z"
   },
   {
    "duration": 63,
    "start_time": "2022-11-01T20:09:29.217Z"
   },
   {
    "duration": 69,
    "start_time": "2022-11-01T20:09:29.292Z"
   },
   {
    "duration": 4,
    "start_time": "2022-11-01T20:09:29.362Z"
   },
   {
    "duration": 30,
    "start_time": "2022-11-01T20:09:29.368Z"
   },
   {
    "duration": 3,
    "start_time": "2022-11-01T20:09:29.399Z"
   },
   {
    "duration": 22,
    "start_time": "2022-11-01T20:09:29.404Z"
   },
   {
    "duration": 68,
    "start_time": "2022-11-01T20:09:29.428Z"
   },
   {
    "duration": 13,
    "start_time": "2022-11-01T20:09:29.498Z"
   },
   {
    "duration": 23,
    "start_time": "2022-11-01T20:09:29.513Z"
   },
   {
    "duration": 9,
    "start_time": "2022-11-01T20:09:29.538Z"
   },
   {
    "duration": 41,
    "start_time": "2022-11-01T20:09:29.550Z"
   },
   {
    "duration": 32,
    "start_time": "2022-11-01T20:09:29.592Z"
   },
   {
    "duration": 40,
    "start_time": "2022-11-01T20:09:29.626Z"
   },
   {
    "duration": 42,
    "start_time": "2022-11-01T20:09:29.667Z"
   },
   {
    "duration": 4,
    "start_time": "2022-11-01T20:09:29.710Z"
   },
   {
    "duration": 36,
    "start_time": "2022-11-01T20:09:29.716Z"
   },
   {
    "duration": 44,
    "start_time": "2022-11-01T20:09:29.754Z"
   },
   {
    "duration": 4,
    "start_time": "2022-11-01T20:09:29.800Z"
   },
   {
    "duration": 14454,
    "start_time": "2022-11-01T20:09:29.805Z"
   },
   {
    "duration": 6,
    "start_time": "2022-11-01T20:09:44.261Z"
   },
   {
    "duration": 3,
    "start_time": "2022-11-01T20:09:44.268Z"
   },
   {
    "duration": 19,
    "start_time": "2022-11-01T20:09:44.272Z"
   },
   {
    "duration": 84,
    "start_time": "2022-11-01T20:09:44.292Z"
   },
   {
    "duration": 340,
    "start_time": "2022-11-01T20:09:44.377Z"
   },
   {
    "duration": 308,
    "start_time": "2022-11-01T20:09:44.719Z"
   },
   {
    "duration": 305,
    "start_time": "2022-11-01T20:09:45.029Z"
   },
   {
    "duration": 332,
    "start_time": "2022-11-01T20:09:45.336Z"
   },
   {
    "duration": 453,
    "start_time": "2022-11-01T20:09:45.670Z"
   },
   {
    "duration": 23,
    "start_time": "2022-11-01T20:09:46.125Z"
   },
   {
    "duration": 25,
    "start_time": "2022-11-01T20:09:46.150Z"
   },
   {
    "duration": 30,
    "start_time": "2022-11-01T20:09:46.190Z"
   },
   {
    "duration": 131,
    "start_time": "2022-11-01T20:09:46.222Z"
   },
   {
    "duration": 27,
    "start_time": "2022-11-01T20:09:46.354Z"
   },
   {
    "duration": 25,
    "start_time": "2022-11-01T20:12:12.647Z"
   },
   {
    "duration": 34,
    "start_time": "2022-11-01T20:12:18.896Z"
   },
   {
    "duration": 1135,
    "start_time": "2022-11-01T20:12:25.285Z"
   },
   {
    "duration": 437,
    "start_time": "2022-11-01T20:12:26.421Z"
   },
   {
    "duration": 17,
    "start_time": "2022-11-01T20:12:26.860Z"
   },
   {
    "duration": 63,
    "start_time": "2022-11-01T20:12:26.879Z"
   },
   {
    "duration": 89,
    "start_time": "2022-11-01T20:12:26.944Z"
   },
   {
    "duration": 4,
    "start_time": "2022-11-01T20:12:27.035Z"
   },
   {
    "duration": 19,
    "start_time": "2022-11-01T20:12:27.040Z"
   },
   {
    "duration": 2,
    "start_time": "2022-11-01T20:12:27.060Z"
   },
   {
    "duration": 34,
    "start_time": "2022-11-01T20:12:27.064Z"
   },
   {
    "duration": 58,
    "start_time": "2022-11-01T20:12:27.101Z"
   },
   {
    "duration": 14,
    "start_time": "2022-11-01T20:12:27.160Z"
   },
   {
    "duration": 25,
    "start_time": "2022-11-01T20:12:27.190Z"
   },
   {
    "duration": 9,
    "start_time": "2022-11-01T20:12:27.216Z"
   },
   {
    "duration": 17,
    "start_time": "2022-11-01T20:12:27.226Z"
   },
   {
    "duration": 52,
    "start_time": "2022-11-01T20:12:27.244Z"
   },
   {
    "duration": 36,
    "start_time": "2022-11-01T20:12:27.298Z"
   },
   {
    "duration": 18,
    "start_time": "2022-11-01T20:12:27.335Z"
   },
   {
    "duration": 4,
    "start_time": "2022-11-01T20:12:27.355Z"
   },
   {
    "duration": 64,
    "start_time": "2022-11-01T20:12:27.360Z"
   },
   {
    "duration": 28,
    "start_time": "2022-11-01T20:12:27.425Z"
   },
   {
    "duration": 4,
    "start_time": "2022-11-01T20:12:27.455Z"
   },
   {
    "duration": 14498,
    "start_time": "2022-11-01T20:12:27.460Z"
   },
   {
    "duration": 6,
    "start_time": "2022-11-01T20:12:41.960Z"
   },
   {
    "duration": 2,
    "start_time": "2022-11-01T20:12:41.967Z"
   },
   {
    "duration": 19,
    "start_time": "2022-11-01T20:12:41.971Z"
   },
   {
    "duration": 76,
    "start_time": "2022-11-01T20:12:41.992Z"
   },
   {
    "duration": 323,
    "start_time": "2022-11-01T20:12:42.069Z"
   },
   {
    "duration": 313,
    "start_time": "2022-11-01T20:12:42.395Z"
   },
   {
    "duration": 302,
    "start_time": "2022-11-01T20:12:42.709Z"
   },
   {
    "duration": 330,
    "start_time": "2022-11-01T20:12:43.013Z"
   },
   {
    "duration": 459,
    "start_time": "2022-11-01T20:12:43.344Z"
   },
   {
    "duration": 25,
    "start_time": "2022-11-01T20:12:43.805Z"
   },
   {
    "duration": 26,
    "start_time": "2022-11-01T20:12:43.831Z"
   },
   {
    "duration": 54,
    "start_time": "2022-11-01T20:12:43.858Z"
   },
   {
    "duration": 125,
    "start_time": "2022-11-01T20:12:43.914Z"
   },
   {
    "duration": 26,
    "start_time": "2022-11-01T20:12:44.041Z"
   },
   {
    "duration": 10,
    "start_time": "2022-11-01T20:16:22.611Z"
   },
   {
    "duration": 13,
    "start_time": "2022-11-01T20:16:27.546Z"
   },
   {
    "duration": 13,
    "start_time": "2022-11-01T20:16:44.575Z"
   },
   {
    "duration": 4,
    "start_time": "2022-11-01T20:18:18.271Z"
   },
   {
    "duration": 5,
    "start_time": "2022-11-01T20:18:28.467Z"
   },
   {
    "duration": 25,
    "start_time": "2022-11-01T20:28:20.064Z"
   },
   {
    "duration": 31,
    "start_time": "2022-11-01T20:28:25.440Z"
   },
   {
    "duration": 36,
    "start_time": "2022-11-01T20:28:39.575Z"
   },
   {
    "duration": 30,
    "start_time": "2022-11-01T20:28:55.775Z"
   },
   {
    "duration": 24,
    "start_time": "2022-11-01T20:29:10.704Z"
   },
   {
    "duration": 1107,
    "start_time": "2022-11-01T20:29:24.315Z"
   },
   {
    "duration": 380,
    "start_time": "2022-11-01T20:29:25.424Z"
   },
   {
    "duration": 15,
    "start_time": "2022-11-01T20:29:25.806Z"
   },
   {
    "duration": 60,
    "start_time": "2022-11-01T20:29:25.822Z"
   },
   {
    "duration": 72,
    "start_time": "2022-11-01T20:29:25.884Z"
   },
   {
    "duration": 4,
    "start_time": "2022-11-01T20:29:25.958Z"
   },
   {
    "duration": 29,
    "start_time": "2022-11-01T20:29:25.963Z"
   },
   {
    "duration": 3,
    "start_time": "2022-11-01T20:29:25.993Z"
   },
   {
    "duration": 23,
    "start_time": "2022-11-01T20:29:25.997Z"
   },
   {
    "duration": 74,
    "start_time": "2022-11-01T20:29:26.022Z"
   },
   {
    "duration": 14,
    "start_time": "2022-11-01T20:29:26.097Z"
   },
   {
    "duration": 25,
    "start_time": "2022-11-01T20:29:26.113Z"
   },
   {
    "duration": 9,
    "start_time": "2022-11-01T20:29:26.140Z"
   },
   {
    "duration": 40,
    "start_time": "2022-11-01T20:29:26.151Z"
   },
   {
    "duration": 29,
    "start_time": "2022-11-01T20:29:26.192Z"
   },
   {
    "duration": 38,
    "start_time": "2022-11-01T20:29:26.222Z"
   },
   {
    "duration": 110,
    "start_time": "2022-11-01T20:29:26.262Z"
   },
   {
    "duration": 0,
    "start_time": "2022-11-01T20:29:26.374Z"
   },
   {
    "duration": 0,
    "start_time": "2022-11-01T20:29:26.375Z"
   },
   {
    "duration": 0,
    "start_time": "2022-11-01T20:29:26.377Z"
   },
   {
    "duration": 0,
    "start_time": "2022-11-01T20:29:26.390Z"
   },
   {
    "duration": 0,
    "start_time": "2022-11-01T20:29:26.392Z"
   },
   {
    "duration": 0,
    "start_time": "2022-11-01T20:29:26.393Z"
   },
   {
    "duration": 0,
    "start_time": "2022-11-01T20:29:26.395Z"
   },
   {
    "duration": 0,
    "start_time": "2022-11-01T20:29:26.396Z"
   },
   {
    "duration": 0,
    "start_time": "2022-11-01T20:29:26.397Z"
   },
   {
    "duration": 0,
    "start_time": "2022-11-01T20:29:26.398Z"
   },
   {
    "duration": 0,
    "start_time": "2022-11-01T20:29:26.400Z"
   },
   {
    "duration": 0,
    "start_time": "2022-11-01T20:29:26.401Z"
   },
   {
    "duration": 0,
    "start_time": "2022-11-01T20:29:26.402Z"
   },
   {
    "duration": 0,
    "start_time": "2022-11-01T20:29:26.404Z"
   },
   {
    "duration": 0,
    "start_time": "2022-11-01T20:29:26.406Z"
   },
   {
    "duration": 0,
    "start_time": "2022-11-01T20:29:26.407Z"
   },
   {
    "duration": 0,
    "start_time": "2022-11-01T20:29:26.408Z"
   },
   {
    "duration": 0,
    "start_time": "2022-11-01T20:29:26.411Z"
   },
   {
    "duration": 0,
    "start_time": "2022-11-01T20:29:26.412Z"
   },
   {
    "duration": 0,
    "start_time": "2022-11-01T20:29:26.413Z"
   },
   {
    "duration": 48,
    "start_time": "2022-11-01T20:30:04.080Z"
   },
   {
    "duration": 1075,
    "start_time": "2022-11-01T20:30:19.842Z"
   },
   {
    "duration": 397,
    "start_time": "2022-11-01T20:30:20.919Z"
   },
   {
    "duration": 16,
    "start_time": "2022-11-01T20:30:21.317Z"
   },
   {
    "duration": 65,
    "start_time": "2022-11-01T20:30:21.335Z"
   },
   {
    "duration": 77,
    "start_time": "2022-11-01T20:30:21.402Z"
   },
   {
    "duration": 11,
    "start_time": "2022-11-01T20:30:21.480Z"
   },
   {
    "duration": 18,
    "start_time": "2022-11-01T20:30:21.492Z"
   },
   {
    "duration": 2,
    "start_time": "2022-11-01T20:30:21.512Z"
   },
   {
    "duration": 25,
    "start_time": "2022-11-01T20:30:21.515Z"
   },
   {
    "duration": 76,
    "start_time": "2022-11-01T20:30:21.542Z"
   },
   {
    "duration": 14,
    "start_time": "2022-11-01T20:30:21.620Z"
   },
   {
    "duration": 25,
    "start_time": "2022-11-01T20:30:21.635Z"
   },
   {
    "duration": 30,
    "start_time": "2022-11-01T20:30:21.662Z"
   },
   {
    "duration": 17,
    "start_time": "2022-11-01T20:30:21.694Z"
   },
   {
    "duration": 28,
    "start_time": "2022-11-01T20:30:21.713Z"
   },
   {
    "duration": 58,
    "start_time": "2022-11-01T20:30:21.743Z"
   },
   {
    "duration": 96,
    "start_time": "2022-11-01T20:30:21.802Z"
   },
   {
    "duration": 0,
    "start_time": "2022-11-01T20:30:21.900Z"
   },
   {
    "duration": 0,
    "start_time": "2022-11-01T20:30:21.901Z"
   },
   {
    "duration": 0,
    "start_time": "2022-11-01T20:30:21.902Z"
   },
   {
    "duration": 0,
    "start_time": "2022-11-01T20:30:21.903Z"
   },
   {
    "duration": 0,
    "start_time": "2022-11-01T20:30:21.904Z"
   },
   {
    "duration": 0,
    "start_time": "2022-11-01T20:30:21.905Z"
   },
   {
    "duration": 0,
    "start_time": "2022-11-01T20:30:21.906Z"
   },
   {
    "duration": 0,
    "start_time": "2022-11-01T20:30:21.907Z"
   },
   {
    "duration": 0,
    "start_time": "2022-11-01T20:30:21.908Z"
   },
   {
    "duration": 0,
    "start_time": "2022-11-01T20:30:21.909Z"
   },
   {
    "duration": 0,
    "start_time": "2022-11-01T20:30:21.910Z"
   },
   {
    "duration": 0,
    "start_time": "2022-11-01T20:30:21.911Z"
   },
   {
    "duration": 1,
    "start_time": "2022-11-01T20:30:21.911Z"
   },
   {
    "duration": 0,
    "start_time": "2022-11-01T20:30:21.913Z"
   },
   {
    "duration": 0,
    "start_time": "2022-11-01T20:30:21.914Z"
   },
   {
    "duration": 0,
    "start_time": "2022-11-01T20:30:21.914Z"
   },
   {
    "duration": 0,
    "start_time": "2022-11-01T20:30:21.915Z"
   },
   {
    "duration": 0,
    "start_time": "2022-11-01T20:30:21.916Z"
   },
   {
    "duration": 0,
    "start_time": "2022-11-01T20:30:21.917Z"
   },
   {
    "duration": 0,
    "start_time": "2022-11-01T20:30:21.918Z"
   },
   {
    "duration": 18,
    "start_time": "2022-11-01T20:35:50.801Z"
   },
   {
    "duration": 21,
    "start_time": "2022-11-01T20:35:58.077Z"
   },
   {
    "duration": 13,
    "start_time": "2022-11-01T20:36:17.160Z"
   },
   {
    "duration": 69,
    "start_time": "2022-11-01T20:37:21.408Z"
   },
   {
    "duration": 91,
    "start_time": "2022-11-01T20:37:37.818Z"
   },
   {
    "duration": 1101,
    "start_time": "2022-11-01T20:37:59.321Z"
   },
   {
    "duration": 419,
    "start_time": "2022-11-01T20:38:00.424Z"
   },
   {
    "duration": 18,
    "start_time": "2022-11-01T20:38:00.845Z"
   },
   {
    "duration": 64,
    "start_time": "2022-11-01T20:38:00.865Z"
   },
   {
    "duration": 92,
    "start_time": "2022-11-01T20:38:00.931Z"
   },
   {
    "duration": 4,
    "start_time": "2022-11-01T20:38:01.024Z"
   },
   {
    "duration": 22,
    "start_time": "2022-11-01T20:38:01.030Z"
   },
   {
    "duration": 3,
    "start_time": "2022-11-01T20:38:01.054Z"
   },
   {
    "duration": 38,
    "start_time": "2022-11-01T20:38:01.058Z"
   },
   {
    "duration": 65,
    "start_time": "2022-11-01T20:38:01.098Z"
   },
   {
    "duration": 27,
    "start_time": "2022-11-01T20:38:01.165Z"
   },
   {
    "duration": 28,
    "start_time": "2022-11-01T20:38:01.193Z"
   },
   {
    "duration": 10,
    "start_time": "2022-11-01T20:38:01.222Z"
   },
   {
    "duration": 18,
    "start_time": "2022-11-01T20:38:01.235Z"
   },
   {
    "duration": 58,
    "start_time": "2022-11-01T20:38:01.254Z"
   },
   {
    "duration": 112,
    "start_time": "2022-11-01T20:38:01.313Z"
   },
   {
    "duration": 18,
    "start_time": "2022-11-01T20:38:01.427Z"
   },
   {
    "duration": 6,
    "start_time": "2022-11-01T20:38:01.447Z"
   },
   {
    "duration": 62,
    "start_time": "2022-11-01T20:38:01.455Z"
   },
   {
    "duration": 30,
    "start_time": "2022-11-01T20:38:01.519Z"
   },
   {
    "duration": 7,
    "start_time": "2022-11-01T20:38:01.551Z"
   },
   {
    "duration": 14654,
    "start_time": "2022-11-01T20:38:01.560Z"
   },
   {
    "duration": 6,
    "start_time": "2022-11-01T20:38:16.216Z"
   },
   {
    "duration": 2,
    "start_time": "2022-11-01T20:38:16.224Z"
   },
   {
    "duration": 5,
    "start_time": "2022-11-01T20:38:16.228Z"
   },
   {
    "duration": 93,
    "start_time": "2022-11-01T20:38:16.235Z"
   },
   {
    "duration": 324,
    "start_time": "2022-11-01T20:38:16.330Z"
   },
   {
    "duration": 389,
    "start_time": "2022-11-01T20:38:16.656Z"
   },
   {
    "duration": 322,
    "start_time": "2022-11-01T20:38:17.047Z"
   },
   {
    "duration": 323,
    "start_time": "2022-11-01T20:38:17.370Z"
   },
   {
    "duration": 509,
    "start_time": "2022-11-01T20:38:17.695Z"
   },
   {
    "duration": 27,
    "start_time": "2022-11-01T20:38:18.206Z"
   },
   {
    "duration": 28,
    "start_time": "2022-11-01T20:38:18.235Z"
   },
   {
    "duration": 52,
    "start_time": "2022-11-01T20:38:18.265Z"
   },
   {
    "duration": 127,
    "start_time": "2022-11-01T20:38:18.319Z"
   },
   {
    "duration": 45,
    "start_time": "2022-11-01T20:38:18.448Z"
   },
   {
    "duration": 1165,
    "start_time": "2022-11-01T20:39:44.356Z"
   },
   {
    "duration": 414,
    "start_time": "2022-11-01T20:39:45.524Z"
   },
   {
    "duration": 19,
    "start_time": "2022-11-01T20:39:45.940Z"
   },
   {
    "duration": 69,
    "start_time": "2022-11-01T20:39:45.960Z"
   },
   {
    "duration": 78,
    "start_time": "2022-11-01T20:39:46.032Z"
   },
   {
    "duration": 6,
    "start_time": "2022-11-01T20:39:46.113Z"
   },
   {
    "duration": 22,
    "start_time": "2022-11-01T20:39:46.120Z"
   },
   {
    "duration": 3,
    "start_time": "2022-11-01T20:39:46.144Z"
   },
   {
    "duration": 45,
    "start_time": "2022-11-01T20:39:46.149Z"
   },
   {
    "duration": 60,
    "start_time": "2022-11-01T20:39:46.196Z"
   },
   {
    "duration": 14,
    "start_time": "2022-11-01T20:39:46.258Z"
   },
   {
    "duration": 40,
    "start_time": "2022-11-01T20:39:46.274Z"
   },
   {
    "duration": 9,
    "start_time": "2022-11-01T20:39:46.315Z"
   },
   {
    "duration": 16,
    "start_time": "2022-11-01T20:39:46.327Z"
   },
   {
    "duration": 54,
    "start_time": "2022-11-01T20:39:46.345Z"
   },
   {
    "duration": 116,
    "start_time": "2022-11-01T20:39:46.401Z"
   },
   {
    "duration": 18,
    "start_time": "2022-11-01T20:39:46.519Z"
   },
   {
    "duration": 5,
    "start_time": "2022-11-01T20:39:46.540Z"
   },
   {
    "duration": 49,
    "start_time": "2022-11-01T20:39:46.547Z"
   },
   {
    "duration": 28,
    "start_time": "2022-11-01T20:39:46.598Z"
   },
   {
    "duration": 5,
    "start_time": "2022-11-01T20:39:46.627Z"
   },
   {
    "duration": 11083,
    "start_time": "2022-11-01T20:39:46.635Z"
   },
   {
    "duration": 6,
    "start_time": "2022-11-01T20:39:57.719Z"
   },
   {
    "duration": 6,
    "start_time": "2022-11-01T20:39:57.726Z"
   },
   {
    "duration": 5,
    "start_time": "2022-11-01T20:39:57.734Z"
   },
   {
    "duration": 67,
    "start_time": "2022-11-01T20:39:57.740Z"
   },
   {
    "duration": 340,
    "start_time": "2022-11-01T20:39:57.809Z"
   },
   {
    "duration": 316,
    "start_time": "2022-11-01T20:39:58.150Z"
   },
   {
    "duration": 329,
    "start_time": "2022-11-01T20:39:58.468Z"
   },
   {
    "duration": 336,
    "start_time": "2022-11-01T20:39:58.799Z"
   },
   {
    "duration": 436,
    "start_time": "2022-11-01T20:39:59.136Z"
   },
   {
    "duration": 30,
    "start_time": "2022-11-01T20:39:59.574Z"
   },
   {
    "duration": 27,
    "start_time": "2022-11-01T20:39:59.607Z"
   },
   {
    "duration": 58,
    "start_time": "2022-11-01T20:39:59.635Z"
   },
   {
    "duration": 126,
    "start_time": "2022-11-01T20:39:59.694Z"
   },
   {
    "duration": 24,
    "start_time": "2022-11-01T20:39:59.822Z"
   },
   {
    "duration": 1148,
    "start_time": "2022-11-01T20:41:43.098Z"
   },
   {
    "duration": 423,
    "start_time": "2022-11-01T20:41:44.248Z"
   },
   {
    "duration": 17,
    "start_time": "2022-11-01T20:41:44.673Z"
   },
   {
    "duration": 62,
    "start_time": "2022-11-01T20:41:44.692Z"
   },
   {
    "duration": 85,
    "start_time": "2022-11-01T20:41:44.756Z"
   },
   {
    "duration": 5,
    "start_time": "2022-11-01T20:41:44.843Z"
   },
   {
    "duration": 15,
    "start_time": "2022-11-01T20:41:44.849Z"
   },
   {
    "duration": 2,
    "start_time": "2022-11-01T20:41:44.866Z"
   },
   {
    "duration": 42,
    "start_time": "2022-11-01T20:41:44.869Z"
   },
   {
    "duration": 63,
    "start_time": "2022-11-01T20:41:44.914Z"
   },
   {
    "duration": 16,
    "start_time": "2022-11-01T20:41:44.990Z"
   },
   {
    "duration": 28,
    "start_time": "2022-11-01T20:41:45.008Z"
   },
   {
    "duration": 11,
    "start_time": "2022-11-01T20:41:45.038Z"
   },
   {
    "duration": 45,
    "start_time": "2022-11-01T20:41:45.051Z"
   },
   {
    "duration": 30,
    "start_time": "2022-11-01T20:41:45.097Z"
   },
   {
    "duration": 62,
    "start_time": "2022-11-01T20:41:45.129Z"
   },
   {
    "duration": 20,
    "start_time": "2022-11-01T20:41:45.193Z"
   },
   {
    "duration": 6,
    "start_time": "2022-11-01T20:41:45.215Z"
   },
   {
    "duration": 39,
    "start_time": "2022-11-01T20:41:45.223Z"
   },
   {
    "duration": 30,
    "start_time": "2022-11-01T20:41:45.291Z"
   },
   {
    "duration": 6,
    "start_time": "2022-11-01T20:41:45.323Z"
   },
   {
    "duration": 14536,
    "start_time": "2022-11-01T20:41:45.331Z"
   },
   {
    "duration": 7,
    "start_time": "2022-11-01T20:41:59.868Z"
   },
   {
    "duration": 2,
    "start_time": "2022-11-01T20:41:59.876Z"
   },
   {
    "duration": 13,
    "start_time": "2022-11-01T20:41:59.879Z"
   },
   {
    "duration": 73,
    "start_time": "2022-11-01T20:41:59.893Z"
   },
   {
    "duration": 328,
    "start_time": "2022-11-01T20:41:59.968Z"
   },
   {
    "duration": 344,
    "start_time": "2022-11-01T20:42:00.300Z"
   },
   {
    "duration": 322,
    "start_time": "2022-11-01T20:42:00.646Z"
   },
   {
    "duration": 342,
    "start_time": "2022-11-01T20:42:00.970Z"
   },
   {
    "duration": 509,
    "start_time": "2022-11-01T20:42:01.313Z"
   },
   {
    "duration": 25,
    "start_time": "2022-11-01T20:42:01.824Z"
   },
   {
    "duration": 40,
    "start_time": "2022-11-01T20:42:01.851Z"
   },
   {
    "duration": 32,
    "start_time": "2022-11-01T20:42:01.893Z"
   },
   {
    "duration": 136,
    "start_time": "2022-11-01T20:42:01.927Z"
   },
   {
    "duration": 41,
    "start_time": "2022-11-01T20:42:02.064Z"
   },
   {
    "duration": 44,
    "start_time": "2022-11-01T20:45:43.946Z"
   },
   {
    "duration": 1145,
    "start_time": "2022-11-01T20:46:09.854Z"
   },
   {
    "duration": 400,
    "start_time": "2022-11-01T20:46:11.001Z"
   },
   {
    "duration": 16,
    "start_time": "2022-11-01T20:46:11.402Z"
   },
   {
    "duration": 61,
    "start_time": "2022-11-01T20:46:11.420Z"
   },
   {
    "duration": 74,
    "start_time": "2022-11-01T20:46:11.491Z"
   },
   {
    "duration": 5,
    "start_time": "2022-11-01T20:46:11.567Z"
   },
   {
    "duration": 29,
    "start_time": "2022-11-01T20:46:11.574Z"
   },
   {
    "duration": 3,
    "start_time": "2022-11-01T20:46:11.605Z"
   },
   {
    "duration": 35,
    "start_time": "2022-11-01T20:46:11.609Z"
   },
   {
    "duration": 69,
    "start_time": "2022-11-01T20:46:11.647Z"
   },
   {
    "duration": 14,
    "start_time": "2022-11-01T20:46:11.717Z"
   },
   {
    "duration": 23,
    "start_time": "2022-11-01T20:46:11.732Z"
   },
   {
    "duration": 8,
    "start_time": "2022-11-01T20:46:11.757Z"
   },
   {
    "duration": 34,
    "start_time": "2022-11-01T20:46:11.766Z"
   },
   {
    "duration": 30,
    "start_time": "2022-11-01T20:46:11.802Z"
   },
   {
    "duration": 39,
    "start_time": "2022-11-01T20:46:11.833Z"
   },
   {
    "duration": 17,
    "start_time": "2022-11-01T20:46:11.891Z"
   },
   {
    "duration": 5,
    "start_time": "2022-11-01T20:46:11.910Z"
   },
   {
    "duration": 50,
    "start_time": "2022-11-01T20:46:11.916Z"
   },
   {
    "duration": 38,
    "start_time": "2022-11-01T20:46:11.967Z"
   },
   {
    "duration": 4,
    "start_time": "2022-11-01T20:46:12.007Z"
   },
   {
    "duration": 14318,
    "start_time": "2022-11-01T20:46:12.012Z"
   },
   {
    "duration": 6,
    "start_time": "2022-11-01T20:46:26.331Z"
   },
   {
    "duration": 2,
    "start_time": "2022-11-01T20:46:26.338Z"
   },
   {
    "duration": 8,
    "start_time": "2022-11-01T20:46:26.342Z"
   },
   {
    "duration": 91,
    "start_time": "2022-11-01T20:46:26.351Z"
   },
   {
    "duration": 398,
    "start_time": "2022-11-01T20:46:26.443Z"
   },
   {
    "duration": 338,
    "start_time": "2022-11-01T20:46:26.844Z"
   },
   {
    "duration": 323,
    "start_time": "2022-11-01T20:46:27.184Z"
   },
   {
    "duration": 364,
    "start_time": "2022-11-01T20:46:27.508Z"
   },
   {
    "duration": 467,
    "start_time": "2022-11-01T20:46:27.874Z"
   },
   {
    "duration": 27,
    "start_time": "2022-11-01T20:46:28.342Z"
   },
   {
    "duration": 43,
    "start_time": "2022-11-01T20:46:28.371Z"
   },
   {
    "duration": 38,
    "start_time": "2022-11-01T20:46:28.416Z"
   },
   {
    "duration": 123,
    "start_time": "2022-11-01T20:46:28.456Z"
   },
   {
    "duration": 31,
    "start_time": "2022-11-01T20:46:28.581Z"
   },
   {
    "duration": 1062,
    "start_time": "2022-11-01T20:49:16.729Z"
   },
   {
    "duration": 390,
    "start_time": "2022-11-01T20:49:17.792Z"
   },
   {
    "duration": 15,
    "start_time": "2022-11-01T20:49:18.184Z"
   },
   {
    "duration": 80,
    "start_time": "2022-11-01T20:49:18.201Z"
   },
   {
    "duration": 71,
    "start_time": "2022-11-01T20:49:18.282Z"
   },
   {
    "duration": 4,
    "start_time": "2022-11-01T20:49:18.355Z"
   },
   {
    "duration": 17,
    "start_time": "2022-11-01T20:49:18.360Z"
   },
   {
    "duration": 13,
    "start_time": "2022-11-01T20:49:18.378Z"
   },
   {
    "duration": 21,
    "start_time": "2022-11-01T20:49:18.392Z"
   },
   {
    "duration": 75,
    "start_time": "2022-11-01T20:49:18.416Z"
   },
   {
    "duration": 14,
    "start_time": "2022-11-01T20:49:18.492Z"
   },
   {
    "duration": 23,
    "start_time": "2022-11-01T20:49:18.508Z"
   },
   {
    "duration": 9,
    "start_time": "2022-11-01T20:49:18.533Z"
   },
   {
    "duration": 16,
    "start_time": "2022-11-01T20:49:18.543Z"
   },
   {
    "duration": 56,
    "start_time": "2022-11-01T20:49:18.560Z"
   },
   {
    "duration": 40,
    "start_time": "2022-11-01T20:49:18.618Z"
   },
   {
    "duration": 39,
    "start_time": "2022-11-01T20:49:18.659Z"
   },
   {
    "duration": 4,
    "start_time": "2022-11-01T20:49:18.700Z"
   },
   {
    "duration": 57,
    "start_time": "2022-11-01T20:49:18.705Z"
   },
   {
    "duration": 27,
    "start_time": "2022-11-01T20:49:18.764Z"
   },
   {
    "duration": 5,
    "start_time": "2022-11-01T20:49:18.792Z"
   },
   {
    "duration": 14218,
    "start_time": "2022-11-01T20:49:18.798Z"
   },
   {
    "duration": 6,
    "start_time": "2022-11-01T20:49:33.017Z"
   },
   {
    "duration": 2,
    "start_time": "2022-11-01T20:49:33.025Z"
   },
   {
    "duration": 5,
    "start_time": "2022-11-01T20:49:33.029Z"
   },
   {
    "duration": 88,
    "start_time": "2022-11-01T20:49:33.035Z"
   },
   {
    "duration": 312,
    "start_time": "2022-11-01T20:49:33.124Z"
   },
   {
    "duration": 318,
    "start_time": "2022-11-01T20:49:33.439Z"
   },
   {
    "duration": 312,
    "start_time": "2022-11-01T20:49:33.759Z"
   },
   {
    "duration": 330,
    "start_time": "2022-11-01T20:49:34.072Z"
   },
   {
    "duration": 518,
    "start_time": "2022-11-01T20:49:34.404Z"
   },
   {
    "duration": 23,
    "start_time": "2022-11-01T20:49:34.923Z"
   },
   {
    "duration": 23,
    "start_time": "2022-11-01T20:49:34.948Z"
   },
   {
    "duration": 50,
    "start_time": "2022-11-01T20:49:34.973Z"
   },
   {
    "duration": 136,
    "start_time": "2022-11-01T20:49:35.025Z"
   },
   {
    "duration": 37,
    "start_time": "2022-11-01T20:49:35.163Z"
   },
   {
    "duration": 1136,
    "start_time": "2022-11-02T16:45:33.213Z"
   },
   {
    "duration": 1096,
    "start_time": "2022-11-02T16:45:34.350Z"
   },
   {
    "duration": 15,
    "start_time": "2022-11-02T16:45:35.448Z"
   },
   {
    "duration": 65,
    "start_time": "2022-11-02T16:45:35.465Z"
   },
   {
    "duration": 76,
    "start_time": "2022-11-02T16:45:35.532Z"
   },
   {
    "duration": 6,
    "start_time": "2022-11-02T16:45:35.611Z"
   },
   {
    "duration": 19,
    "start_time": "2022-11-02T16:45:35.619Z"
   },
   {
    "duration": 2,
    "start_time": "2022-11-02T16:45:35.639Z"
   },
   {
    "duration": 27,
    "start_time": "2022-11-02T16:45:35.643Z"
   },
   {
    "duration": 76,
    "start_time": "2022-11-02T16:45:35.672Z"
   },
   {
    "duration": 13,
    "start_time": "2022-11-02T16:45:35.749Z"
   },
   {
    "duration": 22,
    "start_time": "2022-11-02T16:45:35.763Z"
   },
   {
    "duration": 20,
    "start_time": "2022-11-02T16:45:35.786Z"
   },
   {
    "duration": 19,
    "start_time": "2022-11-02T16:45:35.809Z"
   },
   {
    "duration": 27,
    "start_time": "2022-11-02T16:45:35.829Z"
   },
   {
    "duration": 59,
    "start_time": "2022-11-02T16:45:35.857Z"
   },
   {
    "duration": 19,
    "start_time": "2022-11-02T16:45:35.918Z"
   },
   {
    "duration": 6,
    "start_time": "2022-11-02T16:45:35.939Z"
   },
   {
    "duration": 36,
    "start_time": "2022-11-02T16:45:35.946Z"
   },
   {
    "duration": 47,
    "start_time": "2022-11-02T16:45:35.984Z"
   },
   {
    "duration": 5,
    "start_time": "2022-11-02T16:45:36.033Z"
   },
   {
    "duration": 14668,
    "start_time": "2022-11-02T16:45:36.040Z"
   },
   {
    "duration": 11,
    "start_time": "2022-11-02T16:45:50.709Z"
   },
   {
    "duration": 4,
    "start_time": "2022-11-02T16:45:50.721Z"
   },
   {
    "duration": 7,
    "start_time": "2022-11-02T16:45:50.726Z"
   },
   {
    "duration": 76,
    "start_time": "2022-11-02T16:45:50.735Z"
   },
   {
    "duration": 337,
    "start_time": "2022-11-02T16:45:50.813Z"
   },
   {
    "duration": 288,
    "start_time": "2022-11-02T16:45:51.152Z"
   },
   {
    "duration": 290,
    "start_time": "2022-11-02T16:45:51.442Z"
   },
   {
    "duration": 312,
    "start_time": "2022-11-02T16:45:51.733Z"
   },
   {
    "duration": 474,
    "start_time": "2022-11-02T16:45:52.046Z"
   },
   {
    "duration": 22,
    "start_time": "2022-11-02T16:45:52.522Z"
   },
   {
    "duration": 22,
    "start_time": "2022-11-02T16:45:52.545Z"
   },
   {
    "duration": 47,
    "start_time": "2022-11-02T16:45:52.569Z"
   },
   {
    "duration": 124,
    "start_time": "2022-11-02T16:45:52.617Z"
   },
   {
    "duration": 27,
    "start_time": "2022-11-02T16:45:52.742Z"
   },
   {
    "duration": 5,
    "start_time": "2022-11-02T17:52:43.191Z"
   },
   {
    "duration": 61,
    "start_time": "2022-11-02T17:54:25.218Z"
   },
   {
    "duration": 22,
    "start_time": "2022-11-02T18:02:10.751Z"
   },
   {
    "duration": 1427,
    "start_time": "2022-11-02T18:29:04.390Z"
   },
   {
    "duration": 1261,
    "start_time": "2022-11-02T18:29:05.819Z"
   },
   {
    "duration": 24,
    "start_time": "2022-11-02T18:29:07.082Z"
   },
   {
    "duration": 94,
    "start_time": "2022-11-02T18:29:07.108Z"
   },
   {
    "duration": 107,
    "start_time": "2022-11-02T18:29:07.204Z"
   },
   {
    "duration": 7,
    "start_time": "2022-11-02T18:29:07.313Z"
   },
   {
    "duration": 33,
    "start_time": "2022-11-02T18:29:07.333Z"
   },
   {
    "duration": 37,
    "start_time": "2022-11-02T18:29:07.369Z"
   },
   {
    "duration": 54,
    "start_time": "2022-11-02T18:29:07.408Z"
   },
   {
    "duration": 64,
    "start_time": "2022-11-02T18:29:07.466Z"
   },
   {
    "duration": 16,
    "start_time": "2022-11-02T18:29:07.532Z"
   },
   {
    "duration": 48,
    "start_time": "2022-11-02T18:29:07.550Z"
   },
   {
    "duration": 12,
    "start_time": "2022-11-02T18:29:07.600Z"
   },
   {
    "duration": 50,
    "start_time": "2022-11-02T18:29:07.614Z"
   },
   {
    "duration": 43,
    "start_time": "2022-11-02T18:29:07.666Z"
   },
   {
    "duration": 47,
    "start_time": "2022-11-02T18:29:07.711Z"
   },
   {
    "duration": 30,
    "start_time": "2022-11-02T18:29:07.761Z"
   },
   {
    "duration": 12,
    "start_time": "2022-11-02T18:29:07.793Z"
   },
   {
    "duration": 74,
    "start_time": "2022-11-02T18:29:07.807Z"
   },
   {
    "duration": 37,
    "start_time": "2022-11-02T18:29:07.884Z"
   },
   {
    "duration": 18,
    "start_time": "2022-11-02T18:29:07.933Z"
   },
   {
    "duration": 19619,
    "start_time": "2022-11-02T18:29:07.953Z"
   },
   {
    "duration": 14,
    "start_time": "2022-11-02T18:29:27.574Z"
   },
   {
    "duration": 4,
    "start_time": "2022-11-02T18:29:27.591Z"
   },
   {
    "duration": 9,
    "start_time": "2022-11-02T18:29:27.598Z"
   },
   {
    "duration": 115,
    "start_time": "2022-11-02T18:29:27.609Z"
   },
   {
    "duration": 554,
    "start_time": "2022-11-02T18:29:27.726Z"
   },
   {
    "duration": 456,
    "start_time": "2022-11-02T18:29:28.285Z"
   },
   {
    "duration": 495,
    "start_time": "2022-11-02T18:29:28.744Z"
   },
   {
    "duration": 416,
    "start_time": "2022-11-02T18:29:29.241Z"
   },
   {
    "duration": 612,
    "start_time": "2022-11-02T18:29:29.659Z"
   },
   {
    "duration": 38,
    "start_time": "2022-11-02T18:29:30.273Z"
   },
   {
    "duration": 44,
    "start_time": "2022-11-02T18:29:30.313Z"
   },
   {
    "duration": 42,
    "start_time": "2022-11-02T18:29:30.359Z"
   },
   {
    "duration": 211,
    "start_time": "2022-11-02T18:29:30.403Z"
   },
   {
    "duration": 52,
    "start_time": "2022-11-02T18:29:30.617Z"
   },
   {
    "duration": 1261,
    "start_time": "2022-11-02T18:30:24.328Z"
   },
   {
    "duration": 463,
    "start_time": "2022-11-02T18:30:25.592Z"
   },
   {
    "duration": 19,
    "start_time": "2022-11-02T18:30:26.057Z"
   },
   {
    "duration": 72,
    "start_time": "2022-11-02T18:30:26.077Z"
   },
   {
    "duration": 96,
    "start_time": "2022-11-02T18:30:26.151Z"
   },
   {
    "duration": 5,
    "start_time": "2022-11-02T18:30:26.250Z"
   },
   {
    "duration": 17,
    "start_time": "2022-11-02T18:30:26.257Z"
   },
   {
    "duration": 3,
    "start_time": "2022-11-02T18:30:26.277Z"
   },
   {
    "duration": 52,
    "start_time": "2022-11-02T18:30:26.282Z"
   },
   {
    "duration": 67,
    "start_time": "2022-11-02T18:30:26.336Z"
   },
   {
    "duration": 31,
    "start_time": "2022-11-02T18:30:26.405Z"
   },
   {
    "duration": 31,
    "start_time": "2022-11-02T18:30:26.438Z"
   },
   {
    "duration": 3,
    "start_time": "2022-11-02T18:30:26.470Z"
   },
   {
    "duration": 24,
    "start_time": "2022-11-02T18:30:26.476Z"
   },
   {
    "duration": 64,
    "start_time": "2022-11-02T18:30:26.502Z"
   },
   {
    "duration": 47,
    "start_time": "2022-11-02T18:30:26.567Z"
   },
   {
    "duration": 21,
    "start_time": "2022-11-02T18:30:26.633Z"
   },
   {
    "duration": 7,
    "start_time": "2022-11-02T18:30:26.656Z"
   },
   {
    "duration": 68,
    "start_time": "2022-11-02T18:30:26.665Z"
   },
   {
    "duration": 34,
    "start_time": "2022-11-02T18:30:26.734Z"
   },
   {
    "duration": 6,
    "start_time": "2022-11-02T18:30:26.770Z"
   },
   {
    "duration": 17800,
    "start_time": "2022-11-02T18:30:26.778Z"
   },
   {
    "duration": 7,
    "start_time": "2022-11-02T18:30:44.580Z"
   },
   {
    "duration": 2,
    "start_time": "2022-11-02T18:30:44.589Z"
   },
   {
    "duration": 7,
    "start_time": "2022-11-02T18:30:44.593Z"
   },
   {
    "duration": 103,
    "start_time": "2022-11-02T18:30:44.602Z"
   },
   {
    "duration": 356,
    "start_time": "2022-11-02T18:30:44.707Z"
   },
   {
    "duration": 349,
    "start_time": "2022-11-02T18:30:45.065Z"
   },
   {
    "duration": 327,
    "start_time": "2022-11-02T18:30:45.416Z"
   },
   {
    "duration": 348,
    "start_time": "2022-11-02T18:30:45.745Z"
   },
   {
    "duration": 482,
    "start_time": "2022-11-02T18:30:46.095Z"
   },
   {
    "duration": 27,
    "start_time": "2022-11-02T18:30:46.579Z"
   },
   {
    "duration": 46,
    "start_time": "2022-11-02T18:30:46.608Z"
   },
   {
    "duration": 36,
    "start_time": "2022-11-02T18:30:46.656Z"
   },
   {
    "duration": 157,
    "start_time": "2022-11-02T18:30:46.694Z"
   },
   {
    "duration": 30,
    "start_time": "2022-11-02T18:30:46.853Z"
   },
   {
    "duration": 1216,
    "start_time": "2022-11-02T18:31:41.072Z"
   },
   {
    "duration": 1188,
    "start_time": "2022-11-02T18:31:49.766Z"
   },
   {
    "duration": 462,
    "start_time": "2022-11-02T18:31:50.957Z"
   },
   {
    "duration": 20,
    "start_time": "2022-11-02T18:31:51.425Z"
   },
   {
    "duration": 88,
    "start_time": "2022-11-02T18:31:51.447Z"
   },
   {
    "duration": 80,
    "start_time": "2022-11-02T18:31:51.537Z"
   },
   {
    "duration": 15,
    "start_time": "2022-11-02T18:31:51.619Z"
   },
   {
    "duration": 20,
    "start_time": "2022-11-02T18:31:51.636Z"
   },
   {
    "duration": 3,
    "start_time": "2022-11-02T18:31:51.658Z"
   },
   {
    "duration": 26,
    "start_time": "2022-11-02T18:31:51.663Z"
   },
   {
    "duration": 96,
    "start_time": "2022-11-02T18:31:51.691Z"
   },
   {
    "duration": 18,
    "start_time": "2022-11-02T18:31:51.789Z"
   },
   {
    "duration": 37,
    "start_time": "2022-11-02T18:31:51.809Z"
   },
   {
    "duration": 3,
    "start_time": "2022-11-02T18:31:51.848Z"
   },
   {
    "duration": 21,
    "start_time": "2022-11-02T18:31:51.852Z"
   },
   {
    "duration": 1310,
    "start_time": "2022-11-02T18:31:51.875Z"
   },
   {
    "duration": 0,
    "start_time": "2022-11-02T18:31:53.187Z"
   },
   {
    "duration": 0,
    "start_time": "2022-11-02T18:31:53.189Z"
   },
   {
    "duration": 1,
    "start_time": "2022-11-02T18:31:53.189Z"
   },
   {
    "duration": 0,
    "start_time": "2022-11-02T18:31:53.191Z"
   },
   {
    "duration": 0,
    "start_time": "2022-11-02T18:31:53.192Z"
   },
   {
    "duration": 0,
    "start_time": "2022-11-02T18:31:53.194Z"
   },
   {
    "duration": 0,
    "start_time": "2022-11-02T18:31:53.195Z"
   },
   {
    "duration": 0,
    "start_time": "2022-11-02T18:31:53.196Z"
   },
   {
    "duration": 0,
    "start_time": "2022-11-02T18:31:53.197Z"
   },
   {
    "duration": 0,
    "start_time": "2022-11-02T18:31:53.198Z"
   },
   {
    "duration": 0,
    "start_time": "2022-11-02T18:31:53.199Z"
   },
   {
    "duration": 0,
    "start_time": "2022-11-02T18:31:53.200Z"
   },
   {
    "duration": 0,
    "start_time": "2022-11-02T18:31:53.201Z"
   },
   {
    "duration": 0,
    "start_time": "2022-11-02T18:31:53.202Z"
   },
   {
    "duration": 0,
    "start_time": "2022-11-02T18:31:53.204Z"
   },
   {
    "duration": 0,
    "start_time": "2022-11-02T18:31:53.205Z"
   },
   {
    "duration": 0,
    "start_time": "2022-11-02T18:31:53.206Z"
   },
   {
    "duration": 0,
    "start_time": "2022-11-02T18:31:53.207Z"
   },
   {
    "duration": 0,
    "start_time": "2022-11-02T18:31:53.208Z"
   },
   {
    "duration": 0,
    "start_time": "2022-11-02T18:31:53.210Z"
   },
   {
    "duration": 0,
    "start_time": "2022-11-02T18:31:53.211Z"
   },
   {
    "duration": 31,
    "start_time": "2022-11-02T18:32:02.117Z"
   },
   {
    "duration": 28,
    "start_time": "2022-11-02T18:32:32.837Z"
   },
   {
    "duration": 33,
    "start_time": "2022-11-02T18:32:51.168Z"
   },
   {
    "duration": 24,
    "start_time": "2022-11-02T18:32:58.785Z"
   },
   {
    "duration": 28,
    "start_time": "2022-11-02T18:33:11.847Z"
   },
   {
    "duration": 1205,
    "start_time": "2022-11-02T18:33:19.425Z"
   },
   {
    "duration": 438,
    "start_time": "2022-11-02T18:33:20.633Z"
   },
   {
    "duration": 20,
    "start_time": "2022-11-02T18:33:21.073Z"
   },
   {
    "duration": 83,
    "start_time": "2022-11-02T18:33:21.095Z"
   },
   {
    "duration": 107,
    "start_time": "2022-11-02T18:33:21.180Z"
   },
   {
    "duration": 6,
    "start_time": "2022-11-02T18:33:21.289Z"
   },
   {
    "duration": 29,
    "start_time": "2022-11-02T18:33:21.297Z"
   },
   {
    "duration": 3,
    "start_time": "2022-11-02T18:33:21.333Z"
   },
   {
    "duration": 31,
    "start_time": "2022-11-02T18:33:21.338Z"
   },
   {
    "duration": 101,
    "start_time": "2022-11-02T18:33:21.372Z"
   },
   {
    "duration": 18,
    "start_time": "2022-11-02T18:33:21.475Z"
   },
   {
    "duration": 41,
    "start_time": "2022-11-02T18:33:21.495Z"
   },
   {
    "duration": 4,
    "start_time": "2022-11-02T18:33:21.537Z"
   },
   {
    "duration": 40,
    "start_time": "2022-11-02T18:33:21.542Z"
   },
   {
    "duration": 41,
    "start_time": "2022-11-02T18:33:21.584Z"
   },
   {
    "duration": 45,
    "start_time": "2022-11-02T18:33:21.627Z"
   },
   {
    "duration": 22,
    "start_time": "2022-11-02T18:33:21.674Z"
   },
   {
    "duration": 40,
    "start_time": "2022-11-02T18:33:21.698Z"
   },
   {
    "duration": 56,
    "start_time": "2022-11-02T18:33:21.740Z"
   },
   {
    "duration": 34,
    "start_time": "2022-11-02T18:33:21.798Z"
   },
   {
    "duration": 12,
    "start_time": "2022-11-02T18:33:21.834Z"
   },
   {
    "duration": 17299,
    "start_time": "2022-11-02T18:33:21.848Z"
   },
   {
    "duration": 8,
    "start_time": "2022-11-02T18:33:39.149Z"
   },
   {
    "duration": 4,
    "start_time": "2022-11-02T18:33:39.159Z"
   },
   {
    "duration": 6,
    "start_time": "2022-11-02T18:33:39.165Z"
   },
   {
    "duration": 110,
    "start_time": "2022-11-02T18:33:39.173Z"
   },
   {
    "duration": 378,
    "start_time": "2022-11-02T18:33:39.285Z"
   },
   {
    "duration": 370,
    "start_time": "2022-11-02T18:33:39.667Z"
   },
   {
    "duration": 360,
    "start_time": "2022-11-02T18:33:40.039Z"
   },
   {
    "duration": 360,
    "start_time": "2022-11-02T18:33:40.401Z"
   },
   {
    "duration": 572,
    "start_time": "2022-11-02T18:33:40.763Z"
   },
   {
    "duration": 28,
    "start_time": "2022-11-02T18:33:41.337Z"
   },
   {
    "duration": 31,
    "start_time": "2022-11-02T18:33:41.366Z"
   },
   {
    "duration": 67,
    "start_time": "2022-11-02T18:33:41.399Z"
   },
   {
    "duration": 165,
    "start_time": "2022-11-02T18:33:41.467Z"
   },
   {
    "duration": 44,
    "start_time": "2022-11-02T18:33:41.634Z"
   },
   {
    "duration": 40,
    "start_time": "2022-11-02T18:36:30.102Z"
   },
   {
    "duration": 1264,
    "start_time": "2022-11-02T18:36:34.654Z"
   },
   {
    "duration": 471,
    "start_time": "2022-11-02T18:36:35.920Z"
   },
   {
    "duration": 18,
    "start_time": "2022-11-02T18:36:36.393Z"
   },
   {
    "duration": 77,
    "start_time": "2022-11-02T18:36:36.413Z"
   },
   {
    "duration": 89,
    "start_time": "2022-11-02T18:36:36.494Z"
   },
   {
    "duration": 5,
    "start_time": "2022-11-02T18:36:36.586Z"
   },
   {
    "duration": 59,
    "start_time": "2022-11-02T18:36:36.594Z"
   },
   {
    "duration": 12,
    "start_time": "2022-11-02T18:36:36.655Z"
   },
   {
    "duration": 41,
    "start_time": "2022-11-02T18:36:36.669Z"
   },
   {
    "duration": 88,
    "start_time": "2022-11-02T18:36:36.712Z"
   },
   {
    "duration": 30,
    "start_time": "2022-11-02T18:36:36.802Z"
   },
   {
    "duration": 39,
    "start_time": "2022-11-02T18:36:36.834Z"
   },
   {
    "duration": 2,
    "start_time": "2022-11-02T18:36:36.875Z"
   },
   {
    "duration": 43,
    "start_time": "2022-11-02T18:36:36.880Z"
   },
   {
    "duration": 53,
    "start_time": "2022-11-02T18:36:36.924Z"
   },
   {
    "duration": 73,
    "start_time": "2022-11-02T18:36:36.980Z"
   },
   {
    "duration": 29,
    "start_time": "2022-11-02T18:36:37.055Z"
   },
   {
    "duration": 13,
    "start_time": "2022-11-02T18:36:37.086Z"
   },
   {
    "duration": 72,
    "start_time": "2022-11-02T18:36:37.101Z"
   },
   {
    "duration": 43,
    "start_time": "2022-11-02T18:36:37.175Z"
   },
   {
    "duration": 14,
    "start_time": "2022-11-02T18:36:37.220Z"
   },
   {
    "duration": 18135,
    "start_time": "2022-11-02T18:36:37.236Z"
   },
   {
    "duration": 7,
    "start_time": "2022-11-02T18:36:55.373Z"
   },
   {
    "duration": 2,
    "start_time": "2022-11-02T18:36:55.382Z"
   },
   {
    "duration": 6,
    "start_time": "2022-11-02T18:36:55.386Z"
   },
   {
    "duration": 117,
    "start_time": "2022-11-02T18:36:55.394Z"
   },
   {
    "duration": 433,
    "start_time": "2022-11-02T18:36:55.513Z"
   },
   {
    "duration": 370,
    "start_time": "2022-11-02T18:36:55.948Z"
   },
   {
    "duration": 388,
    "start_time": "2022-11-02T18:36:56.320Z"
   },
   {
    "duration": 402,
    "start_time": "2022-11-02T18:36:56.710Z"
   },
   {
    "duration": 544,
    "start_time": "2022-11-02T18:36:57.114Z"
   },
   {
    "duration": 28,
    "start_time": "2022-11-02T18:36:57.660Z"
   },
   {
    "duration": 58,
    "start_time": "2022-11-02T18:36:57.690Z"
   },
   {
    "duration": 53,
    "start_time": "2022-11-02T18:36:57.750Z"
   },
   {
    "duration": 171,
    "start_time": "2022-11-02T18:36:57.806Z"
   },
   {
    "duration": 39,
    "start_time": "2022-11-02T18:36:57.979Z"
   },
   {
    "duration": 81,
    "start_time": "2022-11-02T18:41:22.453Z"
   },
   {
    "duration": 1294,
    "start_time": "2022-11-02T18:41:28.829Z"
   },
   {
    "duration": 461,
    "start_time": "2022-11-02T18:41:30.126Z"
   },
   {
    "duration": 19,
    "start_time": "2022-11-02T18:41:30.589Z"
   },
   {
    "duration": 80,
    "start_time": "2022-11-02T18:41:30.610Z"
   },
   {
    "duration": 90,
    "start_time": "2022-11-02T18:41:30.692Z"
   },
   {
    "duration": 5,
    "start_time": "2022-11-02T18:41:30.784Z"
   },
   {
    "duration": 27,
    "start_time": "2022-11-02T18:41:30.791Z"
   },
   {
    "duration": 12,
    "start_time": "2022-11-02T18:41:30.820Z"
   },
   {
    "duration": 27,
    "start_time": "2022-11-02T18:41:30.834Z"
   },
   {
    "duration": 82,
    "start_time": "2022-11-02T18:41:30.863Z"
   },
   {
    "duration": 16,
    "start_time": "2022-11-02T18:41:30.946Z"
   },
   {
    "duration": 34,
    "start_time": "2022-11-02T18:41:30.964Z"
   },
   {
    "duration": 2,
    "start_time": "2022-11-02T18:41:31.000Z"
   },
   {
    "duration": 40,
    "start_time": "2022-11-02T18:41:31.006Z"
   },
   {
    "duration": 45,
    "start_time": "2022-11-02T18:41:31.048Z"
   },
   {
    "duration": 3,
    "start_time": "2022-11-02T18:41:31.095Z"
   },
   {
    "duration": 117,
    "start_time": "2022-11-02T18:41:31.100Z"
   },
   {
    "duration": 31,
    "start_time": "2022-11-02T18:41:31.219Z"
   },
   {
    "duration": 5,
    "start_time": "2022-11-02T18:41:31.252Z"
   },
   {
    "duration": 52,
    "start_time": "2022-11-02T18:41:31.259Z"
   },
   {
    "duration": 51,
    "start_time": "2022-11-02T18:41:31.313Z"
   },
   {
    "duration": 7,
    "start_time": "2022-11-02T18:41:31.366Z"
   },
   {
    "duration": 17397,
    "start_time": "2022-11-02T18:41:31.375Z"
   },
   {
    "duration": 7,
    "start_time": "2022-11-02T18:41:48.773Z"
   },
   {
    "duration": 8,
    "start_time": "2022-11-02T18:41:48.782Z"
   },
   {
    "duration": 6,
    "start_time": "2022-11-02T18:41:48.792Z"
   },
   {
    "duration": 110,
    "start_time": "2022-11-02T18:41:48.800Z"
   },
   {
    "duration": 391,
    "start_time": "2022-11-02T18:41:48.911Z"
   },
   {
    "duration": 384,
    "start_time": "2022-11-02T18:41:49.304Z"
   },
   {
    "duration": 390,
    "start_time": "2022-11-02T18:41:49.691Z"
   },
   {
    "duration": 394,
    "start_time": "2022-11-02T18:41:50.083Z"
   },
   {
    "duration": 539,
    "start_time": "2022-11-02T18:41:50.479Z"
   },
   {
    "duration": 35,
    "start_time": "2022-11-02T18:41:51.020Z"
   },
   {
    "duration": 33,
    "start_time": "2022-11-02T18:41:51.057Z"
   },
   {
    "duration": 75,
    "start_time": "2022-11-02T18:41:51.092Z"
   },
   {
    "duration": 164,
    "start_time": "2022-11-02T18:41:51.168Z"
   },
   {
    "duration": 30,
    "start_time": "2022-11-02T18:41:51.334Z"
   },
   {
    "duration": 1225,
    "start_time": "2022-11-02T18:46:49.728Z"
   },
   {
    "duration": 470,
    "start_time": "2022-11-02T18:46:50.956Z"
   },
   {
    "duration": 18,
    "start_time": "2022-11-02T18:46:51.428Z"
   },
   {
    "duration": 68,
    "start_time": "2022-11-02T18:46:51.448Z"
   },
   {
    "duration": 82,
    "start_time": "2022-11-02T18:46:51.532Z"
   },
   {
    "duration": 15,
    "start_time": "2022-11-02T18:46:51.616Z"
   },
   {
    "duration": 17,
    "start_time": "2022-11-02T18:46:51.633Z"
   },
   {
    "duration": 2,
    "start_time": "2022-11-02T18:46:51.652Z"
   },
   {
    "duration": 29,
    "start_time": "2022-11-02T18:46:51.656Z"
   },
   {
    "duration": 87,
    "start_time": "2022-11-02T18:46:51.686Z"
   },
   {
    "duration": 17,
    "start_time": "2022-11-02T18:46:51.775Z"
   },
   {
    "duration": 42,
    "start_time": "2022-11-02T18:46:51.793Z"
   },
   {
    "duration": 3,
    "start_time": "2022-11-02T18:46:51.836Z"
   },
   {
    "duration": 22,
    "start_time": "2022-11-02T18:46:51.842Z"
   },
   {
    "duration": 33,
    "start_time": "2022-11-02T18:46:51.866Z"
   },
   {
    "duration": 3,
    "start_time": "2022-11-02T18:46:51.901Z"
   },
   {
    "duration": 150,
    "start_time": "2022-11-02T18:46:51.906Z"
   },
   {
    "duration": 0,
    "start_time": "2022-11-02T18:46:52.058Z"
   },
   {
    "duration": 0,
    "start_time": "2022-11-02T18:46:52.059Z"
   },
   {
    "duration": 0,
    "start_time": "2022-11-02T18:46:52.060Z"
   },
   {
    "duration": 0,
    "start_time": "2022-11-02T18:46:52.061Z"
   },
   {
    "duration": 0,
    "start_time": "2022-11-02T18:46:52.063Z"
   },
   {
    "duration": 0,
    "start_time": "2022-11-02T18:46:52.064Z"
   },
   {
    "duration": 0,
    "start_time": "2022-11-02T18:46:52.065Z"
   },
   {
    "duration": 0,
    "start_time": "2022-11-02T18:46:52.066Z"
   },
   {
    "duration": 0,
    "start_time": "2022-11-02T18:46:52.067Z"
   },
   {
    "duration": 0,
    "start_time": "2022-11-02T18:46:52.068Z"
   },
   {
    "duration": 0,
    "start_time": "2022-11-02T18:46:52.069Z"
   },
   {
    "duration": 0,
    "start_time": "2022-11-02T18:46:52.070Z"
   },
   {
    "duration": 0,
    "start_time": "2022-11-02T18:46:52.071Z"
   },
   {
    "duration": 0,
    "start_time": "2022-11-02T18:46:52.072Z"
   },
   {
    "duration": 0,
    "start_time": "2022-11-02T18:46:52.073Z"
   },
   {
    "duration": 0,
    "start_time": "2022-11-02T18:46:52.076Z"
   },
   {
    "duration": 0,
    "start_time": "2022-11-02T18:46:52.077Z"
   },
   {
    "duration": 0,
    "start_time": "2022-11-02T18:46:52.078Z"
   },
   {
    "duration": 0,
    "start_time": "2022-11-02T18:46:52.080Z"
   },
   {
    "duration": 0,
    "start_time": "2022-11-02T18:46:52.081Z"
   },
   {
    "duration": 18,
    "start_time": "2022-11-02T18:49:31.984Z"
   },
   {
    "duration": 35,
    "start_time": "2022-11-02T18:50:40.587Z"
   },
   {
    "duration": 31,
    "start_time": "2022-11-02T18:51:58.921Z"
   },
   {
    "duration": 1354,
    "start_time": "2022-11-02T18:52:16.001Z"
   },
   {
    "duration": 486,
    "start_time": "2022-11-02T18:52:17.357Z"
   },
   {
    "duration": 25,
    "start_time": "2022-11-02T18:52:17.845Z"
   },
   {
    "duration": 87,
    "start_time": "2022-11-02T18:52:17.873Z"
   },
   {
    "duration": 113,
    "start_time": "2022-11-02T18:52:17.963Z"
   },
   {
    "duration": 6,
    "start_time": "2022-11-02T18:52:18.079Z"
   },
   {
    "duration": 36,
    "start_time": "2022-11-02T18:52:18.087Z"
   },
   {
    "duration": 6,
    "start_time": "2022-11-02T18:52:18.125Z"
   },
   {
    "duration": 39,
    "start_time": "2022-11-02T18:52:18.133Z"
   },
   {
    "duration": 84,
    "start_time": "2022-11-02T18:52:18.175Z"
   },
   {
    "duration": 18,
    "start_time": "2022-11-02T18:52:18.260Z"
   },
   {
    "duration": 34,
    "start_time": "2022-11-02T18:52:18.280Z"
   },
   {
    "duration": 26,
    "start_time": "2022-11-02T18:52:18.316Z"
   },
   {
    "duration": 40,
    "start_time": "2022-11-02T18:52:18.343Z"
   },
   {
    "duration": 59,
    "start_time": "2022-11-02T18:52:18.385Z"
   },
   {
    "duration": 13,
    "start_time": "2022-11-02T18:52:18.446Z"
   },
   {
    "duration": 58,
    "start_time": "2022-11-02T18:52:18.461Z"
   },
   {
    "duration": 14,
    "start_time": "2022-11-02T18:52:18.520Z"
   },
   {
    "duration": 24,
    "start_time": "2022-11-02T18:52:18.535Z"
   },
   {
    "duration": 28,
    "start_time": "2022-11-02T18:52:18.561Z"
   },
   {
    "duration": 29,
    "start_time": "2022-11-02T18:52:18.591Z"
   },
   {
    "duration": 8,
    "start_time": "2022-11-02T18:52:18.622Z"
   },
   {
    "duration": 288,
    "start_time": "2022-11-02T18:52:18.631Z"
   },
   {
    "duration": 11,
    "start_time": "2022-11-02T18:52:18.921Z"
   },
   {
    "duration": 6,
    "start_time": "2022-11-02T18:52:18.934Z"
   },
   {
    "duration": 10,
    "start_time": "2022-11-02T18:52:18.942Z"
   },
   {
    "duration": 39,
    "start_time": "2022-11-02T18:52:18.953Z"
   },
   {
    "duration": 301,
    "start_time": "2022-11-02T18:52:18.996Z"
   },
   {
    "duration": 239,
    "start_time": "2022-11-02T18:52:19.299Z"
   },
   {
    "duration": 266,
    "start_time": "2022-11-02T18:52:19.540Z"
   },
   {
    "duration": 292,
    "start_time": "2022-11-02T18:52:19.808Z"
   },
   {
    "duration": 308,
    "start_time": "2022-11-02T18:52:20.102Z"
   },
   {
    "duration": 22,
    "start_time": "2022-11-02T18:52:20.411Z"
   },
   {
    "duration": 13,
    "start_time": "2022-11-02T18:52:20.435Z"
   },
   {
    "duration": 23,
    "start_time": "2022-11-02T18:52:20.450Z"
   },
   {
    "duration": 172,
    "start_time": "2022-11-02T18:52:20.475Z"
   },
   {
    "duration": 0,
    "start_time": "2022-11-02T18:52:20.649Z"
   },
   {
    "duration": 1258,
    "start_time": "2022-11-02T18:53:06.827Z"
   },
   {
    "duration": 443,
    "start_time": "2022-11-02T18:53:08.088Z"
   },
   {
    "duration": 16,
    "start_time": "2022-11-02T18:53:08.533Z"
   },
   {
    "duration": 84,
    "start_time": "2022-11-02T18:53:08.551Z"
   },
   {
    "duration": 83,
    "start_time": "2022-11-02T18:53:08.638Z"
   },
   {
    "duration": 5,
    "start_time": "2022-11-02T18:53:08.732Z"
   },
   {
    "duration": 19,
    "start_time": "2022-11-02T18:53:08.739Z"
   },
   {
    "duration": 3,
    "start_time": "2022-11-02T18:53:08.760Z"
   },
   {
    "duration": 31,
    "start_time": "2022-11-02T18:53:08.765Z"
   },
   {
    "duration": 88,
    "start_time": "2022-11-02T18:53:08.798Z"
   },
   {
    "duration": 16,
    "start_time": "2022-11-02T18:53:08.887Z"
   },
   {
    "duration": 41,
    "start_time": "2022-11-02T18:53:08.904Z"
   },
   {
    "duration": 2,
    "start_time": "2022-11-02T18:53:08.947Z"
   },
   {
    "duration": 20,
    "start_time": "2022-11-02T18:53:08.953Z"
   },
   {
    "duration": 69,
    "start_time": "2022-11-02T18:53:08.975Z"
   },
   {
    "duration": 3,
    "start_time": "2022-11-02T18:53:09.047Z"
   },
   {
    "duration": 45,
    "start_time": "2022-11-02T18:53:09.051Z"
   },
   {
    "duration": 13,
    "start_time": "2022-11-02T18:53:09.098Z"
   },
   {
    "duration": 21,
    "start_time": "2022-11-02T18:53:09.113Z"
   },
   {
    "duration": 13,
    "start_time": "2022-11-02T18:53:09.136Z"
   },
   {
    "duration": 21,
    "start_time": "2022-11-02T18:53:09.151Z"
   },
   {
    "duration": 5,
    "start_time": "2022-11-02T18:53:09.174Z"
   },
   {
    "duration": 343,
    "start_time": "2022-11-02T18:53:09.180Z"
   },
   {
    "duration": 18,
    "start_time": "2022-11-02T18:53:09.525Z"
   },
   {
    "duration": 3,
    "start_time": "2022-11-02T18:53:09.546Z"
   },
   {
    "duration": 5,
    "start_time": "2022-11-02T18:53:09.551Z"
   },
   {
    "duration": 31,
    "start_time": "2022-11-02T18:53:09.558Z"
   },
   {
    "duration": 375,
    "start_time": "2022-11-02T18:53:09.591Z"
   },
   {
    "duration": 251,
    "start_time": "2022-11-02T18:53:09.968Z"
   },
   {
    "duration": 272,
    "start_time": "2022-11-02T18:53:10.221Z"
   },
   {
    "duration": 330,
    "start_time": "2022-11-02T18:53:10.496Z"
   },
   {
    "duration": 300,
    "start_time": "2022-11-02T18:53:10.838Z"
   },
   {
    "duration": 14,
    "start_time": "2022-11-02T18:53:11.141Z"
   },
   {
    "duration": 13,
    "start_time": "2022-11-02T18:53:11.157Z"
   },
   {
    "duration": 24,
    "start_time": "2022-11-02T18:53:11.173Z"
   },
   {
    "duration": 184,
    "start_time": "2022-11-02T18:53:11.200Z"
   },
   {
    "duration": 0,
    "start_time": "2022-11-02T18:53:11.387Z"
   },
   {
    "duration": 1298,
    "start_time": "2022-11-02T18:53:57.540Z"
   },
   {
    "duration": 468,
    "start_time": "2022-11-02T18:53:58.840Z"
   },
   {
    "duration": 19,
    "start_time": "2022-11-02T18:53:59.312Z"
   },
   {
    "duration": 69,
    "start_time": "2022-11-02T18:53:59.333Z"
   },
   {
    "duration": 106,
    "start_time": "2022-11-02T18:53:59.404Z"
   },
   {
    "duration": 4,
    "start_time": "2022-11-02T18:53:59.512Z"
   },
   {
    "duration": 16,
    "start_time": "2022-11-02T18:53:59.532Z"
   },
   {
    "duration": 2,
    "start_time": "2022-11-02T18:53:59.550Z"
   },
   {
    "duration": 30,
    "start_time": "2022-11-02T18:53:59.555Z"
   },
   {
    "duration": 114,
    "start_time": "2022-11-02T18:53:59.587Z"
   },
   {
    "duration": 29,
    "start_time": "2022-11-02T18:53:59.703Z"
   },
   {
    "duration": 29,
    "start_time": "2022-11-02T18:53:59.734Z"
   },
   {
    "duration": 3,
    "start_time": "2022-11-02T18:53:59.765Z"
   },
   {
    "duration": 27,
    "start_time": "2022-11-02T18:53:59.770Z"
   },
   {
    "duration": 60,
    "start_time": "2022-11-02T18:53:59.799Z"
   },
   {
    "duration": 3,
    "start_time": "2022-11-02T18:53:59.860Z"
   },
   {
    "duration": 43,
    "start_time": "2022-11-02T18:53:59.864Z"
   },
   {
    "duration": 36,
    "start_time": "2022-11-02T18:53:59.909Z"
   },
   {
    "duration": 6,
    "start_time": "2022-11-02T18:53:59.947Z"
   },
   {
    "duration": 13,
    "start_time": "2022-11-02T18:53:59.955Z"
   },
   {
    "duration": 27,
    "start_time": "2022-11-02T18:53:59.971Z"
   },
   {
    "duration": 35,
    "start_time": "2022-11-02T18:54:00.000Z"
   },
   {
    "duration": 313,
    "start_time": "2022-11-02T18:54:00.038Z"
   },
   {
    "duration": 10,
    "start_time": "2022-11-02T18:54:00.352Z"
   },
   {
    "duration": 14,
    "start_time": "2022-11-02T18:54:00.364Z"
   },
   {
    "duration": 27,
    "start_time": "2022-11-02T18:54:00.380Z"
   },
   {
    "duration": 53,
    "start_time": "2022-11-02T18:54:00.413Z"
   },
   {
    "duration": 311,
    "start_time": "2022-11-02T18:54:00.468Z"
   },
   {
    "duration": 271,
    "start_time": "2022-11-02T18:54:00.781Z"
   },
   {
    "duration": 294,
    "start_time": "2022-11-02T18:54:01.054Z"
   },
   {
    "duration": 355,
    "start_time": "2022-11-02T18:54:01.350Z"
   },
   {
    "duration": 308,
    "start_time": "2022-11-02T18:54:01.707Z"
   },
   {
    "duration": 23,
    "start_time": "2022-11-02T18:54:02.017Z"
   },
   {
    "duration": 37,
    "start_time": "2022-11-02T18:54:02.042Z"
   },
   {
    "duration": 54,
    "start_time": "2022-11-02T18:54:02.082Z"
   },
   {
    "duration": 141,
    "start_time": "2022-11-02T18:54:02.139Z"
   },
   {
    "duration": 0,
    "start_time": "2022-11-02T18:54:02.283Z"
   },
   {
    "duration": 1256,
    "start_time": "2022-11-02T18:55:34.669Z"
   },
   {
    "duration": 453,
    "start_time": "2022-11-02T18:55:35.927Z"
   },
   {
    "duration": 17,
    "start_time": "2022-11-02T18:55:36.382Z"
   },
   {
    "duration": 83,
    "start_time": "2022-11-02T18:55:36.402Z"
   },
   {
    "duration": 92,
    "start_time": "2022-11-02T18:55:36.487Z"
   },
   {
    "duration": 5,
    "start_time": "2022-11-02T18:55:36.582Z"
   },
   {
    "duration": 21,
    "start_time": "2022-11-02T18:55:36.589Z"
   },
   {
    "duration": 20,
    "start_time": "2022-11-02T18:55:36.612Z"
   },
   {
    "duration": 26,
    "start_time": "2022-11-02T18:55:36.634Z"
   },
   {
    "duration": 87,
    "start_time": "2022-11-02T18:55:36.663Z"
   },
   {
    "duration": 15,
    "start_time": "2022-11-02T18:55:36.752Z"
   },
   {
    "duration": 31,
    "start_time": "2022-11-02T18:55:36.769Z"
   },
   {
    "duration": 2,
    "start_time": "2022-11-02T18:55:36.803Z"
   },
   {
    "duration": 43,
    "start_time": "2022-11-02T18:55:36.807Z"
   },
   {
    "duration": 31,
    "start_time": "2022-11-02T18:55:36.852Z"
   },
   {
    "duration": 4,
    "start_time": "2022-11-02T18:55:36.885Z"
   },
   {
    "duration": 55,
    "start_time": "2022-11-02T18:55:36.891Z"
   },
   {
    "duration": 12,
    "start_time": "2022-11-02T18:55:36.948Z"
   },
   {
    "duration": 6,
    "start_time": "2022-11-02T18:55:36.962Z"
   },
   {
    "duration": 15,
    "start_time": "2022-11-02T18:55:36.970Z"
   },
   {
    "duration": 18,
    "start_time": "2022-11-02T18:55:36.987Z"
   },
   {
    "duration": 7,
    "start_time": "2022-11-02T18:55:37.031Z"
   },
   {
    "duration": 310,
    "start_time": "2022-11-02T18:55:37.040Z"
   },
   {
    "duration": 10,
    "start_time": "2022-11-02T18:55:37.352Z"
   },
   {
    "duration": 27,
    "start_time": "2022-11-02T18:55:37.364Z"
   },
   {
    "duration": 34,
    "start_time": "2022-11-02T18:55:37.393Z"
   },
   {
    "duration": 55,
    "start_time": "2022-11-02T18:55:37.429Z"
   },
   {
    "duration": 268,
    "start_time": "2022-11-02T18:55:37.487Z"
   },
   {
    "duration": 232,
    "start_time": "2022-11-02T18:55:37.757Z"
   },
   {
    "duration": 310,
    "start_time": "2022-11-02T18:55:37.991Z"
   },
   {
    "duration": 283,
    "start_time": "2022-11-02T18:55:38.302Z"
   },
   {
    "duration": 317,
    "start_time": "2022-11-02T18:55:38.587Z"
   },
   {
    "duration": 11,
    "start_time": "2022-11-02T18:55:38.906Z"
   },
   {
    "duration": 12,
    "start_time": "2022-11-02T18:55:38.932Z"
   },
   {
    "duration": 3,
    "start_time": "2022-11-02T18:55:38.946Z"
   },
   {
    "duration": 12,
    "start_time": "2022-11-02T18:55:38.951Z"
   },
   {
    "duration": 11,
    "start_time": "2022-11-02T18:55:38.965Z"
   },
   {
    "duration": 1285,
    "start_time": "2022-11-02T18:56:17.769Z"
   },
   {
    "duration": 470,
    "start_time": "2022-11-02T18:56:19.057Z"
   },
   {
    "duration": 18,
    "start_time": "2022-11-02T18:56:19.529Z"
   },
   {
    "duration": 89,
    "start_time": "2022-11-02T18:56:19.548Z"
   },
   {
    "duration": 93,
    "start_time": "2022-11-02T18:56:19.640Z"
   },
   {
    "duration": 6,
    "start_time": "2022-11-02T18:56:19.736Z"
   },
   {
    "duration": 59,
    "start_time": "2022-11-02T18:56:19.745Z"
   },
   {
    "duration": 4,
    "start_time": "2022-11-02T18:56:19.806Z"
   },
   {
    "duration": 50,
    "start_time": "2022-11-02T18:56:19.812Z"
   },
   {
    "duration": 86,
    "start_time": "2022-11-02T18:56:19.864Z"
   },
   {
    "duration": 16,
    "start_time": "2022-11-02T18:56:19.951Z"
   },
   {
    "duration": 36,
    "start_time": "2022-11-02T18:56:19.970Z"
   },
   {
    "duration": 24,
    "start_time": "2022-11-02T18:56:20.007Z"
   },
   {
    "duration": 20,
    "start_time": "2022-11-02T18:56:20.035Z"
   },
   {
    "duration": 55,
    "start_time": "2022-11-02T18:56:20.057Z"
   },
   {
    "duration": 13,
    "start_time": "2022-11-02T18:56:20.115Z"
   },
   {
    "duration": 62,
    "start_time": "2022-11-02T18:56:20.130Z"
   },
   {
    "duration": 13,
    "start_time": "2022-11-02T18:56:20.193Z"
   },
   {
    "duration": 16,
    "start_time": "2022-11-02T18:56:20.208Z"
   },
   {
    "duration": 18,
    "start_time": "2022-11-02T18:56:20.225Z"
   },
   {
    "duration": 19,
    "start_time": "2022-11-02T18:56:20.244Z"
   },
   {
    "duration": 5,
    "start_time": "2022-11-02T18:56:20.265Z"
   },
   {
    "duration": 332,
    "start_time": "2022-11-02T18:56:20.272Z"
   },
   {
    "duration": 11,
    "start_time": "2022-11-02T18:56:20.606Z"
   },
   {
    "duration": 12,
    "start_time": "2022-11-02T18:56:20.619Z"
   },
   {
    "duration": 6,
    "start_time": "2022-11-02T18:56:20.633Z"
   },
   {
    "duration": 35,
    "start_time": "2022-11-02T18:56:20.641Z"
   },
   {
    "duration": 310,
    "start_time": "2022-11-02T18:56:20.678Z"
   },
   {
    "duration": 244,
    "start_time": "2022-11-02T18:56:20.990Z"
   },
   {
    "duration": 264,
    "start_time": "2022-11-02T18:56:21.236Z"
   },
   {
    "duration": 321,
    "start_time": "2022-11-02T18:56:21.501Z"
   },
   {
    "duration": 321,
    "start_time": "2022-11-02T18:56:21.823Z"
   },
   {
    "duration": 12,
    "start_time": "2022-11-02T18:56:22.146Z"
   },
   {
    "duration": 15,
    "start_time": "2022-11-02T18:56:22.160Z"
   },
   {
    "duration": 21,
    "start_time": "2022-11-02T18:56:22.177Z"
   },
   {
    "duration": 25,
    "start_time": "2022-11-02T18:56:22.200Z"
   },
   {
    "duration": 42,
    "start_time": "2022-11-02T18:56:22.228Z"
   },
   {
    "duration": 10,
    "start_time": "2022-11-02T19:07:07.526Z"
   },
   {
    "duration": 7,
    "start_time": "2022-11-02T19:15:04.281Z"
   },
   {
    "duration": 11,
    "start_time": "2022-11-02T19:15:16.963Z"
   },
   {
    "duration": 12,
    "start_time": "2022-11-02T19:16:41.434Z"
   },
   {
    "duration": 15,
    "start_time": "2022-11-02T19:17:07.956Z"
   },
   {
    "duration": 10,
    "start_time": "2022-11-02T19:17:14.115Z"
   },
   {
    "duration": 1263,
    "start_time": "2022-11-02T19:18:36.438Z"
   },
   {
    "duration": 545,
    "start_time": "2022-11-02T19:18:37.703Z"
   },
   {
    "duration": 17,
    "start_time": "2022-11-02T19:18:38.249Z"
   },
   {
    "duration": 73,
    "start_time": "2022-11-02T19:18:38.268Z"
   },
   {
    "duration": 90,
    "start_time": "2022-11-02T19:18:38.343Z"
   },
   {
    "duration": 4,
    "start_time": "2022-11-02T19:18:38.435Z"
   },
   {
    "duration": 52,
    "start_time": "2022-11-02T19:18:38.441Z"
   },
   {
    "duration": 16,
    "start_time": "2022-11-02T19:18:38.494Z"
   },
   {
    "duration": 40,
    "start_time": "2022-11-02T19:18:38.512Z"
   },
   {
    "duration": 63,
    "start_time": "2022-11-02T19:18:38.555Z"
   },
   {
    "duration": 23,
    "start_time": "2022-11-02T19:18:38.620Z"
   },
   {
    "duration": 27,
    "start_time": "2022-11-02T19:18:38.644Z"
   },
   {
    "duration": 3,
    "start_time": "2022-11-02T19:18:38.672Z"
   },
   {
    "duration": 21,
    "start_time": "2022-11-02T19:18:38.676Z"
   },
   {
    "duration": 63,
    "start_time": "2022-11-02T19:18:38.699Z"
   },
   {
    "duration": 3,
    "start_time": "2022-11-02T19:18:38.764Z"
   },
   {
    "duration": 35,
    "start_time": "2022-11-02T19:18:38.768Z"
   },
   {
    "duration": 32,
    "start_time": "2022-11-02T19:18:38.804Z"
   },
   {
    "duration": 5,
    "start_time": "2022-11-02T19:18:38.838Z"
   },
   {
    "duration": 13,
    "start_time": "2022-11-02T19:18:38.845Z"
   },
   {
    "duration": 25,
    "start_time": "2022-11-02T19:18:38.860Z"
   },
   {
    "duration": 5,
    "start_time": "2022-11-02T19:18:38.887Z"
   },
   {
    "duration": 316,
    "start_time": "2022-11-02T19:18:38.894Z"
   },
   {
    "duration": 10,
    "start_time": "2022-11-02T19:18:39.211Z"
   },
   {
    "duration": 2,
    "start_time": "2022-11-02T19:18:39.232Z"
   },
   {
    "duration": 11,
    "start_time": "2022-11-02T19:18:39.236Z"
   },
   {
    "duration": 35,
    "start_time": "2022-11-02T19:18:39.249Z"
   },
   {
    "duration": 319,
    "start_time": "2022-11-02T19:18:39.287Z"
   },
   {
    "duration": 224,
    "start_time": "2022-11-02T19:18:39.607Z"
   },
   {
    "duration": 298,
    "start_time": "2022-11-02T19:18:39.834Z"
   },
   {
    "duration": 291,
    "start_time": "2022-11-02T19:18:40.133Z"
   },
   {
    "duration": 293,
    "start_time": "2022-11-02T19:18:40.426Z"
   },
   {
    "duration": 16,
    "start_time": "2022-11-02T19:18:40.721Z"
   },
   {
    "duration": 11,
    "start_time": "2022-11-02T19:18:40.739Z"
   },
   {
    "duration": 9,
    "start_time": "2022-11-02T19:18:40.753Z"
   },
   {
    "duration": 13,
    "start_time": "2022-11-02T19:18:40.763Z"
   },
   {
    "duration": 10,
    "start_time": "2022-11-02T19:18:40.778Z"
   },
   {
    "duration": 11,
    "start_time": "2022-11-02T19:19:36.247Z"
   },
   {
    "duration": 1127,
    "start_time": "2022-11-02T19:19:48.773Z"
   },
   {
    "duration": 465,
    "start_time": "2022-11-02T19:19:49.902Z"
   },
   {
    "duration": 21,
    "start_time": "2022-11-02T19:19:50.369Z"
   },
   {
    "duration": 77,
    "start_time": "2022-11-02T19:19:50.392Z"
   },
   {
    "duration": 81,
    "start_time": "2022-11-02T19:19:50.471Z"
   },
   {
    "duration": 5,
    "start_time": "2022-11-02T19:19:50.554Z"
   },
   {
    "duration": 18,
    "start_time": "2022-11-02T19:19:50.561Z"
   },
   {
    "duration": 3,
    "start_time": "2022-11-02T19:19:50.581Z"
   },
   {
    "duration": 47,
    "start_time": "2022-11-02T19:19:50.586Z"
   },
   {
    "duration": 71,
    "start_time": "2022-11-02T19:19:50.636Z"
   },
   {
    "duration": 30,
    "start_time": "2022-11-02T19:19:50.708Z"
   },
   {
    "duration": 27,
    "start_time": "2022-11-02T19:19:50.740Z"
   },
   {
    "duration": 2,
    "start_time": "2022-11-02T19:19:50.769Z"
   },
   {
    "duration": 20,
    "start_time": "2022-11-02T19:19:50.772Z"
   },
   {
    "duration": 55,
    "start_time": "2022-11-02T19:19:50.794Z"
   },
   {
    "duration": 2,
    "start_time": "2022-11-02T19:19:50.851Z"
   },
   {
    "duration": 34,
    "start_time": "2022-11-02T19:19:50.854Z"
   },
   {
    "duration": 12,
    "start_time": "2022-11-02T19:19:50.890Z"
   },
   {
    "duration": 30,
    "start_time": "2022-11-02T19:19:50.904Z"
   },
   {
    "duration": 14,
    "start_time": "2022-11-02T19:19:50.936Z"
   },
   {
    "duration": 18,
    "start_time": "2022-11-02T19:19:50.952Z"
   },
   {
    "duration": 5,
    "start_time": "2022-11-02T19:19:50.971Z"
   },
   {
    "duration": 330,
    "start_time": "2022-11-02T19:19:50.977Z"
   },
   {
    "duration": 14,
    "start_time": "2022-11-02T19:19:51.308Z"
   },
   {
    "duration": 4,
    "start_time": "2022-11-02T19:19:51.331Z"
   },
   {
    "duration": 10,
    "start_time": "2022-11-02T19:19:51.337Z"
   },
   {
    "duration": 31,
    "start_time": "2022-11-02T19:19:51.348Z"
   },
   {
    "duration": 328,
    "start_time": "2022-11-02T19:19:51.382Z"
   },
   {
    "duration": 243,
    "start_time": "2022-11-02T19:19:51.711Z"
   },
   {
    "duration": 256,
    "start_time": "2022-11-02T19:19:51.956Z"
   },
   {
    "duration": 289,
    "start_time": "2022-11-02T19:19:52.214Z"
   },
   {
    "duration": 333,
    "start_time": "2022-11-02T19:19:52.505Z"
   },
   {
    "duration": 11,
    "start_time": "2022-11-02T19:19:52.839Z"
   },
   {
    "duration": 10,
    "start_time": "2022-11-02T19:19:52.851Z"
   },
   {
    "duration": 13,
    "start_time": "2022-11-02T19:19:52.862Z"
   },
   {
    "duration": 23,
    "start_time": "2022-11-02T19:19:52.877Z"
   },
   {
    "duration": 10,
    "start_time": "2022-11-02T19:26:46.877Z"
   },
   {
    "duration": 10,
    "start_time": "2022-11-02T19:27:07.317Z"
   },
   {
    "duration": 11,
    "start_time": "2022-11-02T19:27:15.620Z"
   },
   {
    "duration": 1244,
    "start_time": "2022-11-02T19:28:49.837Z"
   },
   {
    "duration": 444,
    "start_time": "2022-11-02T19:28:51.084Z"
   },
   {
    "duration": 21,
    "start_time": "2022-11-02T19:28:51.533Z"
   },
   {
    "duration": 89,
    "start_time": "2022-11-02T19:28:51.555Z"
   },
   {
    "duration": 101,
    "start_time": "2022-11-02T19:28:51.647Z"
   },
   {
    "duration": 4,
    "start_time": "2022-11-02T19:28:51.750Z"
   },
   {
    "duration": 20,
    "start_time": "2022-11-02T19:28:51.756Z"
   },
   {
    "duration": 3,
    "start_time": "2022-11-02T19:28:51.777Z"
   },
   {
    "duration": 28,
    "start_time": "2022-11-02T19:28:51.782Z"
   },
   {
    "duration": 83,
    "start_time": "2022-11-02T19:28:51.811Z"
   },
   {
    "duration": 15,
    "start_time": "2022-11-02T19:28:51.896Z"
   },
   {
    "duration": 42,
    "start_time": "2022-11-02T19:28:51.913Z"
   },
   {
    "duration": 2,
    "start_time": "2022-11-02T19:28:51.957Z"
   },
   {
    "duration": 24,
    "start_time": "2022-11-02T19:28:51.961Z"
   },
   {
    "duration": 63,
    "start_time": "2022-11-02T19:28:51.987Z"
   },
   {
    "duration": 2,
    "start_time": "2022-11-02T19:28:52.052Z"
   },
   {
    "duration": 39,
    "start_time": "2022-11-02T19:28:52.056Z"
   },
   {
    "duration": 11,
    "start_time": "2022-11-02T19:28:52.097Z"
   },
   {
    "duration": 22,
    "start_time": "2022-11-02T19:28:52.110Z"
   },
   {
    "duration": 13,
    "start_time": "2022-11-02T19:28:52.134Z"
   },
   {
    "duration": 21,
    "start_time": "2022-11-02T19:28:52.148Z"
   },
   {
    "duration": 4,
    "start_time": "2022-11-02T19:28:52.171Z"
   },
   {
    "duration": 324,
    "start_time": "2022-11-02T19:28:52.177Z"
   },
   {
    "duration": 10,
    "start_time": "2022-11-02T19:28:52.503Z"
   },
   {
    "duration": 2,
    "start_time": "2022-11-02T19:28:52.515Z"
   },
   {
    "duration": 4,
    "start_time": "2022-11-02T19:28:52.532Z"
   },
   {
    "duration": 33,
    "start_time": "2022-11-02T19:28:52.539Z"
   },
   {
    "duration": 316,
    "start_time": "2022-11-02T19:28:52.574Z"
   },
   {
    "duration": 239,
    "start_time": "2022-11-02T19:28:52.892Z"
   },
   {
    "duration": 321,
    "start_time": "2022-11-02T19:28:53.133Z"
   },
   {
    "duration": 303,
    "start_time": "2022-11-02T19:28:53.456Z"
   },
   {
    "duration": 307,
    "start_time": "2022-11-02T19:28:53.762Z"
   },
   {
    "duration": 14,
    "start_time": "2022-11-02T19:28:54.071Z"
   },
   {
    "duration": 12,
    "start_time": "2022-11-02T19:28:54.087Z"
   },
   {
    "duration": 34,
    "start_time": "2022-11-02T19:28:54.101Z"
   },
   {
    "duration": 11,
    "start_time": "2022-11-02T19:28:54.137Z"
   },
   {
    "duration": 1415,
    "start_time": "2022-11-03T15:40:13.085Z"
   },
   {
    "duration": 1001,
    "start_time": "2022-11-03T15:40:14.502Z"
   },
   {
    "duration": 16,
    "start_time": "2022-11-03T15:40:15.505Z"
   },
   {
    "duration": 137,
    "start_time": "2022-11-03T15:40:15.523Z"
   },
   {
    "duration": 79,
    "start_time": "2022-11-03T15:40:15.662Z"
   },
   {
    "duration": 4,
    "start_time": "2022-11-03T15:40:15.743Z"
   },
   {
    "duration": 19,
    "start_time": "2022-11-03T15:40:15.749Z"
   },
   {
    "duration": 3,
    "start_time": "2022-11-03T15:40:15.770Z"
   },
   {
    "duration": 28,
    "start_time": "2022-11-03T15:40:15.774Z"
   },
   {
    "duration": 81,
    "start_time": "2022-11-03T15:40:15.805Z"
   },
   {
    "duration": 15,
    "start_time": "2022-11-03T15:40:15.887Z"
   },
   {
    "duration": 37,
    "start_time": "2022-11-03T15:40:15.904Z"
   },
   {
    "duration": 2,
    "start_time": "2022-11-03T15:40:15.943Z"
   },
   {
    "duration": 33,
    "start_time": "2022-11-03T15:40:15.947Z"
   },
   {
    "duration": 31,
    "start_time": "2022-11-03T15:40:15.983Z"
   },
   {
    "duration": 2,
    "start_time": "2022-11-03T15:40:16.017Z"
   },
   {
    "duration": 34,
    "start_time": "2022-11-03T15:40:16.034Z"
   },
   {
    "duration": 10,
    "start_time": "2022-11-03T15:40:16.070Z"
   },
   {
    "duration": 26,
    "start_time": "2022-11-03T15:40:16.082Z"
   },
   {
    "duration": 14,
    "start_time": "2022-11-03T15:40:16.110Z"
   },
   {
    "duration": 28,
    "start_time": "2022-11-03T15:40:16.125Z"
   },
   {
    "duration": 13,
    "start_time": "2022-11-03T15:40:16.154Z"
   },
   {
    "duration": 438,
    "start_time": "2022-11-03T15:40:16.169Z"
   },
   {
    "duration": 9,
    "start_time": "2022-11-03T15:40:16.609Z"
   },
   {
    "duration": 7,
    "start_time": "2022-11-03T15:40:16.620Z"
   },
   {
    "duration": 4,
    "start_time": "2022-11-03T15:40:16.634Z"
   },
   {
    "duration": 29,
    "start_time": "2022-11-03T15:40:16.639Z"
   },
   {
    "duration": 491,
    "start_time": "2022-11-03T15:40:16.671Z"
   },
   {
    "duration": 391,
    "start_time": "2022-11-03T15:40:17.164Z"
   },
   {
    "duration": 460,
    "start_time": "2022-11-03T15:40:17.558Z"
   },
   {
    "duration": 462,
    "start_time": "2022-11-03T15:40:18.020Z"
   },
   {
    "duration": 377,
    "start_time": "2022-11-03T15:40:18.484Z"
   },
   {
    "duration": 10,
    "start_time": "2022-11-03T15:40:18.862Z"
   },
   {
    "duration": 9,
    "start_time": "2022-11-03T15:40:18.874Z"
   },
   {
    "duration": 10,
    "start_time": "2022-11-03T15:40:18.885Z"
   },
   {
    "duration": 39,
    "start_time": "2022-11-03T15:40:18.897Z"
   },
   {
    "duration": 1366,
    "start_time": "2022-11-03T15:47:44.002Z"
   },
   {
    "duration": 426,
    "start_time": "2022-11-03T15:47:45.371Z"
   },
   {
    "duration": 15,
    "start_time": "2022-11-03T15:47:45.798Z"
   },
   {
    "duration": 141,
    "start_time": "2022-11-03T15:47:45.814Z"
   },
   {
    "duration": 58,
    "start_time": "2022-11-03T15:47:45.958Z"
   },
   {
    "duration": 17,
    "start_time": "2022-11-03T15:47:46.018Z"
   },
   {
    "duration": 19,
    "start_time": "2022-11-03T15:47:46.037Z"
   },
   {
    "duration": 3,
    "start_time": "2022-11-03T15:47:46.058Z"
   },
   {
    "duration": 25,
    "start_time": "2022-11-03T15:47:46.063Z"
   },
   {
    "duration": 73,
    "start_time": "2022-11-03T15:47:46.090Z"
   },
   {
    "duration": 17,
    "start_time": "2022-11-03T15:47:46.166Z"
   },
   {
    "duration": 20,
    "start_time": "2022-11-03T15:47:46.185Z"
   },
   {
    "duration": 28,
    "start_time": "2022-11-03T15:47:46.207Z"
   },
   {
    "duration": 28,
    "start_time": "2022-11-03T15:47:46.239Z"
   },
   {
    "duration": 35,
    "start_time": "2022-11-03T15:47:46.269Z"
   },
   {
    "duration": 3,
    "start_time": "2022-11-03T15:47:46.306Z"
   },
   {
    "duration": 53,
    "start_time": "2022-11-03T15:47:46.311Z"
   },
   {
    "duration": 13,
    "start_time": "2022-11-03T15:47:46.366Z"
   },
   {
    "duration": 8,
    "start_time": "2022-11-03T15:47:46.381Z"
   },
   {
    "duration": 23,
    "start_time": "2022-11-03T15:47:46.391Z"
   },
   {
    "duration": 20,
    "start_time": "2022-11-03T15:47:46.434Z"
   },
   {
    "duration": 5,
    "start_time": "2022-11-03T15:47:46.456Z"
   },
   {
    "duration": 290,
    "start_time": "2022-11-03T15:47:46.463Z"
   },
   {
    "duration": 9,
    "start_time": "2022-11-03T15:47:46.754Z"
   },
   {
    "duration": 5,
    "start_time": "2022-11-03T15:47:46.764Z"
   },
   {
    "duration": 7,
    "start_time": "2022-11-03T15:47:46.771Z"
   },
   {
    "duration": 24,
    "start_time": "2022-11-03T15:47:46.780Z"
   },
   {
    "duration": 428,
    "start_time": "2022-11-03T15:47:46.806Z"
   },
   {
    "duration": 342,
    "start_time": "2022-11-03T15:47:47.236Z"
   },
   {
    "duration": 429,
    "start_time": "2022-11-03T15:47:47.580Z"
   },
   {
    "duration": 447,
    "start_time": "2022-11-03T15:47:48.011Z"
   },
   {
    "duration": 356,
    "start_time": "2022-11-03T15:47:48.460Z"
   },
   {
    "duration": 19,
    "start_time": "2022-11-03T15:47:48.818Z"
   },
   {
    "duration": 8,
    "start_time": "2022-11-03T15:47:48.839Z"
   },
   {
    "duration": 9,
    "start_time": "2022-11-03T15:47:48.849Z"
   },
   {
    "duration": 10,
    "start_time": "2022-11-03T15:47:48.859Z"
   },
   {
    "duration": 488,
    "start_time": "2022-11-03T16:04:32.555Z"
   }
  ],
  "kernelspec": {
   "display_name": "Python 3 (ipykernel)",
   "language": "python",
   "name": "python3"
  },
  "language_info": {
   "codemirror_mode": {
    "name": "ipython",
    "version": 3
   },
   "file_extension": ".py",
   "mimetype": "text/x-python",
   "name": "python",
   "nbconvert_exporter": "python",
   "pygments_lexer": "ipython3",
   "version": "3.9.12"
  },
  "toc": {
   "base_numbering": 1,
   "nav_menu": {},
   "number_sections": true,
   "sideBar": true,
   "skip_h1_title": true,
   "title_cell": "Table of Contents",
   "title_sidebar": "Contents",
   "toc_cell": false,
   "toc_position": {
    "height": "calc(100% - 180px)",
    "left": "10px",
    "top": "150px",
    "width": "165px"
   },
   "toc_section_display": true,
   "toc_window_display": true
  }
 },
 "nbformat": 4,
 "nbformat_minor": 2
}
